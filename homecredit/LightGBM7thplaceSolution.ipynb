{
 "cells": [
  {
   "cell_type": "code",
   "execution_count": 5,
   "metadata": {
    "collapsed": true,
    "pycharm": {
     "name": "#%%\n"
    }
   },
   "outputs": [],
   "source": [
    "\n",
    "\n",
    "import os\n",
    "#**\n",
    "import gc\n",
    "import time\n",
    "import numpy as np\n",
    "import pandas as pd\n",
    "#**\n",
    "from contextlib import contextmanager\n",
    "\n",
    "import multiprocessing as mp\n",
    "#**\n",
    "from functools import partial\n",
    "\n",
    "#**\n",
    "from scipy.stats import kurtosis, iqr, skew\n",
    "#**\n",
    "from lightgbm import LGBMClassifier\n",
    "#**\n",
    "from sklearn.linear_model import LinearRegression\n",
    "#**\n",
    "from sklearn.model_selection import KFold, StratifiedKFold\n",
    "#**\n",
    "from sklearn.metrics import roc_auc_score\n",
    "import warnings\n",
    "warnings.simplefilter(action='ignore' ,category=FutureWarning)\n"
   ]
  },
  {
   "cell_type": "code",
   "execution_count": 6,
   "outputs": [],
   "source": [
    "# debug 할 때는 적은 Row를 사용할 수 있도록\n",
    "\n",
    "debug =True\n",
    "num_rows = 30000 if debug else None"
   ],
   "metadata": {
    "collapsed": false,
    "pycharm": {
     "name": "#%%\n"
    }
   }
  },
  {
   "cell_type": "code",
   "execution_count": 9,
   "outputs": [],
   "source": [
    "NUM_THREADS = 4\n",
    "DATA_DIRECTORY = './home-credit-default-risk/'\n",
    "SUBMISSION_SUFIX = \"_model2_04\""
   ],
   "metadata": {
    "collapsed": false,
    "pycharm": {
     "name": "#%%\n"
    }
   }
  },
  {
   "cell_type": "code",
   "execution_count": 12,
   "outputs": [
    {
     "data": {
      "text/plain": "'./home-credit-default-risk/application_train.csv'"
     },
     "execution_count": 12,
     "metadata": {},
     "output_type": "execute_result"
    }
   ],
   "source": [
    "path = DATA_DIRECTORY\n",
    "num_rows=num_rows\n",
    "\n",
    "train= pd.read_csv(os.path.join(path,'application_train.csv'), nrows=num_rows)\n",
    "test = pd.read_csv(os.path.join(path, 'application_test.csv'),nrows=num_rows)\n",
    "os.path.join(path, 'application_train.csv')"
   ],
   "metadata": {
    "collapsed": false,
    "pycharm": {
     "name": "#%%\n"
    }
   }
  },
  {
   "cell_type": "code",
   "execution_count": 15,
   "outputs": [
    {
     "data": {
      "text/plain": "0    27597\n1     2403\nName: TARGET, dtype: int64"
     },
     "execution_count": 15,
     "metadata": {},
     "output_type": "execute_result"
    }
   ],
   "source": [
    "# imbalance 한 지 확인  -> oversampling or undersampling\n",
    "train['TARGET'].value_counts()"
   ],
   "metadata": {
    "collapsed": false,
    "pycharm": {
     "name": "#%%\n"
    }
   }
  },
  {
   "cell_type": "code",
   "execution_count": null,
   "outputs": [],
   "source": [],
   "metadata": {
    "collapsed": false,
    "pycharm": {
     "name": "#%%\n"
    }
   }
  },
  {
   "cell_type": "code",
   "execution_count": 16,
   "outputs": [],
   "source": [
    "# == train.append(test)\n",
    "df =  pd.concat([train,test])"
   ],
   "metadata": {
    "collapsed": false,
    "pycharm": {
     "name": "#%%\n"
    }
   }
  },
  {
   "cell_type": "code",
   "execution_count": 18,
   "outputs": [],
   "source": [
    "del train, test"
   ],
   "metadata": {
    "collapsed": false,
    "pycharm": {
     "name": "#%%\n"
    }
   }
  },
  {
   "cell_type": "code",
   "execution_count": 19,
   "outputs": [
    {
     "data": {
      "text/plain": "9974"
     },
     "execution_count": 19,
     "metadata": {},
     "output_type": "execute_result"
    }
   ],
   "source": [
    "# garbage colletor 메모리 남아있는 것 줍줍\n",
    "gc.collect()"
   ],
   "metadata": {
    "collapsed": false,
    "pycharm": {
     "name": "#%%\n"
    }
   }
  },
  {
   "cell_type": "code",
   "execution_count": 21,
   "outputs": [
    {
     "data": {
      "text/plain": "       SK_ID_CURR  TARGET NAME_CONTRACT_TYPE CODE_GENDER FLAG_OWN_CAR  \\\n0          100002     1.0         Cash loans           M            N   \n1          100003     0.0         Cash loans           F            N   \n2          100004     0.0    Revolving loans           M            Y   \n3          100006     0.0         Cash loans           F            N   \n4          100007     0.0         Cash loans           M            N   \n...           ...     ...                ...         ...          ...   \n29995      318261     NaN         Cash loans           F            N   \n29996      318263     NaN         Cash loans           F            N   \n29997      318264     NaN         Cash loans           F            N   \n29998      318266     NaN         Cash loans           F            N   \n29999      318267     NaN         Cash loans           F            N   \n\n      FLAG_OWN_REALTY  CNT_CHILDREN  AMT_INCOME_TOTAL  AMT_CREDIT  \\\n0                   Y             0          202500.0    406597.5   \n1                   N             0          270000.0   1293502.5   \n2                   Y             0           67500.0    135000.0   \n3                   Y             0          135000.0    312682.5   \n4                   Y             0          121500.0    513000.0   \n...               ...           ...               ...         ...   \n29995               Y             0          126000.0    148500.0   \n29996               Y             0          135000.0    601470.0   \n29997               N             0          130500.0    260640.0   \n29998               N             0          202500.0    522396.0   \n29999               Y             0           90000.0    639387.0   \n\n       AMT_ANNUITY  ...  FLAG_DOCUMENT_18 FLAG_DOCUMENT_19 FLAG_DOCUMENT_20  \\\n0          24700.5  ...                 0                0                0   \n1          35698.5  ...                 0                0                0   \n2           6750.0  ...                 0                0                0   \n3          29686.5  ...                 0                0                0   \n4          21865.5  ...                 0                0                0   \n...            ...  ...               ...              ...              ...   \n29995      15345.0  ...                 0                0                0   \n29996      30838.5  ...                 0                0                0   \n29997      31059.0  ...                 0                0                0   \n29998      38142.0  ...                 0                0                0   \n29999      28291.5  ...                 0                0                0   \n\n      FLAG_DOCUMENT_21 AMT_REQ_CREDIT_BUREAU_HOUR AMT_REQ_CREDIT_BUREAU_DAY  \\\n0                    0                        0.0                       0.0   \n1                    0                        0.0                       0.0   \n2                    0                        0.0                       0.0   \n3                    0                        NaN                       NaN   \n4                    0                        0.0                       0.0   \n...                ...                        ...                       ...   \n29995                0                        0.0                       0.0   \n29996                0                        0.0                       0.0   \n29997                0                        0.0                       0.0   \n29998                0                        0.0                       0.0   \n29999                0                        0.0                       0.0   \n\n       AMT_REQ_CREDIT_BUREAU_WEEK  AMT_REQ_CREDIT_BUREAU_MON  \\\n0                             0.0                        0.0   \n1                             0.0                        0.0   \n2                             0.0                        0.0   \n3                             NaN                        NaN   \n4                             0.0                        0.0   \n...                           ...                        ...   \n29995                         0.0                        0.0   \n29996                         0.0                        0.0   \n29997                         0.0                        0.0   \n29998                         0.0                        0.0   \n29999                         0.0                        0.0   \n\n       AMT_REQ_CREDIT_BUREAU_QRT  AMT_REQ_CREDIT_BUREAU_YEAR  \n0                            0.0                         1.0  \n1                            0.0                         0.0  \n2                            0.0                         0.0  \n3                            NaN                         NaN  \n4                            0.0                         0.0  \n...                          ...                         ...  \n29995                        0.0                         2.0  \n29996                        0.0                         1.0  \n29997                        0.0                         2.0  \n29998                        0.0                         3.0  \n29999                        1.0                         3.0  \n\n[60000 rows x 122 columns]",
      "text/html": "<div>\n<style scoped>\n    .dataframe tbody tr th:only-of-type {\n        vertical-align: middle;\n    }\n\n    .dataframe tbody tr th {\n        vertical-align: top;\n    }\n\n    .dataframe thead th {\n        text-align: right;\n    }\n</style>\n<table border=\"1\" class=\"dataframe\">\n  <thead>\n    <tr style=\"text-align: right;\">\n      <th></th>\n      <th>SK_ID_CURR</th>\n      <th>TARGET</th>\n      <th>NAME_CONTRACT_TYPE</th>\n      <th>CODE_GENDER</th>\n      <th>FLAG_OWN_CAR</th>\n      <th>FLAG_OWN_REALTY</th>\n      <th>CNT_CHILDREN</th>\n      <th>AMT_INCOME_TOTAL</th>\n      <th>AMT_CREDIT</th>\n      <th>AMT_ANNUITY</th>\n      <th>...</th>\n      <th>FLAG_DOCUMENT_18</th>\n      <th>FLAG_DOCUMENT_19</th>\n      <th>FLAG_DOCUMENT_20</th>\n      <th>FLAG_DOCUMENT_21</th>\n      <th>AMT_REQ_CREDIT_BUREAU_HOUR</th>\n      <th>AMT_REQ_CREDIT_BUREAU_DAY</th>\n      <th>AMT_REQ_CREDIT_BUREAU_WEEK</th>\n      <th>AMT_REQ_CREDIT_BUREAU_MON</th>\n      <th>AMT_REQ_CREDIT_BUREAU_QRT</th>\n      <th>AMT_REQ_CREDIT_BUREAU_YEAR</th>\n    </tr>\n  </thead>\n  <tbody>\n    <tr>\n      <th>0</th>\n      <td>100002</td>\n      <td>1.0</td>\n      <td>Cash loans</td>\n      <td>M</td>\n      <td>N</td>\n      <td>Y</td>\n      <td>0</td>\n      <td>202500.0</td>\n      <td>406597.5</td>\n      <td>24700.5</td>\n      <td>...</td>\n      <td>0</td>\n      <td>0</td>\n      <td>0</td>\n      <td>0</td>\n      <td>0.0</td>\n      <td>0.0</td>\n      <td>0.0</td>\n      <td>0.0</td>\n      <td>0.0</td>\n      <td>1.0</td>\n    </tr>\n    <tr>\n      <th>1</th>\n      <td>100003</td>\n      <td>0.0</td>\n      <td>Cash loans</td>\n      <td>F</td>\n      <td>N</td>\n      <td>N</td>\n      <td>0</td>\n      <td>270000.0</td>\n      <td>1293502.5</td>\n      <td>35698.5</td>\n      <td>...</td>\n      <td>0</td>\n      <td>0</td>\n      <td>0</td>\n      <td>0</td>\n      <td>0.0</td>\n      <td>0.0</td>\n      <td>0.0</td>\n      <td>0.0</td>\n      <td>0.0</td>\n      <td>0.0</td>\n    </tr>\n    <tr>\n      <th>2</th>\n      <td>100004</td>\n      <td>0.0</td>\n      <td>Revolving loans</td>\n      <td>M</td>\n      <td>Y</td>\n      <td>Y</td>\n      <td>0</td>\n      <td>67500.0</td>\n      <td>135000.0</td>\n      <td>6750.0</td>\n      <td>...</td>\n      <td>0</td>\n      <td>0</td>\n      <td>0</td>\n      <td>0</td>\n      <td>0.0</td>\n      <td>0.0</td>\n      <td>0.0</td>\n      <td>0.0</td>\n      <td>0.0</td>\n      <td>0.0</td>\n    </tr>\n    <tr>\n      <th>3</th>\n      <td>100006</td>\n      <td>0.0</td>\n      <td>Cash loans</td>\n      <td>F</td>\n      <td>N</td>\n      <td>Y</td>\n      <td>0</td>\n      <td>135000.0</td>\n      <td>312682.5</td>\n      <td>29686.5</td>\n      <td>...</td>\n      <td>0</td>\n      <td>0</td>\n      <td>0</td>\n      <td>0</td>\n      <td>NaN</td>\n      <td>NaN</td>\n      <td>NaN</td>\n      <td>NaN</td>\n      <td>NaN</td>\n      <td>NaN</td>\n    </tr>\n    <tr>\n      <th>4</th>\n      <td>100007</td>\n      <td>0.0</td>\n      <td>Cash loans</td>\n      <td>M</td>\n      <td>N</td>\n      <td>Y</td>\n      <td>0</td>\n      <td>121500.0</td>\n      <td>513000.0</td>\n      <td>21865.5</td>\n      <td>...</td>\n      <td>0</td>\n      <td>0</td>\n      <td>0</td>\n      <td>0</td>\n      <td>0.0</td>\n      <td>0.0</td>\n      <td>0.0</td>\n      <td>0.0</td>\n      <td>0.0</td>\n      <td>0.0</td>\n    </tr>\n    <tr>\n      <th>...</th>\n      <td>...</td>\n      <td>...</td>\n      <td>...</td>\n      <td>...</td>\n      <td>...</td>\n      <td>...</td>\n      <td>...</td>\n      <td>...</td>\n      <td>...</td>\n      <td>...</td>\n      <td>...</td>\n      <td>...</td>\n      <td>...</td>\n      <td>...</td>\n      <td>...</td>\n      <td>...</td>\n      <td>...</td>\n      <td>...</td>\n      <td>...</td>\n      <td>...</td>\n      <td>...</td>\n    </tr>\n    <tr>\n      <th>29995</th>\n      <td>318261</td>\n      <td>NaN</td>\n      <td>Cash loans</td>\n      <td>F</td>\n      <td>N</td>\n      <td>Y</td>\n      <td>0</td>\n      <td>126000.0</td>\n      <td>148500.0</td>\n      <td>15345.0</td>\n      <td>...</td>\n      <td>0</td>\n      <td>0</td>\n      <td>0</td>\n      <td>0</td>\n      <td>0.0</td>\n      <td>0.0</td>\n      <td>0.0</td>\n      <td>0.0</td>\n      <td>0.0</td>\n      <td>2.0</td>\n    </tr>\n    <tr>\n      <th>29996</th>\n      <td>318263</td>\n      <td>NaN</td>\n      <td>Cash loans</td>\n      <td>F</td>\n      <td>N</td>\n      <td>Y</td>\n      <td>0</td>\n      <td>135000.0</td>\n      <td>601470.0</td>\n      <td>30838.5</td>\n      <td>...</td>\n      <td>0</td>\n      <td>0</td>\n      <td>0</td>\n      <td>0</td>\n      <td>0.0</td>\n      <td>0.0</td>\n      <td>0.0</td>\n      <td>0.0</td>\n      <td>0.0</td>\n      <td>1.0</td>\n    </tr>\n    <tr>\n      <th>29997</th>\n      <td>318264</td>\n      <td>NaN</td>\n      <td>Cash loans</td>\n      <td>F</td>\n      <td>N</td>\n      <td>N</td>\n      <td>0</td>\n      <td>130500.0</td>\n      <td>260640.0</td>\n      <td>31059.0</td>\n      <td>...</td>\n      <td>0</td>\n      <td>0</td>\n      <td>0</td>\n      <td>0</td>\n      <td>0.0</td>\n      <td>0.0</td>\n      <td>0.0</td>\n      <td>0.0</td>\n      <td>0.0</td>\n      <td>2.0</td>\n    </tr>\n    <tr>\n      <th>29998</th>\n      <td>318266</td>\n      <td>NaN</td>\n      <td>Cash loans</td>\n      <td>F</td>\n      <td>N</td>\n      <td>N</td>\n      <td>0</td>\n      <td>202500.0</td>\n      <td>522396.0</td>\n      <td>38142.0</td>\n      <td>...</td>\n      <td>0</td>\n      <td>0</td>\n      <td>0</td>\n      <td>0</td>\n      <td>0.0</td>\n      <td>0.0</td>\n      <td>0.0</td>\n      <td>0.0</td>\n      <td>0.0</td>\n      <td>3.0</td>\n    </tr>\n    <tr>\n      <th>29999</th>\n      <td>318267</td>\n      <td>NaN</td>\n      <td>Cash loans</td>\n      <td>F</td>\n      <td>N</td>\n      <td>Y</td>\n      <td>0</td>\n      <td>90000.0</td>\n      <td>639387.0</td>\n      <td>28291.5</td>\n      <td>...</td>\n      <td>0</td>\n      <td>0</td>\n      <td>0</td>\n      <td>0</td>\n      <td>0.0</td>\n      <td>0.0</td>\n      <td>0.0</td>\n      <td>0.0</td>\n      <td>1.0</td>\n      <td>3.0</td>\n    </tr>\n  </tbody>\n</table>\n<p>60000 rows × 122 columns</p>\n</div>"
     },
     "execution_count": 21,
     "metadata": {},
     "output_type": "execute_result"
    }
   ],
   "source": [
    "# preprocessing\n",
    "# missing value check debug false 일 때\n",
    "#df['CODE_GENDER'].value_counts() 4개 밖에 없으므로 outlier 취급하여 제거\n",
    "df[df['CODE_GENDER'] != 'XNA']"
   ],
   "metadata": {
    "collapsed": false,
    "pycharm": {
     "name": "#%%\n"
    }
   }
  },
  {
   "cell_type": "code",
   "execution_count": null,
   "outputs": [],
   "source": [
    "#\n",
    "#MAX INCOME in test is 4M; train has a 117M value 200만이상은 그냥 자른다\n",
    "df = df[df['AMT_INCOME_TOTAL'] < 2000000]"
   ],
   "metadata": {
    "collapsed": false,
    "pycharm": {
     "name": "#%%\n"
    }
   }
  },
  {
   "cell_type": "code",
   "execution_count": 24,
   "outputs": [],
   "source": [
    "# 근무일수 이상치 치환\n",
    "df['DAYS_EMPLOYED'].replace(365243, np.nan, inplace=True)\n",
    "df['DAYS_LAST_PHONE_CHANGE'].replace(0, np.nan , inplace=True)"
   ],
   "metadata": {
    "collapsed": false,
    "pycharm": {
     "name": "#%%\n"
    }
   }
  },
  {
   "cell_type": "code",
   "execution_count": 31,
   "outputs": [],
   "source": [
    "# Flag_documnet features - count and kurtosis\n",
    "docs = [f for f in df.columns if 'FLAG_DOC' in f]"
   ],
   "metadata": {
    "collapsed": false,
    "pycharm": {
     "name": "#%%\n"
    }
   }
  },
  {
   "cell_type": "code",
   "execution_count": 32,
   "outputs": [],
   "source": [
    "#\n",
    "#kurtosis : 통계적 요소\n",
    "df['DOCUMENT_COUNT'] = df[docs].sum(axis=1)\n",
    "df['NEW_DOC_KURT'] = df[docs].kurtosis(axis=1)"
   ],
   "metadata": {
    "collapsed": false,
    "pycharm": {
     "name": "#%%\n"
    }
   }
  },
  {
   "cell_type": "code",
   "execution_count": 33,
   "outputs": [
    {
     "data": {
      "text/plain": "<AxesSubplot:>"
     },
     "execution_count": 33,
     "metadata": {},
     "output_type": "execute_result"
    },
    {
     "data": {
      "text/plain": "<Figure size 432x288 with 1 Axes>",
      "image/png": "[encoded data removed]"
     },
     "metadata": {
      "needs_background": "light"
     },
     "output_type": "display_data"
    }
   ],
   "source": [
    "df[docs].kurtosis(axis=1).hist()"
   ],
   "metadata": {
    "collapsed": false,
    "pycharm": {
     "name": "#%%\n"
    }
   }
  },
  {
   "cell_type": "code",
   "execution_count": 34,
   "outputs": [],
   "source": [
    "df['NEW_DOC_KURT'] = df[docs].kurtosis(axis=1)\n"
   ],
   "metadata": {
    "collapsed": false,
    "pycharm": {
     "name": "#%%\n"
    }
   }
  },
  {
   "cell_type": "code",
   "execution_count": null,
   "outputs": [],
   "source": [
    "def label_encoder(df, categorical_columns=None):\n",
    "    \"\"\"Encode categorical values as integers (0,1,2,3...) with pandas.factorize. \"\"\"\n",
    "    if not categorical_columns:\n",
    "        categorical_columns = [col for col in df.columns if df[col].dtype == 'object']\n",
    "    for col in categorical_columns:\n",
    "        df[col], uniques = pd.factorize(df[col])\n",
    "    return df, categorical_columns"
   ],
   "metadata": {
    "collapsed": false,
    "pycharm": {
     "name": "#%%\n"
    }
   }
  },
  {
   "cell_type": "code",
   "execution_count": 220,
   "outputs": [],
   "source": [
    "df = df\n",
    "categorical_columns = None"
   ],
   "metadata": {
    "collapsed": false,
    "pycharm": {
     "name": "#%%\n"
    }
   }
  },
  {
   "cell_type": "code",
   "execution_count": 284,
   "outputs": [
    {
     "ename": "NameError",
     "evalue": "name 'BUREAU_ACTIVE_AGG' is not defined",
     "output_type": "error",
     "traceback": [
      "\u001B[0;31m---------------------------------------------------------------------------\u001B[0m",
      "\u001B[0;31mNameError\u001B[0m                                 Traceback (most recent call last)",
      "\u001B[0;32m/var/folders/c6/2j22b1rd02778st12c0mcr3w0000gn/T/ipykernel_71814/807374896.py\u001B[0m in \u001B[0;36m<module>\u001B[0;34m\u001B[0m\n\u001B[0;32m----> 1\u001B[0;31m \u001B[0mBUREAU_ACTIVE_AGG\u001B[0m\u001B[0;34m\u001B[0m\u001B[0;34m\u001B[0m\u001B[0m\n\u001B[0m\u001B[1;32m      2\u001B[0m \u001B[0;34m\u001B[0m\u001B[0m\n",
      "\u001B[0;31mNameError\u001B[0m: name 'BUREAU_ACTIVE_AGG' is not defined"
     ]
    }
   ],
   "source": [
    "BUREAU_ACTIVE_AGG"
   ],
   "metadata": {
    "collapsed": false,
    "pycharm": {
     "name": "#%%\n"
    }
   }
  },
  {
   "cell_type": "code",
   "execution_count": null,
   "outputs": [],
   "source": [
    "if not categorical_columns:\n",
    "    categorical_columns = [col for col in df.columns if df[col].dtype =='object']"
   ],
   "metadata": {
    "collapsed": false,
    "pycharm": {
     "name": "#%%\n"
    }
   }
  },
  {
   "cell_type": "code",
   "execution_count": 304,
   "outputs": [],
   "source": [
    "# AGGREGATIONS\n",
    "BUREAU_AGG = {\n",
    "    'SK_ID_BUREAU': ['nunique'],\n",
    "    'DAYS_CREDIT': ['min', 'max', 'mean'],\n",
    "    'DAYS_CREDIT_ENDDATE': ['min', 'max'],\n",
    "    'AMT_CREDIT_MAX_OVERDUE': ['max', 'mean'],\n",
    "    'AMT_CREDIT_SUM': ['max', 'mean', 'sum'],\n",
    "    'AMT_CREDIT_SUM_DEBT': ['max', 'mean', 'sum'],\n",
    "    'AMT_CREDIT_SUM_OVERDUE': ['max', 'mean', 'sum'],\n",
    "    'AMT_ANNUITY': ['mean'],\n",
    "    'DEBT_CREDIT_DIFF': ['mean', 'sum'],\n",
    "    'MONTHS_BALANCE_MEAN': ['mean', 'var'],\n",
    "    'MONTHS_BALANCE_SIZE': ['mean', 'sum'],\n",
    "    # Categorical\n",
    "    'STATUS_0': ['mean'],\n",
    "    'STATUS_1': ['mean'],\n",
    "    'STATUS_12345': ['mean'],\n",
    "    'STATUS_C': ['mean'],\n",
    "    'STATUS_X': ['mean'],\n",
    "    'CREDIT_ACTIVE_Active': ['mean'],\n",
    "    'CREDIT_ACTIVE_Closed': ['mean'],\n",
    "    'CREDIT_ACTIVE_Sold': ['mean'],\n",
    "    'CREDIT_TYPE_Consumer credit': ['mean'],\n",
    "    'CREDIT_TYPE_Credit card': ['mean'],\n",
    "    'CREDIT_TYPE_Car loan': ['mean'],\n",
    "    'CREDIT_TYPE_Mortgage': ['mean'],\n",
    "    'CREDIT_TYPE_Microloan': ['mean'],\n",
    "    # Group by loan duration features (months)\n",
    "    'LL_AMT_CREDIT_SUM_OVERDUE': ['mean'],\n",
    "    'LL_DEBT_CREDIT_DIFF': ['mean'],\n",
    "    'LL_STATUS_12345': ['mean'],\n",
    "}\n",
    "\n"
   ],
   "metadata": {
    "collapsed": false,
    "pycharm": {
     "name": "#%%\n"
    }
   }
  },
  {
   "cell_type": "code",
   "execution_count": 313,
   "outputs": [],
   "source": [
    "bureau2 = pd.read_csv(os.path.join(path, 'bureau.csv'), nrows= num_rows)\n"
   ],
   "metadata": {
    "collapsed": false,
    "pycharm": {
     "name": "#%%\n"
    }
   }
  },
  {
   "cell_type": "code",
   "execution_count": 315,
   "outputs": [
    {
     "data": {
      "text/plain": "0             0.0\n1        171342.0\n2             NaN\n3             NaN\n4             NaN\n           ...   \n29995         NaN\n29996         NaN\n29997         NaN\n29998     70389.0\n29999         NaN\nName: AMT_CREDIT_SUM_DEBT, Length: 30000, dtype: float64"
     },
     "execution_count": 315,
     "metadata": {},
     "output_type": "execute_result"
    }
   ],
   "source": [
    "bureau2['AMT_CREDIT_SUM_DEBT']"
   ],
   "metadata": {
    "collapsed": false,
    "pycharm": {
     "name": "#%%\n"
    }
   }
  },
  {
   "cell_type": "code",
   "execution_count": null,
   "outputs": [],
   "source": [
    "def get_bureau(path, num_rows= None):\n",
    "    \"\"\" Process bureau.csv and bureau_balance.csv and return a pandas dataframe. \"\"\"\n",
    "    bureau = pd.read_csv(os.path.join(path, 'bureau.csv'), nrows= num_rows)\n",
    "    # Credit duration and credit/account end date difference\n",
    "    bureau['CREDIT_DURATION'] = -bureau['DAYS_CREDIT'] + bureau['DAYS_CREDIT_ENDDATE']\n",
    "    bureau['ENDDATE_DIF'] = bureau['DAYS_CREDIT_ENDDATE'] - bureau['DAYS_ENDDATE_FACT']\n",
    "    # Credit to debt ratio and difference\n",
    "    bureau['DEBT_PERCENTAGE'] = bureau['AMT_CREDIT_SUM'] / bureau['AMT_CREDIT_SUM_DEBT']\n",
    "    bureau['DEBT_CREDIT_DIFF'] = bureau['AMT_CREDIT_SUM'] - bureau['AMT_CREDIT_SUM_DEBT']\n",
    "    bureau['CREDIT_TO_ANNUITY_RATIO'] = bureau['AMT_CREDIT_SUM'] / bureau['AMT_ANNUITY']\n",
    "\n",
    "    # One-hot encoder\n",
    "    bureau, categorical_cols = one_hot_encoder(bureau, nan_as_category= False)\n",
    "    # Join bureau balance features\n",
    "    bureau = bureau.merge(get_bureau_balance(path, num_rows), how='left', on='SK_ID_BUREAU')\n",
    "    # Flag months with late payments (days past due)\n",
    "    bureau['STATUS_12345'] = 0\n",
    "    for i in range(1,6):\n",
    "        bureau['STATUS_12345'] += bureau['STATUS_{}'.format(i)]\n",
    "\n",
    "    # Aggregate by number of months in balance and merge with bureau (loan length agg)\n",
    "    features = ['AMT_CREDIT_MAX_OVERDUE', 'AMT_CREDIT_SUM_OVERDUE', 'AMT_CREDIT_SUM',\n",
    "        'AMT_CREDIT_SUM_DEBT', 'DEBT_PERCENTAGE', 'DEBT_CREDIT_DIFF', 'STATUS_0', 'STATUS_12345']\n",
    "    agg_length = bureau.groupby('MONTHS_BALANCE_SIZE')[features].mean().reset_index()\n",
    "    agg_length.rename({feat: 'LL_' + feat for feat in features}, axis=1, inplace=True)\n",
    "    bureau = bureau.merge(agg_length, how='left', on='MONTHS_BALANCE_SIZE')\n",
    "    del agg_length; gc.collect()\n",
    "\n",
    "    # General loans aggregations\n",
    "    agg_bureau = group(bureau, 'BUREAU_', BUREAU_AGG)\n",
    "    # Active and closed loans aggregations\n",
    "    active = bureau[bureau['CREDIT_ACTIVE_Active'] == 1]\n",
    "    agg_bureau = group_and_merge(active,agg_bureau,'BUREAU_ACTIVE_',BUREAU_ACTIVE_AGG)\n",
    "    closed = bureau[bureau['CREDIT_ACTIVE_Closed'] == 1]\n",
    "    agg_bureau = group_and_merge(closed,agg_bureau,'BUREAU_CLOSED_',BUREAU_CLOSED_AGG)\n",
    "    del active, closed; gc.collect()\n",
    "    # Aggregations for the main loan types\n",
    "    for credit_type in ['Consumer credit', 'Credit card', 'Mortgage', 'Car loan', 'Microloan']:\n",
    "        type_df = bureau[bureau['CREDIT_TYPE_' + credit_type] == 1]\n",
    "        prefix = 'BUREAU_' + credit_type.split(' ')[0].upper() + '_'\n",
    "        agg_bureau = group_and_merge(type_df, agg_bureau, prefix, BUREAU_LOAN_TYPE_AGG)\n",
    "        del type_df; gc.collect()\n",
    "    # Time based aggregations: last x months\n",
    "    for time_frame in [6, 12]:\n",
    "        prefix = \"BUREAU_LAST{}M_\".format(time_frame)\n",
    "        time_frame_df = bureau[bureau['DAYS_CREDIT'] >= -30*time_frame]\n",
    "        agg_bureau = group_and_merge(time_frame_df, agg_bureau, prefix, BUREAU_TIME_AGG)\n",
    "        del time_frame_df; gc.collect()\n",
    "\n",
    "    # Last loan max overdue\n",
    "    sort_bureau = bureau.sort_values(by=['DAYS_CREDIT'])\n",
    "    gr = sort_bureau.groupby('SK_ID_CURR')['AMT_CREDIT_MAX_OVERDUE'].last().reset_index()\n",
    "    gr.rename({'AMT_CREDIT_MAX_OVERDUE': 'BUREAU_LAST_LOAN_MAX_OVERDUE'}, inplace=True)\n",
    "    agg_bureau = agg_bureau.merge(gr, on='SK_ID_CURR', how='left')\n",
    "    # Ratios: total debt/total credit and active loans debt/ active loans credit\n",
    "    agg_bureau['BUREAU_DEBT_OVER_CREDIT'] = \\\n",
    "        agg_bureau['BUREAU_AMT_CREDIT_SUM_DEBT_SUM']/agg_bureau['BUREAU_AMT_CREDIT_SUM_SUM']\n",
    "    agg_bureau['BUREAU_ACTIVE_DEBT_OVER_CREDIT'] = \\\n",
    "        agg_bureau['BUREAU_ACTIVE_AMT_CREDIT_SUM_DEBT_SUM']/agg_bureau['BUREAU_ACTIVE_AMT_CREDIT_SUM_SUM']\n",
    "    return agg_bureau"
   ],
   "metadata": {
    "collapsed": false,
    "pycharm": {
     "name": "#%%\n"
    }
   }
  },
  {
   "cell_type": "code",
   "execution_count": 317,
   "outputs": [],
   "source": [
    "bureau = pd.read_csv(os.path.join(path, 'bureau.csv'), nrows= num_rows)\n",
    "# Credit duration and credit/account end date difference\n",
    "bureau['CREDIT_DURATION'] = -bureau['DAYS_CREDIT'] + bureau['DAYS_CREDIT_ENDDATE']\n",
    "bureau['ENDDATE_DIF'] = bureau['DAYS_CREDIT_ENDDATE'] - bureau['DAYS_ENDDATE_FACT']\n",
    "# Credit to debt ratio and difference\n",
    "bureau['DEBT_PERCENTAGE'] = bureau['AMT_CREDIT_SUM'] / bureau['AMT_CREDIT_SUM_DEBT']\n",
    "bureau['DEBT_CREDIT_DIFF'] = bureau['AMT_CREDIT_SUM'] - bureau['AMT_CREDIT_SUM_DEBT']\n",
    "bureau['CREDIT_TO_ANNUITY_RATIO'] = bureau['AMT_CREDIT_SUM'] / bureau['AMT_ANNUITY']\n",
    "\n",
    "# One-hot encoder\n",
    "bureau, categorical_cols = one_hot_encoder(bureau, nan_as_category= False)\n",
    "# Join bureau balance features\n",
    "bureau = bureau.merge(get_bureau_balance(path, num_rows), how='left', on='SK_ID_BUREAU')\n",
    "# Flag months with late payments (days past due)\n",
    "bureau['STATUS_12345'] = 0\n",
    "for i in range(1,6):\n",
    "    bureau['STATUS_12345'] += bureau['STATUS_{}'.format(i)]\n",
    "\n",
    "# Aggregate by number of months in balance and merge with bureau (loan length agg)\n",
    "features = ['AMT_CREDIT_MAX_OVERDUE', 'AMT_CREDIT_SUM_OVERDUE', 'AMT_CREDIT_SUM',\n",
    "    'AMT_CREDIT_SUM_DEBT', 'DEBT_PERCENTAGE', 'DEBT_CREDIT_DIFF', 'STATUS_0', 'STATUS_12345']\n",
    "agg_length = bureau.groupby('MONTHS_BALANCE_SIZE')[features].mean().reset_index()\n",
    "agg_length.rename({feat: 'LL_' + feat for feat in features}, axis=1, inplace=True)\n",
    "bureau = bureau.merge(agg_length, how='left', on='MONTHS_BALANCE_SIZE')\n",
    "del agg_length; gc.collect()"
   ],
   "metadata": {
    "collapsed": false,
    "pycharm": {
     "name": "#%%\n"
    }
   }
  },
  {
   "cell_type": "code",
   "execution_count": null,
   "outputs": [],
   "source": [
    "# General loans aggregations\n",
    "agg_bureau = group(bureau, 'BUREAU_', BUREAU_AGG)\n",
    "# Active and closed loans aggregations"
   ],
   "metadata": {
    "collapsed": false,
    "pycharm": {
     "name": "#%%\n"
    }
   }
  },
  {
   "cell_type": "code",
   "execution_count": null,
   "outputs": [],
   "source": [],
   "metadata": {
    "collapsed": false,
    "pycharm": {
     "name": "#%%\n"
    }
   }
  },
  {
   "cell_type": "code",
   "execution_count": null,
   "outputs": [],
   "source": [],
   "metadata": {
    "collapsed": false,
    "pycharm": {
     "name": "#%%\n"
    }
   }
  },
  {
   "cell_type": "code",
   "execution_count": 319,
   "outputs": [],
   "source": [
    "active = bureau[bureau['CREDIT_ACTIVE_Active'] == 1]\n"
   ],
   "metadata": {
    "collapsed": false,
    "pycharm": {
     "name": "#%%\n"
    }
   }
  },
  {
   "cell_type": "code",
   "execution_count": 323,
   "outputs": [],
   "source": [
    "\n",
    "BUREAU_ACTIVE_AGG = {\n",
    "    'DAYS_CREDIT': ['max', 'mean'],\n",
    "    'DAYS_CREDIT_ENDDATE': ['min', 'max'],\n",
    "    'AMT_CREDIT_MAX_OVERDUE': ['max', 'mean'],\n",
    "    'AMT_CREDIT_SUM': ['max', 'sum'],\n",
    "    'AMT_CREDIT_SUM_DEBT': ['mean', 'sum'],\n",
    "    'AMT_CREDIT_SUM_OVERDUE': ['max', 'mean'],\n",
    "    'DAYS_CREDIT_UPDATE': ['min', 'mean'],\n",
    "    'DEBT_PERCENTAGE': ['mean'],\n",
    "    'DEBT_CREDIT_DIFF': ['mean'],\n",
    "    'CREDIT_TO_ANNUITY_RATIO': ['mean'],\n",
    "    'MONTHS_BALANCE_MEAN': ['mean', 'var'],\n",
    "    'MONTHS_BALANCE_SIZE': ['mean', 'sum'],\n",
    "}"
   ],
   "metadata": {
    "collapsed": false,
    "pycharm": {
     "name": "#%%\n"
    }
   }
  },
  {
   "cell_type": "code",
   "execution_count": 324,
   "outputs": [
    {
     "data": {
      "text/plain": "{'DAYS_CREDIT': ['max', 'mean'],\n 'DAYS_CREDIT_ENDDATE': ['min', 'max'],\n 'AMT_CREDIT_MAX_OVERDUE': ['max', 'mean'],\n 'AMT_CREDIT_SUM': ['max', 'sum'],\n 'AMT_CREDIT_SUM_DEBT': ['mean', 'sum'],\n 'AMT_CREDIT_SUM_OVERDUE': ['max', 'mean'],\n 'DAYS_CREDIT_UPDATE': ['min', 'mean'],\n 'DEBT_PERCENTAGE': ['mean'],\n 'DEBT_CREDIT_DIFF': ['mean'],\n 'CREDIT_TO_ANNUITY_RATIO': ['mean'],\n 'MONTHS_BALANCE_MEAN': ['mean', 'var'],\n 'MONTHS_BALANCE_SIZE': ['mean', 'sum']}"
     },
     "execution_count": 324,
     "metadata": {},
     "output_type": "execute_result"
    }
   ],
   "source": [
    "BUREAU_ACTIVE_AGG"
   ],
   "metadata": {
    "collapsed": false,
    "pycharm": {
     "name": "#%%\n"
    }
   }
  },
  {
   "cell_type": "code",
   "execution_count": 325,
   "outputs": [],
   "source": [
    "agg_bureau = group_and_merge(active , agg_bureau, 'BUREAU_ACTIVE_', BUREAU_ACTIVE_AGG)"
   ],
   "metadata": {
    "collapsed": false,
    "pycharm": {
     "name": "#%%\n"
    }
   }
  },
  {
   "cell_type": "code",
   "execution_count": 326,
   "outputs": [
    {
     "data": {
      "text/plain": "      SK_ID_CURR  BUREAU_SK_ID_BUREAU_NUNIQUE  BUREAU_DAYS_CREDIT_MIN  \\\n0         100053                            7                   -2893   \n1         100312                            2                   -2604   \n2         100320                            5                   -2410   \n3         100430                            1                    -115   \n4         100568                            7                   -1274   \n...          ...                          ...                     ...   \n6071      456114                            6                   -2795   \n6072      456116                            2                   -1812   \n6073      456179                            4                    -993   \n6074      456181                            3                    -599   \n6075      456247                            7                   -2028   \n\n      BUREAU_DAYS_CREDIT_MAX  BUREAU_DAYS_CREDIT_MEAN  \\\n0                      -1764             -2287.714286   \n1                       -613             -1608.500000   \n2                       -865             -1589.000000   \n3                       -115              -115.000000   \n4                       -207              -493.857143   \n...                      ...                      ...   \n6071                     -15             -1496.500000   \n6072                    -941             -1376.500000   \n6073                    -684              -854.250000   \n6074                    -101              -420.666667   \n6075                    -287              -874.285714   \n\n      BUREAU_DAYS_CREDIT_ENDDATE_MIN  BUREAU_DAYS_CREDIT_ENDDATE_MAX  \\\n0                            -2534.0                          -648.0   \n1                            -1854.0                           117.0   \n2                            -1400.0                           598.0   \n3                            31084.0                         31084.0   \n4                             -969.0                          1183.0   \n...                              ...                             ...   \n6071                         -1699.0                             1.0   \n6072                         -1264.0                          -759.0   \n6073                          -811.0                           273.0   \n6074                            82.0                          1264.0   \n6075                         -1937.0                         10253.0   \n\n      BUREAU_AMT_CREDIT_MAX_OVERDUE_MAX  BUREAU_AMT_CREDIT_MAX_OVERDUE_MEAN  \\\n0                                   NaN                                 NaN   \n1                                   NaN                                 NaN   \n2                               540.000                             108.000   \n3                                   NaN                                 NaN   \n4                              8178.885                            8178.885   \n...                                 ...                                 ...   \n6071                                NaN                                 NaN   \n6072                              0.000                               0.000   \n6073                              0.000                               0.000   \n6074                              0.000                               0.000   \n6075                          22027.500                            7604.982   \n\n      BUREAU_AMT_CREDIT_SUM_MAX  ...  \\\n0                      225000.0  ...   \n1                     1215000.0  ...   \n2                     1739394.0  ...   \n3                       67500.0  ...   \n4                      333000.0  ...   \n...                         ...  ...   \n6071                   289170.0  ...   \n6072                    73642.5  ...   \n6073                   135000.0  ...   \n6074                   202500.0  ...   \n6075                  3118500.0  ...   \n\n      BUREAU_ACTIVE_AMT_CREDIT_SUM_OVERDUE_MEAN  \\\n0                                           0.0   \n1                                           0.0   \n2                                           0.0   \n3                                           0.0   \n4                                           0.0   \n...                                         ...   \n6071                                        0.0   \n6072                                        0.0   \n6073                                        0.0   \n6074                                        0.0   \n6075                                        0.0   \n\n      BUREAU_ACTIVE_DAYS_CREDIT_UPDATE_MIN  \\\n0                                  -1945.0   \n1                                  -1857.0   \n2                                   -686.0   \n3                                     -6.0   \n4                                   -189.0   \n...                                    ...   \n6071                               -1333.0   \n6072                               -1292.0   \n6073                                 -13.0   \n6074                                 -56.0   \n6075                                 -32.0   \n\n      BUREAU_ACTIVE_DAYS_CREDIT_UPDATE_MEAN  \\\n0                              -1945.000000   \n1                               -929.000000   \n2                               -669.000000   \n3                                 -6.000000   \n4                                -76.333333   \n...                                     ...   \n6071                            -676.500000   \n6072                           -1292.000000   \n6073                             -13.000000   \n6074                             -56.000000   \n6075                             -30.000000   \n\n      BUREAU_ACTIVE_DEBT_PERCENTAGE_MEAN  BUREAU_ACTIVE_DEBT_CREDIT_DIFF_MEAN  \\\n0                                    NaN                                  NaN   \n1                              10.671515                          1101145.500   \n2                              11.249851                           652802.535   \n3                               1.079603                             4977.000   \n4                               2.419985                            45133.500   \n...                                  ...                                  ...   \n6071                            0.966520                            -7794.000   \n6072                           14.380492                            68521.500   \n6073                            1.425555                            40300.065   \n6074                            1.202920                            27877.500   \n6075                                 inf                           912555.000   \n\n      BUREAU_ACTIVE_CREDIT_TO_ANNUITY_RATIO_MEAN  \\\n0                                            NaN   \n1                                      14.925373   \n2                                            NaN   \n3                                            NaN   \n4                                      22.402971   \n...                                          ...   \n6071                                   14.092446   \n6072                                   13.856901   \n6073                                         NaN   \n6074                                         NaN   \n6075                                  207.900208   \n\n      BUREAU_ACTIVE_MONTHS_BALANCE_MEAN_MEAN  \\\n0                                        NaN   \n1                                        NaN   \n2                                        NaN   \n3                                        NaN   \n4                                        NaN   \n...                                      ...   \n6071                                     NaN   \n6072                                     NaN   \n6073                                     NaN   \n6074                                     NaN   \n6075                                     NaN   \n\n      BUREAU_ACTIVE_MONTHS_BALANCE_MEAN_VAR  \\\n0                                       NaN   \n1                                       NaN   \n2                                       NaN   \n3                                       NaN   \n4                                       NaN   \n...                                     ...   \n6071                                    NaN   \n6072                                    NaN   \n6073                                    NaN   \n6074                                    NaN   \n6075                                    NaN   \n\n      BUREAU_ACTIVE_MONTHS_BALANCE_SIZE_MEAN  \\\n0                                        NaN   \n1                                        NaN   \n2                                        NaN   \n3                                        NaN   \n4                                        NaN   \n...                                      ...   \n6071                                     NaN   \n6072                                     NaN   \n6073                                     NaN   \n6074                                     NaN   \n6075                                     NaN   \n\n      BUREAU_ACTIVE_MONTHS_BALANCE_SIZE_SUM  \n0                                       0.0  \n1                                       0.0  \n2                                       0.0  \n3                                       0.0  \n4                                       0.0  \n...                                     ...  \n6071                                    0.0  \n6072                                    0.0  \n6073                                    0.0  \n6074                                    0.0  \n6075                                    0.0  \n\n[6076 rows x 62 columns]",
      "text/html": "<div>\n<style scoped>\n    .dataframe tbody tr th:only-of-type {\n        vertical-align: middle;\n    }\n\n    .dataframe tbody tr th {\n        vertical-align: top;\n    }\n\n    .dataframe thead th {\n        text-align: right;\n    }\n</style>\n<table border=\"1\" class=\"dataframe\">\n  <thead>\n    <tr style=\"text-align: right;\">\n      <th></th>\n      <th>SK_ID_CURR</th>\n      <th>BUREAU_SK_ID_BUREAU_NUNIQUE</th>\n      <th>BUREAU_DAYS_CREDIT_MIN</th>\n      <th>BUREAU_DAYS_CREDIT_MAX</th>\n      <th>BUREAU_DAYS_CREDIT_MEAN</th>\n      <th>BUREAU_DAYS_CREDIT_ENDDATE_MIN</th>\n      <th>BUREAU_DAYS_CREDIT_ENDDATE_MAX</th>\n      <th>BUREAU_AMT_CREDIT_MAX_OVERDUE_MAX</th>\n      <th>BUREAU_AMT_CREDIT_MAX_OVERDUE_MEAN</th>\n      <th>BUREAU_AMT_CREDIT_SUM_MAX</th>\n      <th>...</th>\n      <th>BUREAU_ACTIVE_AMT_CREDIT_SUM_OVERDUE_MEAN</th>\n      <th>BUREAU_ACTIVE_DAYS_CREDIT_UPDATE_MIN</th>\n      <th>BUREAU_ACTIVE_DAYS_CREDIT_UPDATE_MEAN</th>\n      <th>BUREAU_ACTIVE_DEBT_PERCENTAGE_MEAN</th>\n      <th>BUREAU_ACTIVE_DEBT_CREDIT_DIFF_MEAN</th>\n      <th>BUREAU_ACTIVE_CREDIT_TO_ANNUITY_RATIO_MEAN</th>\n      <th>BUREAU_ACTIVE_MONTHS_BALANCE_MEAN_MEAN</th>\n      <th>BUREAU_ACTIVE_MONTHS_BALANCE_MEAN_VAR</th>\n      <th>BUREAU_ACTIVE_MONTHS_BALANCE_SIZE_MEAN</th>\n      <th>BUREAU_ACTIVE_MONTHS_BALANCE_SIZE_SUM</th>\n    </tr>\n  </thead>\n  <tbody>\n    <tr>\n      <th>0</th>\n      <td>100053</td>\n      <td>7</td>\n      <td>-2893</td>\n      <td>-1764</td>\n      <td>-2287.714286</td>\n      <td>-2534.0</td>\n      <td>-648.0</td>\n      <td>NaN</td>\n      <td>NaN</td>\n      <td>225000.0</td>\n      <td>...</td>\n      <td>0.0</td>\n      <td>-1945.0</td>\n      <td>-1945.000000</td>\n      <td>NaN</td>\n      <td>NaN</td>\n      <td>NaN</td>\n      <td>NaN</td>\n      <td>NaN</td>\n      <td>NaN</td>\n      <td>0.0</td>\n    </tr>\n    <tr>\n      <th>1</th>\n      <td>100312</td>\n      <td>2</td>\n      <td>-2604</td>\n      <td>-613</td>\n      <td>-1608.500000</td>\n      <td>-1854.0</td>\n      <td>117.0</td>\n      <td>NaN</td>\n      <td>NaN</td>\n      <td>1215000.0</td>\n      <td>...</td>\n      <td>0.0</td>\n      <td>-1857.0</td>\n      <td>-929.000000</td>\n      <td>10.671515</td>\n      <td>1101145.500</td>\n      <td>14.925373</td>\n      <td>NaN</td>\n      <td>NaN</td>\n      <td>NaN</td>\n      <td>0.0</td>\n    </tr>\n    <tr>\n      <th>2</th>\n      <td>100320</td>\n      <td>5</td>\n      <td>-2410</td>\n      <td>-865</td>\n      <td>-1589.000000</td>\n      <td>-1400.0</td>\n      <td>598.0</td>\n      <td>540.000</td>\n      <td>108.000</td>\n      <td>1739394.0</td>\n      <td>...</td>\n      <td>0.0</td>\n      <td>-686.0</td>\n      <td>-669.000000</td>\n      <td>11.249851</td>\n      <td>652802.535</td>\n      <td>NaN</td>\n      <td>NaN</td>\n      <td>NaN</td>\n      <td>NaN</td>\n      <td>0.0</td>\n    </tr>\n    <tr>\n      <th>3</th>\n      <td>100430</td>\n      <td>1</td>\n      <td>-115</td>\n      <td>-115</td>\n      <td>-115.000000</td>\n      <td>31084.0</td>\n      <td>31084.0</td>\n      <td>NaN</td>\n      <td>NaN</td>\n      <td>67500.0</td>\n      <td>...</td>\n      <td>0.0</td>\n      <td>-6.0</td>\n      <td>-6.000000</td>\n      <td>1.079603</td>\n      <td>4977.000</td>\n      <td>NaN</td>\n      <td>NaN</td>\n      <td>NaN</td>\n      <td>NaN</td>\n      <td>0.0</td>\n    </tr>\n    <tr>\n      <th>4</th>\n      <td>100568</td>\n      <td>7</td>\n      <td>-1274</td>\n      <td>-207</td>\n      <td>-493.857143</td>\n      <td>-969.0</td>\n      <td>1183.0</td>\n      <td>8178.885</td>\n      <td>8178.885</td>\n      <td>333000.0</td>\n      <td>...</td>\n      <td>0.0</td>\n      <td>-189.0</td>\n      <td>-76.333333</td>\n      <td>2.419985</td>\n      <td>45133.500</td>\n      <td>22.402971</td>\n      <td>NaN</td>\n      <td>NaN</td>\n      <td>NaN</td>\n      <td>0.0</td>\n    </tr>\n    <tr>\n      <th>...</th>\n      <td>...</td>\n      <td>...</td>\n      <td>...</td>\n      <td>...</td>\n      <td>...</td>\n      <td>...</td>\n      <td>...</td>\n      <td>...</td>\n      <td>...</td>\n      <td>...</td>\n      <td>...</td>\n      <td>...</td>\n      <td>...</td>\n      <td>...</td>\n      <td>...</td>\n      <td>...</td>\n      <td>...</td>\n      <td>...</td>\n      <td>...</td>\n      <td>...</td>\n      <td>...</td>\n    </tr>\n    <tr>\n      <th>6071</th>\n      <td>456114</td>\n      <td>6</td>\n      <td>-2795</td>\n      <td>-15</td>\n      <td>-1496.500000</td>\n      <td>-1699.0</td>\n      <td>1.0</td>\n      <td>NaN</td>\n      <td>NaN</td>\n      <td>289170.0</td>\n      <td>...</td>\n      <td>0.0</td>\n      <td>-1333.0</td>\n      <td>-676.500000</td>\n      <td>0.966520</td>\n      <td>-7794.000</td>\n      <td>14.092446</td>\n      <td>NaN</td>\n      <td>NaN</td>\n      <td>NaN</td>\n      <td>0.0</td>\n    </tr>\n    <tr>\n      <th>6072</th>\n      <td>456116</td>\n      <td>2</td>\n      <td>-1812</td>\n      <td>-941</td>\n      <td>-1376.500000</td>\n      <td>-1264.0</td>\n      <td>-759.0</td>\n      <td>0.000</td>\n      <td>0.000</td>\n      <td>73642.5</td>\n      <td>...</td>\n      <td>0.0</td>\n      <td>-1292.0</td>\n      <td>-1292.000000</td>\n      <td>14.380492</td>\n      <td>68521.500</td>\n      <td>13.856901</td>\n      <td>NaN</td>\n      <td>NaN</td>\n      <td>NaN</td>\n      <td>0.0</td>\n    </tr>\n    <tr>\n      <th>6073</th>\n      <td>456179</td>\n      <td>4</td>\n      <td>-993</td>\n      <td>-684</td>\n      <td>-854.250000</td>\n      <td>-811.0</td>\n      <td>273.0</td>\n      <td>0.000</td>\n      <td>0.000</td>\n      <td>135000.0</td>\n      <td>...</td>\n      <td>0.0</td>\n      <td>-13.0</td>\n      <td>-13.000000</td>\n      <td>1.425555</td>\n      <td>40300.065</td>\n      <td>NaN</td>\n      <td>NaN</td>\n      <td>NaN</td>\n      <td>NaN</td>\n      <td>0.0</td>\n    </tr>\n    <tr>\n      <th>6074</th>\n      <td>456181</td>\n      <td>3</td>\n      <td>-599</td>\n      <td>-101</td>\n      <td>-420.666667</td>\n      <td>82.0</td>\n      <td>1264.0</td>\n      <td>0.000</td>\n      <td>0.000</td>\n      <td>202500.0</td>\n      <td>...</td>\n      <td>0.0</td>\n      <td>-56.0</td>\n      <td>-56.000000</td>\n      <td>1.202920</td>\n      <td>27877.500</td>\n      <td>NaN</td>\n      <td>NaN</td>\n      <td>NaN</td>\n      <td>NaN</td>\n      <td>0.0</td>\n    </tr>\n    <tr>\n      <th>6075</th>\n      <td>456247</td>\n      <td>7</td>\n      <td>-2028</td>\n      <td>-287</td>\n      <td>-874.285714</td>\n      <td>-1937.0</td>\n      <td>10253.0</td>\n      <td>22027.500</td>\n      <td>7604.982</td>\n      <td>3118500.0</td>\n      <td>...</td>\n      <td>0.0</td>\n      <td>-32.0</td>\n      <td>-30.000000</td>\n      <td>inf</td>\n      <td>912555.000</td>\n      <td>207.900208</td>\n      <td>NaN</td>\n      <td>NaN</td>\n      <td>NaN</td>\n      <td>0.0</td>\n    </tr>\n  </tbody>\n</table>\n<p>6076 rows × 62 columns</p>\n</div>"
     },
     "execution_count": 326,
     "metadata": {},
     "output_type": "execute_result"
    }
   ],
   "source": [
    "agg_bureau\n"
   ],
   "metadata": {
    "collapsed": false,
    "pycharm": {
     "name": "#%%\n"
    }
   }
  },
  {
   "cell_type": "code",
   "execution_count": 327,
   "outputs": [],
   "source": [
    "\n",
    "BUREAU_CLOSED_AGG = {\n",
    "    'DAYS_CREDIT': ['max', 'var'],\n",
    "    'DAYS_CREDIT_ENDDATE': ['max'],\n",
    "    'AMT_CREDIT_MAX_OVERDUE': ['max', 'mean'],\n",
    "    'AMT_CREDIT_SUM_OVERDUE': ['mean'],\n",
    "    'AMT_CREDIT_SUM': ['max', 'mean', 'sum'],\n",
    "    'AMT_CREDIT_SUM_DEBT': ['max', 'sum'],\n",
    "    'DAYS_CREDIT_UPDATE': ['max'],\n",
    "    'ENDDATE_DIF': ['mean'],\n",
    "    'STATUS_12345': ['mean'],\n",
    "}"
   ],
   "metadata": {
    "collapsed": false,
    "pycharm": {
     "name": "#%%\n"
    }
   }
  },
  {
   "cell_type": "code",
   "execution_count": 331,
   "outputs": [],
   "source": [
    "BUREAU_LOAN_TYPE_AGG = {\n",
    "    'DAYS_CREDIT': ['mean', 'max'],\n",
    "    'AMT_CREDIT_MAX_OVERDUE': ['mean', 'max'],\n",
    "    'AMT_CREDIT_SUM': ['mean', 'max'],\n",
    "    'AMT_CREDIT_SUM_DEBT': ['mean', 'max'],\n",
    "    'DEBT_PERCENTAGE': ['mean'],\n",
    "    'DEBT_CREDIT_DIFF': ['mean'],\n",
    "    'DAYS_CREDIT_ENDDATE': ['max'],\n",
    "}"
   ],
   "metadata": {
    "collapsed": false,
    "pycharm": {
     "name": "#%%\n"
    }
   }
  },
  {
   "cell_type": "code",
   "execution_count": 328,
   "outputs": [
    {
     "data": {
      "text/plain": "51883"
     },
     "execution_count": 328,
     "metadata": {},
     "output_type": "execute_result"
    }
   ],
   "source": [
    "closed = bureau[bureau['CREDIT_ACTIVE_Closed'] == 1]\n",
    "agg_bureau = group_and_merge(closed,agg_bureau,'BUREAU_CLOSED_',BUREAU_CLOSED_AGG)\n",
    "del active, closed; gc.collect()"
   ],
   "metadata": {
    "collapsed": false,
    "pycharm": {
     "name": "#%%\n"
    }
   }
  },
  {
   "cell_type": "code",
   "execution_count": 332,
   "outputs": [],
   "source": [
    "# 그룹을 잘 그룹화시키기 ,\n",
    "\n",
    "# Aggregation for the main loan types\n",
    "for credit_type in ['Consumer credit', 'Credit card' , 'Mortgage', 'Car loan', 'Microloan']:\n",
    "\n",
    "    type_df =  bureau[bureau['CREDIT_TYPE_'+ credit_type]== 1]\n",
    "    prefix = 'BUREAU_' + credit_type.split(' ')[0].upper() +'_'\n",
    "    agg_bureau = group_and_merge(type_df , agg_bureau,prefix, BUREAU_LOAN_TYPE_AGG)\n",
    "    del type_df; gc.collect()"
   ],
   "metadata": {
    "collapsed": false,
    "pycharm": {
     "name": "#%%\n"
    }
   }
  },
  {
   "cell_type": "code",
   "execution_count": 334,
   "outputs": [
    {
     "data": {
      "text/plain": "       SK_ID_CURR  SK_ID_BUREAU  DAYS_CREDIT  CREDIT_DAY_OVERDUE  \\\n0          215354       5714462         -497                   0   \n1          215354       5714463         -208                   0   \n2          215354       5714464         -203                   0   \n3          215354       5714465         -203                   0   \n4          215354       5714466         -629                   0   \n...           ...           ...          ...                 ...   \n29995      245832       5800005         -245                   0   \n29996      245832       5800006         -287                   0   \n29997      245832       5800008         -175                   0   \n29998      245832       5800009         -158                   0   \n29999      206696       5800010         -633                   0   \n\n       DAYS_CREDIT_ENDDATE  DAYS_ENDDATE_FACT  AMT_CREDIT_MAX_OVERDUE  \\\n0                   -153.0             -153.0                     NaN   \n1                   1075.0                NaN                     NaN   \n2                    528.0                NaN                     NaN   \n3                      NaN                NaN                     NaN   \n4                   1197.0                NaN                 77674.5   \n...                    ...                ...                     ...   \n29995               -232.0             -188.0                     NaN   \n29996               -274.0             -188.0                     NaN   \n29997               -162.0                NaN                     NaN   \n29998               1387.0                NaN                     NaN   \n29999                465.0                NaN                     NaN   \n\n       CNT_CREDIT_PROLONG  AMT_CREDIT_SUM  AMT_CREDIT_SUM_DEBT  ...  \\\n0                       0         91323.0                  0.0  ...   \n1                       0        225000.0             171342.0  ...   \n2                       0        464323.5                  NaN  ...   \n3                       0         90000.0                  NaN  ...   \n4                       0       2700000.0                  NaN  ...   \n...                   ...             ...                  ...  ...   \n29995                   0         31500.0                  NaN  ...   \n29996                   0         45000.0                  NaN  ...   \n29997                   0         31090.5                  NaN  ...   \n29998                   0         67500.0              70389.0  ...   \n29999                   0        225000.0                  NaN  ...   \n\n       MONTHS_BALANCE_SIZE  STATUS_12345  LL_AMT_CREDIT_MAX_OVERDUE  \\\n0                      NaN           NaN                        NaN   \n1                      NaN           NaN                        NaN   \n2                      NaN           NaN                        NaN   \n3                      NaN           NaN                        NaN   \n4                      NaN           NaN                        NaN   \n...                    ...           ...                        ...   \n29995                  NaN           NaN                        NaN   \n29996                  NaN           NaN                        NaN   \n29997                  NaN           NaN                        NaN   \n29998                  NaN           NaN                        NaN   \n29999                  NaN           NaN                        NaN   \n\n       LL_AMT_CREDIT_SUM_OVERDUE  LL_AMT_CREDIT_SUM  LL_AMT_CREDIT_SUM_DEBT  \\\n0                            NaN                NaN                     NaN   \n1                            NaN                NaN                     NaN   \n2                            NaN                NaN                     NaN   \n3                            NaN                NaN                     NaN   \n4                            NaN                NaN                     NaN   \n...                          ...                ...                     ...   \n29995                        NaN                NaN                     NaN   \n29996                        NaN                NaN                     NaN   \n29997                        NaN                NaN                     NaN   \n29998                        NaN                NaN                     NaN   \n29999                        NaN                NaN                     NaN   \n\n       LL_DEBT_PERCENTAGE  LL_DEBT_CREDIT_DIFF  LL_STATUS_0  LL_STATUS_12345  \n0                     NaN                  NaN          NaN              NaN  \n1                     NaN                  NaN          NaN              NaN  \n2                     NaN                  NaN          NaN              NaN  \n3                     NaN                  NaN          NaN              NaN  \n4                     NaN                  NaN          NaN              NaN  \n...                   ...                  ...          ...              ...  \n29995                 NaN                  NaN          NaN              NaN  \n29996                 NaN                  NaN          NaN              NaN  \n29997                 NaN                  NaN          NaN              NaN  \n29998                 NaN                  NaN          NaN              NaN  \n29999                 NaN                  NaN          NaN              NaN  \n\n[30000 rows x 58 columns]",
      "text/html": "<div>\n<style scoped>\n    .dataframe tbody tr th:only-of-type {\n        vertical-align: middle;\n    }\n\n    .dataframe tbody tr th {\n        vertical-align: top;\n    }\n\n    .dataframe thead th {\n        text-align: right;\n    }\n</style>\n<table border=\"1\" class=\"dataframe\">\n  <thead>\n    <tr style=\"text-align: right;\">\n      <th></th>\n      <th>SK_ID_CURR</th>\n      <th>SK_ID_BUREAU</th>\n      <th>DAYS_CREDIT</th>\n      <th>CREDIT_DAY_OVERDUE</th>\n      <th>DAYS_CREDIT_ENDDATE</th>\n      <th>DAYS_ENDDATE_FACT</th>\n      <th>AMT_CREDIT_MAX_OVERDUE</th>\n      <th>CNT_CREDIT_PROLONG</th>\n      <th>AMT_CREDIT_SUM</th>\n      <th>AMT_CREDIT_SUM_DEBT</th>\n      <th>...</th>\n      <th>MONTHS_BALANCE_SIZE</th>\n      <th>STATUS_12345</th>\n      <th>LL_AMT_CREDIT_MAX_OVERDUE</th>\n      <th>LL_AMT_CREDIT_SUM_OVERDUE</th>\n      <th>LL_AMT_CREDIT_SUM</th>\n      <th>LL_AMT_CREDIT_SUM_DEBT</th>\n      <th>LL_DEBT_PERCENTAGE</th>\n      <th>LL_DEBT_CREDIT_DIFF</th>\n      <th>LL_STATUS_0</th>\n      <th>LL_STATUS_12345</th>\n    </tr>\n  </thead>\n  <tbody>\n    <tr>\n      <th>0</th>\n      <td>215354</td>\n      <td>5714462</td>\n      <td>-497</td>\n      <td>0</td>\n      <td>-153.0</td>\n      <td>-153.0</td>\n      <td>NaN</td>\n      <td>0</td>\n      <td>91323.0</td>\n      <td>0.0</td>\n      <td>...</td>\n      <td>NaN</td>\n      <td>NaN</td>\n      <td>NaN</td>\n      <td>NaN</td>\n      <td>NaN</td>\n      <td>NaN</td>\n      <td>NaN</td>\n      <td>NaN</td>\n      <td>NaN</td>\n      <td>NaN</td>\n    </tr>\n    <tr>\n      <th>1</th>\n      <td>215354</td>\n      <td>5714463</td>\n      <td>-208</td>\n      <td>0</td>\n      <td>1075.0</td>\n      <td>NaN</td>\n      <td>NaN</td>\n      <td>0</td>\n      <td>225000.0</td>\n      <td>171342.0</td>\n      <td>...</td>\n      <td>NaN</td>\n      <td>NaN</td>\n      <td>NaN</td>\n      <td>NaN</td>\n      <td>NaN</td>\n      <td>NaN</td>\n      <td>NaN</td>\n      <td>NaN</td>\n      <td>NaN</td>\n      <td>NaN</td>\n    </tr>\n    <tr>\n      <th>2</th>\n      <td>215354</td>\n      <td>5714464</td>\n      <td>-203</td>\n      <td>0</td>\n      <td>528.0</td>\n      <td>NaN</td>\n      <td>NaN</td>\n      <td>0</td>\n      <td>464323.5</td>\n      <td>NaN</td>\n      <td>...</td>\n      <td>NaN</td>\n      <td>NaN</td>\n      <td>NaN</td>\n      <td>NaN</td>\n      <td>NaN</td>\n      <td>NaN</td>\n      <td>NaN</td>\n      <td>NaN</td>\n      <td>NaN</td>\n      <td>NaN</td>\n    </tr>\n    <tr>\n      <th>3</th>\n      <td>215354</td>\n      <td>5714465</td>\n      <td>-203</td>\n      <td>0</td>\n      <td>NaN</td>\n      <td>NaN</td>\n      <td>NaN</td>\n      <td>0</td>\n      <td>90000.0</td>\n      <td>NaN</td>\n      <td>...</td>\n      <td>NaN</td>\n      <td>NaN</td>\n      <td>NaN</td>\n      <td>NaN</td>\n      <td>NaN</td>\n      <td>NaN</td>\n      <td>NaN</td>\n      <td>NaN</td>\n      <td>NaN</td>\n      <td>NaN</td>\n    </tr>\n    <tr>\n      <th>4</th>\n      <td>215354</td>\n      <td>5714466</td>\n      <td>-629</td>\n      <td>0</td>\n      <td>1197.0</td>\n      <td>NaN</td>\n      <td>77674.5</td>\n      <td>0</td>\n      <td>2700000.0</td>\n      <td>NaN</td>\n      <td>...</td>\n      <td>NaN</td>\n      <td>NaN</td>\n      <td>NaN</td>\n      <td>NaN</td>\n      <td>NaN</td>\n      <td>NaN</td>\n      <td>NaN</td>\n      <td>NaN</td>\n      <td>NaN</td>\n      <td>NaN</td>\n    </tr>\n    <tr>\n      <th>...</th>\n      <td>...</td>\n      <td>...</td>\n      <td>...</td>\n      <td>...</td>\n      <td>...</td>\n      <td>...</td>\n      <td>...</td>\n      <td>...</td>\n      <td>...</td>\n      <td>...</td>\n      <td>...</td>\n      <td>...</td>\n      <td>...</td>\n      <td>...</td>\n      <td>...</td>\n      <td>...</td>\n      <td>...</td>\n      <td>...</td>\n      <td>...</td>\n      <td>...</td>\n      <td>...</td>\n    </tr>\n    <tr>\n      <th>29995</th>\n      <td>245832</td>\n      <td>5800005</td>\n      <td>-245</td>\n      <td>0</td>\n      <td>-232.0</td>\n      <td>-188.0</td>\n      <td>NaN</td>\n      <td>0</td>\n      <td>31500.0</td>\n      <td>NaN</td>\n      <td>...</td>\n      <td>NaN</td>\n      <td>NaN</td>\n      <td>NaN</td>\n      <td>NaN</td>\n      <td>NaN</td>\n      <td>NaN</td>\n      <td>NaN</td>\n      <td>NaN</td>\n      <td>NaN</td>\n      <td>NaN</td>\n    </tr>\n    <tr>\n      <th>29996</th>\n      <td>245832</td>\n      <td>5800006</td>\n      <td>-287</td>\n      <td>0</td>\n      <td>-274.0</td>\n      <td>-188.0</td>\n      <td>NaN</td>\n      <td>0</td>\n      <td>45000.0</td>\n      <td>NaN</td>\n      <td>...</td>\n      <td>NaN</td>\n      <td>NaN</td>\n      <td>NaN</td>\n      <td>NaN</td>\n      <td>NaN</td>\n      <td>NaN</td>\n      <td>NaN</td>\n      <td>NaN</td>\n      <td>NaN</td>\n      <td>NaN</td>\n    </tr>\n    <tr>\n      <th>29997</th>\n      <td>245832</td>\n      <td>5800008</td>\n      <td>-175</td>\n      <td>0</td>\n      <td>-162.0</td>\n      <td>NaN</td>\n      <td>NaN</td>\n      <td>0</td>\n      <td>31090.5</td>\n      <td>NaN</td>\n      <td>...</td>\n      <td>NaN</td>\n      <td>NaN</td>\n      <td>NaN</td>\n      <td>NaN</td>\n      <td>NaN</td>\n      <td>NaN</td>\n      <td>NaN</td>\n      <td>NaN</td>\n      <td>NaN</td>\n      <td>NaN</td>\n    </tr>\n    <tr>\n      <th>29998</th>\n      <td>245832</td>\n      <td>5800009</td>\n      <td>-158</td>\n      <td>0</td>\n      <td>1387.0</td>\n      <td>NaN</td>\n      <td>NaN</td>\n      <td>0</td>\n      <td>67500.0</td>\n      <td>70389.0</td>\n      <td>...</td>\n      <td>NaN</td>\n      <td>NaN</td>\n      <td>NaN</td>\n      <td>NaN</td>\n      <td>NaN</td>\n      <td>NaN</td>\n      <td>NaN</td>\n      <td>NaN</td>\n      <td>NaN</td>\n      <td>NaN</td>\n    </tr>\n    <tr>\n      <th>29999</th>\n      <td>206696</td>\n      <td>5800010</td>\n      <td>-633</td>\n      <td>0</td>\n      <td>465.0</td>\n      <td>NaN</td>\n      <td>NaN</td>\n      <td>0</td>\n      <td>225000.0</td>\n      <td>NaN</td>\n      <td>...</td>\n      <td>NaN</td>\n      <td>NaN</td>\n      <td>NaN</td>\n      <td>NaN</td>\n      <td>NaN</td>\n      <td>NaN</td>\n      <td>NaN</td>\n      <td>NaN</td>\n      <td>NaN</td>\n      <td>NaN</td>\n    </tr>\n  </tbody>\n</table>\n<p>30000 rows × 58 columns</p>\n</div>"
     },
     "execution_count": 334,
     "metadata": {},
     "output_type": "execute_result"
    }
   ],
   "source": [
    "\n",
    "\n",
    "#Time based aggregations: last x months"
   ],
   "metadata": {
    "collapsed": false,
    "pycharm": {
     "name": "#%%\n"
    }
   }
  },
  {
   "cell_type": "code",
   "execution_count": null,
   "outputs": [],
   "source": [
    "# permutation feature importance 에서 feture permutation 조합의 중요도가 낮은 것은 버린다\n",
    "def drop_application_columns(df):\n",
    "    \"\"\" Drop features based on permutation feature importance. \"\"\"\n",
    "    drop_list = [\n",
    "        'CNT_CHILDREN', 'CNT_FAM_MEMBERS', 'HOUR_APPR_PROCESS_START',\n",
    "        'FLAG_EMP_PHONE', 'FLAG_MOBIL', 'FLAG_CONT_MOBILE', 'FLAG_EMAIL', 'FLAG_PHONE',\n",
    "        'FLAG_OWN_REALTY', 'REG_REGION_NOT_LIVE_REGION', 'REG_REGION_NOT_WORK_REGION',\n",
    "        'REG_CITY_NOT_WORK_CITY', 'OBS_30_CNT_SOCIAL_CIRCLE', 'OBS_60_CNT_SOCIAL_CIRCLE',\n",
    "        'AMT_REQ_CREDIT_BUREAU_DAY', 'AMT_REQ_CREDIT_BUREAU_MON', 'AMT_REQ_CREDIT_BUREAU_YEAR',\n",
    "        'COMMONAREA_MODE', 'NONLIVINGAREA_MODE', 'ELEVATORS_MODE', 'NONLIVINGAREA_AVG',\n",
    "        'FLOORSMIN_MEDI', 'LANDAREA_MODE', 'NONLIVINGAREA_MEDI', 'LIVINGAPARTMENTS_MODE',\n",
    "        'FLOORSMIN_AVG', 'LANDAREA_AVG', 'FLOORSMIN_MODE', 'LANDAREA_MEDI',\n",
    "        'COMMONAREA_MEDI', 'YEARS_BUILD_AVG', 'COMMONAREA_AVG', 'BASEMENTAREA_AVG',\n",
    "        'BASEMENTAREA_MODE', 'NONLIVINGAPARTMENTS_MEDI', 'BASEMENTAREA_MEDI',\n",
    "        'LIVINGAPARTMENTS_AVG', 'ELEVATORS_AVG', 'YEARS_BUILD_MEDI', 'ENTRANCES_MODE',\n",
    "        'NONLIVINGAPARTMENTS_MODE', 'LIVINGAREA_MODE', 'LIVINGAPARTMENTS_MEDI',\n",
    "        'YEARS_BUILD_MODE', 'YEARS_BEGINEXPLUATATION_AVG', 'ELEVATORS_MEDI', 'LIVINGAREA_MEDI',\n",
    "        'YEARS_BEGINEXPLUATATION_MODE', 'NONLIVINGAPARTMENTS_AVG', 'HOUSETYPE_MODE',\n",
    "        'FONDKAPREMONT_MODE', 'EMERGENCYSTATE_MODE'\n",
    "    ]\n",
    "    # Drop most flag document columns\n",
    "    for doc_num in [2,4,5,6,7,9,10,11,12,13,14,15,16,17,19,20,21]:\n",
    "        drop_list.append('FLAG_DOCUMENT_{}'.format(doc_num))\n",
    "    df.drop(drop_list, axis=1, inplace=True)\n",
    "    return df\n"
   ],
   "metadata": {
    "collapsed": false,
    "pycharm": {
     "name": "#%%\n"
    }
   }
  },
  {
   "cell_type": "code",
   "execution_count": null,
   "outputs": [],
   "source": [
    "def get_age_label(days_birth):\n",
    "    \"\"\" Return the age gorup label (int).\"\"\"\n",
    "    age_years = -days_birth /365\n",
    "    if age_years < 27: return 1\n",
    "    elif age_years < 40: return 2\n",
    "    elif age_years <50: return 3\n",
    "    elif age_years <65: return 4\n",
    "    elif age_years < 99: return 5\n",
    "    else : return 0"
   ],
   "metadata": {
    "collapsed": false,
    "pycharm": {
     "name": "#%%\n"
    }
   }
  },
  {
   "cell_type": "code",
   "execution_count": 35,
   "outputs": [],
   "source": [
    "df['AGE_RANGE'] = df['DAYS_BIRTH'].apply(lambda x:get_age_label(x))"
   ],
   "metadata": {
    "collapsed": false,
    "pycharm": {
     "name": "#%%\n"
    }
   }
  },
  {
   "cell_type": "code",
   "execution_count": 38,
   "outputs": [
    {
     "data": {
      "text/plain": "0        -9461\n1       -16765\n2       -19046\n3       -19005\n4       -19932\n         ...  \n29995   -21635\n29996   -17958\n29997   -19958\n29998   -10183\n29999   -17069\nName: DAYS_BIRTH, Length: 60000, dtype: int64"
     },
     "execution_count": 38,
     "metadata": {},
     "output_type": "execute_result"
    }
   ],
   "source": [
    "# 태어난 날짜를 가지고 나이계산\n",
    "df['DAYS_BIRTH']"
   ],
   "metadata": {
    "collapsed": false,
    "pycharm": {
     "name": "#%%\n"
    }
   }
  },
  {
   "cell_type": "code",
   "execution_count": 41,
   "outputs": [],
   "source": [
    "# feature importance top . 비식별화 되어서 무엇인지는 모른다 사람들이\n",
    "# 그러니 feature importance를 탐색을 해야하\n",
    "#\n",
    "\n",
    "# New features based on Extenal sources\n",
    "df['EXT_SOURCES_PROD']= df['EXT_SOURCE_1'] * df['EXT_SOURCE_2'] * df['EXT_SOURCE_3']\n",
    "\n"
   ],
   "metadata": {
    "collapsed": false,
    "pycharm": {
     "name": "#%%\n"
    }
   }
  },
  {
   "cell_type": "code",
   "execution_count": 43,
   "outputs": [],
   "source": [
    "df['EXT_SOURCES_WEIGHTED'] = df.EXT_SOURCE_1 * 2 + df.EXT_SOURCE_2 * 1 + df.EXT_SOURCE_3 * 3#%%\n",
    "\n"
   ],
   "metadata": {
    "collapsed": false,
    "pycharm": {
     "name": "#%%\n"
    }
   }
  },
  {
   "cell_type": "code",
   "execution_count": 44,
   "outputs": [],
   "source": [
    "np.warnings.filterwarnings('ignore', r'ALL-NaN (slice|axis) encountered')"
   ],
   "metadata": {
    "collapsed": false,
    "pycharm": {
     "name": "#%%\n"
    }
   }
  },
  {
   "cell_type": "code",
   "execution_count": 46,
   "outputs": [],
   "source": [
    "# eval은 string을 함수처럼 사용할 수 있도록 ?\n",
    "for function_name in ['min','max','mean','nanmedian','var','max']:\n",
    "    feature_name= 'EXT_SOURCES_{}'.format(function_name.upper())\n",
    "    df[feature_name] = eval('np.{}'.format(function_name))(df[['EXT_SOURCE_1','EXT_SOURCE_2','EXT_SOURCE_3']],axis=1)"
   ],
   "metadata": {
    "collapsed": false,
    "pycharm": {
     "name": "#%%\n"
    }
   }
  },
  {
   "cell_type": "code",
   "execution_count": 49,
   "outputs": [
    {
     "ename": "KeyError",
     "evalue": "'AMT_ANNUTIY'",
     "output_type": "error",
     "traceback": [
      "\u001B[0;31m---------------------------------------------------------------------------\u001B[0m",
      "\u001B[0;31mKeyError\u001B[0m                                  Traceback (most recent call last)",
      "\u001B[0;32m~/PycharmProjects/pythonProject/Kaggle/venv/lib/python3.8/site-packages/pandas/core/indexes/base.py\u001B[0m in \u001B[0;36mget_loc\u001B[0;34m(self, key, method, tolerance)\u001B[0m\n\u001B[1;32m   3360\u001B[0m             \u001B[0;32mtry\u001B[0m\u001B[0;34m:\u001B[0m\u001B[0;34m\u001B[0m\u001B[0;34m\u001B[0m\u001B[0m\n\u001B[0;32m-> 3361\u001B[0;31m                 \u001B[0;32mreturn\u001B[0m \u001B[0mself\u001B[0m\u001B[0;34m.\u001B[0m\u001B[0m_engine\u001B[0m\u001B[0;34m.\u001B[0m\u001B[0mget_loc\u001B[0m\u001B[0;34m(\u001B[0m\u001B[0mcasted_key\u001B[0m\u001B[0;34m)\u001B[0m\u001B[0;34m\u001B[0m\u001B[0;34m\u001B[0m\u001B[0m\n\u001B[0m\u001B[1;32m   3362\u001B[0m             \u001B[0;32mexcept\u001B[0m \u001B[0mKeyError\u001B[0m \u001B[0;32mas\u001B[0m \u001B[0merr\u001B[0m\u001B[0;34m:\u001B[0m\u001B[0;34m\u001B[0m\u001B[0;34m\u001B[0m\u001B[0m\n",
      "\u001B[0;32m~/PycharmProjects/pythonProject/Kaggle/venv/lib/python3.8/site-packages/pandas/_libs/index.pyx\u001B[0m in \u001B[0;36mpandas._libs.index.IndexEngine.get_loc\u001B[0;34m()\u001B[0m\n",
      "\u001B[0;32m~/PycharmProjects/pythonProject/Kaggle/venv/lib/python3.8/site-packages/pandas/_libs/index.pyx\u001B[0m in \u001B[0;36mpandas._libs.index.IndexEngine.get_loc\u001B[0;34m()\u001B[0m\n",
      "\u001B[0;32mpandas/_libs/hashtable_class_helper.pxi\u001B[0m in \u001B[0;36mpandas._libs.hashtable.PyObjectHashTable.get_item\u001B[0;34m()\u001B[0m\n",
      "\u001B[0;32mpandas/_libs/hashtable_class_helper.pxi\u001B[0m in \u001B[0;36mpandas._libs.hashtable.PyObjectHashTable.get_item\u001B[0;34m()\u001B[0m\n",
      "\u001B[0;31mKeyError\u001B[0m: 'AMT_ANNUTIY'",
      "\nThe above exception was the direct cause of the following exception:\n",
      "\u001B[0;31mKeyError\u001B[0m                                  Traceback (most recent call last)",
      "\u001B[0;32m/var/folders/c6/2j22b1rd02778st12c0mcr3w0000gn/T/ipykernel_71814/812051111.py\u001B[0m in \u001B[0;36m<module>\u001B[0;34m\u001B[0m\n\u001B[1;32m      1\u001B[0m \u001B[0;31m# 1년 동안 annutity(연금) 과 credit의 비율로 신용도확인하기위함\u001B[0m\u001B[0;34m\u001B[0m\u001B[0;34m\u001B[0m\u001B[0;34m\u001B[0m\u001B[0m\n\u001B[0;32m----> 2\u001B[0;31m \u001B[0mdf\u001B[0m\u001B[0;34m[\u001B[0m\u001B[0;34m'CREDIT_TO_ANNUITY_RATIO'\u001B[0m\u001B[0;34m]\u001B[0m \u001B[0;34m=\u001B[0m \u001B[0mdf\u001B[0m\u001B[0;34m[\u001B[0m\u001B[0;34m'AMT_CREDIT'\u001B[0m\u001B[0;34m]\u001B[0m \u001B[0;34m/\u001B[0m \u001B[0mdf\u001B[0m\u001B[0;34m[\u001B[0m\u001B[0;34m'AMT_ANNUTIY'\u001B[0m\u001B[0;34m]\u001B[0m\u001B[0;34m\u001B[0m\u001B[0;34m\u001B[0m\u001B[0m\n\u001B[0m",
      "\u001B[0;32m~/PycharmProjects/pythonProject/Kaggle/venv/lib/python3.8/site-packages/pandas/core/frame.py\u001B[0m in \u001B[0;36m__getitem__\u001B[0;34m(self, key)\u001B[0m\n\u001B[1;32m   3456\u001B[0m             \u001B[0;32mif\u001B[0m \u001B[0mself\u001B[0m\u001B[0;34m.\u001B[0m\u001B[0mcolumns\u001B[0m\u001B[0;34m.\u001B[0m\u001B[0mnlevels\u001B[0m \u001B[0;34m>\u001B[0m \u001B[0;36m1\u001B[0m\u001B[0;34m:\u001B[0m\u001B[0;34m\u001B[0m\u001B[0;34m\u001B[0m\u001B[0m\n\u001B[1;32m   3457\u001B[0m                 \u001B[0;32mreturn\u001B[0m \u001B[0mself\u001B[0m\u001B[0;34m.\u001B[0m\u001B[0m_getitem_multilevel\u001B[0m\u001B[0;34m(\u001B[0m\u001B[0mkey\u001B[0m\u001B[0;34m)\u001B[0m\u001B[0;34m\u001B[0m\u001B[0;34m\u001B[0m\u001B[0m\n\u001B[0;32m-> 3458\u001B[0;31m             \u001B[0mindexer\u001B[0m \u001B[0;34m=\u001B[0m \u001B[0mself\u001B[0m\u001B[0;34m.\u001B[0m\u001B[0mcolumns\u001B[0m\u001B[0;34m.\u001B[0m\u001B[0mget_loc\u001B[0m\u001B[0;34m(\u001B[0m\u001B[0mkey\u001B[0m\u001B[0;34m)\u001B[0m\u001B[0;34m\u001B[0m\u001B[0;34m\u001B[0m\u001B[0m\n\u001B[0m\u001B[1;32m   3459\u001B[0m             \u001B[0;32mif\u001B[0m \u001B[0mis_integer\u001B[0m\u001B[0;34m(\u001B[0m\u001B[0mindexer\u001B[0m\u001B[0;34m)\u001B[0m\u001B[0;34m:\u001B[0m\u001B[0;34m\u001B[0m\u001B[0;34m\u001B[0m\u001B[0m\n\u001B[1;32m   3460\u001B[0m                 \u001B[0mindexer\u001B[0m \u001B[0;34m=\u001B[0m \u001B[0;34m[\u001B[0m\u001B[0mindexer\u001B[0m\u001B[0;34m]\u001B[0m\u001B[0;34m\u001B[0m\u001B[0;34m\u001B[0m\u001B[0m\n",
      "\u001B[0;32m~/PycharmProjects/pythonProject/Kaggle/venv/lib/python3.8/site-packages/pandas/core/indexes/base.py\u001B[0m in \u001B[0;36mget_loc\u001B[0;34m(self, key, method, tolerance)\u001B[0m\n\u001B[1;32m   3361\u001B[0m                 \u001B[0;32mreturn\u001B[0m \u001B[0mself\u001B[0m\u001B[0;34m.\u001B[0m\u001B[0m_engine\u001B[0m\u001B[0;34m.\u001B[0m\u001B[0mget_loc\u001B[0m\u001B[0;34m(\u001B[0m\u001B[0mcasted_key\u001B[0m\u001B[0;34m)\u001B[0m\u001B[0;34m\u001B[0m\u001B[0;34m\u001B[0m\u001B[0m\n\u001B[1;32m   3362\u001B[0m             \u001B[0;32mexcept\u001B[0m \u001B[0mKeyError\u001B[0m \u001B[0;32mas\u001B[0m \u001B[0merr\u001B[0m\u001B[0;34m:\u001B[0m\u001B[0;34m\u001B[0m\u001B[0;34m\u001B[0m\u001B[0m\n\u001B[0;32m-> 3363\u001B[0;31m                 \u001B[0;32mraise\u001B[0m \u001B[0mKeyError\u001B[0m\u001B[0;34m(\u001B[0m\u001B[0mkey\u001B[0m\u001B[0;34m)\u001B[0m \u001B[0;32mfrom\u001B[0m \u001B[0merr\u001B[0m\u001B[0;34m\u001B[0m\u001B[0;34m\u001B[0m\u001B[0m\n\u001B[0m\u001B[1;32m   3364\u001B[0m \u001B[0;34m\u001B[0m\u001B[0m\n\u001B[1;32m   3365\u001B[0m         \u001B[0;32mif\u001B[0m \u001B[0mis_scalar\u001B[0m\u001B[0;34m(\u001B[0m\u001B[0mkey\u001B[0m\u001B[0;34m)\u001B[0m \u001B[0;32mand\u001B[0m \u001B[0misna\u001B[0m\u001B[0;34m(\u001B[0m\u001B[0mkey\u001B[0m\u001B[0;34m)\u001B[0m \u001B[0;32mand\u001B[0m \u001B[0;32mnot\u001B[0m \u001B[0mself\u001B[0m\u001B[0;34m.\u001B[0m\u001B[0mhasnans\u001B[0m\u001B[0;34m:\u001B[0m\u001B[0;34m\u001B[0m\u001B[0;34m\u001B[0m\u001B[0m\n",
      "\u001B[0;31mKeyError\u001B[0m: 'AMT_ANNUTIY'"
     ]
    }
   ],
   "source": [
    "# 1년 동안 annutity(연금) 과 credit의 비율로 신용도확인하기위함"
   ],
   "metadata": {
    "collapsed": false,
    "pycharm": {
     "name": "#%%\n"
    }
   }
  },
  {
   "cell_type": "code",
   "execution_count": 51,
   "outputs": [],
   "source": [
    "# credit ratio\n",
    "df['CREDIT_TO_ANNUITY_RATIO'] = df['AMT_CREDIT'] / df['AMT_ANNUITY']\n",
    "df['CREDIT_TO_GOODS_RATIO'] = df['AMT_CREDIT'] / df['AMT_GOODS_PRICE']\n",
    "# Income ratios\n",
    "df['ANNUITY_TO_INCOME_RATIO'] = df['AMT_ANNUITY'] / df['AMT_INCOME_TOTAL']\n",
    "df['CREDIT_TO_INCOME_RATIO'] = df['AMT_CREDIT'] / df['AMT_INCOME_TOTAL']\n",
    "df['INCOME_TO_EMPLOYED_RATIO'] = df['AMT_INCOME_TOTAL'] / df['DAYS_EMPLOYED']\n",
    "df['INCOME_TO_BIRTH_RATIO'] = df['AMT_INCOME_TOTAL'] / df['DAYS_BIRTH']"
   ],
   "metadata": {
    "collapsed": false,
    "pycharm": {
     "name": "#%%\n"
    }
   }
  },
  {
   "cell_type": "code",
   "execution_count": 154,
   "outputs": [],
   "source": [
    "# Time ratios\n",
    "df['EMPLOYED_TO_BIRTH_RATIO'] = df['DAYS_EMPLOYED'] / df['DAYS_BIRTH']\n",
    "df['ID_TO_BIRTH_RATIO'] = df['DAYS_ID_PUBLISH'] / df['DAYS_BIRTH']\n",
    "df['CAR_TO_BIRTH_RATIO'] = df['OWN_CAR_AGE'] / df['DAYS_BIRTH']\n",
    "df['CAR_TO_EMPLOYED_RATIO'] = df['OWN_CAR_AGE'] / df['DAYS_EMPLOYED']\n",
    "df['PHONE_TO_BIRTH_RATIO'] = df['DAYS_LAST_PHONE_CHANGE'] / df['DAYS_BIRTH']"
   ],
   "metadata": {
    "collapsed": false,
    "pycharm": {
     "name": "#%%\n"
    }
   }
  },
  {
   "cell_type": "code",
   "execution_count": 53,
   "outputs": [
    {
     "ename": "ModuleNotFoundError",
     "evalue": "No module named 'deque'",
     "output_type": "error",
     "traceback": [
      "\u001B[0;31m---------------------------------------------------------------------------\u001B[0m",
      "\u001B[0;31mModuleNotFoundError\u001B[0m                       Traceback (most recent call last)",
      "\u001B[0;32m/var/folders/c6/2j22b1rd02778st12c0mcr3w0000gn/T/ipykernel_71814/860017868.py\u001B[0m in \u001B[0;36m<module>\u001B[0;34m\u001B[0m\n\u001B[0;32m----> 1\u001B[0;31m \u001B[0;32mimport\u001B[0m \u001B[0mdeque\u001B[0m\u001B[0;34m\u001B[0m\u001B[0;34m\u001B[0m\u001B[0m\n\u001B[0m",
      "\u001B[0;31mModuleNotFoundError\u001B[0m: No module named 'deque'"
     ]
    }
   ],
   "source": [
    "from collections import deque\n",
    "# Groupby Statistics for applications in the same group"
   ],
   "metadata": {
    "collapsed": false,
    "pycharm": {
     "name": "#%%\n"
    }
   }
  },
  {
   "cell_type": "code",
   "execution_count": 206,
   "outputs": [],
   "source": [
    "# Groupby: Statistics for applications in the same group\n",
    "group = ['ORGANIZATION_TYPE', 'NAME_EDUCATION_TYPE', 'OCCUPATION_TYPE', 'AGE_RANGE', 'CODE_GENDER']"
   ],
   "metadata": {
    "collapsed": false,
    "pycharm": {
     "name": "#%%\n"
    }
   }
  },
  {
   "cell_type": "code",
   "execution_count": 213,
   "outputs": [],
   "source": [
    "\n",
    "\n"
   ],
   "metadata": {
    "collapsed": false,
    "pycharm": {
     "name": "#%%\n"
    }
   }
  },
  {
   "cell_type": "code",
   "execution_count": 218,
   "outputs": [
    {
     "data": {
      "text/plain": "                                                                                                 max\nORGANIZATION_TYPE NAME_EDUCATION_TYPE           OCCUPATION_TYPE      AGE_RANGE CODE_GENDER          \nAdvertising       Higher education              Accountants          2         F            0.633830\n                                                                     3         F            0.624797\n                                                Cleaning staff       4         F            0.499534\n                                                Core staff           1         F            0.626520\n                                                                     2         F            0.663931\n...                                                                                              ...\nUniversity        Secondary / secondary special Medicine staff       4         F            0.632774\n                                                Security staff       3         F            0.679975\n                                                                     4         F            0.649977\n                                                Waiters/barmen staff 3         F            0.576553\n                                                                     4         F            0.382108\n\n[4727 rows x 1 columns]",
      "text/html": "<div>\n<style scoped>\n    .dataframe tbody tr th:only-of-type {\n        vertical-align: middle;\n    }\n\n    .dataframe tbody tr th {\n        vertical-align: top;\n    }\n\n    .dataframe thead th {\n        text-align: right;\n    }\n</style>\n<table border=\"1\" class=\"dataframe\">\n  <thead>\n    <tr style=\"text-align: right;\">\n      <th></th>\n      <th></th>\n      <th></th>\n      <th></th>\n      <th></th>\n      <th>max</th>\n    </tr>\n    <tr>\n      <th>ORGANIZATION_TYPE</th>\n      <th>NAME_EDUCATION_TYPE</th>\n      <th>OCCUPATION_TYPE</th>\n      <th>AGE_RANGE</th>\n      <th>CODE_GENDER</th>\n      <th></th>\n    </tr>\n  </thead>\n  <tbody>\n    <tr>\n      <th rowspan=\"5\" valign=\"top\">Advertising</th>\n      <th rowspan=\"5\" valign=\"top\">Higher education</th>\n      <th rowspan=\"2\" valign=\"top\">Accountants</th>\n      <th>2</th>\n      <th>F</th>\n      <td>0.633830</td>\n    </tr>\n    <tr>\n      <th>3</th>\n      <th>F</th>\n      <td>0.624797</td>\n    </tr>\n    <tr>\n      <th>Cleaning staff</th>\n      <th>4</th>\n      <th>F</th>\n      <td>0.499534</td>\n    </tr>\n    <tr>\n      <th rowspan=\"2\" valign=\"top\">Core staff</th>\n      <th>1</th>\n      <th>F</th>\n      <td>0.626520</td>\n    </tr>\n    <tr>\n      <th>2</th>\n      <th>F</th>\n      <td>0.663931</td>\n    </tr>\n    <tr>\n      <th>...</th>\n      <th>...</th>\n      <th>...</th>\n      <th>...</th>\n      <th>...</th>\n      <td>...</td>\n    </tr>\n    <tr>\n      <th rowspan=\"5\" valign=\"top\">University</th>\n      <th rowspan=\"5\" valign=\"top\">Secondary / secondary special</th>\n      <th>Medicine staff</th>\n      <th>4</th>\n      <th>F</th>\n      <td>0.632774</td>\n    </tr>\n    <tr>\n      <th rowspan=\"2\" valign=\"top\">Security staff</th>\n      <th>3</th>\n      <th>F</th>\n      <td>0.679975</td>\n    </tr>\n    <tr>\n      <th>4</th>\n      <th>F</th>\n      <td>0.649977</td>\n    </tr>\n    <tr>\n      <th rowspan=\"2\" valign=\"top\">Waiters/barmen staff</th>\n      <th>3</th>\n      <th>F</th>\n      <td>0.576553</td>\n    </tr>\n    <tr>\n      <th>4</th>\n      <th>F</th>\n      <td>0.382108</td>\n    </tr>\n  </tbody>\n</table>\n<p>4727 rows × 1 columns</p>\n</div>"
     },
     "execution_count": 218,
     "metadata": {},
     "output_type": "execute_result"
    }
   ],
   "source": [
    "# 이름을 변경할 때 사전과함께 사용 중단\n",
    "\n",
    "#https://stackoverflow.com/questions/60229375/solution-for-specificationerror-nested-renamer-is-not-supported-while-agg-alo\n",
    "df[group_cols+[counted]].groupby(group_cols)[counted].agg(max='max')"
   ],
   "metadata": {
    "collapsed": false,
    "pycharm": {
     "name": "#%%\n"
    }
   }
  },
  {
   "cell_type": "code",
   "execution_count": null,
   "outputs": [],
   "source": [],
   "metadata": {
    "collapsed": false,
    "pycharm": {
     "name": "#%%\n"
    }
   }
  },
  {
   "cell_type": "code",
   "execution_count": null,
   "outputs": [],
   "source": [
    "df = do_mean(df, group, 'EXT_SOURCES_MEAN', 'GROUP_EXT_SOURCES_MEDIAN')"
   ],
   "metadata": {
    "collapsed": false,
    "pycharm": {
     "name": "#%%\n"
    }
   }
  },
  {
   "cell_type": "code",
   "execution_count": 209,
   "outputs": [],
   "source": [
    "df = do_std(df, group, 'EXT_SOURCES_MEAN', 'GROUP_EXT_SOURCES_STD')"
   ],
   "metadata": {
    "collapsed": false,
    "pycharm": {
     "name": "#%%\n"
    }
   }
  },
  {
   "cell_type": "code",
   "execution_count": 210,
   "outputs": [],
   "source": [
    "df = do_mean(df, group, 'AMT_INCOME_TOTAL', 'GROUP_INCOME_MEAN')"
   ],
   "metadata": {
    "collapsed": false,
    "pycharm": {
     "name": "#%%\n"
    }
   }
  },
  {
   "cell_type": "code",
   "execution_count": 211,
   "outputs": [],
   "source": [
    "df = do_std(df, group, 'AMT_INCOME_TOTAL', 'GROUP_INCOME_STD')\n",
    "df = do_mean(df, group, 'CREDIT_TO_ANNUITY_RATIO', 'GROUP_CREDIT_TO_ANNUITY_MEAN')\n",
    "df = do_std(df, group, 'CREDIT_TO_ANNUITY_RATIO', 'GROUP_CREDIT_TO_ANNUITY_STD')\n",
    "df = do_mean(df, group, 'AMT_CREDIT', 'GROUP_CREDIT_MEAN')\n",
    "df = do_mean(df, group, 'AMT_ANNUITY', 'GROUP_ANNUITY_MEAN')\n",
    "df = do_std(df, group, 'AMT_ANNUITY', 'GROUP_ANNUITY_STD')"
   ],
   "metadata": {
    "collapsed": false,
    "pycharm": {
     "name": "#%%\n"
    }
   }
  },
  {
   "cell_type": "code",
   "execution_count": 230,
   "outputs": [],
   "source": [
    "df = drop_application_columns(df )"
   ],
   "metadata": {
    "collapsed": false,
    "pycharm": {
     "name": "#%%\n"
    }
   }
  },
  {
   "cell_type": "code",
   "execution_count": 233,
   "outputs": [],
   "source": [
    "def one_hot_encoder(df, categorical_columns=None, nan_as_category=True):\n",
    "    \"\"\"Create a new column for each categorical value in categorical columns. \"\"\"\n",
    "    original_columns = list(df.columns)\n",
    "    if not categorical_columns:\n",
    "        categorical_columns = [col for col in df.columns if df[col].dtype == 'object']\n",
    "    # nan value 를 남기는 NAN_as_Category lgbm은 nan 데이터를 무시하고 학습하고 null을 활용함 lgbm은\n",
    "    # get_dummy encoding\n",
    "    df = pd.get_dummies(df, columns=categorical_columns, dummy_na=nan_as_category)\n",
    "    categorical_columns = [c for c in df.columns if c not in original_columns]\n",
    "    return df, categorical_columns"
   ],
   "metadata": {
    "collapsed": false,
    "pycharm": {
     "name": "#%%\n"
    }
   }
  },
  {
   "cell_type": "code",
   "execution_count": 262,
   "outputs": [],
   "source": [
    "def get_bureau_balance(path, num_rows= None):\n",
    "    bb = pd.read_csv(os.path.join(path, 'bureau_balance.csv'), nrows= num_rows)\n",
    "    bb, categorical_cols = one_hot_encoder(bb, nan_as_category= False)\n",
    "    # Calculate rate for each category with decay\n",
    "    bb_processed = bb.groupby('SK_ID_BUREAU')[categorical_cols].mean().reset_index()\n",
    "    # Min, Max, Count and mean duration of payments (months)\n",
    "    agg = {'MONTHS_BALANCE': ['min', 'max', 'mean', 'size']}\n",
    "    bb_processed = group_and_merge(bb, bb_processed, '', agg, 'SK_ID_BUREAU')\n",
    "    del bb; gc.collect()\n",
    "    return bb_processed"
   ],
   "metadata": {
    "collapsed": false,
    "pycharm": {
     "name": "#%%\n"
    }
   }
  },
  {
   "cell_type": "code",
   "execution_count": 283,
   "outputs": [
    {
     "data": {
      "text/plain": "       SK_ID_BUREAU  MONTHS_BALANCE  STATUS_0  STATUS_1  STATUS_2  STATUS_3  \\\n0           5715448               0         0         0         0         0   \n1           5715448              -1         0         0         0         0   \n2           5715448              -2         0         0         0         0   \n3           5715448              -3         0         0         0         0   \n4           5715448              -4         0         0         0         0   \n...             ...             ...       ...       ...       ...       ...   \n29995       5230723             -24         0         0         0         0   \n29996       5230723             -25         0         0         0         0   \n29997       5230723             -26         0         0         0         0   \n29998       5230723             -27         0         0         0         0   \n29999       5230723             -28         0         0         0         0   \n\n       STATUS_4  STATUS_5  STATUS_C  STATUS_X  \n0             0         0         1         0  \n1             0         0         1         0  \n2             0         0         1         0  \n3             0         0         1         0  \n4             0         0         1         0  \n...         ...       ...       ...       ...  \n29995         0         0         1         0  \n29996         0         0         1         0  \n29997         0         0         1         0  \n29998         0         0         1         0  \n29999         0         0         1         0  \n\n[30000 rows x 10 columns]",
      "text/html": "<div>\n<style scoped>\n    .dataframe tbody tr th:only-of-type {\n        vertical-align: middle;\n    }\n\n    .dataframe tbody tr th {\n        vertical-align: top;\n    }\n\n    .dataframe thead th {\n        text-align: right;\n    }\n</style>\n<table border=\"1\" class=\"dataframe\">\n  <thead>\n    <tr style=\"text-align: right;\">\n      <th></th>\n      <th>SK_ID_BUREAU</th>\n      <th>MONTHS_BALANCE</th>\n      <th>STATUS_0</th>\n      <th>STATUS_1</th>\n      <th>STATUS_2</th>\n      <th>STATUS_3</th>\n      <th>STATUS_4</th>\n      <th>STATUS_5</th>\n      <th>STATUS_C</th>\n      <th>STATUS_X</th>\n    </tr>\n  </thead>\n  <tbody>\n    <tr>\n      <th>0</th>\n      <td>5715448</td>\n      <td>0</td>\n      <td>0</td>\n      <td>0</td>\n      <td>0</td>\n      <td>0</td>\n      <td>0</td>\n      <td>0</td>\n      <td>1</td>\n      <td>0</td>\n    </tr>\n    <tr>\n      <th>1</th>\n      <td>5715448</td>\n      <td>-1</td>\n      <td>0</td>\n      <td>0</td>\n      <td>0</td>\n      <td>0</td>\n      <td>0</td>\n      <td>0</td>\n      <td>1</td>\n      <td>0</td>\n    </tr>\n    <tr>\n      <th>2</th>\n      <td>5715448</td>\n      <td>-2</td>\n      <td>0</td>\n      <td>0</td>\n      <td>0</td>\n      <td>0</td>\n      <td>0</td>\n      <td>0</td>\n      <td>1</td>\n      <td>0</td>\n    </tr>\n    <tr>\n      <th>3</th>\n      <td>5715448</td>\n      <td>-3</td>\n      <td>0</td>\n      <td>0</td>\n      <td>0</td>\n      <td>0</td>\n      <td>0</td>\n      <td>0</td>\n      <td>1</td>\n      <td>0</td>\n    </tr>\n    <tr>\n      <th>4</th>\n      <td>5715448</td>\n      <td>-4</td>\n      <td>0</td>\n      <td>0</td>\n      <td>0</td>\n      <td>0</td>\n      <td>0</td>\n      <td>0</td>\n      <td>1</td>\n      <td>0</td>\n    </tr>\n    <tr>\n      <th>...</th>\n      <td>...</td>\n      <td>...</td>\n      <td>...</td>\n      <td>...</td>\n      <td>...</td>\n      <td>...</td>\n      <td>...</td>\n      <td>...</td>\n      <td>...</td>\n      <td>...</td>\n    </tr>\n    <tr>\n      <th>29995</th>\n      <td>5230723</td>\n      <td>-24</td>\n      <td>0</td>\n      <td>0</td>\n      <td>0</td>\n      <td>0</td>\n      <td>0</td>\n      <td>0</td>\n      <td>1</td>\n      <td>0</td>\n    </tr>\n    <tr>\n      <th>29996</th>\n      <td>5230723</td>\n      <td>-25</td>\n      <td>0</td>\n      <td>0</td>\n      <td>0</td>\n      <td>0</td>\n      <td>0</td>\n      <td>0</td>\n      <td>1</td>\n      <td>0</td>\n    </tr>\n    <tr>\n      <th>29997</th>\n      <td>5230723</td>\n      <td>-26</td>\n      <td>0</td>\n      <td>0</td>\n      <td>0</td>\n      <td>0</td>\n      <td>0</td>\n      <td>0</td>\n      <td>1</td>\n      <td>0</td>\n    </tr>\n    <tr>\n      <th>29998</th>\n      <td>5230723</td>\n      <td>-27</td>\n      <td>0</td>\n      <td>0</td>\n      <td>0</td>\n      <td>0</td>\n      <td>0</td>\n      <td>0</td>\n      <td>1</td>\n      <td>0</td>\n    </tr>\n    <tr>\n      <th>29999</th>\n      <td>5230723</td>\n      <td>-28</td>\n      <td>0</td>\n      <td>0</td>\n      <td>0</td>\n      <td>0</td>\n      <td>0</td>\n      <td>0</td>\n      <td>1</td>\n      <td>0</td>\n    </tr>\n  </tbody>\n</table>\n<p>30000 rows × 10 columns</p>\n</div>"
     },
     "execution_count": 283,
     "metadata": {},
     "output_type": "execute_result"
    }
   ],
   "source": [],
   "metadata": {
    "collapsed": false,
    "pycharm": {
     "name": "#%%\n"
    }
   }
  },
  {
   "cell_type": "code",
   "execution_count": null,
   "outputs": [],
   "source": [
    "bb"
   ],
   "metadata": {
    "collapsed": false,
    "pycharm": {
     "name": "#%%\n"
    }
   }
  },
  {
   "cell_type": "code",
   "execution_count": null,
   "outputs": [],
   "source": [
    "bb.groupby('SK_ID').agg(agg)"
   ],
   "metadata": {
    "collapsed": false,
    "pycharm": {
     "name": "#%%\n"
    }
   }
  },
  {
   "cell_type": "code",
   "execution_count": null,
   "outputs": [],
   "source": [
    "def group(df_to_agg, prefix, aggregations, aggregate_by= 'SK_ID_CURR'):\n",
    "    agg_df = df_to_agg.groupby(aggregate_by).agg(aggregations)\n",
    "    agg_df.columns = pd.Index(['{}{}_{}'.format(prefix, e[0], e[1].upper())\n",
    "                               for e in agg_df.columns.tolist()])\n",
    "    return agg_df.reset_index()"
   ],
   "metadata": {
    "collapsed": false,
    "pycharm": {
     "name": "#%%\n"
    }
   }
  },
  {
   "cell_type": "code",
   "execution_count": null,
   "outputs": [],
   "source": [],
   "metadata": {
    "collapsed": false,
    "pycharm": {
     "name": "#%%\n"
    }
   }
  },
  {
   "cell_type": "code",
   "execution_count": null,
   "outputs": [],
   "source": [
    "groups = group"
   ],
   "metadata": {
    "collapsed": false,
    "pycharm": {
     "name": "#%%\n"
    }
   }
  },
  {
   "cell_type": "code",
   "execution_count": 273,
   "outputs": [],
   "source": [
    "del group"
   ],
   "metadata": {
    "collapsed": false,
    "pycharm": {
     "name": "#%%\n"
    }
   }
  },
  {
   "cell_type": "code",
   "execution_count": 274,
   "outputs": [],
   "source": [
    "def group_and_merge(df_to_agg, df_to_merge, prefix, aggregations, aggregate_by= 'SK_ID_CURR'):\n",
    "    agg_df = group(df_to_agg, prefix, aggregations, aggregate_by= aggregate_by)\n",
    "    return df_to_merge.merge(agg_df, how='left', on= aggregate_by)"
   ],
   "metadata": {
    "collapsed": false,
    "pycharm": {
     "name": "#%%\n"
    }
   }
  },
  {
   "cell_type": "code",
   "execution_count": 339,
   "outputs": [],
   "source": [
    "\n",
    "BUREAU_TIME_AGG = {\n",
    "    'AMT_CREDIT_MAX_OVERDUE': ['max', 'mean'],\n",
    "    'AMT_CREDIT_SUM_OVERDUE': ['mean'],\n",
    "    'AMT_CREDIT_SUM': ['max', 'sum'],\n",
    "    'AMT_CREDIT_SUM_DEBT': ['mean', 'sum'],\n",
    "    'DEBT_PERCENTAGE': ['mean'],\n",
    "    'DEBT_CREDIT_DIFF': ['mean'],\n",
    "    'STATUS_0': ['mean'],\n",
    "    'STATUS_12345': ['mean'],\n",
    "}"
   ],
   "metadata": {
    "collapsed": false,
    "pycharm": {
     "name": "#%%\n"
    }
   }
  },
  {
   "cell_type": "code",
   "execution_count": 340,
   "outputs": [],
   "source": [
    "# Time_based aggregation\n",
    "\n",
    "# Time based aggregations: last x months\n",
    "# 최근 6달 혹은 12개월 안쪽의 데이터 추출\n",
    "for time_frame in [6, 12]:\n",
    "    prefix = \"BUREAU_LAST{}M_\".format(time_frame)\n",
    "    time_frame_df = bureau[bureau['DAYS_CREDIT'] >= -30*time_frame]\n",
    "    agg_bureau = group_and_merge(time_frame_df, agg_bureau, prefix, BUREAU_TIME_AGG)\n",
    "    del time_frame_df; gc.collect()"
   ],
   "metadata": {
    "collapsed": false,
    "pycharm": {
     "name": "#%%\n"
    }
   }
  },
  {
   "cell_type": "code",
   "execution_count": 344,
   "outputs": [],
   "source": [],
   "metadata": {
    "collapsed": false,
    "pycharm": {
     "name": "#%%\n"
    }
   }
  },
  {
   "cell_type": "code",
   "execution_count": null,
   "outputs": [],
   "source": [
    "# last loan max overdue\n",
    "# 가장 최근 최대 대출 기한 feature 들을 뽑아내는 능력\n",
    "sort_bureau = bureau.sort_values(by='DAYS_CREDIT')"
   ],
   "metadata": {
    "collapsed": false,
    "pycharm": {
     "name": "#%%\n"
    }
   }
  },
  {
   "cell_type": "code",
   "execution_count": null,
   "outputs": [],
   "source": [
    "gr = sort_bureau.groupby('SK_ID_CURR')['AMT_CREDIT_MAX_OVERDUE'].last().reset_index()"
   ],
   "metadata": {
    "collapsed": false,
    "pycharm": {
     "name": "#%%\n"
    }
   }
  },
  {
   "cell_type": "code",
   "execution_count": 349,
   "outputs": [
    {
     "data": {
      "text/plain": "SK_ID_CURR\n100053          NaN\n100312          NaN\n100320        0.000\n100430          NaN\n100568     8178.885\n            ...    \n456114          NaN\n456116        0.000\n456179        0.000\n456181        0.000\n456247    15997.410\nName: AMT_CREDIT_MAX_OVERDUE, Length: 6076, dtype: float64"
     },
     "execution_count": 349,
     "metadata": {},
     "output_type": "execute_result"
    }
   ],
   "source": [
    "sort_bureau.groupby('SK_ID_CURR')['AMT_CREDIT_MAX_OVERDUE'].last()"
   ],
   "metadata": {
    "collapsed": false,
    "pycharm": {
     "name": "#%%\n"
    }
   }
  },
  {
   "cell_type": "code",
   "execution_count": null,
   "outputs": [],
   "source": [],
   "metadata": {
    "collapsed": false,
    "pycharm": {
     "name": "#%%\n"
    }
   }
  },
  {
   "cell_type": "code",
   "execution_count": null,
   "outputs": [],
   "source": [
    "gr.rename({'AMT_CREDIT_MAX_OVERDUE': 'BUREAU_LAST_LOAN_MAX_OVERDUE'}, inplace=True)\n",
    "\n",
    "agg_bureau = agg_bureau.merge(gr, on='SK_ID_CURR', how='left')"
   ],
   "metadata": {
    "collapsed": false,
    "pycharm": {
     "name": "#%%\n"
    }
   }
  },
  {
   "cell_type": "code",
   "execution_count": 348,
   "outputs": [],
   "source": [
    "agg_bureau['BUREAU_DEBT_OVER_CREDIT'] = \\\n",
    "        agg_bureau['BUREAU_AMT_CREDIT_SUM_DEBT_SUM']/agg_bureau['BUREAU_AMT_CREDIT_SUM_SUM']\n",
    "agg_bureau['BUREAU_ACTIVE_DEBT_OVER_CREDIT'] = \\\n",
    "    agg_bureau['BUREAU_ACTIVE_AMT_CREDIT_SUM_DEBT_SUM']/agg_bureau['BUREAU_ACTIVE_AMT_CREDIT_SUM_SUM']"
   ],
   "metadata": {
    "collapsed": false,
    "pycharm": {
     "name": "#%%\n"
    }
   }
  },
  {
   "cell_type": "code",
   "execution_count": null,
   "outputs": [],
   "source": [],
   "metadata": {
    "collapsed": false,
    "pycharm": {
     "name": "#%%\n"
    }
   }
  },
  {
   "cell_type": "code",
   "execution_count": 292,
   "outputs": [],
   "source": [
    "bureau['STATUS_12345'] = 0\n",
    "for i in range(1,6):\n",
    "    bureau['STATUS_12345'] += bureau['STATUS_{}'.format(i)]"
   ],
   "metadata": {
    "collapsed": false,
    "pycharm": {
     "name": "#%%\n"
    }
   }
  },
  {
   "cell_type": "code",
   "execution_count": 293,
   "outputs": [
    {
     "data": {
      "text/plain": "       SK_ID_CURR  SK_ID_BUREAU  DAYS_CREDIT  CREDIT_DAY_OVERDUE  \\\n0          215354       5714462         -497                   0   \n1          215354       5714463         -208                   0   \n2          215354       5714464         -203                   0   \n3          215354       5714465         -203                   0   \n4          215354       5714466         -629                   0   \n...           ...           ...          ...                 ...   \n29995      245832       5800005         -245                   0   \n29996      245832       5800006         -287                   0   \n29997      245832       5800008         -175                   0   \n29998      245832       5800009         -158                   0   \n29999      206696       5800010         -633                   0   \n\n       DAYS_CREDIT_ENDDATE  DAYS_ENDDATE_FACT  AMT_CREDIT_MAX_OVERDUE  \\\n0                   -153.0             -153.0                     NaN   \n1                   1075.0                NaN                     NaN   \n2                    528.0                NaN                     NaN   \n3                      NaN                NaN                     NaN   \n4                   1197.0                NaN                 77674.5   \n...                    ...                ...                     ...   \n29995               -232.0             -188.0                     NaN   \n29996               -274.0             -188.0                     NaN   \n29997               -162.0                NaN                     NaN   \n29998               1387.0                NaN                     NaN   \n29999                465.0                NaN                     NaN   \n\n       CNT_CREDIT_PROLONG  AMT_CREDIT_SUM  AMT_CREDIT_SUM_DEBT  ...  STATUS_3  \\\n0                       0         91323.0                  0.0  ...       NaN   \n1                       0        225000.0             171342.0  ...       NaN   \n2                       0        464323.5                  NaN  ...       NaN   \n3                       0         90000.0                  NaN  ...       NaN   \n4                       0       2700000.0                  NaN  ...       NaN   \n...                   ...             ...                  ...  ...       ...   \n29995                   0         31500.0                  NaN  ...       NaN   \n29996                   0         45000.0                  NaN  ...       NaN   \n29997                   0         31090.5                  NaN  ...       NaN   \n29998                   0         67500.0              70389.0  ...       NaN   \n29999                   0        225000.0                  NaN  ...       NaN   \n\n       STATUS_4  STATUS_5  STATUS_C  STATUS_X  MONTHS_BALANCE_MIN  \\\n0           NaN       NaN       NaN       NaN                 NaN   \n1           NaN       NaN       NaN       NaN                 NaN   \n2           NaN       NaN       NaN       NaN                 NaN   \n3           NaN       NaN       NaN       NaN                 NaN   \n4           NaN       NaN       NaN       NaN                 NaN   \n...         ...       ...       ...       ...                 ...   \n29995       NaN       NaN       NaN       NaN                 NaN   \n29996       NaN       NaN       NaN       NaN                 NaN   \n29997       NaN       NaN       NaN       NaN                 NaN   \n29998       NaN       NaN       NaN       NaN                 NaN   \n29999       NaN       NaN       NaN       NaN                 NaN   \n\n       MONTHS_BALANCE_MAX  MONTHS_BALANCE_MEAN  MONTHS_BALANCE_SIZE  \\\n0                     NaN                  NaN                  NaN   \n1                     NaN                  NaN                  NaN   \n2                     NaN                  NaN                  NaN   \n3                     NaN                  NaN                  NaN   \n4                     NaN                  NaN                  NaN   \n...                   ...                  ...                  ...   \n29995                 NaN                  NaN                  NaN   \n29996                 NaN                  NaN                  NaN   \n29997                 NaN                  NaN                  NaN   \n29998                 NaN                  NaN                  NaN   \n29999                 NaN                  NaN                  NaN   \n\n       STATUS_12345  \n0               NaN  \n1               NaN  \n2               NaN  \n3               NaN  \n4               NaN  \n...             ...  \n29995           NaN  \n29996           NaN  \n29997           NaN  \n29998           NaN  \n29999           NaN  \n\n[30000 rows x 45 columns]",
      "text/html": "<div>\n<style scoped>\n    .dataframe tbody tr th:only-of-type {\n        vertical-align: middle;\n    }\n\n    .dataframe tbody tr th {\n        vertical-align: top;\n    }\n\n    .dataframe thead th {\n        text-align: right;\n    }\n</style>\n<table border=\"1\" class=\"dataframe\">\n  <thead>\n    <tr style=\"text-align: right;\">\n      <th></th>\n      <th>SK_ID_CURR</th>\n      <th>SK_ID_BUREAU</th>\n      <th>DAYS_CREDIT</th>\n      <th>CREDIT_DAY_OVERDUE</th>\n      <th>DAYS_CREDIT_ENDDATE</th>\n      <th>DAYS_ENDDATE_FACT</th>\n      <th>AMT_CREDIT_MAX_OVERDUE</th>\n      <th>CNT_CREDIT_PROLONG</th>\n      <th>AMT_CREDIT_SUM</th>\n      <th>AMT_CREDIT_SUM_DEBT</th>\n      <th>...</th>\n      <th>STATUS_3</th>\n      <th>STATUS_4</th>\n      <th>STATUS_5</th>\n      <th>STATUS_C</th>\n      <th>STATUS_X</th>\n      <th>MONTHS_BALANCE_MIN</th>\n      <th>MONTHS_BALANCE_MAX</th>\n      <th>MONTHS_BALANCE_MEAN</th>\n      <th>MONTHS_BALANCE_SIZE</th>\n      <th>STATUS_12345</th>\n    </tr>\n  </thead>\n  <tbody>\n    <tr>\n      <th>0</th>\n      <td>215354</td>\n      <td>5714462</td>\n      <td>-497</td>\n      <td>0</td>\n      <td>-153.0</td>\n      <td>-153.0</td>\n      <td>NaN</td>\n      <td>0</td>\n      <td>91323.0</td>\n      <td>0.0</td>\n      <td>...</td>\n      <td>NaN</td>\n      <td>NaN</td>\n      <td>NaN</td>\n      <td>NaN</td>\n      <td>NaN</td>\n      <td>NaN</td>\n      <td>NaN</td>\n      <td>NaN</td>\n      <td>NaN</td>\n      <td>NaN</td>\n    </tr>\n    <tr>\n      <th>1</th>\n      <td>215354</td>\n      <td>5714463</td>\n      <td>-208</td>\n      <td>0</td>\n      <td>1075.0</td>\n      <td>NaN</td>\n      <td>NaN</td>\n      <td>0</td>\n      <td>225000.0</td>\n      <td>171342.0</td>\n      <td>...</td>\n      <td>NaN</td>\n      <td>NaN</td>\n      <td>NaN</td>\n      <td>NaN</td>\n      <td>NaN</td>\n      <td>NaN</td>\n      <td>NaN</td>\n      <td>NaN</td>\n      <td>NaN</td>\n      <td>NaN</td>\n    </tr>\n    <tr>\n      <th>2</th>\n      <td>215354</td>\n      <td>5714464</td>\n      <td>-203</td>\n      <td>0</td>\n      <td>528.0</td>\n      <td>NaN</td>\n      <td>NaN</td>\n      <td>0</td>\n      <td>464323.5</td>\n      <td>NaN</td>\n      <td>...</td>\n      <td>NaN</td>\n      <td>NaN</td>\n      <td>NaN</td>\n      <td>NaN</td>\n      <td>NaN</td>\n      <td>NaN</td>\n      <td>NaN</td>\n      <td>NaN</td>\n      <td>NaN</td>\n      <td>NaN</td>\n    </tr>\n    <tr>\n      <th>3</th>\n      <td>215354</td>\n      <td>5714465</td>\n      <td>-203</td>\n      <td>0</td>\n      <td>NaN</td>\n      <td>NaN</td>\n      <td>NaN</td>\n      <td>0</td>\n      <td>90000.0</td>\n      <td>NaN</td>\n      <td>...</td>\n      <td>NaN</td>\n      <td>NaN</td>\n      <td>NaN</td>\n      <td>NaN</td>\n      <td>NaN</td>\n      <td>NaN</td>\n      <td>NaN</td>\n      <td>NaN</td>\n      <td>NaN</td>\n      <td>NaN</td>\n    </tr>\n    <tr>\n      <th>4</th>\n      <td>215354</td>\n      <td>5714466</td>\n      <td>-629</td>\n      <td>0</td>\n      <td>1197.0</td>\n      <td>NaN</td>\n      <td>77674.5</td>\n      <td>0</td>\n      <td>2700000.0</td>\n      <td>NaN</td>\n      <td>...</td>\n      <td>NaN</td>\n      <td>NaN</td>\n      <td>NaN</td>\n      <td>NaN</td>\n      <td>NaN</td>\n      <td>NaN</td>\n      <td>NaN</td>\n      <td>NaN</td>\n      <td>NaN</td>\n      <td>NaN</td>\n    </tr>\n    <tr>\n      <th>...</th>\n      <td>...</td>\n      <td>...</td>\n      <td>...</td>\n      <td>...</td>\n      <td>...</td>\n      <td>...</td>\n      <td>...</td>\n      <td>...</td>\n      <td>...</td>\n      <td>...</td>\n      <td>...</td>\n      <td>...</td>\n      <td>...</td>\n      <td>...</td>\n      <td>...</td>\n      <td>...</td>\n      <td>...</td>\n      <td>...</td>\n      <td>...</td>\n      <td>...</td>\n      <td>...</td>\n    </tr>\n    <tr>\n      <th>29995</th>\n      <td>245832</td>\n      <td>5800005</td>\n      <td>-245</td>\n      <td>0</td>\n      <td>-232.0</td>\n      <td>-188.0</td>\n      <td>NaN</td>\n      <td>0</td>\n      <td>31500.0</td>\n      <td>NaN</td>\n      <td>...</td>\n      <td>NaN</td>\n      <td>NaN</td>\n      <td>NaN</td>\n      <td>NaN</td>\n      <td>NaN</td>\n      <td>NaN</td>\n      <td>NaN</td>\n      <td>NaN</td>\n      <td>NaN</td>\n      <td>NaN</td>\n    </tr>\n    <tr>\n      <th>29996</th>\n      <td>245832</td>\n      <td>5800006</td>\n      <td>-287</td>\n      <td>0</td>\n      <td>-274.0</td>\n      <td>-188.0</td>\n      <td>NaN</td>\n      <td>0</td>\n      <td>45000.0</td>\n      <td>NaN</td>\n      <td>...</td>\n      <td>NaN</td>\n      <td>NaN</td>\n      <td>NaN</td>\n      <td>NaN</td>\n      <td>NaN</td>\n      <td>NaN</td>\n      <td>NaN</td>\n      <td>NaN</td>\n      <td>NaN</td>\n      <td>NaN</td>\n    </tr>\n    <tr>\n      <th>29997</th>\n      <td>245832</td>\n      <td>5800008</td>\n      <td>-175</td>\n      <td>0</td>\n      <td>-162.0</td>\n      <td>NaN</td>\n      <td>NaN</td>\n      <td>0</td>\n      <td>31090.5</td>\n      <td>NaN</td>\n      <td>...</td>\n      <td>NaN</td>\n      <td>NaN</td>\n      <td>NaN</td>\n      <td>NaN</td>\n      <td>NaN</td>\n      <td>NaN</td>\n      <td>NaN</td>\n      <td>NaN</td>\n      <td>NaN</td>\n      <td>NaN</td>\n    </tr>\n    <tr>\n      <th>29998</th>\n      <td>245832</td>\n      <td>5800009</td>\n      <td>-158</td>\n      <td>0</td>\n      <td>1387.0</td>\n      <td>NaN</td>\n      <td>NaN</td>\n      <td>0</td>\n      <td>67500.0</td>\n      <td>70389.0</td>\n      <td>...</td>\n      <td>NaN</td>\n      <td>NaN</td>\n      <td>NaN</td>\n      <td>NaN</td>\n      <td>NaN</td>\n      <td>NaN</td>\n      <td>NaN</td>\n      <td>NaN</td>\n      <td>NaN</td>\n      <td>NaN</td>\n    </tr>\n    <tr>\n      <th>29999</th>\n      <td>206696</td>\n      <td>5800010</td>\n      <td>-633</td>\n      <td>0</td>\n      <td>465.0</td>\n      <td>NaN</td>\n      <td>NaN</td>\n      <td>0</td>\n      <td>225000.0</td>\n      <td>NaN</td>\n      <td>...</td>\n      <td>NaN</td>\n      <td>NaN</td>\n      <td>NaN</td>\n      <td>NaN</td>\n      <td>NaN</td>\n      <td>NaN</td>\n      <td>NaN</td>\n      <td>NaN</td>\n      <td>NaN</td>\n      <td>NaN</td>\n    </tr>\n  </tbody>\n</table>\n<p>30000 rows × 45 columns</p>\n</div>"
     },
     "execution_count": 293,
     "metadata": {},
     "output_type": "execute_result"
    }
   ],
   "source": [],
   "metadata": {
    "collapsed": false,
    "pycharm": {
     "name": "#%%\n"
    }
   }
  },
  {
   "cell_type": "code",
   "execution_count": 294,
   "outputs": [],
   "source": [
    "# Aggregate by number of months in balance and merge with bureau (loan length agg)\n",
    "features = ['AMT_CREDIT_MAX_OVERDUE', 'AMT_CREDIT_SUM_OVERDUE', 'AMT_CREDIT_SUM',\n",
    "    'AMT_CREDIT_SUM_DEBT', 'DEBT_PERCENTAGE', 'DEBT_CREDIT_DIFF', 'STATUS_0', 'STATUS_12345']"
   ],
   "metadata": {
    "collapsed": false,
    "pycharm": {
     "name": "#%%\n"
    }
   }
  },
  {
   "cell_type": "code",
   "execution_count": 295,
   "outputs": [
    {
     "ename": "KeyError",
     "evalue": "\"Columns not found: 'DEBT_CREDIT_DIFF', 'DEBT_PERCENTAGE'\"",
     "output_type": "error",
     "traceback": [
      "\u001B[0;31m---------------------------------------------------------------------------\u001B[0m",
      "\u001B[0;31mKeyError\u001B[0m                                  Traceback (most recent call last)",
      "\u001B[0;32m/var/folders/c6/2j22b1rd02778st12c0mcr3w0000gn/T/ipykernel_71814/31440556.py\u001B[0m in \u001B[0;36m<module>\u001B[0;34m\u001B[0m\n\u001B[0;32m----> 1\u001B[0;31m \u001B[0magg_length\u001B[0m \u001B[0;34m=\u001B[0m \u001B[0mbureau\u001B[0m\u001B[0;34m.\u001B[0m\u001B[0mgroupby\u001B[0m\u001B[0;34m(\u001B[0m\u001B[0;34m'MONTHS_BALANCE_SIZE'\u001B[0m\u001B[0;34m)\u001B[0m\u001B[0;34m[\u001B[0m\u001B[0mfeatures\u001B[0m\u001B[0;34m]\u001B[0m\u001B[0;34m.\u001B[0m\u001B[0mmean\u001B[0m\u001B[0;34m(\u001B[0m\u001B[0;34m)\u001B[0m\u001B[0;34m.\u001B[0m\u001B[0mreset_index\u001B[0m\u001B[0;34m(\u001B[0m\u001B[0;34m)\u001B[0m\u001B[0;34m\u001B[0m\u001B[0;34m\u001B[0m\u001B[0m\n\u001B[0m",
      "\u001B[0;32m~/PycharmProjects/pythonProject/Kaggle/venv/lib/python3.8/site-packages/pandas/core/groupby/generic.py\u001B[0m in \u001B[0;36m__getitem__\u001B[0;34m(self, key)\u001B[0m\n\u001B[1;32m   1536\u001B[0m                 \u001B[0mstacklevel\u001B[0m\u001B[0;34m=\u001B[0m\u001B[0;36m2\u001B[0m\u001B[0;34m,\u001B[0m\u001B[0;34m\u001B[0m\u001B[0;34m\u001B[0m\u001B[0m\n\u001B[1;32m   1537\u001B[0m             )\n\u001B[0;32m-> 1538\u001B[0;31m         \u001B[0;32mreturn\u001B[0m \u001B[0msuper\u001B[0m\u001B[0;34m(\u001B[0m\u001B[0;34m)\u001B[0m\u001B[0;34m.\u001B[0m\u001B[0m__getitem__\u001B[0m\u001B[0;34m(\u001B[0m\u001B[0mkey\u001B[0m\u001B[0;34m)\u001B[0m\u001B[0;34m\u001B[0m\u001B[0;34m\u001B[0m\u001B[0m\n\u001B[0m\u001B[1;32m   1539\u001B[0m \u001B[0;34m\u001B[0m\u001B[0m\n\u001B[1;32m   1540\u001B[0m     \u001B[0;32mdef\u001B[0m \u001B[0m_gotitem\u001B[0m\u001B[0;34m(\u001B[0m\u001B[0mself\u001B[0m\u001B[0;34m,\u001B[0m \u001B[0mkey\u001B[0m\u001B[0;34m,\u001B[0m \u001B[0mndim\u001B[0m\u001B[0;34m:\u001B[0m \u001B[0mint\u001B[0m\u001B[0;34m,\u001B[0m \u001B[0msubset\u001B[0m\u001B[0;34m=\u001B[0m\u001B[0;32mNone\u001B[0m\u001B[0;34m)\u001B[0m\u001B[0;34m:\u001B[0m\u001B[0;34m\u001B[0m\u001B[0;34m\u001B[0m\u001B[0m\n",
      "\u001B[0;32m~/PycharmProjects/pythonProject/Kaggle/venv/lib/python3.8/site-packages/pandas/core/base.py\u001B[0m in \u001B[0;36m__getitem__\u001B[0;34m(self, key)\u001B[0m\n\u001B[1;32m    220\u001B[0m             \u001B[0;32mif\u001B[0m \u001B[0mlen\u001B[0m\u001B[0;34m(\u001B[0m\u001B[0mself\u001B[0m\u001B[0;34m.\u001B[0m\u001B[0mobj\u001B[0m\u001B[0;34m.\u001B[0m\u001B[0mcolumns\u001B[0m\u001B[0;34m.\u001B[0m\u001B[0mintersection\u001B[0m\u001B[0;34m(\u001B[0m\u001B[0mkey\u001B[0m\u001B[0;34m)\u001B[0m\u001B[0;34m)\u001B[0m \u001B[0;34m!=\u001B[0m \u001B[0mlen\u001B[0m\u001B[0;34m(\u001B[0m\u001B[0mkey\u001B[0m\u001B[0;34m)\u001B[0m\u001B[0;34m:\u001B[0m\u001B[0;34m\u001B[0m\u001B[0;34m\u001B[0m\u001B[0m\n\u001B[1;32m    221\u001B[0m                 \u001B[0mbad_keys\u001B[0m \u001B[0;34m=\u001B[0m \u001B[0mlist\u001B[0m\u001B[0;34m(\u001B[0m\u001B[0mset\u001B[0m\u001B[0;34m(\u001B[0m\u001B[0mkey\u001B[0m\u001B[0;34m)\u001B[0m\u001B[0;34m.\u001B[0m\u001B[0mdifference\u001B[0m\u001B[0;34m(\u001B[0m\u001B[0mself\u001B[0m\u001B[0;34m.\u001B[0m\u001B[0mobj\u001B[0m\u001B[0;34m.\u001B[0m\u001B[0mcolumns\u001B[0m\u001B[0;34m)\u001B[0m\u001B[0;34m)\u001B[0m\u001B[0;34m\u001B[0m\u001B[0;34m\u001B[0m\u001B[0m\n\u001B[0;32m--> 222\u001B[0;31m                 \u001B[0;32mraise\u001B[0m \u001B[0mKeyError\u001B[0m\u001B[0;34m(\u001B[0m\u001B[0;34mf\"Columns not found: {str(bad_keys)[1:-1]}\"\u001B[0m\u001B[0;34m)\u001B[0m\u001B[0;34m\u001B[0m\u001B[0;34m\u001B[0m\u001B[0m\n\u001B[0m\u001B[1;32m    223\u001B[0m             \u001B[0;32mreturn\u001B[0m \u001B[0mself\u001B[0m\u001B[0;34m.\u001B[0m\u001B[0m_gotitem\u001B[0m\u001B[0;34m(\u001B[0m\u001B[0mlist\u001B[0m\u001B[0;34m(\u001B[0m\u001B[0mkey\u001B[0m\u001B[0;34m)\u001B[0m\u001B[0;34m,\u001B[0m \u001B[0mndim\u001B[0m\u001B[0;34m=\u001B[0m\u001B[0;36m2\u001B[0m\u001B[0;34m)\u001B[0m\u001B[0;34m\u001B[0m\u001B[0;34m\u001B[0m\u001B[0m\n\u001B[1;32m    224\u001B[0m \u001B[0;34m\u001B[0m\u001B[0m\n",
      "\u001B[0;31mKeyError\u001B[0m: \"Columns not found: 'DEBT_CREDIT_DIFF', 'DEBT_PERCENTAGE'\""
     ]
    }
   ],
   "source": [
    "\n",
    "bureau['CREDIT_DURATION'] = -bureau['DAYS_CREDIT'] + bureau['DAYS_CREDIT_ENDDATE']\n",
    "bureau['ENDDATE_DIF'] = bureau['DAYS_CREDIT_ENDDATE'] - bureau['DAYS_ENDDATE_FACT']\n",
    "# Credit to debt ratio and difference\n",
    "bureau['DEBT_PERCENTAGE'] = bureau['AMT_CREDIT_SUM'] / bureau['AMT_CREDIT_SUM_DEBT']\n",
    "bureau['DEBT_CREDIT_DIFF'] = bureau['AMT_CREDIT_SUM'] - bureau['AMT_CREDIT_SUM_DEBT']\n",
    "bureau['CREDIT_TO_ANNUITY_RATIO'] = bureau['AMT_CREDIT_SUM'] / bureau['AMT_ANNUITY']\n"
   ],
   "metadata": {
    "collapsed": false,
    "pycharm": {
     "name": "#%%\n"
    }
   }
  },
  {
   "cell_type": "code",
   "execution_count": 311,
   "outputs": [
    {
     "ename": "KeyError",
     "evalue": "\"Columns not found: 'AMT_CREDIT_SUM_DEBT', 'STATUS_0', 'AMT_CREDIT_SUM', 'AMT_CREDIT_MAX_OVERDUE', 'STATUS_12345', 'AMT_CREDIT_SUM_OVERDUE', 'DEBT_CREDIT_DIFF', 'DEBT_PERCENTAGE'\"",
     "output_type": "error",
     "traceback": [
      "\u001B[0;31m---------------------------------------------------------------------------\u001B[0m",
      "\u001B[0;31mKeyError\u001B[0m                                  Traceback (most recent call last)",
      "\u001B[0;32m/var/folders/c6/2j22b1rd02778st12c0mcr3w0000gn/T/ipykernel_71814/528865267.py\u001B[0m in \u001B[0;36m<module>\u001B[0;34m\u001B[0m\n\u001B[0;32m----> 1\u001B[0;31m \u001B[0magg_length\u001B[0m \u001B[0;34m=\u001B[0m \u001B[0mbureau\u001B[0m\u001B[0;34m.\u001B[0m\u001B[0mgroupby\u001B[0m\u001B[0;34m(\u001B[0m\u001B[0;34m'MONTHS_BALANCE_SIZE'\u001B[0m\u001B[0;34m)\u001B[0m\u001B[0;34m[\u001B[0m\u001B[0mfeatures\u001B[0m\u001B[0;34m]\u001B[0m\u001B[0;34m.\u001B[0m\u001B[0mmean\u001B[0m\u001B[0;34m(\u001B[0m\u001B[0;34m)\u001B[0m\u001B[0;34m.\u001B[0m\u001B[0mreset_index\u001B[0m\u001B[0;34m(\u001B[0m\u001B[0;34m)\u001B[0m\u001B[0;34m\u001B[0m\u001B[0;34m\u001B[0m\u001B[0m\n\u001B[0m",
      "\u001B[0;32m~/PycharmProjects/pythonProject/Kaggle/venv/lib/python3.8/site-packages/pandas/core/groupby/generic.py\u001B[0m in \u001B[0;36m__getitem__\u001B[0;34m(self, key)\u001B[0m\n\u001B[1;32m   1536\u001B[0m                 \u001B[0mstacklevel\u001B[0m\u001B[0;34m=\u001B[0m\u001B[0;36m2\u001B[0m\u001B[0;34m,\u001B[0m\u001B[0;34m\u001B[0m\u001B[0;34m\u001B[0m\u001B[0m\n\u001B[1;32m   1537\u001B[0m             )\n\u001B[0;32m-> 1538\u001B[0;31m         \u001B[0;32mreturn\u001B[0m \u001B[0msuper\u001B[0m\u001B[0;34m(\u001B[0m\u001B[0;34m)\u001B[0m\u001B[0;34m.\u001B[0m\u001B[0m__getitem__\u001B[0m\u001B[0;34m(\u001B[0m\u001B[0mkey\u001B[0m\u001B[0;34m)\u001B[0m\u001B[0;34m\u001B[0m\u001B[0;34m\u001B[0m\u001B[0m\n\u001B[0m\u001B[1;32m   1539\u001B[0m \u001B[0;34m\u001B[0m\u001B[0m\n\u001B[1;32m   1540\u001B[0m     \u001B[0;32mdef\u001B[0m \u001B[0m_gotitem\u001B[0m\u001B[0;34m(\u001B[0m\u001B[0mself\u001B[0m\u001B[0;34m,\u001B[0m \u001B[0mkey\u001B[0m\u001B[0;34m,\u001B[0m \u001B[0mndim\u001B[0m\u001B[0;34m:\u001B[0m \u001B[0mint\u001B[0m\u001B[0;34m,\u001B[0m \u001B[0msubset\u001B[0m\u001B[0;34m=\u001B[0m\u001B[0;32mNone\u001B[0m\u001B[0;34m)\u001B[0m\u001B[0;34m:\u001B[0m\u001B[0;34m\u001B[0m\u001B[0;34m\u001B[0m\u001B[0m\n",
      "\u001B[0;32m~/PycharmProjects/pythonProject/Kaggle/venv/lib/python3.8/site-packages/pandas/core/base.py\u001B[0m in \u001B[0;36m__getitem__\u001B[0;34m(self, key)\u001B[0m\n\u001B[1;32m    220\u001B[0m             \u001B[0;32mif\u001B[0m \u001B[0mlen\u001B[0m\u001B[0;34m(\u001B[0m\u001B[0mself\u001B[0m\u001B[0;34m.\u001B[0m\u001B[0mobj\u001B[0m\u001B[0;34m.\u001B[0m\u001B[0mcolumns\u001B[0m\u001B[0;34m.\u001B[0m\u001B[0mintersection\u001B[0m\u001B[0;34m(\u001B[0m\u001B[0mkey\u001B[0m\u001B[0;34m)\u001B[0m\u001B[0;34m)\u001B[0m \u001B[0;34m!=\u001B[0m \u001B[0mlen\u001B[0m\u001B[0;34m(\u001B[0m\u001B[0mkey\u001B[0m\u001B[0;34m)\u001B[0m\u001B[0;34m:\u001B[0m\u001B[0;34m\u001B[0m\u001B[0;34m\u001B[0m\u001B[0m\n\u001B[1;32m    221\u001B[0m                 \u001B[0mbad_keys\u001B[0m \u001B[0;34m=\u001B[0m \u001B[0mlist\u001B[0m\u001B[0;34m(\u001B[0m\u001B[0mset\u001B[0m\u001B[0;34m(\u001B[0m\u001B[0mkey\u001B[0m\u001B[0;34m)\u001B[0m\u001B[0;34m.\u001B[0m\u001B[0mdifference\u001B[0m\u001B[0;34m(\u001B[0m\u001B[0mself\u001B[0m\u001B[0;34m.\u001B[0m\u001B[0mobj\u001B[0m\u001B[0;34m.\u001B[0m\u001B[0mcolumns\u001B[0m\u001B[0;34m)\u001B[0m\u001B[0;34m)\u001B[0m\u001B[0;34m\u001B[0m\u001B[0;34m\u001B[0m\u001B[0m\n\u001B[0;32m--> 222\u001B[0;31m                 \u001B[0;32mraise\u001B[0m \u001B[0mKeyError\u001B[0m\u001B[0;34m(\u001B[0m\u001B[0;34mf\"Columns not found: {str(bad_keys)[1:-1]}\"\u001B[0m\u001B[0;34m)\u001B[0m\u001B[0;34m\u001B[0m\u001B[0;34m\u001B[0m\u001B[0m\n\u001B[0m\u001B[1;32m    223\u001B[0m             \u001B[0;32mreturn\u001B[0m \u001B[0mself\u001B[0m\u001B[0;34m.\u001B[0m\u001B[0m_gotitem\u001B[0m\u001B[0;34m(\u001B[0m\u001B[0mlist\u001B[0m\u001B[0;34m(\u001B[0m\u001B[0mkey\u001B[0m\u001B[0;34m)\u001B[0m\u001B[0;34m,\u001B[0m \u001B[0mndim\u001B[0m\u001B[0;34m=\u001B[0m\u001B[0;36m2\u001B[0m\u001B[0;34m)\u001B[0m\u001B[0;34m\u001B[0m\u001B[0;34m\u001B[0m\u001B[0m\n\u001B[1;32m    224\u001B[0m \u001B[0;34m\u001B[0m\u001B[0m\n",
      "\u001B[0;31mKeyError\u001B[0m: \"Columns not found: 'AMT_CREDIT_SUM_DEBT', 'STATUS_0', 'AMT_CREDIT_SUM', 'AMT_CREDIT_MAX_OVERDUE', 'STATUS_12345', 'AMT_CREDIT_SUM_OVERDUE', 'DEBT_CREDIT_DIFF', 'DEBT_PERCENTAGE'\""
     ]
    }
   ],
   "source": [
    "agg_length = bureau.groupby('MONTHS_BALANCE_SIZE')[features].mean().reset_index()"
   ],
   "metadata": {
    "collapsed": false,
    "pycharm": {
     "name": "#%%\n"
    }
   }
  },
  {
   "cell_type": "code",
   "execution_count": 312,
   "outputs": [
    {
     "ename": "KeyError",
     "evalue": "\"Column(s) ['AMT_CREDIT_MAX_OVERDUE', 'AMT_CREDIT_SUM', 'AMT_CREDIT_SUM_DEBT', 'AMT_CREDIT_SUM_OVERDUE', 'DEBT_CREDIT_DIFF', 'LL_AMT_CREDIT_SUM_OVERDUE', 'LL_DEBT_CREDIT_DIFF', 'LL_STATUS_12345', 'STATUS_0', 'STATUS_12345'] do not exist\"",
     "output_type": "error",
     "traceback": [
      "\u001B[0;31m---------------------------------------------------------------------------\u001B[0m",
      "\u001B[0;31mKeyError\u001B[0m                                  Traceback (most recent call last)",
      "\u001B[0;32m/var/folders/c6/2j22b1rd02778st12c0mcr3w0000gn/T/ipykernel_71814/3990144341.py\u001B[0m in \u001B[0;36m<module>\u001B[0;34m\u001B[0m\n\u001B[0;32m----> 1\u001B[0;31m \u001B[0magg_bureau\u001B[0m \u001B[0;34m=\u001B[0m \u001B[0mgroup\u001B[0m\u001B[0;34m(\u001B[0m\u001B[0mbureau\u001B[0m\u001B[0;34m,\u001B[0m \u001B[0;34m'BUREAU_'\u001B[0m\u001B[0;34m,\u001B[0m \u001B[0mBUREAU_AGG\u001B[0m\u001B[0;34m)\u001B[0m\u001B[0;34m\u001B[0m\u001B[0;34m\u001B[0m\u001B[0m\n\u001B[0m",
      "\u001B[0;32m/var/folders/c6/2j22b1rd02778st12c0mcr3w0000gn/T/ipykernel_71814/2054604530.py\u001B[0m in \u001B[0;36mgroup\u001B[0;34m(df_to_agg, prefix, aggregations, aggregate_by)\u001B[0m\n\u001B[1;32m      1\u001B[0m \u001B[0;32mdef\u001B[0m \u001B[0mgroup\u001B[0m\u001B[0;34m(\u001B[0m\u001B[0mdf_to_agg\u001B[0m\u001B[0;34m,\u001B[0m \u001B[0mprefix\u001B[0m\u001B[0;34m,\u001B[0m \u001B[0maggregations\u001B[0m\u001B[0;34m,\u001B[0m \u001B[0maggregate_by\u001B[0m\u001B[0;34m=\u001B[0m \u001B[0;34m'SK_ID_CURR'\u001B[0m\u001B[0;34m)\u001B[0m\u001B[0;34m:\u001B[0m\u001B[0;34m\u001B[0m\u001B[0;34m\u001B[0m\u001B[0m\n\u001B[0;32m----> 2\u001B[0;31m     \u001B[0magg_df\u001B[0m \u001B[0;34m=\u001B[0m \u001B[0mdf_to_agg\u001B[0m\u001B[0;34m.\u001B[0m\u001B[0mgroupby\u001B[0m\u001B[0;34m(\u001B[0m\u001B[0maggregate_by\u001B[0m\u001B[0;34m)\u001B[0m\u001B[0;34m.\u001B[0m\u001B[0magg\u001B[0m\u001B[0;34m(\u001B[0m\u001B[0maggregations\u001B[0m\u001B[0;34m)\u001B[0m\u001B[0;34m\u001B[0m\u001B[0;34m\u001B[0m\u001B[0m\n\u001B[0m\u001B[1;32m      3\u001B[0m     agg_df.columns = pd.Index(['{}{}_{}'.format(prefix, e[0], e[1].upper())\n\u001B[1;32m      4\u001B[0m                                for e in agg_df.columns.tolist()])\n\u001B[1;32m      5\u001B[0m     \u001B[0;32mreturn\u001B[0m \u001B[0magg_df\u001B[0m\u001B[0;34m.\u001B[0m\u001B[0mreset_index\u001B[0m\u001B[0;34m(\u001B[0m\u001B[0;34m)\u001B[0m\u001B[0;34m\u001B[0m\u001B[0;34m\u001B[0m\u001B[0m\n",
      "\u001B[0;32m~/PycharmProjects/pythonProject/Kaggle/venv/lib/python3.8/site-packages/pandas/core/groupby/generic.py\u001B[0m in \u001B[0;36maggregate\u001B[0;34m(self, func, engine, engine_kwargs, *args, **kwargs)\u001B[0m\n\u001B[1;32m    977\u001B[0m \u001B[0;34m\u001B[0m\u001B[0m\n\u001B[1;32m    978\u001B[0m         \u001B[0mop\u001B[0m \u001B[0;34m=\u001B[0m \u001B[0mGroupByApply\u001B[0m\u001B[0;34m(\u001B[0m\u001B[0mself\u001B[0m\u001B[0;34m,\u001B[0m \u001B[0mfunc\u001B[0m\u001B[0;34m,\u001B[0m \u001B[0margs\u001B[0m\u001B[0;34m,\u001B[0m \u001B[0mkwargs\u001B[0m\u001B[0;34m)\u001B[0m\u001B[0;34m\u001B[0m\u001B[0;34m\u001B[0m\u001B[0m\n\u001B[0;32m--> 979\u001B[0;31m         \u001B[0mresult\u001B[0m \u001B[0;34m=\u001B[0m \u001B[0mop\u001B[0m\u001B[0;34m.\u001B[0m\u001B[0magg\u001B[0m\u001B[0;34m(\u001B[0m\u001B[0;34m)\u001B[0m\u001B[0;34m\u001B[0m\u001B[0;34m\u001B[0m\u001B[0m\n\u001B[0m\u001B[1;32m    980\u001B[0m         \u001B[0;32mif\u001B[0m \u001B[0;32mnot\u001B[0m \u001B[0mis_dict_like\u001B[0m\u001B[0;34m(\u001B[0m\u001B[0mfunc\u001B[0m\u001B[0;34m)\u001B[0m \u001B[0;32mand\u001B[0m \u001B[0mresult\u001B[0m \u001B[0;32mis\u001B[0m \u001B[0;32mnot\u001B[0m \u001B[0;32mNone\u001B[0m\u001B[0;34m:\u001B[0m\u001B[0;34m\u001B[0m\u001B[0;34m\u001B[0m\u001B[0m\n\u001B[1;32m    981\u001B[0m             \u001B[0;32mreturn\u001B[0m \u001B[0mresult\u001B[0m\u001B[0;34m\u001B[0m\u001B[0;34m\u001B[0m\u001B[0m\n",
      "\u001B[0;32m~/PycharmProjects/pythonProject/Kaggle/venv/lib/python3.8/site-packages/pandas/core/apply.py\u001B[0m in \u001B[0;36magg\u001B[0;34m(self)\u001B[0m\n\u001B[1;32m    159\u001B[0m \u001B[0;34m\u001B[0m\u001B[0m\n\u001B[1;32m    160\u001B[0m         \u001B[0;32mif\u001B[0m \u001B[0mis_dict_like\u001B[0m\u001B[0;34m(\u001B[0m\u001B[0marg\u001B[0m\u001B[0;34m)\u001B[0m\u001B[0;34m:\u001B[0m\u001B[0;34m\u001B[0m\u001B[0;34m\u001B[0m\u001B[0m\n\u001B[0;32m--> 161\u001B[0;31m             \u001B[0;32mreturn\u001B[0m \u001B[0mself\u001B[0m\u001B[0;34m.\u001B[0m\u001B[0magg_dict_like\u001B[0m\u001B[0;34m(\u001B[0m\u001B[0;34m)\u001B[0m\u001B[0;34m\u001B[0m\u001B[0;34m\u001B[0m\u001B[0m\n\u001B[0m\u001B[1;32m    162\u001B[0m         \u001B[0;32melif\u001B[0m \u001B[0mis_list_like\u001B[0m\u001B[0;34m(\u001B[0m\u001B[0marg\u001B[0m\u001B[0;34m)\u001B[0m\u001B[0;34m:\u001B[0m\u001B[0;34m\u001B[0m\u001B[0;34m\u001B[0m\u001B[0m\n\u001B[1;32m    163\u001B[0m             \u001B[0;31m# we require a list, but not a 'str'\u001B[0m\u001B[0;34m\u001B[0m\u001B[0;34m\u001B[0m\u001B[0;34m\u001B[0m\u001B[0m\n",
      "\u001B[0;32m~/PycharmProjects/pythonProject/Kaggle/venv/lib/python3.8/site-packages/pandas/core/apply.py\u001B[0m in \u001B[0;36magg_dict_like\u001B[0;34m(self)\u001B[0m\n\u001B[1;32m    425\u001B[0m             \u001B[0mselection\u001B[0m \u001B[0;34m=\u001B[0m \u001B[0mobj\u001B[0m\u001B[0;34m.\u001B[0m\u001B[0m_selection\u001B[0m\u001B[0;34m\u001B[0m\u001B[0;34m\u001B[0m\u001B[0m\n\u001B[1;32m    426\u001B[0m \u001B[0;34m\u001B[0m\u001B[0m\n\u001B[0;32m--> 427\u001B[0;31m         \u001B[0marg\u001B[0m \u001B[0;34m=\u001B[0m \u001B[0mself\u001B[0m\u001B[0;34m.\u001B[0m\u001B[0mnormalize_dictlike_arg\u001B[0m\u001B[0;34m(\u001B[0m\u001B[0;34m\"agg\"\u001B[0m\u001B[0;34m,\u001B[0m \u001B[0mselected_obj\u001B[0m\u001B[0;34m,\u001B[0m \u001B[0marg\u001B[0m\u001B[0;34m)\u001B[0m\u001B[0;34m\u001B[0m\u001B[0;34m\u001B[0m\u001B[0m\n\u001B[0m\u001B[1;32m    428\u001B[0m \u001B[0;34m\u001B[0m\u001B[0m\n\u001B[1;32m    429\u001B[0m         \u001B[0;32mif\u001B[0m \u001B[0mselected_obj\u001B[0m\u001B[0;34m.\u001B[0m\u001B[0mndim\u001B[0m \u001B[0;34m==\u001B[0m \u001B[0;36m1\u001B[0m\u001B[0;34m:\u001B[0m\u001B[0;34m\u001B[0m\u001B[0;34m\u001B[0m\u001B[0m\n",
      "\u001B[0;32m~/PycharmProjects/pythonProject/Kaggle/venv/lib/python3.8/site-packages/pandas/core/apply.py\u001B[0m in \u001B[0;36mnormalize_dictlike_arg\u001B[0;34m(self, how, obj, func)\u001B[0m\n\u001B[1;32m    544\u001B[0m             \u001B[0;32mif\u001B[0m \u001B[0mlen\u001B[0m\u001B[0;34m(\u001B[0m\u001B[0mcols\u001B[0m\u001B[0;34m)\u001B[0m \u001B[0;34m>\u001B[0m \u001B[0;36m0\u001B[0m\u001B[0;34m:\u001B[0m\u001B[0;34m\u001B[0m\u001B[0;34m\u001B[0m\u001B[0m\n\u001B[1;32m    545\u001B[0m                 \u001B[0mcols_sorted\u001B[0m \u001B[0;34m=\u001B[0m \u001B[0mlist\u001B[0m\u001B[0;34m(\u001B[0m\u001B[0msafe_sort\u001B[0m\u001B[0;34m(\u001B[0m\u001B[0mlist\u001B[0m\u001B[0;34m(\u001B[0m\u001B[0mcols\u001B[0m\u001B[0;34m)\u001B[0m\u001B[0;34m)\u001B[0m\u001B[0;34m)\u001B[0m\u001B[0;34m\u001B[0m\u001B[0;34m\u001B[0m\u001B[0m\n\u001B[0;32m--> 546\u001B[0;31m                 \u001B[0;32mraise\u001B[0m \u001B[0mKeyError\u001B[0m\u001B[0;34m(\u001B[0m\u001B[0;34mf\"Column(s) {cols_sorted} do not exist\"\u001B[0m\u001B[0;34m)\u001B[0m\u001B[0;34m\u001B[0m\u001B[0;34m\u001B[0m\u001B[0m\n\u001B[0m\u001B[1;32m    547\u001B[0m \u001B[0;34m\u001B[0m\u001B[0m\n\u001B[1;32m    548\u001B[0m         \u001B[0mis_aggregator\u001B[0m \u001B[0;34m=\u001B[0m \u001B[0;32mlambda\u001B[0m \u001B[0mx\u001B[0m\u001B[0;34m:\u001B[0m \u001B[0misinstance\u001B[0m\u001B[0;34m(\u001B[0m\u001B[0mx\u001B[0m\u001B[0;34m,\u001B[0m \u001B[0;34m(\u001B[0m\u001B[0mlist\u001B[0m\u001B[0;34m,\u001B[0m \u001B[0mtuple\u001B[0m\u001B[0;34m,\u001B[0m \u001B[0mdict\u001B[0m\u001B[0;34m)\u001B[0m\u001B[0;34m)\u001B[0m\u001B[0;34m\u001B[0m\u001B[0;34m\u001B[0m\u001B[0m\n",
      "\u001B[0;31mKeyError\u001B[0m: \"Column(s) ['AMT_CREDIT_MAX_OVERDUE', 'AMT_CREDIT_SUM', 'AMT_CREDIT_SUM_DEBT', 'AMT_CREDIT_SUM_OVERDUE', 'DEBT_CREDIT_DIFF', 'LL_AMT_CREDIT_SUM_OVERDUE', 'LL_DEBT_CREDIT_DIFF', 'LL_STATUS_12345', 'STATUS_0', 'STATUS_12345'] do not exist\""
     ]
    }
   ],
   "source": [
    "agg_bureau = group(bureau, 'BUREAU_', BUREAU_AGG)"
   ],
   "metadata": {
    "collapsed": false,
    "pycharm": {
     "name": "#%%\n"
    }
   }
  },
  {
   "cell_type": "code",
   "execution_count": 310,
   "outputs": [
    {
     "ename": "NameError",
     "evalue": "name 'agg_length' is not defined",
     "output_type": "error",
     "traceback": [
      "\u001B[0;31m---------------------------------------------------------------------------\u001B[0m",
      "\u001B[0;31mNameError\u001B[0m                                 Traceback (most recent call last)",
      "\u001B[0;32m/var/folders/c6/2j22b1rd02778st12c0mcr3w0000gn/T/ipykernel_71814/3503625838.py\u001B[0m in \u001B[0;36m<module>\u001B[0;34m\u001B[0m\n\u001B[0;32m----> 1\u001B[0;31m \u001B[0magg_length\u001B[0m\u001B[0;34m.\u001B[0m\u001B[0mrename\u001B[0m\u001B[0;34m(\u001B[0m\u001B[0;34m{\u001B[0m\u001B[0mfeat\u001B[0m\u001B[0;34m:\u001B[0m \u001B[0;34m'LL_'\u001B[0m\u001B[0;34m+\u001B[0m\u001B[0mfeat\u001B[0m \u001B[0;32mfor\u001B[0m \u001B[0mfeat\u001B[0m \u001B[0;32min\u001B[0m \u001B[0mfeatures\u001B[0m\u001B[0;34m}\u001B[0m\u001B[0;34m,\u001B[0m \u001B[0maxis\u001B[0m\u001B[0;34m=\u001B[0m\u001B[0;36m1\u001B[0m\u001B[0;34m,\u001B[0m \u001B[0minplace\u001B[0m\u001B[0;34m=\u001B[0m\u001B[0;32mTrue\u001B[0m\u001B[0;34m)\u001B[0m\u001B[0;34m\u001B[0m\u001B[0;34m\u001B[0m\u001B[0m\n\u001B[0m",
      "\u001B[0;31mNameError\u001B[0m: name 'agg_length' is not defined"
     ]
    }
   ],
   "source": [],
   "metadata": {
    "collapsed": false,
    "pycharm": {
     "name": "#%%\n"
    }
   }
  },
  {
   "cell_type": "code",
   "execution_count": null,
   "outputs": [],
   "source": [
    "agg_length.rename({feat: 'LL_'+feat for feat in features}, axis=1, inplace=True)"
   ],
   "metadata": {
    "collapsed": false,
    "pycharm": {
     "name": "#%%\n"
    }
   }
  },
  {
   "cell_type": "code",
   "execution_count": 307,
   "outputs": [
    {
     "ename": "NameError",
     "evalue": "name 'agg_length' is not defined",
     "output_type": "error",
     "traceback": [
      "\u001B[0;31m---------------------------------------------------------------------------\u001B[0m",
      "\u001B[0;31mNameError\u001B[0m                                 Traceback (most recent call last)",
      "\u001B[0;32m/var/folders/c6/2j22b1rd02778st12c0mcr3w0000gn/T/ipykernel_71814/1061043179.py\u001B[0m in \u001B[0;36m<module>\u001B[0;34m\u001B[0m\n\u001B[0;32m----> 1\u001B[0;31m \u001B[0mbureau\u001B[0m \u001B[0;34m=\u001B[0m \u001B[0mbureau\u001B[0m\u001B[0;34m.\u001B[0m\u001B[0mmerge\u001B[0m\u001B[0;34m(\u001B[0m\u001B[0magg_length\u001B[0m\u001B[0;34m,\u001B[0m \u001B[0mhow\u001B[0m\u001B[0;34m=\u001B[0m\u001B[0;34m'left'\u001B[0m\u001B[0;34m,\u001B[0m \u001B[0mon\u001B[0m\u001B[0;34m=\u001B[0m\u001B[0;34m'MONTHS_BALANCE_SIZE'\u001B[0m\u001B[0;34m)\u001B[0m\u001B[0;34m\u001B[0m\u001B[0;34m\u001B[0m\u001B[0m\n\u001B[0m\u001B[1;32m      2\u001B[0m \u001B[0;34m\u001B[0m\u001B[0m\n",
      "\u001B[0;31mNameError\u001B[0m: name 'agg_length' is not defined"
     ]
    }
   ],
   "source": [
    "bureau = bureau.merge(agg_length, how='left', on='MONTHS_BALANCE_SIZE')"
   ],
   "metadata": {
    "collapsed": false,
    "pycharm": {
     "name": "#%%\n"
    }
   }
  },
  {
   "cell_type": "code",
   "execution_count": null,
   "outputs": [],
   "source": [],
   "metadata": {
    "collapsed": false,
    "pycharm": {
     "name": "#%%\n"
    }
   }
  },
  {
   "cell_type": "code",
   "execution_count": null,
   "outputs": [],
   "source": [
    "bureau = bureau.merge(agg_length, how='left' , on='MONTHS_BALANCE_SIZE')\n",
    "del agg_length; gc.collect()"
   ],
   "metadata": {
    "collapsed": false,
    "pycharm": {
     "name": "#%%\n"
    }
   }
  },
  {
   "cell_type": "code",
   "execution_count": 305,
   "outputs": [
    {
     "data": {
      "text/plain": "{'SK_ID_BUREAU': ['nunique'],\n 'DAYS_CREDIT': ['min', 'max', 'mean'],\n 'DAYS_CREDIT_ENDDATE': ['min', 'max'],\n 'AMT_CREDIT_MAX_OVERDUE': ['max', 'mean'],\n 'AMT_CREDIT_SUM': ['max', 'mean', 'sum'],\n 'AMT_CREDIT_SUM_DEBT': ['max', 'mean', 'sum'],\n 'AMT_CREDIT_SUM_OVERDUE': ['max', 'mean', 'sum'],\n 'AMT_ANNUITY': ['mean'],\n 'DEBT_CREDIT_DIFF': ['mean', 'sum'],\n 'MONTHS_BALANCE_MEAN': ['mean', 'var'],\n 'MONTHS_BALANCE_SIZE': ['mean', 'sum'],\n 'STATUS_0': ['mean'],\n 'STATUS_1': ['mean'],\n 'STATUS_12345': ['mean'],\n 'STATUS_C': ['mean'],\n 'STATUS_X': ['mean'],\n 'CREDIT_ACTIVE_Active': ['mean'],\n 'CREDIT_ACTIVE_Closed': ['mean'],\n 'CREDIT_ACTIVE_Sold': ['mean'],\n 'CREDIT_TYPE_Consumer credit': ['mean'],\n 'CREDIT_TYPE_Credit card': ['mean'],\n 'CREDIT_TYPE_Car loan': ['mean'],\n 'CREDIT_TYPE_Mortgage': ['mean'],\n 'CREDIT_TYPE_Microloan': ['mean'],\n 'LL_AMT_CREDIT_SUM_OVERDUE': ['mean'],\n 'LL_DEBT_CREDIT_DIFF': ['mean'],\n 'LL_STATUS_12345': ['mean']}"
     },
     "execution_count": 305,
     "metadata": {},
     "output_type": "execute_result"
    }
   ],
   "source": [
    "BUREAU_AGG"
   ],
   "metadata": {
    "collapsed": false,
    "pycharm": {
     "name": "#%%\n"
    }
   }
  },
  {
   "cell_type": "code",
   "execution_count": 306,
   "outputs": [
    {
     "ename": "KeyError",
     "evalue": "\"Column(s) ['AMT_CREDIT_MAX_OVERDUE', 'AMT_CREDIT_SUM', 'AMT_CREDIT_SUM_DEBT', 'AMT_CREDIT_SUM_OVERDUE', 'DEBT_CREDIT_DIFF', 'LL_AMT_CREDIT_SUM_OVERDUE', 'LL_DEBT_CREDIT_DIFF', 'LL_STATUS_12345', 'STATUS_0', 'STATUS_12345'] do not exist\"",
     "output_type": "error",
     "traceback": [
      "\u001B[0;31m---------------------------------------------------------------------------\u001B[0m",
      "\u001B[0;31mKeyError\u001B[0m                                  Traceback (most recent call last)",
      "\u001B[0;32m/var/folders/c6/2j22b1rd02778st12c0mcr3w0000gn/T/ipykernel_71814/1858745300.py\u001B[0m in \u001B[0;36m<module>\u001B[0;34m\u001B[0m\n\u001B[1;32m      1\u001B[0m \u001B[0;31m# General loans aggregations\u001B[0m\u001B[0;34m\u001B[0m\u001B[0;34m\u001B[0m\u001B[0;34m\u001B[0m\u001B[0m\n\u001B[0;32m----> 2\u001B[0;31m \u001B[0magg_bureau\u001B[0m \u001B[0;34m=\u001B[0m \u001B[0mgroup\u001B[0m\u001B[0;34m(\u001B[0m\u001B[0mbureau\u001B[0m\u001B[0;34m,\u001B[0m \u001B[0;34m'BUREAU_'\u001B[0m\u001B[0;34m,\u001B[0m \u001B[0mBUREAU_AGG\u001B[0m\u001B[0;34m)\u001B[0m\u001B[0;34m\u001B[0m\u001B[0;34m\u001B[0m\u001B[0m\n\u001B[0m",
      "\u001B[0;32m/var/folders/c6/2j22b1rd02778st12c0mcr3w0000gn/T/ipykernel_71814/2054604530.py\u001B[0m in \u001B[0;36mgroup\u001B[0;34m(df_to_agg, prefix, aggregations, aggregate_by)\u001B[0m\n\u001B[1;32m      1\u001B[0m \u001B[0;32mdef\u001B[0m \u001B[0mgroup\u001B[0m\u001B[0;34m(\u001B[0m\u001B[0mdf_to_agg\u001B[0m\u001B[0;34m,\u001B[0m \u001B[0mprefix\u001B[0m\u001B[0;34m,\u001B[0m \u001B[0maggregations\u001B[0m\u001B[0;34m,\u001B[0m \u001B[0maggregate_by\u001B[0m\u001B[0;34m=\u001B[0m \u001B[0;34m'SK_ID_CURR'\u001B[0m\u001B[0;34m)\u001B[0m\u001B[0;34m:\u001B[0m\u001B[0;34m\u001B[0m\u001B[0;34m\u001B[0m\u001B[0m\n\u001B[0;32m----> 2\u001B[0;31m     \u001B[0magg_df\u001B[0m \u001B[0;34m=\u001B[0m \u001B[0mdf_to_agg\u001B[0m\u001B[0;34m.\u001B[0m\u001B[0mgroupby\u001B[0m\u001B[0;34m(\u001B[0m\u001B[0maggregate_by\u001B[0m\u001B[0;34m)\u001B[0m\u001B[0;34m.\u001B[0m\u001B[0magg\u001B[0m\u001B[0;34m(\u001B[0m\u001B[0maggregations\u001B[0m\u001B[0;34m)\u001B[0m\u001B[0;34m\u001B[0m\u001B[0;34m\u001B[0m\u001B[0m\n\u001B[0m\u001B[1;32m      3\u001B[0m     agg_df.columns = pd.Index(['{}{}_{}'.format(prefix, e[0], e[1].upper())\n\u001B[1;32m      4\u001B[0m                                for e in agg_df.columns.tolist()])\n\u001B[1;32m      5\u001B[0m     \u001B[0;32mreturn\u001B[0m \u001B[0magg_df\u001B[0m\u001B[0;34m.\u001B[0m\u001B[0mreset_index\u001B[0m\u001B[0;34m(\u001B[0m\u001B[0;34m)\u001B[0m\u001B[0;34m\u001B[0m\u001B[0;34m\u001B[0m\u001B[0m\n",
      "\u001B[0;32m~/PycharmProjects/pythonProject/Kaggle/venv/lib/python3.8/site-packages/pandas/core/groupby/generic.py\u001B[0m in \u001B[0;36maggregate\u001B[0;34m(self, func, engine, engine_kwargs, *args, **kwargs)\u001B[0m\n\u001B[1;32m    977\u001B[0m \u001B[0;34m\u001B[0m\u001B[0m\n\u001B[1;32m    978\u001B[0m         \u001B[0mop\u001B[0m \u001B[0;34m=\u001B[0m \u001B[0mGroupByApply\u001B[0m\u001B[0;34m(\u001B[0m\u001B[0mself\u001B[0m\u001B[0;34m,\u001B[0m \u001B[0mfunc\u001B[0m\u001B[0;34m,\u001B[0m \u001B[0margs\u001B[0m\u001B[0;34m,\u001B[0m \u001B[0mkwargs\u001B[0m\u001B[0;34m)\u001B[0m\u001B[0;34m\u001B[0m\u001B[0;34m\u001B[0m\u001B[0m\n\u001B[0;32m--> 979\u001B[0;31m         \u001B[0mresult\u001B[0m \u001B[0;34m=\u001B[0m \u001B[0mop\u001B[0m\u001B[0;34m.\u001B[0m\u001B[0magg\u001B[0m\u001B[0;34m(\u001B[0m\u001B[0;34m)\u001B[0m\u001B[0;34m\u001B[0m\u001B[0;34m\u001B[0m\u001B[0m\n\u001B[0m\u001B[1;32m    980\u001B[0m         \u001B[0;32mif\u001B[0m \u001B[0;32mnot\u001B[0m \u001B[0mis_dict_like\u001B[0m\u001B[0;34m(\u001B[0m\u001B[0mfunc\u001B[0m\u001B[0;34m)\u001B[0m \u001B[0;32mand\u001B[0m \u001B[0mresult\u001B[0m \u001B[0;32mis\u001B[0m \u001B[0;32mnot\u001B[0m \u001B[0;32mNone\u001B[0m\u001B[0;34m:\u001B[0m\u001B[0;34m\u001B[0m\u001B[0;34m\u001B[0m\u001B[0m\n\u001B[1;32m    981\u001B[0m             \u001B[0;32mreturn\u001B[0m \u001B[0mresult\u001B[0m\u001B[0;34m\u001B[0m\u001B[0;34m\u001B[0m\u001B[0m\n",
      "\u001B[0;32m~/PycharmProjects/pythonProject/Kaggle/venv/lib/python3.8/site-packages/pandas/core/apply.py\u001B[0m in \u001B[0;36magg\u001B[0;34m(self)\u001B[0m\n\u001B[1;32m    159\u001B[0m \u001B[0;34m\u001B[0m\u001B[0m\n\u001B[1;32m    160\u001B[0m         \u001B[0;32mif\u001B[0m \u001B[0mis_dict_like\u001B[0m\u001B[0;34m(\u001B[0m\u001B[0marg\u001B[0m\u001B[0;34m)\u001B[0m\u001B[0;34m:\u001B[0m\u001B[0;34m\u001B[0m\u001B[0;34m\u001B[0m\u001B[0m\n\u001B[0;32m--> 161\u001B[0;31m             \u001B[0;32mreturn\u001B[0m \u001B[0mself\u001B[0m\u001B[0;34m.\u001B[0m\u001B[0magg_dict_like\u001B[0m\u001B[0;34m(\u001B[0m\u001B[0;34m)\u001B[0m\u001B[0;34m\u001B[0m\u001B[0;34m\u001B[0m\u001B[0m\n\u001B[0m\u001B[1;32m    162\u001B[0m         \u001B[0;32melif\u001B[0m \u001B[0mis_list_like\u001B[0m\u001B[0;34m(\u001B[0m\u001B[0marg\u001B[0m\u001B[0;34m)\u001B[0m\u001B[0;34m:\u001B[0m\u001B[0;34m\u001B[0m\u001B[0;34m\u001B[0m\u001B[0m\n\u001B[1;32m    163\u001B[0m             \u001B[0;31m# we require a list, but not a 'str'\u001B[0m\u001B[0;34m\u001B[0m\u001B[0;34m\u001B[0m\u001B[0;34m\u001B[0m\u001B[0m\n",
      "\u001B[0;32m~/PycharmProjects/pythonProject/Kaggle/venv/lib/python3.8/site-packages/pandas/core/apply.py\u001B[0m in \u001B[0;36magg_dict_like\u001B[0;34m(self)\u001B[0m\n\u001B[1;32m    425\u001B[0m             \u001B[0mselection\u001B[0m \u001B[0;34m=\u001B[0m \u001B[0mobj\u001B[0m\u001B[0;34m.\u001B[0m\u001B[0m_selection\u001B[0m\u001B[0;34m\u001B[0m\u001B[0;34m\u001B[0m\u001B[0m\n\u001B[1;32m    426\u001B[0m \u001B[0;34m\u001B[0m\u001B[0m\n\u001B[0;32m--> 427\u001B[0;31m         \u001B[0marg\u001B[0m \u001B[0;34m=\u001B[0m \u001B[0mself\u001B[0m\u001B[0;34m.\u001B[0m\u001B[0mnormalize_dictlike_arg\u001B[0m\u001B[0;34m(\u001B[0m\u001B[0;34m\"agg\"\u001B[0m\u001B[0;34m,\u001B[0m \u001B[0mselected_obj\u001B[0m\u001B[0;34m,\u001B[0m \u001B[0marg\u001B[0m\u001B[0;34m)\u001B[0m\u001B[0;34m\u001B[0m\u001B[0;34m\u001B[0m\u001B[0m\n\u001B[0m\u001B[1;32m    428\u001B[0m \u001B[0;34m\u001B[0m\u001B[0m\n\u001B[1;32m    429\u001B[0m         \u001B[0;32mif\u001B[0m \u001B[0mselected_obj\u001B[0m\u001B[0;34m.\u001B[0m\u001B[0mndim\u001B[0m \u001B[0;34m==\u001B[0m \u001B[0;36m1\u001B[0m\u001B[0;34m:\u001B[0m\u001B[0;34m\u001B[0m\u001B[0;34m\u001B[0m\u001B[0m\n",
      "\u001B[0;32m~/PycharmProjects/pythonProject/Kaggle/venv/lib/python3.8/site-packages/pandas/core/apply.py\u001B[0m in \u001B[0;36mnormalize_dictlike_arg\u001B[0;34m(self, how, obj, func)\u001B[0m\n\u001B[1;32m    544\u001B[0m             \u001B[0;32mif\u001B[0m \u001B[0mlen\u001B[0m\u001B[0;34m(\u001B[0m\u001B[0mcols\u001B[0m\u001B[0;34m)\u001B[0m \u001B[0;34m>\u001B[0m \u001B[0;36m0\u001B[0m\u001B[0;34m:\u001B[0m\u001B[0;34m\u001B[0m\u001B[0;34m\u001B[0m\u001B[0m\n\u001B[1;32m    545\u001B[0m                 \u001B[0mcols_sorted\u001B[0m \u001B[0;34m=\u001B[0m \u001B[0mlist\u001B[0m\u001B[0;34m(\u001B[0m\u001B[0msafe_sort\u001B[0m\u001B[0;34m(\u001B[0m\u001B[0mlist\u001B[0m\u001B[0;34m(\u001B[0m\u001B[0mcols\u001B[0m\u001B[0;34m)\u001B[0m\u001B[0;34m)\u001B[0m\u001B[0;34m)\u001B[0m\u001B[0;34m\u001B[0m\u001B[0;34m\u001B[0m\u001B[0m\n\u001B[0;32m--> 546\u001B[0;31m                 \u001B[0;32mraise\u001B[0m \u001B[0mKeyError\u001B[0m\u001B[0;34m(\u001B[0m\u001B[0;34mf\"Column(s) {cols_sorted} do not exist\"\u001B[0m\u001B[0;34m)\u001B[0m\u001B[0;34m\u001B[0m\u001B[0;34m\u001B[0m\u001B[0m\n\u001B[0m\u001B[1;32m    547\u001B[0m \u001B[0;34m\u001B[0m\u001B[0m\n\u001B[1;32m    548\u001B[0m         \u001B[0mis_aggregator\u001B[0m \u001B[0;34m=\u001B[0m \u001B[0;32mlambda\u001B[0m \u001B[0mx\u001B[0m\u001B[0;34m:\u001B[0m \u001B[0misinstance\u001B[0m\u001B[0;34m(\u001B[0m\u001B[0mx\u001B[0m\u001B[0;34m,\u001B[0m \u001B[0;34m(\u001B[0m\u001B[0mlist\u001B[0m\u001B[0;34m,\u001B[0m \u001B[0mtuple\u001B[0m\u001B[0;34m,\u001B[0m \u001B[0mdict\u001B[0m\u001B[0;34m)\u001B[0m\u001B[0;34m)\u001B[0m\u001B[0;34m\u001B[0m\u001B[0;34m\u001B[0m\u001B[0m\n",
      "\u001B[0;31mKeyError\u001B[0m: \"Column(s) ['AMT_CREDIT_MAX_OVERDUE', 'AMT_CREDIT_SUM', 'AMT_CREDIT_SUM_DEBT', 'AMT_CREDIT_SUM_OVERDUE', 'DEBT_CREDIT_DIFF', 'LL_AMT_CREDIT_SUM_OVERDUE', 'LL_DEBT_CREDIT_DIFF', 'LL_STATUS_12345', 'STATUS_0', 'STATUS_12345'] do not exist\""
     ]
    }
   ],
   "source": [
    "# General loans aggregations\n",
    "agg_bureau = group(bureau, 'BUREAU_', BUREAU_AGG)"
   ],
   "metadata": {
    "collapsed": false,
    "pycharm": {
     "name": "#%%\n"
    }
   }
  },
  {
   "cell_type": "code",
   "execution_count": null,
   "outputs": [],
   "source": [],
   "metadata": {
    "collapsed": false,
    "pycharm": {
     "name": "#%%\n"
    }
   }
  },
  {
   "cell_type": "code",
   "execution_count": null,
   "outputs": [],
   "source": [
    "# Active and closed losan aggregations"
   ],
   "metadata": {
    "collapsed": false,
    "pycharm": {
     "name": "#%%\n"
    }
   }
  },
  {
   "cell_type": "code",
   "execution_count": null,
   "outputs": [],
   "source": [
    "# 특정 카테고리를 기준으로 Groupby를 해보면서 타겟 값에 대한 평균을 낸다던지 어떤 그룹은 상환을 잘한다 그런걸 찾는다"
   ],
   "metadata": {
    "collapsed": false,
    "pycharm": {
     "name": "#%%\n"
    }
   }
  },
  {
   "cell_type": "code",
   "execution_count": null,
   "outputs": [],
   "source": [],
   "metadata": {
    "collapsed": false,
    "pycharm": {
     "name": "#%%\n"
    }
   }
  },
  {
   "cell_type": "code",
   "execution_count": null,
   "outputs": [],
   "source": [
    "#\n",
    "agg_df = bb.groupby('SK_ID_BUREAU').agg(agg)"
   ],
   "metadata": {
    "collapsed": false,
    "pycharm": {
     "name": "#%%\n"
    }
   }
  },
  {
   "cell_type": "code",
   "execution_count": 290,
   "outputs": [
    {
     "data": {
      "text/plain": "[('MONTHS_BALANCE', 'min'),\n ('STATUS_0', 'min'),\n ('STATUS_1', 'min'),\n ('STATUS_2', 'min'),\n ('STATUS_3', 'min'),\n ('STATUS_4', 'min'),\n ('STATUS_5', 'min'),\n ('STATUS_C', 'min'),\n ('STATUS_X', 'min')]"
     },
     "execution_count": 290,
     "metadata": {},
     "output_type": "execute_result"
    }
   ],
   "source": [
    "# multiindex to list\n",
    "#pd.Index(['{}{}_{}'.format(prefix , e[0])])\n",
    "#agg_df.columns.tolist()\n",
    "# feature 자체가 정말 의미있어보이든 없든 모델이 학습할만하다면 넣어준다"
   ],
   "metadata": {
    "collapsed": false,
    "pycharm": {
     "name": "#%%\n"
    }
   }
  },
  {
   "cell_type": "code",
   "execution_count": null,
   "outputs": [],
   "source": [
    "group_and_merge()\n",
    "#agg =  ['min', 'max', 'mean', 'size']\n",
    "# pandas version up and cant' use list agg -> no can use\n",
    "agg= 'min'\n",
    "\n"
   ],
   "metadata": {
    "collapsed": false,
    "pycharm": {
     "name": "#%%\n"
    }
   }
  },
  {
   "cell_type": "code",
   "execution_count": 278,
   "outputs": [],
   "source": [
    "bureau = bureau.merge(get_bureau_balance(path,num_rows), how='left', on='SK_ID_BUREAU')\n"
   ],
   "metadata": {
    "collapsed": false,
    "pycharm": {
     "name": "#%%\n"
    }
   }
  },
  {
   "cell_type": "code",
   "execution_count": null,
   "outputs": [],
   "source": [],
   "metadata": {
    "collapsed": false,
    "pycharm": {
     "name": "#%%\n"
    }
   }
  },
  {
   "cell_type": "code",
   "execution_count": null,
   "outputs": [],
   "source": [],
   "metadata": {
    "collapsed": false,
    "pycharm": {
     "name": "#%%\n"
    }
   }
  },
  {
   "cell_type": "code",
   "execution_count": null,
   "outputs": [],
   "source": [
    "bureau['STATUS_12345']"
   ],
   "metadata": {
    "collapsed": false,
    "pycharm": {
     "name": "#%%\n"
    }
   }
  },
  {
   "cell_type": "code",
   "execution_count": null,
   "outputs": [],
   "source": [],
   "metadata": {
    "collapsed": false,
    "pycharm": {
     "name": "#%%\n"
    }
   }
  },
  {
   "cell_type": "code",
   "execution_count": null,
   "outputs": [],
   "source": [
    "bureau_df = get_bureau()"
   ],
   "metadata": {
    "collapsed": false,
    "pycharm": {
     "name": "#%%\n"
    }
   }
  },
  {
   "cell_type": "code",
   "execution_count": 216,
   "outputs": [],
   "source": [
    "df , group_cols , counted , agg_name = df, group , 'EXT_SOURCES_MEAN' ,'GROUP_EXT_SOURCES_MEDIAN'"
   ],
   "metadata": {
    "collapsed": false,
    "pycharm": {
     "name": "#%%\n"
    }
   }
  },
  {
   "cell_type": "code",
   "execution_count": 161,
   "outputs": [
    {
     "data": {
      "text/plain": "['ORGANIZATION_TYPE',\n 'NAME_EDUCATION_TYPE',\n 'OCCUPATION_TYPE',\n 'AGE_RANGE',\n 'CODE_GENDER',\n 'EXT_SOURCES_MEAN']"
     },
     "execution_count": 161,
     "metadata": {},
     "output_type": "execute_result"
    }
   ],
   "source": [
    "group_cols +[counted]"
   ],
   "metadata": {
    "collapsed": false,
    "pycharm": {
     "name": "#%%\n"
    }
   }
  },
  {
   "cell_type": "code",
   "execution_count": 212,
   "outputs": [
    {
     "ename": "TypeError",
     "evalue": "unsupported operand type(s) for +: 'function' and 'list'",
     "output_type": "error",
     "traceback": [
      "\u001B[0;31m---------------------------------------------------------------------------\u001B[0m",
      "\u001B[0;31mTypeError\u001B[0m                                 Traceback (most recent call last)",
      "\u001B[0;32m/var/folders/c6/2j22b1rd02778st12c0mcr3w0000gn/T/ipykernel_71814/1033860572.py\u001B[0m in \u001B[0;36m<module>\u001B[0;34m\u001B[0m\n\u001B[0;32m----> 1\u001B[0;31m \u001B[0mgp\u001B[0m \u001B[0;34m=\u001B[0m \u001B[0mdf\u001B[0m\u001B[0;34m[\u001B[0m\u001B[0mgroup_cols\u001B[0m \u001B[0;34m+\u001B[0m \u001B[0;34m[\u001B[0m\u001B[0mcounted\u001B[0m\u001B[0;34m]\u001B[0m\u001B[0;34m]\u001B[0m\u001B[0;34m.\u001B[0m\u001B[0mgroupby\u001B[0m\u001B[0;34m(\u001B[0m\u001B[0mgroup_cols\u001B[0m\u001B[0;34m)\u001B[0m\u001B[0;34m[\u001B[0m\u001B[0mcounted\u001B[0m\u001B[0;34m]\u001B[0m\u001B[0;34m.\u001B[0m\u001B[0mmedian\u001B[0m\u001B[0;34m(\u001B[0m\u001B[0;34m)\u001B[0m\u001B[0;34m.\u001B[0m\u001B[0mreset_index\u001B[0m\u001B[0;34m(\u001B[0m\u001B[0;34m)\u001B[0m\u001B[0;34m.\u001B[0m\u001B[0mrename\u001B[0m\u001B[0;34m(\u001B[0m\u001B[0mcolumns\u001B[0m\u001B[0;34m=\u001B[0m\u001B[0;34m{\u001B[0m \u001B[0mcounted\u001B[0m \u001B[0;34m:\u001B[0m \u001B[0magg_name\u001B[0m\u001B[0;34m}\u001B[0m\u001B[0;34m)\u001B[0m\u001B[0;34m\u001B[0m\u001B[0;34m\u001B[0m\u001B[0m\n\u001B[0m",
      "\u001B[0;31mTypeError\u001B[0m: unsupported operand type(s) for +: 'function' and 'list'"
     ]
    }
   ],
   "source": [
    "gp = df[group_cols + [counted]].groupby(group_cols)[counted].median().reset_index().rename(columns={ counted : agg_name})"
   ],
   "metadata": {
    "collapsed": false,
    "pycharm": {
     "name": "#%%\n"
    }
   }
  },
  {
   "cell_type": "code",
   "execution_count": 169,
   "outputs": [
    {
     "data": {
      "text/plain": "   SK_ID_CURR  TARGET NAME_CONTRACT_TYPE CODE_GENDER FLAG_OWN_CAR  \\\n0      100002     1.0         Cash loans           M            N   \n1      100003     0.0         Cash loans           F            N   \n2      100004     0.0    Revolving loans           M            Y   \n3      100006     0.0         Cash loans           F            N   \n4      100007     0.0         Cash loans           M            N   \n\n  FLAG_OWN_REALTY  CNT_CHILDREN  AMT_INCOME_TOTAL  AMT_CREDIT  AMT_ANNUITY  \\\n0               Y             0          202500.0    406597.5      24700.5   \n1               N             0          270000.0   1293502.5      35698.5   \n2               Y             0           67500.0    135000.0       6750.0   \n3               Y             0          135000.0    312682.5      29686.5   \n4               Y             0          121500.0    513000.0      21865.5   \n\n   ...  CREDIT_TO_GOODS_RATIO ANNUITY_TO_INCOME_RATIO CREDIT_TO_INCOME_RATIO  \\\n0  ...               1.158397                0.121978               2.007889   \n1  ...               1.145199                0.132217               4.790750   \n2  ...               1.000000                0.100000               2.000000   \n3  ...               1.052803                0.219900               2.316167   \n4  ...               1.000000                0.179963               4.222222   \n\n  INCOME_TO_EMPLOYED_RATIO INCOME_TO_BIRTH_RATIO EMPLOYED_TO_BIRTH_RATIO  \\\n0              -317.896389            -21.403657                0.067329   \n1              -227.272727            -16.104981                0.070862   \n2              -300.000000             -3.544051                0.011814   \n3               -44.422507             -7.103394                0.159905   \n4               -39.993417             -6.095725                0.152418   \n\n   ID_TO_BIRTH_RATIO  CAR_TO_BIRTH_RATIO  CAR_TO_EMPLOYED_RATIO  \\\n0           0.224078                 NaN                    NaN   \n1           0.017358                 NaN                    NaN   \n2           0.132889           -0.001365              -0.115556   \n3           0.128229                 NaN                    NaN   \n4           0.173490                 NaN                    NaN   \n\n   PHONE_TO_BIRTH_RATIO  \n0              0.119860  \n1              0.049389  \n2              0.042791  \n3              0.032465  \n4              0.055489  \n\n[5 rows x 143 columns]",
      "text/html": "<div>\n<style scoped>\n    .dataframe tbody tr th:only-of-type {\n        vertical-align: middle;\n    }\n\n    .dataframe tbody tr th {\n        vertical-align: top;\n    }\n\n    .dataframe thead th {\n        text-align: right;\n    }\n</style>\n<table border=\"1\" class=\"dataframe\">\n  <thead>\n    <tr style=\"text-align: right;\">\n      <th></th>\n      <th>SK_ID_CURR</th>\n      <th>TARGET</th>\n      <th>NAME_CONTRACT_TYPE</th>\n      <th>CODE_GENDER</th>\n      <th>FLAG_OWN_CAR</th>\n      <th>FLAG_OWN_REALTY</th>\n      <th>CNT_CHILDREN</th>\n      <th>AMT_INCOME_TOTAL</th>\n      <th>AMT_CREDIT</th>\n      <th>AMT_ANNUITY</th>\n      <th>...</th>\n      <th>CREDIT_TO_GOODS_RATIO</th>\n      <th>ANNUITY_TO_INCOME_RATIO</th>\n      <th>CREDIT_TO_INCOME_RATIO</th>\n      <th>INCOME_TO_EMPLOYED_RATIO</th>\n      <th>INCOME_TO_BIRTH_RATIO</th>\n      <th>EMPLOYED_TO_BIRTH_RATIO</th>\n      <th>ID_TO_BIRTH_RATIO</th>\n      <th>CAR_TO_BIRTH_RATIO</th>\n      <th>CAR_TO_EMPLOYED_RATIO</th>\n      <th>PHONE_TO_BIRTH_RATIO</th>\n    </tr>\n  </thead>\n  <tbody>\n    <tr>\n      <th>0</th>\n      <td>100002</td>\n      <td>1.0</td>\n      <td>Cash loans</td>\n      <td>M</td>\n      <td>N</td>\n      <td>Y</td>\n      <td>0</td>\n      <td>202500.0</td>\n      <td>406597.5</td>\n      <td>24700.5</td>\n      <td>...</td>\n      <td>1.158397</td>\n      <td>0.121978</td>\n      <td>2.007889</td>\n      <td>-317.896389</td>\n      <td>-21.403657</td>\n      <td>0.067329</td>\n      <td>0.224078</td>\n      <td>NaN</td>\n      <td>NaN</td>\n      <td>0.119860</td>\n    </tr>\n    <tr>\n      <th>1</th>\n      <td>100003</td>\n      <td>0.0</td>\n      <td>Cash loans</td>\n      <td>F</td>\n      <td>N</td>\n      <td>N</td>\n      <td>0</td>\n      <td>270000.0</td>\n      <td>1293502.5</td>\n      <td>35698.5</td>\n      <td>...</td>\n      <td>1.145199</td>\n      <td>0.132217</td>\n      <td>4.790750</td>\n      <td>-227.272727</td>\n      <td>-16.104981</td>\n      <td>0.070862</td>\n      <td>0.017358</td>\n      <td>NaN</td>\n      <td>NaN</td>\n      <td>0.049389</td>\n    </tr>\n    <tr>\n      <th>2</th>\n      <td>100004</td>\n      <td>0.0</td>\n      <td>Revolving loans</td>\n      <td>M</td>\n      <td>Y</td>\n      <td>Y</td>\n      <td>0</td>\n      <td>67500.0</td>\n      <td>135000.0</td>\n      <td>6750.0</td>\n      <td>...</td>\n      <td>1.000000</td>\n      <td>0.100000</td>\n      <td>2.000000</td>\n      <td>-300.000000</td>\n      <td>-3.544051</td>\n      <td>0.011814</td>\n      <td>0.132889</td>\n      <td>-0.001365</td>\n      <td>-0.115556</td>\n      <td>0.042791</td>\n    </tr>\n    <tr>\n      <th>3</th>\n      <td>100006</td>\n      <td>0.0</td>\n      <td>Cash loans</td>\n      <td>F</td>\n      <td>N</td>\n      <td>Y</td>\n      <td>0</td>\n      <td>135000.0</td>\n      <td>312682.5</td>\n      <td>29686.5</td>\n      <td>...</td>\n      <td>1.052803</td>\n      <td>0.219900</td>\n      <td>2.316167</td>\n      <td>-44.422507</td>\n      <td>-7.103394</td>\n      <td>0.159905</td>\n      <td>0.128229</td>\n      <td>NaN</td>\n      <td>NaN</td>\n      <td>0.032465</td>\n    </tr>\n    <tr>\n      <th>4</th>\n      <td>100007</td>\n      <td>0.0</td>\n      <td>Cash loans</td>\n      <td>M</td>\n      <td>N</td>\n      <td>Y</td>\n      <td>0</td>\n      <td>121500.0</td>\n      <td>513000.0</td>\n      <td>21865.5</td>\n      <td>...</td>\n      <td>1.000000</td>\n      <td>0.179963</td>\n      <td>4.222222</td>\n      <td>-39.993417</td>\n      <td>-6.095725</td>\n      <td>0.152418</td>\n      <td>0.173490</td>\n      <td>NaN</td>\n      <td>NaN</td>\n      <td>0.055489</td>\n    </tr>\n  </tbody>\n</table>\n<p>5 rows × 143 columns</p>\n</div>"
     },
     "execution_count": 169,
     "metadata": {},
     "output_type": "execute_result"
    }
   ],
   "source": [
    "df.head()"
   ],
   "metadata": {
    "collapsed": false,
    "pycharm": {
     "name": "#%%\n"
    }
   }
  },
  {
   "cell_type": "code",
   "execution_count": 170,
   "outputs": [],
   "source": [
    "df = df.merge(gp, on=group_cols, how='left')"
   ],
   "metadata": {
    "collapsed": false,
    "pycharm": {
     "name": "#%%\n"
    }
   }
  },
  {
   "cell_type": "code",
   "execution_count": 171,
   "outputs": [
    {
     "data": {
      "text/plain": "       SK_ID_CURR  TARGET NAME_CONTRACT_TYPE CODE_GENDER FLAG_OWN_CAR  \\\n0          100002     1.0         Cash loans           M            N   \n1          100003     0.0         Cash loans           F            N   \n2          100004     0.0    Revolving loans           M            Y   \n3          100006     0.0         Cash loans           F            N   \n4          100007     0.0         Cash loans           M            N   \n...           ...     ...                ...         ...          ...   \n59995      318261     NaN         Cash loans           F            N   \n59996      318263     NaN         Cash loans           F            N   \n59997      318264     NaN         Cash loans           F            N   \n59998      318266     NaN         Cash loans           F            N   \n59999      318267     NaN         Cash loans           F            N   \n\n      FLAG_OWN_REALTY  CNT_CHILDREN  AMT_INCOME_TOTAL  AMT_CREDIT  \\\n0                   Y             0          202500.0    406597.5   \n1                   N             0          270000.0   1293502.5   \n2                   Y             0           67500.0    135000.0   \n3                   Y             0          135000.0    312682.5   \n4                   Y             0          121500.0    513000.0   \n...               ...           ...               ...         ...   \n59995               Y             0          126000.0    148500.0   \n59996               Y             0          135000.0    601470.0   \n59997               N             0          130500.0    260640.0   \n59998               N             0          202500.0    522396.0   \n59999               Y             0           90000.0    639387.0   \n\n       AMT_ANNUITY  ...  ANNUITY_TO_INCOME_RATIO CREDIT_TO_INCOME_RATIO  \\\n0          24700.5  ...                 0.121978               2.007889   \n1          35698.5  ...                 0.132217               4.790750   \n2           6750.0  ...                 0.100000               2.000000   \n3          29686.5  ...                 0.219900               2.316167   \n4          21865.5  ...                 0.179963               4.222222   \n...            ...  ...                      ...                    ...   \n59995      15345.0  ...                 0.121786               1.178571   \n59996      30838.5  ...                 0.228433               4.455333   \n59997      31059.0  ...                 0.238000               1.997241   \n59998      38142.0  ...                 0.188356               2.579733   \n59999      28291.5  ...                 0.314350               7.104300   \n\n      INCOME_TO_EMPLOYED_RATIO INCOME_TO_BIRTH_RATIO EMPLOYED_TO_BIRTH_RATIO  \\\n0                  -317.896389            -21.403657                0.067329   \n1                  -227.272727            -16.104981                0.070862   \n2                  -300.000000             -3.544051                0.011814   \n3                   -44.422507             -7.103394                0.159905   \n4                   -39.993417             -6.095725                0.152418   \n...                        ...                   ...                     ...   \n59995                      NaN             -5.823896                     NaN   \n59996               -51.097653             -7.517541                0.147121   \n59997              -149.827784             -6.538731                0.043642   \n59998              -103.580563            -19.886085                0.191987   \n59999              -142.180095             -5.272717                0.037085   \n\n      ID_TO_BIRTH_RATIO  CAR_TO_BIRTH_RATIO  CAR_TO_EMPLOYED_RATIO  \\\n0              0.224078                 NaN                    NaN   \n1              0.017358                 NaN                    NaN   \n2              0.132889           -0.001365              -0.115556   \n3              0.128229                 NaN                    NaN   \n4              0.173490                 NaN                    NaN   \n...                 ...                 ...                    ...   \n59995          0.214514                 NaN                    NaN   \n59996          0.084586                 NaN                    NaN   \n59997          0.176420                 NaN                    NaN   \n59998          0.280271                 NaN                    NaN   \n59999          0.036030                 NaN                    NaN   \n\n       PHONE_TO_BIRTH_RATIO  GROUP_EXT_SOURCES_MEDIAN  \n0                  0.119860                  0.378817  \n1                  0.049389                  0.572513  \n2                  0.042791                  0.602979  \n3                  0.032465                  0.577263  \n4                  0.055489                  0.322738  \n...                     ...                       ...  \n59995              0.086342                       NaN  \n59996              0.090545                       NaN  \n59997              0.059074                  0.598611  \n59998              0.159678                  0.455738  \n59999              0.116351                       NaN  \n\n[60000 rows x 144 columns]",
      "text/html": "<div>\n<style scoped>\n    .dataframe tbody tr th:only-of-type {\n        vertical-align: middle;\n    }\n\n    .dataframe tbody tr th {\n        vertical-align: top;\n    }\n\n    .dataframe thead th {\n        text-align: right;\n    }\n</style>\n<table border=\"1\" class=\"dataframe\">\n  <thead>\n    <tr style=\"text-align: right;\">\n      <th></th>\n      <th>SK_ID_CURR</th>\n      <th>TARGET</th>\n      <th>NAME_CONTRACT_TYPE</th>\n      <th>CODE_GENDER</th>\n      <th>FLAG_OWN_CAR</th>\n      <th>FLAG_OWN_REALTY</th>\n      <th>CNT_CHILDREN</th>\n      <th>AMT_INCOME_TOTAL</th>\n      <th>AMT_CREDIT</th>\n      <th>AMT_ANNUITY</th>\n      <th>...</th>\n      <th>ANNUITY_TO_INCOME_RATIO</th>\n      <th>CREDIT_TO_INCOME_RATIO</th>\n      <th>INCOME_TO_EMPLOYED_RATIO</th>\n      <th>INCOME_TO_BIRTH_RATIO</th>\n      <th>EMPLOYED_TO_BIRTH_RATIO</th>\n      <th>ID_TO_BIRTH_RATIO</th>\n      <th>CAR_TO_BIRTH_RATIO</th>\n      <th>CAR_TO_EMPLOYED_RATIO</th>\n      <th>PHONE_TO_BIRTH_RATIO</th>\n      <th>GROUP_EXT_SOURCES_MEDIAN</th>\n    </tr>\n  </thead>\n  <tbody>\n    <tr>\n      <th>0</th>\n      <td>100002</td>\n      <td>1.0</td>\n      <td>Cash loans</td>\n      <td>M</td>\n      <td>N</td>\n      <td>Y</td>\n      <td>0</td>\n      <td>202500.0</td>\n      <td>406597.5</td>\n      <td>24700.5</td>\n      <td>...</td>\n      <td>0.121978</td>\n      <td>2.007889</td>\n      <td>-317.896389</td>\n      <td>-21.403657</td>\n      <td>0.067329</td>\n      <td>0.224078</td>\n      <td>NaN</td>\n      <td>NaN</td>\n      <td>0.119860</td>\n      <td>0.378817</td>\n    </tr>\n    <tr>\n      <th>1</th>\n      <td>100003</td>\n      <td>0.0</td>\n      <td>Cash loans</td>\n      <td>F</td>\n      <td>N</td>\n      <td>N</td>\n      <td>0</td>\n      <td>270000.0</td>\n      <td>1293502.5</td>\n      <td>35698.5</td>\n      <td>...</td>\n      <td>0.132217</td>\n      <td>4.790750</td>\n      <td>-227.272727</td>\n      <td>-16.104981</td>\n      <td>0.070862</td>\n      <td>0.017358</td>\n      <td>NaN</td>\n      <td>NaN</td>\n      <td>0.049389</td>\n      <td>0.572513</td>\n    </tr>\n    <tr>\n      <th>2</th>\n      <td>100004</td>\n      <td>0.0</td>\n      <td>Revolving loans</td>\n      <td>M</td>\n      <td>Y</td>\n      <td>Y</td>\n      <td>0</td>\n      <td>67500.0</td>\n      <td>135000.0</td>\n      <td>6750.0</td>\n      <td>...</td>\n      <td>0.100000</td>\n      <td>2.000000</td>\n      <td>-300.000000</td>\n      <td>-3.544051</td>\n      <td>0.011814</td>\n      <td>0.132889</td>\n      <td>-0.001365</td>\n      <td>-0.115556</td>\n      <td>0.042791</td>\n      <td>0.602979</td>\n    </tr>\n    <tr>\n      <th>3</th>\n      <td>100006</td>\n      <td>0.0</td>\n      <td>Cash loans</td>\n      <td>F</td>\n      <td>N</td>\n      <td>Y</td>\n      <td>0</td>\n      <td>135000.0</td>\n      <td>312682.5</td>\n      <td>29686.5</td>\n      <td>...</td>\n      <td>0.219900</td>\n      <td>2.316167</td>\n      <td>-44.422507</td>\n      <td>-7.103394</td>\n      <td>0.159905</td>\n      <td>0.128229</td>\n      <td>NaN</td>\n      <td>NaN</td>\n      <td>0.032465</td>\n      <td>0.577263</td>\n    </tr>\n    <tr>\n      <th>4</th>\n      <td>100007</td>\n      <td>0.0</td>\n      <td>Cash loans</td>\n      <td>M</td>\n      <td>N</td>\n      <td>Y</td>\n      <td>0</td>\n      <td>121500.0</td>\n      <td>513000.0</td>\n      <td>21865.5</td>\n      <td>...</td>\n      <td>0.179963</td>\n      <td>4.222222</td>\n      <td>-39.993417</td>\n      <td>-6.095725</td>\n      <td>0.152418</td>\n      <td>0.173490</td>\n      <td>NaN</td>\n      <td>NaN</td>\n      <td>0.055489</td>\n      <td>0.322738</td>\n    </tr>\n    <tr>\n      <th>...</th>\n      <td>...</td>\n      <td>...</td>\n      <td>...</td>\n      <td>...</td>\n      <td>...</td>\n      <td>...</td>\n      <td>...</td>\n      <td>...</td>\n      <td>...</td>\n      <td>...</td>\n      <td>...</td>\n      <td>...</td>\n      <td>...</td>\n      <td>...</td>\n      <td>...</td>\n      <td>...</td>\n      <td>...</td>\n      <td>...</td>\n      <td>...</td>\n      <td>...</td>\n      <td>...</td>\n    </tr>\n    <tr>\n      <th>59995</th>\n      <td>318261</td>\n      <td>NaN</td>\n      <td>Cash loans</td>\n      <td>F</td>\n      <td>N</td>\n      <td>Y</td>\n      <td>0</td>\n      <td>126000.0</td>\n      <td>148500.0</td>\n      <td>15345.0</td>\n      <td>...</td>\n      <td>0.121786</td>\n      <td>1.178571</td>\n      <td>NaN</td>\n      <td>-5.823896</td>\n      <td>NaN</td>\n      <td>0.214514</td>\n      <td>NaN</td>\n      <td>NaN</td>\n      <td>0.086342</td>\n      <td>NaN</td>\n    </tr>\n    <tr>\n      <th>59996</th>\n      <td>318263</td>\n      <td>NaN</td>\n      <td>Cash loans</td>\n      <td>F</td>\n      <td>N</td>\n      <td>Y</td>\n      <td>0</td>\n      <td>135000.0</td>\n      <td>601470.0</td>\n      <td>30838.5</td>\n      <td>...</td>\n      <td>0.228433</td>\n      <td>4.455333</td>\n      <td>-51.097653</td>\n      <td>-7.517541</td>\n      <td>0.147121</td>\n      <td>0.084586</td>\n      <td>NaN</td>\n      <td>NaN</td>\n      <td>0.090545</td>\n      <td>NaN</td>\n    </tr>\n    <tr>\n      <th>59997</th>\n      <td>318264</td>\n      <td>NaN</td>\n      <td>Cash loans</td>\n      <td>F</td>\n      <td>N</td>\n      <td>N</td>\n      <td>0</td>\n      <td>130500.0</td>\n      <td>260640.0</td>\n      <td>31059.0</td>\n      <td>...</td>\n      <td>0.238000</td>\n      <td>1.997241</td>\n      <td>-149.827784</td>\n      <td>-6.538731</td>\n      <td>0.043642</td>\n      <td>0.176420</td>\n      <td>NaN</td>\n      <td>NaN</td>\n      <td>0.059074</td>\n      <td>0.598611</td>\n    </tr>\n    <tr>\n      <th>59998</th>\n      <td>318266</td>\n      <td>NaN</td>\n      <td>Cash loans</td>\n      <td>F</td>\n      <td>N</td>\n      <td>N</td>\n      <td>0</td>\n      <td>202500.0</td>\n      <td>522396.0</td>\n      <td>38142.0</td>\n      <td>...</td>\n      <td>0.188356</td>\n      <td>2.579733</td>\n      <td>-103.580563</td>\n      <td>-19.886085</td>\n      <td>0.191987</td>\n      <td>0.280271</td>\n      <td>NaN</td>\n      <td>NaN</td>\n      <td>0.159678</td>\n      <td>0.455738</td>\n    </tr>\n    <tr>\n      <th>59999</th>\n      <td>318267</td>\n      <td>NaN</td>\n      <td>Cash loans</td>\n      <td>F</td>\n      <td>N</td>\n      <td>Y</td>\n      <td>0</td>\n      <td>90000.0</td>\n      <td>639387.0</td>\n      <td>28291.5</td>\n      <td>...</td>\n      <td>0.314350</td>\n      <td>7.104300</td>\n      <td>-142.180095</td>\n      <td>-5.272717</td>\n      <td>0.037085</td>\n      <td>0.036030</td>\n      <td>NaN</td>\n      <td>NaN</td>\n      <td>0.116351</td>\n      <td>NaN</td>\n    </tr>\n  </tbody>\n</table>\n<p>60000 rows × 144 columns</p>\n</div>"
     },
     "execution_count": 171,
     "metadata": {},
     "output_type": "execute_result"
    }
   ],
   "source": [
    "df"
   ],
   "metadata": {
    "collapsed": false,
    "pycharm": {
     "name": "#%%\n"
    }
   }
  },
  {
   "cell_type": "code",
   "execution_count": null,
   "outputs": [],
   "source": [
    "gp.head()"
   ],
   "metadata": {
    "collapsed": false,
    "pycharm": {
     "name": "#%%\n"
    }
   }
  },
  {
   "cell_type": "code",
   "execution_count": null,
   "outputs": [],
   "source": [
    "df[group_cols]"
   ],
   "metadata": {
    "collapsed": false,
    "pycharm": {
     "name": "#%%\n"
    }
   }
  },
  {
   "cell_type": "code",
   "execution_count": null,
   "outputs": [],
   "source": [],
   "metadata": {
    "collapsed": false,
    "pycharm": {
     "name": "#%%\n"
    }
   }
  },
  {
   "cell_type": "code",
   "execution_count": 200,
   "outputs": [],
   "source": [
    "@contextmanager\n",
    "def timer(name):\n",
    "    t0 = time.time()\n",
    "    yield\n",
    "    print(\"{} - done in {:.0f}s\".format(name, time.time() - t0))\n",
    "\n",
    "\n",
    "def group(df_to_agg, prefix, aggregations, aggregate_by= 'SK_ID_CURR'):\n",
    "    agg_df = df_to_agg.groupby(aggregate_by).agg(aggregations)\n",
    "    agg_df.columns = pd.Index(['{}{}_{}'.format(prefix, e[0], e[1].upper())\n",
    "                               for e in agg_df.columns.tolist()])\n",
    "    return agg_df.reset_index()\n",
    "\n",
    "\n",
    "def group_and_merge(df_to_agg, df_to_merge, prefix, aggregations, aggregate_by= 'SK_ID_CURR'):\n",
    "    agg_df = group(df_to_agg, prefix, aggregations, aggregate_by= aggregate_by)\n",
    "    return df_to_merge.merge(agg_df, how='left', on= aggregate_by)\n",
    "\n",
    "\n",
    "def do_mean(df, group_cols, counted, agg_name):\n",
    "    gp = df[group_cols + [counted]].groupby(group_cols)[counted].mean().reset_index().rename(\\\n",
    "        columns={counted: agg_name})\n",
    "    df = df.merge(gp, on=group_cols, how='left')\n",
    "    del gp\n",
    "    gc.collect()\n",
    "    return df\n",
    "\n",
    "\n",
    "def do_median(df, group_cols, counted, agg_name):\n",
    "    gp = df[group_cols + [counted]].groupby(group_cols)[counted].median().reset_index().rename(\n",
    "        columns={counted: agg_name})\n",
    "    df = df.merge(gp, on=group_cols, how='left')\n",
    "    del gp\n",
    "    gc.collect()\n",
    "    return df\n",
    "\n",
    "\n",
    "def do_std(df, group_cols, counted, agg_name):\n",
    "    gp = df[group_cols + [counted]].groupby(group_cols)[counted].std().reset_index().rename(\n",
    "        columns={counted: agg_name})\n",
    "    df = df.merge(gp, on=group_cols, how='left')\n",
    "    del gp\n",
    "    gc.collect()\n",
    "    return df\n",
    "\n",
    "\n",
    "def do_sum(df, group_cols, counted, agg_name):\n",
    "    gp = df[group_cols + [counted]].groupby(group_cols)[counted].sum().reset_index().rename(\n",
    "        columns={counted: agg_name})\n",
    "    df = df.merge(gp, on=group_cols, how='left')\n",
    "    del gp\n",
    "    gc.collect()\n",
    "    return df"
   ],
   "metadata": {
    "collapsed": false,
    "pycharm": {
     "name": "#%%\n"
    }
   }
  },
  {
   "cell_type": "code",
   "execution_count": null,
   "outputs": [],
   "source": [
    "from collections import deque\n"
   ],
   "metadata": {
    "collapsed": false,
    "pycharm": {
     "name": "#%%\n"
    }
   }
  },
  {
   "cell_type": "code",
   "execution_count": 196,
   "outputs": [],
   "source": [
    "def do_mean(df, group_cols, counted, agg_name):\n",
    "    gp = df[group_cols + [counted]].groupby(group_cols)[counted].mean().reset_index().rename(\n",
    "        columns={counted: agg_name})\n",
    "    df = df.merge(gp, on=group_cols, how='left')\n",
    "    del gp\n",
    "    gc.collect()\n",
    "    return df"
   ],
   "metadata": {
    "collapsed": false,
    "pycharm": {
     "name": "#%%\n"
    }
   }
  },
  {
   "cell_type": "code",
   "execution_count": 97,
   "outputs": [],
   "source": [
    "')"
   ],
   "metadata": {
    "collapsed": false,
    "pycharm": {
     "name": "#%%\n"
    }
   }
  },
  {
   "cell_type": "code",
   "execution_count": null,
   "outputs": [],
   "source": [
    "#truck_weights.pop(0)"
   ],
   "metadata": {
    "collapsed": false,
    "pycharm": {
     "name": "#%%\n"
    }
   }
  },
  {
   "cell_type": "code",
   "execution_count": 98,
   "outputs": [],
   "source": [
    "#sum(truck_weights)\n",
    "\n",
    "deque2 = deque([0,0,0])"
   ],
   "metadata": {
    "collapsed": false,
    "pycharm": {
     "name": "#%%\n"
    }
   }
  },
  {
   "cell_type": "code",
   "execution_count": 147,
   "outputs": [],
   "source": [
    "deque2.append(1)"
   ],
   "metadata": {
    "collapsed": false,
    "pycharm": {
     "name": "#%%\n"
    }
   }
  },
  {
   "cell_type": "code",
   "execution_count": 148,
   "outputs": [],
   "source": [
    "deque2.rotate(-1)"
   ],
   "metadata": {
    "collapsed": false,
    "pycharm": {
     "name": "#%%\n"
    }
   }
  },
  {
   "cell_type": "code",
   "execution_count": 150,
   "outputs": [],
   "source": [
    "deque2.pop()"
   ],
   "metadata": {
    "collapsed": false,
    "pycharm": {
     "name": "#%%\n"
    }
   }
  },
  {
   "cell_type": "code",
   "execution_count": 152,
   "outputs": [
    {
     "data": {
      "text/plain": "0"
     },
     "execution_count": 152,
     "metadata": {},
     "output_type": "execute_result"
    }
   ],
   "source": [
    "deque2"
   ],
   "metadata": {
    "collapsed": false,
    "pycharm": {
     "name": "#%%\n"
    }
   }
  },
  {
   "cell_type": "code",
   "execution_count": 153,
   "outputs": [
    {
     "data": {
      "text/plain": "deque([0, 0, 1])"
     },
     "execution_count": 153,
     "metadata": {},
     "output_type": "execute_result"
    }
   ],
   "source": [
    "on_bridge.append(3)"
   ],
   "metadata": {
    "collapsed": false,
    "pycharm": {
     "name": "#%%\n"
    }
   }
  },
  {
   "cell_type": "code",
   "execution_count": null,
   "outputs": [],
   "source": [
    "#truck_weights\n",
    "\n",
    "\n",
    "on_bridge = deque()"
   ],
   "metadata": {
    "collapsed": false,
    "pycharm": {
     "name": "#%%\n"
    }
   }
  },
  {
   "cell_type": "code",
   "execution_count": 122,
   "outputs": [
    {
     "data": {
      "text/plain": "7"
     },
     "execution_count": 122,
     "metadata": {},
     "output_type": "execute_result"
    }
   ],
   "source": [
    "\n",
    "\n",
    "\n",
    "sum(on_bridge)"
   ],
   "metadata": {
    "collapsed": false,
    "pycharm": {
     "name": "#%%\n"
    }
   }
  },
  {
   "cell_type": "code",
   "execution_count": 145,
   "outputs": [],
   "source": [
    "bridge_length= 10"
   ],
   "metadata": {
    "collapsed": false,
    "pycharm": {
     "name": "#%%\n"
    }
   }
  },
  {
   "cell_type": "code",
   "execution_count": 146,
   "outputs": [
    {
     "data": {
      "text/plain": "deque([0, 0, 0, 0, 0, 0, 0, 0, 0, 0])"
     },
     "execution_count": 146,
     "metadata": {},
     "output_type": "execute_result"
    }
   ],
   "source": [
    "deque([0] * bridge_length,maxlen=bridge_length)"
   ],
   "metadata": {
    "collapsed": false,
    "pycharm": {
     "name": "#%%\n"
    }
   }
  },
  {
   "cell_type": "code",
   "execution_count": null,
   "outputs": [],
   "source": [],
   "metadata": {
    "collapsed": false,
    "pycharm": {
     "name": "#%%\n"
    }
   }
  },
  {
   "cell_type": "code",
   "execution_count": 123,
   "outputs": [],
   "source": [
    "# 아직 다리에 오르지 않은 트럭이 있다면\n",
    "# 트럭을 무조건 빼면 안된다\n",
    "            #truck = truck_weights.pop(0)\n",
    "# 트럭이 들어가면 무게가 초과된다면 ,다리에 있는 트럭 중 하나를 빼고(x)\n",
    "            # 트럭에 있는 다리들을 왼쪽으로 한 칸씩 이동시키고 트럭이 내릴 순서가 되면 내리고 시간을 늘린다.\n",
    "            # 무게가 넘지 않는다면 트럭을 다리로 이동 시키고 원래 있던 트럭은 완료시키며(x)\n",
    "            # 다리의 길이가 2기 때문에 한칸씩 왼쪽으로 옮긴다 원시간은 지난다\n",
    "# 가장 처음 타임에는 옮기지 않는다 (x)->\n",
    "# 무게를 검사한 뒤 트럭을 옮긴다\n",
    "# 그래도 너무 하드코딩되네\n",
    "# 다른 사람 풀이 https://this-programmer.tistory.com/entry/%ED%94%84%EB%A1%9C%EA%B7%B8%EB%9E%98%EB%A8%B8%EC%8A%A4Level2%ED%8C%8C%EC%9D%B4%EC%8D%AC3python3-%EB%8B%A4%EB%A6%AC%EB%A5%BC-%EC%A7%80%EB%82%98%EB%8A%94-%ED%8A%B8%EB%9F%AD\n",
    "# 근데 이사람도 끔찍한 시도를 했다 . 나도 잠깐 했지만 트럭이 머문시간을 dict 에 저장하는건 너무 하드하다\n",
    "\n",
    "def solution(bridge_length, weight, truck_weights):\n",
    "\n",
    "    #on_bridge = deque([0] * bridge_length,maxlen=bridge_length)\n",
    "    #complete_truck = []\n",
    "    answer = 0\n",
    "    on_bridge = [0] * bridge_length\n",
    "    #complete_len = len(truck_weights)\n",
    "    #다리에 더할 필요 없이 어차피 다리에 더하는 시점이 끝나면 brige는 모두 빼야한다 -> 이 포인트를 잘못 잡았다\n",
    "    # 줄여 나가는 건 다리로 충분\n",
    "    # 이걸 잘못 잡았다\n",
    "    #while truck_weights or on_bridge:\n",
    "    # 또 complete truck 을 잡을 필요도 없었다\n",
    "    # 불필요하거나 잘못 짚는 포인트가 많다\n",
    "# 다른 사람 풀이보고 얼추 맞춘 코드.\n",
    "\n",
    "    while len(on_bridge):\n",
    "        answer += 1\n",
    "        on_bridge.popleft()\n",
    "        if truck_weights:\n",
    "            on_bridge_weight = sum(on_bridge) + truck_weights[0]\n",
    "            if on_bridge_weight > weight:\n",
    "                #on_bridge.rotate(-1)\n",
    "                #if on_bridge[0] != 0:\n",
    "                on_bridge.append(0)\n",
    "            else:\n",
    "                on_bridge.append(truck_weights.pop(0))\n",
    "        return answer\n",
    "        #         on_bridge.rotate(-1)\n",
    "        #\n",
    "        #         if on_bridge[0] != 0:\n",
    "        #             complete_truck.append(on_bridge.popleft())\n",
    "        # else:\n",
    "        #\n",
    "        #     on_bridge.rotate(-1)\n",
    "        #     if on_bridge[0] != 0:\n",
    "        #         complete_truck.append(on_bridge.popleft())\n",
    "        #\n",
    "        #         if len(complete_truck) == complete_len:\n",
    "        #\n",
    "        #\n",
    "\n",
    "    return answer"
   ],
   "metadata": {
    "collapsed": false,
    "pycharm": {
     "name": "#%%\n"
    }
   }
  },
  {
   "cell_type": "code",
   "execution_count": 110,
   "outputs": [],
   "source": [
    "#assert solution(bridge_length,weight,truck_weights)"
   ],
   "metadata": {
    "collapsed": false,
    "pycharm": {
     "name": "#%%\n"
    }
   }
  },
  {
   "cell_type": "code",
   "execution_count": 111,
   "outputs": [
    {
     "data": {
      "text/plain": "4"
     },
     "execution_count": 111,
     "metadata": {},
     "output_type": "execute_result"
    }
   ],
   "source": [
    "\n",
    "bridge_length = 2\n",
    "weight = 10\n",
    "truck_weights= [7,4,5,6]\n",
    "solution(bridge_length,weight,truck_weights)"
   ],
   "metadata": {
    "collapsed": false,
    "pycharm": {
     "name": "#%%\n"
    }
   }
  },
  {
   "cell_type": "code",
   "execution_count": 350,
   "outputs": [],
   "source": [
    "\n",
    "prev = pd.read_csv(os.path.join(path, 'previous_application.csv'), nrows= num_rows)\n",
    "pay = pd.read_csv(os.path.join(path, 'installments_payments.csv'), nrows= num_rows)"
   ],
   "metadata": {
    "collapsed": false,
    "pycharm": {
     "name": "#%%\n"
    }
   }
  },
  {
   "cell_type": "code",
   "execution_count": 352,
   "outputs": [],
   "source": [
    "# One-hot encode most important categorical features\n",
    "ohe_columns = [\n",
    "    'NAME_CONTRACT_STATUS', 'NAME_CONTRACT_TYPE', 'CHANNEL_TYPE',\n",
    "'NAME_TYPE_SUITE', 'NAME_YIELD_GROUP', 'PRODUCT_COMBINATION',\n",
    "        'NAME_PRODUCT_TYPE', 'NAME_CLIENT_TYPE']"
   ],
   "metadata": {
    "collapsed": false,
    "pycharm": {
     "name": "#%%\n"
    }
   }
  },
  {
   "cell_type": "code",
   "execution_count": 353,
   "outputs": [],
   "source": [
    "prev, categorical_cols = one_hot_encoder(prev, ohe_columns, nan_as_category= False)"
   ],
   "metadata": {
    "collapsed": false,
    "pycharm": {
     "name": "#%%\n"
    }
   }
  },
  {
   "cell_type": "code",
   "execution_count": 354,
   "outputs": [],
   "source": [
    "# Feature engineering: ratios and difference\n",
    "prev['APPLICATION_CREDIT_DIFF'] = prev['AMT_APPLICATION'] - prev['AMT_CREDIT']\n",
    "prev['APPLICATION_CREDIT_RATIO'] = prev['AMT_APPLICATION'] / prev['AMT_CREDIT']\n",
    "prev['CREDIT_TO_ANNUITY_RATIO'] = prev['AMT_CREDIT']/prev['AMT_ANNUITY']\n",
    "prev['DOWN_PAYMENT_TO_CREDIT'] = prev['AMT_DOWN_PAYMENT'] / prev['AMT_CREDIT']\n",
    "# Interest ratio on previous application (simplified)\n",
    "total_payment = prev['AMT_ANNUITY'] * prev['CNT_PAYMENT']\n",
    "prev['SIMPLE_INTERESTS'] = (total_payment/prev['AMT_CREDIT'] - 1)/prev['CNT_PAYMENT']\n",
    "\n"
   ],
   "metadata": {
    "collapsed": false,
    "pycharm": {
     "name": "#%%\n"
    }
   }
  },
  {
   "cell_type": "code",
   "execution_count": 357,
   "outputs": [],
   "source": [
    "approved = prev[prev['NAME_CONTRACT_STATUS_Approved']==1]"
   ],
   "metadata": {
    "collapsed": false,
    "pycharm": {
     "name": "#%%\n"
    }
   }
  },
  {
   "cell_type": "code",
   "execution_count": 392,
   "outputs": [],
   "source": [
    "active_df = approved[approved['DAYS_LAST_DUE'] ==365243]\n"
   ],
   "metadata": {
    "collapsed": false,
    "pycharm": {
     "name": "#%%\n"
    }
   }
  },
  {
   "cell_type": "code",
   "execution_count": 396,
   "outputs": [],
   "source": [
    "\n",
    "pay[pay['SK_ID_PREV'].isin(active_df['SK_ID_PREV'])]\n",
    "\n",
    "\n",
    "active_pay = pay[pay['SK_ID_PREV'].isin(active_df['SK_ID_PREV'])]"
   ],
   "metadata": {
    "collapsed": false,
    "pycharm": {
     "name": "#%%\n"
    }
   }
  },
  {
   "cell_type": "code",
   "execution_count": null,
   "outputs": [],
   "source": [],
   "metadata": {
    "collapsed": false,
    "pycharm": {
     "name": "#%%\n"
    }
   }
  },
  {
   "cell_type": "code",
   "execution_count": null,
   "outputs": [],
   "source": [
    "active_pay_agg = active_pay.groupby('SK_ID_PREV')[['AMT_INSTALMENT', 'AMT_PAYMENT']].sum()\n",
    "active_pay_agg"
   ],
   "metadata": {
    "collapsed": false,
    "pycharm": {
     "name": "#%%\n"
    }
   }
  },
  {
   "cell_type": "code",
   "execution_count": 366,
   "outputs": [],
   "source": [
    "active_pay_agg.reset_index(inplace=True)"
   ],
   "metadata": {
    "collapsed": false,
    "pycharm": {
     "name": "#%%\n"
    }
   }
  },
  {
   "cell_type": "code",
   "execution_count": 394,
   "outputs": [
    {
     "ename": "NameError",
     "evalue": "name 'active_pay_agg' is not defined",
     "output_type": "error",
     "traceback": [
      "\u001B[0;31m---------------------------------------------------------------------------\u001B[0m",
      "\u001B[0;31mNameError\u001B[0m                                 Traceback (most recent call last)",
      "\u001B[0;32m/var/folders/c6/2j22b1rd02778st12c0mcr3w0000gn/T/ipykernel_71814/1611751295.py\u001B[0m in \u001B[0;36m<module>\u001B[0;34m\u001B[0m\n\u001B[0;32m----> 1\u001B[0;31m \u001B[0mactive_pay_agg\u001B[0m\u001B[0;34m[\u001B[0m\u001B[0;34m'INSTALMENT_PAYMENT_DIFF'\u001B[0m\u001B[0;34m]\u001B[0m \u001B[0;34m=\u001B[0m \u001B[0mactive_pay_agg\u001B[0m\u001B[0;34m[\u001B[0m\u001B[0;34m'AMT_INSTALMENT'\u001B[0m\u001B[0;34m]\u001B[0m \u001B[0;34m-\u001B[0m\u001B[0mactive_pay_agg\u001B[0m\u001B[0;34m[\u001B[0m\u001B[0;34m'AMT_PAYMENT'\u001B[0m\u001B[0;34m]\u001B[0m\u001B[0;34m\u001B[0m\u001B[0;34m\u001B[0m\u001B[0m\n\u001B[0m",
      "\u001B[0;31mNameError\u001B[0m: name 'active_pay_agg' is not defined"
     ]
    }
   ],
   "source": [
    "active_pay_agg['INSTALMENT_PAYMENT_DIFF'] = active_pay_agg['AMT_INSTALMENT'] -active_pay_agg['AMT_PAYMENT']"
   ],
   "metadata": {
    "collapsed": false,
    "pycharm": {
     "name": "#%%\n"
    }
   }
  },
  {
   "cell_type": "code",
   "execution_count": 376,
   "outputs": [],
   "source": [
    "active_df = active_df.merge(active_pay_agg, on='SK_ID_PREV',how='left')"
   ],
   "metadata": {
    "collapsed": false,
    "pycharm": {
     "name": "#%%\n"
    }
   }
  },
  {
   "cell_type": "code",
   "execution_count": 377,
   "outputs": [],
   "source": [
    "active_df['REMAINING_DEBT'] = active_df['AMT_CREDIT']- active_df['AMT_PAYMENT']"
   ],
   "metadata": {
    "collapsed": false,
    "pycharm": {
     "name": "#%%\n"
    }
   }
  },
  {
   "cell_type": "code",
   "execution_count": 378,
   "outputs": [],
   "source": [
    "active_df['REPAYMENT_RATIO']= active_df['AMT_PAYMENT'] / active_df['AMT_CREDIT']"
   ],
   "metadata": {
    "collapsed": false,
    "pycharm": {
     "name": "#%%\n"
    }
   }
  },
  {
   "cell_type": "code",
   "execution_count": 381,
   "outputs": [],
   "source": [
    "PREVIOUS_ACTIVE_AGG = {\n",
    "    'SK_ID_PREV': ['nunique'],\n",
    "    'SIMPLE_INTERESTS': ['mean'],\n",
    "    'AMT_ANNUITY': ['max', 'sum'],\n",
    "    'AMT_APPLICATION': ['max', 'mean'],\n",
    "    'AMT_CREDIT': ['sum'],\n",
    "    'AMT_DOWN_PAYMENT': ['max', 'mean'],\n",
    "    'DAYS_DECISION': ['min', 'mean'],\n",
    "    'CNT_PAYMENT': ['mean', 'sum'],\n",
    "    'DAYS_LAST_DUE_1ST_VERSION': ['min', 'max', 'mean'],\n",
    "    # Engineered features\n",
    "    'AMT_PAYMENT': ['sum'],\n",
    "    'INSTALMENT_PAYMENT_DIFF': ['mean', 'max'],\n",
    "    'REMAINING_DEBT': ['max', 'mean', 'sum'],\n",
    "    'REPAYMENT_RATIO': ['mean'],\n",
    "}"
   ],
   "metadata": {
    "collapsed": false,
    "pycharm": {
     "name": "#%%\n"
    }
   }
  },
  {
   "cell_type": "code",
   "execution_count": 393,
   "outputs": [
    {
     "ename": "KeyError",
     "evalue": "\"Column(s) ['AMT_PAYMENT', 'INSTALMENT_PAYMENT_DIFF', 'REMAINING_DEBT', 'REPAYMENT_RATIO'] do not exist\"",
     "output_type": "error",
     "traceback": [
      "\u001B[0;31m---------------------------------------------------------------------------\u001B[0m",
      "\u001B[0;31mKeyError\u001B[0m                                  Traceback (most recent call last)",
      "\u001B[0;32m/var/folders/c6/2j22b1rd02778st12c0mcr3w0000gn/T/ipykernel_71814/4197554556.py\u001B[0m in \u001B[0;36m<module>\u001B[0;34m\u001B[0m\n\u001B[1;32m      1\u001B[0m \u001B[0;31m# Perform aggregations for active applications\u001B[0m\u001B[0;34m\u001B[0m\u001B[0;34m\u001B[0m\u001B[0;34m\u001B[0m\u001B[0m\n\u001B[0;32m----> 2\u001B[0;31m \u001B[0mactive_agg_df\u001B[0m \u001B[0;34m=\u001B[0m \u001B[0mgroup\u001B[0m\u001B[0;34m(\u001B[0m\u001B[0mactive_df\u001B[0m\u001B[0;34m,\u001B[0m \u001B[0;34m'PREV_ACTIVE_'\u001B[0m\u001B[0;34m,\u001B[0m \u001B[0mPREVIOUS_ACTIVE_AGG\u001B[0m\u001B[0;34m)\u001B[0m\u001B[0;34m\u001B[0m\u001B[0;34m\u001B[0m\u001B[0m\n\u001B[0m\u001B[1;32m      3\u001B[0m \u001B[0mactive_agg_df\u001B[0m\u001B[0;34m[\u001B[0m\u001B[0;34m'TOTAL_REPAYMENT_RATIO'\u001B[0m\u001B[0;34m]\u001B[0m \u001B[0;34m=\u001B[0m \u001B[0mactive_agg_df\u001B[0m\u001B[0;34m[\u001B[0m\u001B[0;34m'PREV_ACTIVE_AMT_PAYMENT_SUM'\u001B[0m\u001B[0;34m]\u001B[0m\u001B[0;34m/\u001B[0m\u001B[0;31m\\\u001B[0m\u001B[0;34m\u001B[0m\u001B[0;34m\u001B[0m\u001B[0m\n\u001B[1;32m      4\u001B[0m                                          \u001B[0mactive_agg_df\u001B[0m\u001B[0;34m[\u001B[0m\u001B[0;34m'PREV_ACTIVE_AMT_CREDIT_SUM'\u001B[0m\u001B[0;34m]\u001B[0m\u001B[0;34m\u001B[0m\u001B[0;34m\u001B[0m\u001B[0m\n\u001B[1;32m      5\u001B[0m \u001B[0;32mdel\u001B[0m \u001B[0mactive_pay\u001B[0m\u001B[0;34m,\u001B[0m \u001B[0mactive_pay_agg\u001B[0m\u001B[0;34m,\u001B[0m \u001B[0mactive_df\u001B[0m\u001B[0;34m;\u001B[0m \u001B[0mgc\u001B[0m\u001B[0;34m.\u001B[0m\u001B[0mcollect\u001B[0m\u001B[0;34m(\u001B[0m\u001B[0;34m)\u001B[0m\u001B[0;34m\u001B[0m\u001B[0;34m\u001B[0m\u001B[0m\n",
      "\u001B[0;32m/var/folders/c6/2j22b1rd02778st12c0mcr3w0000gn/T/ipykernel_71814/2054604530.py\u001B[0m in \u001B[0;36mgroup\u001B[0;34m(df_to_agg, prefix, aggregations, aggregate_by)\u001B[0m\n\u001B[1;32m      1\u001B[0m \u001B[0;32mdef\u001B[0m \u001B[0mgroup\u001B[0m\u001B[0;34m(\u001B[0m\u001B[0mdf_to_agg\u001B[0m\u001B[0;34m,\u001B[0m \u001B[0mprefix\u001B[0m\u001B[0;34m,\u001B[0m \u001B[0maggregations\u001B[0m\u001B[0;34m,\u001B[0m \u001B[0maggregate_by\u001B[0m\u001B[0;34m=\u001B[0m \u001B[0;34m'SK_ID_CURR'\u001B[0m\u001B[0;34m)\u001B[0m\u001B[0;34m:\u001B[0m\u001B[0;34m\u001B[0m\u001B[0;34m\u001B[0m\u001B[0m\n\u001B[0;32m----> 2\u001B[0;31m     \u001B[0magg_df\u001B[0m \u001B[0;34m=\u001B[0m \u001B[0mdf_to_agg\u001B[0m\u001B[0;34m.\u001B[0m\u001B[0mgroupby\u001B[0m\u001B[0;34m(\u001B[0m\u001B[0maggregate_by\u001B[0m\u001B[0;34m)\u001B[0m\u001B[0;34m.\u001B[0m\u001B[0magg\u001B[0m\u001B[0;34m(\u001B[0m\u001B[0maggregations\u001B[0m\u001B[0;34m)\u001B[0m\u001B[0;34m\u001B[0m\u001B[0;34m\u001B[0m\u001B[0m\n\u001B[0m\u001B[1;32m      3\u001B[0m     agg_df.columns = pd.Index(['{}{}_{}'.format(prefix, e[0], e[1].upper())\n\u001B[1;32m      4\u001B[0m                                for e in agg_df.columns.tolist()])\n\u001B[1;32m      5\u001B[0m     \u001B[0;32mreturn\u001B[0m \u001B[0magg_df\u001B[0m\u001B[0;34m.\u001B[0m\u001B[0mreset_index\u001B[0m\u001B[0;34m(\u001B[0m\u001B[0;34m)\u001B[0m\u001B[0;34m\u001B[0m\u001B[0;34m\u001B[0m\u001B[0m\n",
      "\u001B[0;32m~/PycharmProjects/pythonProject/Kaggle/venv/lib/python3.8/site-packages/pandas/core/groupby/generic.py\u001B[0m in \u001B[0;36maggregate\u001B[0;34m(self, func, engine, engine_kwargs, *args, **kwargs)\u001B[0m\n\u001B[1;32m    977\u001B[0m \u001B[0;34m\u001B[0m\u001B[0m\n\u001B[1;32m    978\u001B[0m         \u001B[0mop\u001B[0m \u001B[0;34m=\u001B[0m \u001B[0mGroupByApply\u001B[0m\u001B[0;34m(\u001B[0m\u001B[0mself\u001B[0m\u001B[0;34m,\u001B[0m \u001B[0mfunc\u001B[0m\u001B[0;34m,\u001B[0m \u001B[0margs\u001B[0m\u001B[0;34m,\u001B[0m \u001B[0mkwargs\u001B[0m\u001B[0;34m)\u001B[0m\u001B[0;34m\u001B[0m\u001B[0;34m\u001B[0m\u001B[0m\n\u001B[0;32m--> 979\u001B[0;31m         \u001B[0mresult\u001B[0m \u001B[0;34m=\u001B[0m \u001B[0mop\u001B[0m\u001B[0;34m.\u001B[0m\u001B[0magg\u001B[0m\u001B[0;34m(\u001B[0m\u001B[0;34m)\u001B[0m\u001B[0;34m\u001B[0m\u001B[0;34m\u001B[0m\u001B[0m\n\u001B[0m\u001B[1;32m    980\u001B[0m         \u001B[0;32mif\u001B[0m \u001B[0;32mnot\u001B[0m \u001B[0mis_dict_like\u001B[0m\u001B[0;34m(\u001B[0m\u001B[0mfunc\u001B[0m\u001B[0;34m)\u001B[0m \u001B[0;32mand\u001B[0m \u001B[0mresult\u001B[0m \u001B[0;32mis\u001B[0m \u001B[0;32mnot\u001B[0m \u001B[0;32mNone\u001B[0m\u001B[0;34m:\u001B[0m\u001B[0;34m\u001B[0m\u001B[0;34m\u001B[0m\u001B[0m\n\u001B[1;32m    981\u001B[0m             \u001B[0;32mreturn\u001B[0m \u001B[0mresult\u001B[0m\u001B[0;34m\u001B[0m\u001B[0;34m\u001B[0m\u001B[0m\n",
      "\u001B[0;32m~/PycharmProjects/pythonProject/Kaggle/venv/lib/python3.8/site-packages/pandas/core/apply.py\u001B[0m in \u001B[0;36magg\u001B[0;34m(self)\u001B[0m\n\u001B[1;32m    159\u001B[0m \u001B[0;34m\u001B[0m\u001B[0m\n\u001B[1;32m    160\u001B[0m         \u001B[0;32mif\u001B[0m \u001B[0mis_dict_like\u001B[0m\u001B[0;34m(\u001B[0m\u001B[0marg\u001B[0m\u001B[0;34m)\u001B[0m\u001B[0;34m:\u001B[0m\u001B[0;34m\u001B[0m\u001B[0;34m\u001B[0m\u001B[0m\n\u001B[0;32m--> 161\u001B[0;31m             \u001B[0;32mreturn\u001B[0m \u001B[0mself\u001B[0m\u001B[0;34m.\u001B[0m\u001B[0magg_dict_like\u001B[0m\u001B[0;34m(\u001B[0m\u001B[0;34m)\u001B[0m\u001B[0;34m\u001B[0m\u001B[0;34m\u001B[0m\u001B[0m\n\u001B[0m\u001B[1;32m    162\u001B[0m         \u001B[0;32melif\u001B[0m \u001B[0mis_list_like\u001B[0m\u001B[0;34m(\u001B[0m\u001B[0marg\u001B[0m\u001B[0;34m)\u001B[0m\u001B[0;34m:\u001B[0m\u001B[0;34m\u001B[0m\u001B[0;34m\u001B[0m\u001B[0m\n\u001B[1;32m    163\u001B[0m             \u001B[0;31m# we require a list, but not a 'str'\u001B[0m\u001B[0;34m\u001B[0m\u001B[0;34m\u001B[0m\u001B[0;34m\u001B[0m\u001B[0m\n",
      "\u001B[0;32m~/PycharmProjects/pythonProject/Kaggle/venv/lib/python3.8/site-packages/pandas/core/apply.py\u001B[0m in \u001B[0;36magg_dict_like\u001B[0;34m(self)\u001B[0m\n\u001B[1;32m    425\u001B[0m             \u001B[0mselection\u001B[0m \u001B[0;34m=\u001B[0m \u001B[0mobj\u001B[0m\u001B[0;34m.\u001B[0m\u001B[0m_selection\u001B[0m\u001B[0;34m\u001B[0m\u001B[0;34m\u001B[0m\u001B[0m\n\u001B[1;32m    426\u001B[0m \u001B[0;34m\u001B[0m\u001B[0m\n\u001B[0;32m--> 427\u001B[0;31m         \u001B[0marg\u001B[0m \u001B[0;34m=\u001B[0m \u001B[0mself\u001B[0m\u001B[0;34m.\u001B[0m\u001B[0mnormalize_dictlike_arg\u001B[0m\u001B[0;34m(\u001B[0m\u001B[0;34m\"agg\"\u001B[0m\u001B[0;34m,\u001B[0m \u001B[0mselected_obj\u001B[0m\u001B[0;34m,\u001B[0m \u001B[0marg\u001B[0m\u001B[0;34m)\u001B[0m\u001B[0;34m\u001B[0m\u001B[0;34m\u001B[0m\u001B[0m\n\u001B[0m\u001B[1;32m    428\u001B[0m \u001B[0;34m\u001B[0m\u001B[0m\n\u001B[1;32m    429\u001B[0m         \u001B[0;32mif\u001B[0m \u001B[0mselected_obj\u001B[0m\u001B[0;34m.\u001B[0m\u001B[0mndim\u001B[0m \u001B[0;34m==\u001B[0m \u001B[0;36m1\u001B[0m\u001B[0;34m:\u001B[0m\u001B[0;34m\u001B[0m\u001B[0;34m\u001B[0m\u001B[0m\n",
      "\u001B[0;32m~/PycharmProjects/pythonProject/Kaggle/venv/lib/python3.8/site-packages/pandas/core/apply.py\u001B[0m in \u001B[0;36mnormalize_dictlike_arg\u001B[0;34m(self, how, obj, func)\u001B[0m\n\u001B[1;32m    544\u001B[0m             \u001B[0;32mif\u001B[0m \u001B[0mlen\u001B[0m\u001B[0;34m(\u001B[0m\u001B[0mcols\u001B[0m\u001B[0;34m)\u001B[0m \u001B[0;34m>\u001B[0m \u001B[0;36m0\u001B[0m\u001B[0;34m:\u001B[0m\u001B[0;34m\u001B[0m\u001B[0;34m\u001B[0m\u001B[0m\n\u001B[1;32m    545\u001B[0m                 \u001B[0mcols_sorted\u001B[0m \u001B[0;34m=\u001B[0m \u001B[0mlist\u001B[0m\u001B[0;34m(\u001B[0m\u001B[0msafe_sort\u001B[0m\u001B[0;34m(\u001B[0m\u001B[0mlist\u001B[0m\u001B[0;34m(\u001B[0m\u001B[0mcols\u001B[0m\u001B[0;34m)\u001B[0m\u001B[0;34m)\u001B[0m\u001B[0;34m)\u001B[0m\u001B[0;34m\u001B[0m\u001B[0;34m\u001B[0m\u001B[0m\n\u001B[0;32m--> 546\u001B[0;31m                 \u001B[0;32mraise\u001B[0m \u001B[0mKeyError\u001B[0m\u001B[0;34m(\u001B[0m\u001B[0;34mf\"Column(s) {cols_sorted} do not exist\"\u001B[0m\u001B[0;34m)\u001B[0m\u001B[0;34m\u001B[0m\u001B[0;34m\u001B[0m\u001B[0m\n\u001B[0m\u001B[1;32m    547\u001B[0m \u001B[0;34m\u001B[0m\u001B[0m\n\u001B[1;32m    548\u001B[0m         \u001B[0mis_aggregator\u001B[0m \u001B[0;34m=\u001B[0m \u001B[0;32mlambda\u001B[0m \u001B[0mx\u001B[0m\u001B[0;34m:\u001B[0m \u001B[0misinstance\u001B[0m\u001B[0;34m(\u001B[0m\u001B[0mx\u001B[0m\u001B[0;34m,\u001B[0m \u001B[0;34m(\u001B[0m\u001B[0mlist\u001B[0m\u001B[0;34m,\u001B[0m \u001B[0mtuple\u001B[0m\u001B[0;34m,\u001B[0m \u001B[0mdict\u001B[0m\u001B[0;34m)\u001B[0m\u001B[0;34m)\u001B[0m\u001B[0;34m\u001B[0m\u001B[0;34m\u001B[0m\u001B[0m\n",
      "\u001B[0;31mKeyError\u001B[0m: \"Column(s) ['AMT_PAYMENT', 'INSTALMENT_PAYMENT_DIFF', 'REMAINING_DEBT', 'REPAYMENT_RATIO'] do not exist\""
     ]
    }
   ],
   "source": [
    "# Perform aggregations for active applications\n",
    "active_agg_df = group(active_df, 'PREV_ACTIVE_', PREVIOUS_ACTIVE_AGG)\n",
    "active_agg_df['TOTAL_REPAYMENT_RATIO'] = active_agg_df['PREV_ACTIVE_AMT_PAYMENT_SUM']/\\\n",
    "                                         active_agg_df['PREV_ACTIVE_AMT_CREDIT_SUM']\n",
    "del active_pay, active_pay_agg, active_df; gc.collect()"
   ],
   "metadata": {
    "collapsed": false,
    "pycharm": {
     "name": "#%%\n"
    }
   }
  },
  {
   "cell_type": "code",
   "execution_count": null,
   "outputs": [],
   "source": [
    "prev['DAYS_FIRST_DRAWING'].replace(365243, np.nan,inplace=True)\n",
    "prev['DAYS_FIRST_DUE'].replace(365243,np.nan,inplace=True)\n",
    "prev['DAYS_LAST_DUE_1ST_VERSION'].replcae(365243, np.nan, inplace=True)"
   ],
   "metadata": {
    "collapsed": false,
    "pycharm": {
     "name": "#%%\n"
    }
   }
  },
  {
   "cell_type": "code",
   "execution_count": null,
   "outputs": [],
   "source": [
    "prev['DAYS_LAST_DUE'].replace(365243, np.nan, inplace=True)"
   ],
   "metadata": {
    "collapsed": false,
    "pycharm": {
     "name": "#%%\n"
    }
   }
  },
  {
   "cell_type": "code",
   "execution_count": null,
   "outputs": [],
   "source": [
    "prev['DAYS_TERMINATION'].replace(365243,np.nan, inplace=True)"
   ],
   "metadata": {
    "collapsed": false,
    "pycharm": {
     "name": "#%%\n"
    }
   }
  },
  {
   "cell_type": "code",
   "execution_count": 403,
   "outputs": [
    {
     "name": "stderr",
     "output_type": "stream",
     "text": [
      "/var/folders/c6/2j22b1rd02778st12c0mcr3w0000gn/T/ipykernel_71814/983118302.py:3: SettingWithCopyWarning: \n",
      "A value is trying to be set on a copy of a slice from a DataFrame.\n",
      "Try using .loc[row_indexer,col_indexer] = value instead\n",
      "\n",
      "See the caveats in the documentation: https://pandas.pydata.org/pandas-docs/stable/user_guide/indexing.html#returning-a-view-versus-a-copy\n",
      "  approved['DAYS_LAST_DUE_DIFF'] = approved['DAYS_LAST_DUE_1ST_VERSION'] - approved['DAYS_LAST_DUE']\n"
     ]
    }
   ],
   "source": [
    "\n",
    "\n",
    "# Days last due difference (scheduled x done)\n",
    "prev['DAYS_LAST_DUE_DIFF'] = prev['DAYS_LAST_DUE_1ST_VERSION'] - prev['DAYS_LAST_DUE']\n",
    "approved['DAYS_LAST_DUE_DIFF'] = approved['DAYS_LAST_DUE_1ST_VERSION'] - approved['DAYS_LAST_DUE']"
   ],
   "metadata": {
    "collapsed": false,
    "pycharm": {
     "name": "#%%\n"
    }
   }
  },
  {
   "cell_type": "code",
   "execution_count": null,
   "outputs": [],
   "source": [
    "prev['DAYS_LAST_DUE_DIFF'] = prev['DAYS_LAST_DUE_1ST_VERSION'] -prev['DAYS_LAST_DUE']"
   ],
   "metadata": {
    "collapsed": false,
    "pycharm": {
     "name": "#%%\n"
    }
   }
  },
  {
   "cell_type": "code",
   "execution_count": 384,
   "outputs": [],
   "source": [
    "PREVIOUS_AGG = {\n",
    "    'SK_ID_PREV': ['nunique'],\n",
    "    'AMT_ANNUITY': ['min', 'max', 'mean'],\n",
    "    'AMT_DOWN_PAYMENT': ['max', 'mean'],\n",
    "    'HOUR_APPR_PROCESS_START': ['min', 'max', 'mean'],\n",
    "    'RATE_DOWN_PAYMENT': ['max', 'mean'],\n",
    "    'DAYS_DECISION': ['min', 'max', 'mean'],\n",
    "    'CNT_PAYMENT': ['max', 'mean'],\n",
    "    'DAYS_TERMINATION': ['max'],\n",
    "    # Engineered features\n",
    "    'CREDIT_TO_ANNUITY_RATIO': ['mean', 'max'],\n",
    "    'APPLICATION_CREDIT_DIFF': ['min', 'max', 'mean'],\n",
    "    'APPLICATION_CREDIT_RATIO': ['min', 'max', 'mean', 'var'],\n",
    "    'DOWN_PAYMENT_TO_CREDIT': ['mean'],\n",
    "}"
   ],
   "metadata": {
    "collapsed": false,
    "pycharm": {
     "name": "#%%\n"
    }
   }
  },
  {
   "cell_type": "code",
   "execution_count": 388,
   "outputs": [],
   "source": [
    "\n",
    "\n",
    "PREVIOUS_APPROVED_AGG = {\n",
    "    'SK_ID_PREV': ['nunique'],\n",
    "    'AMT_ANNUITY': ['min', 'max', 'mean'],\n",
    "    'AMT_CREDIT': ['min', 'max', 'mean'],\n",
    "    'AMT_DOWN_PAYMENT': ['max'],\n",
    "    'AMT_GOODS_PRICE': ['max'],\n",
    "    'HOUR_APPR_PROCESS_START': ['min', 'max'],\n",
    "    'DAYS_DECISION': ['min', 'mean'],\n",
    "    'CNT_PAYMENT': ['max', 'mean'],\n",
    "    'DAYS_TERMINATION': ['mean'],\n",
    "    # Engineered features\n",
    "    'CREDIT_TO_ANNUITY_RATIO': ['mean', 'max'],\n",
    "    'APPLICATION_CREDIT_DIFF': ['max'],\n",
    "    'APPLICATION_CREDIT_RATIO': ['min', 'max', 'mean'],\n",
    "    # The following features are only for approved applications\n",
    "    'DAYS_FIRST_DRAWING': ['max', 'mean'],\n",
    "    'DAYS_FIRST_DUE': ['min', 'mean'],\n",
    "    'DAYS_LAST_DUE_1ST_VERSION': ['min', 'max', 'mean'],\n",
    "    'DAYS_LAST_DUE': ['max', 'mean'],\n",
    "    'DAYS_LAST_DUE_DIFF': ['min', 'max', 'mean'],\n",
    "    'SIMPLE_INTERESTS': ['min', 'max', 'mean'],\n",
    "}"
   ],
   "metadata": {
    "collapsed": false,
    "pycharm": {
     "name": "#%%\n"
    }
   }
  },
  {
   "cell_type": "code",
   "execution_count": null,
   "outputs": [],
   "source": [
    "categorical_agg = {key: ['mean'] for key in categorical_cols}"
   ],
   "metadata": {
    "collapsed": false,
    "pycharm": {
     "name": "#%%\n"
    }
   }
  },
  {
   "cell_type": "code",
   "execution_count": 390,
   "outputs": [
    {
     "ename": "NameError",
     "evalue": "name 'active_agg_df' is not defined",
     "output_type": "error",
     "traceback": [
      "\u001B[0;31m---------------------------------------------------------------------------\u001B[0m",
      "\u001B[0;31mNameError\u001B[0m                                 Traceback (most recent call last)",
      "\u001B[0;32m/var/folders/c6/2j22b1rd02778st12c0mcr3w0000gn/T/ipykernel_71814/298078979.py\u001B[0m in \u001B[0;36m<module>\u001B[0;34m\u001B[0m\n\u001B[0;32m----> 1\u001B[0;31m \u001B[0mactive_agg_df\u001B[0m\u001B[0;34m\u001B[0m\u001B[0;34m\u001B[0m\u001B[0m\n\u001B[0m",
      "\u001B[0;31mNameError\u001B[0m: name 'active_agg_df' is not defined"
     ]
    }
   ],
   "source": [
    "active_agg_df"
   ],
   "metadata": {
    "collapsed": false,
    "pycharm": {
     "name": "#%%\n"
    }
   }
  },
  {
   "cell_type": "code",
   "execution_count": null,
   "outputs": [],
   "source": [
    "#Perform general aggregatinos\n",
    "agg_prev =  group(prev, 'PREV_' , {**PREVIOUS_AGG, **categorical_agg})\n",
    "# Merge active loans dataframe on ag_prev\n",
    "agg_prev = agg_prev.merge(active_agg_df, how='left', on='SK_ID_CURR')\n",
    "del active_agg_df\n",
    "; gc.collect"
   ],
   "metadata": {
    "collapsed": false,
    "pycharm": {
     "name": "#%%\n"
    }
   }
  },
  {
   "cell_type": "code",
   "execution_count": 404,
   "outputs": [],
   "source": [
    "# Aggregations for approved and refused loans\n",
    "agg_prev = group_and_merge(approved, agg_prev, 'APPROVED_', PREVIOUS_APPROVED_AGG)"
   ],
   "metadata": {
    "collapsed": false,
    "pycharm": {
     "name": "#%%\n"
    }
   }
  },
  {
   "cell_type": "code",
   "execution_count": 408,
   "outputs": [],
   "source": [
    "refused = prev[prev['NAME_CONTRACT_STATUS_Refused'] == 1]"
   ],
   "metadata": {
    "collapsed": false,
    "pycharm": {
     "name": "#%%\n"
    }
   }
  },
  {
   "cell_type": "code",
   "execution_count": 409,
   "outputs": [
    {
     "data": {
      "text/plain": "       SK_ID_PREV  SK_ID_CURR  AMT_ANNUITY  AMT_APPLICATION  AMT_CREDIT  \\\n4         1784265      202054    31924.395         337500.0    404055.0   \n19        1173070      199178     4666.500          45000.0     49455.0   \n20        1506815      166490    25454.025         450000.0    491580.0   \n22        1172842      302212          NaN              0.0         0.0   \n23        1172937      302212    39475.305        1129500.0   1277104.5   \n...           ...         ...          ...              ...         ...   \n29981     2828876      251800     2250.000          45000.0     45000.0   \n29982     2013467      259882     2250.000          45000.0     45000.0   \n29986     1878361      214130    27449.820         450000.0    491580.0   \n29995     2006765      402412    19435.455          99832.5    105102.0   \n29999     2097098      302666     5505.705          51975.0     46777.5   \n\n       AMT_DOWN_PAYMENT  AMT_GOODS_PRICE WEEKDAY_APPR_PROCESS_START  \\\n4                   NaN         337500.0                   THURSDAY   \n19                  NaN          45000.0                   SATURDAY   \n20                  NaN         450000.0                     MONDAY   \n22                  NaN              NaN                    TUESDAY   \n23                  NaN        1129500.0                   THURSDAY   \n...                 ...              ...                        ...   \n29981               NaN          45000.0                     MONDAY   \n29982               NaN          45000.0                     FRIDAY   \n29986               NaN         450000.0                   THURSDAY   \n29995               0.0          99832.5                    TUESDAY   \n29999            5197.5          51975.0                     FRIDAY   \n\n       HOUR_APPR_PROCESS_START FLAG_LAST_APPL_PER_CONTRACT  ...  \\\n4                            9                           Y  ...   \n19                          16                           Y  ...   \n20                           6                           Y  ...   \n22                           9                           Y  ...   \n23                           5                           Y  ...   \n...                        ...                         ...  ...   \n29981                       13                           Y  ...   \n29982                       11                           Y  ...   \n29986                       12                           Y  ...   \n29995                       12                           Y  ...   \n29999                       16                           Y  ...   \n\n       NAME_CLIENT_TYPE_New  NAME_CLIENT_TYPE_Refreshed  \\\n4                         0                           0   \n19                        0                           0   \n20                        0                           0   \n22                        0                           0   \n23                        0                           0   \n...                     ...                         ...   \n29981                     1                           0   \n29982                     0                           1   \n29986                     0                           0   \n29995                     0                           0   \n29999                     0                           0   \n\n       NAME_CLIENT_TYPE_Repeater  NAME_CLIENT_TYPE_XNA  \\\n4                              1                     0   \n19                             1                     0   \n20                             1                     0   \n22                             1                     0   \n23                             1                     0   \n...                          ...                   ...   \n29981                          0                     0   \n29982                          0                     0   \n29986                          1                     0   \n29995                          1                     0   \n29999                          1                     0   \n\n      APPLICATION_CREDIT_DIFF  APPLICATION_CREDIT_RATIO  \\\n4                    -66555.0                  0.835282   \n19                    -4455.0                  0.909918   \n20                   -41580.0                  0.915416   \n22                        0.0                       NaN   \n23                  -147604.5                  0.884423   \n...                       ...                       ...   \n29981                     0.0                  1.000000   \n29982                     0.0                  1.000000   \n29986                -41580.0                  0.915416   \n29995                 -5269.5                  0.949863   \n29999                  5197.5                  1.111111   \n\n      CREDIT_TO_ANNUITY_RATIO DOWN_PAYMENT_TO_CREDIT SIMPLE_INTERESTS  \\\n4                   12.656622                    NaN         0.037343   \n19                  10.597878                    NaN         0.038803   \n20                  19.312466                    NaN         0.010113   \n22                        NaN                    NaN              NaN   \n23                  32.351986                    NaN         0.012391   \n...                       ...                    ...              ...   \n29981               20.000000                    NaN             -inf   \n29982               20.000000                    NaN             -inf   \n29986               17.908314                    NaN         0.014173   \n29995                5.407746               0.000000         0.018253   \n29999                8.496187               0.111111         0.017700   \n\n      DAYS_LAST_DUE_DIFF  \n4                    NaN  \n19                   NaN  \n20                   NaN  \n22                   NaN  \n23                   NaN  \n...                  ...  \n29981                NaN  \n29982                NaN  \n29986                NaN  \n29995                NaN  \n29999                NaN  \n\n[5186 rows x 87 columns]",
      "text/html": "<div>\n<style scoped>\n    .dataframe tbody tr th:only-of-type {\n        vertical-align: middle;\n    }\n\n    .dataframe tbody tr th {\n        vertical-align: top;\n    }\n\n    .dataframe thead th {\n        text-align: right;\n    }\n</style>\n<table border=\"1\" class=\"dataframe\">\n  <thead>\n    <tr style=\"text-align: right;\">\n      <th></th>\n      <th>SK_ID_PREV</th>\n      <th>SK_ID_CURR</th>\n      <th>AMT_ANNUITY</th>\n      <th>AMT_APPLICATION</th>\n      <th>AMT_CREDIT</th>\n      <th>AMT_DOWN_PAYMENT</th>\n      <th>AMT_GOODS_PRICE</th>\n      <th>WEEKDAY_APPR_PROCESS_START</th>\n      <th>HOUR_APPR_PROCESS_START</th>\n      <th>FLAG_LAST_APPL_PER_CONTRACT</th>\n      <th>...</th>\n      <th>NAME_CLIENT_TYPE_New</th>\n      <th>NAME_CLIENT_TYPE_Refreshed</th>\n      <th>NAME_CLIENT_TYPE_Repeater</th>\n      <th>NAME_CLIENT_TYPE_XNA</th>\n      <th>APPLICATION_CREDIT_DIFF</th>\n      <th>APPLICATION_CREDIT_RATIO</th>\n      <th>CREDIT_TO_ANNUITY_RATIO</th>\n      <th>DOWN_PAYMENT_TO_CREDIT</th>\n      <th>SIMPLE_INTERESTS</th>\n      <th>DAYS_LAST_DUE_DIFF</th>\n    </tr>\n  </thead>\n  <tbody>\n    <tr>\n      <th>4</th>\n      <td>1784265</td>\n      <td>202054</td>\n      <td>31924.395</td>\n      <td>337500.0</td>\n      <td>404055.0</td>\n      <td>NaN</td>\n      <td>337500.0</td>\n      <td>THURSDAY</td>\n      <td>9</td>\n      <td>Y</td>\n      <td>...</td>\n      <td>0</td>\n      <td>0</td>\n      <td>1</td>\n      <td>0</td>\n      <td>-66555.0</td>\n      <td>0.835282</td>\n      <td>12.656622</td>\n      <td>NaN</td>\n      <td>0.037343</td>\n      <td>NaN</td>\n    </tr>\n    <tr>\n      <th>19</th>\n      <td>1173070</td>\n      <td>199178</td>\n      <td>4666.500</td>\n      <td>45000.0</td>\n      <td>49455.0</td>\n      <td>NaN</td>\n      <td>45000.0</td>\n      <td>SATURDAY</td>\n      <td>16</td>\n      <td>Y</td>\n      <td>...</td>\n      <td>0</td>\n      <td>0</td>\n      <td>1</td>\n      <td>0</td>\n      <td>-4455.0</td>\n      <td>0.909918</td>\n      <td>10.597878</td>\n      <td>NaN</td>\n      <td>0.038803</td>\n      <td>NaN</td>\n    </tr>\n    <tr>\n      <th>20</th>\n      <td>1506815</td>\n      <td>166490</td>\n      <td>25454.025</td>\n      <td>450000.0</td>\n      <td>491580.0</td>\n      <td>NaN</td>\n      <td>450000.0</td>\n      <td>MONDAY</td>\n      <td>6</td>\n      <td>Y</td>\n      <td>...</td>\n      <td>0</td>\n      <td>0</td>\n      <td>1</td>\n      <td>0</td>\n      <td>-41580.0</td>\n      <td>0.915416</td>\n      <td>19.312466</td>\n      <td>NaN</td>\n      <td>0.010113</td>\n      <td>NaN</td>\n    </tr>\n    <tr>\n      <th>22</th>\n      <td>1172842</td>\n      <td>302212</td>\n      <td>NaN</td>\n      <td>0.0</td>\n      <td>0.0</td>\n      <td>NaN</td>\n      <td>NaN</td>\n      <td>TUESDAY</td>\n      <td>9</td>\n      <td>Y</td>\n      <td>...</td>\n      <td>0</td>\n      <td>0</td>\n      <td>1</td>\n      <td>0</td>\n      <td>0.0</td>\n      <td>NaN</td>\n      <td>NaN</td>\n      <td>NaN</td>\n      <td>NaN</td>\n      <td>NaN</td>\n    </tr>\n    <tr>\n      <th>23</th>\n      <td>1172937</td>\n      <td>302212</td>\n      <td>39475.305</td>\n      <td>1129500.0</td>\n      <td>1277104.5</td>\n      <td>NaN</td>\n      <td>1129500.0</td>\n      <td>THURSDAY</td>\n      <td>5</td>\n      <td>Y</td>\n      <td>...</td>\n      <td>0</td>\n      <td>0</td>\n      <td>1</td>\n      <td>0</td>\n      <td>-147604.5</td>\n      <td>0.884423</td>\n      <td>32.351986</td>\n      <td>NaN</td>\n      <td>0.012391</td>\n      <td>NaN</td>\n    </tr>\n    <tr>\n      <th>...</th>\n      <td>...</td>\n      <td>...</td>\n      <td>...</td>\n      <td>...</td>\n      <td>...</td>\n      <td>...</td>\n      <td>...</td>\n      <td>...</td>\n      <td>...</td>\n      <td>...</td>\n      <td>...</td>\n      <td>...</td>\n      <td>...</td>\n      <td>...</td>\n      <td>...</td>\n      <td>...</td>\n      <td>...</td>\n      <td>...</td>\n      <td>...</td>\n      <td>...</td>\n      <td>...</td>\n    </tr>\n    <tr>\n      <th>29981</th>\n      <td>2828876</td>\n      <td>251800</td>\n      <td>2250.000</td>\n      <td>45000.0</td>\n      <td>45000.0</td>\n      <td>NaN</td>\n      <td>45000.0</td>\n      <td>MONDAY</td>\n      <td>13</td>\n      <td>Y</td>\n      <td>...</td>\n      <td>1</td>\n      <td>0</td>\n      <td>0</td>\n      <td>0</td>\n      <td>0.0</td>\n      <td>1.000000</td>\n      <td>20.000000</td>\n      <td>NaN</td>\n      <td>-inf</td>\n      <td>NaN</td>\n    </tr>\n    <tr>\n      <th>29982</th>\n      <td>2013467</td>\n      <td>259882</td>\n      <td>2250.000</td>\n      <td>45000.0</td>\n      <td>45000.0</td>\n      <td>NaN</td>\n      <td>45000.0</td>\n      <td>FRIDAY</td>\n      <td>11</td>\n      <td>Y</td>\n      <td>...</td>\n      <td>0</td>\n      <td>1</td>\n      <td>0</td>\n      <td>0</td>\n      <td>0.0</td>\n      <td>1.000000</td>\n      <td>20.000000</td>\n      <td>NaN</td>\n      <td>-inf</td>\n      <td>NaN</td>\n    </tr>\n    <tr>\n      <th>29986</th>\n      <td>1878361</td>\n      <td>214130</td>\n      <td>27449.820</td>\n      <td>450000.0</td>\n      <td>491580.0</td>\n      <td>NaN</td>\n      <td>450000.0</td>\n      <td>THURSDAY</td>\n      <td>12</td>\n      <td>Y</td>\n      <td>...</td>\n      <td>0</td>\n      <td>0</td>\n      <td>1</td>\n      <td>0</td>\n      <td>-41580.0</td>\n      <td>0.915416</td>\n      <td>17.908314</td>\n      <td>NaN</td>\n      <td>0.014173</td>\n      <td>NaN</td>\n    </tr>\n    <tr>\n      <th>29995</th>\n      <td>2006765</td>\n      <td>402412</td>\n      <td>19435.455</td>\n      <td>99832.5</td>\n      <td>105102.0</td>\n      <td>0.0</td>\n      <td>99832.5</td>\n      <td>TUESDAY</td>\n      <td>12</td>\n      <td>Y</td>\n      <td>...</td>\n      <td>0</td>\n      <td>0</td>\n      <td>1</td>\n      <td>0</td>\n      <td>-5269.5</td>\n      <td>0.949863</td>\n      <td>5.407746</td>\n      <td>0.000000</td>\n      <td>0.018253</td>\n      <td>NaN</td>\n    </tr>\n    <tr>\n      <th>29999</th>\n      <td>2097098</td>\n      <td>302666</td>\n      <td>5505.705</td>\n      <td>51975.0</td>\n      <td>46777.5</td>\n      <td>5197.5</td>\n      <td>51975.0</td>\n      <td>FRIDAY</td>\n      <td>16</td>\n      <td>Y</td>\n      <td>...</td>\n      <td>0</td>\n      <td>0</td>\n      <td>1</td>\n      <td>0</td>\n      <td>5197.5</td>\n      <td>1.111111</td>\n      <td>8.496187</td>\n      <td>0.111111</td>\n      <td>0.017700</td>\n      <td>NaN</td>\n    </tr>\n  </tbody>\n</table>\n<p>5186 rows × 87 columns</p>\n</div>"
     },
     "execution_count": 409,
     "metadata": {},
     "output_type": "execute_result"
    }
   ],
   "source": [],
   "metadata": {
    "collapsed": false,
    "pycharm": {
     "name": "#%%\n"
    }
   }
  },
  {
   "cell_type": "code",
   "execution_count": null,
   "outputs": [],
   "source": [],
   "metadata": {
    "collapsed": false,
    "pycharm": {
     "name": "#%%\n"
    }
   }
  },
  {
   "cell_type": "code",
   "execution_count": null,
   "outputs": [],
   "source": [
    "app_prev = group_and_merge(approved, agg_prev , 'APPROVED_', PREVIOUS_APPROVED_AGG)\n",
    "\n",
    "del approved , refused ; gc.collect()"
   ],
   "metadata": {
    "collapsed": false,
    "pycharm": {
     "name": "#%%\n"
    }
   }
  },
  {
   "cell_type": "code",
   "execution_count": null,
   "outputs": [],
   "source": [
    "# Aggregations for Consumer loans and Cash loans"
   ],
   "metadata": {
    "collapsed": false,
    "pycharm": {
     "name": "#%%\n"
    }
   }
  },
  {
   "cell_type": "code",
   "execution_count": null,
   "outputs": [],
   "source": [
    "\n",
    "PREVIOUS_LOAN_TYPE_AGG = {\n",
    "    'AMT_CREDIT': ['sum'],\n",
    "    'AMT_ANNUITY': ['mean', 'max'],\n",
    "    'SIMPLE_INTERESTS': ['min', 'mean', 'max', 'var'],\n",
    "    'APPLICATION_CREDIT_DIFF': ['min', 'var'],\n",
    "    'APPLICATION_CREDIT_RATIO': ['min', 'max', 'mean'],\n",
    "    'DAYS_DECISION': ['max'],\n",
    "    'DAYS_LAST_DUE_1ST_VERSION': ['max', 'mean'],\n",
    "    'CNT_PAYMENT':\n",
    "['mean'],\n",
    "}"
   ],
   "metadata": {
    "collapsed": false,
    "pycharm": {
     "name": "#%%\n"
    }
   }
  },
  {
   "cell_type": "code",
   "execution_count": 414,
   "outputs": [],
   "source": [],
   "metadata": {
    "collapsed": false,
    "pycharm": {
     "name": "#%%\n"
    }
   }
  },
  {
   "cell_type": "code",
   "execution_count": null,
   "outputs": [],
   "source": [
    "for loan_type in ['Consumer loans', 'Cash loans']:\n",
    "    type_df = prev[prev['NAME_CONTRACT_TYPE_{}'.format(loan_type)] == 1]\n",
    "    prefix = 'PREV_' + loan_type.split(\" \")[0] + '_'\n",
    "    agg_prev = group_and_merge(type_df, agg_prev\n",
    "                               , prefix , PREVIOUS_LOAN_TYPE_AGG)\n",
    "    del type_df; gc.collect()"
   ],
   "metadata": {
    "collapsed": false,
    "pycharm": {
     "name": "#%%\n"
    }
   }
  },
  {
   "cell_type": "code",
   "execution_count": 415,
   "outputs": [],
   "source": [
    "#Get the SK_ID_PREV for loans with late payments (days past due)\n",
    "pay['LATE_PAYMENT'] = pay['DAYS_ENTRY_PAYMENT'] - pay['DAYS_INSTALMENT']\n",
    "pay['LATE_PAYMENT'] = pay['LATE_PAYMENT'].apply(lambda x: 1 if x> 0 else 0)\n",
    "dpd_id = prev[pay['LATE_PAYMENT'] >0]['SK_ID_PREV'].unique()"
   ],
   "metadata": {
    "collapsed": false,
    "pycharm": {
     "name": "#%%\n"
    }
   }
  },
  {
   "cell_type": "code",
   "execution_count": 416,
   "outputs": [
    {
     "data": {
      "text/plain": "array([1784265, 1173070, 2138466, ..., 2672876, 1099505, 1353153])"
     },
     "execution_count": 416,
     "metadata": {},
     "output_type": "execute_result"
    }
   ],
   "source": [
    "# Aggregations for loans with late payments\n",
    "# -30 mean day count -30 * time_frame means recent 1 year\n",
    "for time_frame in [12,24]:\n",
    "    time_frame_df = prev[prev['DAYS_DECISION'] >= -30 * time_frame]\n",
    "\n",
    "    prefix = 'PREV_LAST{}M_'.format(time_frame)\n",
    "    agg_prev = group_and_merge(time_frame_df, agg_prev, prefix, PREVIOUS_TIME_AGG)\n",
    "    del time_frame_df; gc.collect()\n",
    "del prev;gc.collect()\n",
    "return agg_prev"
   ],
   "metadata": {
    "collapsed": false,
    "pycharm": {
     "name": "#%%\n"
    }
   }
  },
  {
   "cell_type": "code",
   "execution_count": null,
   "outputs": [],
   "source": [],
   "metadata": {
    "collapsed": false,
    "pycharm": {
     "name": "#%%\n"
    }
   }
  },
  {
   "cell_type": "code",
   "execution_count": 419,
   "outputs": [],
   "source": [
    "pos = pd.read_csv(os.path.join(path,'POS_CASH_balance.csv'),nrows=num_rows)"
   ],
   "metadata": {
    "collapsed": false,
    "pycharm": {
     "name": "#%%\n"
    }
   }
  },
  {
   "cell_type": "code",
   "execution_count": 421,
   "outputs": [],
   "source": [
    "pos, categorical_cols = one_hot_encoder(pos,nan_as_category =False)"
   ],
   "metadata": {
    "collapsed": false,
    "pycharm": {
     "name": "#%%\n"
    }
   }
  },
  {
   "cell_type": "code",
   "execution_count": 422,
   "outputs": [],
   "source": [
    "pos['LATE_PAYMENT'] = pos['SK_DPD'].apply(lambda x : 1 if x >0 else 0)"
   ],
   "metadata": {
    "collapsed": false,
    "pycharm": {
     "name": "#%%\n"
    }
   }
  },
  {
   "cell_type": "code",
   "execution_count": 423,
   "outputs": [
    {
     "data": {
      "text/plain": "0        0\n1        0\n2        0\n3        0\n4        0\n        ..\n29995    0\n29996    0\n29997    0\n29998    0\n29999    1\nName: LATE_PAYMENT, Length: 30000, dtype: int64"
     },
     "execution_count": 423,
     "metadata": {},
     "output_type": "execute_result"
    }
   ],
   "source": [],
   "metadata": {
    "collapsed": false,
    "pycharm": {
     "name": "#%%\n"
    }
   }
  },
  {
   "cell_type": "code",
   "execution_count": null,
   "outputs": [],
   "source": [
    "pos['LATE_PAYMENT']"
   ],
   "metadata": {
    "collapsed": false,
    "pycharm": {
     "name": "#%%\n"
    }
   }
  },
  {
   "cell_type": "code",
   "execution_count": 424,
   "outputs": [],
   "source": [
    "categorical_agg = {key : ['mean'] for key in categorical_cols}"
   ],
   "metadata": {
    "collapsed": false,
    "pycharm": {
     "name": "#%%\n"
    }
   }
  },
  {
   "cell_type": "code",
   "execution_count": 425,
   "outputs": [
    {
     "data": {
      "text/plain": "{'NAME_CONTRACT_STATUS_Active': ['mean'],\n 'NAME_CONTRACT_STATUS_Approved': ['mean'],\n 'NAME_CONTRACT_STATUS_Completed': ['mean'],\n 'NAME_CONTRACT_STATUS_Demand': ['mean'],\n 'NAME_CONTRACT_STATUS_Returned to the store': ['mean'],\n 'NAME_CONTRACT_STATUS_Signed': ['mean']}"
     },
     "execution_count": 425,
     "metadata": {},
     "output_type": "execute_result"
    }
   ],
   "source": [
    "categorical_agg"
   ],
   "metadata": {
    "collapsed": false,
    "pycharm": {
     "name": "#%%\n"
    }
   }
  },
  {
   "cell_type": "code",
   "execution_count": 426,
   "outputs": [],
   "source": [
    "\n",
    "POS_CASH_AGG = {\n",
    "    'SK_ID_PREV': ['nunique'],\n",
    "    'MONTHS_BALANCE': ['min', 'max', 'size'],\n",
    "    'SK_DPD': ['max', 'mean', 'sum', 'var'],\n",
    "    'SK_DPD_DEF': ['max', 'mean', 'sum'],\n",
    "    'LATE_PAYMENT': ['mean']\n",
    "}"
   ],
   "metadata": {
    "collapsed": false,
    "pycharm": {
     "name": "#%%\n"
    }
   }
  },
  {
   "cell_type": "code",
   "execution_count": null,
   "outputs": [],
   "source": [],
   "metadata": {
    "collapsed": false,
    "pycharm": {
     "name": "#%%\n"
    }
   }
  },
  {
   "cell_type": "code",
   "execution_count": 432,
   "outputs": [
    {
     "data": {
      "text/plain": "{'NAME_CONTRACT_STATUS_Active': ['mean'],\n 'NAME_CONTRACT_STATUS_Approved': ['mean'],\n 'NAME_CONTRACT_STATUS_Completed': ['mean'],\n 'NAME_CONTRACT_STATUS_Demand': ['mean'],\n 'NAME_CONTRACT_STATUS_Returned to the store': ['mean'],\n 'NAME_CONTRACT_STATUS_Signed': ['mean']}"
     },
     "execution_count": 432,
     "metadata": {},
     "output_type": "execute_result"
    }
   ],
   "source": [
    "categorical_agg\n"
   ],
   "metadata": {
    "collapsed": false,
    "pycharm": {
     "name": "#%%{** 같은 딕셔너리에 합쳐진다 키 밸류 형태로 argument를 주는듯함\n"
    }
   }
  },
  {
   "cell_type": "code",
   "execution_count": 433,
   "outputs": [
    {
     "data": {
      "text/plain": "{'SK_ID_PREV': ['nunique'],\n 'MONTHS_BALANCE': ['min', 'max', 'size'],\n 'SK_DPD': ['max', 'mean', 'sum', 'var'],\n 'SK_DPD_DEF': ['max', 'mean', 'sum'],\n 'LATE_PAYMENT': ['mean'],\n 'NAME_CONTRACT_STATUS_Active': ['mean'],\n 'NAME_CONTRACT_STATUS_Approved': ['mean'],\n 'NAME_CONTRACT_STATUS_Completed': ['mean'],\n 'NAME_CONTRACT_STATUS_Demand': ['mean'],\n 'NAME_CONTRACT_STATUS_Returned to the store': ['mean'],\n 'NAME_CONTRACT_STATUS_Signed': ['mean']}"
     },
     "execution_count": 433,
     "metadata": {},
     "output_type": "execute_result"
    }
   ],
   "source": [
    "{**POS_CASH_AGG, **categorical_agg}"
   ],
   "metadata": {
    "collapsed": false,
    "pycharm": {
     "name": "#%%\n"
    }
   }
  },
  {
   "cell_type": "code",
   "execution_count": null,
   "outputs": [],
   "source": [
    "pos_agg = group(pos, 'POS_', {**POS_CASH_AGG, **categorical_agg})"
   ],
   "metadata": {
    "collapsed": false,
    "pycharm": {
     "name": "#%%\n"
    }
   }
  },
  {
   "cell_type": "code",
   "execution_count": 436,
   "outputs": [],
   "source": [
    "#Sort and group by SK_ID_PREV\n",
    "# 순서대로 sorting\n",
    "\n",
    "sort_pos = pos.sort_values(by=['SK_ID_PREV', 'MONTHS_BALANCE'])\n",
    "gp  = sort_pos.groupby('SK_ID_PREV')"
   ],
   "metadata": {
    "collapsed": false,
    "pycharm": {
     "name": "#%%\n"
    }
   }
  },
  {
   "cell_type": "code",
   "execution_count": 437,
   "outputs": [
    {
     "data": {
      "text/plain": "<pandas.core.groupby.generic.DataFrameGroupBy object at 0x127b12d60>"
     },
     "execution_count": 437,
     "metadata": {},
     "output_type": "execute_result"
    }
   ],
   "source": [
    "gp"
   ],
   "metadata": {
    "collapsed": false,
    "pycharm": {
     "name": "#%%\n"
    }
   }
  },
  {
   "cell_type": "code",
   "execution_count": null,
   "outputs": [],
   "source": [
    "df = pd.DataFrame()"
   ],
   "metadata": {
    "collapsed": false,
    "pycharm": {
     "name": "#%%\n"
    }
   }
  },
  {
   "cell_type": "code",
   "execution_count": null,
   "outputs": [],
   "source": [],
   "metadata": {
    "collapsed": false,
    "pycharm": {
     "name": "#%%\n"
    }
   }
  },
  {
   "cell_type": "code",
   "execution_count": 438,
   "outputs": [],
   "source": [
    "# 그룹바이 객체 각각의 첫번째 SK_ID_CURR 값\n",
    "df['SK_ID_CURR'] = gp['SK_ID_CURR'].first()"
   ],
   "metadata": {
    "collapsed": false,
    "pycharm": {
     "name": "#%%\n"
    }
   }
  },
  {
   "cell_type": "code",
   "execution_count": 439,
   "outputs": [],
   "source": [
    "# 그룹바이 객체 꺼내기  그룹바이는 iterator 형태로 뱉기 때문에\n",
    "for ele in gp:\n",
    "    break"
   ],
   "metadata": {
    "collapsed": false,
    "pycharm": {
     "name": "#%%\n"
    }
   }
  },
  {
   "cell_type": "code",
   "execution_count": 450,
   "outputs": [
    {
     "data": {
      "text/plain": "       SK_ID_PREV  SK_ID_CURR  MONTHS_BALANCE  CNT_INSTALMENT  \\\n29474     1000013      215520             -38            12.0   \n\n       CNT_INSTALMENT_FUTURE  SK_DPD  SK_DPD_DEF  NAME_CONTRACT_STATUS_Active  \\\n29474                    4.0       0           0                            1   \n\n       NAME_CONTRACT_STATUS_Approved  NAME_CONTRACT_STATUS_Completed  \\\n29474                              0                               0   \n\n       NAME_CONTRACT_STATUS_Demand  \\\n29474                            0   \n\n       NAME_CONTRACT_STATUS_Returned to the store  \\\n29474                                           0   \n\n       NAME_CONTRACT_STATUS_Signed  LATE_PAYMENT  \n29474                            0             0  ",
      "text/html": "<div>\n<style scoped>\n    .dataframe tbody tr th:only-of-type {\n        vertical-align: middle;\n    }\n\n    .dataframe tbody tr th {\n        vertical-align: top;\n    }\n\n    .dataframe thead th {\n        text-align: right;\n    }\n</style>\n<table border=\"1\" class=\"dataframe\">\n  <thead>\n    <tr style=\"text-align: right;\">\n      <th></th>\n      <th>SK_ID_PREV</th>\n      <th>SK_ID_CURR</th>\n      <th>MONTHS_BALANCE</th>\n      <th>CNT_INSTALMENT</th>\n      <th>CNT_INSTALMENT_FUTURE</th>\n      <th>SK_DPD</th>\n      <th>SK_DPD_DEF</th>\n      <th>NAME_CONTRACT_STATUS_Active</th>\n      <th>NAME_CONTRACT_STATUS_Approved</th>\n      <th>NAME_CONTRACT_STATUS_Completed</th>\n      <th>NAME_CONTRACT_STATUS_Demand</th>\n      <th>NAME_CONTRACT_STATUS_Returned to the store</th>\n      <th>NAME_CONTRACT_STATUS_Signed</th>\n      <th>LATE_PAYMENT</th>\n    </tr>\n  </thead>\n  <tbody>\n    <tr>\n      <th>29474</th>\n      <td>1000013</td>\n      <td>215520</td>\n      <td>-38</td>\n      <td>12.0</td>\n      <td>4.0</td>\n      <td>0</td>\n      <td>0</td>\n      <td>1</td>\n      <td>0</td>\n      <td>0</td>\n      <td>0</td>\n      <td>0</td>\n      <td>0</td>\n      <td>0</td>\n    </tr>\n  </tbody>\n</table>\n</div>"
     },
     "execution_count": 450,
     "metadata": {},
     "output_type": "execute_result"
    }
   ],
   "source": [
    "#"
   ],
   "metadata": {
    "collapsed": false,
    "pycharm": {
     "name": "#%%\n"
    }
   }
  },
  {
   "cell_type": "code",
   "execution_count": null,
   "outputs": [],
   "source": [
    "df['MONTHS_BALANCE_MAX'] = gp['MONTHS_BALANCE'].max()"
   ],
   "metadata": {
    "collapsed": false,
    "pycharm": {
     "name": "#%%\n"
    }
   }
  },
  {
   "cell_type": "code",
   "execution_count": 451,
   "outputs": [],
   "source": [
    "df['POS_LOAN_COMPLETED_MEAN'] = gp['NAME_CONTRACT_STATUS_Completed'].mean()"
   ],
   "metadata": {
    "collapsed": false,
    "pycharm": {
     "name": "#%%\n"
    }
   }
  },
  {
   "cell_type": "code",
   "execution_count": 452,
   "outputs": [],
   "source": [
    "# 이전 크레딧의 기간\n",
    "df['POS_COMPLETED_BEFORE_MEAN'] =  gp['CNT_INSTALMENT'].first()  -gp['CNT_INSTALMENT'].last()"
   ],
   "metadata": {
    "collapsed": false,
    "pycharm": {
     "name": "#%%\n"
    }
   }
  },
  {
   "cell_type": "code",
   "execution_count": null,
   "outputs": [],
   "source": [
    "df['POS_COMPLETED_BEFORE_MEAN'] = df.apply(lambda x : 1 if x['POS_COMPLETED_BEFORE_MEAN'] >0 and x['POS_LOAN_COMPLETED_MEAN'] > 0 else 0, axis=1)\n"
   ],
   "metadata": {
    "collapsed": false,
    "pycharm": {
     "name": "#%%\n"
    }
   }
  },
  {
   "cell_type": "code",
   "execution_count": null,
   "outputs": [],
   "source": [
    "df['POS_REMAINING_INSTALMENTS'] = gp['CNT_INSTALMENT_FUTURE'].last()\n",
    "\n"
   ],
   "metadata": {
    "collapsed": false,
    "pycharm": {
     "name": "#%%\n"
    }
   }
  },
  {
   "cell_type": "code",
   "execution_count": null,
   "outputs": [],
   "source": [
    "df['POS_REMAINING_INSTALMENTS_RATIO'] = gp['CNT_INSTALMENT_FUTURE'].last()/gp['CNT_INSTALMENT'].last()"
   ],
   "metadata": {
    "collapsed": false,
    "pycharm": {
     "name": "#%%\n"
    }
   }
  },
  {
   "cell_type": "code",
   "execution_count": null,
   "outputs": [],
   "source": [
    "#Group by SK_ID_CURR and merge\n"
   ],
   "metadata": {
    "collapsed": false,
    "pycharm": {
     "name": "#%%\n"
    }
   }
  },
  {
   "cell_type": "code",
   "execution_count": null,
   "outputs": [],
   "source": [
    "df_gp = df.groupby('SK_ID_CURR').sum().reset_index()\n"
   ],
   "metadata": {
    "collapsed": false,
    "pycharm": {
     "name": "#%%\n"
    }
   }
  },
  {
   "cell_type": "code",
   "execution_count": null,
   "outputs": [],
   "source": [
    "\n",
    "df_gp.drop(['MONTHS_BALANCE_MAX'],axis=1, inplace=True)\n"
   ],
   "metadata": {
    "collapsed": false,
    "pycharm": {
     "name": "#%%\n"
    }
   }
  },
  {
   "cell_type": "code",
   "execution_count": null,
   "outputs": [],
   "source": [
    "pos_agg = pd.merge(pos_agg, df_gp, on='SK_ID_CURR', how='left')"
   ],
   "metadata": {
    "collapsed": false,
    "pycharm": {
     "name": "#%%\n"
    }
   }
  },
  {
   "cell_type": "code",
   "execution_count": null,
   "outputs": [],
   "source": [
    "pos_agg\n"
   ],
   "metadata": {
    "collapsed": false,
    "pycharm": {
     "name": "#%%\n"
    }
   }
  },
  {
   "cell_type": "code",
   "execution_count": null,
   "outputs": [],
   "source": [
    "del df , gp , df_gp , sort_pos; gc.collect()\n"
   ],
   "metadata": {
    "collapsed": false,
    "pycharm": {
     "name": "#%%\n"
    }
   }
  },
  {
   "cell_type": "code",
   "execution_count": 453,
   "outputs": [],
   "source": [
    "# Percentage of late payments for the 3 most recent applications\n",
    "\n",
    "pos = do_sum(pos, ['SK_ID_PREV'], 'LATE_PAYMENT', 'LATE_PAYMENT_SUM' )"
   ],
   "metadata": {
    "collapsed": false,
    "pycharm": {
     "name": "#%%\n"
    }
   }
  },
  {
   "cell_type": "code",
   "execution_count": 461,
   "outputs": [],
   "source": [
    "# 가장 마지막에 있는 인덱스를 반환한다는것은 last_month 를 반환한다는 뜻이다.\n",
    "\n",
    "\n",
    "last_month_df = pos.groupby(\"SK_ID_PREV\")['MONTHS_BALANCE'].idxmax()"
   ],
   "metadata": {
    "collapsed": false,
    "pycharm": {
     "name": "#%%\n"
    }
   }
  },
  {
   "cell_type": "code",
   "execution_count": 457,
   "outputs": [
    {
     "data": {
      "text/plain": "SK_ID_PREV\n1000013    29474\n1000027     9919\n1000059     3968\n1000078    25782\n1000116    26207\n           ...  \n2843305    13395\n2843340     2545\n2843405    14177\n2843458     2342\n2843470     3089\nName: MONTHS_BALANCE, Length: 28559, dtype: int64"
     },
     "execution_count": 457,
     "metadata": {},
     "output_type": "execute_result"
    }
   ],
   "source": [],
   "metadata": {
    "collapsed": false,
    "pycharm": {
     "name": "#%%\n"
    }
   }
  },
  {
   "cell_type": "code",
   "execution_count": 456,
   "outputs": [
    {
     "ename": "KeyError",
     "evalue": "'MONTHS_BALACE'",
     "output_type": "error",
     "traceback": [
      "\u001B[0;31m---------------------------------------------------------------------------\u001B[0m",
      "\u001B[0;31mKeyError\u001B[0m                                  Traceback (most recent call last)",
      "\u001B[0;32m/var/folders/c6/2j22b1rd02778st12c0mcr3w0000gn/T/ipykernel_71814/1616948553.py\u001B[0m in \u001B[0;36m<module>\u001B[0;34m\u001B[0m\n\u001B[0;32m----> 1\u001B[0;31m \u001B[0msort_pos\u001B[0m \u001B[0;34m=\u001B[0m \u001B[0mpos\u001B[0m\u001B[0;34m.\u001B[0m\u001B[0msort_values\u001B[0m\u001B[0;34m(\u001B[0m\u001B[0mby\u001B[0m \u001B[0;34m=\u001B[0m \u001B[0;34m[\u001B[0m\u001B[0;34m'SK_ID_PREV'\u001B[0m\u001B[0;34m,\u001B[0m\u001B[0;34m'MONTHS_BALACE'\u001B[0m\u001B[0;34m]\u001B[0m\u001B[0;34m)\u001B[0m\u001B[0;34m\u001B[0m\u001B[0;34m\u001B[0m\u001B[0m\n\u001B[0m\u001B[1;32m      2\u001B[0m \u001B[0;34m\u001B[0m\u001B[0m\n",
      "\u001B[0;32m~/PycharmProjects/pythonProject/Kaggle/venv/lib/python3.8/site-packages/pandas/util/_decorators.py\u001B[0m in \u001B[0;36mwrapper\u001B[0;34m(*args, **kwargs)\u001B[0m\n\u001B[1;32m    309\u001B[0m                     \u001B[0mstacklevel\u001B[0m\u001B[0;34m=\u001B[0m\u001B[0mstacklevel\u001B[0m\u001B[0;34m,\u001B[0m\u001B[0;34m\u001B[0m\u001B[0;34m\u001B[0m\u001B[0m\n\u001B[1;32m    310\u001B[0m                 )\n\u001B[0;32m--> 311\u001B[0;31m             \u001B[0;32mreturn\u001B[0m \u001B[0mfunc\u001B[0m\u001B[0;34m(\u001B[0m\u001B[0;34m*\u001B[0m\u001B[0margs\u001B[0m\u001B[0;34m,\u001B[0m \u001B[0;34m**\u001B[0m\u001B[0mkwargs\u001B[0m\u001B[0;34m)\u001B[0m\u001B[0;34m\u001B[0m\u001B[0;34m\u001B[0m\u001B[0m\n\u001B[0m\u001B[1;32m    312\u001B[0m \u001B[0;34m\u001B[0m\u001B[0m\n\u001B[1;32m    313\u001B[0m         \u001B[0;32mreturn\u001B[0m \u001B[0mwrapper\u001B[0m\u001B[0;34m\u001B[0m\u001B[0;34m\u001B[0m\u001B[0m\n",
      "\u001B[0;32m~/PycharmProjects/pythonProject/Kaggle/venv/lib/python3.8/site-packages/pandas/core/frame.py\u001B[0m in \u001B[0;36msort_values\u001B[0;34m(self, by, axis, ascending, inplace, kind, na_position, ignore_index, key)\u001B[0m\n\u001B[1;32m   6240\u001B[0m         \u001B[0;32mif\u001B[0m \u001B[0mlen\u001B[0m\u001B[0;34m(\u001B[0m\u001B[0mby\u001B[0m\u001B[0;34m)\u001B[0m \u001B[0;34m>\u001B[0m \u001B[0;36m1\u001B[0m\u001B[0;34m:\u001B[0m\u001B[0;34m\u001B[0m\u001B[0;34m\u001B[0m\u001B[0m\n\u001B[1;32m   6241\u001B[0m \u001B[0;34m\u001B[0m\u001B[0m\n\u001B[0;32m-> 6242\u001B[0;31m             \u001B[0mkeys\u001B[0m \u001B[0;34m=\u001B[0m \u001B[0;34m[\u001B[0m\u001B[0mself\u001B[0m\u001B[0;34m.\u001B[0m\u001B[0m_get_label_or_level_values\u001B[0m\u001B[0;34m(\u001B[0m\u001B[0mx\u001B[0m\u001B[0;34m,\u001B[0m \u001B[0maxis\u001B[0m\u001B[0;34m=\u001B[0m\u001B[0maxis\u001B[0m\u001B[0;34m)\u001B[0m \u001B[0;32mfor\u001B[0m \u001B[0mx\u001B[0m \u001B[0;32min\u001B[0m \u001B[0mby\u001B[0m\u001B[0;34m]\u001B[0m\u001B[0;34m\u001B[0m\u001B[0;34m\u001B[0m\u001B[0m\n\u001B[0m\u001B[1;32m   6243\u001B[0m \u001B[0;34m\u001B[0m\u001B[0m\n\u001B[1;32m   6244\u001B[0m             \u001B[0;31m# need to rewrap columns in Series to apply key function\u001B[0m\u001B[0;34m\u001B[0m\u001B[0;34m\u001B[0m\u001B[0;34m\u001B[0m\u001B[0m\n",
      "\u001B[0;32m~/PycharmProjects/pythonProject/Kaggle/venv/lib/python3.8/site-packages/pandas/core/frame.py\u001B[0m in \u001B[0;36m<listcomp>\u001B[0;34m(.0)\u001B[0m\n\u001B[1;32m   6240\u001B[0m         \u001B[0;32mif\u001B[0m \u001B[0mlen\u001B[0m\u001B[0;34m(\u001B[0m\u001B[0mby\u001B[0m\u001B[0;34m)\u001B[0m \u001B[0;34m>\u001B[0m \u001B[0;36m1\u001B[0m\u001B[0;34m:\u001B[0m\u001B[0;34m\u001B[0m\u001B[0;34m\u001B[0m\u001B[0m\n\u001B[1;32m   6241\u001B[0m \u001B[0;34m\u001B[0m\u001B[0m\n\u001B[0;32m-> 6242\u001B[0;31m             \u001B[0mkeys\u001B[0m \u001B[0;34m=\u001B[0m \u001B[0;34m[\u001B[0m\u001B[0mself\u001B[0m\u001B[0;34m.\u001B[0m\u001B[0m_get_label_or_level_values\u001B[0m\u001B[0;34m(\u001B[0m\u001B[0mx\u001B[0m\u001B[0;34m,\u001B[0m \u001B[0maxis\u001B[0m\u001B[0;34m=\u001B[0m\u001B[0maxis\u001B[0m\u001B[0;34m)\u001B[0m \u001B[0;32mfor\u001B[0m \u001B[0mx\u001B[0m \u001B[0;32min\u001B[0m \u001B[0mby\u001B[0m\u001B[0;34m]\u001B[0m\u001B[0;34m\u001B[0m\u001B[0;34m\u001B[0m\u001B[0m\n\u001B[0m\u001B[1;32m   6243\u001B[0m \u001B[0;34m\u001B[0m\u001B[0m\n\u001B[1;32m   6244\u001B[0m             \u001B[0;31m# need to rewrap columns in Series to apply key function\u001B[0m\u001B[0;34m\u001B[0m\u001B[0;34m\u001B[0m\u001B[0;34m\u001B[0m\u001B[0m\n",
      "\u001B[0;32m~/PycharmProjects/pythonProject/Kaggle/venv/lib/python3.8/site-packages/pandas/core/generic.py\u001B[0m in \u001B[0;36m_get_label_or_level_values\u001B[0;34m(self, key, axis)\u001B[0m\n\u001B[1;32m   1777\u001B[0m             \u001B[0mvalues\u001B[0m \u001B[0;34m=\u001B[0m \u001B[0mself\u001B[0m\u001B[0;34m.\u001B[0m\u001B[0maxes\u001B[0m\u001B[0;34m[\u001B[0m\u001B[0maxis\u001B[0m\u001B[0;34m]\u001B[0m\u001B[0;34m.\u001B[0m\u001B[0mget_level_values\u001B[0m\u001B[0;34m(\u001B[0m\u001B[0mkey\u001B[0m\u001B[0;34m)\u001B[0m\u001B[0;34m.\u001B[0m\u001B[0m_values\u001B[0m\u001B[0;34m\u001B[0m\u001B[0;34m\u001B[0m\u001B[0m\n\u001B[1;32m   1778\u001B[0m         \u001B[0;32melse\u001B[0m\u001B[0;34m:\u001B[0m\u001B[0;34m\u001B[0m\u001B[0;34m\u001B[0m\u001B[0m\n\u001B[0;32m-> 1779\u001B[0;31m             \u001B[0;32mraise\u001B[0m \u001B[0mKeyError\u001B[0m\u001B[0;34m(\u001B[0m\u001B[0mkey\u001B[0m\u001B[0;34m)\u001B[0m\u001B[0;34m\u001B[0m\u001B[0;34m\u001B[0m\u001B[0m\n\u001B[0m\u001B[1;32m   1780\u001B[0m \u001B[0;34m\u001B[0m\u001B[0m\n\u001B[1;32m   1781\u001B[0m         \u001B[0;31m# Check for duplicates\u001B[0m\u001B[0;34m\u001B[0m\u001B[0;34m\u001B[0m\u001B[0;34m\u001B[0m\u001B[0m\n",
      "\u001B[0;31mKeyError\u001B[0m: 'MONTHS_BALACE'"
     ]
    }
   ],
   "source": [],
   "metadata": {
    "collapsed": false,
    "pycharm": {
     "name": "#%%\n"
    }
   }
  },
  {
   "cell_type": "code",
   "execution_count": 462,
   "outputs": [],
   "source": [
    "# groupby하면 오름차순 sorting이 되므로 맞춰준다\n",
    "sort_pos = pos.sort_values(by = ['SK_ID_PREV','MONTHS_BALANCE'])\n"
   ],
   "metadata": {
    "collapsed": false,
    "pycharm": {
     "name": "#%%\n"
    }
   }
  },
  {
   "cell_type": "code",
   "execution_count": 463,
   "outputs": [
    {
     "data": {
      "text/plain": "       SK_ID_PREV  SK_ID_CURR  MONTHS_BALANCE  CNT_INSTALMENT  \\\n1747      2812233      370628             -40            24.0   \n13406     1577248      333905             -76            12.0   \n15425     1233293      249204              -5            54.0   \n10320     2579674      200931              -8             6.0   \n5488      2605814      168389             -31            12.0   \n...           ...         ...             ...             ...   \n26002     1797575      295354             -18            12.0   \n12670     1152485      323072              -2            36.0   \n9116      1846561      207225             -63             8.0   \n6066      1136375      382024             -40            24.0   \n19080     1184287      395389              -7            42.0   \n\n       CNT_INSTALMENT_FUTURE  SK_DPD  SK_DPD_DEF  NAME_CONTRACT_STATUS_Active  \\\n1747                     8.0       0           0                            1   \n13406                    7.0       0           0                            1   \n15425                   38.0       0           0                            1   \n10320                    6.0       0           0                            1   \n5488                     3.0       0           0                            1   \n...                      ...     ...         ...                          ...   \n26002                   12.0       0           0                            1   \n12670                   13.0       0           0                            1   \n9116                     8.0       0           0                            1   \n6066                    18.0       0           0                            1   \n19080                   31.0       0           0                            1   \n\n       NAME_CONTRACT_STATUS_Approved  NAME_CONTRACT_STATUS_Completed  \\\n1747                               0                               0   \n13406                              0                               0   \n15425                              0                               0   \n10320                              0                               0   \n5488                               0                               0   \n...                              ...                             ...   \n26002                              0                               0   \n12670                              0                               0   \n9116                               0                               0   \n6066                               0                               0   \n19080                              0                               0   \n\n       NAME_CONTRACT_STATUS_Demand  \\\n1747                             0   \n13406                            0   \n15425                            0   \n10320                            0   \n5488                             0   \n...                            ...   \n26002                            0   \n12670                            0   \n9116                             0   \n6066                             0   \n19080                            0   \n\n       NAME_CONTRACT_STATUS_Returned to the store  \\\n1747                                            0   \n13406                                           0   \n15425                                           0   \n10320                                           0   \n5488                                            0   \n...                                           ...   \n26002                                           0   \n12670                                           0   \n9116                                            0   \n6066                                            0   \n19080                                           0   \n\n       NAME_CONTRACT_STATUS_Signed  LATE_PAYMENT  LATE_PAYMENT_SUM  \n1747                             0             0                 0  \n13406                            0             0                 0  \n15425                            0             0                 0  \n10320                            0             0                 0  \n5488                             0             0                 0  \n...                            ...           ...               ...  \n26002                            0             0                 0  \n12670                            0             0                 0  \n9116                             0             0                 0  \n6066                             0             0                 0  \n19080                            0             0                 0  \n\n[28559 rows x 15 columns]",
      "text/html": "<div>\n<style scoped>\n    .dataframe tbody tr th:only-of-type {\n        vertical-align: middle;\n    }\n\n    .dataframe tbody tr th {\n        vertical-align: top;\n    }\n\n    .dataframe thead th {\n        text-align: right;\n    }\n</style>\n<table border=\"1\" class=\"dataframe\">\n  <thead>\n    <tr style=\"text-align: right;\">\n      <th></th>\n      <th>SK_ID_PREV</th>\n      <th>SK_ID_CURR</th>\n      <th>MONTHS_BALANCE</th>\n      <th>CNT_INSTALMENT</th>\n      <th>CNT_INSTALMENT_FUTURE</th>\n      <th>SK_DPD</th>\n      <th>SK_DPD_DEF</th>\n      <th>NAME_CONTRACT_STATUS_Active</th>\n      <th>NAME_CONTRACT_STATUS_Approved</th>\n      <th>NAME_CONTRACT_STATUS_Completed</th>\n      <th>NAME_CONTRACT_STATUS_Demand</th>\n      <th>NAME_CONTRACT_STATUS_Returned to the store</th>\n      <th>NAME_CONTRACT_STATUS_Signed</th>\n      <th>LATE_PAYMENT</th>\n      <th>LATE_PAYMENT_SUM</th>\n    </tr>\n  </thead>\n  <tbody>\n    <tr>\n      <th>1747</th>\n      <td>2812233</td>\n      <td>370628</td>\n      <td>-40</td>\n      <td>24.0</td>\n      <td>8.0</td>\n      <td>0</td>\n      <td>0</td>\n      <td>1</td>\n      <td>0</td>\n      <td>0</td>\n      <td>0</td>\n      <td>0</td>\n      <td>0</td>\n      <td>0</td>\n      <td>0</td>\n    </tr>\n    <tr>\n      <th>13406</th>\n      <td>1577248</td>\n      <td>333905</td>\n      <td>-76</td>\n      <td>12.0</td>\n      <td>7.0</td>\n      <td>0</td>\n      <td>0</td>\n      <td>1</td>\n      <td>0</td>\n      <td>0</td>\n      <td>0</td>\n      <td>0</td>\n      <td>0</td>\n      <td>0</td>\n      <td>0</td>\n    </tr>\n    <tr>\n      <th>15425</th>\n      <td>1233293</td>\n      <td>249204</td>\n      <td>-5</td>\n      <td>54.0</td>\n      <td>38.0</td>\n      <td>0</td>\n      <td>0</td>\n      <td>1</td>\n      <td>0</td>\n      <td>0</td>\n      <td>0</td>\n      <td>0</td>\n      <td>0</td>\n      <td>0</td>\n      <td>0</td>\n    </tr>\n    <tr>\n      <th>10320</th>\n      <td>2579674</td>\n      <td>200931</td>\n      <td>-8</td>\n      <td>6.0</td>\n      <td>6.0</td>\n      <td>0</td>\n      <td>0</td>\n      <td>1</td>\n      <td>0</td>\n      <td>0</td>\n      <td>0</td>\n      <td>0</td>\n      <td>0</td>\n      <td>0</td>\n      <td>0</td>\n    </tr>\n    <tr>\n      <th>5488</th>\n      <td>2605814</td>\n      <td>168389</td>\n      <td>-31</td>\n      <td>12.0</td>\n      <td>3.0</td>\n      <td>0</td>\n      <td>0</td>\n      <td>1</td>\n      <td>0</td>\n      <td>0</td>\n      <td>0</td>\n      <td>0</td>\n      <td>0</td>\n      <td>0</td>\n      <td>0</td>\n    </tr>\n    <tr>\n      <th>...</th>\n      <td>...</td>\n      <td>...</td>\n      <td>...</td>\n      <td>...</td>\n      <td>...</td>\n      <td>...</td>\n      <td>...</td>\n      <td>...</td>\n      <td>...</td>\n      <td>...</td>\n      <td>...</td>\n      <td>...</td>\n      <td>...</td>\n      <td>...</td>\n      <td>...</td>\n    </tr>\n    <tr>\n      <th>26002</th>\n      <td>1797575</td>\n      <td>295354</td>\n      <td>-18</td>\n      <td>12.0</td>\n      <td>12.0</td>\n      <td>0</td>\n      <td>0</td>\n      <td>1</td>\n      <td>0</td>\n      <td>0</td>\n      <td>0</td>\n      <td>0</td>\n      <td>0</td>\n      <td>0</td>\n      <td>0</td>\n    </tr>\n    <tr>\n      <th>12670</th>\n      <td>1152485</td>\n      <td>323072</td>\n      <td>-2</td>\n      <td>36.0</td>\n      <td>13.0</td>\n      <td>0</td>\n      <td>0</td>\n      <td>1</td>\n      <td>0</td>\n      <td>0</td>\n      <td>0</td>\n      <td>0</td>\n      <td>0</td>\n      <td>0</td>\n      <td>0</td>\n    </tr>\n    <tr>\n      <th>9116</th>\n      <td>1846561</td>\n      <td>207225</td>\n      <td>-63</td>\n      <td>8.0</td>\n      <td>8.0</td>\n      <td>0</td>\n      <td>0</td>\n      <td>1</td>\n      <td>0</td>\n      <td>0</td>\n      <td>0</td>\n      <td>0</td>\n      <td>0</td>\n      <td>0</td>\n      <td>0</td>\n    </tr>\n    <tr>\n      <th>6066</th>\n      <td>1136375</td>\n      <td>382024</td>\n      <td>-40</td>\n      <td>24.0</td>\n      <td>18.0</td>\n      <td>0</td>\n      <td>0</td>\n      <td>1</td>\n      <td>0</td>\n      <td>0</td>\n      <td>0</td>\n      <td>0</td>\n      <td>0</td>\n      <td>0</td>\n      <td>0</td>\n    </tr>\n    <tr>\n      <th>19080</th>\n      <td>1184287</td>\n      <td>395389</td>\n      <td>-7</td>\n      <td>42.0</td>\n      <td>31.0</td>\n      <td>0</td>\n      <td>0</td>\n      <td>1</td>\n      <td>0</td>\n      <td>0</td>\n      <td>0</td>\n      <td>0</td>\n      <td>0</td>\n      <td>0</td>\n      <td>0</td>\n    </tr>\n  </tbody>\n</table>\n<p>28559 rows × 15 columns</p>\n</div>"
     },
     "execution_count": 463,
     "metadata": {},
     "output_type": "execute_result"
    }
   ],
   "source": [
    "sort_pos.iloc[last_month_df]"
   ],
   "metadata": {
    "collapsed": false,
    "pycharm": {
     "name": "#%%\n"
    }
   }
  },
  {
   "cell_type": "code",
   "execution_count": null,
   "outputs": [],
   "source": [],
   "metadata": {
    "collapsed": false,
    "pycharm": {
     "name": "#%%\n"
    }
   }
  },
  {
   "cell_type": "code",
   "execution_count": 466,
   "outputs": [
    {
     "data": {
      "text/plain": "       SK_ID_PREV  SK_ID_CURR  MONTHS_BALANCE  CNT_INSTALMENT  \\\n1747      2812233      370628             -40            24.0   \n13406     1577248      333905             -76            12.0   \n15425     1233293      249204              -5            54.0   \n10320     2579674      200931              -8             6.0   \n5488      2605814      168389             -31            12.0   \n...           ...         ...             ...             ...   \n26002     1797575      295354             -18            12.0   \n12670     1152485      323072              -2            36.0   \n9116      1846561      207225             -63             8.0   \n6066      1136375      382024             -40            24.0   \n19080     1184287      395389              -7            42.0   \n\n       CNT_INSTALMENT_FUTURE  SK_DPD  SK_DPD_DEF  NAME_CONTRACT_STATUS_Active  \\\n1747                     8.0       0           0                            1   \n13406                    7.0       0           0                            1   \n15425                   38.0       0           0                            1   \n10320                    6.0       0           0                            1   \n5488                     3.0       0           0                            1   \n...                      ...     ...         ...                          ...   \n26002                   12.0       0           0                            1   \n12670                   13.0       0           0                            1   \n9116                     8.0       0           0                            1   \n6066                    18.0       0           0                            1   \n19080                   31.0       0           0                            1   \n\n       NAME_CONTRACT_STATUS_Approved  NAME_CONTRACT_STATUS_Completed  \\\n1747                               0                               0   \n13406                              0                               0   \n15425                              0                               0   \n10320                              0                               0   \n5488                               0                               0   \n...                              ...                             ...   \n26002                              0                               0   \n12670                              0                               0   \n9116                               0                               0   \n6066                               0                               0   \n19080                              0                               0   \n\n       NAME_CONTRACT_STATUS_Demand  \\\n1747                             0   \n13406                            0   \n15425                            0   \n10320                            0   \n5488                             0   \n...                            ...   \n26002                            0   \n12670                            0   \n9116                             0   \n6066                             0   \n19080                            0   \n\n       NAME_CONTRACT_STATUS_Returned to the store  \\\n1747                                            0   \n13406                                           0   \n15425                                           0   \n10320                                           0   \n5488                                            0   \n...                                           ...   \n26002                                           0   \n12670                                           0   \n9116                                            0   \n6066                                            0   \n19080                                           0   \n\n       NAME_CONTRACT_STATUS_Signed  LATE_PAYMENT  LATE_PAYMENT_SUM  \n1747                             0             0                 0  \n13406                            0             0                 0  \n15425                            0             0                 0  \n10320                            0             0                 0  \n5488                             0             0                 0  \n...                            ...           ...               ...  \n26002                            0             0                 0  \n12670                            0             0                 0  \n9116                             0             0                 0  \n6066                             0             0                 0  \n19080                            0             0                 0  \n\n[28551 rows x 15 columns]",
      "text/html": "<div>\n<style scoped>\n    .dataframe tbody tr th:only-of-type {\n        vertical-align: middle;\n    }\n\n    .dataframe tbody tr th {\n        vertical-align: top;\n    }\n\n    .dataframe thead th {\n        text-align: right;\n    }\n</style>\n<table border=\"1\" class=\"dataframe\">\n  <thead>\n    <tr style=\"text-align: right;\">\n      <th></th>\n      <th>SK_ID_PREV</th>\n      <th>SK_ID_CURR</th>\n      <th>MONTHS_BALANCE</th>\n      <th>CNT_INSTALMENT</th>\n      <th>CNT_INSTALMENT_FUTURE</th>\n      <th>SK_DPD</th>\n      <th>SK_DPD_DEF</th>\n      <th>NAME_CONTRACT_STATUS_Active</th>\n      <th>NAME_CONTRACT_STATUS_Approved</th>\n      <th>NAME_CONTRACT_STATUS_Completed</th>\n      <th>NAME_CONTRACT_STATUS_Demand</th>\n      <th>NAME_CONTRACT_STATUS_Returned to the store</th>\n      <th>NAME_CONTRACT_STATUS_Signed</th>\n      <th>LATE_PAYMENT</th>\n      <th>LATE_PAYMENT_SUM</th>\n    </tr>\n  </thead>\n  <tbody>\n    <tr>\n      <th>1747</th>\n      <td>2812233</td>\n      <td>370628</td>\n      <td>-40</td>\n      <td>24.0</td>\n      <td>8.0</td>\n      <td>0</td>\n      <td>0</td>\n      <td>1</td>\n      <td>0</td>\n      <td>0</td>\n      <td>0</td>\n      <td>0</td>\n      <td>0</td>\n      <td>0</td>\n      <td>0</td>\n    </tr>\n    <tr>\n      <th>13406</th>\n      <td>1577248</td>\n      <td>333905</td>\n      <td>-76</td>\n      <td>12.0</td>\n      <td>7.0</td>\n      <td>0</td>\n      <td>0</td>\n      <td>1</td>\n      <td>0</td>\n      <td>0</td>\n      <td>0</td>\n      <td>0</td>\n      <td>0</td>\n      <td>0</td>\n      <td>0</td>\n    </tr>\n    <tr>\n      <th>15425</th>\n      <td>1233293</td>\n      <td>249204</td>\n      <td>-5</td>\n      <td>54.0</td>\n      <td>38.0</td>\n      <td>0</td>\n      <td>0</td>\n      <td>1</td>\n      <td>0</td>\n      <td>0</td>\n      <td>0</td>\n      <td>0</td>\n      <td>0</td>\n      <td>0</td>\n      <td>0</td>\n    </tr>\n    <tr>\n      <th>10320</th>\n      <td>2579674</td>\n      <td>200931</td>\n      <td>-8</td>\n      <td>6.0</td>\n      <td>6.0</td>\n      <td>0</td>\n      <td>0</td>\n      <td>1</td>\n      <td>0</td>\n      <td>0</td>\n      <td>0</td>\n      <td>0</td>\n      <td>0</td>\n      <td>0</td>\n      <td>0</td>\n    </tr>\n    <tr>\n      <th>5488</th>\n      <td>2605814</td>\n      <td>168389</td>\n      <td>-31</td>\n      <td>12.0</td>\n      <td>3.0</td>\n      <td>0</td>\n      <td>0</td>\n      <td>1</td>\n      <td>0</td>\n      <td>0</td>\n      <td>0</td>\n      <td>0</td>\n      <td>0</td>\n      <td>0</td>\n      <td>0</td>\n    </tr>\n    <tr>\n      <th>...</th>\n      <td>...</td>\n      <td>...</td>\n      <td>...</td>\n      <td>...</td>\n      <td>...</td>\n      <td>...</td>\n      <td>...</td>\n      <td>...</td>\n      <td>...</td>\n      <td>...</td>\n      <td>...</td>\n      <td>...</td>\n      <td>...</td>\n      <td>...</td>\n      <td>...</td>\n    </tr>\n    <tr>\n      <th>26002</th>\n      <td>1797575</td>\n      <td>295354</td>\n      <td>-18</td>\n      <td>12.0</td>\n      <td>12.0</td>\n      <td>0</td>\n      <td>0</td>\n      <td>1</td>\n      <td>0</td>\n      <td>0</td>\n      <td>0</td>\n      <td>0</td>\n      <td>0</td>\n      <td>0</td>\n      <td>0</td>\n    </tr>\n    <tr>\n      <th>12670</th>\n      <td>1152485</td>\n      <td>323072</td>\n      <td>-2</td>\n      <td>36.0</td>\n      <td>13.0</td>\n      <td>0</td>\n      <td>0</td>\n      <td>1</td>\n      <td>0</td>\n      <td>0</td>\n      <td>0</td>\n      <td>0</td>\n      <td>0</td>\n      <td>0</td>\n      <td>0</td>\n    </tr>\n    <tr>\n      <th>9116</th>\n      <td>1846561</td>\n      <td>207225</td>\n      <td>-63</td>\n      <td>8.0</td>\n      <td>8.0</td>\n      <td>0</td>\n      <td>0</td>\n      <td>1</td>\n      <td>0</td>\n      <td>0</td>\n      <td>0</td>\n      <td>0</td>\n      <td>0</td>\n      <td>0</td>\n      <td>0</td>\n    </tr>\n    <tr>\n      <th>6066</th>\n      <td>1136375</td>\n      <td>382024</td>\n      <td>-40</td>\n      <td>24.0</td>\n      <td>18.0</td>\n      <td>0</td>\n      <td>0</td>\n      <td>1</td>\n      <td>0</td>\n      <td>0</td>\n      <td>0</td>\n      <td>0</td>\n      <td>0</td>\n      <td>0</td>\n      <td>0</td>\n    </tr>\n    <tr>\n      <th>19080</th>\n      <td>1184287</td>\n      <td>395389</td>\n      <td>-7</td>\n      <td>42.0</td>\n      <td>31.0</td>\n      <td>0</td>\n      <td>0</td>\n      <td>1</td>\n      <td>0</td>\n      <td>0</td>\n      <td>0</td>\n      <td>0</td>\n      <td>0</td>\n      <td>0</td>\n      <td>0</td>\n    </tr>\n  </tbody>\n</table>\n<p>28551 rows × 15 columns</p>\n</div>"
     },
     "execution_count": 466,
     "metadata": {},
     "output_type": "execute_result"
    }
   ],
   "source": [
    "sort_pos.iloc[last_month_df].groupby('SK_ID_CURR').tail(3)"
   ],
   "metadata": {
    "collapsed": false,
    "pycharm": {
     "name": "#%%\n"
    }
   }
  },
  {
   "cell_type": "code",
   "execution_count": 467,
   "outputs": [
    {
     "ename": "AttributeError",
     "evalue": "'DataFrameGroupBy' object has no attribute 'groupby'",
     "output_type": "error",
     "traceback": [
      "\u001B[0;31m---------------------------------------------------------------------------\u001B[0m",
      "\u001B[0;31mAttributeError\u001B[0m                            Traceback (most recent call last)",
      "\u001B[0;32m/var/folders/c6/2j22b1rd02778st12c0mcr3w0000gn/T/ipykernel_71814/1651406598.py\u001B[0m in \u001B[0;36m<module>\u001B[0;34m\u001B[0m\n\u001B[0;32m----> 1\u001B[0;31m \u001B[0mgp\u001B[0m\u001B[0;34m.\u001B[0m\u001B[0mgroupby\u001B[0m\u001B[0;34m(\u001B[0m\u001B[0;34m'SK_ID_CURR'\u001B[0m\u001B[0;34m)\u001B[0m\u001B[0;34m.\u001B[0m\u001B[0mmean\u001B[0m\u001B[0;34m(\u001B[0m\u001B[0;34m)\u001B[0m\u001B[0;34m.\u001B[0m\u001B[0mreset_index\u001B[0m\u001B[0;34m(\u001B[0m\u001B[0;34m)\u001B[0m\u001B[0;34m\u001B[0m\u001B[0;34m\u001B[0m\u001B[0m\n\u001B[0m\u001B[1;32m      2\u001B[0m \u001B[0;34m\u001B[0m\u001B[0m\n\u001B[1;32m      3\u001B[0m \u001B[0;34m\u001B[0m\u001B[0m\n",
      "\u001B[0;32m~/PycharmProjects/pythonProject/Kaggle/venv/lib/python3.8/site-packages/pandas/core/groupby/groupby.py\u001B[0m in \u001B[0;36m__getattr__\u001B[0;34m(self, attr)\u001B[0m\n\u001B[1;32m    909\u001B[0m             \u001B[0;32mreturn\u001B[0m \u001B[0mself\u001B[0m\u001B[0;34m[\u001B[0m\u001B[0mattr\u001B[0m\u001B[0;34m]\u001B[0m\u001B[0;34m\u001B[0m\u001B[0;34m\u001B[0m\u001B[0m\n\u001B[1;32m    910\u001B[0m \u001B[0;34m\u001B[0m\u001B[0m\n\u001B[0;32m--> 911\u001B[0;31m         raise AttributeError(\n\u001B[0m\u001B[1;32m    912\u001B[0m             \u001B[0;34mf\"'{type(self).__name__}' object has no attribute '{attr}'\"\u001B[0m\u001B[0;34m\u001B[0m\u001B[0;34m\u001B[0m\u001B[0m\n\u001B[1;32m    913\u001B[0m         )\n",
      "\u001B[0;31mAttributeError\u001B[0m: 'DataFrameGroupBy' object has no attribute 'groupby'"
     ]
    }
   ],
   "source": [
    "gp.groupby('SK_ID_CURR').mean().reset_index()\n"
   ],
   "metadata": {
    "collapsed": false,
    "pycharm": {
     "name": "#%%\n"
    }
   }
  },
  {
   "cell_type": "code",
   "execution_count": 471,
   "outputs": [
    {
     "data": {
      "text/plain": "       SK_ID_PREV  SK_ID_CURR  MONTHS_BALANCE  CNT_INSTALMENT  \\\n0         1803195      182943             -31            48.0   \n1         1715348      367990             -33            36.0   \n2         1784872      397406             -32            12.0   \n3         1903291      269225             -35            48.0   \n4         2341044      334279             -35            36.0   \n...           ...         ...             ...             ...   \n29995     1045812      297106             -79            10.0   \n29996     1227096      273114             -79            10.0   \n29997     1845807      223063             -73            10.0   \n29998     2409105      288064             -77             8.0   \n29999     1373143      133380             -73            10.0   \n\n       CNT_INSTALMENT_FUTURE  SK_DPD  SK_DPD_DEF  NAME_CONTRACT_STATUS_Active  \\\n0                       45.0       0           0                            1   \n1                       35.0       0           0                            1   \n2                        9.0       0           0                            1   \n3                       42.0       0           0                            1   \n4                       35.0       0           0                            1   \n...                      ...     ...         ...                          ...   \n29995                    6.0       0           0                            1   \n29996                    6.0       0           0                            1   \n29997                    3.0       0           0                            1   \n29998                    3.0       0           0                            1   \n29999                    4.0       1           1                            1   \n\n       NAME_CONTRACT_STATUS_Approved  NAME_CONTRACT_STATUS_Completed  \\\n0                                  0                               0   \n1                                  0                               0   \n2                                  0                               0   \n3                                  0                               0   \n4                                  0                               0   \n...                              ...                             ...   \n29995                              0                               0   \n29996                              0                               0   \n29997                              0                               0   \n29998                              0                               0   \n29999                              0                               0   \n\n       NAME_CONTRACT_STATUS_Demand  \\\n0                                0   \n1                                0   \n2                                0   \n3                                0   \n4                                0   \n...                            ...   \n29995                            0   \n29996                            0   \n29997                            0   \n29998                            0   \n29999                            0   \n\n       NAME_CONTRACT_STATUS_Returned to the store  \\\n0                                               0   \n1                                               0   \n2                                               0   \n3                                               0   \n4                                               0   \n...                                           ...   \n29995                                           0   \n29996                                           0   \n29997                                           0   \n29998                                           0   \n29999                                           0   \n\n       NAME_CONTRACT_STATUS_Signed  LATE_PAYMENT  LATE_PAYMENT_SUM  \n0                                0             0                 0  \n1                                0             0                 0  \n2                                0             0                 0  \n3                                0             0                 0  \n4                                0             0                 0  \n...                            ...           ...               ...  \n29995                            0             0                 0  \n29996                            0             0                 0  \n29997                            0             0                 0  \n29998                            0             0                 0  \n29999                            0             1                 1  \n\n[30000 rows x 15 columns]",
      "text/html": "<div>\n<style scoped>\n    .dataframe tbody tr th:only-of-type {\n        vertical-align: middle;\n    }\n\n    .dataframe tbody tr th {\n        vertical-align: top;\n    }\n\n    .dataframe thead th {\n        text-align: right;\n    }\n</style>\n<table border=\"1\" class=\"dataframe\">\n  <thead>\n    <tr style=\"text-align: right;\">\n      <th></th>\n      <th>SK_ID_PREV</th>\n      <th>SK_ID_CURR</th>\n      <th>MONTHS_BALANCE</th>\n      <th>CNT_INSTALMENT</th>\n      <th>CNT_INSTALMENT_FUTURE</th>\n      <th>SK_DPD</th>\n      <th>SK_DPD_DEF</th>\n      <th>NAME_CONTRACT_STATUS_Active</th>\n      <th>NAME_CONTRACT_STATUS_Approved</th>\n      <th>NAME_CONTRACT_STATUS_Completed</th>\n      <th>NAME_CONTRACT_STATUS_Demand</th>\n      <th>NAME_CONTRACT_STATUS_Returned to the store</th>\n      <th>NAME_CONTRACT_STATUS_Signed</th>\n      <th>LATE_PAYMENT</th>\n      <th>LATE_PAYMENT_SUM</th>\n    </tr>\n  </thead>\n  <tbody>\n    <tr>\n      <th>0</th>\n      <td>1803195</td>\n      <td>182943</td>\n      <td>-31</td>\n      <td>48.0</td>\n      <td>45.0</td>\n      <td>0</td>\n      <td>0</td>\n      <td>1</td>\n      <td>0</td>\n      <td>0</td>\n      <td>0</td>\n      <td>0</td>\n      <td>0</td>\n      <td>0</td>\n      <td>0</td>\n    </tr>\n    <tr>\n      <th>1</th>\n      <td>1715348</td>\n      <td>367990</td>\n      <td>-33</td>\n      <td>36.0</td>\n      <td>35.0</td>\n      <td>0</td>\n      <td>0</td>\n      <td>1</td>\n      <td>0</td>\n      <td>0</td>\n      <td>0</td>\n      <td>0</td>\n      <td>0</td>\n      <td>0</td>\n      <td>0</td>\n    </tr>\n    <tr>\n      <th>2</th>\n      <td>1784872</td>\n      <td>397406</td>\n      <td>-32</td>\n      <td>12.0</td>\n      <td>9.0</td>\n      <td>0</td>\n      <td>0</td>\n      <td>1</td>\n      <td>0</td>\n      <td>0</td>\n      <td>0</td>\n      <td>0</td>\n      <td>0</td>\n      <td>0</td>\n      <td>0</td>\n    </tr>\n    <tr>\n      <th>3</th>\n      <td>1903291</td>\n      <td>269225</td>\n      <td>-35</td>\n      <td>48.0</td>\n      <td>42.0</td>\n      <td>0</td>\n      <td>0</td>\n      <td>1</td>\n      <td>0</td>\n      <td>0</td>\n      <td>0</td>\n      <td>0</td>\n      <td>0</td>\n      <td>0</td>\n      <td>0</td>\n    </tr>\n    <tr>\n      <th>4</th>\n      <td>2341044</td>\n      <td>334279</td>\n      <td>-35</td>\n      <td>36.0</td>\n      <td>35.0</td>\n      <td>0</td>\n      <td>0</td>\n      <td>1</td>\n      <td>0</td>\n      <td>0</td>\n      <td>0</td>\n      <td>0</td>\n      <td>0</td>\n      <td>0</td>\n      <td>0</td>\n    </tr>\n    <tr>\n      <th>...</th>\n      <td>...</td>\n      <td>...</td>\n      <td>...</td>\n      <td>...</td>\n      <td>...</td>\n      <td>...</td>\n      <td>...</td>\n      <td>...</td>\n      <td>...</td>\n      <td>...</td>\n      <td>...</td>\n      <td>...</td>\n      <td>...</td>\n      <td>...</td>\n      <td>...</td>\n    </tr>\n    <tr>\n      <th>29995</th>\n      <td>1045812</td>\n      <td>297106</td>\n      <td>-79</td>\n      <td>10.0</td>\n      <td>6.0</td>\n      <td>0</td>\n      <td>0</td>\n      <td>1</td>\n      <td>0</td>\n      <td>0</td>\n      <td>0</td>\n      <td>0</td>\n      <td>0</td>\n      <td>0</td>\n      <td>0</td>\n    </tr>\n    <tr>\n      <th>29996</th>\n      <td>1227096</td>\n      <td>273114</td>\n      <td>-79</td>\n      <td>10.0</td>\n      <td>6.0</td>\n      <td>0</td>\n      <td>0</td>\n      <td>1</td>\n      <td>0</td>\n      <td>0</td>\n      <td>0</td>\n      <td>0</td>\n      <td>0</td>\n      <td>0</td>\n      <td>0</td>\n    </tr>\n    <tr>\n      <th>29997</th>\n      <td>1845807</td>\n      <td>223063</td>\n      <td>-73</td>\n      <td>10.0</td>\n      <td>3.0</td>\n      <td>0</td>\n      <td>0</td>\n      <td>1</td>\n      <td>0</td>\n      <td>0</td>\n      <td>0</td>\n      <td>0</td>\n      <td>0</td>\n      <td>0</td>\n      <td>0</td>\n    </tr>\n    <tr>\n      <th>29998</th>\n      <td>2409105</td>\n      <td>288064</td>\n      <td>-77</td>\n      <td>8.0</td>\n      <td>3.0</td>\n      <td>0</td>\n      <td>0</td>\n      <td>1</td>\n      <td>0</td>\n      <td>0</td>\n      <td>0</td>\n      <td>0</td>\n      <td>0</td>\n      <td>0</td>\n      <td>0</td>\n    </tr>\n    <tr>\n      <th>29999</th>\n      <td>1373143</td>\n      <td>133380</td>\n      <td>-73</td>\n      <td>10.0</td>\n      <td>4.0</td>\n      <td>1</td>\n      <td>1</td>\n      <td>1</td>\n      <td>0</td>\n      <td>0</td>\n      <td>0</td>\n      <td>0</td>\n      <td>0</td>\n      <td>1</td>\n      <td>1</td>\n    </tr>\n  </tbody>\n</table>\n<p>30000 rows × 15 columns</p>\n</div>"
     },
     "execution_count": 471,
     "metadata": {},
     "output_type": "execute_result"
    }
   ],
   "source": [
    "pos"
   ],
   "metadata": {
    "collapsed": false,
    "pycharm": {
     "name": "#%%\n"
    }
   }
  },
  {
   "cell_type": "code",
   "execution_count": 472,
   "outputs": [],
   "source": [
    "for  i , ele in pos.groupby('SK_ID_PREV'):\n",
    "    break"
   ],
   "metadata": {
    "collapsed": false,
    "pycharm": {
     "name": "#%%\n"
    }
   }
  },
  {
   "cell_type": "code",
   "execution_count": 473,
   "outputs": [
    {
     "data": {
      "text/plain": "       SK_ID_PREV  SK_ID_CURR  MONTHS_BALANCE  CNT_INSTALMENT  \\\n29474     1000013      215520             -38            12.0   \n\n       CNT_INSTALMENT_FUTURE  SK_DPD  SK_DPD_DEF  NAME_CONTRACT_STATUS_Active  \\\n29474                    4.0       0           0                            1   \n\n       NAME_CONTRACT_STATUS_Approved  NAME_CONTRACT_STATUS_Completed  \\\n29474                              0                               0   \n\n       NAME_CONTRACT_STATUS_Demand  \\\n29474                            0   \n\n       NAME_CONTRACT_STATUS_Returned to the store  \\\n29474                                           0   \n\n       NAME_CONTRACT_STATUS_Signed  LATE_PAYMENT  LATE_PAYMENT_SUM  \n29474                            0             0                 0  ",
      "text/html": "<div>\n<style scoped>\n    .dataframe tbody tr th:only-of-type {\n        vertical-align: middle;\n    }\n\n    .dataframe tbody tr th {\n        vertical-align: top;\n    }\n\n    .dataframe thead th {\n        text-align: right;\n    }\n</style>\n<table border=\"1\" class=\"dataframe\">\n  <thead>\n    <tr style=\"text-align: right;\">\n      <th></th>\n      <th>SK_ID_PREV</th>\n      <th>SK_ID_CURR</th>\n      <th>MONTHS_BALANCE</th>\n      <th>CNT_INSTALMENT</th>\n      <th>CNT_INSTALMENT_FUTURE</th>\n      <th>SK_DPD</th>\n      <th>SK_DPD_DEF</th>\n      <th>NAME_CONTRACT_STATUS_Active</th>\n      <th>NAME_CONTRACT_STATUS_Approved</th>\n      <th>NAME_CONTRACT_STATUS_Completed</th>\n      <th>NAME_CONTRACT_STATUS_Demand</th>\n      <th>NAME_CONTRACT_STATUS_Returned to the store</th>\n      <th>NAME_CONTRACT_STATUS_Signed</th>\n      <th>LATE_PAYMENT</th>\n      <th>LATE_PAYMENT_SUM</th>\n    </tr>\n  </thead>\n  <tbody>\n    <tr>\n      <th>29474</th>\n      <td>1000013</td>\n      <td>215520</td>\n      <td>-38</td>\n      <td>12.0</td>\n      <td>4.0</td>\n      <td>0</td>\n      <td>0</td>\n      <td>1</td>\n      <td>0</td>\n      <td>0</td>\n      <td>0</td>\n      <td>0</td>\n      <td>0</td>\n      <td>0</td>\n      <td>0</td>\n    </tr>\n  </tbody>\n</table>\n</div>"
     },
     "execution_count": 473,
     "metadata": {},
     "output_type": "execute_result"
    }
   ],
   "source": [
    "ele\n"
   ],
   "metadata": {
    "collapsed": false,
    "pycharm": {
     "name": "#%%\n"
    }
   }
  },
  {
   "cell_type": "code",
   "execution_count": 474,
   "outputs": [
    {
     "data": {
      "text/plain": "29474"
     },
     "execution_count": 474,
     "metadata": {},
     "output_type": "execute_result"
    }
   ],
   "source": [
    "ele['MONTHS_BALANCE'].idxmax()"
   ],
   "metadata": {
    "collapsed": false,
    "pycharm": {
     "name": "#%%\n"
    }
   }
  },
  {
   "cell_type": "code",
   "execution_count": null,
   "outputs": [],
   "source": [],
   "metadata": {
    "collapsed": false,
    "pycharm": {
     "name": "#%%\n"
    }
   }
  },
  {
   "cell_type": "code",
   "execution_count": null,
   "outputs": [],
   "source": [
    "sort_pos.iloc[last_month_df]"
   ],
   "metadata": {
    "collapsed": false,
    "pycharm": {
     "name": "#%%\n"
    }
   }
  },
  {
   "cell_type": "code",
   "execution_count": null,
   "outputs": [],
   "source": [],
   "metadata": {
    "collapsed": false,
    "pycharm": {
     "name": "#%%\n"
    }
   }
  },
  {
   "cell_type": "code",
   "execution_count": null,
   "outputs": [],
   "source": [],
   "metadata": {
    "collapsed": false,
    "pycharm": {
     "name": "#%%\n"
    }
   }
  }
 ],
 "metadata": {
  "kernelspec": {
   "display_name": "Python 3",
   "language": "python",
   "name": "python3"
  },
  "language_info": {
   "codemirror_mode": {
    "name": "ipython",
    "version": 2
   },
   "file_extension": ".py",
   "mimetype": "text/x-python",
   "name": "python",
   "nbconvert_exporter": "python",
   "pygments_lexer": "ipython2",
   "version": "2.7.6"
  }
 },
 "nbformat": 4,
 "nbformat_minor": 0
}