{
 "metadata": {
  "kernelspec": {
   "language": "python",
   "display_name": "Python 3",
   "name": "python3"
  },
  "language_info": {
   "name": "python",
   "version": "3.7.12",
   "mimetype": "text/x-python",
   "codemirror_mode": {
    "name": "ipython",
    "version": 3
   },
   "pygments_lexer": "ipython3",
   "nbconvert_exporter": "python",
   "file_extension": ".py"
  }
 },
 "nbformat_minor": 4,
 "nbformat": 4,
 "cells": [
  {
   "cell_type": "code",
   "source": [
    "# This Python 3 environment comes with many helpful analytics libraries installed\n",
    "# It is defined by the kaggle/python Docker image: https://github.com/kaggle/docker-python\n",
    "# For example, here's several helpful packages to load\n",
    "\n",
    "import numpy as np # linear algebra\n",
    "import pandas as pd # data processing, CSV file I/O (e.g. pd.read_csv)\n",
    "\n",
    "# Input data files are available in the read-only \"../input/\" directory\n",
    "# For example, running this (by clicking run or pressing Shift+Enter) will list all files under the input directory\n",
    "\n",
    "import os\n",
    "#for dirname, _, filenames in os.walk('/kaggle/input'):\n",
    "#    for filename in filenames:\n",
    "#        pass\n",
    "#        print(os.path.join(dirname, filename))\n",
    "# You can write up to 20GB to the current directory (/kaggle/working/) that gets preserved as output when you create a version using \"Save & Run All\" \n",
    "# You can also write temporary files to /kaggle/temp/, but they won't be saved outside of the current session"
   ],
   "metadata": {
    "_uuid": "8f2839f25d086af736a60e9eeb907d3b93b6e0e5",
    "_cell_guid": "b1076dfc-b9ad-4769-8c92-a6c4dae69d19",
    "execution": {
     "iopub.status.busy": "2022-03-17T14:48:54.539473Z",
     "iopub.execute_input": "2022-03-17T14:48:54.539776Z",
     "iopub.status.idle": "2022-03-17T14:48:54.545740Z",
     "shell.execute_reply.started": "2022-03-17T14:48:54.539738Z",
     "shell.execute_reply": "2022-03-17T14:48:54.544786Z"
    },
    "trusted": true
   },
   "execution_count": 72,
   "outputs": []
  },
  {
   "cell_type": "code",
   "source": [
    "# 코드 출처 주석에 바로 적기"
   ],
   "metadata": {
    "execution": {
     "iopub.status.busy": "2022-03-17T14:48:54.659485Z",
     "iopub.execute_input": "2022-03-17T14:48:54.659799Z",
     "iopub.status.idle": "2022-03-17T14:48:54.663938Z",
     "shell.execute_reply.started": "2022-03-17T14:48:54.659764Z",
     "shell.execute_reply": "2022-03-17T14:48:54.662849Z"
    },
    "trusted": true
   },
   "execution_count": 73,
   "outputs": []
  },
  {
   "cell_type": "code",
   "source": [
    "import matplotlib.pyplot as plt\n",
    "import seaborn as sns\n",
    "import plotly # 구매 아이템 정보\n",
    "import matplotlib.image as mpimg\n",
    "# 처음엔 overall view하는 것이 세세하게 연령별로 group view 하는 것보다 파악이 빠르다\n",
    "import plotly.graph_objects as go\n",
    "import random\n",
    "import plotly.offline as po\n",
    "from sklearn.feature_extraction.text import TfidfVectorizer\n",
    "import gc \n",
    "from sklearn.model_selection import train_test_split\n",
    "import pandas as pd"
   ],
   "metadata": {
    "execution": {
     "iopub.status.busy": "2022-03-17T14:48:54.803427Z",
     "iopub.execute_input": "2022-03-17T14:48:54.803922Z",
     "iopub.status.idle": "2022-03-17T14:48:54.810166Z",
     "shell.execute_reply.started": "2022-03-17T14:48:54.803880Z",
     "shell.execute_reply": "2022-03-17T14:48:54.808999Z"
    },
    "trusted": true
   },
   "execution_count": 4,
   "outputs": []
  },
  {
   "cell_type": "code",
   "source": [
    "%%time\n",
    "\n",
    "base_path = '../input/h-and-m-personalized-fashion-recommendations/'\n",
    "csv_train = f'{base_path}transactions_train.csv'\n",
    "csv_sub = f'{base_path}sample_submission.csv'\n",
    "csv_users = f'{base_path}customers.csv'\n",
    "csv_items = f'{base_path}articles.csv'\n",
    "\n",
    "debug=True\n",
    "if debug:\n",
    "    df = pd.read_csv(csv_train, dtype={'article_id': str}, parse_dates=['t_dat'], nrows=300000)\n",
    "    df_sub = pd.read_csv(csv_sub)\n",
    "    dfu = pd.read_csv(csv_users)\n",
    "    dfi = pd.read_csv(csv_items, dtype={'article_id': str})\n",
    "else:\n",
    "    df = pd.read_csv(csv_train, dtype={'article_id': str}, parse_dates=['t_dat'])\n",
    "    df_sub = pd.read_csv(csv_sub)\n",
    "    dfu = pd.read_csv(csv_users)\n",
    "    dfi = pd.read_csv(csv_items, dtype={'article_id': str})"
   ],
   "metadata": {
    "execution": {
     "iopub.status.busy": "2022-03-17T14:48:54.994964Z",
     "iopub.execute_input": "2022-03-17T14:48:54.995592Z",
     "iopub.status.idle": "2022-03-17T14:49:03.340656Z",
     "shell.execute_reply.started": "2022-03-17T14:48:54.995553Z",
     "shell.execute_reply": "2022-03-17T14:49:03.339731Z"
    },
    "trusted": true
   },
   "execution_count": 5,
   "outputs": [
    {
     "name": "stdout",
     "output_type": "stream",
     "text": [
      "Wall time: 3.9 s\n"
     ]
    }
   ]
  },
  {
   "cell_type": "code",
   "source": [],
   "metadata": {
    "execution": {
     "iopub.status.busy": "2022-03-17T14:54:43.970012Z",
     "iopub.execute_input": "2022-03-17T14:54:43.970433Z",
     "iopub.status.idle": "2022-03-17T14:54:44.117836Z",
     "shell.execute_reply.started": "2022-03-17T14:54:43.970401Z",
     "shell.execute_reply": "2022-03-17T14:54:44.116664Z"
    },
    "trusted": true
   },
   "execution_count": 8,
   "outputs": []
  },
  {
   "cell_type": "code",
   "source": [
    "df['customer_id']=  df['customer_id'].apply(lambda x :  int( x[-16:],16))\n"
   ],
   "metadata": {
    "execution": {
     "iopub.status.busy": "2022-03-17T14:56:13.755791Z",
     "iopub.execute_input": "2022-03-17T14:56:13.756100Z",
     "iopub.status.idle": "2022-03-17T14:56:14.106416Z",
     "shell.execute_reply.started": "2022-03-17T14:56:13.756067Z",
     "shell.execute_reply": "2022-03-17T14:56:14.105448Z"
    },
    "trusted": true
   },
   "execution_count": 9,
   "outputs": [
    {
     "ename": "TypeError",
     "evalue": "'int' object is not subscriptable",
     "output_type": "error",
     "traceback": [
      "\u001B[1;31m---------------------------------------------------------------------------\u001B[0m",
      "\u001B[1;31mTypeError\u001B[0m                                 Traceback (most recent call last)",
      "\u001B[1;32m<ipython-input-9-327dd3109d82>\u001B[0m in \u001B[0;36m<module>\u001B[1;34m\u001B[0m\n\u001B[1;32m----> 1\u001B[1;33m \u001B[0mdf\u001B[0m\u001B[1;33m[\u001B[0m\u001B[1;34m'customer_id'\u001B[0m\u001B[1;33m]\u001B[0m\u001B[1;33m=\u001B[0m  \u001B[0mdf\u001B[0m\u001B[1;33m[\u001B[0m\u001B[1;34m'customer_id'\u001B[0m\u001B[1;33m]\u001B[0m\u001B[1;33m.\u001B[0m\u001B[0mapply\u001B[0m\u001B[1;33m(\u001B[0m\u001B[1;32mlambda\u001B[0m \u001B[0mx\u001B[0m \u001B[1;33m:\u001B[0m  \u001B[0mint\u001B[0m\u001B[1;33m(\u001B[0m \u001B[0mx\u001B[0m\u001B[1;33m[\u001B[0m\u001B[1;33m-\u001B[0m\u001B[1;36m16\u001B[0m\u001B[1;33m:\u001B[0m\u001B[1;33m]\u001B[0m\u001B[1;33m,\u001B[0m\u001B[1;36m16\u001B[0m\u001B[1;33m)\u001B[0m\u001B[1;33m)\u001B[0m\u001B[1;33m\u001B[0m\u001B[1;33m\u001B[0m\u001B[0m\n\u001B[0m\u001B[0;32m      2\u001B[0m \u001B[1;33m\u001B[0m\u001B[0m\n\u001B[0;32m      3\u001B[0m \u001B[1;33m\u001B[0m\u001B[0m\n",
      "\u001B[1;32mc:\\users\\data\\appdata\\local\\programs\\python\\python38\\lib\\site-packages\\pandas\\core\\series.py\u001B[0m in \u001B[0;36mapply\u001B[1;34m(self, func, convert_dtype, args, **kwds)\u001B[0m\n\u001B[0;32m   4136\u001B[0m             \u001B[1;32melse\u001B[0m\u001B[1;33m:\u001B[0m\u001B[1;33m\u001B[0m\u001B[1;33m\u001B[0m\u001B[0m\n\u001B[0;32m   4137\u001B[0m                 \u001B[0mvalues\u001B[0m \u001B[1;33m=\u001B[0m \u001B[0mself\u001B[0m\u001B[1;33m.\u001B[0m\u001B[0mastype\u001B[0m\u001B[1;33m(\u001B[0m\u001B[0mobject\u001B[0m\u001B[1;33m)\u001B[0m\u001B[1;33m.\u001B[0m\u001B[0m_values\u001B[0m\u001B[1;33m\u001B[0m\u001B[1;33m\u001B[0m\u001B[0m\n\u001B[1;32m-> 4138\u001B[1;33m                 \u001B[0mmapped\u001B[0m \u001B[1;33m=\u001B[0m \u001B[0mlib\u001B[0m\u001B[1;33m.\u001B[0m\u001B[0mmap_infer\u001B[0m\u001B[1;33m(\u001B[0m\u001B[0mvalues\u001B[0m\u001B[1;33m,\u001B[0m \u001B[0mf\u001B[0m\u001B[1;33m,\u001B[0m \u001B[0mconvert\u001B[0m\u001B[1;33m=\u001B[0m\u001B[0mconvert_dtype\u001B[0m\u001B[1;33m)\u001B[0m\u001B[1;33m\u001B[0m\u001B[1;33m\u001B[0m\u001B[0m\n\u001B[0m\u001B[0;32m   4139\u001B[0m \u001B[1;33m\u001B[0m\u001B[0m\n\u001B[0;32m   4140\u001B[0m         \u001B[1;32mif\u001B[0m \u001B[0mlen\u001B[0m\u001B[1;33m(\u001B[0m\u001B[0mmapped\u001B[0m\u001B[1;33m)\u001B[0m \u001B[1;32mand\u001B[0m \u001B[0misinstance\u001B[0m\u001B[1;33m(\u001B[0m\u001B[0mmapped\u001B[0m\u001B[1;33m[\u001B[0m\u001B[1;36m0\u001B[0m\u001B[1;33m]\u001B[0m\u001B[1;33m,\u001B[0m \u001B[0mSeries\u001B[0m\u001B[1;33m)\u001B[0m\u001B[1;33m:\u001B[0m\u001B[1;33m\u001B[0m\u001B[1;33m\u001B[0m\u001B[0m\n",
      "\u001B[1;32mpandas\\_libs\\lib.pyx\u001B[0m in \u001B[0;36mpandas._libs.lib.map_infer\u001B[1;34m()\u001B[0m\n",
      "\u001B[1;32m<ipython-input-9-327dd3109d82>\u001B[0m in \u001B[0;36m<lambda>\u001B[1;34m(x)\u001B[0m\n\u001B[1;32m----> 1\u001B[1;33m \u001B[0mdf\u001B[0m\u001B[1;33m[\u001B[0m\u001B[1;34m'customer_id'\u001B[0m\u001B[1;33m]\u001B[0m\u001B[1;33m=\u001B[0m  \u001B[0mdf\u001B[0m\u001B[1;33m[\u001B[0m\u001B[1;34m'customer_id'\u001B[0m\u001B[1;33m]\u001B[0m\u001B[1;33m.\u001B[0m\u001B[0mapply\u001B[0m\u001B[1;33m(\u001B[0m\u001B[1;32mlambda\u001B[0m \u001B[0mx\u001B[0m \u001B[1;33m:\u001B[0m  \u001B[0mint\u001B[0m\u001B[1;33m(\u001B[0m \u001B[0mx\u001B[0m\u001B[1;33m[\u001B[0m\u001B[1;33m-\u001B[0m\u001B[1;36m16\u001B[0m\u001B[1;33m:\u001B[0m\u001B[1;33m]\u001B[0m\u001B[1;33m,\u001B[0m\u001B[1;36m16\u001B[0m\u001B[1;33m)\u001B[0m\u001B[1;33m)\u001B[0m\u001B[1;33m\u001B[0m\u001B[1;33m\u001B[0m\u001B[0m\n\u001B[0m\u001B[0;32m      2\u001B[0m \u001B[1;33m\u001B[0m\u001B[0m\n\u001B[0;32m      3\u001B[0m \u001B[1;33m\u001B[0m\u001B[0m\n",
      "\u001B[1;31mTypeError\u001B[0m: 'int' object is not subscriptable"
     ]
    }
   ]
  },
  {
   "cell_type": "code",
   "source": [
    "df['customer_id'] = df['customer_id'].astype('int64')"
   ],
   "metadata": {
    "execution": {
     "iopub.status.busy": "2022-03-17T14:56:33.810003Z",
     "iopub.execute_input": "2022-03-17T14:56:33.810433Z",
     "iopub.status.idle": "2022-03-17T14:56:33.815708Z",
     "shell.execute_reply.started": "2022-03-17T14:56:33.810402Z",
     "shell.execute_reply": "2022-03-17T14:56:33.814976Z"
    },
    "trusted": true
   },
   "execution_count": 10,
   "outputs": []
  },
  {
   "cell_type": "code",
   "source": [
    "df.t_dat = pd.to_datetime(df.t_dat)"
   ],
   "metadata": {
    "execution": {
     "iopub.status.busy": "2022-03-17T14:57:04.506607Z",
     "iopub.execute_input": "2022-03-17T14:57:04.507070Z",
     "iopub.status.idle": "2022-03-17T14:57:04.588548Z",
     "shell.execute_reply.started": "2022-03-17T14:57:04.507017Z",
     "shell.execute_reply": "2022-03-17T14:57:04.587775Z"
    },
    "trusted": true
   },
   "execution_count": 11,
   "outputs": []
  },
  {
   "cell_type": "code",
   "source": [
    "df = df[['t_dat','customer_id','article_id']]"
   ],
   "metadata": {
    "execution": {
     "iopub.status.busy": "2022-03-17T14:57:16.354115Z",
     "iopub.execute_input": "2022-03-17T14:57:16.354396Z",
     "iopub.status.idle": "2022-03-17T14:57:16.368055Z",
     "shell.execute_reply.started": "2022-03-17T14:57:16.354367Z",
     "shell.execute_reply": "2022-03-17T14:57:16.367049Z"
    },
    "trusted": true
   },
   "execution_count": 12,
   "outputs": []
  },
  {
   "cell_type": "code",
   "source": [
    "df.to_parquet('train.pqt',index=False)"
   ],
   "metadata": {
    "execution": {
     "iopub.status.busy": "2022-03-17T14:57:29.380950Z",
     "iopub.execute_input": "2022-03-17T14:57:29.381357Z",
     "iopub.status.idle": "2022-03-17T14:57:29.518288Z",
     "shell.execute_reply.started": "2022-03-17T14:57:29.381325Z",
     "shell.execute_reply": "2022-03-17T14:57:29.517203Z"
    },
    "trusted": true
   },
   "execution_count": 13,
   "outputs": []
  },
  {
   "cell_type": "code",
   "source": [
    "print(df.shape)"
   ],
   "metadata": {
    "execution": {
     "iopub.status.busy": "2022-03-17T14:57:34.713329Z",
     "iopub.execute_input": "2022-03-17T14:57:34.713621Z",
     "iopub.status.idle": "2022-03-17T14:57:34.718797Z",
     "shell.execute_reply.started": "2022-03-17T14:57:34.713590Z",
     "shell.execute_reply": "2022-03-17T14:57:34.717769Z"
    },
    "trusted": true
   },
   "execution_count": 14,
   "outputs": [
    {
     "name": "stdout",
     "output_type": "stream",
     "text": [
      "(300000, 3)\n"
     ]
    }
   ]
  },
  {
   "cell_type": "code",
   "source": [
    "df.head()"
   ],
   "metadata": {
    "execution": {
     "iopub.status.busy": "2022-03-17T14:57:38.582068Z",
     "iopub.execute_input": "2022-03-17T14:57:38.582475Z",
     "iopub.status.idle": "2022-03-17T14:57:38.592738Z",
     "shell.execute_reply.started": "2022-03-17T14:57:38.582429Z",
     "shell.execute_reply": "2022-03-17T14:57:38.592094Z"
    },
    "trusted": true
   },
   "execution_count": 15,
   "outputs": [
    {
     "data": {
      "text/plain": "       t_dat          customer_id  article_id\n0 2018-09-20    -6846340800584936  0663713001\n1 2018-09-20    -6846340800584936  0541518023\n2 2018-09-20 -8334631767138808638  0505221004\n3 2018-09-20 -8334631767138808638  0685687003\n4 2018-09-20 -8334631767138808638  0685687004",
      "text/html": "<div>\n<style scoped>\n    .dataframe tbody tr th:only-of-type {\n        vertical-align: middle;\n    }\n\n    .dataframe tbody tr th {\n        vertical-align: top;\n    }\n\n    .dataframe thead th {\n        text-align: right;\n    }\n</style>\n<table border=\"1\" class=\"dataframe\">\n  <thead>\n    <tr style=\"text-align: right;\">\n      <th></th>\n      <th>t_dat</th>\n      <th>customer_id</th>\n      <th>article_id</th>\n    </tr>\n  </thead>\n  <tbody>\n    <tr>\n      <th>0</th>\n      <td>2018-09-20</td>\n      <td>-6846340800584936</td>\n      <td>0663713001</td>\n    </tr>\n    <tr>\n      <th>1</th>\n      <td>2018-09-20</td>\n      <td>-6846340800584936</td>\n      <td>0541518023</td>\n    </tr>\n    <tr>\n      <th>2</th>\n      <td>2018-09-20</td>\n      <td>-8334631767138808638</td>\n      <td>0505221004</td>\n    </tr>\n    <tr>\n      <th>3</th>\n      <td>2018-09-20</td>\n      <td>-8334631767138808638</td>\n      <td>0685687003</td>\n    </tr>\n    <tr>\n      <th>4</th>\n      <td>2018-09-20</td>\n      <td>-8334631767138808638</td>\n      <td>0685687004</td>\n    </tr>\n  </tbody>\n</table>\n</div>"
     },
     "execution_count": 15,
     "metadata": {},
     "output_type": "execute_result"
    }
   ]
  },
  {
   "cell_type": "code",
   "source": [
    "# Find Each Customer's Last Week of Purchases"
   ],
   "metadata": {
    "execution": {
     "iopub.status.busy": "2022-03-17T14:58:03.104077Z",
     "iopub.execute_input": "2022-03-17T14:58:03.104654Z",
     "iopub.status.idle": "2022-03-17T14:58:03.107900Z",
     "shell.execute_reply.started": "2022-03-17T14:58:03.104617Z",
     "shell.execute_reply": "2022-03-17T14:58:03.107230Z"
    },
    "trusted": true
   },
   "execution_count": 16,
   "outputs": []
  },
  {
   "cell_type": "code",
   "source": [
    "tmp = df.groupby('customer_id').t_dat.max().reset_index()"
   ],
   "metadata": {
    "execution": {
     "iopub.status.busy": "2022-03-17T14:58:22.856309Z",
     "iopub.execute_input": "2022-03-17T14:58:22.856855Z",
     "iopub.status.idle": "2022-03-17T14:58:22.906732Z",
     "shell.execute_reply.started": "2022-03-17T14:58:22.856802Z",
     "shell.execute_reply": "2022-03-17T14:58:22.905796Z"
    },
    "trusted": true
   },
   "execution_count": 17,
   "outputs": []
  },
  {
   "cell_type": "code",
   "source": [
    "tmp.columns =['customer_id', 'max_dat']"
   ],
   "metadata": {
    "execution": {
     "iopub.status.busy": "2022-03-17T14:58:40.471747Z",
     "iopub.execute_input": "2022-03-17T14:58:40.472027Z",
     "iopub.status.idle": "2022-03-17T14:58:40.477638Z",
     "shell.execute_reply.started": "2022-03-17T14:58:40.471997Z",
     "shell.execute_reply": "2022-03-17T14:58:40.476551Z"
    },
    "trusted": true
   },
   "execution_count": 18,
   "outputs": []
  },
  {
   "cell_type": "code",
   "source": [
    "df = df.merge(tmp, on ='customer_id' , how='left')"
   ],
   "metadata": {
    "execution": {
     "iopub.status.busy": "2022-03-17T14:59:02.627979Z",
     "iopub.execute_input": "2022-03-17T14:59:02.628526Z",
     "iopub.status.idle": "2022-03-17T14:59:02.689439Z",
     "shell.execute_reply.started": "2022-03-17T14:59:02.628492Z",
     "shell.execute_reply": "2022-03-17T14:59:02.688552Z"
    },
    "trusted": true
   },
   "execution_count": 19,
   "outputs": []
  },
  {
   "cell_type": "code",
   "source": [
    "df['diff_dat'] = (df.max_dat - df.t_dat).dt.days"
   ],
   "metadata": {
    "execution": {
     "iopub.status.busy": "2022-03-17T14:59:29.633293Z",
     "iopub.execute_input": "2022-03-17T14:59:29.634220Z",
     "iopub.status.idle": "2022-03-17T14:59:29.650308Z",
     "shell.execute_reply.started": "2022-03-17T14:59:29.634170Z",
     "shell.execute_reply": "2022-03-17T14:59:29.649197Z"
    },
    "trusted": true
   },
   "execution_count": 20,
   "outputs": []
  },
  {
   "cell_type": "code",
   "source": [
    "df = df.loc[df['diff_dat']<=6]"
   ],
   "metadata": {
    "execution": {
     "iopub.status.busy": "2022-03-17T14:59:56.700618Z",
     "iopub.execute_input": "2022-03-17T14:59:56.701073Z",
     "iopub.status.idle": "2022-03-17T14:59:56.722139Z",
     "shell.execute_reply.started": "2022-03-17T14:59:56.701040Z",
     "shell.execute_reply": "2022-03-17T14:59:56.721404Z"
    },
    "trusted": true
   },
   "execution_count": 21,
   "outputs": []
  },
  {
   "cell_type": "code",
   "source": [
    "print('Train shape: ', df.shape)"
   ],
   "metadata": {
    "execution": {
     "iopub.status.busy": "2022-03-17T15:00:13.616675Z",
     "iopub.execute_input": "2022-03-17T15:00:13.617525Z",
     "iopub.status.idle": "2022-03-17T15:00:13.622984Z",
     "shell.execute_reply.started": "2022-03-17T15:00:13.617471Z",
     "shell.execute_reply": "2022-03-17T15:00:13.622296Z"
    },
    "trusted": true
   },
   "execution_count": 22,
   "outputs": [
    {
     "name": "stdout",
     "output_type": "stream",
     "text": [
      "Train shape:  (300000, 5)\n"
     ]
    }
   ]
  },
  {
   "cell_type": "code",
   "source": [
    "tmp = df.groupby(['customer_id','article_id'])['t_dat'].agg('count').reset_index()"
   ],
   "metadata": {
    "execution": {
     "iopub.status.busy": "2022-03-17T15:00:53.792417Z",
     "iopub.execute_input": "2022-03-17T15:00:53.792912Z",
     "iopub.status.idle": "2022-03-17T15:00:53.997021Z",
     "shell.execute_reply.started": "2022-03-17T15:00:53.792866Z",
     "shell.execute_reply": "2022-03-17T15:00:53.995330Z"
    },
    "trusted": true
   },
   "execution_count": 23,
   "outputs": []
  },
  {
   "cell_type": "code",
   "source": [
    "tmp.columns = ['customer_id','article_id','ct']"
   ],
   "metadata": {
    "execution": {
     "iopub.status.busy": "2022-03-17T15:01:09.420432Z",
     "iopub.execute_input": "2022-03-17T15:01:09.420779Z",
     "iopub.status.idle": "2022-03-17T15:01:09.425175Z",
     "shell.execute_reply.started": "2022-03-17T15:01:09.420747Z",
     "shell.execute_reply": "2022-03-17T15:01:09.424537Z"
    },
    "trusted": true
   },
   "execution_count": 24,
   "outputs": []
  },
  {
   "cell_type": "code",
   "source": [
    "df = df.merge(tmp, on=['customer_id','article_id'],how='left')"
   ],
   "metadata": {
    "execution": {
     "iopub.status.busy": "2022-03-17T15:01:32.921148Z",
     "iopub.execute_input": "2022-03-17T15:01:32.921488Z",
     "iopub.status.idle": "2022-03-17T15:01:33.111197Z",
     "shell.execute_reply.started": "2022-03-17T15:01:32.921435Z",
     "shell.execute_reply": "2022-03-17T15:01:33.110441Z"
    },
    "trusted": true
   },
   "execution_count": 25,
   "outputs": []
  },
  {
   "cell_type": "code",
   "source": [
    "df = df.sort_values(['ct','t_dat'] , ascending=False)"
   ],
   "metadata": {
    "execution": {
     "iopub.status.busy": "2022-03-17T15:01:56.179425Z",
     "iopub.execute_input": "2022-03-17T15:01:56.179871Z",
     "iopub.status.idle": "2022-03-17T15:01:56.226029Z",
     "shell.execute_reply.started": "2022-03-17T15:01:56.179829Z",
     "shell.execute_reply": "2022-03-17T15:01:56.224601Z"
    },
    "trusted": true
   },
   "execution_count": 26,
   "outputs": []
  },
  {
   "cell_type": "code",
   "source": [
    "df =  df.drop_duplicates(['customer_id','article_id'])"
   ],
   "metadata": {
    "execution": {
     "iopub.status.busy": "2022-03-17T15:02:14.460365Z",
     "iopub.execute_input": "2022-03-17T15:02:14.460704Z",
     "iopub.status.idle": "2022-03-17T15:02:14.551480Z",
     "shell.execute_reply.started": "2022-03-17T15:02:14.460669Z",
     "shell.execute_reply": "2022-03-17T15:02:14.550546Z"
    },
    "trusted": true
   },
   "execution_count": 27,
   "outputs": []
  },
  {
   "cell_type": "code",
   "source": [
    "df = df.sort_values(['ct','t_dat'], ascending=False)"
   ],
   "metadata": {
    "execution": {
     "iopub.status.busy": "2022-03-17T15:02:37.787152Z",
     "iopub.execute_input": "2022-03-17T15:02:37.787438Z",
     "iopub.status.idle": "2022-03-17T15:02:37.817668Z",
     "shell.execute_reply.started": "2022-03-17T15:02:37.787408Z",
     "shell.execute_reply": "2022-03-17T15:02:37.816799Z"
    },
    "trusted": true
   },
   "execution_count": 28,
   "outputs": []
  },
  {
   "cell_type": "code",
   "source": [],
   "metadata": {},
   "execution_count": 28,
   "outputs": []
  },
  {
   "cell_type": "code",
   "source": [
    "df_ = pd.read_csv(csv_train, dtype={'article_id': str}, parse_dates=['t_dat'], nrows=300000)"
   ],
   "metadata": {
    "execution": {
     "iopub.status.busy": "2022-03-17T15:13:21.976706Z",
     "iopub.execute_input": "2022-03-17T15:13:21.977232Z",
     "iopub.status.idle": "2022-03-17T15:13:23.339504Z",
     "shell.execute_reply.started": "2022-03-17T15:13:21.977197Z",
     "shell.execute_reply": "2022-03-17T15:13:23.338271Z"
    },
    "trusted": true
   },
   "execution_count": 29,
   "outputs": []
  },
  {
   "cell_type": "code",
   "source": [
    "df_['customer_id']=  df_['customer_id'].apply(lambda x :  int( x[-16:],16))\n"
   ],
   "metadata": {
    "execution": {
     "iopub.status.busy": "2022-03-17T15:14:03.766675Z",
     "iopub.execute_input": "2022-03-17T15:14:03.767094Z",
     "iopub.status.idle": "2022-03-17T15:14:04.088605Z",
     "shell.execute_reply.started": "2022-03-17T15:14:03.767057Z",
     "shell.execute_reply": "2022-03-17T15:14:04.087536Z"
    },
    "trusted": true
   },
   "execution_count": 30,
   "outputs": []
  },
  {
   "cell_type": "code",
   "source": [
    "df_[df_.customer_id ==4807831066164705350]"
   ],
   "metadata": {
    "execution": {
     "iopub.status.busy": "2022-03-17T15:14:25.160711Z",
     "iopub.execute_input": "2022-03-17T15:14:25.161442Z",
     "iopub.status.idle": "2022-03-17T15:14:25.183168Z",
     "shell.execute_reply.started": "2022-03-17T15:14:25.161397Z",
     "shell.execute_reply": "2022-03-17T15:14:25.181972Z"
    },
    "trusted": true
   },
   "execution_count": 31,
   "outputs": [
    {
     "data": {
      "text/plain": "            t_dat          customer_id  article_id     price  sales_channel_id\n196442 2018-09-24  4807831066164705350  0618480001  0.033881                 2\n196443 2018-09-24  4807831066164705350  0618480001  0.033881                 2\n196444 2018-09-24  4807831066164705350  0618480001  0.033881                 2\n196445 2018-09-24  4807831066164705350  0618480001  0.033881                 2\n196446 2018-09-24  4807831066164705350  0618480001  0.033881                 2\n...           ...                  ...         ...       ...               ...\n196537 2018-09-24  4807831066164705350  0618480001  0.033881                 2\n196538 2018-09-24  4807831066164705350  0618480001  0.033881                 2\n196539 2018-09-24  4807831066164705350  0618480001  0.033881                 2\n196540 2018-09-24  4807831066164705350  0618480001  0.033881                 2\n196541 2018-09-24  4807831066164705350  0618480001  0.033881                 2\n\n[100 rows x 5 columns]",
      "text/html": "<div>\n<style scoped>\n    .dataframe tbody tr th:only-of-type {\n        vertical-align: middle;\n    }\n\n    .dataframe tbody tr th {\n        vertical-align: top;\n    }\n\n    .dataframe thead th {\n        text-align: right;\n    }\n</style>\n<table border=\"1\" class=\"dataframe\">\n  <thead>\n    <tr style=\"text-align: right;\">\n      <th></th>\n      <th>t_dat</th>\n      <th>customer_id</th>\n      <th>article_id</th>\n      <th>price</th>\n      <th>sales_channel_id</th>\n    </tr>\n  </thead>\n  <tbody>\n    <tr>\n      <th>196442</th>\n      <td>2018-09-24</td>\n      <td>4807831066164705350</td>\n      <td>0618480001</td>\n      <td>0.033881</td>\n      <td>2</td>\n    </tr>\n    <tr>\n      <th>196443</th>\n      <td>2018-09-24</td>\n      <td>4807831066164705350</td>\n      <td>0618480001</td>\n      <td>0.033881</td>\n      <td>2</td>\n    </tr>\n    <tr>\n      <th>196444</th>\n      <td>2018-09-24</td>\n      <td>4807831066164705350</td>\n      <td>0618480001</td>\n      <td>0.033881</td>\n      <td>2</td>\n    </tr>\n    <tr>\n      <th>196445</th>\n      <td>2018-09-24</td>\n      <td>4807831066164705350</td>\n      <td>0618480001</td>\n      <td>0.033881</td>\n      <td>2</td>\n    </tr>\n    <tr>\n      <th>196446</th>\n      <td>2018-09-24</td>\n      <td>4807831066164705350</td>\n      <td>0618480001</td>\n      <td>0.033881</td>\n      <td>2</td>\n    </tr>\n    <tr>\n      <th>...</th>\n      <td>...</td>\n      <td>...</td>\n      <td>...</td>\n      <td>...</td>\n      <td>...</td>\n    </tr>\n    <tr>\n      <th>196537</th>\n      <td>2018-09-24</td>\n      <td>4807831066164705350</td>\n      <td>0618480001</td>\n      <td>0.033881</td>\n      <td>2</td>\n    </tr>\n    <tr>\n      <th>196538</th>\n      <td>2018-09-24</td>\n      <td>4807831066164705350</td>\n      <td>0618480001</td>\n      <td>0.033881</td>\n      <td>2</td>\n    </tr>\n    <tr>\n      <th>196539</th>\n      <td>2018-09-24</td>\n      <td>4807831066164705350</td>\n      <td>0618480001</td>\n      <td>0.033881</td>\n      <td>2</td>\n    </tr>\n    <tr>\n      <th>196540</th>\n      <td>2018-09-24</td>\n      <td>4807831066164705350</td>\n      <td>0618480001</td>\n      <td>0.033881</td>\n      <td>2</td>\n    </tr>\n    <tr>\n      <th>196541</th>\n      <td>2018-09-24</td>\n      <td>4807831066164705350</td>\n      <td>0618480001</td>\n      <td>0.033881</td>\n      <td>2</td>\n    </tr>\n  </tbody>\n</table>\n<p>100 rows × 5 columns</p>\n</div>"
     },
     "execution_count": 31,
     "metadata": {},
     "output_type": "execute_result"
    }
   ]
  },
  {
   "cell_type": "code",
   "source": [
    "df_['customer_id'].apply(lambda x: x.)"
   ],
   "metadata": {
    "execution": {
     "iopub.status.busy": "2022-03-17T15:04:32.106558Z",
     "iopub.execute_input": "2022-03-17T15:04:32.106836Z",
     "iopub.status.idle": "2022-03-17T15:05:56.772139Z",
     "shell.execute_reply.started": "2022-03-17T15:04:32.106806Z",
     "shell.execute_reply": "2022-03-17T15:05:56.770473Z"
    },
    "trusted": true
   },
   "execution_count": 32,
   "outputs": [
    {
     "ename": "SyntaxError",
     "evalue": "invalid syntax (<ipython-input-32-5f58b2b450f7>, line 1)",
     "output_type": "error",
     "traceback": [
      "\u001B[1;36m  File \u001B[1;32m\"<ipython-input-32-5f58b2b450f7>\"\u001B[1;36m, line \u001B[1;32m1\u001B[0m\n\u001B[1;33m    df_['customer_id'].apply(lambda x: x.)\u001B[0m\n\u001B[1;37m                                         ^\u001B[0m\n\u001B[1;31mSyntaxError\u001B[0m\u001B[1;31m:\u001B[0m invalid syntax\n"
     ]
    }
   ]
  },
  {
   "cell_type": "code",
   "source": [
    "df"
   ],
   "metadata": {
    "execution": {
     "iopub.status.busy": "2022-03-17T15:14:12.934100Z",
     "iopub.execute_input": "2022-03-17T15:14:12.934437Z",
     "iopub.status.idle": "2022-03-17T15:14:12.954057Z",
     "shell.execute_reply.started": "2022-03-17T15:14:12.934400Z",
     "shell.execute_reply": "2022-03-17T15:14:12.953105Z"
    },
    "trusted": true
   },
   "execution_count": 33,
   "outputs": [
    {
     "data": {
      "text/plain": "            t_dat          customer_id  article_id    max_dat  diff_dat   ct\n196442 2018-09-24  4807831066164705350  0618480001 2018-09-24         0  100\n175867 2018-09-24 -4767130151449159669  0680374002 2018-09-24         0   55\n60518  2018-09-21 -2936678038598836257  0456163028 2018-09-21         0   52\n177445 2018-09-24 -8784462010106267426  0516000001 2018-09-24         0   36\n49587  2018-09-21  -770382745269162367  0554772002 2018-09-21         0   33\n...           ...                  ...         ...        ...       ...  ...\n48392  2018-09-20 -4545975550442162194  0671513003 2018-09-20         0    1\n48393  2018-09-20 -4545975550442162194  0680186002 2018-09-20         0    1\n48394  2018-09-20 -4545975550442162194  0679121002 2018-09-20         0    1\n48395  2018-09-20 -4545975550442162194  0638642002 2018-09-20         0    1\n48398  2018-09-20 -8286316756823862684  0568597019 2018-09-20         0    1\n\n[268263 rows x 6 columns]",
      "text/html": "<div>\n<style scoped>\n    .dataframe tbody tr th:only-of-type {\n        vertical-align: middle;\n    }\n\n    .dataframe tbody tr th {\n        vertical-align: top;\n    }\n\n    .dataframe thead th {\n        text-align: right;\n    }\n</style>\n<table border=\"1\" class=\"dataframe\">\n  <thead>\n    <tr style=\"text-align: right;\">\n      <th></th>\n      <th>t_dat</th>\n      <th>customer_id</th>\n      <th>article_id</th>\n      <th>max_dat</th>\n      <th>diff_dat</th>\n      <th>ct</th>\n    </tr>\n  </thead>\n  <tbody>\n    <tr>\n      <th>196442</th>\n      <td>2018-09-24</td>\n      <td>4807831066164705350</td>\n      <td>0618480001</td>\n      <td>2018-09-24</td>\n      <td>0</td>\n      <td>100</td>\n    </tr>\n    <tr>\n      <th>175867</th>\n      <td>2018-09-24</td>\n      <td>-4767130151449159669</td>\n      <td>0680374002</td>\n      <td>2018-09-24</td>\n      <td>0</td>\n      <td>55</td>\n    </tr>\n    <tr>\n      <th>60518</th>\n      <td>2018-09-21</td>\n      <td>-2936678038598836257</td>\n      <td>0456163028</td>\n      <td>2018-09-21</td>\n      <td>0</td>\n      <td>52</td>\n    </tr>\n    <tr>\n      <th>177445</th>\n      <td>2018-09-24</td>\n      <td>-8784462010106267426</td>\n      <td>0516000001</td>\n      <td>2018-09-24</td>\n      <td>0</td>\n      <td>36</td>\n    </tr>\n    <tr>\n      <th>49587</th>\n      <td>2018-09-21</td>\n      <td>-770382745269162367</td>\n      <td>0554772002</td>\n      <td>2018-09-21</td>\n      <td>0</td>\n      <td>33</td>\n    </tr>\n    <tr>\n      <th>...</th>\n      <td>...</td>\n      <td>...</td>\n      <td>...</td>\n      <td>...</td>\n      <td>...</td>\n      <td>...</td>\n    </tr>\n    <tr>\n      <th>48392</th>\n      <td>2018-09-20</td>\n      <td>-4545975550442162194</td>\n      <td>0671513003</td>\n      <td>2018-09-20</td>\n      <td>0</td>\n      <td>1</td>\n    </tr>\n    <tr>\n      <th>48393</th>\n      <td>2018-09-20</td>\n      <td>-4545975550442162194</td>\n      <td>0680186002</td>\n      <td>2018-09-20</td>\n      <td>0</td>\n      <td>1</td>\n    </tr>\n    <tr>\n      <th>48394</th>\n      <td>2018-09-20</td>\n      <td>-4545975550442162194</td>\n      <td>0679121002</td>\n      <td>2018-09-20</td>\n      <td>0</td>\n      <td>1</td>\n    </tr>\n    <tr>\n      <th>48395</th>\n      <td>2018-09-20</td>\n      <td>-4545975550442162194</td>\n      <td>0638642002</td>\n      <td>2018-09-20</td>\n      <td>0</td>\n      <td>1</td>\n    </tr>\n    <tr>\n      <th>48398</th>\n      <td>2018-09-20</td>\n      <td>-8286316756823862684</td>\n      <td>0568597019</td>\n      <td>2018-09-20</td>\n      <td>0</td>\n      <td>1</td>\n    </tr>\n  </tbody>\n</table>\n<p>268263 rows × 6 columns</p>\n</div>"
     },
     "execution_count": 33,
     "metadata": {},
     "output_type": "execute_result"
    }
   ]
  },
  {
   "cell_type": "code",
   "execution_count": null,
   "outputs": [],
   "source": [
    "drop_cols = [col for col in dfi.columns if '_no' in col]\n",
    "dfi =dfi.drop(drop_cols,axis=1 )"
   ],
   "metadata": {
    "collapsed": false,
    "pycharm": {
     "name": "#%%\n"
    }
   }
  },
  {
   "cell_type": "code",
   "source": [
    "print('Unique Customer Count : {}'.format(dfu['customer_id'].nunique()))"
   ],
   "metadata": {
    "execution": {
     "iopub.status.busy": "2022-03-17T14:36:40.365692Z",
     "iopub.execute_input": "2022-03-17T14:36:40.365964Z",
     "iopub.status.idle": "2022-03-17T14:36:41.143229Z",
     "shell.execute_reply.started": "2022-03-17T14:36:40.365929Z",
     "shell.execute_reply": "2022-03-17T14:36:41.142287Z"
    },
    "trusted": true
   },
   "execution_count": 6,
   "outputs": []
  },
  {
   "cell_type": "markdown",
   "source": "",
   "metadata": {}
  },
  {
   "cell_type": "code",
   "source": "# group 별 targeting\n\ndef create_generation_var():\n    for age in range(1,10):\n        # group 별 인원수\n        globals()['{}0'.format(age)] = dfu[dfu.age.astype('str').str.startswith(str(age))]['customer_id'].values.tolist()\n        globals()['{}0_gene_prod_group'.format(age)] =  dfi[dfi.article_id.isin(df[df.customer_id.isin(globals()['{}0'.format(age)])]['article_id'].values.tolist())]['product_group_name'].reset_index(drop=True)\n        print('Age {}0 generation : {}'.format(age,len(dfu[dfu.age.astype('str').str.startswith(str(age))])))\n    ",
   "metadata": {
    "execution": {
     "iopub.status.busy": "2022-03-17T14:36:41.144874Z",
     "iopub.execute_input": "2022-03-17T14:36:41.145311Z",
     "iopub.status.idle": "2022-03-17T14:36:41.154001Z",
     "shell.execute_reply.started": "2022-03-17T14:36:41.145272Z",
     "shell.execute_reply": "2022-03-17T14:36:41.152950Z"
    },
    "trusted": true
   },
   "execution_count": 7,
   "outputs": []
  },
  {
   "cell_type": "code",
   "source": "## Function to reduce the DF size\ndef reduce_mem_usage(df, verbose=True):\n    numerics = ['int16', 'int32', 'int64', 'float16', 'float32', 'float64']\n    start_mem = df.memory_usage().sum() / 1024**2    \n    for col in df.columns:\n        col_type = df[col].dtypes\n        if col_type in numerics:\n            c_min = df[col].min()\n            c_max = df[col].max()\n            if str(col_type)[:3] =='int':\n                if c_min > np.iinfo(np.int8).min and c_max < np.iinfo(np.int8).max:\n                    df[col]= df[col].astype(np.int8)\n                elif c_min > np.iinfo(np.int16).min and c_max < np.iinfo(np.int16).max:\n                    df[col]= df[col].astype(np.int8)\n                elif c_min > np.iinfo(np.int32).min and c_max < np.iinfo(np.int32).max:\n                    df[col]= df[col].astype(np.int8)\n                elif c_min > np.iinfo(np.int64).min and c_max < np.iinfo(np.int64).max:\n                    df[col]= df[col].astype(np.int8)\n            else:\n                if c_min > np.finfo(np.float16).min and c_max < np.finfo(np.float16).max:\n                        df[col] = df[col].astype(np.float16)\n                elif c_min > np.finfo(np.float32).min and c_max < np.finfo(np.float32).max:\n                    df[col] = df[col].astype(np.float32)\n                else:\n                    df[col] = df[col].astype(np.float64)    \n        end_mem = df.memory_usage().sum() / 1024**2\n        if verbose: print('Mem. usage decreased to {:5.2f} Mb ({:.1f}% reduction)'.format(end_mem, 100 * (start_mem - end_mem) / start_mem))\n        return df    ",
   "metadata": {
    "execution": {
     "iopub.status.busy": "2022-03-17T14:36:41.155702Z",
     "iopub.execute_input": "2022-03-17T14:36:41.156357Z",
     "iopub.status.idle": "2022-03-17T14:36:41.174257Z",
     "shell.execute_reply.started": "2022-03-17T14:36:41.156315Z",
     "shell.execute_reply": "2022-03-17T14:36:41.172598Z"
    },
    "trusted": true
   },
   "execution_count": 8,
   "outputs": []
  },
  {
   "cell_type": "code",
   "source": "def show_buy_group(df,exp_usr_id):\n    \n    buy_items = df[df.customer_id == exp_usr_id]['article_id'].values.tolist()\n    # garment upper body 를 좋아하는 경향이 많다\n    buy_items_group = dfi[dfi.article_id.isin(buy_items)]['product_group_name'].values.tolist()\n\n    return print(buy_items_group)",
   "metadata": {
    "execution": {
     "iopub.status.busy": "2022-03-17T14:36:41.175720Z",
     "iopub.execute_input": "2022-03-17T14:36:41.176055Z",
     "iopub.status.idle": "2022-03-17T14:36:41.191411Z",
     "shell.execute_reply.started": "2022-03-17T14:36:41.176011Z",
     "shell.execute_reply": "2022-03-17T14:36:41.190700Z"
    },
    "trusted": true
   },
   "execution_count": 9,
   "outputs": []
  },
  {
   "cell_type": "code",
   "source": "\ndef show_buy_ratio(df, exp_usr_id):\n    \n    merge_data = df[df.customer_id == exp_usr_id].merge(\n        dfi[['article_id','prod_name','product_type_name','product_group_name','section_name']]\n        , on = 'article_id')\n    \n    overall_buy_count = len(merge_data)\n    \n    # Womens 의류 개수의 합\n    womens_ratio = merge_data.section_name.str.startswith('Womens').values.sum() / overall_buy_count\n    \n    # Mens 의류 개수의 합\n    mens_ratio = merge_data.section_name.str.startswith('Mens').values.sum() / overall_buy_count\n\n    # 자녀의 옷을 산 기록, 옷의 특징\n    kids_ratio = merge_data.section_name.str.startswith(('Young Girl', 'Kids Girl')).values.sum() / overall_buy_count\n    \n     #전체 구매 개수\n    # find duplicate buy item\n    group_data = merge_data.groupby(['prod_name','product_type_name']).count().reset_index()\n    \n    duplicate_buy_items = group_data[group_data.article_id >1]['prod_name'].values \n    \n    if len(duplicate_buy_items) >=1:\n        duplicate_ratio =  len(duplicate_buy_items)/overall_buy_count\n        \n    return print(f'Womens Ratio : {womens_ratio} \\\\t Mens Ratio : {mens_ratio} \\t Kids Ratio : {kids_ratio} \\t    \\t Duplicate items : {duplicate_buy_items}')",
   "metadata": {
    "execution": {
     "iopub.status.busy": "2022-03-17T14:36:41.192572Z",
     "iopub.execute_input": "2022-03-17T14:36:41.192887Z",
     "iopub.status.idle": "2022-03-17T14:36:41.207175Z",
     "shell.execute_reply.started": "2022-03-17T14:36:41.192848Z",
     "shell.execute_reply": "2022-03-17T14:36:41.206243Z"
    },
    "trusted": true
   },
   "execution_count": 10,
   "outputs": []
  },
  {
   "cell_type": "code",
   "source": "def show_generation_prefer_group(gene_prod_group_vc, age):\n    \n    trace = go.Bar( \n     x = gene_prod_group_vc.index,\n     y = gene_prod_group_vc.values,\n     marker = dict(\n         color = random_color_generator(100),\n         line = dict(color='rgb(8,48,107)', \n                     width = 1.5)\n         ) \n    ,\n    opacity = 0.7\n     )\n\n    data = [trace]    \n    \n    \n    layout = go.Layout(\n        title = f'{age} generation',\n        margin = dict(\n            l = 100\n        ),\n        xaxis = dict(\n            title = 'Genre'\n        ),\n        yaxis = dict(\n            title = 'Mean App size'\n        ),  \n        width = 800,\n        height = 500\n    )\n    \n    fig = go.Figure(data=data, layout=layout)\n    po.iplot(fig)",
   "metadata": {
    "execution": {
     "iopub.status.busy": "2022-03-17T14:36:41.208565Z",
     "iopub.execute_input": "2022-03-17T14:36:41.209777Z",
     "iopub.status.idle": "2022-03-17T14:36:41.224753Z",
     "shell.execute_reply.started": "2022-03-17T14:36:41.209725Z",
     "shell.execute_reply": "2022-03-17T14:36:41.224049Z"
    },
    "trusted": true
   },
   "execution_count": 11,
   "outputs": []
  },
  {
   "cell_type": "code",
   "source": "def show_buy_items(df, exp_usr_id):\n    \n    data = df[df.customer_id ==exp_usr_id]\n    \n    # 구매한 아이템 이미지 \n    f, ax = plt.subplots(5, 5, figsize=(30,15))\n    i = 0\n    k = 0\n    for prod in data['article_id'].values.tolist():\n        desc = dfi[dfi['article_id'] ==  prod]['detail_desc'].iloc[0]\n        desc_list = desc.split(' ')\n\n        for j, elem in enumerate(desc_list):\n            if j > 0 and j % 5 == 0:\n                desc_list[j] = desc_list[j] + '\\n'\n        desc = ' '.join(desc_list)\n        section_nm = dfi[dfi['article_id'] ==  prod]['section_name'].iloc[0]\n        img = mpimg.imread(f'../input/h-and-m-personalized-fashion-recommendations/images/{str(prod)[:3]}/0{int(prod)}.jpg')\n        ax[i][k].imshow(img)\n        ax[i][k].set_title(f'price: {data.price.values[0]:.2f}')\n        ax[i][k].set_xticks([], [])\n        ax[i][k].set_yticks([], [])\n        ax[i][k].grid(False)\n        ax[i][k].set_xlabel(section_nm, fontsize=10)\n        k += 1 \n        if k == 5:\n            k  = 0\n            i += 1\n    plt.axis('off')\n    plt.show()",
   "metadata": {
    "execution": {
     "iopub.status.busy": "2022-03-17T14:36:41.228332Z",
     "iopub.execute_input": "2022-03-17T14:36:41.228882Z",
     "iopub.status.idle": "2022-03-17T14:36:41.242965Z",
     "shell.execute_reply.started": "2022-03-17T14:36:41.228835Z",
     "shell.execute_reply": "2022-03-17T14:36:41.242029Z"
    },
    "trusted": true
   },
   "execution_count": 12,
   "outputs": []
  },
  {
   "cell_type": "code",
   "source": "def random_color_generator(number_of_colors):\n    color = [\"#\"+''.join([random.choice('0123456789ABCDEF') for j in range(6)])\n                 for i in range(number_of_colors)]\n    return color",
   "metadata": {
    "execution": {
     "iopub.status.busy": "2022-03-17T14:36:41.244563Z",
     "iopub.execute_input": "2022-03-17T14:36:41.245369Z",
     "iopub.status.idle": "2022-03-17T14:36:41.261603Z",
     "shell.execute_reply.started": "2022-03-17T14:36:41.245323Z",
     "shell.execute_reply": "2022-03-17T14:36:41.260757Z"
    },
    "trusted": true
   },
   "execution_count": 13,
   "outputs": []
  },
  {
   "cell_type": "code",
   "source": "# 20대 , 30대 , 40대로 묶기\nfig , ax = plt.subplots(figsize=(15,7))\nax = sns.histplot(data=dfi ,y= 'index_name', color= 'orange')\nax.set_xlabel('count by index name')\nax.set_ylabel('index name')\nplt.show()\n\n# 20 대 여성이 많은 것으로 추정, 일반적으로 그렇다 쇼핑은\n\n\n\nfig , ax = plt.subplots(figsize=(15,7))\nax = sns.histplot(data=dfi ,y= 'garment_group_name', hue='index_group_name',multiple='stack',  color= 'orange')\nax.set_xlabel('count by index name')\nax.set_ylabel('index name')\nplt.show()",
   "metadata": {
    "execution": {
     "iopub.status.busy": "2022-03-17T14:36:41.262915Z",
     "iopub.execute_input": "2022-03-17T14:36:41.263951Z",
     "iopub.status.idle": "2022-03-17T14:36:42.576286Z",
     "shell.execute_reply.started": "2022-03-17T14:36:41.263910Z",
     "shell.execute_reply": "2022-03-17T14:36:42.575638Z"
    },
    "trusted": true
   },
   "execution_count": 14,
   "outputs": []
  },
  {
   "cell_type": "code",
   "source": "all_product_group_vc = dfi[dfi.article_id.isin(df['article_id'].values.tolist())]['product_group_name'].value_counts()\nall_product_group_vc.index",
   "metadata": {
    "execution": {
     "iopub.status.busy": "2022-03-17T14:36:42.577589Z",
     "iopub.execute_input": "2022-03-17T14:36:42.577808Z",
     "iopub.status.idle": "2022-03-17T14:36:42.675028Z",
     "shell.execute_reply.started": "2022-03-17T14:36:42.577781Z",
     "shell.execute_reply": "2022-03-17T14:36:42.673901Z"
    },
    "trusted": true
   },
   "execution_count": 15,
   "outputs": []
  },
  {
   "cell_type": "markdown",
   "source": "",
   "metadata": {}
  },
  {
   "cell_type": "code",
   "source": "",
   "metadata": {
    "trusted": true
   },
   "execution_count": null,
   "outputs": []
  },
  {
   "cell_type": "code",
   "source": "all_product_group_vc.values",
   "metadata": {
    "execution": {
     "iopub.status.busy": "2022-03-17T14:36:42.676524Z",
     "iopub.execute_input": "2022-03-17T14:36:42.677121Z",
     "iopub.status.idle": "2022-03-17T14:36:42.685214Z",
     "shell.execute_reply.started": "2022-03-17T14:36:42.677070Z",
     "shell.execute_reply": "2022-03-17T14:36:42.684119Z"
    },
    "trusted": true
   },
   "execution_count": 16,
   "outputs": []
  },
  {
   "cell_type": "code",
   "source": "# overall product_group_name\n# 상체에 관심이 많다 -> 모델 품질 측면에서는 diversity 한 추천 필요\nplt.figure(figsize=(30,10))\nplt.bar(x= all_product_group_vc.index, height=all_product_group_vc.values)\nplt.xticks(all_product_group_vc.index,rotation=45 , size=20)\nplt.show()",
   "metadata": {
    "execution": {
     "iopub.status.busy": "2022-03-17T14:36:42.686701Z",
     "iopub.execute_input": "2022-03-17T14:36:42.687240Z",
     "iopub.status.idle": "2022-03-17T14:36:43.013633Z",
     "shell.execute_reply.started": "2022-03-17T14:36:42.687203Z",
     "shell.execute_reply": "2022-03-17T14:36:43.012834Z"
    },
    "trusted": true
   },
   "execution_count": 17,
   "outputs": []
  },
  {
   "cell_type": "code",
   "source": "\ncreate_generation_var()",
   "metadata": {
    "execution": {
     "iopub.status.busy": "2022-03-17T14:36:43.014671Z",
     "iopub.execute_input": "2022-03-17T14:36:43.014911Z",
     "iopub.status.idle": "2022-03-17T14:37:16.384173Z",
     "shell.execute_reply.started": "2022-03-17T14:36:43.014880Z",
     "shell.execute_reply": "2022-03-17T14:37:16.383080Z"
    },
    "trusted": true
   },
   "execution_count": 18,
   "outputs": []
  },
  {
   "cell_type": "code",
   "source": "",
   "metadata": {
    "trusted": true
   },
   "execution_count": null,
   "outputs": []
  },
  {
   "cell_type": "code",
   "source": "##",
   "metadata": {
    "execution": {
     "iopub.status.busy": "2022-03-17T14:37:16.385575Z",
     "iopub.execute_input": "2022-03-17T14:37:16.386483Z",
     "iopub.status.idle": "2022-03-17T14:37:16.390789Z",
     "shell.execute_reply.started": "2022-03-17T14:37:16.386422Z",
     "shell.execute_reply": "2022-03-17T14:37:16.389448Z"
    },
    "trusted": true
   },
   "execution_count": 19,
   "outputs": []
  },
  {
   "cell_type": "markdown",
   "source": "## Find popular item ",
   "metadata": {}
  },
  {
   "cell_type": "markdown",
   "source": "",
   "metadata": {}
  },
  {
   "cell_type": "markdown",
   "source": "",
   "metadata": {}
  },
  {
   "cell_type": "code",
   "source": "# generation popular item find\ngene_prod_list = df[df.customer_id.isin(globals()['90'])]['article_id'].drop_duplicates().values.tolist()\ndfi[dfi.article_id.isin(gene_prod_list)]['product_group_name']",
   "metadata": {
    "execution": {
     "iopub.status.busy": "2022-03-17T14:37:16.392111Z",
     "iopub.execute_input": "2022-03-17T14:37:16.392350Z",
     "iopub.status.idle": "2022-03-17T14:37:16.439746Z",
     "shell.execute_reply.started": "2022-03-17T14:37:16.392321Z",
     "shell.execute_reply": "2022-03-17T14:37:16.438557Z"
    },
    "trusted": true
   },
   "execution_count": 20,
   "outputs": []
  },
  {
   "cell_type": "markdown",
   "source": "## data split and grouping age",
   "metadata": {}
  },
  {
   "cell_type": "code",
   "source": "SEED=42\ny = df['article_id'].values\n\nx_train, x_valid, y_train, y_valid = train_test_split(df, y, test_size=0.2 ,random_state=SEED)\nx_train_dfu = x_train.merge(dfu,on='customer_id')\n\n\n",
   "metadata": {
    "execution": {
     "iopub.status.busy": "2022-03-17T14:37:16.440874Z",
     "iopub.execute_input": "2022-03-17T14:37:16.441112Z",
     "iopub.status.idle": "2022-03-17T14:37:17.668880Z",
     "shell.execute_reply.started": "2022-03-17T14:37:16.441082Z",
     "shell.execute_reply": "2022-03-17T14:37:17.667956Z"
    },
    "trusted": true
   },
   "execution_count": 21,
   "outputs": []
  },
  {
   "cell_type": "markdown",
   "source": "",
   "metadata": {}
  },
  {
   "cell_type": "markdown",
   "source": "",
   "metadata": {}
  },
  {
   "cell_type": "markdown",
   "source": "## DATA EDA",
   "metadata": {}
  },
  {
   "cell_type": "markdown",
   "source": "",
   "metadata": {}
  },
  {
   "cell_type": "markdown",
   "source": "",
   "metadata": {}
  },
  {
   "cell_type": "code",
   "source": "x_train_dfu['age_str'] = x_train_dfu[x_train_dfu.age.str[:1]] ",
   "metadata": {
    "execution": {
     "iopub.status.busy": "2022-03-17T14:37:17.670379Z",
     "iopub.execute_input": "2022-03-17T14:37:17.670723Z",
     "iopub.status.idle": "2022-03-17T14:37:17.847518Z",
     "shell.execute_reply.started": "2022-03-17T14:37:17.670671Z",
     "shell.execute_reply": "2022-03-17T14:37:17.800418Z"
    },
    "trusted": true
   },
   "execution_count": 22,
   "outputs": []
  },
  {
   "cell_type": "code",
   "source": "x_train_dfu['age_group'] = x_train_dfu['age'].astype('str').str[:1]",
   "metadata": {
    "execution": {
     "iopub.status.busy": "2022-03-17T14:37:43.859499Z",
     "iopub.execute_input": "2022-03-17T14:37:43.859761Z",
     "iopub.status.idle": "2022-03-17T14:37:44.137291Z",
     "shell.execute_reply.started": "2022-03-17T14:37:43.859733Z",
     "shell.execute_reply": "2022-03-17T14:37:44.136071Z"
    },
    "trusted": true
   },
   "execution_count": 23,
   "outputs": []
  },
  {
   "cell_type": "code",
   "source": "merge_data = x_train_dfu.merge(dfi,on='article_id')",
   "metadata": {
    "execution": {
     "iopub.status.busy": "2022-03-17T14:37:44.139275Z",
     "iopub.execute_input": "2022-03-17T14:37:44.139580Z",
     "iopub.status.idle": "2022-03-17T14:37:44.574362Z",
     "shell.execute_reply.started": "2022-03-17T14:37:44.139550Z",
     "shell.execute_reply": "2022-03-17T14:37:44.573323Z"
    },
    "trusted": true
   },
   "execution_count": 24,
   "outputs": []
  },
  {
   "cell_type": "code",
   "source": "merge_data",
   "metadata": {
    "execution": {
     "iopub.status.busy": "2022-03-17T14:37:44.576154Z",
     "iopub.execute_input": "2022-03-17T14:37:44.576481Z",
     "iopub.status.idle": "2022-03-17T14:37:44.789498Z",
     "shell.execute_reply.started": "2022-03-17T14:37:44.576419Z",
     "shell.execute_reply": "2022-03-17T14:37:44.788516Z"
    },
    "trusted": true
   },
   "execution_count": 25,
   "outputs": []
  },
  {
   "cell_type": "code",
   "source": "x_train_desc = merge_data['detail_desc']",
   "metadata": {
    "execution": {
     "iopub.status.busy": "2022-03-17T14:37:44.790961Z",
     "iopub.execute_input": "2022-03-17T14:37:44.791319Z",
     "iopub.status.idle": "2022-03-17T14:37:44.796087Z",
     "shell.execute_reply.started": "2022-03-17T14:37:44.791274Z",
     "shell.execute_reply": "2022-03-17T14:37:44.794887Z"
    },
    "trusted": true
   },
   "execution_count": 26,
   "outputs": []
  },
  {
   "cell_type": "code",
   "source": "na_index = np.where(x_train_desc.isnull())[0]",
   "metadata": {
    "execution": {
     "iopub.status.busy": "2022-03-17T14:37:44.973396Z",
     "iopub.execute_input": "2022-03-17T14:37:44.973707Z",
     "iopub.status.idle": "2022-03-17T14:37:45.006428Z",
     "shell.execute_reply.started": "2022-03-17T14:37:44.973674Z",
     "shell.execute_reply": "2022-03-17T14:37:45.005156Z"
    },
    "trusted": true
   },
   "execution_count": 27,
   "outputs": []
  },
  {
   "cell_type": "code",
   "source": "na_index2 = np.where(x_train_dfu.age_group =='n')[0]",
   "metadata": {
    "execution": {
     "iopub.status.busy": "2022-03-17T14:37:45.408034Z",
     "iopub.execute_input": "2022-03-17T14:37:45.410651Z",
     "iopub.status.idle": "2022-03-17T14:37:45.453438Z",
     "shell.execute_reply.started": "2022-03-17T14:37:45.410606Z",
     "shell.execute_reply": "2022-03-17T14:37:45.452797Z"
    },
    "trusted": true
   },
   "execution_count": 28,
   "outputs": []
  },
  {
   "cell_type": "code",
   "source": "drop_index = set(na_index).union(set(na_index2))",
   "metadata": {
    "execution": {
     "iopub.status.busy": "2022-03-17T14:37:45.590507Z",
     "iopub.execute_input": "2022-03-17T14:37:45.590904Z",
     "iopub.status.idle": "2022-03-17T14:37:45.595412Z",
     "shell.execute_reply.started": "2022-03-17T14:37:45.590874Z",
     "shell.execute_reply": "2022-03-17T14:37:45.594626Z"
    },
    "trusted": true
   },
   "execution_count": 29,
   "outputs": []
  },
  {
   "cell_type": "code",
   "source": "x_train_desc",
   "metadata": {
    "execution": {
     "iopub.status.busy": "2022-03-17T14:37:45.806268Z",
     "iopub.execute_input": "2022-03-17T14:37:45.806834Z",
     "iopub.status.idle": "2022-03-17T14:37:45.814672Z",
     "shell.execute_reply.started": "2022-03-17T14:37:45.806793Z",
     "shell.execute_reply": "2022-03-17T14:37:45.813641Z"
    },
    "trusted": true
   },
   "execution_count": 30,
   "outputs": []
  },
  {
   "cell_type": "code",
   "source": "",
   "metadata": {},
   "execution_count": null,
   "outputs": []
  },
  {
   "cell_type": "code",
   "source": "drop_index = list(drop_index)",
   "metadata": {
    "execution": {
     "iopub.status.busy": "2022-03-17T14:37:46.506391Z",
     "iopub.execute_input": "2022-03-17T14:37:46.507031Z",
     "iopub.status.idle": "2022-03-17T14:37:46.511193Z",
     "shell.execute_reply.started": "2022-03-17T14:37:46.506994Z",
     "shell.execute_reply": "2022-03-17T14:37:46.510271Z"
    },
    "trusted": true
   },
   "execution_count": 31,
   "outputs": []
  },
  {
   "cell_type": "code",
   "source": "drop_index[:5]",
   "metadata": {
    "execution": {
     "iopub.status.busy": "2022-03-17T14:37:46.832897Z",
     "iopub.execute_input": "2022-03-17T14:37:46.833164Z",
     "iopub.status.idle": "2022-03-17T14:37:46.839076Z",
     "shell.execute_reply.started": "2022-03-17T14:37:46.833134Z",
     "shell.execute_reply": "2022-03-17T14:37:46.838221Z"
    },
    "trusted": true
   },
   "execution_count": 32,
   "outputs": []
  },
  {
   "cell_type": "code",
   "source": "x_train_desc",
   "metadata": {
    "execution": {
     "iopub.status.busy": "2022-03-17T14:37:47.285209Z",
     "iopub.execute_input": "2022-03-17T14:37:47.285889Z",
     "iopub.status.idle": "2022-03-17T14:37:47.293791Z",
     "shell.execute_reply.started": "2022-03-17T14:37:47.285850Z",
     "shell.execute_reply": "2022-03-17T14:37:47.293075Z"
    },
    "trusted": true
   },
   "execution_count": 33,
   "outputs": []
  },
  {
   "cell_type": "code",
   "source": "x_train_desc= x_train_desc.drop(drop_index,axis=0)",
   "metadata": {
    "execution": {
     "iopub.status.busy": "2022-03-17T14:37:47.482545Z",
     "iopub.execute_input": "2022-03-17T14:37:47.483315Z",
     "iopub.status.idle": "2022-03-17T14:37:47.499796Z",
     "shell.execute_reply.started": "2022-03-17T14:37:47.483274Z",
     "shell.execute_reply": "2022-03-17T14:37:47.498994Z"
    },
    "trusted": true
   },
   "execution_count": 34,
   "outputs": []
  },
  {
   "cell_type": "code",
   "source": "indexing = list(set(np.arange(40000))- set(drop_index))",
   "metadata": {
    "execution": {
     "iopub.status.busy": "2022-03-17T14:37:47.670842Z",
     "iopub.execute_input": "2022-03-17T14:37:47.671538Z",
     "iopub.status.idle": "2022-03-17T14:37:47.683405Z",
     "shell.execute_reply.started": "2022-03-17T14:37:47.671503Z",
     "shell.execute_reply": "2022-03-17T14:37:47.682517Z"
    },
    "trusted": true
   },
   "execution_count": 35,
   "outputs": []
  },
  {
   "cell_type": "code",
   "source": "y = x_train_dfu.iloc[indexing,:]['age_group'].astype('int').values.tolist()",
   "metadata": {
    "execution": {
     "iopub.status.busy": "2022-03-17T14:37:47.885419Z",
     "iopub.execute_input": "2022-03-17T14:37:47.885702Z",
     "iopub.status.idle": "2022-03-17T14:37:47.951180Z",
     "shell.execute_reply.started": "2022-03-17T14:37:47.885673Z",
     "shell.execute_reply": "2022-03-17T14:37:47.950156Z"
    },
    "trusted": true
   },
   "execution_count": 36,
   "outputs": []
  },
  {
   "cell_type": "code",
   "source": "",
   "metadata": {
    "trusted": true
   },
   "execution_count": null,
   "outputs": []
  },
  {
   "cell_type": "code",
   "source": "tfidf_vectorizer = TfidfVectorizer()\ntfidf_vectorizer.fit(x_train_desc)\ntfidf_vectorizer.idf_\nx_train_desc_tfidf = tfidf_vectorizer.transform(x_train_desc).toarray()",
   "metadata": {
    "execution": {
     "iopub.status.busy": "2022-03-17T14:37:48.330392Z",
     "iopub.execute_input": "2022-03-17T14:37:48.330723Z",
     "iopub.status.idle": "2022-03-17T14:38:05.479606Z",
     "shell.execute_reply.started": "2022-03-17T14:37:48.330689Z",
     "shell.execute_reply": "2022-03-17T14:38:05.478653Z"
    },
    "trusted": true
   },
   "execution_count": 37,
   "outputs": []
  },
  {
   "cell_type": "code",
   "source": "x_train_desc_tfidf = x_train_desc_tfidf[indexing]",
   "metadata": {
    "execution": {
     "iopub.status.busy": "2022-03-17T14:38:05.481618Z",
     "iopub.execute_input": "2022-03-17T14:38:05.481856Z",
     "iopub.status.idle": "2022-03-17T14:38:05.918813Z",
     "shell.execute_reply.started": "2022-03-17T14:38:05.481827Z",
     "shell.execute_reply": "2022-03-17T14:38:05.917864Z"
    },
    "trusted": true
   },
   "execution_count": 38,
   "outputs": []
  },
  {
   "cell_type": "code",
   "source": "len(y)",
   "metadata": {
    "execution": {
     "iopub.status.busy": "2022-03-17T14:38:05.919956Z",
     "iopub.execute_input": "2022-03-17T14:38:05.920185Z",
     "iopub.status.idle": "2022-03-17T14:38:05.928208Z",
     "shell.execute_reply.started": "2022-03-17T14:38:05.920157Z",
     "shell.execute_reply": "2022-03-17T14:38:05.927227Z"
    },
    "trusted": true
   },
   "execution_count": 39,
   "outputs": []
  },
  {
   "cell_type": "code",
   "source": "# 그룹별 detail desc 의 tfidf 값 feature 가 logitic regression 으로 잘 분류되는 지 성능테스트",
   "metadata": {
    "execution": {
     "iopub.status.busy": "2022-03-17T14:38:05.931061Z",
     "iopub.execute_input": "2022-03-17T14:38:05.931334Z",
     "iopub.status.idle": "2022-03-17T14:38:05.939595Z",
     "shell.execute_reply.started": "2022-03-17T14:38:05.931302Z",
     "shell.execute_reply": "2022-03-17T14:38:05.938670Z"
    },
    "trusted": true
   },
   "execution_count": 40,
   "outputs": []
  },
  {
   "cell_type": "code",
   "source": "cols = sorted(tfidf_vectorizer.vocabulary_.items(), key=lambda x: x[1]) ",
   "metadata": {
    "execution": {
     "iopub.status.busy": "2022-03-17T14:38:05.941292Z",
     "iopub.execute_input": "2022-03-17T14:38:05.941983Z",
     "iopub.status.idle": "2022-03-17T14:38:05.954554Z",
     "shell.execute_reply.started": "2022-03-17T14:38:05.941924Z",
     "shell.execute_reply": "2022-03-17T14:38:05.953578Z"
    },
    "trusted": true
   },
   "execution_count": 41,
   "outputs": []
  },
  {
   "cell_type": "code",
   "source": "rows =  merge_data.drop(drop_index,axis=0)['article_id'].values.tolist()",
   "metadata": {
    "execution": {
     "iopub.status.busy": "2022-03-17T14:38:05.956297Z",
     "iopub.execute_input": "2022-03-17T14:38:05.957441Z",
     "iopub.status.idle": "2022-03-17T14:38:06.232807Z",
     "shell.execute_reply.started": "2022-03-17T14:38:05.957382Z",
     "shell.execute_reply": "2022-03-17T14:38:06.232051Z"
    },
    "trusted": true
   },
   "execution_count": 42,
   "outputs": []
  },
  {
   "cell_type": "code",
   "source": "cols  = [col[0] for col in cols]",
   "metadata": {
    "execution": {
     "iopub.status.busy": "2022-03-17T14:38:06.234561Z",
     "iopub.execute_input": "2022-03-17T14:38:06.235237Z",
     "iopub.status.idle": "2022-03-17T14:38:06.241976Z",
     "shell.execute_reply.started": "2022-03-17T14:38:06.235188Z",
     "shell.execute_reply": "2022-03-17T14:38:06.240910Z"
    },
    "trusted": true
   },
   "execution_count": 43,
   "outputs": []
  },
  {
   "cell_type": "code",
   "source": "merge_data.head()",
   "metadata": {
    "execution": {
     "iopub.status.busy": "2022-03-17T14:38:06.243744Z",
     "iopub.execute_input": "2022-03-17T14:38:06.244124Z",
     "iopub.status.idle": "2022-03-17T14:38:06.285892Z",
     "shell.execute_reply.started": "2022-03-17T14:38:06.244076Z",
     "shell.execute_reply": "2022-03-17T14:38:06.285100Z"
    },
    "trusted": true
   },
   "execution_count": 44,
   "outputs": []
  },
  {
   "cell_type": "code",
   "source": "merge_data",
   "metadata": {
    "execution": {
     "iopub.status.busy": "2022-03-17T14:38:06.287332Z",
     "iopub.execute_input": "2022-03-17T14:38:06.287846Z",
     "iopub.status.idle": "2022-03-17T14:38:06.511235Z",
     "shell.execute_reply.started": "2022-03-17T14:38:06.287781Z",
     "shell.execute_reply": "2022-03-17T14:38:06.510211Z"
    },
    "trusted": true
   },
   "execution_count": 45,
   "outputs": []
  },
  {
   "cell_type": "code",
   "source": "tfidf_df = pd.DataFrame(columns = cols, data = x_train_desc_tfidf)",
   "metadata": {
    "execution": {
     "iopub.status.busy": "2022-03-17T14:38:06.513980Z",
     "iopub.execute_input": "2022-03-17T14:38:06.514250Z",
     "iopub.status.idle": "2022-03-17T14:38:06.519270Z",
     "shell.execute_reply.started": "2022-03-17T14:38:06.514219Z",
     "shell.execute_reply": "2022-03-17T14:38:06.518495Z"
    },
    "trusted": true
   },
   "execution_count": 46,
   "outputs": []
  },
  {
   "cell_type": "code",
   "source": "tfidf_df",
   "metadata": {
    "execution": {
     "iopub.status.busy": "2022-03-17T14:38:06.520885Z",
     "iopub.execute_input": "2022-03-17T14:38:06.522047Z",
     "iopub.status.idle": "2022-03-17T14:38:06.589511Z",
     "shell.execute_reply.started": "2022-03-17T14:38:06.522003Z",
     "shell.execute_reply": "2022-03-17T14:38:06.588523Z"
    },
    "trusted": true
   },
   "execution_count": 47,
   "outputs": []
  },
  {
   "cell_type": "code",
   "source": "tfidf_df.loc[:,'shirt']",
   "metadata": {
    "execution": {
     "iopub.status.busy": "2022-03-17T14:38:06.591057Z",
     "iopub.execute_input": "2022-03-17T14:38:06.591951Z",
     "iopub.status.idle": "2022-03-17T14:38:06.602308Z",
     "shell.execute_reply.started": "2022-03-17T14:38:06.591901Z",
     "shell.execute_reply": "2022-03-17T14:38:06.601521Z"
    },
    "trusted": true
   },
   "execution_count": 48,
   "outputs": []
  },
  {
   "cell_type": "code",
   "source": "",
   "metadata": {
    "trusted": true
   },
   "execution_count": null,
   "outputs": []
  },
  {
   "cell_type": "code",
   "source": "",
   "metadata": {
    "trusted": true
   },
   "execution_count": null,
   "outputs": []
  },
  {
   "cell_type": "code",
   "source": "from sklearn.linear_model import LogisticRegression\n# tfidf 값 만으로 logisticregression 하지 말고 feature 의 하나로 활용한다 tfidf 를\nclf = LogisticRegression(random_state=0,solver='liblinear')\nclf.fit(x_train_desc_tfidf,y)\npred =clf.predict(x_train_desc_tfidf)",
   "metadata": {
    "execution": {
     "iopub.status.busy": "2022-03-17T14:38:06.603579Z",
     "iopub.execute_input": "2022-03-17T14:38:06.604197Z",
     "iopub.status.idle": "2022-03-17T14:38:09.685475Z",
     "shell.execute_reply.started": "2022-03-17T14:38:06.604158Z",
     "shell.execute_reply": "2022-03-17T14:38:09.684508Z"
    },
    "trusted": true
   },
   "execution_count": 49,
   "outputs": []
  },
  {
   "cell_type": "code",
   "source": "# 분류 성능을 파악하여 tfidf 가 나이대를 잘 설명하는 지 확인한다\n\nfrom sklearn.metrics import f1_score",
   "metadata": {
    "execution": {
     "iopub.status.busy": "2022-03-17T14:38:09.687492Z",
     "iopub.execute_input": "2022-03-17T14:38:09.688213Z",
     "iopub.status.idle": "2022-03-17T14:38:09.693474Z",
     "shell.execute_reply.started": "2022-03-17T14:38:09.688157Z",
     "shell.execute_reply": "2022-03-17T14:38:09.692493Z"
    },
    "trusted": true
   },
   "execution_count": 50,
   "outputs": []
  },
  {
   "cell_type": "code",
   "source": "y[:10]",
   "metadata": {
    "execution": {
     "iopub.status.busy": "2022-03-17T14:38:09.695596Z",
     "iopub.execute_input": "2022-03-17T14:38:09.696305Z",
     "iopub.status.idle": "2022-03-17T14:38:09.711559Z",
     "shell.execute_reply.started": "2022-03-17T14:38:09.696250Z",
     "shell.execute_reply": "2022-03-17T14:38:09.710520Z"
    },
    "trusted": true
   },
   "execution_count": 51,
   "outputs": []
  },
  {
   "cell_type": "code",
   "source": "pred[:10]",
   "metadata": {
    "execution": {
     "iopub.status.busy": "2022-03-17T14:38:09.714065Z",
     "iopub.execute_input": "2022-03-17T14:38:09.714916Z",
     "iopub.status.idle": "2022-03-17T14:38:09.725832Z",
     "shell.execute_reply.started": "2022-03-17T14:38:09.714856Z",
     "shell.execute_reply": "2022-03-17T14:38:09.724810Z"
    },
    "trusted": true
   },
   "execution_count": 52,
   "outputs": []
  },
  {
   "cell_type": "code",
   "source": "f1_score(y,pred, average='micro' )",
   "metadata": {
    "execution": {
     "iopub.status.busy": "2022-03-17T14:38:19.042288Z",
     "iopub.execute_input": "2022-03-17T14:38:19.042605Z",
     "iopub.status.idle": "2022-03-17T14:38:19.093076Z",
     "shell.execute_reply.started": "2022-03-17T14:38:19.042575Z",
     "shell.execute_reply": "2022-03-17T14:38:19.092084Z"
    },
    "trusted": true
   },
   "execution_count": 54,
   "outputs": []
  },
  {
   "cell_type": "code",
   "source": "# 가격대 , baseline 비슷한 유저대상  추천\ndf",
   "metadata": {
    "execution": {
     "iopub.status.busy": "2022-03-17T14:41:49.502168Z",
     "iopub.execute_input": "2022-03-17T14:41:49.502493Z",
     "iopub.status.idle": "2022-03-17T14:41:49.522692Z",
     "shell.execute_reply.started": "2022-03-17T14:41:49.502436Z",
     "shell.execute_reply": "2022-03-17T14:41:49.521453Z"
    },
    "trusted": true
   },
   "execution_count": 61,
   "outputs": []
  },
  {
   "cell_type": "code",
   "source": "!pip install cudf\nimport cudf",
   "metadata": {
    "execution": {
     "iopub.status.busy": "2022-03-17T14:42:00.101329Z",
     "iopub.execute_input": "2022-03-17T14:42:00.101799Z",
     "iopub.status.idle": "2022-03-17T14:44:30.320109Z",
     "shell.execute_reply.started": "2022-03-17T14:42:00.101767Z",
     "shell.execute_reply": "2022-03-17T14:44:30.318173Z"
    },
    "trusted": true
   },
   "execution_count": 63,
   "outputs": []
  },
  {
   "cell_type": "code",
   "source": "print('RAPIDS version', cudf.__version__)",
   "metadata": {
    "execution": {
     "iopub.status.busy": "2022-03-17T14:44:30.321681Z",
     "iopub.status.idle": "2022-03-17T14:44:30.322250Z",
     "shell.execute_reply.started": "2022-03-17T14:44:30.321956Z",
     "shell.execute_reply": "2022-03-17T14:44:30.321985Z"
    },
    "trusted": true
   },
   "execution_count": null,
   "outputs": []
  },
  {
   "cell_type": "code",
   "source": "#train = cudf.read_csv('../input/h-and-m-personalized-fashion-recommendations/transactions_train.csv')\n",
   "metadata": {},
   "execution_count": null,
   "outputs": []
  },
  {
   "cell_type": "code",
   "source": "",
   "metadata": {},
   "execution_count": null,
   "outputs": []
  },
  {
   "cell_type": "code",
   "source": "dfu",
   "metadata": {
    "execution": {
     "iopub.status.busy": "2022-03-17T14:39:42.656906Z",
     "iopub.execute_input": "2022-03-17T14:39:42.657675Z",
     "iopub.status.idle": "2022-03-17T14:39:42.682866Z",
     "shell.execute_reply.started": "2022-03-17T14:39:42.657628Z",
     "shell.execute_reply": "2022-03-17T14:39:42.681556Z"
    },
    "trusted": true
   },
   "execution_count": 59,
   "outputs": []
  },
  {
   "cell_type": "code",
   "source": "df",
   "metadata": {
    "execution": {
     "iopub.status.busy": "2022-03-17T14:38:54.766190Z",
     "iopub.execute_input": "2022-03-17T14:38:54.767086Z",
     "iopub.status.idle": "2022-03-17T14:38:54.790800Z",
     "shell.execute_reply.started": "2022-03-17T14:38:54.766988Z",
     "shell.execute_reply": "2022-03-17T14:38:54.789951Z"
    },
    "trusted": true
   },
   "execution_count": 57,
   "outputs": []
  },
  {
   "cell_type": "code",
   "source": "# average one of [None, 'micro', 'macro', 'weighted']",
   "metadata": {
    "execution": {
     "iopub.status.busy": "2022-03-17T14:38:09.812745Z",
     "iopub.status.idle": "2022-03-17T14:38:09.813274Z",
     "shell.execute_reply.started": "2022-03-17T14:38:09.813085Z",
     "shell.execute_reply": "2022-03-17T14:38:09.813107Z"
    },
    "trusted": true
   },
   "execution_count": null,
   "outputs": []
  },
  {
   "cell_type": "code",
   "source": "# f1 score 값이 높아야 성능이 좋다\nf1_score(y,pred,average ='micro')",
   "metadata": {
    "execution": {
     "iopub.status.busy": "2022-03-17T14:38:09.814287Z",
     "iopub.status.idle": "2022-03-17T14:38:09.814671Z",
     "shell.execute_reply.started": "2022-03-17T14:38:09.814481Z",
     "shell.execute_reply": "2022-03-17T14:38:09.814509Z"
    },
    "trusted": true
   },
   "execution_count": null,
   "outputs": []
  },
  {
   "cell_type": "code",
   "source": "# 나이대별로 선호하는 낱말이 있다는 뜻 아닌가?",
   "metadata": {
    "execution": {
     "iopub.status.busy": "2022-03-17T14:38:09.816366Z",
     "iopub.status.idle": "2022-03-17T14:38:09.816736Z",
     "shell.execute_reply.started": "2022-03-17T14:38:09.816558Z",
     "shell.execute_reply": "2022-03-17T14:38:09.816583Z"
    },
    "trusted": true
   },
   "execution_count": null,
   "outputs": []
  },
  {
   "cell_type": "code",
   "source": " #오차행렬, 정확도, 정밀도, 재현율을 한번에 출력하기 위한 함수 정의\n\nfrom sklearn.metrics import accuracy_score, precision_score, recall_score, confusion_matrix\n\ndef get_clf_eval(y_test, pred):\n    confusion = confusion_matrix(y_test, pred)\n    accuracy = accuracy_score(y_test, pred)\n    precision = precision_score(y_test, pred)\n    recall = recall_score(y_test, pred)\n    print('Confusion Matrix')\n    print(confusion)\n    print('정확도:{}, 정밀도:{}, 재현율:{}'.format(accuracy, precision, recall))",
   "metadata": {
    "execution": {
     "iopub.status.busy": "2022-03-17T14:38:09.818119Z",
     "iopub.status.idle": "2022-03-17T14:38:09.818784Z",
     "shell.execute_reply.started": "2022-03-17T14:38:09.818569Z",
     "shell.execute_reply": "2022-03-17T14:38:09.818597Z"
    },
    "trusted": true
   },
   "execution_count": null,
   "outputs": []
  },
  {
   "cell_type": "code",
   "source": "",
   "metadata": {},
   "execution_count": null,
   "outputs": []
  },
  {
   "cell_type": "code",
   "source": "\n\n# 사용자별 구매 주기\ngroup_data = df.groupby('customer_id')\n\n\n# 사용자별 구매주기\n# exp_usr \ncnt = 0\nfor customer_id,data in group_data:\n    exp_usr_itm = data.article_id.unique()\n    exp_usr_id = data.customer_id.unique()[0]\n    cnt += 1 \n    if cnt == 1:\n        break\n\n\n# 연령대별 구매 데이터\n# 그룹별 구매 빈도, 패턴\n\nfor age in range(1,9):\n    \n    age_group = x_train_dfu.groupby('age_group').get_group(str(age))\n    print(f'Age {age}0 generation buy count : {len(age_group)}')\n    \n    # 나이대 별 구매 아이템 및 종류\n    products =  age_group['article_id'].unique()\n\n    print(f\"Age {age}0 generation's unique product count : {len(products)}\")\n    # 30대는 20대에 비해 절반인데도 아이템 종류가 다양하다. 자녀의 아이템을 사거나 개인의 취향이 더 반영 된 듯한 모습\n   \n\n    # 나이대가 올라갈수록 다양한 아이템을 산다\n    dfi[dfi.article_id.isin(products)]\n    # 나이대별 feature의 다양성\n    \n    \n    # 나이대별 tfidf 값으로 어떤 description 을 가진 옷을 선호하는 지 탐색하기\n\n    x_train_desc = x_train_desc.dropna(axis=0)\n     \n\n    tfidf_vectorizer = TfidfVectorizer()\n\n    tfidf_vectorizer.fit(x_train_desc)\n\n    tfidf_vectorizer.idf_\n\n    tfidf_vectorizer.transform(x_train_desc).toarray() \n    \n    # catboost train 해보기\n    \n    ",
   "metadata": {
    "execution": {
     "iopub.status.busy": "2022-03-17T14:38:09.819964Z",
     "iopub.status.idle": "2022-03-17T14:38:09.820611Z",
     "shell.execute_reply.started": "2022-03-17T14:38:09.820337Z",
     "shell.execute_reply": "2022-03-17T14:38:09.820369Z"
    },
    "trusted": true
   },
   "execution_count": null,
   "outputs": []
  },
  {
   "cell_type": "code",
   "source": "",
   "metadata": {},
   "execution_count": null,
   "outputs": []
  },
  {
   "cell_type": "code",
   "source": "for i , data in x_train_dfu.groupby('customer_id'):\n    break",
   "metadata": {
    "execution": {
     "iopub.status.busy": "2022-03-17T13:53:23.250538Z",
     "iopub.status.idle": "2022-03-17T13:53:23.250879Z",
     "shell.execute_reply.started": "2022-03-17T13:53:23.250710Z",
     "shell.execute_reply": "2022-03-17T13:53:23.250728Z"
    },
    "trusted": true
   },
   "execution_count": null,
   "outputs": []
  },
  {
   "cell_type": "code",
   "source": "# REDUCE MEMORY OF DATAFRAME\n# hex문자열 int로 변환하기\ndf = df[['customer_id','article_id']]\n#df.customer_id = df.customer_id.str[-16:].str.hex_to_int().astype('int64')\ndf['customer_id']=  df['customer_id'].apply(lambda x :  int( x[-16:],16))\ndf.article_id = df.article_id.astype('int32')\n_ = gc.collect()",
   "metadata": {
    "execution": {
     "iopub.status.busy": "2022-03-17T13:53:23.252532Z",
     "iopub.status.idle": "2022-03-17T13:53:23.253134Z",
     "shell.execute_reply.started": "2022-03-17T13:53:23.252937Z",
     "shell.execute_reply": "2022-03-17T13:53:23.252958Z"
    },
    "trusted": true
   },
   "execution_count": null,
   "outputs": []
  },
  {
   "cell_type": "markdown",
   "source": "## 함께 구매한 아이템 찾기",
   "metadata": {}
  },
  {
   "cell_type": "code",
   "source": "",
   "metadata": {},
   "execution_count": null,
   "outputs": []
  },
  {
   "cell_type": "markdown",
   "source": "",
   "metadata": {}
  },
  {
   "cell_type": "code",
   "source": "# FIND ITEMS PURCHASED TOGETHER\nvc = df.article_id.value_counts()\npairs = {}\nfor j,i in enumerate(vc.index.values[1000:1032]):\n    #if j%10==0: print(j,', ',end='')\n    # i item을 구매한 유저\n    USERS = df.loc[df.article_id==i.item(),'customer_id'].unique()\n    # USERS 중에 i 아이템은 아닌 아이템의 value_counts() 를 위에서부터\n    vc2 = df.loc[(df.customer_id.isin(USERS))&(df.article_id!=i.item()),'article_id'].value_counts()\n    pairs[i.item()] = [vc2.index[0], vc2.index[1], vc2.index[2]]",
   "metadata": {
    "execution": {
     "iopub.status.busy": "2022-03-17T13:53:23.254015Z",
     "iopub.status.idle": "2022-03-17T13:53:23.254746Z",
     "shell.execute_reply.started": "2022-03-17T13:53:23.254557Z",
     "shell.execute_reply": "2022-03-17T13:53:23.254578Z"
    },
    "jupyter": {
     "source_hidden": true
    },
    "trusted": true
   },
   "execution_count": null,
   "outputs": []
  },
  {
   "cell_type": "code",
   "source": "dfu['customer_id'] = dfu['customer_id'].apply(lambda x :  int( x[-16:],16))",
   "metadata": {
    "execution": {
     "iopub.status.busy": "2022-03-17T13:53:23.256043Z",
     "iopub.status.idle": "2022-03-17T13:53:23.256973Z",
     "shell.execute_reply.started": "2022-03-17T13:53:23.256780Z",
     "shell.execute_reply": "2022-03-17T13:53:23.256802Z"
    },
    "trusted": true
   },
   "execution_count": null,
   "outputs": []
  },
  {
   "cell_type": "code",
   "source": "# sparse matrix 되므로 곤란하다\ndf.groupby(['customer_id','article_id']).count().reset_index()",
   "metadata": {
    "execution": {
     "iopub.status.busy": "2022-03-17T13:53:23.257963Z",
     "iopub.status.idle": "2022-03-17T13:53:23.258774Z",
     "shell.execute_reply.started": "2022-03-17T13:53:23.258551Z",
     "shell.execute_reply": "2022-03-17T13:53:23.258575Z"
    },
    "trusted": true
   },
   "execution_count": null,
   "outputs": []
  },
  {
   "cell_type": "code",
   "source": "df['customer_id']=  df['customer_id'].apply(lambda x :  int( x[-16:],16))",
   "metadata": {
    "execution": {
     "iopub.status.busy": "2022-03-17T13:53:23.259769Z",
     "iopub.status.idle": "2022-03-17T13:53:23.260329Z",
     "shell.execute_reply.started": "2022-03-17T13:53:23.260133Z",
     "shell.execute_reply": "2022-03-17T13:53:23.260153Z"
    },
    "trusted": true
   },
   "execution_count": null,
   "outputs": []
  },
  {
   "cell_type": "code",
   "source": "# 특정 아이템을 선호하는 그룹의 비율을 print해보면 grouping의 의미가 ? \n# user based filtering 을 하려면\n# 특정 아이템을 구매한 유저들을 유사한 유저로\ndf[df.customer_id.isin(USERS)].merge(dfu, on='customer_id').age.plot.hist()",
   "metadata": {
    "execution": {
     "iopub.status.busy": "2022-03-17T13:53:23.261137Z",
     "iopub.status.idle": "2022-03-17T13:53:23.261629Z",
     "shell.execute_reply.started": "2022-03-17T13:53:23.261410Z",
     "shell.execute_reply": "2022-03-17T13:53:23.261442Z"
    },
    "trusted": true
   },
   "execution_count": null,
   "outputs": []
  },
  {
   "cell_type": "code",
   "source": "for j , i in enumerate(vc.index.values[1000:1032]):\n    print(j,i)\n    break\n",
   "metadata": {
    "execution": {
     "iopub.status.busy": "2022-03-17T13:53:23.262555Z",
     "iopub.status.idle": "2022-03-17T13:53:23.263044Z",
     "shell.execute_reply.started": "2022-03-17T13:53:23.262871Z",
     "shell.execute_reply": "2022-03-17T13:53:23.262889Z"
    },
    "trusted": true
   },
   "execution_count": null,
   "outputs": []
  },
  {
   "cell_type": "code",
   "source": "int(df.customer_id.str[-16:].values[0],16)",
   "metadata": {
    "execution": {
     "iopub.status.busy": "2022-03-17T13:53:23.264629Z",
     "iopub.status.idle": "2022-03-17T13:53:23.265406Z",
     "shell.execute_reply.started": "2022-03-17T13:53:23.265197Z",
     "shell.execute_reply": "2022-03-17T13:53:23.265219Z"
    },
    "trusted": true
   },
   "execution_count": null,
   "outputs": []
  },
  {
   "cell_type": "code",
   "source": "df.customer_id.str[-16:].str.hex_to_int()",
   "metadata": {
    "execution": {
     "iopub.status.busy": "2022-03-17T13:53:23.266681Z",
     "iopub.status.idle": "2022-03-17T13:53:23.267316Z",
     "shell.execute_reply.started": "2022-03-17T13:53:23.267146Z",
     "shell.execute_reply": "2022-03-17T13:53:23.267165Z"
    },
    "trusted": true
   },
   "execution_count": null,
   "outputs": []
  },
  {
   "cell_type": "code",
   "source": "# 연령대별 인기아이템 확인 겸 연령대별 feature를 추출하여 predict ",
   "metadata": {
    "execution": {
     "iopub.status.busy": "2022-03-17T13:53:23.268471Z",
     "iopub.status.idle": "2022-03-17T13:53:23.268988Z",
     "shell.execute_reply.started": "2022-03-17T13:53:23.268793Z",
     "shell.execute_reply": "2022-03-17T13:53:23.268814Z"
    },
    "trusted": true
   },
   "execution_count": null,
   "outputs": []
  },
  {
   "cell_type": "code",
   "source": "# 해당 season에 유행한 아이템일 수 있으니 그것도 고려\n# 저가 아이템이나 특정 가격의 아이템을 선호할 수도 있다\n",
   "metadata": {
    "execution": {
     "iopub.status.busy": "2022-03-17T13:53:23.270326Z",
     "iopub.status.idle": "2022-03-17T13:53:23.270982Z",
     "shell.execute_reply.started": "2022-03-17T13:53:23.270762Z",
     "shell.execute_reply": "2022-03-17T13:53:23.270786Z"
    },
    "trusted": true
   },
   "execution_count": null,
   "outputs": []
  },
  {
   "cell_type": "code",
   "source": "vc.index.values[1000:1032]",
   "metadata": {
    "execution": {
     "iopub.status.busy": "2022-03-17T13:53:23.272032Z",
     "iopub.status.idle": "2022-03-17T13:53:23.272346Z",
     "shell.execute_reply.started": "2022-03-17T13:53:23.272185Z",
     "shell.execute_reply": "2022-03-17T13:53:23.272201Z"
    },
    "trusted": true
   },
   "execution_count": null,
   "outputs": []
  },
  {
   "cell_type": "markdown",
   "source": "",
   "metadata": {}
  },
  {
   "cell_type": "code",
   "source": "# FIND ITEMS PURCHASED TOGETHER\nvc = df.article_id.value_counts()\npairs = {}\n\nfor j,i in enumerate(vc.index.values[1000:1032]):\n    #if j%10==0: print(j,', ',end='')\n    USERS = df.loc[df.article_id==i.item(),'customer_id'].unique()\n    vc2 = df.loc[(df.customer_id.isin(USERS))&(df.article_id!=i.item()),'article_id'].value_counts()\n    pairs[i.item()] = [vc2.index[0], vc2.index[1], vc2.index[2]]",
   "metadata": {
    "execution": {
     "iopub.status.busy": "2022-03-17T13:53:23.273856Z",
     "iopub.status.idle": "2022-03-17T13:53:23.274592Z",
     "shell.execute_reply.started": "2022-03-17T13:53:23.274328Z",
     "shell.execute_reply": "2022-03-17T13:53:23.274351Z"
    },
    "trusted": true
   },
   "execution_count": null,
   "outputs": []
  },
  {
   "cell_type": "code",
   "source": "",
   "metadata": {
    "trusted": true
   },
   "execution_count": null,
   "outputs": []
  },
  {
   "cell_type": "code",
   "source": "",
   "metadata": {
    "trusted": true
   },
   "execution_count": null,
   "outputs": []
  },
  {
   "cell_type": "code",
   "source": "",
   "metadata": {
    "trusted": true
   },
   "execution_count": null,
   "outputs": []
  },
  {
   "cell_type": "code",
   "source": "",
   "metadata": {
    "execution": {
     "iopub.status.busy": "2022-03-06T11:37:03.50503Z",
     "iopub.execute_input": "2022-03-06T11:37:03.505493Z",
     "iopub.status.idle": "2022-03-06T11:37:03.509332Z",
     "shell.execute_reply.started": "2022-03-06T11:37:03.505462Z",
     "shell.execute_reply": "2022-03-06T11:37:03.508677Z"
    },
    "trusted": true
   },
   "execution_count": null,
   "outputs": []
  },
  {
   "cell_type": "code",
   "source": "",
   "metadata": {
    "execution": {
     "iopub.status.busy": "2022-03-06T11:42:08.007225Z",
     "iopub.execute_input": "2022-03-06T11:42:08.007561Z",
     "iopub.status.idle": "2022-03-06T11:42:08.057584Z",
     "shell.execute_reply.started": "2022-03-06T11:42:08.007521Z",
     "shell.execute_reply": "2022-03-06T11:42:08.056133Z"
    },
    "trusted": true
   },
   "execution_count": null,
   "outputs": []
  },
  {
   "cell_type": "code",
   "source": "# https://www.kaggle.com/c/h-and-m-personalized-fashion-recommendations/discussion/306007\n# https://github.com/benhamner/Metrics/blob/master/Python/ml_metrics/average_precision.py\ndef apk(actual, predicted, k=10):\n    \"\"\"\n    Computes the average precision at k.\n    This function computes the average prescision at k between two lists of\n    items.\n    Parameters\n    ----------\n    actual : list\n             A list of elements that are to be predicted (order doesn't matter)\n    predicted : list\n                A list of predicted elements (order does matter)\n    k : int, optional\n        The maximum number of predicted elements\n    Returns\n    -------\n    score : double\n            The average precision at k over the input lists\n    \"\"\"\n    if len(predicted)>k:\n        predicted = predicted[:k]\n\n    score = 0.0\n    num_hits = 0.0\n\n    for i,p in enumerate(predicted):\n        if p in actual and p not in predicted[:i]:\n            num_hits += 1.0\n            score += num_hits / (i+1.0)\n\n    # remove this case in advance\n    # if not actual:\n    #     return 0.0\n\n    return score / min(len(actual), k)\n\n\ndef mapk(actual, predicted, k=10):\n    \"\"\"\n    Computes the mean average precision at k.\n    This function computes the mean average prescision at k between two lists\n    of lists of items.\n    Parameters\n    ----------\n    actual : list\n             A list of lists of elements that are to be predicted \n             (order doesn't matter in the lists)\n    predicted : list\n                A list of lists of predicted elements\n                (order matters in the lists)\n    k : int, optional\n        The maximum number of predicted elements\n    Returns\n    -------\n    score : double\n            The mean average precision at k over the input lists\n    \"\"\"\n    return np.mean([apk(a,p,k) for a,p in zip(actual, predicted)])",
   "metadata": {
    "execution": {
     "iopub.status.busy": "2022-03-17T13:53:23.275566Z",
     "iopub.status.idle": "2022-03-17T13:53:23.276100Z",
     "shell.execute_reply.started": "2022-03-17T13:53:23.275903Z",
     "shell.execute_reply": "2022-03-17T13:53:23.275924Z"
    },
    "trusted": true
   },
   "execution_count": null,
   "outputs": []
  },
  {
   "cell_type": "code",
   "source": "x",
   "metadata": {
    "execution": {
     "iopub.status.busy": "2022-03-17T13:53:23.276891Z",
     "iopub.status.idle": "2022-03-17T13:53:23.277326Z",
     "shell.execute_reply.started": "2022-03-17T13:53:23.277164Z",
     "shell.execute_reply": "2022-03-17T13:53:23.277181Z"
    },
    "trusted": true
   },
   "execution_count": null,
   "outputs": []
  },
  {
   "cell_type": "code",
   "source": "# 아이템에 선호하는 그룹대>",
   "metadata": {
    "execution": {
     "iopub.status.busy": "2022-03-17T13:53:23.278758Z",
     "iopub.status.idle": "2022-03-17T13:53:23.279633Z",
     "shell.execute_reply.started": "2022-03-17T13:53:23.279399Z",
     "shell.execute_reply": "2022-03-17T13:53:23.279440Z"
    },
    "trusted": true
   },
   "execution_count": null,
   "outputs": []
  },
  {
   "cell_type": "code",
   "source": "",
   "metadata": {
    "trusted": true
   },
   "execution_count": null,
   "outputs": []
  },
  {
   "cell_type": "markdown",
   "source": "",
   "metadata": {}
  },
  {
   "cell_type": "code",
   "source": "# recommendation collaborative filtering in same group\n",
   "metadata": {
    "execution": {
     "iopub.status.busy": "2022-03-17T13:53:23.280621Z",
     "iopub.status.idle": "2022-03-17T13:53:23.281316Z",
     "shell.execute_reply.started": "2022-03-17T13:53:23.281100Z",
     "shell.execute_reply": "2022-03-17T13:53:23.281124Z"
    },
    "trusted": true
   },
   "execution_count": null,
   "outputs": []
  },
  {
   "cell_type": "code",
   "source": "# local cv 설정 방법\n#https://www.kaggle.com/c/h-and-m-personalized-fashion-recommendations/discussion/308919\n",
   "metadata": {
    "execution": {
     "iopub.status.busy": "2022-03-17T13:53:23.282580Z",
     "iopub.status.idle": "2022-03-17T13:53:23.283354Z",
     "shell.execute_reply.started": "2022-03-17T13:53:23.283152Z",
     "shell.execute_reply": "2022-03-17T13:53:23.283174Z"
    },
    "trusted": true
   },
   "execution_count": null,
   "outputs": []
  },
  {
   "cell_type": "code",
   "source": "# group user basedfilteroing try\ndf = df.merge(dfu[['customer_id','age']])",
   "metadata": {
    "execution": {
     "iopub.status.busy": "2022-03-17T14:45:00.128101Z",
     "iopub.execute_input": "2022-03-17T14:45:00.128414Z",
     "iopub.status.idle": "2022-03-17T14:45:00.150354Z",
     "shell.execute_reply.started": "2022-03-17T14:45:00.128378Z",
     "shell.execute_reply": "2022-03-17T14:45:00.148558Z"
    },
    "trusted": true
   },
   "execution_count": 71,
   "outputs": []
  },
  {
   "cell_type": "code",
   "source": "",
   "metadata": {
    "trusted": true
   },
   "execution_count": null,
   "outputs": []
  },
  {
   "cell_type": "code",
   "source": "twenty_generation = df[df.age.astype('str').str.startswith('2')]",
   "metadata": {
    "execution": {
     "iopub.status.busy": "2022-03-17T14:44:52.436818Z",
     "iopub.execute_input": "2022-03-17T14:44:52.437128Z",
     "iopub.status.idle": "2022-03-17T14:44:52.455225Z",
     "shell.execute_reply.started": "2022-03-17T14:44:52.437092Z",
     "shell.execute_reply": "2022-03-17T14:44:52.453916Z"
    },
    "trusted": true
   },
   "execution_count": 70,
   "outputs": []
  },
  {
   "cell_type": "code",
   "source": "",
   "metadata": {
    "execution": {
     "iopub.status.busy": "2022-03-17T13:56:17.067711Z",
     "iopub.execute_input": "2022-03-17T13:56:17.068268Z",
     "iopub.status.idle": "2022-03-17T13:56:17.092844Z",
     "shell.execute_reply.started": "2022-03-17T13:56:17.068218Z",
     "shell.execute_reply": "2022-03-17T13:56:17.091948Z"
    },
    "trusted": true
   },
   "execution_count": 53,
   "outputs": []
  },
  {
   "cell_type": "code",
   "source": "# embedding model 로 test해보기\ngroup_twenty = twenty_generation[['customer_id','article_id','t_dat']].groupby(['customer_id','article_id']).count().reset_index()",
   "metadata": {
    "execution": {
     "iopub.status.busy": "2022-03-17T14:44:49.820279Z",
     "iopub.execute_input": "2022-03-17T14:44:49.820611Z",
     "iopub.status.idle": "2022-03-17T14:44:49.840117Z",
     "shell.execute_reply.started": "2022-03-17T14:44:49.820580Z",
     "shell.execute_reply": "2022-03-17T14:44:49.838828Z"
    },
    "trusted": true
   },
   "execution_count": 69,
   "outputs": []
  },
  {
   "cell_type": "code",
   "source": "group_twenty = group_twenty.iloc[:500000]",
   "metadata": {
    "execution": {
     "iopub.status.busy": "2022-03-17T14:44:48.672299Z",
     "iopub.execute_input": "2022-03-17T14:44:48.673013Z",
     "iopub.status.idle": "2022-03-17T14:44:48.692790Z",
     "shell.execute_reply.started": "2022-03-17T14:44:48.672966Z",
     "shell.execute_reply": "2022-03-17T14:44:48.691539Z"
    },
    "trusted": true
   },
   "execution_count": 68,
   "outputs": []
  },
  {
   "cell_type": "code",
   "source": " ",
   "metadata": {
    "execution": {
     "iopub.status.busy": "2022-03-17T13:57:03.436816Z",
     "iopub.execute_input": "2022-03-17T13:57:03.437688Z",
     "iopub.status.idle": "2022-03-17T13:57:03.461811Z",
     "shell.execute_reply.started": "2022-03-17T13:57:03.437640Z",
     "shell.execute_reply": "2022-03-17T13:57:03.461205Z"
    },
    "trusted": true
   },
   "execution_count": 55,
   "outputs": []
  },
  {
   "cell_type": "code",
   "source": "group_twenty.rename(columns={'t_dat':'count'},inplace=True)",
   "metadata": {
    "execution": {
     "iopub.status.busy": "2022-03-17T13:53:23.291169Z",
     "iopub.status.idle": "2022-03-17T13:53:23.291540Z",
     "shell.execute_reply.started": "2022-03-17T13:53:23.291327Z",
     "shell.execute_reply": "2022-03-17T13:53:23.291343Z"
    },
    "trusted": true
   },
   "execution_count": null,
   "outputs": []
  },
  {
   "cell_type": "code",
   "source": "group_twenty ",
   "metadata": {
    "execution": {
     "iopub.status.busy": "2022-03-17T13:53:23.292411Z",
     "iopub.status.idle": "2022-03-17T13:53:23.292734Z",
     "shell.execute_reply.started": "2022-03-17T13:53:23.292574Z",
     "shell.execute_reply": "2022-03-17T13:53:23.292591Z"
    },
    "trusted": true
   },
   "execution_count": null,
   "outputs": []
  },
  {
   "cell_type": "code",
   "source": " ",
   "metadata": {
    "trusted": true
   },
   "execution_count": null,
   "outputs": []
  },
  {
   "cell_type": "code",
   "source": "pivot_twenty = group_twenty.pivot(index='customer_id',columns = 'article_id', values='count')",
   "metadata": {
    "execution": {
     "iopub.status.busy": "2022-03-17T14:44:42.366764Z",
     "iopub.execute_input": "2022-03-17T14:44:42.367550Z",
     "iopub.status.idle": "2022-03-17T14:44:42.386931Z",
     "shell.execute_reply.started": "2022-03-17T14:44:42.367506Z",
     "shell.execute_reply": "2022-03-17T14:44:42.385697Z"
    },
    "trusted": true
   },
   "execution_count": 66,
   "outputs": []
  },
  {
   "cell_type": "code",
   "source": "import gc \ndel df\ndel twenty_generation\ndel group_twenty\n\ngc.collect()",
   "metadata": {
    "execution": {
     "iopub.status.busy": "2022-03-17T14:44:41.741250Z",
     "iopub.execute_input": "2022-03-17T14:44:41.741914Z",
     "iopub.status.idle": "2022-03-17T14:44:41.761426Z",
     "shell.execute_reply.started": "2022-03-17T14:44:41.741863Z",
     "shell.execute_reply": "2022-03-17T14:44:41.760226Z"
    },
    "trusted": true
   },
   "execution_count": 65,
   "outputs": []
  },
  {
   "cell_type": "code",
   "source": "pivot_twenty.dtypes",
   "metadata": {
    "execution": {
     "iopub.status.busy": "2022-03-17T13:53:23.296517Z",
     "iopub.status.idle": "2022-03-17T13:53:23.296846Z",
     "shell.execute_reply.started": "2022-03-17T13:53:23.296682Z",
     "shell.execute_reply": "2022-03-17T13:53:23.296699Z"
    },
    "trusted": true
   },
   "execution_count": null,
   "outputs": []
  },
  {
   "cell_type": "code",
   "source": "# float dtype 은 메모리를 많이 잡아먹는다",
   "metadata": {
    "execution": {
     "iopub.status.busy": "2022-03-17T13:53:23.299940Z",
     "iopub.status.idle": "2022-03-17T13:53:23.300939Z",
     "shell.execute_reply.started": "2022-03-17T13:53:23.300700Z",
     "shell.execute_reply": "2022-03-17T13:53:23.300728Z"
    },
    "trusted": true
   },
   "execution_count": null,
   "outputs": []
  },
  {
   "cell_type": "code",
   "source": "cols =  pivot_twenty.columns",
   "metadata": {
    "execution": {
     "iopub.status.busy": "2022-03-17T13:53:23.302926Z",
     "iopub.status.idle": "2022-03-17T13:53:23.303416Z",
     "shell.execute_reply.started": "2022-03-17T13:53:23.303216Z",
     "shell.execute_reply": "2022-03-17T13:53:23.303244Z"
    },
    "trusted": true
   },
   "execution_count": null,
   "outputs": []
  },
  {
   "cell_type": "code",
   "source": "cols",
   "metadata": {
    "execution": {
     "iopub.status.busy": "2022-03-17T13:53:23.304830Z",
     "iopub.status.idle": "2022-03-17T13:53:23.305189Z",
     "shell.execute_reply.started": "2022-03-17T13:53:23.305004Z",
     "shell.execute_reply": "2022-03-17T13:53:23.305030Z"
    },
    "trusted": true
   },
   "execution_count": null,
   "outputs": []
  },
  {
   "cell_type": "code",
   "source": "pivot_twenty[cols[0]].max() < np.iinfo(np.int32).max",
   "metadata": {
    "execution": {
     "iopub.status.busy": "2022-03-17T14:44:31.423968Z",
     "iopub.status.idle": "2022-03-17T14:44:31.424754Z",
     "shell.execute_reply.started": "2022-03-17T14:44:31.424532Z",
     "shell.execute_reply": "2022-03-17T14:44:31.424559Z"
    },
    "trusted": true
   },
   "execution_count": null,
   "outputs": []
  },
  {
   "cell_type": "code",
   "source": "",
   "metadata": {},
   "execution_count": null,
   "outputs": []
  },
  {
   "cell_type": "code",
   "source": "start_mem",
   "metadata": {
    "execution": {
     "iopub.status.busy": "2022-03-17T13:53:23.308662Z",
     "iopub.status.idle": "2022-03-17T13:53:23.309886Z",
     "shell.execute_reply.started": "2022-03-17T13:53:23.309644Z",
     "shell.execute_reply": "2022-03-17T13:53:23.309674Z"
    },
    "trusted": true
   },
   "execution_count": null,
   "outputs": []
  },
  {
   "cell_type": "code",
   "source": "numerics = ['int16', 'int32', 'int64', 'float16', 'float32', 'float64']\n    start_mem = df.memory_usage().sum() / 1024**2    \n    for col in df.columns:\n        col_type = df[col].dtypes\n        if col_type in numerics:\n            c_min = df[col].min()\n            c_max = df[col].max()\n            if str(col_type)[:3] =='int':\n                if c_min > np.iinfo(np.int8).min and c_max < np.iinfo(np.int8).max:\n                    df[col]= df[col].astype(np.int8)\n                elif c_min > np.iinfo(np.int16).min and c_max < np.iinfo(np.int16).max:\n                    df[col]= df[col].astype(np.int8)\n                elif c_min > np.iinfo(np.int32).min and c_max < np.iinfo(np.int32).max:\n                    df[col]= df[col].astype(np.int8)\n                elif c_min > np.iinfo(np.int64).min and c_max < np.iinfo(np.int64).max:\n                    df[col]= df[col].astype(np.int8)\n            else:\n                if c_min > np.finfo(np.float16).min and c_max < np.finfo(np.float16).max:\n                        df[col] = df[col].astype(np.float16)\n                elif c_min > np.finfo(np.float32).min and c_max < np.finfo(np.float32).max:\n                    df[col] = df[col].astype(np.float32)\n                else:\n                    df[col] = df[col].astype(np.float64)    \n        end_mem = df.memory_usage().sum() / 1024**2\n        if verbose: print('Mem. usage decreased to {:5.2f} Mb ({:.1f}% reduction)'.format(end_mem, 100 * (start_mem - end_mem) / start_mem))\n        return df    ",
   "metadata": {
    "execution": {
     "iopub.status.busy": "2022-03-17T13:53:23.310858Z",
     "iopub.status.idle": "2022-03-17T13:53:23.311258Z",
     "shell.execute_reply.started": "2022-03-17T13:53:23.311090Z",
     "shell.execute_reply": "2022-03-17T13:53:23.311109Z"
    },
    "trusted": true
   },
   "execution_count": null,
   "outputs": []
  },
  {
   "cell_type": "code",
   "source": "def reduce_memory_usage(df):\n    \n    for col in cols: \n        col_type = str(df[col].dtypes)\n        if col_type.startswith('float'):\n        ",
   "metadata": {
    "execution": {
     "iopub.status.busy": "2022-03-17T13:53:23.312565Z",
     "iopub.status.idle": "2022-03-17T13:53:23.312881Z",
     "shell.execute_reply.started": "2022-03-17T13:53:23.312718Z",
     "shell.execute_reply": "2022-03-17T13:53:23.312735Z"
    },
    "trusted": true
   },
   "execution_count": null,
   "outputs": []
  },
  {
   "cell_type": "code",
   "source": "# reduce memory 여기서 필요하다\nreduce_memory_usage",
   "metadata": {
    "execution": {
     "iopub.status.busy": "2022-03-17T13:53:23.313685Z",
     "iopub.status.idle": "2022-03-17T13:53:23.314005Z",
     "shell.execute_reply.started": "2022-03-17T13:53:23.313831Z",
     "shell.execute_reply": "2022-03-17T13:53:23.313847Z"
    },
    "trusted": true
   },
   "execution_count": null,
   "outputs": []
  },
  {
   "cell_type": "code",
   "source": "gc.collect()",
   "metadata": {
    "execution": {
     "iopub.status.busy": "2022-03-17T13:53:23.315187Z",
     "iopub.status.idle": "2022-03-17T13:53:23.315546Z",
     "shell.execute_reply.started": "2022-03-17T13:53:23.315355Z",
     "shell.execute_reply": "2022-03-17T13:53:23.315372Z"
    },
    "trusted": true
   },
   "execution_count": null,
   "outputs": []
  },
  {
   "cell_type": "code",
   "source": "pivot_twenty.fillna(0,inplace=True)",
   "metadata": {
    "execution": {
     "iopub.status.busy": "2022-03-17T13:53:23.316665Z",
     "iopub.status.idle": "2022-03-17T13:53:23.316983Z",
     "shell.execute_reply.started": "2022-03-17T13:53:23.316815Z",
     "shell.execute_reply": "2022-03-17T13:53:23.316832Z"
    },
    "trusted": true
   },
   "execution_count": null,
   "outputs": []
  },
  {
   "cell_type": "code",
   "source": "pivot_twenty",
   "metadata": {
    "execution": {
     "iopub.status.busy": "2022-03-17T14:44:36.300203Z",
     "iopub.execute_input": "2022-03-17T14:44:36.300999Z",
     "iopub.status.idle": "2022-03-17T14:44:36.318960Z",
     "shell.execute_reply.started": "2022-03-17T14:44:36.300939Z",
     "shell.execute_reply": "2022-03-17T14:44:36.318015Z"
    },
    "trusted": true
   },
   "execution_count": 64,
   "outputs": []
  },
  {
   "cell_type": "code",
   "source": "",
   "metadata": {},
   "execution_count": null,
   "outputs": []
  },
  {
   "cell_type": "code",
   "source": "",
   "metadata": {
    "trusted": true
   },
   "execution_count": null,
   "outputs": []
  },
  {
   "cell_type": "code",
   "source": "print(f'overall data lenth : {len(group_twenty)}')",
   "metadata": {
    "execution": {
     "iopub.status.busy": "2022-03-17T13:53:23.321151Z",
     "iopub.status.idle": "2022-03-17T13:53:23.321908Z",
     "shell.execute_reply.started": "2022-03-17T13:53:23.321601Z",
     "shell.execute_reply": "2022-03-17T13:53:23.321643Z"
    },
    "trusted": true
   },
   "execution_count": null,
   "outputs": []
  },
  {
   "cell_type": "code",
   "source": "print(f\"Unique article : {len(group_twenty['article_id'].unique())}\")",
   "metadata": {
    "execution": {
     "iopub.status.busy": "2022-03-17T13:53:23.323279Z",
     "iopub.status.idle": "2022-03-17T13:53:23.323786Z",
     "shell.execute_reply.started": "2022-03-17T13:53:23.323517Z",
     "shell.execute_reply": "2022-03-17T13:53:23.323544Z"
    },
    "trusted": true
   },
   "execution_count": null,
   "outputs": []
  },
  {
   "cell_type": "code",
   "source": "print(f\"Unique customer : {len(group_twenty['customer_id'].unique())}\")",
   "metadata": {
    "execution": {
     "iopub.status.busy": "2022-03-17T13:53:23.325271Z",
     "iopub.status.idle": "2022-03-17T13:53:23.325682Z",
     "shell.execute_reply.started": "2022-03-17T13:53:23.325481Z",
     "shell.execute_reply": "2022-03-17T13:53:23.325508Z"
    },
    "trusted": true
   },
   "execution_count": null,
   "outputs": []
  },
  {
   "cell_type": "code",
   "source": "",
   "metadata": {
    "trusted": true
   },
   "execution_count": null,
   "outputs": []
  },
  {
   "cell_type": "code",
   "source": "pivot_twenty",
   "metadata": {
    "execution": {
     "iopub.status.busy": "2022-03-17T13:53:23.327310Z",
     "iopub.status.idle": "2022-03-17T13:53:23.327673Z",
     "shell.execute_reply.started": "2022-03-17T13:53:23.327487Z",
     "shell.execute_reply": "2022-03-17T13:53:23.327510Z"
    },
    "trusted": true
   },
   "execution_count": null,
   "outputs": []
  },
  {
   "cell_type": "code",
   "source": "",
   "metadata": {},
   "execution_count": null,
   "outputs": []
  },
  {
   "cell_type": "code",
   "source": "\ndf.t_dat = pd.to_datetime(df.t_dat)",
   "metadata": {
    "execution": {
     "iopub.status.busy": "2022-03-17T13:53:23.328906Z",
     "iopub.status.idle": "2022-03-17T13:53:23.329263Z",
     "shell.execute_reply.started": "2022-03-17T13:53:23.329079Z",
     "shell.execute_reply": "2022-03-17T13:53:23.329104Z"
    },
    "trusted": true
   },
   "execution_count": null,
   "outputs": []
  },
  {
   "cell_type": "code",
   "source": "",
   "metadata": {},
   "execution_count": null,
   "outputs": []
  },
  {
   "cell_type": "code",
   "source": "train = df.loc[df.t_dat <= pd.to_datetime('2020-09-15')]",
   "metadata": {
    "execution": {
     "iopub.status.busy": "2022-03-14T07:52:34.29277Z",
     "iopub.execute_input": "2022-03-14T07:52:34.293081Z",
     "iopub.status.idle": "2022-03-14T07:52:36.646253Z",
     "shell.execute_reply.started": "2022-03-14T07:52:34.29305Z",
     "shell.execute_reply": "2022-03-14T07:52:36.645012Z"
    },
    "trusted": true
   },
   "execution_count": null,
   "outputs": []
  },
  {
   "cell_type": "code",
   "source": "valid = df.loc[df.t_dat>= pd.to_datetime('2020-09-16')]",
   "metadata": {
    "execution": {
     "iopub.status.busy": "2022-03-14T07:52:36.64791Z",
     "iopub.execute_input": "2022-03-14T07:52:36.648147Z",
     "iopub.status.idle": "2022-03-14T07:52:36.767038Z",
     "shell.execute_reply.started": "2022-03-14T07:52:36.648118Z",
     "shell.execute_reply": "2022-03-14T07:52:36.766139Z"
    },
    "trusted": true
   },
   "execution_count": null,
   "outputs": []
  },
  {
   "cell_type": "code",
   "source": "# data trending 하기\n# Step 1",
   "metadata": {
    "execution": {
     "iopub.status.busy": "2022-03-14T08:01:43.506718Z",
     "iopub.execute_input": "2022-03-14T08:01:43.507037Z",
     "iopub.status.idle": "2022-03-14T08:01:43.523521Z",
     "shell.execute_reply.started": "2022-03-14T08:01:43.507003Z",
     "shell.execute_reply": "2022-03-14T08:01:43.522276Z"
    },
    "trusted": true
   },
   "execution_count": null,
   "outputs": []
  },
  {
   "cell_type": "code",
   "source": "",
   "metadata": {
    "execution": {
     "iopub.status.busy": "2022-03-14T08:07:06.950978Z",
     "iopub.execute_input": "2022-03-14T08:07:06.951315Z",
     "iopub.status.idle": "2022-03-14T08:07:06.965056Z",
     "shell.execute_reply.started": "2022-03-14T08:07:06.951275Z",
     "shell.execute_reply": "2022-03-14T08:07:06.96412Z"
    },
    "trusted": true
   },
   "execution_count": null,
   "outputs": []
  },
  {
   "cell_type": "code",
   "source": "valid = valid.groupby('customer_id').article_id.apply(list).reset_index()\nvalid = valid.rename({'article_id':'prediction'},axis=1)\nvalid['prediction'] = \\\n        valid.prediction.apply(lambda x: ' '.join(['0'+str(k) for k in x]))\n",
   "metadata": {
    "execution": {
     "iopub.status.busy": "2022-03-14T07:52:46.684129Z",
     "iopub.execute_input": "2022-03-14T07:52:46.685083Z",
     "iopub.status.idle": "2022-03-14T07:52:48.161215Z",
     "shell.execute_reply.started": "2022-03-14T07:52:46.685041Z",
     "shell.execute_reply": "2022-03-14T07:52:48.160367Z"
    },
    "trusted": true
   },
   "execution_count": null,
   "outputs": []
  },
  {
   "cell_type": "code",
   "source": " \ndf_sub = df_sub.set_index('customer_id').loc[valid.customer_id].reset_index() \n",
   "metadata": {
    "execution": {
     "iopub.status.busy": "2022-03-14T07:54:44.659806Z",
     "iopub.execute_input": "2022-03-14T07:54:44.660078Z",
     "iopub.status.idle": "2022-03-14T07:54:45.258853Z",
     "shell.execute_reply.started": "2022-03-14T07:54:44.660049Z",
     "shell.execute_reply": "2022-03-14T07:54:45.257822Z"
    },
    "trusted": true
   },
   "execution_count": null,
   "outputs": []
  },
  {
   "cell_type": "code",
   "source": "df_sub",
   "metadata": {
    "execution": {
     "iopub.status.busy": "2022-03-14T07:55:13.004618Z",
     "iopub.execute_input": "2022-03-14T07:55:13.004952Z",
     "iopub.status.idle": "2022-03-14T07:55:13.019311Z",
     "shell.execute_reply.started": "2022-03-14T07:55:13.004915Z",
     "shell.execute_reply": "2022-03-14T07:55:13.017818Z"
    },
    "trusted": true
   },
   "execution_count": null,
   "outputs": []
  },
  {
   "cell_type": "code",
   "source": "",
   "metadata": {},
   "execution_count": null,
   "outputs": []
  },
  {
   "cell_type": "code",
   "source": "mapk(valid.prediction.str.split(), df_sub.prediction.str.split(),k=12)",
   "metadata": {
    "execution": {
     "iopub.status.busy": "2022-03-14T07:55:22.872082Z",
     "iopub.execute_input": "2022-03-14T07:55:22.872666Z",
     "iopub.status.idle": "2022-03-14T07:55:23.301404Z",
     "shell.execute_reply.started": "2022-03-14T07:55:22.872618Z",
     "shell.execute_reply": "2022-03-14T07:55:23.300226Z"
    },
    "trusted": true
   },
   "execution_count": null,
   "outputs": []
  },
  {
   "cell_type": "code",
   "source": "def apk(actual, predicted, k=10):\n    \"\"\"\n    Computes the average precision at k.\n    This function computes the average prescision at k between two lists of\n    items.\n    Parameters\n    ----------\n    actual : list\n             A list of elements that are to be predicted (order doesn't matter)\n    predicted : list\n                A list of predicted elements (order does matter)\n    k : int, optional\n        The maximum number of predicted elements\n    Returns\n    -------\n    score : double\n            The average precision at k over the input lists\n    \"\"\"\n    if len(predicted)>k:\n        predicted = predicted[:k]",
   "metadata": {
    "execution": {
     "iopub.status.busy": "2022-03-14T07:55:36.007379Z",
     "iopub.execute_input": "2022-03-14T07:55:36.007698Z",
     "iopub.status.idle": "2022-03-14T07:55:36.012716Z",
     "shell.execute_reply.started": "2022-03-14T07:55:36.007664Z",
     "shell.execute_reply": "2022-03-14T07:55:36.011816Z"
    },
    "trusted": true
   },
   "execution_count": null,
   "outputs": []
  },
  {
   "cell_type": "code",
   "source": "def mapk(actual, predicted, k=10):\n    \"\"\"\n    Computes the mean average precision at k.\n    This function computes the mean average prescision at k between two lists\n    of lists of items.\n    Parameters\n    ----------\n    actual : list\n             A list of lists of elements that are to be predicted \n             (order doesn't matter in the lists)\n    predicted : list\n                A list of lists of predicted elements\n                (order matters in the lists)\n    k : int, optional\n        The maximum number of predicted elements\n    Returns\n    -------\n    score : double\n            The mean average precision at k over the input lists\n    \"\"\"\n    return np.mean([apk(a,p,k) for a,p in zip(actual, predicted)])",
   "metadata": {
    "execution": {
     "iopub.status.busy": "2022-03-14T07:53:58.474121Z",
     "iopub.execute_input": "2022-03-14T07:53:58.4748Z",
     "iopub.status.idle": "2022-03-14T07:53:58.479718Z",
     "shell.execute_reply.started": "2022-03-14T07:53:58.474633Z",
     "shell.execute_reply": "2022-03-14T07:53:58.479091Z"
    },
    "trusted": true
   },
   "execution_count": null,
   "outputs": []
  },
  {
   "cell_type": "code",
   "source": "",
   "metadata": {
    "execution": {
     "iopub.status.busy": "2022-03-06T11:45:39.366445Z",
     "iopub.execute_input": "2022-03-06T11:45:39.368729Z",
     "iopub.status.idle": "2022-03-06T11:45:39.375234Z",
     "shell.execute_reply.started": "2022-03-06T11:45:39.368675Z",
     "shell.execute_reply": "2022-03-06T11:45:39.374021Z"
    },
    "trusted": true
   },
   "execution_count": null,
   "outputs": []
  },
  {
   "cell_type": "code",
   "source": "",
   "metadata": {
    "execution": {
     "iopub.status.busy": "2022-03-06T11:40:30.849581Z",
     "iopub.execute_input": "2022-03-06T11:40:30.85049Z",
     "iopub.status.idle": "2022-03-06T11:40:30.880272Z",
     "shell.execute_reply.started": "2022-03-06T11:40:30.850441Z",
     "shell.execute_reply": "2022-03-06T11:40:30.879197Z"
    },
    "trusted": true
   },
   "execution_count": null,
   "outputs": []
  },
  {
   "cell_type": "code",
   "source": "",
   "metadata": {},
   "execution_count": null,
   "outputs": []
  },
  {
   "cell_type": "code",
   "source": "",
   "metadata": {
    "execution": {
     "iopub.status.busy": "2022-03-06T11:37:31.452676Z",
     "iopub.execute_input": "2022-03-06T11:37:31.453027Z",
     "iopub.status.idle": "2022-03-06T11:37:31.500571Z",
     "shell.execute_reply.started": "2022-03-06T11:37:31.452991Z",
     "shell.execute_reply": "2022-03-06T11:37:31.499685Z"
    },
    "trusted": true
   },
   "execution_count": null,
   "outputs": []
  },
  {
   "cell_type": "code",
   "source": "",
   "metadata": {
    "execution": {
     "iopub.status.busy": "2022-03-06T11:29:38.930122Z",
     "iopub.execute_input": "2022-03-06T11:29:38.93069Z",
     "iopub.status.idle": "2022-03-06T11:29:38.971086Z",
     "shell.execute_reply.started": "2022-03-06T11:29:38.930648Z",
     "shell.execute_reply": "2022-03-06T11:29:38.97Z"
    },
    "trusted": true
   },
   "execution_count": null,
   "outputs": []
  },
  {
   "cell_type": "code",
   "source": "",
   "metadata": {},
   "execution_count": null,
   "outputs": []
  },
  {
   "cell_type": "code",
   "source": "# 구매한 아이템들의 feature 를 해당 사용자와 mapping ? \n\ndata",
   "metadata": {
    "execution": {
     "iopub.status.busy": "2022-03-06T11:19:48.962488Z",
     "iopub.execute_input": "2022-03-06T11:19:48.962794Z",
     "iopub.status.idle": "2022-03-06T11:19:48.979552Z",
     "shell.execute_reply.started": "2022-03-06T11:19:48.96276Z",
     "shell.execute_reply": "2022-03-06T11:19:48.97893Z"
    },
    "trusted": true
   },
   "execution_count": null,
   "outputs": []
  },
  {
   "cell_type": "code",
   "source": "",
   "metadata": {},
   "execution_count": null,
   "outputs": []
  },
  {
   "cell_type": "code",
   "source": "x_train.merge(dfi,on='article_id')",
   "metadata": {
    "execution": {
     "iopub.status.busy": "2022-03-06T11:02:27.613312Z",
     "iopub.execute_input": "2022-03-06T11:02:27.614082Z",
     "iopub.status.idle": "2022-03-06T11:02:27.911971Z",
     "shell.execute_reply.started": "2022-03-06T11:02:27.61404Z",
     "shell.execute_reply": "2022-03-06T11:02:27.911166Z"
    },
    "trusted": true
   },
   "execution_count": null,
   "outputs": []
  },
  {
   "cell_type": "code",
   "source": "dfi['article_id'].nunique()",
   "metadata": {
    "execution": {
     "iopub.status.busy": "2022-03-06T10:38:54.363467Z",
     "iopub.execute_input": "2022-03-06T10:38:54.363743Z",
     "iopub.status.idle": "2022-03-06T10:38:54.399114Z",
     "shell.execute_reply.started": "2022-03-06T10:38:54.363711Z",
     "shell.execute_reply": "2022-03-06T10:38:54.398527Z"
    },
    "trusted": true
   },
   "execution_count": null,
   "outputs": []
  },
  {
   "cell_type": "code",
   "source": "show_buy_items( )",
   "metadata": {},
   "execution_count": null,
   "outputs": []
  },
  {
   "cell_type": "code",
   "source": "# 같은 prod_name이면서 다른 product_code를 가진 아이템 show 하기",
   "metadata": {},
   "execution_count": null,
   "outputs": []
  },
  {
   "cell_type": "code",
   "source": "",
   "metadata": {
    "execution": {
     "iopub.status.busy": "2022-03-06T11:00:18.26785Z",
     "iopub.execute_input": "2022-03-06T11:00:18.268171Z",
     "iopub.status.idle": "2022-03-06T11:00:18.3998Z",
     "shell.execute_reply.started": "2022-03-06T11:00:18.268141Z",
     "shell.execute_reply": "2022-03-06T11:00:18.399012Z"
    },
    "trusted": true
   },
   "execution_count": null,
   "outputs": []
  },
  {
   "cell_type": "code",
   "source": "# merge한 데이터에 tfidvectorizer를 해야 어떤 단어가 더 많이 등장하고 그런 것을 확인할 수 있을 듯 하기는 한데\n# 메모리가 부족하다",
   "metadata": {
    "execution": {
     "iopub.status.busy": "2022-03-06T10:22:32.255134Z",
     "iopub.execute_input": "2022-03-06T10:22:32.255426Z",
     "iopub.status.idle": "2022-03-06T10:22:32.274025Z",
     "shell.execute_reply.started": "2022-03-06T10:22:32.255397Z",
     "shell.execute_reply": "2022-03-06T10:22:32.273314Z"
    },
    "trusted": true
   },
   "execution_count": null,
   "outputs": []
  },
  {
   "cell_type": "markdown",
   "source": "",
   "metadata": {}
  },
  {
   "cell_type": "code",
   "source": "# 아이템 설명이 없는 row 제거",
   "metadata": {},
   "execution_count": null,
   "outputs": []
  },
  {
   "cell_type": "code",
   "source": "",
   "metadata": {
    "execution": {
     "iopub.status.busy": "2022-03-06T10:42:10.479427Z",
     "iopub.execute_input": "2022-03-06T10:42:10.480272Z",
     "iopub.status.idle": "2022-03-06T10:42:10.484591Z",
     "shell.execute_reply.started": "2022-03-06T10:42:10.480227Z",
     "shell.execute_reply": "2022-03-06T10:42:10.483625Z"
    },
    "trusted": true
   },
   "execution_count": null,
   "outputs": []
  },
  {
   "cell_type": "code",
   "source": "# 각 행별로 tfidf 단어값이 나온다",
   "metadata": {},
   "execution_count": null,
   "outputs": []
  },
  {
   "cell_type": "code",
   "source": "x_train",
   "metadata": {
    "execution": {
     "iopub.status.busy": "2022-03-06T10:53:53.696975Z",
     "iopub.execute_input": "2022-03-06T10:53:53.697747Z",
     "iopub.status.idle": "2022-03-06T10:53:53.788635Z",
     "shell.execute_reply.started": "2022-03-06T10:53:53.697655Z",
     "shell.execute_reply": "2022-03-06T10:53:53.787558Z"
    },
    "trusted": true
   },
   "execution_count": null,
   "outputs": []
  },
  {
   "cell_type": "markdown",
   "source": "",
   "metadata": {}
  },
  {
   "cell_type": "code",
   "source": "tfidf_vectorizer = TfidfVectorizer()",
   "metadata": {
    "execution": {
     "iopub.status.busy": "2022-03-06T10:27:56.281043Z",
     "iopub.execute_input": "2022-03-06T10:27:56.281417Z",
     "iopub.status.idle": "2022-03-06T10:27:56.289689Z",
     "shell.execute_reply.started": "2022-03-06T10:27:56.281372Z",
     "shell.execute_reply": "2022-03-06T10:27:56.288986Z"
    },
    "trusted": true
   },
   "execution_count": null,
   "outputs": []
  },
  {
   "cell_type": "code",
   "source": "",
   "metadata": {
    "execution": {
     "iopub.status.busy": "2022-03-06T10:28:06.308696Z",
     "iopub.execute_input": "2022-03-06T10:28:06.30932Z",
     "iopub.status.idle": "2022-03-06T10:28:06.564142Z",
     "shell.execute_reply.started": "2022-03-06T10:28:06.30928Z",
     "shell.execute_reply": "2022-03-06T10:28:06.563189Z"
    },
    "trusted": true
   },
   "execution_count": null,
   "outputs": []
  },
  {
   "cell_type": "code",
   "source": "",
   "metadata": {},
   "execution_count": null,
   "outputs": []
  },
  {
   "cell_type": "code",
   "source": "reduce_mem_usage(dfu)",
   "metadata": {
    "execution": {
     "iopub.status.busy": "2022-03-06T10:24:28.451166Z",
     "iopub.execute_input": "2022-03-06T10:24:28.451434Z",
     "iopub.status.idle": "2022-03-06T10:24:28.476881Z",
     "shell.execute_reply.started": "2022-03-06T10:24:28.451407Z",
     "shell.execute_reply": "2022-03-06T10:24:28.475419Z"
    },
    "trusted": true
   },
   "execution_count": null,
   "outputs": []
  },
  {
   "cell_type": "code",
   "source": "",
   "metadata": {
    "execution": {
     "iopub.status.busy": "2022-03-06T10:24:21.134408Z",
     "iopub.execute_input": "2022-03-06T10:24:21.13503Z",
     "iopub.status.idle": "2022-03-06T10:24:21.266004Z",
     "shell.execute_reply.started": "2022-03-06T10:24:21.134978Z",
     "shell.execute_reply": "2022-03-06T10:24:21.26517Z"
    },
    "trusted": true
   },
   "execution_count": null,
   "outputs": []
  },
  {
   "cell_type": "code",
   "source": "",
   "metadata": {
    "execution": {
     "iopub.status.busy": "2022-03-06T10:18:12.841266Z",
     "iopub.execute_input": "2022-03-06T10:18:12.841625Z",
     "iopub.status.idle": "2022-03-06T10:18:16.996219Z",
     "shell.execute_reply.started": "2022-03-06T10:18:12.841593Z",
     "shell.execute_reply": "2022-03-06T10:18:16.995571Z"
    },
    "trusted": true
   },
   "execution_count": null,
   "outputs": []
  },
  {
   "cell_type": "code",
   "source": "",
   "metadata": {
    "execution": {
     "iopub.status.busy": "2022-03-06T10:15:22.091959Z",
     "iopub.execute_input": "2022-03-06T10:15:22.092233Z",
     "iopub.status.idle": "2022-03-06T10:15:22.139688Z",
     "shell.execute_reply.started": "2022-03-06T10:15:22.092204Z",
     "shell.execute_reply": "2022-03-06T10:15:22.138598Z"
    },
    "trusted": true
   },
   "execution_count": null,
   "outputs": []
  },
  {
   "cell_type": "code",
   "source": "y_train",
   "metadata": {
    "execution": {
     "iopub.status.busy": "2022-03-06T10:05:35.463795Z",
     "iopub.execute_input": "2022-03-06T10:05:35.464067Z",
     "iopub.status.idle": "2022-03-06T10:05:35.480342Z",
     "shell.execute_reply.started": "2022-03-06T10:05:35.464039Z",
     "shell.execute_reply": "2022-03-06T10:05:35.479402Z"
    },
    "trusted": true
   },
   "execution_count": null,
   "outputs": []
  },
  {
   "cell_type": "code",
   "source": "merge_data = df.merge(dfi,on='article_id')",
   "metadata": {
    "execution": {
     "iopub.status.busy": "2022-03-06T09:55:28.102399Z",
     "iopub.execute_input": "2022-03-06T09:55:28.10271Z"
    },
    "trusted": true
   },
   "execution_count": null,
   "outputs": []
  },
  {
   "cell_type": "code",
   "source": "# 연령대별 전체 아이템 그룹\n# generation buy product_group_name\n#gene_prod_group_vc = gene_prod_group.value_counts()",
   "metadata": {},
   "execution_count": null,
   "outputs": []
  },
  {
   "cell_type": "code",
   "source": "reduce_memory_usage(dfi)",
   "metadata": {},
   "execution_count": null,
   "outputs": []
  },
  {
   "cell_type": "code",
   "source": "reduce_memory_usage(dfu)",
   "metadata": {},
   "execution_count": null,
   "outputs": []
  },
  {
   "cell_type": "code",
   "source": "dfi",
   "metadata": {
    "trusted": true
   },
   "execution_count": null,
   "outputs": []
  },
  {
   "cell_type": "code",
   "source": "gene_prod_group_vc = globals()['10_gene_prod_group'].value_counts()",
   "metadata": {
    "execution": {
     "iopub.status.busy": "2022-03-05T11:48:38.349662Z",
     "iopub.execute_input": "2022-03-05T11:48:38.350039Z",
     "iopub.status.idle": "2022-03-05T11:48:38.362595Z",
     "shell.execute_reply.started": "2022-03-05T11:48:38.350002Z",
     "shell.execute_reply": "2022-03-05T11:48:38.361902Z"
    },
    "trusted": true
   },
   "execution_count": null,
   "outputs": []
  },
  {
   "cell_type": "code",
   "source": "# 전 연령대를 통틀어 상위 아이템이 관심이 많다\nshow_generation_prefer_group(gene_prod_group_vc , '90')",
   "metadata": {
    "execution": {
     "iopub.status.busy": "2022-03-05T11:48:38.591758Z",
     "iopub.execute_input": "2022-03-05T11:48:38.592542Z",
     "iopub.status.idle": "2022-03-05T11:48:38.639761Z",
     "shell.execute_reply.started": "2022-03-05T11:48:38.592497Z",
     "shell.execute_reply": "2022-03-05T11:48:38.639035Z"
    },
    "trusted": true
   },
   "execution_count": null,
   "outputs": []
  },
  {
   "cell_type": "code",
   "source": "exp_usr_id = dfu[dfu.age.astype('str').str.startswith('4')]['age'].values[5]",
   "metadata": {
    "execution": {
     "iopub.status.busy": "2022-03-05T11:52:58.928601Z",
     "iopub.execute_input": "2022-03-05T11:52:58.928918Z",
     "iopub.status.idle": "2022-03-05T11:53:00.652189Z",
     "shell.execute_reply.started": "2022-03-05T11:52:58.928887Z",
     "shell.execute_reply": "2022-03-05T11:53:00.651153Z"
    },
    "trusted": true
   },
   "execution_count": null,
   "outputs": []
  },
  {
   "cell_type": "code",
   "source": "data = df[df.customer_id ==exp_usr_id]",
   "metadata": {
    "execution": {
     "iopub.status.busy": "2022-03-05T12:00:58.643062Z",
     "iopub.execute_input": "2022-03-05T12:00:58.643493Z",
     "iopub.status.idle": "2022-03-05T12:03:12.389419Z",
     "shell.execute_reply.started": "2022-03-05T12:00:58.643451Z",
     "shell.execute_reply": "2022-03-05T12:03:12.388451Z"
    },
    "trusted": true
   },
   "execution_count": null,
   "outputs": []
  },
  {
   "cell_type": "code",
   "source": "data",
   "metadata": {
    "execution": {
     "iopub.status.busy": "2022-03-05T12:03:12.391088Z",
     "iopub.execute_input": "2022-03-05T12:03:12.391317Z",
     "iopub.status.idle": "2022-03-05T12:03:12.403748Z",
     "shell.execute_reply.started": "2022-03-05T12:03:12.39129Z",
     "shell.execute_reply": "2022-03-05T12:03:12.40287Z"
    },
    "trusted": true
   },
   "execution_count": null,
   "outputs": []
  },
  {
   "cell_type": "code",
   "source": "# text 정보에서 최대한 추측해보기\n# desc에서 tfidf 하기",
   "metadata": {},
   "execution_count": null,
   "outputs": []
  },
  {
   "cell_type": "code",
   "source": "# 아이템 속성 다양히 살펴보고 feature로 만들고 train valid 테스트해보기 ?\n",
   "metadata": {},
   "execution_count": null,
   "outputs": []
  },
  {
   "cell_type": "markdown",
   "source": "",
   "metadata": {}
  },
  {
   "cell_type": "code",
   "source": "",
   "metadata": {
    "execution": {
     "iopub.status.busy": "2022-03-05T11:12:53.063547Z",
     "iopub.execute_input": "2022-03-05T11:12:53.063894Z",
     "iopub.status.idle": "2022-03-05T11:12:55.5026Z",
     "shell.execute_reply.started": "2022-03-05T11:12:53.063853Z",
     "shell.execute_reply": "2022-03-05T11:12:55.501656Z"
    },
    "trusted": true
   },
   "execution_count": null,
   "outputs": []
  },
  {
   "cell_type": "code",
   "source": "",
   "metadata": {},
   "execution_count": null,
   "outputs": []
  },
  {
   "cell_type": "code",
   "source": "",
   "metadata": {
    "execution": {
     "iopub.status.busy": "2022-03-05T11:23:20.647851Z",
     "iopub.execute_input": "2022-03-05T11:23:20.648867Z",
     "iopub.status.idle": "2022-03-05T11:23:20.655775Z",
     "shell.execute_reply.started": "2022-03-05T11:23:20.648792Z",
     "shell.execute_reply": "2022-03-05T11:23:20.655064Z"
    },
    "trusted": true
   },
   "execution_count": null,
   "outputs": []
  },
  {
   "cell_type": "code",
   "source": "",
   "metadata": {
    "execution": {
     "iopub.status.busy": "2022-03-05T11:23:20.806888Z",
     "iopub.execute_input": "2022-03-05T11:23:20.807351Z",
     "iopub.status.idle": "2022-03-05T11:23:20.816608Z",
     "shell.execute_reply.started": "2022-03-05T11:23:20.807317Z",
     "shell.execute_reply": "2022-03-05T11:23:20.815744Z"
    },
    "trusted": true
   },
   "execution_count": null,
   "outputs": []
  },
  {
   "cell_type": "code",
   "source": "",
   "metadata": {
    "execution": {
     "iopub.status.busy": "2022-03-05T11:23:21.58359Z",
     "iopub.execute_input": "2022-03-05T11:23:21.583879Z",
     "iopub.status.idle": "2022-03-05T11:23:21.591356Z",
     "shell.execute_reply.started": "2022-03-05T11:23:21.583842Z",
     "shell.execute_reply": "2022-03-05T11:23:21.590723Z"
    },
    "trusted": true
   },
   "execution_count": null,
   "outputs": []
  },
  {
   "cell_type": "code",
   "source": "",
   "metadata": {
    "execution": {
     "iopub.status.busy": "2022-03-05T11:23:22.897701Z",
     "iopub.execute_input": "2022-03-05T11:23:22.89807Z",
     "iopub.status.idle": "2022-03-05T11:23:22.939901Z",
     "shell.execute_reply.started": "2022-03-05T11:23:22.89803Z",
     "shell.execute_reply": "2022-03-05T11:23:22.939185Z"
    },
    "trusted": true
   },
   "execution_count": null,
   "outputs": []
  },
  {
   "cell_type": "code",
   "source": "# boost \ndfu[dfu.customer_id == exp_usr_id]['club_member_status']",
   "metadata": {
    "execution": {
     "iopub.status.busy": "2022-03-05T10:43:51.154502Z",
     "iopub.execute_input": "2022-03-05T10:43:51.154814Z",
     "iopub.status.idle": "2022-03-05T10:43:51.396741Z",
     "shell.execute_reply.started": "2022-03-05T10:43:51.154769Z",
     "shell.execute_reply": "2022-03-05T10:43:51.396155Z"
    },
    "trusted": true
   },
   "execution_count": null,
   "outputs": []
  },
  {
   "cell_type": "code",
   "source": "dfu[dfu.customer_id == exp_usr_id]['fashion_news_frequency']",
   "metadata": {
    "execution": {
     "iopub.status.busy": "2022-03-05T10:43:51.397879Z",
     "iopub.execute_input": "2022-03-05T10:43:51.398192Z",
     "iopub.status.idle": "2022-03-05T10:43:51.624516Z",
     "shell.execute_reply.started": "2022-03-05T10:43:51.398165Z",
     "shell.execute_reply": "2022-03-05T10:43:51.623586Z"
    },
    "trusted": true
   },
   "execution_count": null,
   "outputs": []
  },
  {
   "cell_type": "code",
   "source": "# 나이대 탐색\ndfu[dfu.customer_id == exp_usr_id]['age'].values[0] in np.arange(40,50).tolist() ",
   "metadata": {
    "execution": {
     "iopub.status.busy": "2022-03-05T10:43:51.627382Z",
     "iopub.execute_input": "2022-03-05T10:43:51.62772Z",
     "iopub.status.idle": "2022-03-05T10:43:51.855657Z",
     "shell.execute_reply.started": "2022-03-05T10:43:51.627692Z",
     "shell.execute_reply": "2022-03-05T10:43:51.854818Z"
    },
    "trusted": true
   },
   "execution_count": null,
   "outputs": []
  },
  {
   "cell_type": "code",
   "source": "buy_items = df[df.customer_id == exp_usr_id]['article_id'].values.tolist()\n# garment upper body 를 좋아하는 경향이 많다\ndfi[dfi.article_id.isin(buy_items)]['product_group_name']",
   "metadata": {
    "trusted": true
   },
   "execution_count": null,
   "outputs": []
  },
  {
   "cell_type": "code",
   "source": "# 40대 여성이 남편 옷 한번 , 자녀 옷, 주로 본인의 옷을 많이 샀다\n# kids 의류를 산 True 인 개수의 합 \ndf[df.customer_id == exp_usr_id].merge(dfi[['article_id','prod_name','product_type_name','product_group_name','section_name']] , on = 'article_id').section_name.str.startswith('Kids').values.sum()",
   "metadata": {
    "execution": {
     "iopub.status.busy": "2022-03-05T10:44:02.278439Z",
     "iopub.execute_input": "2022-03-05T10:44:02.278645Z",
     "iopub.status.idle": "2022-03-05T10:44:07.395727Z",
     "shell.execute_reply.started": "2022-03-05T10:44:02.278621Z",
     "shell.execute_reply": "2022-03-05T10:44:07.394873Z"
    },
    "trusted": true
   },
   "execution_count": null,
   "outputs": []
  },
  {
   "cell_type": "markdown",
   "source": "",
   "metadata": {}
  },
  {
   "cell_type": "code",
   "source": "show_buy_ratio(df,exp_usr_id)",
   "metadata": {
    "execution": {
     "iopub.status.busy": "2022-03-05T10:46:37.30727Z",
     "iopub.execute_input": "2022-03-05T10:46:37.308132Z",
     "iopub.status.idle": "2022-03-05T10:46:42.380651Z",
     "shell.execute_reply.started": "2022-03-05T10:46:37.308092Z",
     "shell.execute_reply": "2022-03-05T10:46:42.379713Z"
    },
    "trusted": true
   },
   "execution_count": null,
   "outputs": []
  },
  {
   "cell_type": "code",
   "source": "# 그리고 선호하는 옷의 이미지 특성을 탐색해서 유사한 사용자의 옷을 추천하거나 옷의 특성을 탐색해야지, 여백이 많은 옷을 좋아하는 지 화려한 옷을 좋아하는 지 등의",
   "metadata": {
    "execution": {
     "iopub.status.busy": "2022-03-05T10:44:07.40254Z",
     "iopub.execute_input": "2022-03-05T10:44:07.402902Z",
     "iopub.status.idle": "2022-03-05T10:44:07.413734Z",
     "shell.execute_reply.started": "2022-03-05T10:44:07.402859Z",
     "shell.execute_reply": "2022-03-05T10:44:07.412658Z"
    },
    "trusted": true
   },
   "execution_count": null,
   "outputs": []
  },
  {
   "cell_type": "markdown",
   "source": "",
   "metadata": {}
  },
  {
   "cell_type": "code",
   "source": "# 좋아하는 옷을 2벌 3벌 사는 유형이 있다. \n# 그리고 그냥 나처럼 가끔 가서 내가 좋아보이는 옷을 사는 유형\ndfi[dfi.article_id.isin(buy_items2)]",
   "metadata": {
    "execution": {
     "iopub.status.busy": "2022-03-05T10:44:14.25381Z",
     "iopub.execute_input": "2022-03-05T10:44:14.254103Z",
     "iopub.status.idle": "2022-03-05T10:44:14.330462Z",
     "shell.execute_reply.started": "2022-03-05T10:44:14.254074Z",
     "shell.execute_reply": "2022-03-05T10:44:14.329596Z"
    },
    "trusted": true
   },
   "execution_count": null,
   "outputs": []
  },
  {
   "cell_type": "code",
   "source": "\n# 반복 구매하는 아이템에 대해 가중치를 주고 반복 구매 체크하고 어떤 아이템을 반복 구매했는 지 체크\nshow_buy_group(df,exp_usr_id)\n# 40대 유저는 tailoring 을 많이산다\n",
   "metadata": {
    "execution": {
     "iopub.status.busy": "2022-03-05T10:45:10.128728Z",
     "iopub.execute_input": "2022-03-05T10:45:10.129212Z",
     "iopub.status.idle": "2022-03-05T10:45:20.314511Z",
     "shell.execute_reply.started": "2022-03-05T10:45:10.129174Z",
     "shell.execute_reply": "2022-03-05T10:45:20.313329Z"
    },
    "trusted": true
   },
   "execution_count": null,
   "outputs": []
  },
  {
   "cell_type": "code",
   "source": "show_buy_items(df,exp_usr_id) ",
   "metadata": {
    "execution": {
     "iopub.status.busy": "2022-03-05T10:45:44.328477Z",
     "iopub.execute_input": "2022-03-05T10:45:44.328792Z",
     "iopub.status.idle": "2022-03-05T10:45:56.746652Z",
     "shell.execute_reply.started": "2022-03-05T10:45:44.328756Z",
     "shell.execute_reply": "2022-03-05T10:45:56.73725Z"
    },
    "trusted": true
   },
   "execution_count": null,
   "outputs": []
  },
  {
   "cell_type": "code",
   "source": "# 40대 사용자 중 랜덤하게 한명 선택\nexp_usr_id = np.random.choice( dfu[dfu['age'].astype('str').str.startswith('4')]['customer_id'].values.tolist() , 1 )",
   "metadata": {
    "execution": {
     "iopub.status.busy": "2022-03-05T10:44:14.464786Z",
     "iopub.status.idle": "2022-03-05T10:44:14.465152Z",
     "shell.execute_reply.started": "2022-03-05T10:44:14.464967Z",
     "shell.execute_reply": "2022-03-05T10:44:14.464989Z"
    },
    "trusted": true
   },
   "execution_count": null,
   "outputs": []
  },
  {
   "cell_type": "code",
   "source": "",
   "metadata": {},
   "execution_count": null,
   "outputs": []
  },
  {
   "cell_type": "code",
   "source": "",
   "metadata": {
    "execution": {
     "iopub.status.busy": "2022-03-05T11:40:46.162219Z",
     "iopub.execute_input": "2022-03-05T11:40:46.163367Z",
     "iopub.status.idle": "2022-03-05T11:40:47.240798Z",
     "shell.execute_reply.started": "2022-03-05T11:40:46.163324Z",
     "shell.execute_reply": "2022-03-05T11:40:47.240031Z"
    },
    "trusted": true
   },
   "execution_count": null,
   "outputs": []
  },
  {
   "cell_type": "code",
   "source": "",
   "metadata": {},
   "execution_count": null,
   "outputs": []
  },
  {
   "cell_type": "code",
   "source": "def show_buy_group(df,exp_usr_id):\n    \n    buy_items = df[df.customer_id == exp_usr_id]['article_id'].values.tolist()\n    # garment upper body 를 좋아하는 경향이 많다\n    buy_items_group = dfi[dfi.article_id.isin(buy_items)]['product_group_name'].values.tolist()\n    k\n    return print(buy_items_group)",
   "metadata": {
    "execution": {
     "iopub.status.busy": "2022-03-05T10:45:08.806681Z",
     "iopub.execute_input": "2022-03-05T10:45:08.806981Z",
     "iopub.status.idle": "2022-03-05T10:45:08.813735Z",
     "shell.execute_reply.started": "2022-03-05T10:45:08.806949Z",
     "shell.execute_reply": "2022-03-05T10:45:08.812882Z"
    },
    "trusted": true
   },
   "execution_count": null,
   "outputs": []
  },
  {
   "cell_type": "code",
   "source": "",
   "metadata": {
    "execution": {
     "iopub.status.busy": "2022-03-05T10:45:06.522809Z",
     "iopub.execute_input": "2022-03-05T10:45:06.523512Z",
     "iopub.status.idle": "2022-03-05T10:45:06.532557Z",
     "shell.execute_reply.started": "2022-03-05T10:45:06.52347Z",
     "shell.execute_reply": "2022-03-05T10:45:06.531705Z"
    },
    "trusted": true
   },
   "execution_count": null,
   "outputs": []
  },
  {
   "cell_type": "code",
   "source": "show_buy_ratio(df,exp_usr_id )",
   "metadata": {
    "trusted": true
   },
   "execution_count": null,
   "outputs": []
  },
  {
   "cell_type": "code",
   "source": "",
   "metadata": {
    "execution": {
     "iopub.status.busy": "2022-03-05T11:05:06.656355Z",
     "iopub.execute_input": "2022-03-05T11:05:06.656653Z",
     "iopub.status.idle": "2022-03-05T11:05:08.463358Z",
     "shell.execute_reply.started": "2022-03-05T11:05:06.656625Z",
     "shell.execute_reply": "2022-03-05T11:05:08.46245Z"
    },
    "trusted": true
   },
   "execution_count": null,
   "outputs": []
  },
  {
   "cell_type": "code",
   "source": "",
   "metadata": {
    "execution": {
     "iopub.status.busy": "2022-03-05T11:05:32.2036Z",
     "iopub.execute_input": "2022-03-05T11:05:32.203905Z",
     "iopub.status.idle": "2022-03-05T11:05:32.227663Z",
     "shell.execute_reply.started": "2022-03-05T11:05:32.203868Z",
     "shell.execute_reply": "2022-03-05T11:05:32.226808Z"
    },
    "trusted": true
   },
   "execution_count": null,
   "outputs": []
  },
  {
   "cell_type": "code",
   "source": "show_buy_ratio(df,exp_usr_id)\n# 반복 구매하는 아이템에 대해 가중치를 주고 반복 구매 체크하고 어떤 아이템을 반복 구매했는 지 체크",
   "metadata": {},
   "execution_count": null,
   "outputs": []
  },
  {
   "cell_type": "markdown",
   "source": "",
   "metadata": {}
  },
  {
   "cell_type": "code",
   "source": "show_buy_group(df,exp_usr_id)\n# 40대 유저는 tailoring 을 많이산다",
   "metadata": {},
   "execution_count": null,
   "outputs": []
  },
  {
   "cell_type": "code",
   "source": "show_buy_items(df,exp_usr_id) ",
   "metadata": {
    "execution": {
     "iopub.status.busy": "2022-03-05T10:44:14.471068Z",
     "iopub.status.idle": "2022-03-05T10:44:14.471587Z",
     "shell.execute_reply.started": "2022-03-05T10:44:14.471299Z",
     "shell.execute_reply": "2022-03-05T10:44:14.471326Z"
    },
    "trusted": true
   },
   "execution_count": null,
   "outputs": []
  },
  {
   "cell_type": "markdown",
   "source": "",
   "metadata": {}
  },
  {
   "cell_type": "code",
   "source": "",
   "metadata": {},
   "execution_count": null,
   "outputs": []
  },
  {
   "cell_type": "code",
   "source": "# 중복 비율\ndf[df.customer_id.isin(globals()['{}0'.format(age)])]['article_id']",
   "metadata": {},
   "execution_count": null,
   "outputs": []
  },
  {
   "cell_type": "code",
   "source": "df[df.customer_id.isin(globals()['{}0'.format(age)])]['article_id'].drop_duplicates()",
   "metadata": {},
   "execution_count": null,
   "outputs": []
  },
  {
   "cell_type": "code",
   "source": "",
   "metadata": {},
   "execution_count": null,
   "outputs": []
  },
  {
   "cell_type": "code",
   "source": "",
   "metadata": {
    "execution": {
     "iopub.status.busy": "2022-03-05T11:03:33.403249Z",
     "iopub.execute_input": "2022-03-05T11:03:33.403949Z",
     "iopub.status.idle": "2022-03-05T11:03:33.41141Z",
     "shell.execute_reply.started": "2022-03-05T11:03:33.403901Z",
     "shell.execute_reply": "2022-03-05T11:03:33.410737Z"
    },
    "trusted": true
   },
   "execution_count": null,
   "outputs": []
  },
  {
   "cell_type": "code",
   "source": "",
   "metadata": {
    "execution": {
     "iopub.status.busy": "2022-03-05T11:02:14.23886Z",
     "iopub.execute_input": "2022-03-05T11:02:14.239584Z",
     "iopub.status.idle": "2022-03-05T11:02:16.006559Z",
     "shell.execute_reply.started": "2022-03-05T11:02:14.239547Z",
     "shell.execute_reply": "2022-03-05T11:02:16.005874Z"
    },
    "trusted": true
   },
   "execution_count": null,
   "outputs": []
  },
  {
   "cell_type": "code",
   "source": "",
   "metadata": {
    "execution": {
     "iopub.status.busy": "2022-03-05T10:44:14.481064Z",
     "iopub.status.idle": "2022-03-05T10:44:14.481557Z",
     "shell.execute_reply.started": "2022-03-05T10:44:14.481283Z",
     "shell.execute_reply": "2022-03-05T10:44:14.481309Z"
    },
    "trusted": true
   },
   "execution_count": null,
   "outputs": []
  },
  {
   "cell_type": "code",
   "source": "",
   "metadata": {},
   "execution_count": null,
   "outputs": []
  },
  {
   "cell_type": "code",
   "source": "a",
   "metadata": {
    "execution": {
     "iopub.status.busy": "2022-03-05T10:44:14.482821Z",
     "iopub.status.idle": "2022-03-05T10:44:14.483192Z",
     "shell.execute_reply.started": "2022-03-05T10:44:14.483024Z",
     "shell.execute_reply": "2022-03-05T10:44:14.483043Z"
    },
    "trusted": true
   },
   "execution_count": null,
   "outputs": []
  },
  {
   "cell_type": "code",
   "source": "",
   "metadata": {
    "execution": {
     "iopub.status.busy": "2022-03-05T10:44:14.48439Z",
     "iopub.status.idle": "2022-03-05T10:44:14.484726Z",
     "shell.execute_reply.started": "2022-03-05T10:44:14.484562Z",
     "shell.execute_reply": "2022-03-05T10:44:14.484578Z"
    },
    "trusted": true
   },
   "execution_count": null,
   "outputs": []
  },
  {
   "cell_type": "code",
   "source": "",
   "metadata": {
    "execution": {
     "iopub.status.busy": "2022-03-05T11:02:20.3967Z",
     "iopub.execute_input": "2022-03-05T11:02:20.397118Z",
     "iopub.status.idle": "2022-03-05T11:02:20.403815Z",
     "shell.execute_reply.started": "2022-03-05T11:02:20.39709Z",
     "shell.execute_reply": "2022-03-05T11:02:20.403156Z"
    },
    "trusted": true
   },
   "execution_count": null,
   "outputs": []
  },
  {
   "cell_type": "code",
   "source": "",
   "metadata": {
    "execution": {
     "iopub.status.busy": "2022-03-05T10:44:14.485599Z",
     "iopub.status.idle": "2022-03-05T10:44:14.485942Z",
     "shell.execute_reply.started": "2022-03-05T10:44:14.485739Z",
     "shell.execute_reply": "2022-03-05T10:44:14.485755Z"
    },
    "trusted": true
   },
   "execution_count": null,
   "outputs": []
  },
  {
   "cell_type": "code",
   "source": "gene_prod_group",
   "metadata": {
    "execution": {
     "iopub.status.busy": "2022-03-05T10:44:14.48681Z",
     "iopub.status.idle": "2022-03-05T10:44:14.487133Z",
     "shell.execute_reply.started": "2022-03-05T10:44:14.486968Z",
     "shell.execute_reply": "2022-03-05T10:44:14.486984Z"
    },
    "trusted": true
   },
   "execution_count": null,
   "outputs": []
  },
  {
   "cell_type": "code",
   "source": "import random",
   "metadata": {
    "execution": {
     "iopub.status.busy": "2022-03-05T10:44:14.487935Z",
     "iopub.status.idle": "2022-03-05T10:44:14.488247Z",
     "shell.execute_reply.started": "2022-03-05T10:44:14.488085Z",
     "shell.execute_reply": "2022-03-05T10:44:14.488101Z"
    },
    "trusted": true
   },
   "execution_count": null,
   "outputs": []
  },
  {
   "cell_type": "code",
   "source": "",
   "metadata": {
    "execution": {
     "iopub.status.busy": "2022-03-05T10:44:14.489308Z",
     "iopub.status.idle": "2022-03-05T10:44:14.489626Z",
     "shell.execute_reply.started": "2022-03-05T10:44:14.489455Z",
     "shell.execute_reply": "2022-03-05T10:44:14.489471Z"
    },
    "trusted": true
   },
   "execution_count": null,
   "outputs": []
  },
  {
   "cell_type": "code",
   "source": "",
   "metadata": {
    "execution": {
     "iopub.status.busy": "2022-03-05T11:05:52.074086Z",
     "iopub.execute_input": "2022-03-05T11:05:52.075755Z",
     "iopub.status.idle": "2022-03-05T11:05:52.113665Z",
     "shell.execute_reply.started": "2022-03-05T11:05:52.075694Z",
     "shell.execute_reply": "2022-03-05T11:05:52.111972Z"
    },
    "trusted": true
   },
   "execution_count": null,
   "outputs": []
  },
  {
   "cell_type": "code",
   "source": "",
   "metadata": {
    "trusted": true
   },
   "execution_count": null,
   "outputs": []
  },
  {
   "cell_type": "code",
   "source": "",
   "metadata": {
    "execution": {
     "iopub.status.busy": "2022-03-05T11:21:23.678757Z",
     "iopub.execute_input": "2022-03-05T11:21:23.679268Z",
     "iopub.status.idle": "2022-03-05T11:21:23.700474Z",
     "shell.execute_reply.started": "2022-03-05T11:21:23.679217Z",
     "shell.execute_reply": "2022-03-05T11:21:23.699268Z"
    },
    "trusted": true
   },
   "execution_count": null,
   "outputs": []
  },
  {
   "cell_type": "code",
   "source": "dfu.age.plot.hist()",
   "metadata": {
    "execution": {
     "iopub.status.busy": "2022-03-05T10:44:14.493872Z",
     "iopub.status.idle": "2022-03-05T10:44:14.494236Z",
     "shell.execute_reply.started": "2022-03-05T10:44:14.494065Z",
     "shell.execute_reply": "2022-03-05T10:44:14.494083Z"
    },
    "trusted": true
   },
   "execution_count": null,
   "outputs": []
  },
  {
   "cell_type": "code",
   "source": "",
   "metadata": {},
   "execution_count": null,
   "outputs": []
  },
  {
   "cell_type": "code",
   "source": "for idx , prod in enumerate(data['article_id'].values.tolist()):\n    print(idx, prod)",
   "metadata": {
    "execution": {
     "iopub.status.busy": "2022-03-05T05:46:34.6232Z",
     "iopub.execute_input": "2022-03-05T05:46:34.623439Z",
     "iopub.status.idle": "2022-03-05T05:46:34.634215Z",
     "shell.execute_reply.started": "2022-03-05T05:46:34.62341Z",
     "shell.execute_reply": "2022-03-05T05:46:34.629423Z"
    },
    "trusted": true
   },
   "execution_count": null,
   "outputs": []
  },
  {
   "cell_type": "code",
   "source": "for idx, prod in enumerate(data['article_id'].values.tolist()):\n    print(idx)",
   "metadata": {
    "execution": {
     "iopub.status.busy": "2022-03-05T05:46:34.636153Z",
     "iopub.execute_input": "2022-03-05T05:46:34.636853Z",
     "iopub.status.idle": "2022-03-05T05:46:34.645724Z",
     "shell.execute_reply.started": "2022-03-05T05:46:34.636799Z",
     "shell.execute_reply": "2022-03-05T05:46:34.644792Z"
    },
    "trusted": true
   },
   "execution_count": null,
   "outputs": []
  },
  {
   "cell_type": "code",
   "source": " desc = dfi[dfi['article_id'] ==  prod]['detail_desc'].iloc[0]",
   "metadata": {
    "execution": {
     "iopub.status.busy": "2022-03-05T05:46:34.647537Z",
     "iopub.execute_input": "2022-03-05T05:46:34.647822Z",
     "iopub.status.idle": "2022-03-05T05:46:34.673006Z",
     "shell.execute_reply.started": "2022-03-05T05:46:34.647782Z",
     "shell.execute_reply": "2022-03-05T05:46:34.671322Z"
    },
    "trusted": true
   },
   "execution_count": null,
   "outputs": []
  },
  {
   "cell_type": "code",
   "source": "",
   "metadata": {
    "execution": {
     "iopub.status.busy": "2022-03-05T05:50:26.319033Z",
     "iopub.execute_input": "2022-03-05T05:50:26.319613Z",
     "iopub.status.idle": "2022-03-05T05:50:26.36735Z",
     "shell.execute_reply.started": "2022-03-05T05:50:26.319555Z",
     "shell.execute_reply": "2022-03-05T05:50:26.365989Z"
    },
    "trusted": true
   },
   "execution_count": null,
   "outputs": []
  },
  {
   "cell_type": "code",
   "source": "# 구매한 아이템 이미지 \nf, ax = plt.subplots(5, 5, figsize=(30,15))\ni = 0\nk = 0\nfor prod in data['article_id'].values.tolist():\n    desc = dfi[dfi['article_id'] ==  prod]['detail_desc'].iloc[0]\n    desc_list = desc.split(' ')\n\n    for j, elem in enumerate(desc_list):\n        if j > 0 and j % 5 == 0:\n            desc_list[j] = desc_list[j] + '\\n'\n    desc = ' '.join(desc_list)\n    section_nm = dfi[dfi['article_id'] ==  prod]['section_name'].iloc[0]\n    img = mpimg.imread(f'../input/h-and-m-personalized-fashion-recommendations/images/{str(prod)[:3]}/0{int(prod)}.jpg')\n    ax[i][k].imshow(img)\n    ax[i][k].set_title(f'price: {data.price.values[0]:.2f}')\n    ax[i][k].set_xticks([], [])\n    ax[i][k].set_yticks([], [])\n    ax[i][k].grid(False)\n    ax[i][k].set_xlabel(section_nm, fontsize=10)\n    k += 1 \n    if k == 5:\n        k  = 0\n        i += 1\nplt.axis('off')\nplt.show()",
   "metadata": {
    "execution": {
     "iopub.status.busy": "2022-03-05T05:58:59.911888Z",
     "iopub.execute_input": "2022-03-05T05:58:59.912205Z",
     "iopub.status.idle": "2022-03-05T05:59:08.769215Z",
     "shell.execute_reply.started": "2022-03-05T05:58:59.912168Z",
     "shell.execute_reply": "2022-03-05T05:59:08.768202Z"
    },
    "trusted": true
   },
   "execution_count": null,
   "outputs": []
  },
  {
   "cell_type": "code",
   "source": "",
   "metadata": {},
   "execution_count": null,
   "outputs": []
  },
  {
   "cell_type": "code",
   "source": "cols = df.columns.tolist()",
   "metadata": {
    "execution": {
     "iopub.status.busy": "2022-03-03T12:37:31.953883Z",
     "iopub.status.idle": "2022-03-03T12:37:31.954528Z",
     "shell.execute_reply.started": "2022-03-03T12:37:31.954342Z",
     "shell.execute_reply": "2022-03-03T12:37:31.954362Z"
    },
    "trusted": true
   },
   "execution_count": null,
   "outputs": []
  },
  {
   "cell_type": "code",
   "source": "# in 연산자는 list에서만 \n# df[cols[3]].dtypes in 'float64' x ",
   "metadata": {
    "execution": {
     "iopub.status.busy": "2022-03-03T12:37:31.95528Z",
     "iopub.status.idle": "2022-03-03T12:37:31.955746Z",
     "shell.execute_reply.started": "2022-03-03T12:37:31.955583Z",
     "shell.execute_reply": "2022-03-03T12:37:31.9556Z"
    },
    "trusted": true
   },
   "execution_count": null,
   "outputs": []
  },
  {
   "cell_type": "code",
   "source": "",
   "metadata": {
    "execution": {
     "iopub.status.busy": "2022-03-03T12:37:31.956783Z",
     "iopub.status.idle": "2022-03-03T12:37:31.957352Z",
     "shell.execute_reply.started": "2022-03-03T12:37:31.957146Z",
     "shell.execute_reply": "2022-03-03T12:37:31.957165Z"
    },
    "trusted": true
   },
   "execution_count": null,
   "outputs": []
  },
  {
   "cell_type": "code",
   "source": "reduce_mem_usage(df)",
   "metadata": {
    "execution": {
     "iopub.status.busy": "2022-03-03T12:37:31.958327Z",
     "iopub.status.idle": "2022-03-03T12:37:31.958829Z",
     "shell.execute_reply.started": "2022-03-03T12:37:31.958624Z",
     "shell.execute_reply": "2022-03-03T12:37:31.958643Z"
    },
    "trusted": true
   },
   "execution_count": null,
   "outputs": []
  },
  {
   "cell_type": "code",
   "source": "from sklearn.model_selection import train_test_split",
   "metadata": {
    "execution": {
     "iopub.status.busy": "2022-03-03T12:37:31.959855Z",
     "iopub.status.idle": "2022-03-03T12:37:31.960658Z",
     "shell.execute_reply.started": "2022-03-03T12:37:31.960449Z",
     "shell.execute_reply": "2022-03-03T12:37:31.960472Z"
    },
    "trusted": true
   },
   "execution_count": null,
   "outputs": []
  },
  {
   "cell_type": "markdown",
   "source": "",
   "metadata": {}
  },
  {
   "cell_type": "code",
   "source": "df",
   "metadata": {
    "trusted": true
   },
   "execution_count": null,
   "outputs": []
  },
  {
   "cell_type": "code",
   "source": "x_train , x_valid , y_train ,y_valid = train_test_split(X, Y, test_size=0.2, stratify=Y)",
   "metadata": {
    "execution": {
     "iopub.status.busy": "2022-03-03T12:14:11.232598Z",
     "iopub.status.idle": "2022-03-03T12:14:11.233092Z",
     "shell.execute_reply.started": "2022-03-03T12:14:11.232827Z",
     "shell.execute_reply": "2022-03-03T12:14:11.23286Z"
    },
    "trusted": true
   },
   "execution_count": null,
   "outputs": []
  },
  {
   "cell_type": "code",
   "source": "col_type in numerics",
   "metadata": {
    "execution": {
     "iopub.status.busy": "2022-03-03T12:14:11.235231Z",
     "iopub.status.idle": "2022-03-03T12:14:11.235993Z",
     "shell.execute_reply.started": "2022-03-03T12:14:11.235729Z",
     "shell.execute_reply": "2022-03-03T12:14:11.235757Z"
    },
    "trusted": true
   },
   "execution_count": null,
   "outputs": []
  },
  {
   "cell_type": "code",
   "source": "",
   "metadata": {},
   "execution_count": null,
   "outputs": []
  },
  {
   "cell_type": "code",
   "source": "",
   "metadata": {},
   "execution_count": null,
   "outputs": []
  },
  {
   "cell_type": "code",
   "source": "# 연령대 분포\nplt.figure(figsize=(20,7))\nsns.histplot(dfu['age'])",
   "metadata": {
    "execution": {
     "iopub.status.busy": "2022-03-02T14:42:48.798908Z",
     "iopub.execute_input": "2022-03-02T14:42:48.799184Z",
     "iopub.status.idle": "2022-03-02T14:42:50.709923Z",
     "shell.execute_reply.started": "2022-03-02T14:42:48.799152Z",
     "shell.execute_reply": "2022-03-02T14:42:50.7091Z"
    },
    "trusted": true
   },
   "execution_count": null,
   "outputs": []
  },
  {
   "cell_type": "markdown",
   "source": "",
   "metadata": {}
  },
  {
   "cell_type": "code",
   "source": "",
   "metadata": {
    "execution": {
     "iopub.status.busy": "2022-03-02T14:48:35.243128Z",
     "iopub.execute_input": "2022-03-02T14:48:35.243651Z",
     "iopub.status.idle": "2022-03-02T14:48:35.632548Z",
     "shell.execute_reply.started": "2022-03-02T14:48:35.243607Z",
     "shell.execute_reply": "2022-03-02T14:48:35.631589Z"
    },
    "trusted": true
   },
   "execution_count": null,
   "outputs": []
  },
  {
   "cell_type": "code",
   "source": "",
   "metadata": {
    "execution": {
     "iopub.status.busy": "2022-03-02T14:52:21.004803Z",
     "iopub.execute_input": "2022-03-02T14:52:21.005098Z",
     "iopub.status.idle": "2022-03-02T14:52:22.1214Z",
     "shell.execute_reply.started": "2022-03-02T14:52:21.005063Z",
     "shell.execute_reply": "2022-03-02T14:52:22.120735Z"
    },
    "trusted": true
   },
   "execution_count": null,
   "outputs": []
  },
  {
   "cell_type": "markdown",
   "source": "",
   "metadata": {}
  },
  {
   "cell_type": "code",
   "source": "dfi['article_id'].nunique()",
   "metadata": {
    "execution": {
     "iopub.status.busy": "2022-03-02T14:56:16.857568Z",
     "iopub.execute_input": "2022-03-02T14:56:16.858095Z",
     "iopub.status.idle": "2022-03-02T14:56:16.887988Z",
     "shell.execute_reply.started": "2022-03-02T14:56:16.858061Z",
     "shell.execute_reply": "2022-03-02T14:56:16.887362Z"
    },
    "trusted": true
   },
   "execution_count": null,
   "outputs": []
  },
  {
   "cell_type": "code",
   "source": "# 그룹별 구매 아이템의 특징\n",
   "metadata": {
    "execution": {
     "iopub.status.busy": "2022-03-02T15:31:46.349465Z",
     "iopub.execute_input": "2022-03-02T15:31:46.350258Z",
     "iopub.status.idle": "2022-03-02T15:31:46.471267Z",
     "shell.execute_reply.started": "2022-03-02T15:31:46.350221Z",
     "shell.execute_reply": "2022-03-02T15:31:46.470348Z"
    },
    "trusted": true
   },
   "execution_count": null,
   "outputs": []
  },
  {
   "cell_type": "code",
   "source": "df",
   "metadata": {
    "execution": {
     "iopub.status.busy": "2022-03-02T14:29:06.893026Z",
     "iopub.execute_input": "2022-03-02T14:29:06.893295Z",
     "iopub.status.idle": "2022-03-02T14:29:06.91223Z",
     "shell.execute_reply.started": "2022-03-02T14:29:06.89325Z",
     "shell.execute_reply": "2022-03-02T14:29:06.911222Z"
    },
    "trusted": true
   },
   "execution_count": null,
   "outputs": []
  },
  {
   "cell_type": "markdown",
   "source": "![](http://)",
   "metadata": {}
  },
  {
   "cell_type": "code",
   "source": "df_sub",
   "metadata": {
    "execution": {
     "iopub.status.busy": "2022-03-02T14:25:26.967422Z",
     "iopub.execute_input": "2022-03-02T14:25:26.967702Z",
     "iopub.status.idle": "2022-03-02T14:25:26.981246Z",
     "shell.execute_reply.started": "2022-03-02T14:25:26.967674Z",
     "shell.execute_reply": "2022-03-02T14:25:26.980239Z"
    },
    "trusted": true
   },
   "execution_count": null,
   "outputs": []
  },
  {
   "cell_type": "code",
   "source": "# article_id count 인기 품목\ndf.groupby('article_id').count().reset_index()",
   "metadata": {
    "execution": {
     "iopub.status.busy": "2022-03-02T14:57:30.27038Z",
     "iopub.execute_input": "2022-03-02T14:57:30.27066Z",
     "iopub.status.idle": "2022-03-02T14:57:39.693903Z",
     "shell.execute_reply.started": "2022-03-02T14:57:30.270629Z",
     "shell.execute_reply": "2022-03-02T14:57:39.693279Z"
    },
    "trusted": true
   },
   "execution_count": null,
   "outputs": []
  },
  {
   "cell_type": "code",
   "source": "# 가장 많이 팔린 품목 또한 여성 제품\ndfi[dfi['article_id'] == '0108775015']",
   "metadata": {
    "execution": {
     "iopub.status.busy": "2022-03-02T14:58:47.601432Z",
     "iopub.execute_input": "2022-03-02T14:58:47.60199Z",
     "iopub.status.idle": "2022-03-02T14:58:47.644734Z",
     "shell.execute_reply.started": "2022-03-02T14:58:47.601939Z",
     "shell.execute_reply": "2022-03-02T14:58:47.643816Z"
    },
    "trusted": true
   },
   "execution_count": null,
   "outputs": []
  },
  {
   "cell_type": "code",
   "source": "",
   "metadata": {},
   "execution_count": null,
   "outputs": []
  }
 ]
}