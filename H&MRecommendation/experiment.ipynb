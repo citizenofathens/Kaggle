{
 "cells": [
  {
   "cell_type": "code",
   "execution_count": 66,
   "metadata": {
    "collapsed": true
   },
   "outputs": [],
   "source": [
    "\n",
    "# minsupport 핵심 구현\n",
    "import pdb\n",
    "from collections import defaultdict\n",
    "results=[]\n",
    "def frequent_rec(patt, mdb):\n",
    "    results.append((len(mdb), patt))\n",
    "    # defaultdict(list) 있을 시 꺼내쓰면 발생\n",
    "    occurs = defaultdict(list)\n",
    "    for (i, startpos) in mdb:\n",
    "        seq = db[i]\n",
    "        for j in range(startpos + 1, len(seq)):\n",
    "            # 값을 지정하지 않고 선언하면 seq[j]를 키로 하여 빈 list 로 value 초기화\n",
    "            l = occurs[seq[j]]\n",
    "            if len(l) == 0 or l[-1][0] != i:\n",
    "                l.append((i, j))\n",
    "\n",
    "    for (c, newmdb) in occurs.items():\n",
    "        # newmdb의 전체 길이가 minsup이상이라는 것은 l값과 같이 있는 다른 item 쌍이 minsup이상만큼 추가 되었다는 것\n",
    "        if len(newmdb) >= minsup:\n",
    "            # tree구조로 patt과\n",
    "            frequent_rec(patt + [c], newmdb)"
   ]
  },
  {
   "cell_type": "code",
   "execution_count": 64,
   "outputs": [],
   "source": [],
   "metadata": {
    "collapsed": false,
    "pycharm": {
     "name": "#%%\n"
    }
   }
  },
  {
   "cell_type": "code",
   "execution_count": null,
   "outputs": [],
   "source": [],
   "metadata": {
    "collapsed": false,
    "pycharm": {
     "name": "#%%\n"
    }
   }
  },
  {
   "cell_type": "code",
   "execution_count": null,
   "outputs": [],
   "source": [
    "minsup = 2\n",
    "db = [\n",
    "    [0, 1, 2, 3, 4],\n",
    "    [1, 1, 1, 3, 4],\n",
    "    [2, 1, 2, 2, 0],\n",
    "    [1, 1, 1, 2, 2],\n",
    "]"
   ],
   "metadata": {
    "collapsed": false,
    "pycharm": {
     "name": "#%%\n"
    }
   }
  },
  {
   "cell_type": "code",
   "execution_count": 17,
   "outputs": [],
   "source": [],
   "metadata": {
    "collapsed": false,
    "pycharm": {
     "name": "#%%\n"
    }
   }
  },
  {
   "cell_type": "code",
   "execution_count": 68,
   "outputs": [
    {
     "name": "stdout",
     "output_type": "stream",
     "text": [
      "[(4, []), (2, [0]), (4, [1]), (3, [1, 2]), (2, [1, 2, 2]), (2, [1, 3]), (2, [1, 3, 4]), (2, [1, 4]), (2, [1, 1]), (2, [1, 1, 1]), (3, [2]), (2, [2, 2]), (2, [3]), (2, [3, 4]), (2, [4])]\n"
     ]
    }
   ],
   "source": [
    "frequent_rec([], [(i, -1) for i in range(len(db))])\n",
    "\n",
    "print(results)"
   ],
   "metadata": {
    "collapsed": false,
    "pycharm": {
     "name": "#%%\n"
    }
   }
  },
  {
   "cell_type": "code",
   "execution_count": 147,
   "outputs": [],
   "source": [
    "# length를 2로 지정하면 우선 length 1로 발견될 수 있는 패턴을 찾는다 여기에서는 모든 행에\n",
    "# 각각 길이가 1개씩 존재하는 값들을 찾는다\n",
    "# 그러면 그 각각 1개의 값들이 prefix가 되고 그 이후 값은 모두 suffix가 되어\n",
    "# (suffix들로 이루어진 ) <1개값>-project DB를 형성한다 그리고 또 다시 모든 행에서\n",
    "#  length 1로 발견되는 값들이 있으면 찾아서 붙이고 그러면 첫번째찾은값+발견값이 prefix가 된다\n",
    "#\n",
    "from collections import defaultdict\n",
    "import pdb\n",
    "def frequent_rec(patt, mdb):\n",
    "    # 찾은 패턴 값을 더한다\n",
    "    results.append((len(mdb), patt))\n",
    "\n",
    "    # l (대상 id 값) 에 패턴을 추가한다\n",
    "    # project db\n",
    "    # 전체 시퀀스에서 length 가 길이가 1인 패턴을 찾는 싸이클\n",
    "    # 재귀함수에서 들어올땐 prefix로 patt가 생겼고 ,\n",
    "    # 찾는 건 원래 db에서 seq를 찾고 , mdb는 minidb인거같은데 projectdb 이다 . naming 다시하기\n",
    "    # sequence에서 length가 발생한 index 그 이후의 값부터\n",
    "    # 돌기 때문에 prefixspan 이 완성된다\n",
    "    occurs = defaultdict(list)\n",
    "    for (idxi, startpos) in mdb:\n",
    "        seq = db[idxi]\n",
    "        for idxj in range(startpos + 1, len(seq)):\n",
    "            values = occurs[seq[idxj]]\n",
    "            if len(values) == 0 or values[-1][0] != idxi:\n",
    "                # positional index 를 저장\n",
    "                values.append((idxi, idxj))\n",
    "                print(\"default dict values l : {} and idxj : {} and seq[idxj] :{} \".format(values,idxj,seq[idxj]))\n",
    "    # 전체 시퀀스에서 length 가 길이가 1인 패턴을 찾는 싸이클\n",
    "    print('occurs items :{}'.format(occurs.items()))\n",
    "    # # 찾은 패턴을 prefix로 하여 발생한 다른 패턴 값을 붙여 재귀함수를 돌린다\n",
    "    for (c, newmdb) in occurs.items():\n",
    "        print(c,newmdb)\n",
    "        print(patt+[c])\n",
    "        break\n",
    "    #     if len(newmdb) >= minsup:\n",
    "    #         frequent_rec(patt + [c], newmdb)"
   ],
   "metadata": {
    "collapsed": false,
    "pycharm": {
     "name": "#%%\n"
    }
   }
  },
  {
   "cell_type": "code",
   "execution_count": 148,
   "outputs": [
    {
     "data": {
      "text/plain": "[[0, 1, 2, 3, 4], [1, 1, 1, 3, 4], [2, 1, 2, 2, 0], [1, 1, 1, 2, 2]]"
     },
     "execution_count": 148,
     "metadata": {},
     "output_type": "execute_result"
    }
   ],
   "source": [
    "db"
   ],
   "metadata": {
    "collapsed": false,
    "pycharm": {
     "name": "#%%\n"
    }
   }
  },
  {
   "cell_type": "code",
   "execution_count": 149,
   "outputs": [
    {
     "name": "stdout",
     "output_type": "stream",
     "text": [
      "default dict values l : [(0, 0)] and idxj : 0 and seq[idxj] :0 \n",
      "default dict values l : [(0, 1)] and idxj : 1 and seq[idxj] :1 \n",
      "default dict values l : [(0, 2)] and idxj : 2 and seq[idxj] :2 \n",
      "default dict values l : [(0, 3)] and idxj : 3 and seq[idxj] :3 \n",
      "default dict values l : [(0, 4)] and idxj : 4 and seq[idxj] :4 \n",
      "default dict values l : [(0, 1), (1, 0)] and idxj : 0 and seq[idxj] :1 \n",
      "default dict values l : [(0, 3), (1, 3)] and idxj : 3 and seq[idxj] :3 \n",
      "default dict values l : [(0, 4), (1, 4)] and idxj : 4 and seq[idxj] :4 \n",
      "default dict values l : [(0, 2), (2, 0)] and idxj : 0 and seq[idxj] :2 \n",
      "default dict values l : [(0, 1), (1, 0), (2, 1)] and idxj : 1 and seq[idxj] :1 \n",
      "default dict values l : [(0, 0), (2, 4)] and idxj : 4 and seq[idxj] :0 \n",
      "default dict values l : [(0, 1), (1, 0), (2, 1), (3, 0)] and idxj : 0 and seq[idxj] :1 \n",
      "default dict values l : [(0, 2), (2, 0), (3, 3)] and idxj : 3 and seq[idxj] :2 \n",
      "occurs items :dict_items([(0, [(0, 0), (2, 4)]), (1, [(0, 1), (1, 0), (2, 1), (3, 0)]), (2, [(0, 2), (2, 0), (3, 3)]), (3, [(0, 3), (1, 3)]), (4, [(0, 4), (1, 4)])])\n",
      "0 [(0, 0), (2, 4)]\n",
      "[0]\n"
     ]
    }
   ],
   "source": [
    "frequent_rec([], [(i, -1) for i in range(len(db))])"
   ],
   "metadata": {
    "collapsed": false,
    "pycharm": {
     "name": "#%%\n"
    }
   }
  },
  {
   "cell_type": "code",
   "execution_count": 127,
   "outputs": [
    {
     "name": "stdout",
     "output_type": "stream",
     "text": [
      "[]\n"
     ]
    }
   ],
   "source": [
    "db = [\n",
    "    [0, 1, 2, 3, 4],\n",
    "    [1, 1, 1, 3, 4],\n",
    "    [2, 1, 2, 2, 0],\n",
    "    [1, 1, 1, 2, 2],\n",
    "]\n",
    "\n",
    "minsup = 2\n",
    "\n",
    "results = []\n",
    "\n",
    "\n",
    "\n",
    "print(results)"
   ],
   "metadata": {
    "collapsed": false,
    "pycharm": {
     "name": "#%%\n"
    }
   }
  },
  {
   "cell_type": "code",
   "execution_count": 75,
   "outputs": [
    {
     "data": {
      "text/plain": "[(0, -1), (1, -1), (2, -1), (3, -1)]"
     },
     "execution_count": 75,
     "metadata": {},
     "output_type": "execute_result"
    }
   ],
   "source": [
    "[(i, -1) for i in range(len(db))]"
   ],
   "metadata": {
    "collapsed": false,
    "pycharm": {
     "name": "#%%\n"
    }
   }
  },
  {
   "cell_type": "code",
   "execution_count": null,
   "outputs": [],
   "source": [
    "frequent_rec([], [(i, -1) for i in range(len(db))])"
   ],
   "metadata": {
    "collapsed": false,
    "pycharm": {
     "name": "#%%\n"
    }
   }
  },
  {
   "cell_type": "code",
   "execution_count": null,
   "outputs": [],
   "source": [],
   "metadata": {
    "collapsed": false,
    "pycharm": {
     "name": "#%%\n"
    }
   }
  },
  {
   "cell_type": "code",
   "execution_count": null,
   "outputs": [],
   "source": [],
   "metadata": {
    "collapsed": false,
    "pycharm": {
     "name": "#%%\n"
    }
   }
  },
  {
   "cell_type": "code",
   "execution_count": null,
   "outputs": [],
   "source": [],
   "metadata": {
    "collapsed": false,
    "pycharm": {
     "name": "#%%\n"
    }
   }
  },
  {
   "cell_type": "code",
   "execution_count": null,
   "outputs": [],
   "source": [
    "# submit process\n",
    "\n",
    "# Write Submission CSV\n",
    "sub = pd.read_csv('../input/h-and-m-personalized-fashion-recommendations/sample_submission.csv')\n",
    "sub = sub[['customer_id']]"
   ],
   "metadata": {
    "collapsed": false,
    "pycharm": {
     "name": "#%%\n"
    }
   }
  },
  {
   "cell_type": "code",
   "execution_count": null,
   "outputs": [],
   "source": [
    "\n",
    "\n",
    "df.article_id.value_counts()#%%"
   ],
   "metadata": {
    "collapsed": false,
    "pycharm": {
     "name": "#%%\n"
    }
   }
  },
  {
   "cell_type": "code",
   "execution_count": null,
   "outputs": [],
   "source": [
    "sub['customer_id_2'] = sub['customer_id'].apply(lambda x :  int( x[-16:],16))\n",
    "\n",
    "\n",
    "sub = sub.merge(preds.rename({'customer_id':'customer_id_2'},axis=1), on='customer_id_2',how='left').fillna('')\n",
    "\n",
    "del sub['customer_id_2']\n",
    "\n",
    "\n",
    "sub.prediction\n",
    "\n",
    "sub.prediction = sub.prediction + top12\n",
    "\n",
    "sub.prediction\n",
    "\n",
    "\n",
    "sub.prediction = sub.prediction.str.strip()\n",
    "sub.prediction = sub.prediction.str[:131]\n",
    "\n",
    "sub['prediction'].values[0]\n",
    "\n",
    "sub.to_csv(f'submission.csv',index=False)\n",
    "sub.head()"
   ],
   "metadata": {
    "collapsed": false,
    "pycharm": {
     "name": "#%%\n"
    }
   }
  },
  {
   "cell_type": "code",
   "execution_count": 114,
   "outputs": [],
   "source": [
    "\n",
    "\n",
    "\n",
    "\n",
    "\n",
    "import src.data"
   ],
   "metadata": {
    "collapsed": false,
    "pycharm": {
     "name": "#%%\n"
    }
   }
  },
  {
   "cell_type": "code",
   "execution_count": 126,
   "outputs": [
    {
     "data": {
      "text/plain": "<module 'src.data' from 'C:\\\\Users\\\\DATA\\\\PycharmProjects\\\\kaggle\\\\H&MRecommendation\\\\src\\\\data.py'>"
     },
     "execution_count": 126,
     "metadata": {},
     "output_type": "execute_result"
    }
   ],
   "source": [
    "import importlib\n",
    "importlib.reload(src.data)"
   ],
   "metadata": {
    "collapsed": false,
    "pycharm": {
     "name": "#%%\n"
    }
   }
  },
  {
   "cell_type": "code",
   "execution_count": 127,
   "outputs": [
    {
     "data": {
      "text/plain": "'C:\\\\Users\\\\DATA\\\\PycharmProjects\\\\kaggle\\\\H&MRecommendation'"
     },
     "execution_count": 127,
     "metadata": {},
     "output_type": "execute_result"
    }
   ],
   "source": [
    "import os\n",
    "\n",
    "os.getcwd()"
   ],
   "metadata": {
    "collapsed": false,
    "pycharm": {
     "name": "#%%\n"
    }
   }
  },
  {
   "cell_type": "code",
   "execution_count": 128,
   "outputs": [],
   "source": [
    "dataloader = src.data.DataLoader()"
   ],
   "metadata": {
    "collapsed": false,
    "pycharm": {
     "name": "#%%\n"
    }
   }
  },
  {
   "cell_type": "code",
   "execution_count": 123,
   "outputs": [
    {
     "name": "stdout",
     "output_type": "stream",
     "text": [
      "in\n"
     ]
    },
    {
     "ename": "KeyboardInterrupt",
     "evalue": "",
     "output_type": "error",
     "traceback": [
      "\u001B[1;31m---------------------------------------------------------------------------\u001B[0m",
      "\u001B[1;31mKeyboardInterrupt\u001B[0m                         Traceback (most recent call last)",
      "\u001B[1;32m~\\AppData\\Local\\Temp/ipykernel_23608/3888723568.py\u001B[0m in \u001B[0;36m<module>\u001B[1;34m\u001B[0m\n\u001B[1;32m----> 1\u001B[1;33m \u001B[0mdataloader\u001B[0m\u001B[1;33m.\u001B[0m\u001B[0mload\u001B[0m\u001B[1;33m(\u001B[0m\u001B[1;34m'train'\u001B[0m\u001B[1;33m)\u001B[0m\u001B[1;33m\u001B[0m\u001B[1;33m\u001B[0m\u001B[0m\n\u001B[0m",
      "\u001B[1;32m~\\PycharmProjects\\kaggle\\H&MRecommendation\\src\\data.py\u001B[0m in \u001B[0;36mload\u001B[1;34m(self, df_name, test_config)\u001B[0m\n\u001B[0;32m     23\u001B[0m         \u001B[1;32melif\u001B[0m \u001B[0mdf_name\u001B[0m \u001B[1;33m==\u001B[0m \u001B[1;34m'train'\u001B[0m \u001B[1;32mand\u001B[0m \u001B[1;32mnot\u001B[0m \u001B[0mtest_config\u001B[0m\u001B[1;33m:\u001B[0m\u001B[1;33m\u001B[0m\u001B[1;33m\u001B[0m\u001B[0m\n\u001B[0;32m     24\u001B[0m             \u001B[0mprint\u001B[0m\u001B[1;33m(\u001B[0m\u001B[1;34m\"in\"\u001B[0m\u001B[1;33m)\u001B[0m\u001B[1;33m\u001B[0m\u001B[1;33m\u001B[0m\u001B[0m\n\u001B[1;32m---> 25\u001B[1;33m             \u001B[0mdf\u001B[0m \u001B[1;33m=\u001B[0m \u001B[0mpd\u001B[0m\u001B[1;33m.\u001B[0m\u001B[0mread_csv\u001B[0m\u001B[1;33m(\u001B[0m\u001B[0mself\u001B[0m\u001B[1;33m.\u001B[0m\u001B[0mcsv_train\u001B[0m\u001B[1;33m,\u001B[0m \u001B[0mdtype\u001B[0m\u001B[1;33m=\u001B[0m\u001B[1;33m{\u001B[0m\u001B[1;34m'article_id'\u001B[0m\u001B[1;33m:\u001B[0m \u001B[0mstr\u001B[0m\u001B[1;33m}\u001B[0m\u001B[1;33m,\u001B[0m \u001B[0mparse_dates\u001B[0m\u001B[1;33m=\u001B[0m\u001B[1;33m[\u001B[0m\u001B[1;34m't_dat'\u001B[0m\u001B[1;33m]\u001B[0m \u001B[1;33m)\u001B[0m\u001B[1;33m\u001B[0m\u001B[1;33m\u001B[0m\u001B[0m\n\u001B[0m\u001B[0;32m     26\u001B[0m             \u001B[1;32mreturn\u001B[0m \u001B[0mdf\u001B[0m\u001B[1;33m\u001B[0m\u001B[1;33m\u001B[0m\u001B[0m\n\u001B[0;32m     27\u001B[0m         \u001B[1;32melif\u001B[0m \u001B[0mdf_name\u001B[0m \u001B[1;33m==\u001B[0m \u001B[1;34m'sub'\u001B[0m\u001B[1;33m:\u001B[0m\u001B[1;33m\u001B[0m\u001B[1;33m\u001B[0m\u001B[0m\n",
      "\u001B[1;32m~\\PycharmProjects\\kaggle\\venv\\lib\\site-packages\\pandas\\util\\_decorators.py\u001B[0m in \u001B[0;36mwrapper\u001B[1;34m(*args, **kwargs)\u001B[0m\n\u001B[0;32m    309\u001B[0m                     \u001B[0mstacklevel\u001B[0m\u001B[1;33m=\u001B[0m\u001B[0mstacklevel\u001B[0m\u001B[1;33m,\u001B[0m\u001B[1;33m\u001B[0m\u001B[1;33m\u001B[0m\u001B[0m\n\u001B[0;32m    310\u001B[0m                 )\n\u001B[1;32m--> 311\u001B[1;33m             \u001B[1;32mreturn\u001B[0m \u001B[0mfunc\u001B[0m\u001B[1;33m(\u001B[0m\u001B[1;33m*\u001B[0m\u001B[0margs\u001B[0m\u001B[1;33m,\u001B[0m \u001B[1;33m**\u001B[0m\u001B[0mkwargs\u001B[0m\u001B[1;33m)\u001B[0m\u001B[1;33m\u001B[0m\u001B[1;33m\u001B[0m\u001B[0m\n\u001B[0m\u001B[0;32m    312\u001B[0m \u001B[1;33m\u001B[0m\u001B[0m\n\u001B[0;32m    313\u001B[0m         \u001B[1;32mreturn\u001B[0m \u001B[0mwrapper\u001B[0m\u001B[1;33m\u001B[0m\u001B[1;33m\u001B[0m\u001B[0m\n",
      "\u001B[1;32m~\\PycharmProjects\\kaggle\\venv\\lib\\site-packages\\pandas\\io\\parsers\\readers.py\u001B[0m in \u001B[0;36mread_csv\u001B[1;34m(filepath_or_buffer, sep, delimiter, header, names, index_col, usecols, squeeze, prefix, mangle_dupe_cols, dtype, engine, converters, true_values, false_values, skipinitialspace, skiprows, skipfooter, nrows, na_values, keep_default_na, na_filter, verbose, skip_blank_lines, parse_dates, infer_datetime_format, keep_date_col, date_parser, dayfirst, cache_dates, iterator, chunksize, compression, thousands, decimal, lineterminator, quotechar, quoting, doublequote, escapechar, comment, encoding, encoding_errors, dialect, error_bad_lines, warn_bad_lines, on_bad_lines, delim_whitespace, low_memory, memory_map, float_precision, storage_options)\u001B[0m\n\u001B[0;32m    584\u001B[0m     \u001B[0mkwds\u001B[0m\u001B[1;33m.\u001B[0m\u001B[0mupdate\u001B[0m\u001B[1;33m(\u001B[0m\u001B[0mkwds_defaults\u001B[0m\u001B[1;33m)\u001B[0m\u001B[1;33m\u001B[0m\u001B[1;33m\u001B[0m\u001B[0m\n\u001B[0;32m    585\u001B[0m \u001B[1;33m\u001B[0m\u001B[0m\n\u001B[1;32m--> 586\u001B[1;33m     \u001B[1;32mreturn\u001B[0m \u001B[0m_read\u001B[0m\u001B[1;33m(\u001B[0m\u001B[0mfilepath_or_buffer\u001B[0m\u001B[1;33m,\u001B[0m \u001B[0mkwds\u001B[0m\u001B[1;33m)\u001B[0m\u001B[1;33m\u001B[0m\u001B[1;33m\u001B[0m\u001B[0m\n\u001B[0m\u001B[0;32m    587\u001B[0m \u001B[1;33m\u001B[0m\u001B[0m\n\u001B[0;32m    588\u001B[0m \u001B[1;33m\u001B[0m\u001B[0m\n",
      "\u001B[1;32m~\\PycharmProjects\\kaggle\\venv\\lib\\site-packages\\pandas\\io\\parsers\\readers.py\u001B[0m in \u001B[0;36m_read\u001B[1;34m(filepath_or_buffer, kwds)\u001B[0m\n\u001B[0;32m    486\u001B[0m \u001B[1;33m\u001B[0m\u001B[0m\n\u001B[0;32m    487\u001B[0m     \u001B[1;32mwith\u001B[0m \u001B[0mparser\u001B[0m\u001B[1;33m:\u001B[0m\u001B[1;33m\u001B[0m\u001B[1;33m\u001B[0m\u001B[0m\n\u001B[1;32m--> 488\u001B[1;33m         \u001B[1;32mreturn\u001B[0m \u001B[0mparser\u001B[0m\u001B[1;33m.\u001B[0m\u001B[0mread\u001B[0m\u001B[1;33m(\u001B[0m\u001B[0mnrows\u001B[0m\u001B[1;33m)\u001B[0m\u001B[1;33m\u001B[0m\u001B[1;33m\u001B[0m\u001B[0m\n\u001B[0m\u001B[0;32m    489\u001B[0m \u001B[1;33m\u001B[0m\u001B[0m\n\u001B[0;32m    490\u001B[0m \u001B[1;33m\u001B[0m\u001B[0m\n",
      "\u001B[1;32m~\\PycharmProjects\\kaggle\\venv\\lib\\site-packages\\pandas\\io\\parsers\\readers.py\u001B[0m in \u001B[0;36mread\u001B[1;34m(self, nrows)\u001B[0m\n\u001B[0;32m   1045\u001B[0m     \u001B[1;32mdef\u001B[0m \u001B[0mread\u001B[0m\u001B[1;33m(\u001B[0m\u001B[0mself\u001B[0m\u001B[1;33m,\u001B[0m \u001B[0mnrows\u001B[0m\u001B[1;33m=\u001B[0m\u001B[1;32mNone\u001B[0m\u001B[1;33m)\u001B[0m\u001B[1;33m:\u001B[0m\u001B[1;33m\u001B[0m\u001B[1;33m\u001B[0m\u001B[0m\n\u001B[0;32m   1046\u001B[0m         \u001B[0mnrows\u001B[0m \u001B[1;33m=\u001B[0m \u001B[0mvalidate_integer\u001B[0m\u001B[1;33m(\u001B[0m\u001B[1;34m\"nrows\"\u001B[0m\u001B[1;33m,\u001B[0m \u001B[0mnrows\u001B[0m\u001B[1;33m)\u001B[0m\u001B[1;33m\u001B[0m\u001B[1;33m\u001B[0m\u001B[0m\n\u001B[1;32m-> 1047\u001B[1;33m         \u001B[0mindex\u001B[0m\u001B[1;33m,\u001B[0m \u001B[0mcolumns\u001B[0m\u001B[1;33m,\u001B[0m \u001B[0mcol_dict\u001B[0m \u001B[1;33m=\u001B[0m \u001B[0mself\u001B[0m\u001B[1;33m.\u001B[0m\u001B[0m_engine\u001B[0m\u001B[1;33m.\u001B[0m\u001B[0mread\u001B[0m\u001B[1;33m(\u001B[0m\u001B[0mnrows\u001B[0m\u001B[1;33m)\u001B[0m\u001B[1;33m\u001B[0m\u001B[1;33m\u001B[0m\u001B[0m\n\u001B[0m\u001B[0;32m   1048\u001B[0m \u001B[1;33m\u001B[0m\u001B[0m\n\u001B[0;32m   1049\u001B[0m         \u001B[1;32mif\u001B[0m \u001B[0mindex\u001B[0m \u001B[1;32mis\u001B[0m \u001B[1;32mNone\u001B[0m\u001B[1;33m:\u001B[0m\u001B[1;33m\u001B[0m\u001B[1;33m\u001B[0m\u001B[0m\n",
      "\u001B[1;32m~\\PycharmProjects\\kaggle\\venv\\lib\\site-packages\\pandas\\io\\parsers\\c_parser_wrapper.py\u001B[0m in \u001B[0;36mread\u001B[1;34m(self, nrows)\u001B[0m\n\u001B[0;32m    221\u001B[0m         \u001B[1;32mtry\u001B[0m\u001B[1;33m:\u001B[0m\u001B[1;33m\u001B[0m\u001B[1;33m\u001B[0m\u001B[0m\n\u001B[0;32m    222\u001B[0m             \u001B[1;32mif\u001B[0m \u001B[0mself\u001B[0m\u001B[1;33m.\u001B[0m\u001B[0mlow_memory\u001B[0m\u001B[1;33m:\u001B[0m\u001B[1;33m\u001B[0m\u001B[1;33m\u001B[0m\u001B[0m\n\u001B[1;32m--> 223\u001B[1;33m                 \u001B[0mchunks\u001B[0m \u001B[1;33m=\u001B[0m \u001B[0mself\u001B[0m\u001B[1;33m.\u001B[0m\u001B[0m_reader\u001B[0m\u001B[1;33m.\u001B[0m\u001B[0mread_low_memory\u001B[0m\u001B[1;33m(\u001B[0m\u001B[0mnrows\u001B[0m\u001B[1;33m)\u001B[0m\u001B[1;33m\u001B[0m\u001B[1;33m\u001B[0m\u001B[0m\n\u001B[0m\u001B[0;32m    224\u001B[0m                 \u001B[1;31m# destructive to chunks\u001B[0m\u001B[1;33m\u001B[0m\u001B[1;33m\u001B[0m\u001B[1;33m\u001B[0m\u001B[0m\n\u001B[0;32m    225\u001B[0m                 \u001B[0mdata\u001B[0m \u001B[1;33m=\u001B[0m \u001B[0m_concatenate_chunks\u001B[0m\u001B[1;33m(\u001B[0m\u001B[0mchunks\u001B[0m\u001B[1;33m)\u001B[0m\u001B[1;33m\u001B[0m\u001B[1;33m\u001B[0m\u001B[0m\n",
      "\u001B[1;32m~\\PycharmProjects\\kaggle\\venv\\lib\\site-packages\\pandas\\_libs\\parsers.pyx\u001B[0m in \u001B[0;36mpandas._libs.parsers.TextReader.read_low_memory\u001B[1;34m()\u001B[0m\n",
      "\u001B[1;32m~\\PycharmProjects\\kaggle\\venv\\lib\\site-packages\\pandas\\_libs\\parsers.pyx\u001B[0m in \u001B[0;36mpandas._libs.parsers.TextReader._read_rows\u001B[1;34m()\u001B[0m\n",
      "\u001B[1;32m~\\PycharmProjects\\kaggle\\venv\\lib\\site-packages\\pandas\\_libs\\parsers.pyx\u001B[0m in \u001B[0;36mpandas._libs.parsers.TextReader._convert_column_data\u001B[1;34m()\u001B[0m\n",
      "\u001B[1;32m~\\PycharmProjects\\kaggle\\venv\\lib\\site-packages\\pandas\\_libs\\parsers.pyx\u001B[0m in \u001B[0;36mpandas._libs.parsers.TextReader._convert_tokens\u001B[1;34m()\u001B[0m\n",
      "\u001B[1;32m~\\PycharmProjects\\kaggle\\venv\\lib\\site-packages\\pandas\\_libs\\parsers.pyx\u001B[0m in \u001B[0;36mpandas._libs.parsers.TextReader._convert_with_dtype\u001B[1;34m()\u001B[0m\n",
      "\u001B[1;32m~\\PycharmProjects\\kaggle\\venv\\lib\\site-packages\\pandas\\core\\dtypes\\common.py\u001B[0m in \u001B[0;36mis_extension_array_dtype\u001B[1;34m(arr_or_dtype)\u001B[0m\n\u001B[0;32m   1418\u001B[0m \u001B[1;33m\u001B[0m\u001B[0m\n\u001B[0;32m   1419\u001B[0m \u001B[1;33m\u001B[0m\u001B[0m\n\u001B[1;32m-> 1420\u001B[1;33m \u001B[1;32mdef\u001B[0m \u001B[0mis_extension_array_dtype\u001B[0m\u001B[1;33m(\u001B[0m\u001B[0marr_or_dtype\u001B[0m\u001B[1;33m)\u001B[0m \u001B[1;33m->\u001B[0m \u001B[0mbool\u001B[0m\u001B[1;33m:\u001B[0m\u001B[1;33m\u001B[0m\u001B[1;33m\u001B[0m\u001B[0m\n\u001B[0m\u001B[0;32m   1421\u001B[0m     \"\"\"\n\u001B[0;32m   1422\u001B[0m     \u001B[0mCheck\u001B[0m \u001B[1;32mif\u001B[0m \u001B[0man\u001B[0m \u001B[0mobject\u001B[0m \u001B[1;32mis\u001B[0m \u001B[0ma\u001B[0m \u001B[0mpandas\u001B[0m \u001B[0mextension\u001B[0m \u001B[0marray\u001B[0m \u001B[0mtype\u001B[0m\u001B[1;33m.\u001B[0m\u001B[1;33m\u001B[0m\u001B[1;33m\u001B[0m\u001B[0m\n",
      "\u001B[1;31mKeyboardInterrupt\u001B[0m: "
     ]
    }
   ],
   "source": [],
   "metadata": {
    "collapsed": false,
    "pycharm": {
     "name": "#%%\n"
    }
   }
  },
  {
   "cell_type": "code",
   "execution_count": 131,
   "outputs": [
    {
     "name": "stdout",
     "output_type": "stream",
     "text": [
      "in\n"
     ]
    }
   ],
   "source": [
    "train = dataloader.load('train',test_config=True)"
   ],
   "metadata": {
    "collapsed": false,
    "pycharm": {
     "name": "#%%\n"
    }
   }
  },
  {
   "cell_type": "code",
   "execution_count": 133,
   "outputs": [
    {
     "data": {
      "text/plain": "            t_dat                                        customer_id  \\\n0      2018-09-20  000058a12d5b43e67d225668fa1f8d618c13dc232df0ca...   \n1      2018-09-20  000058a12d5b43e67d225668fa1f8d618c13dc232df0ca...   \n2      2018-09-20  00007d2de826758b65a93dd24ce629ed66842531df6699...   \n3      2018-09-20  00007d2de826758b65a93dd24ce629ed66842531df6699...   \n4      2018-09-20  00007d2de826758b65a93dd24ce629ed66842531df6699...   \n...           ...                                                ...   \n299995 2018-09-26  eba6633f08ed7939e039e2e4373428c1d037a66bae41d3...   \n299996 2018-09-26  eba6633f08ed7939e039e2e4373428c1d037a66bae41d3...   \n299997 2018-09-26  eba6633f08ed7939e039e2e4373428c1d037a66bae41d3...   \n299998 2018-09-26  eba6633f08ed7939e039e2e4373428c1d037a66bae41d3...   \n299999 2018-09-26  ebac71216b3f6affa29a6225cdbabe4eb93be0da9084b1...   \n\n        article_id     price  sales_channel_id  \n0       0663713001  0.050831                 2  \n1       0541518023  0.030492                 2  \n2       0505221004  0.015237                 2  \n3       0685687003  0.016932                 2  \n4       0685687004  0.016932                 2  \n...            ...       ...               ...  \n299995  0591334001  0.016932                 2  \n299996  0591334001  0.016932                 2  \n299997  0662857002  0.042356                 2  \n299998  0662857002  0.042356                 2  \n299999  0682267002  0.050831                 2  \n\n[300000 rows x 5 columns]",
      "text/html": "<div>\n<style scoped>\n    .dataframe tbody tr th:only-of-type {\n        vertical-align: middle;\n    }\n\n    .dataframe tbody tr th {\n        vertical-align: top;\n    }\n\n    .dataframe thead th {\n        text-align: right;\n    }\n</style>\n<table border=\"1\" class=\"dataframe\">\n  <thead>\n    <tr style=\"text-align: right;\">\n      <th></th>\n      <th>t_dat</th>\n      <th>customer_id</th>\n      <th>article_id</th>\n      <th>price</th>\n      <th>sales_channel_id</th>\n    </tr>\n  </thead>\n  <tbody>\n    <tr>\n      <th>0</th>\n      <td>2018-09-20</td>\n      <td>000058a12d5b43e67d225668fa1f8d618c13dc232df0ca...</td>\n      <td>0663713001</td>\n      <td>0.050831</td>\n      <td>2</td>\n    </tr>\n    <tr>\n      <th>1</th>\n      <td>2018-09-20</td>\n      <td>000058a12d5b43e67d225668fa1f8d618c13dc232df0ca...</td>\n      <td>0541518023</td>\n      <td>0.030492</td>\n      <td>2</td>\n    </tr>\n    <tr>\n      <th>2</th>\n      <td>2018-09-20</td>\n      <td>00007d2de826758b65a93dd24ce629ed66842531df6699...</td>\n      <td>0505221004</td>\n      <td>0.015237</td>\n      <td>2</td>\n    </tr>\n    <tr>\n      <th>3</th>\n      <td>2018-09-20</td>\n      <td>00007d2de826758b65a93dd24ce629ed66842531df6699...</td>\n      <td>0685687003</td>\n      <td>0.016932</td>\n      <td>2</td>\n    </tr>\n    <tr>\n      <th>4</th>\n      <td>2018-09-20</td>\n      <td>00007d2de826758b65a93dd24ce629ed66842531df6699...</td>\n      <td>0685687004</td>\n      <td>0.016932</td>\n      <td>2</td>\n    </tr>\n    <tr>\n      <th>...</th>\n      <td>...</td>\n      <td>...</td>\n      <td>...</td>\n      <td>...</td>\n      <td>...</td>\n    </tr>\n    <tr>\n      <th>299995</th>\n      <td>2018-09-26</td>\n      <td>eba6633f08ed7939e039e2e4373428c1d037a66bae41d3...</td>\n      <td>0591334001</td>\n      <td>0.016932</td>\n      <td>2</td>\n    </tr>\n    <tr>\n      <th>299996</th>\n      <td>2018-09-26</td>\n      <td>eba6633f08ed7939e039e2e4373428c1d037a66bae41d3...</td>\n      <td>0591334001</td>\n      <td>0.016932</td>\n      <td>2</td>\n    </tr>\n    <tr>\n      <th>299997</th>\n      <td>2018-09-26</td>\n      <td>eba6633f08ed7939e039e2e4373428c1d037a66bae41d3...</td>\n      <td>0662857002</td>\n      <td>0.042356</td>\n      <td>2</td>\n    </tr>\n    <tr>\n      <th>299998</th>\n      <td>2018-09-26</td>\n      <td>eba6633f08ed7939e039e2e4373428c1d037a66bae41d3...</td>\n      <td>0662857002</td>\n      <td>0.042356</td>\n      <td>2</td>\n    </tr>\n    <tr>\n      <th>299999</th>\n      <td>2018-09-26</td>\n      <td>ebac71216b3f6affa29a6225cdbabe4eb93be0da9084b1...</td>\n      <td>0682267002</td>\n      <td>0.050831</td>\n      <td>2</td>\n    </tr>\n  </tbody>\n</table>\n<p>300000 rows × 5 columns</p>\n</div>"
     },
     "execution_count": 133,
     "metadata": {},
     "output_type": "execute_result"
    }
   ],
   "source": [
    "train"
   ],
   "metadata": {
    "collapsed": false,
    "pycharm": {
     "name": "#%%\n"
    }
   }
  },
  {
   "cell_type": "code",
   "execution_count": 134,
   "outputs": [],
   "source": [
    "group_data = train[['customer_id','article_id','sales_channel_id']].groupby(['article_id','customer_id']).count().reset_index()\n"
   ],
   "metadata": {
    "collapsed": false,
    "pycharm": {
     "name": "#%%\n"
    }
   }
  },
  {
   "cell_type": "code",
   "execution_count": 135,
   "outputs": [],
   "source": [
    "pivot_data = group_data.pivot(columns='article_id',index='customer_id',values='sales_channel_id')\n"
   ],
   "metadata": {
    "collapsed": false,
    "pycharm": {
     "name": "#%%\n"
    }
   }
  },
  {
   "cell_type": "code",
   "execution_count": 137,
   "outputs": [
    {
     "data": {
      "text/plain": "article_id                                          0108775015  0108775044  \\\ncustomer_id                                                                  \n0000423b00ade91418cceaf3b26c6af3dd342b51fd051ee...         NaN         NaN   \n000058a12d5b43e67d225668fa1f8d618c13dc232df0cad...         NaN         NaN   \n00007d2de826758b65a93dd24ce629ed66842531df66993...         NaN         NaN   \n00025f8226be50dcab09402a2cacd520a99e112fe01fddd...         NaN         NaN   \n0003abe64294e66a6310c3436fa9e5b754cc5603deef4f2...         NaN         NaN   \n...                                                        ...         ...   \nfffbdd2f8e59d45c0fb50a14b0ea555f7daa5307b3f9220...         NaN         NaN   \nfffe7116f9f68e8ad287fd7b6e33aad4871d7080e77d2d5...         NaN         NaN   \nfffed13f041cc91f74dc6ec4e3267d7bb71bc833d53b7d7...         NaN         NaN   \nffffcd5046a6143d29a04fb8c424ce494a76e5cdf4fab53...         NaN         NaN   \nffffcf35913a0bee60e8741cb2b4e78b8a98ee5ff2e6a17...         NaN         NaN   \n\narticle_id                                          0108775051  0110065001  \\\ncustomer_id                                                                  \n0000423b00ade91418cceaf3b26c6af3dd342b51fd051ee...         NaN         NaN   \n000058a12d5b43e67d225668fa1f8d618c13dc232df0cad...         NaN         NaN   \n00007d2de826758b65a93dd24ce629ed66842531df66993...         NaN         NaN   \n00025f8226be50dcab09402a2cacd520a99e112fe01fddd...         NaN         NaN   \n0003abe64294e66a6310c3436fa9e5b754cc5603deef4f2...         NaN         NaN   \n...                                                        ...         ...   \nfffbdd2f8e59d45c0fb50a14b0ea555f7daa5307b3f9220...         NaN         NaN   \nfffe7116f9f68e8ad287fd7b6e33aad4871d7080e77d2d5...         NaN         NaN   \nfffed13f041cc91f74dc6ec4e3267d7bb71bc833d53b7d7...         NaN         NaN   \nffffcd5046a6143d29a04fb8c424ce494a76e5cdf4fab53...         NaN         NaN   \nffffcf35913a0bee60e8741cb2b4e78b8a98ee5ff2e6a17...         NaN         NaN   \n\narticle_id                                          0110065002  0110065011  \\\ncustomer_id                                                                  \n0000423b00ade91418cceaf3b26c6af3dd342b51fd051ee...         NaN         NaN   \n000058a12d5b43e67d225668fa1f8d618c13dc232df0cad...         NaN         NaN   \n00007d2de826758b65a93dd24ce629ed66842531df66993...         NaN         NaN   \n00025f8226be50dcab09402a2cacd520a99e112fe01fddd...         NaN         NaN   \n0003abe64294e66a6310c3436fa9e5b754cc5603deef4f2...         NaN         NaN   \n...                                                        ...         ...   \nfffbdd2f8e59d45c0fb50a14b0ea555f7daa5307b3f9220...         NaN         NaN   \nfffe7116f9f68e8ad287fd7b6e33aad4871d7080e77d2d5...         NaN         NaN   \nfffed13f041cc91f74dc6ec4e3267d7bb71bc833d53b7d7...         NaN         NaN   \nffffcd5046a6143d29a04fb8c424ce494a76e5cdf4fab53...         NaN         NaN   \nffffcf35913a0bee60e8741cb2b4e78b8a98ee5ff2e6a17...         NaN         NaN   \n\narticle_id                                          0111565001  0111586001  \\\ncustomer_id                                                                  \n0000423b00ade91418cceaf3b26c6af3dd342b51fd051ee...         NaN         NaN   \n000058a12d5b43e67d225668fa1f8d618c13dc232df0cad...         NaN         NaN   \n00007d2de826758b65a93dd24ce629ed66842531df66993...         NaN         NaN   \n00025f8226be50dcab09402a2cacd520a99e112fe01fddd...         NaN         NaN   \n0003abe64294e66a6310c3436fa9e5b754cc5603deef4f2...         NaN         NaN   \n...                                                        ...         ...   \nfffbdd2f8e59d45c0fb50a14b0ea555f7daa5307b3f9220...         NaN         NaN   \nfffe7116f9f68e8ad287fd7b6e33aad4871d7080e77d2d5...         NaN         NaN   \nfffed13f041cc91f74dc6ec4e3267d7bb71bc833d53b7d7...         NaN         NaN   \nffffcd5046a6143d29a04fb8c424ce494a76e5cdf4fab53...         NaN         NaN   \nffffcf35913a0bee60e8741cb2b4e78b8a98ee5ff2e6a17...         NaN         NaN   \n\narticle_id                                          0111593001  0111609001  \\\ncustomer_id                                                                  \n0000423b00ade91418cceaf3b26c6af3dd342b51fd051ee...         NaN         NaN   \n000058a12d5b43e67d225668fa1f8d618c13dc232df0cad...         NaN         NaN   \n00007d2de826758b65a93dd24ce629ed66842531df66993...         NaN         NaN   \n00025f8226be50dcab09402a2cacd520a99e112fe01fddd...         NaN         NaN   \n0003abe64294e66a6310c3436fa9e5b754cc5603deef4f2...         NaN         NaN   \n...                                                        ...         ...   \nfffbdd2f8e59d45c0fb50a14b0ea555f7daa5307b3f9220...         NaN         NaN   \nfffe7116f9f68e8ad287fd7b6e33aad4871d7080e77d2d5...         NaN         NaN   \nfffed13f041cc91f74dc6ec4e3267d7bb71bc833d53b7d7...         NaN         NaN   \nffffcd5046a6143d29a04fb8c424ce494a76e5cdf4fab53...         NaN         NaN   \nffffcf35913a0bee60e8741cb2b4e78b8a98ee5ff2e6a17...         NaN         NaN   \n\narticle_id                                          ...  0724252003  \\\ncustomer_id                                         ...               \n0000423b00ade91418cceaf3b26c6af3dd342b51fd051ee...  ...         NaN   \n000058a12d5b43e67d225668fa1f8d618c13dc232df0cad...  ...         NaN   \n00007d2de826758b65a93dd24ce629ed66842531df66993...  ...         NaN   \n00025f8226be50dcab09402a2cacd520a99e112fe01fddd...  ...         NaN   \n0003abe64294e66a6310c3436fa9e5b754cc5603deef4f2...  ...         NaN   \n...                                                 ...         ...   \nfffbdd2f8e59d45c0fb50a14b0ea555f7daa5307b3f9220...  ...         NaN   \nfffe7116f9f68e8ad287fd7b6e33aad4871d7080e77d2d5...  ...         NaN   \nfffed13f041cc91f74dc6ec4e3267d7bb71bc833d53b7d7...  ...         NaN   \nffffcd5046a6143d29a04fb8c424ce494a76e5cdf4fab53...  ...         NaN   \nffffcf35913a0bee60e8741cb2b4e78b8a98ee5ff2e6a17...  ...         NaN   \n\narticle_id                                          0724281001  0725253001  \\\ncustomer_id                                                                  \n0000423b00ade91418cceaf3b26c6af3dd342b51fd051ee...         NaN         NaN   \n000058a12d5b43e67d225668fa1f8d618c13dc232df0cad...         NaN         NaN   \n00007d2de826758b65a93dd24ce629ed66842531df66993...         NaN         NaN   \n00025f8226be50dcab09402a2cacd520a99e112fe01fddd...         NaN         NaN   \n0003abe64294e66a6310c3436fa9e5b754cc5603deef4f2...         NaN         NaN   \n...                                                        ...         ...   \nfffbdd2f8e59d45c0fb50a14b0ea555f7daa5307b3f9220...         NaN         NaN   \nfffe7116f9f68e8ad287fd7b6e33aad4871d7080e77d2d5...         NaN         NaN   \nfffed13f041cc91f74dc6ec4e3267d7bb71bc833d53b7d7...         NaN         NaN   \nffffcd5046a6143d29a04fb8c424ce494a76e5cdf4fab53...         NaN         NaN   \nffffcf35913a0bee60e8741cb2b4e78b8a98ee5ff2e6a17...         NaN         NaN   \n\narticle_id                                          0725676001  0727754001  \\\ncustomer_id                                                                  \n0000423b00ade91418cceaf3b26c6af3dd342b51fd051ee...         NaN         NaN   \n000058a12d5b43e67d225668fa1f8d618c13dc232df0cad...         NaN         NaN   \n00007d2de826758b65a93dd24ce629ed66842531df66993...         NaN         NaN   \n00025f8226be50dcab09402a2cacd520a99e112fe01fddd...         NaN         NaN   \n0003abe64294e66a6310c3436fa9e5b754cc5603deef4f2...         NaN         NaN   \n...                                                        ...         ...   \nfffbdd2f8e59d45c0fb50a14b0ea555f7daa5307b3f9220...         NaN         NaN   \nfffe7116f9f68e8ad287fd7b6e33aad4871d7080e77d2d5...         NaN         NaN   \nfffed13f041cc91f74dc6ec4e3267d7bb71bc833d53b7d7...         NaN         NaN   \nffffcd5046a6143d29a04fb8c424ce494a76e5cdf4fab53...         NaN         NaN   \nffffcf35913a0bee60e8741cb2b4e78b8a98ee5ff2e6a17...         NaN         NaN   \n\narticle_id                                          0728111001  0728146001  \\\ncustomer_id                                                                  \n0000423b00ade91418cceaf3b26c6af3dd342b51fd051ee...         NaN         NaN   \n000058a12d5b43e67d225668fa1f8d618c13dc232df0cad...         NaN         NaN   \n00007d2de826758b65a93dd24ce629ed66842531df66993...         NaN         NaN   \n00025f8226be50dcab09402a2cacd520a99e112fe01fddd...         NaN         NaN   \n0003abe64294e66a6310c3436fa9e5b754cc5603deef4f2...         NaN         NaN   \n...                                                        ...         ...   \nfffbdd2f8e59d45c0fb50a14b0ea555f7daa5307b3f9220...         NaN         NaN   \nfffe7116f9f68e8ad287fd7b6e33aad4871d7080e77d2d5...         NaN         NaN   \nfffed13f041cc91f74dc6ec4e3267d7bb71bc833d53b7d7...         NaN         NaN   \nffffcd5046a6143d29a04fb8c424ce494a76e5cdf4fab53...         NaN         NaN   \nffffcf35913a0bee60e8741cb2b4e78b8a98ee5ff2e6a17...         NaN         NaN   \n\narticle_id                                          0728162001  0728162002  \\\ncustomer_id                                                                  \n0000423b00ade91418cceaf3b26c6af3dd342b51fd051ee...         NaN         NaN   \n000058a12d5b43e67d225668fa1f8d618c13dc232df0cad...         NaN         NaN   \n00007d2de826758b65a93dd24ce629ed66842531df66993...         NaN         NaN   \n00025f8226be50dcab09402a2cacd520a99e112fe01fddd...         NaN         NaN   \n0003abe64294e66a6310c3436fa9e5b754cc5603deef4f2...         NaN         NaN   \n...                                                        ...         ...   \nfffbdd2f8e59d45c0fb50a14b0ea555f7daa5307b3f9220...         NaN         NaN   \nfffe7116f9f68e8ad287fd7b6e33aad4871d7080e77d2d5...         NaN         NaN   \nfffed13f041cc91f74dc6ec4e3267d7bb71bc833d53b7d7...         NaN         NaN   \nffffcd5046a6143d29a04fb8c424ce494a76e5cdf4fab53...         NaN         NaN   \nffffcf35913a0bee60e8741cb2b4e78b8a98ee5ff2e6a17...         NaN         NaN   \n\narticle_id                                          0729931001  \ncustomer_id                                                     \n0000423b00ade91418cceaf3b26c6af3dd342b51fd051ee...         NaN  \n000058a12d5b43e67d225668fa1f8d618c13dc232df0cad...         NaN  \n00007d2de826758b65a93dd24ce629ed66842531df66993...         NaN  \n00025f8226be50dcab09402a2cacd520a99e112fe01fddd...         NaN  \n0003abe64294e66a6310c3436fa9e5b754cc5603deef4f2...         NaN  \n...                                                        ...  \nfffbdd2f8e59d45c0fb50a14b0ea555f7daa5307b3f9220...         NaN  \nfffe7116f9f68e8ad287fd7b6e33aad4871d7080e77d2d5...         NaN  \nfffed13f041cc91f74dc6ec4e3267d7bb71bc833d53b7d7...         NaN  \nffffcd5046a6143d29a04fb8c424ce494a76e5cdf4fab53...         NaN  \nffffcf35913a0bee60e8741cb2b4e78b8a98ee5ff2e6a17...         NaN  \n\n[75433 rows x 22071 columns]",
      "text/html": "<div>\n<style scoped>\n    .dataframe tbody tr th:only-of-type {\n        vertical-align: middle;\n    }\n\n    .dataframe tbody tr th {\n        vertical-align: top;\n    }\n\n    .dataframe thead th {\n        text-align: right;\n    }\n</style>\n<table border=\"1\" class=\"dataframe\">\n  <thead>\n    <tr style=\"text-align: right;\">\n      <th>article_id</th>\n      <th>0108775015</th>\n      <th>0108775044</th>\n      <th>0108775051</th>\n      <th>0110065001</th>\n      <th>0110065002</th>\n      <th>0110065011</th>\n      <th>0111565001</th>\n      <th>0111586001</th>\n      <th>0111593001</th>\n      <th>0111609001</th>\n      <th>...</th>\n      <th>0724252003</th>\n      <th>0724281001</th>\n      <th>0725253001</th>\n      <th>0725676001</th>\n      <th>0727754001</th>\n      <th>0728111001</th>\n      <th>0728146001</th>\n      <th>0728162001</th>\n      <th>0728162002</th>\n      <th>0729931001</th>\n    </tr>\n    <tr>\n      <th>customer_id</th>\n      <th></th>\n      <th></th>\n      <th></th>\n      <th></th>\n      <th></th>\n      <th></th>\n      <th></th>\n      <th></th>\n      <th></th>\n      <th></th>\n      <th></th>\n      <th></th>\n      <th></th>\n      <th></th>\n      <th></th>\n      <th></th>\n      <th></th>\n      <th></th>\n      <th></th>\n      <th></th>\n      <th></th>\n    </tr>\n  </thead>\n  <tbody>\n    <tr>\n      <th>0000423b00ade91418cceaf3b26c6af3dd342b51fd051eec9c12fb36984420fa</th>\n      <td>NaN</td>\n      <td>NaN</td>\n      <td>NaN</td>\n      <td>NaN</td>\n      <td>NaN</td>\n      <td>NaN</td>\n      <td>NaN</td>\n      <td>NaN</td>\n      <td>NaN</td>\n      <td>NaN</td>\n      <td>...</td>\n      <td>NaN</td>\n      <td>NaN</td>\n      <td>NaN</td>\n      <td>NaN</td>\n      <td>NaN</td>\n      <td>NaN</td>\n      <td>NaN</td>\n      <td>NaN</td>\n      <td>NaN</td>\n      <td>NaN</td>\n    </tr>\n    <tr>\n      <th>000058a12d5b43e67d225668fa1f8d618c13dc232df0cad8ffe7ad4a1091e318</th>\n      <td>NaN</td>\n      <td>NaN</td>\n      <td>NaN</td>\n      <td>NaN</td>\n      <td>NaN</td>\n      <td>NaN</td>\n      <td>NaN</td>\n      <td>NaN</td>\n      <td>NaN</td>\n      <td>NaN</td>\n      <td>...</td>\n      <td>NaN</td>\n      <td>NaN</td>\n      <td>NaN</td>\n      <td>NaN</td>\n      <td>NaN</td>\n      <td>NaN</td>\n      <td>NaN</td>\n      <td>NaN</td>\n      <td>NaN</td>\n      <td>NaN</td>\n    </tr>\n    <tr>\n      <th>00007d2de826758b65a93dd24ce629ed66842531df6699338c5570910a014cc2</th>\n      <td>NaN</td>\n      <td>NaN</td>\n      <td>NaN</td>\n      <td>NaN</td>\n      <td>NaN</td>\n      <td>NaN</td>\n      <td>NaN</td>\n      <td>NaN</td>\n      <td>NaN</td>\n      <td>NaN</td>\n      <td>...</td>\n      <td>NaN</td>\n      <td>NaN</td>\n      <td>NaN</td>\n      <td>NaN</td>\n      <td>NaN</td>\n      <td>NaN</td>\n      <td>NaN</td>\n      <td>NaN</td>\n      <td>NaN</td>\n      <td>NaN</td>\n    </tr>\n    <tr>\n      <th>00025f8226be50dcab09402a2cacd520a99e112fe01fddd1b10ea71270547b26</th>\n      <td>NaN</td>\n      <td>NaN</td>\n      <td>NaN</td>\n      <td>NaN</td>\n      <td>NaN</td>\n      <td>NaN</td>\n      <td>NaN</td>\n      <td>NaN</td>\n      <td>NaN</td>\n      <td>NaN</td>\n      <td>...</td>\n      <td>NaN</td>\n      <td>NaN</td>\n      <td>NaN</td>\n      <td>NaN</td>\n      <td>NaN</td>\n      <td>NaN</td>\n      <td>NaN</td>\n      <td>NaN</td>\n      <td>NaN</td>\n      <td>NaN</td>\n    </tr>\n    <tr>\n      <th>0003abe64294e66a6310c3436fa9e5b754cc5603deef4f26fc8ab8d043af9358</th>\n      <td>NaN</td>\n      <td>NaN</td>\n      <td>NaN</td>\n      <td>NaN</td>\n      <td>NaN</td>\n      <td>NaN</td>\n      <td>NaN</td>\n      <td>NaN</td>\n      <td>NaN</td>\n      <td>NaN</td>\n      <td>...</td>\n      <td>NaN</td>\n      <td>NaN</td>\n      <td>NaN</td>\n      <td>NaN</td>\n      <td>NaN</td>\n      <td>NaN</td>\n      <td>NaN</td>\n      <td>NaN</td>\n      <td>NaN</td>\n      <td>NaN</td>\n    </tr>\n    <tr>\n      <th>...</th>\n      <td>...</td>\n      <td>...</td>\n      <td>...</td>\n      <td>...</td>\n      <td>...</td>\n      <td>...</td>\n      <td>...</td>\n      <td>...</td>\n      <td>...</td>\n      <td>...</td>\n      <td>...</td>\n      <td>...</td>\n      <td>...</td>\n      <td>...</td>\n      <td>...</td>\n      <td>...</td>\n      <td>...</td>\n      <td>...</td>\n      <td>...</td>\n      <td>...</td>\n      <td>...</td>\n    </tr>\n    <tr>\n      <th>fffbdd2f8e59d45c0fb50a14b0ea555f7daa5307b3f922080b09d29044988234</th>\n      <td>NaN</td>\n      <td>NaN</td>\n      <td>NaN</td>\n      <td>NaN</td>\n      <td>NaN</td>\n      <td>NaN</td>\n      <td>NaN</td>\n      <td>NaN</td>\n      <td>NaN</td>\n      <td>NaN</td>\n      <td>...</td>\n      <td>NaN</td>\n      <td>NaN</td>\n      <td>NaN</td>\n      <td>NaN</td>\n      <td>NaN</td>\n      <td>NaN</td>\n      <td>NaN</td>\n      <td>NaN</td>\n      <td>NaN</td>\n      <td>NaN</td>\n    </tr>\n    <tr>\n      <th>fffe7116f9f68e8ad287fd7b6e33aad4871d7080e77d2d5e52636ba1c27cf032</th>\n      <td>NaN</td>\n      <td>NaN</td>\n      <td>NaN</td>\n      <td>NaN</td>\n      <td>NaN</td>\n      <td>NaN</td>\n      <td>NaN</td>\n      <td>NaN</td>\n      <td>NaN</td>\n      <td>NaN</td>\n      <td>...</td>\n      <td>NaN</td>\n      <td>NaN</td>\n      <td>NaN</td>\n      <td>NaN</td>\n      <td>NaN</td>\n      <td>NaN</td>\n      <td>NaN</td>\n      <td>NaN</td>\n      <td>NaN</td>\n      <td>NaN</td>\n    </tr>\n    <tr>\n      <th>fffed13f041cc91f74dc6ec4e3267d7bb71bc833d53b7d7e970b7cd8c9bb7157</th>\n      <td>NaN</td>\n      <td>NaN</td>\n      <td>NaN</td>\n      <td>NaN</td>\n      <td>NaN</td>\n      <td>NaN</td>\n      <td>NaN</td>\n      <td>NaN</td>\n      <td>NaN</td>\n      <td>NaN</td>\n      <td>...</td>\n      <td>NaN</td>\n      <td>NaN</td>\n      <td>NaN</td>\n      <td>NaN</td>\n      <td>NaN</td>\n      <td>NaN</td>\n      <td>NaN</td>\n      <td>NaN</td>\n      <td>NaN</td>\n      <td>NaN</td>\n    </tr>\n    <tr>\n      <th>ffffcd5046a6143d29a04fb8c424ce494a76e5cdf4fab53481233731b5c4f8b7</th>\n      <td>NaN</td>\n      <td>NaN</td>\n      <td>NaN</td>\n      <td>NaN</td>\n      <td>NaN</td>\n      <td>NaN</td>\n      <td>NaN</td>\n      <td>NaN</td>\n      <td>NaN</td>\n      <td>NaN</td>\n      <td>...</td>\n      <td>NaN</td>\n      <td>NaN</td>\n      <td>NaN</td>\n      <td>NaN</td>\n      <td>NaN</td>\n      <td>NaN</td>\n      <td>NaN</td>\n      <td>NaN</td>\n      <td>NaN</td>\n      <td>NaN</td>\n    </tr>\n    <tr>\n      <th>ffffcf35913a0bee60e8741cb2b4e78b8a98ee5ff2e6a1778d0116cffd259264</th>\n      <td>NaN</td>\n      <td>NaN</td>\n      <td>NaN</td>\n      <td>NaN</td>\n      <td>NaN</td>\n      <td>NaN</td>\n      <td>NaN</td>\n      <td>NaN</td>\n      <td>NaN</td>\n      <td>NaN</td>\n      <td>...</td>\n      <td>NaN</td>\n      <td>NaN</td>\n      <td>NaN</td>\n      <td>NaN</td>\n      <td>NaN</td>\n      <td>NaN</td>\n      <td>NaN</td>\n      <td>NaN</td>\n      <td>NaN</td>\n      <td>NaN</td>\n    </tr>\n  </tbody>\n</table>\n<p>75433 rows × 22071 columns</p>\n</div>"
     },
     "execution_count": 137,
     "metadata": {},
     "output_type": "execute_result"
    }
   ],
   "source": [
    "pivot_data"
   ],
   "metadata": {
    "collapsed": false,
    "pycharm": {
     "name": "#%%)\n"
    }
   }
  },
  {
   "cell_type": "code",
   "execution_count": 138,
   "outputs": [
    {
     "ename": "KeyboardInterrupt",
     "evalue": "",
     "output_type": "error",
     "traceback": [
      "\u001B[1;31m---------------------------------------------------------------------------\u001B[0m",
      "\u001B[1;31mKeyboardInterrupt\u001B[0m                         Traceback (most recent call last)",
      "\u001B[1;32m~\\AppData\\Local\\Temp/ipykernel_23608/1624390014.py\u001B[0m in \u001B[0;36m<module>\u001B[1;34m\u001B[0m\n\u001B[1;32m----> 1\u001B[1;33m \u001B[0mpivot_data\u001B[0m\u001B[1;33m.\u001B[0m\u001B[0mfillna\u001B[0m\u001B[1;33m(\u001B[0m\u001B[1;36m0\u001B[0m\u001B[1;33m,\u001B[0m\u001B[0minplace\u001B[0m\u001B[1;33m=\u001B[0m\u001B[1;32mTrue\u001B[0m\u001B[1;33m)\u001B[0m\u001B[1;33m\u001B[0m\u001B[1;33m\u001B[0m\u001B[0m\n\u001B[0m\u001B[0;32m      2\u001B[0m \u001B[1;33m\u001B[0m\u001B[0m\n",
      "\u001B[1;32m~\\PycharmProjects\\kaggle\\venv\\lib\\site-packages\\pandas\\util\\_decorators.py\u001B[0m in \u001B[0;36mwrapper\u001B[1;34m(*args, **kwargs)\u001B[0m\n\u001B[0;32m    309\u001B[0m                     \u001B[0mstacklevel\u001B[0m\u001B[1;33m=\u001B[0m\u001B[0mstacklevel\u001B[0m\u001B[1;33m,\u001B[0m\u001B[1;33m\u001B[0m\u001B[1;33m\u001B[0m\u001B[0m\n\u001B[0;32m    310\u001B[0m                 )\n\u001B[1;32m--> 311\u001B[1;33m             \u001B[1;32mreturn\u001B[0m \u001B[0mfunc\u001B[0m\u001B[1;33m(\u001B[0m\u001B[1;33m*\u001B[0m\u001B[0margs\u001B[0m\u001B[1;33m,\u001B[0m \u001B[1;33m**\u001B[0m\u001B[0mkwargs\u001B[0m\u001B[1;33m)\u001B[0m\u001B[1;33m\u001B[0m\u001B[1;33m\u001B[0m\u001B[0m\n\u001B[0m\u001B[0;32m    312\u001B[0m \u001B[1;33m\u001B[0m\u001B[0m\n\u001B[0;32m    313\u001B[0m         \u001B[1;32mreturn\u001B[0m \u001B[0mwrapper\u001B[0m\u001B[1;33m\u001B[0m\u001B[1;33m\u001B[0m\u001B[0m\n",
      "\u001B[1;32m~\\PycharmProjects\\kaggle\\venv\\lib\\site-packages\\pandas\\core\\frame.py\u001B[0m in \u001B[0;36mfillna\u001B[1;34m(self, value, method, axis, inplace, limit, downcast)\u001B[0m\n\u001B[0;32m   5169\u001B[0m         \u001B[0mdowncast\u001B[0m\u001B[1;33m=\u001B[0m\u001B[1;32mNone\u001B[0m\u001B[1;33m,\u001B[0m\u001B[1;33m\u001B[0m\u001B[1;33m\u001B[0m\u001B[0m\n\u001B[0;32m   5170\u001B[0m     ) -> DataFrame | None:\n\u001B[1;32m-> 5171\u001B[1;33m         return super().fillna(\n\u001B[0m\u001B[0;32m   5172\u001B[0m             \u001B[0mvalue\u001B[0m\u001B[1;33m=\u001B[0m\u001B[0mvalue\u001B[0m\u001B[1;33m,\u001B[0m\u001B[1;33m\u001B[0m\u001B[1;33m\u001B[0m\u001B[0m\n\u001B[0;32m   5173\u001B[0m             \u001B[0mmethod\u001B[0m\u001B[1;33m=\u001B[0m\u001B[0mmethod\u001B[0m\u001B[1;33m,\u001B[0m\u001B[1;33m\u001B[0m\u001B[1;33m\u001B[0m\u001B[0m\n",
      "\u001B[1;32m~\\PycharmProjects\\kaggle\\venv\\lib\\site-packages\\pandas\\core\\generic.py\u001B[0m in \u001B[0;36mfillna\u001B[1;34m(self, value, method, axis, inplace, limit, downcast)\u001B[0m\n\u001B[0;32m   6371\u001B[0m \u001B[1;33m\u001B[0m\u001B[0m\n\u001B[0;32m   6372\u001B[0m             \u001B[1;32melif\u001B[0m \u001B[1;32mnot\u001B[0m \u001B[0mis_list_like\u001B[0m\u001B[1;33m(\u001B[0m\u001B[0mvalue\u001B[0m\u001B[1;33m)\u001B[0m\u001B[1;33m:\u001B[0m\u001B[1;33m\u001B[0m\u001B[1;33m\u001B[0m\u001B[0m\n\u001B[1;32m-> 6373\u001B[1;33m                 new_data = self._mgr.fillna(\n\u001B[0m\u001B[0;32m   6374\u001B[0m                     \u001B[0mvalue\u001B[0m\u001B[1;33m=\u001B[0m\u001B[0mvalue\u001B[0m\u001B[1;33m,\u001B[0m \u001B[0mlimit\u001B[0m\u001B[1;33m=\u001B[0m\u001B[0mlimit\u001B[0m\u001B[1;33m,\u001B[0m \u001B[0minplace\u001B[0m\u001B[1;33m=\u001B[0m\u001B[0minplace\u001B[0m\u001B[1;33m,\u001B[0m \u001B[0mdowncast\u001B[0m\u001B[1;33m=\u001B[0m\u001B[0mdowncast\u001B[0m\u001B[1;33m\u001B[0m\u001B[1;33m\u001B[0m\u001B[0m\n\u001B[0;32m   6375\u001B[0m                 )\n",
      "\u001B[1;32m~\\PycharmProjects\\kaggle\\venv\\lib\\site-packages\\pandas\\core\\internals\\managers.py\u001B[0m in \u001B[0;36mfillna\u001B[1;34m(self, value, limit, inplace, downcast)\u001B[0m\n\u001B[0;32m    404\u001B[0m \u001B[1;33m\u001B[0m\u001B[0m\n\u001B[0;32m    405\u001B[0m     \u001B[1;32mdef\u001B[0m \u001B[0mfillna\u001B[0m\u001B[1;33m(\u001B[0m\u001B[0mself\u001B[0m\u001B[1;33m:\u001B[0m \u001B[0mT\u001B[0m\u001B[1;33m,\u001B[0m \u001B[0mvalue\u001B[0m\u001B[1;33m,\u001B[0m \u001B[0mlimit\u001B[0m\u001B[1;33m,\u001B[0m \u001B[0minplace\u001B[0m\u001B[1;33m:\u001B[0m \u001B[0mbool\u001B[0m\u001B[1;33m,\u001B[0m \u001B[0mdowncast\u001B[0m\u001B[1;33m)\u001B[0m \u001B[1;33m->\u001B[0m \u001B[0mT\u001B[0m\u001B[1;33m:\u001B[0m\u001B[1;33m\u001B[0m\u001B[1;33m\u001B[0m\u001B[0m\n\u001B[1;32m--> 406\u001B[1;33m         return self.apply(\n\u001B[0m\u001B[0;32m    407\u001B[0m             \u001B[1;34m\"fillna\"\u001B[0m\u001B[1;33m,\u001B[0m \u001B[0mvalue\u001B[0m\u001B[1;33m=\u001B[0m\u001B[0mvalue\u001B[0m\u001B[1;33m,\u001B[0m \u001B[0mlimit\u001B[0m\u001B[1;33m=\u001B[0m\u001B[0mlimit\u001B[0m\u001B[1;33m,\u001B[0m \u001B[0minplace\u001B[0m\u001B[1;33m=\u001B[0m\u001B[0minplace\u001B[0m\u001B[1;33m,\u001B[0m \u001B[0mdowncast\u001B[0m\u001B[1;33m=\u001B[0m\u001B[0mdowncast\u001B[0m\u001B[1;33m\u001B[0m\u001B[1;33m\u001B[0m\u001B[0m\n\u001B[0;32m    408\u001B[0m         )\n",
      "\u001B[1;32m~\\PycharmProjects\\kaggle\\venv\\lib\\site-packages\\pandas\\core\\internals\\managers.py\u001B[0m in \u001B[0;36mapply\u001B[1;34m(self, f, align_keys, ignore_failures, **kwargs)\u001B[0m\n\u001B[0;32m    325\u001B[0m                     \u001B[0mapplied\u001B[0m \u001B[1;33m=\u001B[0m \u001B[0mb\u001B[0m\u001B[1;33m.\u001B[0m\u001B[0mapply\u001B[0m\u001B[1;33m(\u001B[0m\u001B[0mf\u001B[0m\u001B[1;33m,\u001B[0m \u001B[1;33m**\u001B[0m\u001B[0mkwargs\u001B[0m\u001B[1;33m)\u001B[0m\u001B[1;33m\u001B[0m\u001B[1;33m\u001B[0m\u001B[0m\n\u001B[0;32m    326\u001B[0m                 \u001B[1;32melse\u001B[0m\u001B[1;33m:\u001B[0m\u001B[1;33m\u001B[0m\u001B[1;33m\u001B[0m\u001B[0m\n\u001B[1;32m--> 327\u001B[1;33m                     \u001B[0mapplied\u001B[0m \u001B[1;33m=\u001B[0m \u001B[0mgetattr\u001B[0m\u001B[1;33m(\u001B[0m\u001B[0mb\u001B[0m\u001B[1;33m,\u001B[0m \u001B[0mf\u001B[0m\u001B[1;33m)\u001B[0m\u001B[1;33m(\u001B[0m\u001B[1;33m**\u001B[0m\u001B[0mkwargs\u001B[0m\u001B[1;33m)\u001B[0m\u001B[1;33m\u001B[0m\u001B[1;33m\u001B[0m\u001B[0m\n\u001B[0m\u001B[0;32m    328\u001B[0m             \u001B[1;32mexcept\u001B[0m \u001B[1;33m(\u001B[0m\u001B[0mTypeError\u001B[0m\u001B[1;33m,\u001B[0m \u001B[0mNotImplementedError\u001B[0m\u001B[1;33m)\u001B[0m\u001B[1;33m:\u001B[0m\u001B[1;33m\u001B[0m\u001B[1;33m\u001B[0m\u001B[0m\n\u001B[0;32m    329\u001B[0m                 \u001B[1;32mif\u001B[0m \u001B[1;32mnot\u001B[0m \u001B[0mignore_failures\u001B[0m\u001B[1;33m:\u001B[0m\u001B[1;33m\u001B[0m\u001B[1;33m\u001B[0m\u001B[0m\n",
      "\u001B[1;32m~\\PycharmProjects\\kaggle\\venv\\lib\\site-packages\\pandas\\core\\internals\\blocks.py\u001B[0m in \u001B[0;36mfillna\u001B[1;34m(self, value, limit, inplace, downcast)\u001B[0m\n\u001B[0;32m    452\u001B[0m         \u001B[1;32mif\u001B[0m \u001B[0mself\u001B[0m\u001B[1;33m.\u001B[0m\u001B[0m_can_hold_element\u001B[0m\u001B[1;33m(\u001B[0m\u001B[0mvalue\u001B[0m\u001B[1;33m)\u001B[0m\u001B[1;33m:\u001B[0m\u001B[1;33m\u001B[0m\u001B[1;33m\u001B[0m\u001B[0m\n\u001B[0;32m    453\u001B[0m             \u001B[0mnb\u001B[0m \u001B[1;33m=\u001B[0m \u001B[0mself\u001B[0m \u001B[1;32mif\u001B[0m \u001B[0minplace\u001B[0m \u001B[1;32melse\u001B[0m \u001B[0mself\u001B[0m\u001B[1;33m.\u001B[0m\u001B[0mcopy\u001B[0m\u001B[1;33m(\u001B[0m\u001B[1;33m)\u001B[0m\u001B[1;33m\u001B[0m\u001B[1;33m\u001B[0m\u001B[0m\n\u001B[1;32m--> 454\u001B[1;33m             \u001B[0mputmask_inplace\u001B[0m\u001B[1;33m(\u001B[0m\u001B[0mnb\u001B[0m\u001B[1;33m.\u001B[0m\u001B[0mvalues\u001B[0m\u001B[1;33m,\u001B[0m \u001B[0mmask\u001B[0m\u001B[1;33m,\u001B[0m \u001B[0mvalue\u001B[0m\u001B[1;33m)\u001B[0m\u001B[1;33m\u001B[0m\u001B[1;33m\u001B[0m\u001B[0m\n\u001B[0m\u001B[0;32m    455\u001B[0m             \u001B[1;32mreturn\u001B[0m \u001B[0mnb\u001B[0m\u001B[1;33m.\u001B[0m\u001B[0m_maybe_downcast\u001B[0m\u001B[1;33m(\u001B[0m\u001B[1;33m[\u001B[0m\u001B[0mnb\u001B[0m\u001B[1;33m]\u001B[0m\u001B[1;33m,\u001B[0m \u001B[0mdowncast\u001B[0m\u001B[1;33m)\u001B[0m\u001B[1;33m\u001B[0m\u001B[1;33m\u001B[0m\u001B[0m\n\u001B[0;32m    456\u001B[0m \u001B[1;33m\u001B[0m\u001B[0m\n",
      "\u001B[1;32m~\\PycharmProjects\\kaggle\\venv\\lib\\site-packages\\pandas\\core\\array_algos\\putmask.py\u001B[0m in \u001B[0;36mputmask_inplace\u001B[1;34m(values, mask, value)\u001B[0m\n\u001B[0;32m     52\u001B[0m     \u001B[1;32melse\u001B[0m\u001B[1;33m:\u001B[0m\u001B[1;33m\u001B[0m\u001B[1;33m\u001B[0m\u001B[0m\n\u001B[0;32m     53\u001B[0m         \u001B[1;31m# GH#37833 np.putmask is more performant than __setitem__\u001B[0m\u001B[1;33m\u001B[0m\u001B[1;33m\u001B[0m\u001B[1;33m\u001B[0m\u001B[0m\n\u001B[1;32m---> 54\u001B[1;33m         \u001B[0mnp\u001B[0m\u001B[1;33m.\u001B[0m\u001B[0mputmask\u001B[0m\u001B[1;33m(\u001B[0m\u001B[0mvalues\u001B[0m\u001B[1;33m,\u001B[0m \u001B[0mmask\u001B[0m\u001B[1;33m,\u001B[0m \u001B[0mvalue\u001B[0m\u001B[1;33m)\u001B[0m\u001B[1;33m\u001B[0m\u001B[1;33m\u001B[0m\u001B[0m\n\u001B[0m\u001B[0;32m     55\u001B[0m \u001B[1;33m\u001B[0m\u001B[0m\n\u001B[0;32m     56\u001B[0m \u001B[1;33m\u001B[0m\u001B[0m\n",
      "\u001B[1;32m<__array_function__ internals>\u001B[0m in \u001B[0;36mputmask\u001B[1;34m(*args, **kwargs)\u001B[0m\n",
      "\u001B[1;31mKeyboardInterrupt\u001B[0m: "
     ]
    }
   ],
   "source": [
    "pivot_data.fillna(0,inplace=True)"
   ],
   "metadata": {
    "collapsed": false,
    "pycharm": {
     "name": "#%%\n"
    }
   }
  },
  {
   "cell_type": "code",
   "execution_count": null,
   "outputs": [],
   "source": [
    "import time\n",
    "import numpy as np\n",
    "import pandas as pd\n",
    "import multiprocessing as mp\n",
    "from multiprocessing import Pool\n",
    "from functools import partial"
   ],
   "metadata": {
    "collapsed": false,
    "pycharm": {
     "name": "#%%\n"
    }
   }
  },
  {
   "cell_type": "code",
   "execution_count": null,
   "outputs": [],
   "source": [
    "\n",
    "dfu = dataloader.load('dfu')"
   ],
   "metadata": {
    "collapsed": false,
    "pycharm": {
     "name": "#%%\n"
    }
   }
  },
  {
   "cell_type": "code",
   "execution_count": null,
   "outputs": [],
   "source": [
    "dfi = dataloader.load('dfi')"
   ],
   "metadata": {
    "collapsed": false,
    "pycharm": {
     "name": "#%%\n"
    }
   }
  },
  {
   "cell_type": "code",
   "execution_count": null,
   "outputs": [],
   "source": [
    "ALL_USERS = dfu['customer_id'].unique().tolist()"
   ],
   "metadata": {
    "collapsed": false,
    "pycharm": {
     "name": "#%%\n"
    }
   }
  },
  {
   "cell_type": "code",
   "execution_count": null,
   "outputs": [],
   "source": [
    "ALL_ITEMS = dfi['article_id'].unique().tolist()"
   ],
   "metadata": {
    "collapsed": false,
    "pycharm": {
     "name": "#%%\n"
    }
   }
  },
  {
   "cell_type": "code",
   "execution_count": null,
   "outputs": [],
   "source": [
    "user_to_customer_map = {user_id: customer_id for user_id, customer_id in enumerate(ALL_USERS)}"
   ],
   "metadata": {
    "collapsed": false,
    "pycharm": {
     "name": "#%%\n"
    }
   }
  },
  {
   "cell_type": "code",
   "execution_count": null,
   "outputs": [],
   "source": [
    "customer_to_user_map = {customer_id : user_id for user_id , customer_id in enumerate(ALL_USERS)}"
   ],
   "metadata": {
    "collapsed": false,
    "pycharm": {
     "name": "#%%\n"
    }
   }
  },
  {
   "cell_type": "code",
   "execution_count": null,
   "outputs": [],
   "source": [
    "item_to_article_map = {item_id : article_id for item_id , article_id in enumerate(ALL_ITEMS)}"
   ],
   "metadata": {
    "collapsed": false,
    "pycharm": {
     "name": "#%%\n"
    }
   }
  },
  {
   "cell_type": "code",
   "execution_count": null,
   "outputs": [],
   "source": [
    "article_to_item_map = {article_id : item_id for item_id, article_id in enumerate(ALL_ITEMS)}\n",
    "\n"
   ],
   "metadata": {
    "collapsed": false,
    "pycharm": {
     "name": "#%%\n"
    }
   }
  },
  {
   "cell_type": "code",
   "execution_count": null,
   "outputs": [],
   "source": [
    "del dfu , dfi\n"
   ],
   "metadata": {
    "collapsed": false,
    "pycharm": {
     "name": "#%%\n"
    }
   }
  },
  {
   "cell_type": "code",
   "execution_count": 2,
   "outputs": [
    {
     "ename": "NameError",
     "evalue": "name 'train' is not defined",
     "output_type": "error",
     "traceback": [
      "\u001B[1;31m---------------------------------------------------------------------------\u001B[0m",
      "\u001B[1;31mNameError\u001B[0m                                 Traceback (most recent call last)",
      "\u001B[1;32m~\\AppData\\Local\\Temp/ipykernel_23344/2781259241.py\u001B[0m in \u001B[0;36m<module>\u001B[1;34m\u001B[0m\n\u001B[1;32m----> 1\u001B[1;33m \u001B[0mdf\u001B[0m \u001B[1;33m=\u001B[0m \u001B[0mtrain\u001B[0m\u001B[1;33m.\u001B[0m\u001B[0mcopy\u001B[0m\u001B[1;33m(\u001B[0m\u001B[1;33m)\u001B[0m\u001B[1;33m\u001B[0m\u001B[1;33m\u001B[0m\u001B[0m\n\u001B[0m\u001B[0;32m      2\u001B[0m \u001B[1;33m\u001B[0m\u001B[0m\n",
      "\u001B[1;31mNameError\u001B[0m: name 'train' is not defined"
     ]
    }
   ],
   "source": [
    "df = train.copy()"
   ],
   "metadata": {
    "collapsed": false,
    "pycharm": {
     "name": "#%%\n"
    }
   }
  },
  {
   "cell_type": "code",
   "execution_count": null,
   "outputs": [],
   "source": [
    "df['user_id'] = df['customer_id'].map(customer_to_user_map)"
   ],
   "metadata": {
    "collapsed": false,
    "pycharm": {
     "name": "#%%\n"
    }
   }
  },
  {
   "cell_type": "code",
   "execution_count": 68,
   "outputs": [],
   "source": [
    "\n",
    "\n",
    "\n",
    "import src.data\n",
    "import importlib"
   ],
   "metadata": {
    "collapsed": false,
    "pycharm": {
     "name": "#%%\n"
    }
   }
  },
  {
   "cell_type": "code",
   "execution_count": 139,
   "outputs": [
    {
     "data": {
      "text/plain": "<module 'src.data' from 'C:\\\\Users\\\\DATA\\\\PycharmProjects\\\\kaggle\\\\H&MRecommendation\\\\src\\\\data.py'>"
     },
     "execution_count": 139,
     "metadata": {},
     "output_type": "execute_result"
    }
   ],
   "source": [
    "importlib.reload(src.data)"
   ],
   "metadata": {
    "collapsed": false,
    "pycharm": {
     "name": "#%%\n"
    }
   }
  },
  {
   "cell_type": "code",
   "execution_count": 140,
   "outputs": [],
   "source": [
    "dataloader = src.data.DataLoader()"
   ],
   "metadata": {
    "collapsed": false,
    "pycharm": {
     "name": "#%%\n"
    }
   }
  },
  {
   "cell_type": "code",
   "execution_count": 140,
   "outputs": [],
   "source": [],
   "metadata": {
    "collapsed": false,
    "pycharm": {
     "name": "#%%\n"
    }
   }
  },
  {
   "cell_type": "code",
   "execution_count": 141,
   "outputs": [
    {
     "name": "stdout",
     "output_type": "stream",
     "text": [
      "in\n"
     ]
    }
   ],
   "source": [
    "df = dataloader.load('train',test_config=True)"
   ],
   "metadata": {
    "collapsed": false,
    "pycharm": {
     "name": "#%%\n"
    }
   }
  },
  {
   "cell_type": "code",
   "execution_count": 142,
   "outputs": [
    {
     "name": "stdout",
     "output_type": "stream",
     "text": [
      "in\n"
     ]
    }
   ],
   "source": [
    "df = dataloader.load('train',True)"
   ],
   "metadata": {
    "collapsed": false,
    "pycharm": {
     "name": "#%%\n"
    }
   }
  },
  {
   "cell_type": "code",
   "execution_count": 143,
   "outputs": [
    {
     "data": {
      "text/plain": "            t_dat                                        customer_id  \\\n0      2018-09-20  000058a12d5b43e67d225668fa1f8d618c13dc232df0ca...   \n1      2018-09-20  000058a12d5b43e67d225668fa1f8d618c13dc232df0ca...   \n2      2018-09-20  00007d2de826758b65a93dd24ce629ed66842531df6699...   \n3      2018-09-20  00007d2de826758b65a93dd24ce629ed66842531df6699...   \n4      2018-09-20  00007d2de826758b65a93dd24ce629ed66842531df6699...   \n...           ...                                                ...   \n299995 2018-09-26  eba6633f08ed7939e039e2e4373428c1d037a66bae41d3...   \n299996 2018-09-26  eba6633f08ed7939e039e2e4373428c1d037a66bae41d3...   \n299997 2018-09-26  eba6633f08ed7939e039e2e4373428c1d037a66bae41d3...   \n299998 2018-09-26  eba6633f08ed7939e039e2e4373428c1d037a66bae41d3...   \n299999 2018-09-26  ebac71216b3f6affa29a6225cdbabe4eb93be0da9084b1...   \n\n        article_id     price  sales_channel_id  \n0       0663713001  0.050831                 2  \n1       0541518023  0.030492                 2  \n2       0505221004  0.015237                 2  \n3       0685687003  0.016932                 2  \n4       0685687004  0.016932                 2  \n...            ...       ...               ...  \n299995  0591334001  0.016932                 2  \n299996  0591334001  0.016932                 2  \n299997  0662857002  0.042356                 2  \n299998  0662857002  0.042356                 2  \n299999  0682267002  0.050831                 2  \n\n[300000 rows x 5 columns]",
      "text/html": "<div>\n<style scoped>\n    .dataframe tbody tr th:only-of-type {\n        vertical-align: middle;\n    }\n\n    .dataframe tbody tr th {\n        vertical-align: top;\n    }\n\n    .dataframe thead th {\n        text-align: right;\n    }\n</style>\n<table border=\"1\" class=\"dataframe\">\n  <thead>\n    <tr style=\"text-align: right;\">\n      <th></th>\n      <th>t_dat</th>\n      <th>customer_id</th>\n      <th>article_id</th>\n      <th>price</th>\n      <th>sales_channel_id</th>\n    </tr>\n  </thead>\n  <tbody>\n    <tr>\n      <th>0</th>\n      <td>2018-09-20</td>\n      <td>000058a12d5b43e67d225668fa1f8d618c13dc232df0ca...</td>\n      <td>0663713001</td>\n      <td>0.050831</td>\n      <td>2</td>\n    </tr>\n    <tr>\n      <th>1</th>\n      <td>2018-09-20</td>\n      <td>000058a12d5b43e67d225668fa1f8d618c13dc232df0ca...</td>\n      <td>0541518023</td>\n      <td>0.030492</td>\n      <td>2</td>\n    </tr>\n    <tr>\n      <th>2</th>\n      <td>2018-09-20</td>\n      <td>00007d2de826758b65a93dd24ce629ed66842531df6699...</td>\n      <td>0505221004</td>\n      <td>0.015237</td>\n      <td>2</td>\n    </tr>\n    <tr>\n      <th>3</th>\n      <td>2018-09-20</td>\n      <td>00007d2de826758b65a93dd24ce629ed66842531df6699...</td>\n      <td>0685687003</td>\n      <td>0.016932</td>\n      <td>2</td>\n    </tr>\n    <tr>\n      <th>4</th>\n      <td>2018-09-20</td>\n      <td>00007d2de826758b65a93dd24ce629ed66842531df6699...</td>\n      <td>0685687004</td>\n      <td>0.016932</td>\n      <td>2</td>\n    </tr>\n    <tr>\n      <th>...</th>\n      <td>...</td>\n      <td>...</td>\n      <td>...</td>\n      <td>...</td>\n      <td>...</td>\n    </tr>\n    <tr>\n      <th>299995</th>\n      <td>2018-09-26</td>\n      <td>eba6633f08ed7939e039e2e4373428c1d037a66bae41d3...</td>\n      <td>0591334001</td>\n      <td>0.016932</td>\n      <td>2</td>\n    </tr>\n    <tr>\n      <th>299996</th>\n      <td>2018-09-26</td>\n      <td>eba6633f08ed7939e039e2e4373428c1d037a66bae41d3...</td>\n      <td>0591334001</td>\n      <td>0.016932</td>\n      <td>2</td>\n    </tr>\n    <tr>\n      <th>299997</th>\n      <td>2018-09-26</td>\n      <td>eba6633f08ed7939e039e2e4373428c1d037a66bae41d3...</td>\n      <td>0662857002</td>\n      <td>0.042356</td>\n      <td>2</td>\n    </tr>\n    <tr>\n      <th>299998</th>\n      <td>2018-09-26</td>\n      <td>eba6633f08ed7939e039e2e4373428c1d037a66bae41d3...</td>\n      <td>0662857002</td>\n      <td>0.042356</td>\n      <td>2</td>\n    </tr>\n    <tr>\n      <th>299999</th>\n      <td>2018-09-26</td>\n      <td>ebac71216b3f6affa29a6225cdbabe4eb93be0da9084b1...</td>\n      <td>0682267002</td>\n      <td>0.050831</td>\n      <td>2</td>\n    </tr>\n  </tbody>\n</table>\n<p>300000 rows × 5 columns</p>\n</div>"
     },
     "execution_count": 143,
     "metadata": {},
     "output_type": "execute_result"
    }
   ],
   "source": [
    "df"
   ],
   "metadata": {
    "collapsed": false,
    "pycharm": {
     "name": "#%%\n"
    }
   }
  },
  {
   "cell_type": "code",
   "execution_count": 144,
   "outputs": [],
   "source": [
    "# groupby 후 column 에 apply 함수적용\n",
    "dfh = df.groupby('customer_id')['article_id'].apply(lambda item : list(set(item)))"
   ],
   "metadata": {
    "collapsed": false,
    "pycharm": {
     "name": "#%%\n"
    }
   }
  },
  {
   "cell_type": "code",
   "execution_count": 146,
   "outputs": [
    {
     "data": {
      "text/plain": "customer_id\n0000423b00ade91418cceaf3b26c6af3dd342b51fd051eec9c12fb36984420fa    [0639677008, 0666448006, 0521269001, 064024400...\n000058a12d5b43e67d225668fa1f8d618c13dc232df0cad8ffe7ad4a1091e318                             [0541518023, 0663713001]\n00007d2de826758b65a93dd24ce629ed66842531df6699338c5570910a014cc2    [0522992001, 0508184022, 0567618001, 068568700...\n00025f8226be50dcab09402a2cacd520a99e112fe01fddd1b10ea71270547b26                             [0703199002, 0664180001]\n0003abe64294e66a6310c3436fa9e5b754cc5603deef4f26fc8ab8d043af9358     [0501820008, 0591334019, 0640174004, 0543054005]\n                                                                                          ...                        \nfffbdd2f8e59d45c0fb50a14b0ea555f7daa5307b3f922080b09d29044988234                             [0501820001, 0614010001]\nfffe7116f9f68e8ad287fd7b6e33aad4871d7080e77d2d5e52636ba1c27cf032                 [0548467001, 0496111013, 0580770002]\nfffed13f041cc91f74dc6ec4e3267d7bb71bc833d53b7d7e970b7cd8c9bb7157                                         [0661435002]\nffffcd5046a6143d29a04fb8c424ce494a76e5cdf4fab53481233731b5c4f8b7                                         [0671695001]\nffffcf35913a0bee60e8741cb2b4e78b8a98ee5ff2e6a1778d0116cffd259264                                         [0568597019]\nName: article_id, Length: 75433, dtype: object"
     },
     "execution_count": 146,
     "metadata": {},
     "output_type": "execute_result"
    }
   ],
   "source": [
    "\n",
    "dfh"
   ],
   "metadata": {
    "collapsed": false,
    "pycharm": {
     "name": "#%%\n"
    }
   }
  },
  {
   "cell_type": "code",
   "execution_count": 147,
   "outputs": [],
   "source": [
    "from prefixspan import PrefixSpan"
   ],
   "metadata": {
    "collapsed": false,
    "pycharm": {
     "name": "#%%\n"
    }
   }
  },
  {
   "cell_type": "code",
   "execution_count": 148,
   "outputs": [],
   "source": [
    "ps =  PrefixSpan(dfh.values)"
   ],
   "metadata": {
    "collapsed": false,
    "pycharm": {
     "name": "#%%\n"
    }
   }
  },
  {
   "cell_type": "code",
   "execution_count": 149,
   "outputs": [
    {
     "data": {
      "text/plain": "[(10, ['0639677008']),\n (99, ['0666448006']),\n (2, ['0666448006', '0574064001']),\n (4, ['0666448006', '0688873001']),\n (2, ['0666448006', '0579541027']),\n (2, ['0666448006', '0591334014']),\n (4, ['0666448006', '0666448005']),\n (10, ['0666448006', '0666448001']),\n (2, ['0666448006', '0496111018']),\n (2, ['0666448006', '0685687003']),\n (2, ['0666448006', '0562245018']),\n (2, ['0666448006', '0591334016']),\n (2, ['0666448006', '0514134001']),\n (2, ['0666448006', '0514134001', '0688873001']),\n (3, ['0666448006', '0637549004']),\n (2, ['0666448006', '0660599001']),\n (2, ['0666448006', '0539723006']),\n (3, ['0666448006', '0662980001']),\n (4, ['0666448006', '0501820003']),\n (3, ['0666448006', '0637549012']),\n (2, ['0666448006', '0663396002']),\n (2, ['0666448006', '0637549003']),\n (2, ['0666448006', '0591334020']),\n (2, ['0666448006', '0574109015']),\n (2, ['0666448006', '0501820045']),\n (3, ['0666448006', '0501820008']),\n (2, ['0666448006', '0685687002']),\n (2, ['0666448006', '0591334003']),\n (115, ['0521269001']),\n (2, ['0521269001', '0640244003']),\n (2, ['0521269001', '0583558001']),\n (2, ['0521269001', '0592180003']),\n (3, ['0521269001', '0589222001']),\n (6, ['0521269001', '0663515004']),\n (2, ['0521269001', '0591334003']),\n (14, ['0521269001', '0521269002']),\n (2, ['0521269001', '0691764006']),\n (5, ['0521269001', '0637673005']),\n (2, ['0521269001', '0637673005', '0637492001']),\n (3, ['0521269001', '0685687002']),\n (2, ['0521269001', '0685687002', '0685687001']),\n (2, ['0521269001', '0637492001']),\n (2, ['0521269001', '0635957003']),\n (3, ['0521269001', '0685687001']),\n (3, ['0521269001', '0685687003']),\n (2, ['0521269001', '0705094001']),\n (4, ['0521269001', '0501820042']),\n (2, ['0521269001', '0637549013']),\n (2, ['0521269001', '0661435001']),\n (4, ['0521269001', '0502186011']),\n (2, ['0521269001', '0501820007']),\n (2, ['0521269001', '0610274009']),\n (3, ['0521269001', '0555364007']),\n (2, ['0521269001', '0501286001']),\n (2, ['0521269001', '0667378001']),\n (2, ['0521269001', '0683662006']),\n (2, ['0521269001', '0647334001']),\n (2, ['0521269001', '0661162003']),\n (2, ['0521269001', '0667379003']),\n (2, ['0521269001', '0621846006']),\n (2, ['0521269001', '0562820001']),\n (2, ['0521269001', '0635084002']),\n (2, ['0521269001', '0189634001']),\n (2, ['0521269001', '0552473037']),\n (2, ['0521269001', '0573716040']),\n (2, ['0521269001', '0605939004']),\n (3, ['0521269001', '0685687004']),\n (2, ['0521269001', '0661162002']),\n (2, ['0521269001', '0399223001']),\n (2, ['0521269001', '0524825013']),\n (3, ['0521269001', '0645065001']),\n (2, ['0521269001', '0573085020']),\n (2, ['0521269001', '0676198001']),\n (2, ['0521269001', '0680374003']),\n (127, ['0640244003']),\n (2, ['0640244003', '0583558001']),\n (2, ['0640244003', '0657476002']),\n (3, ['0640244003', '0573085020']),\n (2, ['0640244003', '0683662006']),\n (2, ['0640244003', '0512251003']),\n (7, ['0640244003', '0524061003']),\n (2, ['0640244003', '0651273001']),\n (5, ['0640244003', '0640244002']),\n (2, ['0640244003', '0688873017']),\n (5, ['0640244003', '0685687002']),\n (2, ['0640244003', '0662888003']),\n (6, ['0640244003', '0685687004']),\n (3, ['0640244003', '0589924005']),\n (3, ['0640244003', '0589222001']),\n (2, ['0640244003', '0589222001', '0524061003']),\n (4, ['0640244003', '0623434007']),\n (3, ['0640244003', '0623434007', '0623434011']),\n (2, ['0640244003', '0683662002']),\n (2, ['0640244003', '0685687001']),\n (4, ['0640244003', '0685687003']),\n (2, ['0640244003', '0685687003', '0685687004']),\n (5, ['0640244003', '0623434011']),\n (4, ['0640244003', '0671505002']),\n (3, ['0640244003', '0585482001']),\n (2, ['0640244003', '0574109015']),\n (2, ['0640244003', '0521269002']),\n (2, ['0640244003', '0554450019']),\n (4, ['0640244003', '0662868001']),\n (2, ['0640244003', '0650677004']),\n (2, ['0640244003', '0635084002']),\n (2, ['0640244003', '0625342002']),\n (2, ['0640244003', '0665477003']),\n (2, ['0640244003', '0538699001']),\n (2, ['0640244003', '0660599001']),\n (2, ['0640244003', '0671022001']),\n (2, ['0640244003', '0671022001', '0594834010']),\n (2, ['0640244003', '0594834010']),\n (49, ['0583558001']),\n (2, ['0583558001', '0583533002']),\n (2, ['0583558001', '0652742001']),\n (2, ['0583558001', '0663515004']),\n (2, ['0583558001', '0558986001']),\n (2, ['0583558001', '0683662006']),\n (30, ['0541518023']),\n (2, ['0541518023', '0560389013']),\n (2, ['0541518023', '0639656001']),\n (43, ['0663713001']),\n (2, ['0663713001', '0658850002']),\n (2, ['0663713001', '0658850002', '0650274001']),\n (2, ['0663713001', '0650274001']),\n (2, ['0663713001', '0487722001']),\n (2, ['0663713001', '0111565001']),\n (2, ['0663713001', '0471077001']),\n (10, ['0522992001']),\n (2, ['0522992001', '0585985003']),\n (2, ['0522992001', '0585985003', '0594430008']),\n (2, ['0522992001', '0594430008']),\n (29, ['0508184022']),\n (2, ['0508184022', '0685687003']),\n (2, ['0508184022', '0685687003', '0685687004']),\n (2, ['0508184022', '0605106001']),\n (4, ['0508184022', '0685687004']),\n (2, ['0508184022', '0685687001']),\n (2, ['0508184022', '0547747001']),\n (2, ['0508184022', '0582257001']),\n (2, ['0508184022', '0536139013']),\n (2, ['0508184022', '0617646002']),\n (2, ['0508184022', '0384654004']),\n (36, ['0567618001']),\n (2, ['0567618001', '0605777008']),\n (2, ['0567618001', '0562245018']),\n (2, ['0567618001', '0571487001']),\n (2, ['0567618001', '0571487001', '0341782022']),\n (2, ['0567618001', '0571487001', '0341782022', '0569996006']),\n (2, ['0567618001', '0571487001', '0569996006']),\n (2, ['0567618001', '0341782022']),\n (2, ['0567618001', '0341782022', '0569996006']),\n (2, ['0567618001', '0569996006']),\n (2, ['0567618001', '0548926001']),\n (2, ['0567618001', '0611062002']),\n (1089, ['0685687003']),\n (5, ['0685687003', '0605106001']),\n (2, ['0685687003', '0605106001', '0685687001']),\n (160, ['0685687003', '0685687004']),\n (20, ['0685687003', '0685687004', '0685687001']),\n (2, ['0685687003', '0685687004', '0683662002']),\n (2, ['0685687003', '0685687004', '0644379002']),\n (3, ['0685687003', '0685687004', '0683662006']),\n (2, ['0685687003', '0685687004', '0705094002']),\n (2, ['0685687003', '0685687004', '0684588006']),\n (2, ['0685687003', '0685687004', '0623434011']),\n (2, ['0685687003', '0685687004', '0665975002']),\n (2, ['0685687003', '0685687004', '0667379003']),\n (2, ['0685687003', '0685687004', '0662935002']),\n (2, ['0685687003', '0685687004', '0591334003']),\n (2, ['0685687003', '0685687004', '0611062002']),\n (2, ['0685687003', '0685687004', '0611062002', '0685687001']),\n (3, ['0685687003', '0685687004', '0568864003']),\n (2, ['0685687003', '0685687004', '0679655001']),\n (2, ['0685687003', '0685687004', '0673638003']),\n (2, ['0685687003', '0685687004', '0501820003']),\n (189, ['0685687003', '0685687001']),\n (11, ['0685687003', '0685687001', '0685687004']),\n (3, ['0685687003', '0685687001', '0685687002']),\n (2, ['0685687003', '0685687001', '0599502009']),\n (2, ['0685687003', '0685687001', '0679494004']),\n (2, ['0685687003', '0685687001', '0562245058']),\n (2, ['0685687003', '0685687001', '0636455009']),\n (2, ['0685687003', '0685687001', '0573085004']),\n (2, ['0685687003', '0685687001', '0640677004']),\n (3, ['0685687003', '0685687001', '0512251003']),\n (3, ['0685687003', '0685687001', '0591334003']),\n (2, ['0685687003', '0685687001', '0695601001']),\n (2, ['0685687003', '0685687001', '0448509017']),\n (3, ['0685687003', '0685687001', '0680912009']),\n (3, ['0685687003', '0685687001', '0524825013']),\n (2, ['0685687003', '0685687001', '0653733001']),\n (2, ['0685687003', '0685687001', '0662728004']),\n (2, ['0685687003', '0685687001', '0573716002']),\n (2, ['0685687003', '0685687001', '0552475017']),\n (2, ['0685687003', '0505221004']),\n (115, ['0685687003', '0685687002']),\n (2, ['0685687003', '0685687002', '0676198001']),\n (16, ['0685687003', '0685687002', '0685687004']),\n (3, ['0685687003', '0685687002', '0685687004', '0685687001']),\n (2, ['0685687003', '0685687002', '0672890001']),\n (2, ['0685687003', '0685687002', '0705094002']),\n (2, ['0685687003', '0685687002', '0537346013']),\n (23, ['0685687003', '0685687002', '0685687001']),\n (2, ['0685687003', '0685687002', '0547747001']),\n (2, ['0685687003', '0685687002', '0690478001']),\n (2, ['0685687003', '0685687002', '0562245018']),\n (2, ['0685687003', '0685687002', '0650193004']),\n (3, ['0685687003', '0685687002', '0639976002']),\n (2, ['0685687003', '0685687002', '0574109015']),\n (2, ['0685687003', '0685687002', '0703795001']),\n (2, ['0685687003', '0685687002', '0554450019']),\n (2, ['0685687003', '0685687002', '0524825013']),\n (2, ['0685687003', '0685687002', '0532578020']),\n (2, ['0685687003', '0685687002', '0663515004']),\n (2, ['0685687003', '0685687002', '0591334003']),\n (2, ['0685687003', '0685687002', '0637549011']),\n (6, ['0685687003', '0655259002']),\n (5, ['0685687003', '0676198001']),\n (2, ['0685687003', '0573085027']),\n (2, ['0685687003', '0573085027', '0685687001']),\n (7, ['0685687003', '0589222001']),\n (11, ['0685687003', '0610776002']),\n (2, ['0685687003', '0610776002', '0578487011']),\n (4, ['0685687003', '0660599001']),\n (2, ['0685687003', '0554598011']),\n (4, ['0685687003', '0639192009']),\n (4, ['0685687003', '0615021023']),\n (13, ['0685687003', '0573085020']),\n (3, ['0685687003', '0501820001']),\n (2, ['0685687003', '0501820001', '0685687001']),\n (3, ['0685687003', '0501820043']),\n (2, ['0685687003', '0662857001']),\n (3, ['0685687003', '0647804001']),\n (12, ['0685687003', '0690478001']),\n (2, ['0685687003', '0690478001', '0685687004']),\n (2, ['0685687003', '0690478001', '0685687001']),\n (2, ['0685687003', '0591333005']),\n (6, ['0685687003', '0657497007']),\n (2, ['0685687003', '0512699001']),\n (2, ['0685687003', '0672890001']),\n (4, ['0685687003', '0668767002']),\n (4, ['0685687003', '0665975002']),\n (7, ['0685687003', '0705094002']),\n (3, ['0685687003', '0502186011']),\n (5, ['0685687003', '0399136004']),\n (9, ['0685687003', '0537346013']),\n (6, ['0685687003', '0501820004']),\n (4, ['0685687003', '0628930001']),\n (3, ['0685687003', '0623434007']),\n (2, ['0685687003', '0623434007', '0623434011']),\n (2, ['0685687003', '0665725001']),\n (3, ['0685687003', '0623434011']),\n (6, ['0685687003', '0661435002']),\n (2, ['0685687003', '0536139028']),\n (5, ['0685687003', '0647334001']),\n (2, ['0685687003', '0496111004']),\n (2, ['0685687003', '0647389001']),\n (12, ['0685687003', '0574109015']),\n (2, ['0685687003', '0574109015', '0685687001']),\n (2, ['0685687003', '0665477001']),\n (5, ['0685687003', '0633130002']),\n (3, ['0685687003', '0688873001']),\n (2, ['0685687003', '0661435001']),\n (6, ['0685687003', '0644379002']),\n (4, ['0685687003', '0648868001']),\n (2, ['0685687003', '0648868001', '0685687001']),\n (2, ['0685687003', '0663396001']),\n (2, ['0685687003', '0627143001']),\n (2, ['0685687003', '0578474001']),\n (3, ['0685687003', '0568597009']),\n (2, ['0685687003', '0637255009']),\n (3, ['0685687003', '0581777008']),\n (3, ['0685687003', '0680374001']),\n (2, ['0685687003', '0680374001', '0685687001']),\n (4, ['0685687003', '0680912005']),\n (3, ['0685687003', '0625939012']),\n (2, ['0685687003', '0662084001']),\n (2, ['0685687003', '0662084001', '0667491002']),\n (2, ['0685687003', '0683662008']),\n (2, ['0685687003', '0506110001']),\n (2, ['0685687003', '0189616006']),\n (8, ['0685687003', '0548467001']),\n (3, ['0685687003', '0667491002']),\n (2, ['0685687003', '0639192006']),\n (7, ['0685687003', '0671505004']),\n (2, ['0685687003', '0568013001']),\n (3, ['0685687003', '0597918001']),\n (2, ['0685687003', '0552471029']),\n (2, ['0685687003', '0618387002']),\n (3, ['0685687003', '0660308003']),\n (2, ['0685687003', '0548388015']),\n (2, ['0685687003', '0600197002']),\n (6, ['0685687003', '0547747001']),\n (2, ['0685687003', '0547747001', '0685687001']),\n (2, ['0685687003', '0496111017']),\n (7, ['0685687003', '0645065001']),\n (5, ['0685687003', '0678552001']),\n (2, ['0685687003', '0552473001']),\n (2, ['0685687003', '0605093001']),\n (6, ['0685687003', '0684080003']),\n (2, ['0685687003', '0665725003']),\n (2, ['0685687003', '0665725003', '0665725002']),\n (2, ['0685687003', '0665725003', '0665725002', '0685687004']),\n (2, ['0685687003', '0665725003', '0685687004']),\n (2, ['0685687003', '0665725002']),\n (2, ['0685687003', '0665725002', '0685687004']),\n (3, ['0685687003', '0664133003']),\n (2, ['0685687003', '0664133003', '0685687004']),\n (3, ['0685687003', '0622962001']),\n (6, ['0685687003', '0532578010']),\n (2, ['0685687003', '0532578010', '0685687004']),\n (2, ['0685687003', '0532578010', '0532578001']),\n (3, ['0685687003', '0539723005']),\n (2, ['0685687003', '0687934002']),\n (6, ['0685687003', '0637549003']),\n (6, ['0685687003', '0705094001']),\n (7, ['0685687003', '0573085010']),\n (4, ['0685687003', '0573085010', '0685687001']),\n (2, ['0685687003', '0573085010', '0685687004']),\n (7, ['0685687003', '0599502009']),\n (2, ['0685687003', '0713756001']),\n (2, ['0685687003', '0673396002']),\n (2, ['0685687003', '0673396002', '0641741002']),\n (2, ['0685687003', '0658298001']),\n (3, ['0685687003', '0671022001']),\n (4, ['0685687003', '0641741002']),\n (9, ['0685687003', '0524825013']),\n (3, ['0685687003', '0504154016']),\n (2, ['0685687003', '0705143001']),\n (4, ['0685687003', '0679494004']),\n (2, ['0685687003', '0679494004', '0685687004']),\n (3, ['0685687003', '0609719001']),\n (3, ['0685687003', '0351484002']),\n (5, ['0685687003', '0507909001']),\n (2, ['0685687003', '0507909001', '0693956003']),\n (5, ['0685687003', '0688873017']),\n (2, ['0685687003', '0693956003']),\n (5, ['0685687003', '0680782001']),\n (2, ['0685687003', '0680782001', '0685687001']),\n (5, ['0685687003', '0705094003']),\n (5, ['0685687003', '0685284003']),\n (5, ['0685687003', '0399201024']),\n (2, ['0685687003', '0399201024', '0685687004']),\n (4, ['0685687003', '0637549010']),\n (5, ['0685687003', '0585788001']),\n (13, ['0685687003', '0662868001']),\n (5, ['0685687003', '0613246002']),\n (4, ['0685687003', '0661162002']),\n (2, ['0685687003', '0541518023']),\n (7, ['0685687003', '0501820003']),\n (2, ['0685687003', '0679986001']),\n (12, ['0685687003', '0562245018']),\n (8, ['0685687003', '0589924005']),\n (6, ['0685687003', '0639677001']),\n (2, ['0685687003', '0639677001', '0524825013']),\n (2, ['0685687003', '0612935007']),\n (2, ['0685687003', '0636093001']),\n (2, ['0685687003', '0691839001']),\n (2, ['0685687003', '0651330003']),\n (11, ['0685687003', '0662935002']),\n (2, ['0685687003', '0568137002']),\n (5, ['0685687003', '0637515005']),\n (4, ['0685687003', '0637515005', '0685687001']),\n (3, ['0685687003', '0529953001']),\n (2, ['0685687003', '0653248003']),\n (3, ['0685687003', '0650193004']),\n (2, ['0685687003', '0562245058']),\n (5, ['0685687003', '0644073002']),\n (2, ['0685687003', '0644073002', '0685687004']),\n (3, ['0685687003', '0633130020']),\n (7, ['0685687003', '0535488010']),\n (2, ['0685687003', '0535488010', '0519749040']),\n (3, ['0685687003', '0665477003']),\n (2, ['0685687003', '0663945001']),\n (4, ['0685687003', '0683662002']),\n (5, ['0685687003', '0519749040']),\n (2, ['0685687003', '0534357002']),\n (10, ['0685687003', '0654100005']),\n (5, ['0685687003', '0478549001']),\n (2, ['0685687003', '0557938003']),\n (6, ['0685687003', '0189634001']),\n (5, ['0685687003', '0524825014']),\n (2, ['0685687003', '0524825014', '0573716002']),\n (2, ['0685687003', '0524825014', '0685687001']),\n (2, ['0685687003', '0562252010']),\n (5, ['0685687003', '0573716002']),\n (2, ['0685687003', '0639478002']),\n (2, ['0685687003', '0551614001']),\n (2, ['0685687003', '0560213002']),\n (9, ['0685687003', '0685683001']),\n (2, ['0685687003', '0685683001', '0685687004']),\n (5, ['0685687003', '0662888003']),\n (5, ['0685687003', '0636455009']),\n (2, ['0685687003', '0636455009', '0573085004']),\n (6, ['0685687003', '0573085004']),\n (12, ['0685687003', '0701129002']),\n (3, ['0685687003', '0701129002', '0685687002']),\n (6, ['0685687003', '0537346026']),\n (2, ['0685687003', '0621019001']),\n (3, ['0685687003', '0639976002']),\n (2, ['0685687003', '0662980001']),\n (3, ['0685687003', '0666006006']),\n (11, ['0685687003', '0671505002']),\n (2, ['0685687003', '0671505002', '0685687004']),\n (3, ['0685687003', '0671505002', '0685687001']),\n (2, ['0685687003', '0675856003']),\n (2, ['0685687003', '0637549001']),\n (3, ['0685687003', '0585482001']),\n (2, ['0685687003', '0585482001', '0685687001']),\n (4, ['0685687003', '0667379003']),\n (3, ['0685687003', '0625819007']),\n (6, ['0685687003', '0660599002']),\n (2, ['0685687003', '0660599002', '0685687001']),\n (8, ['0685687003', '0683662006']),\n (3, ['0685687003', '0667491011']),\n (2, ['0685687003', '0667491006']),\n (6, ['0685687003', '0665975001']),\n (2, ['0685687003', '0683662009']),\n (2, ['0685687003', '0640677004']),\n (2, ['0685687003', '0640244002']),\n (2, ['0685687003', '0655784001']),\n (2, ['0685687003', '0632065002']),\n (4, ['0685687003', '0651912002']),\n (5, ['0685687003', '0512251003']),\n (7, ['0685687003', '0695601001']),\n (2, ['0685687003', '0685343001']),\n (2, ['0685687003', '0694986001']),\n (2, ['0685687003', '0582077002']),\n (3, ['0685687003', '0628466001']),\n (2, ['0685687003', '0628466001', '0685687004']),\n (2, ['0685687003', '0589924011']),\n (9, ['0685687003', '0589924004']),\n (2, ['0685687003', '0602409006']),\n (4, ['0685687003', '0691764006']),\n (3, ['0685687003', '0691764006', '0685687004']),\n (2, ['0685687003', '0691764006', '0685687001']),\n (2, ['0685687003', '0562245059']),\n (4, ['0685687003', '0572942002']),\n (2, ['0685687003', '0348870001']),\n (2, ['0685687003', '0547937001']),\n (2, ['0685687003', '0626713001']),\n (2, ['0685687003', '0687371001']),\n (6, ['0685687003', '0399223001']),\n (8, ['0685687003', '0501820007']),\n (4, ['0685687003', '0501820007', '0685687001']),\n (3, ['0685687003', '0324502008']),\n (2, ['0685687003', '0660369005']),\n (2, ['0685687003', '0675856001']),\n (2, ['0685687003', '0509210002']),\n (7, ['0685687003', '0591334004']),\n (2, ['0685687003', '0599502005']),\n (2, ['0685687003', '0399087015']),\n (2, ['0685687003', '0635190002']),\n (2, ['0685687003', '0684588006']),\n (3, ['0685687003', '0652869001']),\n (7, ['0685687003', '0665509002']),\n (3, ['0685687003', '0562245042']),\n (4, ['0685687003', '0577513001']),\n (7, ['0685687003', '0554450019']),\n (3, ['0685687003', '0510126016']),\n (3, ['0685687003', '0619148005']),\n (3, ['0685687003', '0669034002']),\n (2, ['0685687003', '0669034002', '0685687004']),\n (3, ['0685687003', '0678553004']),\n (2, ['0685687003', '0554598004']),\n (2, ['0685687003', '0631837003']),\n (2, ['0685687003', '0651244001']),\n (2, ['0685687003', '0655403004']),\n (3, ['0685687003', '0160442007']),\n (2, ['0685687003', '0664133001']),\n (2, ['0685687003', '0539723006']),\n (4, ['0685687003', '0610744007']),\n (3, ['0685687003', '0671011001']),\n (5, ['0685687003', '0717341001']),\n (2, ['0685687003', '0717341001', '0685687004']),\n (3, ['0685687003', '0581781010']),\n (2, ['0685687003', '0381038003']),\n (2, ['0685687003', '0484108008']),\n (8, ['0685687003', '0591334003']),\n (2, ['0685687003', '0608952004']),\n (3, ['0685687003', '0244267029']),\n (3, ['0685687003', '0657497001']),\n (2, ['0685687003', '0663396002']),\n (2, ['0685687003', '0636323001']),\n (2, ['0685687003', '0685284001']),\n (2, ['0685687003', '0665477002']),\n (2, ['0685687003', '0657203001']),\n (2, ['0685687003', '0518328009']),\n (2, ['0685687003', '0657195001']),\n (2, ['0685687003', '0611024001']),\n (8, ['0685687003', '0661162003']),\n (3, ['0685687003', '0448509017']),\n (3, ['0685687003', '0509280004']),\n (6, ['0685687003', '0591334014']),\n (2, ['0685687003', '0591334014', '0685687004']),\n (2, ['0685687003', '0570781003']),\n (2, ['0685687003', '0620951002']),\n (2, ['0685687003', '0613666002']),\n (2, ['0685687003', '0642296004']),\n (2, ['0685687003', '0642296002']),\n (4, ['0685687003', '0635957003']),\n (3, ['0685687003', '0504154022']),\n (7, ['0685687003', '0680912009']),\n (3, ['0685687003', '0189616008']),\n (4, ['0685687003', '0189616007']),\n (2, ['0685687003', '0399136011']),\n (2, ['0685687003', '0573716033']),\n (2, ['0685687003', '0664647003']),\n (2, ['0685687003', '0631837004']),\n (3, ['0685687003', '0637661003']),\n (3, ['0685687003', '0532578019']),\n (2, ['0685687003', '0568601020']),\n (2, ['0685687003', '0647355002']),\n (3, ['0685687003', '0607534010']),\n (3, ['0685687003', '0594987002']),\n (2, ['0685687003', '0549914003']),\n (3, ['0685687003', '0703795001']),\n (2, ['0685687003', '0703795002']),\n (5, ['0685687003', '0637515006']),\n (2, ['0685687003', '0672598001']),\n (4, ['0685687003', '0692454002']),\n (2, ['0685687003', '0619234001']),\n (4, ['0685687003', '0651273001']),\n (2, ['0685687003', '0654772001']),\n (2, ['0685687003', '0633148017']),\n (4, ['0685687003', '0501820042']),\n (2, ['0685687003', '0637549005']),\n (2, ['0685687003', '0627389005']),\n (2, ['0685687003', '0678073001']),\n (2, ['0685687003', '0589855004']),\n (4, ['0685687003', '0610744006']),\n (2, ['0685687003', '0605970004']),\n (4, ['0685687003', '0667491005']),\n (2, ['0685687003', '0658183001']),\n (3, ['0685687003', '0399201005']),\n (2, ['0685687003', '0625819001']),\n (2, ['0685687003', '0608007006']),\n (2, ['0685687003', '0670655001']),\n (2, ['0685687003', '0562245005']),\n (2, ['0685687003', '0677062001']),\n (2, ['0685687003', '0598495001']),\n (4, ['0685687003', '0676954001']),\n (2, ['0685687003', '0676954001', '0577513001']),\n (2, ['0685687003', '0684033003']),\n (3, ['0685687003', '0463970010']),\n (7, ['0685687003', '0615141003']),\n (2, ['0685687003', '0678933001']),\n (2, ['0685687003', '0521269002']),\n (2, ['0685687003', '0657291004']),\n (2, ['0685687003', '0552473007']),\n (3, ['0685687003', '0636323005']),\n (2, ['0685687003', '0548926001']),\n (3, ['0685687003', '0653733001']),\n (2, ['0685687003', '0581162008']),\n (2, ['0685687003', '0618160001']),\n (2, ['0685687003', '0624632002']),\n (2, ['0685687003', '0636238001']),\n (5, ['0685687003', '0637549011']),\n (2, ['0685687003', '0660712001']),\n (2, ['0685687003', '0605939005']),\n (2, ['0685687003', '0552471023']),\n (2, ['0685687003', '0608776001']),\n (2, ['0685687003', '0532578009']),\n (2, ['0685687003', '0588689001']),\n (3, ['0685687003', '0562245001']),\n (2, ['0685687003', '0714424001']),\n (2, ['0685687003', '0616231002']),\n (4, ['0685687003', '0625939021']),\n (6, ['0685687003', '0611062002']),\n (3, ['0685687003', '0611062002', '0685687001']),\n (3, ['0685687003', '0570781006']),\n (2, ['0685687003', '0650677004']),\n (2, ['0685687003', '0682189001']),\n (2, ['0685687003', '0573856001']),\n (2, ['0685687003', '0552473029']),\n (3, ['0685687003', '0532578020']),\n (3, ['0685687003', '0558986001']),\n (2, ['0685687003', '0660712007']),\n (6, ['0685687003', '0662868002']),\n (2, ['0685687003', '0643055001']),\n (3, ['0685687003', '0671505001']),\n (6, ['0685687003', '0663515004']),\n (3, ['0685687003', '0636455012']),\n (3, ['0685687003', '0578487011']),\n (2, ['0685687003', '0591334020']),\n (2, ['0685687003', '0666448001']),\n (2, ['0685687003', '0625342002']),\n (2, ['0685687003', '0547058001']),\n (2, ['0685687003', '0670063002']),\n (2, ['0685687003', '0670063002', '0670063001']),\n (2, ['0685687003', '0670063002', '0670063001', '0685687004']),\n (2, ['0685687003', '0670063002', '0685687004']),\n (2, ['0685687003', '0670063001']),\n (2, ['0685687003', '0670063001', '0685687004']),\n (2, ['0685687003', '0562245004']),\n (2, ['0685687003', '0592174001']),\n (2, ['0685687003', '0592174001', '0685687001']),\n (3, ['0685687003', '0662728004']),\n (3, ['0685687003', '0533230001']),\n (3, ['0685687003', '0680715001']),\n (2, ['0685687003', '0598795018']),\n (2, ['0685687003', '0639976005']),\n (2, ['0685687003', '0621846001']),\n (2, ['0685687003', '0688873008']),\n (3, ['0685687003', '0662857005']),\n (2, ['0685687003', '0613836002']),\n (3, ['0685687003', '0647190003']),\n (2, ['0685687003', '0651558010']),\n (7, ['0685687003', '0532578001']),\n (2, ['0685687003', '0577314002']),\n (3, ['0685687003', '0715240001']),\n (3, ['0685687003', '0680912011']),\n (2, ['0685687003', '0457292020']),\n (2, ['0685687003', '0583558001']),\n (3, ['0685687003', '0661806001']),\n (2, ['0685687003', '0661806001', '0685687001']),\n (4, ['0685687003', '0677930006']),\n (3, ['0685687003', '0615434002']),\n (3, ['0685687003', '0568864003']),\n (2, ['0685687003', '0725253001']),\n (3, ['0685687003', '0662888001']),\n (2, ['0685687003', '0705143002']),\n (3, ['0685687003', '0630116004']),\n (2, ['0685687003', '0620081006']),\n (2, ['0685687003', '0544116002']),\n (2, ['0685687003', '0679655001']),\n (2, ['0685687003', '0605053003']),\n (2, ['0685687003', '0228257001']),\n (2, ['0685687003', '0679514001']),\n (3, ['0685687003', '0532578017']),\n (2, ['0685687003', '0686265001']),\n (2, ['0685687003', '0679887001']),\n (3, ['0685687003', '0668767004']),\n (2, ['0685687003', '0622955001']),\n (2, ['0685687003', '0613858005']),\n (3, ['0685687003', '0673638003']),\n (2, ['0685687003', '0627197003']),\n (2, ['0685687003', '0601595001']),\n (3, ['0685687003', '0573937001']),\n (2, ['0685687003', '0537076001']),\n (2, ['0685687003', '0568864001']),\n (2, ['0685687003', '0573085028']),\n (2, ['0685687003', '0581086004']),\n (2, ['0685687003', '0685276006']),\n (2, ['0685687003', '0598848006']),\n (2, ['0685687003', '0632523001']),\n (2, ['0685687003', '0657476008']),\n (2, ['0685687003', '0579990001']),\n (2, ['0685687003', '0665290002']),\n (2, ['0685687003', '0665290002', '0596472002']),\n (3, ['0685687003', '0596472002']),\n (2, ['0685687003', '0667316001']),\n (2, ['0685687003', '0615141002']),\n (2, ['0685687003', '0615141002', '0574109015']),\n (2, ['0685687003', '0615141002', '0574109015', '0685687001']),\n (2, ['0685687003', '0615141002', '0685687001']),\n (2, ['0685687003', '0552475017']),\n (2, ['0685687003', '0633130007']),\n (2, ['0685687003', '0684579002']),\n (2, ['0685687003', '0592180003']),\n (2, ['0685687003', '0456163026']),\n (2, ['0685687003', '0255396023']),\n (24, ['0505221001']),\n (2, ['0505221001', '0685687001']),\n (3, ['0505221001', '0505221004']),\n (2, ['0505221001', '0532578001']),\n (199, ['0605106001']),\n (4, ['0605106001', '0685687004']),\n (2, ['0605106001', '0685687004', '0685687001']),\n (7, ['0605106001', '0685687001']),\n (2, ['0605106001', '0725253001']),\n (7, ['0605106001', '0605093001']),\n (2, ['0605106001', '0605092009']),\n (2, ['0605106001', '0559212002']),\n (2, ['0605106001', '0586307004']),\n (2, ['0605106001', '0594633001']),\n (6, ['0605106001', '0548467001']),\n (2, ['0605106001', '0569978003']),\n (2, ['0605106001', '0541519026']),\n (2, ['0605106001', '0547780002']),\n (2, ['0605106001', '0548926001']),\n (2, ['0605106001', '0464454004']),\n (2, ['0605106001', '0678086002']),\n (2, ['0605106001', '0651912002']),\n (2, ['0605106001', '0657497001']),\n (3, ['0605106001', '0644379002']),\n (2, ['0605106001', '0160442007']),\n (2, ['0605106001', '0562245018']),\n (2, ['0605106001', '0609719001']),\n (2, ['0605106001', '0609719001', '0351484002']),\n (2, ['0605106001', '0351484002']),\n (2, ['0605106001', '0542695005']),\n (2, ['0605106001', '0611378001']),\n (3, ['0605106001', '0608776001']),\n (2, ['0605106001', '0549914003']),\n (2, ['0605106001', '0562245059']),\n (2, ['0605106001', '0657497007']),\n (2, ['0605106001', '0615367005']),\n (2, ['0605106001', '0584895014']),\n (991, ['0685687004']),\n (114, ['0685687004', '0685687001']),\n (2, ['0685687004', '0685687001', '0370594018']),\n (2, ['0685687004', '0685687001', '0602409006']),\n (3, ['0685687004', '0685687001', '0680912009']),\n (2, ['0685687004', '0685687001', '0507909003']),\n (3, ['0685687004', '0685687001', '0575172001']),\n (2, ['0685687004', '0685687001', '0640462001']),\n (2, ['0685687004', '0685687001', '0532578020']),\n (2, ['0685687004', '0685687001', '0637549011']),\n (2, ['0685687004', '0685687001', '0613666002']),\n (4, ['0685687004', '0685687001', '0524825013']),\n (2, ['0685687004', '0685687001', '0399136011']),\n (2, ['0685687004', '0685687001', '0573085020']),\n (2, ['0685687004', '0685687001', '0705094001']),\n (2, ['0685687004', '0685687001', '0678073002']),\n (3, ['0685687004', '0578474001']),\n (9, ['0685687004', '0573085020']),\n (6, ['0685687004', '0651584005']),\n (5, ['0685687004', '0637549003']),\n (3, ['0685687004', '0658848004']),\n (2, ['0685687004', '0573085019']),\n (2, ['0685687004', '0573085019', '0573085020']),\n (2, ['0685687004', '0573085004']),\n (3, ['0685687004', '0673638003']),\n (8, ['0685687004', '0591334003']),\n (3, ['0685687004', '0671022001']),\n (2, ['0685687004', '0671022001', '0573085020']),\n (10, ['0685687004', '0662935002']),\n (2, ['0685687004', '0662935002', '0399223001']),\n (2, ['0685687004', '0641741002']),\n (10, ['0685687004', '0524825013']),\n (2, ['0685687004', '0532578017']),\n (2, ['0685687004', '0501820042']),\n (7, ['0685687004', '0683662006']),\n (2, ['0685687004', '0671505002']),\n (3, ['0685687004', '0637661003']),\n (2, ['0685687004', '0596472002']),\n (2, ['0685687004', '0592975010']),\n (4, ['0685687004', '0671553002']),\n (4, ['0685687004', '0532578020']),\n (3, ['0685687004', '0652742001']),\n (2, ['0685687004', '0623632004']),\n (3, ['0685687004', '0496111004']),\n (2, ['0685687004', '0609719001']),\n (2, ['0685687004', '0558986001']),\n (2, ['0685687004', '0537346013']),\n (4, ['0685687004', '0179950001']),\n (4, ['0685687004', '0678073002']),\n (5, ['0685687004', '0399136011']),\n (2, ['0685687004', '0510126016']),\n (2, ['0685687004', '0573716023']),\n (2, ['0685687004', '0370594018']),\n (2, ['0685687004', '0682457001']),\n (2, ['0685687004', '0639478001']),\n (3, ['0685687004', '0563519006']),\n (3, ['0685687004', '0622962001']),\n (2, ['0685687004', '0649494005']),\n (2, ['0685687004', '0647334001']),\n (2, ['0685687004', '0610744007']),\n (3, ['0685687004', '0589222001']),\n (2, ['0685687004', '0470985003']),\n (3, ['0685687004', '0677062001']),\n (3, ['0685687004', '0679986001']),\n (2, ['0685687004', '0446224002']),\n (8, ['0685687004', '0665477002']),\n (4, ['0685687004', '0665477002', '0685687001']),\n (15, ['0685687004', '0562245018']),\n (2, ['0685687004', '0562245018', '0599502009']),\n (2, ['0685687004', '0562245018', '0685687001']),\n (2, ['0685687004', '0605939004']),\n (4, ['0685687004', '0589924004']),\n (10, ['0685687004', '0599502009']),\n (2, ['0685687004', '0556379003']),\n (4, ['0685687004', '0574109015']),\n (2, ['0685687004', '0633130020']),\n (3, ['0685687004', '0683662002']),\n (2, ['0685687004', '0639192002']),\n (3, ['0685687004', '0649551007']),\n (2, ['0685687004', '0588689013']),\n (3, ['0685687004', '0644379002']),\n (2, ['0685687004', '0625939005']),\n (3, ['0685687004', '0548467001']),\n (2, ['0685687004', '0548467001', '0665975002']),\n (2, ['0685687004', '0548467001', '0665975001']),\n (5, ['0685687004', '0665975002']),\n (4, ['0685687004', '0399223001']),\n (4, ['0685687004', '0615141003']),\n (4, ['0685687004', '0640462001']),\n (2, ['0685687004', '0484398056']),\n (2, ['0685687004', '0625819007']),\n (2, ['0685687004', '0684686001']),\n (3, ['0685687004', '0640244002']),\n (2, ['0685687004', '0705094003']),\n (3, ['0685687004', '0705094002']),\n (6, ['0685687004', '0633130002']),\n (2, ['0685687004', '0664319005']),\n (2, ['0685687004', '0633130007']),\n (2, ['0685687004', '0516712001']),\n (2, ['0685687004', '0589298001']),\n (6, ['0685687004', '0611062002']),\n (2, ['0685687004', '0611062002', '0685687001']),\n (2, ['0685687004', '0626000002']),\n (2, ['0685687004', '0602409006']),\n (2, ['0685687004', '0661162003']),\n (2, ['0685687004', '0573085028']),\n (2, ['0685687004', '0631590005']),\n (2, ['0685687004', '0605020002']),\n (2, ['0685687004', '0607834002']),\n (4, ['0685687004', '0665975001']),\n (2, ['0685687004', '0540277004']),\n (7, ['0685687004', '0637255010']),\n (2, ['0685687004', '0637255010', '0512251003']),\n (5, ['0685687004', '0512251003']),\n (2, ['0685687004', '0607310005']),\n (2, ['0685687004', '0684588006']),\n (2, ['0685687004', '0634009004']),\n (3, ['0685687004', '0591334004']),\n (4, ['0685687004', '0552471023']),\n (3, ['0685687004', '0667379003']),\n (2, ['0685687004', '0695601001']),\n (5, ['0685687004', '0568597009']),\n (4, ['0685687004', '0680912009']),\n (3, ['0685687004', '0613666002']),\n (2, ['0685687004', '0401044012']),\n (2, ['0685687004', '0401044012', '0685687001']),\n (3, ['0685687004', '0623434011']),\n (4, ['0685687004', '0636455009']),\n (2, ['0685687004', '0636455009', '0524825013']),\n (2, ['0685687004', '0325087002']),\n (2, ['0685687004', '0636323001']),\n (2, ['0685687004', '0636323003']),\n (2, ['0685687004', '0639677002']),\n (2, ['0685687004', '0584895014']),\n (2, ['0685687004', '0639976002']),\n (4, ['0685687004', '0501820003']),\n (2, ['0685687004', '0661655004']),\n (7, ['0685687004', '0568137002']),\n (3, ['0685687004', '0529953001']),\n (2, ['0685687004', '0160442007']),\n (2, ['0685687004', '0631848002']),\n (4, ['0685687004', '0507909003']),\n (4, ['0685687004', '0575172001']),\n (2, ['0685687004', '0663034005']),\n (3, ['0685687004', '0690992001']),\n (2, ['0685687004', '0637549005']),\n (2, ['0685687004', '0552473037']),\n (2, ['0685687004', '0639677001']),\n (2, ['0685687004', '0634009008']),\n (2, ['0685687004', '0609727002']),\n (2, ['0685687004', '0632523001']),\n (2, ['0685687004', '0562252038']),\n (4, ['0685687004', '0583533002']),\n (4, ['0685687004', '0688873001']),\n (4, ['0685687004', '0581777008']),\n (4, ['0685687004', '0637549011']),\n (2, ['0685687004', '0651273002']),\n (2, ['0685687004', '0532578010']),\n (3, ['0685687004', '0725253001']),\n (2, ['0685687004', '0691839001']),\n (2, ['0685687004', '0659832001']),\n (2, ['0685687004', '0657195001']),\n (2, ['0685687004', '0607541002']),\n (3, ['0685687004', '0705094001']),\n (2, ['0685687004', '0607427002']),\n (3, ['0685687004', '0568864003']),\n (2, ['0685687004', '0660308003']),\n (2, ['0685687004', '0701410001']),\n (2, ['0685687004', '0583558001']),\n (2, ['0685687004', '0679655001']),\n (2, ['0685687004', '0675319002']),\n (3, ['0685687004', '0524061003']),\n (2, ['0685687004', '0524061003', '0524825013']),\n (2, ['0685687004', '0622678003']),\n (3, ['0685687004', '0657497001']),\n (2, ['0685687004', '0660712007']),\n (2, ['0685687004', '0537076001']),\n (2, ['0685687004', '0659550001']),\n (2, ['0685687004', '0576773008']),\n (1044, ['0685687001']),\n (9, ['0685687001', '0688873001']),\n (2, ['0685687001', '0662260002']),\n (8, ['0685687001', '0589222001']),\n (4, ['0685687001', '0621381001']),\n (2, ['0685687001', '0521269004']),\n (3, ['0685687001', '0657925004']),\n (52, ['0685687001', '0685687002']),\n (7, ['0685687001', '0685687002', '0685687004']),\n (2, ['0685687001', '0685687002', '0685687003']),\n (2, ['0685687001', '0685687002', '0548467001']),\n (2, ['0685687001', '0685687002', '0594834010']),\n (83, ['0685687001', '0685687004']),\n (2, ['0685687001', '0685687004', '0548467001']),\n (2, ['0685687001', '0685687004', '0548467001', '0665975002']),\n (2, ['0685687001', '0685687004', '0665975002']),\n (2, ['0685687001', '0685687004', '0552471023']),\n (3, ['0685687001', '0678983004']),\n (4, ['0685687001', '0651584005']),\n (4, ['0685687001', '0636455009']),\n (2, ['0685687001', '0636455009', '0524825013']),\n (2, ['0685687001', '0637549004']),\n (2, ['0685687001', '0672890001']),\n (6, ['0685687001', '0574109015']),\n (4, ['0685687001', '0667491002']),\n (4, ['0685687001', '0537346026']),\n (2, ['0685687001', '0660599001']),\n (13, ['0685687001', '0573085020']),\n (4, ['0685687001', '0654100005']),\n (7, ['0685687001', '0661162003']),\n (2, ['0685687001', '0639192001']),\n (4, ['0685687001', '0719017002']),\n (4, ['0685687001', '0640677004']),\n (4, ['0685687001', '0501820007']),\n (2, ['0685687001', '0691764006']),\n (7, ['0685687001', '0599502009']),\n (3, ['0685687001', '0537346024']),\n (15, ['0685687001', '0591334003']),\n (3, ['0685687001', '0576773008']),\n (3, ['0685687001', '0501820003']),\n (2, ['0685687001', '0573937001']),\n (5, ['0685687001', '0679494004']),\n (2, ['0685687001', '0679494004', '0685687004']),\n (3, ['0685687001', '0685683001']),\n (3, ['0685687001', '0605106001']),\n (3, ['0685687001', '0680220001']),\n (2, ['0685687001', '0660712011']),\n (2, ['0685687001', '0370594018']),\n (2, ['0685687001', '0674509001']),\n (3, ['0685687001', '0251510001']),\n (5, ['0685687001', '0532578020']),\n (2, ['0685687001', '0673638001']),\n (16, ['0685687001', '0524825013']),\n (2, ['0685687001', '0630116004']),\n (2, ['0685687001', '0539723002']),\n (3, ['0685687001', '0610776002']),\n (2, ['0685687001', '0610776002', '0548388015']),\n (2, ['0685687001', '0548388015']),\n (12, ['0685687001', '0399223001']),\n (6, ['0685687001', '0573085028']),\n (2, ['0685687001', '0661435001']),\n (2, ['0685687001', '0603401003']),\n (2, ['0685687001', '0684033003']),\n (2, ['0685687001', '0615021023']),\n (2, ['0685687001', '0537346020']),\n (7, ['0685687001', '0662857005']),\n (2, ['0685687001', '0683662002']),\n (5, ['0685687001', '0568137002']),\n (2, ['0685687001', '0660712002']),\n (3, ['0685687001', '0537688010']),\n (3, ['0685687001', '0562245058']),\n (2, ['0685687001', '0692216003']),\n (2, ['0685687001', '0664665004']),\n (3, ['0685687001', '0662857002']),\n (2, ['0685687001', '0676954001']),\n (2, ['0685687001', '0676954001', '0683662006']),\n (2, ['0685687001', '0683662006']),\n (2, ['0685687001', '0532578001']),\n (2, ['0685687001', '0516859002']),\n (3, ['0685687001', '0660712012']),\n (2, ['0685687001', '0562245006']),\n (3, ['0685687001', '0562245042']),\n (3, ['0685687001', '0561445005']),\n (2, ['0685687001', '0562245005']),\n (3, ['0685687001', '0612935007']),\n (2, ['0685687001', '0612935007', '0685687004']),\n (6, ['0685687001', '0548467001']),\n (2, ['0685687001', '0548467001', '0665975002']),\n (4, ['0685687001', '0665975002']),\n (3, ['0685687001', '0493438027']),\n (6, ['0685687001', '0573085004']),\n (2, ['0685687001', '0536139011']),\n (2, ['0685687001', '0440811006']),\n (3, ['0685687001', '0662980001']),\n (3, ['0685687001', '0667379003']),\n (2, ['0685687001', '0413911012']),\n (3, ['0685687001', '0573716002']),\n (3, ['0685687001', '0627389006']),\n (4, ['0685687001', '0510126016']),\n (4, ['0685687001', '0657195001']),\n (2, ['0685687001', '0602409006']),\n (2, ['0685687001', '0501820004']),\n (7, ['0685687001', '0512251003']),\n (3, ['0685687001', '0469137001']),\n (2, ['0685687001', '0626346005']),\n (2, ['0685687001', '0631590005']),\n (5, ['0685687001', '0667491006']),\n (2, ['0685687001', '0667491006', '0685687004']),\n (10, ['0685687001', '0705094001']),\n (2, ['0685687001', '0705094001', '0685687002']),\n (2, ['0685687001', '0179950017']),\n (2, ['0685687001', '0662857001']),\n (6, ['0685687001', '0575172001']),\n (13, ['0685687001', '0685687003']),\n (3, ['0685687001', '0685687003', '0685687002']),\n (3, ['0685687001', '0685687003', '0685687004']),\n (2, ['0685687001', '0685687003', '0537346013']),\n (2, ['0685687001', '0633130002']),\n (2, ['0685687001', '0607427003']),\n (3, ['0685687001', '0634009004']),\n (2, ['0685687001', '0542695005']),\n ...]"
     },
     "execution_count": 149,
     "metadata": {},
     "output_type": "execute_result"
    }
   ],
   "source": [
    "ps.frequent(2)"
   ],
   "metadata": {
    "collapsed": false,
    "pycharm": {
     "name": "#%%\n"
    }
   }
  },
  {
   "cell_type": "code",
   "execution_count": 150,
   "outputs": [
    {
     "name": "stdout",
     "output_type": "stream",
     "text": [
      "[(1089, ['0685687003']), (1044, ['0685687001']), (991, ['0685687004']), (971, ['0685687002']), (584, ['0539723005'])]\n"
     ]
    }
   ],
   "source": [
    "print(ps.topk(5))"
   ],
   "metadata": {
    "collapsed": false,
    "pycharm": {
     "name": "#%%\n"
    }
   }
  },
  {
   "cell_type": "code",
   "execution_count": 152,
   "outputs": [
    {
     "ename": "NameError",
     "evalue": "name 'users' is not defined",
     "output_type": "error",
     "traceback": [
      "\u001B[1;31m---------------------------------------------------------------------------\u001B[0m",
      "\u001B[1;31mNameError\u001B[0m                                 Traceback (most recent call last)",
      "\u001B[1;32m~\\AppData\\Local\\Temp/ipykernel_23608/81540346.py\u001B[0m in \u001B[0;36m<module>\u001B[1;34m\u001B[0m\n\u001B[0;32m      1\u001B[0m \u001B[1;32mimport\u001B[0m \u001B[0mnumpy\u001B[0m \u001B[1;32mas\u001B[0m \u001B[0mnp\u001B[0m\u001B[1;33m\u001B[0m\u001B[1;33m\u001B[0m\u001B[0m\n\u001B[1;32m----> 2\u001B[1;33m \u001B[0muser_chunk\u001B[0m \u001B[1;33m=\u001B[0m \u001B[0mnp\u001B[0m\u001B[1;33m.\u001B[0m\u001B[0marray_split\u001B[0m\u001B[1;33m(\u001B[0m\u001B[0musers\u001B[0m\u001B[1;33m,\u001B[0m \u001B[0mmp\u001B[0m\u001B[1;33m.\u001B[0m\u001B[0mcpu_count\u001B[0m\u001B[1;33m(\u001B[0m\u001B[1;33m)\u001B[0m\u001B[1;33m)\u001B[0m\u001B[1;33m\u001B[0m\u001B[1;33m\u001B[0m\u001B[0m\n\u001B[0m\u001B[0;32m      3\u001B[0m \u001B[1;33m\u001B[0m\u001B[0m\n",
      "\u001B[1;31mNameError\u001B[0m: name 'users' is not defined"
     ]
    }
   ],
   "source": [
    "import numpy as np\n",
    "user_chunk = np.array_split(users, mp.cpu_count())"
   ],
   "metadata": {
    "collapsed": false,
    "pycharm": {
     "name": "#%%\n"
    }
   }
  },
  {
   "cell_type": "code",
   "execution_count": 153,
   "outputs": [],
   "source": [
    "dfd = df.groupby('t_dat').count()"
   ],
   "metadata": {
    "collapsed": false,
    "pycharm": {
     "name": "#%%\n"
    }
   }
  },
  {
   "cell_type": "code",
   "execution_count": 154,
   "outputs": [],
   "source": [
    "dates = dfd.index.tolist()"
   ],
   "metadata": {
    "collapsed": false,
    "pycharm": {
     "name": "#%%\n"
    }
   }
  },
  {
   "cell_type": "code",
   "execution_count": 155,
   "outputs": [
    {
     "data": {
      "text/plain": "[Timestamp('2018-09-20 00:00:00'),\n Timestamp('2018-09-21 00:00:00'),\n Timestamp('2018-09-22 00:00:00'),\n Timestamp('2018-09-23 00:00:00'),\n Timestamp('2018-09-24 00:00:00'),\n Timestamp('2018-09-25 00:00:00'),\n Timestamp('2018-09-26 00:00:00')]"
     },
     "execution_count": 155,
     "metadata": {},
     "output_type": "execute_result"
    }
   ],
   "source": [
    "dates"
   ],
   "metadata": {
    "collapsed": false,
    "pycharm": {
     "name": "#%%\n"
    }
   }
  },
  {
   "cell_type": "code",
   "execution_count": 155,
   "outputs": [],
   "source": [],
   "metadata": {
    "collapsed": false,
    "pycharm": {
     "name": "#%%\n"
    }
   }
  },
  {
   "cell_type": "code",
   "execution_count": 156,
   "outputs": [],
   "source": [
    "import numpy as np\n",
    "date_chunk = np.array_split(dates,3)"
   ],
   "metadata": {
    "collapsed": false,
    "pycharm": {
     "name": "#%%\n"
    }
   }
  },
  {
   "cell_type": "code",
   "execution_count": null,
   "outputs": [],
   "source": [
    "\n",
    "from multiprocessing import Pool\n",
    "date_chunk"
   ],
   "metadata": {
    "collapsed": false,
    "pycharm": {
     "name": "#%%\n"
    }
   }
  },
  {
   "cell_type": "code",
   "execution_count": 158,
   "outputs": [
    {
     "data": {
      "text/plain": "            t_dat                                        customer_id  \\\n0      2018-09-20  000058a12d5b43e67d225668fa1f8d618c13dc232df0ca...   \n1      2018-09-20  000058a12d5b43e67d225668fa1f8d618c13dc232df0ca...   \n2      2018-09-20  00007d2de826758b65a93dd24ce629ed66842531df6699...   \n3      2018-09-20  00007d2de826758b65a93dd24ce629ed66842531df6699...   \n4      2018-09-20  00007d2de826758b65a93dd24ce629ed66842531df6699...   \n...           ...                                                ...   \n299995 2018-09-26  eba6633f08ed7939e039e2e4373428c1d037a66bae41d3...   \n299996 2018-09-26  eba6633f08ed7939e039e2e4373428c1d037a66bae41d3...   \n299997 2018-09-26  eba6633f08ed7939e039e2e4373428c1d037a66bae41d3...   \n299998 2018-09-26  eba6633f08ed7939e039e2e4373428c1d037a66bae41d3...   \n299999 2018-09-26  ebac71216b3f6affa29a6225cdbabe4eb93be0da9084b1...   \n\n        article_id     price  sales_channel_id  \n0       0663713001  0.050831                 2  \n1       0541518023  0.030492                 2  \n2       0505221004  0.015237                 2  \n3       0685687003  0.016932                 2  \n4       0685687004  0.016932                 2  \n...            ...       ...               ...  \n299995  0591334001  0.016932                 2  \n299996  0591334001  0.016932                 2  \n299997  0662857002  0.042356                 2  \n299998  0662857002  0.042356                 2  \n299999  0682267002  0.050831                 2  \n\n[300000 rows x 5 columns]",
      "text/html": "<div>\n<style scoped>\n    .dataframe tbody tr th:only-of-type {\n        vertical-align: middle;\n    }\n\n    .dataframe tbody tr th {\n        vertical-align: top;\n    }\n\n    .dataframe thead th {\n        text-align: right;\n    }\n</style>\n<table border=\"1\" class=\"dataframe\">\n  <thead>\n    <tr style=\"text-align: right;\">\n      <th></th>\n      <th>t_dat</th>\n      <th>customer_id</th>\n      <th>article_id</th>\n      <th>price</th>\n      <th>sales_channel_id</th>\n    </tr>\n  </thead>\n  <tbody>\n    <tr>\n      <th>0</th>\n      <td>2018-09-20</td>\n      <td>000058a12d5b43e67d225668fa1f8d618c13dc232df0ca...</td>\n      <td>0663713001</td>\n      <td>0.050831</td>\n      <td>2</td>\n    </tr>\n    <tr>\n      <th>1</th>\n      <td>2018-09-20</td>\n      <td>000058a12d5b43e67d225668fa1f8d618c13dc232df0ca...</td>\n      <td>0541518023</td>\n      <td>0.030492</td>\n      <td>2</td>\n    </tr>\n    <tr>\n      <th>2</th>\n      <td>2018-09-20</td>\n      <td>00007d2de826758b65a93dd24ce629ed66842531df6699...</td>\n      <td>0505221004</td>\n      <td>0.015237</td>\n      <td>2</td>\n    </tr>\n    <tr>\n      <th>3</th>\n      <td>2018-09-20</td>\n      <td>00007d2de826758b65a93dd24ce629ed66842531df6699...</td>\n      <td>0685687003</td>\n      <td>0.016932</td>\n      <td>2</td>\n    </tr>\n    <tr>\n      <th>4</th>\n      <td>2018-09-20</td>\n      <td>00007d2de826758b65a93dd24ce629ed66842531df6699...</td>\n      <td>0685687004</td>\n      <td>0.016932</td>\n      <td>2</td>\n    </tr>\n    <tr>\n      <th>...</th>\n      <td>...</td>\n      <td>...</td>\n      <td>...</td>\n      <td>...</td>\n      <td>...</td>\n    </tr>\n    <tr>\n      <th>299995</th>\n      <td>2018-09-26</td>\n      <td>eba6633f08ed7939e039e2e4373428c1d037a66bae41d3...</td>\n      <td>0591334001</td>\n      <td>0.016932</td>\n      <td>2</td>\n    </tr>\n    <tr>\n      <th>299996</th>\n      <td>2018-09-26</td>\n      <td>eba6633f08ed7939e039e2e4373428c1d037a66bae41d3...</td>\n      <td>0591334001</td>\n      <td>0.016932</td>\n      <td>2</td>\n    </tr>\n    <tr>\n      <th>299997</th>\n      <td>2018-09-26</td>\n      <td>eba6633f08ed7939e039e2e4373428c1d037a66bae41d3...</td>\n      <td>0662857002</td>\n      <td>0.042356</td>\n      <td>2</td>\n    </tr>\n    <tr>\n      <th>299998</th>\n      <td>2018-09-26</td>\n      <td>eba6633f08ed7939e039e2e4373428c1d037a66bae41d3...</td>\n      <td>0662857002</td>\n      <td>0.042356</td>\n      <td>2</td>\n    </tr>\n    <tr>\n      <th>299999</th>\n      <td>2018-09-26</td>\n      <td>ebac71216b3f6affa29a6225cdbabe4eb93be0da9084b1...</td>\n      <td>0682267002</td>\n      <td>0.050831</td>\n      <td>2</td>\n    </tr>\n  </tbody>\n</table>\n<p>300000 rows × 5 columns</p>\n</div>"
     },
     "execution_count": 158,
     "metadata": {},
     "output_type": "execute_result"
    }
   ],
   "source": [],
   "metadata": {
    "collapsed": false,
    "pycharm": {
     "name": "#%%\n"
    }
   }
  },
  {
   "cell_type": "code",
   "execution_count": null,
   "outputs": [],
   "source": [
    "data['LOGIN_ID'].map(lambda x : str(x)+'1')"
   ],
   "metadata": {
    "collapsed": false,
    "pycharm": {
     "name": "#%%\n",
     "is_executing": true
    }
   }
  },
  {
   "cell_type": "code",
   "execution_count": 159,
   "outputs": [],
   "source": [
    "df = df.set_index('t_dat')"
   ],
   "metadata": {
    "collapsed": false,
    "pycharm": {
     "name": "#%%\n"
    }
   }
  },
  {
   "cell_type": "code",
   "execution_count": 160,
   "outputs": [
    {
     "data": {
      "text/plain": "                                                  customer_id  article_id  \\\nt_dat                                                                       \n2018-09-20  000058a12d5b43e67d225668fa1f8d618c13dc232df0ca...  0663713001   \n2018-09-20  000058a12d5b43e67d225668fa1f8d618c13dc232df0ca...  0541518023   \n2018-09-20  00007d2de826758b65a93dd24ce629ed66842531df6699...  0505221004   \n2018-09-20  00007d2de826758b65a93dd24ce629ed66842531df6699...  0685687003   \n2018-09-20  00007d2de826758b65a93dd24ce629ed66842531df6699...  0685687004   \n...                                                       ...         ...   \n2018-09-22  fffbdd2f8e59d45c0fb50a14b0ea555f7daa5307b3f922...  0614010001   \n2018-09-22  fffbdd2f8e59d45c0fb50a14b0ea555f7daa5307b3f922...  0501820001   \n2018-09-22  fffe7116f9f68e8ad287fd7b6e33aad4871d7080e77d2d...  0580770002   \n2018-09-22  fffe7116f9f68e8ad287fd7b6e33aad4871d7080e77d2d...  0496111013   \n2018-09-22  fffe7116f9f68e8ad287fd7b6e33aad4871d7080e77d2d...  0548467001   \n\n               price  sales_channel_id  \nt_dat                                   \n2018-09-20  0.050831                 2  \n2018-09-20  0.030492                 2  \n2018-09-20  0.015237                 2  \n2018-09-20  0.016932                 2  \n2018-09-20  0.016932                 2  \n...              ...               ...  \n2018-09-22  0.050831                 2  \n2018-09-22  0.016932                 2  \n2018-09-22  0.016932                 2  \n2018-09-22  0.016932                 2  \n2018-09-22  0.016932                 2  \n\n[113577 rows x 4 columns]",
      "text/html": "<div>\n<style scoped>\n    .dataframe tbody tr th:only-of-type {\n        vertical-align: middle;\n    }\n\n    .dataframe tbody tr th {\n        vertical-align: top;\n    }\n\n    .dataframe thead th {\n        text-align: right;\n    }\n</style>\n<table border=\"1\" class=\"dataframe\">\n  <thead>\n    <tr style=\"text-align: right;\">\n      <th></th>\n      <th>customer_id</th>\n      <th>article_id</th>\n      <th>price</th>\n      <th>sales_channel_id</th>\n    </tr>\n    <tr>\n      <th>t_dat</th>\n      <th></th>\n      <th></th>\n      <th></th>\n      <th></th>\n    </tr>\n  </thead>\n  <tbody>\n    <tr>\n      <th>2018-09-20</th>\n      <td>000058a12d5b43e67d225668fa1f8d618c13dc232df0ca...</td>\n      <td>0663713001</td>\n      <td>0.050831</td>\n      <td>2</td>\n    </tr>\n    <tr>\n      <th>2018-09-20</th>\n      <td>000058a12d5b43e67d225668fa1f8d618c13dc232df0ca...</td>\n      <td>0541518023</td>\n      <td>0.030492</td>\n      <td>2</td>\n    </tr>\n    <tr>\n      <th>2018-09-20</th>\n      <td>00007d2de826758b65a93dd24ce629ed66842531df6699...</td>\n      <td>0505221004</td>\n      <td>0.015237</td>\n      <td>2</td>\n    </tr>\n    <tr>\n      <th>2018-09-20</th>\n      <td>00007d2de826758b65a93dd24ce629ed66842531df6699...</td>\n      <td>0685687003</td>\n      <td>0.016932</td>\n      <td>2</td>\n    </tr>\n    <tr>\n      <th>2018-09-20</th>\n      <td>00007d2de826758b65a93dd24ce629ed66842531df6699...</td>\n      <td>0685687004</td>\n      <td>0.016932</td>\n      <td>2</td>\n    </tr>\n    <tr>\n      <th>...</th>\n      <td>...</td>\n      <td>...</td>\n      <td>...</td>\n      <td>...</td>\n    </tr>\n    <tr>\n      <th>2018-09-22</th>\n      <td>fffbdd2f8e59d45c0fb50a14b0ea555f7daa5307b3f922...</td>\n      <td>0614010001</td>\n      <td>0.050831</td>\n      <td>2</td>\n    </tr>\n    <tr>\n      <th>2018-09-22</th>\n      <td>fffbdd2f8e59d45c0fb50a14b0ea555f7daa5307b3f922...</td>\n      <td>0501820001</td>\n      <td>0.016932</td>\n      <td>2</td>\n    </tr>\n    <tr>\n      <th>2018-09-22</th>\n      <td>fffe7116f9f68e8ad287fd7b6e33aad4871d7080e77d2d...</td>\n      <td>0580770002</td>\n      <td>0.016932</td>\n      <td>2</td>\n    </tr>\n    <tr>\n      <th>2018-09-22</th>\n      <td>fffe7116f9f68e8ad287fd7b6e33aad4871d7080e77d2d...</td>\n      <td>0496111013</td>\n      <td>0.016932</td>\n      <td>2</td>\n    </tr>\n    <tr>\n      <th>2018-09-22</th>\n      <td>fffe7116f9f68e8ad287fd7b6e33aad4871d7080e77d2d...</td>\n      <td>0548467001</td>\n      <td>0.016932</td>\n      <td>2</td>\n    </tr>\n  </tbody>\n</table>\n<p>113577 rows × 4 columns</p>\n</div>"
     },
     "execution_count": 160,
     "metadata": {},
     "output_type": "execute_result"
    }
   ],
   "source": [
    "df.loc[date_chunk[0]]"
   ],
   "metadata": {
    "collapsed": false,
    "pycharm": {
     "name": "#%%\n"
    }
   }
  },
  {
   "cell_type": "code",
   "execution_count": 21,
   "outputs": [
    {
     "ename": "KeyError",
     "evalue": "\"None of ['t_dat'] are in the columns\"",
     "output_type": "error",
     "traceback": [
      "\u001B[1;31m---------------------------------------------------------------------------\u001B[0m",
      "\u001B[1;31mKeyError\u001B[0m                                  Traceback (most recent call last)",
      "\u001B[1;32m~\\AppData\\Local\\Temp/ipykernel_8680/1784384528.py\u001B[0m in \u001B[0;36m<module>\u001B[1;34m\u001B[0m\n\u001B[1;32m----> 1\u001B[1;33m \u001B[0mdf\u001B[0m \u001B[1;33m=\u001B[0m \u001B[0mdf\u001B[0m\u001B[1;33m.\u001B[0m\u001B[0mset_index\u001B[0m\u001B[1;33m(\u001B[0m\u001B[1;34m't_dat'\u001B[0m\u001B[1;33m)\u001B[0m\u001B[1;33m\u001B[0m\u001B[1;33m\u001B[0m\u001B[0m\n\u001B[0m",
      "\u001B[1;32m~\\PycharmProjects\\kaggle\\venv\\lib\\site-packages\\pandas\\util\\_decorators.py\u001B[0m in \u001B[0;36mwrapper\u001B[1;34m(*args, **kwargs)\u001B[0m\n\u001B[0;32m    309\u001B[0m                     \u001B[0mstacklevel\u001B[0m\u001B[1;33m=\u001B[0m\u001B[0mstacklevel\u001B[0m\u001B[1;33m,\u001B[0m\u001B[1;33m\u001B[0m\u001B[1;33m\u001B[0m\u001B[0m\n\u001B[0;32m    310\u001B[0m                 )\n\u001B[1;32m--> 311\u001B[1;33m             \u001B[1;32mreturn\u001B[0m \u001B[0mfunc\u001B[0m\u001B[1;33m(\u001B[0m\u001B[1;33m*\u001B[0m\u001B[0margs\u001B[0m\u001B[1;33m,\u001B[0m \u001B[1;33m**\u001B[0m\u001B[0mkwargs\u001B[0m\u001B[1;33m)\u001B[0m\u001B[1;33m\u001B[0m\u001B[1;33m\u001B[0m\u001B[0m\n\u001B[0m\u001B[0;32m    312\u001B[0m \u001B[1;33m\u001B[0m\u001B[0m\n\u001B[0;32m    313\u001B[0m         \u001B[1;32mreturn\u001B[0m \u001B[0mwrapper\u001B[0m\u001B[1;33m\u001B[0m\u001B[1;33m\u001B[0m\u001B[0m\n",
      "\u001B[1;32m~\\PycharmProjects\\kaggle\\venv\\lib\\site-packages\\pandas\\core\\frame.py\u001B[0m in \u001B[0;36mset_index\u001B[1;34m(self, keys, drop, append, inplace, verify_integrity)\u001B[0m\n\u001B[0;32m   5444\u001B[0m \u001B[1;33m\u001B[0m\u001B[0m\n\u001B[0;32m   5445\u001B[0m         \u001B[1;32mif\u001B[0m \u001B[0mmissing\u001B[0m\u001B[1;33m:\u001B[0m\u001B[1;33m\u001B[0m\u001B[1;33m\u001B[0m\u001B[0m\n\u001B[1;32m-> 5446\u001B[1;33m             \u001B[1;32mraise\u001B[0m \u001B[0mKeyError\u001B[0m\u001B[1;33m(\u001B[0m\u001B[1;34mf\"None of {missing} are in the columns\"\u001B[0m\u001B[1;33m)\u001B[0m\u001B[1;33m\u001B[0m\u001B[1;33m\u001B[0m\u001B[0m\n\u001B[0m\u001B[0;32m   5447\u001B[0m \u001B[1;33m\u001B[0m\u001B[0m\n\u001B[0;32m   5448\u001B[0m         \u001B[1;32mif\u001B[0m \u001B[0minplace\u001B[0m\u001B[1;33m:\u001B[0m\u001B[1;33m\u001B[0m\u001B[1;33m\u001B[0m\u001B[0m\n",
      "\u001B[1;31mKeyError\u001B[0m: \"None of ['t_dat'] are in the columns\""
     ]
    }
   ],
   "source": [],
   "metadata": {
    "collapsed": false,
    "pycharm": {
     "name": "#%%\n"
    }
   }
  },
  {
   "cell_type": "code",
   "execution_count": 162,
   "outputs": [
    {
     "data": {
      "text/plain": "                                                  customer_id  article_id  \\\nt_dat                                                                       \n2018-09-20  000058a12d5b43e67d225668fa1f8d618c13dc232df0ca...  0663713001   \n2018-09-20  000058a12d5b43e67d225668fa1f8d618c13dc232df0ca...  0541518023   \n2018-09-20  00007d2de826758b65a93dd24ce629ed66842531df6699...  0505221004   \n2018-09-20  00007d2de826758b65a93dd24ce629ed66842531df6699...  0685687003   \n2018-09-20  00007d2de826758b65a93dd24ce629ed66842531df6699...  0685687004   \n...                                                       ...         ...   \n2018-09-22  fffbdd2f8e59d45c0fb50a14b0ea555f7daa5307b3f922...  0614010001   \n2018-09-22  fffbdd2f8e59d45c0fb50a14b0ea555f7daa5307b3f922...  0501820001   \n2018-09-22  fffe7116f9f68e8ad287fd7b6e33aad4871d7080e77d2d...  0580770002   \n2018-09-22  fffe7116f9f68e8ad287fd7b6e33aad4871d7080e77d2d...  0496111013   \n2018-09-22  fffe7116f9f68e8ad287fd7b6e33aad4871d7080e77d2d...  0548467001   \n\n               price  sales_channel_id  \nt_dat                                   \n2018-09-20  0.050831                 2  \n2018-09-20  0.030492                 2  \n2018-09-20  0.015237                 2  \n2018-09-20  0.016932                 2  \n2018-09-20  0.016932                 2  \n...              ...               ...  \n2018-09-22  0.050831                 2  \n2018-09-22  0.016932                 2  \n2018-09-22  0.016932                 2  \n2018-09-22  0.016932                 2  \n2018-09-22  0.016932                 2  \n\n[113577 rows x 4 columns]",
      "text/html": "<div>\n<style scoped>\n    .dataframe tbody tr th:only-of-type {\n        vertical-align: middle;\n    }\n\n    .dataframe tbody tr th {\n        vertical-align: top;\n    }\n\n    .dataframe thead th {\n        text-align: right;\n    }\n</style>\n<table border=\"1\" class=\"dataframe\">\n  <thead>\n    <tr style=\"text-align: right;\">\n      <th></th>\n      <th>customer_id</th>\n      <th>article_id</th>\n      <th>price</th>\n      <th>sales_channel_id</th>\n    </tr>\n    <tr>\n      <th>t_dat</th>\n      <th></th>\n      <th></th>\n      <th></th>\n      <th></th>\n    </tr>\n  </thead>\n  <tbody>\n    <tr>\n      <th>2018-09-20</th>\n      <td>000058a12d5b43e67d225668fa1f8d618c13dc232df0ca...</td>\n      <td>0663713001</td>\n      <td>0.050831</td>\n      <td>2</td>\n    </tr>\n    <tr>\n      <th>2018-09-20</th>\n      <td>000058a12d5b43e67d225668fa1f8d618c13dc232df0ca...</td>\n      <td>0541518023</td>\n      <td>0.030492</td>\n      <td>2</td>\n    </tr>\n    <tr>\n      <th>2018-09-20</th>\n      <td>00007d2de826758b65a93dd24ce629ed66842531df6699...</td>\n      <td>0505221004</td>\n      <td>0.015237</td>\n      <td>2</td>\n    </tr>\n    <tr>\n      <th>2018-09-20</th>\n      <td>00007d2de826758b65a93dd24ce629ed66842531df6699...</td>\n      <td>0685687003</td>\n      <td>0.016932</td>\n      <td>2</td>\n    </tr>\n    <tr>\n      <th>2018-09-20</th>\n      <td>00007d2de826758b65a93dd24ce629ed66842531df6699...</td>\n      <td>0685687004</td>\n      <td>0.016932</td>\n      <td>2</td>\n    </tr>\n    <tr>\n      <th>...</th>\n      <td>...</td>\n      <td>...</td>\n      <td>...</td>\n      <td>...</td>\n    </tr>\n    <tr>\n      <th>2018-09-22</th>\n      <td>fffbdd2f8e59d45c0fb50a14b0ea555f7daa5307b3f922...</td>\n      <td>0614010001</td>\n      <td>0.050831</td>\n      <td>2</td>\n    </tr>\n    <tr>\n      <th>2018-09-22</th>\n      <td>fffbdd2f8e59d45c0fb50a14b0ea555f7daa5307b3f922...</td>\n      <td>0501820001</td>\n      <td>0.016932</td>\n      <td>2</td>\n    </tr>\n    <tr>\n      <th>2018-09-22</th>\n      <td>fffe7116f9f68e8ad287fd7b6e33aad4871d7080e77d2d...</td>\n      <td>0580770002</td>\n      <td>0.016932</td>\n      <td>2</td>\n    </tr>\n    <tr>\n      <th>2018-09-22</th>\n      <td>fffe7116f9f68e8ad287fd7b6e33aad4871d7080e77d2d...</td>\n      <td>0496111013</td>\n      <td>0.016932</td>\n      <td>2</td>\n    </tr>\n    <tr>\n      <th>2018-09-22</th>\n      <td>fffe7116f9f68e8ad287fd7b6e33aad4871d7080e77d2d...</td>\n      <td>0548467001</td>\n      <td>0.016932</td>\n      <td>2</td>\n    </tr>\n  </tbody>\n</table>\n<p>113577 rows × 4 columns</p>\n</div>"
     },
     "execution_count": 162,
     "metadata": {},
     "output_type": "execute_result"
    }
   ],
   "source": [
    "from functools import partial\n",
    "\n",
    "\n",
    "date_unit"
   ],
   "metadata": {
    "collapsed": false,
    "pycharm": {
     "name": "#%%\n"
    }
   }
  },
  {
   "cell_type": "code",
   "execution_count": 161,
   "outputs": [],
   "source": [
    "date_unit = df.loc[date_chunk[0]]"
   ],
   "metadata": {
    "collapsed": false,
    "pycharm": {
     "name": "#%%\n"
    }
   }
  },
  {
   "cell_type": "code",
   "execution_count": 163,
   "outputs": [],
   "source": [
    "article_unit = date_unit.groupby('customer_id')['article_id'].apply(lambda article_id: list(set(article_id))).values"
   ],
   "metadata": {
    "collapsed": false,
    "pycharm": {
     "name": "#%%\n"
    }
   }
  },
  {
   "cell_type": "code",
   "execution_count": 164,
   "outputs": [],
   "source": [
    "ps = PrefixSpan(article_unit)"
   ],
   "metadata": {
    "collapsed": false,
    "pycharm": {
     "name": "#%%\n"
    }
   }
  },
  {
   "cell_type": "code",
   "execution_count": 165,
   "outputs": [],
   "source": [
    "res = ps.topk(5)"
   ],
   "metadata": {
    "collapsed": false,
    "pycharm": {
     "name": "#%%\n"
    }
   }
  },
  {
   "cell_type": "code",
   "execution_count": 166,
   "outputs": [
    {
     "data": {
      "text/plain": "[(771, ['0685687004']),\n (508, ['0685687001']),\n (439, ['0685687003']),\n (271, ['0685687002']),\n (264, ['0673677002'])]"
     },
     "execution_count": 166,
     "metadata": {},
     "output_type": "execute_result"
    }
   ],
   "source": [
    "import pandas as pd\n",
    "\n",
    "res"
   ],
   "metadata": {
    "collapsed": false,
    "pycharm": {
     "name": "#%%\n"
    }
   }
  },
  {
   "cell_type": "code",
   "execution_count": 167,
   "outputs": [],
   "source": [
    "res.sort(key=lambda x: x[0], reverse=True)"
   ],
   "metadata": {
    "collapsed": false,
    "pycharm": {
     "name": "#%%\n"
    }
   }
  },
  {
   "cell_type": "code",
   "execution_count": 168,
   "outputs": [
    {
     "data": {
      "text/plain": "[(771, ['0685687004']),\n (508, ['0685687001']),\n (439, ['0685687003']),\n (271, ['0685687002']),\n (264, ['0673677002'])]"
     },
     "execution_count": 168,
     "metadata": {},
     "output_type": "execute_result"
    }
   ],
   "source": [
    "res"
   ],
   "metadata": {
    "collapsed": false,
    "pycharm": {
     "name": "#%%\n"
    }
   }
  },
  {
   "cell_type": "code",
   "execution_count": 169,
   "outputs": [],
   "source": [
    "res = pd.DataFrame(data=res,columns=['frequent','pattern'])"
   ],
   "metadata": {
    "collapsed": false,
    "pycharm": {
     "name": "#%%\n"
    }
   }
  },
  {
   "cell_type": "code",
   "execution_count": 188,
   "outputs": [
    {
     "data": {
      "text/plain": "                                                  customer_id  article_id  \\\nt_dat                                                                       \n2018-09-20  000058a12d5b43e67d225668fa1f8d618c13dc232df0ca...  0663713001   \n2018-09-20  000058a12d5b43e67d225668fa1f8d618c13dc232df0ca...  0541518023   \n2018-09-20  00007d2de826758b65a93dd24ce629ed66842531df6699...  0505221004   \n2018-09-20  00007d2de826758b65a93dd24ce629ed66842531df6699...  0685687003   \n2018-09-20  00007d2de826758b65a93dd24ce629ed66842531df6699...  0685687004   \n...                                                       ...         ...   \n2018-09-22  fffbdd2f8e59d45c0fb50a14b0ea555f7daa5307b3f922...  0614010001   \n2018-09-22  fffbdd2f8e59d45c0fb50a14b0ea555f7daa5307b3f922...  0501820001   \n2018-09-22  fffe7116f9f68e8ad287fd7b6e33aad4871d7080e77d2d...  0580770002   \n2018-09-22  fffe7116f9f68e8ad287fd7b6e33aad4871d7080e77d2d...  0496111013   \n2018-09-22  fffe7116f9f68e8ad287fd7b6e33aad4871d7080e77d2d...  0548467001   \n\n               price  sales_channel_id  \nt_dat                                   \n2018-09-20  0.050831                 2  \n2018-09-20  0.030492                 2  \n2018-09-20  0.015237                 2  \n2018-09-20  0.016932                 2  \n2018-09-20  0.016932                 2  \n...              ...               ...  \n2018-09-22  0.050831                 2  \n2018-09-22  0.016932                 2  \n2018-09-22  0.016932                 2  \n2018-09-22  0.016932                 2  \n2018-09-22  0.016932                 2  \n\n[113577 rows x 4 columns]",
      "text/html": "<div>\n<style scoped>\n    .dataframe tbody tr th:only-of-type {\n        vertical-align: middle;\n    }\n\n    .dataframe tbody tr th {\n        vertical-align: top;\n    }\n\n    .dataframe thead th {\n        text-align: right;\n    }\n</style>\n<table border=\"1\" class=\"dataframe\">\n  <thead>\n    <tr style=\"text-align: right;\">\n      <th></th>\n      <th>customer_id</th>\n      <th>article_id</th>\n      <th>price</th>\n      <th>sales_channel_id</th>\n    </tr>\n    <tr>\n      <th>t_dat</th>\n      <th></th>\n      <th></th>\n      <th></th>\n      <th></th>\n    </tr>\n  </thead>\n  <tbody>\n    <tr>\n      <th>2018-09-20</th>\n      <td>000058a12d5b43e67d225668fa1f8d618c13dc232df0ca...</td>\n      <td>0663713001</td>\n      <td>0.050831</td>\n      <td>2</td>\n    </tr>\n    <tr>\n      <th>2018-09-20</th>\n      <td>000058a12d5b43e67d225668fa1f8d618c13dc232df0ca...</td>\n      <td>0541518023</td>\n      <td>0.030492</td>\n      <td>2</td>\n    </tr>\n    <tr>\n      <th>2018-09-20</th>\n      <td>00007d2de826758b65a93dd24ce629ed66842531df6699...</td>\n      <td>0505221004</td>\n      <td>0.015237</td>\n      <td>2</td>\n    </tr>\n    <tr>\n      <th>2018-09-20</th>\n      <td>00007d2de826758b65a93dd24ce629ed66842531df6699...</td>\n      <td>0685687003</td>\n      <td>0.016932</td>\n      <td>2</td>\n    </tr>\n    <tr>\n      <th>2018-09-20</th>\n      <td>00007d2de826758b65a93dd24ce629ed66842531df6699...</td>\n      <td>0685687004</td>\n      <td>0.016932</td>\n      <td>2</td>\n    </tr>\n    <tr>\n      <th>...</th>\n      <td>...</td>\n      <td>...</td>\n      <td>...</td>\n      <td>...</td>\n    </tr>\n    <tr>\n      <th>2018-09-22</th>\n      <td>fffbdd2f8e59d45c0fb50a14b0ea555f7daa5307b3f922...</td>\n      <td>0614010001</td>\n      <td>0.050831</td>\n      <td>2</td>\n    </tr>\n    <tr>\n      <th>2018-09-22</th>\n      <td>fffbdd2f8e59d45c0fb50a14b0ea555f7daa5307b3f922...</td>\n      <td>0501820001</td>\n      <td>0.016932</td>\n      <td>2</td>\n    </tr>\n    <tr>\n      <th>2018-09-22</th>\n      <td>fffe7116f9f68e8ad287fd7b6e33aad4871d7080e77d2d...</td>\n      <td>0580770002</td>\n      <td>0.016932</td>\n      <td>2</td>\n    </tr>\n    <tr>\n      <th>2018-09-22</th>\n      <td>fffe7116f9f68e8ad287fd7b6e33aad4871d7080e77d2d...</td>\n      <td>0496111013</td>\n      <td>0.016932</td>\n      <td>2</td>\n    </tr>\n    <tr>\n      <th>2018-09-22</th>\n      <td>fffe7116f9f68e8ad287fd7b6e33aad4871d7080e77d2d...</td>\n      <td>0548467001</td>\n      <td>0.016932</td>\n      <td>2</td>\n    </tr>\n  </tbody>\n</table>\n<p>113577 rows × 4 columns</p>\n</div>"
     },
     "execution_count": 188,
     "metadata": {},
     "output_type": "execute_result"
    }
   ],
   "source": [
    "date_unit"
   ],
   "metadata": {
    "collapsed": false,
    "pycharm": {
     "name": "#%%\n"
    }
   }
  },
  {
   "cell_type": "code",
   "execution_count": 189,
   "outputs": [
    {
     "data": {
      "text/plain": "                                                  customer_id  article_id  \\\nt_dat                                                                       \n2018-09-20  000058a12d5b43e67d225668fa1f8d618c13dc232df0ca...  0663713001   \n2018-09-20  000058a12d5b43e67d225668fa1f8d618c13dc232df0ca...  0541518023   \n2018-09-20  00007d2de826758b65a93dd24ce629ed66842531df6699...  0505221004   \n2018-09-20  00007d2de826758b65a93dd24ce629ed66842531df6699...  0685687003   \n2018-09-20  00007d2de826758b65a93dd24ce629ed66842531df6699...  0685687004   \n...                                                       ...         ...   \n2018-09-26  eba6633f08ed7939e039e2e4373428c1d037a66bae41d3...  0591334001   \n2018-09-26  eba6633f08ed7939e039e2e4373428c1d037a66bae41d3...  0591334001   \n2018-09-26  eba6633f08ed7939e039e2e4373428c1d037a66bae41d3...  0662857002   \n2018-09-26  eba6633f08ed7939e039e2e4373428c1d037a66bae41d3...  0662857002   \n2018-09-26  ebac71216b3f6affa29a6225cdbabe4eb93be0da9084b1...  0682267002   \n\n               price  sales_channel_id  \nt_dat                                   \n2018-09-20  0.050831                 2  \n2018-09-20  0.030492                 2  \n2018-09-20  0.015237                 2  \n2018-09-20  0.016932                 2  \n2018-09-20  0.016932                 2  \n...              ...               ...  \n2018-09-26  0.016932                 2  \n2018-09-26  0.016932                 2  \n2018-09-26  0.042356                 2  \n2018-09-26  0.042356                 2  \n2018-09-26  0.050831                 2  \n\n[300000 rows x 4 columns]",
      "text/html": "<div>\n<style scoped>\n    .dataframe tbody tr th:only-of-type {\n        vertical-align: middle;\n    }\n\n    .dataframe tbody tr th {\n        vertical-align: top;\n    }\n\n    .dataframe thead th {\n        text-align: right;\n    }\n</style>\n<table border=\"1\" class=\"dataframe\">\n  <thead>\n    <tr style=\"text-align: right;\">\n      <th></th>\n      <th>customer_id</th>\n      <th>article_id</th>\n      <th>price</th>\n      <th>sales_channel_id</th>\n    </tr>\n    <tr>\n      <th>t_dat</th>\n      <th></th>\n      <th></th>\n      <th></th>\n      <th></th>\n    </tr>\n  </thead>\n  <tbody>\n    <tr>\n      <th>2018-09-20</th>\n      <td>000058a12d5b43e67d225668fa1f8d618c13dc232df0ca...</td>\n      <td>0663713001</td>\n      <td>0.050831</td>\n      <td>2</td>\n    </tr>\n    <tr>\n      <th>2018-09-20</th>\n      <td>000058a12d5b43e67d225668fa1f8d618c13dc232df0ca...</td>\n      <td>0541518023</td>\n      <td>0.030492</td>\n      <td>2</td>\n    </tr>\n    <tr>\n      <th>2018-09-20</th>\n      <td>00007d2de826758b65a93dd24ce629ed66842531df6699...</td>\n      <td>0505221004</td>\n      <td>0.015237</td>\n      <td>2</td>\n    </tr>\n    <tr>\n      <th>2018-09-20</th>\n      <td>00007d2de826758b65a93dd24ce629ed66842531df6699...</td>\n      <td>0685687003</td>\n      <td>0.016932</td>\n      <td>2</td>\n    </tr>\n    <tr>\n      <th>2018-09-20</th>\n      <td>00007d2de826758b65a93dd24ce629ed66842531df6699...</td>\n      <td>0685687004</td>\n      <td>0.016932</td>\n      <td>2</td>\n    </tr>\n    <tr>\n      <th>...</th>\n      <td>...</td>\n      <td>...</td>\n      <td>...</td>\n      <td>...</td>\n    </tr>\n    <tr>\n      <th>2018-09-26</th>\n      <td>eba6633f08ed7939e039e2e4373428c1d037a66bae41d3...</td>\n      <td>0591334001</td>\n      <td>0.016932</td>\n      <td>2</td>\n    </tr>\n    <tr>\n      <th>2018-09-26</th>\n      <td>eba6633f08ed7939e039e2e4373428c1d037a66bae41d3...</td>\n      <td>0591334001</td>\n      <td>0.016932</td>\n      <td>2</td>\n    </tr>\n    <tr>\n      <th>2018-09-26</th>\n      <td>eba6633f08ed7939e039e2e4373428c1d037a66bae41d3...</td>\n      <td>0662857002</td>\n      <td>0.042356</td>\n      <td>2</td>\n    </tr>\n    <tr>\n      <th>2018-09-26</th>\n      <td>eba6633f08ed7939e039e2e4373428c1d037a66bae41d3...</td>\n      <td>0662857002</td>\n      <td>0.042356</td>\n      <td>2</td>\n    </tr>\n    <tr>\n      <th>2018-09-26</th>\n      <td>ebac71216b3f6affa29a6225cdbabe4eb93be0da9084b1...</td>\n      <td>0682267002</td>\n      <td>0.050831</td>\n      <td>2</td>\n    </tr>\n  </tbody>\n</table>\n<p>300000 rows × 4 columns</p>\n</div>"
     },
     "execution_count": 189,
     "metadata": {},
     "output_type": "execute_result"
    }
   ],
   "source": [
    "df"
   ],
   "metadata": {
    "collapsed": false,
    "pycharm": {
     "name": "#%%\n"
    }
   }
  },
  {
   "cell_type": "code",
   "execution_count": null,
   "outputs": [],
   "source": [
    "def get_date_support(date_chunk_unit:np.array, df:pd.DataFrame ):\n",
    "\n",
    "    pid = mp.current_process().pid\n",
    "\n",
    "    print(f\"[PID {pid:>2d}] Started working with {n:5d} users\")\n",
    "\n",
    "    date_unit = df.loc[date_chunk_unit]\n",
    "    article_unit = date_unit.groupby('customer_id')['article_id'].apply(lambda article_id: list(set(article_id))).values\n",
    "    ps = PrefixSpan(article_unit)\n",
    "    res = ps.topk(5)\n",
    "    res = pd.DataFrame(data=res, columns=['frequent','pattern'])\n",
    "    return res"
   ],
   "metadata": {
    "collapsed": false,
    "pycharm": {
     "name": "#%%\n",
     "is_executing": true
    }
   }
  },
  {
   "cell_type": "code",
   "execution_count": null,
   "outputs": [],
   "source": [
    "date_chunk"
   ],
   "metadata": {
    "collapsed": false,
    "pycharm": {
     "name": "#%%\n",
     "is_executing": true
    }
   }
  },
  {
   "cell_type": "code",
   "execution_count": null,
   "outputs": [],
   "source": [
    "import multiprocessing as mp\n",
    "pid = mp.current_process().pid"
   ],
   "metadata": {
    "collapsed": false,
    "pycharm": {
     "name": "#%%\n"
    }
   }
  },
  {
   "cell_type": "code",
   "execution_count": 174,
   "outputs": [
    {
     "data": {
      "text/plain": "23608"
     },
     "execution_count": 174,
     "metadata": {},
     "output_type": "execute_result"
    }
   ],
   "source": [],
   "metadata": {
    "collapsed": false,
    "pycharm": {
     "name": "#%%\n"
    }
   }
  },
  {
   "cell_type": "code",
   "execution_count": null,
   "outputs": [],
   "source": [
    "pid"
   ],
   "metadata": {
    "collapsed": false,
    "pycharm": {
     "name": "#%%\n"
    }
   }
  },
  {
   "cell_type": "code",
   "execution_count": 175,
   "outputs": [
    {
     "data": {
      "text/plain": "                                                  customer_id  article_id  \\\nt_dat                                                                       \n2018-09-20  000058a12d5b43e67d225668fa1f8d618c13dc232df0ca...  0663713001   \n2018-09-20  000058a12d5b43e67d225668fa1f8d618c13dc232df0ca...  0541518023   \n2018-09-20  00007d2de826758b65a93dd24ce629ed66842531df6699...  0505221004   \n2018-09-20  00007d2de826758b65a93dd24ce629ed66842531df6699...  0685687003   \n2018-09-20  00007d2de826758b65a93dd24ce629ed66842531df6699...  0685687004   \n...                                                       ...         ...   \n2018-09-22  fffbdd2f8e59d45c0fb50a14b0ea555f7daa5307b3f922...  0614010001   \n2018-09-22  fffbdd2f8e59d45c0fb50a14b0ea555f7daa5307b3f922...  0501820001   \n2018-09-22  fffe7116f9f68e8ad287fd7b6e33aad4871d7080e77d2d...  0580770002   \n2018-09-22  fffe7116f9f68e8ad287fd7b6e33aad4871d7080e77d2d...  0496111013   \n2018-09-22  fffe7116f9f68e8ad287fd7b6e33aad4871d7080e77d2d...  0548467001   \n\n               price  sales_channel_id  \nt_dat                                   \n2018-09-20  0.050831                 2  \n2018-09-20  0.030492                 2  \n2018-09-20  0.015237                 2  \n2018-09-20  0.016932                 2  \n2018-09-20  0.016932                 2  \n...              ...               ...  \n2018-09-22  0.050831                 2  \n2018-09-22  0.016932                 2  \n2018-09-22  0.016932                 2  \n2018-09-22  0.016932                 2  \n2018-09-22  0.016932                 2  \n\n[113577 rows x 4 columns]",
      "text/html": "<div>\n<style scoped>\n    .dataframe tbody tr th:only-of-type {\n        vertical-align: middle;\n    }\n\n    .dataframe tbody tr th {\n        vertical-align: top;\n    }\n\n    .dataframe thead th {\n        text-align: right;\n    }\n</style>\n<table border=\"1\" class=\"dataframe\">\n  <thead>\n    <tr style=\"text-align: right;\">\n      <th></th>\n      <th>customer_id</th>\n      <th>article_id</th>\n      <th>price</th>\n      <th>sales_channel_id</th>\n    </tr>\n    <tr>\n      <th>t_dat</th>\n      <th></th>\n      <th></th>\n      <th></th>\n      <th></th>\n    </tr>\n  </thead>\n  <tbody>\n    <tr>\n      <th>2018-09-20</th>\n      <td>000058a12d5b43e67d225668fa1f8d618c13dc232df0ca...</td>\n      <td>0663713001</td>\n      <td>0.050831</td>\n      <td>2</td>\n    </tr>\n    <tr>\n      <th>2018-09-20</th>\n      <td>000058a12d5b43e67d225668fa1f8d618c13dc232df0ca...</td>\n      <td>0541518023</td>\n      <td>0.030492</td>\n      <td>2</td>\n    </tr>\n    <tr>\n      <th>2018-09-20</th>\n      <td>00007d2de826758b65a93dd24ce629ed66842531df6699...</td>\n      <td>0505221004</td>\n      <td>0.015237</td>\n      <td>2</td>\n    </tr>\n    <tr>\n      <th>2018-09-20</th>\n      <td>00007d2de826758b65a93dd24ce629ed66842531df6699...</td>\n      <td>0685687003</td>\n      <td>0.016932</td>\n      <td>2</td>\n    </tr>\n    <tr>\n      <th>2018-09-20</th>\n      <td>00007d2de826758b65a93dd24ce629ed66842531df6699...</td>\n      <td>0685687004</td>\n      <td>0.016932</td>\n      <td>2</td>\n    </tr>\n    <tr>\n      <th>...</th>\n      <td>...</td>\n      <td>...</td>\n      <td>...</td>\n      <td>...</td>\n    </tr>\n    <tr>\n      <th>2018-09-22</th>\n      <td>fffbdd2f8e59d45c0fb50a14b0ea555f7daa5307b3f922...</td>\n      <td>0614010001</td>\n      <td>0.050831</td>\n      <td>2</td>\n    </tr>\n    <tr>\n      <th>2018-09-22</th>\n      <td>fffbdd2f8e59d45c0fb50a14b0ea555f7daa5307b3f922...</td>\n      <td>0501820001</td>\n      <td>0.016932</td>\n      <td>2</td>\n    </tr>\n    <tr>\n      <th>2018-09-22</th>\n      <td>fffe7116f9f68e8ad287fd7b6e33aad4871d7080e77d2d...</td>\n      <td>0580770002</td>\n      <td>0.016932</td>\n      <td>2</td>\n    </tr>\n    <tr>\n      <th>2018-09-22</th>\n      <td>fffe7116f9f68e8ad287fd7b6e33aad4871d7080e77d2d...</td>\n      <td>0496111013</td>\n      <td>0.016932</td>\n      <td>2</td>\n    </tr>\n    <tr>\n      <th>2018-09-22</th>\n      <td>fffe7116f9f68e8ad287fd7b6e33aad4871d7080e77d2d...</td>\n      <td>0548467001</td>\n      <td>0.016932</td>\n      <td>2</td>\n    </tr>\n  </tbody>\n</table>\n<p>113577 rows × 4 columns</p>\n</div>"
     },
     "execution_count": 175,
     "metadata": {},
     "output_type": "execute_result"
    }
   ],
   "source": [
    "date_unit"
   ],
   "metadata": {
    "collapsed": false,
    "pycharm": {
     "name": "#%%\n"
    }
   }
  },
  {
   "cell_type": "code",
   "execution_count": 176,
   "outputs": [
    {
     "data": {
      "text/plain": "array([list(['0640244003', '0639677008', '0583558001']),\n       list(['0541518023', '0663713001']),\n       list(['0685687003', '0505221001', '0685687004', '0685687001', '0505221004']),\n       ..., list(['0501820001', '0614010001']),\n       list(['0548467001', '0496111013', '0580770002']),\n       list(['0568597019'])], dtype=object)"
     },
     "execution_count": 176,
     "metadata": {},
     "output_type": "execute_result"
    }
   ],
   "source": [
    "article_unit"
   ],
   "metadata": {
    "collapsed": false,
    "pycharm": {
     "name": "#%%\n"
    }
   }
  },
  {
   "cell_type": "code",
   "execution_count": 177,
   "outputs": [],
   "source": [
    "ps = PrefixSpan(article_unit)"
   ],
   "metadata": {
    "collapsed": false,
    "pycharm": {
     "name": "#%%\n"
    }
   }
  },
  {
   "cell_type": "code",
   "execution_count": 179,
   "outputs": [],
   "source": [
    "res = ps.topk(5)"
   ],
   "metadata": {
    "collapsed": false,
    "pycharm": {
     "name": "#%%\n"
    }
   }
  },
  {
   "cell_type": "code",
   "execution_count": 180,
   "outputs": [],
   "source": [
    "res  =pd.DataFrame(data =res, columns=['1','2'])"
   ],
   "metadata": {
    "collapsed": false,
    "pycharm": {
     "name": "#%%\n"
    }
   }
  },
  {
   "cell_type": "code",
   "execution_count": 181,
   "outputs": [
    {
     "data": {
      "text/plain": "     1             2\n0  771  [0685687004]\n1  508  [0685687001]\n2  439  [0685687003]\n3  271  [0685687002]\n4  264  [0673677002]",
      "text/html": "<div>\n<style scoped>\n    .dataframe tbody tr th:only-of-type {\n        vertical-align: middle;\n    }\n\n    .dataframe tbody tr th {\n        vertical-align: top;\n    }\n\n    .dataframe thead th {\n        text-align: right;\n    }\n</style>\n<table border=\"1\" class=\"dataframe\">\n  <thead>\n    <tr style=\"text-align: right;\">\n      <th></th>\n      <th>1</th>\n      <th>2</th>\n    </tr>\n  </thead>\n  <tbody>\n    <tr>\n      <th>0</th>\n      <td>771</td>\n      <td>[0685687004]</td>\n    </tr>\n    <tr>\n      <th>1</th>\n      <td>508</td>\n      <td>[0685687001]</td>\n    </tr>\n    <tr>\n      <th>2</th>\n      <td>439</td>\n      <td>[0685687003]</td>\n    </tr>\n    <tr>\n      <th>3</th>\n      <td>271</td>\n      <td>[0685687002]</td>\n    </tr>\n    <tr>\n      <th>4</th>\n      <td>264</td>\n      <td>[0673677002]</td>\n    </tr>\n  </tbody>\n</table>\n</div>"
     },
     "execution_count": 181,
     "metadata": {},
     "output_type": "execute_result"
    }
   ],
   "source": [
    "res"
   ],
   "metadata": {
    "collapsed": false,
    "pycharm": {
     "name": "#%%\n"
    }
   }
  },
  {
   "cell_type": "code",
   "execution_count": 182,
   "outputs": [],
   "source": [
    "#  df 는 함수 정의할 때 주입하지 않고 여기서 한번 주입한다 , multiprocess 이므로\n",
    "\n",
    "from multiprocessing import Pool\n",
    "from functools import partial"
   ],
   "metadata": {
    "collapsed": false,
    "pycharm": {
     "name": "#%%\n"
    }
   }
  },
  {
   "cell_type": "code",
   "execution_count": 183,
   "outputs": [
    {
     "data": {
      "text/plain": "                                                  customer_id  article_id  \\\nt_dat                                                                       \n2018-09-20  000058a12d5b43e67d225668fa1f8d618c13dc232df0ca...  0663713001   \n2018-09-20  000058a12d5b43e67d225668fa1f8d618c13dc232df0ca...  0541518023   \n2018-09-20  00007d2de826758b65a93dd24ce629ed66842531df6699...  0505221004   \n2018-09-20  00007d2de826758b65a93dd24ce629ed66842531df6699...  0685687003   \n2018-09-20  00007d2de826758b65a93dd24ce629ed66842531df6699...  0685687004   \n...                                                       ...         ...   \n2018-09-26  eba6633f08ed7939e039e2e4373428c1d037a66bae41d3...  0591334001   \n2018-09-26  eba6633f08ed7939e039e2e4373428c1d037a66bae41d3...  0591334001   \n2018-09-26  eba6633f08ed7939e039e2e4373428c1d037a66bae41d3...  0662857002   \n2018-09-26  eba6633f08ed7939e039e2e4373428c1d037a66bae41d3...  0662857002   \n2018-09-26  ebac71216b3f6affa29a6225cdbabe4eb93be0da9084b1...  0682267002   \n\n               price  sales_channel_id  \nt_dat                                   \n2018-09-20  0.050831                 2  \n2018-09-20  0.030492                 2  \n2018-09-20  0.015237                 2  \n2018-09-20  0.016932                 2  \n2018-09-20  0.016932                 2  \n...              ...               ...  \n2018-09-26  0.016932                 2  \n2018-09-26  0.016932                 2  \n2018-09-26  0.042356                 2  \n2018-09-26  0.042356                 2  \n2018-09-26  0.050831                 2  \n\n[300000 rows x 4 columns]",
      "text/html": "<div>\n<style scoped>\n    .dataframe tbody tr th:only-of-type {\n        vertical-align: middle;\n    }\n\n    .dataframe tbody tr th {\n        vertical-align: top;\n    }\n\n    .dataframe thead th {\n        text-align: right;\n    }\n</style>\n<table border=\"1\" class=\"dataframe\">\n  <thead>\n    <tr style=\"text-align: right;\">\n      <th></th>\n      <th>customer_id</th>\n      <th>article_id</th>\n      <th>price</th>\n      <th>sales_channel_id</th>\n    </tr>\n    <tr>\n      <th>t_dat</th>\n      <th></th>\n      <th></th>\n      <th></th>\n      <th></th>\n    </tr>\n  </thead>\n  <tbody>\n    <tr>\n      <th>2018-09-20</th>\n      <td>000058a12d5b43e67d225668fa1f8d618c13dc232df0ca...</td>\n      <td>0663713001</td>\n      <td>0.050831</td>\n      <td>2</td>\n    </tr>\n    <tr>\n      <th>2018-09-20</th>\n      <td>000058a12d5b43e67d225668fa1f8d618c13dc232df0ca...</td>\n      <td>0541518023</td>\n      <td>0.030492</td>\n      <td>2</td>\n    </tr>\n    <tr>\n      <th>2018-09-20</th>\n      <td>00007d2de826758b65a93dd24ce629ed66842531df6699...</td>\n      <td>0505221004</td>\n      <td>0.015237</td>\n      <td>2</td>\n    </tr>\n    <tr>\n      <th>2018-09-20</th>\n      <td>00007d2de826758b65a93dd24ce629ed66842531df6699...</td>\n      <td>0685687003</td>\n      <td>0.016932</td>\n      <td>2</td>\n    </tr>\n    <tr>\n      <th>2018-09-20</th>\n      <td>00007d2de826758b65a93dd24ce629ed66842531df6699...</td>\n      <td>0685687004</td>\n      <td>0.016932</td>\n      <td>2</td>\n    </tr>\n    <tr>\n      <th>...</th>\n      <td>...</td>\n      <td>...</td>\n      <td>...</td>\n      <td>...</td>\n    </tr>\n    <tr>\n      <th>2018-09-26</th>\n      <td>eba6633f08ed7939e039e2e4373428c1d037a66bae41d3...</td>\n      <td>0591334001</td>\n      <td>0.016932</td>\n      <td>2</td>\n    </tr>\n    <tr>\n      <th>2018-09-26</th>\n      <td>eba6633f08ed7939e039e2e4373428c1d037a66bae41d3...</td>\n      <td>0591334001</td>\n      <td>0.016932</td>\n      <td>2</td>\n    </tr>\n    <tr>\n      <th>2018-09-26</th>\n      <td>eba6633f08ed7939e039e2e4373428c1d037a66bae41d3...</td>\n      <td>0662857002</td>\n      <td>0.042356</td>\n      <td>2</td>\n    </tr>\n    <tr>\n      <th>2018-09-26</th>\n      <td>eba6633f08ed7939e039e2e4373428c1d037a66bae41d3...</td>\n      <td>0662857002</td>\n      <td>0.042356</td>\n      <td>2</td>\n    </tr>\n    <tr>\n      <th>2018-09-26</th>\n      <td>ebac71216b3f6affa29a6225cdbabe4eb93be0da9084b1...</td>\n      <td>0682267002</td>\n      <td>0.050831</td>\n      <td>2</td>\n    </tr>\n  </tbody>\n</table>\n<p>300000 rows × 4 columns</p>\n</div>"
     },
     "execution_count": 183,
     "metadata": {},
     "output_type": "execute_result"
    }
   ],
   "source": [
    "df"
   ],
   "metadata": {
    "collapsed": false,
    "pycharm": {
     "name": "#%%\n"
    }
   }
  },
  {
   "cell_type": "code",
   "execution_count": 184,
   "outputs": [],
   "source": [
    "f = partial( get_date_support ,df = df )"
   ],
   "metadata": {
    "collapsed": false,
    "pycharm": {
     "name": "#%%\n"
    }
   }
  },
  {
   "cell_type": "code",
   "execution_count": 45,
   "outputs": [
    {
     "data": {
      "text/plain": "[array([Timestamp('2018-09-20 00:00:00'), Timestamp('2018-09-21 00:00:00'),\n        Timestamp('2018-09-22 00:00:00')], dtype=object),\n array([Timestamp('2018-09-23 00:00:00'), Timestamp('2018-09-24 00:00:00')],\n       dtype=object),\n array([Timestamp('2018-09-25 00:00:00'), Timestamp('2018-09-26 00:00:00')],\n       dtype=object)]"
     },
     "execution_count": 45,
     "metadata": {},
     "output_type": "execute_result"
    }
   ],
   "source": [
    "date_chunk"
   ],
   "metadata": {
    "collapsed": false,
    "pycharm": {
     "name": "#%%\n"
    }
   }
  },
  {
   "cell_type": "code",
   "execution_count": 187,
   "outputs": [
    {
     "data": {
      "text/plain": "[array([Timestamp('2018-09-20 00:00:00'), Timestamp('2018-09-21 00:00:00'),\n        Timestamp('2018-09-22 00:00:00')], dtype=object),\n array([Timestamp('2018-09-23 00:00:00'), Timestamp('2018-09-24 00:00:00')],\n       dtype=object),\n array([Timestamp('2018-09-25 00:00:00'), Timestamp('2018-09-26 00:00:00')],\n       dtype=object)]"
     },
     "execution_count": 187,
     "metadata": {},
     "output_type": "execute_result"
    }
   ],
   "source": [],
   "metadata": {
    "collapsed": false,
    "pycharm": {
     "name": "#%%\n"
    }
   }
  },
  {
   "cell_type": "code",
   "execution_count": null,
   "outputs": [],
   "source": [
    "from multiprocessing import Pool"
   ],
   "metadata": {
    "collapsed": false,
    "pycharm": {
     "name": "#%%\n"
    }
   }
  },
  {
   "cell_type": "code",
   "execution_count": null,
   "outputs": [],
   "source": [
    "with Pool(3) as p:\n",
    "    res = p.map(f,date_chunk )\n",
    "df_rec = pd.DataFrame(pd.concat(res))\n"
   ],
   "metadata": {
    "collapsed": false,
    "pycharm": {
     "name": "#%%\n",
     "is_executing": true
    }
   }
  },
  {
   "cell_type": "code",
   "execution_count": null,
   "outputs": [],
   "source": [
    "res"
   ],
   "metadata": {
    "collapsed": false,
    "pycharm": {
     "name": "#%%\n",
     "is_executing": true
    }
   }
  },
  {
   "cell_type": "code",
   "execution_count": null,
   "outputs": [],
   "source": [
    "res"
   ],
   "metadata": {
    "collapsed": false,
    "pycharm": {
     "name": "#%%\n"
    }
   }
  },
  {
   "cell_type": "code",
   "execution_count": null,
   "outputs": [],
   "source": [
    "N_SIMILAR_USERS =30\n",
    "\n",
    "MINIMUM_PURCHASES = 3\n",
    "\n",
    "START_DATE = '2020-08-21'\n",
    "\n",
    "DROP_PURCHASE_ITEMS =False\n",
    "\n",
    "DROP_USER_FROM_HIS_NEIGHBORHOOD = False\n",
    "\n",
    "TEST_RUN = False\n",
    "\n",
    "TEST_SIZE = 1000\n",
    "\n"
   ],
   "metadata": {
    "collapsed": false,
    "pycharm": {
     "name": "#%%# BUILD MODEL\n"
    }
   }
  },
  {
   "cell_type": "code",
   "execution_count": null,
   "outputs": [],
   "source": [
    "def flatten(l):\n",
    "    \"\"\" Flatten a list of lists\"\"\"\n",
    "    return [item for sublist in l for item in sublist]"
   ],
   "metadata": {
    "collapsed": false,
    "pycharm": {
     "name": "#%%\n"
    }
   }
  },
  {
   "cell_type": "code",
   "execution_count": null,
   "outputs": [],
   "source": [
    "def compare_vectors(v1, v2):\n",
    "    \"\"\"\n",
    "    Compare lists of purchased product for two given users\n",
    "    v1 stands for the \"vector representation for user 1\"  , which is a list of the purchases of u1\n",
    "\n",
    "    Returns:\n",
    "        A value between 0 and 1 (similarity)\n",
    "\n",
    "    :param v1:\n",
    "    :param v2:\n",
    "    :return:\n",
    "    \"\"\"\n",
    "    intersection = len(set(v1) & set(v2))\n",
    "    denominator = np.sqrt(len(v1) * len(v2))\n",
    "\n",
    "    return intersection / denominator"
   ],
   "metadata": {
    "collapsed": false,
    "pycharm": {
     "name": "#%%\n"
    }
   }
  },
  {
   "cell_type": "code",
   "execution_count": null,
   "outputs": [],
   "source": [
    "def get_similar_users(u , v , dfh):\n",
    "    \"\"\"\n",
    "    Get the N_SIMILAR_USERS most similar users to the given one with their similarity score\n",
    "\n",
    "    :param u: the user_id\n",
    "    :param v:  the \"vector\" representation of the user (list of item_id)\n",
    "    :param dfh: the \"history of transactions\" dataframe\n",
    "    :return: tuple of lists ([similar_user_id] , [similarity scores])\n",
    "    \"\"\"\n",
    "\n",
    "\n",
    "    similar_users = dfh.apply(lambda v_other : compare_vectors(v, v_other)).sort_values(ascending=False).head(N_SIMILAR_USERS+1)\n",
    "\n",
    "    if DROP_USER_FROM_HIS_NEIGHBORHOOD:\n",
    "        similar_users = similar_users[similar_users.index != u]\n",
    "\n",
    "    return similar_users.index.tolist(), similar_users.tolist()\n",
    "\n",
    "\n",
    "def get_items(u, v , dfh):\n",
    "    \"\"\" Get the recommend items for a given users\n",
    "\n",
    "    It will:\n",
    "        1) Get similar users for the given user\n",
    "        2) Obtain all the items those users purchased\n",
    "        3) Rank them using similarity scores of the user that purchased them\n",
    "        4) Return the 12 best ranked\n",
    "\n",
    "    Arguments:\n",
    "        u: the user_id,\n",
    "        v: the \"vector\" representation of the user ( list of item_id)\n",
    "        dfh : the \" history of transactions\" dataframe\n",
    "\n",
    "    Returns:\n",
    "        list of item_id of lenth at most 12\n",
    "    \"\"\"\n",
    "\n",
    "\n",
    "    global i, n\n",
    "\n",
    "    users, scores = get_similar_users(u, v , dfh)\n",
    "\n",
    "    df_nn = pd.DataFrame({'user':users, 'score': scores})\n",
    "\n",
    "    df_nn['items'] = df_nn.apply(lambda row: dfh.loc[row.user],axis=1)\n",
    "\n",
    "    df_nn['weighted_items'] = df_nn.apply(lambda row: [(item, row.score) for item in row['items']], axis=1)\n",
    "\n",
    "    recs = pd.DataFrame(flatten(df_nn['weighted_items'].tolist()),\\\n",
    "                        columns=['item','score']).groupby('item')['score'].sum().sort_values(ascending=False)\n",
    "\n",
    "\n",
    "    if DROP_PURCHASE_ITEMS:\n",
    "        recs = recs[~recs.index.isin(v)]\n",
    "    # Keep the first 12 and get the item_ids\n",
    "    i += 1\n",
    "    if i % 200 == 0:\n",
    "        pid = mp.current_process().pid\n",
    "        print(f\"[PID {pid:>2d}] Finished {i:3d} / {n:5d} - {i/n*100:3.0f}%\"  )\n",
    "    return recs.head(12).index.tolist()"
   ],
   "metadata": {
    "collapsed": false,
    "pycharm": {
     "name": "#%%\n"
    }
   }
  },
  {
   "cell_type": "code",
   "execution_count": null,
   "outputs": [],
   "source": [
    "def get_items_chunk(user_ids: np.array, dfh:pd.DataFrame):\n",
    "\n",
    "    \"\"\"Call get_item for a list of user_ids\n",
    "\n",
    "\n",
    "\n",
    "    :param use_ids: list of user_id\n",
    "    :param dfh: \"history of transactions\" dataframe\n",
    "    :return: pd.Series with index user_id and list of item_id (recommendation) as value\n",
    "    \"\"\"\n",
    "    global i, n\n",
    "    i = 0\n",
    "\n",
    "    n = len(user_ids)\n",
    "    pid = mp.current_process().pid\n",
    "\n",
    "    print(f\"[PID {pid:>2d}] Started working with {n:5d} users\")\n",
    "\n",
    "    df_user_vectors = pd.DataFrame(dfh.loc[user_ids]).reset_index()\n",
    "    df_user_vectors['recs'] = df_user_vectors.apply(lambda row: get_items(row.user_id,row.item_id,dfh),axis=1)\n",
    "    return df_user_vectors.set_index('user_id')['recs']"
   ],
   "metadata": {
    "collapsed": false,
    "pycharm": {
     "name": "#%%\n"
    }
   }
  },
  {
   "cell_type": "code",
   "execution_count": null,
   "outputs": [],
   "source": [],
   "metadata": {
    "collapsed": false,
    "pycharm": {
     "name": "#%%\n"
    }
   }
  },
  {
   "cell_type": "code",
   "execution_count": null,
   "outputs": [],
   "source": [
    "def get_recommendation(users: list , dfh :pd.DataFrame):\n",
    "\n",
    "\n",
    "    \"\"\"\n",
    "    Obtained recommendation for the users using transaction dfh in a parallelized manner\n",
    "\n",
    "    Call get_items_chunk in a  \"smart\" multiprocessing fashion\n",
    "\n",
    "    Arguments:\n",
    "        users: lists of user_id\n",
    "        dfh : the \"history of transactions\" dataframe\n",
    "    :return\n",
    "        pd.DataFrame with index user_id and list of item_id (recommendation) as value\n",
    "\n",
    "\n",
    "\n",
    "    :param users:\n",
    "    :param dfh:\n",
    "    :return:\n",
    "    \"\"\"\n",
    "    time_start = time.time()\n",
    "\n",
    "    #Split into approximately evenly sized chunks\n",
    "    # We will send just one batch to each CPU\n",
    "    user_chunks = np.array_split(users, mp.cpu_count())\n",
    "\n",
    "\n",
    "    f = partial(get_items_chunk,dfh=dfh)\n",
    "    with Pool(mp.cpu_count()) as p:\n",
    "        res = p.map(f, user_chunks)\n",
    "\n",
    "    df_rec = pd.DataFrame(pd.concat(res))\n",
    "\n",
    "    elapsed = (time.time() - time_start) / 60\n",
    "    print(f\"Finished get_recommendation({len(users)}). It took {elapsed:5.2f} mins \")\n",
    "    return df_rec\n",
    "\n",
    "    #%%"
   ],
   "metadata": {
    "collapsed": false,
    "pycharm": {
     "name": "#%%\n"
    }
   }
  },
  {
   "cell_type": "code",
   "execution_count": null,
   "outputs": [],
   "source": [],
   "metadata": {
    "collapsed": false,
    "pycharm": {
     "name": "#%%\n"
    }
   }
  },
  {
   "cell_type": "code",
   "execution_count": null,
   "outputs": [],
   "source": [
    "def uucf(df , start_date =START_DATE):\n",
    "\n",
    "    \"\"\"\n",
    "    Entry poin for the UUCF model\n",
    "\n",
    "    Receicve the original transactions_train.csv and a start_date and gets UUCF recommendations\n",
    "\n",
    "    the model will not cover the full list of users, but just a subset of them.\n",
    "\n",
    "    It will provid recommendations for users with at least MINIMUM_PURCHASES after start_date\n",
    "\n",
    "    It might return less than 12 recs per user.\n",
    "\n",
    "    An ad-hoc function for filling these gaps should be used downstream\n",
    "\n",
    "    (See fill functionallity right below)\n",
    "\n",
    "    Arguments:\n",
    "        df : The raw dataframe from transaction_train.csv\n",
    "        start_data : a date\n",
    "\n",
    "    Returns:\n",
    "        a submission-like pd.DataFrame with columns [customer_id, prediction]\n",
    "        'prediction' is a list and not a string though\n",
    "\n",
    "\n",
    "\n",
    "    :param df:\n",
    "    :param start_data:\n",
    "    :return:\n",
    "    \"\"\"\n",
    "\n",
    "    df_small = df[df['t_dat'] > start_date]\n",
    "    print(f\"Kept data from {start_date} on. Total rows: {len(df_small)}\")\n",
    "\n",
    "    # H stands for \"Transaction history\"\n",
    "    # dfh is a series of user_id => list of item_id (the list of purchases in order)\n",
    "    dfh = df_small.groupby(\"user_id\")['item_id'].apply(lambda items: list(set(items)))\n",
    "    dfh = dfh[dfh.str.len() >= MINIMUM_PURCHASES]\n",
    "\n",
    "    if TEST_RUN:\n",
    "        print(\"WARNING : TEST_RUN is True . It will be a toy execution\")\n",
    "        dfh = dfh.head(TEST_SIZE)\n",
    "    users = dfh.index.tolist()\n",
    "    n_users = len(users)\n",
    "    print(f\"Total users in the time frame with at least {MINIMUM_PURCHASES}: {n_users}\")\n",
    "\n",
    "\n",
    "    df_rec = get_recommendation(users, dfh)\n",
    "    df_rec['customer_id'] = df_rec.index.map(user_to_customer_map)\n",
    "    df_rec['prediction'] = df_rec['recs'].map(lambda l : [item_to_article_map[i] for i in l])\n",
    "\n",
    "    # Submission ready dataframe\n",
    "    df_rec.reset_index(drop=True)[['customer_id','prediction']]\n",
    "    return df_rec"
   ],
   "metadata": {
    "collapsed": false,
    "pycharm": {
     "name": "#%%\n"
    }
   }
  },
  {
   "cell_type": "code",
   "execution_count": null,
   "outputs": [],
   "source": [
    "## point line (test) process 확인용\n",
    "\n",
    "df_recs = uucf(df, '2018-09-20' )"
   ],
   "metadata": {
    "collapsed": false,
    "pycharm": {
     "name": "#%%\n"
    }
   }
  },
  {
   "cell_type": "code",
   "execution_count": null,
   "outputs": [],
   "source": [
    "df_small = df[df['t_dat'] > '2018-09-20']"
   ],
   "metadata": {
    "collapsed": false,
    "pycharm": {
     "name": "#%%\n"
    }
   }
  },
  {
   "cell_type": "code",
   "execution_count": null,
   "outputs": [],
   "source": [
    "dfh =df_small.groupby('user_id')['item_id'].apply(lambda  items: list(set(items)))"
   ],
   "metadata": {
    "collapsed": false,
    "pycharm": {
     "name": "#%%\n"
    }
   }
  },
  {
   "cell_type": "code",
   "execution_count": 1,
   "outputs": [
    {
     "ename": "NameError",
     "evalue": "name 'dfh' is not defined",
     "output_type": "error",
     "traceback": [
      "\u001B[1;31m---------------------------------------------------------------------------\u001B[0m",
      "\u001B[1;31mNameError\u001B[0m                                 Traceback (most recent call last)",
      "\u001B[1;32m~\\AppData\\Local\\Temp/ipykernel_8680/2888257152.py\u001B[0m in \u001B[0;36m<module>\u001B[1;34m\u001B[0m\n\u001B[1;32m----> 1\u001B[1;33m \u001B[0mdfh\u001B[0m\u001B[1;33m\u001B[0m\u001B[1;33m\u001B[0m\u001B[0m\n\u001B[0m",
      "\u001B[1;31mNameError\u001B[0m: name 'dfh' is not defined"
     ]
    }
   ],
   "source": [
    "dfh"
   ],
   "metadata": {
    "collapsed": false,
    "pycharm": {
     "name": "#%%\n"
    }
   }
  },
  {
   "cell_type": "code",
   "execution_count": null,
   "outputs": [],
   "source": [
    "dfh = dfh[dfh.str.len() >=MINIMUM_PURCHASES]"
   ],
   "metadata": {
    "collapsed": false,
    "pycharm": {
     "name": "#%%\n"
    }
   }
  },
  {
   "cell_type": "code",
   "execution_count": null,
   "outputs": [],
   "source": [
    "users = dfh.index.tolist()"
   ],
   "metadata": {
    "collapsed": false,
    "pycharm": {
     "name": "#%%\n"
    }
   }
  },
  {
   "cell_type": "code",
   "execution_count": null,
   "outputs": [],
   "source": [],
   "metadata": {
    "collapsed": false,
    "pycharm": {
     "name": "#%%\n"
    }
   }
  },
  {
   "cell_type": "code",
   "execution_count": null,
   "outputs": [],
   "source": [
    "user_chunks = np.array_split(users, mp.cpu_count())"
   ],
   "metadata": {
    "collapsed": false,
    "pycharm": {
     "name": "#%%\n"
    }
   }
  },
  {
   "cell_type": "code",
   "execution_count": null,
   "outputs": [],
   "source": [
    "dfh.loc[users]"
   ],
   "metadata": {
    "collapsed": false,
    "pycharm": {
     "name": "#%%\n"
    }
   }
  },
  {
   "cell_type": "code",
   "execution_count": null,
   "outputs": [],
   "source": [
    "time_start = time.time()\n",
    "\n",
    "#f = partial(get_items_chunk,dfh=dfh)\n",
    "\n",
    "#with Pool(mp.cpu_count()) as p:\n",
    "#    res = p.map(f, user_chunks)\n",
    "global i, n\n",
    "i = 0\n",
    "\n",
    "n = len(user_chunks)\n",
    "#pid = mp.current_process().pid\n",
    "#print(f\"[PID {pid:>2d}] Started working with {n:5d} users\")\n",
    "\n",
    "df_user_vectors = pd.DataFrame(dfh.loc[users]).reset_index()"
   ],
   "metadata": {
    "collapsed": false,
    "pycharm": {
     "name": "#%%\n"
    }
   }
  },
  {
   "cell_type": "code",
   "execution_count": null,
   "outputs": [],
   "source": [],
   "metadata": {
    "collapsed": false,
    "pycharm": {
     "name": "#%%\n"
    }
   }
  },
  {
   "cell_type": "code",
   "execution_count": null,
   "outputs": [],
   "source": [
    "dfh.loc[users]"
   ],
   "metadata": {
    "collapsed": false,
    "pycharm": {
     "name": "#%%\n"
    }
   }
  },
  {
   "cell_type": "code",
   "execution_count": null,
   "outputs": [],
   "source": [
    "df_user_vectors"
   ],
   "metadata": {
    "collapsed": false,
    "pycharm": {
     "name": "#%%\n"
    }
   }
  },
  {
   "cell_type": "code",
   "execution_count": null,
   "outputs": [],
   "source": [
    "df_user_vectors['recs'] = df_user_vectors.apply(lambda row: get_items(row.user_id,row.item_id,dfh),axis=1)\n",
    "df_user_vectors.set_index('user_id')['recs']"
   ],
   "metadata": {
    "collapsed": false,
    "pycharm": {
     "name": "#%%\n"
    }
   }
  },
  {
   "cell_type": "code",
   "execution_count": null,
   "outputs": [],
   "source": [
    "df_user_vectors"
   ],
   "metadata": {
    "collapsed": false,
    "pycharm": {
     "name": "#%%\n"
    }
   }
  },
  {
   "cell_type": "code",
   "execution_count": null,
   "outputs": [],
   "source": [
    "df_rec = pd.DataFrame(pd.concat(res))\n",
    "\n",
    "elapsed = (time.time() - time_start) / 60\n"
   ],
   "metadata": {
    "collapsed": false,
    "pycharm": {
     "name": "#%%\n"
    }
   }
  },
  {
   "cell_type": "code",
   "execution_count": null,
   "outputs": [],
   "source": [],
   "metadata": {
    "collapsed": false,
    "pycharm": {
     "name": "#%%\n"
    }
   }
  }
 ],
 "metadata": {
  "kernelspec": {
   "display_name": "Python 3",
   "language": "python",
   "name": "python3"
  },
  "language_info": {
   "codemirror_mode": {
    "name": "ipython",
    "version": 2
   },
   "file_extension": ".py",
   "mimetype": "text/x-python",
   "name": "python",
   "nbconvert_exporter": "python",
   "pygments_lexer": "ipython2",
   "version": "2.7.6"
  }
 },
 "nbformat": 4,
 "nbformat_minor": 0
}