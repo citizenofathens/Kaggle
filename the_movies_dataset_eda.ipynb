{
 "cells": [
  {
   "cell_type": "code",
   "execution_count": 2,
   "metadata": {
    "collapsed": true,
    "pycharm": {
     "name": "#%%\n"
    }
   },
   "outputs": [],
   "source": [
    "import pandas as pd\n",
    "import matplotlib.pyplot as plt\n",
    "import numpy as np"
   ]
  },
  {
   "cell_type": "code",
   "execution_count": 7,
   "outputs": [],
   "source": [
    "\"\"\"\"\"\n",
    "LOAD DATA\n",
    "\"\"\"\"\"\n",
    "ratings = pd.read_csv('C:\\\\Users\\\\tjdal\\\\PycharmProjects\\\\Kaggle\\\\movies\\\\ratings.csv')"
   ],
   "metadata": {
    "collapsed": false,
    "pycharm": {
     "name": "#%%\n"
    }
   }
  },
  {
   "cell_type": "code",
   "execution_count": 21,
   "outputs": [],
   "source": [
    "ratings_small =   pd.read_csv('C:\\\\Users\\\\tjdal\\\\PycharmProjects\\\\Kaggle\\\\movies\\\\ratings_small.csv')"
   ],
   "metadata": {
    "collapsed": false,
    "pycharm": {
     "name": "#%%\n"
    }
   }
  },
  {
   "cell_type": "code",
   "execution_count": 22,
   "outputs": [
    {
     "data": {
      "text/plain": "        userId  movieId  rating   timestamp\n0            1       31     2.5  1260759144\n1            1     1029     3.0  1260759179\n2            1     1061     3.0  1260759182\n3            1     1129     2.0  1260759185\n4            1     1172     4.0  1260759205\n...        ...      ...     ...         ...\n99999      671     6268     2.5  1065579370\n100000     671     6269     4.0  1065149201\n100001     671     6365     4.0  1070940363\n100002     671     6385     2.5  1070979663\n100003     671     6565     3.5  1074784724\n\n[100004 rows x 4 columns]",
      "text/html": "<div>\n<style scoped>\n    .dataframe tbody tr th:only-of-type {\n        vertical-align: middle;\n    }\n\n    .dataframe tbody tr th {\n        vertical-align: top;\n    }\n\n    .dataframe thead th {\n        text-align: right;\n    }\n</style>\n<table border=\"1\" class=\"dataframe\">\n  <thead>\n    <tr style=\"text-align: right;\">\n      <th></th>\n      <th>userId</th>\n      <th>movieId</th>\n      <th>rating</th>\n      <th>timestamp</th>\n    </tr>\n  </thead>\n  <tbody>\n    <tr>\n      <th>0</th>\n      <td>1</td>\n      <td>31</td>\n      <td>2.5</td>\n      <td>1260759144</td>\n    </tr>\n    <tr>\n      <th>1</th>\n      <td>1</td>\n      <td>1029</td>\n      <td>3.0</td>\n      <td>1260759179</td>\n    </tr>\n    <tr>\n      <th>2</th>\n      <td>1</td>\n      <td>1061</td>\n      <td>3.0</td>\n      <td>1260759182</td>\n    </tr>\n    <tr>\n      <th>3</th>\n      <td>1</td>\n      <td>1129</td>\n      <td>2.0</td>\n      <td>1260759185</td>\n    </tr>\n    <tr>\n      <th>4</th>\n      <td>1</td>\n      <td>1172</td>\n      <td>4.0</td>\n      <td>1260759205</td>\n    </tr>\n    <tr>\n      <th>...</th>\n      <td>...</td>\n      <td>...</td>\n      <td>...</td>\n      <td>...</td>\n    </tr>\n    <tr>\n      <th>99999</th>\n      <td>671</td>\n      <td>6268</td>\n      <td>2.5</td>\n      <td>1065579370</td>\n    </tr>\n    <tr>\n      <th>100000</th>\n      <td>671</td>\n      <td>6269</td>\n      <td>4.0</td>\n      <td>1065149201</td>\n    </tr>\n    <tr>\n      <th>100001</th>\n      <td>671</td>\n      <td>6365</td>\n      <td>4.0</td>\n      <td>1070940363</td>\n    </tr>\n    <tr>\n      <th>100002</th>\n      <td>671</td>\n      <td>6385</td>\n      <td>2.5</td>\n      <td>1070979663</td>\n    </tr>\n    <tr>\n      <th>100003</th>\n      <td>671</td>\n      <td>6565</td>\n      <td>3.5</td>\n      <td>1074784724</td>\n    </tr>\n  </tbody>\n</table>\n<p>100004 rows × 4 columns</p>\n</div>"
     },
     "execution_count": 22,
     "metadata": {},
     "output_type": "execute_result"
    }
   ],
   "source": [],
   "metadata": {
    "collapsed": false,
    "pycharm": {
     "name": "#%%\n"
    }
   }
  },
  {
   "cell_type": "code",
   "execution_count": 9,
   "outputs": [
    {
     "name": "stderr",
     "output_type": "stream",
     "text": [
      "c:\\users\\tjdal\\pycharmprojects\\kaggle\\venv\\lib\\site-packages\\IPython\\core\\interactiveshell.py:3441: DtypeWarning: Columns (10) have mixed types.Specify dtype option on import or set low_memory=False.\n",
      "  exec(code_obj, self.user_global_ns, self.user_ns)\n"
     ]
    }
   ],
   "source": [
    "movies_meta =  pd.read_csv('C:\\\\Users\\\\tjdal\\\\PycharmProjects\\\\Kaggle\\\\movies\\\\movies_metadata.csv')"
   ],
   "metadata": {
    "collapsed": false,
    "pycharm": {
     "name": "#%%\n"
    }
   }
  },
  {
   "cell_type": "code",
   "execution_count": 12,
   "outputs": [],
   "source": [
    "keywords = pd.read_csv('C:\\\\Users\\\\tjdal\\\\PycharmProjects\\\\Kaggle\\\\movies\\\\keywords.csv')"
   ],
   "metadata": {
    "collapsed": false,
    "pycharm": {
     "name": "#%%\n"
    }
   }
  },
  {
   "cell_type": "code",
   "execution_count": 23,
   "outputs": [],
   "source": [
    "credits=   pd.read_csv('C:\\\\Users\\\\tjdal\\\\PycharmProjects\\\\Kaggle\\\\movies\\\\credits.csv')"
   ],
   "metadata": {
    "collapsed": false,
    "pycharm": {
     "name": "#%%\n"
    }
   }
  },
  {
   "cell_type": "code",
   "execution_count": 17,
   "outputs": [],
   "source": [
    "links =    pd.read_csv('C:\\\\Users\\\\tjdal\\\\PycharmProjects\\\\Kaggle\\\\movies\\\\links.csv')"
   ],
   "metadata": {
    "collapsed": false,
    "pycharm": {
     "name": "#%%\n"
    }
   }
  },
  {
   "cell_type": "code",
   "execution_count": 19,
   "outputs": [],
   "source": [
    "links_small =    pd.read_csv('C:\\\\Users\\\\tjdal\\\\PycharmProjects\\\\Kaggle\\\\movies\\\\links_small.csv')\n"
   ],
   "metadata": {
    "collapsed": false,
    "pycharm": {
     "name": "#%%\n"
    }
   }
  },
  {
   "cell_type": "code",
   "execution_count": 24,
   "outputs": [
    {
     "data": {
      "text/plain": "          userId  movieId  rating   timestamp\n0              1      110     1.0  1425941529\n1              1      147     4.5  1425942435\n2              1      858     5.0  1425941523\n3              1     1221     5.0  1425941546\n4              1     1246     5.0  1425941556\n...          ...      ...     ...         ...\n26024284  270896    58559     5.0  1257031564\n26024285  270896    60069     5.0  1257032032\n26024286  270896    63082     4.5  1257031764\n26024287  270896    64957     4.5  1257033990\n26024288  270896    71878     2.0  1257031858\n\n[26024289 rows x 4 columns]",
      "text/html": "<div>\n<style scoped>\n    .dataframe tbody tr th:only-of-type {\n        vertical-align: middle;\n    }\n\n    .dataframe tbody tr th {\n        vertical-align: top;\n    }\n\n    .dataframe thead th {\n        text-align: right;\n    }\n</style>\n<table border=\"1\" class=\"dataframe\">\n  <thead>\n    <tr style=\"text-align: right;\">\n      <th></th>\n      <th>userId</th>\n      <th>movieId</th>\n      <th>rating</th>\n      <th>timestamp</th>\n    </tr>\n  </thead>\n  <tbody>\n    <tr>\n      <th>0</th>\n      <td>1</td>\n      <td>110</td>\n      <td>1.0</td>\n      <td>1425941529</td>\n    </tr>\n    <tr>\n      <th>1</th>\n      <td>1</td>\n      <td>147</td>\n      <td>4.5</td>\n      <td>1425942435</td>\n    </tr>\n    <tr>\n      <th>2</th>\n      <td>1</td>\n      <td>858</td>\n      <td>5.0</td>\n      <td>1425941523</td>\n    </tr>\n    <tr>\n      <th>3</th>\n      <td>1</td>\n      <td>1221</td>\n      <td>5.0</td>\n      <td>1425941546</td>\n    </tr>\n    <tr>\n      <th>4</th>\n      <td>1</td>\n      <td>1246</td>\n      <td>5.0</td>\n      <td>1425941556</td>\n    </tr>\n    <tr>\n      <th>...</th>\n      <td>...</td>\n      <td>...</td>\n      <td>...</td>\n      <td>...</td>\n    </tr>\n    <tr>\n      <th>26024284</th>\n      <td>270896</td>\n      <td>58559</td>\n      <td>5.0</td>\n      <td>1257031564</td>\n    </tr>\n    <tr>\n      <th>26024285</th>\n      <td>270896</td>\n      <td>60069</td>\n      <td>5.0</td>\n      <td>1257032032</td>\n    </tr>\n    <tr>\n      <th>26024286</th>\n      <td>270896</td>\n      <td>63082</td>\n      <td>4.5</td>\n      <td>1257031764</td>\n    </tr>\n    <tr>\n      <th>26024287</th>\n      <td>270896</td>\n      <td>64957</td>\n      <td>4.5</td>\n      <td>1257033990</td>\n    </tr>\n    <tr>\n      <th>26024288</th>\n      <td>270896</td>\n      <td>71878</td>\n      <td>2.0</td>\n      <td>1257031858</td>\n    </tr>\n  </tbody>\n</table>\n<p>26024289 rows × 4 columns</p>\n</div>"
     },
     "execution_count": 24,
     "metadata": {},
     "output_type": "execute_result"
    }
   ],
   "source": [],
   "metadata": {
    "collapsed": false,
    "pycharm": {
     "name": "#%%\n"
    }
   }
  },
  {
   "cell_type": "code",
   "execution_count": 26,
   "outputs": [
    {
     "data": {
      "text/plain": "          userId  movieId  rating   timestamp\n0              1      110     1.0  1425941529\n1              1      147     4.5  1425942435\n2              1      858     5.0  1425941523\n3              1     1221     5.0  1425941546\n4              1     1246     5.0  1425941556\n...          ...      ...     ...         ...\n26024284  270896    58559     5.0  1257031564\n26024285  270896    60069     5.0  1257032032\n26024286  270896    63082     4.5  1257031764\n26024287  270896    64957     4.5  1257033990\n26024288  270896    71878     2.0  1257031858\n\n[26024289 rows x 4 columns]",
      "text/html": "<div>\n<style scoped>\n    .dataframe tbody tr th:only-of-type {\n        vertical-align: middle;\n    }\n\n    .dataframe tbody tr th {\n        vertical-align: top;\n    }\n\n    .dataframe thead th {\n        text-align: right;\n    }\n</style>\n<table border=\"1\" class=\"dataframe\">\n  <thead>\n    <tr style=\"text-align: right;\">\n      <th></th>\n      <th>userId</th>\n      <th>movieId</th>\n      <th>rating</th>\n      <th>timestamp</th>\n    </tr>\n  </thead>\n  <tbody>\n    <tr>\n      <th>0</th>\n      <td>1</td>\n      <td>110</td>\n      <td>1.0</td>\n      <td>1425941529</td>\n    </tr>\n    <tr>\n      <th>1</th>\n      <td>1</td>\n      <td>147</td>\n      <td>4.5</td>\n      <td>1425942435</td>\n    </tr>\n    <tr>\n      <th>2</th>\n      <td>1</td>\n      <td>858</td>\n      <td>5.0</td>\n      <td>1425941523</td>\n    </tr>\n    <tr>\n      <th>3</th>\n      <td>1</td>\n      <td>1221</td>\n      <td>5.0</td>\n      <td>1425941546</td>\n    </tr>\n    <tr>\n      <th>4</th>\n      <td>1</td>\n      <td>1246</td>\n      <td>5.0</td>\n      <td>1425941556</td>\n    </tr>\n    <tr>\n      <th>...</th>\n      <td>...</td>\n      <td>...</td>\n      <td>...</td>\n      <td>...</td>\n    </tr>\n    <tr>\n      <th>26024284</th>\n      <td>270896</td>\n      <td>58559</td>\n      <td>5.0</td>\n      <td>1257031564</td>\n    </tr>\n    <tr>\n      <th>26024285</th>\n      <td>270896</td>\n      <td>60069</td>\n      <td>5.0</td>\n      <td>1257032032</td>\n    </tr>\n    <tr>\n      <th>26024286</th>\n      <td>270896</td>\n      <td>63082</td>\n      <td>4.5</td>\n      <td>1257031764</td>\n    </tr>\n    <tr>\n      <th>26024287</th>\n      <td>270896</td>\n      <td>64957</td>\n      <td>4.5</td>\n      <td>1257033990</td>\n    </tr>\n    <tr>\n      <th>26024288</th>\n      <td>270896</td>\n      <td>71878</td>\n      <td>2.0</td>\n      <td>1257031858</td>\n    </tr>\n  </tbody>\n</table>\n<p>26024289 rows × 4 columns</p>\n</div>"
     },
     "execution_count": 26,
     "metadata": {},
     "output_type": "execute_result"
    }
   ],
   "source": [
    "ratings[['userId','movieId','rating','timestamp']]"
   ],
   "metadata": {
    "collapsed": false,
    "pycharm": {
     "name": "#%%\n"
    }
   }
  },
  {
   "cell_type": "code",
   "execution_count": 28,
   "outputs": [
    {
     "data": {
      "text/plain": "userId         int64\nmovieId        int64\nrating       float64\ntimestamp      int64\ndtype: object"
     },
     "execution_count": 28,
     "metadata": {},
     "output_type": "execute_result"
    }
   ],
   "source": [
    "ratings.dtypes"
   ],
   "metadata": {
    "collapsed": false,
    "pycharm": {
     "name": "#%%\n"
    }
   }
  },
  {
   "cell_type": "code",
   "execution_count": 37,
   "outputs": [],
   "source": [
    "# unique한 아이디의 개수 확인\n",
    "unique_movieId = len(ratings.movieId.unique())"
   ],
   "metadata": {
    "collapsed": false,
    "pycharm": {
     "name": "#%%\n"
    }
   }
  },
  {
   "cell_type": "code",
   "execution_count": 35,
   "outputs": [
    {
     "name": "stdout",
     "output_type": "stream",
     "text": [
      "unique movie count : 45115\n"
     ]
    }
   ],
   "source": [
    "print('unique movie count : {}'.format(unique_movieId))"
   ],
   "metadata": {
    "collapsed": false,
    "pycharm": {
     "name": "#%%\n"
    }
   }
  },
  {
   "cell_type": "code",
   "execution_count": 39,
   "outputs": [
    {
     "name": "stdout",
     "output_type": "stream",
     "text": [
      "unique user count : 270896\n"
     ]
    }
   ],
   "source": [
    "unique_usereId = len(ratings.userId.unique())\n",
    "print('unique user count : {}'.format(unique_usereId))\n"
   ],
   "metadata": {
    "collapsed": false,
    "pycharm": {
     "name": "#%%\n"
    }
   }
  },
  {
   "cell_type": "code",
   "execution_count": null,
   "outputs": [],
   "source": [
    "# 가장 많은 영화를 본 유저 outlier 한 유저 check\n",
    "# timestamp 를 포함하면 안된다\n",
    "# groups =ratings.groupby(['userId','movieId']).count()"
   ],
   "metadata": {
    "collapsed": false,
    "pycharm": {
     "name": "#%%\n"
    }
   }
  },
  {
   "cell_type": "code",
   "execution_count": 42,
   "outputs": [
    {
     "data": {
      "text/plain": "                rating  timestamp\nuserId movieId                   \n1      110           1          1\n       147           1          1\n       858           1          1\n       1221          1          1\n       1246          1          1\n...                ...        ...\n270896 58559         1          1\n       60069         1          1\n       63082         1          1\n       64957         1          1\n       71878         1          1\n\n[26024289 rows x 2 columns]",
      "text/html": "<div>\n<style scoped>\n    .dataframe tbody tr th:only-of-type {\n        vertical-align: middle;\n    }\n\n    .dataframe tbody tr th {\n        vertical-align: top;\n    }\n\n    .dataframe thead th {\n        text-align: right;\n    }\n</style>\n<table border=\"1\" class=\"dataframe\">\n  <thead>\n    <tr style=\"text-align: right;\">\n      <th></th>\n      <th></th>\n      <th>rating</th>\n      <th>timestamp</th>\n    </tr>\n    <tr>\n      <th>userId</th>\n      <th>movieId</th>\n      <th></th>\n      <th></th>\n    </tr>\n  </thead>\n  <tbody>\n    <tr>\n      <th rowspan=\"5\" valign=\"top\">1</th>\n      <th>110</th>\n      <td>1</td>\n      <td>1</td>\n    </tr>\n    <tr>\n      <th>147</th>\n      <td>1</td>\n      <td>1</td>\n    </tr>\n    <tr>\n      <th>858</th>\n      <td>1</td>\n      <td>1</td>\n    </tr>\n    <tr>\n      <th>1221</th>\n      <td>1</td>\n      <td>1</td>\n    </tr>\n    <tr>\n      <th>1246</th>\n      <td>1</td>\n      <td>1</td>\n    </tr>\n    <tr>\n      <th>...</th>\n      <th>...</th>\n      <td>...</td>\n      <td>...</td>\n    </tr>\n    <tr>\n      <th rowspan=\"5\" valign=\"top\">270896</th>\n      <th>58559</th>\n      <td>1</td>\n      <td>1</td>\n    </tr>\n    <tr>\n      <th>60069</th>\n      <td>1</td>\n      <td>1</td>\n    </tr>\n    <tr>\n      <th>63082</th>\n      <td>1</td>\n      <td>1</td>\n    </tr>\n    <tr>\n      <th>64957</th>\n      <td>1</td>\n      <td>1</td>\n    </tr>\n    <tr>\n      <th>71878</th>\n      <td>1</td>\n      <td>1</td>\n    </tr>\n  </tbody>\n</table>\n<p>26024289 rows × 2 columns</p>\n</div>"
     },
     "execution_count": 42,
     "metadata": {},
     "output_type": "execute_result"
    }
   ],
   "source": [
    "# groups"
   ],
   "metadata": {
    "collapsed": false,
    "pycharm": {
     "name": "#%%\n"
    }
   }
  },
  {
   "cell_type": "code",
   "execution_count": 45,
   "outputs": [],
   "source": [
    "groupKey = ['userId','movieId']"
   ],
   "metadata": {
    "collapsed": false,
    "pycharm": {
     "name": "#%%\n"
    }
   }
  },
  {
   "cell_type": "code",
   "execution_count": 60,
   "outputs": [],
   "source": [
    "rating_group = ratings[['userId','movieId','rating']].groupby(groupKey).count()"
   ],
   "metadata": {
    "collapsed": false,
    "pycharm": {
     "name": "#%%\n"
    }
   }
  },
  {
   "cell_type": "code",
   "execution_count": 56,
   "outputs": [],
   "source": [
    "# column 이 아닌 mulit-index로 간다\n",
    "#rating_group[rating_group.userId == 1]\n",
    "# ? 그룹별 집계를 보고 싶었다\n",
    "#rating_group = ratings[['userId','movieId','rating']].groupby(groupKey).transform(max)"
   ],
   "metadata": {
    "collapsed": false,
    "pycharm": {
     "name": "#%%\n"
    }
   }
  },
  {
   "cell_type": "code",
   "execution_count": 59,
   "outputs": [
    {
     "data": {
      "text/plain": "rating    91816043.0\ndtype: float64"
     },
     "execution_count": 59,
     "metadata": {},
     "output_type": "execute_result"
    }
   ],
   "source": [
    "#rating_group.sum()"
   ],
   "metadata": {
    "collapsed": false,
    "pycharm": {
     "name": "#%%\n"
    }
   }
  },
  {
   "cell_type": "code",
   "execution_count": 77,
   "outputs": [],
   "source": [
    "# ratings movie id 컬럼에 대해서 ratings userid 로 그룹화하고 count() 함수 적용 (개수)\n",
    "# 유저별\n",
    "user_rating_cnt = ratings['movieId'].groupby(ratings['userId']).count()"
   ],
   "metadata": {
    "collapsed": false,
    "pycharm": {
     "name": "#%%\n"
    }
   }
  },
  {
   "cell_type": "code",
   "execution_count": 91,
   "outputs": [],
   "source": [
    "user_rating_cnt = pd.DataFrame(index=user_rating_cnt.index ,data=user_rating_cnt)"
   ],
   "metadata": {
    "collapsed": false,
    "pycharm": {
     "name": "#%%\n"
    }
   }
  },
  {
   "cell_type": "code",
   "execution_count": 94,
   "outputs": [],
   "source": [
    "user_rating_cnt.columns = ['movie_cnt']"
   ],
   "metadata": {
    "collapsed": false,
    "pycharm": {
     "name": "#%%\n"
    }
   }
  },
  {
   "cell_type": "code",
   "execution_count": 99,
   "outputs": [
    {
     "data": {
      "text/plain": "1"
     },
     "execution_count": 99,
     "metadata": {},
     "output_type": "execute_result"
    }
   ],
   "source": [
    "# 가정 적은 평가를 한 유저\n",
    "min(user_rating_cnt.movie_cnt)"
   ],
   "metadata": {
    "collapsed": false,
    "pycharm": {
     "name": "#%%\n"
    }
   }
  },
  {
   "cell_type": "code",
   "execution_count": 100,
   "outputs": [
    {
     "data": {
      "text/plain": "18276"
     },
     "execution_count": 100,
     "metadata": {},
     "output_type": "execute_result"
    }
   ],
   "source": [
    "# 가정 많은 평가를 한 유저\n",
    "max(user_rating_cnt.movie_cnt)"
   ],
   "metadata": {
    "collapsed": false,
    "pycharm": {
     "name": "#%%\n"
    }
   }
  },
  {
   "cell_type": "code",
   "execution_count": 109,
   "outputs": [
    {
     "data": {
      "text/plain": "<bound method Series.sort_index of userId\n1          27\n2          22\n3          10\n4          62\n5          26\n         ... \n270892     75\n270893    190\n270894    148\n270895     20\n270896    260\nName: movie_cnt, Length: 270896, dtype: int64>"
     },
     "execution_count": 109,
     "metadata": {},
     "output_type": "execute_result"
    }
   ],
   "source": [
    "#user_rating_cnt[user_rating_cnt.movie_cnt==18276]\n",
    "\n",
    "#ratings[ratings.userId == 45811]"
   ],
   "metadata": {
    "collapsed": false,
    "pycharm": {
     "name": "#%%\n"
    }
   }
  },
  {
   "cell_type": "code",
   "execution_count": 110,
   "outputs": [
    {
     "data": {
      "text/plain": "        movie_cnt\nuserId           \n1              27\n2              22\n3              10\n4              62\n5              26\n...           ...\n270892         75\n270893        190\n270894        148\n270895         20\n270896        260\n\n[270896 rows x 1 columns]",
      "text/html": "<div>\n<style scoped>\n    .dataframe tbody tr th:only-of-type {\n        vertical-align: middle;\n    }\n\n    .dataframe tbody tr th {\n        vertical-align: top;\n    }\n\n    .dataframe thead th {\n        text-align: right;\n    }\n</style>\n<table border=\"1\" class=\"dataframe\">\n  <thead>\n    <tr style=\"text-align: right;\">\n      <th></th>\n      <th>movie_cnt</th>\n    </tr>\n    <tr>\n      <th>userId</th>\n      <th></th>\n    </tr>\n  </thead>\n  <tbody>\n    <tr>\n      <th>1</th>\n      <td>27</td>\n    </tr>\n    <tr>\n      <th>2</th>\n      <td>22</td>\n    </tr>\n    <tr>\n      <th>3</th>\n      <td>10</td>\n    </tr>\n    <tr>\n      <th>4</th>\n      <td>62</td>\n    </tr>\n    <tr>\n      <th>5</th>\n      <td>26</td>\n    </tr>\n    <tr>\n      <th>...</th>\n      <td>...</td>\n    </tr>\n    <tr>\n      <th>270892</th>\n      <td>75</td>\n    </tr>\n    <tr>\n      <th>270893</th>\n      <td>190</td>\n    </tr>\n    <tr>\n      <th>270894</th>\n      <td>148</td>\n    </tr>\n    <tr>\n      <th>270895</th>\n      <td>20</td>\n    </tr>\n    <tr>\n      <th>270896</th>\n      <td>260</td>\n    </tr>\n  </tbody>\n</table>\n<p>270896 rows × 1 columns</p>\n</div>"
     },
     "execution_count": 110,
     "metadata": {},
     "output_type": "execute_result"
    }
   ],
   "source": [
    "user_rating_cnt"
   ],
   "metadata": {
    "collapsed": false,
    "pycharm": {
     "name": "#%%\n"
    }
   }
  },
  {
   "cell_type": "code",
   "execution_count": 117,
   "outputs": [
    {
     "data": {
      "text/plain": "Int64Index([     1,      2,      3,      4,      5,      6,      7,      8,\n                 9,     10,\n            ...\n            270887, 270888, 270889, 270890, 270891, 270892, 270893, 270894,\n            270895, 270896],\n           dtype='int64', name='userId', length=270896)"
     },
     "execution_count": 117,
     "metadata": {},
     "output_type": "execute_result"
    }
   ],
   "source": [
    "# 사용자별 평가 개수 순서\n",
    "user_rating_cnt.index.unique()"
   ],
   "metadata": {
    "collapsed": false,
    "pycharm": {
     "name": "#%%\n"
    }
   }
  },
  {
   "cell_type": "code",
   "execution_count": 121,
   "outputs": [
    {
     "data": {
      "text/plain": "          userId  movieId  rating   timestamp\n0              1      110     1.0  1425941529\n1              1      147     4.5  1425942435\n2              1      858     5.0  1425941523\n3              1     1221     5.0  1425941546\n4              1     1246     5.0  1425941556\n...          ...      ...     ...         ...\n26024284  270896    58559     5.0  1257031564\n26024285  270896    60069     5.0  1257032032\n26024286  270896    63082     4.5  1257031764\n26024287  270896    64957     4.5  1257033990\n26024288  270896    71878     2.0  1257031858\n\n[26024289 rows x 4 columns]",
      "text/html": "<div>\n<style scoped>\n    .dataframe tbody tr th:only-of-type {\n        vertical-align: middle;\n    }\n\n    .dataframe tbody tr th {\n        vertical-align: top;\n    }\n\n    .dataframe thead th {\n        text-align: right;\n    }\n</style>\n<table border=\"1\" class=\"dataframe\">\n  <thead>\n    <tr style=\"text-align: right;\">\n      <th></th>\n      <th>userId</th>\n      <th>movieId</th>\n      <th>rating</th>\n      <th>timestamp</th>\n    </tr>\n  </thead>\n  <tbody>\n    <tr>\n      <th>0</th>\n      <td>1</td>\n      <td>110</td>\n      <td>1.0</td>\n      <td>1425941529</td>\n    </tr>\n    <tr>\n      <th>1</th>\n      <td>1</td>\n      <td>147</td>\n      <td>4.5</td>\n      <td>1425942435</td>\n    </tr>\n    <tr>\n      <th>2</th>\n      <td>1</td>\n      <td>858</td>\n      <td>5.0</td>\n      <td>1425941523</td>\n    </tr>\n    <tr>\n      <th>3</th>\n      <td>1</td>\n      <td>1221</td>\n      <td>5.0</td>\n      <td>1425941546</td>\n    </tr>\n    <tr>\n      <th>4</th>\n      <td>1</td>\n      <td>1246</td>\n      <td>5.0</td>\n      <td>1425941556</td>\n    </tr>\n    <tr>\n      <th>...</th>\n      <td>...</td>\n      <td>...</td>\n      <td>...</td>\n      <td>...</td>\n    </tr>\n    <tr>\n      <th>26024284</th>\n      <td>270896</td>\n      <td>58559</td>\n      <td>5.0</td>\n      <td>1257031564</td>\n    </tr>\n    <tr>\n      <th>26024285</th>\n      <td>270896</td>\n      <td>60069</td>\n      <td>5.0</td>\n      <td>1257032032</td>\n    </tr>\n    <tr>\n      <th>26024286</th>\n      <td>270896</td>\n      <td>63082</td>\n      <td>4.5</td>\n      <td>1257031764</td>\n    </tr>\n    <tr>\n      <th>26024287</th>\n      <td>270896</td>\n      <td>64957</td>\n      <td>4.5</td>\n      <td>1257033990</td>\n    </tr>\n    <tr>\n      <th>26024288</th>\n      <td>270896</td>\n      <td>71878</td>\n      <td>2.0</td>\n      <td>1257031858</td>\n    </tr>\n  </tbody>\n</table>\n<p>26024289 rows × 4 columns</p>\n</div>"
     },
     "execution_count": 121,
     "metadata": {},
     "output_type": "execute_result"
    }
   ],
   "source": [
    "ratings.merge(movies_meta[['']], how='left', on='movieId')"
   ],
   "metadata": {
    "collapsed": false,
    "pycharm": {
     "name": "#%%\n"
    }
   }
  },
  {
   "cell_type": "code",
   "execution_count": 123,
   "outputs": [
    {
     "data": {
      "text/plain": "0           862\n1          8844\n2         15602\n3         31357\n4         11862\n          ...  \n45461    439050\n45462    111109\n45463     67758\n45464    227506\n45465    461257\nName: id, Length: 45466, dtype: object"
     },
     "execution_count": 123,
     "metadata": {},
     "output_type": "execute_result"
    }
   ],
   "source": [
    "movies_meta.id"
   ],
   "metadata": {
    "collapsed": false,
    "pycharm": {
     "name": "#%%\n"
    }
   }
  },
  {
   "cell_type": "code",
   "execution_count": 162,
   "outputs": [],
   "source": [
    "# feature_extraction\n",
    "movies_feature=  movies_meta[['title','imdb_id','id','overview','runtime','release_date','status','vote_count','vote_average','adult','genres' ]]\n"
   ],
   "metadata": {
    "collapsed": false,
    "pycharm": {
     "name": "#%%\n"
    }
   }
  },
  {
   "cell_type": "code",
   "execution_count": 128,
   "outputs": [],
   "source": [
    "# merge를 위해 컬럼명 변경\n",
    "ratings.columns = ['userId','id','rating','timestamp']"
   ],
   "metadata": {
    "collapsed": false,
    "pycharm": {
     "name": "#%%\n"
    }
   }
  },
  {
   "cell_type": "code",
   "execution_count": 129,
   "outputs": [
    {
     "data": {
      "text/plain": "          userId     id  rating   timestamp\n0              1    110     1.0  1425941529\n1              1    147     4.5  1425942435\n2              1    858     5.0  1425941523\n3              1   1221     5.0  1425941546\n4              1   1246     5.0  1425941556\n...          ...    ...     ...         ...\n26024284  270896  58559     5.0  1257031564\n26024285  270896  60069     5.0  1257032032\n26024286  270896  63082     4.5  1257031764\n26024287  270896  64957     4.5  1257033990\n26024288  270896  71878     2.0  1257031858\n\n[26024289 rows x 4 columns]",
      "text/html": "<div>\n<style scoped>\n    .dataframe tbody tr th:only-of-type {\n        vertical-align: middle;\n    }\n\n    .dataframe tbody tr th {\n        vertical-align: top;\n    }\n\n    .dataframe thead th {\n        text-align: right;\n    }\n</style>\n<table border=\"1\" class=\"dataframe\">\n  <thead>\n    <tr style=\"text-align: right;\">\n      <th></th>\n      <th>userId</th>\n      <th>id</th>\n      <th>rating</th>\n      <th>timestamp</th>\n    </tr>\n  </thead>\n  <tbody>\n    <tr>\n      <th>0</th>\n      <td>1</td>\n      <td>110</td>\n      <td>1.0</td>\n      <td>1425941529</td>\n    </tr>\n    <tr>\n      <th>1</th>\n      <td>1</td>\n      <td>147</td>\n      <td>4.5</td>\n      <td>1425942435</td>\n    </tr>\n    <tr>\n      <th>2</th>\n      <td>1</td>\n      <td>858</td>\n      <td>5.0</td>\n      <td>1425941523</td>\n    </tr>\n    <tr>\n      <th>3</th>\n      <td>1</td>\n      <td>1221</td>\n      <td>5.0</td>\n      <td>1425941546</td>\n    </tr>\n    <tr>\n      <th>4</th>\n      <td>1</td>\n      <td>1246</td>\n      <td>5.0</td>\n      <td>1425941556</td>\n    </tr>\n    <tr>\n      <th>...</th>\n      <td>...</td>\n      <td>...</td>\n      <td>...</td>\n      <td>...</td>\n    </tr>\n    <tr>\n      <th>26024284</th>\n      <td>270896</td>\n      <td>58559</td>\n      <td>5.0</td>\n      <td>1257031564</td>\n    </tr>\n    <tr>\n      <th>26024285</th>\n      <td>270896</td>\n      <td>60069</td>\n      <td>5.0</td>\n      <td>1257032032</td>\n    </tr>\n    <tr>\n      <th>26024286</th>\n      <td>270896</td>\n      <td>63082</td>\n      <td>4.5</td>\n      <td>1257031764</td>\n    </tr>\n    <tr>\n      <th>26024287</th>\n      <td>270896</td>\n      <td>64957</td>\n      <td>4.5</td>\n      <td>1257033990</td>\n    </tr>\n    <tr>\n      <th>26024288</th>\n      <td>270896</td>\n      <td>71878</td>\n      <td>2.0</td>\n      <td>1257031858</td>\n    </tr>\n  </tbody>\n</table>\n<p>26024289 rows × 4 columns</p>\n</div>"
     },
     "execution_count": 129,
     "metadata": {},
     "output_type": "execute_result"
    }
   ],
   "source": [
    "ratings"
   ],
   "metadata": {
    "collapsed": false,
    "pycharm": {
     "name": "#%%\n"
    }
   }
  },
  {
   "cell_type": "code",
   "execution_count": 130,
   "outputs": [
    {
     "ename": "ValueError",
     "evalue": "You are trying to merge on int64 and object columns. If you wish to proceed you should use pd.concat",
     "output_type": "error",
     "traceback": [
      "\u001B[1;31m---------------------------------------------------------------------------\u001B[0m",
      "\u001B[1;31mValueError\u001B[0m                                Traceback (most recent call last)",
      "\u001B[1;32m~\\AppData\\Local\\Temp/ipykernel_21064/2795119926.py\u001B[0m in \u001B[0;36m<module>\u001B[1;34m\u001B[0m\n\u001B[1;32m----> 1\u001B[1;33m \u001B[0mratings\u001B[0m\u001B[1;33m.\u001B[0m\u001B[0mmerge\u001B[0m\u001B[1;33m(\u001B[0m\u001B[0mmovies_feature\u001B[0m\u001B[1;33m[\u001B[0m\u001B[1;33m[\u001B[0m\u001B[1;34m'id'\u001B[0m\u001B[1;33m,\u001B[0m\u001B[1;34m'overview'\u001B[0m\u001B[1;33m]\u001B[0m\u001B[1;33m]\u001B[0m\u001B[1;33m,\u001B[0m \u001B[0mhow\u001B[0m\u001B[1;33m=\u001B[0m\u001B[1;34m'left'\u001B[0m\u001B[1;33m,\u001B[0m\u001B[0mon\u001B[0m\u001B[1;33m=\u001B[0m\u001B[1;34m'id'\u001B[0m \u001B[1;33m)\u001B[0m\u001B[1;33m\u001B[0m\u001B[1;33m\u001B[0m\u001B[0m\n\u001B[0m",
      "\u001B[1;32mc:\\users\\tjdal\\pycharmprojects\\kaggle\\venv\\lib\\site-packages\\pandas\\core\\frame.py\u001B[0m in \u001B[0;36mmerge\u001B[1;34m(self, right, how, on, left_on, right_on, left_index, right_index, sort, suffixes, copy, indicator, validate)\u001B[0m\n\u001B[0;32m   9184\u001B[0m         \u001B[1;32mfrom\u001B[0m \u001B[0mpandas\u001B[0m\u001B[1;33m.\u001B[0m\u001B[0mcore\u001B[0m\u001B[1;33m.\u001B[0m\u001B[0mreshape\u001B[0m\u001B[1;33m.\u001B[0m\u001B[0mmerge\u001B[0m \u001B[1;32mimport\u001B[0m \u001B[0mmerge\u001B[0m\u001B[1;33m\u001B[0m\u001B[1;33m\u001B[0m\u001B[0m\n\u001B[0;32m   9185\u001B[0m \u001B[1;33m\u001B[0m\u001B[0m\n\u001B[1;32m-> 9186\u001B[1;33m         return merge(\n\u001B[0m\u001B[0;32m   9187\u001B[0m             \u001B[0mself\u001B[0m\u001B[1;33m,\u001B[0m\u001B[1;33m\u001B[0m\u001B[1;33m\u001B[0m\u001B[0m\n\u001B[0;32m   9188\u001B[0m             \u001B[0mright\u001B[0m\u001B[1;33m,\u001B[0m\u001B[1;33m\u001B[0m\u001B[1;33m\u001B[0m\u001B[0m\n",
      "\u001B[1;32mc:\\users\\tjdal\\pycharmprojects\\kaggle\\venv\\lib\\site-packages\\pandas\\core\\reshape\\merge.py\u001B[0m in \u001B[0;36mmerge\u001B[1;34m(left, right, how, on, left_on, right_on, left_index, right_index, sort, suffixes, copy, indicator, validate)\u001B[0m\n\u001B[0;32m    105\u001B[0m     \u001B[0mvalidate\u001B[0m\u001B[1;33m:\u001B[0m \u001B[0mstr\u001B[0m \u001B[1;33m|\u001B[0m \u001B[1;32mNone\u001B[0m \u001B[1;33m=\u001B[0m \u001B[1;32mNone\u001B[0m\u001B[1;33m,\u001B[0m\u001B[1;33m\u001B[0m\u001B[1;33m\u001B[0m\u001B[0m\n\u001B[0;32m    106\u001B[0m ) -> DataFrame:\n\u001B[1;32m--> 107\u001B[1;33m     op = _MergeOperation(\n\u001B[0m\u001B[0;32m    108\u001B[0m         \u001B[0mleft\u001B[0m\u001B[1;33m,\u001B[0m\u001B[1;33m\u001B[0m\u001B[1;33m\u001B[0m\u001B[0m\n\u001B[0;32m    109\u001B[0m         \u001B[0mright\u001B[0m\u001B[1;33m,\u001B[0m\u001B[1;33m\u001B[0m\u001B[1;33m\u001B[0m\u001B[0m\n",
      "\u001B[1;32mc:\\users\\tjdal\\pycharmprojects\\kaggle\\venv\\lib\\site-packages\\pandas\\core\\reshape\\merge.py\u001B[0m in \u001B[0;36m__init__\u001B[1;34m(self, left, right, how, on, left_on, right_on, axis, left_index, right_index, sort, suffixes, copy, indicator, validate)\u001B[0m\n\u001B[0;32m    702\u001B[0m         \u001B[1;31m# validate the merge keys dtypes. We may need to coerce\u001B[0m\u001B[1;33m\u001B[0m\u001B[1;33m\u001B[0m\u001B[1;33m\u001B[0m\u001B[0m\n\u001B[0;32m    703\u001B[0m         \u001B[1;31m# to avoid incompatible dtypes\u001B[0m\u001B[1;33m\u001B[0m\u001B[1;33m\u001B[0m\u001B[1;33m\u001B[0m\u001B[0m\n\u001B[1;32m--> 704\u001B[1;33m         \u001B[0mself\u001B[0m\u001B[1;33m.\u001B[0m\u001B[0m_maybe_coerce_merge_keys\u001B[0m\u001B[1;33m(\u001B[0m\u001B[1;33m)\u001B[0m\u001B[1;33m\u001B[0m\u001B[1;33m\u001B[0m\u001B[0m\n\u001B[0m\u001B[0;32m    705\u001B[0m \u001B[1;33m\u001B[0m\u001B[0m\n\u001B[0;32m    706\u001B[0m         \u001B[1;31m# If argument passed to validate,\u001B[0m\u001B[1;33m\u001B[0m\u001B[1;33m\u001B[0m\u001B[1;33m\u001B[0m\u001B[0m\n",
      "\u001B[1;32mc:\\users\\tjdal\\pycharmprojects\\kaggle\\venv\\lib\\site-packages\\pandas\\core\\reshape\\merge.py\u001B[0m in \u001B[0;36m_maybe_coerce_merge_keys\u001B[1;34m(self)\u001B[0m\n\u001B[0;32m   1250\u001B[0m                     \u001B[0minferred_right\u001B[0m \u001B[1;32min\u001B[0m \u001B[0mstring_types\u001B[0m \u001B[1;32mand\u001B[0m \u001B[0minferred_left\u001B[0m \u001B[1;32mnot\u001B[0m \u001B[1;32min\u001B[0m \u001B[0mstring_types\u001B[0m\u001B[1;33m\u001B[0m\u001B[1;33m\u001B[0m\u001B[0m\n\u001B[0;32m   1251\u001B[0m                 ):\n\u001B[1;32m-> 1252\u001B[1;33m                     \u001B[1;32mraise\u001B[0m \u001B[0mValueError\u001B[0m\u001B[1;33m(\u001B[0m\u001B[0mmsg\u001B[0m\u001B[1;33m)\u001B[0m\u001B[1;33m\u001B[0m\u001B[1;33m\u001B[0m\u001B[0m\n\u001B[0m\u001B[0;32m   1253\u001B[0m \u001B[1;33m\u001B[0m\u001B[0m\n\u001B[0;32m   1254\u001B[0m             \u001B[1;31m# datetimelikes must match exactly\u001B[0m\u001B[1;33m\u001B[0m\u001B[1;33m\u001B[0m\u001B[1;33m\u001B[0m\u001B[0m\n",
      "\u001B[1;31mValueError\u001B[0m: You are trying to merge on int64 and object columns. If you wish to proceed you should use pd.concat"
     ]
    }
   ],
   "source": [
    "# merge는 타입이 맞지 않는다.\n",
    "ratings.merge(movies_feature[['id','overview']], how='left',on='id' )"
   ],
   "metadata": {
    "collapsed": false,
    "pycharm": {
     "name": "#%%\n"
    }
   }
  },
  {
   "cell_type": "code",
   "execution_count": 134,
   "outputs": [
    {
     "data": {
      "text/plain": "dtype('int64')"
     },
     "execution_count": 134,
     "metadata": {},
     "output_type": "execute_result"
    }
   ],
   "source": [
    "# data type 맞추기\n",
    "#ratings.id.dtype"
   ],
   "metadata": {
    "collapsed": false,
    "pycharm": {
     "name": "#%%\n"
    }
   }
  },
  {
   "cell_type": "code",
   "execution_count": 135,
   "outputs": [
    {
     "data": {
      "text/plain": "dtype('O')"
     },
     "execution_count": 135,
     "metadata": {},
     "output_type": "execute_result"
    }
   ],
   "source": [
    "#movies_feature.id.dtype"
   ],
   "metadata": {
    "collapsed": false,
    "pycharm": {
     "name": "#%%\n"
    }
   }
  },
  {
   "cell_type": "code",
   "execution_count": 138,
   "outputs": [
    {
     "ename": "ValueError",
     "evalue": "invalid literal for int() with base 10: '1997-08-20'",
     "output_type": "error",
     "traceback": [
      "\u001B[1;31m---------------------------------------------------------------------------\u001B[0m",
      "\u001B[1;31mValueError\u001B[0m                                Traceback (most recent call last)",
      "\u001B[1;32m~\\AppData\\Local\\Temp/ipykernel_21064/4006561332.py\u001B[0m in \u001B[0;36m<module>\u001B[1;34m\u001B[0m\n\u001B[1;32m----> 1\u001B[1;33m \u001B[0mmovies_feature\u001B[0m\u001B[1;33m.\u001B[0m\u001B[0mid\u001B[0m\u001B[1;33m.\u001B[0m\u001B[0mastype\u001B[0m\u001B[1;33m(\u001B[0m\u001B[0mint\u001B[0m\u001B[1;33m)\u001B[0m\u001B[1;33m\u001B[0m\u001B[1;33m\u001B[0m\u001B[0m\n\u001B[0m\u001B[0;32m      2\u001B[0m \u001B[1;33m\u001B[0m\u001B[0m\n",
      "\u001B[1;32mc:\\users\\tjdal\\pycharmprojects\\kaggle\\venv\\lib\\site-packages\\pandas\\core\\generic.py\u001B[0m in \u001B[0;36mastype\u001B[1;34m(self, dtype, copy, errors)\u001B[0m\n\u001B[0;32m   5804\u001B[0m         \u001B[1;32melse\u001B[0m\u001B[1;33m:\u001B[0m\u001B[1;33m\u001B[0m\u001B[1;33m\u001B[0m\u001B[0m\n\u001B[0;32m   5805\u001B[0m             \u001B[1;31m# else, only a single dtype is given\u001B[0m\u001B[1;33m\u001B[0m\u001B[1;33m\u001B[0m\u001B[1;33m\u001B[0m\u001B[0m\n\u001B[1;32m-> 5806\u001B[1;33m             \u001B[0mnew_data\u001B[0m \u001B[1;33m=\u001B[0m \u001B[0mself\u001B[0m\u001B[1;33m.\u001B[0m\u001B[0m_mgr\u001B[0m\u001B[1;33m.\u001B[0m\u001B[0mastype\u001B[0m\u001B[1;33m(\u001B[0m\u001B[0mdtype\u001B[0m\u001B[1;33m=\u001B[0m\u001B[0mdtype\u001B[0m\u001B[1;33m,\u001B[0m \u001B[0mcopy\u001B[0m\u001B[1;33m=\u001B[0m\u001B[0mcopy\u001B[0m\u001B[1;33m,\u001B[0m \u001B[0merrors\u001B[0m\u001B[1;33m=\u001B[0m\u001B[0merrors\u001B[0m\u001B[1;33m)\u001B[0m\u001B[1;33m\u001B[0m\u001B[1;33m\u001B[0m\u001B[0m\n\u001B[0m\u001B[0;32m   5807\u001B[0m             \u001B[1;32mreturn\u001B[0m \u001B[0mself\u001B[0m\u001B[1;33m.\u001B[0m\u001B[0m_constructor\u001B[0m\u001B[1;33m(\u001B[0m\u001B[0mnew_data\u001B[0m\u001B[1;33m)\u001B[0m\u001B[1;33m.\u001B[0m\u001B[0m__finalize__\u001B[0m\u001B[1;33m(\u001B[0m\u001B[0mself\u001B[0m\u001B[1;33m,\u001B[0m \u001B[0mmethod\u001B[0m\u001B[1;33m=\u001B[0m\u001B[1;34m\"astype\"\u001B[0m\u001B[1;33m)\u001B[0m\u001B[1;33m\u001B[0m\u001B[1;33m\u001B[0m\u001B[0m\n\u001B[0;32m   5808\u001B[0m \u001B[1;33m\u001B[0m\u001B[0m\n",
      "\u001B[1;32mc:\\users\\tjdal\\pycharmprojects\\kaggle\\venv\\lib\\site-packages\\pandas\\core\\internals\\managers.py\u001B[0m in \u001B[0;36mastype\u001B[1;34m(self, dtype, copy, errors)\u001B[0m\n\u001B[0;32m    412\u001B[0m \u001B[1;33m\u001B[0m\u001B[0m\n\u001B[0;32m    413\u001B[0m     \u001B[1;32mdef\u001B[0m \u001B[0mastype\u001B[0m\u001B[1;33m(\u001B[0m\u001B[0mself\u001B[0m\u001B[1;33m:\u001B[0m \u001B[0mT\u001B[0m\u001B[1;33m,\u001B[0m \u001B[0mdtype\u001B[0m\u001B[1;33m,\u001B[0m \u001B[0mcopy\u001B[0m\u001B[1;33m:\u001B[0m \u001B[0mbool\u001B[0m \u001B[1;33m=\u001B[0m \u001B[1;32mFalse\u001B[0m\u001B[1;33m,\u001B[0m \u001B[0merrors\u001B[0m\u001B[1;33m:\u001B[0m \u001B[0mstr\u001B[0m \u001B[1;33m=\u001B[0m \u001B[1;34m\"raise\"\u001B[0m\u001B[1;33m)\u001B[0m \u001B[1;33m->\u001B[0m \u001B[0mT\u001B[0m\u001B[1;33m:\u001B[0m\u001B[1;33m\u001B[0m\u001B[1;33m\u001B[0m\u001B[0m\n\u001B[1;32m--> 414\u001B[1;33m         \u001B[1;32mreturn\u001B[0m \u001B[0mself\u001B[0m\u001B[1;33m.\u001B[0m\u001B[0mapply\u001B[0m\u001B[1;33m(\u001B[0m\u001B[1;34m\"astype\"\u001B[0m\u001B[1;33m,\u001B[0m \u001B[0mdtype\u001B[0m\u001B[1;33m=\u001B[0m\u001B[0mdtype\u001B[0m\u001B[1;33m,\u001B[0m \u001B[0mcopy\u001B[0m\u001B[1;33m=\u001B[0m\u001B[0mcopy\u001B[0m\u001B[1;33m,\u001B[0m \u001B[0merrors\u001B[0m\u001B[1;33m=\u001B[0m\u001B[0merrors\u001B[0m\u001B[1;33m)\u001B[0m\u001B[1;33m\u001B[0m\u001B[1;33m\u001B[0m\u001B[0m\n\u001B[0m\u001B[0;32m    415\u001B[0m \u001B[1;33m\u001B[0m\u001B[0m\n\u001B[0;32m    416\u001B[0m     def convert(\n",
      "\u001B[1;32mc:\\users\\tjdal\\pycharmprojects\\kaggle\\venv\\lib\\site-packages\\pandas\\core\\internals\\managers.py\u001B[0m in \u001B[0;36mapply\u001B[1;34m(self, f, align_keys, ignore_failures, **kwargs)\u001B[0m\n\u001B[0;32m    325\u001B[0m                     \u001B[0mapplied\u001B[0m \u001B[1;33m=\u001B[0m \u001B[0mb\u001B[0m\u001B[1;33m.\u001B[0m\u001B[0mapply\u001B[0m\u001B[1;33m(\u001B[0m\u001B[0mf\u001B[0m\u001B[1;33m,\u001B[0m \u001B[1;33m**\u001B[0m\u001B[0mkwargs\u001B[0m\u001B[1;33m)\u001B[0m\u001B[1;33m\u001B[0m\u001B[1;33m\u001B[0m\u001B[0m\n\u001B[0;32m    326\u001B[0m                 \u001B[1;32melse\u001B[0m\u001B[1;33m:\u001B[0m\u001B[1;33m\u001B[0m\u001B[1;33m\u001B[0m\u001B[0m\n\u001B[1;32m--> 327\u001B[1;33m                     \u001B[0mapplied\u001B[0m \u001B[1;33m=\u001B[0m \u001B[0mgetattr\u001B[0m\u001B[1;33m(\u001B[0m\u001B[0mb\u001B[0m\u001B[1;33m,\u001B[0m \u001B[0mf\u001B[0m\u001B[1;33m)\u001B[0m\u001B[1;33m(\u001B[0m\u001B[1;33m**\u001B[0m\u001B[0mkwargs\u001B[0m\u001B[1;33m)\u001B[0m\u001B[1;33m\u001B[0m\u001B[1;33m\u001B[0m\u001B[0m\n\u001B[0m\u001B[0;32m    328\u001B[0m             \u001B[1;32mexcept\u001B[0m \u001B[1;33m(\u001B[0m\u001B[0mTypeError\u001B[0m\u001B[1;33m,\u001B[0m \u001B[0mNotImplementedError\u001B[0m\u001B[1;33m)\u001B[0m\u001B[1;33m:\u001B[0m\u001B[1;33m\u001B[0m\u001B[1;33m\u001B[0m\u001B[0m\n\u001B[0;32m    329\u001B[0m                 \u001B[1;32mif\u001B[0m \u001B[1;32mnot\u001B[0m \u001B[0mignore_failures\u001B[0m\u001B[1;33m:\u001B[0m\u001B[1;33m\u001B[0m\u001B[1;33m\u001B[0m\u001B[0m\n",
      "\u001B[1;32mc:\\users\\tjdal\\pycharmprojects\\kaggle\\venv\\lib\\site-packages\\pandas\\core\\internals\\blocks.py\u001B[0m in \u001B[0;36mastype\u001B[1;34m(self, dtype, copy, errors)\u001B[0m\n\u001B[0;32m    590\u001B[0m         \u001B[0mvalues\u001B[0m \u001B[1;33m=\u001B[0m \u001B[0mself\u001B[0m\u001B[1;33m.\u001B[0m\u001B[0mvalues\u001B[0m\u001B[1;33m\u001B[0m\u001B[1;33m\u001B[0m\u001B[0m\n\u001B[0;32m    591\u001B[0m \u001B[1;33m\u001B[0m\u001B[0m\n\u001B[1;32m--> 592\u001B[1;33m         \u001B[0mnew_values\u001B[0m \u001B[1;33m=\u001B[0m \u001B[0mastype_array_safe\u001B[0m\u001B[1;33m(\u001B[0m\u001B[0mvalues\u001B[0m\u001B[1;33m,\u001B[0m \u001B[0mdtype\u001B[0m\u001B[1;33m,\u001B[0m \u001B[0mcopy\u001B[0m\u001B[1;33m=\u001B[0m\u001B[0mcopy\u001B[0m\u001B[1;33m,\u001B[0m \u001B[0merrors\u001B[0m\u001B[1;33m=\u001B[0m\u001B[0merrors\u001B[0m\u001B[1;33m)\u001B[0m\u001B[1;33m\u001B[0m\u001B[1;33m\u001B[0m\u001B[0m\n\u001B[0m\u001B[0;32m    593\u001B[0m \u001B[1;33m\u001B[0m\u001B[0m\n\u001B[0;32m    594\u001B[0m         \u001B[0mnew_values\u001B[0m \u001B[1;33m=\u001B[0m \u001B[0mmaybe_coerce_values\u001B[0m\u001B[1;33m(\u001B[0m\u001B[0mnew_values\u001B[0m\u001B[1;33m)\u001B[0m\u001B[1;33m\u001B[0m\u001B[1;33m\u001B[0m\u001B[0m\n",
      "\u001B[1;32mc:\\users\\tjdal\\pycharmprojects\\kaggle\\venv\\lib\\site-packages\\pandas\\core\\dtypes\\cast.py\u001B[0m in \u001B[0;36mastype_array_safe\u001B[1;34m(values, dtype, copy, errors)\u001B[0m\n\u001B[0;32m   1298\u001B[0m \u001B[1;33m\u001B[0m\u001B[0m\n\u001B[0;32m   1299\u001B[0m     \u001B[1;32mtry\u001B[0m\u001B[1;33m:\u001B[0m\u001B[1;33m\u001B[0m\u001B[1;33m\u001B[0m\u001B[0m\n\u001B[1;32m-> 1300\u001B[1;33m         \u001B[0mnew_values\u001B[0m \u001B[1;33m=\u001B[0m \u001B[0mastype_array\u001B[0m\u001B[1;33m(\u001B[0m\u001B[0mvalues\u001B[0m\u001B[1;33m,\u001B[0m \u001B[0mdtype\u001B[0m\u001B[1;33m,\u001B[0m \u001B[0mcopy\u001B[0m\u001B[1;33m=\u001B[0m\u001B[0mcopy\u001B[0m\u001B[1;33m)\u001B[0m\u001B[1;33m\u001B[0m\u001B[1;33m\u001B[0m\u001B[0m\n\u001B[0m\u001B[0;32m   1301\u001B[0m     \u001B[1;32mexcept\u001B[0m \u001B[1;33m(\u001B[0m\u001B[0mValueError\u001B[0m\u001B[1;33m,\u001B[0m \u001B[0mTypeError\u001B[0m\u001B[1;33m)\u001B[0m\u001B[1;33m:\u001B[0m\u001B[1;33m\u001B[0m\u001B[1;33m\u001B[0m\u001B[0m\n\u001B[0;32m   1302\u001B[0m         \u001B[1;31m# e.g. astype_nansafe can fail on object-dtype of strings\u001B[0m\u001B[1;33m\u001B[0m\u001B[1;33m\u001B[0m\u001B[1;33m\u001B[0m\u001B[0m\n",
      "\u001B[1;32mc:\\users\\tjdal\\pycharmprojects\\kaggle\\venv\\lib\\site-packages\\pandas\\core\\dtypes\\cast.py\u001B[0m in \u001B[0;36mastype_array\u001B[1;34m(values, dtype, copy)\u001B[0m\n\u001B[0;32m   1246\u001B[0m \u001B[1;33m\u001B[0m\u001B[0m\n\u001B[0;32m   1247\u001B[0m     \u001B[1;32melse\u001B[0m\u001B[1;33m:\u001B[0m\u001B[1;33m\u001B[0m\u001B[1;33m\u001B[0m\u001B[0m\n\u001B[1;32m-> 1248\u001B[1;33m         \u001B[0mvalues\u001B[0m \u001B[1;33m=\u001B[0m \u001B[0mastype_nansafe\u001B[0m\u001B[1;33m(\u001B[0m\u001B[0mvalues\u001B[0m\u001B[1;33m,\u001B[0m \u001B[0mdtype\u001B[0m\u001B[1;33m,\u001B[0m \u001B[0mcopy\u001B[0m\u001B[1;33m=\u001B[0m\u001B[0mcopy\u001B[0m\u001B[1;33m)\u001B[0m\u001B[1;33m\u001B[0m\u001B[1;33m\u001B[0m\u001B[0m\n\u001B[0m\u001B[0;32m   1249\u001B[0m \u001B[1;33m\u001B[0m\u001B[0m\n\u001B[0;32m   1250\u001B[0m     \u001B[1;31m# in pandas we don't store numpy str dtypes, so convert to object\u001B[0m\u001B[1;33m\u001B[0m\u001B[1;33m\u001B[0m\u001B[1;33m\u001B[0m\u001B[0m\n",
      "\u001B[1;32mc:\\users\\tjdal\\pycharmprojects\\kaggle\\venv\\lib\\site-packages\\pandas\\core\\dtypes\\cast.py\u001B[0m in \u001B[0;36mastype_nansafe\u001B[1;34m(arr, dtype, copy, skipna)\u001B[0m\n\u001B[0;32m   1163\u001B[0m         \u001B[1;31m# work around NumPy brokenness, #1987\u001B[0m\u001B[1;33m\u001B[0m\u001B[1;33m\u001B[0m\u001B[1;33m\u001B[0m\u001B[0m\n\u001B[0;32m   1164\u001B[0m         \u001B[1;32mif\u001B[0m \u001B[0mnp\u001B[0m\u001B[1;33m.\u001B[0m\u001B[0missubdtype\u001B[0m\u001B[1;33m(\u001B[0m\u001B[0mdtype\u001B[0m\u001B[1;33m.\u001B[0m\u001B[0mtype\u001B[0m\u001B[1;33m,\u001B[0m \u001B[0mnp\u001B[0m\u001B[1;33m.\u001B[0m\u001B[0minteger\u001B[0m\u001B[1;33m)\u001B[0m\u001B[1;33m:\u001B[0m\u001B[1;33m\u001B[0m\u001B[1;33m\u001B[0m\u001B[0m\n\u001B[1;32m-> 1165\u001B[1;33m             \u001B[1;32mreturn\u001B[0m \u001B[0mlib\u001B[0m\u001B[1;33m.\u001B[0m\u001B[0mastype_intsafe\u001B[0m\u001B[1;33m(\u001B[0m\u001B[0marr\u001B[0m\u001B[1;33m,\u001B[0m \u001B[0mdtype\u001B[0m\u001B[1;33m)\u001B[0m\u001B[1;33m\u001B[0m\u001B[1;33m\u001B[0m\u001B[0m\n\u001B[0m\u001B[0;32m   1166\u001B[0m \u001B[1;33m\u001B[0m\u001B[0m\n\u001B[0;32m   1167\u001B[0m         \u001B[1;31m# if we have a datetime/timedelta array of objects\u001B[0m\u001B[1;33m\u001B[0m\u001B[1;33m\u001B[0m\u001B[1;33m\u001B[0m\u001B[0m\n",
      "\u001B[1;32mc:\\users\\tjdal\\pycharmprojects\\kaggle\\venv\\lib\\site-packages\\pandas\\_libs\\lib.pyx\u001B[0m in \u001B[0;36mpandas._libs.lib.astype_intsafe\u001B[1;34m()\u001B[0m\n",
      "\u001B[1;31mValueError\u001B[0m: invalid literal for int() with base 10: '1997-08-20'"
     ]
    }
   ],
   "source": [
    "movies_feature.id.astype(int)"
   ],
   "metadata": {
    "collapsed": false,
    "pycharm": {
     "name": "#%%\n"
    }
   }
  },
  {
   "cell_type": "code",
   "execution_count": 168,
   "outputs": [],
   "source": [
    "# 에러 값 제외 필요\n",
    "#movies_feature[movies_feature.id == '1997-08-20']\n",
    "\n",
    "# isin pass list-like\n",
    "#\n",
    "#movies_feature[movies_feature.id.isin(['1997-08-20'])]\n",
    "\n",
    "#movies_feature[movies_feature.id.str.contains('-')].drop()\n",
    "# ValueError: Need to specify at least one of 'labels', 'index' or 'columns\n",
    "\n",
    "\n",
    "drop_index = movies_feature[movies_feature.id.str.contains('-')].index"
   ],
   "metadata": {
    "collapsed": false,
    "pycharm": {
     "name": "#%%\n"
    }
   }
  },
  {
   "cell_type": "code",
   "execution_count": 169,
   "outputs": [],
   "source": [
    "movies_feature = movies_feature.drop(drop_index)"
   ],
   "metadata": {
    "collapsed": false,
    "pycharm": {
     "name": "#%%\n"
    }
   }
  },
  {
   "cell_type": "code",
   "execution_count": 170,
   "outputs": [],
   "source": [
    "movies_feature.id = movies_feature.id.astype(int)"
   ],
   "metadata": {
    "collapsed": false,
    "pycharm": {
     "name": "#%%\n"
    }
   }
  },
  {
   "cell_type": "code",
   "execution_count": 173,
   "outputs": [
    {
     "data": {
      "text/plain": "          userId      id  rating   timestamp  \\\n0              1     110     1.0  1425941529   \n1             11     110     3.5  1231676989   \n2             22     110     5.0  1111937009   \n3             24     110     5.0   979870012   \n4             29     110     3.0  1044020005   \n...          ...     ...     ...         ...   \n11437632  270123  140222     3.0  1440920139   \n11437633  270123  151509     3.0  1453527817   \n11437634  270123  159109     1.5  1465361347   \n11437635  270694  165159     4.0  1476635117   \n11437636  270887  136928     3.0  1463422216   \n\n                                                   overview  \\\n0         Red This is the third film from the trilogy by...   \n1         Red This is the third film from the trilogy by...   \n2         Red This is the third film from the trilogy by...   \n3         Red This is the third film from the trilogy by...   \n4         Red This is the third film from the trilogy by...   \n...                                                     ...   \n11437632  When a young soldier in Vietnam gets dumped by...   \n11437633  The long awaited sequel to R. Kelly's \"Trapped...   \n11437634  After being released from prison, a man known ...   \n11437635                                                NaN   \n11437636  When winter begins, life is serene for a group...   \n\n                                                     title  \n0                                        Three Colors: Red  \n1                                        Three Colors: Red  \n2                                        Three Colors: Red  \n3                                        Three Colors: Red  \n4                                        Three Colors: Red  \n...                                                    ...  \n11437632                                    Love and Honor  \n11437633             Trapped in the Closet: Chapters 23-33  \n11437634                                       The Rambler  \n11437635  Agenzia Riccardo Finzi... praticamente detective  \n11437636                                      First Winter  \n\n[11437637 rows x 6 columns]",
      "text/html": "<div>\n<style scoped>\n    .dataframe tbody tr th:only-of-type {\n        vertical-align: middle;\n    }\n\n    .dataframe tbody tr th {\n        vertical-align: top;\n    }\n\n    .dataframe thead th {\n        text-align: right;\n    }\n</style>\n<table border=\"1\" class=\"dataframe\">\n  <thead>\n    <tr style=\"text-align: right;\">\n      <th></th>\n      <th>userId</th>\n      <th>id</th>\n      <th>rating</th>\n      <th>timestamp</th>\n      <th>overview</th>\n      <th>title</th>\n    </tr>\n  </thead>\n  <tbody>\n    <tr>\n      <th>0</th>\n      <td>1</td>\n      <td>110</td>\n      <td>1.0</td>\n      <td>1425941529</td>\n      <td>Red This is the third film from the trilogy by...</td>\n      <td>Three Colors: Red</td>\n    </tr>\n    <tr>\n      <th>1</th>\n      <td>11</td>\n      <td>110</td>\n      <td>3.5</td>\n      <td>1231676989</td>\n      <td>Red This is the third film from the trilogy by...</td>\n      <td>Three Colors: Red</td>\n    </tr>\n    <tr>\n      <th>2</th>\n      <td>22</td>\n      <td>110</td>\n      <td>5.0</td>\n      <td>1111937009</td>\n      <td>Red This is the third film from the trilogy by...</td>\n      <td>Three Colors: Red</td>\n    </tr>\n    <tr>\n      <th>3</th>\n      <td>24</td>\n      <td>110</td>\n      <td>5.0</td>\n      <td>979870012</td>\n      <td>Red This is the third film from the trilogy by...</td>\n      <td>Three Colors: Red</td>\n    </tr>\n    <tr>\n      <th>4</th>\n      <td>29</td>\n      <td>110</td>\n      <td>3.0</td>\n      <td>1044020005</td>\n      <td>Red This is the third film from the trilogy by...</td>\n      <td>Three Colors: Red</td>\n    </tr>\n    <tr>\n      <th>...</th>\n      <td>...</td>\n      <td>...</td>\n      <td>...</td>\n      <td>...</td>\n      <td>...</td>\n      <td>...</td>\n    </tr>\n    <tr>\n      <th>11437632</th>\n      <td>270123</td>\n      <td>140222</td>\n      <td>3.0</td>\n      <td>1440920139</td>\n      <td>When a young soldier in Vietnam gets dumped by...</td>\n      <td>Love and Honor</td>\n    </tr>\n    <tr>\n      <th>11437633</th>\n      <td>270123</td>\n      <td>151509</td>\n      <td>3.0</td>\n      <td>1453527817</td>\n      <td>The long awaited sequel to R. Kelly's \"Trapped...</td>\n      <td>Trapped in the Closet: Chapters 23-33</td>\n    </tr>\n    <tr>\n      <th>11437634</th>\n      <td>270123</td>\n      <td>159109</td>\n      <td>1.5</td>\n      <td>1465361347</td>\n      <td>After being released from prison, a man known ...</td>\n      <td>The Rambler</td>\n    </tr>\n    <tr>\n      <th>11437635</th>\n      <td>270694</td>\n      <td>165159</td>\n      <td>4.0</td>\n      <td>1476635117</td>\n      <td>NaN</td>\n      <td>Agenzia Riccardo Finzi... praticamente detective</td>\n    </tr>\n    <tr>\n      <th>11437636</th>\n      <td>270887</td>\n      <td>136928</td>\n      <td>3.0</td>\n      <td>1463422216</td>\n      <td>When winter begins, life is serene for a group...</td>\n      <td>First Winter</td>\n    </tr>\n  </tbody>\n</table>\n<p>11437637 rows × 6 columns</p>\n</div>"
     },
     "execution_count": 173,
     "metadata": {},
     "output_type": "execute_result"
    }
   ],
   "source": [
    "ratings.merge(movies_feature[['id','overview','title']], how='inner',on='id' )"
   ],
   "metadata": {
    "collapsed": false,
    "pycharm": {
     "name": "#%%\n"
    }
   }
  },
  {
   "cell_type": "code",
   "execution_count": 175,
   "outputs": [
    {
     "ename": "TypeError",
     "evalue": "fit_transform() missing 1 required positional argument: 'raw_documents'",
     "output_type": "error",
     "traceback": [
      "\u001B[1;31m---------------------------------------------------------------------------\u001B[0m",
      "\u001B[1;31mTypeError\u001B[0m                                 Traceback (most recent call last)",
      "\u001B[1;32m~\\AppData\\Local\\Temp/ipykernel_21064/1505851195.py\u001B[0m in \u001B[0;36m<module>\u001B[1;34m\u001B[0m\n\u001B[0;32m      5\u001B[0m \u001B[1;33m\u001B[0m\u001B[0m\n\u001B[0;32m      6\u001B[0m \u001B[1;33m\u001B[0m\u001B[0m\n\u001B[1;32m----> 7\u001B[1;33m \u001B[0mmovies_feature\u001B[0m\u001B[1;33m[\u001B[0m\u001B[1;34m'overview'\u001B[0m\u001B[1;33m]\u001B[0m\u001B[1;33m=\u001B[0m \u001B[0mtf\u001B[0m\u001B[1;33m.\u001B[0m\u001B[0mfit_transform\u001B[0m\u001B[1;33m(\u001B[0m\u001B[1;33m)\u001B[0m\u001B[1;33m\u001B[0m\u001B[1;33m\u001B[0m\u001B[0m\n\u001B[0m\u001B[0;32m      8\u001B[0m \u001B[1;33m\u001B[0m\u001B[0m\n",
      "\u001B[1;31mTypeError\u001B[0m: fit_transform() missing 1 required positional argument: 'raw_documents'"
     ]
    }
   ],
   "source": [
    "from sklearn.feature_extraction.text import TfidfVectorizer\n",
    "\n",
    "\n",
    "tf = TfidfVectorizer()\n",
    "##\n",
    "#\n",
    "#tf = TfidfVectorizer(stop_words='english')\n",
    "##"
   ],
   "metadata": {
    "collapsed": false,
    "pycharm": {
     "name": "#%%\n"
    }
   }
  },
  {
   "cell_type": "code",
   "execution_count": 176,
   "outputs": [
    {
     "data": {
      "text/plain": "0        Led by Woody, Andy's toys live happily in his ...\n1        When siblings Judy and Peter discover an encha...\n2        A family wedding reignites the ancient feud be...\n3        Cheated on, mistreated and stepped on, the wom...\n4        Just when George Banks has recovered from his ...\n                               ...                        \n45461          Rising and falling between a man and woman.\n45462    An artist struggles to finish his work while a...\n45463    When one of her hits goes wrong, a professiona...\n45464    In a small town live two brothers, one a minis...\n45465    50 years after decriminalisation of homosexual...\nName: overview, Length: 45463, dtype: object"
     },
     "execution_count": 176,
     "metadata": {},
     "output_type": "execute_result"
    }
   ],
   "source": [],
   "metadata": {
    "collapsed": false,
    "pycharm": {
     "name": "#%%\n"
    }
   }
  },
  {
   "cell_type": "code",
   "execution_count": 177,
   "outputs": [],
   "source": [
    "# word_dict genearte and encoding through fit_transform 은 유사도 행렬을 만드는 메서드이고 정수 인코딩 토크나이저는 아니다"
   ],
   "metadata": {
    "collapsed": false,
    "pycharm": {
     "name": "#%%\n"
    }
   }
  },
  {
   "cell_type": "code",
   "execution_count": 193,
   "outputs": [],
   "source": [
    "tfid_matrix = tf.fit_transform(movies_feature['overview'].dropna())\n",
    "# matrix를 구하고 내부적으로 인코딩하여 가지고 있으므로 정수 인코딩을 표시하지는 않는 함수"
   ],
   "metadata": {
    "collapsed": false,
    "pycharm": {
     "name": "#%%\n"
    }
   }
  },
  {
   "cell_type": "code",
   "execution_count": 226,
   "outputs": [
    {
     "data": {
      "text/plain": "(5000, 76132)"
     },
     "execution_count": 226,
     "metadata": {},
     "output_type": "execute_result"
    }
   ],
   "source": [
    "# 영화의 개수 , 단어 수 () 는 call 함수를 부른다? ()를 썼을 때는 not callable이 나온다 ()가 클래스 객체를 호출 할 수 있게끔 하는 함수 매직 메서드 __call__이다\n",
    "tfid_matrix[:5000,].shape"
   ],
   "metadata": {
    "collapsed": false,
    "pycharm": {
     "name": "#%%\n"
    }
   }
  },
  {
   "cell_type": "code",
   "execution_count": 194,
   "outputs": [
    {
     "ename": "MemoryError",
     "evalue": "Unable to allocate 7.04 GiB for an array with shape (1891075122,) and data type int32",
     "output_type": "error",
     "traceback": [
      "\u001B[1;31m---------------------------------------------------------------------------\u001B[0m",
      "\u001B[1;31mMemoryError\u001B[0m                               Traceback (most recent call last)",
      "\u001B[1;32m~\\AppData\\Local\\Temp/ipykernel_21064/4256212534.py\u001B[0m in \u001B[0;36m<module>\u001B[1;34m\u001B[0m\n\u001B[0;32m      1\u001B[0m \u001B[1;32mfrom\u001B[0m \u001B[0msklearn\u001B[0m\u001B[1;33m.\u001B[0m\u001B[0mmetrics\u001B[0m\u001B[1;33m.\u001B[0m\u001B[0mpairwise\u001B[0m \u001B[1;32mimport\u001B[0m \u001B[0mlinear_kernel\u001B[0m\u001B[1;33m\u001B[0m\u001B[1;33m\u001B[0m\u001B[0m\n\u001B[0;32m      2\u001B[0m \u001B[1;33m\u001B[0m\u001B[0m\n\u001B[1;32m----> 3\u001B[1;33m \u001B[0mlinear_kernel\u001B[0m\u001B[1;33m(\u001B[0m\u001B[0mtfid_matrix\u001B[0m\u001B[1;33m,\u001B[0m\u001B[0mtfid_matrix\u001B[0m\u001B[1;33m)\u001B[0m\u001B[1;33m\u001B[0m\u001B[1;33m\u001B[0m\u001B[0m\n\u001B[0m",
      "\u001B[1;32mc:\\users\\tjdal\\pycharmprojects\\kaggle\\venv\\lib\\site-packages\\sklearn\\metrics\\pairwise.py\u001B[0m in \u001B[0;36mlinear_kernel\u001B[1;34m(X, Y, dense_output)\u001B[0m\n\u001B[0;32m   1003\u001B[0m     \"\"\"\n\u001B[0;32m   1004\u001B[0m     \u001B[0mX\u001B[0m\u001B[1;33m,\u001B[0m \u001B[0mY\u001B[0m \u001B[1;33m=\u001B[0m \u001B[0mcheck_pairwise_arrays\u001B[0m\u001B[1;33m(\u001B[0m\u001B[0mX\u001B[0m\u001B[1;33m,\u001B[0m \u001B[0mY\u001B[0m\u001B[1;33m)\u001B[0m\u001B[1;33m\u001B[0m\u001B[1;33m\u001B[0m\u001B[0m\n\u001B[1;32m-> 1005\u001B[1;33m     \u001B[1;32mreturn\u001B[0m \u001B[0msafe_sparse_dot\u001B[0m\u001B[1;33m(\u001B[0m\u001B[0mX\u001B[0m\u001B[1;33m,\u001B[0m \u001B[0mY\u001B[0m\u001B[1;33m.\u001B[0m\u001B[0mT\u001B[0m\u001B[1;33m,\u001B[0m \u001B[0mdense_output\u001B[0m\u001B[1;33m=\u001B[0m\u001B[0mdense_output\u001B[0m\u001B[1;33m)\u001B[0m\u001B[1;33m\u001B[0m\u001B[1;33m\u001B[0m\u001B[0m\n\u001B[0m\u001B[0;32m   1006\u001B[0m \u001B[1;33m\u001B[0m\u001B[0m\n\u001B[0;32m   1007\u001B[0m \u001B[1;33m\u001B[0m\u001B[0m\n",
      "\u001B[1;32mc:\\users\\tjdal\\pycharmprojects\\kaggle\\venv\\lib\\site-packages\\sklearn\\utils\\validation.py\u001B[0m in \u001B[0;36minner_f\u001B[1;34m(*args, **kwargs)\u001B[0m\n\u001B[0;32m     61\u001B[0m             \u001B[0mextra_args\u001B[0m \u001B[1;33m=\u001B[0m \u001B[0mlen\u001B[0m\u001B[1;33m(\u001B[0m\u001B[0margs\u001B[0m\u001B[1;33m)\u001B[0m \u001B[1;33m-\u001B[0m \u001B[0mlen\u001B[0m\u001B[1;33m(\u001B[0m\u001B[0mall_args\u001B[0m\u001B[1;33m)\u001B[0m\u001B[1;33m\u001B[0m\u001B[1;33m\u001B[0m\u001B[0m\n\u001B[0;32m     62\u001B[0m             \u001B[1;32mif\u001B[0m \u001B[0mextra_args\u001B[0m \u001B[1;33m<=\u001B[0m \u001B[1;36m0\u001B[0m\u001B[1;33m:\u001B[0m\u001B[1;33m\u001B[0m\u001B[1;33m\u001B[0m\u001B[0m\n\u001B[1;32m---> 63\u001B[1;33m                 \u001B[1;32mreturn\u001B[0m \u001B[0mf\u001B[0m\u001B[1;33m(\u001B[0m\u001B[1;33m*\u001B[0m\u001B[0margs\u001B[0m\u001B[1;33m,\u001B[0m \u001B[1;33m**\u001B[0m\u001B[0mkwargs\u001B[0m\u001B[1;33m)\u001B[0m\u001B[1;33m\u001B[0m\u001B[1;33m\u001B[0m\u001B[0m\n\u001B[0m\u001B[0;32m     64\u001B[0m \u001B[1;33m\u001B[0m\u001B[0m\n\u001B[0;32m     65\u001B[0m             \u001B[1;31m# extra_args > 0\u001B[0m\u001B[1;33m\u001B[0m\u001B[1;33m\u001B[0m\u001B[1;33m\u001B[0m\u001B[0m\n",
      "\u001B[1;32mc:\\users\\tjdal\\pycharmprojects\\kaggle\\venv\\lib\\site-packages\\sklearn\\utils\\extmath.py\u001B[0m in \u001B[0;36msafe_sparse_dot\u001B[1;34m(a, b, dense_output)\u001B[0m\n\u001B[0;32m    150\u001B[0m             \u001B[0mret\u001B[0m \u001B[1;33m=\u001B[0m \u001B[0mnp\u001B[0m\u001B[1;33m.\u001B[0m\u001B[0mdot\u001B[0m\u001B[1;33m(\u001B[0m\u001B[0ma\u001B[0m\u001B[1;33m,\u001B[0m \u001B[0mb\u001B[0m\u001B[1;33m)\u001B[0m\u001B[1;33m\u001B[0m\u001B[1;33m\u001B[0m\u001B[0m\n\u001B[0;32m    151\u001B[0m     \u001B[1;32melse\u001B[0m\u001B[1;33m:\u001B[0m\u001B[1;33m\u001B[0m\u001B[1;33m\u001B[0m\u001B[0m\n\u001B[1;32m--> 152\u001B[1;33m         \u001B[0mret\u001B[0m \u001B[1;33m=\u001B[0m \u001B[0ma\u001B[0m \u001B[1;33m@\u001B[0m \u001B[0mb\u001B[0m\u001B[1;33m\u001B[0m\u001B[1;33m\u001B[0m\u001B[0m\n\u001B[0m\u001B[0;32m    153\u001B[0m \u001B[1;33m\u001B[0m\u001B[0m\n\u001B[0;32m    154\u001B[0m     if (sparse.issparse(a) and sparse.issparse(b)\n",
      "\u001B[1;32mc:\\users\\tjdal\\pycharmprojects\\kaggle\\venv\\lib\\site-packages\\scipy\\sparse\\base.py\u001B[0m in \u001B[0;36m__matmul__\u001B[1;34m(self, other)\u001B[0m\n\u001B[0;32m    558\u001B[0m             raise ValueError(\"Scalar operands are not allowed, \"\n\u001B[0;32m    559\u001B[0m                              \"use '*' instead\")\n\u001B[1;32m--> 560\u001B[1;33m         \u001B[1;32mreturn\u001B[0m \u001B[0mself\u001B[0m\u001B[1;33m.\u001B[0m\u001B[0m__mul__\u001B[0m\u001B[1;33m(\u001B[0m\u001B[0mother\u001B[0m\u001B[1;33m)\u001B[0m\u001B[1;33m\u001B[0m\u001B[1;33m\u001B[0m\u001B[0m\n\u001B[0m\u001B[0;32m    561\u001B[0m \u001B[1;33m\u001B[0m\u001B[0m\n\u001B[0;32m    562\u001B[0m     \u001B[1;32mdef\u001B[0m \u001B[0m__rmatmul__\u001B[0m\u001B[1;33m(\u001B[0m\u001B[0mself\u001B[0m\u001B[1;33m,\u001B[0m \u001B[0mother\u001B[0m\u001B[1;33m)\u001B[0m\u001B[1;33m:\u001B[0m\u001B[1;33m\u001B[0m\u001B[1;33m\u001B[0m\u001B[0m\n",
      "\u001B[1;32mc:\\users\\tjdal\\pycharmprojects\\kaggle\\venv\\lib\\site-packages\\scipy\\sparse\\base.py\u001B[0m in \u001B[0;36m__mul__\u001B[1;34m(self, other)\u001B[0m\n\u001B[0;32m    478\u001B[0m             \u001B[1;32mif\u001B[0m \u001B[0mself\u001B[0m\u001B[1;33m.\u001B[0m\u001B[0mshape\u001B[0m\u001B[1;33m[\u001B[0m\u001B[1;36m1\u001B[0m\u001B[1;33m]\u001B[0m \u001B[1;33m!=\u001B[0m \u001B[0mother\u001B[0m\u001B[1;33m.\u001B[0m\u001B[0mshape\u001B[0m\u001B[1;33m[\u001B[0m\u001B[1;36m0\u001B[0m\u001B[1;33m]\u001B[0m\u001B[1;33m:\u001B[0m\u001B[1;33m\u001B[0m\u001B[1;33m\u001B[0m\u001B[0m\n\u001B[0;32m    479\u001B[0m                 \u001B[1;32mraise\u001B[0m \u001B[0mValueError\u001B[0m\u001B[1;33m(\u001B[0m\u001B[1;34m'dimension mismatch'\u001B[0m\u001B[1;33m)\u001B[0m\u001B[1;33m\u001B[0m\u001B[1;33m\u001B[0m\u001B[0m\n\u001B[1;32m--> 480\u001B[1;33m             \u001B[1;32mreturn\u001B[0m \u001B[0mself\u001B[0m\u001B[1;33m.\u001B[0m\u001B[0m_mul_sparse_matrix\u001B[0m\u001B[1;33m(\u001B[0m\u001B[0mother\u001B[0m\u001B[1;33m)\u001B[0m\u001B[1;33m\u001B[0m\u001B[1;33m\u001B[0m\u001B[0m\n\u001B[0m\u001B[0;32m    481\u001B[0m \u001B[1;33m\u001B[0m\u001B[0m\n\u001B[0;32m    482\u001B[0m         \u001B[1;31m# If it's a list or whatever, treat it like a matrix\u001B[0m\u001B[1;33m\u001B[0m\u001B[1;33m\u001B[0m\u001B[1;33m\u001B[0m\u001B[0m\n",
      "\u001B[1;32mc:\\users\\tjdal\\pycharmprojects\\kaggle\\venv\\lib\\site-packages\\scipy\\sparse\\compressed.py\u001B[0m in \u001B[0;36m_mul_sparse_matrix\u001B[1;34m(self, other)\u001B[0m\n\u001B[0;32m    516\u001B[0m \u001B[1;33m\u001B[0m\u001B[0m\n\u001B[0;32m    517\u001B[0m         \u001B[0mindptr\u001B[0m \u001B[1;33m=\u001B[0m \u001B[0mnp\u001B[0m\u001B[1;33m.\u001B[0m\u001B[0mempty\u001B[0m\u001B[1;33m(\u001B[0m\u001B[0mmajor_axis\u001B[0m \u001B[1;33m+\u001B[0m \u001B[1;36m1\u001B[0m\u001B[1;33m,\u001B[0m \u001B[0mdtype\u001B[0m\u001B[1;33m=\u001B[0m\u001B[0midx_dtype\u001B[0m\u001B[1;33m)\u001B[0m\u001B[1;33m\u001B[0m\u001B[1;33m\u001B[0m\u001B[0m\n\u001B[1;32m--> 518\u001B[1;33m         \u001B[0mindices\u001B[0m \u001B[1;33m=\u001B[0m \u001B[0mnp\u001B[0m\u001B[1;33m.\u001B[0m\u001B[0mempty\u001B[0m\u001B[1;33m(\u001B[0m\u001B[0mnnz\u001B[0m\u001B[1;33m,\u001B[0m \u001B[0mdtype\u001B[0m\u001B[1;33m=\u001B[0m\u001B[0midx_dtype\u001B[0m\u001B[1;33m)\u001B[0m\u001B[1;33m\u001B[0m\u001B[1;33m\u001B[0m\u001B[0m\n\u001B[0m\u001B[0;32m    519\u001B[0m         \u001B[0mdata\u001B[0m \u001B[1;33m=\u001B[0m \u001B[0mnp\u001B[0m\u001B[1;33m.\u001B[0m\u001B[0mempty\u001B[0m\u001B[1;33m(\u001B[0m\u001B[0mnnz\u001B[0m\u001B[1;33m,\u001B[0m \u001B[0mdtype\u001B[0m\u001B[1;33m=\u001B[0m\u001B[0mupcast\u001B[0m\u001B[1;33m(\u001B[0m\u001B[0mself\u001B[0m\u001B[1;33m.\u001B[0m\u001B[0mdtype\u001B[0m\u001B[1;33m,\u001B[0m \u001B[0mother\u001B[0m\u001B[1;33m.\u001B[0m\u001B[0mdtype\u001B[0m\u001B[1;33m)\u001B[0m\u001B[1;33m)\u001B[0m\u001B[1;33m\u001B[0m\u001B[1;33m\u001B[0m\u001B[0m\n\u001B[0;32m    520\u001B[0m \u001B[1;33m\u001B[0m\u001B[0m\n",
      "\u001B[1;31mMemoryError\u001B[0m: Unable to allocate 7.04 GiB for an array with shape (1891075122,) and data type int32"
     ]
    }
   ],
   "source": [
    "from sklearn.metrics.pairwise import linear_kernel"
   ],
   "metadata": {
    "collapsed": false,
    "pycharm": {
     "name": "#%%\n"
    }
   }
  },
  {
   "cell_type": "code",
   "execution_count": null,
   "outputs": [],
   "source": [
    "# 계산불가\n",
    "#linear_kernel(tfid_matrix,tfid_matrix)"
   ],
   "metadata": {
    "collapsed": false,
    "pycharm": {
     "name": "#%%\n"
    }
   }
  },
  {
   "cell_type": "code",
   "execution_count": null,
   "outputs": [],
   "source": [
    "tf.get_feature_names()\n",
    "tf.vocabulary_['led']"
   ],
   "metadata": {
    "collapsed": false,
    "pycharm": {
     "name": "#%%\n"
    }
   }
  },
  {
   "cell_type": "code",
   "execution_count": 192,
   "outputs": [
    {
     "data": {
      "text/plain": "38226"
     },
     "execution_count": 192,
     "metadata": {},
     "output_type": "execute_result"
    }
   ],
   "source": [],
   "metadata": {
    "collapsed": false,
    "pycharm": {
     "name": "#%%\n"
    }
   }
  },
  {
   "cell_type": "code",
   "execution_count": 205,
   "outputs": [],
   "source": [
    "\n",
    "\n",
    "from tensorflow.keras.preprocessing.text import Tokenizer\n",
    "\n",
    "tokenizer = Tokenizer()"
   ],
   "metadata": {
    "collapsed": false,
    "pycharm": {
     "name": "#%%\n"
    }
   }
  },
  {
   "cell_type": "code",
   "execution_count": 201,
   "outputs": [],
   "source": [
    "texts = movies_feature['overview'].apply(lambda x : str(x).split(' '))"
   ],
   "metadata": {
    "collapsed": false,
    "pycharm": {
     "name": "#%%\n"
    }
   }
  },
  {
   "cell_type": "code",
   "execution_count": 203,
   "outputs": [
    {
     "ename": "TypeError",
     "evalue": "tolist() takes 1 positional argument but 2 were given",
     "output_type": "error",
     "traceback": [
      "\u001B[1;31m---------------------------------------------------------------------------\u001B[0m",
      "\u001B[1;31mTypeError\u001B[0m                                 Traceback (most recent call last)",
      "\u001B[1;32m~\\AppData\\Local\\Temp/ipykernel_21064/4287172113.py\u001B[0m in \u001B[0;36m<module>\u001B[1;34m\u001B[0m\n\u001B[1;32m----> 1\u001B[1;33m \u001B[0mtexts\u001B[0m\u001B[1;33m.\u001B[0m\u001B[0mtolist\u001B[0m\u001B[1;33m(\u001B[0m\u001B[0mtexts\u001B[0m\u001B[1;33m)\u001B[0m\u001B[1;33m\u001B[0m\u001B[1;33m\u001B[0m\u001B[0m\n\u001B[0m",
      "\u001B[1;31mTypeError\u001B[0m: tolist() takes 1 positional argument but 2 were given"
     ]
    }
   ],
   "source": [
    "texts.tolist()"
   ],
   "metadata": {
    "collapsed": false,
    "pycharm": {
     "name": "#%%\n"
    }
   }
  },
  {
   "cell_type": "code",
   "execution_count": 206,
   "outputs": [],
   "source": [
    "tokenizer.fit_on_texts(texts)"
   ],
   "metadata": {
    "collapsed": false,
    "pycharm": {
     "name": "#%%\n"
    }
   }
  },
  {
   "cell_type": "code",
   "execution_count": 207,
   "outputs": [
    {
     "data": {
      "text/plain": "{'the': 1,\n 'a': 2,\n 'and': 3,\n 'to': 4,\n 'of': 5,\n 'in': 6,\n 'is': 7,\n 'his': 8,\n 'with': 9,\n 'he': 10,\n 'her': 11,\n 'for': 12,\n 'on': 13,\n 'an': 14,\n 'by': 15,\n 'that': 16,\n 'as': 17,\n 'who': 18,\n 'their': 19,\n 'from': 20,\n 'but': 21,\n 'when': 22,\n 'they': 23,\n 'she': 24,\n 'has': 25,\n 'are': 26,\n 'at': 27,\n 'this': 28,\n 'one': 29,\n 'into': 30,\n 'after': 31,\n 'it': 32,\n 'young': 33,\n 'him': 34,\n 'be': 35,\n 'new': 36,\n 'up': 37,\n 'out': 38,\n 'life': 39,\n 'about': 40,\n 'two': 41,\n 'film': 42,\n 'have': 43,\n 'all': 44,\n 'was': 45,\n 'man': 46,\n 'will': 47,\n 'story': 48,\n 'love': 49,\n 'not': 50,\n 'find': 51,\n 'only': 52,\n 'which': 53,\n 'family': 54,\n 'them': 55,\n 'world': 56,\n 'while': 57,\n 'where': 58,\n '-': 59,\n 'get': 60,\n 'finds': 61,\n 'can': 62,\n 'woman': 63,\n 'what': 64,\n 'must': 65,\n 'years': 66,\n 'through': 67,\n 'first': 68,\n 'more': 69,\n 'been': 70,\n 'old': 71,\n 'time': 72,\n 'back': 73,\n 'between': 74,\n 'during': 75,\n 'takes': 76,\n 'own': 77,\n 'over': 78,\n 'becomes': 79,\n 'three': 80,\n 'lives': 81,\n 'or': 82,\n 'so': 83,\n 'take': 84,\n 'other': 85,\n 'most': 86,\n 'help': 87,\n '': 88,\n 'being': 89,\n 'also': 90,\n 'no': 91,\n 'make': 92,\n 'some': 93,\n 'girl': 94,\n 'just': 95,\n 'gets': 96,\n 'set': 97,\n 'friends': 98,\n 'father': 99,\n 'group': 100,\n 'way': 101,\n 'before': 102,\n 'its': 103,\n 'against': 104,\n 'war': 105,\n 'soon': 106,\n 'off': 107,\n 'people': 108,\n 'each': 109,\n 'himself': 110,\n 'home': 111,\n 'now': 112,\n 'become': 113,\n 'wife': 114,\n 'meets': 115,\n 'american': 116,\n 'then': 117,\n 'go': 118,\n 'school': 119,\n 'town': 120,\n 'than': 121,\n 'small': 122,\n 'goes': 123,\n 'falls': 124,\n 'how': 125,\n 'both': 126,\n 'begins': 127,\n 'there': 128,\n 'comes': 129,\n 'him.': 130,\n 'documentary': 131,\n 'even': 132,\n 'tries': 133,\n 'son': 134,\n 'mother': 135,\n 'day': 136,\n 'local': 137,\n 'down': 138,\n 'best': 139,\n 'police': 140,\n 'based': 141,\n 'men': 142,\n 'friend': 143,\n 'decides': 144,\n 'death': 145,\n \"he's\": 146,\n 'living': 147,\n 'like': 148,\n 'wants': 149,\n 'do': 150,\n 'daughter': 151,\n 'very': 152,\n 'mysterious': 153,\n 'discovers': 154,\n \"it's\": 155,\n 'life.': 156,\n 'together': 157,\n 'around': 158,\n 'named': 159,\n 'live': 160,\n 'high': 161,\n 'former': 162,\n 'city': 163,\n 'work': 164,\n 'until': 165,\n 'had': 166,\n 'boy': 167,\n 'come': 168,\n 'true': 169,\n 'however,': 170,\n 'if': 171,\n 'beautiful': 172,\n 'whose': 173,\n 'little': 174,\n 'save': 175,\n 'movie': 176,\n 'turns': 177,\n 'last': 178,\n 'tells': 179,\n 'order': 180,\n 'house': 181,\n '--': 182,\n 'another': 183,\n 'same': 184,\n 'secret': 185,\n 'night': 186,\n 'year': 187,\n 'follows': 188,\n 'never': 189,\n 'four': 190,\n 'journey': 191,\n 'trying': 192,\n 'york': 193,\n 'many': 194,\n 'things': 195,\n 'forced': 196,\n 'relationship': 197,\n 'under': 198,\n 'team': 199,\n 'comedy': 200,\n 'these': 201,\n 'murder': 202,\n 'were': 203,\n 'returns': 204,\n 'makes': 205,\n 'husband': 206,\n 'her.': 207,\n 'job': 208,\n 'nan': 209,\n 'women': 210,\n 'along': 211,\n 'once': 212,\n 'series': 213,\n 'big': 214,\n 'end': 215,\n 'starts': 216,\n 'real': 217,\n 'away': 218,\n 'may': 219,\n 'does': 220,\n 'discover': 221,\n 'fight': 222,\n 'left': 223,\n 'place': 224,\n 'you': 225,\n 'meet': 226,\n 'long': 227,\n 'money': 228,\n 'director': 229,\n 'brother': 230,\n 'behind': 231,\n 'try': 232,\n 'couple': 233,\n 'gang': 234,\n 'john': 235,\n 'still': 236,\n 'we': 237,\n 'evil': 238,\n 'because': 239,\n 'every': 240,\n 'stop': 241,\n 'made': 242,\n 'themselves': 243,\n 'having': 244,\n 'part': 245,\n 'much': 246,\n 'human': 247,\n 'great': 248,\n 'leads': 249,\n 'black': 250,\n 'would': 251,\n '–': 252,\n 'face': 253,\n 'him,': 254,\n 'children': 255,\n 'married': 256,\n 'see': 257,\n 'working': 258,\n 'going': 259,\n 'start': 260,\n 'well': 261,\n 'good': 262,\n 'without': 263,\n 'them.': 264,\n 'turn': 265,\n 'life,': 266,\n 'look': 267,\n 'called': 268,\n 'search': 269,\n 'past': 270,\n 'run': 271,\n 'everything': 272,\n 'keep': 273,\n 'escape': 274,\n 'battle': 275,\n 'including': 276,\n 'sent': 277,\n 'too': 278,\n 'herself': 279,\n 'decide': 280,\n 'seems': 281,\n 'village': 282,\n 'lost': 283,\n \"doesn't\": 284,\n 'any': 285,\n 'killed': 286,\n 'across': 287,\n 'country': 288,\n 'know': 289,\n 'fall': 290,\n 'different': 291,\n 'upon': 292,\n 'since': 293,\n 'known': 294,\n 'those': 295,\n 'french': 296,\n 'british': 297,\n 'music': 298,\n 'star': 299,\n \"she's\": 300,\n 'dead': 301,\n 'days': 302,\n 'put': 303,\n 'next': 304,\n 'five': 305,\n 'return': 306,\n 'events': 307,\n 'crime': 308,\n 'strange': 309,\n 'de': 310,\n 'several': 311,\n 'parents': 312,\n 'kill': 313,\n 'begin': 314,\n 'sets': 315,\n 'dr.': 316,\n 'power': 317,\n 'show': 318,\n 'could': 319,\n 'sister': 320,\n 'learns': 321,\n 'student': 322,\n 'ever': 323,\n 'found': 324,\n 'works': 325,\n 'personal': 326,\n 'army': 327,\n 'college': 328,\n 'finally': 329,\n 'bring': 330,\n 'something': 331,\n 'whom': 332,\n 'car': 333,\n 'attempt': 334,\n 'leave': 335,\n 'leaves': 336,\n 'world.': 337,\n 'famous': 338,\n 'head': 339,\n 'forces': 340,\n 'killer': 341,\n 'making': 342,\n 'play': 343,\n 'few': 344,\n 'our': 345,\n '\"the': 346,\n 'drug': 347,\n 'band': 348,\n 'taken': 349,\n 'us': 350,\n 'rich': 351,\n 'prison': 352,\n 'tale': 353,\n 'detective': 354,\n 'plan': 355,\n 'agent': 356,\n 'involved': 357,\n 'it.': 358,\n 'wealthy': 359,\n 'lead': 360,\n 'taking': 361,\n 'love.': 362,\n 'family.': 363,\n 'change': 364,\n 'trip': 365,\n 'business': 366,\n 'political': 367,\n 'moves': 368,\n 'dark': 369,\n 'early': 370,\n 'special': 371,\n 'attempts': 372,\n 'teenage': 373,\n 'chance': 374,\n 'looking': 375,\n 'always': 376,\n 'dreams': 377,\n 'getting': 378,\n 'dangerous': 379,\n 'later': 380,\n 'marriage': 381,\n 'mission': 382,\n 'game': 383,\n 'use': 384,\n 'really': 385,\n 'drama': 386,\n 'father,': 387,\n 'south': 388,\n 'directed': 389,\n 'king': 390,\n 'stories': 391,\n 'white': 392,\n 'stars': 393,\n 'girlfriend': 394,\n 'ends': 395,\n 'give': 396,\n 'determined': 397,\n 'island': 398,\n 'girls': 399,\n 'second': 400,\n 'career': 401,\n 'want': 402,\n 'written': 403,\n 'child': 404,\n 'powerful': 405,\n 'summer': 406,\n 'everyone': 407,\n 'plans': 408,\n 'german': 409,\n 'day,': 410,\n 'despite': 411,\n 'learn': 412,\n 'female': 413,\n 'following': 414,\n 'wife,': 415,\n 'quickly': 416,\n 'brings': 417,\n 'shows': 418,\n 'such': 419,\n 'government': 420,\n 'her,': 421,\n 'nothing': 422,\n 'arrives': 423,\n 'killing': 424,\n 'man,': 425,\n 'using': 426,\n 'crew': 427,\n 'family,': 428,\n 'bad': 429,\n 'love,': 430,\n 'body': 431,\n 'plays': 432,\n 'eventually': 433,\n 'runs': 434,\n 'though': 435,\n 'plot': 436,\n 'doctor': 437,\n 'romantic': 438,\n 'history': 439,\n 'company': 440,\n 'yet': 441,\n 'military': 442,\n 'christmas': 443,\n 'dream': 444,\n 'deadly': 445,\n 'led': 446,\n 'final': 447,\n 'los': 448,\n 'gives': 449,\n 'jack': 450,\n \"can't\": 451,\n 'japanese': 452,\n 'later,': 453,\n 'russian': 454,\n 'heart': 455,\n 'land': 456,\n 'successful': 457,\n 'party': 458,\n 'struggle': 459,\n 'suddenly': 460,\n 'revenge': 461,\n 'move': 462,\n 'late': 463,\n 'join': 464,\n 'social': 465,\n 'childhood': 466,\n 'short': 467,\n 'brothers': 468,\n 'rock': 469,\n 'sees': 470,\n 'marry': 471,\n 'stay': 472,\n 'case': 473,\n 'win': 474,\n 'close': 475,\n 'modern': 476,\n 'criminal': 477,\n 'officer': 478,\n 'boys': 479,\n 'middle': 480,\n 'among': 481,\n 'friend,': 482,\n 'sexual': 483,\n 'caught': 484,\n 'within': 485,\n 'students': 486,\n 'earth': 487,\n 'future': 488,\n 'struggles': 489,\n 'violent': 490,\n 'road': 491,\n 'deal': 492,\n \"who's\": 493,\n 'book': 494,\n 'released': 495,\n 'david': 496,\n 'form': 497,\n 'and,': 498,\n 'tv': 499,\n 'name': 500,\n 'mother,': 501,\n 'full': 502,\n 'friendship': 503,\n \"father's\": 504,\n 'popular': 505,\n 'remote': 506,\n 'force': 507,\n 'legendary': 508,\n 'owner': 509,\n 'rescue': 510,\n 'top': 511,\n 'free': 512,\n 'far': 513,\n 'train': 514,\n 'hit': 515,\n 'affair': 516,\n 'race': 517,\n 'sex': 518,\n 'shot': 519,\n 'u.s.': 520,\n 'inside': 521,\n 'teacher': 522,\n 'unexpected': 523,\n 'single': 524,\n 'leading': 525,\n 'knows': 526,\n 'classic': 527,\n 'michael': 528,\n 'musical': 529,\n 'various': 530,\n 'leader': 531,\n 'uses': 532,\n 'break': 533,\n 'captain': 534,\n 'united': 535,\n 'murdered': 536,\n 'meanwhile,': 537,\n 'fellow': 538,\n 'home.': 539,\n 'travels': 540,\n 'perfect': 541,\n 'six': 542,\n 'might': 543,\n 'romance': 544,\n 'major': 545,\n 'international': 546,\n 'protect': 547,\n 'daughter,': 548,\n 'film,': 549,\n 'artist': 550,\n 'told': 551,\n 'james': 552,\n 'changes': 553,\n 'private': 554,\n 'desperate': 555,\n 'becoming': 556,\n 'realizes': 557,\n 'given': 558,\n 'visit': 559,\n 'leaving': 560,\n 'bank': 561,\n 'street': 562,\n 'characters': 563,\n 'time,': 564,\n 'art': 565,\n 'members': 566,\n 'turned': 567,\n 'son,': 568,\n 'hard': 569,\n 'cop': 570,\n 'adventure': 571,\n 'believes': 572,\n 'right': 573,\n 'again': 574,\n 'care': 575,\n 'struggling': 576,\n 'control': 577,\n 'london': 578,\n 'older': 579,\n 'travel': 580,\n 'town.': 581,\n 'paul': 582,\n 'novel': 583,\n 'ancient': 584,\n 'friends,': 585,\n 'apartment': 586,\n 'follow': 587,\n 'italian': 588,\n 'mr.': 589,\n 'deep': 590,\n 'side': 591,\n 'brought': 592,\n 'time.': 593,\n 'truth': 594,\n 'age': 595,\n 'tom': 596,\n 'although': 597,\n 'woman,': 598,\n 'fighting': 599,\n 'hope': 600,\n 'near': 601,\n 'able': 602,\n 'accidentally': 603,\n 'wild': 604,\n 'years,': 605,\n 'pair': 606,\n 'action': 607,\n 'quest': 608,\n 'spend': 609,\n 'survive': 610,\n 'professor': 611,\n 'looks': 612,\n 'serial': 613,\n 'lives.': 614,\n 'films': 615,\n 'baby': 616,\n 'war.': 617,\n 'death.': 618,\n 'younger': 619,\n 'needs': 620,\n 'call': 621,\n 'interviews': 622,\n 'seen': 623,\n 'filmmaker': 624,\n 'george': 625,\n 'missing': 626,\n 'master': 627,\n 'boss': 628,\n 'your': 629,\n 'seeks': 630,\n 'thinks': 631,\n 'north': 632,\n 'abandoned': 633,\n '&amp;': 634,\n 'footage': 635,\n 'soldiers': 636,\n 'community': 637,\n 'guy': 638,\n 'enough': 639,\n 'writer': 640,\n 'trouble': 641,\n 'entire': 642,\n 'poor': 643,\n 'prove': 644,\n 'destroy': 645,\n 'man.': 646,\n 'someone': 647,\n 'kids': 648,\n 'west': 649,\n 'trapped': 650,\n 'original': 651,\n 'father.': 652,\n 'reality': 653,\n 'state': 654,\n 'course': 655,\n 'appears': 656,\n 'paris': 657,\n 'town,': 658,\n 'home,': 659,\n 'due': 660,\n 'war,': 661,\n 'person': 662,\n 'them,': 663,\n 'anything': 664,\n 'indian': 665,\n 'hands': 666,\n \"don't\": 667,\n 'world,': 668,\n 'better': 669,\n 'almost': 670,\n 'girl,': 671,\n 'offers': 672,\n 'asks': 673,\n 'years.': 674,\n 'scientist': 675,\n 'why': 676,\n 'hopes': 677,\n 'used': 678,\n 'whole': 679,\n 'frank': 680,\n 'century': 681,\n 'feature': 682,\n 'city.': 683,\n 'civil': 684,\n 'loses': 685,\n 'space': 686,\n 'joe': 687,\n 'realize': 688,\n 'alien': 689,\n 'helps': 690,\n 'role': 691,\n 'horror': 692,\n 'alone': 693,\n 'joins': 694,\n 'coming': 695,\n 'robert': 696,\n 'hidden': 697,\n 'loves': 698,\n 'experience': 699,\n 'happens': 700,\n 'playing': 701,\n 'share': 702,\n 'hired': 703,\n 'hollywood': 704,\n 'happy': 705,\n \"man's\": 706,\n 'encounter': 707,\n 'feels': 708,\n 'hotel': 709,\n 'class': 710,\n 'seemingly': 711,\n 'cannot': 712,\n 'gay': 713,\n 'accident': 714,\n 'mystery': 715,\n 'problems': 716,\n 'encounters': 717,\n 'sam': 718,\n 'i': 719,\n 'troubled': 720,\n 'brother,': 721,\n 'lover': 722,\n 'boyfriend': 723,\n 'became': 724,\n 'instead': 725,\n 'stage': 726,\n 'peter': 727,\n 'singer': 728,\n 'need': 729,\n 'believe': 730,\n 'finding': 731,\n 'growing': 732,\n 'society': 733,\n \"they're\": 734,\n 'attack': 735,\n \"isn't\": 736,\n 'actually': 737,\n 'greatest': 738,\n 'public': 739,\n 'brutal': 740,\n 'law': 741,\n 'got': 742,\n 'comic': 743,\n 'investigate': 744,\n 'professional': 745,\n 'rise': 746,\n 'seven': 747,\n 'camp': 748,\n 'dog': 749,\n 'thing': 750,\n 'tell': 751,\n 'spirit': 752,\n 'night,': 753,\n 'wedding': 754,\n 'english': 755,\n 'ship': 756,\n 'other.': 757,\n 'kills': 758,\n 'recently': 759,\n 'outside': 760,\n 'wife.': 761,\n 'means': 762,\n 'escapes': 763,\n 'ruthless': 764,\n 'wrong': 765,\n 'charlie': 766,\n 'cast': 767,\n 'himself.': 768,\n 'america': 769,\n 'breaks': 770,\n 'streets': 771,\n 'school.': 772,\n 'pay': 773,\n 'front': 774,\n 'film.': 775,\n 'chinese': 776,\n 'city,': 777,\n 'nazi': 778,\n 'national': 779,\n 'rival': 780,\n 'others': 781,\n 'rest': 782,\n 'large': 783,\n 'faces': 784,\n 'la': 785,\n 'puts': 786,\n 'now,': 787,\n 'murder.': 788,\n 'uncle': 789,\n 'starring': 790,\n 'stand': 791,\n 'sends': 792,\n 'often': 793,\n 'already': 794,\n 'gold': 795,\n 'school,': 796,\n 'kidnapped': 797,\n 'ten': 798,\n 'running': 799,\n 'mary': 800,\n 'bill': 801,\n 'it,': 802,\n 'act': 803,\n 'jim': 804,\n 'steal': 805,\n 'red': 806,\n \"world's\": 807,\n 'lonely': 808,\n 'hero': 809,\n 'track': 810,\n 'explores': 811,\n 'video': 812,\n 'again.': 813,\n 'murders': 814,\n 'richard': 815,\n 'lot': 816,\n 'henry': 817,\n 'member': 818,\n 'prince': 819,\n 'tragic': 820,\n 'falling': 821,\n 'portrait': 822,\n 'million': 823,\n 'unique': 824,\n 'stolen': 825,\n 'dies': 826,\n 'unable': 827,\n 'soviet': 828,\n 'secrets': 829,\n 'point': 830,\n 'moving': 831,\n 'filmed': 832,\n 'drawn': 833,\n 'rather': 834,\n \"there's\": 835,\n 'should': 836,\n 'television': 837,\n 'san': 838,\n 'important': 839,\n 'haunted': 840,\n 'times': 841,\n 'threatens': 842,\n 'reporter': 843,\n 'causes': 844,\n 'beloved': 845,\n 'there,': 846,\n 'notorious': 847,\n 'planet': 848,\n 'partner': 849,\n 'unlikely': 850,\n 'room': 851,\n 'teenager': 852,\n 'rural': 853,\n 'husband,': 854,\n 'reveals': 855,\n 'past.': 856,\n 'inspired': 857,\n 'increasingly': 858,\n 'born': 859,\n 'mind': 860,\n 'adventures': 861,\n 'character': 862,\n 'accused': 863,\n 'president': 864,\n 'mental': 865,\n 'daughter.': 866,\n 'friends.': 867,\n 'beyond': 868,\n 'whether': 869,\n 'main': 870,\n 'corrupt': 871,\n 'losing': 872,\n 'hospital': 873,\n 'seem': 874,\n 'open': 875,\n 'actor': 876,\n 'together,': 877,\n 'news': 878,\n 'epic': 879,\n 'east': 880,\n 'house.': 881,\n 'third': 882,\n 'quite': 883,\n 'identity': 884,\n 'woman.': 885,\n 'number': 886,\n 'fate': 887,\n 'princess': 888,\n 'soldier': 889,\n 'create': 890,\n 'mike': 891,\n 'idea': 892,\n 'handsome': 893,\n 'let': 894,\n 'together.': 895,\n 'featuring': 896,\n 'angeles': 897,\n 'meeting': 898,\n 'son.': 899,\n 'building': 900,\n 'hot': 901,\n 'investigation': 902,\n 'played': 903,\n 'refuses': 904,\n 'spends': 905,\n 'present': 906,\n 'ultimately': 907,\n 'gangster': 908,\n 'lord': 909,\n 'actress': 910,\n 'situation': 911,\n 'queen': 912,\n 'features': 913,\n 'did': 914,\n 'way.': 915,\n 'seek': 916,\n 'magic': 917,\n 'teen': 918,\n 'fact': 919,\n 'ultimate': 920,\n 'jewish': 921,\n 'doing': 922,\n 'slowly': 923,\n 'hires': 924,\n 'took': 925,\n 'suicide': 926,\n 'general': 927,\n 'bizarre': 928,\n 'especially': 929,\n 'receives': 930,\n 'harry': 931,\n 'tour': 932,\n 'figure': 933,\n 'eyes': 934,\n 'underground': 935,\n 'calls': 936,\n 'kind': 937,\n 'out.': 938,\n 'grows': 939,\n 'simple': 940,\n 'food': 941,\n 'martial': 942,\n 'dance': 943,\n 'blood': 944,\n 'difficult': 945,\n 'manages': 946,\n 'unknown': 947,\n 'fights': 948,\n 'lawyer': 949,\n 'experiences': 950,\n 'fear': 951,\n 'nearly': 952,\n 'hunt': 953,\n 'money.': 954,\n 'death,': 955,\n 'assigned': 956,\n 'western': 957,\n 'security': 958,\n 'desert': 959,\n 'enter': 960,\n 'holiday': 961,\n 'estranged': 962,\n 'lady': 963,\n 'beauty': 964,\n 'created': 965,\n '—': 966,\n 'nick': 967,\n 'innocent': 968,\n 'died': 969,\n 'driver': 970,\n 'beginning': 971,\n 'success': 972,\n 'ways': 973,\n 'complicated': 974,\n 'months': 975,\n 'obsessed': 976,\n 'nuclear': 977,\n 'build': 978,\n 'sell': 979,\n 'capture': 980,\n 'mexican': 981,\n 'martin': 982,\n 'complete': 983,\n 'develops': 984,\n 'enemy': 985,\n 'story,': 986,\n 'mother.': 987,\n 'dying': 988,\n 'alex': 989,\n \"family's\": 990,\n 'station': 991,\n 'adaptation': 992,\n 'farm': 993,\n 'weekend': 994,\n 'anyone': 995,\n 'biggest': 996,\n 'undercover': 997,\n 'confront': 998,\n 'continues': 999,\n 'sister,': 1000,\n ...}"
     },
     "execution_count": 207,
     "metadata": {},
     "output_type": "execute_result"
    }
   ],
   "source": [
    "\n",
    "tokenizer.word_index"
   ],
   "metadata": {
    "collapsed": false,
    "pycharm": {
     "name": "#%%\n"
    }
   }
  },
  {
   "cell_type": "code",
   "execution_count": 209,
   "outputs": [],
   "source": [
    "movies_feature['overview_seq']= tokenizer.texts_to_sequences(texts)"
   ],
   "metadata": {
    "collapsed": false,
    "pycharm": {
     "name": "#%%\n"
    }
   }
  },
  {
   "cell_type": "code",
   "execution_count": 217,
   "outputs": [
    {
     "data": {
      "text/plain": "\"[{'id': 16, 'name': 'Animation'}, {'id': 35, 'name': 'Comedy'}, {'id': 10751, 'name': 'Family'}]\""
     },
     "execution_count": 217,
     "metadata": {},
     "output_type": "execute_result"
    }
   ],
   "source": [
    "import re\n",
    "\n",
    "movies_feature.genres[0]\n",
    "\n",
    "\n",
    "\n",
    "#"
   ],
   "metadata": {
    "collapsed": false,
    "pycharm": {
     "name": "#%%\n"
    }
   }
  },
  {
   "cell_type": "code",
   "execution_count": 221,
   "outputs": [
    {
     "data": {
      "text/plain": "       adult                              belongs_to_collection    budget  \\\n0      False  {'id': 10194, 'name': 'Toy Story Collection', ...  30000000   \n1      False                                                NaN  65000000   \n2      False  {'id': 119050, 'name': 'Grumpy Old Men Collect...         0   \n3      False                                                NaN  16000000   \n4      False  {'id': 96871, 'name': 'Father of the Bride Col...         0   \n...      ...                                                ...       ...   \n45461  False                                                NaN         0   \n45462  False                                                NaN         0   \n45463  False                                                NaN         0   \n45464  False                                                NaN         0   \n45465  False                                                NaN         0   \n\n                                                  genres  \\\n0      [{'id': 16, 'name': 'Animation'}, {'id': 35, '...   \n1      [{'id': 12, 'name': 'Adventure'}, {'id': 14, '...   \n2      [{'id': 10749, 'name': 'Romance'}, {'id': 35, ...   \n3      [{'id': 35, 'name': 'Comedy'}, {'id': 18, 'nam...   \n4                         [{'id': 35, 'name': 'Comedy'}]   \n...                                                  ...   \n45461  [{'id': 18, 'name': 'Drama'}, {'id': 10751, 'n...   \n45462                      [{'id': 18, 'name': 'Drama'}]   \n45463  [{'id': 28, 'name': 'Action'}, {'id': 18, 'nam...   \n45464                                                 []   \n45465                                                 []   \n\n                                   homepage      id    imdb_id  \\\n0      http://toystory.disney.com/toy-story     862  tt0114709   \n1                                       NaN    8844  tt0113497   \n2                                       NaN   15602  tt0113228   \n3                                       NaN   31357  tt0114885   \n4                                       NaN   11862  tt0113041   \n...                                     ...     ...        ...   \n45461  http://www.imdb.com/title/tt6209470/  439050  tt6209470   \n45462                                   NaN  111109  tt2028550   \n45463                                   NaN   67758  tt0303758   \n45464                                   NaN  227506  tt0008536   \n45465                                   NaN  461257  tt6980792   \n\n      original_language               original_title  \\\n0                    en                    Toy Story   \n1                    en                      Jumanji   \n2                    en             Grumpier Old Men   \n3                    en            Waiting to Exhale   \n4                    en  Father of the Bride Part II   \n...                 ...                          ...   \n45461                fa                      رگ خواب   \n45462                tl          Siglo ng Pagluluwal   \n45463                en                     Betrayal   \n45464                en          Satana likuyushchiy   \n45465                en                     Queerama   \n\n                                                overview  ... release_date  \\\n0      Led by Woody, Andy's toys live happily in his ...  ...   1995-10-30   \n1      When siblings Judy and Peter discover an encha...  ...   1995-12-15   \n2      A family wedding reignites the ancient feud be...  ...   1995-12-22   \n3      Cheated on, mistreated and stepped on, the wom...  ...   1995-12-22   \n4      Just when George Banks has recovered from his ...  ...   1995-02-10   \n...                                                  ...  ...          ...   \n45461        Rising and falling between a man and woman.  ...          NaN   \n45462  An artist struggles to finish his work while a...  ...   2011-11-17   \n45463  When one of her hits goes wrong, a professiona...  ...   2003-08-01   \n45464  In a small town live two brothers, one a minis...  ...   1917-10-21   \n45465  50 years after decriminalisation of homosexual...  ...   2017-06-09   \n\n           revenue runtime                                   spoken_languages  \\\n0      373554033.0    81.0           [{'iso_639_1': 'en', 'name': 'English'}]   \n1      262797249.0   104.0  [{'iso_639_1': 'en', 'name': 'English'}, {'iso...   \n2              0.0   101.0           [{'iso_639_1': 'en', 'name': 'English'}]   \n3       81452156.0   127.0           [{'iso_639_1': 'en', 'name': 'English'}]   \n4       76578911.0   106.0           [{'iso_639_1': 'en', 'name': 'English'}]   \n...            ...     ...                                                ...   \n45461          0.0    90.0             [{'iso_639_1': 'fa', 'name': 'فارسی'}]   \n45462          0.0   360.0                  [{'iso_639_1': 'tl', 'name': ''}]   \n45463          0.0    90.0           [{'iso_639_1': 'en', 'name': 'English'}]   \n45464          0.0    87.0                                                 []   \n45465          0.0    75.0           [{'iso_639_1': 'en', 'name': 'English'}]   \n\n         status                                            tagline  \\\n0      Released                                                NaN   \n1      Released          Roll the dice and unleash the excitement!   \n2      Released  Still Yelling. Still Fighting. Still Ready for...   \n3      Released  Friends are the people who let you be yourself...   \n4      Released  Just When His World Is Back To Normal... He's ...   \n...         ...                                                ...   \n45461  Released         Rising and falling between a man and woman   \n45462  Released                                                NaN   \n45463  Released                             A deadly game of wits.   \n45464  Released                                                NaN   \n45465  Released                                                NaN   \n\n                             title  video vote_average vote_count  \n0                        Toy Story  False          7.7     5415.0  \n1                          Jumanji  False          6.9     2413.0  \n2                 Grumpier Old Men  False          6.5       92.0  \n3                Waiting to Exhale  False          6.1       34.0  \n4      Father of the Bride Part II  False          5.7      173.0  \n...                            ...    ...          ...        ...  \n45461                       Subdue  False          4.0        1.0  \n45462          Century of Birthing  False          9.0        3.0  \n45463                     Betrayal  False          3.8        6.0  \n45464             Satan Triumphant  False          0.0        0.0  \n45465                     Queerama  False          0.0        0.0  \n\n[45466 rows x 24 columns]",
      "text/html": "<div>\n<style scoped>\n    .dataframe tbody tr th:only-of-type {\n        vertical-align: middle;\n    }\n\n    .dataframe tbody tr th {\n        vertical-align: top;\n    }\n\n    .dataframe thead th {\n        text-align: right;\n    }\n</style>\n<table border=\"1\" class=\"dataframe\">\n  <thead>\n    <tr style=\"text-align: right;\">\n      <th></th>\n      <th>adult</th>\n      <th>belongs_to_collection</th>\n      <th>budget</th>\n      <th>genres</th>\n      <th>homepage</th>\n      <th>id</th>\n      <th>imdb_id</th>\n      <th>original_language</th>\n      <th>original_title</th>\n      <th>overview</th>\n      <th>...</th>\n      <th>release_date</th>\n      <th>revenue</th>\n      <th>runtime</th>\n      <th>spoken_languages</th>\n      <th>status</th>\n      <th>tagline</th>\n      <th>title</th>\n      <th>video</th>\n      <th>vote_average</th>\n      <th>vote_count</th>\n    </tr>\n  </thead>\n  <tbody>\n    <tr>\n      <th>0</th>\n      <td>False</td>\n      <td>{'id': 10194, 'name': 'Toy Story Collection', ...</td>\n      <td>30000000</td>\n      <td>[{'id': 16, 'name': 'Animation'}, {'id': 35, '...</td>\n      <td>http://toystory.disney.com/toy-story</td>\n      <td>862</td>\n      <td>tt0114709</td>\n      <td>en</td>\n      <td>Toy Story</td>\n      <td>Led by Woody, Andy's toys live happily in his ...</td>\n      <td>...</td>\n      <td>1995-10-30</td>\n      <td>373554033.0</td>\n      <td>81.0</td>\n      <td>[{'iso_639_1': 'en', 'name': 'English'}]</td>\n      <td>Released</td>\n      <td>NaN</td>\n      <td>Toy Story</td>\n      <td>False</td>\n      <td>7.7</td>\n      <td>5415.0</td>\n    </tr>\n    <tr>\n      <th>1</th>\n      <td>False</td>\n      <td>NaN</td>\n      <td>65000000</td>\n      <td>[{'id': 12, 'name': 'Adventure'}, {'id': 14, '...</td>\n      <td>NaN</td>\n      <td>8844</td>\n      <td>tt0113497</td>\n      <td>en</td>\n      <td>Jumanji</td>\n      <td>When siblings Judy and Peter discover an encha...</td>\n      <td>...</td>\n      <td>1995-12-15</td>\n      <td>262797249.0</td>\n      <td>104.0</td>\n      <td>[{'iso_639_1': 'en', 'name': 'English'}, {'iso...</td>\n      <td>Released</td>\n      <td>Roll the dice and unleash the excitement!</td>\n      <td>Jumanji</td>\n      <td>False</td>\n      <td>6.9</td>\n      <td>2413.0</td>\n    </tr>\n    <tr>\n      <th>2</th>\n      <td>False</td>\n      <td>{'id': 119050, 'name': 'Grumpy Old Men Collect...</td>\n      <td>0</td>\n      <td>[{'id': 10749, 'name': 'Romance'}, {'id': 35, ...</td>\n      <td>NaN</td>\n      <td>15602</td>\n      <td>tt0113228</td>\n      <td>en</td>\n      <td>Grumpier Old Men</td>\n      <td>A family wedding reignites the ancient feud be...</td>\n      <td>...</td>\n      <td>1995-12-22</td>\n      <td>0.0</td>\n      <td>101.0</td>\n      <td>[{'iso_639_1': 'en', 'name': 'English'}]</td>\n      <td>Released</td>\n      <td>Still Yelling. Still Fighting. Still Ready for...</td>\n      <td>Grumpier Old Men</td>\n      <td>False</td>\n      <td>6.5</td>\n      <td>92.0</td>\n    </tr>\n    <tr>\n      <th>3</th>\n      <td>False</td>\n      <td>NaN</td>\n      <td>16000000</td>\n      <td>[{'id': 35, 'name': 'Comedy'}, {'id': 18, 'nam...</td>\n      <td>NaN</td>\n      <td>31357</td>\n      <td>tt0114885</td>\n      <td>en</td>\n      <td>Waiting to Exhale</td>\n      <td>Cheated on, mistreated and stepped on, the wom...</td>\n      <td>...</td>\n      <td>1995-12-22</td>\n      <td>81452156.0</td>\n      <td>127.0</td>\n      <td>[{'iso_639_1': 'en', 'name': 'English'}]</td>\n      <td>Released</td>\n      <td>Friends are the people who let you be yourself...</td>\n      <td>Waiting to Exhale</td>\n      <td>False</td>\n      <td>6.1</td>\n      <td>34.0</td>\n    </tr>\n    <tr>\n      <th>4</th>\n      <td>False</td>\n      <td>{'id': 96871, 'name': 'Father of the Bride Col...</td>\n      <td>0</td>\n      <td>[{'id': 35, 'name': 'Comedy'}]</td>\n      <td>NaN</td>\n      <td>11862</td>\n      <td>tt0113041</td>\n      <td>en</td>\n      <td>Father of the Bride Part II</td>\n      <td>Just when George Banks has recovered from his ...</td>\n      <td>...</td>\n      <td>1995-02-10</td>\n      <td>76578911.0</td>\n      <td>106.0</td>\n      <td>[{'iso_639_1': 'en', 'name': 'English'}]</td>\n      <td>Released</td>\n      <td>Just When His World Is Back To Normal... He's ...</td>\n      <td>Father of the Bride Part II</td>\n      <td>False</td>\n      <td>5.7</td>\n      <td>173.0</td>\n    </tr>\n    <tr>\n      <th>...</th>\n      <td>...</td>\n      <td>...</td>\n      <td>...</td>\n      <td>...</td>\n      <td>...</td>\n      <td>...</td>\n      <td>...</td>\n      <td>...</td>\n      <td>...</td>\n      <td>...</td>\n      <td>...</td>\n      <td>...</td>\n      <td>...</td>\n      <td>...</td>\n      <td>...</td>\n      <td>...</td>\n      <td>...</td>\n      <td>...</td>\n      <td>...</td>\n      <td>...</td>\n      <td>...</td>\n    </tr>\n    <tr>\n      <th>45461</th>\n      <td>False</td>\n      <td>NaN</td>\n      <td>0</td>\n      <td>[{'id': 18, 'name': 'Drama'}, {'id': 10751, 'n...</td>\n      <td>http://www.imdb.com/title/tt6209470/</td>\n      <td>439050</td>\n      <td>tt6209470</td>\n      <td>fa</td>\n      <td>رگ خواب</td>\n      <td>Rising and falling between a man and woman.</td>\n      <td>...</td>\n      <td>NaN</td>\n      <td>0.0</td>\n      <td>90.0</td>\n      <td>[{'iso_639_1': 'fa', 'name': 'فارسی'}]</td>\n      <td>Released</td>\n      <td>Rising and falling between a man and woman</td>\n      <td>Subdue</td>\n      <td>False</td>\n      <td>4.0</td>\n      <td>1.0</td>\n    </tr>\n    <tr>\n      <th>45462</th>\n      <td>False</td>\n      <td>NaN</td>\n      <td>0</td>\n      <td>[{'id': 18, 'name': 'Drama'}]</td>\n      <td>NaN</td>\n      <td>111109</td>\n      <td>tt2028550</td>\n      <td>tl</td>\n      <td>Siglo ng Pagluluwal</td>\n      <td>An artist struggles to finish his work while a...</td>\n      <td>...</td>\n      <td>2011-11-17</td>\n      <td>0.0</td>\n      <td>360.0</td>\n      <td>[{'iso_639_1': 'tl', 'name': ''}]</td>\n      <td>Released</td>\n      <td>NaN</td>\n      <td>Century of Birthing</td>\n      <td>False</td>\n      <td>9.0</td>\n      <td>3.0</td>\n    </tr>\n    <tr>\n      <th>45463</th>\n      <td>False</td>\n      <td>NaN</td>\n      <td>0</td>\n      <td>[{'id': 28, 'name': 'Action'}, {'id': 18, 'nam...</td>\n      <td>NaN</td>\n      <td>67758</td>\n      <td>tt0303758</td>\n      <td>en</td>\n      <td>Betrayal</td>\n      <td>When one of her hits goes wrong, a professiona...</td>\n      <td>...</td>\n      <td>2003-08-01</td>\n      <td>0.0</td>\n      <td>90.0</td>\n      <td>[{'iso_639_1': 'en', 'name': 'English'}]</td>\n      <td>Released</td>\n      <td>A deadly game of wits.</td>\n      <td>Betrayal</td>\n      <td>False</td>\n      <td>3.8</td>\n      <td>6.0</td>\n    </tr>\n    <tr>\n      <th>45464</th>\n      <td>False</td>\n      <td>NaN</td>\n      <td>0</td>\n      <td>[]</td>\n      <td>NaN</td>\n      <td>227506</td>\n      <td>tt0008536</td>\n      <td>en</td>\n      <td>Satana likuyushchiy</td>\n      <td>In a small town live two brothers, one a minis...</td>\n      <td>...</td>\n      <td>1917-10-21</td>\n      <td>0.0</td>\n      <td>87.0</td>\n      <td>[]</td>\n      <td>Released</td>\n      <td>NaN</td>\n      <td>Satan Triumphant</td>\n      <td>False</td>\n      <td>0.0</td>\n      <td>0.0</td>\n    </tr>\n    <tr>\n      <th>45465</th>\n      <td>False</td>\n      <td>NaN</td>\n      <td>0</td>\n      <td>[]</td>\n      <td>NaN</td>\n      <td>461257</td>\n      <td>tt6980792</td>\n      <td>en</td>\n      <td>Queerama</td>\n      <td>50 years after decriminalisation of homosexual...</td>\n      <td>...</td>\n      <td>2017-06-09</td>\n      <td>0.0</td>\n      <td>75.0</td>\n      <td>[{'iso_639_1': 'en', 'name': 'English'}]</td>\n      <td>Released</td>\n      <td>NaN</td>\n      <td>Queerama</td>\n      <td>False</td>\n      <td>0.0</td>\n      <td>0.0</td>\n    </tr>\n  </tbody>\n</table>\n<p>45466 rows × 24 columns</p>\n</div>"
     },
     "execution_count": 221,
     "metadata": {},
     "output_type": "execute_result"
    }
   ],
   "source": [],
   "metadata": {
    "collapsed": false,
    "pycharm": {
     "name": "#%%\n"
    }
   }
  },
  {
   "cell_type": "code",
   "execution_count": 221,
   "outputs": [],
   "source": [],
   "metadata": {
    "collapsed": false,
    "pycharm": {
     "name": "#%%\n"
    }
   }
  },
  {
   "cell_type": "code",
   "execution_count": null,
   "outputs": [],
   "source": [
    "# 5000개 영화를 대상으로\n",
    "tfid_matrix[:5000,].shape\n"
   ],
   "metadata": {
    "collapsed": false,
    "pycharm": {
     "name": "#%%\n"
    }
   }
  },
  {
   "cell_type": "code",
   "execution_count": 227,
   "outputs": [],
   "source": [
    "# 상위 5000개 영화에 대해서 유사도 계산 sklearn.metrics.pairwise.linear_kernel 활용\n",
    "cosine_similar = linear_kernel(\n",
    "tfid_matrix[:5000,],\n",
    "tfid_matrix[:5000,])"
   ],
   "metadata": {
    "collapsed": false,
    "pycharm": {
     "name": "#%%\n"
    }
   }
  },
  {
   "cell_type": "code",
   "execution_count": 229,
   "outputs": [
    {
     "data": {
      "text/plain": "       adult                              belongs_to_collection    budget  \\\n0      False  {'id': 10194, 'name': 'Toy Story Collection', ...  30000000   \n1      False                                                NaN  65000000   \n2      False  {'id': 119050, 'name': 'Grumpy Old Men Collect...         0   \n3      False                                                NaN  16000000   \n4      False  {'id': 96871, 'name': 'Father of the Bride Col...         0   \n...      ...                                                ...       ...   \n45461  False                                                NaN         0   \n45462  False                                                NaN         0   \n45463  False                                                NaN         0   \n45464  False                                                NaN         0   \n45465  False                                                NaN         0   \n\n                                                  genres  \\\n0      [{'id': 16, 'name': 'Animation'}, {'id': 35, '...   \n1      [{'id': 12, 'name': 'Adventure'}, {'id': 14, '...   \n2      [{'id': 10749, 'name': 'Romance'}, {'id': 35, ...   \n3      [{'id': 35, 'name': 'Comedy'}, {'id': 18, 'nam...   \n4                         [{'id': 35, 'name': 'Comedy'}]   \n...                                                  ...   \n45461  [{'id': 18, 'name': 'Drama'}, {'id': 10751, 'n...   \n45462                      [{'id': 18, 'name': 'Drama'}]   \n45463  [{'id': 28, 'name': 'Action'}, {'id': 18, 'nam...   \n45464                                                 []   \n45465                                                 []   \n\n                                   homepage      id    imdb_id  \\\n0      http://toystory.disney.com/toy-story     862  tt0114709   \n1                                       NaN    8844  tt0113497   \n2                                       NaN   15602  tt0113228   \n3                                       NaN   31357  tt0114885   \n4                                       NaN   11862  tt0113041   \n...                                     ...     ...        ...   \n45461  http://www.imdb.com/title/tt6209470/  439050  tt6209470   \n45462                                   NaN  111109  tt2028550   \n45463                                   NaN   67758  tt0303758   \n45464                                   NaN  227506  tt0008536   \n45465                                   NaN  461257  tt6980792   \n\n      original_language               original_title  \\\n0                    en                    Toy Story   \n1                    en                      Jumanji   \n2                    en             Grumpier Old Men   \n3                    en            Waiting to Exhale   \n4                    en  Father of the Bride Part II   \n...                 ...                          ...   \n45461                fa                      رگ خواب   \n45462                tl          Siglo ng Pagluluwal   \n45463                en                     Betrayal   \n45464                en          Satana likuyushchiy   \n45465                en                     Queerama   \n\n                                                overview  ... release_date  \\\n0      Led by Woody, Andy's toys live happily in his ...  ...   1995-10-30   \n1      When siblings Judy and Peter discover an encha...  ...   1995-12-15   \n2      A family wedding reignites the ancient feud be...  ...   1995-12-22   \n3      Cheated on, mistreated and stepped on, the wom...  ...   1995-12-22   \n4      Just when George Banks has recovered from his ...  ...   1995-02-10   \n...                                                  ...  ...          ...   \n45461        Rising and falling between a man and woman.  ...          NaN   \n45462  An artist struggles to finish his work while a...  ...   2011-11-17   \n45463  When one of her hits goes wrong, a professiona...  ...   2003-08-01   \n45464  In a small town live two brothers, one a minis...  ...   1917-10-21   \n45465  50 years after decriminalisation of homosexual...  ...   2017-06-09   \n\n           revenue runtime                                   spoken_languages  \\\n0      373554033.0    81.0           [{'iso_639_1': 'en', 'name': 'English'}]   \n1      262797249.0   104.0  [{'iso_639_1': 'en', 'name': 'English'}, {'iso...   \n2              0.0   101.0           [{'iso_639_1': 'en', 'name': 'English'}]   \n3       81452156.0   127.0           [{'iso_639_1': 'en', 'name': 'English'}]   \n4       76578911.0   106.0           [{'iso_639_1': 'en', 'name': 'English'}]   \n...            ...     ...                                                ...   \n45461          0.0    90.0             [{'iso_639_1': 'fa', 'name': 'فارسی'}]   \n45462          0.0   360.0                  [{'iso_639_1': 'tl', 'name': ''}]   \n45463          0.0    90.0           [{'iso_639_1': 'en', 'name': 'English'}]   \n45464          0.0    87.0                                                 []   \n45465          0.0    75.0           [{'iso_639_1': 'en', 'name': 'English'}]   \n\n         status                                            tagline  \\\n0      Released                                                NaN   \n1      Released          Roll the dice and unleash the excitement!   \n2      Released  Still Yelling. Still Fighting. Still Ready for...   \n3      Released  Friends are the people who let you be yourself...   \n4      Released  Just When His World Is Back To Normal... He's ...   \n...         ...                                                ...   \n45461  Released         Rising and falling between a man and woman   \n45462  Released                                                NaN   \n45463  Released                             A deadly game of wits.   \n45464  Released                                                NaN   \n45465  Released                                                NaN   \n\n                             title  video vote_average vote_count  \n0                        Toy Story  False          7.7     5415.0  \n1                          Jumanji  False          6.9     2413.0  \n2                 Grumpier Old Men  False          6.5       92.0  \n3                Waiting to Exhale  False          6.1       34.0  \n4      Father of the Bride Part II  False          5.7      173.0  \n...                            ...    ...          ...        ...  \n45461                       Subdue  False          4.0        1.0  \n45462          Century of Birthing  False          9.0        3.0  \n45463                     Betrayal  False          3.8        6.0  \n45464             Satan Triumphant  False          0.0        0.0  \n45465                     Queerama  False          0.0        0.0  \n\n[45466 rows x 24 columns]",
      "text/html": "<div>\n<style scoped>\n    .dataframe tbody tr th:only-of-type {\n        vertical-align: middle;\n    }\n\n    .dataframe tbody tr th {\n        vertical-align: top;\n    }\n\n    .dataframe thead th {\n        text-align: right;\n    }\n</style>\n<table border=\"1\" class=\"dataframe\">\n  <thead>\n    <tr style=\"text-align: right;\">\n      <th></th>\n      <th>adult</th>\n      <th>belongs_to_collection</th>\n      <th>budget</th>\n      <th>genres</th>\n      <th>homepage</th>\n      <th>id</th>\n      <th>imdb_id</th>\n      <th>original_language</th>\n      <th>original_title</th>\n      <th>overview</th>\n      <th>...</th>\n      <th>release_date</th>\n      <th>revenue</th>\n      <th>runtime</th>\n      <th>spoken_languages</th>\n      <th>status</th>\n      <th>tagline</th>\n      <th>title</th>\n      <th>video</th>\n      <th>vote_average</th>\n      <th>vote_count</th>\n    </tr>\n  </thead>\n  <tbody>\n    <tr>\n      <th>0</th>\n      <td>False</td>\n      <td>{'id': 10194, 'name': 'Toy Story Collection', ...</td>\n      <td>30000000</td>\n      <td>[{'id': 16, 'name': 'Animation'}, {'id': 35, '...</td>\n      <td>http://toystory.disney.com/toy-story</td>\n      <td>862</td>\n      <td>tt0114709</td>\n      <td>en</td>\n      <td>Toy Story</td>\n      <td>Led by Woody, Andy's toys live happily in his ...</td>\n      <td>...</td>\n      <td>1995-10-30</td>\n      <td>373554033.0</td>\n      <td>81.0</td>\n      <td>[{'iso_639_1': 'en', 'name': 'English'}]</td>\n      <td>Released</td>\n      <td>NaN</td>\n      <td>Toy Story</td>\n      <td>False</td>\n      <td>7.7</td>\n      <td>5415.0</td>\n    </tr>\n    <tr>\n      <th>1</th>\n      <td>False</td>\n      <td>NaN</td>\n      <td>65000000</td>\n      <td>[{'id': 12, 'name': 'Adventure'}, {'id': 14, '...</td>\n      <td>NaN</td>\n      <td>8844</td>\n      <td>tt0113497</td>\n      <td>en</td>\n      <td>Jumanji</td>\n      <td>When siblings Judy and Peter discover an encha...</td>\n      <td>...</td>\n      <td>1995-12-15</td>\n      <td>262797249.0</td>\n      <td>104.0</td>\n      <td>[{'iso_639_1': 'en', 'name': 'English'}, {'iso...</td>\n      <td>Released</td>\n      <td>Roll the dice and unleash the excitement!</td>\n      <td>Jumanji</td>\n      <td>False</td>\n      <td>6.9</td>\n      <td>2413.0</td>\n    </tr>\n    <tr>\n      <th>2</th>\n      <td>False</td>\n      <td>{'id': 119050, 'name': 'Grumpy Old Men Collect...</td>\n      <td>0</td>\n      <td>[{'id': 10749, 'name': 'Romance'}, {'id': 35, ...</td>\n      <td>NaN</td>\n      <td>15602</td>\n      <td>tt0113228</td>\n      <td>en</td>\n      <td>Grumpier Old Men</td>\n      <td>A family wedding reignites the ancient feud be...</td>\n      <td>...</td>\n      <td>1995-12-22</td>\n      <td>0.0</td>\n      <td>101.0</td>\n      <td>[{'iso_639_1': 'en', 'name': 'English'}]</td>\n      <td>Released</td>\n      <td>Still Yelling. Still Fighting. Still Ready for...</td>\n      <td>Grumpier Old Men</td>\n      <td>False</td>\n      <td>6.5</td>\n      <td>92.0</td>\n    </tr>\n    <tr>\n      <th>3</th>\n      <td>False</td>\n      <td>NaN</td>\n      <td>16000000</td>\n      <td>[{'id': 35, 'name': 'Comedy'}, {'id': 18, 'nam...</td>\n      <td>NaN</td>\n      <td>31357</td>\n      <td>tt0114885</td>\n      <td>en</td>\n      <td>Waiting to Exhale</td>\n      <td>Cheated on, mistreated and stepped on, the wom...</td>\n      <td>...</td>\n      <td>1995-12-22</td>\n      <td>81452156.0</td>\n      <td>127.0</td>\n      <td>[{'iso_639_1': 'en', 'name': 'English'}]</td>\n      <td>Released</td>\n      <td>Friends are the people who let you be yourself...</td>\n      <td>Waiting to Exhale</td>\n      <td>False</td>\n      <td>6.1</td>\n      <td>34.0</td>\n    </tr>\n    <tr>\n      <th>4</th>\n      <td>False</td>\n      <td>{'id': 96871, 'name': 'Father of the Bride Col...</td>\n      <td>0</td>\n      <td>[{'id': 35, 'name': 'Comedy'}]</td>\n      <td>NaN</td>\n      <td>11862</td>\n      <td>tt0113041</td>\n      <td>en</td>\n      <td>Father of the Bride Part II</td>\n      <td>Just when George Banks has recovered from his ...</td>\n      <td>...</td>\n      <td>1995-02-10</td>\n      <td>76578911.0</td>\n      <td>106.0</td>\n      <td>[{'iso_639_1': 'en', 'name': 'English'}]</td>\n      <td>Released</td>\n      <td>Just When His World Is Back To Normal... He's ...</td>\n      <td>Father of the Bride Part II</td>\n      <td>False</td>\n      <td>5.7</td>\n      <td>173.0</td>\n    </tr>\n    <tr>\n      <th>...</th>\n      <td>...</td>\n      <td>...</td>\n      <td>...</td>\n      <td>...</td>\n      <td>...</td>\n      <td>...</td>\n      <td>...</td>\n      <td>...</td>\n      <td>...</td>\n      <td>...</td>\n      <td>...</td>\n      <td>...</td>\n      <td>...</td>\n      <td>...</td>\n      <td>...</td>\n      <td>...</td>\n      <td>...</td>\n      <td>...</td>\n      <td>...</td>\n      <td>...</td>\n      <td>...</td>\n    </tr>\n    <tr>\n      <th>45461</th>\n      <td>False</td>\n      <td>NaN</td>\n      <td>0</td>\n      <td>[{'id': 18, 'name': 'Drama'}, {'id': 10751, 'n...</td>\n      <td>http://www.imdb.com/title/tt6209470/</td>\n      <td>439050</td>\n      <td>tt6209470</td>\n      <td>fa</td>\n      <td>رگ خواب</td>\n      <td>Rising and falling between a man and woman.</td>\n      <td>...</td>\n      <td>NaN</td>\n      <td>0.0</td>\n      <td>90.0</td>\n      <td>[{'iso_639_1': 'fa', 'name': 'فارسی'}]</td>\n      <td>Released</td>\n      <td>Rising and falling between a man and woman</td>\n      <td>Subdue</td>\n      <td>False</td>\n      <td>4.0</td>\n      <td>1.0</td>\n    </tr>\n    <tr>\n      <th>45462</th>\n      <td>False</td>\n      <td>NaN</td>\n      <td>0</td>\n      <td>[{'id': 18, 'name': 'Drama'}]</td>\n      <td>NaN</td>\n      <td>111109</td>\n      <td>tt2028550</td>\n      <td>tl</td>\n      <td>Siglo ng Pagluluwal</td>\n      <td>An artist struggles to finish his work while a...</td>\n      <td>...</td>\n      <td>2011-11-17</td>\n      <td>0.0</td>\n      <td>360.0</td>\n      <td>[{'iso_639_1': 'tl', 'name': ''}]</td>\n      <td>Released</td>\n      <td>NaN</td>\n      <td>Century of Birthing</td>\n      <td>False</td>\n      <td>9.0</td>\n      <td>3.0</td>\n    </tr>\n    <tr>\n      <th>45463</th>\n      <td>False</td>\n      <td>NaN</td>\n      <td>0</td>\n      <td>[{'id': 28, 'name': 'Action'}, {'id': 18, 'nam...</td>\n      <td>NaN</td>\n      <td>67758</td>\n      <td>tt0303758</td>\n      <td>en</td>\n      <td>Betrayal</td>\n      <td>When one of her hits goes wrong, a professiona...</td>\n      <td>...</td>\n      <td>2003-08-01</td>\n      <td>0.0</td>\n      <td>90.0</td>\n      <td>[{'iso_639_1': 'en', 'name': 'English'}]</td>\n      <td>Released</td>\n      <td>A deadly game of wits.</td>\n      <td>Betrayal</td>\n      <td>False</td>\n      <td>3.8</td>\n      <td>6.0</td>\n    </tr>\n    <tr>\n      <th>45464</th>\n      <td>False</td>\n      <td>NaN</td>\n      <td>0</td>\n      <td>[]</td>\n      <td>NaN</td>\n      <td>227506</td>\n      <td>tt0008536</td>\n      <td>en</td>\n      <td>Satana likuyushchiy</td>\n      <td>In a small town live two brothers, one a minis...</td>\n      <td>...</td>\n      <td>1917-10-21</td>\n      <td>0.0</td>\n      <td>87.0</td>\n      <td>[]</td>\n      <td>Released</td>\n      <td>NaN</td>\n      <td>Satan Triumphant</td>\n      <td>False</td>\n      <td>0.0</td>\n      <td>0.0</td>\n    </tr>\n    <tr>\n      <th>45465</th>\n      <td>False</td>\n      <td>NaN</td>\n      <td>0</td>\n      <td>[]</td>\n      <td>NaN</td>\n      <td>461257</td>\n      <td>tt6980792</td>\n      <td>en</td>\n      <td>Queerama</td>\n      <td>50 years after decriminalisation of homosexual...</td>\n      <td>...</td>\n      <td>2017-06-09</td>\n      <td>0.0</td>\n      <td>75.0</td>\n      <td>[{'iso_639_1': 'en', 'name': 'English'}]</td>\n      <td>Released</td>\n      <td>NaN</td>\n      <td>Queerama</td>\n      <td>False</td>\n      <td>0.0</td>\n      <td>0.0</td>\n    </tr>\n  </tbody>\n</table>\n<p>45466 rows × 24 columns</p>\n</div>"
     },
     "execution_count": 229,
     "metadata": {},
     "output_type": "execute_result"
    }
   ],
   "source": [
    "movies_meta"
   ],
   "metadata": {
    "collapsed": false,
    "pycharm": {
     "name": "#%%\n"
    }
   }
  },
  {
   "cell_type": "code",
   "execution_count": 234,
   "outputs": [],
   "source": [
    "# index 옵션은 표시되는 인덱스\n",
    "indices = pd.Series(movies_meta.index , index=movies_meta['title']).drop_duplicates()"
   ],
   "metadata": {
    "collapsed": false,
    "pycharm": {
     "name": "#%%\\\n"
    }
   }
  },
  {
   "cell_type": "code",
   "execution_count": 237,
   "outputs": [
    {
     "data": {
      "text/plain": "RangeIndex(start=0, stop=45466, step=1)"
     },
     "execution_count": 237,
     "metadata": {},
     "output_type": "execute_result"
    }
   ],
   "source": [],
   "metadata": {
    "collapsed": false,
    "pycharm": {
     "name": "#%%\n"
    }
   }
  },
  {
   "cell_type": "code",
   "execution_count": 238,
   "outputs": [
    {
     "data": {
      "text/plain": "title\nToy Story                          0\nJumanji                            1\nGrumpier Old Men                   2\nWaiting to Exhale                  3\nFather of the Bride Part II        4\n                               ...  \nSubdue                         45461\nCentury of Birthing            45462\nBetrayal                       45463\nSatan Triumphant               45464\nQueerama                       45465\nLength: 45466, dtype: int64"
     },
     "execution_count": 238,
     "metadata": {},
     "output_type": "execute_result"
    }
   ],
   "source": [
    "indices"
   ],
   "metadata": {
    "collapsed": false,
    "pycharm": {
     "name": "#%%\n"
    }
   }
  },
  {
   "cell_type": "code",
   "execution_count": 233,
   "outputs": [
    {
     "data": {
      "text/plain": "title\nToy Story                          0\nJumanji                            1\nGrumpier Old Men                   2\nWaiting to Exhale                  3\nFather of the Bride Part II        4\n                               ...  \nSubdue                         45461\nCentury of Birthing            45462\nBetrayal                       45463\nSatan Triumphant               45464\nQueerama                       45465\nLength: 45466, dtype: int64"
     },
     "execution_count": 233,
     "metadata": {},
     "output_type": "execute_result"
    }
   ],
   "source": [
    "indices"
   ],
   "metadata": {
    "collapsed": false,
    "pycharm": {
     "name": "#%%\n"
    }
   }
  },
  {
   "cell_type": "code",
   "execution_count": 251,
   "outputs": [],
   "source": [
    "cosine_similar\n",
    "\n",
    "# similar_scores\n",
    "def get_recommnedation(title, cosine_similar= cosine_similar):\n",
    "    idx = indices[title]\n",
    "\n",
    "\n",
    "    sim_score = list(enumerate(cosine_similar[idx]))\n",
    "\n",
    "    sim_score = sorted(sim_score, key=lambda x: x[1], reverse=True)\n",
    "\n",
    "    #top10\n",
    "    sim_score = sim_score[1:11]\n",
    "\n",
    "    movies_indices = [i[0] for i in sim_score]\n",
    "\n",
    "    return movies_meta[['title','genres','overview']].iloc[movies_indices]"
   ],
   "metadata": {
    "collapsed": false,
    "pycharm": {
     "name": "#%%\n"
    }
   }
  },
  {
   "cell_type": "code",
   "execution_count": 252,
   "outputs": [
    {
     "data": {
      "text/plain": "[(0, 0.9999999999999999),\n (1, 0.03069629575668497),\n (2, 0.012831307342806748),\n (3, 0.014753137827745195),\n (4, 0.030774545813864962),\n (5, 0.014640583098760098),\n (6, 0.009675383812244913),\n (7, 0.008534173051282236),\n (8, 0.01697721804799616),\n (9, 0.01317484563958116),\n (10, 0.01010655552072411),\n (11, 0.023782344536362757),\n (12, 0.011250642993821062),\n (13, 0.02055200994913223),\n (14, 0.01997628995576584),\n (15, 0.008770033177071094),\n (16, 0.014391924744038295),\n (17, 0.04223217868382002),\n (18, 0.016690136782778333),\n (19, 0.008350661314626258),\n (20, 0.024215480746101484),\n (21, 0.009333177690859283),\n (22, 0.018380374752217973),\n (23, 0.02111488459834987),\n (24, 0.011204037748129727),\n (25, 0.02201386117930542),\n (26, 0.017108594313568752),\n (27, 0.009095294768034),\n (28, 0.022900346987141537),\n (29, 0.015684109344371158),\n (30, 0.01669411693242506),\n (31, 0.025152599051374368),\n (32, 0.031237229070650706),\n (33, 0.009443669312289106),\n (34, 0.011324056962098294),\n (35, 0.026139311560639887),\n (36, 0.008174994614728799),\n (37, 0.007052293023214673),\n (38, 0.015300157665991618),\n (39, 0.0),\n (40, 0.029306503763690178),\n (41, 0.03402223395709204),\n (42, 0.02445184979670281),\n (43, 0.012233330308992797),\n (44, 0.020874530562208886),\n (45, 0.022830152162266134),\n (46, 0.017994781221332058),\n (47, 0.0020761360367376846),\n (48, 0.02645646460084145),\n (49, 0.024095899836620895),\n (50, 0.03244410076648584),\n (51, 0.01302105656369896),\n (52, 0.018557290958535907),\n (53, 0.03106566559557673),\n (54, 0.006609749271212835),\n (55, 0.03289198038314102),\n (56, 0.023171357527871195),\n (57, 0.02937002042670904),\n (58, 0.04962504660051301),\n (59, 0.010224020524533677),\n (60, 0.022078446433137996),\n (61, 0.02327213744610036),\n (62, 0.031679601803804275),\n (63, 0.034854893509322596),\n (64, 0.01608692432376476),\n (65, 0.02488917198364618),\n (66, 0.019611417140723512),\n (67, 0.015434110224542368),\n (68, 0.02165215461374925),\n (69, 0.005150469817013783),\n (70, 0.022464768165607298),\n (71, 0.01252463223279741),\n (72, 0.020291815534234845),\n (73, 0.023345210548546335),\n (74, 0.0069769600448678255),\n (75, 0.023758183619881426),\n (76, 0.02174980068027459),\n (77, 0.021395160915849077),\n (78, 0.006764233399944346),\n (79, 0.007541041173517873),\n (80, 0.01901419685161792),\n (81, 0.03729056767742326),\n (82, 0.053885420625616944),\n (83, 0.017729507920317827),\n (84, 0.0015141909371594986),\n (85, 0.021231316829924154),\n (86, 0.023962292949028643),\n (87, 0.0201782903598681),\n (88, 0.027943643217710545),\n (89, 0.011186466693803609),\n (90, 0.040164503012395006),\n (91, 0.019107414336536135),\n (92, 0.01955206474594112),\n (93, 0.03485983754244034),\n (94, 0.034407904827072455),\n (95, 0.014494189337742306),\n (96, 0.015586369289602489),\n (97, 0.016969924026304296),\n (98, 0.01475282328052634),\n (99, 0.022526907071619365),\n (100, 0.024259456319614164),\n (101, 0.009375116277371141),\n (102, 0.009665535886128916),\n (103, 0.0),\n (104, 0.03475584193881033),\n (105, 0.005976549883097298),\n (106, 0.006632922198675615),\n (107, 0.03936334947636484),\n (108, 0.013663644063220296),\n (109, 0.02445323952807986),\n (110, 0.036345106107270396),\n (111, 0.021000411954665666),\n (112, 0.015892311591835517),\n (113, 0.022723122027728797),\n (114, 0.01861973296134584),\n (115, 0.003076056370127539),\n (116, 0.01433169661883813),\n (117, 0.031206269419217093),\n (118, 0.023613521365636922),\n (119, 0.01597777000347401),\n (120, 0.027356820600666795),\n (121, 0.013397958652683162),\n (122, 0.020965464887107238),\n (123, 0.012780461461083227),\n (124, 0.030658926899252904),\n (125, 0.013990501733836275),\n (126, 0.007874927793184381),\n (127, 0.056667637535799814),\n (128, 0.01506964404458196),\n (129, 0.0168236114042323),\n (130, 0.0183136648825185),\n (131, 0.028073505307039316),\n (132, 0.017317721528492733),\n (133, 0.017601169492815764),\n (134, 0.019755228069327762),\n (135, 0.018484930121485426),\n (136, 0.0),\n (137, 0.016730188547035715),\n (138, 0.05435729345198778),\n (139, 0.013480032883888115),\n (140, 0.016494858753145665),\n (141, 0.019473432804064085),\n (142, 0.016427808259684835),\n (143, 0.009763151512622081),\n (144, 0.014360500530056804),\n (145, 0.01215106802388022),\n (146, 0.01823478515322058),\n (147, 0.03133998879896134),\n (148, 0.006085575189239813),\n (149, 0.027371989086000015),\n (150, 0.01360909321472434),\n (151, 0.013930622644730915),\n (152, 0.01270110882647756),\n (153, 0.009579010471824282),\n (154, 0.0345399694830126),\n (155, 0.01699939016281718),\n (156, 0.011135822417392638),\n (157, 0.018621004881086027),\n (158, 0.018103410828608474),\n (159, 0.005179919559352232),\n (160, 0.015809659965033696),\n (161, 0.026777635300841717),\n (162, 0.005485408539656575),\n (163, 0.011582335107657996),\n (164, 0.023354456503715492),\n (165, 0.011628250138903371),\n (166, 0.028537981019462772),\n (167, 0.016155070141679606),\n (168, 0.019400955162787892),\n (169, 0.008766826048798158),\n (170, 0.02710664039731241),\n (171, 0.02562530442921918),\n (172, 0.021576921495771194),\n (173, 0.013559554465891122),\n (174, 0.010896454126617149),\n (175, 0.025400496625742036),\n (176, 0.025754757633329198),\n (177, 0.019831113649072814),\n (178, 0.007087772415653746),\n (179, 0.07492158892551312),\n (180, 0.033627727816435755),\n (181, 0.018044598902487205),\n (182, 0.015948701358588942),\n (183, 0.004090574624492216),\n (184, 0.012441504167137935),\n (185, 0.01456043633312239),\n (186, 0.01457747707115747),\n (187, 0.03290405006558994),\n (188, 0.0071026629077112465),\n (189, 0.007589760930681257),\n (190, 0.01708088041068945),\n (191, 0.015787198046103297),\n (192, 0.014742399225646312),\n (193, 0.01317695950288316),\n (194, 0.016908069858742),\n (195, 0.014206898333159025),\n (196, 0.0073741742648398305),\n (197, 0.02796624209037668),\n (198, 0.011062507365499281),\n (199, 0.029509080967441877),\n (200, 0.005412788864687475),\n (201, 0.026050527085061403),\n (202, 0.013297323954055296),\n (203, 0.011571839861083722),\n (204, 0.016133958851411154),\n (205, 0.030962336495760006),\n (206, 0.013530839808747246),\n (207, 0.01988530155553284),\n (208, 0.013827659656347809),\n (209, 0.022241921023083568),\n (210, 0.01843007854432576),\n (211, 0.01904898531822136),\n (212, 0.019057190272829136),\n (213, 0.013195964297803935),\n (214, 0.0461096979176435),\n (215, 0.021984390679322542),\n (216, 0.0231771405743784),\n (217, 0.013059043743135363),\n (218, 0.021596417338762525),\n (219, 0.018618896092565156),\n (220, 0.01603231379751762),\n (221, 0.016297535662206167),\n (222, 0.03652557552553508),\n (223, 0.039538303909726714),\n (224, 0.002818259276967237),\n (225, 0.036064384366595245),\n (226, 0.029915129773065284),\n (227, 0.039932392470417744),\n (228, 0.0394260566150555),\n (229, 0.02571893603701365),\n (230, 0.015970278027895454),\n (231, 0.014472780572471767),\n (232, 0.03520643967359176),\n (233, 0.017897143937214286),\n (234, 0.022552042356114268),\n (235, 0.01943889043388404),\n (236, 0.0330906530402876),\n (237, 0.007150398030016971),\n (238, 0.01973689359195642),\n (239, 0.015602869666928707),\n (240, 0.027399968931522516),\n (241, 0.02393961064790464),\n (242, 0.013217923170812032),\n (243, 0.008788928717016595),\n (244, 0.017271961647669202),\n (245, 0.02778243632278908),\n (246, 0.015866508076047656),\n (247, 0.008447120243951644),\n (248, 0.010453253308664649),\n (249, 0.022577244720172508),\n (250, 0.029420055815721765),\n (251, 0.013241280897663977),\n (252, 0.02436553607356802),\n (253, 0.024194851960820135),\n (254, 0.027367817110500008),\n (255, 0.040662942378377455),\n (256, 0.05981523875271845),\n (257, 0.013900854653654282),\n (258, 0.02588464023824683),\n (259, 0.007870156060829636),\n (260, 0.011677567610271186),\n (261, 0.03650543859755687),\n (262, 0.015113706097038172),\n (263, 0.022120506404173908),\n (264, 0.025478073735919815),\n (265, 0.026101287826065803),\n (266, 0.012541070268945182),\n (267, 0.009900881661259932),\n (268, 0.030752271049411715),\n (269, 0.01868844733695388),\n (270, 0.004915778335763219),\n (271, 0.034221621438562395),\n (272, 0.009395346776029297),\n (273, 0.029247028563087637),\n (274, 0.03373062599432075),\n (275, 0.02992947657901667),\n (276, 0.0208508009898294),\n (277, 0.0036461951901404924),\n (278, 0.026167120303768675),\n (279, 0.013167477997842006),\n (280, 0.0037674872755119864),\n (281, 0.015391927912934485),\n (282, 0.010905686393861828),\n (283, 0.007755061408956789),\n (284, 0.01656921308337958),\n (285, 0.011687926670838018),\n (286, 0.042449238293348936),\n (287, 0.013732913022508248),\n (288, 0.018252819814833128),\n (289, 0.02376892739494498),\n (290, 0.018182450288095404),\n (291, 0.01887455057987253),\n (292, 0.00821385494538549),\n (293, 0.033881404476067904),\n (294, 0.012749996253996136),\n (295, 0.007638501609529093),\n (296, 0.006995919820255811),\n (297, 0.015652245537557355),\n (298, 0.01294694844524922),\n (299, 0.0055105536589797315),\n (300, 0.012188540998956462),\n (301, 0.03886976928574229),\n (302, 0.032141954637666746),\n (303, 0.02654408111660373),\n (304, 0.03226923570527908),\n (305, 0.023833110028921484),\n (306, 0.022955564252145632),\n (307, 0.01767300865189187),\n (308, 0.030743469437178556),\n (309, 0.011337009936008469),\n (310, 0.005772726929629631),\n (311, 0.02943239546857221),\n (312, 0.08299357105487142),\n (313, 0.020957831774568045),\n (314, 0.03456393390546883),\n (315, 0.03231343029930285),\n (316, 0.008490831314515553),\n (317, 0.016557376040991695),\n (318, 0.013293801181077036),\n (319, 0.017733781407423405),\n (320, 0.003737455840675899),\n (321, 0.012838057391800417),\n (322, 0.006018707723390573),\n (323, 0.02897914669664149),\n (324, 0.015033005845777388),\n (325, 0.017965349711862418),\n (326, 0.014478473604556017),\n (327, 0.01848916368495429),\n (328, 0.02961223344146288),\n (329, 0.009838518070920392),\n (330, 0.03222863096123991),\n (331, 0.008693062537148636),\n (332, 0.017643268616122573),\n (333, 0.017666419400649364),\n (334, 0.017309459578981855),\n (335, 0.005317456348223249),\n (336, 0.00469953212413693),\n (337, 0.009712119434969534),\n (338, 0.024315780289008958),\n (339, 0.014537607104480883),\n (340, 0.03583385100945652),\n (341, 0.018744817867909522),\n (342, 0.019687174924991564),\n (343, 0.019531153217327856),\n (344, 0.010433750929113975),\n (345, 0.0183747951990357),\n (346, 0.0161112902996589),\n (347, 0.019375453043718793),\n (348, 0.023393933070741522),\n (349, 0.017843899829529587),\n (350, 0.0020153478098017853),\n (351, 0.013916529567708969),\n (352, 0.008683785246855452),\n (353, 0.01649723762699953),\n (354, 0.01902867400725201),\n (355, 0.036430926045409755),\n (356, 0.02023283755797063),\n (357, 0.015878622855761474),\n (358, 0.008487716118785663),\n (359, 0.009166063898207084),\n (360, 0.010899173625464012),\n (361, 0.010518791817143085),\n (362, 0.009004211382053616),\n (363, 0.014056923838337777),\n (364, 0.01165062163878928),\n (365, 0.013954211088420893),\n (366, 0.02499723363768678),\n (367, 0.007376221222224761),\n (368, 0.05085088349736453),\n (369, 0.0012436687014679895),\n (370, 0.01616308024878054),\n (371, 0.0036479226238545015),\n (372, 0.02526564021882649),\n (373, 0.03916990607641503),\n (374, 0.028987041175363),\n (375, 0.013217656949580797),\n (376, 0.02709015717270654),\n (377, 0.010566313149798494),\n (378, 0.03305650441175271),\n (379, 0.020114707487176035),\n (380, 0.022941030454915103),\n (381, 0.028651221086636355),\n (382, 0.02684764664074378),\n (383, 0.024892013894273833),\n (384, 0.022145821072006674),\n (385, 0.016673284882108032),\n (386, 0.023807497975165105),\n (387, 0.031266666010800206),\n (388, 0.02608047029535246),\n (389, 0.010492052030369532),\n (390, 0.02251648769742851),\n (391, 0.020946788571136066),\n (392, 0.010994519140706687),\n (393, 0.0072666958021386265),\n (394, 0.014456127724323527),\n (395, 0.014679428539975442),\n (396, 0.026005800440787017),\n (397, 0.014340241817996037),\n (398, 0.016308534064487394),\n (399, 0.02082454589620345),\n (400, 0.021151488949698174),\n (401, 0.011827232604917422),\n (402, 0.010638339910659367),\n (403, 0.016031304206115315),\n (404, 0.021030475949808853),\n (405, 0.01741400322006048),\n (406, 0.01951806705218078),\n (407, 0.012298536936808581),\n (408, 0.026156460701736328),\n (409, 0.009807043090755826),\n (410, 0.02016023614407924),\n (411, 0.004294183096314927),\n (412, 0.017094068159545776),\n (413, 0.010029506888770204),\n (414, 0.018958299690053842),\n (415, 0.01655754499458913),\n (416, 0.012839060817782896),\n (417, 0.02167923601914616),\n (418, 0.0234060668950561),\n (419, 0.027027523899004733),\n (420, 0.012502032921114691),\n (421, 0.018804149226806184),\n (422, 0.0039999883772986146),\n (423, 0.022387679962570354),\n (424, 0.01564659048593339),\n (425, 0.06553090302298656),\n (426, 0.009255676604256805),\n (427, 0.034236319353451256),\n (428, 0.029255134521067067),\n (429, 0.019001466589586104),\n (430, 0.01334925116691477),\n (431, 0.012121547468365492),\n (432, 0.027748780374304494),\n (433, 0.030969049804826718),\n (434, 0.020184652847666514),\n (435, 0.016973842722958255),\n (436, 0.012166254786793968),\n (437, 0.022706595760404496),\n (438, 0.016574867591575376),\n (439, 0.04757823142840573),\n (440, 0.02213556984662158),\n (441, 0.011937997382627071),\n (442, 0.005858480646933216),\n (443, 0.019100908636455218),\n (444, 0.015729635591298214),\n (445, 0.016654349389175965),\n (446, 0.1278846573414064),\n (447, 0.02691713569146517),\n (448, 0.042719092020346294),\n (449, 0.014303393237044376),\n (450, 0.044971913958139785),\n (451, 0.017482543024716357),\n (452, 0.017810284614519483),\n (453, 0.027894084635296735),\n (454, 0.007525898658230929),\n (455, 0.023218968982549194),\n (456, 0.00153162523533472),\n (457, 0.013937737596964185),\n (458, 0.02528410455799909),\n (459, 0.011729850932318306),\n (460, 0.014294218992865476),\n (461, 0.03143021476720644),\n (462, 0.027472663973491115),\n (463, 0.03518057843526241),\n (464, 0.0029658871290617174),\n (465, 0.03147094421093576),\n (466, 0.036663850463057694),\n (467, 0.01893498209333881),\n (468, 0.03141579426411404),\n (469, 0.0110009724493775),\n (470, 0.007685058217197501),\n (471, 0.014190000437481913),\n (472, 0.013547354219156),\n (473, 0.016444267323546865),\n (474, 0.03731157825929923),\n (475, 0.02168826411962639),\n (476, 0.02626939952031175),\n (477, 0.012125681708394221),\n (478, 0.014149692416504564),\n (479, 0.020191760836052734),\n (480, 0.005617642789960719),\n (481, 0.00832906642560805),\n (482, 0.0014978798863693327),\n (483, 0.1262999819307657),\n (484, 0.02749185690456252),\n (485, 0.018682681715617058),\n (486, 0.00797100861874784),\n (487, 0.017077697226825173),\n (488, 0.025616983855160404),\n (489, 0.0026306424951769757),\n (490, 0.05811726435372903),\n (491, 0.017019705021502168),\n (492, 0.014262457723917595),\n (493, 0.044073153594278755),\n (494, 0.019500701414381975),\n (495, 0.029451929416340974),\n (496, 0.051515039459691485),\n (497, 0.026330533066980882),\n (498, 0.024360432006213958),\n (499, 0.015894985883942038),\n (500, 0.018484106457099306),\n (501, 0.04105175374211431),\n (502, 0.013311545348251897),\n (503, 0.007989091965483053),\n (504, 0.013502599011858534),\n (505, 0.01726374119246379),\n (506, 0.025220116970729855),\n (507, 0.0016520211992387083),\n (508, 0.025592712996139577),\n (509, 0.014912407095369567),\n (510, 0.04513587225592447),\n (511, 0.01463865333911931),\n (512, 0.02794188955073771),\n (513, 0.016000574385740023),\n (514, 0.02070507394005349),\n (515, 0.02302795948713554),\n (516, 0.019033185016671797),\n (517, 0.027287988159543527),\n (518, 0.02219075868114322),\n (519, 0.012277708621138307),\n (520, 0.016832808461724337),\n (521, 0.02803081626715309),\n (522, 0.01139225017775506),\n (523, 0.012482688592455415),\n (524, 0.03864087583833897),\n (525, 0.023582579416652146),\n (526, 0.02916098552709733),\n (527, 0.017479327015087844),\n (528, 0.009665472659664207),\n (529, 0.025491855600152876),\n (530, 0.008787736719557716),\n (531, 0.013960009559158177),\n (532, 0.021327263947956657),\n (533, 0.032585117552556477),\n (534, 0.021092801145570793),\n (535, 0.024991516549597494),\n (536, 0.0195177332054686),\n (537, 0.023347492429772305),\n (538, 0.00854011402436149),\n (539, 0.027180912239821952),\n (540, 0.022843017403456775),\n (541, 0.010134231247560284),\n (542, 0.009794950381480073),\n (543, 0.024277259541369882),\n (544, 0.013147564416740448),\n (545, 0.028694132801232695),\n (546, 0.028052151832655872),\n (547, 0.012579013135516279),\n (548, 0.015231801200783053),\n (549, 0.0079261532478976),\n (550, 0.016713229572218307),\n (551, 0.0),\n (552, 0.027399635254348992),\n (553, 0.014368666102932684),\n (554, 0.0044317479453088865),\n (555, 0.03271188459329935),\n (556, 0.002808550854385109),\n (557, 0.02976777527285741),\n (558, 0.025060578273953756),\n (559, 0.033713525540707785),\n (560, 0.026960592497342284),\n (561, 0.026694977976422375),\n (562, 0.022197630001143207),\n (563, 0.01931903968602982),\n (564, 0.005780566593975778),\n (565, 0.0035599751521336303),\n (566, 0.013933959161853474),\n (567, 0.02341845302426813),\n (568, 0.013868455221154386),\n (569, 0.005265713432294979),\n (570, 0.023934046522075446),\n (571, 0.020286984314581383),\n (572, 0.018769543220496673),\n (573, 0.010881553571981784),\n (574, 0.0),\n (575, 0.02440210795971671),\n (576, 0.030486465909153375),\n (577, 0.030306304143521787),\n (578, 0.032314467913904556),\n (579, 0.019891506571277556),\n (580, 0.018179676877885957),\n (581, 0.01106990592048376),\n (582, 0.017803668041393616),\n (583, 0.013814033085077629),\n (584, 0.010681377492431771),\n (585, 0.021163419766360637),\n (586, 0.031047866921896504),\n (587, 0.029824869764280365),\n (588, 0.05586100546159182),\n (589, 0.09415861236470484),\n (590, 0.016300912895365213),\n (591, 0.022950820561043344),\n (592, 0.026900660985348757),\n (593, 0.032123399260133384),\n (594, 0.041622352240591756),\n (595, 0.028243911744587697),\n (596, 0.019305367648143352),\n (597, 0.010937281021088197),\n (598, 0.02999014924611973),\n (599, 0.020265791154959665),\n (600, 0.004324295456648027),\n (601, 0.02152627742074482),\n (602, 0.01482332712811343),\n (603, 0.039001067570572825),\n (604, 0.012464260055476975),\n (605, 0.01615088479277465),\n (606, 0.041706437514836284),\n (607, 0.0057744721933747885),\n (608, 0.020543345857665214),\n (609, 0.02557072184456893),\n (610, 0.024842107891956497),\n (611, 0.014783686819325258),\n (612, 0.015329893342012853),\n (613, 0.00707647703684679),\n (614, 0.023347341063079577),\n (615, 0.03325575897056019),\n (616, 0.019265080400266466),\n (617, 0.05522099243943387),\n (618, 0.02560520545014015),\n (619, 0.07034492454921845),\n (620, 0.015508121381199983),\n (621, 0.023703259019795645),\n (622, 0.01832011035118263),\n (623, 0.008436210285167917),\n (624, 0.025351383051993612),\n (625, 0.0034624458170314475),\n (626, 0.012004708681947321),\n (627, 0.02936825724069586),\n (628, 0.01302401182868935),\n (629, 0.04078603552400027),\n (630, 0.010270791210004),\n (631, 0.014367472444630429),\n (632, 0.013937246083349716),\n (633, 0.010838720616789433),\n (634, 0.0191778304478629),\n (635, 0.010683581731608712),\n (636, 0.022749818663111234),\n (637, 0.014597456800494327),\n (638, 0.03252973471175043),\n (639, 0.01891391566799909),\n (640, 0.022360454448433154),\n (641, 0.03593764449742802),\n (642, 0.028082262949584613),\n (643, 0.005512726123831595),\n (644, 0.016129187164531492),\n (645, 0.012173495848482752),\n (646, 0.011024538248367915),\n (647, 0.010636348486663888),\n (648, 0.019225872082060884),\n (649, 0.02427079968279127),\n (650, 0.03273791308710835),\n (651, 0.02423065279892408),\n (652, 0.02442271298704185),\n (653, 0.0025440066690801807),\n (654, 0.01380926554251559),\n (655, 0.00985455086293556),\n (656, 0.018308738662111575),\n (657, 0.008698830618130857),\n (658, 0.01880958961652417),\n (659, 0.01281092574871423),\n (660, 0.019235436613354185),\n (661, 0.011474512612436217),\n (662, 0.007212924942160248),\n (663, 0.02707796778183942),\n (664, 0.016668288581268103),\n (665, 0.020899746155488987),\n (666, 0.01273857198538378),\n (667, 0.006992435487946292),\n (668, 0.02608889852837383),\n (669, 0.018177554466681185),\n (670, 0.020045088578796832),\n (671, 0.013690714878269667),\n (672, 0.030284102367429892),\n (673, 0.013045622213643814),\n (674, 0.023578858607393092),\n (675, 0.014168243503873296),\n (676, 0.02181491897838691),\n (677, 0.008435473734753385),\n (678, 0.026823398848215278),\n (679, 0.023153089816494936),\n (680, 0.018467937369687316),\n (681, 0.012120597993074527),\n (682, 0.02565111478519613),\n (683, 0.01783547373139364),\n (684, 0.012275801398144137),\n (685, 0.006533952500671223),\n (686, 0.013112348737791341),\n (687, 0.008467660238088315),\n (688, 0.02710772548501949),\n (689, 0.024381084627142596),\n (690, 0.0382098184563245),\n (691, 0.009681931518601028),\n (692, 0.028182625491965086),\n (693, 0.009298192946511354),\n (694, 0.009689337576588658),\n (695, 0.00937949603509825),\n (696, 0.014252970670565076),\n (697, 0.027796761762561056),\n (698, 0.019963224393781134),\n (699, 0.021032409499089168),\n (700, 0.024040545902818088),\n (701, 0.024528837833997175),\n (702, 0.014195661391397621),\n (703, 0.010822746864559522),\n (704, 0.02007784672486397),\n (705, 0.020068249173051503),\n (706, 0.020019888399224337),\n (707, 0.022692966902005802),\n (708, 0.021301544172952536),\n (709, 0.012687051960007707),\n (710, 0.01095962785555522),\n (711, 0.02953528866819069),\n (712, 0.03047629199393406),\n (713, 0.01879809721692911),\n (714, 0.006881515134677317),\n (715, 0.0),\n (716, 0.04093700989323548),\n (717, 0.017836726600640347),\n (718, 0.008866298056592812),\n (719, 0.03692556381773053),\n (720, 0.02783583692101554),\n (721, 0.012688034678832857),\n (722, 0.013136003023630083),\n (723, 0.009500566321666994),\n (724, 0.01434352170458213),\n (725, 0.039688742768978824),\n (726, 0.023664312236253808),\n (727, 0.024695781207527263),\n (728, 0.012906495023053894),\n (729, 0.021972325285596346),\n (730, 0.03117802089247311),\n (731, 0.011379981529669686),\n (732, 0.03907039957848496),\n (733, 0.02185167682179973),\n (734, 0.00963249526838809),\n (735, 0.029911343256984763),\n (736, 0.013584944893910392),\n (737, 0.04924302304051078),\n (738, 0.02033431626266901),\n (739, 0.028464523978266223),\n (740, 0.019899294682662945),\n (741, 0.07700532437574865),\n (742, 0.01685164727319315),\n (743, 0.03882766975428317),\n (744, 0.02353832625531017),\n (745, 0.02434413168857729),\n (746, 0.032198623861890964),\n (747, 0.021561018270608964),\n (748, 0.009913999444972134),\n (749, 0.016534881037958957),\n (750, 0.048741200496615726),\n (751, 0.039341502208973866),\n (752, 0.013371934930979821),\n (753, 0.01029067289313837),\n (754, 0.010773414920541907),\n (755, 0.026452656946518046),\n (756, 0.018031367161823287),\n (757, 0.018921664800124808),\n (758, 0.016224528892885535),\n (759, 0.01724412713945634),\n (760, 0.018686669633106934),\n (761, 0.019117307466597046),\n (762, 0.016754880320728364),\n (763, 0.015224984277381377),\n (764, 0.00746534269336694),\n (765, 0.025643278299684692),\n (766, 0.017801907364634627),\n (767, 0.00923713523663737),\n (768, 0.05818382964612137),\n (769, 0.01098912702610537),\n (770, 0.019711676264982648),\n (771, 0.027250479955126024),\n (772, 0.021267621681560947),\n (773, 0.011008686858959485),\n (774, 0.009885442122402287),\n (775, 0.010558127254198184),\n (776, 0.01384996633656298),\n (777, 0.009727510526415562),\n (778, 0.004836938063145498),\n (779, 0.013576997134129165),\n (780, 0.02621571920973564),\n (781, 0.010982189307985061),\n (782, 0.0),\n (783, 0.02332992766987935),\n (784, 0.03820192431514942),\n (785, 0.013328905628810159),\n (786, 0.007746023633737673),\n (787, 0.0056225401944048495),\n (788, 0.0015345575409868087),\n (789, 0.024750379456661982),\n (790, 0.023618569085169547),\n (791, 0.02533671435397639),\n (792, 0.0),\n (793, 0.040407907353465194),\n (794, 0.019873872899572074),\n (795, 0.021439350721587085),\n (796, 0.008028392901181427),\n (797, 0.030008602345146056),\n (798, 0.028432080293295876),\n (799, 0.030690250129460635),\n (800, 0.00720332749980305),\n (801, 0.015074400381595188),\n (802, 0.01876245869699604),\n (803, 0.03444185239030184),\n (804, 0.028847752360490822),\n (805, 0.008470482058816741),\n (806, 0.017502135296594064),\n (807, 0.04981005847166213),\n (808, 0.012495361861987322),\n (809, 0.011324774153126235),\n (810, 0.044478417008844445),\n (811, 0.010076235886306349),\n (812, 0.01411171524293419),\n (813, 0.01783585936837183),\n (814, 0.05476933434353639),\n (815, 0.018832909524394734),\n (816, 0.021904547553987123),\n (817, 0.03445819571556933),\n (818, 0.033549921810764674),\n (819, 0.017516146321026264),\n (820, 0.02651115214516004),\n (821, 0.032418058394712845),\n (822, 0.040925821954743896),\n (823, 0.018841640430689567),\n (824, 0.02901874445237019),\n (825, 0.0068115209914771215),\n (826, 0.010191884134402893),\n (827, 0.023162102282314145),\n (828, 0.015140722587918706),\n (829, 0.005088863739044725),\n (830, 0.04154522946017323),\n (831, 0.012818948813884174),\n (832, 0.025423360467202845),\n (833, 0.020534746815280287),\n (834, 0.023325950984659862),\n (835, 0.007188318364222366),\n (836, 0.006820603385209319),\n (837, 0.01882971417256767),\n (838, 0.028746346580191047),\n (839, 0.013040792769433833),\n (840, 0.022584276865284216),\n (841, 0.008240551410697896),\n (842, 0.02855017816006191),\n (843, 0.010117860827601629),\n (844, 0.033972356932903736),\n (845, 0.01807468253161727),\n (846, 0.03194749121134152),\n (847, 0.014394075992168479),\n (848, 0.013643279149710983),\n (849, 0.044451249964867975),\n (850, 0.026123487070549456),\n (851, 0.028402937079467075),\n (852, 0.010347517597209177),\n (853, 0.014813578570787626),\n (854, 0.01871976854355653),\n (855, 0.019894702240020934),\n (856, 0.005464829380115967),\n (857, 0.022291039935680518),\n (858, 0.03057343368682347),\n (859, 0.009782460112972678),\n (860, 0.024389743452904445),\n (861, 0.015572996393669922),\n (862, 0.006728264135348028),\n (863, 0.017730360906813944),\n (864, 0.009772005191454753),\n (865, 0.025575236662613014),\n (866, 0.02347476825306043),\n (867, 0.02506845345588666),\n (868, 0.012179380953055641),\n (869, 0.0),\n (870, 0.04814584764988469),\n (871, 0.0460032380044335),\n (872, 0.014007027067300885),\n (873, 0.0066288344643530405),\n (874, 0.011538923592207252),\n (875, 0.006597141603920246),\n (876, 0.02218571676424671),\n (877, 0.025708435746459823),\n (878, 0.018422966784381427),\n (879, 0.012846676404156921),\n (880, 0.03073816001588571),\n (881, 0.013200330745418742),\n (882, 0.009009965588673403),\n (883, 0.0),\n (884, 0.020341412448117914),\n (885, 0.008645730696190504),\n (886, 0.010333449612277744),\n (887, 0.017515179510792303),\n (888, 0.011975878856860366),\n (889, 0.01022335845461311),\n (890, 0.029720972911898718),\n (891, 0.006523906304033274),\n (892, 0.01410643820282758),\n (893, 0.02216101464959718),\n (894, 0.008976969398513415),\n (895, 0.018548820928012955),\n (896, 0.0015002306929469214),\n (897, 0.0040347805864660805),\n (898, 0.002585457720717722),\n (899, 0.011996388188636754),\n (900, 0.012784366144595228),\n (901, 0.01588240698865637),\n (902, 0.016903052831256097),\n (903, 0.009812754693941269),\n (904, 0.04737498233995493),\n (905, 0.019981886190834824),\n (906, 0.012661980826242992),\n (907, 0.008252755102356088),\n (908, 0.009906341861235755),\n (909, 0.013791791007656278),\n (910, 0.04190431820612139),\n (911, 0.023911747368166817),\n (912, 0.015736435962430934),\n (913, 0.013289962561905164),\n (914, 0.02877694628403804),\n (915, 0.018680876407329378),\n (916, 0.06055556304293889),\n (917, 0.024746375284879333),\n (918, 0.02683630512683064),\n (919, 0.019070335168301103),\n (920, 0.030938411929161823),\n (921, 0.02068781969107978),\n (922, 0.029644341586243843),\n (923, 0.0),\n (924, 0.007845540675233773),\n (925, 0.028903502598985466),\n (926, 0.0189280012543222),\n (927, 0.015771121299057392),\n (928, 0.02429442512417927),\n (929, 0.013043896805145162),\n (930, 0.01498617939050937),\n (931, 0.014627648830625423),\n (932, 0.022403152226346666),\n (933, 0.039248347415132834),\n (934, 0.01596373956011868),\n (935, 0.025998416200546548),\n (936, 0.011411363285305533),\n (937, 0.0209356723663654),\n (938, 0.01444360095939853),\n (939, 0.01302777838060477),\n (940, 0.03729387536786317),\n (941, 0.020883059339831735),\n (942, 0.010530859576399931),\n (943, 0.027967736020335535),\n (944, 0.02246853192688945),\n (945, 0.016626442655398695),\n (946, 0.027694967060857646),\n (947, 0.006740899288272617),\n (948, 0.01597974531905377),\n (949, 0.02263576007607829),\n (950, 0.03406610898412834),\n (951, 0.019540798046279208),\n (952, 0.009261165081469822),\n (953, 0.00686470412256468),\n (954, 0.01814679726550586),\n (955, 0.020539126280471436),\n (956, 0.024460925676078847),\n (957, 0.03605415068373031),\n (958, 0.022575173968706487),\n (959, 0.007613457844226302),\n (960, 0.0),\n (961, 0.02494580303844516),\n (962, 0.03180815883646429),\n (963, 0.014843183417432284),\n (964, 0.04136975024399021),\n (965, 0.030093750455657847),\n (966, 0.010392048337945017),\n (967, 0.0311570713124602),\n (968, 0.017389936881730614),\n (969, 0.017208233668440574),\n (970, 0.007768876225222477),\n (971, 0.02081746684036476),\n (972, 0.012356359370170534),\n (973, 0.011966042149045116),\n (974, 0.018823336798493778),\n (975, 0.009366097631131227),\n (976, 0.012382999106282079),\n (977, 0.008780234743565573),\n (978, 0.009777737664650515),\n (979, 0.013942818755632838),\n (980, 0.030011375844957475),\n (981, 0.017071565733118778),\n (982, 0.012675671007387899),\n (983, 0.025109849344111874),\n (984, 0.009251951547392796),\n (985, 0.015329337812557594),\n (986, 0.01637116236273871),\n (987, 0.03681335822212067),\n (988, 0.026408171198067144),\n (989, 0.020793611895958845),\n (990, 0.012727398311424776),\n (991, 0.009204412706031695),\n (992, 0.02823421059408448),\n (993, 0.01789655261701065),\n (994, 0.0028047457903984515),\n (995, 0.018989690553723376),\n (996, 0.004773953062393246),\n (997, 0.011319469612527756),\n (998, 0.014944830343516952),\n (999, 0.020338604630401408),\n ...]"
     },
     "execution_count": 252,
     "metadata": {},
     "output_type": "execute_result"
    }
   ],
   "source": [
    "list(enumerate(cosine_similar[0]))"
   ],
   "metadata": {
    "collapsed": false,
    "pycharm": {
     "name": "#%%\n"
    }
   }
  },
  {
   "cell_type": "code",
   "execution_count": 258,
   "outputs": [
    {
     "data": {
      "text/plain": "                                  title  \\\n3752                      Jerry and Tom   \n301                       Prêt-à-Porter   \n1077                        Microcosmos   \n3358                           La Bamba   \n821         The Day the Sun Turned Cold   \n3420                       Coming Apart   \n648                     Billy's Holiday   \n4404  Return of the Living Dead Part II   \n4868                   The Defiant Ones   \n2735                      Public Access   \n\n                                                 genres  \\\n3752  [{'id': 28, 'name': 'Action'}, {'id': 35, 'nam...   \n301   [{'id': 18, 'name': 'Drama'}, {'id': 35, 'name...   \n1077                [{'id': 99, 'name': 'Documentary'}]   \n3358  [{'id': 18, 'name': 'Drama'}, {'id': 10402, 'n...   \n821                                                  []   \n3420                      [{'id': 18, 'name': 'Drama'}]   \n648                                                  []   \n4404  [{'id': 35, 'name': 'Comedy'}, {'id': 27, 'nam...   \n4868  [{'id': 80, 'name': 'Crime'}, {'id': 18, 'name...   \n2735  [{'id': 18, 'name': 'Drama'}, {'id': 53, 'name...   \n\n                                               overview  \n3752  Tom and Jerry are two hit men, they work by da...  \n301   Paris Fashion Week draws the usual bunch of pe...  \n1077  A documentary of insect life in meadows and po...  \n3358  Biographical story of the rise from nowhere of...  \n821                                                 NaN  \n3420  A psychiatrist secretly films his female patie...  \n648   This movie is all about a normal guy called Bi...  \n4404  A group of kids discover one of the drums cont...  \n4868  Two convicts, a white racist and an angry blac...  \n2735  Brewster seems to be an almost too perfect exa...  ",
      "text/html": "<div>\n<style scoped>\n    .dataframe tbody tr th:only-of-type {\n        vertical-align: middle;\n    }\n\n    .dataframe tbody tr th {\n        vertical-align: top;\n    }\n\n    .dataframe thead th {\n        text-align: right;\n    }\n</style>\n<table border=\"1\" class=\"dataframe\">\n  <thead>\n    <tr style=\"text-align: right;\">\n      <th></th>\n      <th>title</th>\n      <th>genres</th>\n      <th>overview</th>\n    </tr>\n  </thead>\n  <tbody>\n    <tr>\n      <th>3752</th>\n      <td>Jerry and Tom</td>\n      <td>[{'id': 28, 'name': 'Action'}, {'id': 35, 'nam...</td>\n      <td>Tom and Jerry are two hit men, they work by da...</td>\n    </tr>\n    <tr>\n      <th>301</th>\n      <td>Prêt-à-Porter</td>\n      <td>[{'id': 18, 'name': 'Drama'}, {'id': 35, 'name...</td>\n      <td>Paris Fashion Week draws the usual bunch of pe...</td>\n    </tr>\n    <tr>\n      <th>1077</th>\n      <td>Microcosmos</td>\n      <td>[{'id': 99, 'name': 'Documentary'}]</td>\n      <td>A documentary of insect life in meadows and po...</td>\n    </tr>\n    <tr>\n      <th>3358</th>\n      <td>La Bamba</td>\n      <td>[{'id': 18, 'name': 'Drama'}, {'id': 10402, 'n...</td>\n      <td>Biographical story of the rise from nowhere of...</td>\n    </tr>\n    <tr>\n      <th>821</th>\n      <td>The Day the Sun Turned Cold</td>\n      <td>[]</td>\n      <td>NaN</td>\n    </tr>\n    <tr>\n      <th>3420</th>\n      <td>Coming Apart</td>\n      <td>[{'id': 18, 'name': 'Drama'}]</td>\n      <td>A psychiatrist secretly films his female patie...</td>\n    </tr>\n    <tr>\n      <th>648</th>\n      <td>Billy's Holiday</td>\n      <td>[]</td>\n      <td>This movie is all about a normal guy called Bi...</td>\n    </tr>\n    <tr>\n      <th>4404</th>\n      <td>Return of the Living Dead Part II</td>\n      <td>[{'id': 35, 'name': 'Comedy'}, {'id': 27, 'nam...</td>\n      <td>A group of kids discover one of the drums cont...</td>\n    </tr>\n    <tr>\n      <th>4868</th>\n      <td>The Defiant Ones</td>\n      <td>[{'id': 80, 'name': 'Crime'}, {'id': 18, 'name...</td>\n      <td>Two convicts, a white racist and an angry blac...</td>\n    </tr>\n    <tr>\n      <th>2735</th>\n      <td>Public Access</td>\n      <td>[{'id': 18, 'name': 'Drama'}, {'id': 53, 'name...</td>\n      <td>Brewster seems to be an almost too perfect exa...</td>\n    </tr>\n  </tbody>\n</table>\n</div>"
     },
     "execution_count": 258,
     "metadata": {},
     "output_type": "execute_result"
    }
   ],
   "source": [
    "get_recommnedation('Batman Forever')"
   ],
   "metadata": {
    "collapsed": false,
    "pycharm": {
     "name": "#%%\n"
    }
   }
  },
  {
   "cell_type": "code",
   "execution_count": 255,
   "outputs": [
    {
     "data": {
      "text/plain": "   adult                              belongs_to_collection    budget  \\\n0  False  {'id': 10194, 'name': 'Toy Story Collection', ...  30000000   \n\n                                              genres  \\\n0  [{'id': 16, 'name': 'Animation'}, {'id': 35, '...   \n\n                               homepage   id    imdb_id original_language  \\\n0  http://toystory.disney.com/toy-story  862  tt0114709                en   \n\n  original_title                                           overview  ...  \\\n0      Toy Story  Led by Woody, Andy's toys live happily in his ...  ...   \n\n  release_date      revenue runtime                          spoken_languages  \\\n0   1995-10-30  373554033.0    81.0  [{'iso_639_1': 'en', 'name': 'English'}]   \n\n     status  tagline      title  video vote_average vote_count  \n0  Released      NaN  Toy Story  False          7.7     5415.0  \n\n[1 rows x 24 columns]",
      "text/html": "<div>\n<style scoped>\n    .dataframe tbody tr th:only-of-type {\n        vertical-align: middle;\n    }\n\n    .dataframe tbody tr th {\n        vertical-align: top;\n    }\n\n    .dataframe thead th {\n        text-align: right;\n    }\n</style>\n<table border=\"1\" class=\"dataframe\">\n  <thead>\n    <tr style=\"text-align: right;\">\n      <th></th>\n      <th>adult</th>\n      <th>belongs_to_collection</th>\n      <th>budget</th>\n      <th>genres</th>\n      <th>homepage</th>\n      <th>id</th>\n      <th>imdb_id</th>\n      <th>original_language</th>\n      <th>original_title</th>\n      <th>overview</th>\n      <th>...</th>\n      <th>release_date</th>\n      <th>revenue</th>\n      <th>runtime</th>\n      <th>spoken_languages</th>\n      <th>status</th>\n      <th>tagline</th>\n      <th>title</th>\n      <th>video</th>\n      <th>vote_average</th>\n      <th>vote_count</th>\n    </tr>\n  </thead>\n  <tbody>\n    <tr>\n      <th>0</th>\n      <td>False</td>\n      <td>{'id': 10194, 'name': 'Toy Story Collection', ...</td>\n      <td>30000000</td>\n      <td>[{'id': 16, 'name': 'Animation'}, {'id': 35, '...</td>\n      <td>http://toystory.disney.com/toy-story</td>\n      <td>862</td>\n      <td>tt0114709</td>\n      <td>en</td>\n      <td>Toy Story</td>\n      <td>Led by Woody, Andy's toys live happily in his ...</td>\n      <td>...</td>\n      <td>1995-10-30</td>\n      <td>373554033.0</td>\n      <td>81.0</td>\n      <td>[{'iso_639_1': 'en', 'name': 'English'}]</td>\n      <td>Released</td>\n      <td>NaN</td>\n      <td>Toy Story</td>\n      <td>False</td>\n      <td>7.7</td>\n      <td>5415.0</td>\n    </tr>\n  </tbody>\n</table>\n<p>1 rows × 24 columns</p>\n</div>"
     },
     "execution_count": 255,
     "metadata": {},
     "output_type": "execute_result"
    }
   ],
   "source": [
    "movies_meta[movies_meta['title'] == 'Toy Story']\n"
   ],
   "metadata": {
    "collapsed": false,
    "pycharm": {
     "name": "#%%\n"
    }
   }
  },
  {
   "cell_type": "code",
   "execution_count": null,
   "outputs": [],
   "source": [],
   "metadata": {
    "collapsed": false,
    "pycharm": {
     "name": "#%%\n"
    }
   }
  }
 ],
 "metadata": {
  "kernelspec": {
   "display_name": "Python 3",
   "language": "python",
   "name": "python3"
  },
  "language_info": {
   "codemirror_mode": {
    "name": "ipython",
    "version": 2
   },
   "file_extension": ".py",
   "mimetype": "text/x-python",
   "name": "python",
   "nbconvert_exporter": "python",
   "pygments_lexer": "ipython2",
   "version": "2.7.6"
  }
 },
 "nbformat": 4,
 "nbformat_minor": 0
}