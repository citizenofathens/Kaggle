{
 "cells": [
  {
   "cell_type": "code",
   "execution_count": null,
   "metadata": {
    "collapsed": true,
    "pycharm": {
     "name": "#%%\n"
    }
   },
   "outputs": [],
   "source": [
    "\n",
    "\n",
    "\n",
    "\n",
    "# submit process\n",
    "\n",
    "# Write Submission CSV\n",
    "sub = pd.read_csv('../input/h-and-m-personalized-fashion-recommendations/sample_submission.csv')\n",
    "sub = sub[['customer_id']]"
   ]
  },
  {
   "cell_type": "code",
   "execution_count": null,
   "outputs": [],
   "source": [
    "\n",
    "\n",
    "df.article_id.value_counts()#%%"
   ],
   "metadata": {
    "collapsed": false,
    "pycharm": {
     "name": "#%%\n"
    }
   }
  },
  {
   "cell_type": "code",
   "execution_count": null,
   "outputs": [],
   "source": [
    "sub['customer_id_2'] = sub['customer_id'].apply(lambda x :  int( x[-16:],16))\n",
    "\n",
    "\n",
    "sub = sub.merge(preds.rename({'customer_id':'customer_id_2'},axis=1), on='customer_id_2',how='left').fillna('')\n",
    "\n",
    "del sub['customer_id_2']\n",
    "\n",
    "\n",
    "sub.prediction\n",
    "\n",
    "sub.prediction = sub.prediction + top12\n",
    "\n",
    "sub.prediction\n",
    "\n",
    "\n",
    "sub.prediction = sub.prediction.str.strip()\n",
    "sub.prediction = sub.prediction.str[:131]\n",
    "\n",
    "sub['prediction'].values[0]\n",
    "\n",
    "sub.to_csv(f'submission.csv',index=False)\n",
    "sub.head()"
   ],
   "metadata": {
    "collapsed": false,
    "pycharm": {
     "name": "#%%\n"
    }
   }
  },
  {
   "cell_type": "code",
   "execution_count": 15,
   "outputs": [],
   "source": [
    "\n",
    "\n",
    "\n",
    "from src import data"
   ],
   "metadata": {
    "collapsed": false,
    "pycharm": {
     "name": "#%%\n"
    }
   }
  },
  {
   "cell_type": "code",
   "execution_count": 31,
   "outputs": [
    {
     "data": {
      "text/plain": "<module 'src.data' from 'C:\\\\Users\\\\DATA\\\\PycharmProjects\\\\kaggle\\\\H&MRecommendation\\\\src\\\\data.py'>"
     },
     "execution_count": 31,
     "metadata": {},
     "output_type": "execute_result"
    }
   ],
   "source": [
    "import importlib\n",
    "importlib.reload(data)"
   ],
   "metadata": {
    "collapsed": false,
    "pycharm": {
     "name": "#%%\n"
    }
   }
  },
  {
   "cell_type": "code",
   "execution_count": 32,
   "outputs": [
    {
     "data": {
      "text/plain": "'C:\\\\Users\\\\DATA\\\\PycharmProjects\\\\kaggle\\\\H&MRecommendation'"
     },
     "execution_count": 32,
     "metadata": {},
     "output_type": "execute_result"
    }
   ],
   "source": [
    "import os\n",
    "\n",
    "os.getcwd()"
   ],
   "metadata": {
    "collapsed": false,
    "pycharm": {
     "name": "#%%\n"
    }
   }
  },
  {
   "cell_type": "code",
   "execution_count": 33,
   "outputs": [],
   "source": [
    "dataloader = data.DataLoader()"
   ],
   "metadata": {
    "collapsed": false,
    "pycharm": {
     "name": "#%%\n"
    }
   }
  },
  {
   "cell_type": "code",
   "execution_count": 34,
   "outputs": [],
   "source": [
    "train = dataloader.load('train')"
   ],
   "metadata": {
    "collapsed": false,
    "pycharm": {
     "name": "#%%\n"
    }
   }
  },
  {
   "cell_type": "code",
   "execution_count": 37,
   "outputs": [],
   "source": [
    "group_data = train[['customer_id','article_id','sales_channel_id']].groupby(['article_id','customer_id']).count().reset_index()\n"
   ],
   "metadata": {
    "collapsed": false,
    "pycharm": {
     "name": "#%%\n"
    }
   }
  },
  {
   "cell_type": "code",
   "execution_count": 41,
   "outputs": [
    {
     "ename": "IndexError",
     "evalue": "index 688600994 is out of bounds for axis 0 with size 688470939",
     "output_type": "error",
     "traceback": [
      "\u001B[1;31m---------------------------------------------------------------------------\u001B[0m",
      "\u001B[1;31mIndexError\u001B[0m                                Traceback (most recent call last)",
      "\u001B[1;32m~\\AppData\\Local\\Temp/ipykernel_2108/2166288504.py\u001B[0m in \u001B[0;36m<module>\u001B[1;34m\u001B[0m\n\u001B[1;32m----> 1\u001B[1;33m \u001B[0mpivot_data\u001B[0m \u001B[1;33m=\u001B[0m \u001B[0mgroup_data\u001B[0m\u001B[1;33m.\u001B[0m\u001B[0mpivot\u001B[0m\u001B[1;33m(\u001B[0m\u001B[0mcolumns\u001B[0m\u001B[1;33m=\u001B[0m\u001B[1;34m'article_id'\u001B[0m\u001B[1;33m,\u001B[0m\u001B[0mindex\u001B[0m\u001B[1;33m=\u001B[0m\u001B[1;34m'customer_id'\u001B[0m\u001B[1;33m,\u001B[0m\u001B[0mvalues\u001B[0m\u001B[1;33m=\u001B[0m\u001B[1;34m'sales_channel_id'\u001B[0m\u001B[1;33m)\u001B[0m\u001B[1;33m\u001B[0m\u001B[1;33m\u001B[0m\u001B[0m\n\u001B[0m\u001B[0;32m      2\u001B[0m \u001B[1;33m\u001B[0m\u001B[0m\n\u001B[0;32m      3\u001B[0m \u001B[1;33m\u001B[0m\u001B[0m\n",
      "\u001B[1;32m~\\PycharmProjects\\kaggle\\venv\\lib\\site-packages\\pandas\\core\\frame.py\u001B[0m in \u001B[0;36mpivot\u001B[1;34m(self, index, columns, values)\u001B[0m\n\u001B[0;32m   7786\u001B[0m         \u001B[1;32mfrom\u001B[0m \u001B[0mpandas\u001B[0m\u001B[1;33m.\u001B[0m\u001B[0mcore\u001B[0m\u001B[1;33m.\u001B[0m\u001B[0mreshape\u001B[0m\u001B[1;33m.\u001B[0m\u001B[0mpivot\u001B[0m \u001B[1;32mimport\u001B[0m \u001B[0mpivot\u001B[0m\u001B[1;33m\u001B[0m\u001B[1;33m\u001B[0m\u001B[0m\n\u001B[0;32m   7787\u001B[0m \u001B[1;33m\u001B[0m\u001B[0m\n\u001B[1;32m-> 7788\u001B[1;33m         \u001B[1;32mreturn\u001B[0m \u001B[0mpivot\u001B[0m\u001B[1;33m(\u001B[0m\u001B[0mself\u001B[0m\u001B[1;33m,\u001B[0m \u001B[0mindex\u001B[0m\u001B[1;33m=\u001B[0m\u001B[0mindex\u001B[0m\u001B[1;33m,\u001B[0m \u001B[0mcolumns\u001B[0m\u001B[1;33m=\u001B[0m\u001B[0mcolumns\u001B[0m\u001B[1;33m,\u001B[0m \u001B[0mvalues\u001B[0m\u001B[1;33m=\u001B[0m\u001B[0mvalues\u001B[0m\u001B[1;33m)\u001B[0m\u001B[1;33m\u001B[0m\u001B[1;33m\u001B[0m\u001B[0m\n\u001B[0m\u001B[0;32m   7789\u001B[0m \u001B[1;33m\u001B[0m\u001B[0m\n\u001B[0;32m   7790\u001B[0m     _shared_docs[\n",
      "\u001B[1;32m~\\PycharmProjects\\kaggle\\venv\\lib\\site-packages\\pandas\\core\\reshape\\pivot.py\u001B[0m in \u001B[0;36mpivot\u001B[1;34m(data, index, columns, values)\u001B[0m\n\u001B[0;32m    515\u001B[0m         \u001B[1;32melse\u001B[0m\u001B[1;33m:\u001B[0m\u001B[1;33m\u001B[0m\u001B[1;33m\u001B[0m\u001B[0m\n\u001B[0;32m    516\u001B[0m             \u001B[0mindexed\u001B[0m \u001B[1;33m=\u001B[0m \u001B[0mdata\u001B[0m\u001B[1;33m.\u001B[0m\u001B[0m_constructor_sliced\u001B[0m\u001B[1;33m(\u001B[0m\u001B[0mdata\u001B[0m\u001B[1;33m[\u001B[0m\u001B[0mvalues\u001B[0m\u001B[1;33m]\u001B[0m\u001B[1;33m.\u001B[0m\u001B[0m_values\u001B[0m\u001B[1;33m,\u001B[0m \u001B[0mindex\u001B[0m\u001B[1;33m=\u001B[0m\u001B[0mmultiindex\u001B[0m\u001B[1;33m)\u001B[0m\u001B[1;33m\u001B[0m\u001B[1;33m\u001B[0m\u001B[0m\n\u001B[1;32m--> 517\u001B[1;33m     \u001B[1;32mreturn\u001B[0m \u001B[0mindexed\u001B[0m\u001B[1;33m.\u001B[0m\u001B[0munstack\u001B[0m\u001B[1;33m(\u001B[0m\u001B[0mcolumns_listlike\u001B[0m\u001B[1;33m)\u001B[0m\u001B[1;33m\u001B[0m\u001B[1;33m\u001B[0m\u001B[0m\n\u001B[0m\u001B[0;32m    518\u001B[0m \u001B[1;33m\u001B[0m\u001B[0m\n\u001B[0;32m    519\u001B[0m \u001B[1;33m\u001B[0m\u001B[0m\n",
      "\u001B[1;32m~\\PycharmProjects\\kaggle\\venv\\lib\\site-packages\\pandas\\core\\series.py\u001B[0m in \u001B[0;36munstack\u001B[1;34m(self, level, fill_value)\u001B[0m\n\u001B[0;32m   4078\u001B[0m         \u001B[1;32mfrom\u001B[0m \u001B[0mpandas\u001B[0m\u001B[1;33m.\u001B[0m\u001B[0mcore\u001B[0m\u001B[1;33m.\u001B[0m\u001B[0mreshape\u001B[0m\u001B[1;33m.\u001B[0m\u001B[0mreshape\u001B[0m \u001B[1;32mimport\u001B[0m \u001B[0munstack\u001B[0m\u001B[1;33m\u001B[0m\u001B[1;33m\u001B[0m\u001B[0m\n\u001B[0;32m   4079\u001B[0m \u001B[1;33m\u001B[0m\u001B[0m\n\u001B[1;32m-> 4080\u001B[1;33m         \u001B[1;32mreturn\u001B[0m \u001B[0munstack\u001B[0m\u001B[1;33m(\u001B[0m\u001B[0mself\u001B[0m\u001B[1;33m,\u001B[0m \u001B[0mlevel\u001B[0m\u001B[1;33m,\u001B[0m \u001B[0mfill_value\u001B[0m\u001B[1;33m)\u001B[0m\u001B[1;33m\u001B[0m\u001B[1;33m\u001B[0m\u001B[0m\n\u001B[0m\u001B[0;32m   4081\u001B[0m \u001B[1;33m\u001B[0m\u001B[0m\n\u001B[0;32m   4082\u001B[0m     \u001B[1;31m# ----------------------------------------------------------------------\u001B[0m\u001B[1;33m\u001B[0m\u001B[1;33m\u001B[0m\u001B[1;33m\u001B[0m\u001B[0m\n",
      "\u001B[1;32m~\\PycharmProjects\\kaggle\\venv\\lib\\site-packages\\pandas\\core\\reshape\\reshape.py\u001B[0m in \u001B[0;36munstack\u001B[1;34m(obj, level, fill_value)\u001B[0m\n\u001B[0;32m    458\u001B[0m         \u001B[1;32mif\u001B[0m \u001B[0mis_1d_only_ea_dtype\u001B[0m\u001B[1;33m(\u001B[0m\u001B[0mobj\u001B[0m\u001B[1;33m.\u001B[0m\u001B[0mdtype\u001B[0m\u001B[1;33m)\u001B[0m\u001B[1;33m:\u001B[0m\u001B[1;33m\u001B[0m\u001B[1;33m\u001B[0m\u001B[0m\n\u001B[0;32m    459\u001B[0m             \u001B[1;32mreturn\u001B[0m \u001B[0m_unstack_extension_series\u001B[0m\u001B[1;33m(\u001B[0m\u001B[0mobj\u001B[0m\u001B[1;33m,\u001B[0m \u001B[0mlevel\u001B[0m\u001B[1;33m,\u001B[0m \u001B[0mfill_value\u001B[0m\u001B[1;33m)\u001B[0m\u001B[1;33m\u001B[0m\u001B[1;33m\u001B[0m\u001B[0m\n\u001B[1;32m--> 460\u001B[1;33m         unstacker = _Unstacker(\n\u001B[0m\u001B[0;32m    461\u001B[0m             \u001B[0mobj\u001B[0m\u001B[1;33m.\u001B[0m\u001B[0mindex\u001B[0m\u001B[1;33m,\u001B[0m \u001B[0mlevel\u001B[0m\u001B[1;33m=\u001B[0m\u001B[0mlevel\u001B[0m\u001B[1;33m,\u001B[0m \u001B[0mconstructor\u001B[0m\u001B[1;33m=\u001B[0m\u001B[0mobj\u001B[0m\u001B[1;33m.\u001B[0m\u001B[0m_constructor_expanddim\u001B[0m\u001B[1;33m\u001B[0m\u001B[1;33m\u001B[0m\u001B[0m\n\u001B[0;32m    462\u001B[0m         )\n",
      "\u001B[1;32m~\\PycharmProjects\\kaggle\\venv\\lib\\site-packages\\pandas\\core\\reshape\\reshape.py\u001B[0m in \u001B[0;36m__init__\u001B[1;34m(self, index, level, constructor)\u001B[0m\n\u001B[0;32m    131\u001B[0m             \u001B[1;32mraise\u001B[0m \u001B[0mValueError\u001B[0m\u001B[1;33m(\u001B[0m\u001B[1;34m\"Unstacked DataFrame is too big, causing int32 overflow\"\u001B[0m\u001B[1;33m)\u001B[0m\u001B[1;33m\u001B[0m\u001B[1;33m\u001B[0m\u001B[0m\n\u001B[0;32m    132\u001B[0m \u001B[1;33m\u001B[0m\u001B[0m\n\u001B[1;32m--> 133\u001B[1;33m         \u001B[0mself\u001B[0m\u001B[1;33m.\u001B[0m\u001B[0m_make_selectors\u001B[0m\u001B[1;33m(\u001B[0m\u001B[1;33m)\u001B[0m\u001B[1;33m\u001B[0m\u001B[1;33m\u001B[0m\u001B[0m\n\u001B[0m\u001B[0;32m    134\u001B[0m \u001B[1;33m\u001B[0m\u001B[0m\n\u001B[0;32m    135\u001B[0m     \u001B[1;33m@\u001B[0m\u001B[0mcache_readonly\u001B[0m\u001B[1;33m\u001B[0m\u001B[1;33m\u001B[0m\u001B[0m\n",
      "\u001B[1;32m~\\PycharmProjects\\kaggle\\venv\\lib\\site-packages\\pandas\\core\\reshape\\reshape.py\u001B[0m in \u001B[0;36m_make_selectors\u001B[1;34m(self)\u001B[0m\n\u001B[0;32m    180\u001B[0m         \u001B[0mselector\u001B[0m \u001B[1;33m=\u001B[0m \u001B[0mself\u001B[0m\u001B[1;33m.\u001B[0m\u001B[0msorted_labels\u001B[0m\u001B[1;33m[\u001B[0m\u001B[1;33m-\u001B[0m\u001B[1;36m1\u001B[0m\u001B[1;33m]\u001B[0m \u001B[1;33m+\u001B[0m \u001B[0mstride\u001B[0m \u001B[1;33m*\u001B[0m \u001B[0mcomp_index\u001B[0m \u001B[1;33m+\u001B[0m \u001B[0mself\u001B[0m\u001B[1;33m.\u001B[0m\u001B[0mlift\u001B[0m\u001B[1;33m\u001B[0m\u001B[1;33m\u001B[0m\u001B[0m\n\u001B[0;32m    181\u001B[0m         \u001B[0mmask\u001B[0m \u001B[1;33m=\u001B[0m \u001B[0mnp\u001B[0m\u001B[1;33m.\u001B[0m\u001B[0mzeros\u001B[0m\u001B[1;33m(\u001B[0m\u001B[0mnp\u001B[0m\u001B[1;33m.\u001B[0m\u001B[0mprod\u001B[0m\u001B[1;33m(\u001B[0m\u001B[0mself\u001B[0m\u001B[1;33m.\u001B[0m\u001B[0mfull_shape\u001B[0m\u001B[1;33m)\u001B[0m\u001B[1;33m,\u001B[0m \u001B[0mdtype\u001B[0m\u001B[1;33m=\u001B[0m\u001B[0mbool\u001B[0m\u001B[1;33m)\u001B[0m\u001B[1;33m\u001B[0m\u001B[1;33m\u001B[0m\u001B[0m\n\u001B[1;32m--> 182\u001B[1;33m         \u001B[0mmask\u001B[0m\u001B[1;33m.\u001B[0m\u001B[0mput\u001B[0m\u001B[1;33m(\u001B[0m\u001B[0mselector\u001B[0m\u001B[1;33m,\u001B[0m \u001B[1;32mTrue\u001B[0m\u001B[1;33m)\u001B[0m\u001B[1;33m\u001B[0m\u001B[1;33m\u001B[0m\u001B[0m\n\u001B[0m\u001B[0;32m    183\u001B[0m \u001B[1;33m\u001B[0m\u001B[0m\n\u001B[0;32m    184\u001B[0m         \u001B[1;32mif\u001B[0m \u001B[0mmask\u001B[0m\u001B[1;33m.\u001B[0m\u001B[0msum\u001B[0m\u001B[1;33m(\u001B[0m\u001B[1;33m)\u001B[0m \u001B[1;33m<\u001B[0m \u001B[0mlen\u001B[0m\u001B[1;33m(\u001B[0m\u001B[0mself\u001B[0m\u001B[1;33m.\u001B[0m\u001B[0mindex\u001B[0m\u001B[1;33m)\u001B[0m\u001B[1;33m:\u001B[0m\u001B[1;33m\u001B[0m\u001B[1;33m\u001B[0m\u001B[0m\n",
      "\u001B[1;31mIndexError\u001B[0m: index 688600994 is out of bounds for axis 0 with size 688470939"
     ]
    }
   ],
   "source": [
    "pivot_data = group_data.pivot(columns='article_id',index='customer_id',values='sales_channel_id')\n"
   ],
   "metadata": {
    "collapsed": false,
    "pycharm": {
     "name": "#%%\n"
    }
   }
  },
  {
   "cell_type": "code",
   "execution_count": 40,
   "outputs": [
    {
     "data": {
      "text/plain": "          article_id                                        customer_id  \\\n0         0108775015  000f7535bdc611ad136a9f04746d6b1431f50a7f60fbbe...   \n1         0108775015  001ae5408a043f64bccd32beffe2730151414cbdf18a6e...   \n2         0108775015  001ba9e81e13ce12a2585d9ebde923fe74429e9e12ea59...   \n3         0108775015  0022a721371d5949d174ecba60346d89a9d6c08c0fba4f...   \n4         0108775015  002323971cbd38fad4512d5114676e5e17eb262db02320...   \n...              ...                                                ...   \n27306434  0956217002  be1981ab818cf4ef6765b2ecaea7a2cbf14ccd6e8a7ee9...   \n27306435  0956217002  c89698e2626f3d98d8496e673c89ece5a8ee92914ee92d...   \n27306436  0956217002  cedd533807afaef98ca626a771d8c14986de84bdb43743...   \n27306437  0956217002  d51d1c7b07110ba2571d22849c1fdb7e61d7cbc1d58ada...   \n27306438  0956217002  e2731ecc3fb093e25d17348a02a34124c05cd960e9ebd3...   \n\n          sales_channel_id  \n0                        3  \n1                        2  \n2                        1  \n3                        2  \n4                        1  \n...                    ...  \n27306434                 1  \n27306435                 1  \n27306436                 1  \n27306437                 1  \n27306438                 1  \n\n[27306439 rows x 3 columns]",
      "text/html": "<div>\n<style scoped>\n    .dataframe tbody tr th:only-of-type {\n        vertical-align: middle;\n    }\n\n    .dataframe tbody tr th {\n        vertical-align: top;\n    }\n\n    .dataframe thead th {\n        text-align: right;\n    }\n</style>\n<table border=\"1\" class=\"dataframe\">\n  <thead>\n    <tr style=\"text-align: right;\">\n      <th></th>\n      <th>article_id</th>\n      <th>customer_id</th>\n      <th>sales_channel_id</th>\n    </tr>\n  </thead>\n  <tbody>\n    <tr>\n      <th>0</th>\n      <td>0108775015</td>\n      <td>000f7535bdc611ad136a9f04746d6b1431f50a7f60fbbe...</td>\n      <td>3</td>\n    </tr>\n    <tr>\n      <th>1</th>\n      <td>0108775015</td>\n      <td>001ae5408a043f64bccd32beffe2730151414cbdf18a6e...</td>\n      <td>2</td>\n    </tr>\n    <tr>\n      <th>2</th>\n      <td>0108775015</td>\n      <td>001ba9e81e13ce12a2585d9ebde923fe74429e9e12ea59...</td>\n      <td>1</td>\n    </tr>\n    <tr>\n      <th>3</th>\n      <td>0108775015</td>\n      <td>0022a721371d5949d174ecba60346d89a9d6c08c0fba4f...</td>\n      <td>2</td>\n    </tr>\n    <tr>\n      <th>4</th>\n      <td>0108775015</td>\n      <td>002323971cbd38fad4512d5114676e5e17eb262db02320...</td>\n      <td>1</td>\n    </tr>\n    <tr>\n      <th>...</th>\n      <td>...</td>\n      <td>...</td>\n      <td>...</td>\n    </tr>\n    <tr>\n      <th>27306434</th>\n      <td>0956217002</td>\n      <td>be1981ab818cf4ef6765b2ecaea7a2cbf14ccd6e8a7ee9...</td>\n      <td>1</td>\n    </tr>\n    <tr>\n      <th>27306435</th>\n      <td>0956217002</td>\n      <td>c89698e2626f3d98d8496e673c89ece5a8ee92914ee92d...</td>\n      <td>1</td>\n    </tr>\n    <tr>\n      <th>27306436</th>\n      <td>0956217002</td>\n      <td>cedd533807afaef98ca626a771d8c14986de84bdb43743...</td>\n      <td>1</td>\n    </tr>\n    <tr>\n      <th>27306437</th>\n      <td>0956217002</td>\n      <td>d51d1c7b07110ba2571d22849c1fdb7e61d7cbc1d58ada...</td>\n      <td>1</td>\n    </tr>\n    <tr>\n      <th>27306438</th>\n      <td>0956217002</td>\n      <td>e2731ecc3fb093e25d17348a02a34124c05cd960e9ebd3...</td>\n      <td>1</td>\n    </tr>\n  </tbody>\n</table>\n<p>27306439 rows × 3 columns</p>\n</div>"
     },
     "execution_count": 40,
     "metadata": {},
     "output_type": "execute_result"
    }
   ],
   "source": [],
   "metadata": {
    "collapsed": false,
    "pycharm": {
     "name": "#%%)\n"
    }
   }
  },
  {
   "cell_type": "code",
   "execution_count": null,
   "outputs": [],
   "source": [
    "pivot_data.fillna(0,inplace=True)"
   ],
   "metadata": {
    "collapsed": false,
    "pycharm": {
     "name": "#%%\n"
    }
   }
  },
  {
   "cell_type": "code",
   "execution_count": 42,
   "outputs": [],
   "source": [
    "import time\n",
    "import numpy as np\n",
    "import pandas as pd\n",
    "import multiprocessing as mp\n",
    "from multiprocessing import Pool\n",
    "from functools import partial"
   ],
   "metadata": {
    "collapsed": false,
    "pycharm": {
     "name": "#%%\n"
    }
   }
  },
  {
   "cell_type": "code",
   "execution_count": 43,
   "outputs": [],
   "source": [
    "\n",
    "dfu = dataloader.load('dfu')"
   ],
   "metadata": {
    "collapsed": false,
    "pycharm": {
     "name": "#%%\n"
    }
   }
  },
  {
   "cell_type": "code",
   "execution_count": 45,
   "outputs": [],
   "source": [
    "dfi = dataloader.load('dfi')"
   ],
   "metadata": {
    "collapsed": false,
    "pycharm": {
     "name": "#%%\n"
    }
   }
  },
  {
   "cell_type": "code",
   "execution_count": 46,
   "outputs": [],
   "source": [
    "ALL_USERS = dfu['customer_id'].unique().tolist()"
   ],
   "metadata": {
    "collapsed": false,
    "pycharm": {
     "name": "#%%\n"
    }
   }
  },
  {
   "cell_type": "code",
   "execution_count": 49,
   "outputs": [],
   "source": [
    "ALL_ITEMS = dfi['article_id'].unique().tolist()"
   ],
   "metadata": {
    "collapsed": false,
    "pycharm": {
     "name": "#%%\n"
    }
   }
  },
  {
   "cell_type": "code",
   "execution_count": 50,
   "outputs": [],
   "source": [
    "user_to_customer_map = {user_id: customer_id for user_id, customer_id in enumerate(ALL_USERS)}"
   ],
   "metadata": {
    "collapsed": false,
    "pycharm": {
     "name": "#%%\n"
    }
   }
  },
  {
   "cell_type": "code",
   "execution_count": 52,
   "outputs": [],
   "source": [
    "customer_to_user_map = {customer_id : user_id for user_id , customer_id in enumerate(ALL_USERS)}"
   ],
   "metadata": {
    "collapsed": false,
    "pycharm": {
     "name": "#%%\n"
    }
   }
  },
  {
   "cell_type": "code",
   "execution_count": 53,
   "outputs": [],
   "source": [
    "item_to_article_map = {item_id : article_id for item_id , article_id in enumerate(ALL_ITEMS)}"
   ],
   "metadata": {
    "collapsed": false,
    "pycharm": {
     "name": "#%%\n"
    }
   }
  },
  {
   "cell_type": "code",
   "execution_count": 65,
   "outputs": [],
   "source": [
    "article_to_item_map = {article_id : item_id for item_id, article_id in enumerate(ALL_ITEMS)}\n",
    "\n"
   ],
   "metadata": {
    "collapsed": false,
    "pycharm": {
     "name": "#%%\n"
    }
   }
  },
  {
   "cell_type": "code",
   "execution_count": 66,
   "outputs": [],
   "source": [
    "del dfu , dfi\n"
   ],
   "metadata": {
    "collapsed": false,
    "pycharm": {
     "name": "#%%\n"
    }
   }
  },
  {
   "cell_type": "code",
   "execution_count": 67,
   "outputs": [],
   "source": [
    "df = train.copy()"
   ],
   "metadata": {
    "collapsed": false,
    "pycharm": {
     "name": "#%%\n"
    }
   }
  },
  {
   "cell_type": "code",
   "execution_count": 68,
   "outputs": [],
   "source": [
    "df['user_id'] = df['customer_id'].map(customer_to_user_map)"
   ],
   "metadata": {
    "collapsed": false,
    "pycharm": {
     "name": "#%%\n"
    }
   }
  },
  {
   "cell_type": "code",
   "execution_count": 70,
   "outputs": [
    {
     "data": {
      "text/plain": "0                 2\n1                 2\n2                 7\n3                 7\n4                 7\n             ...   \n31788319    1371691\n31788320    1371691\n31788321    1371721\n31788322    1371747\n31788323    1371960\nName: user_id, Length: 31788324, dtype: int64"
     },
     "execution_count": 70,
     "metadata": {},
     "output_type": "execute_result"
    }
   ],
   "source": [],
   "metadata": {
    "collapsed": false,
    "pycharm": {
     "name": "#%%\n"
    }
   }
  },
  {
   "cell_type": "code",
   "execution_count": 71,
   "outputs": [],
   "source": [
    "df['item_id'] = df['article_id'].map(article_to_item_map)\n"
   ],
   "metadata": {
    "collapsed": false,
    "pycharm": {
     "name": "#%%\n"
    }
   }
  },
  {
   "cell_type": "code",
   "execution_count": 87,
   "outputs": [],
   "source": [
    "# BUILD MODEL\n",
    "\n",
    "N_SIMILAR_USERS =30\n",
    "\n",
    "MINIMUM_PURCHASES = 3\n",
    "\n",
    "START_DATE = '2020-08-21'\n",
    "\n",
    "DROP_PURCHASE_ITEMS =False\n",
    "\n",
    "DROP_USER_FROM_HIS_NEIGHBORHOOD = False\n",
    "\n",
    "TEST_RUN = False\n",
    "\n",
    "TEST_SIZE = 1000\n",
    "\n"
   ],
   "metadata": {
    "collapsed": false,
    "pycharm": {
     "name": "#%%\n"
    }
   }
  },
  {
   "cell_type": "code",
   "execution_count": 74,
   "outputs": [],
   "source": [
    "def flatten(l):\n",
    "    \"\"\" Flatten a list of lists\"\"\"\n",
    "    return [item for sublist in l for item in sublist]"
   ],
   "metadata": {
    "collapsed": false,
    "pycharm": {
     "name": "#%%\n"
    }
   }
  },
  {
   "cell_type": "code",
   "execution_count": 76,
   "outputs": [],
   "source": [
    "def compare_vectors(v1, v2):\n",
    "    \"\"\"\n",
    "    Compare lists of purchased product for two given users\n",
    "    v1 stands for the \"vector representation for user 1\"  , which is a list of the purchases of u1\n",
    "\n",
    "    Returns:\n",
    "        A value between 0 and 1 (similarity)\n",
    "\n",
    "    :param v1:\n",
    "    :param v2:\n",
    "    :return:\n",
    "    \"\"\"\n",
    "    intersection = len(set(v1) & set(v2))\n",
    "    denominator = np.sqrt(len(v1) * len(v2))\n",
    "\n",
    "    return intersection / denominator"
   ],
   "metadata": {
    "collapsed": false,
    "pycharm": {
     "name": "#%%\n"
    }
   }
  },
  {
   "cell_type": "code",
   "execution_count": 79,
   "outputs": [],
   "source": [
    "def get_similar_users(u , v , dfh):\n",
    "    \"\"\"\n",
    "    Get the N_SIMILAR_USERS most similar users to the given one with their similarity score\n",
    "\n",
    "    :param u: the user_id\n",
    "    :param v:  the \"vector\" representation of the user (list of item_id)\n",
    "    :param dfh: the \"history of transactions\" dataframe\n",
    "    :return: tuple of lists ([similar_user_id] , [similarity scores])\n",
    "    \"\"\"\n",
    "\n",
    "\n",
    "    similar_users = dfh.apply(lambda v_other : compare_vectors(v, v_other)).sort_values(ascending=False).head(N_SIMILAR_USERS+1)\n",
    "\n",
    "    if DROP_USER_FROM_HIS_NEIGHBORHOOD:\n",
    "        similar_users = similar_users[similar_users.index != u]\n",
    "\n",
    "    return similar_users.index.tolist(), similar_users.tolist()\n",
    "\n",
    "\n",
    "def get_items(u, v , dfh):\n",
    "    \"\"\" Get the recommend items for a given users\n",
    "\n",
    "    It will:\n",
    "        1) Get similar users for the given user\n",
    "        2) Obtain all the items those users purchased\n",
    "        3) Rank them using similarity scores of the user that purchased them\n",
    "        4) Return the 12 best ranked\n",
    "\n",
    "    Arguments:\n",
    "        u: the user_id,\n",
    "        v: the \"vector\" representation of the user ( list of item_id)\n",
    "        dfh : the \" history of transactions\" dataframe\n",
    "\n",
    "    Returns:\n",
    "        list of item_id of lenth at most 12\n",
    "    \"\"\"\n",
    "\n",
    "\n",
    "    global i, n\n",
    "\n",
    "    users, scores = get_similar_users(u, v , dfh)\n",
    "\n",
    "    df_nn = pd.DataFrame({'user':users, 'score': scores})\n",
    "\n",
    "    df_nn['items'] = df_nn.apply(lambda row: dfh.loc[row.user],axis=1)\n",
    "\n",
    "    df_nn['weighted_items'] = df_nn.apply(lambda row: [(item, row.score) for item in row['items']], axis=1)\n",
    "\n",
    "    recs = pd.DataFrame(flatten(df_nn['weighted_items'].tolist()),\\\n",
    "                        columns=['item','score']).groupby('item')['score'].sum().sort_values(ascending=False)\n",
    "\n",
    "\n",
    "    if DROP_PURCHASE_ITEMS:\n",
    "        recs = recs[~recs.index.isin(v)]\n",
    "    # Keep the first 12 and get the item_ids\n",
    "    i += 1\n",
    "    if i % 200 == 0:\n",
    "        pid = mp.current_process().pid\n",
    "        print(f\"[PID {pid:>2d}] Finished {i:3d} / {n:5d} - {i/n*100:3.0f}%\"  )\n",
    "    return recs.head(12).index.tolist()"
   ],
   "metadata": {
    "collapsed": false,
    "pycharm": {
     "name": "#%%\n"
    }
   }
  },
  {
   "cell_type": "code",
   "execution_count": 81,
   "outputs": [
    {
     "ename": "SyntaxError",
     "evalue": "invalid syntax (Temp/ipykernel_2108/4015999658.py, line 25)",
     "output_type": "error",
     "traceback": [
      "\u001B[1;36m  File \u001B[1;32m\"C:\\Users\\DATA\\AppData\\Local\\Temp/ipykernel_2108/4015999658.py\"\u001B[1;36m, line \u001B[1;32m25\u001B[0m\n\u001B[1;33m    def get\u001B[0m\n\u001B[1;37m           ^\u001B[0m\n\u001B[1;31mSyntaxError\u001B[0m\u001B[1;31m:\u001B[0m invalid syntax\n"
     ]
    }
   ],
   "source": [
    "def get_items_chunk(user_ids: np.array, dfh:pd.DataFrame):\n",
    "\n",
    "    \"\"\"Call get_item for a list of user_ids\n",
    "\n",
    "\n",
    "\n",
    "    :param use_ids: list of user_id\n",
    "    :param dfh: \"history of transactions\" dataframe\n",
    "    :return: pd.Series with index user_id and list of item_id (recommendation) as value\n",
    "    \"\"\"\n",
    "    global i, n\n",
    "    i = 0\n",
    "\n",
    "    n = len(user_ids)\n",
    "    pid = mp.current_process().pid\n",
    "\n",
    "    print(f\"[PID {pid:>2d}] Started working with {n:5d} users\")\n",
    "\n",
    "    df_user_vectors = pd.DataFrame(dfh.loc[user_ids]).reset_index()\n",
    "    df_user_vectors['recs'] = df_user_vectors.apply(lambda row: get_items(row.user_id,row.item_id,dfh),axis=1)\n",
    "    return df_user_vectors.set_index('user_id')['recs']"
   ],
   "metadata": {
    "collapsed": false,
    "pycharm": {
     "name": "#%%\n"
    }
   }
  },
  {
   "cell_type": "code",
   "execution_count": 109,
   "outputs": [
    {
     "data": {
      "text/plain": "16"
     },
     "execution_count": 109,
     "metadata": {},
     "output_type": "execute_result"
    }
   ],
   "source": [
    "\n",
    "\n",
    "np.array(users, mp.cpu_count())"
   ],
   "metadata": {
    "collapsed": false,
    "pycharm": {
     "name": "#%%\n"
    }
   }
  },
  {
   "cell_type": "code",
   "execution_count": null,
   "outputs": [],
   "source": [
    "def get_recommendation(users: list , dfh :pd.DataFrame):\n",
    "\n",
    "\n",
    "    \"\"\"\n",
    "    Obtained recommendation for the users using transaction dfh in a parallelized manner\n",
    "\n",
    "    Call get_items_chunk in a  \"smart\" multiprocessing fashion\n",
    "\n",
    "    Arguments:\n",
    "        users: lists of user_id\n",
    "        dfh : the \"history of transactions\" dataframe\n",
    "    :return\n",
    "        pd.DataFrame with index user_id and list of item_id (recommendation) as value\n",
    "\n",
    "\n",
    "\n",
    "    :param users:\n",
    "    :param dfh:\n",
    "    :return:\n",
    "    \"\"\"\n",
    "    time_start = time.time()\n",
    "\n",
    "    #Split into approximately evenly sized chunks\n",
    "    # We will send just one batch to each CPU\n",
    "    user_chunks = np.array_split(users, mp.cpu_count())\n",
    "\n",
    "\n",
    "    f = partial(get_items_chunk,dfh=dfh)\n",
    "    with Pool(mp.cpu_count()) as p:\n",
    "        res = p.map(f, user_chunks)\n",
    "\n",
    "    df_rec = pd.DataFrame(pd.concat(res))\n",
    "\n",
    "    elapsed = (time.time() - time_start) / 60\n",
    "    print(f\"Finished get_recommendation({len(users)}). It took {elapsed:5.2f} mins \")\n",
    "    return df_rec\n",
    "\n",
    "    #%%\n"
   ],
   "metadata": {
    "collapsed": false,
    "pycharm": {
     "name": "#%%\n"
    }
   }
  },
  {
   "cell_type": "code",
   "execution_count": 88,
   "outputs": [],
   "source": [
    "def uucf(df , start_date =START_DATE):\n",
    "\n",
    "    \"\"\"\n",
    "    Entry poin for the UUCF model\n",
    "\n",
    "    Receicve the original transactions_train.csv and a start_date and gets UUCF recommendations\n",
    "\n",
    "    the model will not cover the full list of users, but just a subset of them.\n",
    "\n",
    "    It will provid recommendations for users with at least MINIMUM_PURCHASES after start_date\n",
    "\n",
    "    It might return less than 12 recs per user.\n",
    "\n",
    "    An ad-hoc function for filling these gaps should be used downstream\n",
    "\n",
    "    (See fill functionallity right below)\n",
    "\n",
    "    Arguments:\n",
    "        df : The raw dataframe from transaction_train.csv\n",
    "        start_data : a date\n",
    "\n",
    "    Returns:\n",
    "        a submission-like pd.DataFrame with columns [customer_id, prediction]\n",
    "        'prediction' is a list and not a string though\n",
    "\n",
    "\n",
    "\n",
    "    :param df:\n",
    "    :param start_data:\n",
    "    :return:\n",
    "    \"\"\"\n",
    "\n",
    "    df_small = df[df['t_dat'] > start_date]\n",
    "    print(f\"Kept data from {start_date} on. Total rows: {len(df_small)}\")\n",
    "\n",
    "    # H stands for \"Transaction history\"\n",
    "    # dfh is a series of user_id => list of item_id (the list of purchases in order)\n",
    "    dfh = df_small.groupby(\"user_id\")['item_id'].apply(lambda items: list(set(items)))\n",
    "    dfh = dfh[dfh.str.len() >= MINIMUM_PURCHASES]\n",
    "\n",
    "    if TEST_RUN:\n",
    "        print(\"WARNING : TEST_RUN is True . It will be a toy execution\")\n",
    "        dfh = dfh.head(TEST_SIZE)\n",
    "    users = dfh.index.tolist()\n",
    "    n_users = len(users)\n",
    "    print(f\"Total users in the time frame with at least {MINIMUM_PURCHASES}: {n_users}\")\n",
    "\n",
    "\n",
    "    df_rec = get_recommendation(users, dfh)\n",
    "    df_rec['customer_id'] = df_rec.index.map(user_to_customer_map)\n",
    "    df_rec['prediction'] = df_rec['recs'].map(lambda l : [item_to_article_map[i] for i in l])\n",
    "\n",
    "    # Submission ready dataframe\n",
    "    df_rec.reset_index(drop=True)[['customer_id','prediction']]\n",
    "    return df_rec"
   ],
   "metadata": {
    "collapsed": false,
    "pycharm": {
     "name": "#%%\n"
    }
   }
  },
  {
   "cell_type": "code",
   "execution_count": 91,
   "outputs": [],
   "source": [
    "df_small = df[df['t_dat'] > '2018-09-20']"
   ],
   "metadata": {
    "collapsed": false,
    "pycharm": {
     "name": "#%%\n"
    }
   }
  },
  {
   "cell_type": "code",
   "execution_count": 93,
   "outputs": [
    {
     "data": {
      "text/plain": "              t_dat                                        customer_id  \\\n48399    2018-09-21  0000423b00ade91418cceaf3b26c6af3dd342b51fd051e...   \n48400    2018-09-21  0000423b00ade91418cceaf3b26c6af3dd342b51fd051e...   \n48401    2018-09-21  0000423b00ade91418cceaf3b26c6af3dd342b51fd051e...   \n48402    2018-09-21  0006d37aaf7dd84f9bbc02f6cadcb74fd72ebf370bdc5f...   \n48403    2018-09-21  0006d37aaf7dd84f9bbc02f6cadcb74fd72ebf370bdc5f...   \n...             ...                                                ...   \n31788319 2020-09-22  fff2282977442e327b45d8c89afde25617d00124d0f999...   \n31788320 2020-09-22  fff2282977442e327b45d8c89afde25617d00124d0f999...   \n31788321 2020-09-22  fff380805474b287b05cb2a7507b9a013482f7dd0bce0e...   \n31788322 2020-09-22  fff4d3a8b1f3b60af93e78c30a7cb4cf75edaf2590d3e5...   \n31788323 2020-09-22  fffef3b6b73545df065b521e19f64bf6fe93bfd450ab20...   \n\n          article_id     price  sales_channel_id  user_id  item_id  \n48399     0583558001  0.067780                 2        1    19333  \n48400     0639677008  0.025407                 2        1    33748  \n48401     0640244003  0.033881                 2        1    33991  \n48402     0685687004  0.016932                 2      168    46305  \n48403     0591334004  0.010153                 2      168    20909  \n...              ...       ...               ...      ...      ...  \n31788319  0929511001  0.059305                 2  1371691   104961  \n31788320  0891322004  0.042356                 2  1371691   100629  \n31788321  0918325001  0.043203                 1  1371721   104053  \n31788322  0833459002  0.006763                 1  1371747    88521  \n31788323  0898573003  0.033881                 2  1371960   101689  \n\n[31739925 rows x 7 columns]",
      "text/html": "<div>\n<style scoped>\n    .dataframe tbody tr th:only-of-type {\n        vertical-align: middle;\n    }\n\n    .dataframe tbody tr th {\n        vertical-align: top;\n    }\n\n    .dataframe thead th {\n        text-align: right;\n    }\n</style>\n<table border=\"1\" class=\"dataframe\">\n  <thead>\n    <tr style=\"text-align: right;\">\n      <th></th>\n      <th>t_dat</th>\n      <th>customer_id</th>\n      <th>article_id</th>\n      <th>price</th>\n      <th>sales_channel_id</th>\n      <th>user_id</th>\n      <th>item_id</th>\n    </tr>\n  </thead>\n  <tbody>\n    <tr>\n      <th>48399</th>\n      <td>2018-09-21</td>\n      <td>0000423b00ade91418cceaf3b26c6af3dd342b51fd051e...</td>\n      <td>0583558001</td>\n      <td>0.067780</td>\n      <td>2</td>\n      <td>1</td>\n      <td>19333</td>\n    </tr>\n    <tr>\n      <th>48400</th>\n      <td>2018-09-21</td>\n      <td>0000423b00ade91418cceaf3b26c6af3dd342b51fd051e...</td>\n      <td>0639677008</td>\n      <td>0.025407</td>\n      <td>2</td>\n      <td>1</td>\n      <td>33748</td>\n    </tr>\n    <tr>\n      <th>48401</th>\n      <td>2018-09-21</td>\n      <td>0000423b00ade91418cceaf3b26c6af3dd342b51fd051e...</td>\n      <td>0640244003</td>\n      <td>0.033881</td>\n      <td>2</td>\n      <td>1</td>\n      <td>33991</td>\n    </tr>\n    <tr>\n      <th>48402</th>\n      <td>2018-09-21</td>\n      <td>0006d37aaf7dd84f9bbc02f6cadcb74fd72ebf370bdc5f...</td>\n      <td>0685687004</td>\n      <td>0.016932</td>\n      <td>2</td>\n      <td>168</td>\n      <td>46305</td>\n    </tr>\n    <tr>\n      <th>48403</th>\n      <td>2018-09-21</td>\n      <td>0006d37aaf7dd84f9bbc02f6cadcb74fd72ebf370bdc5f...</td>\n      <td>0591334004</td>\n      <td>0.010153</td>\n      <td>2</td>\n      <td>168</td>\n      <td>20909</td>\n    </tr>\n    <tr>\n      <th>...</th>\n      <td>...</td>\n      <td>...</td>\n      <td>...</td>\n      <td>...</td>\n      <td>...</td>\n      <td>...</td>\n      <td>...</td>\n    </tr>\n    <tr>\n      <th>31788319</th>\n      <td>2020-09-22</td>\n      <td>fff2282977442e327b45d8c89afde25617d00124d0f999...</td>\n      <td>0929511001</td>\n      <td>0.059305</td>\n      <td>2</td>\n      <td>1371691</td>\n      <td>104961</td>\n    </tr>\n    <tr>\n      <th>31788320</th>\n      <td>2020-09-22</td>\n      <td>fff2282977442e327b45d8c89afde25617d00124d0f999...</td>\n      <td>0891322004</td>\n      <td>0.042356</td>\n      <td>2</td>\n      <td>1371691</td>\n      <td>100629</td>\n    </tr>\n    <tr>\n      <th>31788321</th>\n      <td>2020-09-22</td>\n      <td>fff380805474b287b05cb2a7507b9a013482f7dd0bce0e...</td>\n      <td>0918325001</td>\n      <td>0.043203</td>\n      <td>1</td>\n      <td>1371721</td>\n      <td>104053</td>\n    </tr>\n    <tr>\n      <th>31788322</th>\n      <td>2020-09-22</td>\n      <td>fff4d3a8b1f3b60af93e78c30a7cb4cf75edaf2590d3e5...</td>\n      <td>0833459002</td>\n      <td>0.006763</td>\n      <td>1</td>\n      <td>1371747</td>\n      <td>88521</td>\n    </tr>\n    <tr>\n      <th>31788323</th>\n      <td>2020-09-22</td>\n      <td>fffef3b6b73545df065b521e19f64bf6fe93bfd450ab20...</td>\n      <td>0898573003</td>\n      <td>0.033881</td>\n      <td>2</td>\n      <td>1371960</td>\n      <td>101689</td>\n    </tr>\n  </tbody>\n</table>\n<p>31739925 rows × 7 columns</p>\n</div>"
     },
     "execution_count": 92,
     "metadata": {},
     "output_type": "execute_result"
    }
   ],
   "source": [
    "dfh =df_small.groupby('user_id')['item_id'].apply(lambda  items: list(set(items)))"
   ],
   "metadata": {
    "collapsed": false,
    "pycharm": {
     "name": "#%%\n"
    }
   }
  },
  {
   "cell_type": "code",
   "execution_count": 96,
   "outputs": [
    {
     "data": {
      "text/plain": "user_id\n0          [16003, 65667, 100484, 16023, 38172, 50724, 83...\n1          [22656, 25857, 42626, 47747, 19333, 22664, 582...\n2          [91841, 59458, 60259, 78503, 67274, 93585, 401...\n3                                             [64525, 61175]\n4          [2181, 20517, 77915, 104812, 43442, 101367, 51...\n                                 ...                        \n1371975    [64256, 58501, 59144, 58376, 48776, 59147, 560...\n1371976    [29698, 69137, 7192, 52766, 51748, 90151, 4768...\n1371977    [1157, 53893, 35721, 78601, 88977, 47892, 1653...\n1371978           [89864, 99149, 85872, 95506, 56694, 81751]\n1371979                                              [81594]\nName: item_id, Length: 1361243, dtype: object"
     },
     "execution_count": 94,
     "metadata": {},
     "output_type": "execute_result"
    },
    {
     "data": {
      "text/plain": "user_id\n0          [16003, 65667, 100484, 16023, 38172, 50724, 83...\n1          [22656, 25857, 42626, 47747, 19333, 22664, 582...\n2          [91841, 59458, 60259, 78503, 67274, 93585, 401...\n3                                             [64525, 61175]\n4          [2181, 20517, 77915, 104812, 43442, 101367, 51...\n                                 ...                        \n1371975    [64256, 58501, 59144, 58376, 48776, 59147, 560...\n1371976    [29698, 69137, 7192, 52766, 51748, 90151, 4768...\n1371977    [1157, 53893, 35721, 78601, 88977, 47892, 1653...\n1371978           [89864, 99149, 85872, 95506, 56694, 81751]\n1371979                                              [81594]\nName: item_id, Length: 1361243, dtype: object"
     },
     "execution_count": 95,
     "metadata": {},
     "output_type": "execute_result"
    },
    {
     "data": {
      "text/plain": "user_id\n0          [16003, 65667, 100484, 16023, 38172, 50724, 83...\n1          [22656, 25857, 42626, 47747, 19333, 22664, 582...\n2          [91841, 59458, 60259, 78503, 67274, 93585, 401...\n3                                             [64525, 61175]\n4          [2181, 20517, 77915, 104812, 43442, 101367, 51...\n                                 ...                        \n1371975    [64256, 58501, 59144, 58376, 48776, 59147, 560...\n1371976    [29698, 69137, 7192, 52766, 51748, 90151, 4768...\n1371977    [1157, 53893, 35721, 78601, 88977, 47892, 1653...\n1371978           [89864, 99149, 85872, 95506, 56694, 81751]\n1371979                                              [81594]\nName: item_id, Length: 1361243, dtype: object"
     },
     "execution_count": 96,
     "metadata": {},
     "output_type": "execute_result"
    }
   ],
   "source": [
    "dfh[dfh.str.lower]"
   ],
   "metadata": {
    "collapsed": false,
    "pycharm": {
     "name": "#%%\n"
    }
   }
  },
  {
   "cell_type": "code",
   "execution_count": 108,
   "outputs": [
    {
     "ename": "AttributeError",
     "evalue": "'list' object has no attribute 'str'",
     "output_type": "error",
     "traceback": [
      "\u001B[1;31m---------------------------------------------------------------------------\u001B[0m",
      "\u001B[1;31mAttributeError\u001B[0m                            Traceback (most recent call last)",
      "\u001B[1;32m~\\AppData\\Local\\Temp/ipykernel_2108/1741843191.py\u001B[0m in \u001B[0;36m<module>\u001B[1;34m\u001B[0m\n\u001B[1;32m----> 1\u001B[1;33m \u001B[0mdfh\u001B[0m\u001B[1;33m[\u001B[0m\u001B[1;36m0\u001B[0m\u001B[1;33m]\u001B[0m\u001B[1;33m.\u001B[0m\u001B[0mstr\u001B[0m\u001B[1;33m\u001B[0m\u001B[1;33m\u001B[0m\u001B[0m\n\u001B[0m",
      "\u001B[1;31mAttributeError\u001B[0m: 'list' object has no attribute 'str'"
     ]
    }
   ],
   "source": [],
   "metadata": {
    "collapsed": false,
    "pycharm": {
     "name": "#%%\n"
    }
   }
  },
  {
   "cell_type": "code",
   "execution_count": null,
   "outputs": [],
   "source": [
    "df_recs = uucf(df, '2018-09-20' )"
   ],
   "metadata": {
    "collapsed": false,
    "pycharm": {
     "name": "#%%\n"
    }
   }
  },
  {
   "cell_type": "code",
   "execution_count": null,
   "outputs": [],
   "source": [],
   "metadata": {
    "collapsed": false,
    "pycharm": {
     "name": "#%%\n"
    }
   }
  }
 ],
 "metadata": {
  "kernelspec": {
   "display_name": "Python 3",
   "language": "python",
   "name": "python3"
  },
  "language_info": {
   "codemirror_mode": {
    "name": "ipython",
    "version": 2
   },
   "file_extension": ".py",
   "mimetype": "text/x-python",
   "name": "python",
   "nbconvert_exporter": "python",
   "pygments_lexer": "ipython2",
   "version": "2.7.6"
  }
 },
 "nbformat": 4,
 "nbformat_minor": 0
}