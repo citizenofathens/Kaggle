{
 "cells": [
  {
   "cell_type": "code",
   "execution_count": 3,
   "outputs": [],
   "source": [
    "import numpy as np # linear algebra\n",
    "import pandas as pd # data processing, CSV file I/O (e.g. pd.read_csv)\n",
    "import matplotlib.pyplot as plt\n",
    "import seaborn as sns\n",
    "import plotly # 구매 아이템 정보\n",
    "import matplotlib.image as mpimg\n",
    "# 처음엔 overall view하는 것이 세세하게 연령별로 group view 하는 것보다 파악이 빠르다\n",
    "import plotly.graph_objects as go\n",
    "import random\n",
    "import plotly.offline as po\n",
    "from sklearn.feature_extraction.text import TfidfVectorizer\n",
    "import gc\n",
    "from sklearn.model_selection import train_test_split\n",
    "import pandas as pd\n",
    "\n",
    "\n",
    "# 코드 출처 주석에 바로 적기"
   ],
   "metadata": {
    "collapsed": false,
    "pycharm": {
     "name": "#%%\n"
    }
   }
  },
  {
   "cell_type": "code",
   "execution_count": 3,
   "outputs": [],
   "source": [],
   "metadata": {
    "collapsed": false,
    "pycharm": {
     "name": "#%%\n"
    }
   }
  },
  {
   "cell_type": "code",
   "execution_count": 6,
   "outputs": [],
   "source": [
    "base_path = '../input/h-and-m-personalized-fashion-recommendations/'\n",
    "csv_train = f'{base_path}transactions_train.csv'\n",
    "csv_sub = f'{base_path}sample_submission.csv'\n",
    "csv_users = f'{base_path}customers.csv'\n",
    "csv_items = f'{base_path}articles.csv'"
   ],
   "metadata": {
    "collapsed": false,
    "pycharm": {
     "name": "#%%\n"
    }
   }
  },
  {
   "cell_type": "code",
   "execution_count": null,
   "outputs": [],
   "source": [
    "debug=True\n",
    "if debug:\n",
    "    df = pd.read_csv(csv_train, dtype={'article_id': str}, parse_dates=['t_dat'], nrows=300000)\n",
    "    df_sub = pd.read_csv(csv_sub)\n",
    "    dfu = pd.read_csv(csv_users)\n",
    "    dfi = pd.read_csv(csv_items, dtype={'article_id': str})\n",
    "else:\n",
    "    df = pd.read_csv(csv_train, dtype={'article_id': str}, parse_dates=['t_dat'])\n",
    "    df_sub = pd.read_csv(csv_sub)\n",
    "    dfu = pd.read_csv(csv_users)\n",
    "    dfi = pd.read_csv(csv_items, dtype={'article_id': str})"
   ],
   "metadata": {
    "collapsed": false,
    "pycharm": {
     "name": "#%%\n"
    }
   }
  },
  {
   "cell_type": "code",
   "execution_count": 36,
   "outputs": [
    {
     "name": "stdout",
     "output_type": "stream",
     "text": [
      "(31788324, 3)\n"
     ]
    },
    {
     "data": {
      "text/plain": "       t_dat           customer_id  article_id\n0 2018-09-20  18439897732908966680   663713001\n1 2018-09-20  18439897732908966680   541518023\n2 2018-09-20  10112112306570742978   505221004\n3 2018-09-20  10112112306570742978   685687003\n4 2018-09-20  10112112306570742978   685687004",
      "text/html": "<div>\n<style scoped>\n    .dataframe tbody tr th:only-of-type {\n        vertical-align: middle;\n    }\n\n    .dataframe tbody tr th {\n        vertical-align: top;\n    }\n\n    .dataframe thead th {\n        text-align: right;\n    }\n</style>\n<table border=\"1\" class=\"dataframe\">\n  <thead>\n    <tr style=\"text-align: right;\">\n      <th></th>\n      <th>t_dat</th>\n      <th>customer_id</th>\n      <th>article_id</th>\n    </tr>\n  </thead>\n  <tbody>\n    <tr>\n      <th>0</th>\n      <td>2018-09-20</td>\n      <td>18439897732908966680</td>\n      <td>663713001</td>\n    </tr>\n    <tr>\n      <th>1</th>\n      <td>2018-09-20</td>\n      <td>18439897732908966680</td>\n      <td>541518023</td>\n    </tr>\n    <tr>\n      <th>2</th>\n      <td>2018-09-20</td>\n      <td>10112112306570742978</td>\n      <td>505221004</td>\n    </tr>\n    <tr>\n      <th>3</th>\n      <td>2018-09-20</td>\n      <td>10112112306570742978</td>\n      <td>685687003</td>\n    </tr>\n    <tr>\n      <th>4</th>\n      <td>2018-09-20</td>\n      <td>10112112306570742978</td>\n      <td>685687004</td>\n    </tr>\n  </tbody>\n</table>\n</div>"
     },
     "execution_count": 36,
     "metadata": {},
     "output_type": "execute_result"
    }
   ],
   "source": [
    "train = pd.read_csv('../input/h-and-m-personalized-fashion-recommendations/transactions_train.csv')\n",
    "train['customer_id'] = train['customer_id'].apply(lambda x: int( x[-16:],16))\n",
    "train['article_id'] = train.article_id.astype('int32')\n",
    "train.t_dat = pd.to_datetime(train.t_dat)\n",
    "train = train[['t_dat','customer_id','article_id']]\n",
    "print( train.shape )\n",
    "train.head()"
   ],
   "metadata": {
    "collapsed": false,
    "pycharm": {
     "name": "#%%\n"
    }
   }
  },
  {
   "cell_type": "code",
   "execution_count": 38,
   "outputs": [
    {
     "name": "stdout",
     "output_type": "stream",
     "text": [
      "Train shape: (5181535, 5)\n"
     ]
    }
   ],
   "source": [
    "\n",
    "tmp = train.groupby('customer_id').t_dat.max().reset_index()\n",
    "tmp.columns = ['customer_id','max_dat']\n",
    "train = train.merge(tmp,on=['customer_id'],how='left')\n",
    "train['diff_dat'] = (train.max_dat - train.t_dat).dt.days\n",
    "train = train.loc[train['diff_dat']<=6]\n",
    "print('Train shape:',train.shape)"
   ],
   "metadata": {
    "collapsed": false,
    "pycharm": {
     "name": "#%%\n"
    }
   }
  },
  {
   "cell_type": "code",
   "execution_count": null,
   "outputs": [],
   "source": [
    "tmp = train.groupby(['customer_id','article_id'])['t_dat'].agg('count').reset_index()\n",
    "tmp.columns = ['customer_id','article_id','ct']\n",
    "train = train.merge(tmp,on=['customer_id','article_id'],how='left')\n",
    "train = train.sort_values(['ct','t_dat'],ascending=False)\n",
    "train = train.drop_duplicates(['customer_id','article_id'])\n",
    "train = train.sort_values(['ct','t_dat'],ascending=False)\n",
    "train.head()"
   ],
   "metadata": {
    "collapsed": false,
    "pycharm": {
     "name": "#%%\n"
    }
   }
  },
  {
   "cell_type": "code",
   "execution_count": null,
   "outputs": [],
   "source": [
    "# USE PANDAS TO MAP COLUMN WITH DICTIONARY\n",
    "import pandas as pd, numpy as np\n",
    "\n",
    "import pandas as pd, numpy as np\n",
    "vc = df.article_id.value_counts()\n",
    "pairs = {}\n",
    "for j,i in enumerate(vc.index.values):\n",
    "    if j%10==0: print(j,', ',end='')\n",
    "    USERS = df.loc[df.article_id==i,'customer_id'].unique()\n",
    "    vc2 = df.loc[(df.customer_id.isin(USERS))&  (df.article_id!=i ),'article_id']\n",
    "    if len(vc2)==0: continue\n",
    "    vc2 = vc2.value_counts()\n",
    "    pairs[i] = vc2.index[0]"
   ],
   "metadata": {
    "collapsed": false,
    "pycharm": {
     "name": "#%%\n"
    }
   }
  },
  {
   "cell_type": "code",
   "execution_count": null,
   "outputs": [],
   "source": [
    "pairs"
   ],
   "metadata": {
    "collapsed": false,
    "pycharm": {
     "name": "#%%\n"
    }
   }
  },
  {
   "cell_type": "code",
   "execution_count": null,
   "outputs": [],
   "source": [
    "train['article_id2'] = train.article_id.map(pairs)"
   ],
   "metadata": {
    "collapsed": false,
    "pycharm": {
     "name": "#%%\n"
    }
   }
  },
  {
   "cell_type": "code",
   "execution_count": null,
   "outputs": [],
   "source": [
    "# RECOMMENDATION OF PAIRED ITEMS\n",
    "train2 = train[['customer_id','article_id2']].copy()\n",
    "train2 = train2.loc[train2.article_id2.notnull()]\n",
    "train2 = train2.drop_duplicates(['customer_id','article_id2'])\n",
    "train2 = train2.rename({'article_id2':'article_id'},axis=1)"
   ],
   "metadata": {
    "collapsed": false,
    "pycharm": {
     "name": "#%%\n"
    }
   }
  },
  {
   "cell_type": "code",
   "execution_count": 33,
   "outputs": [
    {
     "ename": "NameError",
     "evalue": "name 'train' is not defined",
     "output_type": "error",
     "traceback": [
      "\u001B[1;31m---------------------------------------------------------------------------\u001B[0m",
      "\u001B[1;31mNameError\u001B[0m                                 Traceback (most recent call last)",
      "\u001B[1;32m~\\AppData\\Local\\Temp/ipykernel_12800/225649638.py\u001B[0m in \u001B[0;36m<module>\u001B[1;34m\u001B[0m\n\u001B[0;32m      1\u001B[0m \u001B[1;31m# CONCATENATE PAIRED ITEM RECOMMENDATION AFTER PREVIOUS PURCHASED RECOMMENDATIONS\u001B[0m\u001B[1;33m\u001B[0m\u001B[1;33m\u001B[0m\u001B[1;33m\u001B[0m\u001B[0m\n\u001B[1;32m----> 2\u001B[1;33m \u001B[0mtrain\u001B[0m \u001B[1;33m=\u001B[0m \u001B[0mtrain\u001B[0m\u001B[1;33m[\u001B[0m\u001B[1;33m[\u001B[0m\u001B[1;34m'customer_id'\u001B[0m\u001B[1;33m,\u001B[0m\u001B[1;34m'article_id'\u001B[0m\u001B[1;33m]\u001B[0m\u001B[1;33m]\u001B[0m\u001B[1;33m\u001B[0m\u001B[1;33m\u001B[0m\u001B[0m\n\u001B[0m\u001B[0;32m      3\u001B[0m \u001B[0mtrain\u001B[0m \u001B[1;33m=\u001B[0m \u001B[0mpd\u001B[0m\u001B[1;33m.\u001B[0m\u001B[0mconcat\u001B[0m\u001B[1;33m(\u001B[0m\u001B[1;33m[\u001B[0m\u001B[0mtrain\u001B[0m\u001B[1;33m,\u001B[0m\u001B[0mtrain2\u001B[0m\u001B[1;33m]\u001B[0m\u001B[1;33m,\u001B[0m\u001B[0maxis\u001B[0m\u001B[1;33m=\u001B[0m\u001B[1;36m0\u001B[0m\u001B[1;33m,\u001B[0m\u001B[0mignore_index\u001B[0m\u001B[1;33m=\u001B[0m\u001B[1;32mTrue\u001B[0m\u001B[1;33m)\u001B[0m\u001B[1;33m\u001B[0m\u001B[1;33m\u001B[0m\u001B[0m\n\u001B[0;32m      4\u001B[0m \u001B[0mtrain\u001B[0m\u001B[1;33m.\u001B[0m\u001B[0marticle_id\u001B[0m \u001B[1;33m=\u001B[0m \u001B[0mtrain\u001B[0m\u001B[1;33m.\u001B[0m\u001B[0marticle_id\u001B[0m\u001B[1;33m.\u001B[0m\u001B[0mastype\u001B[0m\u001B[1;33m(\u001B[0m\u001B[1;34m'int32'\u001B[0m\u001B[1;33m)\u001B[0m\u001B[1;33m\u001B[0m\u001B[1;33m\u001B[0m\u001B[0m\n\u001B[0;32m      5\u001B[0m \u001B[0mtrain\u001B[0m \u001B[1;33m=\u001B[0m \u001B[0mtrain\u001B[0m\u001B[1;33m.\u001B[0m\u001B[0mdrop_duplicates\u001B[0m\u001B[1;33m(\u001B[0m\u001B[1;33m[\u001B[0m\u001B[1;34m'customer_id'\u001B[0m\u001B[1;33m,\u001B[0m\u001B[1;34m'article_id'\u001B[0m\u001B[1;33m]\u001B[0m\u001B[1;33m)\u001B[0m\u001B[1;33m\u001B[0m\u001B[1;33m\u001B[0m\u001B[0m\n",
      "\u001B[1;31mNameError\u001B[0m: name 'train' is not defined"
     ]
    }
   ],
   "source": [
    "# CONCATENATE PAIRED ITEM RECOMMENDATION AFTER PREVIOUS PURCHASED RECOMMENDATIONS\n",
    "train = train[['customer_id','article_id']]\n",
    "train = pd.concat([train,train2],axis=0,ignore_index=True)\n",
    "train.article_id = train.article_id.astype('int32')\n",
    "train = train.drop_duplicates(['customer_id','article_id'])"
   ],
   "metadata": {
    "collapsed": false,
    "pycharm": {
     "name": "#%%\n"
    }
   }
  },
  {
   "cell_type": "code",
   "execution_count": null,
   "outputs": [],
   "source": [
    "# CONVERT RECOMMENDATIONS INTO SINGLE STRING\n",
    "train.article_id = ' 0' + train.article_id.astype('str')\n",
    "preds = cudf.DataFrame( train.groupby('customer_id').article_id.sum().reset_index() )\n",
    "preds.columns = ['customer_id','prediction']\n",
    "preds.head()\n",
    "# CONCATENATE PAIRED ITEM RECOMMENDATION AFTER PREVIOUS PURCHASED RECOMMENDATIONS\n",
    "train = cudf.read_parquet('train.pqt')\n",
    "train.t_dat = cudf.to_datetime(train.t_dat)\n",
    "train = train.loc[train.t_dat >= cudf.to_datetime('2020-09-16')]\n",
    "top12 = ' 0' + ' 0'.join(train.article_id.value_counts().to_pandas().index.astype('str')[:12])\n",
    "print(\"Last week's top 12 popular items:\")\n",
    "print( top12 )"
   ],
   "metadata": {
    "collapsed": false,
    "pycharm": {
     "name": "#%%\n"
    }
   }
  },
  {
   "cell_type": "code",
   "execution_count": null,
   "outputs": [],
   "source": [],
   "metadata": {
    "collapsed": false,
    "pycharm": {
     "name": "#%%\n"
    }
   }
  },
  {
   "cell_type": "code",
   "execution_count": null,
   "outputs": [],
   "source": [],
   "metadata": {
    "collapsed": false,
    "pycharm": {
     "name": "#%%\n"
    }
   }
  },
  {
   "cell_type": "code",
   "execution_count": null,
   "outputs": [],
   "source": [
    "sub = cudf.read_csv('../input/h-and-m-personalized-fashion-recommendations/sample_submission.csv')\n",
    "sub = sub[['customer_id']]\n",
    "sub['customer_id_2'] = sub['customer_id'].str[-16:].str.hex_to_int().astype('int64')\n",
    "sub = sub.merge(preds.rename({'customer_id':'customer_id_2'},axis=1),\\\n",
    "    on='customer_id_2', how='left').fillna('')\n",
    "del sub['customer_id_2']\n",
    "sub.prediction = sub.prediction + top12\n",
    "sub.prediction = sub.prediction.str.strip()\n",
    "sub.prediction = sub.prediction.str[:131]\n",
    "sub.to_csv(f'submission.csv',index=False)\n",
    "sub.head()"
   ],
   "metadata": {
    "collapsed": false,
    "pycharm": {
     "name": "#%%\n"
    }
   }
  },
  {
   "cell_type": "code",
   "execution_count": null,
   "outputs": [],
   "source": [
    "train = train[['customer_id','article_id']]\n",
    "train = pd.concat([train,train2],axis=0,ignore_index=True)\n",
    "train.article_id = train.article_id.astype('int32')\n",
    "train = train.drop_duplicates(['customer_id','article_id'])"
   ],
   "metadata": {
    "collapsed": false,
    "pycharm": {
     "name": "#%%\n"
    }
   }
  },
  {
   "cell_type": "code",
   "execution_count": 46,
   "outputs": [
    {
     "name": "stdout",
     "output_type": "stream",
     "text": [
      "0 , 10 , 20 , 30 , 40 , 50 , 60 , 70 , 80 , 90 , 100 , 110 , 120 , 130 , 140 , 150 , 160 , 170 , 180 , 190 , 200 , 210 , 220 , 230 , 240 , 250 , 260 , 270 , 280 , 290 , 300 , 310 , 320 , 330 , 340 , 350 , 360 , 370 , 380 , 390 , 400 , 410 , 420 , 430 , 440 , 450 , 460 , 470 , 480 , 490 , 500 , 510 , 520 , 530 , 540 , 550 , 560 , 570 , 580 , 590 , 600 , 610 , 620 , 630 , 640 , 650 , 660 , 670 , 680 , 690 , 700 , 710 , 720 , 730 , 740 , 750 , 760 , 770 , 780 , 790 , 800 , 810 , 820 , 830 , 840 , 850 , 860 , 870 , 880 , 890 , 900 , 910 , 920 , 930 , 940 , 950 , 960 , 970 , 980 , 990 , 1000 , 1010 , "
     ]
    },
    {
     "ename": "KeyboardInterrupt",
     "evalue": "",
     "output_type": "error",
     "traceback": [
      "\u001B[1;31m---------------------------------------------------------------------------\u001B[0m",
      "\u001B[1;31mKeyboardInterrupt\u001B[0m                         Traceback (most recent call last)",
      "\u001B[1;32m~\\AppData\\Local\\Temp/ipykernel_12800/4006901155.py\u001B[0m in \u001B[0;36m<module>\u001B[1;34m\u001B[0m\n\u001B[0;32m      6\u001B[0m     \u001B[1;32mif\u001B[0m \u001B[0mj\u001B[0m\u001B[1;33m%\u001B[0m\u001B[1;36m10\u001B[0m\u001B[1;33m==\u001B[0m\u001B[1;36m0\u001B[0m\u001B[1;33m:\u001B[0m \u001B[0mprint\u001B[0m\u001B[1;33m(\u001B[0m\u001B[0mj\u001B[0m\u001B[1;33m,\u001B[0m\u001B[1;34m', '\u001B[0m\u001B[1;33m,\u001B[0m\u001B[0mend\u001B[0m\u001B[1;33m=\u001B[0m\u001B[1;34m''\u001B[0m\u001B[1;33m)\u001B[0m\u001B[1;33m\u001B[0m\u001B[1;33m\u001B[0m\u001B[0m\n\u001B[0;32m      7\u001B[0m     \u001B[0mUSERS\u001B[0m \u001B[1;33m=\u001B[0m \u001B[0mdf\u001B[0m\u001B[1;33m.\u001B[0m\u001B[0mloc\u001B[0m\u001B[1;33m[\u001B[0m\u001B[0mdf\u001B[0m\u001B[1;33m.\u001B[0m\u001B[0marticle_id\u001B[0m\u001B[1;33m==\u001B[0m\u001B[0mi\u001B[0m\u001B[1;33m,\u001B[0m\u001B[1;34m'customer_id'\u001B[0m\u001B[1;33m]\u001B[0m\u001B[1;33m.\u001B[0m\u001B[0munique\u001B[0m\u001B[1;33m(\u001B[0m\u001B[1;33m)\u001B[0m\u001B[1;33m\u001B[0m\u001B[1;33m\u001B[0m\u001B[0m\n\u001B[1;32m----> 8\u001B[1;33m     \u001B[0mvc2\u001B[0m \u001B[1;33m=\u001B[0m \u001B[0mdf\u001B[0m\u001B[1;33m.\u001B[0m\u001B[0mloc\u001B[0m\u001B[1;33m[\u001B[0m\u001B[1;33m(\u001B[0m\u001B[0mdf\u001B[0m\u001B[1;33m.\u001B[0m\u001B[0mcustomer_id\u001B[0m\u001B[1;33m.\u001B[0m\u001B[0misin\u001B[0m\u001B[1;33m(\u001B[0m\u001B[0mUSERS\u001B[0m\u001B[1;33m)\u001B[0m\u001B[1;33m)\u001B[0m\u001B[1;33m&\u001B[0m  \u001B[1;33m(\u001B[0m\u001B[0mdf\u001B[0m\u001B[1;33m.\u001B[0m\u001B[0marticle_id\u001B[0m\u001B[1;33m!=\u001B[0m\u001B[0mi\u001B[0m \u001B[1;33m)\u001B[0m\u001B[1;33m,\u001B[0m\u001B[1;34m'article_id'\u001B[0m\u001B[1;33m]\u001B[0m\u001B[1;33m\u001B[0m\u001B[1;33m\u001B[0m\u001B[0m\n\u001B[0m\u001B[0;32m      9\u001B[0m     \u001B[1;32mif\u001B[0m \u001B[0mlen\u001B[0m\u001B[1;33m(\u001B[0m\u001B[0mvc2\u001B[0m\u001B[1;33m)\u001B[0m\u001B[1;33m==\u001B[0m\u001B[1;36m0\u001B[0m\u001B[1;33m:\u001B[0m \u001B[1;32mcontinue\u001B[0m\u001B[1;33m\u001B[0m\u001B[1;33m\u001B[0m\u001B[0m\n\u001B[0;32m     10\u001B[0m     \u001B[0mvc2\u001B[0m \u001B[1;33m=\u001B[0m \u001B[0mvc2\u001B[0m\u001B[1;33m.\u001B[0m\u001B[0mvalue_counts\u001B[0m\u001B[1;33m(\u001B[0m\u001B[1;33m)\u001B[0m\u001B[1;33m\u001B[0m\u001B[1;33m\u001B[0m\u001B[0m\n",
      "\u001B[1;32m~\\PycharmProjects\\kaggle\\venv\\lib\\site-packages\\pandas\\core\\series.py\u001B[0m in \u001B[0;36misin\u001B[1;34m(self, values)\u001B[0m\n\u001B[0;32m   5022\u001B[0m         \u001B[0mdtype\u001B[0m\u001B[1;33m:\u001B[0m \u001B[0mbool\u001B[0m\u001B[1;33m\u001B[0m\u001B[1;33m\u001B[0m\u001B[0m\n\u001B[0;32m   5023\u001B[0m         \"\"\"\n\u001B[1;32m-> 5024\u001B[1;33m         \u001B[0mresult\u001B[0m \u001B[1;33m=\u001B[0m \u001B[0malgorithms\u001B[0m\u001B[1;33m.\u001B[0m\u001B[0misin\u001B[0m\u001B[1;33m(\u001B[0m\u001B[0mself\u001B[0m\u001B[1;33m.\u001B[0m\u001B[0m_values\u001B[0m\u001B[1;33m,\u001B[0m \u001B[0mvalues\u001B[0m\u001B[1;33m)\u001B[0m\u001B[1;33m\u001B[0m\u001B[1;33m\u001B[0m\u001B[0m\n\u001B[0m\u001B[0;32m   5025\u001B[0m         return self._constructor(result, index=self.index).__finalize__(\n\u001B[0;32m   5026\u001B[0m             \u001B[0mself\u001B[0m\u001B[1;33m,\u001B[0m \u001B[0mmethod\u001B[0m\u001B[1;33m=\u001B[0m\u001B[1;34m\"isin\"\u001B[0m\u001B[1;33m\u001B[0m\u001B[1;33m\u001B[0m\u001B[0m\n",
      "\u001B[1;31mKeyboardInterrupt\u001B[0m: "
     ]
    }
   ],
   "source": [
    "# USE PANDAS TO MAP COLUMN WITH DICTIONARY\n",
    "import pandas as pd, numpy as np\n",
    "vc = df.article_id.value_counts()\n",
    "pairs = {}\n",
    "for j,i in enumerate(vc.index.values):\n",
    "    if j%10==0: print(j,', ',end='')\n",
    "    USERS = df.loc[df.article_id==i,'customer_id'].unique()\n",
    "    vc2 = df.loc[(df.customer_id.isin(USERS))&  (df.article_id!=i ),'article_id']\n",
    "    if len(vc2)==0: continue\n",
    "    vc2 = vc2.value_counts()\n",
    "    pairs[i] = vc2.index[0]"
   ],
   "metadata": {
    "collapsed": false,
    "pycharm": {
     "name": "#%%\n"
    }
   }
  },
  {
   "cell_type": "code",
   "execution_count": 49,
   "outputs": [
    {
     "data": {
      "text/plain": "array(['0706016001', '0706016002', '0372860001', ..., '0586904003',\n       '0512385003', '0533261032'], dtype=object)"
     },
     "execution_count": 49,
     "metadata": {},
     "output_type": "execute_result"
    }
   ],
   "source": [],
   "metadata": {
    "collapsed": false,
    "pycharm": {
     "name": "#%%\n"
    }
   }
  },
  {
   "cell_type": "code",
   "execution_count": null,
   "outputs": [],
   "source": [
    "len(pairs)"
   ],
   "metadata": {
    "collapsed": false,
    "pycharm": {
     "name": "#%%\n"
    }
   }
  },
  {
   "cell_type": "code",
   "execution_count": null,
   "outputs": [],
   "source": [
    "train['article_id2'] = train.article_id.map(pairs)"
   ],
   "metadata": {
    "collapsed": false,
    "pycharm": {
     "name": "#%%\n"
    }
   }
  },
  {
   "cell_type": "code",
   "execution_count": null,
   "outputs": [],
   "source": [
    "tmp = train.groupby(['customer_id','article_id'])['t_dat'].agg('count').reset_index()\n",
    "tmp.columns = ['customer_id','article_id','ct']\n",
    "train = train.merge(tmp,on=['customer_id','article_id'],how='left')\n",
    "train = train.sort_values(['ct','t_dat'],ascending=False)\n",
    "train = train.drop_duplicates(['customer_id','article_id'])\n",
    "train = train.sort_values(['ct','t_dat'],ascending=False)\n",
    "train.head()"
   ],
   "metadata": {
    "collapsed": false,
    "pycharm": {
     "name": "#%%\n"
    }
   }
  },
  {
   "cell_type": "code",
   "execution_count": null,
   "outputs": [],
   "source": [
    "tmp = train.groupby('customer_id').t_dat.max().reset_index()\n",
    "tmp.columns = ['customer_id','max_dat']\n",
    "train = train.merge(tmp,on=['customer_id'],how='left')\n",
    "train['diff_dat'] = (train.max_dat - train.t_dat).dt.days\n",
    "train = train.loc[train['diff_dat']<=6]\n",
    "print('Train shape:',train.shape)"
   ],
   "metadata": {
    "collapsed": false,
    "pycharm": {
     "name": "#%%\n"
    }
   }
  },
  {
   "cell_type": "code",
   "execution_count": null,
   "outputs": [],
   "source": [
    "df_sub['customer_id'].nunique()"
   ],
   "metadata": {
    "collapsed": false,
    "pycharm": {
     "name": "#%%\n"
    }
   }
  },
  {
   "cell_type": "code",
   "execution_count": null,
   "outputs": [],
   "source": [
    "df['customer_id']=  df['customer_id'].apply(lambda x :  int( x[-16:],16))\n",
    "\n",
    "df['customer_id'] = df['customer_id'].astype('int64')"
   ],
   "metadata": {
    "collapsed": false,
    "pycharm": {
     "name": "#%%\n"
    }
   }
  },
  {
   "cell_type": "code",
   "execution_count": 7,
   "outputs": [],
   "source": [
    "df['article_id'] = df.article_id.astype('int32')"
   ],
   "metadata": {
    "collapsed": false,
    "pycharm": {
     "name": "#%%\n"
    }
   }
  },
  {
   "cell_type": "code",
   "execution_count": 8,
   "outputs": [
    {
     "data": {
      "text/plain": "0         663713001\n1         541518023\n2         505221004\n3         685687003\n4         685687004\n            ...    \n299995    591334001\n299996    591334001\n299997    662857002\n299998    662857002\n299999    682267002\nName: article_id, Length: 300000, dtype: int32"
     },
     "execution_count": 8,
     "metadata": {},
     "output_type": "execute_result"
    }
   ],
   "source": [
    "df['article_id']"
   ],
   "metadata": {
    "collapsed": false,
    "pycharm": {
     "name": "#%%\n"
    }
   }
  },
  {
   "cell_type": "code",
   "execution_count": 10,
   "outputs": [
    {
     "data": {
      "text/plain": "        article_id  product_code               prod_name  product_type_no  \\\n0       0108775015        108775               Strap top              253   \n1       0108775044        108775               Strap top              253   \n2       0108775051        108775           Strap top (1)              253   \n3       0110065001        110065       OP T-shirt (Idro)              306   \n4       0110065002        110065       OP T-shirt (Idro)              306   \n...            ...           ...                     ...              ...   \n105537  0953450001        953450  5pk regular Placement1              302   \n105538  0953763001        953763       SPORT Malaga tank              253   \n105539  0956217002        956217         Cartwheel dress              265   \n105540  0957375001        957375        CLAIRE HAIR CLAW               72   \n105541  0959461001        959461            Lounge dress              265   \n\n       product_type_name  product_group_name  graphical_appearance_no  \\\n0               Vest top  Garment Upper body                  1010016   \n1               Vest top  Garment Upper body                  1010016   \n2               Vest top  Garment Upper body                  1010017   \n3                    Bra           Underwear                  1010016   \n4                    Bra           Underwear                  1010016   \n...                  ...                 ...                      ...   \n105537             Socks      Socks & Tights                  1010014   \n105538          Vest top  Garment Upper body                  1010016   \n105539             Dress   Garment Full body                  1010016   \n105540         Hair clip         Accessories                  1010016   \n105541             Dress   Garment Full body                  1010016   \n\n       graphical_appearance_name  colour_group_code colour_group_name  ...  \\\n0                          Solid                  9             Black  ...   \n1                          Solid                 10             White  ...   \n2                         Stripe                 11         Off White  ...   \n3                          Solid                  9             Black  ...   \n4                          Solid                 10             White  ...   \n...                          ...                ...               ...  ...   \n105537           Placement print                  9             Black  ...   \n105538                     Solid                  9             Black  ...   \n105539                     Solid                  9             Black  ...   \n105540                     Solid                  9             Black  ...   \n105541                     Solid                 11         Off White  ...   \n\n          department_name index_code        index_name index_group_no  \\\n0            Jersey Basic          A        Ladieswear              1   \n1            Jersey Basic          A        Ladieswear              1   \n2            Jersey Basic          A        Ladieswear              1   \n3          Clean Lingerie          B  Lingeries/Tights              1   \n4          Clean Lingerie          B  Lingeries/Tights              1   \n...                   ...        ...               ...            ...   \n105537          Socks Bin          F          Menswear              3   \n105538             Jersey          A        Ladieswear              1   \n105539             Jersey          A        Ladieswear              1   \n105540  Small Accessories          D           Divided              2   \n105541             Jersey          A        Ladieswear              1   \n\n        index_group_name section_no            section_name garment_group_no  \\\n0             Ladieswear         16  Womens Everyday Basics             1002   \n1             Ladieswear         16  Womens Everyday Basics             1002   \n2             Ladieswear         16  Womens Everyday Basics             1002   \n3             Ladieswear         61         Womens Lingerie             1017   \n4             Ladieswear         61         Womens Lingerie             1017   \n...                  ...        ...                     ...              ...   \n105537          Menswear         26           Men Underwear             1021   \n105538        Ladieswear          2                    H&M+             1005   \n105539        Ladieswear         18            Womens Trend             1005   \n105540           Divided         52     Divided Accessories             1019   \n105541        Ladieswear         18            Womens Trend             1005   \n\n        garment_group_name                                        detail_desc  \n0             Jersey Basic            Jersey top with narrow shoulder straps.  \n1             Jersey Basic            Jersey top with narrow shoulder straps.  \n2             Jersey Basic            Jersey top with narrow shoulder straps.  \n3        Under-, Nightwear  Microfibre T-shirt bra with underwired, moulde...  \n4        Under-, Nightwear  Microfibre T-shirt bra with underwired, moulde...  \n...                    ...                                                ...  \n105537    Socks and Tights  Socks in a fine-knit cotton blend with a small...  \n105538        Jersey Fancy  Loose-fitting sports vest top in ribbed fast-d...  \n105539        Jersey Fancy  Short, A-line dress in jersey with a round nec...  \n105540         Accessories                           Large plastic hair claw.  \n105541        Jersey Fancy  Calf-length dress in ribbed jersey made from a...  \n\n[105542 rows x 25 columns]",
      "text/html": "<div>\n<style scoped>\n    .dataframe tbody tr th:only-of-type {\n        vertical-align: middle;\n    }\n\n    .dataframe tbody tr th {\n        vertical-align: top;\n    }\n\n    .dataframe thead th {\n        text-align: right;\n    }\n</style>\n<table border=\"1\" class=\"dataframe\">\n  <thead>\n    <tr style=\"text-align: right;\">\n      <th></th>\n      <th>article_id</th>\n      <th>product_code</th>\n      <th>prod_name</th>\n      <th>product_type_no</th>\n      <th>product_type_name</th>\n      <th>product_group_name</th>\n      <th>graphical_appearance_no</th>\n      <th>graphical_appearance_name</th>\n      <th>colour_group_code</th>\n      <th>colour_group_name</th>\n      <th>...</th>\n      <th>department_name</th>\n      <th>index_code</th>\n      <th>index_name</th>\n      <th>index_group_no</th>\n      <th>index_group_name</th>\n      <th>section_no</th>\n      <th>section_name</th>\n      <th>garment_group_no</th>\n      <th>garment_group_name</th>\n      <th>detail_desc</th>\n    </tr>\n  </thead>\n  <tbody>\n    <tr>\n      <th>0</th>\n      <td>0108775015</td>\n      <td>108775</td>\n      <td>Strap top</td>\n      <td>253</td>\n      <td>Vest top</td>\n      <td>Garment Upper body</td>\n      <td>1010016</td>\n      <td>Solid</td>\n      <td>9</td>\n      <td>Black</td>\n      <td>...</td>\n      <td>Jersey Basic</td>\n      <td>A</td>\n      <td>Ladieswear</td>\n      <td>1</td>\n      <td>Ladieswear</td>\n      <td>16</td>\n      <td>Womens Everyday Basics</td>\n      <td>1002</td>\n      <td>Jersey Basic</td>\n      <td>Jersey top with narrow shoulder straps.</td>\n    </tr>\n    <tr>\n      <th>1</th>\n      <td>0108775044</td>\n      <td>108775</td>\n      <td>Strap top</td>\n      <td>253</td>\n      <td>Vest top</td>\n      <td>Garment Upper body</td>\n      <td>1010016</td>\n      <td>Solid</td>\n      <td>10</td>\n      <td>White</td>\n      <td>...</td>\n      <td>Jersey Basic</td>\n      <td>A</td>\n      <td>Ladieswear</td>\n      <td>1</td>\n      <td>Ladieswear</td>\n      <td>16</td>\n      <td>Womens Everyday Basics</td>\n      <td>1002</td>\n      <td>Jersey Basic</td>\n      <td>Jersey top with narrow shoulder straps.</td>\n    </tr>\n    <tr>\n      <th>2</th>\n      <td>0108775051</td>\n      <td>108775</td>\n      <td>Strap top (1)</td>\n      <td>253</td>\n      <td>Vest top</td>\n      <td>Garment Upper body</td>\n      <td>1010017</td>\n      <td>Stripe</td>\n      <td>11</td>\n      <td>Off White</td>\n      <td>...</td>\n      <td>Jersey Basic</td>\n      <td>A</td>\n      <td>Ladieswear</td>\n      <td>1</td>\n      <td>Ladieswear</td>\n      <td>16</td>\n      <td>Womens Everyday Basics</td>\n      <td>1002</td>\n      <td>Jersey Basic</td>\n      <td>Jersey top with narrow shoulder straps.</td>\n    </tr>\n    <tr>\n      <th>3</th>\n      <td>0110065001</td>\n      <td>110065</td>\n      <td>OP T-shirt (Idro)</td>\n      <td>306</td>\n      <td>Bra</td>\n      <td>Underwear</td>\n      <td>1010016</td>\n      <td>Solid</td>\n      <td>9</td>\n      <td>Black</td>\n      <td>...</td>\n      <td>Clean Lingerie</td>\n      <td>B</td>\n      <td>Lingeries/Tights</td>\n      <td>1</td>\n      <td>Ladieswear</td>\n      <td>61</td>\n      <td>Womens Lingerie</td>\n      <td>1017</td>\n      <td>Under-, Nightwear</td>\n      <td>Microfibre T-shirt bra with underwired, moulde...</td>\n    </tr>\n    <tr>\n      <th>4</th>\n      <td>0110065002</td>\n      <td>110065</td>\n      <td>OP T-shirt (Idro)</td>\n      <td>306</td>\n      <td>Bra</td>\n      <td>Underwear</td>\n      <td>1010016</td>\n      <td>Solid</td>\n      <td>10</td>\n      <td>White</td>\n      <td>...</td>\n      <td>Clean Lingerie</td>\n      <td>B</td>\n      <td>Lingeries/Tights</td>\n      <td>1</td>\n      <td>Ladieswear</td>\n      <td>61</td>\n      <td>Womens Lingerie</td>\n      <td>1017</td>\n      <td>Under-, Nightwear</td>\n      <td>Microfibre T-shirt bra with underwired, moulde...</td>\n    </tr>\n    <tr>\n      <th>...</th>\n      <td>...</td>\n      <td>...</td>\n      <td>...</td>\n      <td>...</td>\n      <td>...</td>\n      <td>...</td>\n      <td>...</td>\n      <td>...</td>\n      <td>...</td>\n      <td>...</td>\n      <td>...</td>\n      <td>...</td>\n      <td>...</td>\n      <td>...</td>\n      <td>...</td>\n      <td>...</td>\n      <td>...</td>\n      <td>...</td>\n      <td>...</td>\n      <td>...</td>\n      <td>...</td>\n    </tr>\n    <tr>\n      <th>105537</th>\n      <td>0953450001</td>\n      <td>953450</td>\n      <td>5pk regular Placement1</td>\n      <td>302</td>\n      <td>Socks</td>\n      <td>Socks &amp; Tights</td>\n      <td>1010014</td>\n      <td>Placement print</td>\n      <td>9</td>\n      <td>Black</td>\n      <td>...</td>\n      <td>Socks Bin</td>\n      <td>F</td>\n      <td>Menswear</td>\n      <td>3</td>\n      <td>Menswear</td>\n      <td>26</td>\n      <td>Men Underwear</td>\n      <td>1021</td>\n      <td>Socks and Tights</td>\n      <td>Socks in a fine-knit cotton blend with a small...</td>\n    </tr>\n    <tr>\n      <th>105538</th>\n      <td>0953763001</td>\n      <td>953763</td>\n      <td>SPORT Malaga tank</td>\n      <td>253</td>\n      <td>Vest top</td>\n      <td>Garment Upper body</td>\n      <td>1010016</td>\n      <td>Solid</td>\n      <td>9</td>\n      <td>Black</td>\n      <td>...</td>\n      <td>Jersey</td>\n      <td>A</td>\n      <td>Ladieswear</td>\n      <td>1</td>\n      <td>Ladieswear</td>\n      <td>2</td>\n      <td>H&amp;M+</td>\n      <td>1005</td>\n      <td>Jersey Fancy</td>\n      <td>Loose-fitting sports vest top in ribbed fast-d...</td>\n    </tr>\n    <tr>\n      <th>105539</th>\n      <td>0956217002</td>\n      <td>956217</td>\n      <td>Cartwheel dress</td>\n      <td>265</td>\n      <td>Dress</td>\n      <td>Garment Full body</td>\n      <td>1010016</td>\n      <td>Solid</td>\n      <td>9</td>\n      <td>Black</td>\n      <td>...</td>\n      <td>Jersey</td>\n      <td>A</td>\n      <td>Ladieswear</td>\n      <td>1</td>\n      <td>Ladieswear</td>\n      <td>18</td>\n      <td>Womens Trend</td>\n      <td>1005</td>\n      <td>Jersey Fancy</td>\n      <td>Short, A-line dress in jersey with a round nec...</td>\n    </tr>\n    <tr>\n      <th>105540</th>\n      <td>0957375001</td>\n      <td>957375</td>\n      <td>CLAIRE HAIR CLAW</td>\n      <td>72</td>\n      <td>Hair clip</td>\n      <td>Accessories</td>\n      <td>1010016</td>\n      <td>Solid</td>\n      <td>9</td>\n      <td>Black</td>\n      <td>...</td>\n      <td>Small Accessories</td>\n      <td>D</td>\n      <td>Divided</td>\n      <td>2</td>\n      <td>Divided</td>\n      <td>52</td>\n      <td>Divided Accessories</td>\n      <td>1019</td>\n      <td>Accessories</td>\n      <td>Large plastic hair claw.</td>\n    </tr>\n    <tr>\n      <th>105541</th>\n      <td>0959461001</td>\n      <td>959461</td>\n      <td>Lounge dress</td>\n      <td>265</td>\n      <td>Dress</td>\n      <td>Garment Full body</td>\n      <td>1010016</td>\n      <td>Solid</td>\n      <td>11</td>\n      <td>Off White</td>\n      <td>...</td>\n      <td>Jersey</td>\n      <td>A</td>\n      <td>Ladieswear</td>\n      <td>1</td>\n      <td>Ladieswear</td>\n      <td>18</td>\n      <td>Womens Trend</td>\n      <td>1005</td>\n      <td>Jersey Fancy</td>\n      <td>Calf-length dress in ribbed jersey made from a...</td>\n    </tr>\n  </tbody>\n</table>\n<p>105542 rows × 25 columns</p>\n</div>"
     },
     "execution_count": 10,
     "metadata": {},
     "output_type": "execute_result"
    }
   ],
   "source": [
    "dfi"
   ],
   "metadata": {
    "collapsed": false,
    "pycharm": {
     "name": "#%%\n"
    }
   }
  },
  {
   "cell_type": "code",
   "execution_count": 11,
   "outputs": [
    {
     "data": {
      "text/plain": "                                               customer_id   FN  Active  \\\n0        00000dbacae5abe5e23885899a1fa44253a17956c6d1c3...  NaN     NaN   \n1        0000423b00ade91418cceaf3b26c6af3dd342b51fd051e...  NaN     NaN   \n2        000058a12d5b43e67d225668fa1f8d618c13dc232df0ca...  NaN     NaN   \n3        00005ca1c9ed5f5146b52ac8639a40ca9d57aeff4d1bd2...  NaN     NaN   \n4        00006413d8573cd20ed7128e53b7b13819fe5cfc2d801f...  1.0     1.0   \n...                                                    ...  ...     ...   \n1371975  ffffbbf78b6eaac697a8a5dfbfd2bfa8113ee5b403e474...  NaN     NaN   \n1371976  ffffcd5046a6143d29a04fb8c424ce494a76e5cdf4fab5...  NaN     NaN   \n1371977  ffffcf35913a0bee60e8741cb2b4e78b8a98ee5ff2e6a1...  1.0     1.0   \n1371978  ffffd7744cebcf3aca44ae7049d2a94b87074c3d4ffe38...  1.0     1.0   \n1371979  ffffd9ac14e89946416d80e791d064701994755c3ab686...  NaN     NaN   \n\n        club_member_status fashion_news_frequency   age  \\\n0                   ACTIVE                   NONE  49.0   \n1                   ACTIVE                   NONE  25.0   \n2                   ACTIVE                   NONE  24.0   \n3                   ACTIVE                   NONE  54.0   \n4                   ACTIVE              Regularly  52.0   \n...                    ...                    ...   ...   \n1371975             ACTIVE                   NONE  24.0   \n1371976             ACTIVE                   NONE  21.0   \n1371977             ACTIVE              Regularly  21.0   \n1371978             ACTIVE              Regularly  18.0   \n1371979         PRE-CREATE                   NONE  65.0   \n\n                                               postal_code  \n0        52043ee2162cf5aa7ee79974281641c6f11a68d276429a...  \n1        2973abc54daa8a5f8ccfe9362140c63247c5eee03f1d93...  \n2        64f17e6a330a85798e4998f62d0930d14db8db1c054af6...  \n3        5d36574f52495e81f019b680c843c443bd343d5ca5b1c2...  \n4        25fa5ddee9aac01b35208d01736e57942317d756b32ddd...  \n...                                                    ...  \n1371975  7aa399f7e669990daba2d92c577b52237380662f36480b...  \n1371976  3f47f1279beb72215f4de557d950e0bfa73789d24acb5e...  \n1371977  4563fc79215672cd6a863f2b4bf56b8f898f2d96ed590e...  \n1371978  8892c18e9bc3dca6aa4000cb8094fc4b51ee8db2ed14d7...  \n1371979  0a1a03306fb2f62164c2a439b38c0caa64b40deaae8687...  \n\n[1371980 rows x 7 columns]",
      "text/html": "<div>\n<style scoped>\n    .dataframe tbody tr th:only-of-type {\n        vertical-align: middle;\n    }\n\n    .dataframe tbody tr th {\n        vertical-align: top;\n    }\n\n    .dataframe thead th {\n        text-align: right;\n    }\n</style>\n<table border=\"1\" class=\"dataframe\">\n  <thead>\n    <tr style=\"text-align: right;\">\n      <th></th>\n      <th>customer_id</th>\n      <th>FN</th>\n      <th>Active</th>\n      <th>club_member_status</th>\n      <th>fashion_news_frequency</th>\n      <th>age</th>\n      <th>postal_code</th>\n    </tr>\n  </thead>\n  <tbody>\n    <tr>\n      <th>0</th>\n      <td>00000dbacae5abe5e23885899a1fa44253a17956c6d1c3...</td>\n      <td>NaN</td>\n      <td>NaN</td>\n      <td>ACTIVE</td>\n      <td>NONE</td>\n      <td>49.0</td>\n      <td>52043ee2162cf5aa7ee79974281641c6f11a68d276429a...</td>\n    </tr>\n    <tr>\n      <th>1</th>\n      <td>0000423b00ade91418cceaf3b26c6af3dd342b51fd051e...</td>\n      <td>NaN</td>\n      <td>NaN</td>\n      <td>ACTIVE</td>\n      <td>NONE</td>\n      <td>25.0</td>\n      <td>2973abc54daa8a5f8ccfe9362140c63247c5eee03f1d93...</td>\n    </tr>\n    <tr>\n      <th>2</th>\n      <td>000058a12d5b43e67d225668fa1f8d618c13dc232df0ca...</td>\n      <td>NaN</td>\n      <td>NaN</td>\n      <td>ACTIVE</td>\n      <td>NONE</td>\n      <td>24.0</td>\n      <td>64f17e6a330a85798e4998f62d0930d14db8db1c054af6...</td>\n    </tr>\n    <tr>\n      <th>3</th>\n      <td>00005ca1c9ed5f5146b52ac8639a40ca9d57aeff4d1bd2...</td>\n      <td>NaN</td>\n      <td>NaN</td>\n      <td>ACTIVE</td>\n      <td>NONE</td>\n      <td>54.0</td>\n      <td>5d36574f52495e81f019b680c843c443bd343d5ca5b1c2...</td>\n    </tr>\n    <tr>\n      <th>4</th>\n      <td>00006413d8573cd20ed7128e53b7b13819fe5cfc2d801f...</td>\n      <td>1.0</td>\n      <td>1.0</td>\n      <td>ACTIVE</td>\n      <td>Regularly</td>\n      <td>52.0</td>\n      <td>25fa5ddee9aac01b35208d01736e57942317d756b32ddd...</td>\n    </tr>\n    <tr>\n      <th>...</th>\n      <td>...</td>\n      <td>...</td>\n      <td>...</td>\n      <td>...</td>\n      <td>...</td>\n      <td>...</td>\n      <td>...</td>\n    </tr>\n    <tr>\n      <th>1371975</th>\n      <td>ffffbbf78b6eaac697a8a5dfbfd2bfa8113ee5b403e474...</td>\n      <td>NaN</td>\n      <td>NaN</td>\n      <td>ACTIVE</td>\n      <td>NONE</td>\n      <td>24.0</td>\n      <td>7aa399f7e669990daba2d92c577b52237380662f36480b...</td>\n    </tr>\n    <tr>\n      <th>1371976</th>\n      <td>ffffcd5046a6143d29a04fb8c424ce494a76e5cdf4fab5...</td>\n      <td>NaN</td>\n      <td>NaN</td>\n      <td>ACTIVE</td>\n      <td>NONE</td>\n      <td>21.0</td>\n      <td>3f47f1279beb72215f4de557d950e0bfa73789d24acb5e...</td>\n    </tr>\n    <tr>\n      <th>1371977</th>\n      <td>ffffcf35913a0bee60e8741cb2b4e78b8a98ee5ff2e6a1...</td>\n      <td>1.0</td>\n      <td>1.0</td>\n      <td>ACTIVE</td>\n      <td>Regularly</td>\n      <td>21.0</td>\n      <td>4563fc79215672cd6a863f2b4bf56b8f898f2d96ed590e...</td>\n    </tr>\n    <tr>\n      <th>1371978</th>\n      <td>ffffd7744cebcf3aca44ae7049d2a94b87074c3d4ffe38...</td>\n      <td>1.0</td>\n      <td>1.0</td>\n      <td>ACTIVE</td>\n      <td>Regularly</td>\n      <td>18.0</td>\n      <td>8892c18e9bc3dca6aa4000cb8094fc4b51ee8db2ed14d7...</td>\n    </tr>\n    <tr>\n      <th>1371979</th>\n      <td>ffffd9ac14e89946416d80e791d064701994755c3ab686...</td>\n      <td>NaN</td>\n      <td>NaN</td>\n      <td>PRE-CREATE</td>\n      <td>NONE</td>\n      <td>65.0</td>\n      <td>0a1a03306fb2f62164c2a439b38c0caa64b40deaae8687...</td>\n    </tr>\n  </tbody>\n</table>\n<p>1371980 rows × 7 columns</p>\n</div>"
     },
     "execution_count": 11,
     "metadata": {},
     "output_type": "execute_result"
    }
   ],
   "source": [
    "dfu"
   ],
   "metadata": {
    "collapsed": false,
    "pycharm": {
     "name": "#%%\n"
    }
   }
  },
  {
   "cell_type": "code",
   "execution_count": null,
   "outputs": [],
   "source": [
    "df.t_dat = pd.to_datetime(df.t_dat)\n",
    "df = df[['t_dat','customer_id','article_id']]\n",
    "print(df.shape)\n",
    "df.head()\n",
    "# Find Each Customer's Last Week of Purchases"
   ],
   "metadata": {
    "collapsed": false,
    "pycharm": {
     "name": "#%%\n"
    }
   }
  },
  {
   "cell_type": "code",
   "execution_count": 92,
   "outputs": [
    {
     "data": {
      "text/plain": "            t_dat          customer_id  article_id\n196442 2018-09-24  4807831066164705350   618480001\n175867 2018-09-24 -4767130151449159669   680374002\n60518  2018-09-21 -2936678038598836257   456163028\n177445 2018-09-24 -8784462010106267426   516000001\n49587  2018-09-21  -770382745269162367   554772002\n...           ...                  ...         ...\n48392  2018-09-20 -4545975550442162194   671513003\n48393  2018-09-20 -4545975550442162194   680186002\n48394  2018-09-20 -4545975550442162194   679121002\n48395  2018-09-20 -4545975550442162194   638642002\n48398  2018-09-20 -8286316756823862684   568597019\n\n[268263 rows x 3 columns]",
      "text/html": "<div>\n<style scoped>\n    .dataframe tbody tr th:only-of-type {\n        vertical-align: middle;\n    }\n\n    .dataframe tbody tr th {\n        vertical-align: top;\n    }\n\n    .dataframe thead th {\n        text-align: right;\n    }\n</style>\n<table border=\"1\" class=\"dataframe\">\n  <thead>\n    <tr style=\"text-align: right;\">\n      <th></th>\n      <th>t_dat</th>\n      <th>customer_id</th>\n      <th>article_id</th>\n    </tr>\n  </thead>\n  <tbody>\n    <tr>\n      <th>196442</th>\n      <td>2018-09-24</td>\n      <td>4807831066164705350</td>\n      <td>618480001</td>\n    </tr>\n    <tr>\n      <th>175867</th>\n      <td>2018-09-24</td>\n      <td>-4767130151449159669</td>\n      <td>680374002</td>\n    </tr>\n    <tr>\n      <th>60518</th>\n      <td>2018-09-21</td>\n      <td>-2936678038598836257</td>\n      <td>456163028</td>\n    </tr>\n    <tr>\n      <th>177445</th>\n      <td>2018-09-24</td>\n      <td>-8784462010106267426</td>\n      <td>516000001</td>\n    </tr>\n    <tr>\n      <th>49587</th>\n      <td>2018-09-21</td>\n      <td>-770382745269162367</td>\n      <td>554772002</td>\n    </tr>\n    <tr>\n      <th>...</th>\n      <td>...</td>\n      <td>...</td>\n      <td>...</td>\n    </tr>\n    <tr>\n      <th>48392</th>\n      <td>2018-09-20</td>\n      <td>-4545975550442162194</td>\n      <td>671513003</td>\n    </tr>\n    <tr>\n      <th>48393</th>\n      <td>2018-09-20</td>\n      <td>-4545975550442162194</td>\n      <td>680186002</td>\n    </tr>\n    <tr>\n      <th>48394</th>\n      <td>2018-09-20</td>\n      <td>-4545975550442162194</td>\n      <td>679121002</td>\n    </tr>\n    <tr>\n      <th>48395</th>\n      <td>2018-09-20</td>\n      <td>-4545975550442162194</td>\n      <td>638642002</td>\n    </tr>\n    <tr>\n      <th>48398</th>\n      <td>2018-09-20</td>\n      <td>-8286316756823862684</td>\n      <td>568597019</td>\n    </tr>\n  </tbody>\n</table>\n<p>268263 rows × 3 columns</p>\n</div>"
     },
     "execution_count": 92,
     "metadata": {},
     "output_type": "execute_result"
    }
   ],
   "source": [],
   "metadata": {
    "collapsed": false,
    "pycharm": {
     "name": "#%%\n"
    }
   }
  },
  {
   "cell_type": "code",
   "execution_count": 102,
   "outputs": [],
   "source": [
    "tmp = df.groupby('customer_id').t_dat.max().reset_index()\n",
    "tmp.columns =['customer_id', 'max_dat']"
   ],
   "metadata": {
    "collapsed": false,
    "pycharm": {
     "name": "#%%\n"
    }
   }
  },
  {
   "cell_type": "code",
   "execution_count": 103,
   "outputs": [
    {
     "data": {
      "text/plain": "            t_dat          customer_id     article_id     price  \\\n0      2018-09-20    -6846340800584936   0 0663713001  0.050831   \n1      2018-09-20    -6846340800584936   0 0541518023  0.030492   \n2      2018-09-20 -8334631767138808638   0 0505221004  0.015237   \n3      2018-09-20 -8334631767138808638   0 0685687003  0.016932   \n4      2018-09-20 -8334631767138808638   0 0685687004  0.016932   \n...           ...                  ...            ...       ...   \n299995 2018-09-26  4326589547904435732   0 0591334001  0.016932   \n299996 2018-09-26  4326589547904435732   0 0591334001  0.016932   \n299997 2018-09-26  4326589547904435732   0 0662857002  0.042356   \n299998 2018-09-26  4326589547904435732   0 0662857002  0.042356   \n299999 2018-09-26  1116150539881112980   0 0682267002  0.050831   \n\n        sales_channel_id  \n0                      2  \n1                      2  \n2                      2  \n3                      2  \n4                      2  \n...                  ...  \n299995                 2  \n299996                 2  \n299997                 2  \n299998                 2  \n299999                 2  \n\n[300000 rows x 5 columns]",
      "text/html": "<div>\n<style scoped>\n    .dataframe tbody tr th:only-of-type {\n        vertical-align: middle;\n    }\n\n    .dataframe tbody tr th {\n        vertical-align: top;\n    }\n\n    .dataframe thead th {\n        text-align: right;\n    }\n</style>\n<table border=\"1\" class=\"dataframe\">\n  <thead>\n    <tr style=\"text-align: right;\">\n      <th></th>\n      <th>t_dat</th>\n      <th>customer_id</th>\n      <th>article_id</th>\n      <th>price</th>\n      <th>sales_channel_id</th>\n    </tr>\n  </thead>\n  <tbody>\n    <tr>\n      <th>0</th>\n      <td>2018-09-20</td>\n      <td>-6846340800584936</td>\n      <td>0 0663713001</td>\n      <td>0.050831</td>\n      <td>2</td>\n    </tr>\n    <tr>\n      <th>1</th>\n      <td>2018-09-20</td>\n      <td>-6846340800584936</td>\n      <td>0 0541518023</td>\n      <td>0.030492</td>\n      <td>2</td>\n    </tr>\n    <tr>\n      <th>2</th>\n      <td>2018-09-20</td>\n      <td>-8334631767138808638</td>\n      <td>0 0505221004</td>\n      <td>0.015237</td>\n      <td>2</td>\n    </tr>\n    <tr>\n      <th>3</th>\n      <td>2018-09-20</td>\n      <td>-8334631767138808638</td>\n      <td>0 0685687003</td>\n      <td>0.016932</td>\n      <td>2</td>\n    </tr>\n    <tr>\n      <th>4</th>\n      <td>2018-09-20</td>\n      <td>-8334631767138808638</td>\n      <td>0 0685687004</td>\n      <td>0.016932</td>\n      <td>2</td>\n    </tr>\n    <tr>\n      <th>...</th>\n      <td>...</td>\n      <td>...</td>\n      <td>...</td>\n      <td>...</td>\n      <td>...</td>\n    </tr>\n    <tr>\n      <th>299995</th>\n      <td>2018-09-26</td>\n      <td>4326589547904435732</td>\n      <td>0 0591334001</td>\n      <td>0.016932</td>\n      <td>2</td>\n    </tr>\n    <tr>\n      <th>299996</th>\n      <td>2018-09-26</td>\n      <td>4326589547904435732</td>\n      <td>0 0591334001</td>\n      <td>0.016932</td>\n      <td>2</td>\n    </tr>\n    <tr>\n      <th>299997</th>\n      <td>2018-09-26</td>\n      <td>4326589547904435732</td>\n      <td>0 0662857002</td>\n      <td>0.042356</td>\n      <td>2</td>\n    </tr>\n    <tr>\n      <th>299998</th>\n      <td>2018-09-26</td>\n      <td>4326589547904435732</td>\n      <td>0 0662857002</td>\n      <td>0.042356</td>\n      <td>2</td>\n    </tr>\n    <tr>\n      <th>299999</th>\n      <td>2018-09-26</td>\n      <td>1116150539881112980</td>\n      <td>0 0682267002</td>\n      <td>0.050831</td>\n      <td>2</td>\n    </tr>\n  </tbody>\n</table>\n<p>300000 rows × 5 columns</p>\n</div>"
     },
     "execution_count": 103,
     "metadata": {},
     "output_type": "execute_result"
    }
   ],
   "source": [
    "df"
   ],
   "metadata": {
    "collapsed": false,
    "pycharm": {
     "name": "#%%\n"
    }
   }
  },
  {
   "cell_type": "code",
   "execution_count": 104,
   "outputs": [],
   "source": [
    "df = df.merge(tmp, on ='customer_id' , how='left')"
   ],
   "metadata": {
    "collapsed": false,
    "pycharm": {
     "name": "#%%\n"
    }
   }
  },
  {
   "cell_type": "code",
   "execution_count": 105,
   "outputs": [
    {
     "name": "stdout",
     "output_type": "stream",
     "text": [
      "Train shape:  (300000, 7)\n"
     ]
    }
   ],
   "source": [
    "df['diff_dat'] = (df.max_dat - df.t_dat).dt.days\n",
    "\n",
    "df = df.loc[df['diff_dat']<=6]\n",
    "\n",
    "print('Train shape: ', df.shape)"
   ],
   "metadata": {
    "collapsed": false,
    "pycharm": {
     "name": "#%%\n"
    }
   }
  },
  {
   "cell_type": "code",
   "execution_count": 112,
   "outputs": [],
   "source": [
    "tmp = df.groupby(['customer_id','article_id'])['t_dat'].agg('count').reset_index()\n",
    "\n",
    "\n",
    "tmp.columns = ['customer_id','article_id','ct']\n",
    "\n",
    "df = df.merge(tmp, on=['customer_id','article_id'],how='left')\n",
    "df = df.sort_values(['ct','t_dat'] , ascending=False)\n",
    "df =  df.drop_duplicates(['customer_id','article_id'])\n",
    "df = df.sort_values(['ct','t_dat'], ascending=False)"
   ],
   "metadata": {
    "collapsed": false,
    "pycharm": {
     "name": "#%%\n"
    }
   }
  },
  {
   "cell_type": "code",
   "execution_count": 113,
   "outputs": [
    {
     "data": {
      "text/plain": "        t_dat          customer_id  article_id    max_dat  diff_dat  ct_x  \\\n8  2018-09-26  7618378619196079326   306307002 2018-09-26         0    25   \n11 2018-09-26  6368186744698571317   637255001 2018-09-26         0    23   \n12 2018-09-26 -6881127498538926880   593783005 2018-09-26         0    20   \n22 2018-09-26 -4776960193497363601   708021001 2018-09-26         0    17   \n25 2018-09-26 -3838300659438064485   607834001 2018-09-26         0    15   \n\n    article_id2  ct_y  ct  \n8   573284053.0     1   1  \n11  637255010.0     1   1  \n12  626257004.0     1   1  \n22  634009004.0     1   1  \n25  607834005.0     1   1  ",
      "text/html": "<div>\n<style scoped>\n    .dataframe tbody tr th:only-of-type {\n        vertical-align: middle;\n    }\n\n    .dataframe tbody tr th {\n        vertical-align: top;\n    }\n\n    .dataframe thead th {\n        text-align: right;\n    }\n</style>\n<table border=\"1\" class=\"dataframe\">\n  <thead>\n    <tr style=\"text-align: right;\">\n      <th></th>\n      <th>t_dat</th>\n      <th>customer_id</th>\n      <th>article_id</th>\n      <th>max_dat</th>\n      <th>diff_dat</th>\n      <th>ct_x</th>\n      <th>article_id2</th>\n      <th>ct_y</th>\n      <th>ct</th>\n    </tr>\n  </thead>\n  <tbody>\n    <tr>\n      <th>8</th>\n      <td>2018-09-26</td>\n      <td>7618378619196079326</td>\n      <td>306307002</td>\n      <td>2018-09-26</td>\n      <td>0</td>\n      <td>25</td>\n      <td>573284053.0</td>\n      <td>1</td>\n      <td>1</td>\n    </tr>\n    <tr>\n      <th>11</th>\n      <td>2018-09-26</td>\n      <td>6368186744698571317</td>\n      <td>637255001</td>\n      <td>2018-09-26</td>\n      <td>0</td>\n      <td>23</td>\n      <td>637255010.0</td>\n      <td>1</td>\n      <td>1</td>\n    </tr>\n    <tr>\n      <th>12</th>\n      <td>2018-09-26</td>\n      <td>-6881127498538926880</td>\n      <td>593783005</td>\n      <td>2018-09-26</td>\n      <td>0</td>\n      <td>20</td>\n      <td>626257004.0</td>\n      <td>1</td>\n      <td>1</td>\n    </tr>\n    <tr>\n      <th>22</th>\n      <td>2018-09-26</td>\n      <td>-4776960193497363601</td>\n      <td>708021001</td>\n      <td>2018-09-26</td>\n      <td>0</td>\n      <td>17</td>\n      <td>634009004.0</td>\n      <td>1</td>\n      <td>1</td>\n    </tr>\n    <tr>\n      <th>25</th>\n      <td>2018-09-26</td>\n      <td>-3838300659438064485</td>\n      <td>607834001</td>\n      <td>2018-09-26</td>\n      <td>0</td>\n      <td>15</td>\n      <td>607834005.0</td>\n      <td>1</td>\n      <td>1</td>\n    </tr>\n  </tbody>\n</table>\n</div>"
     },
     "execution_count": 113,
     "metadata": {},
     "output_type": "execute_result"
    }
   ],
   "source": [
    "#df_ = pd.read_csv(csv_train, dtype={'article_id': str}, parse_dates=['t_dat'], nrows=300000)\n",
    "#df_['customer_id']=  df_['customer_id'].apply(lambda x :  int( x[-16:],16))\n",
    "#df_[df_.customer_id ==4807831066164705350]\n",
    "\n",
    "df.head()"
   ],
   "metadata": {
    "collapsed": false,
    "pycharm": {
     "name": "#%%\n"
    }
   }
  },
  {
   "cell_type": "code",
   "execution_count": 104,
   "outputs": [
    {
     "name": "stdout",
     "output_type": "stream",
     "text": [
      "0 , 10 , 20 , 30 , 40 , 50 , 60 , 70 , 80 , 90 , 100 , 110 , 120 , 130 , 140 , 150 , 160 , 170 , 180 , 190 , 200 , 210 , 220 , 230 , 240 , 250 , 260 , 270 , 280 , 290 , 300 , 310 , 320 , 330 , 340 , 350 , 360 , 370 , 380 , 390 , 400 , 410 , 420 , 430 , 440 , 450 , 460 , 470 , 480 , 490 , 500 , 510 , 520 , 530 , 540 , 550 , 560 , 570 , 580 , 590 , 600 , 610 , 620 , 630 , 640 , 650 , 660 , 670 , 680 , 690 , 700 , 710 , 720 , 730 , 740 , 750 , 760 , 770 , 780 , 790 , 800 , 810 , 820 , 830 , 840 , 850 , 860 , 870 , 880 , 890 , 900 , 910 , 920 , 930 , 940 , 950 , 960 , 970 , 980 , 990 , 1000 , 1010 , 1020 , 1030 , 1040 , 1050 , 1060 , 1070 , 1080 , 1090 , 1100 , 1110 , 1120 , 1130 , 1140 , 1150 , 1160 , 1170 , 1180 , 1190 , 1200 , 1210 , 1220 , 1230 , 1240 , 1250 , 1260 , 1270 , 1280 , 1290 , 1300 , 1310 , 1320 , 1330 , 1340 , 1350 , 1360 , 1370 , 1380 , 1390 , 1400 , 1410 , 1420 , 1430 , 1440 , 1450 , 1460 , 1470 , 1480 , 1490 , 1500 , 1510 , 1520 , 1530 , 1540 , 1550 , 1560 , 1570 , 1580 , 1590 , 1600 , 1610 , 1620 , 1630 , 1640 , 1650 , 1660 , 1670 , 1680 , 1690 , 1700 , 1710 , 1720 , 1730 , 1740 , 1750 , 1760 , 1770 , 1780 , 1790 , 1800 , 1810 , 1820 , 1830 , 1840 , 1850 , 1860 , 1870 , 1880 , 1890 , 1900 , 1910 , 1920 , 1930 , 1940 , 1950 , 1960 , 1970 , 1980 , 1990 , 2000 , 2010 , 2020 , 2030 , 2040 , 2050 , 2060 , 2070 , 2080 , 2090 , 2100 , 2110 , 2120 , 2130 , 2140 , 2150 , 2160 , 2170 , 2180 , 2190 , 2200 , 2210 , 2220 , 2230 , 2240 , 2250 , 2260 , 2270 , 2280 , 2290 , 2300 , 2310 , 2320 , 2330 , 2340 , 2350 , 2360 , 2370 , 2380 , 2390 , 2400 , 2410 , 2420 , 2430 , 2440 , 2450 , 2460 , 2470 , 2480 , 2490 , 2500 , 2510 , 2520 , 2530 , 2540 , 2550 , 2560 , 2570 , 2580 , 2590 , 2600 , 2610 , 2620 , 2630 , 2640 , 2650 , 2660 , 2670 , 2680 , 2690 , 2700 , 2710 , 2720 , 2730 , 2740 , 2750 , 2760 , 2770 , 2780 , 2790 , 2800 , 2810 , 2820 , 2830 , 2840 , 2850 , 2860 , 2870 , 2880 , 2890 , 2900 , 2910 , 2920 , 2930 , 2940 , 2950 , 2960 , 2970 , 2980 , 2990 , 3000 , 3010 , 3020 , 3030 , 3040 , 3050 , 3060 , 3070 , 3080 , 3090 , 3100 , 3110 , 3120 , 3130 , 3140 , 3150 , 3160 , 3170 , 3180 , 3190 , 3200 , 3210 , 3220 , 3230 , 3240 , 3250 , 3260 , 3270 , 3280 , 3290 , 3300 , 3310 , 3320 , 3330 , 3340 , 3350 , 3360 , 3370 , 3380 , 3390 , 3400 , 3410 , 3420 , 3430 , 3440 , 3450 , 3460 , 3470 , 3480 , 3490 , 3500 , 3510 , 3520 , 3530 , 3540 , 3550 , 3560 , 3570 , 3580 , 3590 , 3600 , 3610 , 3620 , 3630 , 3640 , 3650 , 3660 , 3670 , 3680 , 3690 , 3700 , 3710 , 3720 , 3730 , 3740 , 3750 , 3760 , 3770 , 3780 , 3790 , 3800 , 3810 , 3820 , 3830 , 3840 , 3850 , 3860 , 3870 , 3880 , 3890 , 3900 , 3910 , 3920 , 3930 , 3940 , 3950 , 3960 , 3970 , 3980 , 3990 , 4000 , 4010 , 4020 , 4030 , 4040 , 4050 , 4060 , 4070 , 4080 , 4090 , 4100 , 4110 , 4120 , 4130 , 4140 , 4150 , 4160 , 4170 , 4180 , 4190 , 4200 , 4210 , 4220 , 4230 , 4240 , 4250 , 4260 , 4270 , 4280 , 4290 , 4300 , 4310 , 4320 , 4330 , 4340 , 4350 , 4360 , 4370 , 4380 , 4390 , 4400 , 4410 , 4420 , 4430 , 4440 , 4450 , 4460 , 4470 , 4480 , 4490 , 4500 , 4510 , 4520 , 4530 , 4540 , 4550 , 4560 , 4570 , 4580 , 4590 , 4600 , 4610 , 4620 , 4630 , 4640 , 4650 , 4660 , 4670 , 4680 , 4690 , 4700 , 4710 , 4720 , 4730 , 4740 , 4750 , 4760 , 4770 , 4780 , 4790 , 4800 , 4810 , 4820 , 4830 , 4840 , 4850 , 4860 , 4870 , 4880 , 4890 , 4900 , 4910 , 4920 , 4930 , 4940 , 4950 , 4960 , 4970 , 4980 , 4990 , 5000 , 5010 , 5020 , 5030 , 5040 , 5050 , 5060 , 5070 , 5080 , 5090 , 5100 , 5110 , 5120 , 5130 , 5140 , 5150 , 5160 , 5170 , 5180 , 5190 , 5200 , 5210 , 5220 , 5230 , 5240 , 5250 , 5260 , 5270 , 5280 , 5290 , 5300 , 5310 , 5320 , 5330 , 5340 , 5350 , 5360 , 5370 , 5380 , 5390 , 5400 , 5410 , 5420 , 5430 , 5440 , 5450 , 5460 , 5470 , 5480 , 5490 , 5500 , 5510 , 5520 , 5530 , 5540 , 5550 , 5560 , 5570 , 5580 , 5590 , 5600 , 5610 , 5620 , 5630 , 5640 , 5650 , 5660 , 5670 , 5680 , 5690 , 5700 , 5710 , 5720 , 5730 , 5740 , 5750 , 5760 , 5770 , 5780 , 5790 , 5800 , 5810 , 5820 , 5830 , 5840 , 5850 , 5860 , 5870 , 5880 , 5890 , 5900 , 5910 , 5920 , 5930 , 5940 , 5950 , 5960 , 5970 , 5980 , 5990 , 6000 , 6010 , 6020 , 6030 , 6040 , 6050 , 6060 , 6070 , 6080 , 6090 , 6100 , 6110 , 6120 , 6130 , 6140 , 6150 , 6160 , 6170 , 6180 , 6190 , 6200 , 6210 , 6220 , 6230 , 6240 , 6250 , 6260 , 6270 , 6280 , 6290 , 6300 , 6310 , 6320 , 6330 , 6340 , 6350 , 6360 , 6370 , 6380 , 6390 , 6400 , 6410 , 6420 , 6430 , 6440 , 6450 , 6460 , 6470 , 6480 , 6490 , 6500 , 6510 , 6520 , 6530 , 6540 , 6550 , 6560 , 6570 , 6580 , 6590 , 6600 , 6610 , 6620 , 6630 , 6640 , 6650 , 6660 , 6670 , 6680 , 6690 , 6700 , 6710 , 6720 , 6730 , 6740 , 6750 , 6760 , 6770 , 6780 , 6790 , 6800 , 6810 , 6820 , 6830 , 6840 , 6850 , 6860 , 6870 , 6880 , 6890 , 6900 , 6910 , 6920 , 6930 , 6940 , 6950 , 6960 , 6970 , 6980 , 6990 , 7000 , 7010 , 7020 , 7030 , 7040 , 7050 , 7060 , 7070 , 7080 , 7090 , 7100 , 7110 , 7120 , 7130 , 7140 , 7150 , 7160 , 7170 , 7180 , 7190 , 7200 , 7210 , 7220 , 7230 , 7240 , 7250 , 7260 , 7270 , 7280 , 7290 , 7300 , 7310 , 7320 , 7330 , 7340 , 7350 , 7360 , 7370 , 7380 , 7390 , 7400 , 7410 , 7420 , 7430 , 7440 , 7450 , 7460 , 7470 , 7480 , 7490 , 7500 , 7510 , 7520 , 7530 , 7540 , 7550 , 7560 , 7570 , 7580 , 7590 , 7600 , 7610 , 7620 , 7630 , 7640 , 7650 , 7660 , 7670 , 7680 , 7690 , 7700 , 7710 , 7720 , 7730 , 7740 , 7750 , 7760 , 7770 , 7780 , 7790 , 7800 , 7810 , 7820 , 7830 , 7840 , 7850 , 7860 , 7870 , 7880 , 7890 , 7900 , 7910 , 7920 , 7930 , 7940 , 7950 , 7960 , 7970 , 7980 , 7990 , 8000 , 8010 , 8020 , 8030 , 8040 , 8050 , 8060 , 8070 , 8080 , 8090 , 8100 , 8110 , 8120 , 8130 , 8140 , 8150 , 8160 , 8170 , 8180 , 8190 , 8200 , 8210 , 8220 , 8230 , 8240 , 8250 , 8260 , 8270 , 8280 , 8290 , 8300 , 8310 , 8320 , 8330 , 8340 , 8350 , 8360 , 8370 , 8380 , 8390 , 8400 , 8410 , 8420 , 8430 , 8440 , 8450 , 8460 , 8470 , 8480 , 8490 , 8500 , 8510 , 8520 , 8530 , 8540 , 8550 , 8560 , 8570 , 8580 , 8590 , 8600 , 8610 , 8620 , 8630 , 8640 , 8650 , 8660 , 8670 , 8680 , 8690 , 8700 , 8710 , 8720 , 8730 , 8740 , 8750 , 8760 , 8770 , 8780 , 8790 , 8800 , 8810 , 8820 , 8830 , 8840 , 8850 , 8860 , 8870 , 8880 , 8890 , 8900 , 8910 , 8920 , 8930 , 8940 , 8950 , 8960 , 8970 , 8980 , 8990 , 9000 , 9010 , 9020 , 9030 , 9040 , 9050 , 9060 , 9070 , 9080 , 9090 , 9100 , 9110 , 9120 , 9130 , 9140 , 9150 , 9160 , 9170 , 9180 , 9190 , 9200 , 9210 , 9220 , 9230 , 9240 , 9250 , 9260 , 9270 , 9280 , 9290 , 9300 , 9310 , 9320 , 9330 , 9340 , 9350 , 9360 , 9370 , 9380 , 9390 , 9400 , 9410 , 9420 , 9430 , 9440 , 9450 , 9460 , 9470 , 9480 , 9490 , 9500 , 9510 , 9520 , 9530 , 9540 , 9550 , 9560 , 9570 , 9580 , 9590 , 9600 , 9610 , 9620 , 9630 , 9640 , 9650 , 9660 , 9670 , 9680 , 9690 , 9700 , 9710 , 9720 , 9730 , 9740 , 9750 , 9760 , 9770 , 9780 , 9790 , 9800 , 9810 , 9820 , 9830 , 9840 , 9850 , 9860 , 9870 , 9880 , 9890 , 9900 , 9910 , 9920 , 9930 , 9940 , 9950 , 9960 , 9970 , 9980 , 9990 , 10000 , 10010 , 10020 , 10030 , 10040 , 10050 , 10060 , 10070 , 10080 , 10090 , 10100 , 10110 , 10120 , 10130 , 10140 , 10150 , 10160 , 10170 , 10180 , 10190 , 10200 , 10210 , 10220 , 10230 , 10240 , 10250 , 10260 , 10270 , 10280 , 10290 , 10300 , 10310 , 10320 , 10330 , 10340 , 10350 , 10360 , 10370 , 10380 , 10390 , 10400 , 10410 , 10420 , 10430 , 10440 , 10450 , 10460 , 10470 , 10480 , 10490 , 10500 , 10510 , 10520 , 10530 , 10540 , 10550 , 10560 , 10570 , 10580 , 10590 , 10600 , 10610 , 10620 , 10630 , 10640 , 10650 , 10660 , 10670 , 10680 , 10690 , 10700 , 10710 , 10720 , 10730 , 10740 , 10750 , 10760 , 10770 , 10780 , 10790 , 10800 , 10810 , 10820 , 10830 , 10840 , 10850 , 10860 , 10870 , 10880 , 10890 , 10900 , 10910 , 10920 , 10930 , 10940 , 10950 , 10960 , 10970 , 10980 , 10990 , 11000 , 11010 , 11020 , 11030 , 11040 , 11050 , 11060 , 11070 , 11080 , 11090 , 11100 , 11110 , 11120 , 11130 , 11140 , 11150 , 11160 , 11170 , 11180 , 11190 , 11200 , 11210 , 11220 , 11230 , 11240 , 11250 , 11260 , 11270 , 11280 , 11290 , 11300 , 11310 , 11320 , 11330 , 11340 , 11350 , 11360 , 11370 , 11380 , 11390 , 11400 , 11410 , 11420 , 11430 , 11440 , 11450 , 11460 , 11470 , 11480 , 11490 , 11500 , 11510 , 11520 , 11530 , 11540 , 11550 , 11560 , 11570 , 11580 , 11590 , 11600 , 11610 , 11620 , 11630 , 11640 , 11650 , 11660 , 11670 , 11680 , 11690 , 11700 , 11710 , 11720 , 11730 , 11740 , 11750 , 11760 , 11770 , 11780 , 11790 , 11800 , 11810 , 11820 , 11830 , 11840 , 11850 , 11860 , 11870 , 11880 , 11890 , 11900 , 11910 , 11920 , 11930 , 11940 , 11950 , 11960 , 11970 , 11980 , 11990 , 12000 , 12010 , 12020 , 12030 , 12040 , 12050 , 12060 , 12070 , 12080 , 12090 , 12100 , 12110 , 12120 , 12130 , 12140 , 12150 , 12160 , 12170 , 12180 , 12190 , 12200 , 12210 , 12220 , 12230 , 12240 , 12250 , 12260 , 12270 , 12280 , 12290 , 12300 , 12310 , 12320 , 12330 , 12340 , 12350 , 12360 , 12370 , 12380 , 12390 , 12400 , 12410 , 12420 , 12430 , 12440 , 12450 , 12460 , 12470 , 12480 , 12490 , 12500 , 12510 , 12520 , 12530 , 12540 , 12550 , 12560 , 12570 , 12580 , 12590 , 12600 , 12610 , 12620 , 12630 , 12640 , 12650 , 12660 , 12670 , 12680 , 12690 , 12700 , 12710 , 12720 , 12730 , 12740 , 12750 , 12760 , 12770 , 12780 , 12790 , 12800 , 12810 , 12820 , 12830 , 12840 , 12850 , 12860 , 12870 , 12880 , 12890 , 12900 , 12910 , 12920 , 12930 , 12940 , 12950 , 12960 , 12970 , 12980 , 12990 , 13000 , 13010 , 13020 , 13030 , 13040 , 13050 , 13060 , 13070 , 13080 , 13090 , 13100 , 13110 , 13120 , 13130 , 13140 , 13150 , 13160 , 13170 , 13180 , 13190 , 13200 , 13210 , 13220 , 13230 , 13240 , 13250 , 13260 , 13270 , 13280 , 13290 , 13300 , 13310 , 13320 , 13330 , 13340 , 13350 , 13360 , 13370 , 13380 , 13390 , 13400 , 13410 , 13420 , 13430 , 13440 , 13450 , 13460 , 13470 , 13480 , 13490 , 13500 , 13510 , 13520 , 13530 , 13540 , 13550 , 13560 , 13570 , 13580 , 13590 , 13600 , 13610 , 13620 , 13630 , 13640 , 13650 , 13660 , 13670 , 13680 , 13690 , 13700 , 13710 , 13720 , 13730 , 13740 , 13750 , 13760 , 13770 , 13780 , 13790 , 13800 , 13810 , 13820 , 13830 , 13840 , 13850 , 13860 , 13870 , 13880 , 13890 , 13900 , 13910 , 13920 , 13930 , 13940 , 13950 , 13960 , 13970 , 13980 , 13990 , 14000 , 14010 , 14020 , 14030 , 14040 , 14050 , 14060 , 14070 , 14080 , 14090 , 14100 , 14110 , 14120 , 14130 , 14140 , 14150 , 14160 , 14170 , 14180 , 14190 , 14200 , 14210 , 14220 , 14230 , 14240 , 14250 , 14260 , 14270 , 14280 , 14290 , 14300 , 14310 , 14320 , 14330 , 14340 , 14350 , 14360 , 14370 , 14380 , 14390 , 14400 , 14410 , 14420 , 14430 , 14440 , 14450 , 14460 , 14470 , 14480 , 14490 , 14500 , 14510 , 14520 , 14530 , 14540 , 14550 , 14560 , 14570 , 14580 , 14590 , 14600 , 14610 , 14620 , 14630 , 14640 , 14650 , 14660 , 14670 , 14680 , 14690 , 14700 , 14710 , 14720 , 14730 , 14740 , 14750 , 14760 , 14770 , 14780 , 14790 , 14800 , 14810 , 14820 , 14830 , 14840 , 14850 , 14860 , 14870 , 14880 , 14890 , 14900 , 14910 , 14920 , 14930 , 14940 , 14950 , 14960 , 14970 , 14980 , 14990 , 15000 , 15010 , 15020 , 15030 , 15040 , 15050 , 15060 , 15070 , 15080 , 15090 , 15100 , 15110 , 15120 , 15130 , 15140 , 15150 , 15160 , 15170 , 15180 , 15190 , 15200 , 15210 , 15220 , 15230 , 15240 , 15250 , 15260 , 15270 , 15280 , 15290 , 15300 , 15310 , 15320 , 15330 , 15340 , 15350 , 15360 , 15370 , 15380 , 15390 , 15400 , 15410 , 15420 , 15430 , 15440 , 15450 , 15460 , 15470 , 15480 , 15490 , 15500 , 15510 , 15520 , 15530 , 15540 , 15550 , 15560 , 15570 , 15580 , 15590 , 15600 , 15610 , 15620 , 15630 , 15640 , 15650 , 15660 , 15670 , 15680 , 15690 , 15700 , 15710 , 15720 , 15730 , 15740 , 15750 , 15760 , 15770 , 15780 , 15790 , 15800 , 15810 , 15820 , 15830 , 15840 , 15850 , 15860 , 15870 , 15880 , 15890 , 15900 , 15910 , 15920 , 15930 , 15940 , 15950 , 15960 , 15970 , 15980 , 15990 , 16000 , 16010 , 16020 , 16030 , 16040 , 16050 , 16060 , 16070 , 16080 , 16090 , 16100 , 16110 , 16120 , 16130 , 16140 , 16150 , 16160 , 16170 , 16180 , 16190 , 16200 , 16210 , 16220 , 16230 , 16240 , 16250 , 16260 , 16270 , 16280 , 16290 , 16300 , 16310 , 16320 , 16330 , 16340 , 16350 , 16360 , 16370 , 16380 , 16390 , 16400 , 16410 , 16420 , 16430 , 16440 , 16450 , 16460 , 16470 , 16480 , 16490 , 16500 , 16510 , 16520 , 16530 , 16540 , 16550 , 16560 , 16570 , 16580 , 16590 , 16600 , 16610 , 16620 , 16630 , 16640 , 16650 , 16660 , 16670 , 16680 , 16690 , 16700 , 16710 , 16720 , 16730 , 16740 , 16750 , 16760 , 16770 , 16780 , 16790 , 16800 , 16810 , 16820 , 16830 , 16840 , 16850 , 16860 , 16870 , 16880 , 16890 , 16900 , 16910 , 16920 , 16930 , 16940 , 16950 , 16960 , 16970 , 16980 , 16990 , 17000 , 17010 , 17020 , 17030 , 17040 , 17050 , 17060 , 17070 , 17080 , 17090 , 17100 , 17110 , 17120 , 17130 , 17140 , 17150 , 17160 , 17170 , 17180 , 17190 , 17200 , 17210 , 17220 , 17230 , 17240 , 17250 , 17260 , 17270 , 17280 , 17290 , 17300 , 17310 , 17320 , 17330 , 17340 , 17350 , 17360 , 17370 , 17380 , 17390 , 17400 , 17410 , 17420 , 17430 , 17440 , 17450 , 17460 , 17470 , 17480 , 17490 , 17500 , 17510 , 17520 , 17530 , 17540 , 17550 , 17560 , 17570 , 17580 , 17590 , 17600 , 17610 , 17620 , 17630 , 17640 , 17650 , 17660 , 17670 , 17680 , 17690 , 17700 , 17710 , 17720 , 17730 , 17740 , 17750 , 17760 , 17770 , 17780 , 17790 , 17800 , 17810 , 17820 , 17830 , 17840 , 17850 , 17860 , 17870 , 17880 , 17890 , 17900 , 17910 , 17920 , 17930 , 17940 , 17950 , 17960 , 17970 , 17980 , 17990 , 18000 , 18010 , 18020 , 18030 , 18040 , 18050 , 18060 , 18070 , 18080 , 18090 , 18100 , 18110 , 18120 , 18130 , 18140 , 18150 , 18160 , 18170 , 18180 , 18190 , 18200 , 18210 , 18220 , 18230 , 18240 , 18250 , 18260 , 18270 , 18280 , 18290 , 18300 , 18310 , 18320 , 18330 , 18340 , 18350 , 18360 , 18370 , 18380 , 18390 , 18400 , 18410 , 18420 , 18430 , 18440 , 18450 , 18460 , 18470 , 18480 , 18490 , 18500 , 18510 , 18520 , 18530 , 18540 , 18550 , 18560 , 18570 , 18580 , 18590 , 18600 , 18610 , 18620 , 18630 , 18640 , 18650 , 18660 , 18670 , 18680 , 18690 , 18700 , 18710 , 18720 , 18730 , 18740 , 18750 , 18760 , 18770 , 18780 , 18790 , 18800 , 18810 , 18820 , 18830 , 18840 , 18850 , 18860 , 18870 , 18880 , 18890 , 18900 , 18910 , 18920 , 18930 , 18940 , 18950 , 18960 , 18970 , 18980 , 18990 , 19000 , 19010 , 19020 , 19030 , 19040 , 19050 , 19060 , 19070 , 19080 , 19090 , 19100 , 19110 , 19120 , 19130 , 19140 , 19150 , 19160 , 19170 , 19180 , 19190 , 19200 , 19210 , 19220 , 19230 , 19240 , 19250 , 19260 , 19270 , 19280 , 19290 , 19300 , 19310 , 19320 , 19330 , 19340 , 19350 , 19360 , 19370 , 19380 , 19390 , 19400 , 19410 , 19420 , 19430 , 19440 , 19450 , 19460 , 19470 , 19480 , 19490 , 19500 , 19510 , 19520 , 19530 , 19540 , 19550 , 19560 , 19570 , 19580 , 19590 , 19600 , 19610 , 19620 , 19630 , 19640 , 19650 , 19660 , 19670 , 19680 , 19690 , 19700 , 19710 , 19720 , 19730 , 19740 , 19750 , 19760 , 19770 , 19780 , 19790 , 19800 , 19810 , 19820 , 19830 , 19840 , 19850 , 19860 , 19870 , 19880 , 19890 , 19900 , 19910 , 19920 , 19930 , 19940 , 19950 , 19960 , 19970 , 19980 , 19990 , 20000 , 20010 , 20020 , 20030 , 20040 , 20050 , 20060 , 20070 , 20080 , 20090 , 20100 , 20110 , 20120 , 20130 , 20140 , 20150 , 20160 , 20170 , 20180 , 20190 , 20200 , 20210 , 20220 , 20230 , 20240 , 20250 , 20260 , 20270 , 20280 , 20290 , 20300 , 20310 , 20320 , 20330 , 20340 , 20350 , 20360 , 20370 , 20380 , 20390 , 20400 , 20410 , 20420 , 20430 , 20440 , 20450 , 20460 , 20470 , 20480 , 20490 , 20500 , 20510 , 20520 , 20530 , 20540 , 20550 , 20560 , 20570 , 20580 , 20590 , 20600 , 20610 , 20620 , 20630 , 20640 , 20650 , 20660 , 20670 , 20680 , 20690 , 20700 , 20710 , 20720 , 20730 , 20740 , 20750 , 20760 , 20770 , 20780 , 20790 , 20800 , 20810 , 20820 , 20830 , 20840 , 20850 , 20860 , 20870 , 20880 , 20890 , 20900 , 20910 , 20920 , 20930 , 20940 , 20950 , 20960 , 20970 , 20980 , 20990 , 21000 , 21010 , 21020 , 21030 , 21040 , 21050 , 21060 , 21070 , 21080 , 21090 , 21100 , 21110 , 21120 , 21130 , 21140 , 21150 , 21160 , 21170 , 21180 , 21190 , 21200 , 21210 , 21220 , 21230 , 21240 , 21250 , 21260 , 21270 , 21280 , 21290 , 21300 , 21310 , 21320 , 21330 , 21340 , 21350 , 21360 , 21370 , 21380 , 21390 , 21400 , 21410 , 21420 , 21430 , 21440 , 21450 , 21460 , 21470 , 21480 , 21490 , 21500 , 21510 , 21520 , 21530 , 21540 , 21550 , 21560 , 21570 , 21580 , 21590 , 21600 , 21610 , 21620 , 21630 , 21640 , 21650 , 21660 , 21670 , 21680 , 21690 , 21700 , 21710 , 21720 , 21730 , 21740 , 21750 , 21760 , 21770 , 21780 , 21790 , 21800 , 21810 , 21820 , 21830 , 21840 , 21850 , 21860 , 21870 , 21880 , 21890 , 21900 , 21910 , 21920 , 21930 , 21940 , 21950 , 21960 , 21970 , 21980 , 21990 , 22000 , 22010 , 22020 , 22030 , 22040 , 22050 , 22060 , 22070 , "
     ]
    }
   ],
   "source": [
    "# USE PANDAS TO MAP COLUMN WITH DICTIONARY\n",
    "\n",
    "vc = df.article_id.value_counts()\n",
    "pairs = {}\n",
    "for j,i in enumerate(vc.index.values):\n",
    "    if j%10==0: print(j,', ',end='')\n",
    "    USERS = df.loc[df.article_id==i.item(),'customer_id'].unique()\n",
    "    vc2 = df.loc[(df.customer_id.isin(USERS))&  (df.article_id!=i.item()),'article_id']\n",
    "    if len(vc2)==0: continue\n",
    "    vc2 = vc2.value_counts()\n",
    "    pairs[i.item()] = vc2.index[0]"
   ],
   "metadata": {
    "collapsed": false,
    "pycharm": {
     "name": "#%%\n"
    }
   }
  },
  {
   "cell_type": "code",
   "execution_count": 105,
   "outputs": [],
   "source": [
    "import pandas as pd , numpy as np\n"
   ],
   "metadata": {
    "collapsed": false,
    "pycharm": {
     "name": "#%%\n"
    }
   }
  },
  {
   "cell_type": "code",
   "execution_count": 108,
   "outputs": [
    {
     "data": {
      "text/plain": "{685687003: 685687001,\n 685687001: 685687003,\n 685687004: 685687001,\n 685687002: 685687001,\n 539723005: 539723006,\n 562245001: 562245018,\n 683662005: 683662009,\n 524825013: 636455009,\n 692454002: 615141002,\n 399223001: 589222001,\n 573085020: 573085001,\n 562245018: 562245001,\n 610776002: 610776001,\n 573716012: 573716039,\n 673677002: 673677003,\n 663515004: 501820001,\n 573085001: 562245001,\n 662868002: 685687002,\n 591334003: 591334020,\n 539723006: 539723005,\n 662857005: 685687002,\n 671505002: 671505004,\n 615141002: 615141003,\n 673677003: 673677002,\n 501820004: 501820003,\n 662868003: 662868002,\n 539723001: 539723005,\n 501820001: 501820003,\n 529008026: 529012025,\n 662888002: 662888001,\n 399201005: 399201022,\n 687424002: 687424003,\n 573716039: 573716012,\n 637549005: 685687001,\n 671505004: 671505002,\n 688873001: 688873002,\n 562245059: 562245001,\n 507910001: 507910004,\n 568601006: 568597006,\n 671505001: 671505002,\n 637673005: 685687002,\n 639192002: 639192006,\n 662868001: 662868002,\n 589222001: 589222005,\n 666006006: 685687003,\n 665477001: 665477002,\n 399256001: 399256002,\n 688873017: 663515004,\n 610776001: 610776002,\n 562245004: 562245001,\n 667491002: 667491006,\n 573085010: 539723005,\n 662980001: 662980002,\n 372860001: 372860002,\n 548467001: 548467002,\n 683662009: 683662005,\n 632143001: 692454002,\n 662888001: 662888002,\n 662888003: 662888002,\n 687424003: 687424002,\n 537346026: 685687003,\n 399136009: 399136004,\n 529012025: 529008026,\n 636455009: 524825013,\n 660599001: 660599002,\n 680374002: 680374003,\n 399136061: 399136004,\n 539723003: 539723005,\n 573716040: 524825013,\n 574109015: 574109012,\n 621381011: 621381001,\n 667491006: 667491002,\n 502186011: 685687002,\n 649437002: 649437001,\n 667491011: 685687004,\n 524825010: 524825013,\n 562245034: 562245059,\n 565379001: 565379002,\n 189634001: 506110001,\n 507909001: 507910001,\n 611062002: 547747001,\n 683662006: 683662005,\n 228257001: 111586001,\n 605106001: 685687001,\n 399136004: 399136061,\n 574109012: 574109015,\n 701129002: 685687001,\n 573085004: 573085010,\n 657497007: 657497006,\n 671515001: 671515003,\n 554450001: 554450005,\n 189616006: 189616008,\n 524825011: 524825014,\n 200182001: 179208001,\n 516903005: 685687001,\n 679494004: 685687004,\n 564787001: 611378001,\n 705094001: 685687001,\n 611415005: 529008026,\n 579541001: 579541004,\n 108775015: 108775044,\n 501820007: 501820001,\n 399201020: 399201005,\n 683662008: 683662005,\n 662935002: 637673005,\n 506110001: 685687003,\n 599502001: 599502009,\n 660599002: 660599001,\n 688873002: 688873001,\n 501820043: 501820004,\n 680186001: 680186002,\n 539723007: 539723005,\n 573937001: 573937003,\n 562245042: 562245018,\n 685284003: 685284001,\n 660712012: 660712003,\n 589924004: 589924005,\n 688873020: 688873005,\n 554450019: 554450001,\n 660712003: 660712012,\n 637515001: 637515002,\n 666448001: 666448006,\n 609719001: 351484002,\n 685284001: 685284003,\n 646429001: 638899001,\n 685683001: 685687003,\n 640807002: 393447015,\n 589924005: 589924003,\n 599502009: 599502001,\n 355072001: 355072002,\n 690478001: 573716039,\n 680186002: 680186001,\n 657497006: 657497007,\n 156231001: 200182001,\n 514134001: 657203001,\n 189616008: 189616007,\n 554450027: 554450005,\n 591334020: 591334003,\n 660599003: 660599002,\n 501820003: 501820004,\n 524825012: 524825011,\n 663396002: 524825011,\n 621381001: 621381011,\n 684080003: 685687003,\n 399136011: 399136061,\n 519583008: 519583028,\n 639976002: 639976005,\n 662857004: 662857005,\n 687524001: 687524002,\n 573085005: 573085001,\n 678983004: 574109015,\n 672890003: 672890002,\n 610776010: 610776002,\n 637549003: 637549005,\n 536139006: 536139009,\n 612182001: 573716012,\n 662888004: 662888002,\n 592975020: 608769005,\n 637515002: 637515001,\n 633148001: 685687001,\n 673638001: 673638002,\n 160442007: 160442010,\n 671852003: 469137001,\n 501820008: 501820001,\n 656719005: 562245001,\n 662857002: 662857004,\n 640462002: 640462001,\n 399201022: 399201005,\n 637661004: 662857005,\n 657497001: 657497006,\n 637661001: 637661004,\n 693956003: 693956001,\n 484398001: 569526002,\n 568597009: 568601008,\n 630116004: 564786017,\n 547747001: 611062002,\n 680374003: 680374002,\n 687524002: 687524001,\n 684210001: 687524001,\n 351484002: 609719001,\n 573085028: 573085010,\n 591334019: 591334003,\n 620081008: 620081006,\n 680715001: 685687003,\n 688873005: 688873020,\n 179950001: 179950017,\n 631837003: 631837001,\n 633130002: 633130015,\n 595779002: 595779011,\n 620081006: 620081008,\n 589222005: 589222001,\n 677930006: 657497006,\n 676954001: 685687003,\n 111593001: 436261001,\n 565379002: 565379001,\n 554450005: 554450001,\n 478549001: 573085020,\n 611415001: 611415005,\n 583534002: 583534009,\n 588689001: 562245001,\n 675952003: 662857005,\n 630116001: 634320003,\n 678086003: 678086002,\n 647804001: 562245001,\n 189616007: 189616008,\n 615141003: 615141002,\n 671022001: 671505004,\n 537346024: 537346026,\n 672890002: 501820007,\n 446224002: 446224014,\n 686265001: 686265002,\n 532578020: 532578018,\n 597918001: 611378001,\n 538142004: 538142006,\n 608952004: 591333005,\n 591334014: 591334003,\n 637255010: 637255009,\n 581777008: 581777002,\n 671491001: 669034002,\n 633136005: 657497007,\n 399223029: 399223001,\n 571436009: 571436010,\n 637549012: 637549011,\n 637268006: 685284003,\n 665975001: 539723005,\n 633136003: 633136006,\n 688873012: 688873020,\n 637549004: 637549005,\n 639677001: 685687002,\n 562245058: 562245001,\n 436261001: 111593001,\n 507910004: 507910001,\n 456163024: 633136005,\n 640244003: 632143001,\n 636323001: 636323005,\n 524825014: 524825011,\n 646429003: 646429001,\n 512251003: 637255010,\n 637549011: 637549005,\n 589924003: 589924005,\n 516859002: 179950001,\n 355569001: 355569002,\n 179123001: 189634001,\n 603401003: 603401002,\n 662857001: 662857005,\n 661435002: 661435001,\n 399087001: 399087015,\n 657415002: 657415005,\n 673638002: 673638001,\n 621381008: 621381011,\n 683662002: 683662005,\n 675359002: 675359001,\n 663396001: 663396002,\n 504154015: 504154018,\n 677172003: 692454002,\n 562245039: 562245001,\n 501820045: 501820001,\n 399136060: 399136061,\n 703193001: 671505002,\n 693956001: 693956003,\n 640462001: 640462002,\n 554772002: 554772003,\n 589222003: 589222001,\n 657476008: 685687003,\n 573716002: 573716012,\n 654100005: 685687003,\n 670655001: 662980001,\n 691543001: 688873008,\n 625939002: 625939003,\n 654772003: 654772001,\n 572998001: 572998002,\n 672890001: 672890004,\n 557248001: 557248003,\n 524825019: 524825012,\n 510126016: 510126010,\n 598859001: 598859003,\n 521269001: 521269002,\n 705094002: 705094001,\n 671502001: 671505004,\n 633130007: 657497006,\n 637255001: 637255010,\n 678086001: 678086003,\n 554450004: 554450005,\n 631837001: 631837003,\n 519583015: 562245004,\n 561445005: 561445006,\n 568601016: 568597016,\n 664133001: 664133003,\n 554598001: 554598003,\n 612182014: 573716012,\n 661162003: 661162002,\n 562252010: 562252014,\n 448515018: 621381011,\n 636455003: 636455009,\n 630141001: 646429001,\n 557247001: 557247003,\n 579541004: 579541001,\n 487722007: 487722001,\n 637515005: 637515001,\n 660369005: 662868002,\n 625939025: 683662009,\n 637661002: 675952003,\n 573085027: 573085010,\n 608458001: 189634001,\n 667379002: 667378002,\n 537346013: 685687002,\n 678086002: 678086003,\n 662728004: 692454002,\n 516712001: 685687002,\n 632516001: 458032003,\n 111586001: 111593001,\n 667499006: 667499001,\n 628930001: 628930008,\n 507909003: 507909001,\n 624632002: 591334003,\n 532578019: 532578020,\n 537346022: 685687002,\n 674492001: 674492004,\n 671553002: 591334003,\n 399201024: 399201022,\n 639192006: 674601001,\n 580482004: 580482002,\n 651273001: 610776002,\n 562245057: 562245042,\n 637515006: 637515001,\n 587229001: 609719001,\n 493438027: 493438020,\n 591334017: 591334003,\n 578476001: 575542001,\n 667378001: 667379003,\n 554704006: 668767004,\n 524061003: 658298001,\n 665477002: 665477001,\n 636455012: 578487011,\n 680912009: 685687003,\n 725253001: 671515001,\n 501820042: 501820043,\n 682550001: 682550007,\n 297067002: 592846001,\n 637549001: 637549005,\n 647334001: 684210001,\n 665095002: 665095004,\n 399087015: 399087001,\n 509280004: 608952004,\n 661794001: 661794002,\n 568597006: 568601006,\n 634320003: 646429001,\n 399136023: 399136060,\n 581162008: 482638017,\n 686265002: 686265001,\n 611024001: 611024002,\n 456163026: 539723005,\n 569526002: 484398001,\n 687535001: 687424003,\n 645065001: 685687003,\n 662857003: 662857005,\n 635084003: 635084002,\n 666448006: 666448001,\n 687427001: 687427002,\n 675281002: 675281001,\n 469137001: 671852003,\n 688463001: 692454002,\n 507909022: 507909001,\n 570781008: 570781006,\n 521269002: 521269001,\n 562245006: 562245001,\n 705143002: 705143001,\n 658030001: 658030002,\n 633136004: 633136003,\n 611378001: 597918001,\n 637661003: 573716040,\n 504155001: 504155011,\n 567993015: 567993016,\n 458032003: 622962001,\n 399087014: 399087015,\n 637515004: 637515002,\n 634009004: 634009003,\n 504154022: 504154021,\n 623434011: 623434023,\n 479227020: 554772020,\n 678230003: 687424002,\n 633136007: 633136003,\n 552473021: 552473037,\n 537688010: 537688013,\n 639297001: 685687002,\n 649437001: 649437002,\n 688873008: 691543001,\n 687934001: 687934002,\n 679121001: 679121002,\n 638628002: 598859001,\n 639976005: 639976002,\n 684686001: 399201020,\n 678073002: 685687004,\n 592172007: 626000002,\n 667378002: 667379002,\n 665509002: 685687003,\n 573085014: 573085001,\n 562245046: 562245001,\n 534181005: 534181006,\n 676198001: 685687001,\n 650193001: 650193004,\n 662948003: 685683001,\n 572127015: 685687002,\n 675203003: 657415005,\n 608776002: 372860001,\n 636938001: 636938005,\n 605106002: 605106001,\n 661162001: 661162003,\n 591334004: 685687003,\n 457892003: 457892005,\n 626588003: 637673005,\n 668767004: 664665004,\n 568601018: 568597018,\n 547780002: 547780001,\n 684080001: 639976001,\n 627389006: 683662005,\n 633130020: 677930006,\n 448509017: 448509014,\n 521302008: 608952004,\n 633130001: 633136003,\n 651584005: 673677003,\n 622962001: 458032003,\n 237222001: 237222012,\n 633130016: 633130013,\n 541519001: 529012025,\n 658298001: 524061003,\n 325087002: 325087018,\n 637515011: 656719003,\n 573716023: 573716012,\n 637549002: 637549001,\n 636926001: 639344003,\n 662980002: 662980001,\n 579302001: 611415001,\n 581086001: 581086002,\n 562252028: 562252031,\n 572942002: 685687003,\n 657287001: 657287002,\n 534181007: 399201005,\n 638899001: 646429001,\n 372860002: 372860001,\n 708021001: 634009004,\n 661794002: 661794001,\n 665477003: 665477001,\n 547780001: 547780002,\n 657395002: 671505001,\n 568601008: 568597009,\n 661162002: 661162003,\n 160442010: 160442007,\n 583534009: 583534002,\n 589924009: 610776002,\n 502186012: 502186011,\n 654772001: 654772003,\n 655259002: 649437002,\n 711521001: 654772003,\n 620081001: 620081006,\n 680220001: 685687001,\n 693584002: 652742001,\n 613456001: 613456009,\n 636093001: 705094001,\n 557247003: 557247001,\n 502224001: 622955002,\n 538699001: 538699007,\n 619234001: 619234005,\n 558986003: 558986001,\n 657970001: 573085028,\n 671011001: 547747001,\n 552473037: 552473021,\n 613246004: 562245059,\n 664133003: 664133001,\n 630116008: 630116004,\n 729931001: 616733001,\n 640677002: 640677004,\n 686269003: 633136005,\n 625819001: 685687001,\n 574109013: 574109014,\n 675281001: 675281002,\n 513373004: 586447001,\n 688873004: 688873001,\n 577314002: 548467001,\n 585482001: 529012025,\n 572797001: 572797002,\n 657476002: 657476001,\n 562245005: 562245001,\n 652742001: 652742003,\n 463970010: 325087018,\n 687260002: 662888001,\n 397068015: 397068014,\n 677930005: 677930004,\n 608776003: 160442007,\n 657497002: 657497007,\n 672590001: 639976001,\n 610744007: 610744009,\n 674482003: 675856003,\n 665975002: 665975001,\n 671515003: 671515001,\n 413707001: 413707022,\n 578478001: 581971001,\n 592174001: 512251003,\n 552370002: 552370007,\n 507910020: 507910004,\n 522725014: 469658009,\n 661152001: 685687001,\n 635084002: 635084003,\n 625939013: 625939035,\n 673638003: 673638001,\n 487722001: 487722007,\n 580000001: 666061001,\n 615021021: 636455009,\n 656686001: 666006006,\n 626346005: 685687001,\n 639192009: 664665004,\n 639685006: 667491006,\n 615021023: 610776002,\n 667379003: 667378001,\n 640807001: 640807002,\n 657195001: 685687004,\n 456163009: 456163026,\n 591334016: 591334003,\n 542402001: 111593001,\n 568137002: 568137003,\n 608483007: 657415002,\n 675856003: 674482003,\n 243613004: 189634001,\n 655784003: 636455009,\n 504154021: 504154022,\n 552346014: 552346001,\n 562252014: 562252010,\n 568808001: 524825011,\n 516000034: 516000001,\n 108775044: 108775015,\n 554772003: 554772002,\n 717341001: 717341002,\n 673638005: 673638001,\n 664665004: 668767004,\n 655784001: 655784006,\n 626816003: 625818001,\n 548926001: 548926003,\n 626445006: 657165002,\n 575141004: 575141005,\n 625818001: 625818002,\n 675952009: 662948001,\n 667499003: 667499006,\n 592180003: 592180001,\n 674047003: 685687004,\n 688873014: 688873001,\n 399256002: 399256001,\n 665481001: 665481004,\n 537116001: 671515001,\n 666448004: 666448005,\n 663942005: 652742001,\n 563519006: 671515001,\n 622955002: 663515004,\n 384654004: 508227002,\n 634332005: 634332007,\n 662948004: 640124001,\n 703795002: 703795001,\n 552471023: 685687004,\n 677967009: 678079002,\n 663942008: 652742001,\n 562820006: 627389006,\n 688873011: 688873020,\n 661147004: 524825013,\n 448509014: 448509017,\n 664074001: 664074004,\n 570781006: 570781008,\n 607834002: 625818002,\n 446224014: 446224002,\n 504155011: 504155001,\n 625939003: 625939002,\n 655691001: 649397002,\n 660618001: 663515004,\n 675319002: 675281002,\n 608007006: 608007007,\n 517462001: 538142008,\n 562245050: 562245001,\n 626816001: 626816004,\n 550309001: 550309005,\n 667491005: 667491002,\n 673643001: 673643002,\n 622955001: 622955002,\n 679986001: 714909001,\n 689123001: 613497008,\n 650696002: 675281002,\n 562252031: 562252010,\n 660519001: 677967009,\n 564786001: 564786020,\n 572124001: 572124006,\n 537346020: 537346026,\n 548388015: 532578017,\n 244267029: 532578010,\n 675359001: 675359002,\n 630145001: 687965001,\n 578487011: 636455012,\n 399223024: 399223001,\n 661435001: 661435002,\n 570189002: 570189003,\n 620081007: 620081008,\n 570781003: 570781006,\n 703991001: 615141002,\n 714424001: 632143001,\n 691839001: 685687001,\n 703795001: 703795002,\n 642960002: 642960001,\n 623632001: 623632002,\n 524825006: 524825013,\n 669215004: 669215001,\n 495685001: 495685003,\n 504152001: 504152012,\n 683001002: 372860001,\n 677999001: 677999003,\n 512251004: 637255010,\n 658030005: 658030002,\n 658030002: 658030001,\n 665481004: 665481001,\n 624486009: 624486001,\n 636935002: 502186011,\n 559212001: 572942002,\n 568597016: 568601016,\n 612935007: 671421002,\n 607834005: 607834001,\n 625939005: 625939025,\n 676352001: 632143001,\n 634411001: 569526002,\n 655710006: 685284003,\n 638136001: 568065001,\n 668767002: 680912005,\n 688873007: 688873020,\n 581971001: 578478001,\n 650974003: 650974001,\n 636238001: 638899001,\n 487827007: 399201005,\n 637673006: 637673005,\n 684033003: 573085010,\n 660712001: 660712003,\n 680499003: 642437006,\n 537612026: 537612023,\n 668153001: 692454002,\n 685347001: 685347002,\n 555364003: 555364002,\n 341452001: 611415001,\n 613497006: 613497008,\n 567594001: 551566002,\n 399136027: 399136004,\n 484108008: 484108006,\n 574109014: 574109013,\n 583533002: 685687004,\n 301656017: 301656013,\n 633130015: 633130002,\n 625321003: 625321010,\n 605092009: 611415005,\n 120129001: 120129014,\n 665725002: 665725003,\n 624486001: 624486009,\n 642437005: 680499002,\n 579541026: 579541001,\n 678260005: 529008038,\n 610543011: 661147004,\n 640124001: 516903008,\n 656719003: 673677003,\n 325087018: 325087002,\n 575141001: 575141004,\n 355072002: 355072001,\n 607534010: 685687003,\n 542695005: 542695004,\n 681815001: 681815003,\n 625939004: 625939002,\n 671057002: 632982013,\n 640807003: 640807002,\n 639976001: 684080001,\n 645065016: 672890002,\n 661806003: 661806001,\n 610776022: 610776010,\n 536139012: 536139009,\n 595779011: 595779002,\n 678073001: 678073002,\n 625773003: 512251003,\n 657203001: 514134001,\n 651793004: 651793002,\n 630672001: 671505002,\n 630116014: 630116004,\n 678625001: 687424002,\n 675319001: 524825019,\n 695601001: 685687003,\n 657287002: 657287001,\n 618899006: 618899001,\n 628930008: 628930001,\n 559616001: 566140001,\n 532578010: 532578001,\n 625939014: 625939035,\n 573716033: 573716039,\n 532578008: 532578001,\n 610744009: 610744007,\n 237347004: 673677002,\n 660712007: 660712012,\n 640677004: 640677002,\n 617322005: 617322003,\n 683001001: 649437002,\n 676387001: 678086001,\n 606022001: 611151001,\n 633136006: 633136003,\n 316441001: 316441005,\n 557248025: 557248001,\n 592975013: 662075001,\n 680782001: 685687003,\n 572400002: 572400001,\n 640677003: 640677002,\n 509210006: 509210002,\n 559630002: 609719001,\n 559634002: 188183001,\n 324502001: 324502003,\n 605053003: 589924004,\n 627197003: 611364001,\n 656345001: 663695001,\n 618784002: 506110001,\n 636323005: 636323001,\n 552473001: 552473021,\n 625316004: 634009004,\n 654564003: 678260002,\n 677848003: 677848004,\n 680810001: 680810002,\n 692066001: 562245018,\n 501616007: 501616001,\n 399136033: 399136009,\n 557248005: 557248001,\n 516000024: 516000035,\n 612170001: 633148001,\n 458543001: 351484002,\n 672598001: 672598002,\n 659302001: 659295001,\n 661166005: 524825013,\n 687260001: 687260002,\n 657476001: 657476002,\n 397068014: 397068001,\n 661162004: 661162003,\n 580482002: 580482004,\n 662257001: 189616008,\n 690112002: 636455003,\n 662344002: 685687003,\n 661797001: 666006006,\n 613456009: 613456001,\n 633377003: 493438027,\n 649397002: 652742003,\n 519583028: 519583008,\n 610776023: 610776010,\n 678079002: 677967009,\n 674023001: 510126016,\n 682965001: 679121001,\n 464297007: 464297021,\n 710899001: 156231001,\n 652742003: 652742001,\n 637673007: 637673005,\n 558986001: 558986003,\n 572400003: 484108006,\n 690992001: 690992002,\n 575495003: 575495005,\n 666585003: 685687003,\n 650677004: 632143001,\n 637255009: 637255010,\n 556255003: 519583008,\n 686631001: 686631002,\n 597043002: 611415005,\n 625818002: 625818001,\n 662948001: 675952009,\n 717341002: 717341001,\n 633136010: 633136003,\n 691764006: 685687001,\n 651082010: 680912005,\n 635957003: 705094001,\n 568597018: 568601018,\n 572998002: 572998001,\n 683024004: 633148001,\n 677848001: 677848002,\n 588689013: 588689001,\n 608769005: 592975020,\n 560270001: 630116004,\n 640176001: 687524001,\n 679655001: 627389006,\n 585788001: 685687003,\n 642699001: 650578001,\n 675139006: 675139003,\n 529953001: 573085020,\n 504154019: 504154021,\n 633109002: 633109001,\n 399201023: 399201020,\n 355072003: 355072004,\n 188183001: 188183010,\n 582077002: 685687003,\n 532578017: 548388015,\n 597082001: 685687001,\n 651244001: 548467001,\n 680912005: 668767002,\n 547058001: 619234001,\n 637549013: 637549011,\n 598859003: 578487011,\n 612420001: 512251004,\n 689899001: 692454002,\n 562252038: 562252010,\n 562245043: 562245058,\n 674079004: 674079001,\n 651724003: 651724001,\n 496762018: 467302079,\n 608007007: 608007006,\n 658030006: 658030001,\n 639685003: 615141002,\n 653567001: 567594001,\n 484398071: 611378001,\n 537085009: 607427005,\n 705143001: 705143002,\n 639192001: 639192006,\n 617322003: 617322005,\n 557248003: 557248001,\n 201219001: 200182001,\n 586265002: 586265001,\n 453358001: 453358002,\n 675378001: 672890002,\n 663003005: 663003004,\n 581543001: 548467001,\n 566140001: 559616001,\n 663937001: 687424002,\n 637515010: 637515002,\n 680912011: 685687003,\n 705094003: 685687003,\n 656649003: 630141001,\n 536139009: 536139006,\n 615367008: 615367010,\n 613666002: 562245001,\n 543738021: 543738015,\n 535488010: 685687003,\n 679986005: 651337001,\n 594834007: 594834010,\n 637515003: 637515001,\n 677809001: 578476001,\n 616733001: 729931001,\n 541518004: 529008026,\n 573085019: 573085010,\n 666080002: 649059002,\n 551336003: 574109015,\n 536139028: 536139029,\n 694986001: 653431003,\n 665095003: 665095002,\n 660308002: 660308003,\n 699566001: 687424003,\n 678342001: 678342005,\n 557247010: 557247003,\n 633130013: 633130016,\n 603401002: 603401003,\n 123173001: 436261001,\n 568137003: 568137002,\n 457466002: 436261001,\n 634775001: 646536003,\n 669882001: 666382002,\n 501616009: 564358023,\n 456163018: 456163002,\n 664319001: 664319005,\n 554598003: 554598001,\n 538142006: 538142004,\n 595779008: 595779002,\n 536139011: 603401003,\n 417951005: 436261001,\n 324502003: 324502008,\n 697489001: 695014002,\n 532578001: 532578008,\n 660712011: 660712014,\n 661152002: 661152001,\n 666382001: 666382002,\n 634332007: 634332001,\n 608483002: 685687004,\n 306307076: 306307002,\n 559630003: 559637005,\n 658183001: 658183002,\n 580482001: 580482004,\n 625311008: 646429001,\n 613246002: 613246004,\n 490793033: 632982014,\n 399223004: 399223001,\n 549914003: 548926001,\n 358753001: 574607002,\n 324502008: 324502003,\n 626263006: 626263002,\n 625342002: 632516001,\n 179393001: 342060001,\n 581162001: 581162008,\n 189626001: 356289005,\n 575172001: 685687004,\n 625939021: 625939025,\n 577259003: 685687002,\n 564786020: 564786001,\n 610776018: 610776002,\n 567993016: 567993015,\n 630450002: 630450001,\n 584483001: 589924004,\n 638416001: 611415001,\n 626444001: 626444014,\n 666382002: 666382003,\n 529008008: 529008026,\n 588689010: 588689001,\n 552471019: 688873001,\n 539723002: 539723005,\n 179208001: 200182001,\n 607834001: 607834005,\n 556655002: 556549004,\n 638657005: 598859001,\n 682456001: 682457001,\n 651724002: 688873005,\n 529008038: 678260005,\n 624311002: 611378001,\n 568069002: 597918001,\n 656015001: 479227020,\n 610744006: 610744009,\n 448509009: 582077002,\n 578478003: 578478001,\n 400246011: 400246021,\n 626263002: 626263008,\n 622618004: 646429003,\n 599716001: 599716002,\n 657287004: 657291004,\n 666448005: 666448004,\n 464454004: 651912002,\n 635741001: 635741004,\n 569929001: 488546001,\n 554792001: 624632001,\n 594834010: 685687002,\n 615092002: 573716040,\n 694589005: 668767002,\n 579541031: 579541001,\n 504152009: 619258002,\n 560270007: 617279001,\n 601102001: 685687004,\n 613497008: 689123001,\n 591333005: 608952004,\n 687427002: 687427001,\n 640597001: 687260002,\n 632523001: 662857003,\n 549607002: 609511003,\n 663942001: 649397002,\n 575542001: 575542003,\n 667499010: 667499006,\n 664133002: 664133001,\n 253448001: 253448003,\n 561445026: 561445011,\n 557247007: 557247003,\n 393447015: 640807002,\n 714421001: 671022001,\n 638443002: 642960002,\n 688873015: 688873001,\n 552346001: 552346014,\n 667499001: 667499006,\n 680374001: 680374002,\n 597918002: 597963001,\n 609727002: 609727003,\n 305931001: 506110001,\n 563519001: 563519003,\n 623434023: 623434011,\n 504154027: 504154022,\n 577513001: 577513002,\n 660712014: 660712011,\n 532578018: 532578020,\n 687934002: 687934001,\n 607427002: 607427003,\n 675856001: 675856003,\n 592975011: 558070008,\n 561570001: 550309001,\n 684588006: 610776010,\n 634332006: 634332005,\n 615959001: 538142006,\n 675508002: 689165001,\n 399087019: 399087001,\n 579541035: 579541004,\n 621989001: 372860001,\n 583060001: 586014002,\n 463970040: 325087044,\n 674014003: 502186012,\n 651692001: 684033003,\n 634332001: 634332007,\n 677999003: 677999001,\n 569562005: 611415001,\n 551336001: 674492001,\n 381038003: 381038004,\n 610730016: 688873020,\n 674336002: 674492001,\n 469658009: 522725014,\n 681196003: 626405006,\n 642105001: 642105002,\n 556527002: 556527003,\n 579541036: 579541001,\n 581298001: 581162008,\n 645065015: 657497007,\n 691208001: 675359002,\n 306307002: 573284053,\n 568601020: 568597021,\n 573716028: 573716012,\n 482207007: 482207016,\n 598806012: 574109012,\n 677930002: 683662006,\n 494691001: 552471023,\n 612075002: 635741001,\n 429313013: 682996002,\n 399223025: 399223001,\n 666061001: 580000001,\n 677062001: 681247002,\n ...}"
     },
     "execution_count": 108,
     "metadata": {},
     "output_type": "execute_result"
    }
   ],
   "source": [
    "pairs"
   ],
   "metadata": {
    "collapsed": false,
    "pycharm": {
     "name": "#%%\n"
    }
   }
  },
  {
   "cell_type": "code",
   "execution_count": 106,
   "outputs": [],
   "source": [
    "df['article_id2'] = df.article_id.map(pairs)"
   ],
   "metadata": {
    "collapsed": false,
    "pycharm": {
     "name": "#%%\n"
    }
   }
  },
  {
   "cell_type": "code",
   "execution_count": 109,
   "outputs": [
    {
     "data": {
      "text/plain": "            t_dat          customer_id  article_id    max_dat  diff_dat   ct  \\\n196442 2018-09-24  4807831066164705350   618480001 2018-09-24         0  100   \n175867 2018-09-24 -4767130151449159669   680374002 2018-09-24         0   55   \n60518  2018-09-21 -2936678038598836257   456163028 2018-09-21         0   52   \n177445 2018-09-24 -8784462010106267426   516000001 2018-09-24         0   36   \n49587  2018-09-21  -770382745269162367   554772002 2018-09-21         0   33   \n...           ...                  ...         ...        ...       ...  ...   \n48392  2018-09-20 -4545975550442162194   671513003 2018-09-20         0    1   \n48393  2018-09-20 -4545975550442162194   680186002 2018-09-20         0    1   \n48394  2018-09-20 -4545975550442162194   679121002 2018-09-20         0    1   \n48395  2018-09-20 -4545975550442162194   638642002 2018-09-20         0    1   \n48398  2018-09-20 -8286316756823862684   568597019 2018-09-20         0    1   \n\n        article_id2  \n196442  618480002.0  \n175867  680374003.0  \n60518   456163009.0  \n177445  516000034.0  \n49587   554772003.0  \n...             ...  \n48392   658848004.0  \n48393   680186001.0  \n48394   679121001.0  \n48395   679121002.0  \n48398   568601019.0  \n\n[267855 rows x 7 columns]",
      "text/html": "<div>\n<style scoped>\n    .dataframe tbody tr th:only-of-type {\n        vertical-align: middle;\n    }\n\n    .dataframe tbody tr th {\n        vertical-align: top;\n    }\n\n    .dataframe thead th {\n        text-align: right;\n    }\n</style>\n<table border=\"1\" class=\"dataframe\">\n  <thead>\n    <tr style=\"text-align: right;\">\n      <th></th>\n      <th>t_dat</th>\n      <th>customer_id</th>\n      <th>article_id</th>\n      <th>max_dat</th>\n      <th>diff_dat</th>\n      <th>ct</th>\n      <th>article_id2</th>\n    </tr>\n  </thead>\n  <tbody>\n    <tr>\n      <th>196442</th>\n      <td>2018-09-24</td>\n      <td>4807831066164705350</td>\n      <td>618480001</td>\n      <td>2018-09-24</td>\n      <td>0</td>\n      <td>100</td>\n      <td>618480002.0</td>\n    </tr>\n    <tr>\n      <th>175867</th>\n      <td>2018-09-24</td>\n      <td>-4767130151449159669</td>\n      <td>680374002</td>\n      <td>2018-09-24</td>\n      <td>0</td>\n      <td>55</td>\n      <td>680374003.0</td>\n    </tr>\n    <tr>\n      <th>60518</th>\n      <td>2018-09-21</td>\n      <td>-2936678038598836257</td>\n      <td>456163028</td>\n      <td>2018-09-21</td>\n      <td>0</td>\n      <td>52</td>\n      <td>456163009.0</td>\n    </tr>\n    <tr>\n      <th>177445</th>\n      <td>2018-09-24</td>\n      <td>-8784462010106267426</td>\n      <td>516000001</td>\n      <td>2018-09-24</td>\n      <td>0</td>\n      <td>36</td>\n      <td>516000034.0</td>\n    </tr>\n    <tr>\n      <th>49587</th>\n      <td>2018-09-21</td>\n      <td>-770382745269162367</td>\n      <td>554772002</td>\n      <td>2018-09-21</td>\n      <td>0</td>\n      <td>33</td>\n      <td>554772003.0</td>\n    </tr>\n    <tr>\n      <th>...</th>\n      <td>...</td>\n      <td>...</td>\n      <td>...</td>\n      <td>...</td>\n      <td>...</td>\n      <td>...</td>\n      <td>...</td>\n    </tr>\n    <tr>\n      <th>48392</th>\n      <td>2018-09-20</td>\n      <td>-4545975550442162194</td>\n      <td>671513003</td>\n      <td>2018-09-20</td>\n      <td>0</td>\n      <td>1</td>\n      <td>658848004.0</td>\n    </tr>\n    <tr>\n      <th>48393</th>\n      <td>2018-09-20</td>\n      <td>-4545975550442162194</td>\n      <td>680186002</td>\n      <td>2018-09-20</td>\n      <td>0</td>\n      <td>1</td>\n      <td>680186001.0</td>\n    </tr>\n    <tr>\n      <th>48394</th>\n      <td>2018-09-20</td>\n      <td>-4545975550442162194</td>\n      <td>679121002</td>\n      <td>2018-09-20</td>\n      <td>0</td>\n      <td>1</td>\n      <td>679121001.0</td>\n    </tr>\n    <tr>\n      <th>48395</th>\n      <td>2018-09-20</td>\n      <td>-4545975550442162194</td>\n      <td>638642002</td>\n      <td>2018-09-20</td>\n      <td>0</td>\n      <td>1</td>\n      <td>679121002.0</td>\n    </tr>\n    <tr>\n      <th>48398</th>\n      <td>2018-09-20</td>\n      <td>-8286316756823862684</td>\n      <td>568597019</td>\n      <td>2018-09-20</td>\n      <td>0</td>\n      <td>1</td>\n      <td>568601019.0</td>\n    </tr>\n  </tbody>\n</table>\n<p>267855 rows × 7 columns</p>\n</div>"
     },
     "execution_count": 109,
     "metadata": {},
     "output_type": "execute_result"
    }
   ],
   "source": [
    "df[df.article_id2.notnull()]"
   ],
   "metadata": {
    "collapsed": false,
    "pycharm": {
     "name": "#%%\n"
    }
   }
  },
  {
   "cell_type": "code",
   "execution_count": 69,
   "outputs": [
    {
     "name": "stdout",
     "output_type": "stream",
     "text": [
      "0 , 10 , 20 , 30 , 40 , 50 , 60 , 70 , 80 , 90 , 100 , 110 , 120 , 130 , 140 , 150 , 160 , 170 , 180 , 190 , 200 , 210 , 220 , 230 , 240 , 250 , 260 , 270 , 280 , 290 , 300 , 310 , 320 , 330 , 340 , 350 , 360 , 370 , 380 , 390 , 400 , 410 , 420 , 430 , 440 , 450 , 460 , 470 , 480 , 490 , 500 , 510 , 520 , 530 , 540 , 550 , 560 , 570 , 580 , 590 , 600 , 610 , 620 , 630 , 640 , 650 , 660 , 670 , 680 , 690 , 700 , 710 , 720 , 730 , 740 , 750 , 760 , 770 , 780 , 790 , 800 , 810 , 820 , 830 , 840 , 850 , 860 , 870 , 880 , 890 , 900 , 910 , 920 , 930 , 940 , 950 , 960 , 970 , 980 , 990 , 1000 , 1010 , 1020 , 1030 , 1040 , 1050 , 1060 , 1070 , 1080 , 1090 , 1100 , 1110 , 1120 , 1130 , 1140 , 1150 , 1160 , 1170 , 1180 , 1190 , 1200 , 1210 , 1220 , 1230 , 1240 , 1250 , 1260 , 1270 , 1280 , 1290 , 1300 , 1310 , 1320 , 1330 , 1340 , 1350 , 1360 , 1370 , 1380 , 1390 , 1400 , 1410 , 1420 , 1430 , 1440 , 1450 , 1460 , 1470 , 1480 , 1490 , 1500 , 1510 , 1520 , 1530 , 1540 , 1550 , 1560 , 1570 , 1580 , 1590 , 1600 , 1610 , 1620 , 1630 , 1640 , 1650 , 1660 , 1670 , 1680 , 1690 , 1700 , 1710 , 1720 , 1730 , 1740 , 1750 , 1760 , 1770 , 1780 , 1790 , 1800 , 1810 , 1820 , 1830 , 1840 , 1850 , 1860 , 1870 , 1880 , 1890 , 1900 , 1910 , 1920 , 1930 , 1940 , 1950 , 1960 , 1970 , 1980 , 1990 , 2000 , 2010 , 2020 , 2030 , 2040 , 2050 , 2060 , 2070 , 2080 , 2090 , 2100 , 2110 , 2120 , 2130 , 2140 , 2150 , 2160 , 2170 , 2180 , 2190 , 2200 , 2210 , 2220 , 2230 , 2240 , 2250 , 2260 , 2270 , 2280 , 2290 , 2300 , 2310 , 2320 , 2330 , 2340 , 2350 , 2360 , 2370 , 2380 , 2390 , 2400 , 2410 , 2420 , 2430 , 2440 , 2450 , 2460 , 2470 , 2480 , 2490 , 2500 , 2510 , 2520 , 2530 , 2540 , 2550 , 2560 , 2570 , 2580 , 2590 , 2600 , 2610 , 2620 , 2630 , 2640 , 2650 , 2660 , 2670 , 2680 , 2690 , 2700 , 2710 , 2720 , 2730 , 2740 , 2750 , 2760 , 2770 , 2780 , 2790 , 2800 , 2810 , 2820 , 2830 , 2840 , 2850 , 2860 , 2870 , 2880 , 2890 , 2900 , 2910 , 2920 , 2930 , 2940 , 2950 , 2960 , 2970 , 2980 , 2990 , 3000 , 3010 , 3020 , 3030 , 3040 , 3050 , 3060 , 3070 , 3080 , 3090 , 3100 , 3110 , 3120 , 3130 , 3140 , 3150 , 3160 , 3170 , 3180 , 3190 , 3200 , 3210 , 3220 , 3230 , 3240 , 3250 , 3260 , 3270 , 3280 , 3290 , 3300 , 3310 , 3320 , 3330 , 3340 , 3350 , 3360 , 3370 , 3380 , 3390 , 3400 , 3410 , 3420 , 3430 , 3440 , 3450 , 3460 , 3470 , 3480 , 3490 , 3500 , 3510 , 3520 , 3530 , 3540 , 3550 , 3560 , 3570 , 3580 , 3590 , 3600 , 3610 , 3620 , 3630 , 3640 , 3650 , 3660 , 3670 , 3680 , 3690 , 3700 , 3710 , 3720 , 3730 , 3740 , 3750 , 3760 , 3770 , 3780 , 3790 , 3800 , 3810 , 3820 , 3830 , 3840 , 3850 , 3860 , 3870 , 3880 , 3890 , 3900 , 3910 , 3920 , 3930 , 3940 , 3950 , 3960 , 3970 , 3980 , 3990 , 4000 , 4010 , 4020 , 4030 , 4040 , 4050 , 4060 , 4070 , 4080 , 4090 , 4100 , 4110 , 4120 , 4130 , 4140 , 4150 , 4160 , 4170 , 4180 , 4190 , 4200 , 4210 , 4220 , 4230 , 4240 , 4250 , 4260 , 4270 , 4280 , 4290 , 4300 , 4310 , 4320 , 4330 , 4340 , 4350 , 4360 , 4370 , 4380 , 4390 , 4400 , 4410 , 4420 , 4430 , 4440 , 4450 , 4460 , 4470 , 4480 , 4490 , 4500 , 4510 , 4520 , 4530 , 4540 , 4550 , 4560 , 4570 , 4580 , 4590 , 4600 , 4610 , 4620 , 4630 , 4640 , 4650 , 4660 , 4670 , 4680 , 4690 , 4700 , 4710 , 4720 , 4730 , 4740 , 4750 , 4760 , 4770 , 4780 , 4790 , 4800 , 4810 , 4820 , 4830 , 4840 , 4850 , 4860 , 4870 , 4880 , 4890 , 4900 , 4910 , 4920 , 4930 , 4940 , 4950 , 4960 , 4970 , 4980 , 4990 , 5000 , 5010 , 5020 , 5030 , 5040 , 5050 , 5060 , 5070 , 5080 , 5090 , 5100 , 5110 , 5120 , 5130 , 5140 , 5150 , 5160 , 5170 , 5180 , 5190 , 5200 , 5210 , 5220 , 5230 , 5240 , 5250 , 5260 , 5270 , 5280 , 5290 , 5300 , 5310 , 5320 , 5330 , 5340 , 5350 , 5360 , 5370 , 5380 , 5390 , 5400 , 5410 , 5420 , 5430 , 5440 , 5450 , 5460 , 5470 , 5480 , 5490 , 5500 , 5510 , 5520 , 5530 , 5540 , 5550 , 5560 , 5570 , 5580 , 5590 , 5600 , 5610 , 5620 , 5630 , 5640 , 5650 , 5660 , 5670 , 5680 , 5690 , 5700 , 5710 , 5720 , 5730 , 5740 , 5750 , 5760 , 5770 , 5780 , 5790 , 5800 , 5810 , 5820 , 5830 , 5840 , 5850 , 5860 , 5870 , 5880 , 5890 , 5900 , 5910 , 5920 , 5930 , 5940 , 5950 , 5960 , 5970 , 5980 , 5990 , 6000 , 6010 , 6020 , 6030 , 6040 , 6050 , 6060 , 6070 , 6080 , 6090 , 6100 , 6110 , 6120 , 6130 , 6140 , 6150 , 6160 , 6170 , 6180 , 6190 , 6200 , 6210 , 6220 , 6230 , 6240 , 6250 , 6260 , 6270 , 6280 , 6290 , 6300 , 6310 , 6320 , 6330 , 6340 , 6350 , 6360 , 6370 , 6380 , 6390 , 6400 , 6410 , 6420 , 6430 , 6440 , 6450 , 6460 , 6470 , 6480 , 6490 , 6500 , 6510 , 6520 , 6530 , 6540 , 6550 , 6560 , 6570 , 6580 , 6590 , 6600 , 6610 , 6620 , 6630 , 6640 , 6650 , 6660 , 6670 , 6680 , 6690 , 6700 , 6710 , 6720 , 6730 , 6740 , 6750 , 6760 , 6770 , 6780 , 6790 , 6800 , 6810 , 6820 , 6830 , 6840 , 6850 , 6860 , 6870 , 6880 , 6890 , 6900 , 6910 , 6920 , 6930 , 6940 , 6950 , 6960 , 6970 , 6980 , 6990 , 7000 , 7010 , 7020 , 7030 , 7040 , 7050 , 7060 , 7070 , 7080 , 7090 , 7100 , 7110 , 7120 , 7130 , 7140 , 7150 , 7160 , 7170 , 7180 , 7190 , 7200 , 7210 , 7220 , 7230 , 7240 , 7250 , 7260 , 7270 , 7280 , 7290 , 7300 , 7310 , 7320 , 7330 , 7340 , 7350 , 7360 , 7370 , 7380 , 7390 , 7400 , 7410 , 7420 , 7430 , 7440 , 7450 , 7460 , 7470 , 7480 , 7490 , 7500 , 7510 , 7520 , 7530 , 7540 , 7550 , 7560 , 7570 , 7580 , 7590 , 7600 , 7610 , 7620 , 7630 , 7640 , 7650 , 7660 , 7670 , 7680 , 7690 , 7700 , 7710 , 7720 , 7730 , 7740 , 7750 , 7760 , 7770 , 7780 , 7790 , 7800 , 7810 , 7820 , 7830 , 7840 , 7850 , 7860 , 7870 , 7880 , 7890 , 7900 , 7910 , 7920 , 7930 , 7940 , 7950 , 7960 , 7970 , 7980 , 7990 , 8000 , 8010 , 8020 , 8030 , 8040 , 8050 , 8060 , 8070 , 8080 , 8090 , 8100 , 8110 , 8120 , 8130 , 8140 , 8150 , 8160 , 8170 , 8180 , 8190 , 8200 , 8210 , 8220 , 8230 , 8240 , 8250 , 8260 , 8270 , 8280 , 8290 , 8300 , 8310 , 8320 , 8330 , 8340 , 8350 , 8360 , 8370 , 8380 , 8390 , 8400 , 8410 , 8420 , 8430 , 8440 , 8450 , 8460 , 8470 , 8480 , 8490 , 8500 , 8510 , 8520 , 8530 , 8540 , 8550 , 8560 , 8570 , 8580 , 8590 , 8600 , 8610 , 8620 , 8630 , 8640 , 8650 , 8660 , 8670 , 8680 , 8690 , 8700 , 8710 , 8720 , 8730 , 8740 , 8750 , 8760 , 8770 , 8780 , 8790 , 8800 , 8810 , 8820 , 8830 , 8840 , 8850 , 8860 , 8870 , 8880 , 8890 , 8900 , 8910 , 8920 , 8930 , 8940 , 8950 , 8960 , 8970 , 8980 , 8990 , 9000 , 9010 , 9020 , 9030 , 9040 , 9050 , 9060 , 9070 , 9080 , 9090 , 9100 , 9110 , 9120 , 9130 , 9140 , 9150 , 9160 , 9170 , 9180 , 9190 , 9200 , 9210 , 9220 , 9230 , 9240 , 9250 , 9260 , 9270 , 9280 , 9290 , 9300 , 9310 , 9320 , 9330 , 9340 , 9350 , 9360 , 9370 , 9380 , 9390 , 9400 , 9410 , 9420 , 9430 , 9440 , 9450 , 9460 , 9470 , 9480 , 9490 , 9500 , 9510 , 9520 , 9530 , 9540 , 9550 , 9560 , 9570 , 9580 , 9590 , 9600 , 9610 , 9620 , 9630 , 9640 , 9650 , 9660 , 9670 , 9680 , 9690 , 9700 , 9710 , 9720 , 9730 , 9740 , 9750 , 9760 , 9770 , 9780 , 9790 , 9800 , 9810 , 9820 , 9830 , 9840 , 9850 , 9860 , 9870 , 9880 , 9890 , 9900 , 9910 , 9920 , 9930 , 9940 , 9950 , 9960 , 9970 , 9980 , 9990 , 10000 , 10010 , 10020 , 10030 , 10040 , 10050 , 10060 , 10070 , 10080 , 10090 , 10100 , 10110 , 10120 , 10130 , 10140 , 10150 , 10160 , 10170 , 10180 , 10190 , 10200 , 10210 , 10220 , 10230 , 10240 , 10250 , 10260 , 10270 , 10280 , 10290 , 10300 , 10310 , 10320 , 10330 , 10340 , 10350 , 10360 , 10370 , 10380 , 10390 , 10400 , 10410 , 10420 , 10430 , 10440 , 10450 , 10460 , 10470 , 10480 , 10490 , 10500 , 10510 , 10520 , 10530 , 10540 , 10550 , 10560 , 10570 , 10580 , 10590 , 10600 , 10610 , 10620 , 10630 , 10640 , 10650 , 10660 , 10670 , 10680 , 10690 , 10700 , 10710 , 10720 , 10730 , 10740 , 10750 , 10760 , 10770 , 10780 , 10790 , 10800 , 10810 , 10820 , 10830 , 10840 , 10850 , 10860 , 10870 , 10880 , 10890 , 10900 , 10910 , 10920 , 10930 , 10940 , 10950 , 10960 , 10970 , 10980 , 10990 , 11000 , 11010 , 11020 , 11030 , 11040 , 11050 , 11060 , 11070 , 11080 , 11090 , 11100 , 11110 , 11120 , 11130 , 11140 , 11150 , 11160 , 11170 , 11180 , 11190 , 11200 , 11210 , 11220 , 11230 , 11240 , 11250 , 11260 , 11270 , 11280 , 11290 , 11300 , 11310 , 11320 , 11330 , 11340 , 11350 , 11360 , 11370 , 11380 , 11390 , 11400 , 11410 , 11420 , 11430 , 11440 , 11450 , 11460 , 11470 , 11480 , 11490 , 11500 , 11510 , 11520 , 11530 , 11540 , 11550 , 11560 , 11570 , 11580 , 11590 , 11600 , 11610 , 11620 , 11630 , 11640 , 11650 , 11660 , 11670 , 11680 , 11690 , 11700 , 11710 , 11720 , 11730 , 11740 , 11750 , 11760 , 11770 , 11780 , 11790 , 11800 , 11810 , 11820 , 11830 , 11840 , 11850 , 11860 , 11870 , 11880 , 11890 , 11900 , 11910 , 11920 , 11930 , 11940 , 11950 , 11960 , 11970 , 11980 , 11990 , 12000 , 12010 , 12020 , 12030 , 12040 , 12050 , 12060 , 12070 , 12080 , 12090 , 12100 , 12110 , 12120 , 12130 , 12140 , 12150 , 12160 , 12170 , 12180 , 12190 , 12200 , 12210 , 12220 , 12230 , 12240 , 12250 , 12260 , 12270 , 12280 , 12290 , 12300 , 12310 , 12320 , 12330 , 12340 , 12350 , 12360 , 12370 , 12380 , 12390 , 12400 , 12410 , 12420 , 12430 , 12440 , 12450 , 12460 , 12470 , 12480 , 12490 , 12500 , 12510 , 12520 , 12530 , 12540 , 12550 , 12560 , 12570 , 12580 , 12590 , 12600 , 12610 , 12620 , 12630 , 12640 , 12650 , 12660 , 12670 , 12680 , 12690 , 12700 , 12710 , 12720 , 12730 , 12740 , 12750 , 12760 , 12770 , 12780 , 12790 , 12800 , 12810 , 12820 , 12830 , 12840 , 12850 , 12860 , 12870 , 12880 , 12890 , 12900 , 12910 , 12920 , 12930 , 12940 , 12950 , 12960 , 12970 , 12980 , 12990 , 13000 , 13010 , 13020 , 13030 , 13040 , 13050 , 13060 , 13070 , 13080 , 13090 , 13100 , 13110 , 13120 , 13130 , 13140 , 13150 , 13160 , 13170 , 13180 , 13190 , 13200 , 13210 , 13220 , 13230 , 13240 , 13250 , 13260 , 13270 , 13280 , 13290 , 13300 , 13310 , 13320 , 13330 , 13340 , 13350 , 13360 , 13370 , 13380 , 13390 , 13400 , 13410 , 13420 , 13430 , 13440 , 13450 , 13460 , 13470 , 13480 , 13490 , 13500 , 13510 , 13520 , 13530 , 13540 , 13550 , 13560 , 13570 , 13580 , 13590 , 13600 , 13610 , 13620 , 13630 , 13640 , 13650 , 13660 , 13670 , 13680 , 13690 , 13700 , 13710 , 13720 , 13730 , 13740 , 13750 , 13760 , 13770 , 13780 , 13790 , 13800 , 13810 , 13820 , 13830 , 13840 , 13850 , 13860 , 13870 , 13880 , 13890 , 13900 , 13910 , 13920 , 13930 , 13940 , 13950 , 13960 , 13970 , 13980 , 13990 , 14000 , 14010 , 14020 , 14030 , 14040 , 14050 , 14060 , 14070 , 14080 , 14090 , 14100 , 14110 , 14120 , 14130 , 14140 , 14150 , 14160 , 14170 , 14180 , 14190 , 14200 , 14210 , 14220 , 14230 , 14240 , 14250 , 14260 , 14270 , 14280 , 14290 , 14300 , 14310 , 14320 , 14330 , 14340 , 14350 , 14360 , 14370 , 14380 , 14390 , 14400 , 14410 , 14420 , 14430 , 14440 , 14450 , 14460 , 14470 , 14480 , 14490 , 14500 , 14510 , 14520 , 14530 , 14540 , 14550 , 14560 , 14570 , 14580 , 14590 , 14600 , 14610 , 14620 , 14630 , 14640 , 14650 , 14660 , 14670 , 14680 , 14690 , 14700 , 14710 , 14720 , 14730 , 14740 , 14750 , 14760 , 14770 , 14780 , 14790 , 14800 , 14810 , 14820 , 14830 , 14840 , 14850 , 14860 , 14870 , 14880 , 14890 , 14900 , 14910 , 14920 , 14930 , 14940 , 14950 , 14960 , 14970 , 14980 , 14990 , 15000 , 15010 , 15020 , 15030 , 15040 , 15050 , 15060 , 15070 , 15080 , 15090 , 15100 , 15110 , 15120 , 15130 , 15140 , 15150 , 15160 , 15170 , 15180 , 15190 , 15200 , 15210 , 15220 , 15230 , 15240 , 15250 , 15260 , 15270 , 15280 , 15290 , 15300 , 15310 , 15320 , 15330 , 15340 , 15350 , 15360 , 15370 , 15380 , 15390 , 15400 , 15410 , 15420 , 15430 , 15440 , 15450 , 15460 , 15470 , 15480 , 15490 , 15500 , 15510 , 15520 , 15530 , 15540 , 15550 , 15560 , 15570 , 15580 , 15590 , 15600 , 15610 , 15620 , 15630 , 15640 , 15650 , 15660 , 15670 , 15680 , 15690 , 15700 , 15710 , 15720 , 15730 , 15740 , 15750 , 15760 , 15770 , 15780 , 15790 , 15800 , 15810 , 15820 , 15830 , 15840 , 15850 , 15860 , 15870 , 15880 , 15890 , 15900 , 15910 , 15920 , 15930 , 15940 , 15950 , 15960 , 15970 , 15980 , 15990 , 16000 , 16010 , 16020 , 16030 , 16040 , 16050 , 16060 , 16070 , 16080 , 16090 , 16100 , 16110 , 16120 , 16130 , 16140 , 16150 , 16160 , 16170 , 16180 , 16190 , 16200 , 16210 , 16220 , 16230 , 16240 , 16250 , 16260 , 16270 , 16280 , 16290 , 16300 , 16310 , 16320 , 16330 , 16340 , 16350 , 16360 , 16370 , 16380 , 16390 , 16400 , 16410 , 16420 , 16430 , 16440 , 16450 , 16460 , 16470 , 16480 , 16490 , 16500 , 16510 , 16520 , 16530 , 16540 , 16550 , 16560 , 16570 , 16580 , 16590 , 16600 , 16610 , 16620 , 16630 , 16640 , 16650 , 16660 , 16670 , 16680 , 16690 , 16700 , 16710 , 16720 , 16730 , 16740 , 16750 , 16760 , 16770 , 16780 , 16790 , 16800 , 16810 , 16820 , 16830 , 16840 , 16850 , 16860 , 16870 , 16880 , 16890 , 16900 , 16910 , 16920 , 16930 , 16940 , 16950 , 16960 , 16970 , 16980 , 16990 , 17000 , 17010 , 17020 , 17030 , 17040 , 17050 , 17060 , 17070 , 17080 , 17090 , 17100 , 17110 , 17120 , 17130 , 17140 , 17150 , 17160 , 17170 , 17180 , 17190 , 17200 , 17210 , 17220 , 17230 , 17240 , 17250 , 17260 , 17270 , 17280 , 17290 , 17300 , 17310 , 17320 , 17330 , 17340 , 17350 , 17360 , 17370 , 17380 , 17390 , 17400 , 17410 , 17420 , 17430 , 17440 , 17450 , 17460 , 17470 , 17480 , 17490 , 17500 , 17510 , 17520 , 17530 , 17540 , 17550 , 17560 , 17570 , 17580 , 17590 , 17600 , 17610 , 17620 , 17630 , 17640 , 17650 , 17660 , 17670 , 17680 , 17690 , 17700 , 17710 , 17720 , 17730 , 17740 , 17750 , 17760 , 17770 , 17780 , 17790 , 17800 , 17810 , 17820 , 17830 , 17840 , 17850 , 17860 , 17870 , 17880 , 17890 , 17900 , 17910 , 17920 , 17930 , 17940 , 17950 , 17960 , 17970 , 17980 , 17990 , 18000 , 18010 , 18020 , 18030 , 18040 , 18050 , 18060 , 18070 , 18080 , 18090 , 18100 , 18110 , 18120 , 18130 , 18140 , 18150 , 18160 , 18170 , 18180 , 18190 , 18200 , 18210 , 18220 , 18230 , 18240 , 18250 , 18260 , 18270 , 18280 , 18290 , 18300 , 18310 , 18320 , 18330 , 18340 , 18350 , 18360 , 18370 , 18380 , 18390 , 18400 , 18410 , 18420 , 18430 , 18440 , 18450 , 18460 , 18470 , 18480 , 18490 , 18500 , 18510 , 18520 , 18530 , 18540 , 18550 , 18560 , 18570 , 18580 , 18590 , 18600 , 18610 , 18620 , 18630 , 18640 , 18650 , 18660 , 18670 , 18680 , 18690 , 18700 , 18710 , 18720 , 18730 , 18740 , 18750 , 18760 , 18770 , 18780 , 18790 , 18800 , 18810 , 18820 , 18830 , 18840 , 18850 , 18860 , 18870 , 18880 , 18890 , 18900 , 18910 , 18920 , 18930 , 18940 , 18950 , 18960 , 18970 , 18980 , 18990 , 19000 , 19010 , 19020 , 19030 , 19040 , 19050 , 19060 , 19070 , 19080 , 19090 , 19100 , 19110 , 19120 , 19130 , 19140 , 19150 , 19160 , 19170 , 19180 , 19190 , 19200 , 19210 , 19220 , 19230 , 19240 , 19250 , 19260 , 19270 , 19280 , 19290 , 19300 , 19310 , 19320 , 19330 , 19340 , 19350 , 19360 , 19370 , 19380 , 19390 , 19400 , 19410 , 19420 , 19430 , 19440 , 19450 , 19460 , 19470 , 19480 , 19490 , 19500 , 19510 , 19520 , 19530 , 19540 , 19550 , 19560 , 19570 , 19580 , 19590 , 19600 , 19610 , 19620 , 19630 , 19640 , 19650 , 19660 , 19670 , 19680 , 19690 , 19700 , 19710 , 19720 , 19730 , 19740 , 19750 , 19760 , 19770 , 19780 , 19790 , 19800 , 19810 , 19820 , 19830 , 19840 , 19850 , 19860 , 19870 , 19880 , 19890 , 19900 , 19910 , 19920 , 19930 , 19940 , 19950 , 19960 , 19970 , 19980 , 19990 , 20000 , 20010 , 20020 , 20030 , 20040 , 20050 , 20060 , 20070 , 20080 , 20090 , 20100 , 20110 , 20120 , 20130 , 20140 , 20150 , 20160 , 20170 , 20180 , 20190 , 20200 , 20210 , 20220 , 20230 , 20240 , 20250 , 20260 , 20270 , 20280 , 20290 , 20300 , 20310 , 20320 , 20330 , 20340 , 20350 , 20360 , 20370 , 20380 , 20390 , 20400 , 20410 , 20420 , 20430 , 20440 , 20450 , 20460 , 20470 , 20480 , 20490 , 20500 , 20510 , 20520 , 20530 , 20540 , 20550 , 20560 , 20570 , 20580 , 20590 , 20600 , 20610 , 20620 , 20630 , 20640 , 20650 , 20660 , 20670 , 20680 , 20690 , 20700 , 20710 , 20720 , 20730 , 20740 , 20750 , 20760 , 20770 , 20780 , 20790 , 20800 , 20810 , 20820 , 20830 , 20840 , 20850 , 20860 , 20870 , 20880 , 20890 , 20900 , 20910 , 20920 , 20930 , 20940 , 20950 , 20960 , 20970 , 20980 , 20990 , 21000 , 21010 , 21020 , 21030 , 21040 , 21050 , 21060 , 21070 , 21080 , 21090 , 21100 , 21110 , 21120 , 21130 , 21140 , 21150 , 21160 , 21170 , 21180 , 21190 , 21200 , 21210 , 21220 , 21230 , 21240 , 21250 , 21260 , 21270 , 21280 , 21290 , 21300 , 21310 , 21320 , 21330 , 21340 , 21350 , 21360 , 21370 , 21380 , 21390 , 21400 , 21410 , 21420 , 21430 , 21440 , 21450 , 21460 , 21470 , 21480 , 21490 , 21500 , 21510 , 21520 , 21530 , 21540 , 21550 , 21560 , 21570 , 21580 , 21590 , 21600 , 21610 , 21620 , 21630 , 21640 , 21650 , 21660 , 21670 , 21680 , 21690 , 21700 , 21710 , 21720 , 21730 , 21740 , 21750 , 21760 , 21770 , 21780 , 21790 , 21800 , 21810 , 21820 , 21830 , 21840 , 21850 , 21860 , 21870 , 21880 , 21890 , 21900 , 21910 , 21920 , 21930 , 21940 , 21950 , 21960 , 21970 , 21980 , 21990 , 22000 , 22010 , 22020 , 22030 , 22040 , 22050 , 22060 , 22070 , "
     ]
    }
   ],
   "source": [],
   "metadata": {
    "collapsed": false,
    "pycharm": {
     "name": "#%%\n"
    }
   }
  },
  {
   "cell_type": "code",
   "execution_count": null,
   "outputs": [],
   "source": [
    "df.article_id.map(pairs)"
   ],
   "metadata": {
    "collapsed": false,
    "pycharm": {
     "name": "#%%\n"
    }
   }
  },
  {
   "cell_type": "code",
   "execution_count": 114,
   "outputs": [],
   "source": [
    "df2  = df[['customer_id','article_id2']].copy()\n",
    "df2 = df2.loc[df2.article_id2.notnull()]"
   ],
   "metadata": {
    "collapsed": false,
    "pycharm": {
     "name": "#%%\n"
    }
   }
  },
  {
   "cell_type": "code",
   "execution_count": 66,
   "outputs": [],
   "source": [
    "\n"
   ],
   "metadata": {
    "collapsed": false,
    "pycharm": {
     "name": "#%%\n"
    }
   }
  },
  {
   "cell_type": "code",
   "execution_count": 115,
   "outputs": [],
   "source": [
    "df2 = df2.drop_duplicates(['customer_id','article_id2'])"
   ],
   "metadata": {
    "collapsed": false,
    "pycharm": {
     "name": "#%%\n"
    }
   }
  },
  {
   "cell_type": "code",
   "execution_count": 116,
   "outputs": [],
   "source": [],
   "metadata": {
    "collapsed": false,
    "pycharm": {
     "name": "#%%\n"
    }
   }
  },
  {
   "cell_type": "code",
   "execution_count": 117,
   "outputs": [
    {
     "data": {
      "text/plain": "                customer_id   article_id\n8       7618378619196079326  573284053.0\n11      6368186744698571317  637255010.0\n12     -6881127498538926880  626257004.0\n22     -4776960193497363601  634009004.0\n25     -3838300659438064485  607834005.0\n...                     ...          ...\n268258 -4545975550442162194  658848004.0\n268259 -4545975550442162194  680186001.0\n268260 -4545975550442162194  679121001.0\n268261 -4545975550442162194  679121002.0\n268262 -8286316756823862684  568601019.0\n\n[253616 rows x 2 columns]",
      "text/html": "<div>\n<style scoped>\n    .dataframe tbody tr th:only-of-type {\n        vertical-align: middle;\n    }\n\n    .dataframe tbody tr th {\n        vertical-align: top;\n    }\n\n    .dataframe thead th {\n        text-align: right;\n    }\n</style>\n<table border=\"1\" class=\"dataframe\">\n  <thead>\n    <tr style=\"text-align: right;\">\n      <th></th>\n      <th>customer_id</th>\n      <th>article_id</th>\n    </tr>\n  </thead>\n  <tbody>\n    <tr>\n      <th>8</th>\n      <td>7618378619196079326</td>\n      <td>573284053.0</td>\n    </tr>\n    <tr>\n      <th>11</th>\n      <td>6368186744698571317</td>\n      <td>637255010.0</td>\n    </tr>\n    <tr>\n      <th>12</th>\n      <td>-6881127498538926880</td>\n      <td>626257004.0</td>\n    </tr>\n    <tr>\n      <th>22</th>\n      <td>-4776960193497363601</td>\n      <td>634009004.0</td>\n    </tr>\n    <tr>\n      <th>25</th>\n      <td>-3838300659438064485</td>\n      <td>607834005.0</td>\n    </tr>\n    <tr>\n      <th>...</th>\n      <td>...</td>\n      <td>...</td>\n    </tr>\n    <tr>\n      <th>268258</th>\n      <td>-4545975550442162194</td>\n      <td>658848004.0</td>\n    </tr>\n    <tr>\n      <th>268259</th>\n      <td>-4545975550442162194</td>\n      <td>680186001.0</td>\n    </tr>\n    <tr>\n      <th>268260</th>\n      <td>-4545975550442162194</td>\n      <td>679121001.0</td>\n    </tr>\n    <tr>\n      <th>268261</th>\n      <td>-4545975550442162194</td>\n      <td>679121002.0</td>\n    </tr>\n    <tr>\n      <th>268262</th>\n      <td>-8286316756823862684</td>\n      <td>568601019.0</td>\n    </tr>\n  </tbody>\n</table>\n<p>253616 rows × 2 columns</p>\n</div>"
     },
     "execution_count": 117,
     "metadata": {},
     "output_type": "execute_result"
    }
   ],
   "source": [
    "df2"
   ],
   "metadata": {
    "collapsed": false,
    "pycharm": {
     "name": "#%%\n"
    }
   }
  },
  {
   "cell_type": "code",
   "execution_count": 15,
   "outputs": [
    {
     "data": {
      "text/plain": "            t_dat          customer_id  article_id    max_dat  diff_dat  \\\n0      2018-09-24  4807831066164705350  0618480001 2018-09-24       0.0   \n1      2018-09-24 -4767130151449159669  0680374002 2018-09-24       0.0   \n2      2018-09-21 -2936678038598836257  0456163028 2018-09-21       0.0   \n3      2018-09-24 -8784462010106267426  0516000001 2018-09-24       0.0   \n4      2018-09-21  -770382745269162367  0554772002 2018-09-21       0.0   \n...           ...                  ...         ...        ...       ...   \n269909        NaT -7796989692169391171         NaN        NaT       NaN   \n269910        NaT -3325783207646041945         NaN        NaT       NaN   \n269911        NaT  3190611120633924214         NaN        NaT       NaN   \n269912        NaT  3559960933639105976         NaN        NaT       NaN   \n269913        NaT  5458912799836009675         NaN        NaT       NaN   \n\n           ct                           article_id2  \n0       100.0                                   NaN  \n1        55.0                                   NaN  \n2        52.0                                   NaN  \n3        36.0                                   NaN  \n4        33.0                                   NaN  \n...       ...                                   ...  \n269909    NaN  [0662980001, 0662857004, 0685687001]  \n269910    NaN  [0657291005, 0657287002, 0657287001]  \n269911    NaN  [0657415002, 0675203003, 0657415001]  \n269912    NaN  [0666448001, 0666448005, 0637549013]  \n269913    NaN  [0657291005, 0657287002, 0657287001]  \n\n[269914 rows x 7 columns]",
      "text/html": "<div>\n<style scoped>\n    .dataframe tbody tr th:only-of-type {\n        vertical-align: middle;\n    }\n\n    .dataframe tbody tr th {\n        vertical-align: top;\n    }\n\n    .dataframe thead th {\n        text-align: right;\n    }\n</style>\n<table border=\"1\" class=\"dataframe\">\n  <thead>\n    <tr style=\"text-align: right;\">\n      <th></th>\n      <th>t_dat</th>\n      <th>customer_id</th>\n      <th>article_id</th>\n      <th>max_dat</th>\n      <th>diff_dat</th>\n      <th>ct</th>\n      <th>article_id2</th>\n    </tr>\n  </thead>\n  <tbody>\n    <tr>\n      <th>0</th>\n      <td>2018-09-24</td>\n      <td>4807831066164705350</td>\n      <td>0618480001</td>\n      <td>2018-09-24</td>\n      <td>0.0</td>\n      <td>100.0</td>\n      <td>NaN</td>\n    </tr>\n    <tr>\n      <th>1</th>\n      <td>2018-09-24</td>\n      <td>-4767130151449159669</td>\n      <td>0680374002</td>\n      <td>2018-09-24</td>\n      <td>0.0</td>\n      <td>55.0</td>\n      <td>NaN</td>\n    </tr>\n    <tr>\n      <th>2</th>\n      <td>2018-09-21</td>\n      <td>-2936678038598836257</td>\n      <td>0456163028</td>\n      <td>2018-09-21</td>\n      <td>0.0</td>\n      <td>52.0</td>\n      <td>NaN</td>\n    </tr>\n    <tr>\n      <th>3</th>\n      <td>2018-09-24</td>\n      <td>-8784462010106267426</td>\n      <td>0516000001</td>\n      <td>2018-09-24</td>\n      <td>0.0</td>\n      <td>36.0</td>\n      <td>NaN</td>\n    </tr>\n    <tr>\n      <th>4</th>\n      <td>2018-09-21</td>\n      <td>-770382745269162367</td>\n      <td>0554772002</td>\n      <td>2018-09-21</td>\n      <td>0.0</td>\n      <td>33.0</td>\n      <td>NaN</td>\n    </tr>\n    <tr>\n      <th>...</th>\n      <td>...</td>\n      <td>...</td>\n      <td>...</td>\n      <td>...</td>\n      <td>...</td>\n      <td>...</td>\n      <td>...</td>\n    </tr>\n    <tr>\n      <th>269909</th>\n      <td>NaT</td>\n      <td>-7796989692169391171</td>\n      <td>NaN</td>\n      <td>NaT</td>\n      <td>NaN</td>\n      <td>NaN</td>\n      <td>[0662980001, 0662857004, 0685687001]</td>\n    </tr>\n    <tr>\n      <th>269910</th>\n      <td>NaT</td>\n      <td>-3325783207646041945</td>\n      <td>NaN</td>\n      <td>NaT</td>\n      <td>NaN</td>\n      <td>NaN</td>\n      <td>[0657291005, 0657287002, 0657287001]</td>\n    </tr>\n    <tr>\n      <th>269911</th>\n      <td>NaT</td>\n      <td>3190611120633924214</td>\n      <td>NaN</td>\n      <td>NaT</td>\n      <td>NaN</td>\n      <td>NaN</td>\n      <td>[0657415002, 0675203003, 0657415001]</td>\n    </tr>\n    <tr>\n      <th>269912</th>\n      <td>NaT</td>\n      <td>3559960933639105976</td>\n      <td>NaN</td>\n      <td>NaT</td>\n      <td>NaN</td>\n      <td>NaN</td>\n      <td>[0666448001, 0666448005, 0637549013]</td>\n    </tr>\n    <tr>\n      <th>269913</th>\n      <td>NaT</td>\n      <td>5458912799836009675</td>\n      <td>NaN</td>\n      <td>NaT</td>\n      <td>NaN</td>\n      <td>NaN</td>\n      <td>[0657291005, 0657287002, 0657287001]</td>\n    </tr>\n  </tbody>\n</table>\n<p>269914 rows × 7 columns</p>\n</div>"
     },
     "execution_count": 15,
     "metadata": {},
     "output_type": "execute_result"
    }
   ],
   "source": [
    "pd.concat([df,df2],axis=0,ignore_index=True)"
   ],
   "metadata": {
    "collapsed": false,
    "pycharm": {
     "name": "#%%\n"
    }
   }
  },
  {
   "cell_type": "code",
   "execution_count": 118,
   "outputs": [],
   "source": [
    "# CONCATENATE PAIRED ITEM RECOMMENDATION AFTER PRVIOUS PURCHASED RECOMMENDATIONS\n",
    "\n",
    "df2 = df[['customer_id','article_id2']].copy()\n",
    "df2 = df2.loc[df2.article_id2.notnull()]\n",
    "df2 = df2.drop_duplicates(['customer_id','article_id2'])"
   ],
   "metadata": {
    "collapsed": false,
    "pycharm": {
     "name": "#%%\n"
    }
   }
  },
  {
   "cell_type": "code",
   "execution_count": 119,
   "outputs": [],
   "source": [
    "df2 = df2.rename({'article_id2': 'article_id'}, axis=1)"
   ],
   "metadata": {
    "collapsed": false,
    "pycharm": {
     "name": "#%%\n"
    }
   }
  },
  {
   "cell_type": "code",
   "execution_count": 120,
   "outputs": [],
   "source": [
    "df = df[['customer_id','article_id']]\n",
    "df = pd.concat([df,df2],axis=0, ignore_index=True)\n",
    "df.article_id = df.article_id.astype('int32')\n",
    "df = df.drop_duplicates(['customer_id','article_id'])"
   ],
   "metadata": {
    "collapsed": false,
    "pycharm": {
     "name": "#%%\n"
    }
   }
  },
  {
   "cell_type": "code",
   "execution_count": 123,
   "outputs": [
    {
     "data": {
      "text/plain": "                customer_id   article_id\n0       7618378619196079326   0306307002\n1       6368186744698571317   0637255001\n2      -6881127498538926880   0593783005\n3      -4776960193497363601   0708021001\n4      -3838300659438064485   0607834001\n...                     ...          ...\n521873 -4545975550442162194   0688873002\n521874 -4545975550442162194   0658848004\n521875 -4545975550442162194   0680186001\n521876 -4545975550442162194   0679121001\n521878 -8286316756823862684   0568601019\n\n[478319 rows x 2 columns]",
      "text/html": "<div>\n<style scoped>\n    .dataframe tbody tr th:only-of-type {\n        vertical-align: middle;\n    }\n\n    .dataframe tbody tr th {\n        vertical-align: top;\n    }\n\n    .dataframe thead th {\n        text-align: right;\n    }\n</style>\n<table border=\"1\" class=\"dataframe\">\n  <thead>\n    <tr style=\"text-align: right;\">\n      <th></th>\n      <th>customer_id</th>\n      <th>article_id</th>\n    </tr>\n  </thead>\n  <tbody>\n    <tr>\n      <th>0</th>\n      <td>7618378619196079326</td>\n      <td>0306307002</td>\n    </tr>\n    <tr>\n      <th>1</th>\n      <td>6368186744698571317</td>\n      <td>0637255001</td>\n    </tr>\n    <tr>\n      <th>2</th>\n      <td>-6881127498538926880</td>\n      <td>0593783005</td>\n    </tr>\n    <tr>\n      <th>3</th>\n      <td>-4776960193497363601</td>\n      <td>0708021001</td>\n    </tr>\n    <tr>\n      <th>4</th>\n      <td>-3838300659438064485</td>\n      <td>0607834001</td>\n    </tr>\n    <tr>\n      <th>...</th>\n      <td>...</td>\n      <td>...</td>\n    </tr>\n    <tr>\n      <th>521873</th>\n      <td>-4545975550442162194</td>\n      <td>0688873002</td>\n    </tr>\n    <tr>\n      <th>521874</th>\n      <td>-4545975550442162194</td>\n      <td>0658848004</td>\n    </tr>\n    <tr>\n      <th>521875</th>\n      <td>-4545975550442162194</td>\n      <td>0680186001</td>\n    </tr>\n    <tr>\n      <th>521876</th>\n      <td>-4545975550442162194</td>\n      <td>0679121001</td>\n    </tr>\n    <tr>\n      <th>521878</th>\n      <td>-8286316756823862684</td>\n      <td>0568601019</td>\n    </tr>\n  </tbody>\n</table>\n<p>478319 rows × 2 columns</p>\n</div>"
     },
     "execution_count": 123,
     "metadata": {},
     "output_type": "execute_result"
    }
   ],
   "source": [
    "df"
   ],
   "metadata": {
    "collapsed": false,
    "pycharm": {
     "name": "#%%\n"
    }
   }
  },
  {
   "cell_type": "code",
   "execution_count": 100,
   "outputs": [
    {
     "data": {
      "text/plain": "           customer_id                                         prediction\n0 -9223343869995384291   0 0687114002 0 0670655001 0 0671613001 0 0661...\n1 -9223225275836423258                                       0 0637661003\n2 -9223211958423060038                                       0 0718748001\n3 -9222997225963363376                          0 0537116001 0 0621381001\n4 -9222798684148120334   0 0685687003 0 0685687004 0 0685687004 0 0685...",
      "text/html": "<div>\n<style scoped>\n    .dataframe tbody tr th:only-of-type {\n        vertical-align: middle;\n    }\n\n    .dataframe tbody tr th {\n        vertical-align: top;\n    }\n\n    .dataframe thead th {\n        text-align: right;\n    }\n</style>\n<table border=\"1\" class=\"dataframe\">\n  <thead>\n    <tr style=\"text-align: right;\">\n      <th></th>\n      <th>customer_id</th>\n      <th>prediction</th>\n    </tr>\n  </thead>\n  <tbody>\n    <tr>\n      <th>0</th>\n      <td>-9223343869995384291</td>\n      <td>0 0687114002 0 0670655001 0 0671613001 0 0661...</td>\n    </tr>\n    <tr>\n      <th>1</th>\n      <td>-9223225275836423258</td>\n      <td>0 0637661003</td>\n    </tr>\n    <tr>\n      <th>2</th>\n      <td>-9223211958423060038</td>\n      <td>0 0718748001</td>\n    </tr>\n    <tr>\n      <th>3</th>\n      <td>-9222997225963363376</td>\n      <td>0 0537116001 0 0621381001</td>\n    </tr>\n    <tr>\n      <th>4</th>\n      <td>-9222798684148120334</td>\n      <td>0 0685687003 0 0685687004 0 0685687004 0 0685...</td>\n    </tr>\n  </tbody>\n</table>\n</div>"
     },
     "execution_count": 100,
     "metadata": {},
     "output_type": "execute_result"
    }
   ],
   "source": [
    "df.article_id = ' 0'+ df.article_id.astype('str')\n",
    "preds = pd.DataFrame(df.groupby('customer_id').article_id.sum().reset_index())\n",
    "preds.columns = ['customer_id','prediction']\n",
    "preds.head()"
   ],
   "metadata": {
    "collapsed": false,
    "pycharm": {
     "name": "#%%\n"
    }
   }
  },
  {
   "cell_type": "code",
   "execution_count": 28,
   "outputs": [
    {
     "data": {
      "text/plain": "               customer_id                                         prediction\n0     -9223343869995384291   0687114002 0670655001 0671613001 0661162002 0...\n1     -9223225275836423258                                         0637661003\n2     -9223211958423060038                                         0718748001\n3     -9222997225963363376                              0537116001 0621381001\n4     -9222798684148120334   0685687003 0685687004 0685687004 0685687002 0...\n...                    ...                                                ...\n75428  9222018861260645797                   0717130003 0610711001 0692454002\n75429  9222278908299164133   0639469001 0228257002 0228257002 0677417002 0...\n75430  9222579427591124770        0487722007 0487722007 0688873002 0670752002\n75431  9222844312705255886        0654772003 0516903005 0637255001 0637255001\n75432  9222994810437999589                                         0649671002\n\n[75433 rows x 2 columns]",
      "text/html": "<div>\n<style scoped>\n    .dataframe tbody tr th:only-of-type {\n        vertical-align: middle;\n    }\n\n    .dataframe tbody tr th {\n        vertical-align: top;\n    }\n\n    .dataframe thead th {\n        text-align: right;\n    }\n</style>\n<table border=\"1\" class=\"dataframe\">\n  <thead>\n    <tr style=\"text-align: right;\">\n      <th></th>\n      <th>customer_id</th>\n      <th>prediction</th>\n    </tr>\n  </thead>\n  <tbody>\n    <tr>\n      <th>0</th>\n      <td>-9223343869995384291</td>\n      <td>0687114002 0670655001 0671613001 0661162002 0...</td>\n    </tr>\n    <tr>\n      <th>1</th>\n      <td>-9223225275836423258</td>\n      <td>0637661003</td>\n    </tr>\n    <tr>\n      <th>2</th>\n      <td>-9223211958423060038</td>\n      <td>0718748001</td>\n    </tr>\n    <tr>\n      <th>3</th>\n      <td>-9222997225963363376</td>\n      <td>0537116001 0621381001</td>\n    </tr>\n    <tr>\n      <th>4</th>\n      <td>-9222798684148120334</td>\n      <td>0685687003 0685687004 0685687004 0685687002 0...</td>\n    </tr>\n    <tr>\n      <th>...</th>\n      <td>...</td>\n      <td>...</td>\n    </tr>\n    <tr>\n      <th>75428</th>\n      <td>9222018861260645797</td>\n      <td>0717130003 0610711001 0692454002</td>\n    </tr>\n    <tr>\n      <th>75429</th>\n      <td>9222278908299164133</td>\n      <td>0639469001 0228257002 0228257002 0677417002 0...</td>\n    </tr>\n    <tr>\n      <th>75430</th>\n      <td>9222579427591124770</td>\n      <td>0487722007 0487722007 0688873002 0670752002</td>\n    </tr>\n    <tr>\n      <th>75431</th>\n      <td>9222844312705255886</td>\n      <td>0654772003 0516903005 0637255001 0637255001</td>\n    </tr>\n    <tr>\n      <th>75432</th>\n      <td>9222994810437999589</td>\n      <td>0649671002</td>\n    </tr>\n  </tbody>\n</table>\n<p>75433 rows × 2 columns</p>\n</div>"
     },
     "execution_count": 28,
     "metadata": {},
     "output_type": "execute_result"
    }
   ],
   "source": [
    "#Recommend Last Week's Most Popular items"
   ],
   "metadata": {
    "collapsed": false,
    "pycharm": {
     "name": "#%%\n"
    }
   }
  },
  {
   "cell_type": "code",
   "execution_count": 4,
   "outputs": [],
   "source": [
    "import pandas as pd"
   ],
   "metadata": {
    "collapsed": false,
    "pycharm": {
     "name": "#%%\n"
    }
   }
  },
  {
   "cell_type": "code",
   "execution_count": 8,
   "outputs": [],
   "source": [
    "df = pd.read_csv(csv_train, dtype={'article_id': str}, parse_dates=['t_dat'])"
   ],
   "metadata": {
    "collapsed": false,
    "pycharm": {
     "name": "#%%\n"
    }
   }
  },
  {
   "cell_type": "code",
   "execution_count": 9,
   "outputs": [],
   "source": [
    "df.t_dat = pd.to_datetime(df.t_dat)"
   ],
   "metadata": {
    "collapsed": false,
    "pycharm": {
     "name": "#%%\n"
    }
   }
  },
  {
   "cell_type": "code",
   "execution_count": 22,
   "outputs": [
    {
     "data": {
      "text/plain": "'0706016001 0706016002 0372860001 0610776002 0759871002 0464297007 0372860002 0610776001 0399223001 0706016003 0720125001 0156231001'"
     },
     "execution_count": 22,
     "metadata": {},
     "output_type": "execute_result"
    }
   ],
   "source": [
    "top12"
   ],
   "metadata": {
    "collapsed": false,
    "pycharm": {
     "name": "#%%\n"
    }
   }
  },
  {
   "cell_type": "code",
   "execution_count": 23,
   "outputs": [],
   "source": [
    "top12 = ' '.join(df.article_id.value_counts().index.astype('str')[:12])"
   ],
   "metadata": {
    "collapsed": false,
    "pycharm": {
     "name": "#%%\n"
    }
   }
  },
  {
   "cell_type": "code",
   "execution_count": 29,
   "outputs": [],
   "source": [
    "df = pd.read_csv(csv_train, dtype={'article_id': str}, parse_dates=['t_dat'])"
   ],
   "metadata": {
    "collapsed": false,
    "pycharm": {
     "name": "#%%%\n"
    }
   }
  },
  {
   "cell_type": "code",
   "execution_count": 30,
   "outputs": [
    {
     "data": {
      "text/plain": "              t_dat                                        customer_id  \\\n0        2018-09-20  000058a12d5b43e67d225668fa1f8d618c13dc232df0ca...   \n1        2018-09-20  000058a12d5b43e67d225668fa1f8d618c13dc232df0ca...   \n2        2018-09-20  00007d2de826758b65a93dd24ce629ed66842531df6699...   \n3        2018-09-20  00007d2de826758b65a93dd24ce629ed66842531df6699...   \n4        2018-09-20  00007d2de826758b65a93dd24ce629ed66842531df6699...   \n...             ...                                                ...   \n31788319 2020-09-22  fff2282977442e327b45d8c89afde25617d00124d0f999...   \n31788320 2020-09-22  fff2282977442e327b45d8c89afde25617d00124d0f999...   \n31788321 2020-09-22  fff380805474b287b05cb2a7507b9a013482f7dd0bce0e...   \n31788322 2020-09-22  fff4d3a8b1f3b60af93e78c30a7cb4cf75edaf2590d3e5...   \n31788323 2020-09-22  fffef3b6b73545df065b521e19f64bf6fe93bfd450ab20...   \n\n          article_id     price  sales_channel_id  \n0         0663713001  0.050831                 2  \n1         0541518023  0.030492                 2  \n2         0505221004  0.015237                 2  \n3         0685687003  0.016932                 2  \n4         0685687004  0.016932                 2  \n...              ...       ...               ...  \n31788319  0929511001  0.059305                 2  \n31788320  0891322004  0.042356                 2  \n31788321  0918325001  0.043203                 1  \n31788322  0833459002  0.006763                 1  \n31788323  0898573003  0.033881                 2  \n\n[31788324 rows x 5 columns]",
      "text/html": "<div>\n<style scoped>\n    .dataframe tbody tr th:only-of-type {\n        vertical-align: middle;\n    }\n\n    .dataframe tbody tr th {\n        vertical-align: top;\n    }\n\n    .dataframe thead th {\n        text-align: right;\n    }\n</style>\n<table border=\"1\" class=\"dataframe\">\n  <thead>\n    <tr style=\"text-align: right;\">\n      <th></th>\n      <th>t_dat</th>\n      <th>customer_id</th>\n      <th>article_id</th>\n      <th>price</th>\n      <th>sales_channel_id</th>\n    </tr>\n  </thead>\n  <tbody>\n    <tr>\n      <th>0</th>\n      <td>2018-09-20</td>\n      <td>000058a12d5b43e67d225668fa1f8d618c13dc232df0ca...</td>\n      <td>0663713001</td>\n      <td>0.050831</td>\n      <td>2</td>\n    </tr>\n    <tr>\n      <th>1</th>\n      <td>2018-09-20</td>\n      <td>000058a12d5b43e67d225668fa1f8d618c13dc232df0ca...</td>\n      <td>0541518023</td>\n      <td>0.030492</td>\n      <td>2</td>\n    </tr>\n    <tr>\n      <th>2</th>\n      <td>2018-09-20</td>\n      <td>00007d2de826758b65a93dd24ce629ed66842531df6699...</td>\n      <td>0505221004</td>\n      <td>0.015237</td>\n      <td>2</td>\n    </tr>\n    <tr>\n      <th>3</th>\n      <td>2018-09-20</td>\n      <td>00007d2de826758b65a93dd24ce629ed66842531df6699...</td>\n      <td>0685687003</td>\n      <td>0.016932</td>\n      <td>2</td>\n    </tr>\n    <tr>\n      <th>4</th>\n      <td>2018-09-20</td>\n      <td>00007d2de826758b65a93dd24ce629ed66842531df6699...</td>\n      <td>0685687004</td>\n      <td>0.016932</td>\n      <td>2</td>\n    </tr>\n    <tr>\n      <th>...</th>\n      <td>...</td>\n      <td>...</td>\n      <td>...</td>\n      <td>...</td>\n      <td>...</td>\n    </tr>\n    <tr>\n      <th>31788319</th>\n      <td>2020-09-22</td>\n      <td>fff2282977442e327b45d8c89afde25617d00124d0f999...</td>\n      <td>0929511001</td>\n      <td>0.059305</td>\n      <td>2</td>\n    </tr>\n    <tr>\n      <th>31788320</th>\n      <td>2020-09-22</td>\n      <td>fff2282977442e327b45d8c89afde25617d00124d0f999...</td>\n      <td>0891322004</td>\n      <td>0.042356</td>\n      <td>2</td>\n    </tr>\n    <tr>\n      <th>31788321</th>\n      <td>2020-09-22</td>\n      <td>fff380805474b287b05cb2a7507b9a013482f7dd0bce0e...</td>\n      <td>0918325001</td>\n      <td>0.043203</td>\n      <td>1</td>\n    </tr>\n    <tr>\n      <th>31788322</th>\n      <td>2020-09-22</td>\n      <td>fff4d3a8b1f3b60af93e78c30a7cb4cf75edaf2590d3e5...</td>\n      <td>0833459002</td>\n      <td>0.006763</td>\n      <td>1</td>\n    </tr>\n    <tr>\n      <th>31788323</th>\n      <td>2020-09-22</td>\n      <td>fffef3b6b73545df065b521e19f64bf6fe93bfd450ab20...</td>\n      <td>0898573003</td>\n      <td>0.033881</td>\n      <td>2</td>\n    </tr>\n  </tbody>\n</table>\n<p>31788324 rows × 5 columns</p>\n</div>"
     },
     "execution_count": 30,
     "metadata": {},
     "output_type": "execute_result"
    }
   ],
   "source": [
    "df"
   ],
   "metadata": {
    "collapsed": false,
    "pycharm": {
     "name": "#%%\n"
    }
   }
  },
  {
   "cell_type": "code",
   "execution_count": 31,
   "outputs": [],
   "source": [
    "df.article_id =df.article_id.astype('str')"
   ],
   "metadata": {
    "collapsed": false,
    "pycharm": {
     "name": "#%%\n"
    }
   }
  },
  {
   "cell_type": "code",
   "execution_count": 32,
   "outputs": [
    {
     "data": {
      "text/plain": "                                         customer_id  \\\n0  00000dbacae5abe5e23885899a1fa44253a17956c6d1c3...   \n1  0000423b00ade91418cceaf3b26c6af3dd342b51fd051e...   \n2  000058a12d5b43e67d225668fa1f8d618c13dc232df0ca...   \n3  00005ca1c9ed5f5146b52ac8639a40ca9d57aeff4d1bd2...   \n4  00006413d8573cd20ed7128e53b7b13819fe5cfc2d801f...   \n\n                                          prediction  \n0  0625548001017620902306277590100697138006056860...  \n1  0583558001063967700806402440030521269001066644...  \n2  0663713001054151802306637130010578020002072352...  \n3                               07420790010732413001  \n4  0634249005067704900106982860030707704003039906...  ",
      "text/html": "<div>\n<style scoped>\n    .dataframe tbody tr th:only-of-type {\n        vertical-align: middle;\n    }\n\n    .dataframe tbody tr th {\n        vertical-align: top;\n    }\n\n    .dataframe thead th {\n        text-align: right;\n    }\n</style>\n<table border=\"1\" class=\"dataframe\">\n  <thead>\n    <tr style=\"text-align: right;\">\n      <th></th>\n      <th>customer_id</th>\n      <th>prediction</th>\n    </tr>\n  </thead>\n  <tbody>\n    <tr>\n      <th>0</th>\n      <td>00000dbacae5abe5e23885899a1fa44253a17956c6d1c3...</td>\n      <td>0625548001017620902306277590100697138006056860...</td>\n    </tr>\n    <tr>\n      <th>1</th>\n      <td>0000423b00ade91418cceaf3b26c6af3dd342b51fd051e...</td>\n      <td>0583558001063967700806402440030521269001066644...</td>\n    </tr>\n    <tr>\n      <th>2</th>\n      <td>000058a12d5b43e67d225668fa1f8d618c13dc232df0ca...</td>\n      <td>0663713001054151802306637130010578020002072352...</td>\n    </tr>\n    <tr>\n      <th>3</th>\n      <td>00005ca1c9ed5f5146b52ac8639a40ca9d57aeff4d1bd2...</td>\n      <td>07420790010732413001</td>\n    </tr>\n    <tr>\n      <th>4</th>\n      <td>00006413d8573cd20ed7128e53b7b13819fe5cfc2d801f...</td>\n      <td>0634249005067704900106982860030707704003039906...</td>\n    </tr>\n  </tbody>\n</table>\n</div>"
     },
     "execution_count": 32,
     "metadata": {},
     "output_type": "execute_result"
    }
   ],
   "source": [
    "preds = pd.DataFrame(df.groupby('customer_id').article_id.sum().reset_index() )\n",
    "preds.columns = ['customer_id','prediction']\n",
    "preds.head()"
   ],
   "metadata": {
    "collapsed": false,
    "pycharm": {
     "name": "#%%\n"
    }
   }
  },
  {
   "cell_type": "code",
   "execution_count": 26,
   "outputs": [
    {
     "data": {
      "text/plain": "                                               customer_id  \\\n0        00000dbacae5abe5e23885899a1fa44253a17956c6d1c3...   \n1        0000423b00ade91418cceaf3b26c6af3dd342b51fd051e...   \n2        000058a12d5b43e67d225668fa1f8d618c13dc232df0ca...   \n3        00005ca1c9ed5f5146b52ac8639a40ca9d57aeff4d1bd2...   \n4        00006413d8573cd20ed7128e53b7b13819fe5cfc2d801f...   \n...                                                    ...   \n1362276  ffffbbf78b6eaac697a8a5dfbfd2bfa8113ee5b403e474...   \n1362277  ffffcd5046a6143d29a04fb8c424ce494a76e5cdf4fab5...   \n1362278  ffffcf35913a0bee60e8741cb2b4e78b8a98ee5ff2e6a1...   \n1362279  ffffd7744cebcf3aca44ae7049d2a94b87074c3d4ffe38...   \n1362280  ffffd9ac14e89946416d80e791d064701994755c3ab686...   \n\n                                                article_id  \n0        0625548001017620902306277590100697138006056860...  \n1        0583558001063967700806402440030521269001066644...  \n2        0663713001054151802306637130010578020002072352...  \n3                                     07420790010732413001  \n4        0634249005067704900106982860030707704003039906...  \n...                                                    ...  \n1362276  0698276003069907500506941820020722436003072243...  \n1362277  0671695001056224501505622450180562245004065792...  \n1362278  0568597019048439800104843980010701083001059704...  \n1362279  0821395003080624100207147900200866755002084036...  \n1362280                                         0806050001  \n\n[1362281 rows x 2 columns]",
      "text/html": "<div>\n<style scoped>\n    .dataframe tbody tr th:only-of-type {\n        vertical-align: middle;\n    }\n\n    .dataframe tbody tr th {\n        vertical-align: top;\n    }\n\n    .dataframe thead th {\n        text-align: right;\n    }\n</style>\n<table border=\"1\" class=\"dataframe\">\n  <thead>\n    <tr style=\"text-align: right;\">\n      <th></th>\n      <th>customer_id</th>\n      <th>article_id</th>\n    </tr>\n  </thead>\n  <tbody>\n    <tr>\n      <th>0</th>\n      <td>00000dbacae5abe5e23885899a1fa44253a17956c6d1c3...</td>\n      <td>0625548001017620902306277590100697138006056860...</td>\n    </tr>\n    <tr>\n      <th>1</th>\n      <td>0000423b00ade91418cceaf3b26c6af3dd342b51fd051e...</td>\n      <td>0583558001063967700806402440030521269001066644...</td>\n    </tr>\n    <tr>\n      <th>2</th>\n      <td>000058a12d5b43e67d225668fa1f8d618c13dc232df0ca...</td>\n      <td>0663713001054151802306637130010578020002072352...</td>\n    </tr>\n    <tr>\n      <th>3</th>\n      <td>00005ca1c9ed5f5146b52ac8639a40ca9d57aeff4d1bd2...</td>\n      <td>07420790010732413001</td>\n    </tr>\n    <tr>\n      <th>4</th>\n      <td>00006413d8573cd20ed7128e53b7b13819fe5cfc2d801f...</td>\n      <td>0634249005067704900106982860030707704003039906...</td>\n    </tr>\n    <tr>\n      <th>...</th>\n      <td>...</td>\n      <td>...</td>\n    </tr>\n    <tr>\n      <th>1362276</th>\n      <td>ffffbbf78b6eaac697a8a5dfbfd2bfa8113ee5b403e474...</td>\n      <td>0698276003069907500506941820020722436003072243...</td>\n    </tr>\n    <tr>\n      <th>1362277</th>\n      <td>ffffcd5046a6143d29a04fb8c424ce494a76e5cdf4fab5...</td>\n      <td>0671695001056224501505622450180562245004065792...</td>\n    </tr>\n    <tr>\n      <th>1362278</th>\n      <td>ffffcf35913a0bee60e8741cb2b4e78b8a98ee5ff2e6a1...</td>\n      <td>0568597019048439800104843980010701083001059704...</td>\n    </tr>\n    <tr>\n      <th>1362279</th>\n      <td>ffffd7744cebcf3aca44ae7049d2a94b87074c3d4ffe38...</td>\n      <td>0821395003080624100207147900200866755002084036...</td>\n    </tr>\n    <tr>\n      <th>1362280</th>\n      <td>ffffd9ac14e89946416d80e791d064701994755c3ab686...</td>\n      <td>0806050001</td>\n    </tr>\n  </tbody>\n</table>\n<p>1362281 rows × 2 columns</p>\n</div>"
     },
     "execution_count": 26,
     "metadata": {},
     "output_type": "execute_result"
    }
   ],
   "source": [],
   "metadata": {
    "collapsed": false,
    "pycharm": {
     "name": "#%%\n"
    }
   }
  },
  {
   "cell_type": "code",
   "execution_count": null,
   "outputs": [],
   "source": [
    "print(\"Last week's top 12 popular items:\")\n",
    "print(top12)\n",
    "\n",
    "#유저별 선호하는 아이템의 특징을 파악해야 한다\n",
    "# 깔끔한 삼각팬티를 색깔별로 산 유저 -> 비슷한 아이템을 산 유저는 같은 날에 산 경우가 많다\n",
    "# -> 다양한 색의 비슷한 아이템 추천"
   ],
   "metadata": {
    "collapsed": false,
    "pycharm": {
     "name": "#%%\n"
    }
   }
  },
  {
   "cell_type": "code",
   "execution_count": 51,
   "outputs": [
    {
     "data": {
      "text/plain": "                                                customer_id  article_id  \\\n0         00000dbacae5abe5e23885899a1fa44253a17956c6d1c3...  0176209023   \n1         00000dbacae5abe5e23885899a1fa44253a17956c6d1c3...  0568601006   \n2         00000dbacae5abe5e23885899a1fa44253a17956c6d1c3...  0568601043   \n3         00000dbacae5abe5e23885899a1fa44253a17956c6d1c3...  0607642008   \n4         00000dbacae5abe5e23885899a1fa44253a17956c6d1c3...  0625548001   \n...                                                     ...         ...   \n27306434  ffffd7744cebcf3aca44ae7049d2a94b87074c3d4ffe38...  0821395003   \n27306435  ffffd7744cebcf3aca44ae7049d2a94b87074c3d4ffe38...  0840360003   \n27306436  ffffd7744cebcf3aca44ae7049d2a94b87074c3d4ffe38...  0866755002   \n27306437  ffffd7744cebcf3aca44ae7049d2a94b87074c3d4ffe38...  0882810001   \n27306438  ffffd9ac14e89946416d80e791d064701994755c3ab686...  0806050001   \n\n          sales_channel_id  \n0                        1  \n1                        2  \n2                        1  \n3                        1  \n4                        1  \n...                    ...  \n27306434                 1  \n27306435                 1  \n27306436                 2  \n27306437                 1  \n27306438                 1  \n\n[27306439 rows x 3 columns]",
      "text/html": "<div>\n<style scoped>\n    .dataframe tbody tr th:only-of-type {\n        vertical-align: middle;\n    }\n\n    .dataframe tbody tr th {\n        vertical-align: top;\n    }\n\n    .dataframe thead th {\n        text-align: right;\n    }\n</style>\n<table border=\"1\" class=\"dataframe\">\n  <thead>\n    <tr style=\"text-align: right;\">\n      <th></th>\n      <th>customer_id</th>\n      <th>article_id</th>\n      <th>sales_channel_id</th>\n    </tr>\n  </thead>\n  <tbody>\n    <tr>\n      <th>0</th>\n      <td>00000dbacae5abe5e23885899a1fa44253a17956c6d1c3...</td>\n      <td>0176209023</td>\n      <td>1</td>\n    </tr>\n    <tr>\n      <th>1</th>\n      <td>00000dbacae5abe5e23885899a1fa44253a17956c6d1c3...</td>\n      <td>0568601006</td>\n      <td>2</td>\n    </tr>\n    <tr>\n      <th>2</th>\n      <td>00000dbacae5abe5e23885899a1fa44253a17956c6d1c3...</td>\n      <td>0568601043</td>\n      <td>1</td>\n    </tr>\n    <tr>\n      <th>3</th>\n      <td>00000dbacae5abe5e23885899a1fa44253a17956c6d1c3...</td>\n      <td>0607642008</td>\n      <td>1</td>\n    </tr>\n    <tr>\n      <th>4</th>\n      <td>00000dbacae5abe5e23885899a1fa44253a17956c6d1c3...</td>\n      <td>0625548001</td>\n      <td>1</td>\n    </tr>\n    <tr>\n      <th>...</th>\n      <td>...</td>\n      <td>...</td>\n      <td>...</td>\n    </tr>\n    <tr>\n      <th>27306434</th>\n      <td>ffffd7744cebcf3aca44ae7049d2a94b87074c3d4ffe38...</td>\n      <td>0821395003</td>\n      <td>1</td>\n    </tr>\n    <tr>\n      <th>27306435</th>\n      <td>ffffd7744cebcf3aca44ae7049d2a94b87074c3d4ffe38...</td>\n      <td>0840360003</td>\n      <td>1</td>\n    </tr>\n    <tr>\n      <th>27306436</th>\n      <td>ffffd7744cebcf3aca44ae7049d2a94b87074c3d4ffe38...</td>\n      <td>0866755002</td>\n      <td>2</td>\n    </tr>\n    <tr>\n      <th>27306437</th>\n      <td>ffffd7744cebcf3aca44ae7049d2a94b87074c3d4ffe38...</td>\n      <td>0882810001</td>\n      <td>1</td>\n    </tr>\n    <tr>\n      <th>27306438</th>\n      <td>ffffd9ac14e89946416d80e791d064701994755c3ab686...</td>\n      <td>0806050001</td>\n      <td>1</td>\n    </tr>\n  </tbody>\n</table>\n<p>27306439 rows × 3 columns</p>\n</div>"
     },
     "execution_count": 51,
     "metadata": {},
     "output_type": "execute_result"
    }
   ],
   "source": [],
   "metadata": {
    "collapsed": false,
    "pycharm": {
     "name": "#%%\n"
    }
   }
  },
  {
   "cell_type": "code",
   "execution_count": null,
   "outputs": [],
   "source": [],
   "metadata": {
    "collapsed": false,
    "pycharm": {
     "name": "#%%\n"
    }
   }
  },
  {
   "cell_type": "code",
   "execution_count": null,
   "outputs": [],
   "source": [
    "sub = pd.read_csv('../input/h-and-m-personalized-fashion-recommendations/sample_submission.csv')\n",
    "sub = sub[['customer_id']]\n",
    "sub['customer_id_2'] = sub['customer_id'].apply(lambda x :  int( x[-16:],16))\n",
    "sub = sub.merge(preds.rename({'customer_id':'customer_id_2'},axis=1),\\\n",
    "    on='customer_id_2', how='left').fillna('')\n",
    "del sub['customer_id_2']\n",
    "sub.prediction = sub.prediction + top12\n",
    "sub.prediction = sub.prediction.str.strip()\n",
    "sub.prediction = sub.prediction.str[:131]\n",
    "sub.to_csv(f'submission.csv',index=False)\n",
    "sub.head()"
   ],
   "metadata": {
    "collapsed": false,
    "pycharm": {
     "name": "#%%\n"
    }
   }
  },
  {
   "cell_type": "code",
   "execution_count": 279,
   "outputs": [
    {
     "data": {
      "text/plain": "<Figure size 1440x720 with 93 Axes>",
      "image/png": "[encoded data removed]"
     },
     "metadata": {},
     "output_type": "display_data"
    }
   ],
   "source": [
    "show_buy_items(df,df['customer_id'].values[150])"
   ],
   "metadata": {
    "collapsed": false,
    "pycharm": {
     "name": "#%%\n"
    }
   }
  },
  {
   "cell_type": "code",
   "execution_count": 236,
   "outputs": [
    {
     "data": {
      "text/plain": "       t_dat                                        customer_id  article_id  \\\n0 2018-09-20  000058a12d5b43e67d225668fa1f8d618c13dc232df0ca...  0663713001   \n1 2018-09-20  000058a12d5b43e67d225668fa1f8d618c13dc232df0ca...  0541518023   \n2 2018-09-20  00007d2de826758b65a93dd24ce629ed66842531df6699...  0505221004   \n3 2018-09-20  00007d2de826758b65a93dd24ce629ed66842531df6699...  0685687003   \n4 2018-09-20  00007d2de826758b65a93dd24ce629ed66842531df6699...  0685687004   \n5 2018-09-20  00007d2de826758b65a93dd24ce629ed66842531df6699...  0685687001   \n6 2018-09-20  00007d2de826758b65a93dd24ce629ed66842531df6699...  0505221001   \n7 2018-09-20  00083cda041544b2fbb0e0d2905ad17da7cf1007526fb4...  0688873012   \n8 2018-09-20  00083cda041544b2fbb0e0d2905ad17da7cf1007526fb4...  0501323011   \n9 2018-09-20  00083cda041544b2fbb0e0d2905ad17da7cf1007526fb4...  0598859003   \n\n      price  sales_channel_id  \n0  0.050831                 2  \n1  0.030492                 2  \n2  0.015237                 2  \n3  0.016932                 2  \n4  0.016932                 2  \n5  0.016932                 2  \n6  0.020322                 2  \n7  0.030492                 1  \n8  0.053373                 1  \n9  0.045746                 2  ",
      "text/html": "<div>\n<style scoped>\n    .dataframe tbody tr th:only-of-type {\n        vertical-align: middle;\n    }\n\n    .dataframe tbody tr th {\n        vertical-align: top;\n    }\n\n    .dataframe thead th {\n        text-align: right;\n    }\n</style>\n<table border=\"1\" class=\"dataframe\">\n  <thead>\n    <tr style=\"text-align: right;\">\n      <th></th>\n      <th>t_dat</th>\n      <th>customer_id</th>\n      <th>article_id</th>\n      <th>price</th>\n      <th>sales_channel_id</th>\n    </tr>\n  </thead>\n  <tbody>\n    <tr>\n      <th>0</th>\n      <td>2018-09-20</td>\n      <td>000058a12d5b43e67d225668fa1f8d618c13dc232df0ca...</td>\n      <td>0663713001</td>\n      <td>0.050831</td>\n      <td>2</td>\n    </tr>\n    <tr>\n      <th>1</th>\n      <td>2018-09-20</td>\n      <td>000058a12d5b43e67d225668fa1f8d618c13dc232df0ca...</td>\n      <td>0541518023</td>\n      <td>0.030492</td>\n      <td>2</td>\n    </tr>\n    <tr>\n      <th>2</th>\n      <td>2018-09-20</td>\n      <td>00007d2de826758b65a93dd24ce629ed66842531df6699...</td>\n      <td>0505221004</td>\n      <td>0.015237</td>\n      <td>2</td>\n    </tr>\n    <tr>\n      <th>3</th>\n      <td>2018-09-20</td>\n      <td>00007d2de826758b65a93dd24ce629ed66842531df6699...</td>\n      <td>0685687003</td>\n      <td>0.016932</td>\n      <td>2</td>\n    </tr>\n    <tr>\n      <th>4</th>\n      <td>2018-09-20</td>\n      <td>00007d2de826758b65a93dd24ce629ed66842531df6699...</td>\n      <td>0685687004</td>\n      <td>0.016932</td>\n      <td>2</td>\n    </tr>\n    <tr>\n      <th>5</th>\n      <td>2018-09-20</td>\n      <td>00007d2de826758b65a93dd24ce629ed66842531df6699...</td>\n      <td>0685687001</td>\n      <td>0.016932</td>\n      <td>2</td>\n    </tr>\n    <tr>\n      <th>6</th>\n      <td>2018-09-20</td>\n      <td>00007d2de826758b65a93dd24ce629ed66842531df6699...</td>\n      <td>0505221001</td>\n      <td>0.020322</td>\n      <td>2</td>\n    </tr>\n    <tr>\n      <th>7</th>\n      <td>2018-09-20</td>\n      <td>00083cda041544b2fbb0e0d2905ad17da7cf1007526fb4...</td>\n      <td>0688873012</td>\n      <td>0.030492</td>\n      <td>1</td>\n    </tr>\n    <tr>\n      <th>8</th>\n      <td>2018-09-20</td>\n      <td>00083cda041544b2fbb0e0d2905ad17da7cf1007526fb4...</td>\n      <td>0501323011</td>\n      <td>0.053373</td>\n      <td>1</td>\n    </tr>\n    <tr>\n      <th>9</th>\n      <td>2018-09-20</td>\n      <td>00083cda041544b2fbb0e0d2905ad17da7cf1007526fb4...</td>\n      <td>0598859003</td>\n      <td>0.045746</td>\n      <td>2</td>\n    </tr>\n  </tbody>\n</table>\n</div>"
     },
     "execution_count": 236,
     "metadata": {},
     "output_type": "execute_result"
    }
   ],
   "source": [],
   "metadata": {
    "collapsed": false,
    "pycharm": {
     "name": "#%%\n"
    }
   }
  },
  {
   "cell_type": "code",
   "execution_count": 255,
   "outputs": [],
   "source": [
    "h = len(df.iloc[:10]) / 4"
   ],
   "metadata": {
    "collapsed": false,
    "pycharm": {
     "name": "#%%\n"
    }
   }
  },
  {
   "cell_type": "code",
   "execution_count": 257,
   "outputs": [
    {
     "data": {
      "text/plain": "2.5"
     },
     "execution_count": 257,
     "metadata": {},
     "output_type": "execute_result"
    }
   ],
   "source": [
    "h"
   ],
   "metadata": {
    "collapsed": false,
    "pycharm": {
     "name": "#%%\n"
    }
   }
  },
  {
   "cell_type": "code",
   "execution_count": 258,
   "outputs": [
    {
     "data": {
      "text/plain": "3"
     },
     "execution_count": 258,
     "metadata": {},
     "output_type": "execute_result"
    }
   ],
   "source": [
    "import math\n",
    "math.ceil(h)"
   ],
   "metadata": {
    "collapsed": false,
    "pycharm": {
     "name": "#%%\n"
    }
   }
  },
  {
   "cell_type": "code",
   "execution_count": null,
   "outputs": [],
   "source": [
    "#일자별 item show\n",
    "df[df.customer_id ==df['customer_id'].values[150]]"
   ],
   "metadata": {
    "collapsed": false,
    "pycharm": {
     "name": "#%%\n"
    }
   }
  },
  {
   "cell_type": "code",
   "execution_count": 269,
   "outputs": [
    {
     "ename": "NameError",
     "evalue": "name 'desc_list' is not defined",
     "output_type": "error",
     "traceback": [
      "\u001B[1;31m---------------------------------------------------------------------------\u001B[0m",
      "\u001B[1;31mNameError\u001B[0m                                 Traceback (most recent call last)",
      "\u001B[1;32m~\\AppData\\Local\\Temp/ipykernel_28384/3734576940.py\u001B[0m in \u001B[0;36m<module>\u001B[1;34m\u001B[0m\n\u001B[1;32m----> 1\u001B[1;33m \u001B[0mdesc_list\u001B[0m\u001B[1;33m\u001B[0m\u001B[1;33m\u001B[0m\u001B[0m\n\u001B[0m",
      "\u001B[1;31mNameError\u001B[0m: name 'desc_list' is not defined"
     ]
    }
   ],
   "source": [],
   "metadata": {
    "collapsed": false,
    "pycharm": {
     "name": "#%%\n"
    }
   }
  },
  {
   "cell_type": "code",
   "execution_count": 278,
   "outputs": [],
   "source": [
    "def show_buy_items(df, exp_usr_id):\n",
    "\n",
    "    data = df[df.customer_id ==exp_usr_id]\n",
    "    w = 3\n",
    "    h = len(data) / w\n",
    "    h = math.ceil(h)\n",
    "    # 구매한 아이템 이미지\n",
    "    f, ax = plt.subplots(h, 3, figsize=(20,10))\n",
    "    i = 0\n",
    "    k = 0\n",
    "    for prod in data['article_id'].values.tolist():\n",
    "        desc = dfi[dfi['article_id'] ==  prod]['detail_desc'].iloc[0]\n",
    "        desc_list = desc.split(' ')\n",
    "\n",
    "        for j, elem in enumerate(desc_list):\n",
    "            if j > 0 and j % w == 0:\n",
    "                desc_list[j] = desc_list[j] + '\\n'\n",
    "\n",
    "        desc = ' '.join(desc_list)\n",
    "\n",
    "        section_nm = dfi[dfi['article_id'] ==  prod]['section_name'].iloc[0]\n",
    "        img = mpimg.imread(f'../input/h-and-m-personalized-fashion-recommendations/images/{str(prod)[:3]}/0{int(prod)}.jpg')\n",
    "        ax[i][k].imshow(img)\n",
    "        ax[i][k].set_title(f'price: {data.price.values[0]:.2f}')\n",
    "        ax[i][k].set_xticks([])\n",
    "        ax[i][k].set_yticks([])\n",
    "        ax[i][k].grid(False)\n",
    "        ax[i][k].set_xlabel(section_nm, fontsize=10)\n",
    "        k += 1\n",
    "        if k == w:\n",
    "            k  = 0\n",
    "            i += 1\n",
    "    plt.axis('off')\n",
    "    plt.show()\n",
    "\n"
   ],
   "metadata": {
    "collapsed": false,
    "pycharm": {
     "name": "#%%\n"
    }
   }
  },
  {
   "cell_type": "code",
   "execution_count": 200,
   "outputs": [],
   "source": [
    "def show_buy_items(article_ids):\n",
    "\n",
    "    # 구매한 아이템 이미지\n",
    "    f, ax = plt.subplots(6, 6, figsize=(30,15))\n",
    "    i = 0\n",
    "    k = 0\n",
    "    for prod in article_ids:\n",
    "        desc = dfi[dfi['article_id'] ==  prod]['detail_desc'].iloc[0]\n",
    "        desc_list = desc.split(' ')\n",
    "\n",
    "        for j, elem in enumerate(desc_list):\n",
    "            if j > 0 and j % 5 == 0:\n",
    "                desc_list[j] = desc_list[j] + '\\n'\n",
    "        desc = ' '.join(desc_list)\n",
    "        section_nm = dfi[dfi['article_id'] ==  prod]['section_name'].iloc[0]\n",
    "        img = mpimg.imread(f'../input/h-and-m-personalized-fashion-recommendations/images/{str(prod)[:3]}/0{int(prod)}.jpg')\n",
    "        ax[i][k].imshow(img)\n",
    "       # ax[i][k].set_title(f'price: {data.price.values[0]:.2f}')\n",
    "        #ax[i][k].set_xticks([], [])\n",
    "        #ax[i][k].set_yticks([], [])\n",
    "        ax[i][k].grid(False)\n",
    "        ax[i][k].set_xlabel(section_nm, fontsize=10)\n",
    "        k += 1\n",
    "        if k == 5:\n",
    "            k  = 0\n",
    "            i += 1\n",
    "    plt.axis('off')\n",
    "    plt.show()\n"
   ],
   "metadata": {
    "collapsed": false,
    "pycharm": {
     "name": "#%%\n"
    }
   }
  },
  {
   "cell_type": "code",
   "execution_count": 90,
   "outputs": [],
   "source": [
    "# Write Submission CSV\n",
    "sub = pd.read_csv('../input/h-and-m-personalized-fashion-recommendations/sample_submission.csv')\n",
    "sub = sub[['customer_id']]"
   ],
   "metadata": {
    "collapsed": false,
    "pycharm": {
     "name": "#%%\n"
    }
   }
  },
  {
   "cell_type": "code",
   "execution_count": 91,
   "outputs": [
    {
     "data": {
      "text/plain": " 0685687003    1202\n 0685687001    1167\n 0685687004    1116\n 0685687002    1109\n 0539723005     680\n               ... \n 0685030002       1\n 0619075002       1\n 0591963001       1\n 0520736002       1\n 0681135001       1\nName: article_id, Length: 22071, dtype: int64"
     },
     "execution_count": 91,
     "metadata": {},
     "output_type": "execute_result"
    }
   ],
   "source": [
    "\n",
    "\n",
    "df.article_id.value_counts()#%%"
   ],
   "metadata": {
    "collapsed": false,
    "pycharm": {
     "name": "#%%\n"
    }
   }
  },
  {
   "cell_type": "code",
   "execution_count": 98,
   "outputs": [
    {
     "data": {
      "text/plain": "               customer_id                                         prediction\n0     -9223343869995384291   0687114002 0670655001 0671613001 0661162002 0...\n1     -9223225275836423258                                         0637661003\n2     -9223211958423060038                                         0718748001\n3     -9222997225963363376                              0537116001 0621381001\n4     -9222798684148120334   0685687003 0685687004 0685687004 0685687002 0...\n...                    ...                                                ...\n75428  9222018861260645797                   0717130003 0610711001 0692454002\n75429  9222278908299164133   0639469001 0228257002 0228257002 0677417002 0...\n75430  9222579427591124770        0487722007 0487722007 0688873002 0670752002\n75431  9222844312705255886        0654772003 0516903005 0637255001 0637255001\n75432  9222994810437999589                                         0649671002\n\n[75433 rows x 2 columns]",
      "text/html": "<div>\n<style scoped>\n    .dataframe tbody tr th:only-of-type {\n        vertical-align: middle;\n    }\n\n    .dataframe tbody tr th {\n        vertical-align: top;\n    }\n\n    .dataframe thead th {\n        text-align: right;\n    }\n</style>\n<table border=\"1\" class=\"dataframe\">\n  <thead>\n    <tr style=\"text-align: right;\">\n      <th></th>\n      <th>customer_id</th>\n      <th>prediction</th>\n    </tr>\n  </thead>\n  <tbody>\n    <tr>\n      <th>0</th>\n      <td>-9223343869995384291</td>\n      <td>0687114002 0670655001 0671613001 0661162002 0...</td>\n    </tr>\n    <tr>\n      <th>1</th>\n      <td>-9223225275836423258</td>\n      <td>0637661003</td>\n    </tr>\n    <tr>\n      <th>2</th>\n      <td>-9223211958423060038</td>\n      <td>0718748001</td>\n    </tr>\n    <tr>\n      <th>3</th>\n      <td>-9222997225963363376</td>\n      <td>0537116001 0621381001</td>\n    </tr>\n    <tr>\n      <th>4</th>\n      <td>-9222798684148120334</td>\n      <td>0685687003 0685687004 0685687004 0685687002 0...</td>\n    </tr>\n    <tr>\n      <th>...</th>\n      <td>...</td>\n      <td>...</td>\n    </tr>\n    <tr>\n      <th>75428</th>\n      <td>9222018861260645797</td>\n      <td>0717130003 0610711001 0692454002</td>\n    </tr>\n    <tr>\n      <th>75429</th>\n      <td>9222278908299164133</td>\n      <td>0639469001 0228257002 0228257002 0677417002 0...</td>\n    </tr>\n    <tr>\n      <th>75430</th>\n      <td>9222579427591124770</td>\n      <td>0487722007 0487722007 0688873002 0670752002</td>\n    </tr>\n    <tr>\n      <th>75431</th>\n      <td>9222844312705255886</td>\n      <td>0654772003 0516903005 0637255001 0637255001</td>\n    </tr>\n    <tr>\n      <th>75432</th>\n      <td>9222994810437999589</td>\n      <td>0649671002</td>\n    </tr>\n  </tbody>\n</table>\n<p>75433 rows × 2 columns</p>\n</div>"
     },
     "execution_count": 98,
     "metadata": {},
     "output_type": "execute_result"
    }
   ],
   "source": [
    "preds"
   ],
   "metadata": {
    "collapsed": false,
    "pycharm": {
     "name": "#%%\n"
    }
   }
  },
  {
   "cell_type": "code",
   "execution_count": null,
   "outputs": [],
   "source": [
    "sub"
   ],
   "metadata": {
    "collapsed": false,
    "pycharm": {
     "name": "#%%\n"
    }
   }
  },
  {
   "cell_type": "code",
   "execution_count": 93,
   "outputs": [],
   "source": [
    "sub['customer_id_2'] = sub['customer_id'].apply(lambda x :  int( x[-16:],16))"
   ],
   "metadata": {
    "collapsed": false,
    "pycharm": {
     "name": "#%%\n"
    }
   }
  },
  {
   "cell_type": "code",
   "execution_count": 94,
   "outputs": [
    {
     "data": {
      "text/plain": "75433"
     },
     "execution_count": 94,
     "metadata": {},
     "output_type": "execute_result"
    }
   ],
   "source": [
    "\n",
    "preds.customer_id.nunique()"
   ],
   "metadata": {
    "collapsed": false,
    "pycharm": {
     "name": "#%%\n"
    }
   }
  },
  {
   "cell_type": "code",
   "execution_count": 95,
   "outputs": [],
   "source": [
    "sub = sub.merge(preds.rename({'customer_id':'customer_id_2'},axis=1), on='customer_id_2',how='left').fillna('')"
   ],
   "metadata": {
    "collapsed": false,
    "pycharm": {
     "name": "#%%\n"
    }
   }
  },
  {
   "cell_type": "code",
   "execution_count": 96,
   "outputs": [],
   "source": [
    "del sub['customer_id_2']"
   ],
   "metadata": {
    "collapsed": false,
    "pycharm": {
     "name": "#%%\n"
    }
   }
  },
  {
   "cell_type": "code",
   "execution_count": 97,
   "outputs": [
    {
     "data": {
      "text/plain": "0                                                           \n1           0583558001 0639677008 0640244003 0521269001 0...\n2                           0663713001 0541518023 0663713001\n3                                                           \n4                                                           \n                                 ...                        \n1371975                                                     \n1371976                                           0671695001\n1371977                                           0568597019\n1371978                                                     \n1371979                                                     \nName: prediction, Length: 1371980, dtype: object"
     },
     "execution_count": 97,
     "metadata": {},
     "output_type": "execute_result"
    }
   ],
   "source": [
    "sub.prediction"
   ],
   "metadata": {
    "collapsed": false,
    "pycharm": {
     "name": "#%%\n"
    }
   }
  },
  {
   "cell_type": "code",
   "execution_count": 79,
   "outputs": [],
   "source": [
    "sub.prediction = sub.prediction + top12"
   ],
   "metadata": {
    "collapsed": false,
    "pycharm": {
     "name": "#%%\n"
    }
   }
  },
  {
   "cell_type": "code",
   "execution_count": 80,
   "outputs": [
    {
     "data": {
      "text/plain": "0           0685687003 0685687001 0685687004 0685687002 0...\n1           0583558001 0639677008 0640244003 0521269001 0...\n2           0663713001 0541518023 0663713001 0685687003 0...\n3           0685687003 0685687001 0685687004 0685687002 0...\n4           0685687003 0685687001 0685687004 0685687002 0...\n                                 ...                        \n1371975     0685687003 0685687001 0685687004 0685687002 0...\n1371976     0671695001 0685687003 0685687001 0685687004 0...\n1371977     0568597019 0685687003 0685687001 0685687004 0...\n1371978     0685687003 0685687001 0685687004 0685687002 0...\n1371979     0685687003 0685687001 0685687004 0685687002 0...\nName: prediction, Length: 1371980, dtype: object"
     },
     "execution_count": 80,
     "metadata": {},
     "output_type": "execute_result"
    }
   ],
   "source": [
    "sub.prediction\n"
   ],
   "metadata": {
    "collapsed": false,
    "pycharm": {
     "name": "#%%\n"
    }
   }
  },
  {
   "cell_type": "code",
   "execution_count": 42,
   "outputs": [],
   "source": [
    "sub.prediction = sub.prediction.str.strip()\n",
    "sub.prediction = sub.prediction.str[:131]"
   ],
   "metadata": {
    "collapsed": false,
    "pycharm": {
     "name": "#%%\n"
    }
   }
  },
  {
   "cell_type": "code",
   "execution_count": 46,
   "outputs": [
    {
     "data": {
      "text/plain": "'0685687003 0 0685687001 0 0685687004 0 0685687002 0 0539723005 0 0562245001 0 0683662005 0 0692454002 0 0573085020 0 0524825013 0 0'"
     },
     "execution_count": 46,
     "metadata": {},
     "output_type": "execute_result"
    }
   ],
   "source": [
    "sub['prediction'].values[0]"
   ],
   "metadata": {
    "collapsed": false,
    "pycharm": {
     "name": "#%%\n"
    }
   }
  },
  {
   "cell_type": "code",
   "execution_count": 99,
   "outputs": [
    {
     "data": {
      "text/plain": "                                         customer_id  \\\n0  00000dbacae5abe5e23885899a1fa44253a17956c6d1c3...   \n1  0000423b00ade91418cceaf3b26c6af3dd342b51fd051e...   \n2  000058a12d5b43e67d225668fa1f8d618c13dc232df0ca...   \n3  00005ca1c9ed5f5146b52ac8639a40ca9d57aeff4d1bd2...   \n4  00006413d8573cd20ed7128e53b7b13819fe5cfc2d801f...   \n\n                                          prediction  \n0                                                     \n1   0583558001 0639677008 0640244003 0521269001 0...  \n2                   0663713001 0541518023 0663713001  \n3                                                     \n4                                                     ",
      "text/html": "<div>\n<style scoped>\n    .dataframe tbody tr th:only-of-type {\n        vertical-align: middle;\n    }\n\n    .dataframe tbody tr th {\n        vertical-align: top;\n    }\n\n    .dataframe thead th {\n        text-align: right;\n    }\n</style>\n<table border=\"1\" class=\"dataframe\">\n  <thead>\n    <tr style=\"text-align: right;\">\n      <th></th>\n      <th>customer_id</th>\n      <th>prediction</th>\n    </tr>\n  </thead>\n  <tbody>\n    <tr>\n      <th>0</th>\n      <td>00000dbacae5abe5e23885899a1fa44253a17956c6d1c3...</td>\n      <td></td>\n    </tr>\n    <tr>\n      <th>1</th>\n      <td>0000423b00ade91418cceaf3b26c6af3dd342b51fd051e...</td>\n      <td>0583558001 0639677008 0640244003 0521269001 0...</td>\n    </tr>\n    <tr>\n      <th>2</th>\n      <td>000058a12d5b43e67d225668fa1f8d618c13dc232df0ca...</td>\n      <td>0663713001 0541518023 0663713001</td>\n    </tr>\n    <tr>\n      <th>3</th>\n      <td>00005ca1c9ed5f5146b52ac8639a40ca9d57aeff4d1bd2...</td>\n      <td></td>\n    </tr>\n    <tr>\n      <th>4</th>\n      <td>00006413d8573cd20ed7128e53b7b13819fe5cfc2d801f...</td>\n      <td></td>\n    </tr>\n  </tbody>\n</table>\n</div>"
     },
     "execution_count": 99,
     "metadata": {},
     "output_type": "execute_result"
    }
   ],
   "source": [
    "sub.to_csv(f'submission.csv',index=False)\n",
    "sub.head()"
   ],
   "metadata": {
    "collapsed": false,
    "pycharm": {
     "name": "#%%\n"
    }
   }
  },
  {
   "cell_type": "code",
   "execution_count": 173,
   "outputs": [
    {
     "data": {
      "text/plain": "'00924243001 00924243002 00918522001 00923758001 00866731001 00909370001 00751471001 00915529003 00915529005 00448509014 00762846027'"
     },
     "execution_count": 173,
     "metadata": {},
     "output_type": "execute_result"
    }
   ],
   "source": [
    "sub['prediction'][0]"
   ],
   "metadata": {
    "collapsed": false,
    "pycharm": {
     "name": "#%%\n"
    }
   }
  },
  {
   "cell_type": "code",
   "execution_count": null,
   "outputs": [],
   "source": [
    "drop_cols = [col for col in dfi.columns if '_no' in col]\n",
    "dfi =dfi.drop(drop_cols,axis=1 )"
   ],
   "metadata": {
    "collapsed": false,
    "pycharm": {
     "name": "#%%\n"
    }
   }
  },
  {
   "cell_type": "code",
   "execution_count": 35,
   "outputs": [
    {
     "name": "stdout",
     "output_type": "stream",
     "text": [
      "Unique Customer Count : 1371980\n"
     ]
    }
   ],
   "source": [
    "print('Unique Customer Count : {}'.format(dfu['customer_id'].nunique()))\n"
   ],
   "metadata": {
    "collapsed": false,
    "pycharm": {
     "name": "#%%\n"
    }
   }
  },
  {
   "cell_type": "code",
   "execution_count": 36,
   "outputs": [],
   "source": [
    "# group 별 targeting\n",
    "\n",
    "def create_generation_var():\n",
    "    for age in range(1,10):\n",
    "        # group 별 인원수\n",
    "        globals()['{}0'.format(age)] = dfu[dfu.age.astype('str').str.startswith(str(age))]['customer_id'].values.tolist()\n",
    "        globals()['{}0_gene_prod_group'.format(age)] =  dfi[dfi.article_id.isin(df[df.customer_id.isin(globals()['{}0'.format(age)])]['article_id'].values.tolist())]['product_group_name'].reset_index(drop=True)\n",
    "        print('Age {}0 generation : {}'.format(age,len(dfu[dfu.age.astype('str').str.startswith(str(age))])))\n"
   ],
   "metadata": {
    "collapsed": false,
    "pycharm": {
     "name": "#%%\n"
    }
   }
  },
  {
   "cell_type": "code",
   "execution_count": 41,
   "outputs": [],
   "source": [],
   "metadata": {
    "collapsed": false,
    "pycharm": {
     "name": "#%%\n"
    }
   }
  },
  {
   "cell_type": "code",
   "execution_count": 44,
   "outputs": [
    {
     "data": {
      "text/plain": "<Figure size 1080x504 with 1 Axes>",
      "image/png": "[encoded data removed]"
     },
     "metadata": {
      "needs_background": "light"
     },
     "output_type": "display_data"
    },
    {
     "data": {
      "text/plain": "<Figure size 1080x504 with 1 Axes>",
      "image/png": "[encoded data removed]"
     },
     "metadata": {
      "needs_background": "light"
     },
     "output_type": "display_data"
    }
   ],
   "source": [],
   "metadata": {
    "collapsed": false,
    "pycharm": {
     "name": "#%%\n"
    }
   }
  },
  {
   "cell_type": "markdown",
   "source": [],
   "metadata": {
    "collapsed": false
   }
  },
  {
   "cell_type": "code",
   "execution_count": null,
   "outputs": [],
   "source": [],
   "metadata": {
    "collapsed": false,
    "pycharm": {
     "name": "#%%\n"
    }
   }
  },
  {
   "cell_type": "code",
   "execution_count": null,
   "outputs": [],
   "source": [],
   "metadata": {
    "collapsed": false,
    "pycharm": {
     "name": "#%%\n"
    }
   }
  },
  {
   "cell_type": "code",
   "execution_count": null,
   "outputs": [],
   "source": [
    "\n",
    "create_generation_var()"
   ],
   "metadata": {
    "collapsed": false,
    "pycharm": {
     "name": "#%%\n"
    }
   }
  },
  {
   "cell_type": "code",
   "execution_count": null,
   "outputs": [],
   "source": [],
   "metadata": {
    "collapsed": false,
    "pycharm": {
     "name": "#%%\n"
    }
   }
  },
  {
   "cell_type": "code",
   "execution_count": null,
   "outputs": [],
   "source": [
    "##"
   ],
   "metadata": {
    "collapsed": false,
    "pycharm": {
     "name": "#%%\n"
    }
   }
  },
  {
   "cell_type": "markdown",
   "source": [
    "## Find popular item"
   ],
   "metadata": {
    "collapsed": false
   }
  },
  {
   "cell_type": "markdown",
   "source": [],
   "metadata": {
    "collapsed": false
   }
  },
  {
   "cell_type": "markdown",
   "source": [],
   "metadata": {
    "collapsed": false
   }
  },
  {
   "cell_type": "code",
   "execution_count": null,
   "outputs": [],
   "source": [],
   "metadata": {
    "collapsed": false,
    "pycharm": {
     "name": "#%%\n"
    }
   }
  },
  {
   "cell_type": "markdown",
   "source": [
    "## data split and grouping age"
   ],
   "metadata": {
    "collapsed": false
   }
  },
  {
   "cell_type": "code",
   "execution_count": null,
   "outputs": [],
   "source": [
    "SEED=42\n",
    "y = df['article_id'].values\n",
    "\n",
    "x_train, x_valid, y_train, y_valid = train_test_split(df, y, test_size=0.2 ,random_state=SEED)\n",
    "x_train_dfu = x_train.merge(dfu,on='customer_id')\n",
    "\n",
    "\n"
   ],
   "metadata": {
    "collapsed": false,
    "pycharm": {
     "name": "#%%\n"
    }
   }
  },
  {
   "cell_type": "markdown",
   "source": [],
   "metadata": {
    "collapsed": false
   }
  },
  {
   "cell_type": "markdown",
   "source": [],
   "metadata": {
    "collapsed": false
   }
  },
  {
   "cell_type": "markdown",
   "source": [
    "## DATA EDA"
   ],
   "metadata": {
    "collapsed": false
   }
  },
  {
   "cell_type": "markdown",
   "source": [],
   "metadata": {
    "collapsed": false
   }
  },
  {
   "cell_type": "markdown",
   "source": [],
   "metadata": {
    "collapsed": false
   }
  },
  {
   "cell_type": "code",
   "execution_count": null,
   "outputs": [],
   "source": [
    "x_train_dfu['age_str'] = x_train_dfu[x_train_dfu.age.str[:1]]"
   ],
   "metadata": {
    "collapsed": false,
    "pycharm": {
     "name": "#%%\n"
    }
   }
  },
  {
   "cell_type": "code",
   "execution_count": null,
   "outputs": [],
   "source": [
    "x_train_dfu['age_group'] = x_train_dfu['age'].astype('str').str[:1]"
   ],
   "metadata": {
    "collapsed": false,
    "pycharm": {
     "name": "#%%\n"
    }
   }
  },
  {
   "cell_type": "code",
   "execution_count": null,
   "outputs": [],
   "source": [
    "merge_data = x_train_dfu.merge(dfi,on='article_id')"
   ],
   "metadata": {
    "collapsed": false,
    "pycharm": {
     "name": "#%%\n"
    }
   }
  },
  {
   "cell_type": "code",
   "execution_count": null,
   "outputs": [],
   "source": [
    "merge_data"
   ],
   "metadata": {
    "collapsed": false,
    "pycharm": {
     "name": "#%%\n"
    }
   }
  },
  {
   "cell_type": "code",
   "execution_count": null,
   "outputs": [],
   "source": [
    "x_train_desc = merge_data['detail_desc']"
   ],
   "metadata": {
    "collapsed": false,
    "pycharm": {
     "name": "#%%\n"
    }
   }
  },
  {
   "cell_type": "code",
   "execution_count": null,
   "outputs": [],
   "source": [
    "na_index = np.where(x_train_desc.isnull())[0]"
   ],
   "metadata": {
    "collapsed": false,
    "pycharm": {
     "name": "#%%\n"
    }
   }
  },
  {
   "cell_type": "code",
   "execution_count": null,
   "outputs": [],
   "source": [
    "na_index2 = np.where(x_train_dfu.age_group =='n')[0]"
   ],
   "metadata": {
    "collapsed": false,
    "pycharm": {
     "name": "#%%\n"
    }
   }
  },
  {
   "cell_type": "code",
   "execution_count": null,
   "outputs": [],
   "source": [
    "drop_index = set(na_index).union(set(na_index2))"
   ],
   "metadata": {
    "collapsed": false,
    "pycharm": {
     "name": "#%%\n"
    }
   }
  },
  {
   "cell_type": "code",
   "execution_count": null,
   "outputs": [],
   "source": [
    "x_train_desc"
   ],
   "metadata": {
    "collapsed": false,
    "pycharm": {
     "name": "#%%\n"
    }
   }
  },
  {
   "cell_type": "code",
   "execution_count": null,
   "outputs": [],
   "source": [],
   "metadata": {
    "collapsed": false,
    "pycharm": {
     "name": "#%%\n"
    }
   }
  },
  {
   "cell_type": "code",
   "execution_count": null,
   "outputs": [],
   "source": [
    "drop_index = list(drop_index)"
   ],
   "metadata": {
    "collapsed": false,
    "pycharm": {
     "name": "#%%\n"
    }
   }
  },
  {
   "cell_type": "code",
   "execution_count": null,
   "outputs": [],
   "source": [
    "drop_index[:5]"
   ],
   "metadata": {
    "collapsed": false,
    "pycharm": {
     "name": "#%%\n"
    }
   }
  },
  {
   "cell_type": "code",
   "execution_count": null,
   "outputs": [],
   "source": [
    "x_train_desc"
   ],
   "metadata": {
    "collapsed": false,
    "pycharm": {
     "name": "#%%\n"
    }
   }
  },
  {
   "cell_type": "code",
   "execution_count": null,
   "outputs": [],
   "source": [
    "x_train_desc= x_train_desc.drop(drop_index,axis=0)"
   ],
   "metadata": {
    "collapsed": false,
    "pycharm": {
     "name": "#%%\n"
    }
   }
  },
  {
   "cell_type": "code",
   "execution_count": null,
   "outputs": [],
   "source": [
    "indexing = list(set(np.arange(40000))- set(drop_index))"
   ],
   "metadata": {
    "collapsed": false,
    "pycharm": {
     "name": "#%%\n"
    }
   }
  },
  {
   "cell_type": "code",
   "execution_count": null,
   "outputs": [],
   "source": [
    "y = x_train_dfu.iloc[indexing,:]['age_group'].astype('int').values.tolist()"
   ],
   "metadata": {
    "collapsed": false,
    "pycharm": {
     "name": "#%%\n"
    }
   }
  },
  {
   "cell_type": "code",
   "execution_count": null,
   "outputs": [],
   "source": [],
   "metadata": {
    "collapsed": false,
    "pycharm": {
     "name": "#%%\n"
    }
   }
  },
  {
   "cell_type": "code",
   "execution_count": null,
   "outputs": [],
   "source": [
    "tfidf_vectorizer = TfidfVectorizer()\n",
    "tfidf_vectorizer.fit(x_train_desc)\n",
    "tfidf_vectorizer.idf_\n",
    "x_train_desc_tfidf = tfidf_vectorizer.transform(x_train_desc).toarray()"
   ],
   "metadata": {
    "collapsed": false,
    "pycharm": {
     "name": "#%%\n"
    }
   }
  },
  {
   "cell_type": "code",
   "execution_count": null,
   "outputs": [],
   "source": [
    "x_train_desc_tfidf = x_train_desc_tfidf[indexing]"
   ],
   "metadata": {
    "collapsed": false,
    "pycharm": {
     "name": "#%%\n"
    }
   }
  },
  {
   "cell_type": "code",
   "execution_count": null,
   "outputs": [],
   "source": [
    "len(y)"
   ],
   "metadata": {
    "collapsed": false,
    "pycharm": {
     "name": "#%%\n"
    }
   }
  },
  {
   "cell_type": "code",
   "execution_count": null,
   "outputs": [],
   "source": [
    "# 그룹별 detail desc 의 tfidf 값 feature 가 logitic regression 으로 잘 분류되는 지 성능테스트"
   ],
   "metadata": {
    "collapsed": false,
    "pycharm": {
     "name": "#%%\n"
    }
   }
  },
  {
   "cell_type": "code",
   "execution_count": null,
   "outputs": [],
   "source": [
    "cols = sorted(tfidf_vectorizer.vocabulary_.items(), key=lambda x: x[1])"
   ],
   "metadata": {
    "collapsed": false,
    "pycharm": {
     "name": "#%%\n"
    }
   }
  },
  {
   "cell_type": "code",
   "execution_count": null,
   "outputs": [],
   "source": [
    "rows =  merge_data.drop(drop_index,axis=0)['article_id'].values.tolist()\n",
    "\n",
    "\n",
    "cols  = [col[0] for col in cols]\n",
    "\n",
    "merge_data.head()"
   ],
   "metadata": {
    "collapsed": false,
    "pycharm": {
     "name": "#%%\n"
    }
   }
  },
  {
   "cell_type": "code",
   "execution_count": null,
   "outputs": [],
   "source": [
    "tfidf_df = pd.DataFrame(columns = cols, data = x_train_desc_tfidf)\n",
    "\n",
    "\n",
    "tfidf_df.loc[:,'shirt']"
   ],
   "metadata": {
    "collapsed": false,
    "pycharm": {
     "name": "#%%\n"
    }
   }
  },
  {
   "cell_type": "code",
   "execution_count": null,
   "outputs": [],
   "source": [
    "from sklearn.metrics import f1_score\n",
    "from sklearn.linear_model import LogisticRegression\n",
    "# tfidf 값 만으로 logisticregression 하지 말고 feature 의 하나로 활용한다 tfidf 를\n",
    "clf = LogisticRegression(random_state=0,solver='liblinear')\n",
    "clf.fit(x_train_desc_tfidf,y)\n",
    "pred =clf.predict(x_train_desc_tfidf)"
   ],
   "metadata": {
    "collapsed": false,
    "pycharm": {
     "name": "#%%\n"
    }
   }
  },
  {
   "cell_type": "code",
   "execution_count": null,
   "outputs": [],
   "source": [
    "# 분류 성능을 파악하여 tfidf 가 나이대를 잘 설명하는 지 확인한다\n"
   ],
   "metadata": {
    "collapsed": false,
    "pycharm": {
     "name": "#%%\n"
    }
   }
  },
  {
   "cell_type": "code",
   "execution_count": null,
   "outputs": [],
   "source": [
    "y[:10]"
   ],
   "metadata": {
    "collapsed": false,
    "pycharm": {
     "name": "#%%\n"
    }
   }
  },
  {
   "cell_type": "code",
   "execution_count": null,
   "outputs": [],
   "source": [
    "pred[:10]"
   ],
   "metadata": {
    "collapsed": false,
    "pycharm": {
     "name": "#%%\n"
    }
   }
  },
  {
   "cell_type": "code",
   "execution_count": null,
   "outputs": [],
   "source": [
    "f1_score(y,pred, average='micro' )"
   ],
   "metadata": {
    "collapsed": false,
    "pycharm": {
     "name": "#%%\n"
    }
   }
  },
  {
   "cell_type": "code",
   "execution_count": null,
   "outputs": [],
   "source": [
    "# 가격대 , baseline 비슷한 유저대상  추천\n",
    "df"
   ],
   "metadata": {
    "collapsed": false,
    "pycharm": {
     "name": "#%%\n"
    }
   }
  },
  {
   "cell_type": "code",
   "execution_count": null,
   "outputs": [],
   "source": [
    "#cudf.read_csv('../input/h-and-m-personalized-fashion-recommendations/transactions_train.csv')\n"
   ],
   "metadata": {
    "collapsed": false,
    "pycharm": {
     "name": "#%%\n"
    }
   }
  },
  {
   "cell_type": "code",
   "execution_count": null,
   "outputs": [],
   "source": [],
   "metadata": {
    "collapsed": false,
    "pycharm": {
     "name": "#%%\n"
    }
   }
  },
  {
   "cell_type": "code",
   "execution_count": null,
   "outputs": [],
   "source": [
    "dfu"
   ],
   "metadata": {
    "collapsed": false,
    "pycharm": {
     "name": "#%%\n"
    }
   }
  },
  {
   "cell_type": "code",
   "execution_count": null,
   "outputs": [],
   "source": [
    "df"
   ],
   "metadata": {
    "collapsed": false,
    "pycharm": {
     "name": "#%%\n"
    }
   }
  },
  {
   "cell_type": "code",
   "execution_count": null,
   "outputs": [],
   "source": [
    "# average one of [None, 'micro', 'macro', 'weighted']"
   ],
   "metadata": {
    "collapsed": false,
    "pycharm": {
     "name": "#%%\n"
    }
   }
  },
  {
   "cell_type": "code",
   "execution_count": null,
   "outputs": [],
   "source": [
    "# f1 score 값이 높아야 성능이 좋다\n",
    "f1_score(y,pred,average ='micro')"
   ],
   "metadata": {
    "collapsed": false,
    "pycharm": {
     "name": "#%%\n"
    }
   }
  },
  {
   "cell_type": "code",
   "execution_count": null,
   "outputs": [],
   "source": [
    "# 나이대별로 선호하는 낱말이 있다는 뜻 아닌가?"
   ],
   "metadata": {
    "collapsed": false,
    "pycharm": {
     "name": "#%%\n"
    }
   }
  },
  {
   "cell_type": "code",
   "execution_count": null,
   "outputs": [],
   "source": [
    " #오차행렬, 정확도, 정밀도, 재현율을 한번에 출력하기 위한 함수 정의\n",
    "\n",
    "from sklearn.metrics import accuracy_score, precision_score, recall_score, confusion_matrix\n",
    "\n",
    "def get_clf_eval(y_test, pred):\n",
    "    confusion = confusion_matrix(y_test, pred)\n",
    "    accuracy = accuracy_score(y_test, pred)\n",
    "    precision = precision_score(y_test, pred)\n",
    "    recall = recall_score(y_test, pred)\n",
    "    print('Confusion Matrix')\n",
    "    print(confusion)\n",
    "    print('정확도:{}, 정밀도:{}, 재현율:{}'.format(accuracy, precision, recall))"
   ],
   "metadata": {
    "collapsed": false,
    "pycharm": {
     "name": "#%%\n"
    }
   }
  },
  {
   "cell_type": "code",
   "execution_count": null,
   "outputs": [],
   "source": [],
   "metadata": {
    "collapsed": false,
    "pycharm": {
     "name": "#%%\n"
    }
   }
  },
  {
   "cell_type": "code",
   "execution_count": null,
   "outputs": [],
   "source": [
    "\n",
    "\n",
    "# 사용자별 구매 주기\n",
    "group_data = df.groupby('customer_id')\n",
    "\n",
    "\n",
    "# 사용자별 구매주기\n",
    "# exp_usr\n",
    "cnt = 0\n",
    "for customer_id,data in group_data:\n",
    "    exp_usr_itm = data.article_id.unique()\n",
    "    exp_usr_id = data.customer_id.unique()[0]\n",
    "    cnt += 1\n",
    "    if cnt == 1:\n",
    "        break\n",
    "\n",
    "\n",
    "# 연령대별 구매 데이터\n",
    "# 그룹별 구매 빈도, 패턴\n",
    "\n",
    "for age in range(1,9):\n",
    "    age_group = x_train_dfu.groupby('age_group').get_group(str(age))\n",
    "    print(f'Age {age}0 generation buy count : {len(age_group)}')\n",
    "    # 나이대 별 구매 아이템 및 종류\n",
    "    products =  age_group['article_id'].unique()\n",
    "\n",
    "    print(f\"Age {age}0 generation's unique product count : {len(products)}\")\n",
    "    # 30대는 20대에 비해 절반인데도 아이템 종류가 다양하다. 자녀의 아이템을 사거나 개인의 취향이 더 반영 된 듯한 모습\n",
    "    # 나이대가 올라갈수록 다양한 아이템을 산다\n",
    "    dfi[dfi.article_id.isin(products)]\n",
    "    # 나이대별 feature의 다양성\n",
    "\n",
    "    # 나이대별 tfidf 값으로 어떤 description 을 가진 옷을 선호하는 지 탐색하기\n",
    "    x_train_desc = x_train_desc.dropna(axis=0)\n",
    "    tfidf_vectorizer = TfidfVectorizer()\n",
    "    tfidf_vectorizer.fit(x_train_desc)\n",
    "    tfidf_vectorizer.idf_\n",
    "    tfidf_vectorizer.transform(x_train_desc).toarray()\n",
    "\n",
    "    # catboost train 해보기\n",
    "\n"
   ],
   "metadata": {
    "collapsed": false,
    "pycharm": {
     "name": "#%%\n"
    }
   }
  },
  {
   "cell_type": "code",
   "execution_count": null,
   "outputs": [],
   "source": [],
   "metadata": {
    "collapsed": false,
    "pycharm": {
     "name": "#%%\n"
    }
   }
  },
  {
   "cell_type": "code",
   "execution_count": null,
   "outputs": [],
   "source": [
    "for i , data in x_train_dfu.groupby('customer_id'):\n",
    "    break"
   ],
   "metadata": {
    "collapsed": false,
    "pycharm": {
     "name": "#%%\n"
    }
   }
  },
  {
   "cell_type": "code",
   "execution_count": null,
   "outputs": [],
   "source": [
    "# REDUCE MEMORY OF DATAFRAME\n",
    "# hex문자열 int로 변환하기\n",
    "df = df[['customer_id','article_id']]\n",
    "#df.customer_id = df.customer_id.str[-16:].str.hex_to_int().astype('int64')\n",
    "df['customer_id']=  df['customer_id'].apply(lambda x :  int( x[-16:],16))\n",
    "df.article_id = df.article_id.astype('int32')\n",
    "_ = gc.collect()"
   ],
   "metadata": {
    "collapsed": false,
    "pycharm": {
     "name": "#%%\n"
    }
   }
  },
  {
   "cell_type": "markdown",
   "source": [
    "## 함께 구매한 아이템 찾기"
   ],
   "metadata": {
    "collapsed": false
   }
  },
  {
   "cell_type": "code",
   "execution_count": null,
   "outputs": [],
   "source": [],
   "metadata": {
    "collapsed": false,
    "pycharm": {
     "name": "#%%\n"
    }
   }
  },
  {
   "cell_type": "markdown",
   "source": [],
   "metadata": {
    "collapsed": false
   }
  },
  {
   "cell_type": "code",
   "execution_count": null,
   "outputs": [],
   "source": [],
   "metadata": {
    "collapsed": false,
    "pycharm": {
     "name": "#%%\n"
    }
   }
  },
  {
   "cell_type": "code",
   "execution_count": null,
   "outputs": [],
   "source": [
    "dfu['customer_id'] = dfu['customer_id'].apply(lambda x :  int( x[-16:],16))"
   ],
   "metadata": {
    "collapsed": false,
    "pycharm": {
     "name": "#%%\n"
    }
   }
  },
  {
   "cell_type": "code",
   "execution_count": null,
   "outputs": [],
   "source": [
    "# sparse matrix 되므로 곤란하다\n",
    "df.groupby(['customer_id','article_id']).count().reset_index()"
   ],
   "metadata": {
    "collapsed": false,
    "pycharm": {
     "name": "#%%\n"
    }
   }
  },
  {
   "cell_type": "code",
   "execution_count": null,
   "outputs": [],
   "source": [
    "df['customer_id']=  df['customer_id'].apply(lambda x :  int( x[-16:],16))"
   ],
   "metadata": {
    "collapsed": false,
    "pycharm": {
     "name": "#%%\n"
    }
   }
  },
  {
   "cell_type": "code",
   "execution_count": null,
   "outputs": [],
   "source": [
    "# 특정 아이템을 선호하는 그룹의 비율을 print해보면 grouping의 의미가 ?\n",
    "# user based filtering 을 하려면\n",
    "# 특정 아이템을 구매한 유저들을 유사한 유저로\n",
    "df[df.customer_id.isin(USERS)].merge(dfu, on='customer_id').age.plot.hist()"
   ],
   "metadata": {
    "collapsed": false,
    "pycharm": {
     "name": "#%%\n"
    }
   }
  },
  {
   "cell_type": "code",
   "execution_count": null,
   "outputs": [],
   "source": [
    "for j , i in enumerate(vc.index.values[1000:1032]):\n",
    "    print(j,i)\n",
    "    break\n"
   ],
   "metadata": {
    "collapsed": false,
    "pycharm": {
     "name": "#%%\n"
    }
   }
  },
  {
   "cell_type": "code",
   "execution_count": null,
   "outputs": [],
   "source": [
    "int(df.customer_id.str[-16:].values[0],16)"
   ],
   "metadata": {
    "collapsed": false,
    "pycharm": {
     "name": "#%%\n"
    }
   }
  },
  {
   "cell_type": "code",
   "execution_count": null,
   "outputs": [],
   "source": [
    "df.customer_id.str[-16:].str.hex_to_int()"
   ],
   "metadata": {
    "collapsed": false,
    "pycharm": {
     "name": "#%%\n"
    }
   }
  },
  {
   "cell_type": "code",
   "execution_count": null,
   "outputs": [],
   "source": [
    "# 연령대별 인기아이템 확인 겸 연령대별 feature를 추출하여 predict"
   ],
   "metadata": {
    "collapsed": false,
    "pycharm": {
     "name": "#%%\n"
    }
   }
  },
  {
   "cell_type": "code",
   "execution_count": null,
   "outputs": [],
   "source": [
    "# 해당 season에 유행한 아이템일 수 있으니 그것도 고려\n",
    "# 저가 아이템이나 특정 가격의 아이템을 선호할 수도 있다\n"
   ],
   "metadata": {
    "collapsed": false,
    "pycharm": {
     "name": "#%%\n"
    }
   }
  },
  {
   "cell_type": "code",
   "execution_count": null,
   "outputs": [],
   "source": [
    "vc.index.values[1000:1032]"
   ],
   "metadata": {
    "collapsed": false,
    "pycharm": {
     "name": "#%%\n"
    }
   }
  },
  {
   "cell_type": "markdown",
   "source": [],
   "metadata": {
    "collapsed": false
   }
  },
  {
   "cell_type": "code",
   "execution_count": null,
   "outputs": [],
   "source": [],
   "metadata": {
    "collapsed": false,
    "pycharm": {
     "name": "#%%\n"
    }
   }
  },
  {
   "cell_type": "code",
   "execution_count": null,
   "outputs": [],
   "source": [],
   "metadata": {
    "collapsed": false,
    "pycharm": {
     "name": "#%%\n"
    }
   }
  },
  {
   "cell_type": "code",
   "execution_count": null,
   "outputs": [],
   "source": [],
   "metadata": {
    "collapsed": false,
    "pycharm": {
     "name": "#%%\n"
    }
   }
  },
  {
   "cell_type": "code",
   "execution_count": null,
   "outputs": [],
   "source": [],
   "metadata": {
    "collapsed": false,
    "pycharm": {
     "name": "#%%\n"
    }
   }
  },
  {
   "cell_type": "code",
   "execution_count": null,
   "outputs": [],
   "source": [],
   "metadata": {
    "collapsed": false,
    "pycharm": {
     "name": "#%%\n"
    }
   }
  },
  {
   "cell_type": "code",
   "execution_count": null,
   "outputs": [],
   "source": [],
   "metadata": {
    "collapsed": false,
    "pycharm": {
     "name": "#%%\n"
    }
   }
  },
  {
   "cell_type": "code",
   "execution_count": null,
   "outputs": [],
   "source": [
    "# https://www.kaggle.com/c/h-and-m-personalized-fashion-recommendations/discussion/306007\n",
    "# https://github.com/benhamner/Metrics/blob/master/Python/ml_metrics/average_precision.py\n",
    "def apk(actual, predicted, k=10):\n",
    "    \"\"\"\n",
    "    Computes the average precision at k.\n",
    "    This function computes the average prescision at k between two lists of\n",
    "    items.\n",
    "    Parameters\n",
    "    ----------\n",
    "    actual : list\n",
    "             A list of elements that are to be predicted (order doesn't matter)\n",
    "    predicted : list\n",
    "                A list of predicted elements (order does matter)\n",
    "    k : int, optional\n",
    "        The maximum number of predicted elements\n",
    "    Returns\n",
    "    -------\n",
    "    score : double\n",
    "            The average precision at k over the input lists\n",
    "    \"\"\"\n",
    "    if len(predicted)>k:\n",
    "        predicted = predicted[:k]\n",
    "\n",
    "    score = 0.0\n",
    "    num_hits = 0.0\n",
    "\n",
    "    for i,p in enumerate(predicted):\n",
    "        if p in actual and p not in predicted[:i]:\n",
    "            num_hits += 1.0\n",
    "            score += num_hits / (i+1.0)\n",
    "\n",
    "    # remove this case in advance\n",
    "    # if not actual:\n",
    "    #     return 0.0\n",
    "\n",
    "    return score / min(len(actual), k)\n",
    "\n",
    "\n",
    "def mapk(actual, predicted, k=10):\n",
    "    \"\"\"\n",
    "    Computes the mean average precision at k.\n",
    "    This function computes the mean average prescision at k between two lists\n",
    "    of lists of items.\n",
    "    Parameters\n",
    "    ----------\n",
    "    actual : list\n",
    "             A list of lists of elements that are to be predicted\n",
    "             (order doesn't matter in the lists)\n",
    "    predicted : list\n",
    "                A list of lists of predicted elements\n",
    "                (order matters in the lists)\n",
    "    k : int, optional\n",
    "        The maximum number of predicted elements\n",
    "    Returns\n",
    "    -------\n",
    "    score : double\n",
    "            The mean average precision at k over the input lists\n",
    "    \"\"\"\n",
    "    return np.mean([apk(a,p,k) for a,p in zip(actual, predicted)])"
   ],
   "metadata": {
    "collapsed": false,
    "pycharm": {
     "name": "#%%\n"
    }
   }
  },
  {
   "cell_type": "code",
   "execution_count": null,
   "outputs": [],
   "source": [
    "x"
   ],
   "metadata": {
    "collapsed": false,
    "pycharm": {
     "name": "#%%\n"
    }
   }
  },
  {
   "cell_type": "code",
   "execution_count": null,
   "outputs": [],
   "source": [
    "# 아이템에 선호하는 그룹대>"
   ],
   "metadata": {
    "collapsed": false,
    "pycharm": {
     "name": "#%%\n"
    }
   }
  },
  {
   "cell_type": "code",
   "execution_count": null,
   "outputs": [],
   "source": [],
   "metadata": {
    "collapsed": false,
    "pycharm": {
     "name": "#%%\n"
    }
   }
  },
  {
   "cell_type": "markdown",
   "source": [],
   "metadata": {
    "collapsed": false
   }
  },
  {
   "cell_type": "code",
   "execution_count": null,
   "outputs": [],
   "source": [
    "# recommendation collaborative filtering in same group\n"
   ],
   "metadata": {
    "collapsed": false,
    "pycharm": {
     "name": "#%%\n"
    }
   }
  },
  {
   "cell_type": "code",
   "execution_count": null,
   "outputs": [],
   "source": [
    "# local cv 설정 방법\n",
    "#https://www.kaggle.com/c/h-and-m-personalized-fashion-recommendations/discussion/308919\n"
   ],
   "metadata": {
    "collapsed": false,
    "pycharm": {
     "name": "#%%\n"
    }
   }
  },
  {
   "cell_type": "code",
   "execution_count": null,
   "outputs": [],
   "source": [
    "# group user basedfilteroing try\n",
    "df = df.merge(dfu[['customer_id','age']])"
   ],
   "metadata": {
    "collapsed": false,
    "pycharm": {
     "name": "#%%\n"
    }
   }
  },
  {
   "cell_type": "code",
   "execution_count": null,
   "outputs": [],
   "source": [],
   "metadata": {
    "collapsed": false,
    "pycharm": {
     "name": "#%%\n"
    }
   }
  },
  {
   "cell_type": "code",
   "execution_count": null,
   "outputs": [],
   "source": [
    "twenty_generation = df[df.age.astype('str').str.startswith('2')]"
   ],
   "metadata": {
    "collapsed": false,
    "pycharm": {
     "name": "#%%\n"
    }
   }
  },
  {
   "cell_type": "code",
   "execution_count": null,
   "outputs": [],
   "source": [],
   "metadata": {
    "collapsed": false,
    "pycharm": {
     "name": "#%%\n"
    }
   }
  },
  {
   "cell_type": "code",
   "execution_count": null,
   "outputs": [],
   "source": [
    "# embedding model 로 test해보기\n",
    "group_twenty = twenty_generation[['customer_id','article_id','t_dat']].groupby(['customer_id','article_id']).count().reset_index()"
   ],
   "metadata": {
    "collapsed": false,
    "pycharm": {
     "name": "#%%\n"
    }
   }
  },
  {
   "cell_type": "code",
   "execution_count": null,
   "outputs": [],
   "source": [
    "group_twenty = group_twenty.iloc[:500000]"
   ],
   "metadata": {
    "collapsed": false,
    "pycharm": {
     "name": "#%%\n"
    }
   }
  },
  {
   "cell_type": "code",
   "execution_count": null,
   "outputs": [],
   "source": [],
   "metadata": {
    "collapsed": false,
    "pycharm": {
     "name": "#%%\n"
    }
   }
  },
  {
   "cell_type": "code",
   "execution_count": null,
   "outputs": [],
   "source": [
    "group_twenty.rename(columns={'t_dat':'count'},inplace=True)"
   ],
   "metadata": {
    "collapsed": false,
    "pycharm": {
     "name": "#%%\n"
    }
   }
  },
  {
   "cell_type": "code",
   "execution_count": null,
   "outputs": [],
   "source": [
    "group_twenty"
   ],
   "metadata": {
    "collapsed": false,
    "pycharm": {
     "name": "#%%\n"
    }
   }
  },
  {
   "cell_type": "code",
   "execution_count": null,
   "outputs": [],
   "source": [],
   "metadata": {
    "collapsed": false,
    "pycharm": {
     "name": "#%%\n"
    }
   }
  },
  {
   "cell_type": "code",
   "execution_count": null,
   "outputs": [],
   "source": [
    "pivot_twenty = group_twenty.pivot(index='customer_id',columns = 'article_id', values='count')"
   ],
   "metadata": {
    "collapsed": false,
    "pycharm": {
     "name": "#%%\n"
    }
   }
  },
  {
   "cell_type": "code",
   "execution_count": null,
   "outputs": [],
   "source": [
    "import gc\n",
    "del df\n",
    "del twenty_generation\n",
    "del group_twenty\n",
    "\n",
    "gc.collect()"
   ],
   "metadata": {
    "collapsed": false,
    "pycharm": {
     "name": "#%%\n"
    }
   }
  },
  {
   "cell_type": "code",
   "execution_count": null,
   "outputs": [],
   "source": [
    "pivot_twenty.dtypes"
   ],
   "metadata": {
    "collapsed": false,
    "pycharm": {
     "name": "#%%\n"
    }
   }
  },
  {
   "cell_type": "code",
   "execution_count": null,
   "outputs": [],
   "source": [
    "# float dtype 은 메모리를 많이 잡아먹는다"
   ],
   "metadata": {
    "collapsed": false,
    "pycharm": {
     "name": "#%%\n"
    }
   }
  },
  {
   "cell_type": "code",
   "execution_count": null,
   "outputs": [],
   "source": [
    "cols =  pivot_twenty.columns"
   ],
   "metadata": {
    "collapsed": false,
    "pycharm": {
     "name": "#%%\n"
    }
   }
  },
  {
   "cell_type": "code",
   "execution_count": null,
   "outputs": [],
   "source": [
    "cols"
   ],
   "metadata": {
    "collapsed": false,
    "pycharm": {
     "name": "#%%\n"
    }
   }
  },
  {
   "cell_type": "code",
   "execution_count": null,
   "outputs": [],
   "source": [
    "pivot_twenty[cols[0]].max() < np.iinfo(np.int32).max"
   ],
   "metadata": {
    "collapsed": false,
    "pycharm": {
     "name": "#%%\n"
    }
   }
  },
  {
   "cell_type": "code",
   "execution_count": null,
   "outputs": [],
   "source": [],
   "metadata": {
    "collapsed": false,
    "pycharm": {
     "name": "#%%\n"
    }
   }
  },
  {
   "cell_type": "code",
   "execution_count": null,
   "outputs": [],
   "source": [
    "start_mem"
   ],
   "metadata": {
    "collapsed": false,
    "pycharm": {
     "name": "#%%\n"
    }
   }
  },
  {
   "cell_type": "code",
   "execution_count": null,
   "outputs": [],
   "source": [
    "numerics = ['int16', 'int32', 'int64', 'float16', 'float32', 'float64']\n",
    "    start_mem = df.memory_usage().sum() / 1024**2\n",
    "    for col in df.columns:\n",
    "        col_type = df[col].dtypes\n",
    "        if col_type in numerics:\n",
    "            c_min = df[col].min()\n",
    "            c_max = df[col].max()\n",
    "            if str(col_type)[:3] =='int':\n",
    "                if c_min > np.iinfo(np.int8).min and c_max < np.iinfo(np.int8).max:\n",
    "                    df[col]= df[col].astype(np.int8)\n",
    "                elif c_min > np.iinfo(np.int16).min and c_max < np.iinfo(np.int16).max:\n",
    "                    df[col]= df[col].astype(np.int8)\n",
    "                elif c_min > np.iinfo(np.int32).min and c_max < np.iinfo(np.int32).max:\n",
    "                    df[col]= df[col].astype(np.int8)\n",
    "                elif c_min > np.iinfo(np.int64).min and c_max < np.iinfo(np.int64).max:\n",
    "                    df[col]= df[col].astype(np.int8)\n",
    "            else:\n",
    "                if c_min > np.finfo(np.float16).min and c_max < np.finfo(np.float16).max:\n",
    "                        df[col] = df[col].astype(np.float16)\n",
    "                elif c_min > np.finfo(np.float32).min and c_max < np.finfo(np.float32).max:\n",
    "                    df[col] = df[col].astype(np.float32)\n",
    "                else:\n",
    "                    df[col] = df[col].astype(np.float64)\n",
    "        end_mem = df.memory_usage().sum() / 1024**2\n",
    "        if verbose: print('Mem. usage decreased to {:5.2f} Mb ({:.1f}% reduction)'.format(end_mem, 100 * (start_mem - end_mem) / start_mem))\n",
    "        return df"
   ],
   "metadata": {
    "collapsed": false,
    "pycharm": {
     "name": "#%%\n"
    }
   }
  },
  {
   "cell_type": "code",
   "execution_count": null,
   "outputs": [],
   "source": [
    "def reduce_memory_usage(df):\n",
    "\n",
    "    for col in cols:\n",
    "        col_type = str(df[col].dtypes)\n",
    "        if col_type.startswith('float'):\n"
   ],
   "metadata": {
    "collapsed": false,
    "pycharm": {
     "name": "#%%\n"
    }
   }
  },
  {
   "cell_type": "code",
   "execution_count": null,
   "outputs": [],
   "source": [
    "# reduce memory 여기서 필요하다\n",
    "reduce_memory_usage"
   ],
   "metadata": {
    "collapsed": false,
    "pycharm": {
     "name": "#%%\n"
    }
   }
  },
  {
   "cell_type": "code",
   "execution_count": null,
   "outputs": [],
   "source": [
    "gc.collect()"
   ],
   "metadata": {
    "collapsed": false,
    "pycharm": {
     "name": "#%%\n"
    }
   }
  },
  {
   "cell_type": "code",
   "execution_count": null,
   "outputs": [],
   "source": [
    "pivot_twenty.fillna(0,inplace=True)"
   ],
   "metadata": {
    "collapsed": false,
    "pycharm": {
     "name": "#%%\n"
    }
   }
  },
  {
   "cell_type": "code",
   "execution_count": null,
   "outputs": [],
   "source": [
    "pivot_twenty"
   ],
   "metadata": {
    "collapsed": false,
    "pycharm": {
     "name": "#%%\n"
    }
   }
  },
  {
   "cell_type": "code",
   "execution_count": null,
   "outputs": [],
   "source": [],
   "metadata": {
    "collapsed": false,
    "pycharm": {
     "name": "#%%\n"
    }
   }
  },
  {
   "cell_type": "code",
   "execution_count": null,
   "outputs": [],
   "source": [],
   "metadata": {
    "collapsed": false,
    "pycharm": {
     "name": "#%%\n"
    }
   }
  },
  {
   "cell_type": "code",
   "execution_count": null,
   "outputs": [],
   "source": [
    "print(f'overall data lenth : {len(group_twenty)}')"
   ],
   "metadata": {
    "collapsed": false,
    "pycharm": {
     "name": "#%%\n"
    }
   }
  },
  {
   "cell_type": "code",
   "execution_count": null,
   "outputs": [],
   "source": [
    "print(f\"Unique article : {len(group_twenty['article_id'].unique())}\")"
   ],
   "metadata": {
    "collapsed": false,
    "pycharm": {
     "name": "#%%\n"
    }
   }
  },
  {
   "cell_type": "code",
   "execution_count": null,
   "outputs": [],
   "source": [
    "print(f\"Unique customer : {len(group_twenty['customer_id'].unique())}\")"
   ],
   "metadata": {
    "collapsed": false,
    "pycharm": {
     "name": "#%%\n"
    }
   }
  },
  {
   "cell_type": "code",
   "execution_count": null,
   "outputs": [],
   "source": [],
   "metadata": {
    "collapsed": false,
    "pycharm": {
     "name": "#%%\n"
    }
   }
  },
  {
   "cell_type": "code",
   "execution_count": null,
   "outputs": [],
   "source": [
    "pivot_twenty"
   ],
   "metadata": {
    "collapsed": false,
    "pycharm": {
     "name": "#%%\n"
    }
   }
  },
  {
   "cell_type": "code",
   "execution_count": null,
   "outputs": [],
   "source": [],
   "metadata": {
    "collapsed": false,
    "pycharm": {
     "name": "#%%\n"
    }
   }
  },
  {
   "cell_type": "code",
   "execution_count": null,
   "outputs": [],
   "source": [
    "\n",
    "df.t_dat = pd.to_datetime(df.t_dat)"
   ],
   "metadata": {
    "collapsed": false,
    "pycharm": {
     "name": "#%%\n"
    }
   }
  },
  {
   "cell_type": "code",
   "execution_count": null,
   "outputs": [],
   "source": [],
   "metadata": {
    "collapsed": false,
    "pycharm": {
     "name": "#%%\n"
    }
   }
  },
  {
   "cell_type": "code",
   "execution_count": null,
   "outputs": [],
   "source": [
    "train = df.loc[df.t_dat <= pd.to_datetime('2020-09-15')]"
   ],
   "metadata": {
    "collapsed": false,
    "pycharm": {
     "name": "#%%\n"
    }
   }
  },
  {
   "cell_type": "code",
   "execution_count": null,
   "outputs": [],
   "source": [
    "valid = df.loc[df.t_dat>= pd.to_datetime('2020-09-16')]"
   ],
   "metadata": {
    "collapsed": false,
    "pycharm": {
     "name": "#%%\n"
    }
   }
  },
  {
   "cell_type": "code",
   "execution_count": null,
   "outputs": [],
   "source": [
    "# data trending 하기\n",
    "# Step 1"
   ],
   "metadata": {
    "collapsed": false,
    "pycharm": {
     "name": "#%%\n"
    }
   }
  },
  {
   "cell_type": "code",
   "execution_count": null,
   "outputs": [],
   "source": [],
   "metadata": {
    "collapsed": false,
    "pycharm": {
     "name": "#%%\n"
    }
   }
  },
  {
   "cell_type": "code",
   "execution_count": null,
   "outputs": [],
   "source": [
    "valid = valid.groupby('customer_id').article_id.apply(list).reset_index()\n",
    "valid = valid.rename({'article_id':'prediction'},axis=1)\n",
    "valid['prediction'] = \\\n",
    "        valid.prediction.apply(lambda x: ' '.join(['0'+str(k) for k in x]))\n"
   ],
   "metadata": {
    "collapsed": false,
    "pycharm": {
     "name": "#%%\n"
    }
   }
  },
  {
   "cell_type": "code",
   "execution_count": null,
   "outputs": [],
   "source": [
    "\n",
    "df_sub = df_sub.set_index('customer_id').loc[valid.customer_id].reset_index()\n"
   ],
   "metadata": {
    "collapsed": false,
    "pycharm": {
     "name": "#%%\n"
    }
   }
  },
  {
   "cell_type": "code",
   "execution_count": null,
   "outputs": [],
   "source": [
    "df_sub"
   ],
   "metadata": {
    "collapsed": false,
    "pycharm": {
     "name": "#%%\n"
    }
   }
  },
  {
   "cell_type": "code",
   "execution_count": null,
   "outputs": [],
   "source": [],
   "metadata": {
    "collapsed": false,
    "pycharm": {
     "name": "#%%\n"
    }
   }
  },
  {
   "cell_type": "code",
   "execution_count": null,
   "outputs": [],
   "source": [
    "mapk(valid.prediction.str.split(), df_sub.prediction.str.split(),k=12)"
   ],
   "metadata": {
    "collapsed": false,
    "pycharm": {
     "name": "#%%\n"
    }
   }
  },
  {
   "cell_type": "code",
   "execution_count": null,
   "outputs": [],
   "source": [
    "def apk(actual, predicted, k=10):\n",
    "    \"\"\"\n",
    "    Computes the average precision at k.\n",
    "    This function computes the average prescision at k between two lists of\n",
    "    items.\n",
    "    Parameters\n",
    "    ----------\n",
    "    actual : list\n",
    "             A list of elements that are to be predicted (order doesn't matter)\n",
    "    predicted : list\n",
    "                A list of predicted elements (order does matter)\n",
    "    k : int, optional\n",
    "        The maximum number of predicted elements\n",
    "    Returns\n",
    "    -------\n",
    "    score : double\n",
    "            The average precision at k over the input lists\n",
    "    \"\"\"\n",
    "    if len(predicted)>k:\n",
    "        predicted = predicted[:k]"
   ],
   "metadata": {
    "collapsed": false,
    "pycharm": {
     "name": "#%%\n"
    }
   }
  },
  {
   "cell_type": "code",
   "execution_count": null,
   "outputs": [],
   "source": [
    "def mapk(actual, predicted, k=10):\n",
    "    \"\"\"\n",
    "    Computes the mean average precision at k.\n",
    "    This function computes the mean average prescision at k between two lists\n",
    "    of lists of items.\n",
    "    Parameters\n",
    "    ----------\n",
    "    actual : list\n",
    "             A list of lists of elements that are to be predicted\n",
    "             (order doesn't matter in the lists)\n",
    "    predicted : list\n",
    "                A list of lists of predicted elements\n",
    "                (order matters in the lists)\n",
    "    k : int, optional\n",
    "        The maximum number of predicted elements\n",
    "    Returns\n",
    "    -------\n",
    "    score : double\n",
    "            The mean average precision at k over the input lists\n",
    "    \"\"\"\n",
    "    return np.mean([apk(a,p,k) for a,p in zip(actual, predicted)])"
   ],
   "metadata": {
    "collapsed": false,
    "pycharm": {
     "name": "#%%\n"
    }
   }
  },
  {
   "cell_type": "code",
   "execution_count": null,
   "outputs": [],
   "source": [],
   "metadata": {
    "collapsed": false,
    "pycharm": {
     "name": "#%%\n"
    }
   }
  },
  {
   "cell_type": "code",
   "execution_count": null,
   "outputs": [],
   "source": [],
   "metadata": {
    "collapsed": false,
    "pycharm": {
     "name": "#%%\n"
    }
   }
  },
  {
   "cell_type": "code",
   "execution_count": null,
   "outputs": [],
   "source": [],
   "metadata": {
    "collapsed": false,
    "pycharm": {
     "name": "#%%\n"
    }
   }
  },
  {
   "cell_type": "code",
   "execution_count": null,
   "outputs": [],
   "source": [],
   "metadata": {
    "collapsed": false,
    "pycharm": {
     "name": "#%%\n"
    }
   }
  },
  {
   "cell_type": "code",
   "execution_count": null,
   "outputs": [],
   "source": [],
   "metadata": {
    "collapsed": false,
    "pycharm": {
     "name": "#%%\n"
    }
   }
  },
  {
   "cell_type": "code",
   "execution_count": null,
   "outputs": [],
   "source": [],
   "metadata": {
    "collapsed": false,
    "pycharm": {
     "name": "#%%\n"
    }
   }
  },
  {
   "cell_type": "code",
   "execution_count": null,
   "outputs": [],
   "source": [
    "# 구매한 아이템들의 feature 를 해당 사용자와 mapping ?\n",
    "\n",
    "data"
   ],
   "metadata": {
    "collapsed": false,
    "pycharm": {
     "name": "#%%\n"
    }
   }
  },
  {
   "cell_type": "code",
   "execution_count": null,
   "outputs": [],
   "source": [],
   "metadata": {
    "collapsed": false,
    "pycharm": {
     "name": "#%%\n"
    }
   }
  },
  {
   "cell_type": "code",
   "execution_count": null,
   "outputs": [],
   "source": [
    "x_train.merge(dfi,on='article_id')"
   ],
   "metadata": {
    "collapsed": false,
    "pycharm": {
     "name": "#%%\n"
    }
   }
  },
  {
   "cell_type": "code",
   "execution_count": null,
   "outputs": [],
   "source": [
    "dfi['article_id'].nunique()"
   ],
   "metadata": {
    "collapsed": false,
    "pycharm": {
     "name": "#%%\n"
    }
   }
  },
  {
   "cell_type": "code",
   "execution_count": null,
   "outputs": [],
   "source": [
    "show_buy_items( )"
   ],
   "metadata": {
    "collapsed": false,
    "pycharm": {
     "name": "#%%\n"
    }
   }
  },
  {
   "cell_type": "code",
   "execution_count": null,
   "outputs": [],
   "source": [
    "# 같은 prod_name이면서 다른 product_code를 가진 아이템 show 하기"
   ],
   "metadata": {
    "collapsed": false,
    "pycharm": {
     "name": "#%%\n"
    }
   }
  },
  {
   "cell_type": "code",
   "execution_count": null,
   "outputs": [],
   "source": [],
   "metadata": {
    "collapsed": false,
    "pycharm": {
     "name": "#%%\n"
    }
   }
  },
  {
   "cell_type": "code",
   "execution_count": null,
   "outputs": [],
   "source": [
    "# merge한 데이터에 tfidvectorizer를 해야 어떤 단어가 더 많이 등장하고 그런 것을 확인할 수 있을 듯 하기는 한데\n",
    "# 메모리가 부족하다"
   ],
   "metadata": {
    "collapsed": false,
    "pycharm": {
     "name": "#%%\n"
    }
   }
  },
  {
   "cell_type": "markdown",
   "source": [],
   "metadata": {
    "collapsed": false
   }
  },
  {
   "cell_type": "code",
   "execution_count": null,
   "outputs": [],
   "source": [
    "# 아이템 설명이 없는 row 제거"
   ],
   "metadata": {
    "collapsed": false,
    "pycharm": {
     "name": "#%%\n"
    }
   }
  },
  {
   "cell_type": "code",
   "execution_count": null,
   "outputs": [],
   "source": [],
   "metadata": {
    "collapsed": false,
    "pycharm": {
     "name": "#%%\n"
    }
   }
  },
  {
   "cell_type": "code",
   "execution_count": null,
   "outputs": [],
   "source": [
    "# 각 행별로 tfidf 단어값이 나온다"
   ],
   "metadata": {
    "collapsed": false,
    "pycharm": {
     "name": "#%%\n"
    }
   }
  },
  {
   "cell_type": "code",
   "execution_count": null,
   "outputs": [],
   "source": [
    "x_train"
   ],
   "metadata": {
    "collapsed": false,
    "pycharm": {
     "name": "#%%\n"
    }
   }
  },
  {
   "cell_type": "markdown",
   "source": [],
   "metadata": {
    "collapsed": false
   }
  },
  {
   "cell_type": "code",
   "execution_count": null,
   "outputs": [],
   "source": [
    "tfidf_vectorizer = TfidfVectorizer()"
   ],
   "metadata": {
    "collapsed": false,
    "pycharm": {
     "name": "#%%\n"
    }
   }
  },
  {
   "cell_type": "code",
   "execution_count": null,
   "outputs": [],
   "source": [],
   "metadata": {
    "collapsed": false,
    "pycharm": {
     "name": "#%%\n"
    }
   }
  },
  {
   "cell_type": "code",
   "execution_count": null,
   "outputs": [],
   "source": [],
   "metadata": {
    "collapsed": false,
    "pycharm": {
     "name": "#%%\n"
    }
   }
  },
  {
   "cell_type": "code",
   "execution_count": null,
   "outputs": [],
   "source": [
    "reduce_mem_usage(dfu)"
   ],
   "metadata": {
    "collapsed": false,
    "pycharm": {
     "name": "#%%\n"
    }
   }
  },
  {
   "cell_type": "code",
   "execution_count": null,
   "outputs": [],
   "source": [],
   "metadata": {
    "collapsed": false,
    "pycharm": {
     "name": "#%%\n"
    }
   }
  },
  {
   "cell_type": "code",
   "execution_count": null,
   "outputs": [],
   "source": [],
   "metadata": {
    "collapsed": false,
    "pycharm": {
     "name": "#%%\n"
    }
   }
  },
  {
   "cell_type": "code",
   "execution_count": null,
   "outputs": [],
   "source": [],
   "metadata": {
    "collapsed": false,
    "pycharm": {
     "name": "#%%\n"
    }
   }
  },
  {
   "cell_type": "code",
   "execution_count": null,
   "outputs": [],
   "source": [
    "y_train"
   ],
   "metadata": {
    "collapsed": false,
    "pycharm": {
     "name": "#%%\n"
    }
   }
  },
  {
   "cell_type": "code",
   "execution_count": null,
   "outputs": [],
   "source": [
    "merge_data = df.merge(dfi,on='article_id')"
   ],
   "metadata": {
    "collapsed": false,
    "pycharm": {
     "name": "#%%\n"
    }
   }
  },
  {
   "cell_type": "code",
   "execution_count": null,
   "outputs": [],
   "source": [
    "# 연령대별 전체 아이템 그룹\n",
    "# generation buy product_group_name\n",
    "#gene_prod_group_vc = gene_prod_group.value_counts()"
   ],
   "metadata": {
    "collapsed": false,
    "pycharm": {
     "name": "#%%\n"
    }
   }
  },
  {
   "cell_type": "code",
   "execution_count": null,
   "outputs": [],
   "source": [
    "reduce_memory_usage(dfi)"
   ],
   "metadata": {
    "collapsed": false,
    "pycharm": {
     "name": "#%%\n"
    }
   }
  },
  {
   "cell_type": "code",
   "execution_count": null,
   "outputs": [],
   "source": [
    "reduce_memory_usage(dfu)"
   ],
   "metadata": {
    "collapsed": false,
    "pycharm": {
     "name": "#%%\n"
    }
   }
  },
  {
   "cell_type": "code",
   "execution_count": null,
   "outputs": [],
   "source": [
    "dfi"
   ],
   "metadata": {
    "collapsed": false,
    "pycharm": {
     "name": "#%%\n"
    }
   }
  },
  {
   "cell_type": "code",
   "execution_count": null,
   "outputs": [],
   "source": [
    "gene_prod_group_vc = globals()['10_gene_prod_group'].value_counts()"
   ],
   "metadata": {
    "collapsed": false,
    "pycharm": {
     "name": "#%%\n"
    }
   }
  },
  {
   "cell_type": "code",
   "execution_count": null,
   "outputs": [],
   "source": [
    "# 전 연령대를 통틀어 상위 아이템이 관심이 많다\n",
    "show_generation_prefer_group(gene_prod_group_vc , '90')"
   ],
   "metadata": {
    "collapsed": false,
    "pycharm": {
     "name": "#%%\n"
    }
   }
  },
  {
   "cell_type": "code",
   "execution_count": null,
   "outputs": [],
   "source": [
    "exp_usr_id = dfu[dfu.age.astype('str').str.startswith('4')]['age'].values[5]"
   ],
   "metadata": {
    "collapsed": false,
    "pycharm": {
     "name": "#%%\n"
    }
   }
  },
  {
   "cell_type": "code",
   "execution_count": null,
   "outputs": [],
   "source": [
    "data = df[df.customer_id ==exp_usr_id]"
   ],
   "metadata": {
    "collapsed": false,
    "pycharm": {
     "name": "#%%\n"
    }
   }
  },
  {
   "cell_type": "code",
   "execution_count": null,
   "outputs": [],
   "source": [
    "data"
   ],
   "metadata": {
    "collapsed": false,
    "pycharm": {
     "name": "#%%\n"
    }
   }
  },
  {
   "cell_type": "code",
   "execution_count": null,
   "outputs": [],
   "source": [
    "# text 정보에서 최대한 추측해보기\n",
    "# desc에서 tfidf 하기"
   ],
   "metadata": {
    "collapsed": false,
    "pycharm": {
     "name": "#%%\n"
    }
   }
  },
  {
   "cell_type": "code",
   "execution_count": null,
   "outputs": [],
   "source": [
    "# 아이템 속성 다양히 살펴보고 feature로 만들고 train valid 테스트해보기 ?\n"
   ],
   "metadata": {
    "collapsed": false,
    "pycharm": {
     "name": "#%%\n"
    }
   }
  },
  {
   "cell_type": "markdown",
   "source": [],
   "metadata": {
    "collapsed": false
   }
  },
  {
   "cell_type": "code",
   "execution_count": null,
   "outputs": [],
   "source": [],
   "metadata": {
    "collapsed": false,
    "pycharm": {
     "name": "#%%\n"
    }
   }
  },
  {
   "cell_type": "code",
   "execution_count": null,
   "outputs": [],
   "source": [],
   "metadata": {
    "collapsed": false,
    "pycharm": {
     "name": "#%%\n"
    }
   }
  },
  {
   "cell_type": "code",
   "execution_count": null,
   "outputs": [],
   "source": [],
   "metadata": {
    "collapsed": false,
    "pycharm": {
     "name": "#%%\n"
    }
   }
  },
  {
   "cell_type": "code",
   "execution_count": null,
   "outputs": [],
   "source": [],
   "metadata": {
    "collapsed": false,
    "pycharm": {
     "name": "#%%\n"
    }
   }
  },
  {
   "cell_type": "code",
   "execution_count": null,
   "outputs": [],
   "source": [],
   "metadata": {
    "collapsed": false,
    "pycharm": {
     "name": "#%%\n"
    }
   }
  },
  {
   "cell_type": "code",
   "execution_count": null,
   "outputs": [],
   "source": [],
   "metadata": {
    "collapsed": false,
    "pycharm": {
     "name": "#%%\n"
    }
   }
  },
  {
   "cell_type": "code",
   "execution_count": null,
   "outputs": [],
   "source": [
    "# boost\n",
    "dfu[dfu.customer_id == exp_usr_id]['club_member_status']"
   ],
   "metadata": {
    "collapsed": false,
    "pycharm": {
     "name": "#%%\n"
    }
   }
  },
  {
   "cell_type": "code",
   "execution_count": null,
   "outputs": [],
   "source": [
    "dfu[dfu.customer_id == exp_usr_id]['fashion_news_frequency']"
   ],
   "metadata": {
    "collapsed": false,
    "pycharm": {
     "name": "#%%\n"
    }
   }
  },
  {
   "cell_type": "code",
   "execution_count": null,
   "outputs": [],
   "source": [
    "# 나이대 탐색\n",
    "dfu[dfu.customer_id == exp_usr_id]['age'].values[0] in np.arange(40,50).tolist()"
   ],
   "metadata": {
    "collapsed": false,
    "pycharm": {
     "name": "#%%\n"
    }
   }
  },
  {
   "cell_type": "code",
   "execution_count": null,
   "outputs": [],
   "source": [
    "buy_items = df[df.customer_id == exp_usr_id]['article_id'].values.tolist()\n",
    "# garment upper body 를 좋아하는 경향이 많다\n",
    "dfi[dfi.article_id.isin(buy_items)]['product_group_name']"
   ],
   "metadata": {
    "collapsed": false,
    "pycharm": {
     "name": "#%%\n"
    }
   }
  },
  {
   "cell_type": "code",
   "execution_count": null,
   "outputs": [],
   "source": [
    "# 40대 여성이 남편 옷 한번 , 자녀 옷, 주로 본인의 옷을 많이 샀다\n",
    "# kids 의류를 산 True 인 개수의 합\n",
    "df[df.customer_id == exp_usr_id].merge(dfi[['article_id','prod_name','product_type_name','product_group_name','section_name']] , on = 'article_id').section_name.str.startswith('Kids').values.sum()"
   ],
   "metadata": {
    "collapsed": false,
    "pycharm": {
     "name": "#%%\n"
    }
   }
  },
  {
   "cell_type": "markdown",
   "source": [],
   "metadata": {
    "collapsed": false
   }
  },
  {
   "cell_type": "code",
   "execution_count": null,
   "outputs": [],
   "source": [
    "show_buy_ratio(df,exp_usr_id)"
   ],
   "metadata": {
    "collapsed": false,
    "pycharm": {
     "name": "#%%\n"
    }
   }
  },
  {
   "cell_type": "code",
   "execution_count": null,
   "outputs": [],
   "source": [
    "# 그리고 선호하는 옷의 이미지 특성을 탐색해서 유사한 사용자의 옷을 추천하거나 옷의 특성을 탐색해야지, 여백이 많은 옷을 좋아하는 지 화려한 옷을 좋아하는 지 등의"
   ],
   "metadata": {
    "collapsed": false,
    "pycharm": {
     "name": "#%%\n"
    }
   }
  },
  {
   "cell_type": "markdown",
   "source": [],
   "metadata": {
    "collapsed": false
   }
  },
  {
   "cell_type": "code",
   "execution_count": null,
   "outputs": [],
   "source": [
    "# 좋아하는 옷을 2벌 3벌 사는 유형이 있다.\n",
    "# 그리고 그냥 나처럼 가끔 가서 내가 좋아보이는 옷을 사는 유형\n",
    "dfi[dfi.article_id.isin(buy_items2)]"
   ],
   "metadata": {
    "collapsed": false,
    "pycharm": {
     "name": "#%%\n"
    }
   }
  },
  {
   "cell_type": "code",
   "execution_count": null,
   "outputs": [],
   "source": [
    "\n",
    "# 반복 구매하는 아이템에 대해 가중치를 주고 반복 구매 체크하고 어떤 아이템을 반복 구매했는 지 체크\n",
    "show_buy_group(df,exp_usr_id)\n",
    "# 40대 유저는 tailoring 을 많이산다\n"
   ],
   "metadata": {
    "collapsed": false,
    "pycharm": {
     "name": "#%%\n"
    }
   }
  },
  {
   "cell_type": "code",
   "execution_count": null,
   "outputs": [],
   "source": [
    "show_buy_items(df,exp_usr_id)"
   ],
   "metadata": {
    "collapsed": false,
    "pycharm": {
     "name": "#%%\n"
    }
   }
  },
  {
   "cell_type": "code",
   "execution_count": null,
   "outputs": [],
   "source": [
    "# 40대 사용자 중 랜덤하게 한명 선택\n",
    "exp_usr_id = np.random.choice( dfu[dfu['age'].astype('str').str.startswith('4')]['customer_id'].values.tolist() , 1 )"
   ],
   "metadata": {
    "collapsed": false,
    "pycharm": {
     "name": "#%%\n"
    }
   }
  },
  {
   "cell_type": "code",
   "execution_count": 13,
   "outputs": [
    {
     "data": {
      "text/plain": "            t_dat          customer_id  article_id     price  sales_channel_id\n0      2018-09-20    -6846340800584936   663713001  0.050831                 2\n1      2018-09-20    -6846340800584936   541518023  0.030492                 2\n2      2018-09-20 -8334631767138808638   505221004  0.015237                 2\n3      2018-09-20 -8334631767138808638   685687003  0.016932                 2\n4      2018-09-20 -8334631767138808638   685687004  0.016932                 2\n...           ...                  ...         ...       ...               ...\n299995 2018-09-26  4326589547904435732   591334001  0.016932                 2\n299996 2018-09-26  4326589547904435732   591334001  0.016932                 2\n299997 2018-09-26  4326589547904435732   662857002  0.042356                 2\n299998 2018-09-26  4326589547904435732   662857002  0.042356                 2\n299999 2018-09-26  1116150539881112980   682267002  0.050831                 2\n\n[300000 rows x 5 columns]",
      "text/html": "<div>\n<style scoped>\n    .dataframe tbody tr th:only-of-type {\n        vertical-align: middle;\n    }\n\n    .dataframe tbody tr th {\n        vertical-align: top;\n    }\n\n    .dataframe thead th {\n        text-align: right;\n    }\n</style>\n<table border=\"1\" class=\"dataframe\">\n  <thead>\n    <tr style=\"text-align: right;\">\n      <th></th>\n      <th>t_dat</th>\n      <th>customer_id</th>\n      <th>article_id</th>\n      <th>price</th>\n      <th>sales_channel_id</th>\n    </tr>\n  </thead>\n  <tbody>\n    <tr>\n      <th>0</th>\n      <td>2018-09-20</td>\n      <td>-6846340800584936</td>\n      <td>663713001</td>\n      <td>0.050831</td>\n      <td>2</td>\n    </tr>\n    <tr>\n      <th>1</th>\n      <td>2018-09-20</td>\n      <td>-6846340800584936</td>\n      <td>541518023</td>\n      <td>0.030492</td>\n      <td>2</td>\n    </tr>\n    <tr>\n      <th>2</th>\n      <td>2018-09-20</td>\n      <td>-8334631767138808638</td>\n      <td>505221004</td>\n      <td>0.015237</td>\n      <td>2</td>\n    </tr>\n    <tr>\n      <th>3</th>\n      <td>2018-09-20</td>\n      <td>-8334631767138808638</td>\n      <td>685687003</td>\n      <td>0.016932</td>\n      <td>2</td>\n    </tr>\n    <tr>\n      <th>4</th>\n      <td>2018-09-20</td>\n      <td>-8334631767138808638</td>\n      <td>685687004</td>\n      <td>0.016932</td>\n      <td>2</td>\n    </tr>\n    <tr>\n      <th>...</th>\n      <td>...</td>\n      <td>...</td>\n      <td>...</td>\n      <td>...</td>\n      <td>...</td>\n    </tr>\n    <tr>\n      <th>299995</th>\n      <td>2018-09-26</td>\n      <td>4326589547904435732</td>\n      <td>591334001</td>\n      <td>0.016932</td>\n      <td>2</td>\n    </tr>\n    <tr>\n      <th>299996</th>\n      <td>2018-09-26</td>\n      <td>4326589547904435732</td>\n      <td>591334001</td>\n      <td>0.016932</td>\n      <td>2</td>\n    </tr>\n    <tr>\n      <th>299997</th>\n      <td>2018-09-26</td>\n      <td>4326589547904435732</td>\n      <td>662857002</td>\n      <td>0.042356</td>\n      <td>2</td>\n    </tr>\n    <tr>\n      <th>299998</th>\n      <td>2018-09-26</td>\n      <td>4326589547904435732</td>\n      <td>662857002</td>\n      <td>0.042356</td>\n      <td>2</td>\n    </tr>\n    <tr>\n      <th>299999</th>\n      <td>2018-09-26</td>\n      <td>1116150539881112980</td>\n      <td>682267002</td>\n      <td>0.050831</td>\n      <td>2</td>\n    </tr>\n  </tbody>\n</table>\n<p>300000 rows × 5 columns</p>\n</div>"
     },
     "execution_count": 13,
     "metadata": {},
     "output_type": "execute_result"
    }
   ],
   "source": [
    "df\n"
   ],
   "metadata": {
    "collapsed": false,
    "pycharm": {
     "name": "#%%\n"
    }
   }
  },
  {
   "cell_type": "code",
   "execution_count": 14,
   "outputs": [
    {
     "data": {
      "text/plain": "                                               customer_id   FN  Active  \\\n0        00000dbacae5abe5e23885899a1fa44253a17956c6d1c3...  NaN     NaN   \n1        0000423b00ade91418cceaf3b26c6af3dd342b51fd051e...  NaN     NaN   \n2        000058a12d5b43e67d225668fa1f8d618c13dc232df0ca...  NaN     NaN   \n3        00005ca1c9ed5f5146b52ac8639a40ca9d57aeff4d1bd2...  NaN     NaN   \n4        00006413d8573cd20ed7128e53b7b13819fe5cfc2d801f...  1.0     1.0   \n...                                                    ...  ...     ...   \n1371975  ffffbbf78b6eaac697a8a5dfbfd2bfa8113ee5b403e474...  NaN     NaN   \n1371976  ffffcd5046a6143d29a04fb8c424ce494a76e5cdf4fab5...  NaN     NaN   \n1371977  ffffcf35913a0bee60e8741cb2b4e78b8a98ee5ff2e6a1...  1.0     1.0   \n1371978  ffffd7744cebcf3aca44ae7049d2a94b87074c3d4ffe38...  1.0     1.0   \n1371979  ffffd9ac14e89946416d80e791d064701994755c3ab686...  NaN     NaN   \n\n        club_member_status fashion_news_frequency   age  \\\n0                   ACTIVE                   NONE  49.0   \n1                   ACTIVE                   NONE  25.0   \n2                   ACTIVE                   NONE  24.0   \n3                   ACTIVE                   NONE  54.0   \n4                   ACTIVE              Regularly  52.0   \n...                    ...                    ...   ...   \n1371975             ACTIVE                   NONE  24.0   \n1371976             ACTIVE                   NONE  21.0   \n1371977             ACTIVE              Regularly  21.0   \n1371978             ACTIVE              Regularly  18.0   \n1371979         PRE-CREATE                   NONE  65.0   \n\n                                               postal_code  \n0        52043ee2162cf5aa7ee79974281641c6f11a68d276429a...  \n1        2973abc54daa8a5f8ccfe9362140c63247c5eee03f1d93...  \n2        64f17e6a330a85798e4998f62d0930d14db8db1c054af6...  \n3        5d36574f52495e81f019b680c843c443bd343d5ca5b1c2...  \n4        25fa5ddee9aac01b35208d01736e57942317d756b32ddd...  \n...                                                    ...  \n1371975  7aa399f7e669990daba2d92c577b52237380662f36480b...  \n1371976  3f47f1279beb72215f4de557d950e0bfa73789d24acb5e...  \n1371977  4563fc79215672cd6a863f2b4bf56b8f898f2d96ed590e...  \n1371978  8892c18e9bc3dca6aa4000cb8094fc4b51ee8db2ed14d7...  \n1371979  0a1a03306fb2f62164c2a439b38c0caa64b40deaae8687...  \n\n[1371980 rows x 7 columns]",
      "text/html": "<div>\n<style scoped>\n    .dataframe tbody tr th:only-of-type {\n        vertical-align: middle;\n    }\n\n    .dataframe tbody tr th {\n        vertical-align: top;\n    }\n\n    .dataframe thead th {\n        text-align: right;\n    }\n</style>\n<table border=\"1\" class=\"dataframe\">\n  <thead>\n    <tr style=\"text-align: right;\">\n      <th></th>\n      <th>customer_id</th>\n      <th>FN</th>\n      <th>Active</th>\n      <th>club_member_status</th>\n      <th>fashion_news_frequency</th>\n      <th>age</th>\n      <th>postal_code</th>\n    </tr>\n  </thead>\n  <tbody>\n    <tr>\n      <th>0</th>\n      <td>00000dbacae5abe5e23885899a1fa44253a17956c6d1c3...</td>\n      <td>NaN</td>\n      <td>NaN</td>\n      <td>ACTIVE</td>\n      <td>NONE</td>\n      <td>49.0</td>\n      <td>52043ee2162cf5aa7ee79974281641c6f11a68d276429a...</td>\n    </tr>\n    <tr>\n      <th>1</th>\n      <td>0000423b00ade91418cceaf3b26c6af3dd342b51fd051e...</td>\n      <td>NaN</td>\n      <td>NaN</td>\n      <td>ACTIVE</td>\n      <td>NONE</td>\n      <td>25.0</td>\n      <td>2973abc54daa8a5f8ccfe9362140c63247c5eee03f1d93...</td>\n    </tr>\n    <tr>\n      <th>2</th>\n      <td>000058a12d5b43e67d225668fa1f8d618c13dc232df0ca...</td>\n      <td>NaN</td>\n      <td>NaN</td>\n      <td>ACTIVE</td>\n      <td>NONE</td>\n      <td>24.0</td>\n      <td>64f17e6a330a85798e4998f62d0930d14db8db1c054af6...</td>\n    </tr>\n    <tr>\n      <th>3</th>\n      <td>00005ca1c9ed5f5146b52ac8639a40ca9d57aeff4d1bd2...</td>\n      <td>NaN</td>\n      <td>NaN</td>\n      <td>ACTIVE</td>\n      <td>NONE</td>\n      <td>54.0</td>\n      <td>5d36574f52495e81f019b680c843c443bd343d5ca5b1c2...</td>\n    </tr>\n    <tr>\n      <th>4</th>\n      <td>00006413d8573cd20ed7128e53b7b13819fe5cfc2d801f...</td>\n      <td>1.0</td>\n      <td>1.0</td>\n      <td>ACTIVE</td>\n      <td>Regularly</td>\n      <td>52.0</td>\n      <td>25fa5ddee9aac01b35208d01736e57942317d756b32ddd...</td>\n    </tr>\n    <tr>\n      <th>...</th>\n      <td>...</td>\n      <td>...</td>\n      <td>...</td>\n      <td>...</td>\n      <td>...</td>\n      <td>...</td>\n      <td>...</td>\n    </tr>\n    <tr>\n      <th>1371975</th>\n      <td>ffffbbf78b6eaac697a8a5dfbfd2bfa8113ee5b403e474...</td>\n      <td>NaN</td>\n      <td>NaN</td>\n      <td>ACTIVE</td>\n      <td>NONE</td>\n      <td>24.0</td>\n      <td>7aa399f7e669990daba2d92c577b52237380662f36480b...</td>\n    </tr>\n    <tr>\n      <th>1371976</th>\n      <td>ffffcd5046a6143d29a04fb8c424ce494a76e5cdf4fab5...</td>\n      <td>NaN</td>\n      <td>NaN</td>\n      <td>ACTIVE</td>\n      <td>NONE</td>\n      <td>21.0</td>\n      <td>3f47f1279beb72215f4de557d950e0bfa73789d24acb5e...</td>\n    </tr>\n    <tr>\n      <th>1371977</th>\n      <td>ffffcf35913a0bee60e8741cb2b4e78b8a98ee5ff2e6a1...</td>\n      <td>1.0</td>\n      <td>1.0</td>\n      <td>ACTIVE</td>\n      <td>Regularly</td>\n      <td>21.0</td>\n      <td>4563fc79215672cd6a863f2b4bf56b8f898f2d96ed590e...</td>\n    </tr>\n    <tr>\n      <th>1371978</th>\n      <td>ffffd7744cebcf3aca44ae7049d2a94b87074c3d4ffe38...</td>\n      <td>1.0</td>\n      <td>1.0</td>\n      <td>ACTIVE</td>\n      <td>Regularly</td>\n      <td>18.0</td>\n      <td>8892c18e9bc3dca6aa4000cb8094fc4b51ee8db2ed14d7...</td>\n    </tr>\n    <tr>\n      <th>1371979</th>\n      <td>ffffd9ac14e89946416d80e791d064701994755c3ab686...</td>\n      <td>NaN</td>\n      <td>NaN</td>\n      <td>PRE-CREATE</td>\n      <td>NONE</td>\n      <td>65.0</td>\n      <td>0a1a03306fb2f62164c2a439b38c0caa64b40deaae8687...</td>\n    </tr>\n  </tbody>\n</table>\n<p>1371980 rows × 7 columns</p>\n</div>"
     },
     "execution_count": 14,
     "metadata": {},
     "output_type": "execute_result"
    }
   ],
   "source": [
    "# 유사한 유저의 아이템 추천하기\n",
    "dfu"
   ],
   "metadata": {
    "collapsed": false,
    "pycharm": {
     "name": "#%%\n"
    }
   }
  },
  {
   "cell_type": "code",
   "execution_count": 16,
   "outputs": [
    {
     "data": {
      "text/plain": "            t_dat          customer_id  article_id     price  sales_channel_id\n0      2018-09-20    -6846340800584936   663713001  0.050831                 2\n1      2018-09-20    -6846340800584936   541518023  0.030492                 2\n2      2018-09-20 -8334631767138808638   505221004  0.015237                 2\n3      2018-09-20 -8334631767138808638   685687003  0.016932                 2\n4      2018-09-20 -8334631767138808638   685687004  0.016932                 2\n...           ...                  ...         ...       ...               ...\n299995 2018-09-26  4326589547904435732   591334001  0.016932                 2\n299996 2018-09-26  4326589547904435732   591334001  0.016932                 2\n299997 2018-09-26  4326589547904435732   662857002  0.042356                 2\n299998 2018-09-26  4326589547904435732   662857002  0.042356                 2\n299999 2018-09-26  1116150539881112980   682267002  0.050831                 2\n\n[300000 rows x 5 columns]",
      "text/html": "<div>\n<style scoped>\n    .dataframe tbody tr th:only-of-type {\n        vertical-align: middle;\n    }\n\n    .dataframe tbody tr th {\n        vertical-align: top;\n    }\n\n    .dataframe thead th {\n        text-align: right;\n    }\n</style>\n<table border=\"1\" class=\"dataframe\">\n  <thead>\n    <tr style=\"text-align: right;\">\n      <th></th>\n      <th>t_dat</th>\n      <th>customer_id</th>\n      <th>article_id</th>\n      <th>price</th>\n      <th>sales_channel_id</th>\n    </tr>\n  </thead>\n  <tbody>\n    <tr>\n      <th>0</th>\n      <td>2018-09-20</td>\n      <td>-6846340800584936</td>\n      <td>663713001</td>\n      <td>0.050831</td>\n      <td>2</td>\n    </tr>\n    <tr>\n      <th>1</th>\n      <td>2018-09-20</td>\n      <td>-6846340800584936</td>\n      <td>541518023</td>\n      <td>0.030492</td>\n      <td>2</td>\n    </tr>\n    <tr>\n      <th>2</th>\n      <td>2018-09-20</td>\n      <td>-8334631767138808638</td>\n      <td>505221004</td>\n      <td>0.015237</td>\n      <td>2</td>\n    </tr>\n    <tr>\n      <th>3</th>\n      <td>2018-09-20</td>\n      <td>-8334631767138808638</td>\n      <td>685687003</td>\n      <td>0.016932</td>\n      <td>2</td>\n    </tr>\n    <tr>\n      <th>4</th>\n      <td>2018-09-20</td>\n      <td>-8334631767138808638</td>\n      <td>685687004</td>\n      <td>0.016932</td>\n      <td>2</td>\n    </tr>\n    <tr>\n      <th>...</th>\n      <td>...</td>\n      <td>...</td>\n      <td>...</td>\n      <td>...</td>\n      <td>...</td>\n    </tr>\n    <tr>\n      <th>299995</th>\n      <td>2018-09-26</td>\n      <td>4326589547904435732</td>\n      <td>591334001</td>\n      <td>0.016932</td>\n      <td>2</td>\n    </tr>\n    <tr>\n      <th>299996</th>\n      <td>2018-09-26</td>\n      <td>4326589547904435732</td>\n      <td>591334001</td>\n      <td>0.016932</td>\n      <td>2</td>\n    </tr>\n    <tr>\n      <th>299997</th>\n      <td>2018-09-26</td>\n      <td>4326589547904435732</td>\n      <td>662857002</td>\n      <td>0.042356</td>\n      <td>2</td>\n    </tr>\n    <tr>\n      <th>299998</th>\n      <td>2018-09-26</td>\n      <td>4326589547904435732</td>\n      <td>662857002</td>\n      <td>0.042356</td>\n      <td>2</td>\n    </tr>\n    <tr>\n      <th>299999</th>\n      <td>2018-09-26</td>\n      <td>1116150539881112980</td>\n      <td>682267002</td>\n      <td>0.050831</td>\n      <td>2</td>\n    </tr>\n  </tbody>\n</table>\n<p>300000 rows × 5 columns</p>\n</div>"
     },
     "execution_count": 16,
     "metadata": {},
     "output_type": "execute_result"
    }
   ],
   "source": [
    "df"
   ],
   "metadata": {
    "collapsed": false,
    "pycharm": {
     "name": "#%%\n"
    }
   }
  },
  {
   "cell_type": "code",
   "execution_count": 17,
   "outputs": [
    {
     "ename": "NameError",
     "evalue": "name 'sub' is not defined",
     "output_type": "error",
     "traceback": [
      "\u001B[1;31m---------------------------------------------------------------------------\u001B[0m",
      "\u001B[1;31mNameError\u001B[0m                                 Traceback (most recent call last)",
      "\u001B[1;32m~\\AppData\\Local\\Temp/ipykernel_736/2467676476.py\u001B[0m in \u001B[0;36m<module>\u001B[1;34m\u001B[0m\n\u001B[1;32m----> 1\u001B[1;33m \u001B[0msub\u001B[0m\u001B[1;33m\u001B[0m\u001B[1;33m\u001B[0m\u001B[0m\n\u001B[0m\u001B[0;32m      2\u001B[0m \u001B[1;33m\u001B[0m\u001B[0m\n\u001B[0;32m      3\u001B[0m \u001B[1;33m\u001B[0m\u001B[0m\n",
      "\u001B[1;31mNameError\u001B[0m: name 'sub' is not defined"
     ]
    }
   ],
   "source": [],
   "metadata": {
    "collapsed": false,
    "pycharm": {
     "name": "#%%\n"
    }
   }
  },
  {
   "cell_type": "code",
   "execution_count": null,
   "outputs": [],
   "source": [
    "def show_buy_group(df,exp_usr_id):\n",
    "\n",
    "    buy_items = df[df.customer_id == exp_usr_id]['article_id'].values.tolist()\n",
    "    # garment upper body 를 좋아하는 경향이 많다\n",
    "    buy_items_group = dfi[dfi.article_id.isin(buy_items)]['product_group_name'].values.tolist()\n",
    "    k\n",
    "    return print(buy_items_group)"
   ],
   "metadata": {
    "collapsed": false,
    "pycharm": {
     "name": "#%%\n"
    }
   }
  },
  {
   "cell_type": "code",
   "execution_count": null,
   "outputs": [],
   "source": [],
   "metadata": {
    "collapsed": false,
    "pycharm": {
     "name": "#%%\n"
    }
   }
  },
  {
   "cell_type": "code",
   "execution_count": null,
   "outputs": [],
   "source": [
    "show_buy_ratio(df,exp_usr_id )"
   ],
   "metadata": {
    "collapsed": false,
    "pycharm": {
     "name": "#%%\n"
    }
   }
  },
  {
   "cell_type": "code",
   "execution_count": null,
   "outputs": [],
   "source": [],
   "metadata": {
    "collapsed": false,
    "pycharm": {
     "name": "#%%\n"
    }
   }
  },
  {
   "cell_type": "code",
   "execution_count": null,
   "outputs": [],
   "source": [],
   "metadata": {
    "collapsed": false,
    "pycharm": {
     "name": "#%%\n"
    }
   }
  },
  {
   "cell_type": "code",
   "execution_count": null,
   "outputs": [],
   "source": [
    "show_buy_ratio(df,exp_usr_id)\n",
    "# 반복 구매하는 아이템에 대해 가중치를 주고 반복 구매 체크하고 어떤 아이템을 반복 구매했는 지 체크"
   ],
   "metadata": {
    "collapsed": false,
    "pycharm": {
     "name": "#%%\n"
    }
   }
  },
  {
   "cell_type": "markdown",
   "source": [],
   "metadata": {
    "collapsed": false
   }
  },
  {
   "cell_type": "code",
   "execution_count": null,
   "outputs": [],
   "source": [
    "show_buy_group(df,exp_usr_id)\n",
    "# 40대 유저는 tailoring 을 많이산다"
   ],
   "metadata": {
    "collapsed": false,
    "pycharm": {
     "name": "#%%\n"
    }
   }
  },
  {
   "cell_type": "code",
   "execution_count": null,
   "outputs": [],
   "source": [
    "show_buy_items(df,exp_usr_id)"
   ],
   "metadata": {
    "collapsed": false,
    "pycharm": {
     "name": "#%%\n"
    }
   }
  },
  {
   "cell_type": "markdown",
   "source": [],
   "metadata": {
    "collapsed": false
   }
  },
  {
   "cell_type": "code",
   "execution_count": null,
   "outputs": [],
   "source": [],
   "metadata": {
    "collapsed": false,
    "pycharm": {
     "name": "#%%\n"
    }
   }
  },
  {
   "cell_type": "code",
   "execution_count": null,
   "outputs": [],
   "source": [
    "# 중복 비율\n",
    "df[df.customer_id.isin(globals()['{}0'.format(age)])]['article_id']"
   ],
   "metadata": {
    "collapsed": false,
    "pycharm": {
     "name": "#%%\n"
    }
   }
  },
  {
   "cell_type": "code",
   "execution_count": null,
   "outputs": [],
   "source": [
    "df[df.customer_id.isin(globals()['{}0'.format(age)])]['article_id'].drop_duplicates()"
   ],
   "metadata": {
    "collapsed": false,
    "pycharm": {
     "name": "#%%\n"
    }
   }
  },
  {
   "cell_type": "code",
   "execution_count": null,
   "outputs": [],
   "source": [],
   "metadata": {
    "collapsed": false,
    "pycharm": {
     "name": "#%%\n"
    }
   }
  },
  {
   "cell_type": "code",
   "execution_count": null,
   "outputs": [],
   "source": [],
   "metadata": {
    "collapsed": false,
    "pycharm": {
     "name": "#%%\n"
    }
   }
  },
  {
   "cell_type": "code",
   "execution_count": null,
   "outputs": [],
   "source": [],
   "metadata": {
    "collapsed": false,
    "pycharm": {
     "name": "#%%\n"
    }
   }
  },
  {
   "cell_type": "code",
   "execution_count": null,
   "outputs": [],
   "source": [],
   "metadata": {
    "collapsed": false,
    "pycharm": {
     "name": "#%%\n"
    }
   }
  },
  {
   "cell_type": "code",
   "execution_count": null,
   "outputs": [],
   "source": [],
   "metadata": {
    "collapsed": false,
    "pycharm": {
     "name": "#%%\n"
    }
   }
  },
  {
   "cell_type": "code",
   "execution_count": null,
   "outputs": [],
   "source": [
    "a"
   ],
   "metadata": {
    "collapsed": false,
    "pycharm": {
     "name": "#%%\n"
    }
   }
  },
  {
   "cell_type": "code",
   "execution_count": null,
   "outputs": [],
   "source": [],
   "metadata": {
    "collapsed": false,
    "pycharm": {
     "name": "#%%\n"
    }
   }
  },
  {
   "cell_type": "code",
   "execution_count": null,
   "outputs": [],
   "source": [],
   "metadata": {
    "collapsed": false,
    "pycharm": {
     "name": "#%%\n"
    }
   }
  },
  {
   "cell_type": "code",
   "execution_count": null,
   "outputs": [],
   "source": [],
   "metadata": {
    "collapsed": false,
    "pycharm": {
     "name": "#%%\n"
    }
   }
  },
  {
   "cell_type": "code",
   "execution_count": null,
   "outputs": [],
   "source": [
    "gene_prod_group"
   ],
   "metadata": {
    "collapsed": false,
    "pycharm": {
     "name": "#%%\n"
    }
   }
  },
  {
   "cell_type": "code",
   "execution_count": null,
   "outputs": [],
   "source": [
    "import random"
   ],
   "metadata": {
    "collapsed": false,
    "pycharm": {
     "name": "#%%\n"
    }
   }
  },
  {
   "cell_type": "code",
   "execution_count": null,
   "outputs": [],
   "source": [],
   "metadata": {
    "collapsed": false,
    "pycharm": {
     "name": "#%%\n"
    }
   }
  },
  {
   "cell_type": "code",
   "execution_count": null,
   "outputs": [],
   "source": [],
   "metadata": {
    "collapsed": false,
    "pycharm": {
     "name": "#%%\n"
    }
   }
  },
  {
   "cell_type": "code",
   "execution_count": null,
   "outputs": [],
   "source": [],
   "metadata": {
    "collapsed": false,
    "pycharm": {
     "name": "#%%\n"
    }
   }
  },
  {
   "cell_type": "code",
   "execution_count": null,
   "outputs": [],
   "source": [],
   "metadata": {
    "collapsed": false,
    "pycharm": {
     "name": "#%%\n"
    }
   }
  },
  {
   "cell_type": "code",
   "execution_count": null,
   "outputs": [],
   "source": [
    "dfu.age.plot.hist()"
   ],
   "metadata": {
    "collapsed": false,
    "pycharm": {
     "name": "#%%\n"
    }
   }
  },
  {
   "cell_type": "code",
   "execution_count": null,
   "outputs": [],
   "source": [],
   "metadata": {
    "collapsed": false,
    "pycharm": {
     "name": "#%%\n"
    }
   }
  },
  {
   "cell_type": "code",
   "execution_count": null,
   "outputs": [],
   "source": [
    "for idx , prod in enumerate(data['article_id'].values.tolist()):\n",
    "    print(idx, prod)"
   ],
   "metadata": {
    "collapsed": false,
    "pycharm": {
     "name": "#%%\n"
    }
   }
  },
  {
   "cell_type": "code",
   "execution_count": null,
   "outputs": [],
   "source": [
    "for idx, prod in enumerate(data['article_id'].values.tolist()):\n",
    "    print(idx)"
   ],
   "metadata": {
    "collapsed": false,
    "pycharm": {
     "name": "#%%\n"
    }
   }
  },
  {
   "cell_type": "code",
   "execution_count": null,
   "outputs": [],
   "source": [
    "desc = dfi[dfi['article_id'] ==  prod]['detail_desc'].iloc[0]"
   ],
   "metadata": {
    "collapsed": false,
    "pycharm": {
     "name": "#%%\n"
    }
   }
  },
  {
   "cell_type": "code",
   "execution_count": null,
   "outputs": [],
   "source": [
    "\n",
    "# 이미지의 특징을 많이 고려 , 내가 그러니까 아무래도 옷은"
   ],
   "metadata": {
    "collapsed": false,
    "pycharm": {
     "name": "#%%\n"
    }
   }
  },
  {
   "cell_type": "code",
   "execution_count": null,
   "outputs": [],
   "source": [],
   "metadata": {
    "collapsed": false,
    "pycharm": {
     "name": "#%%\n"
    }
   }
  },
  {
   "cell_type": "code",
   "execution_count": null,
   "outputs": [],
   "source": [
    "# 구매한 아이템 이미지\n",
    "f, ax = plt.subplots(5, 5, figsize=(30,15))\n",
    "i = 0\n",
    "k = 0\n",
    "for prod in data['article_id'].values.tolist():\n",
    "    desc = dfi[dfi['article_id'] ==  prod]['detail_desc'].iloc[0]\n",
    "    desc_list = desc.split(' ')\n",
    "\n",
    "    for j, elem in enumerate(desc_list):\n",
    "        if j > 0 and j % 5 == 0:\n",
    "            desc_list[j] = desc_list[j] + '\\n'\n",
    "    desc = ' '.join(desc_list)\n",
    "    section_nm = dfi[dfi['article_id'] ==  prod]['section_name'].iloc[0]\n",
    "    img = mpimg.imread(f'../input/h-and-m-personalized-fashion-recommendations/images/{str(prod)[:3]}/0{int(prod)}.jpg')\n",
    "    ax[i][k].imshow(img)\n",
    "    ax[i][k].set_title(f'price: {data.price.values[0]:.2f}')\n",
    "    ax[i][k].set_xticks([], [])\n",
    "    ax[i][k].set_yticks([], [])\n",
    "    ax[i][k].grid(False)\n",
    "    ax[i][k].set_xlabel(section_nm, fontsize=10)\n",
    "    k += 1\n",
    "    if k == 5:\n",
    "        k  = 0\n",
    "        i += 1\n",
    "plt.axis('off')\n",
    "plt.show()"
   ],
   "metadata": {
    "collapsed": false,
    "pycharm": {
     "name": "#%%\n"
    }
   }
  },
  {
   "cell_type": "code",
   "execution_count": null,
   "outputs": [],
   "source": [],
   "metadata": {
    "collapsed": false,
    "pycharm": {
     "name": "#%%\n"
    }
   }
  },
  {
   "cell_type": "code",
   "execution_count": null,
   "outputs": [],
   "source": [
    "cols = df.columns.tolist()"
   ],
   "metadata": {
    "collapsed": false,
    "pycharm": {
     "name": "#%%\n"
    }
   }
  },
  {
   "cell_type": "code",
   "execution_count": null,
   "outputs": [],
   "source": [
    "# in 연산자는 list에서만\n",
    "# df[cols[3]].dtypes in 'float64' x"
   ],
   "metadata": {
    "collapsed": false,
    "pycharm": {
     "name": "#%%\n"
    }
   }
  },
  {
   "cell_type": "code",
   "execution_count": null,
   "outputs": [],
   "source": [],
   "metadata": {
    "collapsed": false,
    "pycharm": {
     "name": "#%%\n"
    }
   }
  },
  {
   "cell_type": "code",
   "execution_count": null,
   "outputs": [],
   "source": [
    "reduce_mem_usage(df)"
   ],
   "metadata": {
    "collapsed": false,
    "pycharm": {
     "name": "#%%\n"
    }
   }
  },
  {
   "cell_type": "code",
   "execution_count": null,
   "outputs": [],
   "source": [
    "from sklearn.model_selection import train_test_split"
   ],
   "metadata": {
    "collapsed": false,
    "pycharm": {
     "name": "#%%\n"
    }
   }
  },
  {
   "cell_type": "markdown",
   "source": [],
   "metadata": {
    "collapsed": false
   }
  },
  {
   "cell_type": "code",
   "execution_count": null,
   "outputs": [],
   "source": [
    "df"
   ],
   "metadata": {
    "collapsed": false,
    "pycharm": {
     "name": "#%%\n"
    }
   }
  },
  {
   "cell_type": "code",
   "execution_count": null,
   "outputs": [],
   "source": [
    "x_train , x_valid , y_train ,y_valid = train_test_split(X, Y, test_size=0.2, stratify=Y)"
   ],
   "metadata": {
    "collapsed": false,
    "pycharm": {
     "name": "#%%\n"
    }
   }
  },
  {
   "cell_type": "code",
   "execution_count": null,
   "outputs": [],
   "source": [
    "col_type in numerics"
   ],
   "metadata": {
    "collapsed": false,
    "pycharm": {
     "name": "#%%\n"
    }
   }
  },
  {
   "cell_type": "code",
   "execution_count": null,
   "outputs": [],
   "source": [],
   "metadata": {
    "collapsed": false,
    "pycharm": {
     "name": "#%%\n"
    }
   }
  },
  {
   "cell_type": "code",
   "execution_count": null,
   "outputs": [],
   "source": [],
   "metadata": {
    "collapsed": false,
    "pycharm": {
     "name": "#%%\n"
    }
   }
  },
  {
   "cell_type": "code",
   "execution_count": null,
   "outputs": [],
   "source": [
    "# 연령대 분포\n",
    "plt.figure(figsize=(20,7))\n",
    "sns.histplot(dfu['age'])"
   ],
   "metadata": {
    "collapsed": false,
    "pycharm": {
     "name": "#%%\n"
    }
   }
  },
  {
   "cell_type": "markdown",
   "source": [],
   "metadata": {
    "collapsed": false
   }
  },
  {
   "cell_type": "code",
   "execution_count": null,
   "outputs": [],
   "source": [],
   "metadata": {
    "collapsed": false,
    "pycharm": {
     "name": "#%%\n"
    }
   }
  },
  {
   "cell_type": "code",
   "execution_count": null,
   "outputs": [],
   "source": [],
   "metadata": {
    "collapsed": false,
    "pycharm": {
     "name": "#%%\n"
    }
   }
  },
  {
   "cell_type": "markdown",
   "source": [],
   "metadata": {
    "collapsed": false
   }
  },
  {
   "cell_type": "code",
   "execution_count": null,
   "outputs": [],
   "source": [
    "dfi['article_id'].nunique()"
   ],
   "metadata": {
    "collapsed": false,
    "pycharm": {
     "name": "#%%\n"
    }
   }
  },
  {
   "cell_type": "code",
   "execution_count": null,
   "outputs": [],
   "source": [
    "# 그룹별 구매 아이템의 특징\n"
   ],
   "metadata": {
    "collapsed": false,
    "pycharm": {
     "name": "#%%\n"
    }
   }
  },
  {
   "cell_type": "code",
   "execution_count": null,
   "outputs": [],
   "source": [
    "df"
   ],
   "metadata": {
    "collapsed": false,
    "pycharm": {
     "name": "#%%\n"
    }
   }
  },
  {
   "cell_type": "markdown",
   "source": [
    "![](http://)"
   ],
   "metadata": {
    "collapsed": false
   }
  },
  {
   "cell_type": "code",
   "execution_count": null,
   "outputs": [],
   "source": [
    "df_sub"
   ],
   "metadata": {
    "collapsed": false,
    "pycharm": {
     "name": "#%%\n"
    }
   }
  },
  {
   "cell_type": "code",
   "execution_count": null,
   "outputs": [],
   "source": [
    "# article_id count 인기 품목\n",
    "df.groupby('article_id').count().reset_index()"
   ],
   "metadata": {
    "collapsed": false,
    "pycharm": {
     "name": "#%%\n"
    }
   }
  },
  {
   "cell_type": "code",
   "execution_count": null,
   "outputs": [],
   "source": [
    "# 가장 많이 팔린 품목 또한 여성 제품\n",
    "dfi[dfi['article_id'] == '0108775015']"
   ],
   "metadata": {
    "collapsed": false,
    "pycharm": {
     "name": "#%%\n"
    }
   }
  },
  {
   "cell_type": "code",
   "execution_count": null,
   "outputs": [],
   "source": [],
   "metadata": {
    "collapsed": false,
    "pycharm": {
     "name": "#%%\n"
    }
   }
  }
 ],
 "metadata": {
  "kernelspec": {
   "display_name": "Python 3",
   "language": "python",
   "name": "python3"
  },
  "language_info": {
   "codemirror_mode": {
    "name": "ipython",
    "version": 2
   },
   "file_extension": ".py",
   "mimetype": "text/x-python",
   "name": "python",
   "nbconvert_exporter": "python",
   "pygments_lexer": "ipython2",
   "version": "2.7.6"
  }
 },
 "nbformat": 4,
 "nbformat_minor": 0
}