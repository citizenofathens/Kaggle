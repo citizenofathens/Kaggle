{
 "cells": [
  {
   "cell_type": "code",
   "execution_count": null,
   "metadata": {
    "collapsed": true
   },
   "outputs": [],
   "source": [
    "\n",
    "import pandas as pd\n",
    "import numpy as np\n",
    "import matplotlib.pyplot as plt\n",
    "import seaborn as sns\n",
    "\n",
    "# matplotlib style search go\n",
    "#https://tonysyu.github.io/raw_content/matplotlib-style-gallery/gallery.html\n",
    "plt.style.use('fivethirtyeight')\n",
    "#!pip install seaborn\n",
    "# 빨갛게 경고뜨지만 실행에 문제 없는 출력을 무시한다\n",
    "import warnings\n",
    "warnings.filterwarnings('ignore')\n",
    "%matplotlib inline\n",
    "\n",
    "data = pd.read_csv('../input/train.csv')\n",
    "\n",
    "#!pip install jupyterthemes\n",
    "\n",
    "data.head()\n",
    "\n",
    "data.isnull().sum()\n",
    "# 메서드도 한번에 치지말고 하나씩 나눠서 쳐서 배우기\n",
    "#data.isnull().sum(axis=1) 행방향 null\n",
    "\n",
    "# jupyter 실행창 테마변경\n",
    "# https://github.com/dunovank/jupyter-themes\n",
    "#jtplot.style(theme='grade3')\n",
    "\n",
    "\n",
    "# 1 행 2열의 같은 figsize의 ax 를 만든다\n",
    "# f는 잘 쓰지를 않네\n",
    "f,ax = plt.subplots(1,2, figsize=(18,8))\n",
    "data['Survived'].value_counts().plot.pie(explode=[0,0.1], autopct = '%1.10f%%' , ax=ax[0], shadow=True)\n",
    "ax[0].set_title('Survived')\n",
    "ax[0].set_ylabel('')\n",
    "\n",
    "#sns.countplot('컬럼' , data=data, ax=ax[1])\n",
    "# matplot ax 에 사용할 수 있다 sns countplot\n",
    "sns.countplot('Survived' , data=data, ax=ax[1])\n",
    "ax[1].set_title('Survived')\n",
    "plt.show()\n",
    "\n",
    "# Analysis on Sex\n",
    "\n",
    "data.groupby(['Sex','Survived'])['Survived'].count()\n",
    "\n",
    "\n",
    "\n",
    "f,ax = plt.subplots(1,2,figsize=(18,8))\n",
    "# matplotlib 를 먼저 그려야 dataframe 에 plot을 적용해서 띄울 수 있다\n",
    "# 이런 거가 그냥 복붙하면 코드만 이해하게 되는데 쉐도우 코딩하면서 알게 되는 점 하나하나 분석해서\n",
    "\n",
    "data[['Sex','Survived']].groupby(['Sex']).mean().plot.bar(ax=ax[0])\n",
    "ax[0].set_title('Survived vs Sex')\n",
    "sns.countplot('Sex', hue='Survived', data=data,ax=ax[1])\n",
    "ax[1].set_title('Sex:Survived vs Dead')\n",
    "plt.show()\n",
    "# 0.742038  = 233 / (81+233) "
   ]
  }
 ],
 "metadata": {
  "kernelspec": {
   "display_name": "Python 3",
   "language": "python",
   "name": "python3"
  },
  "language_info": {
   "codemirror_mode": {
    "name": "ipython",
    "version": 2
   },
   "file_extension": ".py",
   "mimetype": "text/x-python",
   "name": "python",
   "nbconvert_exporter": "python",
   "pygments_lexer": "ipython2",
   "version": "2.7.6"
  }
 },
 "nbformat": 4,
 "nbformat_minor": 0
}