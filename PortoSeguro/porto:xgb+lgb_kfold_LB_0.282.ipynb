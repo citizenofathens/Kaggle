{
 "cells": [
  {
   "cell_type": "code",
   "execution_count": 2,
   "metadata": {
    "collapsed": true,
    "pycharm": {
     "name": "#%%\n"
    }
   },
   "outputs": [
    {
     "name": "stdout",
     "output_type": "stream",
     "text": [
      "loading files..\n"
     ]
    }
   ],
   "source": [
    "import os\n",
    "os.environ['KMP_DUPLICATE_LIB_OK']= 'True'\n",
    "import pandas as pd\n",
    "import numpy as np\n",
    "import xgboost as xgb\n",
    "import lightgbm as lgb\n",
    "from sklearn.model_selection import StratifiedKFold\n",
    "import gc\n",
    "\n",
    "\n",
    "print('loading files..')\n",
    "\n",
    "# boosting algorithm xgboost lightboost\n",
    "\n",
    "\n",
    "train = pd.read_csv('./porto-seguro-safe-driver-prediction/train.csv' , na_values=-1)\n",
    "test = pd.read_csv('./porto-seguro-safe-driver-prediction/test.csv' , na_values=-1)\n",
    "\n",
    "col_to_drop = train.columns[train.columns.str.startswith('ps_calc_')]\n",
    "train = train.drop(col_to_drop, axis=1)\n",
    "test = test.drop(col_to_drop, axis=1)"
   ]
  },
  {
   "cell_type": "code",
   "execution_count": 3,
   "outputs": [
    {
     "name": "stdout",
     "output_type": "stream",
     "text": [
      "(595212, 39) (892816, 38)\n"
     ]
    },
    {
     "data": {
      "text/plain": "             id  target  ps_ind_01  ps_ind_02_cat  ps_ind_03  ps_ind_04_cat  \\\n0             7       0          2            2.0          5            1.0   \n1             9       0          1            1.0          7            0.0   \n2            13       0          5            4.0          9            1.0   \n3            16       0          0            1.0          2            0.0   \n4            17       0          0            2.0          0            1.0   \n...         ...     ...        ...            ...        ...            ...   \n595207  1488013       0          3            1.0         10            0.0   \n595208  1488016       0          5            1.0          3            0.0   \n595209  1488017       0          1            1.0         10            0.0   \n595210  1488021       0          5            2.0          3            1.0   \n595211  1488027       0          0            1.0          8            0.0   \n\n        ps_ind_05_cat  ps_ind_06_bin  ps_ind_07_bin  ps_ind_08_bin  ...  \\\n0                 0.0              0              1              0  ...   \n1                 0.0              0              0              1  ...   \n2                 0.0              0              0              1  ...   \n3                 0.0              1              0              0  ...   \n4                 0.0              1              0              0  ...   \n...               ...            ...            ...            ...  ...   \n595207            0.0              0              0              0  ...   \n595208            0.0              0              0              0  ...   \n595209            0.0              1              0              0  ...   \n595210            0.0              0              0              1  ...   \n595211            0.0              1              0              0  ...   \n\n        ps_car_07_cat  ps_car_08_cat  ps_car_09_cat  ps_car_10_cat  \\\n0                 1.0              0            0.0              1   \n1                 1.0              1            2.0              1   \n2                 1.0              1            2.0              1   \n3                 1.0              1            3.0              1   \n4                 1.0              1            2.0              1   \n...               ...            ...            ...            ...   \n595207            1.0              1            0.0              1   \n595208            0.0              0            2.0              1   \n595209            1.0              1            2.0              1   \n595210            1.0              1            2.0              1   \n595211            1.0              0            2.0              1   \n\n        ps_car_11_cat  ps_car_11  ps_car_12  ps_car_13  ps_car_14  ps_car_15  \n0                  12        2.0   0.400000   0.883679   0.370810   3.605551  \n1                  19        3.0   0.316228   0.618816   0.388716   2.449490  \n2                  60        1.0   0.316228   0.641586   0.347275   3.316625  \n3                 104        1.0   0.374166   0.542949   0.294958   2.000000  \n4                  82        3.0   0.316070   0.565831   0.365103   2.000000  \n...               ...        ...        ...        ...        ...        ...  \n595207             31        3.0   0.374166   0.684631   0.385487   2.645751  \n595208             63        2.0   0.387298   0.972145        NaN   3.605551  \n595209             31        3.0   0.397492   0.596373   0.398748   1.732051  \n595210            101        3.0   0.374166   0.764434   0.384968   3.162278  \n595211             34        2.0   0.400000   0.932649   0.378021   3.741657  \n\n[595212 rows x 39 columns]",
      "text/html": "<div>\n<style scoped>\n    .dataframe tbody tr th:only-of-type {\n        vertical-align: middle;\n    }\n\n    .dataframe tbody tr th {\n        vertical-align: top;\n    }\n\n    .dataframe thead th {\n        text-align: right;\n    }\n</style>\n<table border=\"1\" class=\"dataframe\">\n  <thead>\n    <tr style=\"text-align: right;\">\n      <th></th>\n      <th>id</th>\n      <th>target</th>\n      <th>ps_ind_01</th>\n      <th>ps_ind_02_cat</th>\n      <th>ps_ind_03</th>\n      <th>ps_ind_04_cat</th>\n      <th>ps_ind_05_cat</th>\n      <th>ps_ind_06_bin</th>\n      <th>ps_ind_07_bin</th>\n      <th>ps_ind_08_bin</th>\n      <th>...</th>\n      <th>ps_car_07_cat</th>\n      <th>ps_car_08_cat</th>\n      <th>ps_car_09_cat</th>\n      <th>ps_car_10_cat</th>\n      <th>ps_car_11_cat</th>\n      <th>ps_car_11</th>\n      <th>ps_car_12</th>\n      <th>ps_car_13</th>\n      <th>ps_car_14</th>\n      <th>ps_car_15</th>\n    </tr>\n  </thead>\n  <tbody>\n    <tr>\n      <th>0</th>\n      <td>7</td>\n      <td>0</td>\n      <td>2</td>\n      <td>2.0</td>\n      <td>5</td>\n      <td>1.0</td>\n      <td>0.0</td>\n      <td>0</td>\n      <td>1</td>\n      <td>0</td>\n      <td>...</td>\n      <td>1.0</td>\n      <td>0</td>\n      <td>0.0</td>\n      <td>1</td>\n      <td>12</td>\n      <td>2.0</td>\n      <td>0.400000</td>\n      <td>0.883679</td>\n      <td>0.370810</td>\n      <td>3.605551</td>\n    </tr>\n    <tr>\n      <th>1</th>\n      <td>9</td>\n      <td>0</td>\n      <td>1</td>\n      <td>1.0</td>\n      <td>7</td>\n      <td>0.0</td>\n      <td>0.0</td>\n      <td>0</td>\n      <td>0</td>\n      <td>1</td>\n      <td>...</td>\n      <td>1.0</td>\n      <td>1</td>\n      <td>2.0</td>\n      <td>1</td>\n      <td>19</td>\n      <td>3.0</td>\n      <td>0.316228</td>\n      <td>0.618816</td>\n      <td>0.388716</td>\n      <td>2.449490</td>\n    </tr>\n    <tr>\n      <th>2</th>\n      <td>13</td>\n      <td>0</td>\n      <td>5</td>\n      <td>4.0</td>\n      <td>9</td>\n      <td>1.0</td>\n      <td>0.0</td>\n      <td>0</td>\n      <td>0</td>\n      <td>1</td>\n      <td>...</td>\n      <td>1.0</td>\n      <td>1</td>\n      <td>2.0</td>\n      <td>1</td>\n      <td>60</td>\n      <td>1.0</td>\n      <td>0.316228</td>\n      <td>0.641586</td>\n      <td>0.347275</td>\n      <td>3.316625</td>\n    </tr>\n    <tr>\n      <th>3</th>\n      <td>16</td>\n      <td>0</td>\n      <td>0</td>\n      <td>1.0</td>\n      <td>2</td>\n      <td>0.0</td>\n      <td>0.0</td>\n      <td>1</td>\n      <td>0</td>\n      <td>0</td>\n      <td>...</td>\n      <td>1.0</td>\n      <td>1</td>\n      <td>3.0</td>\n      <td>1</td>\n      <td>104</td>\n      <td>1.0</td>\n      <td>0.374166</td>\n      <td>0.542949</td>\n      <td>0.294958</td>\n      <td>2.000000</td>\n    </tr>\n    <tr>\n      <th>4</th>\n      <td>17</td>\n      <td>0</td>\n      <td>0</td>\n      <td>2.0</td>\n      <td>0</td>\n      <td>1.0</td>\n      <td>0.0</td>\n      <td>1</td>\n      <td>0</td>\n      <td>0</td>\n      <td>...</td>\n      <td>1.0</td>\n      <td>1</td>\n      <td>2.0</td>\n      <td>1</td>\n      <td>82</td>\n      <td>3.0</td>\n      <td>0.316070</td>\n      <td>0.565831</td>\n      <td>0.365103</td>\n      <td>2.000000</td>\n    </tr>\n    <tr>\n      <th>...</th>\n      <td>...</td>\n      <td>...</td>\n      <td>...</td>\n      <td>...</td>\n      <td>...</td>\n      <td>...</td>\n      <td>...</td>\n      <td>...</td>\n      <td>...</td>\n      <td>...</td>\n      <td>...</td>\n      <td>...</td>\n      <td>...</td>\n      <td>...</td>\n      <td>...</td>\n      <td>...</td>\n      <td>...</td>\n      <td>...</td>\n      <td>...</td>\n      <td>...</td>\n      <td>...</td>\n    </tr>\n    <tr>\n      <th>595207</th>\n      <td>1488013</td>\n      <td>0</td>\n      <td>3</td>\n      <td>1.0</td>\n      <td>10</td>\n      <td>0.0</td>\n      <td>0.0</td>\n      <td>0</td>\n      <td>0</td>\n      <td>0</td>\n      <td>...</td>\n      <td>1.0</td>\n      <td>1</td>\n      <td>0.0</td>\n      <td>1</td>\n      <td>31</td>\n      <td>3.0</td>\n      <td>0.374166</td>\n      <td>0.684631</td>\n      <td>0.385487</td>\n      <td>2.645751</td>\n    </tr>\n    <tr>\n      <th>595208</th>\n      <td>1488016</td>\n      <td>0</td>\n      <td>5</td>\n      <td>1.0</td>\n      <td>3</td>\n      <td>0.0</td>\n      <td>0.0</td>\n      <td>0</td>\n      <td>0</td>\n      <td>0</td>\n      <td>...</td>\n      <td>0.0</td>\n      <td>0</td>\n      <td>2.0</td>\n      <td>1</td>\n      <td>63</td>\n      <td>2.0</td>\n      <td>0.387298</td>\n      <td>0.972145</td>\n      <td>NaN</td>\n      <td>3.605551</td>\n    </tr>\n    <tr>\n      <th>595209</th>\n      <td>1488017</td>\n      <td>0</td>\n      <td>1</td>\n      <td>1.0</td>\n      <td>10</td>\n      <td>0.0</td>\n      <td>0.0</td>\n      <td>1</td>\n      <td>0</td>\n      <td>0</td>\n      <td>...</td>\n      <td>1.0</td>\n      <td>1</td>\n      <td>2.0</td>\n      <td>1</td>\n      <td>31</td>\n      <td>3.0</td>\n      <td>0.397492</td>\n      <td>0.596373</td>\n      <td>0.398748</td>\n      <td>1.732051</td>\n    </tr>\n    <tr>\n      <th>595210</th>\n      <td>1488021</td>\n      <td>0</td>\n      <td>5</td>\n      <td>2.0</td>\n      <td>3</td>\n      <td>1.0</td>\n      <td>0.0</td>\n      <td>0</td>\n      <td>0</td>\n      <td>1</td>\n      <td>...</td>\n      <td>1.0</td>\n      <td>1</td>\n      <td>2.0</td>\n      <td>1</td>\n      <td>101</td>\n      <td>3.0</td>\n      <td>0.374166</td>\n      <td>0.764434</td>\n      <td>0.384968</td>\n      <td>3.162278</td>\n    </tr>\n    <tr>\n      <th>595211</th>\n      <td>1488027</td>\n      <td>0</td>\n      <td>0</td>\n      <td>1.0</td>\n      <td>8</td>\n      <td>0.0</td>\n      <td>0.0</td>\n      <td>1</td>\n      <td>0</td>\n      <td>0</td>\n      <td>...</td>\n      <td>1.0</td>\n      <td>0</td>\n      <td>2.0</td>\n      <td>1</td>\n      <td>34</td>\n      <td>2.0</td>\n      <td>0.400000</td>\n      <td>0.932649</td>\n      <td>0.378021</td>\n      <td>3.741657</td>\n    </tr>\n  </tbody>\n</table>\n<p>595212 rows × 39 columns</p>\n</div>"
     },
     "execution_count": 3,
     "metadata": {},
     "output_type": "execute_result"
    }
   ],
   "source": [
    "for c in train.select_dtypes(include=['float64']).columns:\n",
    "    train[c]=train[c].astype(np.float32)\n",
    "    test[c]=test[c].astype(np.float32)\n",
    "for c in train.select_dtypes(include=['int64']).columns[2:]:\n",
    "    train[c]=train[c].astype(np.int8)\n",
    "    test[c]=test[c].astype(np.int8)\n",
    "\n",
    "print(train.shape, test.shape)\n",
    "train"
   ],
   "metadata": {
    "collapsed": false,
    "pycharm": {
     "name": "#%%\n"
    }
   }
  },
  {
   "cell_type": "code",
   "execution_count": 4,
   "outputs": [],
   "source": [
    "# custom objective function (similar to auc)\n",
    "\n",
    "def gini(y, pred):\n",
    "    g = np.asarray(np.c_[y, pred, np.arange(len(y)) ], dtype=np.float)\n",
    "    g = g[np.lexsort((g[:,2], -1*g[:,1]))]\n",
    "    gs = g[:,0].cumsum().sum() / g[:,0].sum()\n",
    "    gs -= (len(y) + 1) / 2.\n",
    "    return gs / len(y)\n",
    "\n",
    "def gini_xgb(pred, y):\n",
    "    y = y.get_label()\n",
    "    return 'gini', gini(y, pred) / gini(y, y)\n",
    "\n",
    "def gini_lgb(preds, dtrain):\n",
    "    y = list(dtrain.get_label())\n",
    "    score = gini(y, preds) / gini(y, y)\n",
    "    return 'gini', score, True"
   ],
   "metadata": {
    "collapsed": false,
    "pycharm": {
     "name": "#%%\n"
    }
   }
  },
  {
   "cell_type": "code",
   "execution_count": 6,
   "outputs": [],
   "source": [
    "# xgb\n",
    "params = {'eta': 0.02, 'max_depth': 4, 'subsample': 0.9, 'colsample_bytree': 0.9,\n",
    "          'objective': 'binary:logistic', 'eval_metric': 'auc', 'silent': True}\n",
    "\n",
    "X = train.drop(['id', 'target'], axis=1)\n",
    "features = X.columns\n",
    "X = X.values\n",
    "y = train['target'].values\n",
    "sub=test['id'].to_frame()\n",
    "sub['target']=0"
   ],
   "metadata": {
    "collapsed": false,
    "pycharm": {
     "name": "#%%\n"
    }
   }
  },
  {
   "cell_type": "code",
   "execution_count": 7,
   "outputs": [],
   "source": [
    "nrounds = 200\n",
    "kfold =2\n",
    "# 원 데이터셋 그대로의 같은 비율로 데이터를 fold하여 뽑는다\n",
    "skf = StratifiedKFold(n_splits=kfold, random_state=0,shuffle=True)\n",
    "\n",
    "for i , (train_index, valid_index) in enumerate(skf.split(X,y)):\n",
    "    break"
   ],
   "metadata": {
    "collapsed": false,
    "pycharm": {
     "name": "#%%\n"
    }
   }
  },
  {
   "cell_type": "code",
   "execution_count": 8,
   "outputs": [
    {
     "data": {
      "text/plain": "array([     0,      3,      4, ..., 595207, 595210, 595211])"
     },
     "execution_count": 8,
     "metadata": {},
     "output_type": "execute_result"
    }
   ],
   "source": [
    "train_index"
   ],
   "metadata": {
    "collapsed": false,
    "pycharm": {
     "name": "#%%\n"
    }
   }
  },
  {
   "cell_type": "code",
   "execution_count": null,
   "outputs": [],
   "source": [],
   "metadata": {
    "collapsed": false,
    "pycharm": {
     "name": "#%%\n"
    }
   }
  },
  {
   "cell_type": "code",
   "execution_count": 8,
   "outputs": [],
   "source": [],
   "metadata": {
    "collapsed": false,
    "pycharm": {
     "name": "#%%\n"
    }
   }
  },
  {
   "cell_type": "code",
   "execution_count": 9,
   "outputs": [
    {
     "data": {
      "text/plain": "200"
     },
     "execution_count": 9,
     "metadata": {},
     "output_type": "execute_result"
    }
   ],
   "source": [
    "nrounds"
   ],
   "metadata": {
    "collapsed": false,
    "pycharm": {
     "name": "#%%\n"
    }
   }
  },
  {
   "cell_type": "code",
   "execution_count": 10,
   "outputs": [],
   "source": [
    "X_train , X_valid  = X[train_index] , X[valid_index]\n",
    "\n",
    "y_train, y_valid = y[train_index] , y[valid_index]\n"
   ],
   "metadata": {
    "collapsed": false,
    "pycharm": {
     "name": "#%%\n"
    }
   }
  },
  {
   "cell_type": "code",
   "execution_count": 10,
   "outputs": [],
   "source": [],
   "metadata": {
    "collapsed": false,
    "pycharm": {
     "name": "#%%\n"
    }
   }
  },
  {
   "cell_type": "code",
   "execution_count": 11,
   "outputs": [
    {
     "data": {
      "text/plain": "array([[ 2.        ,  2.        ,  5.        , ...,  0.8836789 ,\n         0.3708099 ,  3.6055512 ],\n       [ 0.        ,  1.        ,  2.        , ...,  0.5429488 ,\n         0.29495764,  2.        ],\n       [ 0.        ,  2.        ,  0.        , ...,  0.5658315 ,\n         0.36510274,  2.        ],\n       ...,\n       [ 3.        ,  1.        , 10.        , ...,  0.6846306 ,\n         0.3854867 ,  2.6457512 ],\n       [ 5.        ,  2.        ,  3.        , ...,  0.7644341 ,\n         0.38496754,  3.1622777 ],\n       [ 0.        ,  1.        ,  8.        , ...,  0.9326493 ,\n         0.37802115,  3.7416575 ]], dtype=float32)"
     },
     "execution_count": 11,
     "metadata": {},
     "output_type": "execute_result"
    }
   ],
   "source": [
    "X_train"
   ],
   "metadata": {
    "collapsed": false,
    "pycharm": {
     "name": "#%%\n"
    }
   }
  },
  {
   "cell_type": "code",
   "execution_count": null,
   "outputs": [],
   "source": [
    "# xgb 전용 데이터 세트 numpy 입력 파라미터를 받는다\n",
    "d_train = xgb.DMatrix(X_train, y_train)\n",
    "d_valid = xgb.DMatrix(X_valid, y_valid)\n"
   ],
   "metadata": {
    "collapsed": false,
    "pycharm": {
     "name": "#%%\n",
     "is_executing": true
    }
   }
  },
  {
   "cell_type": "code",
   "execution_count": null,
   "outputs": [],
   "source": [
    "watchlist = [(d_train) , 'train') , (d_valid) ,'valid']"
   ],
   "metadata": {
    "collapsed": false,
    "pycharm": {
     "name": "#%%\n"
    }
   }
  },
  {
   "cell_type": "code",
   "execution_count": null,
   "outputs": [],
   "source": [
    "# watchlist 를 활용하여 earlystopping 을 한다\n",
    "# eval_metric 을 custimize function 인 gini_xgb를 사용\n",
    "xgb_model = xgb.train(params, d_train , nrounds, watchlist , early_stopping_rounds=10, feval=gini_xgb , maximize=True, verbose_eval=100)"
   ],
   "metadata": {
    "collapsed": false,
    "pycharm": {
     "name": "#%%\n"
    }
   }
  },
  {
   "cell_type": "code",
   "execution_count": null,
   "outputs": [],
   "source": [
    "# best에서 50번만 더 가서 예측해라\n",
    "sub['target']  += xgb_model.predict(xgb.DMatrix(test[features].values),\n",
    "                                        ntree_limit=xgb_model.best_ntree_limit+50 / (2*kfold))"
   ],
   "metadata": {
    "collapsed": false,
    "pycharm": {
     "name": "#%%\n"
    }
   }
  },
  {
   "cell_type": "code",
   "execution_count": null,
   "outputs": [],
   "source": [
    "# xgboost를 2개의 fold로 나눠서 모델 2개로 0.5 percent를채웠다\n",
    "\n",
    "# lightgbm 2개의 fold로 나눠서 모델 2개로 0.5 percent를채웠다\n",
    "# 그러면 전체 1.0 submission 이나오고 두개를 stackking해서 제출한다"
   ],
   "metadata": {
    "collapsed": false,
    "pycharm": {
     "name": "#%%\n"
    }
   }
  },
  {
   "cell_type": "code",
   "execution_count": null,
   "outputs": [],
   "source": [],
   "metadata": {
    "collapsed": false,
    "pycharm": {
     "name": "#%%\n"
    }
   }
  },
  {
   "cell_type": "code",
   "execution_count": null,
   "outputs": [],
   "source": [
    "xgb_model.best_ntree_limit_50\n"
   ],
   "metadata": {
    "collapsed": false,
    "pycharm": {
     "name": "#%%\n"
    }
   }
  },
  {
   "cell_type": "code",
   "execution_count": null,
   "outputs": [],
   "source": [],
   "metadata": {
    "collapsed": false,
    "pycharm": {
     "name": "#%%\n"
    }
   }
  },
  {
   "cell_type": "code",
   "execution_count": 1,
   "outputs": [
    {
     "ename": "SyntaxError",
     "evalue": "unexpected EOF while parsing (3459626431.py, line 42)",
     "output_type": "error",
     "traceback": [
      "\u001B[0;36m  File \u001B[0;32m\"/var/folders/c6/2j22b1rd02778st12c0mcr3w0000gn/T/ipykernel_34248/3459626431.py\"\u001B[0;36m, line \u001B[0;32m42\u001B[0m\n\u001B[0;31m    \u001B[0m\n\u001B[0m    ^\u001B[0m\n\u001B[0;31mSyntaxError\u001B[0m\u001B[0;31m:\u001B[0m unexpected EOF while parsing\n"
     ]
    }
   ],
   "source": [
    "# 막간 연습\n",
    "import heapq\n",
    "\n",
    "# 머리 풀기 위해 알고리즘 한번씩\n",
    "\n",
    "# 다익스트라의 핵심은 두 노드간의 최단 거리를 구하는건데 (그래야 응용 활용이 가능하다) 파라미터부터 외워버렸다\n",
    "def dikstra(n,s,a,b,fares):\n",
    "\n",
    "    graph = [{} for _ in range(n)]\n",
    "\n",
    "    #노드의 개수만큼 distance 배열을 가지고 있다\n",
    "    distances = [ float(\"inf\") for i in range(n)]\n",
    "\n",
    "    q = []\n",
    "    # 최초의 거리 정보를 그래프 노드에 저장\n",
    "\n",
    "    start , end , fare = fares[0][0] ,fares[0][1] , fares[0][2]\n",
    "\n",
    "    for i in range(len(fares)):\n",
    "        graph[fares[i][0]].append((fares[i][1], fares[i][2]))\n",
    "        # 거꾸로도 넣어주어야함 해당 노드를 key 로 하여 정보를 추가하는 것임\n",
    "        graph[fares[i][1]].append((fares[i][0], fares[i][2]))\n",
    "    # a의 목적지와 시작지점, b의 목적지를 파라미터로 받고 리스트를 최소힙큐로 만들어 push하면\n",
    "    # 부모노드가 항상 자식노드보다 값이 작은 큐가 되므로\n",
    "    heapq.heappush(q, (s, a, b) )\n",
    "\n",
    "    # 주어진 노드부터 목적지까지의 거리를 탐색하여 distances 배열에 업데이트한다 .\n",
    "    #\n",
    "    while q:\n",
    "        start , a, b = q.heappop\n",
    "\n",
    "\n",
    "        # 최단거리를 업데이트 그래프 노드를 탐색하며 순회하면서\n",
    "        # start 지점을 경유\n",
    "\n",
    "\n",
    "        for destination, cost in graph[start]:\n",
    "            # distances[destination] == 목적지로 바로 가는 경우\n",
    "            # distances[start]+ cost = start지점을 경유해서 가는 경우\n",
    "            if distances[destination] > distances[start] + cost :\n"
   ],
   "metadata": {
    "collapsed": false,
    "pycharm": {
     "name": "#%%\n"
    }
   }
  },
  {
   "cell_type": "code",
   "execution_count": null,
   "outputs": [],
   "source": [
    "dic= {}"
   ],
   "metadata": {
    "collapsed": false,
    "pycharm": {
     "name": "#%%\n"
    }
   }
  },
  {
   "cell_type": "code",
   "execution_count": null,
   "outputs": [],
   "source": [
    "dic[0] = {}"
   ],
   "metadata": {
    "collapsed": false,
    "pycharm": {
     "name": "#%%\n"
    }
   }
  },
  {
   "cell_type": "code",
   "execution_count": 8,
   "outputs": [
    {
     "ename": "KeyError",
     "evalue": "0",
     "output_type": "error",
     "traceback": [
      "\u001B[0;31m---------------------------------------------------------------------------\u001B[0m",
      "\u001B[0;31mKeyError\u001B[0m                                  Traceback (most recent call last)",
      "\u001B[0;32m/var/folders/c6/2j22b1rd02778st12c0mcr3w0000gn/T/ipykernel_22920/1723051935.py\u001B[0m in \u001B[0;36m<module>\u001B[0;34m\u001B[0m\n\u001B[0;32m----> 1\u001B[0;31m \u001B[0mdic\u001B[0m\u001B[0;34m[\u001B[0m\u001B[0;36m0\u001B[0m\u001B[0;34m]\u001B[0m\u001B[0;34m[\u001B[0m\u001B[0;36m0\u001B[0m\u001B[0;34m]\u001B[0m \u001B[0;34m=\u001B[0m \u001B[0;36m1\u001B[0m\u001B[0;34m\u001B[0m\u001B[0;34m\u001B[0m\u001B[0m\n\u001B[0m",
      "\u001B[0;31mKeyError\u001B[0m: 0"
     ]
    }
   ],
   "source": [
    "dic[0][0] = 1"
   ],
   "metadata": {
    "collapsed": false,
    "pycharm": {
     "name": "#%%\n"
    }
   }
  },
  {
   "cell_type": "code",
   "execution_count": 14,
   "outputs": [],
   "source": [
    "dic[0][1] = 1"
   ],
   "metadata": {
    "collapsed": false,
    "pycharm": {
     "name": "#%%\n"
    }
   }
  },
  {
   "cell_type": "code",
   "execution_count": 15,
   "outputs": [
    {
     "data": {
      "text/plain": "{0: {1: 1}}"
     },
     "execution_count": 15,
     "metadata": {},
     "output_type": "execute_result"
    }
   ],
   "source": [
    "dic"
   ],
   "metadata": {
    "collapsed": false,
    "pycharm": {
     "name": "#%%\n"
    }
   }
  },
  {
   "cell_type": "code",
   "execution_count": 18,
   "outputs": [
    {
     "data": {
      "text/plain": "{0: inf}"
     },
     "execution_count": 18,
     "metadata": {},
     "output_type": "execute_result"
    }
   ],
   "source": [
    "# 이차원 딕셔너리로 만든 그래프를 순회하는 것은 바깥 차원만 도는 것이므로\n",
    "# 노드 개수만큼만 노드에 대한 거리를 초기화한다\n",
    "{node : float('inf') for node in dic}"
   ],
   "metadata": {
    "collapsed": false,
    "pycharm": {
     "name": "#%%\n"
    }
   }
  },
  {
   "cell_type": "code",
   "execution_count": null,
   "outputs": [],
   "source": [],
   "metadata": {
    "collapsed": false,
    "pycharm": {
     "name": "#%%\n"
    }
   }
  }
 ],
 "metadata": {
  "kernelspec": {
   "display_name": "Python 3",
   "language": "python",
   "name": "python3"
  },
  "language_info": {
   "codemirror_mode": {
    "name": "ipython",
    "version": 2
   },
   "file_extension": ".py",
   "mimetype": "text/x-python",
   "name": "python",
   "nbconvert_exporter": "python",
   "pygments_lexer": "ipython2",
   "version": "2.7.6"
  }
 },
 "nbformat": 4,
 "nbformat_minor": 0
}