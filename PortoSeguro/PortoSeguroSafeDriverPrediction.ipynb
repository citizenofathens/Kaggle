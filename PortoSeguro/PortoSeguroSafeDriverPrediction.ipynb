{
 "cells": [
  {
   "cell_type": "code",
   "execution_count": 21,
   "metadata": {
    "collapsed": true
   },
   "outputs": [],
   "source": [
    "\n",
    "\n",
    "# 보험 청구를 할 것인지 예측하는 문제\n",
    "# binary classification competition"
   ]
  },
  {
   "cell_type": "code",
   "execution_count": 43,
   "outputs": [
    {
     "data": {
      "text/plain": "'\\n\\n아키텍처 이해가 부족해서 시작조차 어려웠음 서빙\\n\\n\\n지니계수와\\nROC\\n\\n\\n알고 한다 -> 단편적, 이분법적, 단순함이 많이 포함되어있음 정량적 지표이기는 함 영어로따지면 잘 듣고 잘 말하기는 하나\\n 내용 이해를 잘 못한 상태일 수 있음\\n\\n이해하고 한다 -> 감정적 ,실전적, 총괄적인 앎 정량적 지표+ 정성적 지표인 느낌. 단순히 앎에\\n   그치는 게 아니라 이해가 있어야 실력을 늘릴 수 있다. 감정을 이해하지 못하면 돈을 못버는 것처럼\\n\\n\\n\\n1-frac_pos / 2 가 maximum\\n\\nperfect score =0.5\\n\\n로렌츠 곡선 커브의 면적을 삼각형면적으로 나눈 것이 지니계수\\n\\n왜 지니계수를 쓰는가?\\n\\ngini = 2x AUC -1 인데\\nAUC는\\nrandom guessing는 0.5인데\\n\\n지니계수는 random guessing이 0이다 ->?\\n\\n숫자적으로 보기 편해서?\\n\\n그냥 accuracy로 하면 모델을 올바르게 평가하기가 어렵다\\n\\nROC - AUC CURVE 는 threshold값을 0.1,0.2, 등등으로 정했을 때 TP RATE와 FP RATE를 PLOT 하는것\\n 대각선의 0.5 기울기가 1인 값이 완벽한 값이고 이와 가까운 값을 구하기 위해서 사용하는ㄱ ㅓㅅ\\n\\nimbalance한 target을 가지고있을때 accuracy로 모델 성능을 평가하기 어려우므로\\n\\n 얻게될 prediction 값 샘플에 대한 이 모델의 값이 0.6이면 0.5일때 class 1이라고 할때 이 샘플은 1인데\\n threshold를 0.1로 둘 수도있고 0.2로 둘 수도 있고\\n 그러면서\\n 0.1,0.2,0.3 ... 하면서\\n 이 curve 면적의 대각선 밑의\\n\\n\\n  threshold값을 구하는 건데 thres\\n\\nGINI 계수는 이와조금다르지만 비슷한 목적으로\\n\\n random guessing은 0이고 perfect guessing은\\n\\n\\n'"
     },
     "execution_count": 43,
     "metadata": {},
     "output_type": "execute_result"
    }
   ],
   "source": [
    "\n",
    "#metric 이해\n",
    "\"\"\"\n",
    "\n",
    "아키텍처 이해가 부족해서 시작조차 어려웠음 서빙\n",
    "\n",
    "\n",
    "지니계수와\n",
    "ROC\n",
    "\n",
    "\n",
    "알고 한다 -> 단편적, 이분법적, 단순함이 많이 포함되어있음 정량적 지표이기는 함 영어로따지면 잘 듣고 잘 말하기는 하나\n",
    " 내용 이해를 잘 못한 상태일 수 있음\n",
    "\n",
    "이해하고 한다 -> 감정적 ,실전적, 총괄적인 앎 정량적 지표+ 정성적 지표인 느낌. 단순히 앎에\n",
    "   그치는 게 아니라 이해가 있어야 실력을 늘릴 수 있다. 감정을 이해하지 못하면 돈을 못버는 것처럼\n",
    "\n",
    "\n",
    "\n",
    "1-frac_pos / 2 가 maximum\n",
    "\n",
    "perfect score =0.5\n",
    "\n",
    "로렌츠 곡선 커브의 면적을 삼각형면적으로 나눈 것이 지니계수\n",
    "\n",
    "왜 지니계수를 쓰는가?\n",
    "\n",
    "gini = 2x AUC -1 인데\n",
    "AUC는\n",
    "random guessing는 0.5인데\n",
    "\n",
    "지니계수는 random guessing이 0이다 ->?\n",
    "\n",
    "숫자적으로 보기 편해서?\n",
    "\n",
    "그냥 accuracy로 하면 모델을 올바르게 평가하기가 어렵다\n",
    "\n",
    "ROC - AUC CURVE 는 threshold값을 0.1,0.2, 등등으로 정했을 때 TP RATE와 FP RATE를 PLOT 하는것\n",
    " 대각선의 0.5 기울기가 1인 값이 완벽한 값이고 이와 가까운 값을 구하기 위해서 사용하는ㄱ ㅓㅅ\n",
    "\n",
    "imbalance한 target을 가지고있을때 accuracy로 모델 성능을 평가하기 어려우므로\n",
    "\n",
    " 얻게될 prediction 값 샘플에 대한 이 모델의 값이 0.6이면 0.5일때 class 1이라고 할때 이 샘플은 1인데\n",
    " threshold를 0.1로 둘 수도있고 0.2로 둘 수도 있고\n",
    " 그러면서\n",
    " 0.1,0.2,0.3 ... 하면서\n",
    " 이 curve 면적의 대각선 밑의\n",
    "\n",
    "\n",
    "  threshold값을 구하는 건데 thres\n",
    "\n",
    "GINI 계수는 이와조금다르지만 비슷한 목적으로\n",
    "\n",
    " random guessing은 0이고 perfect guessing은\n",
    "\n",
    "\n",
    "\"\"\""
   ],
   "metadata": {
    "collapsed": false,
    "pycharm": {
     "name": "#%%\n"
    }
   }
  },
  {
   "cell_type": "code",
   "execution_count": 2,
   "outputs": [
    {
     "data": {
      "text/plain": "'/Users/seongminpark/PycharmProjects/pythonProject/Kaggle/PortoSeguro'"
     },
     "execution_count": 2,
     "metadata": {},
     "output_type": "execute_result"
    }
   ],
   "source": [],
   "metadata": {
    "collapsed": false,
    "pycharm": {
     "name": "#%%\n"
    }
   }
  },
  {
   "cell_type": "code",
   "execution_count": 3,
   "outputs": [],
   "source": [
    "# Besides that , it gives some tips and tricks to prepare your data for modeling . The notebook consists of the following main sections\n",
    "\n",
    "\n",
    "import pandas as pd\n",
    "import numpy as np\n",
    "import matplotlib.pyplot as plt\n",
    "import seaborn as sns\n",
    "#from sklearn import Imputer\n",
    "from sklearn.impute import SimpleImputer\n",
    "from sklearn.preprocessing import PolynomialFeatures\n",
    "from sklearn.preprocessing import StandardScaler\n",
    "\n",
    "# 100개의 피쳐 중 특정 피쳐에서 1이 99개고 0이 1개라면  -> 그 정보에서 얻을 게 별로 없으므로 제거한다\n",
    "#\n",
    "from sklearn.feature_selection import VarianceThreshold\n",
    "# 모델마다 중요도 어느정도 메서드로 구현된것\n",
    "# 0로 했을 때 피쳐가 중요하지 않았는데\n",
    "# 1로 하면 피쳐가 중요해진다면 학습을 해야한다\n",
    "# 피쳐하나에 모델 한개이므로 피쳐 천개만개면 모델도 천개만개 만들어야된다\n",
    "#\n",
    "from sklearn.feature_selection import SelectFromModel\n",
    "from sklearn.utils import shuffle\n",
    "\n",
    "from sklearn.ensemble import RandomForestClassifier\n",
    "\n",
    "\n",
    "# This notebook aims at getting a good\n",
    "pd.set_option('display.max_columns', 100)\n",
    "pd.set_option('display.max_rows', 100)\n",
    "\n",
    "# random sample 시 imbalance 가 불안하다면\n",
    "from sklearn.model_selection import StratifiedKFold"
   ],
   "metadata": {
    "collapsed": false,
    "pycharm": {
     "name": "#%% instight in the data for the PorteSeguro Competition.\n"
    }
   }
  },
  {
   "cell_type": "code",
   "execution_count": 3,
   "outputs": [],
   "source": [],
   "metadata": {
    "collapsed": false,
    "pycharm": {
     "name": "#%%\n"
    }
   }
  },
  {
   "cell_type": "code",
   "execution_count": 4,
   "outputs": [],
   "source": [
    "DEBUG = True\n",
    "if DEBUG:\n",
    "    NROWS = 50000\n",
    "else:\n",
    "    NROWS = None"
   ],
   "metadata": {
    "collapsed": false,
    "pycharm": {
     "name": "#%%\n"
    }
   }
  },
  {
   "cell_type": "code",
   "execution_count": 6,
   "outputs": [],
   "source": [
    "fold = StratifiedKFold(n_splits=10, random_state=1980, shuffle=True)\n"
   ],
   "metadata": {
    "collapsed": false,
    "pycharm": {
     "name": "#%%\n"
    }
   }
  },
  {
   "cell_type": "code",
   "execution_count": 6,
   "outputs": [],
   "source": [],
   "metadata": {
    "collapsed": false,
    "pycharm": {
     "name": "#%%\n"
    }
   }
  },
  {
   "cell_type": "code",
   "execution_count": 8,
   "outputs": [],
   "source": [
    "train = pd.read_csv('../PortoSeguro/porto-seguro-safe-driver-prediction/train.csv', nrows=NROWS)\n",
    "test = pd.read_csv('../PortoSeguro/porto-seguro-safe-driver-prediction/test.csv',nrows=NROWS)\n",
    "train = train.sample(frac=0.2)"
   ],
   "metadata": {
    "collapsed": false,
    "pycharm": {
     "name": "#%%\n"
    }
   }
  },
  {
   "cell_type": "code",
   "execution_count": 9,
   "outputs": [
    {
     "data": {
      "text/plain": "\"\\nfor trn_idx , val_idx in fold.split(train, train['target']):\\n    break\\n# 이렇게 하면 깔끔한 Stratified idx가 뽑힌다 imbalance 방지용으로\\n# Stratified sample이란 모집단의 하위집단이 각각 적절하게 대표되도록 하는 표본\\n#train = train.iloc[trn_idx]\\n\""
     },
     "execution_count": 9,
     "metadata": {},
     "output_type": "execute_result"
    }
   ],
   "source": [
    "\"\"\"\n",
    "for trn_idx , val_idx in fold.split(train, train['target']):\n",
    "    break\n",
    "# 이렇게 하면 깔끔한 Stratified idx가 뽑힌다 imbalance 방지용으로\n",
    "# Stratified sample이란 모집단의 하위집단이 각각 적절하게 대표되도록 하는 표본\n",
    "#train = train.iloc[trn_idx]\n",
    "\"\"\""
   ],
   "metadata": {
    "collapsed": false,
    "pycharm": {
     "name": "#%%\n"
    }
   }
  },
  {
   "cell_type": "code",
   "execution_count": 10,
   "outputs": [
    {
     "data": {
      "text/plain": "          id  target  ps_ind_01  ps_ind_02_cat  ps_ind_03  ps_ind_04_cat  \\\n22377  55962       0          0              1          2              0   \n17040  42741       0          1              2          2              1   \n15772  39613       0          1              1          4              0   \n16125  40500       0          2              1          2              0   \n12877  32400       0          4              3          4              1   \n\n       ps_ind_05_cat  ps_ind_06_bin  ps_ind_07_bin  ps_ind_08_bin  \\\n22377              0              0              1              0   \n17040              0              1              0              0   \n15772              0              0              0              1   \n16125              0              0              1              0   \n12877              6              0              0              0   \n\n       ps_ind_09_bin  ps_ind_10_bin  ps_ind_11_bin  ps_ind_12_bin  \\\n22377              0              0              0              0   \n17040              0              0              0              0   \n15772              0              0              0              0   \n16125              0              0              0              0   \n12877              1              0              0              0   \n\n       ps_ind_13_bin  ps_ind_14  ps_ind_15  ps_ind_16_bin  ps_ind_17_bin  \\\n22377              0          0          3              0              0   \n17040              0          0         12              1              0   \n15772              0          0         11              1              0   \n16125              0          0         10              0              1   \n12877              0          0         12              1              0   \n\n       ps_ind_18_bin  ps_reg_01  ps_reg_02  ps_reg_03  ps_car_01_cat  \\\n22377              1        0.5        0.2   0.684653             10   \n17040              0        0.6        0.2   0.628987             11   \n15772              0        0.6        0.2   0.638357              9   \n16125              0        0.9        0.7   1.564449             11   \n12877              0        0.4        0.0   0.601041              6   \n\n       ps_car_02_cat  ps_car_03_cat  ps_car_04_cat  ps_car_05_cat  \\\n22377              1             -1              0              1   \n17040              1             -1              0             -1   \n15772              1              0              8              1   \n16125              0              1              8              1   \n12877              1             -1              0              1   \n\n       ps_car_06_cat  ps_car_07_cat  ps_car_08_cat  ps_car_09_cat  \\\n22377              1              1              1              0   \n17040              6              1              1              2   \n15772             11              0              1              0   \n16125             13              1              0              2   \n12877             11              1              1              0   \n\n       ps_car_10_cat  ps_car_11_cat  ps_car_11  ps_car_12  ps_car_13  \\\n22377              1             70          3   0.424264   0.789877   \n17040              1             26          3   0.374166   0.596529   \n15772              1             24          2   0.529150   1.181958   \n16125              1            104          3   0.447214   1.356329   \n12877              1             19          1   0.315595   0.444386   \n\n       ps_car_14  ps_car_15  ps_calc_01  ps_calc_02  ps_calc_03  ps_calc_04  \\\n22377   0.393700   2.828427         0.9         0.8         0.3           1   \n17040   0.390768   2.828427         0.2         0.7         0.3           3   \n15772  -1.000000   3.162278         0.4         0.1         0.7           4   \n16125   0.379473   3.605551         0.0         0.4         0.7           2   \n12877   0.362629   0.000000         0.5         0.1         0.2           2   \n\n       ps_calc_05  ps_calc_06  ps_calc_07  ps_calc_08  ps_calc_09  ps_calc_10  \\\n22377           2           9           3          10           5           9   \n17040           1           5           4           8           3          12   \n15772           4           9           5          10           2           8   \n16125           1           8           5           9           3           9   \n12877           1           7           3           9           1           4   \n\n       ps_calc_11  ps_calc_12  ps_calc_13  ps_calc_14  ps_calc_15_bin  \\\n22377           6           3           2           7               0   \n17040           5           5           2           9               0   \n15772           4           1           3           6               0   \n16125           7           5           3           2               0   \n12877           5           0           3           5               0   \n\n       ps_calc_16_bin  ps_calc_17_bin  ps_calc_18_bin  ps_calc_19_bin  \\\n22377               1               1               0               0   \n17040               0               1               0               0   \n15772               1               0               0               0   \n16125               1               0               1               0   \n12877               0               0               0               0   \n\n       ps_calc_20_bin  \n22377               0  \n17040               0  \n15772               1  \n16125               1  \n12877               0  ",
      "text/html": "<div>\n<style scoped>\n    .dataframe tbody tr th:only-of-type {\n        vertical-align: middle;\n    }\n\n    .dataframe tbody tr th {\n        vertical-align: top;\n    }\n\n    .dataframe thead th {\n        text-align: right;\n    }\n</style>\n<table border=\"1\" class=\"dataframe\">\n  <thead>\n    <tr style=\"text-align: right;\">\n      <th></th>\n      <th>id</th>\n      <th>target</th>\n      <th>ps_ind_01</th>\n      <th>ps_ind_02_cat</th>\n      <th>ps_ind_03</th>\n      <th>ps_ind_04_cat</th>\n      <th>ps_ind_05_cat</th>\n      <th>ps_ind_06_bin</th>\n      <th>ps_ind_07_bin</th>\n      <th>ps_ind_08_bin</th>\n      <th>ps_ind_09_bin</th>\n      <th>ps_ind_10_bin</th>\n      <th>ps_ind_11_bin</th>\n      <th>ps_ind_12_bin</th>\n      <th>ps_ind_13_bin</th>\n      <th>ps_ind_14</th>\n      <th>ps_ind_15</th>\n      <th>ps_ind_16_bin</th>\n      <th>ps_ind_17_bin</th>\n      <th>ps_ind_18_bin</th>\n      <th>ps_reg_01</th>\n      <th>ps_reg_02</th>\n      <th>ps_reg_03</th>\n      <th>ps_car_01_cat</th>\n      <th>ps_car_02_cat</th>\n      <th>ps_car_03_cat</th>\n      <th>ps_car_04_cat</th>\n      <th>ps_car_05_cat</th>\n      <th>ps_car_06_cat</th>\n      <th>ps_car_07_cat</th>\n      <th>ps_car_08_cat</th>\n      <th>ps_car_09_cat</th>\n      <th>ps_car_10_cat</th>\n      <th>ps_car_11_cat</th>\n      <th>ps_car_11</th>\n      <th>ps_car_12</th>\n      <th>ps_car_13</th>\n      <th>ps_car_14</th>\n      <th>ps_car_15</th>\n      <th>ps_calc_01</th>\n      <th>ps_calc_02</th>\n      <th>ps_calc_03</th>\n      <th>ps_calc_04</th>\n      <th>ps_calc_05</th>\n      <th>ps_calc_06</th>\n      <th>ps_calc_07</th>\n      <th>ps_calc_08</th>\n      <th>ps_calc_09</th>\n      <th>ps_calc_10</th>\n      <th>ps_calc_11</th>\n      <th>ps_calc_12</th>\n      <th>ps_calc_13</th>\n      <th>ps_calc_14</th>\n      <th>ps_calc_15_bin</th>\n      <th>ps_calc_16_bin</th>\n      <th>ps_calc_17_bin</th>\n      <th>ps_calc_18_bin</th>\n      <th>ps_calc_19_bin</th>\n      <th>ps_calc_20_bin</th>\n    </tr>\n  </thead>\n  <tbody>\n    <tr>\n      <th>22377</th>\n      <td>55962</td>\n      <td>0</td>\n      <td>0</td>\n      <td>1</td>\n      <td>2</td>\n      <td>0</td>\n      <td>0</td>\n      <td>0</td>\n      <td>1</td>\n      <td>0</td>\n      <td>0</td>\n      <td>0</td>\n      <td>0</td>\n      <td>0</td>\n      <td>0</td>\n      <td>0</td>\n      <td>3</td>\n      <td>0</td>\n      <td>0</td>\n      <td>1</td>\n      <td>0.5</td>\n      <td>0.2</td>\n      <td>0.684653</td>\n      <td>10</td>\n      <td>1</td>\n      <td>-1</td>\n      <td>0</td>\n      <td>1</td>\n      <td>1</td>\n      <td>1</td>\n      <td>1</td>\n      <td>0</td>\n      <td>1</td>\n      <td>70</td>\n      <td>3</td>\n      <td>0.424264</td>\n      <td>0.789877</td>\n      <td>0.393700</td>\n      <td>2.828427</td>\n      <td>0.9</td>\n      <td>0.8</td>\n      <td>0.3</td>\n      <td>1</td>\n      <td>2</td>\n      <td>9</td>\n      <td>3</td>\n      <td>10</td>\n      <td>5</td>\n      <td>9</td>\n      <td>6</td>\n      <td>3</td>\n      <td>2</td>\n      <td>7</td>\n      <td>0</td>\n      <td>1</td>\n      <td>1</td>\n      <td>0</td>\n      <td>0</td>\n      <td>0</td>\n    </tr>\n    <tr>\n      <th>17040</th>\n      <td>42741</td>\n      <td>0</td>\n      <td>1</td>\n      <td>2</td>\n      <td>2</td>\n      <td>1</td>\n      <td>0</td>\n      <td>1</td>\n      <td>0</td>\n      <td>0</td>\n      <td>0</td>\n      <td>0</td>\n      <td>0</td>\n      <td>0</td>\n      <td>0</td>\n      <td>0</td>\n      <td>12</td>\n      <td>1</td>\n      <td>0</td>\n      <td>0</td>\n      <td>0.6</td>\n      <td>0.2</td>\n      <td>0.628987</td>\n      <td>11</td>\n      <td>1</td>\n      <td>-1</td>\n      <td>0</td>\n      <td>-1</td>\n      <td>6</td>\n      <td>1</td>\n      <td>1</td>\n      <td>2</td>\n      <td>1</td>\n      <td>26</td>\n      <td>3</td>\n      <td>0.374166</td>\n      <td>0.596529</td>\n      <td>0.390768</td>\n      <td>2.828427</td>\n      <td>0.2</td>\n      <td>0.7</td>\n      <td>0.3</td>\n      <td>3</td>\n      <td>1</td>\n      <td>5</td>\n      <td>4</td>\n      <td>8</td>\n      <td>3</td>\n      <td>12</td>\n      <td>5</td>\n      <td>5</td>\n      <td>2</td>\n      <td>9</td>\n      <td>0</td>\n      <td>0</td>\n      <td>1</td>\n      <td>0</td>\n      <td>0</td>\n      <td>0</td>\n    </tr>\n    <tr>\n      <th>15772</th>\n      <td>39613</td>\n      <td>0</td>\n      <td>1</td>\n      <td>1</td>\n      <td>4</td>\n      <td>0</td>\n      <td>0</td>\n      <td>0</td>\n      <td>0</td>\n      <td>1</td>\n      <td>0</td>\n      <td>0</td>\n      <td>0</td>\n      <td>0</td>\n      <td>0</td>\n      <td>0</td>\n      <td>11</td>\n      <td>1</td>\n      <td>0</td>\n      <td>0</td>\n      <td>0.6</td>\n      <td>0.2</td>\n      <td>0.638357</td>\n      <td>9</td>\n      <td>1</td>\n      <td>0</td>\n      <td>8</td>\n      <td>1</td>\n      <td>11</td>\n      <td>0</td>\n      <td>1</td>\n      <td>0</td>\n      <td>1</td>\n      <td>24</td>\n      <td>2</td>\n      <td>0.529150</td>\n      <td>1.181958</td>\n      <td>-1.000000</td>\n      <td>3.162278</td>\n      <td>0.4</td>\n      <td>0.1</td>\n      <td>0.7</td>\n      <td>4</td>\n      <td>4</td>\n      <td>9</td>\n      <td>5</td>\n      <td>10</td>\n      <td>2</td>\n      <td>8</td>\n      <td>4</td>\n      <td>1</td>\n      <td>3</td>\n      <td>6</td>\n      <td>0</td>\n      <td>1</td>\n      <td>0</td>\n      <td>0</td>\n      <td>0</td>\n      <td>1</td>\n    </tr>\n    <tr>\n      <th>16125</th>\n      <td>40500</td>\n      <td>0</td>\n      <td>2</td>\n      <td>1</td>\n      <td>2</td>\n      <td>0</td>\n      <td>0</td>\n      <td>0</td>\n      <td>1</td>\n      <td>0</td>\n      <td>0</td>\n      <td>0</td>\n      <td>0</td>\n      <td>0</td>\n      <td>0</td>\n      <td>0</td>\n      <td>10</td>\n      <td>0</td>\n      <td>1</td>\n      <td>0</td>\n      <td>0.9</td>\n      <td>0.7</td>\n      <td>1.564449</td>\n      <td>11</td>\n      <td>0</td>\n      <td>1</td>\n      <td>8</td>\n      <td>1</td>\n      <td>13</td>\n      <td>1</td>\n      <td>0</td>\n      <td>2</td>\n      <td>1</td>\n      <td>104</td>\n      <td>3</td>\n      <td>0.447214</td>\n      <td>1.356329</td>\n      <td>0.379473</td>\n      <td>3.605551</td>\n      <td>0.0</td>\n      <td>0.4</td>\n      <td>0.7</td>\n      <td>2</td>\n      <td>1</td>\n      <td>8</td>\n      <td>5</td>\n      <td>9</td>\n      <td>3</td>\n      <td>9</td>\n      <td>7</td>\n      <td>5</td>\n      <td>3</td>\n      <td>2</td>\n      <td>0</td>\n      <td>1</td>\n      <td>0</td>\n      <td>1</td>\n      <td>0</td>\n      <td>1</td>\n    </tr>\n    <tr>\n      <th>12877</th>\n      <td>32400</td>\n      <td>0</td>\n      <td>4</td>\n      <td>3</td>\n      <td>4</td>\n      <td>1</td>\n      <td>6</td>\n      <td>0</td>\n      <td>0</td>\n      <td>0</td>\n      <td>1</td>\n      <td>0</td>\n      <td>0</td>\n      <td>0</td>\n      <td>0</td>\n      <td>0</td>\n      <td>12</td>\n      <td>1</td>\n      <td>0</td>\n      <td>0</td>\n      <td>0.4</td>\n      <td>0.0</td>\n      <td>0.601041</td>\n      <td>6</td>\n      <td>1</td>\n      <td>-1</td>\n      <td>0</td>\n      <td>1</td>\n      <td>11</td>\n      <td>1</td>\n      <td>1</td>\n      <td>0</td>\n      <td>1</td>\n      <td>19</td>\n      <td>1</td>\n      <td>0.315595</td>\n      <td>0.444386</td>\n      <td>0.362629</td>\n      <td>0.000000</td>\n      <td>0.5</td>\n      <td>0.1</td>\n      <td>0.2</td>\n      <td>2</td>\n      <td>1</td>\n      <td>7</td>\n      <td>3</td>\n      <td>9</td>\n      <td>1</td>\n      <td>4</td>\n      <td>5</td>\n      <td>0</td>\n      <td>3</td>\n      <td>5</td>\n      <td>0</td>\n      <td>0</td>\n      <td>0</td>\n      <td>0</td>\n      <td>0</td>\n      <td>0</td>\n    </tr>\n  </tbody>\n</table>\n</div>"
     },
     "execution_count": 10,
     "metadata": {},
     "output_type": "execute_result"
    }
   ],
   "source": [
    "train.head()\n",
    "\n"
   ],
   "metadata": {
    "collapsed": false,
    "pycharm": {
     "name": "#%%\n"
    }
   }
  },
  {
   "cell_type": "code",
   "execution_count": 11,
   "outputs": [
    {
     "data": {
      "text/plain": "(10000, 59)"
     },
     "execution_count": 11,
     "metadata": {},
     "output_type": "execute_result"
    }
   ],
   "source": [
    "# 20 프로 비율만 뽑기 random sample임\n",
    "train.shape\n",
    "# 약 59개의 feature . column count"
   ],
   "metadata": {
    "collapsed": false,
    "pycharm": {
     "name": "#%%\n"
    }
   }
  },
  {
   "cell_type": "code",
   "execution_count": 12,
   "outputs": [
    {
     "data": {
      "text/plain": " 0    8876\n 6     340\n 4     313\n 3     155\n 1     122\n-1     104\n 2      68\n 5      22\nName: ps_ind_05_cat, dtype: int64"
     },
     "execution_count": 12,
     "metadata": {},
     "output_type": "execute_result"
    }
   ],
   "source": [
    "#categorycal variables of which the category values are integers\n",
    "# real value int ? go check\n",
    "cat_cols = [col for col in train.columns if 'cat' in col]\n",
    "train[cat_cols[0]].value_counts()\n",
    "train[cat_cols[1]].value_counts()\n",
    "train[cat_cols[2]].value_counts()"
   ],
   "metadata": {
    "collapsed": false,
    "pycharm": {
     "name": "#%%\n"
    }
   }
  },
  {
   "cell_type": "code",
   "execution_count": 13,
   "outputs": [
    {
     "name": "stdout",
     "output_type": "stream",
     "text": [
      "ps_ind_02_cat 5\n",
      "ps_ind_04_cat 3\n",
      "ps_ind_05_cat 8\n",
      "ps_car_01_cat 13\n",
      "ps_car_02_cat 2\n",
      "ps_car_03_cat 3\n",
      "ps_car_04_cat 10\n",
      "ps_car_05_cat 3\n",
      "ps_car_06_cat 18\n",
      "ps_car_07_cat 3\n",
      "ps_car_08_cat 2\n",
      "ps_car_09_cat 6\n",
      "ps_car_10_cat 3\n",
      "ps_car_11_cat 104\n"
     ]
    }
   ],
   "source": [
    "# 카테고리별로 유니크한 값이 몇개가 있는지\n",
    "for col in cat_cols:\n",
    "    print(col , train[col].nunique())"
   ],
   "metadata": {
    "collapsed": false,
    "pycharm": {
     "name": "#%%\n"
    }
   }
  },
  {
   "cell_type": "code",
   "execution_count": 14,
   "outputs": [
    {
     "data": {
      "text/plain": "           id  target  ps_ind_01  ps_ind_02_cat  ps_ind_03  ps_ind_04_cat  \\\n35718   89532       1          3              1          5              0   \n12160   30627       0          1              1          4              0   \n16093   40427       0          0              2          0              1   \n46974  117750       0          2              1          1              1   \n44343  111103       0          0              1          1              1   \n\n       ps_ind_05_cat  ps_ind_06_bin  ps_ind_07_bin  ps_ind_08_bin  \\\n35718              0              0              0              1   \n12160              0              1              0              0   \n16093              4              0              0              0   \n46974              0              1              0              0   \n44343              0              0              1              0   \n\n       ps_ind_09_bin  ps_ind_10_bin  ps_ind_11_bin  ps_ind_12_bin  \\\n35718              0              0              0              0   \n12160              0              0              0              0   \n16093              1              0              0              0   \n46974              0              0              0              0   \n44343              0              0              0              0   \n\n       ps_ind_13_bin  ps_ind_14  ps_ind_15  ps_ind_16_bin  ps_ind_17_bin  \\\n35718              0          0          3              0              1   \n12160              0          0          4              0              1   \n16093              0          0          7              1              0   \n46974              0          0         11              1              0   \n44343              0          0          5              0              0   \n\n       ps_ind_18_bin  ps_reg_01  ps_reg_02  ps_reg_03  ps_car_01_cat  \\\n35718              0        0.4        0.3  -1.000000             11   \n12160              0        0.9        0.1   0.573367             11   \n16093              0        0.8        0.6   0.874643             10   \n46974              0        0.5        0.2   0.987737             11   \n44343              1        0.2        0.2  -1.000000              8   \n\n       ps_car_02_cat  ps_car_03_cat  ps_car_04_cat  ps_car_05_cat  \\\n35718              1              1              0              0   \n12160              0             -1              9             -1   \n16093              1             -1              0              1   \n46974              1             -1              0             -1   \n44343              1              1              0              0   \n\n       ps_car_06_cat  ps_car_07_cat  ps_car_08_cat  ps_car_09_cat  \\\n35718              1              0              1              2   \n12160              9              1              1              1   \n16093              7              1              1              0   \n46974             11              1              1              2   \n44343              1              1              0              2   \n\n       ps_car_10_cat  ps_car_11_cat  ps_car_11  ps_car_12  ps_car_13  \\\n35718              1             40          2   0.374166   0.746396   \n12160              1            104          3   0.489898   1.354919   \n16093              1             92          3   0.398372   0.619834   \n46974              1             11          2   0.316228   0.674828   \n44343              1             65          3   0.316228   0.758424   \n\n       ps_car_14  ps_car_15  ps_calc_01  ps_calc_02  ps_calc_03  ps_calc_04  \\\n35718   0.324808   3.162278         0.0         0.1         0.7           2   \n12160   0.500500   3.464102         0.4         0.3         0.2           2   \n16093   0.392683   2.000000         0.4         0.2         0.1           2   \n46974   0.368782   3.316625         0.2         0.4         0.1           3   \n44343   0.289828   3.605551         0.1         0.1         0.1           3   \n\n       ps_calc_05  ps_calc_06  ps_calc_07  ps_calc_08  ps_calc_09  ps_calc_10  \\\n35718           3           8           1          11           3          12   \n12160           4           9           4           9           1          12   \n16093           2           9           3           8           1           9   \n46974           3           7           4           7           5           7   \n44343           1           9           2           6           2           5   \n\n       ps_calc_11  ps_calc_12  ps_calc_13  ps_calc_14  ps_calc_15_bin  \\\n35718           5           1           2           6               0   \n12160           3           0           6          11               0   \n16093           6           2           0          10               0   \n46974           6           4           3           3               0   \n44343           6           1           1           7               0   \n\n       ps_calc_16_bin  ps_calc_17_bin  ps_calc_18_bin  ps_calc_19_bin  \\\n35718               1               1               0               0   \n12160               1               1               0               0   \n16093               0               1               1               1   \n46974               0               1               0               0   \n44343               0               1               0               1   \n\n       ps_calc_20_bin  \n35718               1  \n12160               0  \n16093               0  \n46974               0  \n44343               0  ",
      "text/html": "<div>\n<style scoped>\n    .dataframe tbody tr th:only-of-type {\n        vertical-align: middle;\n    }\n\n    .dataframe tbody tr th {\n        vertical-align: top;\n    }\n\n    .dataframe thead th {\n        text-align: right;\n    }\n</style>\n<table border=\"1\" class=\"dataframe\">\n  <thead>\n    <tr style=\"text-align: right;\">\n      <th></th>\n      <th>id</th>\n      <th>target</th>\n      <th>ps_ind_01</th>\n      <th>ps_ind_02_cat</th>\n      <th>ps_ind_03</th>\n      <th>ps_ind_04_cat</th>\n      <th>ps_ind_05_cat</th>\n      <th>ps_ind_06_bin</th>\n      <th>ps_ind_07_bin</th>\n      <th>ps_ind_08_bin</th>\n      <th>ps_ind_09_bin</th>\n      <th>ps_ind_10_bin</th>\n      <th>ps_ind_11_bin</th>\n      <th>ps_ind_12_bin</th>\n      <th>ps_ind_13_bin</th>\n      <th>ps_ind_14</th>\n      <th>ps_ind_15</th>\n      <th>ps_ind_16_bin</th>\n      <th>ps_ind_17_bin</th>\n      <th>ps_ind_18_bin</th>\n      <th>ps_reg_01</th>\n      <th>ps_reg_02</th>\n      <th>ps_reg_03</th>\n      <th>ps_car_01_cat</th>\n      <th>ps_car_02_cat</th>\n      <th>ps_car_03_cat</th>\n      <th>ps_car_04_cat</th>\n      <th>ps_car_05_cat</th>\n      <th>ps_car_06_cat</th>\n      <th>ps_car_07_cat</th>\n      <th>ps_car_08_cat</th>\n      <th>ps_car_09_cat</th>\n      <th>ps_car_10_cat</th>\n      <th>ps_car_11_cat</th>\n      <th>ps_car_11</th>\n      <th>ps_car_12</th>\n      <th>ps_car_13</th>\n      <th>ps_car_14</th>\n      <th>ps_car_15</th>\n      <th>ps_calc_01</th>\n      <th>ps_calc_02</th>\n      <th>ps_calc_03</th>\n      <th>ps_calc_04</th>\n      <th>ps_calc_05</th>\n      <th>ps_calc_06</th>\n      <th>ps_calc_07</th>\n      <th>ps_calc_08</th>\n      <th>ps_calc_09</th>\n      <th>ps_calc_10</th>\n      <th>ps_calc_11</th>\n      <th>ps_calc_12</th>\n      <th>ps_calc_13</th>\n      <th>ps_calc_14</th>\n      <th>ps_calc_15_bin</th>\n      <th>ps_calc_16_bin</th>\n      <th>ps_calc_17_bin</th>\n      <th>ps_calc_18_bin</th>\n      <th>ps_calc_19_bin</th>\n      <th>ps_calc_20_bin</th>\n    </tr>\n  </thead>\n  <tbody>\n    <tr>\n      <th>35718</th>\n      <td>89532</td>\n      <td>1</td>\n      <td>3</td>\n      <td>1</td>\n      <td>5</td>\n      <td>0</td>\n      <td>0</td>\n      <td>0</td>\n      <td>0</td>\n      <td>1</td>\n      <td>0</td>\n      <td>0</td>\n      <td>0</td>\n      <td>0</td>\n      <td>0</td>\n      <td>0</td>\n      <td>3</td>\n      <td>0</td>\n      <td>1</td>\n      <td>0</td>\n      <td>0.4</td>\n      <td>0.3</td>\n      <td>-1.000000</td>\n      <td>11</td>\n      <td>1</td>\n      <td>1</td>\n      <td>0</td>\n      <td>0</td>\n      <td>1</td>\n      <td>0</td>\n      <td>1</td>\n      <td>2</td>\n      <td>1</td>\n      <td>40</td>\n      <td>2</td>\n      <td>0.374166</td>\n      <td>0.746396</td>\n      <td>0.324808</td>\n      <td>3.162278</td>\n      <td>0.0</td>\n      <td>0.1</td>\n      <td>0.7</td>\n      <td>2</td>\n      <td>3</td>\n      <td>8</td>\n      <td>1</td>\n      <td>11</td>\n      <td>3</td>\n      <td>12</td>\n      <td>5</td>\n      <td>1</td>\n      <td>2</td>\n      <td>6</td>\n      <td>0</td>\n      <td>1</td>\n      <td>1</td>\n      <td>0</td>\n      <td>0</td>\n      <td>1</td>\n    </tr>\n    <tr>\n      <th>12160</th>\n      <td>30627</td>\n      <td>0</td>\n      <td>1</td>\n      <td>1</td>\n      <td>4</td>\n      <td>0</td>\n      <td>0</td>\n      <td>1</td>\n      <td>0</td>\n      <td>0</td>\n      <td>0</td>\n      <td>0</td>\n      <td>0</td>\n      <td>0</td>\n      <td>0</td>\n      <td>0</td>\n      <td>4</td>\n      <td>0</td>\n      <td>1</td>\n      <td>0</td>\n      <td>0.9</td>\n      <td>0.1</td>\n      <td>0.573367</td>\n      <td>11</td>\n      <td>0</td>\n      <td>-1</td>\n      <td>9</td>\n      <td>-1</td>\n      <td>9</td>\n      <td>1</td>\n      <td>1</td>\n      <td>1</td>\n      <td>1</td>\n      <td>104</td>\n      <td>3</td>\n      <td>0.489898</td>\n      <td>1.354919</td>\n      <td>0.500500</td>\n      <td>3.464102</td>\n      <td>0.4</td>\n      <td>0.3</td>\n      <td>0.2</td>\n      <td>2</td>\n      <td>4</td>\n      <td>9</td>\n      <td>4</td>\n      <td>9</td>\n      <td>1</td>\n      <td>12</td>\n      <td>3</td>\n      <td>0</td>\n      <td>6</td>\n      <td>11</td>\n      <td>0</td>\n      <td>1</td>\n      <td>1</td>\n      <td>0</td>\n      <td>0</td>\n      <td>0</td>\n    </tr>\n    <tr>\n      <th>16093</th>\n      <td>40427</td>\n      <td>0</td>\n      <td>0</td>\n      <td>2</td>\n      <td>0</td>\n      <td>1</td>\n      <td>4</td>\n      <td>0</td>\n      <td>0</td>\n      <td>0</td>\n      <td>1</td>\n      <td>0</td>\n      <td>0</td>\n      <td>0</td>\n      <td>0</td>\n      <td>0</td>\n      <td>7</td>\n      <td>1</td>\n      <td>0</td>\n      <td>0</td>\n      <td>0.8</td>\n      <td>0.6</td>\n      <td>0.874643</td>\n      <td>10</td>\n      <td>1</td>\n      <td>-1</td>\n      <td>0</td>\n      <td>1</td>\n      <td>7</td>\n      <td>1</td>\n      <td>1</td>\n      <td>0</td>\n      <td>1</td>\n      <td>92</td>\n      <td>3</td>\n      <td>0.398372</td>\n      <td>0.619834</td>\n      <td>0.392683</td>\n      <td>2.000000</td>\n      <td>0.4</td>\n      <td>0.2</td>\n      <td>0.1</td>\n      <td>2</td>\n      <td>2</td>\n      <td>9</td>\n      <td>3</td>\n      <td>8</td>\n      <td>1</td>\n      <td>9</td>\n      <td>6</td>\n      <td>2</td>\n      <td>0</td>\n      <td>10</td>\n      <td>0</td>\n      <td>0</td>\n      <td>1</td>\n      <td>1</td>\n      <td>1</td>\n      <td>0</td>\n    </tr>\n    <tr>\n      <th>46974</th>\n      <td>117750</td>\n      <td>0</td>\n      <td>2</td>\n      <td>1</td>\n      <td>1</td>\n      <td>1</td>\n      <td>0</td>\n      <td>1</td>\n      <td>0</td>\n      <td>0</td>\n      <td>0</td>\n      <td>0</td>\n      <td>0</td>\n      <td>0</td>\n      <td>0</td>\n      <td>0</td>\n      <td>11</td>\n      <td>1</td>\n      <td>0</td>\n      <td>0</td>\n      <td>0.5</td>\n      <td>0.2</td>\n      <td>0.987737</td>\n      <td>11</td>\n      <td>1</td>\n      <td>-1</td>\n      <td>0</td>\n      <td>-1</td>\n      <td>11</td>\n      <td>1</td>\n      <td>1</td>\n      <td>2</td>\n      <td>1</td>\n      <td>11</td>\n      <td>2</td>\n      <td>0.316228</td>\n      <td>0.674828</td>\n      <td>0.368782</td>\n      <td>3.316625</td>\n      <td>0.2</td>\n      <td>0.4</td>\n      <td>0.1</td>\n      <td>3</td>\n      <td>3</td>\n      <td>7</td>\n      <td>4</td>\n      <td>7</td>\n      <td>5</td>\n      <td>7</td>\n      <td>6</td>\n      <td>4</td>\n      <td>3</td>\n      <td>3</td>\n      <td>0</td>\n      <td>0</td>\n      <td>1</td>\n      <td>0</td>\n      <td>0</td>\n      <td>0</td>\n    </tr>\n    <tr>\n      <th>44343</th>\n      <td>111103</td>\n      <td>0</td>\n      <td>0</td>\n      <td>1</td>\n      <td>1</td>\n      <td>1</td>\n      <td>0</td>\n      <td>0</td>\n      <td>1</td>\n      <td>0</td>\n      <td>0</td>\n      <td>0</td>\n      <td>0</td>\n      <td>0</td>\n      <td>0</td>\n      <td>0</td>\n      <td>5</td>\n      <td>0</td>\n      <td>0</td>\n      <td>1</td>\n      <td>0.2</td>\n      <td>0.2</td>\n      <td>-1.000000</td>\n      <td>8</td>\n      <td>1</td>\n      <td>1</td>\n      <td>0</td>\n      <td>0</td>\n      <td>1</td>\n      <td>1</td>\n      <td>0</td>\n      <td>2</td>\n      <td>1</td>\n      <td>65</td>\n      <td>3</td>\n      <td>0.316228</td>\n      <td>0.758424</td>\n      <td>0.289828</td>\n      <td>3.605551</td>\n      <td>0.1</td>\n      <td>0.1</td>\n      <td>0.1</td>\n      <td>3</td>\n      <td>1</td>\n      <td>9</td>\n      <td>2</td>\n      <td>6</td>\n      <td>2</td>\n      <td>5</td>\n      <td>6</td>\n      <td>1</td>\n      <td>1</td>\n      <td>7</td>\n      <td>0</td>\n      <td>0</td>\n      <td>1</td>\n      <td>0</td>\n      <td>1</td>\n      <td>0</td>\n    </tr>\n  </tbody>\n</table>\n</div>"
     },
     "execution_count": 14,
     "metadata": {},
     "output_type": "execute_result"
    }
   ],
   "source": [
    "train.tail()\n",
    "\n"
   ],
   "metadata": {
    "collapsed": false,
    "pycharm": {
     "name": "#%%\n"
    }
   }
  },
  {
   "cell_type": "code",
   "execution_count": 15,
   "outputs": [
    {
     "data": {
      "text/plain": "(10000, 59)"
     },
     "execution_count": 15,
     "metadata": {},
     "output_type": "execute_result"
    }
   ],
   "source": [
    "train.shape"
   ],
   "metadata": {
    "collapsed": false,
    "pycharm": {
     "name": "#%%\n"
    }
   }
  },
  {
   "cell_type": "code",
   "execution_count": 16,
   "outputs": [
    {
     "data": {
      "text/plain": "(50000, 58)"
     },
     "execution_count": 16,
     "metadata": {},
     "output_type": "execute_result"
    }
   ],
   "source": [
    "# target 값이 없으므로 하나의 컬럼이 적다\n",
    "test.shape\n",
    "# yes it's true"
   ],
   "metadata": {
    "collapsed": false,
    "pycharm": {
     "name": "#%%\n"
    }
   }
  },
  {
   "cell_type": "code",
   "execution_count": 17,
   "outputs": [
    {
     "data": {
      "text/plain": "(10000, 59)"
     },
     "execution_count": 17,
     "metadata": {},
     "output_type": "execute_result"
    }
   ],
   "source": [
    "train.drop_duplicates()\n",
    "train.shape"
   ],
   "metadata": {
    "collapsed": false,
    "pycharm": {
     "name": "#%%\n"
    }
   }
  },
  {
   "cell_type": "code",
   "execution_count": 18,
   "outputs": [
    {
     "name": "stdout",
     "output_type": "stream",
     "text": [
      "<class 'pandas.core.frame.DataFrame'>\n",
      "Int64Index: 10000 entries, 22377 to 44343\n",
      "Data columns (total 59 columns):\n",
      " #   Column          Non-Null Count  Dtype  \n",
      "---  ------          --------------  -----  \n",
      " 0   id              10000 non-null  int64  \n",
      " 1   target          10000 non-null  int64  \n",
      " 2   ps_ind_01       10000 non-null  int64  \n",
      " 3   ps_ind_02_cat   10000 non-null  int64  \n",
      " 4   ps_ind_03       10000 non-null  int64  \n",
      " 5   ps_ind_04_cat   10000 non-null  int64  \n",
      " 6   ps_ind_05_cat   10000 non-null  int64  \n",
      " 7   ps_ind_06_bin   10000 non-null  int64  \n",
      " 8   ps_ind_07_bin   10000 non-null  int64  \n",
      " 9   ps_ind_08_bin   10000 non-null  int64  \n",
      " 10  ps_ind_09_bin   10000 non-null  int64  \n",
      " 11  ps_ind_10_bin   10000 non-null  int64  \n",
      " 12  ps_ind_11_bin   10000 non-null  int64  \n",
      " 13  ps_ind_12_bin   10000 non-null  int64  \n",
      " 14  ps_ind_13_bin   10000 non-null  int64  \n",
      " 15  ps_ind_14       10000 non-null  int64  \n",
      " 16  ps_ind_15       10000 non-null  int64  \n",
      " 17  ps_ind_16_bin   10000 non-null  int64  \n",
      " 18  ps_ind_17_bin   10000 non-null  int64  \n",
      " 19  ps_ind_18_bin   10000 non-null  int64  \n",
      " 20  ps_reg_01       10000 non-null  float64\n",
      " 21  ps_reg_02       10000 non-null  float64\n",
      " 22  ps_reg_03       10000 non-null  float64\n",
      " 23  ps_car_01_cat   10000 non-null  int64  \n",
      " 24  ps_car_02_cat   10000 non-null  int64  \n",
      " 25  ps_car_03_cat   10000 non-null  int64  \n",
      " 26  ps_car_04_cat   10000 non-null  int64  \n",
      " 27  ps_car_05_cat   10000 non-null  int64  \n",
      " 28  ps_car_06_cat   10000 non-null  int64  \n",
      " 29  ps_car_07_cat   10000 non-null  int64  \n",
      " 30  ps_car_08_cat   10000 non-null  int64  \n",
      " 31  ps_car_09_cat   10000 non-null  int64  \n",
      " 32  ps_car_10_cat   10000 non-null  int64  \n",
      " 33  ps_car_11_cat   10000 non-null  int64  \n",
      " 34  ps_car_11       10000 non-null  int64  \n",
      " 35  ps_car_12       10000 non-null  float64\n",
      " 36  ps_car_13       10000 non-null  float64\n",
      " 37  ps_car_14       10000 non-null  float64\n",
      " 38  ps_car_15       10000 non-null  float64\n",
      " 39  ps_calc_01      10000 non-null  float64\n",
      " 40  ps_calc_02      10000 non-null  float64\n",
      " 41  ps_calc_03      10000 non-null  float64\n",
      " 42  ps_calc_04      10000 non-null  int64  \n",
      " 43  ps_calc_05      10000 non-null  int64  \n",
      " 44  ps_calc_06      10000 non-null  int64  \n",
      " 45  ps_calc_07      10000 non-null  int64  \n",
      " 46  ps_calc_08      10000 non-null  int64  \n",
      " 47  ps_calc_09      10000 non-null  int64  \n",
      " 48  ps_calc_10      10000 non-null  int64  \n",
      " 49  ps_calc_11      10000 non-null  int64  \n",
      " 50  ps_calc_12      10000 non-null  int64  \n",
      " 51  ps_calc_13      10000 non-null  int64  \n",
      " 52  ps_calc_14      10000 non-null  int64  \n",
      " 53  ps_calc_15_bin  10000 non-null  int64  \n",
      " 54  ps_calc_16_bin  10000 non-null  int64  \n",
      " 55  ps_calc_17_bin  10000 non-null  int64  \n",
      " 56  ps_calc_18_bin  10000 non-null  int64  \n",
      " 57  ps_calc_19_bin  10000 non-null  int64  \n",
      " 58  ps_calc_20_bin  10000 non-null  int64  \n",
      "dtypes: float64(10), int64(49)\n",
      "memory usage: 4.6 MB\n"
     ]
    }
   ],
   "source": [
    "# no duplicates\n",
    "# binary class는 one-hot 수행하지 않는다 물론\n",
    "#dummification == one hot encoding\n",
    "\n",
    "# object is string data type\n",
    "train.info()"
   ],
   "metadata": {
    "collapsed": false,
    "pycharm": {
     "name": "#%%\n"
    }
   }
  },
  {
   "cell_type": "code",
   "execution_count": 18,
   "outputs": [],
   "source": [],
   "metadata": {
    "collapsed": false,
    "pycharm": {
     "name": "#%%\n"
    }
   }
  },
  {
   "cell_type": "code",
   "execution_count": 19,
   "outputs": [],
   "source": [
    "# null data가 -1로 치환되어서 int or float 밖에 없다\n",
    "\n",
    "# Concretely we will store\n",
    "# role : input , ID, target\n",
    "# lvel : nominal, interval , oridnal, binary\n",
    "# keep True or False\n",
    "#\n",
    "\n",
    "# Metadata\n",
    "\n",
    "# To facilitate the data management , we'll sotre meta-information about the variables in a dataframe\n",
    "# this is will be helpful when we want to specific variables for analysis, visualication , modeling\n",
    "\n",
    "\n",
    "data = []\n",
    "for f in train.columns:\n",
    "    # Defining the role\n",
    "    if f == 'target':\n",
    "        role = 'target'\n",
    "    elif f == 'id':\n",
    "        role = 'id'\n",
    "    else:\n",
    "        role = 'input'\n",
    "\n",
    "    # Defining the level\n",
    "    if 'bin' in f or f == 'target':\n",
    "        level = 'binary'\n",
    "    elif 'cat' in f or f == 'id':\n",
    "        level = 'nominal'\n",
    "    elif train[f].dtype == float:\n",
    "        level = 'interval'\n",
    "    elif train[f].dtype == int:\n",
    "        level = 'ordinal'\n",
    "\n",
    "    # Initialize keep to True for all variables except for id\n",
    "    keep = True\n",
    "    if f == 'id':\n",
    "        keep = False\n",
    "\n",
    "    # Defining the data type\n",
    "    dtype = train[f].dtype\n",
    "\n",
    "    # Creating a Dict that contains all the metadata for the variable\n",
    "    f_dict = {\n",
    "        'varname': f,\n",
    "        'role': role,\n",
    "        'level': level,\n",
    "        'keep': keep,\n",
    "        'dtype': dtype\n",
    "    }\n",
    "    data.append(f_dict)\n",
    "\n",
    "meta = pd.DataFrame(data, columns=['varname', 'role', 'level', 'keep', 'dtype'])\n",
    "meta.set_index('varname', inplace=True)\n",
    "\n",
    "    # Creating a Dict that contains all the metadata for the variables\n",
    "\n"
   ],
   "metadata": {
    "collapsed": false,
    "pycharm": {
     "name": "#%%\n"
    }
   }
  },
  {
   "cell_type": "code",
   "execution_count": 20,
   "outputs": [
    {
     "data": {
      "text/plain": "                  role     level   keep    dtype\nvarname                                         \nid                  id   nominal  False    int64\ntarget          target    binary   True    int64\nps_ind_01        input   ordinal   True    int64\nps_ind_02_cat    input   nominal   True    int64\nps_ind_03        input   ordinal   True    int64\nps_ind_04_cat    input   nominal   True    int64\nps_ind_05_cat    input   nominal   True    int64\nps_ind_06_bin    input    binary   True    int64\nps_ind_07_bin    input    binary   True    int64\nps_ind_08_bin    input    binary   True    int64\nps_ind_09_bin    input    binary   True    int64\nps_ind_10_bin    input    binary   True    int64\nps_ind_11_bin    input    binary   True    int64\nps_ind_12_bin    input    binary   True    int64\nps_ind_13_bin    input    binary   True    int64\nps_ind_14        input   ordinal   True    int64\nps_ind_15        input   ordinal   True    int64\nps_ind_16_bin    input    binary   True    int64\nps_ind_17_bin    input    binary   True    int64\nps_ind_18_bin    input    binary   True    int64\nps_reg_01        input  interval   True  float64\nps_reg_02        input  interval   True  float64\nps_reg_03        input  interval   True  float64\nps_car_01_cat    input   nominal   True    int64\nps_car_02_cat    input   nominal   True    int64\nps_car_03_cat    input   nominal   True    int64\nps_car_04_cat    input   nominal   True    int64\nps_car_05_cat    input   nominal   True    int64\nps_car_06_cat    input   nominal   True    int64\nps_car_07_cat    input   nominal   True    int64\nps_car_08_cat    input   nominal   True    int64\nps_car_09_cat    input   nominal   True    int64\nps_car_10_cat    input   nominal   True    int64\nps_car_11_cat    input   nominal   True    int64\nps_car_11        input   ordinal   True    int64\nps_car_12        input  interval   True  float64\nps_car_13        input  interval   True  float64\nps_car_14        input  interval   True  float64\nps_car_15        input  interval   True  float64\nps_calc_01       input  interval   True  float64\nps_calc_02       input  interval   True  float64\nps_calc_03       input  interval   True  float64\nps_calc_04       input   ordinal   True    int64\nps_calc_05       input   ordinal   True    int64\nps_calc_06       input   ordinal   True    int64\nps_calc_07       input   ordinal   True    int64\nps_calc_08       input   ordinal   True    int64\nps_calc_09       input   ordinal   True    int64\nps_calc_10       input   ordinal   True    int64\nps_calc_11       input   ordinal   True    int64\nps_calc_12       input   ordinal   True    int64\nps_calc_13       input   ordinal   True    int64\nps_calc_14       input   ordinal   True    int64\nps_calc_15_bin   input    binary   True    int64\nps_calc_16_bin   input    binary   True    int64\nps_calc_17_bin   input    binary   True    int64\nps_calc_18_bin   input    binary   True    int64\nps_calc_19_bin   input    binary   True    int64\nps_calc_20_bin   input    binary   True    int64",
      "text/html": "<div>\n<style scoped>\n    .dataframe tbody tr th:only-of-type {\n        vertical-align: middle;\n    }\n\n    .dataframe tbody tr th {\n        vertical-align: top;\n    }\n\n    .dataframe thead th {\n        text-align: right;\n    }\n</style>\n<table border=\"1\" class=\"dataframe\">\n  <thead>\n    <tr style=\"text-align: right;\">\n      <th></th>\n      <th>role</th>\n      <th>level</th>\n      <th>keep</th>\n      <th>dtype</th>\n    </tr>\n    <tr>\n      <th>varname</th>\n      <th></th>\n      <th></th>\n      <th></th>\n      <th></th>\n    </tr>\n  </thead>\n  <tbody>\n    <tr>\n      <th>id</th>\n      <td>id</td>\n      <td>nominal</td>\n      <td>False</td>\n      <td>int64</td>\n    </tr>\n    <tr>\n      <th>target</th>\n      <td>target</td>\n      <td>binary</td>\n      <td>True</td>\n      <td>int64</td>\n    </tr>\n    <tr>\n      <th>ps_ind_01</th>\n      <td>input</td>\n      <td>ordinal</td>\n      <td>True</td>\n      <td>int64</td>\n    </tr>\n    <tr>\n      <th>ps_ind_02_cat</th>\n      <td>input</td>\n      <td>nominal</td>\n      <td>True</td>\n      <td>int64</td>\n    </tr>\n    <tr>\n      <th>ps_ind_03</th>\n      <td>input</td>\n      <td>ordinal</td>\n      <td>True</td>\n      <td>int64</td>\n    </tr>\n    <tr>\n      <th>ps_ind_04_cat</th>\n      <td>input</td>\n      <td>nominal</td>\n      <td>True</td>\n      <td>int64</td>\n    </tr>\n    <tr>\n      <th>ps_ind_05_cat</th>\n      <td>input</td>\n      <td>nominal</td>\n      <td>True</td>\n      <td>int64</td>\n    </tr>\n    <tr>\n      <th>ps_ind_06_bin</th>\n      <td>input</td>\n      <td>binary</td>\n      <td>True</td>\n      <td>int64</td>\n    </tr>\n    <tr>\n      <th>ps_ind_07_bin</th>\n      <td>input</td>\n      <td>binary</td>\n      <td>True</td>\n      <td>int64</td>\n    </tr>\n    <tr>\n      <th>ps_ind_08_bin</th>\n      <td>input</td>\n      <td>binary</td>\n      <td>True</td>\n      <td>int64</td>\n    </tr>\n    <tr>\n      <th>ps_ind_09_bin</th>\n      <td>input</td>\n      <td>binary</td>\n      <td>True</td>\n      <td>int64</td>\n    </tr>\n    <tr>\n      <th>ps_ind_10_bin</th>\n      <td>input</td>\n      <td>binary</td>\n      <td>True</td>\n      <td>int64</td>\n    </tr>\n    <tr>\n      <th>ps_ind_11_bin</th>\n      <td>input</td>\n      <td>binary</td>\n      <td>True</td>\n      <td>int64</td>\n    </tr>\n    <tr>\n      <th>ps_ind_12_bin</th>\n      <td>input</td>\n      <td>binary</td>\n      <td>True</td>\n      <td>int64</td>\n    </tr>\n    <tr>\n      <th>ps_ind_13_bin</th>\n      <td>input</td>\n      <td>binary</td>\n      <td>True</td>\n      <td>int64</td>\n    </tr>\n    <tr>\n      <th>ps_ind_14</th>\n      <td>input</td>\n      <td>ordinal</td>\n      <td>True</td>\n      <td>int64</td>\n    </tr>\n    <tr>\n      <th>ps_ind_15</th>\n      <td>input</td>\n      <td>ordinal</td>\n      <td>True</td>\n      <td>int64</td>\n    </tr>\n    <tr>\n      <th>ps_ind_16_bin</th>\n      <td>input</td>\n      <td>binary</td>\n      <td>True</td>\n      <td>int64</td>\n    </tr>\n    <tr>\n      <th>ps_ind_17_bin</th>\n      <td>input</td>\n      <td>binary</td>\n      <td>True</td>\n      <td>int64</td>\n    </tr>\n    <tr>\n      <th>ps_ind_18_bin</th>\n      <td>input</td>\n      <td>binary</td>\n      <td>True</td>\n      <td>int64</td>\n    </tr>\n    <tr>\n      <th>ps_reg_01</th>\n      <td>input</td>\n      <td>interval</td>\n      <td>True</td>\n      <td>float64</td>\n    </tr>\n    <tr>\n      <th>ps_reg_02</th>\n      <td>input</td>\n      <td>interval</td>\n      <td>True</td>\n      <td>float64</td>\n    </tr>\n    <tr>\n      <th>ps_reg_03</th>\n      <td>input</td>\n      <td>interval</td>\n      <td>True</td>\n      <td>float64</td>\n    </tr>\n    <tr>\n      <th>ps_car_01_cat</th>\n      <td>input</td>\n      <td>nominal</td>\n      <td>True</td>\n      <td>int64</td>\n    </tr>\n    <tr>\n      <th>ps_car_02_cat</th>\n      <td>input</td>\n      <td>nominal</td>\n      <td>True</td>\n      <td>int64</td>\n    </tr>\n    <tr>\n      <th>ps_car_03_cat</th>\n      <td>input</td>\n      <td>nominal</td>\n      <td>True</td>\n      <td>int64</td>\n    </tr>\n    <tr>\n      <th>ps_car_04_cat</th>\n      <td>input</td>\n      <td>nominal</td>\n      <td>True</td>\n      <td>int64</td>\n    </tr>\n    <tr>\n      <th>ps_car_05_cat</th>\n      <td>input</td>\n      <td>nominal</td>\n      <td>True</td>\n      <td>int64</td>\n    </tr>\n    <tr>\n      <th>ps_car_06_cat</th>\n      <td>input</td>\n      <td>nominal</td>\n      <td>True</td>\n      <td>int64</td>\n    </tr>\n    <tr>\n      <th>ps_car_07_cat</th>\n      <td>input</td>\n      <td>nominal</td>\n      <td>True</td>\n      <td>int64</td>\n    </tr>\n    <tr>\n      <th>ps_car_08_cat</th>\n      <td>input</td>\n      <td>nominal</td>\n      <td>True</td>\n      <td>int64</td>\n    </tr>\n    <tr>\n      <th>ps_car_09_cat</th>\n      <td>input</td>\n      <td>nominal</td>\n      <td>True</td>\n      <td>int64</td>\n    </tr>\n    <tr>\n      <th>ps_car_10_cat</th>\n      <td>input</td>\n      <td>nominal</td>\n      <td>True</td>\n      <td>int64</td>\n    </tr>\n    <tr>\n      <th>ps_car_11_cat</th>\n      <td>input</td>\n      <td>nominal</td>\n      <td>True</td>\n      <td>int64</td>\n    </tr>\n    <tr>\n      <th>ps_car_11</th>\n      <td>input</td>\n      <td>ordinal</td>\n      <td>True</td>\n      <td>int64</td>\n    </tr>\n    <tr>\n      <th>ps_car_12</th>\n      <td>input</td>\n      <td>interval</td>\n      <td>True</td>\n      <td>float64</td>\n    </tr>\n    <tr>\n      <th>ps_car_13</th>\n      <td>input</td>\n      <td>interval</td>\n      <td>True</td>\n      <td>float64</td>\n    </tr>\n    <tr>\n      <th>ps_car_14</th>\n      <td>input</td>\n      <td>interval</td>\n      <td>True</td>\n      <td>float64</td>\n    </tr>\n    <tr>\n      <th>ps_car_15</th>\n      <td>input</td>\n      <td>interval</td>\n      <td>True</td>\n      <td>float64</td>\n    </tr>\n    <tr>\n      <th>ps_calc_01</th>\n      <td>input</td>\n      <td>interval</td>\n      <td>True</td>\n      <td>float64</td>\n    </tr>\n    <tr>\n      <th>ps_calc_02</th>\n      <td>input</td>\n      <td>interval</td>\n      <td>True</td>\n      <td>float64</td>\n    </tr>\n    <tr>\n      <th>ps_calc_03</th>\n      <td>input</td>\n      <td>interval</td>\n      <td>True</td>\n      <td>float64</td>\n    </tr>\n    <tr>\n      <th>ps_calc_04</th>\n      <td>input</td>\n      <td>ordinal</td>\n      <td>True</td>\n      <td>int64</td>\n    </tr>\n    <tr>\n      <th>ps_calc_05</th>\n      <td>input</td>\n      <td>ordinal</td>\n      <td>True</td>\n      <td>int64</td>\n    </tr>\n    <tr>\n      <th>ps_calc_06</th>\n      <td>input</td>\n      <td>ordinal</td>\n      <td>True</td>\n      <td>int64</td>\n    </tr>\n    <tr>\n      <th>ps_calc_07</th>\n      <td>input</td>\n      <td>ordinal</td>\n      <td>True</td>\n      <td>int64</td>\n    </tr>\n    <tr>\n      <th>ps_calc_08</th>\n      <td>input</td>\n      <td>ordinal</td>\n      <td>True</td>\n      <td>int64</td>\n    </tr>\n    <tr>\n      <th>ps_calc_09</th>\n      <td>input</td>\n      <td>ordinal</td>\n      <td>True</td>\n      <td>int64</td>\n    </tr>\n    <tr>\n      <th>ps_calc_10</th>\n      <td>input</td>\n      <td>ordinal</td>\n      <td>True</td>\n      <td>int64</td>\n    </tr>\n    <tr>\n      <th>ps_calc_11</th>\n      <td>input</td>\n      <td>ordinal</td>\n      <td>True</td>\n      <td>int64</td>\n    </tr>\n    <tr>\n      <th>ps_calc_12</th>\n      <td>input</td>\n      <td>ordinal</td>\n      <td>True</td>\n      <td>int64</td>\n    </tr>\n    <tr>\n      <th>ps_calc_13</th>\n      <td>input</td>\n      <td>ordinal</td>\n      <td>True</td>\n      <td>int64</td>\n    </tr>\n    <tr>\n      <th>ps_calc_14</th>\n      <td>input</td>\n      <td>ordinal</td>\n      <td>True</td>\n      <td>int64</td>\n    </tr>\n    <tr>\n      <th>ps_calc_15_bin</th>\n      <td>input</td>\n      <td>binary</td>\n      <td>True</td>\n      <td>int64</td>\n    </tr>\n    <tr>\n      <th>ps_calc_16_bin</th>\n      <td>input</td>\n      <td>binary</td>\n      <td>True</td>\n      <td>int64</td>\n    </tr>\n    <tr>\n      <th>ps_calc_17_bin</th>\n      <td>input</td>\n      <td>binary</td>\n      <td>True</td>\n      <td>int64</td>\n    </tr>\n    <tr>\n      <th>ps_calc_18_bin</th>\n      <td>input</td>\n      <td>binary</td>\n      <td>True</td>\n      <td>int64</td>\n    </tr>\n    <tr>\n      <th>ps_calc_19_bin</th>\n      <td>input</td>\n      <td>binary</td>\n      <td>True</td>\n      <td>int64</td>\n    </tr>\n    <tr>\n      <th>ps_calc_20_bin</th>\n      <td>input</td>\n      <td>binary</td>\n      <td>True</td>\n      <td>int64</td>\n    </tr>\n  </tbody>\n</table>\n</div>"
     },
     "execution_count": 20,
     "metadata": {},
     "output_type": "execute_result"
    }
   ],
   "source": [
    "meta\n"
   ],
   "metadata": {
    "collapsed": false,
    "pycharm": {
     "name": "#%%\n"
    }
   }
  },
  {
   "cell_type": "code",
   "execution_count": 21,
   "outputs": [
    {
     "data": {
      "text/plain": "array(['nominal', 'binary', 'ordinal', 'interval'], dtype=object)"
     },
     "execution_count": 21,
     "metadata": {},
     "output_type": "execute_result"
    }
   ],
   "source": [
    "meta.level.unique()"
   ],
   "metadata": {
    "collapsed": false,
    "pycharm": {
     "name": "#%%\n"
    }
   }
  },
  {
   "cell_type": "code",
   "execution_count": 22,
   "outputs": [],
   "source": [
    "\n",
    "meta = pd.DataFrame(data, columns = ['varname', 'role','level','keep','dtype'])"
   ],
   "metadata": {
    "collapsed": false,
    "pycharm": {
     "name": "#%%\n"
    }
   }
  },
  {
   "cell_type": "code",
   "execution_count": 23,
   "outputs": [],
   "source": [
    "meta.set_index('varname',inplace=True)"
   ],
   "metadata": {
    "collapsed": false,
    "pycharm": {
     "name": "#%%\n"
    }
   }
  },
  {
   "cell_type": "code",
   "execution_count": 24,
   "outputs": [],
   "source": [
    "#Example to extract all nominal variables that are not dropped\n",
    "#"
   ],
   "metadata": {
    "collapsed": false,
    "pycharm": {
     "name": "#%%\n"
    }
   }
  },
  {
   "cell_type": "code",
   "execution_count": 24,
   "outputs": [],
   "source": [],
   "metadata": {
    "collapsed": false,
    "pycharm": {
     "name": "#%%\n"
    }
   }
  },
  {
   "cell_type": "code",
   "execution_count": 25,
   "outputs": [
    {
     "data": {
      "text/plain": "Index(['ps_ind_02_cat', 'ps_ind_04_cat', 'ps_ind_05_cat', 'ps_car_01_cat',\n       'ps_car_02_cat', 'ps_car_03_cat', 'ps_car_04_cat', 'ps_car_05_cat',\n       'ps_car_06_cat', 'ps_car_07_cat', 'ps_car_08_cat', 'ps_car_09_cat',\n       'ps_car_10_cat', 'ps_car_11_cat'],\n      dtype='object', name='varname')"
     },
     "execution_count": 25,
     "metadata": {},
     "output_type": "execute_result"
    }
   ],
   "source": [
    "meta.loc[(meta.level=='nominal') & (meta.keep)].index"
   ],
   "metadata": {
    "collapsed": false,
    "pycharm": {
     "name": "#%%\n"
    }
   }
  },
  {
   "cell_type": "code",
   "execution_count": 26,
   "outputs": [
    {
     "data": {
      "text/plain": "     role     level  count\n0      id   nominal      1\n1   input    binary     17\n2   input  interval     10\n3   input   nominal     14\n4   input   ordinal     16\n5  target    binary      1",
      "text/html": "<div>\n<style scoped>\n    .dataframe tbody tr th:only-of-type {\n        vertical-align: middle;\n    }\n\n    .dataframe tbody tr th {\n        vertical-align: top;\n    }\n\n    .dataframe thead th {\n        text-align: right;\n    }\n</style>\n<table border=\"1\" class=\"dataframe\">\n  <thead>\n    <tr style=\"text-align: right;\">\n      <th></th>\n      <th>role</th>\n      <th>level</th>\n      <th>count</th>\n    </tr>\n  </thead>\n  <tbody>\n    <tr>\n      <th>0</th>\n      <td>id</td>\n      <td>nominal</td>\n      <td>1</td>\n    </tr>\n    <tr>\n      <th>1</th>\n      <td>input</td>\n      <td>binary</td>\n      <td>17</td>\n    </tr>\n    <tr>\n      <th>2</th>\n      <td>input</td>\n      <td>interval</td>\n      <td>10</td>\n    </tr>\n    <tr>\n      <th>3</th>\n      <td>input</td>\n      <td>nominal</td>\n      <td>14</td>\n    </tr>\n    <tr>\n      <th>4</th>\n      <td>input</td>\n      <td>ordinal</td>\n      <td>16</td>\n    </tr>\n    <tr>\n      <th>5</th>\n      <td>target</td>\n      <td>binary</td>\n      <td>1</td>\n    </tr>\n  </tbody>\n</table>\n</div>"
     },
     "execution_count": 26,
     "metadata": {},
     "output_type": "execute_result"
    }
   ],
   "source": [
    "# index : role , level\n",
    "pd.DataFrame({'count': meta.groupby(['role','level'])['role'].size()}).reset_index()"
   ],
   "metadata": {
    "collapsed": false,
    "pycharm": {
     "name": "#%%\n"
    }
   }
  },
  {
   "cell_type": "code",
   "execution_count": 26,
   "outputs": [],
   "source": [],
   "metadata": {
    "collapsed": false,
    "pycharm": {
     "name": "#%%\n"
    }
   }
  },
  {
   "cell_type": "code",
   "execution_count": 27,
   "outputs": [
    {
     "data": {
      "text/plain": "role    level   \nid      nominal      1\ninput   binary      17\n        interval    10\n        nominal     14\n        ordinal     16\ntarget  binary       1\nName: role, dtype: int64"
     },
     "execution_count": 27,
     "metadata": {},
     "output_type": "execute_result"
    }
   ],
   "source": [
    "meta.groupby(['role','level'])['role'].size()"
   ],
   "metadata": {
    "collapsed": false,
    "pycharm": {
     "name": "#%%\n"
    }
   }
  },
  {
   "cell_type": "code",
   "execution_count": 28,
   "outputs": [],
   "source": [
    "# Descriptive statistics\n",
    "\n",
    "# we can apply the describe method on the dataframe ,however it dosen't make much sense to calculate the mean , std , on categorical variables and the id variable\n",
    "\n",
    "# we'll explore the categorical variables vsuall later\n",
    "\n",
    "# Thanks to our meta file we can easily select  the vaiables on which we want to compute the descriptive statistics"
   ],
   "metadata": {
    "collapsed": false,
    "pycharm": {
     "name": "#%%\n"
    }
   }
  },
  {
   "cell_type": "code",
   "execution_count": 29,
   "outputs": [],
   "source": [
    "categorical_feats = [col for col in train.columns if 'cat' in col]"
   ],
   "metadata": {
    "collapsed": false,
    "pycharm": {
     "name": "#%%\n"
    }
   }
  },
  {
   "cell_type": "code",
   "execution_count": 30,
   "outputs": [],
   "source": [
    "v = meta[(meta.level =='interval') & (meta.keep)].index"
   ],
   "metadata": {
    "collapsed": false,
    "pycharm": {
     "name": "#%%\n"
    }
   }
  },
  {
   "cell_type": "code",
   "execution_count": 31,
   "outputs": [
    {
     "data": {
      "text/plain": "          ps_reg_01     ps_reg_02     ps_reg_03     ps_car_12     ps_car_13  \\\ncount  10000.000000  10000.000000  10000.000000  10000.000000  10000.000000   \nmean       0.606060      0.437200      0.537981      0.379988      0.814895   \nstd        0.287992      0.402234      0.796970      0.058201      0.227258   \nmin        0.000000      0.000000     -1.000000      0.141421      0.324634   \n25%        0.400000      0.200000      0.520216      0.316228      0.672251   \n50%        0.700000      0.300000      0.716327      0.374166      0.766135   \n75%        0.900000      0.600000      0.989002      0.400000      0.908975   \nmax        0.900000      1.800000      2.947457      1.264911      2.704324   \n\n          ps_car_14     ps_car_15    ps_calc_01    ps_calc_02    ps_calc_03  \ncount  10000.000000  10000.000000  10000.000000  10000.000000  10000.000000  \nmean       0.274624      3.069580      0.450720      0.453200      0.452850  \nstd        0.360167      0.729198      0.286708      0.286133      0.287719  \nmin       -1.000000      0.000000      0.000000      0.000000      0.000000  \n25%        0.330908      2.828427      0.200000      0.200000      0.200000  \n50%        0.368782      3.316625      0.500000      0.500000      0.500000  \n75%        0.397303      3.605551      0.700000      0.700000      0.700000  \nmax        0.591608      3.741657      0.900000      0.900000      0.900000  ",
      "text/html": "<div>\n<style scoped>\n    .dataframe tbody tr th:only-of-type {\n        vertical-align: middle;\n    }\n\n    .dataframe tbody tr th {\n        vertical-align: top;\n    }\n\n    .dataframe thead th {\n        text-align: right;\n    }\n</style>\n<table border=\"1\" class=\"dataframe\">\n  <thead>\n    <tr style=\"text-align: right;\">\n      <th></th>\n      <th>ps_reg_01</th>\n      <th>ps_reg_02</th>\n      <th>ps_reg_03</th>\n      <th>ps_car_12</th>\n      <th>ps_car_13</th>\n      <th>ps_car_14</th>\n      <th>ps_car_15</th>\n      <th>ps_calc_01</th>\n      <th>ps_calc_02</th>\n      <th>ps_calc_03</th>\n    </tr>\n  </thead>\n  <tbody>\n    <tr>\n      <th>count</th>\n      <td>10000.000000</td>\n      <td>10000.000000</td>\n      <td>10000.000000</td>\n      <td>10000.000000</td>\n      <td>10000.000000</td>\n      <td>10000.000000</td>\n      <td>10000.000000</td>\n      <td>10000.000000</td>\n      <td>10000.000000</td>\n      <td>10000.000000</td>\n    </tr>\n    <tr>\n      <th>mean</th>\n      <td>0.606060</td>\n      <td>0.437200</td>\n      <td>0.537981</td>\n      <td>0.379988</td>\n      <td>0.814895</td>\n      <td>0.274624</td>\n      <td>3.069580</td>\n      <td>0.450720</td>\n      <td>0.453200</td>\n      <td>0.452850</td>\n    </tr>\n    <tr>\n      <th>std</th>\n      <td>0.287992</td>\n      <td>0.402234</td>\n      <td>0.796970</td>\n      <td>0.058201</td>\n      <td>0.227258</td>\n      <td>0.360167</td>\n      <td>0.729198</td>\n      <td>0.286708</td>\n      <td>0.286133</td>\n      <td>0.287719</td>\n    </tr>\n    <tr>\n      <th>min</th>\n      <td>0.000000</td>\n      <td>0.000000</td>\n      <td>-1.000000</td>\n      <td>0.141421</td>\n      <td>0.324634</td>\n      <td>-1.000000</td>\n      <td>0.000000</td>\n      <td>0.000000</td>\n      <td>0.000000</td>\n      <td>0.000000</td>\n    </tr>\n    <tr>\n      <th>25%</th>\n      <td>0.400000</td>\n      <td>0.200000</td>\n      <td>0.520216</td>\n      <td>0.316228</td>\n      <td>0.672251</td>\n      <td>0.330908</td>\n      <td>2.828427</td>\n      <td>0.200000</td>\n      <td>0.200000</td>\n      <td>0.200000</td>\n    </tr>\n    <tr>\n      <th>50%</th>\n      <td>0.700000</td>\n      <td>0.300000</td>\n      <td>0.716327</td>\n      <td>0.374166</td>\n      <td>0.766135</td>\n      <td>0.368782</td>\n      <td>3.316625</td>\n      <td>0.500000</td>\n      <td>0.500000</td>\n      <td>0.500000</td>\n    </tr>\n    <tr>\n      <th>75%</th>\n      <td>0.900000</td>\n      <td>0.600000</td>\n      <td>0.989002</td>\n      <td>0.400000</td>\n      <td>0.908975</td>\n      <td>0.397303</td>\n      <td>3.605551</td>\n      <td>0.700000</td>\n      <td>0.700000</td>\n      <td>0.700000</td>\n    </tr>\n    <tr>\n      <th>max</th>\n      <td>0.900000</td>\n      <td>1.800000</td>\n      <td>2.947457</td>\n      <td>1.264911</td>\n      <td>2.704324</td>\n      <td>0.591608</td>\n      <td>3.741657</td>\n      <td>0.900000</td>\n      <td>0.900000</td>\n      <td>0.900000</td>\n    </tr>\n  </tbody>\n</table>\n</div>"
     },
     "execution_count": 31,
     "metadata": {},
     "output_type": "execute_result"
    }
   ],
   "source": [
    "# get continous variable\n",
    "train[v].describe()"
   ],
   "metadata": {
    "collapsed": false,
    "pycharm": {
     "name": "#%%\n"
    }
   }
  },
  {
   "cell_type": "code",
   "execution_count": 32,
   "outputs": [
    {
     "data": {
      "text/plain": "array(['nominal', 'binary', 'ordinal', 'interval'], dtype=object)"
     },
     "execution_count": 32,
     "metadata": {},
     "output_type": "execute_result"
    }
   ],
   "source": [
    "meta.level.unique()"
   ],
   "metadata": {
    "collapsed": false,
    "pycharm": {
     "name": "#%%\n"
    }
   }
  },
  {
   "cell_type": "code",
   "execution_count": 33,
   "outputs": [],
   "source": [
    "# the range( min to max) differs between the variables ,We Could apply scaling (e.g. StandardScaler) but it dependson the\n",
    "#classifier we will want to use\n",
    "#  모델에 따라 다르다 scaler는 특정 variable 에 쏠림이 심할 때 등등\n",
    "\n",
    "\n",
    "# car variables\n",
    "# ps_car _12 and ps_car_15 have missing values\n",
    "\n",
    "# again, the range differs and\n",
    "\n",
    "\n",
    "\n",
    "# no miising values\n",
    "# this seems to be some kind of ratio\n",
    "# We can see that the range of the interval variables is rather small , perhaps some transformation is alerady\n",
    "# applied in order to anonymize the data?\n",
    "\n",
    "\n",
    "# a priori in the train data is 3.645% ,whici is stronly imbalance\n",
    "# from the means we can colnclude that for most varialbes thv value is zero in mostcases\n",
    "# Handling imbalanced classses\n",
    "\n",
    "\n",
    "# As we mentioned above the proprotion of records with target= 1 is far les than target =0\n",
    "\n",
    "# this can lead to mdoel tha thas great accuracy but does have any aded valu in practice\n",
    "\n",
    "# 96 -> 0\n",
    "# 4 -> 1\n",
    "\n",
    "# 전부 다 0이라고 하면 96& accuracy ->  x\n",
    "\n",
    "# 얼마나 1을 잘 맞추느냐가 더 중요하다\n",
    "\n",
    "\n",
    "# 0 %\n",
    "\n",
    "\n",
    "# 1인 4를 전부다 0이라고 했기 때문에 저는 0% 맞췄다. 그러면 accuracy 쓰면 안된다\n",
    "\n",
    "\n",
    "\n",
    "# 따라서 gini or rocauc 사용\n",
    "\n",
    "\n",
    "#Two possible strategies to deal with this problem are\n",
    "# oversampling records with target == 1 4개의 적은 샘플을 줄여준다\n",
    "# undersampling records with target ==0 96개를 적은 샘플로 줄여준다"
   ],
   "metadata": {
    "collapsed": false,
    "pycharm": {
     "name": "#%%\n"
    }
   }
  },
  {
   "cell_type": "code",
   "execution_count": 34,
   "outputs": [],
   "source": [
    "desired_apriori = 0.1"
   ],
   "metadata": {
    "collapsed": false,
    "pycharm": {
     "name": "#%%\n"
    }
   }
  },
  {
   "cell_type": "code",
   "execution_count": 35,
   "outputs": [],
   "source": [
    "idx_0 = train[train.target ==0 ].index\n",
    "idx_1 = train[train.target ==1].index"
   ],
   "metadata": {
    "collapsed": false,
    "pycharm": {
     "name": "#%%\n"
    }
   }
  },
  {
   "cell_type": "code",
   "execution_count": 36,
   "outputs": [],
   "source": [
    "nb_0 = len(train.loc[idx_0])\n",
    "nb_1 = len(train.loc[idx_1])"
   ],
   "metadata": {
    "collapsed": false,
    "pycharm": {
     "name": "#%%\n"
    }
   }
  },
  {
   "cell_type": "code",
   "execution_count": 37,
   "outputs": [
    {
     "name": "stdout",
     "output_type": "stream",
     "text": [
      "Rate to undersample records with target =0 : 0.32352636486066505\n",
      "Number of records with target =0 after undersampling : 3122\n"
     ]
    }
   ],
   "source": [
    "undersampling_rate = ((1-desired_apriori)*nb_1) /(nb_0* desired_apriori)\n",
    "# Calculate the undersampling rate and resulting number of records with target = 0\n",
    "undersampled_nb_0 = int(undersampling_rate * nb_0)\n",
    "print('Rate to undersample records with target =0 : {}'.format(undersampling_rate))\n",
    "print('Number of records with target =0 after undersampling : {}'.format(undersampled_nb_0))\n",
    "# Randomly select records with target= 0 to get at the desired a priori\n",
    "\n",
    "undersampled_idx = shuffle(idx_0, random_state = 37 , n_samples= undersampled_nb_0)\n",
    "# Construct list with remaining indices\n",
    "idx_list = list(undersampled_idx) +list(idx_1)"
   ],
   "metadata": {
    "collapsed": false,
    "pycharm": {
     "name": "#%%\n"
    }
   }
  },
  {
   "cell_type": "code",
   "execution_count": 38,
   "outputs": [],
   "source": [
    "\n",
    "\n",
    "train = train.loc[idx_list].reset_index(drop=True)\n",
    "\n",
    "\n",
    "\n",
    "# Data Quality Checks\n",
    "# Checking missing values\n",
    "# Missing are represented as -1"
   ],
   "metadata": {
    "collapsed": false,
    "pycharm": {
     "name": "#%%\n"
    }
   }
  },
  {
   "cell_type": "code",
   "execution_count": 39,
   "outputs": [
    {
     "data": {
      "text/plain": "          id  target  ps_ind_01  ps_ind_02_cat  ps_ind_03  ps_ind_04_cat  \\\n0      69863       0          1              1         11              0   \n1      41766       0          0              1          4              1   \n2       9601       0          0              1          4              0   \n3      34442       0          0              1          4              0   \n4      74925       0          0              1          1              0   \n...      ...     ...        ...            ...        ...            ...   \n3464   35064       1          1              2          1              1   \n3465   77671       1          0              1          2              1   \n3466  116333       1          7              1          7              0   \n3467   32058       1          1              1          1              1   \n3468   89532       1          3              1          5              0   \n\n      ps_ind_05_cat  ps_ind_06_bin  ps_ind_07_bin  ps_ind_08_bin  \\\n0                 0              0              1              0   \n1                 0              0              0              0   \n2                 0              0              1              0   \n3                 0              0              0              1   \n4                 0              0              0              0   \n...             ...            ...            ...            ...   \n3464              0              0              1              0   \n3465              0              0              1              0   \n3466              2              0              1              0   \n3467              0              1              0              0   \n3468              0              0              0              1   \n\n      ps_ind_09_bin  ps_ind_10_bin  ps_ind_11_bin  ps_ind_12_bin  \\\n0                 0              0              0              0   \n1                 1              0              0              0   \n2                 0              0              0              0   \n3                 0              0              0              0   \n4                 1              0              0              0   \n...             ...            ...            ...            ...   \n3464              0              0              0              0   \n3465              0              0              0              0   \n3466              0              0              0              0   \n3467              0              0              0              0   \n3468              0              0              0              0   \n\n      ps_ind_13_bin  ps_ind_14  ps_ind_15  ps_ind_16_bin  ps_ind_17_bin  \\\n0                 0          0          8              0              0   \n1                 0          0          5              0              0   \n2                 0          0          6              1              0   \n3                 0          0          4              0              1   \n4                 0          0          3              0              0   \n...             ...        ...        ...            ...            ...   \n3464              0          0          0              0              1   \n3465              0          0          3              0              0   \n3466              0          0         12              1              0   \n3467              0          0          3              1              0   \n3468              0          0          3              0              1   \n\n      ps_ind_18_bin  ps_reg_01  ps_reg_02  ps_reg_03  ps_car_01_cat  \\\n0                 1        0.8        0.8   1.450431             11   \n1                 0        0.5        0.3   1.078772             11   \n2                 0        0.1        0.1  -1.000000              7   \n3                 0        0.1        0.0  -1.000000             11   \n4                 1        0.8        0.3   0.457575              7   \n...             ...        ...        ...        ...            ...   \n3464              0        0.7        0.8   0.812788              7   \n3465              1        0.7        0.2   0.537355              6   \n3466              0        0.7        0.0   0.744564              6   \n3467              0        0.9        1.6   1.628842             10   \n3468              0        0.4        0.3  -1.000000             11   \n\n      ps_car_02_cat  ps_car_03_cat  ps_car_04_cat  ps_car_05_cat  \\\n0                 1              0              1              1   \n1                 1             -1              0             -1   \n2                 1              1              0              0   \n3                 1              0              0              0   \n4                 1             -1              0             -1   \n...             ...            ...            ...            ...   \n3464              1              0              0              1   \n3465              1             -1              0              0   \n3466              1             -1              0              1   \n3467              0             -1              0              1   \n3468              1              1              0              0   \n\n      ps_car_06_cat  ps_car_07_cat  ps_car_08_cat  ps_car_09_cat  \\\n0                12              1              1              2   \n1                 0              1              1              2   \n2                 1              1              0              2   \n3                14              1              1              2   \n4                11              1              1              2   \n...             ...            ...            ...            ...   \n3464             10              1              1              2   \n3465              0              1              0              0   \n3466              4              1              1              0   \n3467              1              1              1              0   \n3468              1              0              1              2   \n\n      ps_car_10_cat  ps_car_11_cat  ps_car_11  ps_car_12  ps_car_13  \\\n0                 1            104          3   0.374166   0.738689   \n1                 1             32          3   0.316228   0.605502   \n2                 1             80          3   0.316228   0.808018   \n3                 1             49          3   0.400000   0.688888   \n4                 1             11          2   0.316228   0.667857   \n...             ...            ...        ...        ...        ...   \n3464              1             28          3   0.374166   0.829866   \n3465              1             22          3   0.316228   0.838448   \n3466              1             12          2   0.400000   0.895019   \n3467              1            104          3   0.424264   0.826048   \n3468              1             40          2   0.374166   0.746396   \n\n      ps_car_14  ps_car_15  ps_calc_01  ps_calc_02  ps_calc_03  ps_calc_04  \\\n0      0.325576   3.464102         0.3         0.2         0.9           1   \n1      0.361525   2.828427         0.8         0.9         0.7           4   \n2     -1.000000   3.741657         0.2         0.5         0.0           1   \n3      0.368511   2.828427         0.2         0.5         0.5           4   \n4      0.368782   3.316625         0.2         0.9         0.5           1   \n...         ...        ...         ...         ...         ...         ...   \n3464   0.324808   3.000000         0.8         0.1         0.5           3   \n3465   0.374566   3.605551         0.7         0.0         0.7           3   \n3466   0.370810   3.464102         0.4         0.1         0.3           2   \n3467   0.412916   3.162278         0.1         0.3         0.8           2   \n3468   0.324808   3.162278         0.0         0.1         0.7           2   \n\n      ps_calc_05  ps_calc_06  ps_calc_07  ps_calc_08  ps_calc_09  ps_calc_10  \\\n0              3           8           2          10           2           3   \n1              3           8           3          11           0           7   \n2              2           6           3          11           4           5   \n3              3           8           1          12           0           7   \n4              3           6           4          12           2          10   \n...          ...         ...         ...         ...         ...         ...   \n3464           2           8           3           6           1           6   \n3465           1           5           0           7           2          10   \n3466           1           8           4           5           2           8   \n3467           1           9           2          10           2           9   \n3468           3           8           1          11           3          12   \n\n      ps_calc_11  ps_calc_12  ps_calc_13  ps_calc_14  ps_calc_15_bin  \\\n0             11           3           2           4               0   \n1              3           0           5           3               0   \n2              4           1           3           8               0   \n3              1           0           3           5               0   \n4              8           2           1           6               0   \n...          ...         ...         ...         ...             ...   \n3464           6           1           3          12               0   \n3465           2           0           5           4               0   \n3466           8           1           2           8               0   \n3467           5           2           2           6               0   \n3468           5           1           2           6               0   \n\n      ps_calc_16_bin  ps_calc_17_bin  ps_calc_18_bin  ps_calc_19_bin  \\\n0                  1               1               1               0   \n1                  1               0               0               0   \n2                  1               1               0               0   \n3                  1               0               0               1   \n4                  1               1               0               0   \n...              ...             ...             ...             ...   \n3464               1               1               1               1   \n3465               1               1               0               0   \n3466               1               1               0               0   \n3467               0               1               0               1   \n3468               1               1               0               0   \n\n      ps_calc_20_bin  \n0                  0  \n1                  0  \n2                  0  \n3                  0  \n4                  0  \n...              ...  \n3464               0  \n3465               0  \n3466               0  \n3467               0  \n3468               1  \n\n[3469 rows x 59 columns]",
      "text/html": "<div>\n<style scoped>\n    .dataframe tbody tr th:only-of-type {\n        vertical-align: middle;\n    }\n\n    .dataframe tbody tr th {\n        vertical-align: top;\n    }\n\n    .dataframe thead th {\n        text-align: right;\n    }\n</style>\n<table border=\"1\" class=\"dataframe\">\n  <thead>\n    <tr style=\"text-align: right;\">\n      <th></th>\n      <th>id</th>\n      <th>target</th>\n      <th>ps_ind_01</th>\n      <th>ps_ind_02_cat</th>\n      <th>ps_ind_03</th>\n      <th>ps_ind_04_cat</th>\n      <th>ps_ind_05_cat</th>\n      <th>ps_ind_06_bin</th>\n      <th>ps_ind_07_bin</th>\n      <th>ps_ind_08_bin</th>\n      <th>ps_ind_09_bin</th>\n      <th>ps_ind_10_bin</th>\n      <th>ps_ind_11_bin</th>\n      <th>ps_ind_12_bin</th>\n      <th>ps_ind_13_bin</th>\n      <th>ps_ind_14</th>\n      <th>ps_ind_15</th>\n      <th>ps_ind_16_bin</th>\n      <th>ps_ind_17_bin</th>\n      <th>ps_ind_18_bin</th>\n      <th>ps_reg_01</th>\n      <th>ps_reg_02</th>\n      <th>ps_reg_03</th>\n      <th>ps_car_01_cat</th>\n      <th>ps_car_02_cat</th>\n      <th>ps_car_03_cat</th>\n      <th>ps_car_04_cat</th>\n      <th>ps_car_05_cat</th>\n      <th>ps_car_06_cat</th>\n      <th>ps_car_07_cat</th>\n      <th>ps_car_08_cat</th>\n      <th>ps_car_09_cat</th>\n      <th>ps_car_10_cat</th>\n      <th>ps_car_11_cat</th>\n      <th>ps_car_11</th>\n      <th>ps_car_12</th>\n      <th>ps_car_13</th>\n      <th>ps_car_14</th>\n      <th>ps_car_15</th>\n      <th>ps_calc_01</th>\n      <th>ps_calc_02</th>\n      <th>ps_calc_03</th>\n      <th>ps_calc_04</th>\n      <th>ps_calc_05</th>\n      <th>ps_calc_06</th>\n      <th>ps_calc_07</th>\n      <th>ps_calc_08</th>\n      <th>ps_calc_09</th>\n      <th>ps_calc_10</th>\n      <th>ps_calc_11</th>\n      <th>ps_calc_12</th>\n      <th>ps_calc_13</th>\n      <th>ps_calc_14</th>\n      <th>ps_calc_15_bin</th>\n      <th>ps_calc_16_bin</th>\n      <th>ps_calc_17_bin</th>\n      <th>ps_calc_18_bin</th>\n      <th>ps_calc_19_bin</th>\n      <th>ps_calc_20_bin</th>\n    </tr>\n  </thead>\n  <tbody>\n    <tr>\n      <th>0</th>\n      <td>69863</td>\n      <td>0</td>\n      <td>1</td>\n      <td>1</td>\n      <td>11</td>\n      <td>0</td>\n      <td>0</td>\n      <td>0</td>\n      <td>1</td>\n      <td>0</td>\n      <td>0</td>\n      <td>0</td>\n      <td>0</td>\n      <td>0</td>\n      <td>0</td>\n      <td>0</td>\n      <td>8</td>\n      <td>0</td>\n      <td>0</td>\n      <td>1</td>\n      <td>0.8</td>\n      <td>0.8</td>\n      <td>1.450431</td>\n      <td>11</td>\n      <td>1</td>\n      <td>0</td>\n      <td>1</td>\n      <td>1</td>\n      <td>12</td>\n      <td>1</td>\n      <td>1</td>\n      <td>2</td>\n      <td>1</td>\n      <td>104</td>\n      <td>3</td>\n      <td>0.374166</td>\n      <td>0.738689</td>\n      <td>0.325576</td>\n      <td>3.464102</td>\n      <td>0.3</td>\n      <td>0.2</td>\n      <td>0.9</td>\n      <td>1</td>\n      <td>3</td>\n      <td>8</td>\n      <td>2</td>\n      <td>10</td>\n      <td>2</td>\n      <td>3</td>\n      <td>11</td>\n      <td>3</td>\n      <td>2</td>\n      <td>4</td>\n      <td>0</td>\n      <td>1</td>\n      <td>1</td>\n      <td>1</td>\n      <td>0</td>\n      <td>0</td>\n    </tr>\n    <tr>\n      <th>1</th>\n      <td>41766</td>\n      <td>0</td>\n      <td>0</td>\n      <td>1</td>\n      <td>4</td>\n      <td>1</td>\n      <td>0</td>\n      <td>0</td>\n      <td>0</td>\n      <td>0</td>\n      <td>1</td>\n      <td>0</td>\n      <td>0</td>\n      <td>0</td>\n      <td>0</td>\n      <td>0</td>\n      <td>5</td>\n      <td>0</td>\n      <td>0</td>\n      <td>0</td>\n      <td>0.5</td>\n      <td>0.3</td>\n      <td>1.078772</td>\n      <td>11</td>\n      <td>1</td>\n      <td>-1</td>\n      <td>0</td>\n      <td>-1</td>\n      <td>0</td>\n      <td>1</td>\n      <td>1</td>\n      <td>2</td>\n      <td>1</td>\n      <td>32</td>\n      <td>3</td>\n      <td>0.316228</td>\n      <td>0.605502</td>\n      <td>0.361525</td>\n      <td>2.828427</td>\n      <td>0.8</td>\n      <td>0.9</td>\n      <td>0.7</td>\n      <td>4</td>\n      <td>3</td>\n      <td>8</td>\n      <td>3</td>\n      <td>11</td>\n      <td>0</td>\n      <td>7</td>\n      <td>3</td>\n      <td>0</td>\n      <td>5</td>\n      <td>3</td>\n      <td>0</td>\n      <td>1</td>\n      <td>0</td>\n      <td>0</td>\n      <td>0</td>\n      <td>0</td>\n    </tr>\n    <tr>\n      <th>2</th>\n      <td>9601</td>\n      <td>0</td>\n      <td>0</td>\n      <td>1</td>\n      <td>4</td>\n      <td>0</td>\n      <td>0</td>\n      <td>0</td>\n      <td>1</td>\n      <td>0</td>\n      <td>0</td>\n      <td>0</td>\n      <td>0</td>\n      <td>0</td>\n      <td>0</td>\n      <td>0</td>\n      <td>6</td>\n      <td>1</td>\n      <td>0</td>\n      <td>0</td>\n      <td>0.1</td>\n      <td>0.1</td>\n      <td>-1.000000</td>\n      <td>7</td>\n      <td>1</td>\n      <td>1</td>\n      <td>0</td>\n      <td>0</td>\n      <td>1</td>\n      <td>1</td>\n      <td>0</td>\n      <td>2</td>\n      <td>1</td>\n      <td>80</td>\n      <td>3</td>\n      <td>0.316228</td>\n      <td>0.808018</td>\n      <td>-1.000000</td>\n      <td>3.741657</td>\n      <td>0.2</td>\n      <td>0.5</td>\n      <td>0.0</td>\n      <td>1</td>\n      <td>2</td>\n      <td>6</td>\n      <td>3</td>\n      <td>11</td>\n      <td>4</td>\n      <td>5</td>\n      <td>4</td>\n      <td>1</td>\n      <td>3</td>\n      <td>8</td>\n      <td>0</td>\n      <td>1</td>\n      <td>1</td>\n      <td>0</td>\n      <td>0</td>\n      <td>0</td>\n    </tr>\n    <tr>\n      <th>3</th>\n      <td>34442</td>\n      <td>0</td>\n      <td>0</td>\n      <td>1</td>\n      <td>4</td>\n      <td>0</td>\n      <td>0</td>\n      <td>0</td>\n      <td>0</td>\n      <td>1</td>\n      <td>0</td>\n      <td>0</td>\n      <td>0</td>\n      <td>0</td>\n      <td>0</td>\n      <td>0</td>\n      <td>4</td>\n      <td>0</td>\n      <td>1</td>\n      <td>0</td>\n      <td>0.1</td>\n      <td>0.0</td>\n      <td>-1.000000</td>\n      <td>11</td>\n      <td>1</td>\n      <td>0</td>\n      <td>0</td>\n      <td>0</td>\n      <td>14</td>\n      <td>1</td>\n      <td>1</td>\n      <td>2</td>\n      <td>1</td>\n      <td>49</td>\n      <td>3</td>\n      <td>0.400000</td>\n      <td>0.688888</td>\n      <td>0.368511</td>\n      <td>2.828427</td>\n      <td>0.2</td>\n      <td>0.5</td>\n      <td>0.5</td>\n      <td>4</td>\n      <td>3</td>\n      <td>8</td>\n      <td>1</td>\n      <td>12</td>\n      <td>0</td>\n      <td>7</td>\n      <td>1</td>\n      <td>0</td>\n      <td>3</td>\n      <td>5</td>\n      <td>0</td>\n      <td>1</td>\n      <td>0</td>\n      <td>0</td>\n      <td>1</td>\n      <td>0</td>\n    </tr>\n    <tr>\n      <th>4</th>\n      <td>74925</td>\n      <td>0</td>\n      <td>0</td>\n      <td>1</td>\n      <td>1</td>\n      <td>0</td>\n      <td>0</td>\n      <td>0</td>\n      <td>0</td>\n      <td>0</td>\n      <td>1</td>\n      <td>0</td>\n      <td>0</td>\n      <td>0</td>\n      <td>0</td>\n      <td>0</td>\n      <td>3</td>\n      <td>0</td>\n      <td>0</td>\n      <td>1</td>\n      <td>0.8</td>\n      <td>0.3</td>\n      <td>0.457575</td>\n      <td>7</td>\n      <td>1</td>\n      <td>-1</td>\n      <td>0</td>\n      <td>-1</td>\n      <td>11</td>\n      <td>1</td>\n      <td>1</td>\n      <td>2</td>\n      <td>1</td>\n      <td>11</td>\n      <td>2</td>\n      <td>0.316228</td>\n      <td>0.667857</td>\n      <td>0.368782</td>\n      <td>3.316625</td>\n      <td>0.2</td>\n      <td>0.9</td>\n      <td>0.5</td>\n      <td>1</td>\n      <td>3</td>\n      <td>6</td>\n      <td>4</td>\n      <td>12</td>\n      <td>2</td>\n      <td>10</td>\n      <td>8</td>\n      <td>2</td>\n      <td>1</td>\n      <td>6</td>\n      <td>0</td>\n      <td>1</td>\n      <td>1</td>\n      <td>0</td>\n      <td>0</td>\n      <td>0</td>\n    </tr>\n    <tr>\n      <th>...</th>\n      <td>...</td>\n      <td>...</td>\n      <td>...</td>\n      <td>...</td>\n      <td>...</td>\n      <td>...</td>\n      <td>...</td>\n      <td>...</td>\n      <td>...</td>\n      <td>...</td>\n      <td>...</td>\n      <td>...</td>\n      <td>...</td>\n      <td>...</td>\n      <td>...</td>\n      <td>...</td>\n      <td>...</td>\n      <td>...</td>\n      <td>...</td>\n      <td>...</td>\n      <td>...</td>\n      <td>...</td>\n      <td>...</td>\n      <td>...</td>\n      <td>...</td>\n      <td>...</td>\n      <td>...</td>\n      <td>...</td>\n      <td>...</td>\n      <td>...</td>\n      <td>...</td>\n      <td>...</td>\n      <td>...</td>\n      <td>...</td>\n      <td>...</td>\n      <td>...</td>\n      <td>...</td>\n      <td>...</td>\n      <td>...</td>\n      <td>...</td>\n      <td>...</td>\n      <td>...</td>\n      <td>...</td>\n      <td>...</td>\n      <td>...</td>\n      <td>...</td>\n      <td>...</td>\n      <td>...</td>\n      <td>...</td>\n      <td>...</td>\n      <td>...</td>\n      <td>...</td>\n      <td>...</td>\n      <td>...</td>\n      <td>...</td>\n      <td>...</td>\n      <td>...</td>\n      <td>...</td>\n      <td>...</td>\n    </tr>\n    <tr>\n      <th>3464</th>\n      <td>35064</td>\n      <td>1</td>\n      <td>1</td>\n      <td>2</td>\n      <td>1</td>\n      <td>1</td>\n      <td>0</td>\n      <td>0</td>\n      <td>1</td>\n      <td>0</td>\n      <td>0</td>\n      <td>0</td>\n      <td>0</td>\n      <td>0</td>\n      <td>0</td>\n      <td>0</td>\n      <td>0</td>\n      <td>0</td>\n      <td>1</td>\n      <td>0</td>\n      <td>0.7</td>\n      <td>0.8</td>\n      <td>0.812788</td>\n      <td>7</td>\n      <td>1</td>\n      <td>0</td>\n      <td>0</td>\n      <td>1</td>\n      <td>10</td>\n      <td>1</td>\n      <td>1</td>\n      <td>2</td>\n      <td>1</td>\n      <td>28</td>\n      <td>3</td>\n      <td>0.374166</td>\n      <td>0.829866</td>\n      <td>0.324808</td>\n      <td>3.000000</td>\n      <td>0.8</td>\n      <td>0.1</td>\n      <td>0.5</td>\n      <td>3</td>\n      <td>2</td>\n      <td>8</td>\n      <td>3</td>\n      <td>6</td>\n      <td>1</td>\n      <td>6</td>\n      <td>6</td>\n      <td>1</td>\n      <td>3</td>\n      <td>12</td>\n      <td>0</td>\n      <td>1</td>\n      <td>1</td>\n      <td>1</td>\n      <td>1</td>\n      <td>0</td>\n    </tr>\n    <tr>\n      <th>3465</th>\n      <td>77671</td>\n      <td>1</td>\n      <td>0</td>\n      <td>1</td>\n      <td>2</td>\n      <td>1</td>\n      <td>0</td>\n      <td>0</td>\n      <td>1</td>\n      <td>0</td>\n      <td>0</td>\n      <td>0</td>\n      <td>0</td>\n      <td>0</td>\n      <td>0</td>\n      <td>0</td>\n      <td>3</td>\n      <td>0</td>\n      <td>0</td>\n      <td>1</td>\n      <td>0.7</td>\n      <td>0.2</td>\n      <td>0.537355</td>\n      <td>6</td>\n      <td>1</td>\n      <td>-1</td>\n      <td>0</td>\n      <td>0</td>\n      <td>0</td>\n      <td>1</td>\n      <td>0</td>\n      <td>0</td>\n      <td>1</td>\n      <td>22</td>\n      <td>3</td>\n      <td>0.316228</td>\n      <td>0.838448</td>\n      <td>0.374566</td>\n      <td>3.605551</td>\n      <td>0.7</td>\n      <td>0.0</td>\n      <td>0.7</td>\n      <td>3</td>\n      <td>1</td>\n      <td>5</td>\n      <td>0</td>\n      <td>7</td>\n      <td>2</td>\n      <td>10</td>\n      <td>2</td>\n      <td>0</td>\n      <td>5</td>\n      <td>4</td>\n      <td>0</td>\n      <td>1</td>\n      <td>1</td>\n      <td>0</td>\n      <td>0</td>\n      <td>0</td>\n    </tr>\n    <tr>\n      <th>3466</th>\n      <td>116333</td>\n      <td>1</td>\n      <td>7</td>\n      <td>1</td>\n      <td>7</td>\n      <td>0</td>\n      <td>2</td>\n      <td>0</td>\n      <td>1</td>\n      <td>0</td>\n      <td>0</td>\n      <td>0</td>\n      <td>0</td>\n      <td>0</td>\n      <td>0</td>\n      <td>0</td>\n      <td>12</td>\n      <td>1</td>\n      <td>0</td>\n      <td>0</td>\n      <td>0.7</td>\n      <td>0.0</td>\n      <td>0.744564</td>\n      <td>6</td>\n      <td>1</td>\n      <td>-1</td>\n      <td>0</td>\n      <td>1</td>\n      <td>4</td>\n      <td>1</td>\n      <td>1</td>\n      <td>0</td>\n      <td>1</td>\n      <td>12</td>\n      <td>2</td>\n      <td>0.400000</td>\n      <td>0.895019</td>\n      <td>0.370810</td>\n      <td>3.464102</td>\n      <td>0.4</td>\n      <td>0.1</td>\n      <td>0.3</td>\n      <td>2</td>\n      <td>1</td>\n      <td>8</td>\n      <td>4</td>\n      <td>5</td>\n      <td>2</td>\n      <td>8</td>\n      <td>8</td>\n      <td>1</td>\n      <td>2</td>\n      <td>8</td>\n      <td>0</td>\n      <td>1</td>\n      <td>1</td>\n      <td>0</td>\n      <td>0</td>\n      <td>0</td>\n    </tr>\n    <tr>\n      <th>3467</th>\n      <td>32058</td>\n      <td>1</td>\n      <td>1</td>\n      <td>1</td>\n      <td>1</td>\n      <td>1</td>\n      <td>0</td>\n      <td>1</td>\n      <td>0</td>\n      <td>0</td>\n      <td>0</td>\n      <td>0</td>\n      <td>0</td>\n      <td>0</td>\n      <td>0</td>\n      <td>0</td>\n      <td>3</td>\n      <td>1</td>\n      <td>0</td>\n      <td>0</td>\n      <td>0.9</td>\n      <td>1.6</td>\n      <td>1.628842</td>\n      <td>10</td>\n      <td>0</td>\n      <td>-1</td>\n      <td>0</td>\n      <td>1</td>\n      <td>1</td>\n      <td>1</td>\n      <td>1</td>\n      <td>0</td>\n      <td>1</td>\n      <td>104</td>\n      <td>3</td>\n      <td>0.424264</td>\n      <td>0.826048</td>\n      <td>0.412916</td>\n      <td>3.162278</td>\n      <td>0.1</td>\n      <td>0.3</td>\n      <td>0.8</td>\n      <td>2</td>\n      <td>1</td>\n      <td>9</td>\n      <td>2</td>\n      <td>10</td>\n      <td>2</td>\n      <td>9</td>\n      <td>5</td>\n      <td>2</td>\n      <td>2</td>\n      <td>6</td>\n      <td>0</td>\n      <td>0</td>\n      <td>1</td>\n      <td>0</td>\n      <td>1</td>\n      <td>0</td>\n    </tr>\n    <tr>\n      <th>3468</th>\n      <td>89532</td>\n      <td>1</td>\n      <td>3</td>\n      <td>1</td>\n      <td>5</td>\n      <td>0</td>\n      <td>0</td>\n      <td>0</td>\n      <td>0</td>\n      <td>1</td>\n      <td>0</td>\n      <td>0</td>\n      <td>0</td>\n      <td>0</td>\n      <td>0</td>\n      <td>0</td>\n      <td>3</td>\n      <td>0</td>\n      <td>1</td>\n      <td>0</td>\n      <td>0.4</td>\n      <td>0.3</td>\n      <td>-1.000000</td>\n      <td>11</td>\n      <td>1</td>\n      <td>1</td>\n      <td>0</td>\n      <td>0</td>\n      <td>1</td>\n      <td>0</td>\n      <td>1</td>\n      <td>2</td>\n      <td>1</td>\n      <td>40</td>\n      <td>2</td>\n      <td>0.374166</td>\n      <td>0.746396</td>\n      <td>0.324808</td>\n      <td>3.162278</td>\n      <td>0.0</td>\n      <td>0.1</td>\n      <td>0.7</td>\n      <td>2</td>\n      <td>3</td>\n      <td>8</td>\n      <td>1</td>\n      <td>11</td>\n      <td>3</td>\n      <td>12</td>\n      <td>5</td>\n      <td>1</td>\n      <td>2</td>\n      <td>6</td>\n      <td>0</td>\n      <td>1</td>\n      <td>1</td>\n      <td>0</td>\n      <td>0</td>\n      <td>1</td>\n    </tr>\n  </tbody>\n</table>\n<p>3469 rows × 59 columns</p>\n</div>"
     },
     "execution_count": 39,
     "metadata": {},
     "output_type": "execute_result"
    }
   ],
   "source": [
    "train"
   ],
   "metadata": {
    "collapsed": false,
    "pycharm": {
     "name": "#%%\n"
    }
   }
  },
  {
   "cell_type": "code",
   "execution_count": 40,
   "outputs": [
    {
     "name": "stdout",
     "output_type": "stream",
     "text": [
      "Variable ps_ind_02_cat has 1 records (0.03%) with mmissing values\n",
      "Variable ps_ind_04_cat has 1 records (0.03%) with mmissing values\n",
      "Variable ps_ind_05_cat has 42 records (1.21%) with mmissing values\n",
      "Variable ps_reg_03 has 649 records (18.71%) with mmissing values\n",
      "Variable ps_car_01_cat has 1 records (0.03%) with mmissing values\n",
      "Variable ps_car_03_cat has 2388 records (68.84%) with mmissing values\n",
      "Variable ps_car_05_cat has 1550 records (44.68%) with mmissing values\n",
      "Variable ps_car_07_cat has 76 records (2.19%) with mmissing values\n",
      "Variable ps_car_09_cat has 4 records (0.12%) with mmissing values\n",
      "Variable ps_car_14 has 246 records (7.09%) with mmissing values\n",
      "In total , there are 10 variables with missing values\n"
     ]
    }
   ],
   "source": [
    "vars_with_missing =[]\n",
    "\n",
    "for f in train.columns:\n",
    "    missings = train[train[f] == -1][f].count()\n",
    "    if missings > 0:\n",
    "        vars_with_missing.append(f)\n",
    "        missings_perc = missings/train.shape[0]\n",
    "\n",
    "        print('Variable {} has {} records ({:.2%}) with mmissing values'.format(f, missings, missings_perc))\n",
    "\n",
    "print('In total , there are {} variables with missing values'.format(len(vars_with_missing)))"
   ],
   "metadata": {
    "collapsed": false,
    "pycharm": {
     "name": "#%%\n"
    }
   }
  },
  {
   "cell_type": "code",
   "execution_count": 41,
   "outputs": [],
   "source": [
    "\n",
    "\n",
    "# ps_car_03_cat and ps_car_05_car have a large proportion of records with missing values .Remove these variables."
   ],
   "metadata": {
    "collapsed": false,
    "pycharm": {
     "name": "#%%\n"
    }
   }
  },
  {
   "cell_type": "code",
   "execution_count": 42,
   "outputs": [],
   "source": [
    "# For the other categorical variables with missing values, we can leav the missing value - 1 as such"
   ],
   "metadata": {
    "collapsed": false,
    "pycharm": {
     "name": "#%%\n"
    }
   }
  },
  {
   "cell_type": "code",
   "execution_count": 43,
   "outputs": [],
   "source": [
    "#ps_reg_03 (continous) has missing values for 18% of all recosrs"
   ],
   "metadata": {
    "collapsed": false,
    "pycharm": {
     "name": "#%%\n"
    }
   }
  },
  {
   "cell_type": "code",
   "execution_count": 44,
   "outputs": [],
   "source": [
    "# missing value를 함부로 채우지는 않도록 하기"
   ],
   "metadata": {
    "collapsed": false,
    "pycharm": {
     "name": "#%%\n"
    }
   }
  },
  {
   "cell_type": "code",
   "execution_count": 45,
   "outputs": [],
   "source": [
    "#Dropping the variables wih too many missing values\n",
    "vars_to_drop = ['ps_car_03_cat' , 'ps_car_05_cat']"
   ],
   "metadata": {
    "collapsed": false,
    "pycharm": {
     "name": "#%%\n"
    }
   }
  },
  {
   "cell_type": "code",
   "execution_count": 45,
   "outputs": [],
   "source": [],
   "metadata": {
    "collapsed": false,
    "pycharm": {
     "name": "#%%\n"
    }
   }
  },
  {
   "cell_type": "code",
   "execution_count": 46,
   "outputs": [
    {
     "ename": "KeyError",
     "evalue": "\"['ps_car_03_cat' 'ps_car_05_cat'] not found in axis\"",
     "output_type": "error",
     "traceback": [
      "\u001B[0;31m---------------------------------------------------------------------------\u001B[0m",
      "\u001B[0;31mKeyError\u001B[0m                                  Traceback (most recent call last)",
      "\u001B[0;32m/var/folders/c6/2j22b1rd02778st12c0mcr3w0000gn/T/ipykernel_83342/3199876072.py\u001B[0m in \u001B[0;36m<module>\u001B[0;34m\u001B[0m\n\u001B[0;32m----> 1\u001B[0;31m \u001B[0mtrain\u001B[0m\u001B[0;34m.\u001B[0m\u001B[0mdrop\u001B[0m\u001B[0;34m(\u001B[0m\u001B[0mvars_to_drop\u001B[0m\u001B[0;34m,\u001B[0m \u001B[0minplace\u001B[0m \u001B[0;34m=\u001B[0m\u001B[0;32mTrue\u001B[0m\u001B[0;34m)\u001B[0m\u001B[0;34m\u001B[0m\u001B[0;34m\u001B[0m\u001B[0m\n\u001B[0m\u001B[1;32m      2\u001B[0m \u001B[0;34m\u001B[0m\u001B[0m\n",
      "\u001B[0;32m~/PycharmProjects/pythonProject/Kaggle/venv/lib/python3.8/site-packages/pandas/util/_decorators.py\u001B[0m in \u001B[0;36mwrapper\u001B[0;34m(*args, **kwargs)\u001B[0m\n\u001B[1;32m    309\u001B[0m                     \u001B[0mstacklevel\u001B[0m\u001B[0;34m=\u001B[0m\u001B[0mstacklevel\u001B[0m\u001B[0;34m,\u001B[0m\u001B[0;34m\u001B[0m\u001B[0;34m\u001B[0m\u001B[0m\n\u001B[1;32m    310\u001B[0m                 )\n\u001B[0;32m--> 311\u001B[0;31m             \u001B[0;32mreturn\u001B[0m \u001B[0mfunc\u001B[0m\u001B[0;34m(\u001B[0m\u001B[0;34m*\u001B[0m\u001B[0margs\u001B[0m\u001B[0;34m,\u001B[0m \u001B[0;34m**\u001B[0m\u001B[0mkwargs\u001B[0m\u001B[0;34m)\u001B[0m\u001B[0;34m\u001B[0m\u001B[0;34m\u001B[0m\u001B[0m\n\u001B[0m\u001B[1;32m    312\u001B[0m \u001B[0;34m\u001B[0m\u001B[0m\n\u001B[1;32m    313\u001B[0m         \u001B[0;32mreturn\u001B[0m \u001B[0mwrapper\u001B[0m\u001B[0;34m\u001B[0m\u001B[0;34m\u001B[0m\u001B[0m\n",
      "\u001B[0;32m~/PycharmProjects/pythonProject/Kaggle/venv/lib/python3.8/site-packages/pandas/core/frame.py\u001B[0m in \u001B[0;36mdrop\u001B[0;34m(self, labels, axis, index, columns, level, inplace, errors)\u001B[0m\n\u001B[1;32m   4904\u001B[0m                 \u001B[0mweight\u001B[0m  \u001B[0;36m1.0\u001B[0m     \u001B[0;36m0.8\u001B[0m\u001B[0;34m\u001B[0m\u001B[0;34m\u001B[0m\u001B[0m\n\u001B[1;32m   4905\u001B[0m         \"\"\"\n\u001B[0;32m-> 4906\u001B[0;31m         return super().drop(\n\u001B[0m\u001B[1;32m   4907\u001B[0m             \u001B[0mlabels\u001B[0m\u001B[0;34m=\u001B[0m\u001B[0mlabels\u001B[0m\u001B[0;34m,\u001B[0m\u001B[0;34m\u001B[0m\u001B[0;34m\u001B[0m\u001B[0m\n\u001B[1;32m   4908\u001B[0m             \u001B[0maxis\u001B[0m\u001B[0;34m=\u001B[0m\u001B[0maxis\u001B[0m\u001B[0;34m,\u001B[0m\u001B[0;34m\u001B[0m\u001B[0;34m\u001B[0m\u001B[0m\n",
      "\u001B[0;32m~/PycharmProjects/pythonProject/Kaggle/venv/lib/python3.8/site-packages/pandas/core/generic.py\u001B[0m in \u001B[0;36mdrop\u001B[0;34m(self, labels, axis, index, columns, level, inplace, errors)\u001B[0m\n\u001B[1;32m   4148\u001B[0m         \u001B[0;32mfor\u001B[0m \u001B[0maxis\u001B[0m\u001B[0;34m,\u001B[0m \u001B[0mlabels\u001B[0m \u001B[0;32min\u001B[0m \u001B[0maxes\u001B[0m\u001B[0;34m.\u001B[0m\u001B[0mitems\u001B[0m\u001B[0;34m(\u001B[0m\u001B[0;34m)\u001B[0m\u001B[0;34m:\u001B[0m\u001B[0;34m\u001B[0m\u001B[0;34m\u001B[0m\u001B[0m\n\u001B[1;32m   4149\u001B[0m             \u001B[0;32mif\u001B[0m \u001B[0mlabels\u001B[0m \u001B[0;32mis\u001B[0m \u001B[0;32mnot\u001B[0m \u001B[0;32mNone\u001B[0m\u001B[0;34m:\u001B[0m\u001B[0;34m\u001B[0m\u001B[0;34m\u001B[0m\u001B[0m\n\u001B[0;32m-> 4150\u001B[0;31m                 \u001B[0mobj\u001B[0m \u001B[0;34m=\u001B[0m \u001B[0mobj\u001B[0m\u001B[0;34m.\u001B[0m\u001B[0m_drop_axis\u001B[0m\u001B[0;34m(\u001B[0m\u001B[0mlabels\u001B[0m\u001B[0;34m,\u001B[0m \u001B[0maxis\u001B[0m\u001B[0;34m,\u001B[0m \u001B[0mlevel\u001B[0m\u001B[0;34m=\u001B[0m\u001B[0mlevel\u001B[0m\u001B[0;34m,\u001B[0m \u001B[0merrors\u001B[0m\u001B[0;34m=\u001B[0m\u001B[0merrors\u001B[0m\u001B[0;34m)\u001B[0m\u001B[0;34m\u001B[0m\u001B[0;34m\u001B[0m\u001B[0m\n\u001B[0m\u001B[1;32m   4151\u001B[0m \u001B[0;34m\u001B[0m\u001B[0m\n\u001B[1;32m   4152\u001B[0m         \u001B[0;32mif\u001B[0m \u001B[0minplace\u001B[0m\u001B[0;34m:\u001B[0m\u001B[0;34m\u001B[0m\u001B[0;34m\u001B[0m\u001B[0m\n",
      "\u001B[0;32m~/PycharmProjects/pythonProject/Kaggle/venv/lib/python3.8/site-packages/pandas/core/generic.py\u001B[0m in \u001B[0;36m_drop_axis\u001B[0;34m(self, labels, axis, level, errors)\u001B[0m\n\u001B[1;32m   4183\u001B[0m                 \u001B[0mnew_axis\u001B[0m \u001B[0;34m=\u001B[0m \u001B[0maxis\u001B[0m\u001B[0;34m.\u001B[0m\u001B[0mdrop\u001B[0m\u001B[0;34m(\u001B[0m\u001B[0mlabels\u001B[0m\u001B[0;34m,\u001B[0m \u001B[0mlevel\u001B[0m\u001B[0;34m=\u001B[0m\u001B[0mlevel\u001B[0m\u001B[0;34m,\u001B[0m \u001B[0merrors\u001B[0m\u001B[0;34m=\u001B[0m\u001B[0merrors\u001B[0m\u001B[0;34m)\u001B[0m\u001B[0;34m\u001B[0m\u001B[0;34m\u001B[0m\u001B[0m\n\u001B[1;32m   4184\u001B[0m             \u001B[0;32melse\u001B[0m\u001B[0;34m:\u001B[0m\u001B[0;34m\u001B[0m\u001B[0;34m\u001B[0m\u001B[0m\n\u001B[0;32m-> 4185\u001B[0;31m                 \u001B[0mnew_axis\u001B[0m \u001B[0;34m=\u001B[0m \u001B[0maxis\u001B[0m\u001B[0;34m.\u001B[0m\u001B[0mdrop\u001B[0m\u001B[0;34m(\u001B[0m\u001B[0mlabels\u001B[0m\u001B[0;34m,\u001B[0m \u001B[0merrors\u001B[0m\u001B[0;34m=\u001B[0m\u001B[0merrors\u001B[0m\u001B[0;34m)\u001B[0m\u001B[0;34m\u001B[0m\u001B[0;34m\u001B[0m\u001B[0m\n\u001B[0m\u001B[1;32m   4186\u001B[0m             \u001B[0mresult\u001B[0m \u001B[0;34m=\u001B[0m \u001B[0mself\u001B[0m\u001B[0;34m.\u001B[0m\u001B[0mreindex\u001B[0m\u001B[0;34m(\u001B[0m\u001B[0;34m**\u001B[0m\u001B[0;34m{\u001B[0m\u001B[0maxis_name\u001B[0m\u001B[0;34m:\u001B[0m \u001B[0mnew_axis\u001B[0m\u001B[0;34m}\u001B[0m\u001B[0;34m)\u001B[0m\u001B[0;34m\u001B[0m\u001B[0;34m\u001B[0m\u001B[0m\n\u001B[1;32m   4187\u001B[0m \u001B[0;34m\u001B[0m\u001B[0m\n",
      "\u001B[0;32m~/PycharmProjects/pythonProject/Kaggle/venv/lib/python3.8/site-packages/pandas/core/indexes/base.py\u001B[0m in \u001B[0;36mdrop\u001B[0;34m(self, labels, errors)\u001B[0m\n\u001B[1;32m   6015\u001B[0m         \u001B[0;32mif\u001B[0m \u001B[0mmask\u001B[0m\u001B[0;34m.\u001B[0m\u001B[0many\u001B[0m\u001B[0;34m(\u001B[0m\u001B[0;34m)\u001B[0m\u001B[0;34m:\u001B[0m\u001B[0;34m\u001B[0m\u001B[0;34m\u001B[0m\u001B[0m\n\u001B[1;32m   6016\u001B[0m             \u001B[0;32mif\u001B[0m \u001B[0merrors\u001B[0m \u001B[0;34m!=\u001B[0m \u001B[0;34m\"ignore\"\u001B[0m\u001B[0;34m:\u001B[0m\u001B[0;34m\u001B[0m\u001B[0;34m\u001B[0m\u001B[0m\n\u001B[0;32m-> 6017\u001B[0;31m                 \u001B[0;32mraise\u001B[0m \u001B[0mKeyError\u001B[0m\u001B[0;34m(\u001B[0m\u001B[0;34mf\"{labels[mask]} not found in axis\"\u001B[0m\u001B[0;34m)\u001B[0m\u001B[0;34m\u001B[0m\u001B[0;34m\u001B[0m\u001B[0m\n\u001B[0m\u001B[1;32m   6018\u001B[0m             \u001B[0mindexer\u001B[0m \u001B[0;34m=\u001B[0m \u001B[0mindexer\u001B[0m\u001B[0;34m[\u001B[0m\u001B[0;34m~\u001B[0m\u001B[0mmask\u001B[0m\u001B[0;34m]\u001B[0m\u001B[0;34m\u001B[0m\u001B[0;34m\u001B[0m\u001B[0m\n\u001B[1;32m   6019\u001B[0m         \u001B[0;32mreturn\u001B[0m \u001B[0mself\u001B[0m\u001B[0;34m.\u001B[0m\u001B[0mdelete\u001B[0m\u001B[0;34m(\u001B[0m\u001B[0mindexer\u001B[0m\u001B[0;34m)\u001B[0m\u001B[0;34m\u001B[0m\u001B[0;34m\u001B[0m\u001B[0m\n",
      "\u001B[0;31mKeyError\u001B[0m: \"['ps_car_03_cat' 'ps_car_05_cat'] not found in axis\""
     ]
    }
   ],
   "source": [
    "train.drop(vars_to_drop, inplace =True)"
   ],
   "metadata": {
    "collapsed": false,
    "pycharm": {
     "name": "#%%\n"
    }
   }
  },
  {
   "cell_type": "code",
   "execution_count": 47,
   "outputs": [
    {
     "data": {
      "text/plain": "Index(['id', 'target', 'ps_ind_01', 'ps_ind_02_cat', 'ps_ind_03',\n       'ps_ind_04_cat', 'ps_ind_05_cat', 'ps_ind_06_bin', 'ps_ind_07_bin',\n       'ps_ind_08_bin', 'ps_ind_09_bin', 'ps_ind_10_bin', 'ps_ind_11_bin',\n       'ps_ind_12_bin', 'ps_ind_13_bin', 'ps_ind_14', 'ps_ind_15',\n       'ps_ind_16_bin', 'ps_ind_17_bin', 'ps_ind_18_bin', 'ps_reg_01',\n       'ps_reg_02', 'ps_reg_03', 'ps_car_01_cat', 'ps_car_02_cat',\n       'ps_car_03_cat', 'ps_car_04_cat', 'ps_car_05_cat', 'ps_car_06_cat',\n       'ps_car_07_cat', 'ps_car_08_cat', 'ps_car_09_cat', 'ps_car_10_cat',\n       'ps_car_11_cat', 'ps_car_11', 'ps_car_12', 'ps_car_13', 'ps_car_14',\n       'ps_car_15', 'ps_calc_01', 'ps_calc_02', 'ps_calc_03', 'ps_calc_04',\n       'ps_calc_05', 'ps_calc_06', 'ps_calc_07', 'ps_calc_08', 'ps_calc_09',\n       'ps_calc_10', 'ps_calc_11', 'ps_calc_12', 'ps_calc_13', 'ps_calc_14',\n       'ps_calc_15_bin', 'ps_calc_16_bin', 'ps_calc_17_bin', 'ps_calc_18_bin',\n       'ps_calc_19_bin', 'ps_calc_20_bin'],\n      dtype='object', name='varname')"
     },
     "execution_count": 47,
     "metadata": {},
     "output_type": "execute_result"
    }
   ],
   "source": [
    "meta.index"
   ],
   "metadata": {
    "collapsed": false,
    "pycharm": {
     "name": "#%%\n"
    }
   }
  },
  {
   "cell_type": "code",
   "execution_count": 48,
   "outputs": [],
   "source": [
    "meta.loc[(vars_to_drop), 'keep'] =False"
   ],
   "metadata": {
    "collapsed": false,
    "pycharm": {
     "name": "#%%\n"
    }
   }
  },
  {
   "cell_type": "code",
   "execution_count": 49,
   "outputs": [],
   "source": [
    "temp_series =train[['ps_car_01_cat', 'ps_car_02_cat','ps_reg_03']].groupby(['ps_car_01_cat','ps_car_02_cat']).mean()"
   ],
   "metadata": {
    "collapsed": false,
    "pycharm": {
     "name": "#%%\n"
    }
   }
  },
  {
   "cell_type": "code",
   "execution_count": 50,
   "outputs": [],
   "source": [
    "import warnings\n",
    "\n",
    "warnings.filterwarnings('ignore')"
   ],
   "metadata": {
    "collapsed": false,
    "pycharm": {
     "name": "#%%\n"
    }
   }
  },
  {
   "cell_type": "code",
   "execution_count": 51,
   "outputs": [],
   "source": [
    "pd.set_option('display.max_columns',100)"
   ],
   "metadata": {
    "collapsed": false,
    "pycharm": {
     "name": "#%%\n"
    }
   }
  },
  {
   "cell_type": "code",
   "execution_count": 51,
   "outputs": [],
   "source": [],
   "metadata": {
    "collapsed": false,
    "pycharm": {
     "name": "#%%\n"
    }
   }
  },
  {
   "cell_type": "code",
   "execution_count": 52,
   "outputs": [],
   "source": [
    "mean_imp = SimpleImputer(missing_values=-1,strategy='mean')"
   ],
   "metadata": {
    "collapsed": false,
    "pycharm": {
     "name": "#%%\n"
    }
   }
  },
  {
   "cell_type": "code",
   "execution_count": 53,
   "outputs": [],
   "source": [
    "mode_imp = SimpleImputer(missing_values=-1,strategy='most_frequent')"
   ],
   "metadata": {
    "collapsed": false,
    "pycharm": {
     "name": "#%%\n"
    }
   }
  },
  {
   "cell_type": "code",
   "execution_count": 54,
   "outputs": [],
   "source": [
    "# 평균값이나 mode로 씌운다\n",
    "\n",
    "train['ps_reg_03'] = mean_imp.fit_transform(train[['ps_reg_03']]).ravel()\n",
    "train['ps_car_12'] = mean_imp.fit_transform(train[['ps_car_12']]).ravel()\n",
    "train['ps_car_14'] = mean_imp.fit_transform(train[['ps_car_14']]).ravel()\n",
    "train['ps_car_11'] = mode_imp.fit_transform(train[['ps_car_11']]).ravel()\n",
    "#temp_series.reset_index(inplace=True )"
   ],
   "metadata": {
    "collapsed": false,
    "pycharm": {
     "name": "#%%\n"
    }
   }
  },
  {
   "cell_type": "code",
   "execution_count": 55,
   "outputs": [],
   "source": [
    "v = meta[(meta.level == 'nominal') & (meta.keep)].index\n",
    "\n"
   ],
   "metadata": {
    "collapsed": false,
    "pycharm": {
     "name": "#%%\n"
    }
   }
  },
  {
   "cell_type": "code",
   "execution_count": 56,
   "outputs": [
    {
     "name": "stdout",
     "output_type": "stream",
     "text": [
      "Variable ps_ind_02_cat has 5 distinct values\n",
      "Variable ps_ind_04_cat has 3 distinct values\n",
      "Variable ps_ind_05_cat has 8 distinct values\n",
      "Variable ps_car_01_cat has 13 distinct values\n",
      "Variable ps_car_02_cat has 2 distinct values\n",
      "Variable ps_car_04_cat has 8 distinct values\n",
      "Variable ps_car_06_cat has 18 distinct values\n",
      "Variable ps_car_07_cat has 3 distinct values\n",
      "Variable ps_car_08_cat has 2 distinct values\n",
      "Variable ps_car_09_cat has 6 distinct values\n",
      "Variable ps_car_10_cat has 3 distinct values\n",
      "Variable ps_car_11_cat has 104 distinct values\n"
     ]
    }
   ],
   "source": [
    "for f in v:\n",
    "    dist_values = train[f].value_counts().shape[0]\n",
    "    print('Variable {} has {} distinct values'.format(f, dist_values))"
   ],
   "metadata": {
    "collapsed": false,
    "pycharm": {
     "name": "#%%\n"
    }
   }
  },
  {
   "cell_type": "code",
   "execution_count": 56,
   "outputs": [],
   "source": [
    "\n"
   ],
   "metadata": {
    "collapsed": false,
    "pycharm": {
     "name": "#%%\n"
    }
   }
  },
  {
   "cell_type": "code",
   "execution_count": 57,
   "outputs": [],
   "source": [
    "#Checking the cardinality of the categoricla variables\n",
    "\n"
   ],
   "metadata": {
    "collapsed": false,
    "pycharm": {
     "name": "#%%\n"
    }
   }
  },
  {
   "cell_type": "code",
   "execution_count": 58,
   "outputs": [],
   "source": [
    "#train.loc[train['ps_reg_03'] == -1].merge(temp_series, on = ['ps_car_01_cat','ps_car_02_cat'],how='#left')"
   ],
   "metadata": {
    "collapsed": false,
    "pycharm": {
     "name": "#%%\n"
    }
   }
  },
  {
   "cell_type": "code",
   "execution_count": 59,
   "outputs": [],
   "source": [
    "\n",
    "#Cardinality refers to the number of diffrent values in a variable\n",
    "# As we will create dummy variables from categorical variables later on ,\n",
    "# We need to check wheter there are variables with many distinct values\n",
    "\n",
    "\n",
    "# cardinality is distinct value count\n",
    "\n",
    "\n",
    "\n",
    "v = meta[(meta.level =='nominal') & (meta.keep)].index"
   ],
   "metadata": {
    "collapsed": false,
    "pycharm": {
     "name": "#%%\n"
    }
   }
  },
  {
   "cell_type": "code",
   "execution_count": 60,
   "outputs": [
    {
     "name": "stdout",
     "output_type": "stream",
     "text": [
      "Variable ps_ind_02_cat has 5 distinct values\n",
      "Variable ps_ind_04_cat has 3 distinct values\n",
      "Variable ps_ind_05_cat has 8 distinct values\n",
      "Variable ps_car_01_cat has 13 distinct values\n",
      "Variable ps_car_02_cat has 2 distinct values\n",
      "Variable ps_car_04_cat has 8 distinct values\n",
      "Variable ps_car_06_cat has 18 distinct values\n",
      "Variable ps_car_07_cat has 3 distinct values\n",
      "Variable ps_car_08_cat has 2 distinct values\n",
      "Variable ps_car_09_cat has 6 distinct values\n",
      "Variable ps_car_10_cat has 3 distinct values\n",
      "Variable ps_car_11_cat has 104 distinct values\n"
     ]
    }
   ],
   "source": [
    "for f in v:\n",
    "    dist_values = train[f].value_counts().shape[0]\n",
    "    print('Variable {} has {} distinct values'.format(f, dist_values))"
   ],
   "metadata": {
    "collapsed": false,
    "pycharm": {
     "name": "#%%\n"
    }
   }
  },
  {
   "cell_type": "code",
   "execution_count": 60,
   "outputs": [],
   "source": [],
   "metadata": {
    "collapsed": false,
    "pycharm": {
     "name": "#%%\n"
    }
   }
  },
  {
   "cell_type": "code",
   "execution_count": 61,
   "outputs": [],
   "source": [
    "# frequency encoding-> (example : 5/9 , 4/9  ) or mean encoding -> (target값에 대한 평균을취함 확률값을 취하는 것처럼 값이 됨 )사용#\n",
    "\n",
    "# 이거 하나하나다 엄청나고중요한거야 시간을 투자했잖아 우선 그 시간만큼을 버리는 게아니라 항상 배울게있다\n",
    "# cardinality ( -> most frequeny data 로 채워준다 imputer 사용하면 좋다\n",
    "# imbalance data -> over sampling under sampling 등의 기법 사용\n",
    "\n",
    "\n"
   ],
   "metadata": {
    "collapsed": false,
    "pycharm": {
     "name": "#%%\n"
    }
   }
  },
  {
   "cell_type": "code",
   "execution_count": 62,
   "outputs": [],
   "source": [
    "# Script by https://www.kaggle.com/ogrellier\n",
    "# Code: https://www.kaggle.com/ogrellier/python-target-encoding-for-categorical-features\n",
    "def add_noise(series, noise_level):\n",
    "    return series * (1 + noise_level * np.random.randn(len(series)))"
   ],
   "metadata": {
    "collapsed": false,
    "pycharm": {
     "name": "#%%\n"
    }
   }
  },
  {
   "cell_type": "code",
   "execution_count": 63,
   "outputs": [],
   "source": [
    "def target_encode(trn_series=None,\n",
    "                  tst_series=None,\n",
    "                  target=None,\n",
    "                  min_samples_leaf=1,\n",
    "                  smoothing=1,\n",
    "                  noise_level=0):\n",
    "\n",
    "    # category 컬럼이름으로 left join 하고 null값을 평균값을 채워서 타겟값을 encoding한다\n",
    "    # encoding 과정에서 평균값과 평균값별 count를 계산하였고\n",
    "    # smoothing 을 적용하고 빈 값을 평균값으로 채우는 함수\n",
    "\n",
    "\n",
    "    assert len(trn_series) == len(target)\n",
    "    assert trn_series.name == tst_series.name\n",
    "    temp = pd.concat([trn_series, target], axis=1)\n",
    "    # Compute target mean\n",
    "    averages = temp.groupby(by=trn_series.name)[target.name].agg([\"mean\", \"count\"])\n",
    "    # Compute smoothing\n",
    "\n",
    "    # 카테고리별 평균값과 통계치를 구한다\n",
    "    smoothing = 1 / (1 + np.exp(-(averages[\"count\"] - min_samples_leaf) / smoothing))\n",
    "    # Apply average function to all target data\n",
    "    prior = target.mean()\n",
    "    # The bigger the count the less full_avg is taken into account\n",
    "    # target 컬럼에 평균값을 적용한다 smoothing 값과 이렇게함으로써\n",
    "    # null 값을 smoothing값으로 채우는 것\n",
    "    # 고유값이 많은지 확인하는 것 많은 더미 변수를 생성하므로 이러한 변수를 나중에 다르게 처리해야하므로\n",
    "    averages[target.name] = prior * (1 - smoothing) + averages[\"mean\"] * smoothing\n",
    "    averages.drop([\"mean\", \"count\"], axis=1, inplace=True)\n",
    "    # Apply averages to trn and tst series\n",
    "\n",
    "    ft_trn_series = pd.merge(\n",
    "        trn_series.to_frame(trn_series.name),\n",
    "        averages.reset_index().rename(columns={'index': target.name, target.name: 'average'}),\n",
    "        on=trn_series.name,\n",
    "        how='left')['average'].rename(trn_series.name + '_mean').fillna(prior)\n",
    "    # pd.merge does not keep the index so restore it\n",
    "\n",
    "    ft_trn_series.index = trn_series.index\n",
    "    ft_tst_series = pd.merge(\n",
    "        tst_series.to_frame(tst_series.name),\n",
    "        averages.reset_index().rename(columns={'index': target.name, target.name: 'average'}),\n",
    "        on=tst_series.name,\n",
    "        how='left')['average'].rename(trn_series.name + '_mean').fillna(prior)\n",
    "    # pd.merge does not keep the index so restore it\n",
    "    ft_tst_series.index = tst_series.index\n",
    "    # add_noise 하여 continous 하게 만드는 것\n",
    "    return add_noise(ft_trn_series, noise_level), add_noise(ft_tst_series, noise_level)"
   ],
   "metadata": {
    "collapsed": false,
    "pycharm": {
     "name": "#%%\n"
    }
   }
  },
  {
   "cell_type": "code",
   "execution_count": 117,
   "outputs": [
    {
     "ename": "NameError",
     "evalue": "name 'ft_trn_series' is not defined",
     "output_type": "error",
     "traceback": [
      "\u001B[0;31m---------------------------------------------------------------------------\u001B[0m",
      "\u001B[0;31mNameError\u001B[0m                                 Traceback (most recent call last)",
      "\u001B[0;32m/var/folders/c6/2j22b1rd02778st12c0mcr3w0000gn/T/ipykernel_83342/1994359139.py\u001B[0m in \u001B[0;36m<module>\u001B[0;34m\u001B[0m\n\u001B[0;32m----> 1\u001B[0;31m \u001B[0mft_trn_series\u001B[0m\u001B[0;34m\u001B[0m\u001B[0;34m\u001B[0m\u001B[0m\n\u001B[0m\u001B[1;32m      2\u001B[0m \u001B[0;34m\u001B[0m\u001B[0m\n\u001B[1;32m      3\u001B[0m \u001B[0;34m\u001B[0m\u001B[0m\n",
      "\u001B[0;31mNameError\u001B[0m: name 'ft_trn_series' is not defined"
     ]
    }
   ],
   "source": [
    "\n"
   ],
   "metadata": {
    "collapsed": false,
    "pycharm": {
     "name": "#%%\n"
    }
   }
  },
  {
   "cell_type": "code",
   "execution_count": null,
   "outputs": [],
   "source": [
    "trn_series = train['ps_car_11_cat']\n",
    "tst_series = test['ps_car_11_cat']\n",
    "target = train.target\n",
    "min_sample_leaf = 100\n",
    "smoothing = 10\n",
    "noise_level = 0.01\n"
   ],
   "metadata": {
    "collapsed": false,
    "pycharm": {
     "name": "#%%\n"
    }
   }
  },
  {
   "cell_type": "code",
   "execution_count": 79,
   "outputs": [],
   "source": [
    "# series 의 column 이 name 이 된다\n",
    "assert len(trn_series) == len(target)\n",
    "assert trn_series.name == tst_series.name\n",
    "temp = pd.concat([trn_series, target] , axis=1)\n"
   ],
   "metadata": {
    "collapsed": false,
    "pycharm": {
     "name": "#%%\n"
    }
   }
  },
  {
   "cell_type": "code",
   "execution_count": 66,
   "outputs": [
    {
     "data": {
      "text/plain": "                   mean  count  max_min\nps_car_11_cat                          \n1              0.173913     23        1\n2              0.263158     19        1\n3              0.062500     16        1\n4              0.100000     10        1\n5              0.111111     63        1\n...                 ...    ...      ...\n100            0.156250     32        1\n101            0.100000     40        1\n102            0.136364     22        1\n103            0.080000    150        1\n104            0.127530    494        1\n\n[104 rows x 3 columns]",
      "text/html": "<div>\n<style scoped>\n    .dataframe tbody tr th:only-of-type {\n        vertical-align: middle;\n    }\n\n    .dataframe tbody tr th {\n        vertical-align: top;\n    }\n\n    .dataframe thead th {\n        text-align: right;\n    }\n</style>\n<table border=\"1\" class=\"dataframe\">\n  <thead>\n    <tr style=\"text-align: right;\">\n      <th></th>\n      <th>mean</th>\n      <th>count</th>\n      <th>max_min</th>\n    </tr>\n    <tr>\n      <th>ps_car_11_cat</th>\n      <th></th>\n      <th></th>\n      <th></th>\n    </tr>\n  </thead>\n  <tbody>\n    <tr>\n      <th>1</th>\n      <td>0.173913</td>\n      <td>23</td>\n      <td>1</td>\n    </tr>\n    <tr>\n      <th>2</th>\n      <td>0.263158</td>\n      <td>19</td>\n      <td>1</td>\n    </tr>\n    <tr>\n      <th>3</th>\n      <td>0.062500</td>\n      <td>16</td>\n      <td>1</td>\n    </tr>\n    <tr>\n      <th>4</th>\n      <td>0.100000</td>\n      <td>10</td>\n      <td>1</td>\n    </tr>\n    <tr>\n      <th>5</th>\n      <td>0.111111</td>\n      <td>63</td>\n      <td>1</td>\n    </tr>\n    <tr>\n      <th>...</th>\n      <td>...</td>\n      <td>...</td>\n      <td>...</td>\n    </tr>\n    <tr>\n      <th>100</th>\n      <td>0.156250</td>\n      <td>32</td>\n      <td>1</td>\n    </tr>\n    <tr>\n      <th>101</th>\n      <td>0.100000</td>\n      <td>40</td>\n      <td>1</td>\n    </tr>\n    <tr>\n      <th>102</th>\n      <td>0.136364</td>\n      <td>22</td>\n      <td>1</td>\n    </tr>\n    <tr>\n      <th>103</th>\n      <td>0.080000</td>\n      <td>150</td>\n      <td>1</td>\n    </tr>\n    <tr>\n      <th>104</th>\n      <td>0.127530</td>\n      <td>494</td>\n      <td>1</td>\n    </tr>\n  </tbody>\n</table>\n<p>104 rows × 3 columns</p>\n</div>"
     },
     "execution_count": 66,
     "metadata": {},
     "output_type": "execute_result"
    }
   ],
   "source": [
    "def max_min(x):\n",
    "    return x.max() - x.min()\n",
    "# category 가 많을 때 중요 카테고리를 가지고 groupby 하여 여러 가지 통계값을 가지고 feature를 만든다 많이 하는 것 .\n",
    "\n",
    "temp.groupby(by=trn_series.name)[target.name].agg(['mean','count',max_min])"
   ],
   "metadata": {
    "collapsed": false,
    "pycharm": {
     "name": "#%%\n"
    }
   }
  },
  {
   "cell_type": "code",
   "execution_count": 101,
   "outputs": [
    {
     "data": {
      "text/plain": "                   mean  count\nps_car_11_cat                 \n1              0.173913     23\n2              0.263158     19\n3              0.062500     16\n4              0.100000     10\n5              0.111111     63\n...                 ...    ...\n100            0.156250     32\n101            0.100000     40\n102            0.136364     22\n103            0.080000    150\n104            0.127530    494\n\n[104 rows x 2 columns]",
      "text/html": "<div>\n<style scoped>\n    .dataframe tbody tr th:only-of-type {\n        vertical-align: middle;\n    }\n\n    .dataframe tbody tr th {\n        vertical-align: top;\n    }\n\n    .dataframe thead th {\n        text-align: right;\n    }\n</style>\n<table border=\"1\" class=\"dataframe\">\n  <thead>\n    <tr style=\"text-align: right;\">\n      <th></th>\n      <th>mean</th>\n      <th>count</th>\n    </tr>\n    <tr>\n      <th>ps_car_11_cat</th>\n      <th></th>\n      <th></th>\n    </tr>\n  </thead>\n  <tbody>\n    <tr>\n      <th>1</th>\n      <td>0.173913</td>\n      <td>23</td>\n    </tr>\n    <tr>\n      <th>2</th>\n      <td>0.263158</td>\n      <td>19</td>\n    </tr>\n    <tr>\n      <th>3</th>\n      <td>0.062500</td>\n      <td>16</td>\n    </tr>\n    <tr>\n      <th>4</th>\n      <td>0.100000</td>\n      <td>10</td>\n    </tr>\n    <tr>\n      <th>5</th>\n      <td>0.111111</td>\n      <td>63</td>\n    </tr>\n    <tr>\n      <th>...</th>\n      <td>...</td>\n      <td>...</td>\n    </tr>\n    <tr>\n      <th>100</th>\n      <td>0.156250</td>\n      <td>32</td>\n    </tr>\n    <tr>\n      <th>101</th>\n      <td>0.100000</td>\n      <td>40</td>\n    </tr>\n    <tr>\n      <th>102</th>\n      <td>0.136364</td>\n      <td>22</td>\n    </tr>\n    <tr>\n      <th>103</th>\n      <td>0.080000</td>\n      <td>150</td>\n    </tr>\n    <tr>\n      <th>104</th>\n      <td>0.127530</td>\n      <td>494</td>\n    </tr>\n  </tbody>\n</table>\n<p>104 rows × 2 columns</p>\n</div>"
     },
     "execution_count": 101,
     "metadata": {},
     "output_type": "execute_result"
    }
   ],
   "source": [],
   "metadata": {
    "collapsed": false,
    "pycharm": {
     "name": "#%%\n"
    }
   }
  },
  {
   "cell_type": "code",
   "execution_count": 86,
   "outputs": [],
   "source": [
    "averages = temp.groupby(by=trn_series.name)[target.name].agg(['mean','count'])\n"
   ],
   "metadata": {
    "collapsed": false,
    "pycharm": {
     "name": "#%%\n"
    }
   }
  },
  {
   "cell_type": "code",
   "execution_count": 92,
   "outputs": [
    {
     "data": {
      "text/plain": "     ps_car_11_cat      mean  count\n0                1  0.173913     23\n1                2  0.263158     19\n2                3  0.062500     16\n3                4  0.100000     10\n4                5  0.111111     63\n..             ...       ...    ...\n99             100  0.156250     32\n100            101  0.100000     40\n101            102  0.136364     22\n102            103  0.080000    150\n103            104  0.127530    494\n\n[104 rows x 3 columns]",
      "text/html": "<div>\n<style scoped>\n    .dataframe tbody tr th:only-of-type {\n        vertical-align: middle;\n    }\n\n    .dataframe tbody tr th {\n        vertical-align: top;\n    }\n\n    .dataframe thead th {\n        text-align: right;\n    }\n</style>\n<table border=\"1\" class=\"dataframe\">\n  <thead>\n    <tr style=\"text-align: right;\">\n      <th></th>\n      <th>ps_car_11_cat</th>\n      <th>mean</th>\n      <th>count</th>\n    </tr>\n  </thead>\n  <tbody>\n    <tr>\n      <th>0</th>\n      <td>1</td>\n      <td>0.173913</td>\n      <td>23</td>\n    </tr>\n    <tr>\n      <th>1</th>\n      <td>2</td>\n      <td>0.263158</td>\n      <td>19</td>\n    </tr>\n    <tr>\n      <th>2</th>\n      <td>3</td>\n      <td>0.062500</td>\n      <td>16</td>\n    </tr>\n    <tr>\n      <th>3</th>\n      <td>4</td>\n      <td>0.100000</td>\n      <td>10</td>\n    </tr>\n    <tr>\n      <th>4</th>\n      <td>5</td>\n      <td>0.111111</td>\n      <td>63</td>\n    </tr>\n    <tr>\n      <th>...</th>\n      <td>...</td>\n      <td>...</td>\n      <td>...</td>\n    </tr>\n    <tr>\n      <th>99</th>\n      <td>100</td>\n      <td>0.156250</td>\n      <td>32</td>\n    </tr>\n    <tr>\n      <th>100</th>\n      <td>101</td>\n      <td>0.100000</td>\n      <td>40</td>\n    </tr>\n    <tr>\n      <th>101</th>\n      <td>102</td>\n      <td>0.136364</td>\n      <td>22</td>\n    </tr>\n    <tr>\n      <th>102</th>\n      <td>103</td>\n      <td>0.080000</td>\n      <td>150</td>\n    </tr>\n    <tr>\n      <th>103</th>\n      <td>104</td>\n      <td>0.127530</td>\n      <td>494</td>\n    </tr>\n  </tbody>\n</table>\n<p>104 rows × 3 columns</p>\n</div>"
     },
     "execution_count": 92,
     "metadata": {},
     "output_type": "execute_result"
    }
   ],
   "source": [
    "averages.reset_index()"
   ],
   "metadata": {
    "collapsed": false,
    "pycharm": {
     "name": "#%%\n"
    }
   }
  },
  {
   "cell_type": "code",
   "execution_count": 93,
   "outputs": [
    {
     "data": {
      "text/plain": "       ps_car_11_cat\n0                 65\n1                103\n2                 29\n3                 40\n4                101\n...              ...\n49995            104\n49996             12\n49997            104\n49998             32\n49999             11\n\n[50000 rows x 1 columns]",
      "text/html": "<div>\n<style scoped>\n    .dataframe tbody tr th:only-of-type {\n        vertical-align: middle;\n    }\n\n    .dataframe tbody tr th {\n        vertical-align: top;\n    }\n\n    .dataframe thead th {\n        text-align: right;\n    }\n</style>\n<table border=\"1\" class=\"dataframe\">\n  <thead>\n    <tr style=\"text-align: right;\">\n      <th></th>\n      <th>ps_car_11_cat</th>\n    </tr>\n  </thead>\n  <tbody>\n    <tr>\n      <th>0</th>\n      <td>65</td>\n    </tr>\n    <tr>\n      <th>1</th>\n      <td>103</td>\n    </tr>\n    <tr>\n      <th>2</th>\n      <td>29</td>\n    </tr>\n    <tr>\n      <th>3</th>\n      <td>40</td>\n    </tr>\n    <tr>\n      <th>4</th>\n      <td>101</td>\n    </tr>\n    <tr>\n      <th>...</th>\n      <td>...</td>\n    </tr>\n    <tr>\n      <th>49995</th>\n      <td>104</td>\n    </tr>\n    <tr>\n      <th>49996</th>\n      <td>12</td>\n    </tr>\n    <tr>\n      <th>49997</th>\n      <td>104</td>\n    </tr>\n    <tr>\n      <th>49998</th>\n      <td>32</td>\n    </tr>\n    <tr>\n      <th>49999</th>\n      <td>11</td>\n    </tr>\n  </tbody>\n</table>\n<p>50000 rows × 1 columns</p>\n</div>"
     },
     "execution_count": 93,
     "metadata": {},
     "output_type": "execute_result"
    }
   ],
   "source": [
    "tst_series.to_frame(tst_series.name)"
   ],
   "metadata": {
    "collapsed": false,
    "pycharm": {
     "name": "#%%\n"
    }
   }
  },
  {
   "cell_type": "code",
   "execution_count": 69,
   "outputs": [],
   "source": [
    "smoothing = 1 / (1 + np.exp(-(averages['count'] - min_sample_leaf) / smoothing))"
   ],
   "metadata": {
    "collapsed": false,
    "pycharm": {
     "name": "#%%\n"
    }
   }
  },
  {
   "cell_type": "code",
   "execution_count": 111,
   "outputs": [
    {
     "data": {
      "text/plain": "                   mean  count\nps_car_11_cat                 \n1              0.173913     23\n2              0.263158     19\n3              0.062500     16\n4              0.100000     10\n5              0.111111     63\n...                 ...    ...\n100            0.156250     32\n101            0.100000     40\n102            0.136364     22\n103            0.080000    150\n104            0.127530    494\n\n[104 rows x 2 columns]",
      "text/html": "<div>\n<style scoped>\n    .dataframe tbody tr th:only-of-type {\n        vertical-align: middle;\n    }\n\n    .dataframe tbody tr th {\n        vertical-align: top;\n    }\n\n    .dataframe thead th {\n        text-align: right;\n    }\n</style>\n<table border=\"1\" class=\"dataframe\">\n  <thead>\n    <tr style=\"text-align: right;\">\n      <th></th>\n      <th>mean</th>\n      <th>count</th>\n    </tr>\n    <tr>\n      <th>ps_car_11_cat</th>\n      <th></th>\n      <th></th>\n    </tr>\n  </thead>\n  <tbody>\n    <tr>\n      <th>1</th>\n      <td>0.173913</td>\n      <td>23</td>\n    </tr>\n    <tr>\n      <th>2</th>\n      <td>0.263158</td>\n      <td>19</td>\n    </tr>\n    <tr>\n      <th>3</th>\n      <td>0.062500</td>\n      <td>16</td>\n    </tr>\n    <tr>\n      <th>4</th>\n      <td>0.100000</td>\n      <td>10</td>\n    </tr>\n    <tr>\n      <th>5</th>\n      <td>0.111111</td>\n      <td>63</td>\n    </tr>\n    <tr>\n      <th>...</th>\n      <td>...</td>\n      <td>...</td>\n    </tr>\n    <tr>\n      <th>100</th>\n      <td>0.156250</td>\n      <td>32</td>\n    </tr>\n    <tr>\n      <th>101</th>\n      <td>0.100000</td>\n      <td>40</td>\n    </tr>\n    <tr>\n      <th>102</th>\n      <td>0.136364</td>\n      <td>22</td>\n    </tr>\n    <tr>\n      <th>103</th>\n      <td>0.080000</td>\n      <td>150</td>\n    </tr>\n    <tr>\n      <th>104</th>\n      <td>0.127530</td>\n      <td>494</td>\n    </tr>\n  </tbody>\n</table>\n<p>104 rows × 2 columns</p>\n</div>"
     },
     "execution_count": 111,
     "metadata": {},
     "output_type": "execute_result"
    }
   ],
   "source": [
    "averages"
   ],
   "metadata": {
    "collapsed": false,
    "pycharm": {
     "name": "#%%\n"
    }
   }
  },
  {
   "cell_type": "code",
   "execution_count": 71,
   "outputs": [],
   "source": [],
   "metadata": {
    "collapsed": false,
    "pycharm": {
     "name": "#%%\n"
    }
   }
  },
  {
   "cell_type": "code",
   "execution_count": null,
   "outputs": [],
   "source": [
    "averages[target.name] = prior * (1 - smoothing) + averages['mean'] * smoothing"
   ],
   "metadata": {
    "collapsed": false,
    "pycharm": {
     "name": "#%%\n"
    }
   }
  },
  {
   "cell_type": "code",
   "execution_count": 72,
   "outputs": [
    {
     "data": {
      "text/plain": "                   mean  count    target\nps_car_11_cat                           \n1              0.173913     23  0.100062\n2              0.263158     19  0.100078\n3              0.062500     16  0.100020\n4              0.100000     10  0.100029\n5              0.111111     63  0.100296\n...                 ...    ...       ...\n100            0.156250     32  0.100091\n101            0.100000     40  0.100029\n102            0.136364     22  0.100044\n103            0.080000    150  0.080134\n104            0.127530    494  0.127530\n\n[104 rows x 3 columns]",
      "text/html": "<div>\n<style scoped>\n    .dataframe tbody tr th:only-of-type {\n        vertical-align: middle;\n    }\n\n    .dataframe tbody tr th {\n        vertical-align: top;\n    }\n\n    .dataframe thead th {\n        text-align: right;\n    }\n</style>\n<table border=\"1\" class=\"dataframe\">\n  <thead>\n    <tr style=\"text-align: right;\">\n      <th></th>\n      <th>mean</th>\n      <th>count</th>\n      <th>target</th>\n    </tr>\n    <tr>\n      <th>ps_car_11_cat</th>\n      <th></th>\n      <th></th>\n      <th></th>\n    </tr>\n  </thead>\n  <tbody>\n    <tr>\n      <th>1</th>\n      <td>0.173913</td>\n      <td>23</td>\n      <td>0.100062</td>\n    </tr>\n    <tr>\n      <th>2</th>\n      <td>0.263158</td>\n      <td>19</td>\n      <td>0.100078</td>\n    </tr>\n    <tr>\n      <th>3</th>\n      <td>0.062500</td>\n      <td>16</td>\n      <td>0.100020</td>\n    </tr>\n    <tr>\n      <th>4</th>\n      <td>0.100000</td>\n      <td>10</td>\n      <td>0.100029</td>\n    </tr>\n    <tr>\n      <th>5</th>\n      <td>0.111111</td>\n      <td>63</td>\n      <td>0.100296</td>\n    </tr>\n    <tr>\n      <th>...</th>\n      <td>...</td>\n      <td>...</td>\n      <td>...</td>\n    </tr>\n    <tr>\n      <th>100</th>\n      <td>0.156250</td>\n      <td>32</td>\n      <td>0.100091</td>\n    </tr>\n    <tr>\n      <th>101</th>\n      <td>0.100000</td>\n      <td>40</td>\n      <td>0.100029</td>\n    </tr>\n    <tr>\n      <th>102</th>\n      <td>0.136364</td>\n      <td>22</td>\n      <td>0.100044</td>\n    </tr>\n    <tr>\n      <th>103</th>\n      <td>0.080000</td>\n      <td>150</td>\n      <td>0.080134</td>\n    </tr>\n    <tr>\n      <th>104</th>\n      <td>0.127530</td>\n      <td>494</td>\n      <td>0.127530</td>\n    </tr>\n  </tbody>\n</table>\n<p>104 rows × 3 columns</p>\n</div>"
     },
     "execution_count": 72,
     "metadata": {},
     "output_type": "execute_result"
    }
   ],
   "source": [
    "averages"
   ],
   "metadata": {
    "collapsed": false,
    "pycharm": {
     "name": "#%%\n"
    }
   }
  },
  {
   "cell_type": "code",
   "execution_count": 76,
   "outputs": [
    {
     "ename": "KeyError",
     "evalue": "\"['mean' 'count'] not found in axis\"",
     "output_type": "error",
     "traceback": [
      "\u001B[0;31m---------------------------------------------------------------------------\u001B[0m",
      "\u001B[0;31mKeyError\u001B[0m                                  Traceback (most recent call last)",
      "\u001B[0;32m/var/folders/c6/2j22b1rd02778st12c0mcr3w0000gn/T/ipykernel_83342/1142838013.py\u001B[0m in \u001B[0;36m<module>\u001B[0;34m\u001B[0m\n\u001B[0;32m----> 1\u001B[0;31m \u001B[0maverages\u001B[0m\u001B[0;34m.\u001B[0m\u001B[0mdrop\u001B[0m\u001B[0;34m(\u001B[0m\u001B[0;34m[\u001B[0m\u001B[0;34m'mean'\u001B[0m\u001B[0;34m,\u001B[0m\u001B[0;34m'count'\u001B[0m\u001B[0;34m]\u001B[0m\u001B[0;34m,\u001B[0m\u001B[0maxis\u001B[0m\u001B[0;34m=\u001B[0m\u001B[0;36m1\u001B[0m\u001B[0;34m,\u001B[0m\u001B[0minplace\u001B[0m\u001B[0;34m=\u001B[0m\u001B[0;32mTrue\u001B[0m\u001B[0;34m)\u001B[0m\u001B[0;34m\u001B[0m\u001B[0;34m\u001B[0m\u001B[0m\n\u001B[0m\u001B[1;32m      2\u001B[0m \u001B[0;34m\u001B[0m\u001B[0m\n\u001B[1;32m      3\u001B[0m pd.merge(trn_series.to_frame(trn_series.name),\n\u001B[1;32m      4\u001B[0m          averages.reset_index().rename(columns={'index' : target.name, target.name: 'average'\n\u001B[1;32m      5\u001B[0m        })      , on = trn_series.name, how= 'left')['average'].rename(trn_series.name +'_mean').fillna(prior)\n",
      "\u001B[0;32m~/PycharmProjects/pythonProject/Kaggle/venv/lib/python3.8/site-packages/pandas/util/_decorators.py\u001B[0m in \u001B[0;36mwrapper\u001B[0;34m(*args, **kwargs)\u001B[0m\n\u001B[1;32m    309\u001B[0m                     \u001B[0mstacklevel\u001B[0m\u001B[0;34m=\u001B[0m\u001B[0mstacklevel\u001B[0m\u001B[0;34m,\u001B[0m\u001B[0;34m\u001B[0m\u001B[0;34m\u001B[0m\u001B[0m\n\u001B[1;32m    310\u001B[0m                 )\n\u001B[0;32m--> 311\u001B[0;31m             \u001B[0;32mreturn\u001B[0m \u001B[0mfunc\u001B[0m\u001B[0;34m(\u001B[0m\u001B[0;34m*\u001B[0m\u001B[0margs\u001B[0m\u001B[0;34m,\u001B[0m \u001B[0;34m**\u001B[0m\u001B[0mkwargs\u001B[0m\u001B[0;34m)\u001B[0m\u001B[0;34m\u001B[0m\u001B[0;34m\u001B[0m\u001B[0m\n\u001B[0m\u001B[1;32m    312\u001B[0m \u001B[0;34m\u001B[0m\u001B[0m\n\u001B[1;32m    313\u001B[0m         \u001B[0;32mreturn\u001B[0m \u001B[0mwrapper\u001B[0m\u001B[0;34m\u001B[0m\u001B[0;34m\u001B[0m\u001B[0m\n",
      "\u001B[0;32m~/PycharmProjects/pythonProject/Kaggle/venv/lib/python3.8/site-packages/pandas/core/frame.py\u001B[0m in \u001B[0;36mdrop\u001B[0;34m(self, labels, axis, index, columns, level, inplace, errors)\u001B[0m\n\u001B[1;32m   4904\u001B[0m                 \u001B[0mweight\u001B[0m  \u001B[0;36m1.0\u001B[0m     \u001B[0;36m0.8\u001B[0m\u001B[0;34m\u001B[0m\u001B[0;34m\u001B[0m\u001B[0m\n\u001B[1;32m   4905\u001B[0m         \"\"\"\n\u001B[0;32m-> 4906\u001B[0;31m         return super().drop(\n\u001B[0m\u001B[1;32m   4907\u001B[0m             \u001B[0mlabels\u001B[0m\u001B[0;34m=\u001B[0m\u001B[0mlabels\u001B[0m\u001B[0;34m,\u001B[0m\u001B[0;34m\u001B[0m\u001B[0;34m\u001B[0m\u001B[0m\n\u001B[1;32m   4908\u001B[0m             \u001B[0maxis\u001B[0m\u001B[0;34m=\u001B[0m\u001B[0maxis\u001B[0m\u001B[0;34m,\u001B[0m\u001B[0;34m\u001B[0m\u001B[0;34m\u001B[0m\u001B[0m\n",
      "\u001B[0;32m~/PycharmProjects/pythonProject/Kaggle/venv/lib/python3.8/site-packages/pandas/core/generic.py\u001B[0m in \u001B[0;36mdrop\u001B[0;34m(self, labels, axis, index, columns, level, inplace, errors)\u001B[0m\n\u001B[1;32m   4148\u001B[0m         \u001B[0;32mfor\u001B[0m \u001B[0maxis\u001B[0m\u001B[0;34m,\u001B[0m \u001B[0mlabels\u001B[0m \u001B[0;32min\u001B[0m \u001B[0maxes\u001B[0m\u001B[0;34m.\u001B[0m\u001B[0mitems\u001B[0m\u001B[0;34m(\u001B[0m\u001B[0;34m)\u001B[0m\u001B[0;34m:\u001B[0m\u001B[0;34m\u001B[0m\u001B[0;34m\u001B[0m\u001B[0m\n\u001B[1;32m   4149\u001B[0m             \u001B[0;32mif\u001B[0m \u001B[0mlabels\u001B[0m \u001B[0;32mis\u001B[0m \u001B[0;32mnot\u001B[0m \u001B[0;32mNone\u001B[0m\u001B[0;34m:\u001B[0m\u001B[0;34m\u001B[0m\u001B[0;34m\u001B[0m\u001B[0m\n\u001B[0;32m-> 4150\u001B[0;31m                 \u001B[0mobj\u001B[0m \u001B[0;34m=\u001B[0m \u001B[0mobj\u001B[0m\u001B[0;34m.\u001B[0m\u001B[0m_drop_axis\u001B[0m\u001B[0;34m(\u001B[0m\u001B[0mlabels\u001B[0m\u001B[0;34m,\u001B[0m \u001B[0maxis\u001B[0m\u001B[0;34m,\u001B[0m \u001B[0mlevel\u001B[0m\u001B[0;34m=\u001B[0m\u001B[0mlevel\u001B[0m\u001B[0;34m,\u001B[0m \u001B[0merrors\u001B[0m\u001B[0;34m=\u001B[0m\u001B[0merrors\u001B[0m\u001B[0;34m)\u001B[0m\u001B[0;34m\u001B[0m\u001B[0;34m\u001B[0m\u001B[0m\n\u001B[0m\u001B[1;32m   4151\u001B[0m \u001B[0;34m\u001B[0m\u001B[0m\n\u001B[1;32m   4152\u001B[0m         \u001B[0;32mif\u001B[0m \u001B[0minplace\u001B[0m\u001B[0;34m:\u001B[0m\u001B[0;34m\u001B[0m\u001B[0;34m\u001B[0m\u001B[0m\n",
      "\u001B[0;32m~/PycharmProjects/pythonProject/Kaggle/venv/lib/python3.8/site-packages/pandas/core/generic.py\u001B[0m in \u001B[0;36m_drop_axis\u001B[0;34m(self, labels, axis, level, errors)\u001B[0m\n\u001B[1;32m   4183\u001B[0m                 \u001B[0mnew_axis\u001B[0m \u001B[0;34m=\u001B[0m \u001B[0maxis\u001B[0m\u001B[0;34m.\u001B[0m\u001B[0mdrop\u001B[0m\u001B[0;34m(\u001B[0m\u001B[0mlabels\u001B[0m\u001B[0;34m,\u001B[0m \u001B[0mlevel\u001B[0m\u001B[0;34m=\u001B[0m\u001B[0mlevel\u001B[0m\u001B[0;34m,\u001B[0m \u001B[0merrors\u001B[0m\u001B[0;34m=\u001B[0m\u001B[0merrors\u001B[0m\u001B[0;34m)\u001B[0m\u001B[0;34m\u001B[0m\u001B[0;34m\u001B[0m\u001B[0m\n\u001B[1;32m   4184\u001B[0m             \u001B[0;32melse\u001B[0m\u001B[0;34m:\u001B[0m\u001B[0;34m\u001B[0m\u001B[0;34m\u001B[0m\u001B[0m\n\u001B[0;32m-> 4185\u001B[0;31m                 \u001B[0mnew_axis\u001B[0m \u001B[0;34m=\u001B[0m \u001B[0maxis\u001B[0m\u001B[0;34m.\u001B[0m\u001B[0mdrop\u001B[0m\u001B[0;34m(\u001B[0m\u001B[0mlabels\u001B[0m\u001B[0;34m,\u001B[0m \u001B[0merrors\u001B[0m\u001B[0;34m=\u001B[0m\u001B[0merrors\u001B[0m\u001B[0;34m)\u001B[0m\u001B[0;34m\u001B[0m\u001B[0;34m\u001B[0m\u001B[0m\n\u001B[0m\u001B[1;32m   4186\u001B[0m             \u001B[0mresult\u001B[0m \u001B[0;34m=\u001B[0m \u001B[0mself\u001B[0m\u001B[0;34m.\u001B[0m\u001B[0mreindex\u001B[0m\u001B[0;34m(\u001B[0m\u001B[0;34m**\u001B[0m\u001B[0;34m{\u001B[0m\u001B[0maxis_name\u001B[0m\u001B[0;34m:\u001B[0m \u001B[0mnew_axis\u001B[0m\u001B[0;34m}\u001B[0m\u001B[0;34m)\u001B[0m\u001B[0;34m\u001B[0m\u001B[0;34m\u001B[0m\u001B[0m\n\u001B[1;32m   4187\u001B[0m \u001B[0;34m\u001B[0m\u001B[0m\n",
      "\u001B[0;32m~/PycharmProjects/pythonProject/Kaggle/venv/lib/python3.8/site-packages/pandas/core/indexes/base.py\u001B[0m in \u001B[0;36mdrop\u001B[0;34m(self, labels, errors)\u001B[0m\n\u001B[1;32m   6015\u001B[0m         \u001B[0;32mif\u001B[0m \u001B[0mmask\u001B[0m\u001B[0;34m.\u001B[0m\u001B[0many\u001B[0m\u001B[0;34m(\u001B[0m\u001B[0;34m)\u001B[0m\u001B[0;34m:\u001B[0m\u001B[0;34m\u001B[0m\u001B[0;34m\u001B[0m\u001B[0m\n\u001B[1;32m   6016\u001B[0m             \u001B[0;32mif\u001B[0m \u001B[0merrors\u001B[0m \u001B[0;34m!=\u001B[0m \u001B[0;34m\"ignore\"\u001B[0m\u001B[0;34m:\u001B[0m\u001B[0;34m\u001B[0m\u001B[0;34m\u001B[0m\u001B[0m\n\u001B[0;32m-> 6017\u001B[0;31m                 \u001B[0;32mraise\u001B[0m \u001B[0mKeyError\u001B[0m\u001B[0;34m(\u001B[0m\u001B[0;34mf\"{labels[mask]} not found in axis\"\u001B[0m\u001B[0;34m)\u001B[0m\u001B[0;34m\u001B[0m\u001B[0;34m\u001B[0m\u001B[0m\n\u001B[0m\u001B[1;32m   6018\u001B[0m             \u001B[0mindexer\u001B[0m \u001B[0;34m=\u001B[0m \u001B[0mindexer\u001B[0m\u001B[0;34m[\u001B[0m\u001B[0;34m~\u001B[0m\u001B[0mmask\u001B[0m\u001B[0;34m]\u001B[0m\u001B[0;34m\u001B[0m\u001B[0;34m\u001B[0m\u001B[0m\n\u001B[1;32m   6019\u001B[0m         \u001B[0;32mreturn\u001B[0m \u001B[0mself\u001B[0m\u001B[0;34m.\u001B[0m\u001B[0mdelete\u001B[0m\u001B[0;34m(\u001B[0m\u001B[0mindexer\u001B[0m\u001B[0;34m)\u001B[0m\u001B[0;34m\u001B[0m\u001B[0;34m\u001B[0m\u001B[0m\n",
      "\u001B[0;31mKeyError\u001B[0m: \"['mean' 'count'] not found in axis\""
     ]
    }
   ],
   "source": [
    "averages.drop(['mean','count'],axis=1,inplace=True)\n",
    "\n",
    "pd.merge(trn_series.to_frame(trn_series.name),\n",
    "         averages.reset_index().rename(columns={'index' : target.name, target.name: 'average'\n",
    "       })      , on = trn_series.name, how= 'left')['average'].rename(trn_series.name +'_mean').fillna(prior)"
   ],
   "metadata": {
    "collapsed": false,
    "pycharm": {
     "name": "#%%\n"
    }
   }
  },
  {
   "cell_type": "code",
   "execution_count": 78,
   "outputs": [
    {
     "ename": "NameError",
     "evalue": "name 'ft_trn_series' is not defined",
     "output_type": "error",
     "traceback": [
      "\u001B[0;31m---------------------------------------------------------------------------\u001B[0m",
      "\u001B[0;31mNameError\u001B[0m                                 Traceback (most recent call last)",
      "\u001B[0;32m/var/folders/c6/2j22b1rd02778st12c0mcr3w0000gn/T/ipykernel_83342/4023271802.py\u001B[0m in \u001B[0;36m<module>\u001B[0;34m\u001B[0m\n\u001B[0;32m----> 1\u001B[0;31m \u001B[0mft_trn_series\u001B[0m\u001B[0;34m\u001B[0m\u001B[0;34m\u001B[0m\u001B[0m\n\u001B[0m",
      "\u001B[0;31mNameError\u001B[0m: name 'ft_trn_series' is not defined"
     ]
    }
   ],
   "source": [],
   "metadata": {
    "collapsed": false,
    "pycharm": {
     "name": "#%%\n"
    }
   }
  },
  {
   "cell_type": "code",
   "execution_count": null,
   "outputs": [],
   "source": [
    "# pd.merge does not keep the index so restore it\n",
    "\n",
    "\n",
    "ft_tst_series =pd.merge(tst_series.to_frame(tst_series.name)  ,\n",
    "                        averages.reset_index().rename(columns={'index' : target.name , target.name : 'average'}),\n",
    "                        on = tst_series.name,\n",
    "                        how='left')['average'].rename(trn_series.name + '_mean').fillna(prior)\n",
    "                        #pd.merge does not keep the index so restore it\n",
    "ft_tst_series.index = tst_series.index\n",
    "return add_noise(ft_trn_series, noise_level), add_noise(ft_tst_series, noise_level)\n"
   ],
   "metadata": {
    "collapsed": false,
    "pycharm": {
     "name": "#%%\n"
    }
   }
  },
  {
   "cell_type": "code",
   "execution_count": null,
   "outputs": [],
   "source": [],
   "metadata": {
    "collapsed": false,
    "pycharm": {
     "name": "#%%\n"
    }
   }
  },
  {
   "cell_type": "code",
   "execution_count": null,
   "outputs": [],
   "source": [
    "trn_series"
   ],
   "metadata": {
    "collapsed": false,
    "pycharm": {
     "name": "#%%\n"
    }
   }
  },
  {
   "cell_type": "code",
   "execution_count": null,
   "outputs": [],
   "source": [
    "\n"
   ],
   "metadata": {
    "collapsed": false,
    "pycharm": {
     "name": "#%%\n"
    }
   }
  },
  {
   "cell_type": "code",
   "execution_count": null,
   "outputs": [],
   "source": [
    "#%5\n",
    "trn_series.to_frame(trn_series.name), averages.reset_index()"
   ],
   "metadata": {
    "collapsed": false,
    "pycharm": {
     "name": "#%%\n"
    }
   }
  },
  {
   "cell_type": "code",
   "execution_count": 113,
   "outputs": [],
   "source": [
    "\n",
    "train_encoded, test_encoded = target_encode(train[\"ps_car_11_cat\"],\n",
    "                             test[\"ps_car_11_cat\"],\n",
    "                             target=train.target,\n",
    "                             min_samples_leaf=100,\n",
    "                             smoothing=10,\n",
    "                             noise_level=0.01)"
   ],
   "metadata": {
    "collapsed": false,
    "pycharm": {
     "name": "#%%\n"
    }
   }
  },
  {
   "cell_type": "code",
   "execution_count": 114,
   "outputs": [],
   "source": [
    "train['ps_car_11_cat_te'] = train_encoded"
   ],
   "metadata": {
    "collapsed": false,
    "pycharm": {
     "name": "#%%\n"
    }
   }
  },
  {
   "cell_type": "code",
   "execution_count": 115,
   "outputs": [],
   "source": [
    "train.drop('ps_car_11_cat', axis=1, inplace=True)"
   ],
   "metadata": {
    "collapsed": false,
    "pycharm": {
     "name": "#%%\n"
    }
   }
  },
  {
   "cell_type": "code",
   "execution_count": 116,
   "outputs": [],
   "source": [
    "meta.loc['ps_car_c11_cat', 'keep']= False"
   ],
   "metadata": {
    "collapsed": false,
    "pycharm": {
     "name": "#%%\n"
    }
   }
  },
  {
   "cell_type": "code",
   "execution_count": 117,
   "outputs": [],
   "source": [
    "test['ps_car_11_cat_te'] = test_encoded"
   ],
   "metadata": {
    "collapsed": false,
    "pycharm": {
     "name": "#%%\n"
    }
   }
  },
  {
   "cell_type": "code",
   "execution_count": 118,
   "outputs": [],
   "source": [
    "test.drop('ps_car_11_cat', axis=1 , inplace=True)"
   ],
   "metadata": {
    "collapsed": false,
    "pycharm": {
     "name": "#%%\n"
    }
   }
  },
  {
   "cell_type": "code",
   "execution_count": 120,
   "outputs": [],
   "source": [
    "#Exploratory Data Visualization\n",
    "\n",
    "# Categorical variables\n",
    "#\n",
    "\n",
    "v= meta[(meta.level== 'nominal') &(meta.keep)].index"
   ],
   "metadata": {
    "collapsed": false,
    "pycharm": {
     "name": "#%%\n"
    }
   }
  },
  {
   "cell_type": "code",
   "execution_count": 121,
   "outputs": [],
   "source": [
    "for f in v:\n",
    "    break"
   ],
   "metadata": {
    "collapsed": false,
    "pycharm": {
     "name": "#%%\n"
    }
   }
  },
  {
   "cell_type": "code",
   "execution_count": 124,
   "outputs": [
    {
     "ename": "AttributeError",
     "evalue": "'DataFrame' object has no attribute 'sort_valeus'",
     "output_type": "error",
     "traceback": [
      "\u001B[1;31m---------------------------------------------------------------------------\u001B[0m",
      "\u001B[1;31mAttributeError\u001B[0m                            Traceback (most recent call last)",
      "\u001B[1;32m~\\AppData\\Local\\Temp/ipykernel_45076/3369383641.py\u001B[0m in \u001B[0;36m<module>\u001B[1;34m\u001B[0m\n\u001B[0;32m      6\u001B[0m \u001B[1;31m# index로는 하지 않겠다\u001B[0m\u001B[1;33m\u001B[0m\u001B[1;33m\u001B[0m\u001B[1;33m\u001B[0m\u001B[0m\n\u001B[0;32m      7\u001B[0m \u001B[0mcat_perc\u001B[0m \u001B[1;33m=\u001B[0m \u001B[0mtrain\u001B[0m\u001B[1;33m[\u001B[0m\u001B[1;33m[\u001B[0m\u001B[0mf\u001B[0m\u001B[1;33m,\u001B[0m\u001B[1;34m'target'\u001B[0m\u001B[1;33m]\u001B[0m\u001B[1;33m]\u001B[0m\u001B[1;33m.\u001B[0m\u001B[0mgroupby\u001B[0m\u001B[1;33m(\u001B[0m\u001B[1;33m[\u001B[0m\u001B[0mf\u001B[0m\u001B[1;33m]\u001B[0m\u001B[1;33m,\u001B[0m\u001B[0mas_index\u001B[0m \u001B[1;33m=\u001B[0m\u001B[1;32mFalse\u001B[0m \u001B[1;33m)\u001B[0m\u001B[1;33m.\u001B[0m\u001B[0mmean\u001B[0m\u001B[1;33m(\u001B[0m\u001B[1;33m)\u001B[0m\u001B[1;33m\u001B[0m\u001B[1;33m\u001B[0m\u001B[0m\n\u001B[1;32m----> 8\u001B[1;33m \u001B[0mcat_perc\u001B[0m\u001B[1;33m.\u001B[0m\u001B[0msort_valeus\u001B[0m\u001B[1;33m(\u001B[0m\u001B[0mby\u001B[0m\u001B[1;33m=\u001B[0m\u001B[1;34m'target'\u001B[0m\u001B[1;33m,\u001B[0m \u001B[0mascending\u001B[0m\u001B[1;33m=\u001B[0m\u001B[1;32mFalse\u001B[0m \u001B[1;33m,\u001B[0m \u001B[0minplace\u001B[0m \u001B[1;33m=\u001B[0m\u001B[1;32mTrue\u001B[0m\u001B[1;33m)\u001B[0m\u001B[1;33m\u001B[0m\u001B[1;33m\u001B[0m\u001B[0m\n\u001B[0m\u001B[0;32m      9\u001B[0m \u001B[1;33m\u001B[0m\u001B[0m\n",
      "\u001B[1;32mc:\\users\\tjdal\\pycharmprojects\\kaggle\\venv\\lib\\site-packages\\pandas\\core\\generic.py\u001B[0m in \u001B[0;36m__getattr__\u001B[1;34m(self, name)\u001B[0m\n\u001B[0;32m   5476\u001B[0m         ):\n\u001B[0;32m   5477\u001B[0m             \u001B[1;32mreturn\u001B[0m \u001B[0mself\u001B[0m\u001B[1;33m[\u001B[0m\u001B[0mname\u001B[0m\u001B[1;33m]\u001B[0m\u001B[1;33m\u001B[0m\u001B[1;33m\u001B[0m\u001B[0m\n\u001B[1;32m-> 5478\u001B[1;33m         \u001B[1;32mreturn\u001B[0m \u001B[0mobject\u001B[0m\u001B[1;33m.\u001B[0m\u001B[0m__getattribute__\u001B[0m\u001B[1;33m(\u001B[0m\u001B[0mself\u001B[0m\u001B[1;33m,\u001B[0m \u001B[0mname\u001B[0m\u001B[1;33m)\u001B[0m\u001B[1;33m\u001B[0m\u001B[1;33m\u001B[0m\u001B[0m\n\u001B[0m\u001B[0;32m   5479\u001B[0m \u001B[1;33m\u001B[0m\u001B[0m\n\u001B[0;32m   5480\u001B[0m     \u001B[1;32mdef\u001B[0m \u001B[0m__setattr__\u001B[0m\u001B[1;33m(\u001B[0m\u001B[0mself\u001B[0m\u001B[1;33m,\u001B[0m \u001B[0mname\u001B[0m\u001B[1;33m:\u001B[0m \u001B[0mstr\u001B[0m\u001B[1;33m,\u001B[0m \u001B[0mvalue\u001B[0m\u001B[1;33m)\u001B[0m \u001B[1;33m->\u001B[0m \u001B[1;32mNone\u001B[0m\u001B[1;33m:\u001B[0m\u001B[1;33m\u001B[0m\u001B[1;33m\u001B[0m\u001B[0m\n",
      "\u001B[1;31mAttributeError\u001B[0m: 'DataFrame' object has no attribute 'sort_valeus'"
     ]
    },
    {
     "data": {
      "text/plain": "<Figure size 432x288 with 0 Axes>"
     },
     "metadata": {},
     "output_type": "display_data"
    },
    {
     "data": {
      "text/plain": "<Figure size 1440x720 with 1 Axes>",
      "image/png": "[encoded data removed]"
     },
     "metadata": {
      "needs_background": "light"
     },
     "output_type": "display_data"
    }
   ],
   "source": [
    "sns.set(font_scale=2)"
   ],
   "metadata": {
    "collapsed": false,
    "pycharm": {
     "name": "#%%\n"
    }
   }
  },
  {
   "cell_type": "code",
   "execution_count": 126,
   "outputs": [
    {
     "data": {
      "text/plain": "<Figure size 432x288 with 0 Axes>"
     },
     "metadata": {},
     "output_type": "display_data"
    },
    {
     "data": {
      "text/plain": "<Figure size 1440x720 with 1 Axes>",
      "image/png": "[encoded data removed]"
     },
     "metadata": {
      "needs_background": "light"
     },
     "output_type": "display_data"
    }
   ],
   "source": [],
   "metadata": {
    "collapsed": false,
    "pycharm": {
     "name": "#%%\n"
    }
   }
  },
  {
   "cell_type": "code",
   "execution_count": 122,
   "outputs": [
    {
     "data": {
      "text/plain": "    ps_car_11_cat    target\n19             20  0.500000\n60             61  0.473684\n34             35  0.285714\n62             63  0.285714\n55             56  0.272727\n..            ...       ...\n65             66  0.000000\n68             69  0.000000\n23             24  0.000000\n72             73  0.000000\n52             53  0.000000\n\n[104 rows x 2 columns]",
      "text/html": "<div>\n<style scoped>\n    .dataframe tbody tr th:only-of-type {\n        vertical-align: middle;\n    }\n\n    .dataframe tbody tr th {\n        vertical-align: top;\n    }\n\n    .dataframe thead th {\n        text-align: right;\n    }\n</style>\n<table border=\"1\" class=\"dataframe\">\n  <thead>\n    <tr style=\"text-align: right;\">\n      <th></th>\n      <th>ps_car_11_cat</th>\n      <th>target</th>\n    </tr>\n  </thead>\n  <tbody>\n    <tr>\n      <th>19</th>\n      <td>20</td>\n      <td>0.500000</td>\n    </tr>\n    <tr>\n      <th>60</th>\n      <td>61</td>\n      <td>0.473684</td>\n    </tr>\n    <tr>\n      <th>34</th>\n      <td>35</td>\n      <td>0.285714</td>\n    </tr>\n    <tr>\n      <th>62</th>\n      <td>63</td>\n      <td>0.285714</td>\n    </tr>\n    <tr>\n      <th>55</th>\n      <td>56</td>\n      <td>0.272727</td>\n    </tr>\n    <tr>\n      <th>...</th>\n      <td>...</td>\n      <td>...</td>\n    </tr>\n    <tr>\n      <th>65</th>\n      <td>66</td>\n      <td>0.000000</td>\n    </tr>\n    <tr>\n      <th>68</th>\n      <td>69</td>\n      <td>0.000000</td>\n    </tr>\n    <tr>\n      <th>23</th>\n      <td>24</td>\n      <td>0.000000</td>\n    </tr>\n    <tr>\n      <th>72</th>\n      <td>73</td>\n      <td>0.000000</td>\n    </tr>\n    <tr>\n      <th>52</th>\n      <td>53</td>\n      <td>0.000000</td>\n    </tr>\n  </tbody>\n</table>\n<p>104 rows × 2 columns</p>\n</div>"
     },
     "execution_count": 122,
     "metadata": {},
     "output_type": "execute_result"
    }
   ],
   "source": [
    "cat_perc"
   ],
   "metadata": {
    "collapsed": false,
    "pycharm": {
     "name": "#%%\n"
    }
   }
  },
  {
   "cell_type": "code",
   "execution_count": 120,
   "outputs": [
    {
     "data": {
      "text/plain": "Index(['ps_ind_02_cat', 'ps_ind_04_cat', 'ps_ind_05_cat', 'ps_car_01_cat',\n       'ps_car_02_cat', 'ps_car_04_cat', 'ps_car_06_cat', 'ps_car_07_cat',\n       'ps_car_08_cat', 'ps_car_09_cat', 'ps_car_10_cat', 'ps_car_11_cat'],\n      dtype='object', name='varname')"
     },
     "execution_count": 120,
     "metadata": {},
     "output_type": "execute_result"
    }
   ],
   "source": [
    "v"
   ],
   "metadata": {
    "collapsed": false,
    "pycharm": {
     "name": "#%%\n"
    }
   }
  },
  {
   "cell_type": "code",
   "execution_count": null,
   "outputs": [],
   "source": [
    "# 보험청구를 하지 않는다는것\n",
    "sns.set(font_scale=2)\n",
    "for f in v:\n",
    "    plt.figure()\n",
    "    fig, ax = plt.subplots(figsize=(20,10))\n",
    "    # Calculate the percentage of target=1 per category value\n",
    "    # index로는 하지 않겠다\n",
    "\n",
    "    cat_perc = train[[f, 'target']].groupby([f],as_index=False).mean().agg(['mean','count'])\n",
    "    cat_perc.sort_values(by='target', ascending=False, inplace=True)\n",
    "    # Bar plot\n",
    "    # Order the bars descending on target mean\n",
    "    sns.barplot(ax=ax, x=f, y='target', data=cat_perc, order=cat_perc[f])\n",
    "    # fontsize를 고정 시키면 캔버스가 작아질수 있다\n",
    "    plt.ylabel('% target', fontsize=18)\n",
    "    plt.xlabel(f, fontsize=18)\n",
    "    plt.tick_params(axis='both', which='major', labelsize=18)\n",
    "    plt.show();"
   ],
   "metadata": {
    "collapsed": false,
    "pycharm": {
     "name": "#%%\n"
    }
   }
  },
  {
   "cell_type": "code",
   "execution_count": 123,
   "outputs": [
    {
     "ename": "NameError",
     "evalue": "name 'trian' is not defined",
     "output_type": "error",
     "traceback": [
      "\u001B[0;31m---------------------------------------------------------------------------\u001B[0m",
      "\u001B[0;31mNameError\u001B[0m                                 Traceback (most recent call last)",
      "\u001B[0;32m/var/folders/c6/2j22b1rd02778st12c0mcr3w0000gn/T/ipykernel_83342/460048433.py\u001B[0m in \u001B[0;36m<module>\u001B[0;34m\u001B[0m\n\u001B[0;32m----> 1\u001B[0;31m \u001B[0mcat_perc\u001B[0m \u001B[0;34m=\u001B[0m \u001B[0mtrian\u001B[0m\u001B[0;34m[\u001B[0m\u001B[0;34m[\u001B[0m\u001B[0mf\u001B[0m\u001B[0;34m,\u001B[0m\u001B[0;34m'target'\u001B[0m\u001B[0;34m]\u001B[0m\u001B[0;34m]\u001B[0m\u001B[0;34m.\u001B[0m\u001B[0mgroupby\u001B[0m\u001B[0;34m(\u001B[0m\u001B[0;34m[\u001B[0m\u001B[0mf\u001B[0m\u001B[0;34m]\u001B[0m\u001B[0;34m,\u001B[0m\u001B[0mas_index\u001B[0m\u001B[0;34m=\u001B[0m\u001B[0;32mFalse\u001B[0m\u001B[0;34m)\u001B[0m\u001B[0;34m\u001B[0m\u001B[0;34m\u001B[0m\u001B[0m\n\u001B[0m",
      "\u001B[0;31mNameError\u001B[0m: name 'trian' is not defined"
     ]
    }
   ],
   "source": [
    "f = ps_ind_04_cat"
   ],
   "metadata": {
    "collapsed": false,
    "pycharm": {
     "name": "#%%\n"
    }
   }
  },
  {
   "cell_type": "code",
   "execution_count": null,
   "outputs": [],
   "source": [
    "cat_perc = trian[[f,'target']].groupby([f],as_index=False)"
   ],
   "metadata": {
    "collapsed": false,
    "pycharm": {
     "name": "#%%\n"
    }
   }
  },
  {
   "cell_type": "code",
   "execution_count": null,
   "outputs": [],
   "source": [
    "# 확률 확인할때는 count 확인할 것\n",
    "\n",
    "# eda 귀찮아서 참고하는 경우 많아서 커널 메달 받기 좋다\n"
   ],
   "metadata": {
    "collapsed": false,
    "pycharm": {
     "name": "#%%\n"
    }
   }
  },
  {
   "cell_type": "code",
   "execution_count": null,
   "outputs": [],
   "source": [
    "# As we can see from the variables with missing values, it is a good idesa to keep\n",
    "#the missing values as a seperate . instead of replacing htem by the mod for instance\n",
    "\n"
   ],
   "metadata": {
    "collapsed": false,
    "pycharm": {
     "name": "#%%\n"
    }
   }
  },
  {
   "cell_type": "code",
   "execution_count": null,
   "outputs": [],
   "source": [
    "# the cusomers with a missning values appear to have a much higher ( in some cases much lower)\n",
    "#probability to ask for an insurace claim\n",
    "\n",
    "\n",
    "# Interval variables\n",
    "\n",
    "# Checking the correlation between interval variables. A heatmap is a good way to visualzize the correlation betweeen variables . The code below is based on an example buy Mi"
   ],
   "metadata": {
    "collapsed": false,
    "pycharm": {
     "name": "#%%\n"
    }
   }
  },
  {
   "cell_type": "code",
   "execution_count": 129,
   "outputs": [
    {
     "data": {
      "text/plain": "<Figure size 720x720 with 2 Axes>",
      "image/png": "[encoded data removed]"
     },
     "metadata": {
      "needs_background": "light"
     },
     "output_type": "display_data"
    }
   ],
   "source": [
    "# fork 할떄 출처남기기\n",
    "def corr_heatmap(v):\n",
    "    correlations = train[v].corr()\n",
    "\n",
    "    # Create color map ranging between two colors\n",
    "    cmap = sns.diverging_palette(220, 10, as_cmap=True)\n",
    "# squere 는 정사각형 annot 각 셀에 값표기유무\n",
    "    # cbar_kws value mapping color bar shrink 옵션은 컬러바 크기 조절 vmax는 컬러바의 최대크기\n",
    "\n",
    "    fig, ax = plt.subplots(figsize=(10,10))\n",
    "    sns.heatmap(correlations, cmap=cmap, vmax=1.0, center=0, fmt='.2f',\n",
    "                square=True, linewidths=.5, annot=True, cbar_kws={\"shrink\": .75})\n",
    "    plt.show();\n",
    "\n",
    "v = meta[(meta.level == 'interval') & (meta.keep)].index\n",
    "corr_heatmap(v)\n"
   ],
   "metadata": {
    "collapsed": false,
    "pycharm": {
     "name": "#%%\n"
    }
   }
  },
  {
   "cell_type": "code",
   "execution_count": null,
   "outputs": [],
   "source": [
    "# corr 시각화할때 heatmap 표현해주는것도  좋겠다\n",
    "\n",
    "\n",
    "#correlations = train[v].corr()\n",
    "\n",
    "#Create color map ranging between two colors\n",
    "# select palette\n",
    "#cmap =  sns.diverging_palette(220, 10 , as_cmap=True)\n",
    "\n",
    "\n",
    "#fig , ax =  plt.subplots(figsize=(10,10 ))\n",
    "# vmax 최대값 cneter  중앙값   , fmt 소수점\n",
    "#sns.heatmap(correlations, cmap = cmap, vmax=1.0 , center =0, fmt='.2f'. square = True,linewidths=5)\n",
    "\n"
   ],
   "metadata": {
    "collapsed": false,
    "pycharm": {
     "name": "#%%\n"
    }
   }
  },
  {
   "cell_type": "code",
   "execution_count": null,
   "outputs": [],
   "source": [
    "f = 'ps_car_02_cat '"
   ],
   "metadata": {
    "collapsed": false,
    "pycharm": {
     "name": "#%%\n"
    }
   }
  },
  {
   "cell_type": "code",
   "execution_count": 124,
   "outputs": [],
   "source": [
    "# Feature Engineering\n",
    "\n",
    "# Creating dummy variables\n",
    "\n",
    "# The values of the categorical variables do not represent any order of magnitude\n",
    "\n",
    "\"\"\"\n",
    "For instance , category 2 is not twice the value of category 1 . Therefore we can create dummy variables\n",
    "to deal with that . We Drop the first dummy variable as this\n",
    " inforamtion can be derived from the other dummy variables generated for the categories of the\n",
    " original variable\n",
    "\n",
    "\"\"\"\n",
    "\n",
    "v = meta[(meta.level == 'nominal') & (meta.keep)].index"
   ],
   "metadata": {
    "collapsed": false,
    "pycharm": {
     "name": "#%%\n"
    }
   }
  },
  {
   "cell_type": "code",
   "execution_count": null,
   "outputs": [],
   "source": [
    "train.shape[1]"
   ],
   "metadata": {
    "collapsed": false,
    "pycharm": {
     "name": "#%%\n"
    }
   }
  },
  {
   "cell_type": "code",
   "execution_count": null,
   "outputs": [],
   "source": [
    "#n -1 개로 원핫인코딩하는것이 get_dummies 이다\n",
    "train.pd.get_dummies(trian, columns=v , drop_first =True)\n"
   ],
   "metadata": {
    "collapsed": false,
    "pycharm": {
     "name": "#%%\n"
    }
   }
  },
  {
   "cell_type": "code",
   "execution_count": null,
   "outputs": [],
   "source": [
    "v = meta[(meta.level == 'interval') & (meta.keep)].index\n"
   ],
   "metadata": {
    "collapsed": false,
    "pycharm": {
     "name": "#%%\n"
    }
   }
  },
  {
   "cell_type": "code",
   "execution_count": null,
   "outputs": [],
   "source": [
    "\"\"\"\"\n",
    "캐글은 점수를 높이기만 하면 된다\n",
    "a라는 category feature 를 one-hot encoding , frequency encoding , mean encoding 얻은 결과\n",
    "하나씩 해서 합치면 하나만 하는 것보다 결과가좋을 수 있다 -> score를 쥐어짜낼 때\n",
    "\"\"\""
   ],
   "metadata": {
    "collapsed": false,
    "pycharm": {
     "name": "#%%\n"
    }
   }
  },
  {
   "cell_type": "code",
   "execution_count": 126,
   "outputs": [
    {
     "data": {
      "text/plain": "      ps_ind_02_cat  ps_ind_04_cat  ps_ind_05_cat  ps_car_01_cat  \\\n0                 1              0              0             11   \n1                 1              1              0             11   \n2                 1              0              0              7   \n3                 1              0              0             11   \n4                 1              0              0              7   \n...             ...            ...            ...            ...   \n3464              2              1              0              7   \n3465              1              1              0              6   \n3466              1              0              2              6   \n3467              1              1              0             10   \n3468              1              0              0             11   \n\n      ps_car_02_cat  ps_car_04_cat  ps_car_06_cat  ps_car_07_cat  \\\n0                 1              1             12              1   \n1                 1              0              0              1   \n2                 1              0              1              1   \n3                 1              0             14              1   \n4                 1              0             11              1   \n...             ...            ...            ...            ...   \n3464              1              0             10              1   \n3465              1              0              0              1   \n3466              1              0              4              1   \n3467              0              0              1              1   \n3468              1              0              1              0   \n\n      ps_car_08_cat  ps_car_09_cat  ps_car_10_cat  ps_car_11_cat  \n0                 1              2              1            104  \n1                 1              2              1             32  \n2                 0              2              1             80  \n3                 1              2              1             49  \n4                 1              2              1             11  \n...             ...            ...            ...            ...  \n3464              1              2              1             28  \n3465              0              0              1             22  \n3466              1              0              1             12  \n3467              1              0              1            104  \n3468              1              2              1             40  \n\n[3469 rows x 12 columns]",
      "text/html": "<div>\n<style scoped>\n    .dataframe tbody tr th:only-of-type {\n        vertical-align: middle;\n    }\n\n    .dataframe tbody tr th {\n        vertical-align: top;\n    }\n\n    .dataframe thead th {\n        text-align: right;\n    }\n</style>\n<table border=\"1\" class=\"dataframe\">\n  <thead>\n    <tr style=\"text-align: right;\">\n      <th></th>\n      <th>ps_ind_02_cat</th>\n      <th>ps_ind_04_cat</th>\n      <th>ps_ind_05_cat</th>\n      <th>ps_car_01_cat</th>\n      <th>ps_car_02_cat</th>\n      <th>ps_car_04_cat</th>\n      <th>ps_car_06_cat</th>\n      <th>ps_car_07_cat</th>\n      <th>ps_car_08_cat</th>\n      <th>ps_car_09_cat</th>\n      <th>ps_car_10_cat</th>\n      <th>ps_car_11_cat</th>\n    </tr>\n  </thead>\n  <tbody>\n    <tr>\n      <th>0</th>\n      <td>1</td>\n      <td>0</td>\n      <td>0</td>\n      <td>11</td>\n      <td>1</td>\n      <td>1</td>\n      <td>12</td>\n      <td>1</td>\n      <td>1</td>\n      <td>2</td>\n      <td>1</td>\n      <td>104</td>\n    </tr>\n    <tr>\n      <th>1</th>\n      <td>1</td>\n      <td>1</td>\n      <td>0</td>\n      <td>11</td>\n      <td>1</td>\n      <td>0</td>\n      <td>0</td>\n      <td>1</td>\n      <td>1</td>\n      <td>2</td>\n      <td>1</td>\n      <td>32</td>\n    </tr>\n    <tr>\n      <th>2</th>\n      <td>1</td>\n      <td>0</td>\n      <td>0</td>\n      <td>7</td>\n      <td>1</td>\n      <td>0</td>\n      <td>1</td>\n      <td>1</td>\n      <td>0</td>\n      <td>2</td>\n      <td>1</td>\n      <td>80</td>\n    </tr>\n    <tr>\n      <th>3</th>\n      <td>1</td>\n      <td>0</td>\n      <td>0</td>\n      <td>11</td>\n      <td>1</td>\n      <td>0</td>\n      <td>14</td>\n      <td>1</td>\n      <td>1</td>\n      <td>2</td>\n      <td>1</td>\n      <td>49</td>\n    </tr>\n    <tr>\n      <th>4</th>\n      <td>1</td>\n      <td>0</td>\n      <td>0</td>\n      <td>7</td>\n      <td>1</td>\n      <td>0</td>\n      <td>11</td>\n      <td>1</td>\n      <td>1</td>\n      <td>2</td>\n      <td>1</td>\n      <td>11</td>\n    </tr>\n    <tr>\n      <th>...</th>\n      <td>...</td>\n      <td>...</td>\n      <td>...</td>\n      <td>...</td>\n      <td>...</td>\n      <td>...</td>\n      <td>...</td>\n      <td>...</td>\n      <td>...</td>\n      <td>...</td>\n      <td>...</td>\n      <td>...</td>\n    </tr>\n    <tr>\n      <th>3464</th>\n      <td>2</td>\n      <td>1</td>\n      <td>0</td>\n      <td>7</td>\n      <td>1</td>\n      <td>0</td>\n      <td>10</td>\n      <td>1</td>\n      <td>1</td>\n      <td>2</td>\n      <td>1</td>\n      <td>28</td>\n    </tr>\n    <tr>\n      <th>3465</th>\n      <td>1</td>\n      <td>1</td>\n      <td>0</td>\n      <td>6</td>\n      <td>1</td>\n      <td>0</td>\n      <td>0</td>\n      <td>1</td>\n      <td>0</td>\n      <td>0</td>\n      <td>1</td>\n      <td>22</td>\n    </tr>\n    <tr>\n      <th>3466</th>\n      <td>1</td>\n      <td>0</td>\n      <td>2</td>\n      <td>6</td>\n      <td>1</td>\n      <td>0</td>\n      <td>4</td>\n      <td>1</td>\n      <td>1</td>\n      <td>0</td>\n      <td>1</td>\n      <td>12</td>\n    </tr>\n    <tr>\n      <th>3467</th>\n      <td>1</td>\n      <td>1</td>\n      <td>0</td>\n      <td>10</td>\n      <td>0</td>\n      <td>0</td>\n      <td>1</td>\n      <td>1</td>\n      <td>1</td>\n      <td>0</td>\n      <td>1</td>\n      <td>104</td>\n    </tr>\n    <tr>\n      <th>3468</th>\n      <td>1</td>\n      <td>0</td>\n      <td>0</td>\n      <td>11</td>\n      <td>1</td>\n      <td>0</td>\n      <td>1</td>\n      <td>0</td>\n      <td>1</td>\n      <td>2</td>\n      <td>1</td>\n      <td>40</td>\n    </tr>\n  </tbody>\n</table>\n<p>3469 rows × 12 columns</p>\n</div>"
     },
     "execution_count": 126,
     "metadata": {},
     "output_type": "execute_result"
    }
   ],
   "source": [
    "\"\"\"\n",
    "interaction_only 가 True 일 때는 자기 자신의 제곱은 없다 self interaction 은 제외한다는 말\n",
    "include_bias false는 include하고 남는 bias 뺀다\n",
    "\"\"\"\n",
    "# polynomialFeature 는 interaction 해주는 함수, feature 를 생성해준다\n",
    "# 주어진 차수를 가진 feature 의 모든 다항식 조합으로 새 행렬을 생성한다 자기 자신 제곱 혹은 모든 조합에 대해서 Feature 를 구한다\n",
    "\n",
    "train[v]"
   ],
   "metadata": {
    "collapsed": false,
    "pycharm": {
     "name": "#%%\n"
    }
   }
  },
  {
   "cell_type": "code",
   "execution_count": 127,
   "outputs": [],
   "source": [
    "poly = PolynomialFeatures(degree=2 , interaction_only=False ,include_bias=False)\n",
    "\n",
    "# feature 와 feature 조합을 만들어 계산한 값을 만들어 준다 poly가\n",
    "interactions = pd.DataFrame(data=poly.fit_transform(train[v]) , columns=poly.get_feature_names(v))"
   ],
   "metadata": {
    "collapsed": false,
    "pycharm": {
     "name": "#%%\n"
    }
   }
  },
  {
   "cell_type": "code",
   "execution_count": 129,
   "outputs": [
    {
     "data": {
      "text/plain": "          id  target  ps_ind_01  ps_ind_02_cat  ps_ind_03  ps_ind_04_cat  \\\n0      69863       0          1              1         11              0   \n1      41766       0          0              1          4              1   \n2       9601       0          0              1          4              0   \n3      34442       0          0              1          4              0   \n4      74925       0          0              1          1              0   \n...      ...     ...        ...            ...        ...            ...   \n3464   35064       1          1              2          1              1   \n3465   77671       1          0              1          2              1   \n3466  116333       1          7              1          7              0   \n3467   32058       1          1              1          1              1   \n3468   89532       1          3              1          5              0   \n\n      ps_ind_05_cat  ps_ind_06_bin  ps_ind_07_bin  ps_ind_08_bin  \\\n0                 0              0              1              0   \n1                 0              0              0              0   \n2                 0              0              1              0   \n3                 0              0              0              1   \n4                 0              0              0              0   \n...             ...            ...            ...            ...   \n3464              0              0              1              0   \n3465              0              0              1              0   \n3466              2              0              1              0   \n3467              0              1              0              0   \n3468              0              0              0              1   \n\n      ps_ind_09_bin  ps_ind_10_bin  ps_ind_11_bin  ps_ind_12_bin  \\\n0                 0              0              0              0   \n1                 1              0              0              0   \n2                 0              0              0              0   \n3                 0              0              0              0   \n4                 1              0              0              0   \n...             ...            ...            ...            ...   \n3464              0              0              0              0   \n3465              0              0              0              0   \n3466              0              0              0              0   \n3467              0              0              0              0   \n3468              0              0              0              0   \n\n      ps_ind_13_bin  ps_ind_14  ps_ind_15  ps_ind_16_bin  ps_ind_17_bin  \\\n0                 0          0          8              0              0   \n1                 0          0          5              0              0   \n2                 0          0          6              1              0   \n3                 0          0          4              0              1   \n4                 0          0          3              0              0   \n...             ...        ...        ...            ...            ...   \n3464              0          0          0              0              1   \n3465              0          0          3              0              0   \n3466              0          0         12              1              0   \n3467              0          0          3              1              0   \n3468              0          0          3              0              1   \n\n      ps_ind_18_bin  ps_reg_01  ps_reg_02  ps_reg_03  ps_car_01_cat  \\\n0                 1        0.8        0.8   1.450431             11   \n1                 0        0.5        0.3   1.078772             11   \n2                 0        0.1        0.1   0.895381              7   \n3                 0        0.1        0.0   0.895381             11   \n4                 1        0.8        0.3   0.457575              7   \n...             ...        ...        ...        ...            ...   \n3464              0        0.7        0.8   0.812788              7   \n3465              1        0.7        0.2   0.537355              6   \n3466              0        0.7        0.0   0.744564              6   \n3467              0        0.9        1.6   1.628842             10   \n3468              0        0.4        0.3   0.895381             11   \n\n      ps_car_02_cat  ps_car_03_cat  ps_car_04_cat  ps_car_05_cat  \\\n0                 1              0              1              1   \n1                 1             -1              0             -1   \n2                 1              1              0              0   \n3                 1              0              0              0   \n4                 1             -1              0             -1   \n...             ...            ...            ...            ...   \n3464              1              0              0              1   \n3465              1             -1              0              0   \n3466              1             -1              0              1   \n3467              0             -1              0              1   \n3468              1              1              0              0   \n\n      ps_car_06_cat  ps_car_07_cat  ps_car_08_cat  ps_car_09_cat  \\\n0                12              1              1              2   \n1                 0              1              1              2   \n2                 1              1              0              2   \n3                14              1              1              2   \n4                11              1              1              2   \n...             ...            ...            ...            ...   \n3464             10              1              1              2   \n3465              0              1              0              0   \n3466              4              1              1              0   \n3467              1              1              1              0   \n3468              1              0              1              2   \n\n      ps_car_10_cat  ps_car_11_cat  ps_car_11  ps_car_12  ps_car_13  \\\n0                 1            104          3   0.374166   0.738689   \n1                 1             32          3   0.316228   0.605502   \n2                 1             80          3   0.316228   0.808018   \n3                 1             49          3   0.400000   0.688888   \n4                 1             11          2   0.316228   0.667857   \n...             ...            ...        ...        ...        ...   \n3464              1             28          3   0.374166   0.829866   \n3465              1             22          3   0.316228   0.838448   \n3466              1             12          2   0.400000   0.895019   \n3467              1            104          3   0.424264   0.826048   \n3468              1             40          2   0.374166   0.746396   \n\n      ps_car_14  ps_car_15  ps_calc_01  ps_calc_02  ps_calc_03  ps_calc_04  \\\n0      0.325576   3.464102         0.3         0.2         0.9           1   \n1      0.361525   2.828427         0.8         0.9         0.7           4   \n2      0.375170   3.741657         0.2         0.5         0.0           1   \n3      0.368511   2.828427         0.2         0.5         0.5           4   \n4      0.368782   3.316625         0.2         0.9         0.5           1   \n...         ...        ...         ...         ...         ...         ...   \n3464   0.324808   3.000000         0.8         0.1         0.5           3   \n3465   0.374566   3.605551         0.7         0.0         0.7           3   \n3466   0.370810   3.464102         0.4         0.1         0.3           2   \n3467   0.412916   3.162278         0.1         0.3         0.8           2   \n3468   0.324808   3.162278         0.0         0.1         0.7           2   \n\n      ps_calc_05  ps_calc_06  ps_calc_07  ps_calc_08  ps_calc_09  ps_calc_10  \\\n0              3           8           2          10           2           3   \n1              3           8           3          11           0           7   \n2              2           6           3          11           4           5   \n3              3           8           1          12           0           7   \n4              3           6           4          12           2          10   \n...          ...         ...         ...         ...         ...         ...   \n3464           2           8           3           6           1           6   \n3465           1           5           0           7           2          10   \n3466           1           8           4           5           2           8   \n3467           1           9           2          10           2           9   \n3468           3           8           1          11           3          12   \n\n      ps_calc_11  ps_calc_12  ps_calc_13  ps_calc_14  ps_calc_15_bin  \\\n0             11           3           2           4               0   \n1              3           0           5           3               0   \n2              4           1           3           8               0   \n3              1           0           3           5               0   \n4              8           2           1           6               0   \n...          ...         ...         ...         ...             ...   \n3464           6           1           3          12               0   \n3465           2           0           5           4               0   \n3466           8           1           2           8               0   \n3467           5           2           2           6               0   \n3468           5           1           2           6               0   \n\n      ps_calc_16_bin  ps_calc_17_bin  ps_calc_18_bin  ps_calc_19_bin  \\\n0                  1               1               1               0   \n1                  1               0               0               0   \n2                  1               1               0               0   \n3                  1               0               0               1   \n4                  1               1               0               0   \n...              ...             ...             ...             ...   \n3464               1               1               1               1   \n3465               1               1               0               0   \n3466               1               1               0               0   \n3467               0               1               0               1   \n3468               1               1               0               0   \n\n      ps_calc_20_bin  \n0                  0  \n1                  0  \n2                  0  \n3                  0  \n4                  0  \n...              ...  \n3464               0  \n3465               0  \n3466               0  \n3467               0  \n3468               1  \n\n[3469 rows x 59 columns]",
      "text/html": "<div>\n<style scoped>\n    .dataframe tbody tr th:only-of-type {\n        vertical-align: middle;\n    }\n\n    .dataframe tbody tr th {\n        vertical-align: top;\n    }\n\n    .dataframe thead th {\n        text-align: right;\n    }\n</style>\n<table border=\"1\" class=\"dataframe\">\n  <thead>\n    <tr style=\"text-align: right;\">\n      <th></th>\n      <th>id</th>\n      <th>target</th>\n      <th>ps_ind_01</th>\n      <th>ps_ind_02_cat</th>\n      <th>ps_ind_03</th>\n      <th>ps_ind_04_cat</th>\n      <th>ps_ind_05_cat</th>\n      <th>ps_ind_06_bin</th>\n      <th>ps_ind_07_bin</th>\n      <th>ps_ind_08_bin</th>\n      <th>ps_ind_09_bin</th>\n      <th>ps_ind_10_bin</th>\n      <th>ps_ind_11_bin</th>\n      <th>ps_ind_12_bin</th>\n      <th>ps_ind_13_bin</th>\n      <th>ps_ind_14</th>\n      <th>ps_ind_15</th>\n      <th>ps_ind_16_bin</th>\n      <th>ps_ind_17_bin</th>\n      <th>ps_ind_18_bin</th>\n      <th>ps_reg_01</th>\n      <th>ps_reg_02</th>\n      <th>ps_reg_03</th>\n      <th>ps_car_01_cat</th>\n      <th>ps_car_02_cat</th>\n      <th>ps_car_03_cat</th>\n      <th>ps_car_04_cat</th>\n      <th>ps_car_05_cat</th>\n      <th>ps_car_06_cat</th>\n      <th>ps_car_07_cat</th>\n      <th>ps_car_08_cat</th>\n      <th>ps_car_09_cat</th>\n      <th>ps_car_10_cat</th>\n      <th>ps_car_11_cat</th>\n      <th>ps_car_11</th>\n      <th>ps_car_12</th>\n      <th>ps_car_13</th>\n      <th>ps_car_14</th>\n      <th>ps_car_15</th>\n      <th>ps_calc_01</th>\n      <th>ps_calc_02</th>\n      <th>ps_calc_03</th>\n      <th>ps_calc_04</th>\n      <th>ps_calc_05</th>\n      <th>ps_calc_06</th>\n      <th>ps_calc_07</th>\n      <th>ps_calc_08</th>\n      <th>ps_calc_09</th>\n      <th>ps_calc_10</th>\n      <th>ps_calc_11</th>\n      <th>ps_calc_12</th>\n      <th>ps_calc_13</th>\n      <th>ps_calc_14</th>\n      <th>ps_calc_15_bin</th>\n      <th>ps_calc_16_bin</th>\n      <th>ps_calc_17_bin</th>\n      <th>ps_calc_18_bin</th>\n      <th>ps_calc_19_bin</th>\n      <th>ps_calc_20_bin</th>\n    </tr>\n  </thead>\n  <tbody>\n    <tr>\n      <th>0</th>\n      <td>69863</td>\n      <td>0</td>\n      <td>1</td>\n      <td>1</td>\n      <td>11</td>\n      <td>0</td>\n      <td>0</td>\n      <td>0</td>\n      <td>1</td>\n      <td>0</td>\n      <td>0</td>\n      <td>0</td>\n      <td>0</td>\n      <td>0</td>\n      <td>0</td>\n      <td>0</td>\n      <td>8</td>\n      <td>0</td>\n      <td>0</td>\n      <td>1</td>\n      <td>0.8</td>\n      <td>0.8</td>\n      <td>1.450431</td>\n      <td>11</td>\n      <td>1</td>\n      <td>0</td>\n      <td>1</td>\n      <td>1</td>\n      <td>12</td>\n      <td>1</td>\n      <td>1</td>\n      <td>2</td>\n      <td>1</td>\n      <td>104</td>\n      <td>3</td>\n      <td>0.374166</td>\n      <td>0.738689</td>\n      <td>0.325576</td>\n      <td>3.464102</td>\n      <td>0.3</td>\n      <td>0.2</td>\n      <td>0.9</td>\n      <td>1</td>\n      <td>3</td>\n      <td>8</td>\n      <td>2</td>\n      <td>10</td>\n      <td>2</td>\n      <td>3</td>\n      <td>11</td>\n      <td>3</td>\n      <td>2</td>\n      <td>4</td>\n      <td>0</td>\n      <td>1</td>\n      <td>1</td>\n      <td>1</td>\n      <td>0</td>\n      <td>0</td>\n    </tr>\n    <tr>\n      <th>1</th>\n      <td>41766</td>\n      <td>0</td>\n      <td>0</td>\n      <td>1</td>\n      <td>4</td>\n      <td>1</td>\n      <td>0</td>\n      <td>0</td>\n      <td>0</td>\n      <td>0</td>\n      <td>1</td>\n      <td>0</td>\n      <td>0</td>\n      <td>0</td>\n      <td>0</td>\n      <td>0</td>\n      <td>5</td>\n      <td>0</td>\n      <td>0</td>\n      <td>0</td>\n      <td>0.5</td>\n      <td>0.3</td>\n      <td>1.078772</td>\n      <td>11</td>\n      <td>1</td>\n      <td>-1</td>\n      <td>0</td>\n      <td>-1</td>\n      <td>0</td>\n      <td>1</td>\n      <td>1</td>\n      <td>2</td>\n      <td>1</td>\n      <td>32</td>\n      <td>3</td>\n      <td>0.316228</td>\n      <td>0.605502</td>\n      <td>0.361525</td>\n      <td>2.828427</td>\n      <td>0.8</td>\n      <td>0.9</td>\n      <td>0.7</td>\n      <td>4</td>\n      <td>3</td>\n      <td>8</td>\n      <td>3</td>\n      <td>11</td>\n      <td>0</td>\n      <td>7</td>\n      <td>3</td>\n      <td>0</td>\n      <td>5</td>\n      <td>3</td>\n      <td>0</td>\n      <td>1</td>\n      <td>0</td>\n      <td>0</td>\n      <td>0</td>\n      <td>0</td>\n    </tr>\n    <tr>\n      <th>2</th>\n      <td>9601</td>\n      <td>0</td>\n      <td>0</td>\n      <td>1</td>\n      <td>4</td>\n      <td>0</td>\n      <td>0</td>\n      <td>0</td>\n      <td>1</td>\n      <td>0</td>\n      <td>0</td>\n      <td>0</td>\n      <td>0</td>\n      <td>0</td>\n      <td>0</td>\n      <td>0</td>\n      <td>6</td>\n      <td>1</td>\n      <td>0</td>\n      <td>0</td>\n      <td>0.1</td>\n      <td>0.1</td>\n      <td>0.895381</td>\n      <td>7</td>\n      <td>1</td>\n      <td>1</td>\n      <td>0</td>\n      <td>0</td>\n      <td>1</td>\n      <td>1</td>\n      <td>0</td>\n      <td>2</td>\n      <td>1</td>\n      <td>80</td>\n      <td>3</td>\n      <td>0.316228</td>\n      <td>0.808018</td>\n      <td>0.375170</td>\n      <td>3.741657</td>\n      <td>0.2</td>\n      <td>0.5</td>\n      <td>0.0</td>\n      <td>1</td>\n      <td>2</td>\n      <td>6</td>\n      <td>3</td>\n      <td>11</td>\n      <td>4</td>\n      <td>5</td>\n      <td>4</td>\n      <td>1</td>\n      <td>3</td>\n      <td>8</td>\n      <td>0</td>\n      <td>1</td>\n      <td>1</td>\n      <td>0</td>\n      <td>0</td>\n      <td>0</td>\n    </tr>\n    <tr>\n      <th>3</th>\n      <td>34442</td>\n      <td>0</td>\n      <td>0</td>\n      <td>1</td>\n      <td>4</td>\n      <td>0</td>\n      <td>0</td>\n      <td>0</td>\n      <td>0</td>\n      <td>1</td>\n      <td>0</td>\n      <td>0</td>\n      <td>0</td>\n      <td>0</td>\n      <td>0</td>\n      <td>0</td>\n      <td>4</td>\n      <td>0</td>\n      <td>1</td>\n      <td>0</td>\n      <td>0.1</td>\n      <td>0.0</td>\n      <td>0.895381</td>\n      <td>11</td>\n      <td>1</td>\n      <td>0</td>\n      <td>0</td>\n      <td>0</td>\n      <td>14</td>\n      <td>1</td>\n      <td>1</td>\n      <td>2</td>\n      <td>1</td>\n      <td>49</td>\n      <td>3</td>\n      <td>0.400000</td>\n      <td>0.688888</td>\n      <td>0.368511</td>\n      <td>2.828427</td>\n      <td>0.2</td>\n      <td>0.5</td>\n      <td>0.5</td>\n      <td>4</td>\n      <td>3</td>\n      <td>8</td>\n      <td>1</td>\n      <td>12</td>\n      <td>0</td>\n      <td>7</td>\n      <td>1</td>\n      <td>0</td>\n      <td>3</td>\n      <td>5</td>\n      <td>0</td>\n      <td>1</td>\n      <td>0</td>\n      <td>0</td>\n      <td>1</td>\n      <td>0</td>\n    </tr>\n    <tr>\n      <th>4</th>\n      <td>74925</td>\n      <td>0</td>\n      <td>0</td>\n      <td>1</td>\n      <td>1</td>\n      <td>0</td>\n      <td>0</td>\n      <td>0</td>\n      <td>0</td>\n      <td>0</td>\n      <td>1</td>\n      <td>0</td>\n      <td>0</td>\n      <td>0</td>\n      <td>0</td>\n      <td>0</td>\n      <td>3</td>\n      <td>0</td>\n      <td>0</td>\n      <td>1</td>\n      <td>0.8</td>\n      <td>0.3</td>\n      <td>0.457575</td>\n      <td>7</td>\n      <td>1</td>\n      <td>-1</td>\n      <td>0</td>\n      <td>-1</td>\n      <td>11</td>\n      <td>1</td>\n      <td>1</td>\n      <td>2</td>\n      <td>1</td>\n      <td>11</td>\n      <td>2</td>\n      <td>0.316228</td>\n      <td>0.667857</td>\n      <td>0.368782</td>\n      <td>3.316625</td>\n      <td>0.2</td>\n      <td>0.9</td>\n      <td>0.5</td>\n      <td>1</td>\n      <td>3</td>\n      <td>6</td>\n      <td>4</td>\n      <td>12</td>\n      <td>2</td>\n      <td>10</td>\n      <td>8</td>\n      <td>2</td>\n      <td>1</td>\n      <td>6</td>\n      <td>0</td>\n      <td>1</td>\n      <td>1</td>\n      <td>0</td>\n      <td>0</td>\n      <td>0</td>\n    </tr>\n    <tr>\n      <th>...</th>\n      <td>...</td>\n      <td>...</td>\n      <td>...</td>\n      <td>...</td>\n      <td>...</td>\n      <td>...</td>\n      <td>...</td>\n      <td>...</td>\n      <td>...</td>\n      <td>...</td>\n      <td>...</td>\n      <td>...</td>\n      <td>...</td>\n      <td>...</td>\n      <td>...</td>\n      <td>...</td>\n      <td>...</td>\n      <td>...</td>\n      <td>...</td>\n      <td>...</td>\n      <td>...</td>\n      <td>...</td>\n      <td>...</td>\n      <td>...</td>\n      <td>...</td>\n      <td>...</td>\n      <td>...</td>\n      <td>...</td>\n      <td>...</td>\n      <td>...</td>\n      <td>...</td>\n      <td>...</td>\n      <td>...</td>\n      <td>...</td>\n      <td>...</td>\n      <td>...</td>\n      <td>...</td>\n      <td>...</td>\n      <td>...</td>\n      <td>...</td>\n      <td>...</td>\n      <td>...</td>\n      <td>...</td>\n      <td>...</td>\n      <td>...</td>\n      <td>...</td>\n      <td>...</td>\n      <td>...</td>\n      <td>...</td>\n      <td>...</td>\n      <td>...</td>\n      <td>...</td>\n      <td>...</td>\n      <td>...</td>\n      <td>...</td>\n      <td>...</td>\n      <td>...</td>\n      <td>...</td>\n      <td>...</td>\n    </tr>\n    <tr>\n      <th>3464</th>\n      <td>35064</td>\n      <td>1</td>\n      <td>1</td>\n      <td>2</td>\n      <td>1</td>\n      <td>1</td>\n      <td>0</td>\n      <td>0</td>\n      <td>1</td>\n      <td>0</td>\n      <td>0</td>\n      <td>0</td>\n      <td>0</td>\n      <td>0</td>\n      <td>0</td>\n      <td>0</td>\n      <td>0</td>\n      <td>0</td>\n      <td>1</td>\n      <td>0</td>\n      <td>0.7</td>\n      <td>0.8</td>\n      <td>0.812788</td>\n      <td>7</td>\n      <td>1</td>\n      <td>0</td>\n      <td>0</td>\n      <td>1</td>\n      <td>10</td>\n      <td>1</td>\n      <td>1</td>\n      <td>2</td>\n      <td>1</td>\n      <td>28</td>\n      <td>3</td>\n      <td>0.374166</td>\n      <td>0.829866</td>\n      <td>0.324808</td>\n      <td>3.000000</td>\n      <td>0.8</td>\n      <td>0.1</td>\n      <td>0.5</td>\n      <td>3</td>\n      <td>2</td>\n      <td>8</td>\n      <td>3</td>\n      <td>6</td>\n      <td>1</td>\n      <td>6</td>\n      <td>6</td>\n      <td>1</td>\n      <td>3</td>\n      <td>12</td>\n      <td>0</td>\n      <td>1</td>\n      <td>1</td>\n      <td>1</td>\n      <td>1</td>\n      <td>0</td>\n    </tr>\n    <tr>\n      <th>3465</th>\n      <td>77671</td>\n      <td>1</td>\n      <td>0</td>\n      <td>1</td>\n      <td>2</td>\n      <td>1</td>\n      <td>0</td>\n      <td>0</td>\n      <td>1</td>\n      <td>0</td>\n      <td>0</td>\n      <td>0</td>\n      <td>0</td>\n      <td>0</td>\n      <td>0</td>\n      <td>0</td>\n      <td>3</td>\n      <td>0</td>\n      <td>0</td>\n      <td>1</td>\n      <td>0.7</td>\n      <td>0.2</td>\n      <td>0.537355</td>\n      <td>6</td>\n      <td>1</td>\n      <td>-1</td>\n      <td>0</td>\n      <td>0</td>\n      <td>0</td>\n      <td>1</td>\n      <td>0</td>\n      <td>0</td>\n      <td>1</td>\n      <td>22</td>\n      <td>3</td>\n      <td>0.316228</td>\n      <td>0.838448</td>\n      <td>0.374566</td>\n      <td>3.605551</td>\n      <td>0.7</td>\n      <td>0.0</td>\n      <td>0.7</td>\n      <td>3</td>\n      <td>1</td>\n      <td>5</td>\n      <td>0</td>\n      <td>7</td>\n      <td>2</td>\n      <td>10</td>\n      <td>2</td>\n      <td>0</td>\n      <td>5</td>\n      <td>4</td>\n      <td>0</td>\n      <td>1</td>\n      <td>1</td>\n      <td>0</td>\n      <td>0</td>\n      <td>0</td>\n    </tr>\n    <tr>\n      <th>3466</th>\n      <td>116333</td>\n      <td>1</td>\n      <td>7</td>\n      <td>1</td>\n      <td>7</td>\n      <td>0</td>\n      <td>2</td>\n      <td>0</td>\n      <td>1</td>\n      <td>0</td>\n      <td>0</td>\n      <td>0</td>\n      <td>0</td>\n      <td>0</td>\n      <td>0</td>\n      <td>0</td>\n      <td>12</td>\n      <td>1</td>\n      <td>0</td>\n      <td>0</td>\n      <td>0.7</td>\n      <td>0.0</td>\n      <td>0.744564</td>\n      <td>6</td>\n      <td>1</td>\n      <td>-1</td>\n      <td>0</td>\n      <td>1</td>\n      <td>4</td>\n      <td>1</td>\n      <td>1</td>\n      <td>0</td>\n      <td>1</td>\n      <td>12</td>\n      <td>2</td>\n      <td>0.400000</td>\n      <td>0.895019</td>\n      <td>0.370810</td>\n      <td>3.464102</td>\n      <td>0.4</td>\n      <td>0.1</td>\n      <td>0.3</td>\n      <td>2</td>\n      <td>1</td>\n      <td>8</td>\n      <td>4</td>\n      <td>5</td>\n      <td>2</td>\n      <td>8</td>\n      <td>8</td>\n      <td>1</td>\n      <td>2</td>\n      <td>8</td>\n      <td>0</td>\n      <td>1</td>\n      <td>1</td>\n      <td>0</td>\n      <td>0</td>\n      <td>0</td>\n    </tr>\n    <tr>\n      <th>3467</th>\n      <td>32058</td>\n      <td>1</td>\n      <td>1</td>\n      <td>1</td>\n      <td>1</td>\n      <td>1</td>\n      <td>0</td>\n      <td>1</td>\n      <td>0</td>\n      <td>0</td>\n      <td>0</td>\n      <td>0</td>\n      <td>0</td>\n      <td>0</td>\n      <td>0</td>\n      <td>0</td>\n      <td>3</td>\n      <td>1</td>\n      <td>0</td>\n      <td>0</td>\n      <td>0.9</td>\n      <td>1.6</td>\n      <td>1.628842</td>\n      <td>10</td>\n      <td>0</td>\n      <td>-1</td>\n      <td>0</td>\n      <td>1</td>\n      <td>1</td>\n      <td>1</td>\n      <td>1</td>\n      <td>0</td>\n      <td>1</td>\n      <td>104</td>\n      <td>3</td>\n      <td>0.424264</td>\n      <td>0.826048</td>\n      <td>0.412916</td>\n      <td>3.162278</td>\n      <td>0.1</td>\n      <td>0.3</td>\n      <td>0.8</td>\n      <td>2</td>\n      <td>1</td>\n      <td>9</td>\n      <td>2</td>\n      <td>10</td>\n      <td>2</td>\n      <td>9</td>\n      <td>5</td>\n      <td>2</td>\n      <td>2</td>\n      <td>6</td>\n      <td>0</td>\n      <td>0</td>\n      <td>1</td>\n      <td>0</td>\n      <td>1</td>\n      <td>0</td>\n    </tr>\n    <tr>\n      <th>3468</th>\n      <td>89532</td>\n      <td>1</td>\n      <td>3</td>\n      <td>1</td>\n      <td>5</td>\n      <td>0</td>\n      <td>0</td>\n      <td>0</td>\n      <td>0</td>\n      <td>1</td>\n      <td>0</td>\n      <td>0</td>\n      <td>0</td>\n      <td>0</td>\n      <td>0</td>\n      <td>0</td>\n      <td>3</td>\n      <td>0</td>\n      <td>1</td>\n      <td>0</td>\n      <td>0.4</td>\n      <td>0.3</td>\n      <td>0.895381</td>\n      <td>11</td>\n      <td>1</td>\n      <td>1</td>\n      <td>0</td>\n      <td>0</td>\n      <td>1</td>\n      <td>0</td>\n      <td>1</td>\n      <td>2</td>\n      <td>1</td>\n      <td>40</td>\n      <td>2</td>\n      <td>0.374166</td>\n      <td>0.746396</td>\n      <td>0.324808</td>\n      <td>3.162278</td>\n      <td>0.0</td>\n      <td>0.1</td>\n      <td>0.7</td>\n      <td>2</td>\n      <td>3</td>\n      <td>8</td>\n      <td>1</td>\n      <td>11</td>\n      <td>3</td>\n      <td>12</td>\n      <td>5</td>\n      <td>1</td>\n      <td>2</td>\n      <td>6</td>\n      <td>0</td>\n      <td>1</td>\n      <td>1</td>\n      <td>0</td>\n      <td>0</td>\n      <td>1</td>\n    </tr>\n  </tbody>\n</table>\n<p>3469 rows × 59 columns</p>\n</div>"
     },
     "execution_count": 129,
     "metadata": {},
     "output_type": "execute_result"
    }
   ],
   "source": [
    "interactions.drop(v, axis=1, inplace=True)"
   ],
   "metadata": {
    "collapsed": false,
    "pycharm": {
     "name": "#%%\n"
    }
   }
  },
  {
   "cell_type": "code",
   "execution_count": 131,
   "outputs": [
    {
     "data": {
      "text/plain": "(3469, 59)"
     },
     "execution_count": 131,
     "metadata": {},
     "output_type": "execute_result"
    }
   ],
   "source": [
    "train.shape"
   ],
   "metadata": {
    "collapsed": false,
    "pycharm": {
     "name": "#%%\n"
    }
   }
  },
  {
   "cell_type": "code",
   "execution_count": 132,
   "outputs": [],
   "source": [
    "train = pd.concat([train, interactions] ,axis=1)"
   ],
   "metadata": {
    "collapsed": false,
    "pycharm": {
     "name": "#%%\n"
    }
   }
  },
  {
   "cell_type": "code",
   "execution_count": 133,
   "outputs": [
    {
     "data": {
      "text/plain": "          id  target  ps_ind_01  ps_ind_02_cat  ps_ind_03  ps_ind_04_cat  \\\n0      69863       0          1              1         11              0   \n1      41766       0          0              1          4              1   \n2       9601       0          0              1          4              0   \n3      34442       0          0              1          4              0   \n4      74925       0          0              1          1              0   \n...      ...     ...        ...            ...        ...            ...   \n3464   35064       1          1              2          1              1   \n3465   77671       1          0              1          2              1   \n3466  116333       1          7              1          7              0   \n3467   32058       1          1              1          1              1   \n3468   89532       1          3              1          5              0   \n\n      ps_ind_05_cat  ps_ind_06_bin  ps_ind_07_bin  ps_ind_08_bin  \\\n0                 0              0              1              0   \n1                 0              0              0              0   \n2                 0              0              1              0   \n3                 0              0              0              1   \n4                 0              0              0              0   \n...             ...            ...            ...            ...   \n3464              0              0              1              0   \n3465              0              0              1              0   \n3466              2              0              1              0   \n3467              0              1              0              0   \n3468              0              0              0              1   \n\n      ps_ind_09_bin  ps_ind_10_bin  ps_ind_11_bin  ps_ind_12_bin  \\\n0                 0              0              0              0   \n1                 1              0              0              0   \n2                 0              0              0              0   \n3                 0              0              0              0   \n4                 1              0              0              0   \n...             ...            ...            ...            ...   \n3464              0              0              0              0   \n3465              0              0              0              0   \n3466              0              0              0              0   \n3467              0              0              0              0   \n3468              0              0              0              0   \n\n      ps_ind_13_bin  ps_ind_14  ps_ind_15  ps_ind_16_bin  ps_ind_17_bin  \\\n0                 0          0          8              0              0   \n1                 0          0          5              0              0   \n2                 0          0          6              1              0   \n3                 0          0          4              0              1   \n4                 0          0          3              0              0   \n...             ...        ...        ...            ...            ...   \n3464              0          0          0              0              1   \n3465              0          0          3              0              0   \n3466              0          0         12              1              0   \n3467              0          0          3              1              0   \n3468              0          0          3              0              1   \n\n      ps_ind_18_bin  ps_reg_01  ps_reg_02  ps_reg_03  ps_car_01_cat  \\\n0                 1        0.8        0.8   1.450431             11   \n1                 0        0.5        0.3   1.078772             11   \n2                 0        0.1        0.1   0.895381              7   \n3                 0        0.1        0.0   0.895381             11   \n4                 1        0.8        0.3   0.457575              7   \n...             ...        ...        ...        ...            ...   \n3464              0        0.7        0.8   0.812788              7   \n3465              1        0.7        0.2   0.537355              6   \n3466              0        0.7        0.0   0.744564              6   \n3467              0        0.9        1.6   1.628842             10   \n3468              0        0.4        0.3   0.895381             11   \n\n      ps_car_02_cat  ps_car_03_cat  ps_car_04_cat  ps_car_05_cat  \\\n0                 1              0              1              1   \n1                 1             -1              0             -1   \n2                 1              1              0              0   \n3                 1              0              0              0   \n4                 1             -1              0             -1   \n...             ...            ...            ...            ...   \n3464              1              0              0              1   \n3465              1             -1              0              0   \n3466              1             -1              0              1   \n3467              0             -1              0              1   \n3468              1              1              0              0   \n\n      ps_car_06_cat  ps_car_07_cat  ps_car_08_cat  ps_car_09_cat  \\\n0                12              1              1              2   \n1                 0              1              1              2   \n2                 1              1              0              2   \n3                14              1              1              2   \n4                11              1              1              2   \n...             ...            ...            ...            ...   \n3464             10              1              1              2   \n3465              0              1              0              0   \n3466              4              1              1              0   \n3467              1              1              1              0   \n3468              1              0              1              2   \n\n      ps_car_10_cat  ps_car_11_cat  ps_car_11  ps_car_12  ps_car_13  \\\n0                 1            104          3   0.374166   0.738689   \n1                 1             32          3   0.316228   0.605502   \n2                 1             80          3   0.316228   0.808018   \n3                 1             49          3   0.400000   0.688888   \n4                 1             11          2   0.316228   0.667857   \n...             ...            ...        ...        ...        ...   \n3464              1             28          3   0.374166   0.829866   \n3465              1             22          3   0.316228   0.838448   \n3466              1             12          2   0.400000   0.895019   \n3467              1            104          3   0.424264   0.826048   \n3468              1             40          2   0.374166   0.746396   \n\n      ps_car_14  ps_car_15  ps_calc_01  ps_calc_02  ps_calc_03  ps_calc_04  \\\n0      0.325576   3.464102         0.3         0.2         0.9           1   \n1      0.361525   2.828427         0.8         0.9         0.7           4   \n2      0.375170   3.741657         0.2         0.5         0.0           1   \n3      0.368511   2.828427         0.2         0.5         0.5           4   \n4      0.368782   3.316625         0.2         0.9         0.5           1   \n...         ...        ...         ...         ...         ...         ...   \n3464   0.324808   3.000000         0.8         0.1         0.5           3   \n3465   0.374566   3.605551         0.7         0.0         0.7           3   \n3466   0.370810   3.464102         0.4         0.1         0.3           2   \n3467   0.412916   3.162278         0.1         0.3         0.8           2   \n3468   0.324808   3.162278         0.0         0.1         0.7           2   \n\n      ps_calc_05  ps_calc_06  ps_calc_07  ps_calc_08  ps_calc_09  ps_calc_10  \\\n0              3           8           2          10           2           3   \n1              3           8           3          11           0           7   \n2              2           6           3          11           4           5   \n3              3           8           1          12           0           7   \n4              3           6           4          12           2          10   \n...          ...         ...         ...         ...         ...         ...   \n3464           2           8           3           6           1           6   \n3465           1           5           0           7           2          10   \n3466           1           8           4           5           2           8   \n3467           1           9           2          10           2           9   \n3468           3           8           1          11           3          12   \n\n      ps_calc_11  ...  ps_ind_05_cat ps_car_07_cat  \\\n0             11  ...                          0.0   \n1              3  ...                          0.0   \n2              4  ...                          0.0   \n3              1  ...                          0.0   \n4              8  ...                          0.0   \n...          ...  ...                          ...   \n3464           6  ...                          0.0   \n3465           2  ...                          0.0   \n3466           8  ...                          2.0   \n3467           5  ...                          0.0   \n3468           5  ...                          0.0   \n\n      ps_ind_05_cat ps_car_08_cat  ps_ind_05_cat ps_car_09_cat  \\\n0                             0.0                          0.0   \n1                             0.0                          0.0   \n2                             0.0                          0.0   \n3                             0.0                          0.0   \n4                             0.0                          0.0   \n...                           ...                          ...   \n3464                          0.0                          0.0   \n3465                          0.0                          0.0   \n3466                          2.0                          0.0   \n3467                          0.0                          0.0   \n3468                          0.0                          0.0   \n\n      ps_ind_05_cat ps_car_10_cat  ps_ind_05_cat ps_car_11_cat  \\\n0                             0.0                          0.0   \n1                             0.0                          0.0   \n2                             0.0                          0.0   \n3                             0.0                          0.0   \n4                             0.0                          0.0   \n...                           ...                          ...   \n3464                          0.0                          0.0   \n3465                          0.0                          0.0   \n3466                          2.0                         24.0   \n3467                          0.0                          0.0   \n3468                          0.0                          0.0   \n\n      ps_car_01_cat^2  ps_car_01_cat ps_car_02_cat  \\\n0               121.0                         11.0   \n1               121.0                         11.0   \n2                49.0                          7.0   \n3               121.0                         11.0   \n4                49.0                          7.0   \n...               ...                          ...   \n3464             49.0                          7.0   \n3465             36.0                          6.0   \n3466             36.0                          6.0   \n3467            100.0                          0.0   \n3468            121.0                         11.0   \n\n      ps_car_01_cat ps_car_04_cat  ps_car_01_cat ps_car_06_cat  \\\n0                            11.0                        132.0   \n1                             0.0                          0.0   \n2                             0.0                          7.0   \n3                             0.0                        154.0   \n4                             0.0                         77.0   \n...                           ...                          ...   \n3464                          0.0                         70.0   \n3465                          0.0                          0.0   \n3466                          0.0                         24.0   \n3467                          0.0                         10.0   \n3468                          0.0                         11.0   \n\n      ps_car_01_cat ps_car_07_cat  ps_car_01_cat ps_car_08_cat  \\\n0                            11.0                         11.0   \n1                            11.0                         11.0   \n2                             7.0                          0.0   \n3                            11.0                         11.0   \n4                             7.0                          7.0   \n...                           ...                          ...   \n3464                          7.0                          7.0   \n3465                          6.0                          0.0   \n3466                          6.0                          6.0   \n3467                         10.0                         10.0   \n3468                          0.0                         11.0   \n\n      ps_car_01_cat ps_car_09_cat  ps_car_01_cat ps_car_10_cat  \\\n0                            22.0                         11.0   \n1                            22.0                         11.0   \n2                            14.0                          7.0   \n3                            22.0                         11.0   \n4                            14.0                          7.0   \n...                           ...                          ...   \n3464                         14.0                          7.0   \n3465                          0.0                          6.0   \n3466                          0.0                          6.0   \n3467                          0.0                         10.0   \n3468                         22.0                         11.0   \n\n      ps_car_01_cat ps_car_11_cat  ps_car_02_cat^2  \\\n0                          1144.0              1.0   \n1                           352.0              1.0   \n2                           560.0              1.0   \n3                           539.0              1.0   \n4                            77.0              1.0   \n...                           ...              ...   \n3464                        196.0              1.0   \n3465                        132.0              1.0   \n3466                         72.0              1.0   \n3467                       1040.0              0.0   \n3468                        440.0              1.0   \n\n      ps_car_02_cat ps_car_04_cat  ps_car_02_cat ps_car_06_cat  \\\n0                             1.0                         12.0   \n1                             0.0                          0.0   \n2                             0.0                          1.0   \n3                             0.0                         14.0   \n4                             0.0                         11.0   \n...                           ...                          ...   \n3464                          0.0                         10.0   \n3465                          0.0                          0.0   \n3466                          0.0                          4.0   \n3467                          0.0                          0.0   \n3468                          0.0                          1.0   \n\n      ps_car_02_cat ps_car_07_cat  ps_car_02_cat ps_car_08_cat  \\\n0                             1.0                          1.0   \n1                             1.0                          1.0   \n2                             1.0                          0.0   \n3                             1.0                          1.0   \n4                             1.0                          1.0   \n...                           ...                          ...   \n3464                          1.0                          1.0   \n3465                          1.0                          0.0   \n3466                          1.0                          1.0   \n3467                          0.0                          0.0   \n3468                          0.0                          1.0   \n\n      ps_car_02_cat ps_car_09_cat  ps_car_02_cat ps_car_10_cat  \\\n0                             2.0                          1.0   \n1                             2.0                          1.0   \n2                             2.0                          1.0   \n3                             2.0                          1.0   \n4                             2.0                          1.0   \n...                           ...                          ...   \n3464                          2.0                          1.0   \n3465                          0.0                          1.0   \n3466                          0.0                          1.0   \n3467                          0.0                          0.0   \n3468                          2.0                          1.0   \n\n      ps_car_02_cat ps_car_11_cat  ps_car_04_cat^2  \\\n0                           104.0              1.0   \n1                            32.0              0.0   \n2                            80.0              0.0   \n3                            49.0              0.0   \n4                            11.0              0.0   \n...                           ...              ...   \n3464                         28.0              0.0   \n3465                         22.0              0.0   \n3466                         12.0              0.0   \n3467                          0.0              0.0   \n3468                         40.0              0.0   \n\n      ps_car_04_cat ps_car_06_cat  ps_car_04_cat ps_car_07_cat  \\\n0                            12.0                          1.0   \n1                             0.0                          0.0   \n2                             0.0                          0.0   \n3                             0.0                          0.0   \n4                             0.0                          0.0   \n...                           ...                          ...   \n3464                          0.0                          0.0   \n3465                          0.0                          0.0   \n3466                          0.0                          0.0   \n3467                          0.0                          0.0   \n3468                          0.0                          0.0   \n\n      ps_car_04_cat ps_car_08_cat  ps_car_04_cat ps_car_09_cat  \\\n0                             1.0                          2.0   \n1                             0.0                          0.0   \n2                             0.0                          0.0   \n3                             0.0                          0.0   \n4                             0.0                          0.0   \n...                           ...                          ...   \n3464                          0.0                          0.0   \n3465                          0.0                          0.0   \n3466                          0.0                          0.0   \n3467                          0.0                          0.0   \n3468                          0.0                          0.0   \n\n      ps_car_04_cat ps_car_10_cat  ps_car_04_cat ps_car_11_cat  \\\n0                             1.0                        104.0   \n1                             0.0                          0.0   \n2                             0.0                          0.0   \n3                             0.0                          0.0   \n4                             0.0                          0.0   \n...                           ...                          ...   \n3464                          0.0                          0.0   \n3465                          0.0                          0.0   \n3466                          0.0                          0.0   \n3467                          0.0                          0.0   \n3468                          0.0                          0.0   \n\n      ps_car_06_cat^2  ps_car_06_cat ps_car_07_cat  \\\n0               144.0                         12.0   \n1                 0.0                          0.0   \n2                 1.0                          1.0   \n3               196.0                         14.0   \n4               121.0                         11.0   \n...               ...                          ...   \n3464            100.0                         10.0   \n3465              0.0                          0.0   \n3466             16.0                          4.0   \n3467              1.0                          1.0   \n3468              1.0                          0.0   \n\n      ps_car_06_cat ps_car_08_cat  ps_car_06_cat ps_car_09_cat  \\\n0                            12.0                         24.0   \n1                             0.0                          0.0   \n2                             0.0                          2.0   \n3                            14.0                         28.0   \n4                            11.0                         22.0   \n...                           ...                          ...   \n3464                         10.0                         20.0   \n3465                          0.0                          0.0   \n3466                          4.0                          0.0   \n3467                          1.0                          0.0   \n3468                          1.0                          2.0   \n\n      ps_car_06_cat ps_car_10_cat  ps_car_06_cat ps_car_11_cat  \\\n0                            12.0                       1248.0   \n1                             0.0                          0.0   \n2                             1.0                         80.0   \n3                            14.0                        686.0   \n4                            11.0                        121.0   \n...                           ...                          ...   \n3464                         10.0                        280.0   \n3465                          0.0                          0.0   \n3466                          4.0                         48.0   \n3467                          1.0                        104.0   \n3468                          1.0                         40.0   \n\n      ps_car_07_cat^2  ps_car_07_cat ps_car_08_cat  \\\n0                 1.0                          1.0   \n1                 1.0                          1.0   \n2                 1.0                          0.0   \n3                 1.0                          1.0   \n4                 1.0                          1.0   \n...               ...                          ...   \n3464              1.0                          1.0   \n3465              1.0                          0.0   \n3466              1.0                          1.0   \n3467              1.0                          1.0   \n3468              0.0                          0.0   \n\n      ps_car_07_cat ps_car_09_cat  ps_car_07_cat ps_car_10_cat  \\\n0                             2.0                          1.0   \n1                             2.0                          1.0   \n2                             2.0                          1.0   \n3                             2.0                          1.0   \n4                             2.0                          1.0   \n...                           ...                          ...   \n3464                          2.0                          1.0   \n3465                          0.0                          1.0   \n3466                          0.0                          1.0   \n3467                          0.0                          1.0   \n3468                          0.0                          0.0   \n\n      ps_car_07_cat ps_car_11_cat  ps_car_08_cat^2  \\\n0                           104.0              1.0   \n1                            32.0              1.0   \n2                            80.0              0.0   \n3                            49.0              1.0   \n4                            11.0              1.0   \n...                           ...              ...   \n3464                         28.0              1.0   \n3465                         22.0              0.0   \n3466                         12.0              1.0   \n3467                        104.0              1.0   \n3468                          0.0              1.0   \n\n      ps_car_08_cat ps_car_09_cat  ps_car_08_cat ps_car_10_cat  \\\n0                             2.0                          1.0   \n1                             2.0                          1.0   \n2                             0.0                          0.0   \n3                             2.0                          1.0   \n4                             2.0                          1.0   \n...                           ...                          ...   \n3464                          2.0                          1.0   \n3465                          0.0                          0.0   \n3466                          0.0                          1.0   \n3467                          0.0                          1.0   \n3468                          2.0                          1.0   \n\n      ps_car_08_cat ps_car_11_cat  ps_car_09_cat^2  \\\n0                           104.0              4.0   \n1                            32.0              4.0   \n2                             0.0              4.0   \n3                            49.0              4.0   \n4                            11.0              4.0   \n...                           ...              ...   \n3464                         28.0              4.0   \n3465                          0.0              0.0   \n3466                         12.0              0.0   \n3467                        104.0              0.0   \n3468                         40.0              4.0   \n\n      ps_car_09_cat ps_car_10_cat  ps_car_09_cat ps_car_11_cat  \\\n0                             2.0                        208.0   \n1                             2.0                         64.0   \n2                             2.0                        160.0   \n3                             2.0                         98.0   \n4                             2.0                         22.0   \n...                           ...                          ...   \n3464                          2.0                         56.0   \n3465                          0.0                          0.0   \n3466                          0.0                          0.0   \n3467                          0.0                          0.0   \n3468                          2.0                         80.0   \n\n      ps_car_10_cat^2  ps_car_10_cat ps_car_11_cat  ps_car_11_cat^2  \n0                 1.0                        104.0          10816.0  \n1                 1.0                         32.0           1024.0  \n2                 1.0                         80.0           6400.0  \n3                 1.0                         49.0           2401.0  \n4                 1.0                         11.0            121.0  \n...               ...                          ...              ...  \n3464              1.0                         28.0            784.0  \n3465              1.0                         22.0            484.0  \n3466              1.0                         12.0            144.0  \n3467              1.0                        104.0          10816.0  \n3468              1.0                         40.0           1600.0  \n\n[3469 rows x 149 columns]",
      "text/html": "<div>\n<style scoped>\n    .dataframe tbody tr th:only-of-type {\n        vertical-align: middle;\n    }\n\n    .dataframe tbody tr th {\n        vertical-align: top;\n    }\n\n    .dataframe thead th {\n        text-align: right;\n    }\n</style>\n<table border=\"1\" class=\"dataframe\">\n  <thead>\n    <tr style=\"text-align: right;\">\n      <th></th>\n      <th>id</th>\n      <th>target</th>\n      <th>ps_ind_01</th>\n      <th>ps_ind_02_cat</th>\n      <th>ps_ind_03</th>\n      <th>ps_ind_04_cat</th>\n      <th>ps_ind_05_cat</th>\n      <th>ps_ind_06_bin</th>\n      <th>ps_ind_07_bin</th>\n      <th>ps_ind_08_bin</th>\n      <th>ps_ind_09_bin</th>\n      <th>ps_ind_10_bin</th>\n      <th>ps_ind_11_bin</th>\n      <th>ps_ind_12_bin</th>\n      <th>ps_ind_13_bin</th>\n      <th>ps_ind_14</th>\n      <th>ps_ind_15</th>\n      <th>ps_ind_16_bin</th>\n      <th>ps_ind_17_bin</th>\n      <th>ps_ind_18_bin</th>\n      <th>ps_reg_01</th>\n      <th>ps_reg_02</th>\n      <th>ps_reg_03</th>\n      <th>ps_car_01_cat</th>\n      <th>ps_car_02_cat</th>\n      <th>ps_car_03_cat</th>\n      <th>ps_car_04_cat</th>\n      <th>ps_car_05_cat</th>\n      <th>ps_car_06_cat</th>\n      <th>ps_car_07_cat</th>\n      <th>ps_car_08_cat</th>\n      <th>ps_car_09_cat</th>\n      <th>ps_car_10_cat</th>\n      <th>ps_car_11_cat</th>\n      <th>ps_car_11</th>\n      <th>ps_car_12</th>\n      <th>ps_car_13</th>\n      <th>ps_car_14</th>\n      <th>ps_car_15</th>\n      <th>ps_calc_01</th>\n      <th>ps_calc_02</th>\n      <th>ps_calc_03</th>\n      <th>ps_calc_04</th>\n      <th>ps_calc_05</th>\n      <th>ps_calc_06</th>\n      <th>ps_calc_07</th>\n      <th>ps_calc_08</th>\n      <th>ps_calc_09</th>\n      <th>ps_calc_10</th>\n      <th>ps_calc_11</th>\n      <th>...</th>\n      <th>ps_ind_05_cat ps_car_07_cat</th>\n      <th>ps_ind_05_cat ps_car_08_cat</th>\n      <th>ps_ind_05_cat ps_car_09_cat</th>\n      <th>ps_ind_05_cat ps_car_10_cat</th>\n      <th>ps_ind_05_cat ps_car_11_cat</th>\n      <th>ps_car_01_cat^2</th>\n      <th>ps_car_01_cat ps_car_02_cat</th>\n      <th>ps_car_01_cat ps_car_04_cat</th>\n      <th>ps_car_01_cat ps_car_06_cat</th>\n      <th>ps_car_01_cat ps_car_07_cat</th>\n      <th>ps_car_01_cat ps_car_08_cat</th>\n      <th>ps_car_01_cat ps_car_09_cat</th>\n      <th>ps_car_01_cat ps_car_10_cat</th>\n      <th>ps_car_01_cat ps_car_11_cat</th>\n      <th>ps_car_02_cat^2</th>\n      <th>ps_car_02_cat ps_car_04_cat</th>\n      <th>ps_car_02_cat ps_car_06_cat</th>\n      <th>ps_car_02_cat ps_car_07_cat</th>\n      <th>ps_car_02_cat ps_car_08_cat</th>\n      <th>ps_car_02_cat ps_car_09_cat</th>\n      <th>ps_car_02_cat ps_car_10_cat</th>\n      <th>ps_car_02_cat ps_car_11_cat</th>\n      <th>ps_car_04_cat^2</th>\n      <th>ps_car_04_cat ps_car_06_cat</th>\n      <th>ps_car_04_cat ps_car_07_cat</th>\n      <th>ps_car_04_cat ps_car_08_cat</th>\n      <th>ps_car_04_cat ps_car_09_cat</th>\n      <th>ps_car_04_cat ps_car_10_cat</th>\n      <th>ps_car_04_cat ps_car_11_cat</th>\n      <th>ps_car_06_cat^2</th>\n      <th>ps_car_06_cat ps_car_07_cat</th>\n      <th>ps_car_06_cat ps_car_08_cat</th>\n      <th>ps_car_06_cat ps_car_09_cat</th>\n      <th>ps_car_06_cat ps_car_10_cat</th>\n      <th>ps_car_06_cat ps_car_11_cat</th>\n      <th>ps_car_07_cat^2</th>\n      <th>ps_car_07_cat ps_car_08_cat</th>\n      <th>ps_car_07_cat ps_car_09_cat</th>\n      <th>ps_car_07_cat ps_car_10_cat</th>\n      <th>ps_car_07_cat ps_car_11_cat</th>\n      <th>ps_car_08_cat^2</th>\n      <th>ps_car_08_cat ps_car_09_cat</th>\n      <th>ps_car_08_cat ps_car_10_cat</th>\n      <th>ps_car_08_cat ps_car_11_cat</th>\n      <th>ps_car_09_cat^2</th>\n      <th>ps_car_09_cat ps_car_10_cat</th>\n      <th>ps_car_09_cat ps_car_11_cat</th>\n      <th>ps_car_10_cat^2</th>\n      <th>ps_car_10_cat ps_car_11_cat</th>\n      <th>ps_car_11_cat^2</th>\n    </tr>\n  </thead>\n  <tbody>\n    <tr>\n      <th>0</th>\n      <td>69863</td>\n      <td>0</td>\n      <td>1</td>\n      <td>1</td>\n      <td>11</td>\n      <td>0</td>\n      <td>0</td>\n      <td>0</td>\n      <td>1</td>\n      <td>0</td>\n      <td>0</td>\n      <td>0</td>\n      <td>0</td>\n      <td>0</td>\n      <td>0</td>\n      <td>0</td>\n      <td>8</td>\n      <td>0</td>\n      <td>0</td>\n      <td>1</td>\n      <td>0.8</td>\n      <td>0.8</td>\n      <td>1.450431</td>\n      <td>11</td>\n      <td>1</td>\n      <td>0</td>\n      <td>1</td>\n      <td>1</td>\n      <td>12</td>\n      <td>1</td>\n      <td>1</td>\n      <td>2</td>\n      <td>1</td>\n      <td>104</td>\n      <td>3</td>\n      <td>0.374166</td>\n      <td>0.738689</td>\n      <td>0.325576</td>\n      <td>3.464102</td>\n      <td>0.3</td>\n      <td>0.2</td>\n      <td>0.9</td>\n      <td>1</td>\n      <td>3</td>\n      <td>8</td>\n      <td>2</td>\n      <td>10</td>\n      <td>2</td>\n      <td>3</td>\n      <td>11</td>\n      <td>...</td>\n      <td>0.0</td>\n      <td>0.0</td>\n      <td>0.0</td>\n      <td>0.0</td>\n      <td>0.0</td>\n      <td>121.0</td>\n      <td>11.0</td>\n      <td>11.0</td>\n      <td>132.0</td>\n      <td>11.0</td>\n      <td>11.0</td>\n      <td>22.0</td>\n      <td>11.0</td>\n      <td>1144.0</td>\n      <td>1.0</td>\n      <td>1.0</td>\n      <td>12.0</td>\n      <td>1.0</td>\n      <td>1.0</td>\n      <td>2.0</td>\n      <td>1.0</td>\n      <td>104.0</td>\n      <td>1.0</td>\n      <td>12.0</td>\n      <td>1.0</td>\n      <td>1.0</td>\n      <td>2.0</td>\n      <td>1.0</td>\n      <td>104.0</td>\n      <td>144.0</td>\n      <td>12.0</td>\n      <td>12.0</td>\n      <td>24.0</td>\n      <td>12.0</td>\n      <td>1248.0</td>\n      <td>1.0</td>\n      <td>1.0</td>\n      <td>2.0</td>\n      <td>1.0</td>\n      <td>104.0</td>\n      <td>1.0</td>\n      <td>2.0</td>\n      <td>1.0</td>\n      <td>104.0</td>\n      <td>4.0</td>\n      <td>2.0</td>\n      <td>208.0</td>\n      <td>1.0</td>\n      <td>104.0</td>\n      <td>10816.0</td>\n    </tr>\n    <tr>\n      <th>1</th>\n      <td>41766</td>\n      <td>0</td>\n      <td>0</td>\n      <td>1</td>\n      <td>4</td>\n      <td>1</td>\n      <td>0</td>\n      <td>0</td>\n      <td>0</td>\n      <td>0</td>\n      <td>1</td>\n      <td>0</td>\n      <td>0</td>\n      <td>0</td>\n      <td>0</td>\n      <td>0</td>\n      <td>5</td>\n      <td>0</td>\n      <td>0</td>\n      <td>0</td>\n      <td>0.5</td>\n      <td>0.3</td>\n      <td>1.078772</td>\n      <td>11</td>\n      <td>1</td>\n      <td>-1</td>\n      <td>0</td>\n      <td>-1</td>\n      <td>0</td>\n      <td>1</td>\n      <td>1</td>\n      <td>2</td>\n      <td>1</td>\n      <td>32</td>\n      <td>3</td>\n      <td>0.316228</td>\n      <td>0.605502</td>\n      <td>0.361525</td>\n      <td>2.828427</td>\n      <td>0.8</td>\n      <td>0.9</td>\n      <td>0.7</td>\n      <td>4</td>\n      <td>3</td>\n      <td>8</td>\n      <td>3</td>\n      <td>11</td>\n      <td>0</td>\n      <td>7</td>\n      <td>3</td>\n      <td>...</td>\n      <td>0.0</td>\n      <td>0.0</td>\n      <td>0.0</td>\n      <td>0.0</td>\n      <td>0.0</td>\n      <td>121.0</td>\n      <td>11.0</td>\n      <td>0.0</td>\n      <td>0.0</td>\n      <td>11.0</td>\n      <td>11.0</td>\n      <td>22.0</td>\n      <td>11.0</td>\n      <td>352.0</td>\n      <td>1.0</td>\n      <td>0.0</td>\n      <td>0.0</td>\n      <td>1.0</td>\n      <td>1.0</td>\n      <td>2.0</td>\n      <td>1.0</td>\n      <td>32.0</td>\n      <td>0.0</td>\n      <td>0.0</td>\n      <td>0.0</td>\n      <td>0.0</td>\n      <td>0.0</td>\n      <td>0.0</td>\n      <td>0.0</td>\n      <td>0.0</td>\n      <td>0.0</td>\n      <td>0.0</td>\n      <td>0.0</td>\n      <td>0.0</td>\n      <td>0.0</td>\n      <td>1.0</td>\n      <td>1.0</td>\n      <td>2.0</td>\n      <td>1.0</td>\n      <td>32.0</td>\n      <td>1.0</td>\n      <td>2.0</td>\n      <td>1.0</td>\n      <td>32.0</td>\n      <td>4.0</td>\n      <td>2.0</td>\n      <td>64.0</td>\n      <td>1.0</td>\n      <td>32.0</td>\n      <td>1024.0</td>\n    </tr>\n    <tr>\n      <th>2</th>\n      <td>9601</td>\n      <td>0</td>\n      <td>0</td>\n      <td>1</td>\n      <td>4</td>\n      <td>0</td>\n      <td>0</td>\n      <td>0</td>\n      <td>1</td>\n      <td>0</td>\n      <td>0</td>\n      <td>0</td>\n      <td>0</td>\n      <td>0</td>\n      <td>0</td>\n      <td>0</td>\n      <td>6</td>\n      <td>1</td>\n      <td>0</td>\n      <td>0</td>\n      <td>0.1</td>\n      <td>0.1</td>\n      <td>0.895381</td>\n      <td>7</td>\n      <td>1</td>\n      <td>1</td>\n      <td>0</td>\n      <td>0</td>\n      <td>1</td>\n      <td>1</td>\n      <td>0</td>\n      <td>2</td>\n      <td>1</td>\n      <td>80</td>\n      <td>3</td>\n      <td>0.316228</td>\n      <td>0.808018</td>\n      <td>0.375170</td>\n      <td>3.741657</td>\n      <td>0.2</td>\n      <td>0.5</td>\n      <td>0.0</td>\n      <td>1</td>\n      <td>2</td>\n      <td>6</td>\n      <td>3</td>\n      <td>11</td>\n      <td>4</td>\n      <td>5</td>\n      <td>4</td>\n      <td>...</td>\n      <td>0.0</td>\n      <td>0.0</td>\n      <td>0.0</td>\n      <td>0.0</td>\n      <td>0.0</td>\n      <td>49.0</td>\n      <td>7.0</td>\n      <td>0.0</td>\n      <td>7.0</td>\n      <td>7.0</td>\n      <td>0.0</td>\n      <td>14.0</td>\n      <td>7.0</td>\n      <td>560.0</td>\n      <td>1.0</td>\n      <td>0.0</td>\n      <td>1.0</td>\n      <td>1.0</td>\n      <td>0.0</td>\n      <td>2.0</td>\n      <td>1.0</td>\n      <td>80.0</td>\n      <td>0.0</td>\n      <td>0.0</td>\n      <td>0.0</td>\n      <td>0.0</td>\n      <td>0.0</td>\n      <td>0.0</td>\n      <td>0.0</td>\n      <td>1.0</td>\n      <td>1.0</td>\n      <td>0.0</td>\n      <td>2.0</td>\n      <td>1.0</td>\n      <td>80.0</td>\n      <td>1.0</td>\n      <td>0.0</td>\n      <td>2.0</td>\n      <td>1.0</td>\n      <td>80.0</td>\n      <td>0.0</td>\n      <td>0.0</td>\n      <td>0.0</td>\n      <td>0.0</td>\n      <td>4.0</td>\n      <td>2.0</td>\n      <td>160.0</td>\n      <td>1.0</td>\n      <td>80.0</td>\n      <td>6400.0</td>\n    </tr>\n    <tr>\n      <th>3</th>\n      <td>34442</td>\n      <td>0</td>\n      <td>0</td>\n      <td>1</td>\n      <td>4</td>\n      <td>0</td>\n      <td>0</td>\n      <td>0</td>\n      <td>0</td>\n      <td>1</td>\n      <td>0</td>\n      <td>0</td>\n      <td>0</td>\n      <td>0</td>\n      <td>0</td>\n      <td>0</td>\n      <td>4</td>\n      <td>0</td>\n      <td>1</td>\n      <td>0</td>\n      <td>0.1</td>\n      <td>0.0</td>\n      <td>0.895381</td>\n      <td>11</td>\n      <td>1</td>\n      <td>0</td>\n      <td>0</td>\n      <td>0</td>\n      <td>14</td>\n      <td>1</td>\n      <td>1</td>\n      <td>2</td>\n      <td>1</td>\n      <td>49</td>\n      <td>3</td>\n      <td>0.400000</td>\n      <td>0.688888</td>\n      <td>0.368511</td>\n      <td>2.828427</td>\n      <td>0.2</td>\n      <td>0.5</td>\n      <td>0.5</td>\n      <td>4</td>\n      <td>3</td>\n      <td>8</td>\n      <td>1</td>\n      <td>12</td>\n      <td>0</td>\n      <td>7</td>\n      <td>1</td>\n      <td>...</td>\n      <td>0.0</td>\n      <td>0.0</td>\n      <td>0.0</td>\n      <td>0.0</td>\n      <td>0.0</td>\n      <td>121.0</td>\n      <td>11.0</td>\n      <td>0.0</td>\n      <td>154.0</td>\n      <td>11.0</td>\n      <td>11.0</td>\n      <td>22.0</td>\n      <td>11.0</td>\n      <td>539.0</td>\n      <td>1.0</td>\n      <td>0.0</td>\n      <td>14.0</td>\n      <td>1.0</td>\n      <td>1.0</td>\n      <td>2.0</td>\n      <td>1.0</td>\n      <td>49.0</td>\n      <td>0.0</td>\n      <td>0.0</td>\n      <td>0.0</td>\n      <td>0.0</td>\n      <td>0.0</td>\n      <td>0.0</td>\n      <td>0.0</td>\n      <td>196.0</td>\n      <td>14.0</td>\n      <td>14.0</td>\n      <td>28.0</td>\n      <td>14.0</td>\n      <td>686.0</td>\n      <td>1.0</td>\n      <td>1.0</td>\n      <td>2.0</td>\n      <td>1.0</td>\n      <td>49.0</td>\n      <td>1.0</td>\n      <td>2.0</td>\n      <td>1.0</td>\n      <td>49.0</td>\n      <td>4.0</td>\n      <td>2.0</td>\n      <td>98.0</td>\n      <td>1.0</td>\n      <td>49.0</td>\n      <td>2401.0</td>\n    </tr>\n    <tr>\n      <th>4</th>\n      <td>74925</td>\n      <td>0</td>\n      <td>0</td>\n      <td>1</td>\n      <td>1</td>\n      <td>0</td>\n      <td>0</td>\n      <td>0</td>\n      <td>0</td>\n      <td>0</td>\n      <td>1</td>\n      <td>0</td>\n      <td>0</td>\n      <td>0</td>\n      <td>0</td>\n      <td>0</td>\n      <td>3</td>\n      <td>0</td>\n      <td>0</td>\n      <td>1</td>\n      <td>0.8</td>\n      <td>0.3</td>\n      <td>0.457575</td>\n      <td>7</td>\n      <td>1</td>\n      <td>-1</td>\n      <td>0</td>\n      <td>-1</td>\n      <td>11</td>\n      <td>1</td>\n      <td>1</td>\n      <td>2</td>\n      <td>1</td>\n      <td>11</td>\n      <td>2</td>\n      <td>0.316228</td>\n      <td>0.667857</td>\n      <td>0.368782</td>\n      <td>3.316625</td>\n      <td>0.2</td>\n      <td>0.9</td>\n      <td>0.5</td>\n      <td>1</td>\n      <td>3</td>\n      <td>6</td>\n      <td>4</td>\n      <td>12</td>\n      <td>2</td>\n      <td>10</td>\n      <td>8</td>\n      <td>...</td>\n      <td>0.0</td>\n      <td>0.0</td>\n      <td>0.0</td>\n      <td>0.0</td>\n      <td>0.0</td>\n      <td>49.0</td>\n      <td>7.0</td>\n      <td>0.0</td>\n      <td>77.0</td>\n      <td>7.0</td>\n      <td>7.0</td>\n      <td>14.0</td>\n      <td>7.0</td>\n      <td>77.0</td>\n      <td>1.0</td>\n      <td>0.0</td>\n      <td>11.0</td>\n      <td>1.0</td>\n      <td>1.0</td>\n      <td>2.0</td>\n      <td>1.0</td>\n      <td>11.0</td>\n      <td>0.0</td>\n      <td>0.0</td>\n      <td>0.0</td>\n      <td>0.0</td>\n      <td>0.0</td>\n      <td>0.0</td>\n      <td>0.0</td>\n      <td>121.0</td>\n      <td>11.0</td>\n      <td>11.0</td>\n      <td>22.0</td>\n      <td>11.0</td>\n      <td>121.0</td>\n      <td>1.0</td>\n      <td>1.0</td>\n      <td>2.0</td>\n      <td>1.0</td>\n      <td>11.0</td>\n      <td>1.0</td>\n      <td>2.0</td>\n      <td>1.0</td>\n      <td>11.0</td>\n      <td>4.0</td>\n      <td>2.0</td>\n      <td>22.0</td>\n      <td>1.0</td>\n      <td>11.0</td>\n      <td>121.0</td>\n    </tr>\n    <tr>\n      <th>...</th>\n      <td>...</td>\n      <td>...</td>\n      <td>...</td>\n      <td>...</td>\n      <td>...</td>\n      <td>...</td>\n      <td>...</td>\n      <td>...</td>\n      <td>...</td>\n      <td>...</td>\n      <td>...</td>\n      <td>...</td>\n      <td>...</td>\n      <td>...</td>\n      <td>...</td>\n      <td>...</td>\n      <td>...</td>\n      <td>...</td>\n      <td>...</td>\n      <td>...</td>\n      <td>...</td>\n      <td>...</td>\n      <td>...</td>\n      <td>...</td>\n      <td>...</td>\n      <td>...</td>\n      <td>...</td>\n      <td>...</td>\n      <td>...</td>\n      <td>...</td>\n      <td>...</td>\n      <td>...</td>\n      <td>...</td>\n      <td>...</td>\n      <td>...</td>\n      <td>...</td>\n      <td>...</td>\n      <td>...</td>\n      <td>...</td>\n      <td>...</td>\n      <td>...</td>\n      <td>...</td>\n      <td>...</td>\n      <td>...</td>\n      <td>...</td>\n      <td>...</td>\n      <td>...</td>\n      <td>...</td>\n      <td>...</td>\n      <td>...</td>\n      <td>...</td>\n      <td>...</td>\n      <td>...</td>\n      <td>...</td>\n      <td>...</td>\n      <td>...</td>\n      <td>...</td>\n      <td>...</td>\n      <td>...</td>\n      <td>...</td>\n      <td>...</td>\n      <td>...</td>\n      <td>...</td>\n      <td>...</td>\n      <td>...</td>\n      <td>...</td>\n      <td>...</td>\n      <td>...</td>\n      <td>...</td>\n      <td>...</td>\n      <td>...</td>\n      <td>...</td>\n      <td>...</td>\n      <td>...</td>\n      <td>...</td>\n      <td>...</td>\n      <td>...</td>\n      <td>...</td>\n      <td>...</td>\n      <td>...</td>\n      <td>...</td>\n      <td>...</td>\n      <td>...</td>\n      <td>...</td>\n      <td>...</td>\n      <td>...</td>\n      <td>...</td>\n      <td>...</td>\n      <td>...</td>\n      <td>...</td>\n      <td>...</td>\n      <td>...</td>\n      <td>...</td>\n      <td>...</td>\n      <td>...</td>\n      <td>...</td>\n      <td>...</td>\n      <td>...</td>\n      <td>...</td>\n      <td>...</td>\n      <td>...</td>\n    </tr>\n    <tr>\n      <th>3464</th>\n      <td>35064</td>\n      <td>1</td>\n      <td>1</td>\n      <td>2</td>\n      <td>1</td>\n      <td>1</td>\n      <td>0</td>\n      <td>0</td>\n      <td>1</td>\n      <td>0</td>\n      <td>0</td>\n      <td>0</td>\n      <td>0</td>\n      <td>0</td>\n      <td>0</td>\n      <td>0</td>\n      <td>0</td>\n      <td>0</td>\n      <td>1</td>\n      <td>0</td>\n      <td>0.7</td>\n      <td>0.8</td>\n      <td>0.812788</td>\n      <td>7</td>\n      <td>1</td>\n      <td>0</td>\n      <td>0</td>\n      <td>1</td>\n      <td>10</td>\n      <td>1</td>\n      <td>1</td>\n      <td>2</td>\n      <td>1</td>\n      <td>28</td>\n      <td>3</td>\n      <td>0.374166</td>\n      <td>0.829866</td>\n      <td>0.324808</td>\n      <td>3.000000</td>\n      <td>0.8</td>\n      <td>0.1</td>\n      <td>0.5</td>\n      <td>3</td>\n      <td>2</td>\n      <td>8</td>\n      <td>3</td>\n      <td>6</td>\n      <td>1</td>\n      <td>6</td>\n      <td>6</td>\n      <td>...</td>\n      <td>0.0</td>\n      <td>0.0</td>\n      <td>0.0</td>\n      <td>0.0</td>\n      <td>0.0</td>\n      <td>49.0</td>\n      <td>7.0</td>\n      <td>0.0</td>\n      <td>70.0</td>\n      <td>7.0</td>\n      <td>7.0</td>\n      <td>14.0</td>\n      <td>7.0</td>\n      <td>196.0</td>\n      <td>1.0</td>\n      <td>0.0</td>\n      <td>10.0</td>\n      <td>1.0</td>\n      <td>1.0</td>\n      <td>2.0</td>\n      <td>1.0</td>\n      <td>28.0</td>\n      <td>0.0</td>\n      <td>0.0</td>\n      <td>0.0</td>\n      <td>0.0</td>\n      <td>0.0</td>\n      <td>0.0</td>\n      <td>0.0</td>\n      <td>100.0</td>\n      <td>10.0</td>\n      <td>10.0</td>\n      <td>20.0</td>\n      <td>10.0</td>\n      <td>280.0</td>\n      <td>1.0</td>\n      <td>1.0</td>\n      <td>2.0</td>\n      <td>1.0</td>\n      <td>28.0</td>\n      <td>1.0</td>\n      <td>2.0</td>\n      <td>1.0</td>\n      <td>28.0</td>\n      <td>4.0</td>\n      <td>2.0</td>\n      <td>56.0</td>\n      <td>1.0</td>\n      <td>28.0</td>\n      <td>784.0</td>\n    </tr>\n    <tr>\n      <th>3465</th>\n      <td>77671</td>\n      <td>1</td>\n      <td>0</td>\n      <td>1</td>\n      <td>2</td>\n      <td>1</td>\n      <td>0</td>\n      <td>0</td>\n      <td>1</td>\n      <td>0</td>\n      <td>0</td>\n      <td>0</td>\n      <td>0</td>\n      <td>0</td>\n      <td>0</td>\n      <td>0</td>\n      <td>3</td>\n      <td>0</td>\n      <td>0</td>\n      <td>1</td>\n      <td>0.7</td>\n      <td>0.2</td>\n      <td>0.537355</td>\n      <td>6</td>\n      <td>1</td>\n      <td>-1</td>\n      <td>0</td>\n      <td>0</td>\n      <td>0</td>\n      <td>1</td>\n      <td>0</td>\n      <td>0</td>\n      <td>1</td>\n      <td>22</td>\n      <td>3</td>\n      <td>0.316228</td>\n      <td>0.838448</td>\n      <td>0.374566</td>\n      <td>3.605551</td>\n      <td>0.7</td>\n      <td>0.0</td>\n      <td>0.7</td>\n      <td>3</td>\n      <td>1</td>\n      <td>5</td>\n      <td>0</td>\n      <td>7</td>\n      <td>2</td>\n      <td>10</td>\n      <td>2</td>\n      <td>...</td>\n      <td>0.0</td>\n      <td>0.0</td>\n      <td>0.0</td>\n      <td>0.0</td>\n      <td>0.0</td>\n      <td>36.0</td>\n      <td>6.0</td>\n      <td>0.0</td>\n      <td>0.0</td>\n      <td>6.0</td>\n      <td>0.0</td>\n      <td>0.0</td>\n      <td>6.0</td>\n      <td>132.0</td>\n      <td>1.0</td>\n      <td>0.0</td>\n      <td>0.0</td>\n      <td>1.0</td>\n      <td>0.0</td>\n      <td>0.0</td>\n      <td>1.0</td>\n      <td>22.0</td>\n      <td>0.0</td>\n      <td>0.0</td>\n      <td>0.0</td>\n      <td>0.0</td>\n      <td>0.0</td>\n      <td>0.0</td>\n      <td>0.0</td>\n      <td>0.0</td>\n      <td>0.0</td>\n      <td>0.0</td>\n      <td>0.0</td>\n      <td>0.0</td>\n      <td>0.0</td>\n      <td>1.0</td>\n      <td>0.0</td>\n      <td>0.0</td>\n      <td>1.0</td>\n      <td>22.0</td>\n      <td>0.0</td>\n      <td>0.0</td>\n      <td>0.0</td>\n      <td>0.0</td>\n      <td>0.0</td>\n      <td>0.0</td>\n      <td>0.0</td>\n      <td>1.0</td>\n      <td>22.0</td>\n      <td>484.0</td>\n    </tr>\n    <tr>\n      <th>3466</th>\n      <td>116333</td>\n      <td>1</td>\n      <td>7</td>\n      <td>1</td>\n      <td>7</td>\n      <td>0</td>\n      <td>2</td>\n      <td>0</td>\n      <td>1</td>\n      <td>0</td>\n      <td>0</td>\n      <td>0</td>\n      <td>0</td>\n      <td>0</td>\n      <td>0</td>\n      <td>0</td>\n      <td>12</td>\n      <td>1</td>\n      <td>0</td>\n      <td>0</td>\n      <td>0.7</td>\n      <td>0.0</td>\n      <td>0.744564</td>\n      <td>6</td>\n      <td>1</td>\n      <td>-1</td>\n      <td>0</td>\n      <td>1</td>\n      <td>4</td>\n      <td>1</td>\n      <td>1</td>\n      <td>0</td>\n      <td>1</td>\n      <td>12</td>\n      <td>2</td>\n      <td>0.400000</td>\n      <td>0.895019</td>\n      <td>0.370810</td>\n      <td>3.464102</td>\n      <td>0.4</td>\n      <td>0.1</td>\n      <td>0.3</td>\n      <td>2</td>\n      <td>1</td>\n      <td>8</td>\n      <td>4</td>\n      <td>5</td>\n      <td>2</td>\n      <td>8</td>\n      <td>8</td>\n      <td>...</td>\n      <td>2.0</td>\n      <td>2.0</td>\n      <td>0.0</td>\n      <td>2.0</td>\n      <td>24.0</td>\n      <td>36.0</td>\n      <td>6.0</td>\n      <td>0.0</td>\n      <td>24.0</td>\n      <td>6.0</td>\n      <td>6.0</td>\n      <td>0.0</td>\n      <td>6.0</td>\n      <td>72.0</td>\n      <td>1.0</td>\n      <td>0.0</td>\n      <td>4.0</td>\n      <td>1.0</td>\n      <td>1.0</td>\n      <td>0.0</td>\n      <td>1.0</td>\n      <td>12.0</td>\n      <td>0.0</td>\n      <td>0.0</td>\n      <td>0.0</td>\n      <td>0.0</td>\n      <td>0.0</td>\n      <td>0.0</td>\n      <td>0.0</td>\n      <td>16.0</td>\n      <td>4.0</td>\n      <td>4.0</td>\n      <td>0.0</td>\n      <td>4.0</td>\n      <td>48.0</td>\n      <td>1.0</td>\n      <td>1.0</td>\n      <td>0.0</td>\n      <td>1.0</td>\n      <td>12.0</td>\n      <td>1.0</td>\n      <td>0.0</td>\n      <td>1.0</td>\n      <td>12.0</td>\n      <td>0.0</td>\n      <td>0.0</td>\n      <td>0.0</td>\n      <td>1.0</td>\n      <td>12.0</td>\n      <td>144.0</td>\n    </tr>\n    <tr>\n      <th>3467</th>\n      <td>32058</td>\n      <td>1</td>\n      <td>1</td>\n      <td>1</td>\n      <td>1</td>\n      <td>1</td>\n      <td>0</td>\n      <td>1</td>\n      <td>0</td>\n      <td>0</td>\n      <td>0</td>\n      <td>0</td>\n      <td>0</td>\n      <td>0</td>\n      <td>0</td>\n      <td>0</td>\n      <td>3</td>\n      <td>1</td>\n      <td>0</td>\n      <td>0</td>\n      <td>0.9</td>\n      <td>1.6</td>\n      <td>1.628842</td>\n      <td>10</td>\n      <td>0</td>\n      <td>-1</td>\n      <td>0</td>\n      <td>1</td>\n      <td>1</td>\n      <td>1</td>\n      <td>1</td>\n      <td>0</td>\n      <td>1</td>\n      <td>104</td>\n      <td>3</td>\n      <td>0.424264</td>\n      <td>0.826048</td>\n      <td>0.412916</td>\n      <td>3.162278</td>\n      <td>0.1</td>\n      <td>0.3</td>\n      <td>0.8</td>\n      <td>2</td>\n      <td>1</td>\n      <td>9</td>\n      <td>2</td>\n      <td>10</td>\n      <td>2</td>\n      <td>9</td>\n      <td>5</td>\n      <td>...</td>\n      <td>0.0</td>\n      <td>0.0</td>\n      <td>0.0</td>\n      <td>0.0</td>\n      <td>0.0</td>\n      <td>100.0</td>\n      <td>0.0</td>\n      <td>0.0</td>\n      <td>10.0</td>\n      <td>10.0</td>\n      <td>10.0</td>\n      <td>0.0</td>\n      <td>10.0</td>\n      <td>1040.0</td>\n      <td>0.0</td>\n      <td>0.0</td>\n      <td>0.0</td>\n      <td>0.0</td>\n      <td>0.0</td>\n      <td>0.0</td>\n      <td>0.0</td>\n      <td>0.0</td>\n      <td>0.0</td>\n      <td>0.0</td>\n      <td>0.0</td>\n      <td>0.0</td>\n      <td>0.0</td>\n      <td>0.0</td>\n      <td>0.0</td>\n      <td>1.0</td>\n      <td>1.0</td>\n      <td>1.0</td>\n      <td>0.0</td>\n      <td>1.0</td>\n      <td>104.0</td>\n      <td>1.0</td>\n      <td>1.0</td>\n      <td>0.0</td>\n      <td>1.0</td>\n      <td>104.0</td>\n      <td>1.0</td>\n      <td>0.0</td>\n      <td>1.0</td>\n      <td>104.0</td>\n      <td>0.0</td>\n      <td>0.0</td>\n      <td>0.0</td>\n      <td>1.0</td>\n      <td>104.0</td>\n      <td>10816.0</td>\n    </tr>\n    <tr>\n      <th>3468</th>\n      <td>89532</td>\n      <td>1</td>\n      <td>3</td>\n      <td>1</td>\n      <td>5</td>\n      <td>0</td>\n      <td>0</td>\n      <td>0</td>\n      <td>0</td>\n      <td>1</td>\n      <td>0</td>\n      <td>0</td>\n      <td>0</td>\n      <td>0</td>\n      <td>0</td>\n      <td>0</td>\n      <td>3</td>\n      <td>0</td>\n      <td>1</td>\n      <td>0</td>\n      <td>0.4</td>\n      <td>0.3</td>\n      <td>0.895381</td>\n      <td>11</td>\n      <td>1</td>\n      <td>1</td>\n      <td>0</td>\n      <td>0</td>\n      <td>1</td>\n      <td>0</td>\n      <td>1</td>\n      <td>2</td>\n      <td>1</td>\n      <td>40</td>\n      <td>2</td>\n      <td>0.374166</td>\n      <td>0.746396</td>\n      <td>0.324808</td>\n      <td>3.162278</td>\n      <td>0.0</td>\n      <td>0.1</td>\n      <td>0.7</td>\n      <td>2</td>\n      <td>3</td>\n      <td>8</td>\n      <td>1</td>\n      <td>11</td>\n      <td>3</td>\n      <td>12</td>\n      <td>5</td>\n      <td>...</td>\n      <td>0.0</td>\n      <td>0.0</td>\n      <td>0.0</td>\n      <td>0.0</td>\n      <td>0.0</td>\n      <td>121.0</td>\n      <td>11.0</td>\n      <td>0.0</td>\n      <td>11.0</td>\n      <td>0.0</td>\n      <td>11.0</td>\n      <td>22.0</td>\n      <td>11.0</td>\n      <td>440.0</td>\n      <td>1.0</td>\n      <td>0.0</td>\n      <td>1.0</td>\n      <td>0.0</td>\n      <td>1.0</td>\n      <td>2.0</td>\n      <td>1.0</td>\n      <td>40.0</td>\n      <td>0.0</td>\n      <td>0.0</td>\n      <td>0.0</td>\n      <td>0.0</td>\n      <td>0.0</td>\n      <td>0.0</td>\n      <td>0.0</td>\n      <td>1.0</td>\n      <td>0.0</td>\n      <td>1.0</td>\n      <td>2.0</td>\n      <td>1.0</td>\n      <td>40.0</td>\n      <td>0.0</td>\n      <td>0.0</td>\n      <td>0.0</td>\n      <td>0.0</td>\n      <td>0.0</td>\n      <td>1.0</td>\n      <td>2.0</td>\n      <td>1.0</td>\n      <td>40.0</td>\n      <td>4.0</td>\n      <td>2.0</td>\n      <td>80.0</td>\n      <td>1.0</td>\n      <td>40.0</td>\n      <td>1600.0</td>\n    </tr>\n  </tbody>\n</table>\n<p>3469 rows × 149 columns</p>\n</div>"
     },
     "execution_count": 133,
     "metadata": {},
     "output_type": "execute_result"
    }
   ],
   "source": [
    "train"
   ],
   "metadata": {
    "collapsed": false,
    "pycharm": {
     "name": "#%%\n"
    }
   }
  },
  {
   "cell_type": "code",
   "execution_count": 138,
   "outputs": [],
   "source": [
    "# Feature Selection\n",
    "# Removing features with low or zero variance\n",
    "\n",
    "# Personllay , i prefer to let the classifier algorithm chose which features to keep\n",
    "# But there is on thing that we can do ourseleves\n",
    "# That is removing features with no or a very low variance\n",
    "# Sklearn ahs a handy method to do that  : Variance Threshold\n",
    "\n",
    "# By default it removes feature with zero variance\n",
    "# This will not be applicable for this competition\n",
    "# as we saw there are no zero variance variables in the previous steps\n",
    "# But if we would remove features with less than 1% variance, we would remove 31 variables\n",
    "\n",
    "\n",
    "# 분산 값이 0.01 보다 낮은 값을 찾는다 zero value는 없지만\n",
    "# feature 자체가 표본에 따라 그다지 변하지 않든다면\n",
    "# 예를 들면 종속데이터와 특징데이터가 모두 0 또는 1 두가지값을 가지는데 종속데이터는 0과1균형인데 특징데이터가 대부분이 0이라면\n",
    "# 분류에 도움이 되지 안흥ㄹ 가능성이 높기 때문 ,\n",
    "# 분산에 의한 선택은 반드시 상관관계와 일치한다는 보장은 없기 때문에 신중하게 사용해야한다\n",
    "selector = VarianceThreshold(threshold=0.01)"
   ],
   "metadata": {
    "collapsed": false,
    "pycharm": {
     "name": "#%%\n"
    }
   }
  },
  {
   "cell_type": "code",
   "execution_count": 139,
   "outputs": [],
   "source": [
    "selector.fit(train.drop(['id','target'], axis=1))\n",
    "\n",
    "# Fit to train without id and target variables\n",
    "\n",
    "f = np.vectorize(lambda x : not x)\n",
    "\n",
    "\n",
    "v = train.drop(['id','target'], axis=1).columns[f(selector.get_support())]"
   ],
   "metadata": {
    "collapsed": false,
    "pycharm": {
     "name": "#%%\n"
    }
   }
  },
  {
   "cell_type": "code",
   "execution_count": 140,
   "outputs": [
    {
     "name": "stdout",
     "output_type": "stream",
     "text": [
      "8 variables have too low variance\n",
      "These variables are ['ps_ind_10_bin', 'ps_ind_11_bin', 'ps_ind_12_bin', 'ps_ind_13_bin', 'ps_car_10_cat', 'ps_car_12', 'ps_car_14', 'ps_car_10_cat']\n"
     ]
    }
   ],
   "source": [
    "print('{} variables have too low variance'.format(len(v)))\n",
    "print('These variables are {}'.format(list(v)))"
   ],
   "metadata": {
    "collapsed": false,
    "pycharm": {
     "name": "#%%\n"
    }
   }
  },
  {
   "cell_type": "code",
   "execution_count": 140,
   "outputs": [],
   "source": [],
   "metadata": {
    "collapsed": false,
    "pycharm": {
     "name": "#%%\n"
    }
   }
  },
  {
   "cell_type": "code",
   "execution_count": null,
   "outputs": [],
   "source": [
    "# feature 1000개 이상이면 몇십개씩 block으로 성능향상 비교 하고 feture importance 상위 10%에새로추가된거 생기고\n",
    "# 안생기면 다른 것 randomly choosing 을 계속 해보는 방식으로 늘려야하낟\n",
    "# 아래 Randomforestclassifier 가 그런 역할을한다\n",
    "# 특정 특성을 선택하는 트리를 여러 개 생성하여  이들을 기반으로 작업\n",
    "# n_estimators 모델에서 사용하는 트리개수\n",
    "# random_state 난수 seed 설정?\n",
    "# n_jobs= 적합성과 예측성을 위해 병렬로 실행할 작업 수"
   ],
   "metadata": {
    "collapsed": false,
    "pycharm": {
     "name": "#%%\n"
    }
   }
  },
  {
   "cell_type": "code",
   "execution_count": 143,
   "outputs": [],
   "source": [
    "\n",
    "\n",
    "X_train = train.drop(['id','target'], axis=1)\n",
    "y_train = train['target']"
   ],
   "metadata": {
    "collapsed": false,
    "pycharm": {
     "name": "#%%\n"
    }
   }
  },
  {
   "cell_type": "code",
   "execution_count": 144,
   "outputs": [],
   "source": [
    "feat_labels = X_train.columns"
   ],
   "metadata": {
    "collapsed": false,
    "pycharm": {
     "name": "#%%\n"
    }
   }
  },
  {
   "cell_type": "code",
   "execution_count": 145,
   "outputs": [],
   "source": [
    "#\n",
    "rf = RandomForestClassifier(n_estimators=10, random_state=0, n_jobs=-1 )\n",
    "\n",
    "rf.fit(X_train[:1000], y_train[:1000])\n",
    "\n",
    "importances = rf.feature_importances_\n",
    "# 내림차순 indices 를 반환 하는 argsort\n",
    "indices  = np.argsort(rf.feature_importances_)[::-1]"
   ],
   "metadata": {
    "collapsed": false,
    "pycharm": {
     "name": "#%%\n"
    }
   }
  },
  {
   "cell_type": "code",
   "execution_count": 147,
   "outputs": [
    {
     "data": {
      "text/plain": "array([0., 0., 0., 0., 0., 0., 0., 0., 0., 0., 0., 0., 0., 0., 0., 0., 0.,\n       0., 0., 0., 0., 0., 0., 0., 0., 0., 0., 0., 0., 0., 0., 0., 0., 0.,\n       0., 0., 0., 0., 0., 0., 0., 0., 0., 0., 0., 0., 0., 0., 0., 0., 0.,\n       0., 0., 0., 0., 0., 0., 0., 0., 0., 0., 0., 0., 0., 0., 0., 0., 0.,\n       0., 0., 0., 0., 0., 0., 0., 0., 0., 0., 0., 0., 0., 0., 0., 0., 0.,\n       0., 0., 0., 0., 0., 0., 0., 0., 0., 0., 0., 0., 0., 0., 0., 0., 0.,\n       0., 0., 0., 0., 0., 0., 0., 0., 0., 0., 0., 0., 0., 0., 0., 0., 0.,\n       0., 0., 0., 0., 0., 0., 0., 0., 0., 0., 0., 0., 0., 0., 0., 0., 0.,\n       0., 0., 0., 0., 0., 0., 0., 0., 0., 0., 0.])"
     },
     "execution_count": 147,
     "metadata": {},
     "output_type": "execute_result"
    }
   ],
   "source": [
    "# 너무 작게하면 Feature importance 가 나오지않는다\n",
    "\n",
    "rf.feature_importances_"
   ],
   "metadata": {
    "collapsed": false,
    "pycharm": {
     "name": "#%%\n"
    }
   }
  },
  {
   "cell_type": "code",
   "execution_count": null,
   "outputs": [],
   "source": [
    "for f in range(X_train.shape[1]):\n",
    "    print(\"%2d) %-*s %f\" % (f+1, 30, feat_labels[indices[f]], importances[indices[f]]) )\n",
    "\n"
   ],
   "metadata": {
    "collapsed": false,
    "pycharm": {
     "name": "#%%\n"
    }
   }
  },
  {
   "cell_type": "code",
   "execution_count": 148,
   "outputs": [
    {
     "name": "stdout",
     "output_type": "stream",
     "text": [
      "Numver of features before selection : 147\n"
     ]
    }
   ],
   "source": [
    "# With select from model , we can specify which prefit classifer to sue and what\n",
    "# the threshold is for the feature importance\n",
    "\n",
    "# prefit True 이면 이미 학습한 모델을 넘긴다\n",
    "# median 값 이상인 모델을 가져온다\n",
    "sfm = SelectFromModel(rf, threshold='median', prefit=True)\n",
    "\n",
    "print('Numver of features before selection : {}'.format(X_train.shape[1]))"
   ],
   "metadata": {
    "collapsed": false,
    "pycharm": {
     "name": "#%%%\n"
    }
   }
  },
  {
   "cell_type": "code",
   "execution_count": 150,
   "outputs": [],
   "source": [
    "n_features = sfm.transform(X_train).shape[1]"
   ],
   "metadata": {
    "collapsed": false,
    "pycharm": {
     "name": "#%%\n"
    }
   }
  },
  {
   "cell_type": "code",
   "execution_count": 151,
   "outputs": [
    {
     "name": "stdout",
     "output_type": "stream",
     "text": [
      "Number of features after selection : 147\n"
     ]
    }
   ],
   "source": [
    "print(\"Number of features after selection : {}\".format(n_features))\n",
    "\n",
    "selected_vars = list(feat_labels[sfm.get_support()])"
   ],
   "metadata": {
    "collapsed": false,
    "pycharm": {
     "name": "#%%\n"
    }
   }
  },
  {
   "cell_type": "code",
   "execution_count": 152,
   "outputs": [],
   "source": [
    "# sklearn 은 기본적으로 gpu 를 지원하지 않는다\n",
    "train = train[selected_vars + ['target']]"
   ],
   "metadata": {
    "collapsed": false,
    "pycharm": {
     "name": "#%%\n"
    }
   }
  },
  {
   "cell_type": "code",
   "execution_count": 153,
   "outputs": [
    {
     "data": {
      "text/plain": "(3469, 172)"
     },
     "execution_count": 153,
     "metadata": {},
     "output_type": "execute_result"
    }
   ],
   "source": [
    "train.shape"
   ],
   "metadata": {
    "collapsed": false,
    "pycharm": {
     "name": "#%%\n"
    }
   }
  },
  {
   "cell_type": "code",
   "execution_count": null,
   "outputs": [],
   "source": [
    "# xgboost library 는 gpu 지원이 되지만 sklearn 은 되지않는다"
   ],
   "metadata": {
    "collapsed": false,
    "pycharm": {
     "name": "#%%\n"
    }
   }
  },
  {
   "cell_type": "code",
   "execution_count": null,
   "outputs": [],
   "source": [
    "#As mentioned before , we can apply standard scaling to the trainning data\n",
    "# Some classifiers perform beter when this is done"
   ],
   "metadata": {
    "collapsed": false,
    "pycharm": {
     "name": "#%%\n"
    }
   }
  },
  {
   "cell_type": "code",
   "execution_count": 156,
   "outputs": [
    {
     "data": {
      "text/plain": "array([[-0.42751364, -0.55061171, -0.55061171, ...,  0.06074908,\n         1.24899736,  1.45755173],\n       [-0.93540571, -0.55061171, -0.55061171, ...,  0.06074908,\n        -0.90544933, -1.01415365],\n       [-0.93540571, -0.55061171, -0.55061171, ...,  0.06074908,\n         0.53084846,  0.34286106],\n       ...,\n       [ 2.61983875, -0.55061171, -0.55061171, ...,  0.06074908,\n        -1.50390675, -1.23628404],\n       [-0.42751364, -0.55061171, -0.55061171, ...,  0.06074908,\n         1.24899736,  1.45755173],\n       [ 0.58827049, -0.55061171, -0.55061171, ...,  0.06074908,\n        -0.66606637, -0.86875922]])"
     },
     "execution_count": 156,
     "metadata": {},
     "output_type": "execute_result"
    }
   ],
   "source": [
    "scaler = StandardScaler()\n",
    "\n",
    "\n",
    "\n",
    "scaler.fit_transform(train.drop(['target'] ,axis=1))"
   ],
   "metadata": {
    "collapsed": false,
    "pycharm": {
     "name": "#%%\n"
    }
   }
  },
  {
   "cell_type": "code",
   "execution_count": 159,
   "outputs": [
    {
     "data": {
      "text/plain": "array([ 1.84174114e+00,  1.36004612e+00,  1.36004612e+00,  4.37532430e+00,\n        4.31824733e-01,  4.31824733e-01,  4.25194581e-01,  4.25194581e-01,\n        3.92043817e-01,  2.53675411e-01,  1.72095705e-01,  1.82185068e-01,\n        2.88267512e-04,  1.44133756e-03,  7.49495532e-03,  2.88267512e-04,\n        9.51282790e-03,  7.26578265e+00,  6.56961660e-01,  1.28855578e-01,\n        1.56817527e-01,  6.11184779e-01,  4.45200346e-01,  8.95380970e-01,\n        8.38051312e+00,  8.38051312e+00,  8.23580283e-01,  8.23580283e-01,\n       -4.96973191e-01,  7.53819545e-01,  7.53819545e-01, -1.64600749e-01,\n        6.66964543e+00,  6.66964543e+00,  9.06601326e-01,  9.06601326e-01,\n        8.30498703e-01,  8.30498703e-01,  1.33842606e+00,  1.33842606e+00,\n        9.91640242e-01,  9.91640242e-01,  6.28619199e+01,  6.28619199e+01,\n        2.31363505e+00,  3.80384380e-01,  8.18756092e-01,  3.75169566e-01,\n        3.08838689e+00,  4.48803690e-01,  4.51916979e-01,  4.55376189e-01,\n        2.37820698e+00,  1.87027962e+00,  7.70481407e+00,  3.01556645e+00,\n        9.24041511e+00,  2.31940040e+00,  8.37157682e+00,  5.48890170e+00,\n        1.42375324e+00,  2.88498126e+00,  7.51916979e+00,  1.23090228e-01,\n        6.24963967e-01,  5.57509369e-01,  2.79331219e-01,  3.58316518e-01,\n        1.51052176e-01,  1.36004612e+00,  1.36004612e+00,  4.31824733e-01,\n        4.31824733e-01,  4.25194581e-01,  4.25194581e-01,  8.38051312e+00,\n        8.38051312e+00,  8.23580283e-01,  8.23580283e-01,  7.53819545e-01,\n        7.53819545e-01,  6.66964543e+00,  6.66964543e+00,  9.06601326e-01,\n        9.06601326e-01,  8.30498703e-01,  8.30498703e-01,  1.33842606e+00,\n        1.33842606e+00,  9.91640242e-01,  9.91640242e-01,  6.28619199e+01,\n        6.28619199e+01,  2.27731335e+00,  6.28134909e-01,  5.73940617e-01,\n        1.14171231e+01,  1.13289132e+00,  9.59066013e-01,  9.08071490e+00,\n        1.22542519e+00,  1.12654944e+00,  1.82156241e+00,  1.34880369e+00,\n        8.61637359e+01,  4.32401268e-01,  1.81031998e-01,  3.61602767e+00,\n        3.56298645e-01,  3.00086480e-01,  2.96540790e+00,  3.96944364e-01,\n        3.57739983e-01,  5.46266936e-01,  4.28365523e-01,  2.68622081e+01,\n        2.07235515e+00,  3.34505621e+00,  3.67541078e-01,  1.82761603e-01,\n        2.60190257e+00,  4.30095128e-01,  3.58316518e-01,  5.32141828e-01,\n        4.24618046e-01,  2.70980110e+01,  7.65828769e+01,  6.75151340e+00,\n        6.70077832e+00,  5.64306717e+01,  7.59267801e+00,  6.91986163e+00,\n        1.19074661e+01,  8.31190545e+00,  5.29520899e+02,  8.23580283e-01,\n        3.95791294e-01,  4.96973191e+00,  7.59584895e-01,  6.87806284e-01,\n        1.08763332e+00,  8.16373595e-01,  5.17235515e+01,  5.35399251e+00,\n        7.30585183e+00,  5.63562986e-01,  5.62986451e-01,  9.57048141e-01,\n        7.50072067e-01,  5.19071779e+01,  7.44355722e+01,  6.02853848e+00,\n        5.53588931e+00,  8.82559816e+00,  6.62409916e+00,  4.20723840e+02,\n        9.50417988e-01,  7.61602767e-01,  1.19659844e+00,  8.99682906e-01,\n        5.58711444e+01,  8.30498703e-01,  1.09339867e+00,  8.22715480e-01,\n        5.28708562e+01,  2.73421735e+00,  1.32603056e+00,  8.44753531e+01,\n        9.92793312e-01,  6.22594408e+01,  5.04170885e+03])"
     },
     "execution_count": 159,
     "metadata": {},
     "output_type": "execute_result"
    }
   ],
   "source": [
    "# 각 feature들의 평균\n",
    "scaler.mean_"
   ],
   "metadata": {
    "collapsed": false,
    "pycharm": {
     "name": "#%%\n"
    }
   }
  },
  {
   "cell_type": "code",
   "execution_count": 160,
   "outputs": [
    {
     "data": {
      "text/plain": "array([3.87665491e+00, 4.27587891e-01, 4.27587891e-01, 7.22840235e+00,\n       2.45928668e-01, 2.45928668e-01, 1.89156471e+00, 1.89156471e+00,\n       2.38345462e-01, 1.89324197e-01, 1.42478773e-01, 1.48993669e-01,\n       2.88184414e-04, 1.43926011e-03, 7.43878096e-03, 2.88184414e-04,\n       1.23050091e-02, 1.24672668e+01, 2.25363037e-01, 1.12251818e-01,\n       1.32225790e-01, 8.36569705e-02, 1.65826632e-01, 9.24633630e-02,\n       6.34987682e+00, 6.34987682e+00, 1.45295801e-01, 1.45295801e-01,\n       6.32810095e-01, 4.78574860e+00, 4.78574860e+00, 7.01935132e-01,\n       2.99514020e+01, 2.99514020e+01, 1.28492024e-01, 1.28492024e-01,\n       1.40770607e-01, 1.40770607e-01, 9.42833037e-01, 9.42833037e-01,\n       9.44294235e-03, 9.44294235e-03, 1.09008788e+03, 1.09008788e+03,\n       7.15123973e-01, 3.34871497e-03, 5.21057296e-02, 1.96164604e-03,\n       5.10871878e-01, 8.20488715e-02, 8.32169940e-02, 8.24768619e-02,\n       1.25678652e+00, 1.31035625e+00, 1.77968567e+00, 2.02051295e+00,\n       2.20164134e+00, 1.56244000e+00, 8.18219587e+00, 5.36316596e+00,\n       1.38226657e+00, 2.88414746e+00, 7.43268239e+00, 1.07939024e-01,\n       2.34384007e-01, 2.46692673e-01, 2.01305289e-01, 2.29925791e-01,\n       1.28235416e-01, 4.27587891e-01, 4.27587891e-01, 2.45928668e-01,\n       2.45928668e-01, 1.89156471e+00, 1.89156471e+00, 6.34987682e+00,\n       6.34987682e+00, 1.45295801e-01, 1.45295801e-01, 4.78574860e+00,\n       4.78574860e+00, 2.99514020e+01, 2.99514020e+01, 1.28492024e-01,\n       1.28492024e-01, 1.40770607e-01, 1.40770607e-01, 9.42833037e-01,\n       9.42833037e-01, 9.44294235e-03, 9.44294235e-03, 1.09008788e+03,\n       1.09008788e+03, 7.07789696e+00, 7.54192572e-01, 4.32236501e+00,\n       4.54584672e+01, 6.30653531e-01, 9.97756915e+00, 8.74232920e+01,\n       6.73888007e-01, 6.14426289e-01, 2.85112342e+00, 4.41610705e-01,\n       4.26346642e+03, 2.45430411e-01, 8.38948373e-01, 2.01004753e+01,\n       2.29349921e-01, 2.17083020e+00, 2.46531706e+01, 2.60134797e-01,\n       2.30338623e-01, 8.25547465e-01, 2.45445037e-01, 1.40154688e+03,\n       5.23086881e+01, 1.28416249e+02, 1.69224132e+00, 5.10525487e+00,\n       1.27149388e+02, 1.83289077e+00, 1.63667125e+00, 4.86470631e+00,\n       1.88917199e+00, 1.00067088e+04, 1.53542330e+03, 1.50094565e+01,\n       4.15903548e+02, 2.58632591e+03, 1.55674413e+01, 1.51149385e+01,\n       8.71050149e+01, 6.99351926e+00, 1.13289926e+05, 1.45295801e-01,\n       2.31927891e+00, 2.99105857e+01, 2.03947478e-01, 2.14728800e-01,\n       1.05372138e+00, 1.51060819e-01, 1.41918186e+03, 3.41351772e+02,\n       6.43232197e+02, 4.70834084e+00, 3.64528321e+00, 1.23287980e+01,\n       4.76572859e+00, 2.93444716e+04, 5.87308932e+03, 3.41297707e+01,\n       3.13568123e+01, 1.19606079e+02, 3.00881595e+01, 2.13378686e+05,\n       4.71236362e-02, 2.08084603e-01, 1.16111844e+00, 1.34646772e-01,\n       1.63030481e+03, 1.40770607e-01, 1.04460618e+00, 1.47007789e-01,\n       1.45204559e+03, 5.22771646e+00, 9.53663719e-01, 6.80522374e+03,\n       1.40731718e-02, 1.11684650e+03, 1.56945694e+07])"
     },
     "execution_count": 160,
     "metadata": {},
     "output_type": "execute_result"
    }
   ],
   "source": [
    "# scaler 가  mean과 variance 값등을 학습하여 가지고 있고 이 값을 test data 등에 적용하여\n",
    "# scaling한다\n",
    "# 평균이 0이고 붑ㄴ산을 1로 조정\n",
    "# 0~15 인 값을 0~1로 조정하는 과정 정규화라고 보면된다\n",
    "# 데이터셋 값이 들쑥날쑥 하거나 매우 큰경우에 cost값이 발산하여 학습이 잘 이루어지지 않기 때문에 사용한다\n",
    "\n",
    "scaler.var_"
   ],
   "metadata": {
    "collapsed": false,
    "pycharm": {
     "name": "#%%\n"
    }
   }
  },
  {
   "cell_type": "code",
   "execution_count": 161,
   "outputs": [
    {
     "ename": "ValueError",
     "evalue": "X has 58 features, but StandardScaler is expecting 171 features as input.",
     "output_type": "error",
     "traceback": [
      "\u001B[0;31m---------------------------------------------------------------------------\u001B[0m",
      "\u001B[0;31mValueError\u001B[0m                                Traceback (most recent call last)",
      "\u001B[0;32m/var/folders/c6/2j22b1rd02778st12c0mcr3w0000gn/T/ipykernel_83342/882799282.py\u001B[0m in \u001B[0;36m<module>\u001B[0;34m\u001B[0m\n\u001B[0;32m----> 1\u001B[0;31m \u001B[0mscaler\u001B[0m\u001B[0;34m.\u001B[0m\u001B[0mtransform\u001B[0m\u001B[0;34m(\u001B[0m\u001B[0mtest\u001B[0m\u001B[0;34m)\u001B[0m\u001B[0;34m\u001B[0m\u001B[0;34m\u001B[0m\u001B[0m\n\u001B[0m\u001B[1;32m      2\u001B[0m \u001B[0;34m\u001B[0m\u001B[0m\n",
      "\u001B[0;32m~/PycharmProjects/pythonProject/Kaggle/venv/lib/python3.8/site-packages/sklearn/preprocessing/_data.py\u001B[0m in \u001B[0;36mtransform\u001B[0;34m(self, X, copy)\u001B[0m\n\u001B[1;32m    971\u001B[0m \u001B[0;34m\u001B[0m\u001B[0m\n\u001B[1;32m    972\u001B[0m         \u001B[0mcopy\u001B[0m \u001B[0;34m=\u001B[0m \u001B[0mcopy\u001B[0m \u001B[0;32mif\u001B[0m \u001B[0mcopy\u001B[0m \u001B[0;32mis\u001B[0m \u001B[0;32mnot\u001B[0m \u001B[0;32mNone\u001B[0m \u001B[0;32melse\u001B[0m \u001B[0mself\u001B[0m\u001B[0;34m.\u001B[0m\u001B[0mcopy\u001B[0m\u001B[0;34m\u001B[0m\u001B[0;34m\u001B[0m\u001B[0m\n\u001B[0;32m--> 973\u001B[0;31m         X = self._validate_data(\n\u001B[0m\u001B[1;32m    974\u001B[0m             \u001B[0mX\u001B[0m\u001B[0;34m,\u001B[0m\u001B[0;34m\u001B[0m\u001B[0;34m\u001B[0m\u001B[0m\n\u001B[1;32m    975\u001B[0m             \u001B[0mreset\u001B[0m\u001B[0;34m=\u001B[0m\u001B[0;32mFalse\u001B[0m\u001B[0;34m,\u001B[0m\u001B[0;34m\u001B[0m\u001B[0;34m\u001B[0m\u001B[0m\n",
      "\u001B[0;32m~/PycharmProjects/pythonProject/Kaggle/venv/lib/python3.8/site-packages/sklearn/base.py\u001B[0m in \u001B[0;36m_validate_data\u001B[0;34m(self, X, y, reset, validate_separately, **check_params)\u001B[0m\n\u001B[1;32m    574\u001B[0m \u001B[0;34m\u001B[0m\u001B[0m\n\u001B[1;32m    575\u001B[0m         \u001B[0;32mif\u001B[0m \u001B[0;32mnot\u001B[0m \u001B[0mno_val_X\u001B[0m \u001B[0;32mand\u001B[0m \u001B[0mcheck_params\u001B[0m\u001B[0;34m.\u001B[0m\u001B[0mget\u001B[0m\u001B[0;34m(\u001B[0m\u001B[0;34m\"ensure_2d\"\u001B[0m\u001B[0;34m,\u001B[0m \u001B[0;32mTrue\u001B[0m\u001B[0;34m)\u001B[0m\u001B[0;34m:\u001B[0m\u001B[0;34m\u001B[0m\u001B[0;34m\u001B[0m\u001B[0m\n\u001B[0;32m--> 576\u001B[0;31m             \u001B[0mself\u001B[0m\u001B[0;34m.\u001B[0m\u001B[0m_check_n_features\u001B[0m\u001B[0;34m(\u001B[0m\u001B[0mX\u001B[0m\u001B[0;34m,\u001B[0m \u001B[0mreset\u001B[0m\u001B[0;34m=\u001B[0m\u001B[0mreset\u001B[0m\u001B[0;34m)\u001B[0m\u001B[0;34m\u001B[0m\u001B[0;34m\u001B[0m\u001B[0m\n\u001B[0m\u001B[1;32m    577\u001B[0m \u001B[0;34m\u001B[0m\u001B[0m\n\u001B[1;32m    578\u001B[0m         \u001B[0;32mreturn\u001B[0m \u001B[0mout\u001B[0m\u001B[0;34m\u001B[0m\u001B[0;34m\u001B[0m\u001B[0m\n",
      "\u001B[0;32m~/PycharmProjects/pythonProject/Kaggle/venv/lib/python3.8/site-packages/sklearn/base.py\u001B[0m in \u001B[0;36m_check_n_features\u001B[0;34m(self, X, reset)\u001B[0m\n\u001B[1;32m    393\u001B[0m \u001B[0;34m\u001B[0m\u001B[0m\n\u001B[1;32m    394\u001B[0m         \u001B[0;32mif\u001B[0m \u001B[0mn_features\u001B[0m \u001B[0;34m!=\u001B[0m \u001B[0mself\u001B[0m\u001B[0;34m.\u001B[0m\u001B[0mn_features_in_\u001B[0m\u001B[0;34m:\u001B[0m\u001B[0;34m\u001B[0m\u001B[0;34m\u001B[0m\u001B[0m\n\u001B[0;32m--> 395\u001B[0;31m             raise ValueError(\n\u001B[0m\u001B[1;32m    396\u001B[0m                 \u001B[0;34mf\"X has {n_features} features, but {self.__class__.__name__} \"\u001B[0m\u001B[0;34m\u001B[0m\u001B[0;34m\u001B[0m\u001B[0m\n\u001B[1;32m    397\u001B[0m                 \u001B[0;34mf\"is expecting {self.n_features_in_} features as input.\"\u001B[0m\u001B[0;34m\u001B[0m\u001B[0;34m\u001B[0m\u001B[0m\n",
      "\u001B[0;31mValueError\u001B[0m: X has 58 features, but StandardScaler is expecting 171 features as input."
     ]
    }
   ],
   "source": [
    "# 위의 feature 모두 적용하지않아서 그렇다\n",
    "scaler.transform(test)"
   ],
   "metadata": {
    "collapsed": false,
    "pycharm": {
     "name": "#%%\n"
    }
   }
  },
  {
   "cell_type": "code",
   "execution_count": null,
   "outputs": [],
   "source": [
    "# 아주 중요한것\n",
    "\n",
    "# take home message\n",
    "\n",
    "# scaling - train 먼저 fitting 시키고\n",
    "# 그 다음에 test transform\n",
    "\n",
    "#1.\n",
    "\n",
    "# train 한 것을 test 에 적용하는 것이다\n",
    "\n",
    "scaler = StandardScaler( )\n",
    "\n",
    "\n",
    "df_train = scaler.fit_transform(df_train)\n",
    "df_test = scaler.transform(df_test)\n"
   ],
   "metadata": {
    "collapsed": false,
    "pycharm": {
     "name": "#%%\n"
    }
   }
  },
  {
   "cell_type": "code",
   "execution_count": null,
   "outputs": [],
   "source": [
    "#2.\n",
    "scaler = StandardScaler()\n",
    "\n",
    "df_train = scaler.fit_transform(df_train)\n",
    "df_test = scaler.fit_transform(df_test)"
   ],
   "metadata": {
    "collapsed": false,
    "pycharm": {
     "name": "#%%\n"
    }
   }
  }
 ],
 "metadata": {
  "kernelspec": {
   "display_name": "Python 3",
   "language": "python",
   "name": "python3"
  },
  "language_info": {
   "codemirror_mode": {
    "name": "ipython",
    "version": 2
   },
   "file_extension": ".py",
   "mimetype": "text/x-python",
   "name": "python",
   "nbconvert_exporter": "python",
   "pygments_lexer": "ipython2",
   "version": "2.7.6"
  }
 },
 "nbformat": 4,
 "nbformat_minor": 0
}