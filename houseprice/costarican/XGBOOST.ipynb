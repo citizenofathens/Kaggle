{
 "cells": [
  {
   "cell_type": "code",
   "execution_count": 75,
   "outputs": [],
   "source": [
    "# 목표 : XGBOOST를 위한 파라미터튜닝을 이해하고 feature enginnering 하고 xgboost model train fit predict validation 하기\n",
    "import pandas as pd\n",
    "import numpy as np\n",
    "import os\n",
    "from joblib import Parallel, delayed\n",
    "import matplotlib\n",
    "import matplotlib.pyplot as plt\n",
    "import seaborn as sns\n",
    "%matplotlib inline\n",
    "\n",
    "import lightgbm as lgb\n",
    "import xgboost as xgb\n",
    "import joblib\n",
    "from sklearn.metrics import f1_score\n",
    "\n",
    "from sklearn.base import clone\n",
    "from sklearn.ensemble import VotingClassifier, ExtraTreesClassifier, RandomForestClassifier"
   ],
   "metadata": {
    "collapsed": false,
    "pycharm": {
     "name": "#%%\n"
    }
   }
  },
  {
   "cell_type": "code",
   "execution_count": 4,
   "outputs": [],
   "source": [
    "from sklearn.utils import class_weight"
   ],
   "metadata": {
    "collapsed": false,
    "pycharm": {
     "name": "#%%\n"
    }
   }
  },
  {
   "cell_type": "code",
   "execution_count": 5,
   "outputs": [],
   "source": [
    "from sklearn.preprocessing import LabelEncoder"
   ],
   "metadata": {
    "collapsed": false,
    "pycharm": {
     "name": "#%%\n"
    }
   }
  },
  {
   "cell_type": "code",
   "execution_count": null,
   "outputs": [],
   "source": [],
   "metadata": {
    "collapsed": false,
    "pycharm": {
     "name": "#%%\n"
    }
   }
  },
  {
   "cell_type": "code",
   "execution_count": 6,
   "outputs": [],
   "source": [
    "import warnings\n",
    "warnings.filterwarnings(\"ignore\")"
   ],
   "metadata": {
    "collapsed": false,
    "pycharm": {
     "name": "#%%\n"
    }
   }
  },
  {
   "cell_type": "code",
   "execution_count": 5,
   "outputs": [],
   "source": [],
   "metadata": {
    "collapsed": false,
    "pycharm": {
     "name": "#%%\n"
    }
   }
  },
  {
   "cell_type": "code",
   "execution_count": 7,
   "outputs": [],
   "source": [
    "# this only transforms the idhogar field,\n",
    "# the other things this functinon used to go are done elsewhere\n",
    "def encode_data(df):\n",
    "    df['idhogar'] = LabelEncoder().fit_transform(df['idhogar'])"
   ],
   "metadata": {
    "collapsed": false,
    "pycharm": {
     "name": "#%%\n"
    }
   }
  },
  {
   "cell_type": "code",
   "execution_count": 8,
   "outputs": [],
   "source": [
    "def process_df(df_):\n",
    "    # encode the idhogar\n",
    "    encode_data(df_)\n",
    "\n",
    "    # create aggregate features\n",
    "    return do_features(df_)"
   ],
   "metadata": {
    "collapsed": false,
    "pycharm": {
     "name": "#%%\n"
    }
   }
  },
  {
   "cell_type": "code",
   "execution_count": 9,
   "outputs": [],
   "source": [
    "def do_features(df):\n",
    "    feats_div = [('children_fraction','r4t1', 'r4t3'),\n",
    "                 ('working_man_fraction' ,'r4h2' ,'r4t3') ,\n",
    "                 ('all_man_fraction', 'r4h3', 'r4t3') ,\n",
    "                 ('human_density', 'tamviv' , 'rooms'),\n",
    "                 ('human_bed_density', 'tamviv' , 'bedrooms'),\n",
    "                 ('rent_per_person' , 'v2a1', 'r4t3'),\n",
    "                 ('rent_per_room' , 'v2a1' , 'rooms') ,\n",
    "                 ('mobile_density' , 'qmobilephone' , 'r4t3'),\n",
    "                 ('tablet_density' , 'v18q1' , 'r4t3'),\n",
    "                 ('mobile_adult_density' , 'qmobilephone', 'r4t2'),\n",
    "                 ('tablet_adult_density' , 'v18q1', 'r4t2'),\n",
    "                 ]\n",
    "    feats_sub = [('people_not_living' , 'tamhog' , 'tamviv'),\n",
    "                 ('people_weird_stat' , 'tamhog' , 'r4t3')]\n",
    "\n",
    "    # 이미 가지고 있는 컬럼을 가지고 무언가 조작을 한다 대부분\n",
    "    for f_new, f1, f2 in feats_div:\n",
    "        df['fe_' + f_new] = (df[f1] / df[f2]).astype(np.float32)\n",
    "    for f_new, f1,f2 in feats_sub:\n",
    "        df['fe_' + f_new] = (df[f1] - df[f2]).astype(np.float32)\n",
    "\n",
    "    # aggregation rules over household\n",
    "    aggs_num = {'age' : ['min' ,'max' ,'mean'],\n",
    "                   'escolari'  : ['min','max', 'mean']\n",
    "                 }\n",
    "\n",
    "    aggs_cat = {'dis' : ['mean']}\n",
    "    for s_ in ['estadocivil' , 'parentesco' , 'instlevel']:\n",
    "        for f_ in [f_ for f_ in df.columns if f_.startswith(s_)]:\n",
    "            aggs_cat[f_] = ['mean', 'count']\n",
    "\n",
    "    # aggregation over household\n",
    "    # col example : agg18_(age, estadocivil, esolari)\n",
    "\n",
    "    #for name_, df_ in [('18', train.query('age >= 18'))]:\n",
    "    # 대상 컬럼별 집계함수 aggs_num\n",
    "    # * positional argument 는 말 그대로 함수 정의의 순서에 맞아야 한다 keyword는 아니고\n",
    "    # positional argument로 넘기면 전체 데이터에 대해 idhogar groupby 했기 때문에 seriesgroupby 객체 별로 접근 하기 때문에 error가 난다\n",
    "    #train.groupby('idhogar').agg({**aggs_num,**aggs_cat})\n",
    "    #%%\n",
    "    for name_, df_ in [('18', df.query('age >= 18'))]:\n",
    "        df_agg = df_.groupby('idhogar').agg({**aggs_num , **aggs_cat}).astype(np.float32)\n",
    "        df_agg.columns = pd.Index(['agg' + name_ + '_' + e[0] + \"_\"+ e[1].upper() for e in df_agg.columns.tolist()])\n",
    "        df = df.join(df_agg , how='left' , on='idhogar')\n",
    "        del df_agg\n",
    "\n",
    "    #Drop id's\n",
    "    df.drop(['Id'], axis=1 , inplace=True)\n",
    "\n",
    "    return df"
   ],
   "metadata": {
    "collapsed": false,
    "pycharm": {
     "name": "#%%\n"
    }
   }
  },
  {
   "cell_type": "code",
   "execution_count": 24,
   "outputs": [],
   "source": [],
   "metadata": {
    "collapsed": false,
    "pycharm": {
     "name": "#%%\n"
    }
   }
  },
  {
   "cell_type": "code",
   "execution_count": null,
   "outputs": [],
   "source": [],
   "metadata": {
    "collapsed": false,
    "pycharm": {
     "name": "#%%\n"
    }
   }
  },
  {
   "cell_type": "code",
   "execution_count": null,
   "outputs": [],
   "source": [],
   "metadata": {
    "collapsed": false,
    "pycharm": {
     "name": "#%%\n"
    }
   }
  },
  {
   "cell_type": "code",
   "execution_count": null,
   "outputs": [],
   "source": [],
   "metadata": {
    "collapsed": false,
    "pycharm": {
     "name": "#%%\n"
    }
   }
  },
  {
   "cell_type": "code",
   "execution_count": 10,
   "outputs": [],
   "source": [
    "# plot feature importance for sklearn decision tree\n",
    "def feature_importance(forest, X_train , display_results=True):\n",
    "\n",
    "    ranked_list = []\n",
    "    zero_features = []\n",
    "    importances = forest.feature_importances_\n",
    "\n",
    "    indices = np.argsort(importances)[::-1]\n",
    "\n",
    "    if display_results:\n",
    "        # Print the feature ranking\n",
    "        print(\"Feature ranking:\")\n",
    "\n",
    "    for f in range(X_train.shape[1]):\n",
    "        if display_results:\n",
    "            print(\"%d. feature %d (%f)\" % (f + 1, indices[f], importances[indices[f]]) + \" - \" +X_train.columns[indices[f]])\n",
    "        ranked_list.append(X_train.columns[indices[f]])\n",
    "\n",
    "        # zero import tance feature save\n",
    "        if importances[indices[f]] == 0.0:\n",
    "            zero_features.append(X_train.columns[indices[f]])\n",
    "\n",
    "    return ranked_list, zero_features"
   ],
   "metadata": {
    "collapsed": false,
    "pycharm": {
     "name": "#%%\n"
    }
   }
  },
  {
   "cell_type": "code",
   "execution_count": null,
   "outputs": [],
   "source": [],
   "metadata": {
    "collapsed": false,
    "pycharm": {
     "name": "#%%\n"
    }
   }
  },
  {
   "cell_type": "code",
   "execution_count": null,
   "outputs": [],
   "source": [
    "# ide 화면 크기 command 누르고 wheel 키 조정\n"
   ],
   "metadata": {
    "collapsed": false,
    "pycharm": {
     "name": "#%%\n"
    }
   }
  },
  {
   "cell_type": "code",
   "execution_count": null,
   "outputs": [],
   "source": [],
   "metadata": {
    "collapsed": false,
    "pycharm": {
     "name": "#%%\n"
    }
   }
  },
  {
   "cell_type": "code",
   "execution_count": null,
   "outputs": [],
   "source": [
    "# feats_div = [('children_fraction','r4t1', 'r4t3'),\n",
    "#                  ('working_man_fraction' ,'r4h2' ,'r4t3') ,\n",
    "#                  ('all_man_fraction', 'r4h3', 'r4t3') ,\n",
    "#                  ('human_density', 'tamviv' , 'rooms'),\n",
    "#                  ('rent_per_person' , 'v2a1', 'r4t3'),\n",
    "#                  ('rent_per_room' , 'v2a1' , 'rooms') ,\n",
    "#                  ('mobile_density' , 'v18q1' , 'r4t3'),\n",
    "#                  ('mobile_adult_density' , 'qmobilephone', 'r4t2'),\n",
    "#                  ('tablet_adult_density' , 'v18q1', 'r4t2'),\n",
    "#                  ]\n",
    "# feats_sub = [('people_not_living' , 'tamhog' , 'tamviv'),\n",
    "#              ('people_weird_stat' , 'tamhog' , 'r4t3')]\n"
   ],
   "metadata": {
    "collapsed": false,
    "pycharm": {
     "name": "#%%\n"
    }
   }
  },
  {
   "cell_type": "code",
   "execution_count": 280,
   "outputs": [],
   "source": [],
   "metadata": {
    "collapsed": false,
    "pycharm": {
     "name": "#%%\n"
    }
   }
  },
  {
   "cell_type": "code",
   "execution_count": null,
   "outputs": [],
   "source": [
    "# 이미 가지고 있는 컬럼을 가지고 무언가 조작을 한다 대부분\n",
    "# for f_new, f1, f2 in feats_div:\n",
    "#     train['fe_' + f_new] = (train[f1] / train[f2]).astype(np.float32)\n",
    "# for f_new, f1,f2 in feats_sub:\n",
    "#     train['fe_' + f_new] = (train[f1] - train[f2]).astype(np.float32)"
   ],
   "metadata": {
    "collapsed": false,
    "pycharm": {
     "name": "#%%\n"
    }
   }
  },
  {
   "cell_type": "code",
   "execution_count": null,
   "outputs": [],
   "source": [],
   "metadata": {
    "collapsed": false,
    "pycharm": {
     "name": "#%%\n"
    }
   }
  },
  {
   "cell_type": "code",
   "execution_count": 11,
   "outputs": [],
   "source": [
    "# convert one hot encoded fields to label encoding\n",
    "\n",
    "def convert_OHE2LE(df):\n",
    "    tmp_df = df.copy(deep=True)\n",
    "\n",
    "    for s_ in ['pared', 'piso', 'techo', 'abastagua', 'sanitario', 'energcocinar', 'elimbasu',\n",
    "               'epared', 'etecho', 'eviv', 'estadocivil', 'parentesco',\n",
    "               'instlevel', 'lugar', 'tipovivi',\n",
    "               'manual_elec']:\n",
    "        if 'manual_' not in s_:\n",
    "            cols_s_ = [f_ for f_ in df.columns if f_.startswith(s_)]\n",
    "        elif 'elec' in s_:\n",
    "            cols_s_ = ['public' , 'planpri' , 'noelec' , 'coopele']\n",
    "        sum_ohe = tmp_df[cols_s_].sum(axis=1).unique()\n",
    "\n",
    "        # deal with those OHE, where there is a sum over columns == 0\n",
    "        if 0 in sum_ohe:\n",
    "            print('The OHE in {} is incomplete. A new column will be added before label encoding'.format(s_))\n",
    "            #dummy column name to be added\n",
    "            col_dummy = s_+'_dummy'\n",
    "            # add the column to the dataframe\n",
    "            tmp_df[col_dummy] = (tmp_df[cols_s_].sum(axis=1) == 0 ).astype(np.int8)\n",
    "            # add the name to the list of columns to be lebel-encoded\n",
    "            cols_s_.append(col_dummy)\n",
    "            # proof-check , that now the category is complete\n",
    "            sum_ohe = tmp_df[cols_s_].sum(axis=1).unique()\n",
    "            if 0 in sum_ohe:\n",
    "                print(\"The category completion did not work\")\n",
    "        tmp_cat = tmp_df[cols_s_].idxmax(axis=1)\n",
    "        tmp_df[s_ + '_LE'] = LabelEncoder().fit_transform(tmp_cat).astype(np.int16)\n",
    "        if 'parentesco1' in cols_s_:\n",
    "            cols_s_.remove('parentesco1')\n",
    "        tmp_df.drop(cols_s_, axis=1, inplace=True)\n",
    "\n",
    "    return tmp_df"
   ],
   "metadata": {
    "collapsed": false,
    "pycharm": {
     "name": "#%%\n"
    }
   }
  },
  {
   "cell_type": "code",
   "execution_count": 296,
   "outputs": [],
   "source": [],
   "metadata": {
    "collapsed": false,
    "pycharm": {
     "name": "#%%\n"
    }
   }
  },
  {
   "cell_type": "code",
   "execution_count": null,
   "outputs": [],
   "source": [],
   "metadata": {
    "collapsed": false,
    "pycharm": {
     "name": "#%%\n"
    }
   }
  },
  {
   "cell_type": "code",
   "execution_count": 12,
   "outputs": [],
   "source": [
    "# encapsule , function programming\n",
    "def process_df(df_):\n",
    "    # encode the idhogar\n",
    "    encode_data(df_)\n",
    "\n",
    "    return do_features(df_)"
   ],
   "metadata": {
    "collapsed": false,
    "pycharm": {
     "name": "#%%\n"
    }
   }
  },
  {
   "cell_type": "code",
   "execution_count": 13,
   "outputs": [],
   "source": [
    "data_dir = './costa-rican-household-poverty-prediction/'"
   ],
   "metadata": {
    "collapsed": false,
    "pycharm": {
     "name": "#%%\n"
    }
   }
  },
  {
   "cell_type": "code",
   "execution_count": 14,
   "outputs": [],
   "source": [
    "filename = 'train.csv'\n",
    "train_path = os.path.join(data_dir, filename)"
   ],
   "metadata": {
    "collapsed": false,
    "pycharm": {
     "name": "#%%\n"
    }
   }
  },
  {
   "cell_type": "code",
   "execution_count": 15,
   "outputs": [],
   "source": [
    "filename = 'test.csv'\n",
    "test_path = os.path.join(data_dir, filename)"
   ],
   "metadata": {
    "collapsed": false,
    "pycharm": {
     "name": "#%%\n"
    }
   }
  },
  {
   "cell_type": "code",
   "execution_count": 16,
   "outputs": [],
   "source": [
    "train = pd.read_csv(train_path)\n",
    "test = pd.read_csv(test_path)"
   ],
   "metadata": {
    "collapsed": false,
    "pycharm": {
     "name": "#%%\n"
    }
   }
  },
  {
   "cell_type": "code",
   "execution_count": null,
   "outputs": [],
   "source": [],
   "metadata": {
    "collapsed": false,
    "pycharm": {
     "name": "#%%\n"
    }
   }
  },
  {
   "cell_type": "code",
   "execution_count": 17,
   "outputs": [],
   "source": [
    "test_ids = test.Id\n",
    "\n",
    "train = process_df(train)\n",
    "test = process_df(test)"
   ],
   "metadata": {
    "collapsed": false,
    "pycharm": {
     "name": "#%%\n"
    }
   }
  },
  {
   "cell_type": "code",
   "execution_count": 349,
   "outputs": [
    {
     "data": {
      "text/plain": "          v2a1  hacdor  rooms  hacapo  v14a  refrig  v18q  v18q1  r4h1  r4h2  \\\n0     190000.0       0      3       0     1       1     0    NaN     0     1   \n1     135000.0       0      4       0     1       1     1    1.0     0     1   \n2          NaN       0      8       0     1       1     0    NaN     0     0   \n3     180000.0       0      5       0     1       1     1    1.0     0     2   \n4     180000.0       0      5       0     1       1     1    1.0     0     2   \n...        ...     ...    ...     ...   ...     ...   ...    ...   ...   ...   \n9552   80000.0       0      6       0     1       1     0    NaN     0     2   \n9553   80000.0       0      6       0     1       1     0    NaN     0     2   \n9554   80000.0       0      6       0     1       1     0    NaN     0     2   \n9555   80000.0       0      6       0     1       1     0    NaN     0     2   \n9556   80000.0       0      6       0     1       1     0    NaN     0     2   \n\n      ...  agg18_instlevel5_MEAN  agg18_instlevel5_COUNT  \\\n0     ...                   0.00                     1.0   \n1     ...                   0.00                     1.0   \n2     ...                   1.00                     1.0   \n3     ...                   1.00                     2.0   \n4     ...                   1.00                     2.0   \n...   ...                    ...                     ...   \n9552  ...                   0.25                     4.0   \n9553  ...                   0.25                     4.0   \n9554  ...                   0.25                     4.0   \n9555  ...                   0.25                     4.0   \n9556  ...                   0.25                     4.0   \n\n      agg18_instlevel6_MEAN  agg18_instlevel6_COUNT  agg18_instlevel7_MEAN  \\\n0                       0.0                     1.0                    0.0   \n1                       0.0                     1.0                    0.0   \n2                       0.0                     1.0                    0.0   \n3                       0.0                     2.0                    0.0   \n4                       0.0                     2.0                    0.0   \n...                     ...                     ...                    ...   \n9552                    0.0                     4.0                    0.0   \n9553                    0.0                     4.0                    0.0   \n9554                    0.0                     4.0                    0.0   \n9555                    0.0                     4.0                    0.0   \n9556                    0.0                     4.0                    0.0   \n\n      agg18_instlevel7_COUNT  agg18_instlevel8_MEAN  agg18_instlevel8_COUNT  \\\n0                        1.0                    0.0                     1.0   \n1                        1.0                    1.0                     1.0   \n2                        1.0                    0.0                     1.0   \n3                        2.0                    0.0                     2.0   \n4                        2.0                    0.0                     2.0   \n...                      ...                    ...                     ...   \n9552                     4.0                    0.0                     4.0   \n9553                     4.0                    0.0                     4.0   \n9554                     4.0                    0.0                     4.0   \n9555                     4.0                    0.0                     4.0   \n9556                     4.0                    0.0                     4.0   \n\n      agg18_instlevel9_MEAN  agg18_instlevel9_COUNT  \n0                       0.0                     1.0  \n1                       0.0                     1.0  \n2                       0.0                     1.0  \n3                       0.0                     2.0  \n4                       0.0                     2.0  \n...                     ...                     ...  \n9552                    0.0                     4.0  \n9553                    0.0                     4.0  \n9554                    0.0                     4.0  \n9555                    0.0                     4.0  \n9556                    0.0                     4.0  \n\n[9557 rows x 216 columns]",
      "text/html": "<div>\n<style scoped>\n    .dataframe tbody tr th:only-of-type {\n        vertical-align: middle;\n    }\n\n    .dataframe tbody tr th {\n        vertical-align: top;\n    }\n\n    .dataframe thead th {\n        text-align: right;\n    }\n</style>\n<table border=\"1\" class=\"dataframe\">\n  <thead>\n    <tr style=\"text-align: right;\">\n      <th></th>\n      <th>v2a1</th>\n      <th>hacdor</th>\n      <th>rooms</th>\n      <th>hacapo</th>\n      <th>v14a</th>\n      <th>refrig</th>\n      <th>v18q</th>\n      <th>v18q1</th>\n      <th>r4h1</th>\n      <th>r4h2</th>\n      <th>...</th>\n      <th>agg18_instlevel5_MEAN</th>\n      <th>agg18_instlevel5_COUNT</th>\n      <th>agg18_instlevel6_MEAN</th>\n      <th>agg18_instlevel6_COUNT</th>\n      <th>agg18_instlevel7_MEAN</th>\n      <th>agg18_instlevel7_COUNT</th>\n      <th>agg18_instlevel8_MEAN</th>\n      <th>agg18_instlevel8_COUNT</th>\n      <th>agg18_instlevel9_MEAN</th>\n      <th>agg18_instlevel9_COUNT</th>\n    </tr>\n  </thead>\n  <tbody>\n    <tr>\n      <th>0</th>\n      <td>190000.0</td>\n      <td>0</td>\n      <td>3</td>\n      <td>0</td>\n      <td>1</td>\n      <td>1</td>\n      <td>0</td>\n      <td>NaN</td>\n      <td>0</td>\n      <td>1</td>\n      <td>...</td>\n      <td>0.00</td>\n      <td>1.0</td>\n      <td>0.0</td>\n      <td>1.0</td>\n      <td>0.0</td>\n      <td>1.0</td>\n      <td>0.0</td>\n      <td>1.0</td>\n      <td>0.0</td>\n      <td>1.0</td>\n    </tr>\n    <tr>\n      <th>1</th>\n      <td>135000.0</td>\n      <td>0</td>\n      <td>4</td>\n      <td>0</td>\n      <td>1</td>\n      <td>1</td>\n      <td>1</td>\n      <td>1.0</td>\n      <td>0</td>\n      <td>1</td>\n      <td>...</td>\n      <td>0.00</td>\n      <td>1.0</td>\n      <td>0.0</td>\n      <td>1.0</td>\n      <td>0.0</td>\n      <td>1.0</td>\n      <td>1.0</td>\n      <td>1.0</td>\n      <td>0.0</td>\n      <td>1.0</td>\n    </tr>\n    <tr>\n      <th>2</th>\n      <td>NaN</td>\n      <td>0</td>\n      <td>8</td>\n      <td>0</td>\n      <td>1</td>\n      <td>1</td>\n      <td>0</td>\n      <td>NaN</td>\n      <td>0</td>\n      <td>0</td>\n      <td>...</td>\n      <td>1.00</td>\n      <td>1.0</td>\n      <td>0.0</td>\n      <td>1.0</td>\n      <td>0.0</td>\n      <td>1.0</td>\n      <td>0.0</td>\n      <td>1.0</td>\n      <td>0.0</td>\n      <td>1.0</td>\n    </tr>\n    <tr>\n      <th>3</th>\n      <td>180000.0</td>\n      <td>0</td>\n      <td>5</td>\n      <td>0</td>\n      <td>1</td>\n      <td>1</td>\n      <td>1</td>\n      <td>1.0</td>\n      <td>0</td>\n      <td>2</td>\n      <td>...</td>\n      <td>1.00</td>\n      <td>2.0</td>\n      <td>0.0</td>\n      <td>2.0</td>\n      <td>0.0</td>\n      <td>2.0</td>\n      <td>0.0</td>\n      <td>2.0</td>\n      <td>0.0</td>\n      <td>2.0</td>\n    </tr>\n    <tr>\n      <th>4</th>\n      <td>180000.0</td>\n      <td>0</td>\n      <td>5</td>\n      <td>0</td>\n      <td>1</td>\n      <td>1</td>\n      <td>1</td>\n      <td>1.0</td>\n      <td>0</td>\n      <td>2</td>\n      <td>...</td>\n      <td>1.00</td>\n      <td>2.0</td>\n      <td>0.0</td>\n      <td>2.0</td>\n      <td>0.0</td>\n      <td>2.0</td>\n      <td>0.0</td>\n      <td>2.0</td>\n      <td>0.0</td>\n      <td>2.0</td>\n    </tr>\n    <tr>\n      <th>...</th>\n      <td>...</td>\n      <td>...</td>\n      <td>...</td>\n      <td>...</td>\n      <td>...</td>\n      <td>...</td>\n      <td>...</td>\n      <td>...</td>\n      <td>...</td>\n      <td>...</td>\n      <td>...</td>\n      <td>...</td>\n      <td>...</td>\n      <td>...</td>\n      <td>...</td>\n      <td>...</td>\n      <td>...</td>\n      <td>...</td>\n      <td>...</td>\n      <td>...</td>\n      <td>...</td>\n    </tr>\n    <tr>\n      <th>9552</th>\n      <td>80000.0</td>\n      <td>0</td>\n      <td>6</td>\n      <td>0</td>\n      <td>1</td>\n      <td>1</td>\n      <td>0</td>\n      <td>NaN</td>\n      <td>0</td>\n      <td>2</td>\n      <td>...</td>\n      <td>0.25</td>\n      <td>4.0</td>\n      <td>0.0</td>\n      <td>4.0</td>\n      <td>0.0</td>\n      <td>4.0</td>\n      <td>0.0</td>\n      <td>4.0</td>\n      <td>0.0</td>\n      <td>4.0</td>\n    </tr>\n    <tr>\n      <th>9553</th>\n      <td>80000.0</td>\n      <td>0</td>\n      <td>6</td>\n      <td>0</td>\n      <td>1</td>\n      <td>1</td>\n      <td>0</td>\n      <td>NaN</td>\n      <td>0</td>\n      <td>2</td>\n      <td>...</td>\n      <td>0.25</td>\n      <td>4.0</td>\n      <td>0.0</td>\n      <td>4.0</td>\n      <td>0.0</td>\n      <td>4.0</td>\n      <td>0.0</td>\n      <td>4.0</td>\n      <td>0.0</td>\n      <td>4.0</td>\n    </tr>\n    <tr>\n      <th>9554</th>\n      <td>80000.0</td>\n      <td>0</td>\n      <td>6</td>\n      <td>0</td>\n      <td>1</td>\n      <td>1</td>\n      <td>0</td>\n      <td>NaN</td>\n      <td>0</td>\n      <td>2</td>\n      <td>...</td>\n      <td>0.25</td>\n      <td>4.0</td>\n      <td>0.0</td>\n      <td>4.0</td>\n      <td>0.0</td>\n      <td>4.0</td>\n      <td>0.0</td>\n      <td>4.0</td>\n      <td>0.0</td>\n      <td>4.0</td>\n    </tr>\n    <tr>\n      <th>9555</th>\n      <td>80000.0</td>\n      <td>0</td>\n      <td>6</td>\n      <td>0</td>\n      <td>1</td>\n      <td>1</td>\n      <td>0</td>\n      <td>NaN</td>\n      <td>0</td>\n      <td>2</td>\n      <td>...</td>\n      <td>0.25</td>\n      <td>4.0</td>\n      <td>0.0</td>\n      <td>4.0</td>\n      <td>0.0</td>\n      <td>4.0</td>\n      <td>0.0</td>\n      <td>4.0</td>\n      <td>0.0</td>\n      <td>4.0</td>\n    </tr>\n    <tr>\n      <th>9556</th>\n      <td>80000.0</td>\n      <td>0</td>\n      <td>6</td>\n      <td>0</td>\n      <td>1</td>\n      <td>1</td>\n      <td>0</td>\n      <td>NaN</td>\n      <td>0</td>\n      <td>2</td>\n      <td>...</td>\n      <td>0.25</td>\n      <td>4.0</td>\n      <td>0.0</td>\n      <td>4.0</td>\n      <td>0.0</td>\n      <td>4.0</td>\n      <td>0.0</td>\n      <td>4.0</td>\n      <td>0.0</td>\n      <td>4.0</td>\n    </tr>\n  </tbody>\n</table>\n<p>9557 rows × 216 columns</p>\n</div>"
     },
     "execution_count": 349,
     "metadata": {},
     "output_type": "execute_result"
    }
   ],
   "source": [],
   "metadata": {
    "collapsed": false,
    "pycharm": {
     "name": "#%%\n"
    }
   }
  },
  {
   "cell_type": "code",
   "execution_count": 18,
   "outputs": [],
   "source": [
    "train['dependency'] = np.sqrt(train['SQBdependency'])\n",
    "test['dependency'] = np.sqrt(test['SQBdependency'])"
   ],
   "metadata": {
    "collapsed": false,
    "pycharm": {
     "name": "#%%\n"
    }
   }
  },
  {
   "cell_type": "code",
   "execution_count": 19,
   "outputs": [],
   "source": [
    "train.loc[train['edjefa'] == \"no\", \"edjefa\"] =0\n",
    "train.loc[train['edjefe'] == \"no\", \"edjefe\"] = 0"
   ],
   "metadata": {
    "collapsed": false,
    "pycharm": {
     "name": "#%%\n"
    }
   }
  },
  {
   "cell_type": "code",
   "execution_count": null,
   "outputs": [],
   "source": [],
   "metadata": {
    "collapsed": false,
    "pycharm": {
     "name": "#%%\n"
    }
   }
  },
  {
   "cell_type": "code",
   "execution_count": 20,
   "outputs": [],
   "source": [
    "test.loc[test['edjefa'] == \"no\", \"edjefa\"] = 0\n",
    "test.loc[test['edjefe'] == \"no\", \"edjefe\"] = 0"
   ],
   "metadata": {
    "collapsed": false,
    "pycharm": {
     "name": "#%%\n"
    }
   }
  },
  {
   "cell_type": "code",
   "execution_count": 20,
   "outputs": [],
   "source": [],
   "metadata": {
    "collapsed": false,
    "pycharm": {
     "name": "#%%\n"
    }
   }
  },
  {
   "cell_type": "code",
   "execution_count": 21,
   "outputs": [],
   "source": [
    "# if you ed\n",
    "train.loc[(train['edjefe'] == \"yes\") & (train['parentesco1'] == 1), \"edjefe\"] = train.loc[(train['edjefe'] == 'yes') & (train['parentesco1']==1) , \"escolari\"]"
   ],
   "metadata": {
    "collapsed": false,
    "pycharm": {
     "name": "#%%\n"
    }
   }
  },
  {
   "cell_type": "code",
   "execution_count": 22,
   "outputs": [],
   "source": [
    "train.loc[(train['edjefa'] == \"yes\") & (train['parentesco1'] ==1), \"edjefa\"] = train.loc[(train['edjefa'] =='yes') & (train['parentesco1'] ==1), \"escolari\"]"
   ],
   "metadata": {
    "collapsed": false,
    "pycharm": {
     "name": "#%%ucation \"yes\" and person is head of household , fill with escolari\n"
    }
   }
  },
  {
   "cell_type": "code",
   "execution_count": 23,
   "outputs": [],
   "source": [
    "# 잡추천알고리즘 대분류 중분류 소분류 일치 여부도도 이런 식으로 만들면 될 것을\n",
    "\n",
    "test.loc[(test['edjefa'] == \"yes\") & (test['parentesco1'] == 1), \"edjefa\"] = test.loc[(test['edjefa'] == \"yes\") & (test['parentesco1'] == 1), \"escolari\"]\n",
    "test.loc[(test['edjefe'] == \"yes\") & (test['parentesco1'] == 1), \"edjefe\"] = test.loc[(test['edjefe'] == \"yes\") & (test['parentesco1'] == 1), \"escolari\"]"
   ],
   "metadata": {
    "collapsed": false,
    "pycharm": {
     "name": "#%%\n"
    }
   }
  },
  {
   "cell_type": "code",
   "execution_count": 24,
   "outputs": [],
   "source": [
    "# the file is supposed to be interaction between gender and escolari , but it isn't clear what 'yes' mans, let's fill it with 4"
   ],
   "metadata": {
    "collapsed": false,
    "pycharm": {
     "name": "#%%\n"
    }
   }
  },
  {
   "cell_type": "code",
   "execution_count": 25,
   "outputs": [],
   "source": [
    "train.loc[train['edjefa']=='yes', 'edjefa'] = 4\n",
    "train.loc[train['edjefe'] =='yes', 'edjefe'] =4\n",
    "\n",
    "#if education is \"yes\" and person is head of household , filee with escolari"
   ],
   "metadata": {
    "collapsed": false,
    "pycharm": {
     "name": "#%%\n"
    }
   }
  },
  {
   "cell_type": "code",
   "execution_count": 26,
   "outputs": [],
   "source": [
    "test.loc[test['edjefa'] == \"yes\", \"edjefa\"] = 4\n",
    "test.loc[test['edjefe'] == \"yes\", \"edjefe\"] = 4"
   ],
   "metadata": {
    "collapsed": false,
    "pycharm": {
     "name": "#%%\n"
    }
   }
  },
  {
   "cell_type": "code",
   "execution_count": 27,
   "outputs": [],
   "source": [
    "# convert to int for our models\n",
    "train['edjefe'] = train['edjefe'].astype(\"int\")\n",
    "train['edjefa'] = train['edjefa'].astype(\"int\")"
   ],
   "metadata": {
    "collapsed": false,
    "pycharm": {
     "name": "#%%\n"
    }
   }
  },
  {
   "cell_type": "code",
   "execution_count": 28,
   "outputs": [],
   "source": [
    "test['edjefe'] =  test['edjefe'].astype(\"int\")\n",
    "test['edjefa'] = test['edjefa'].astype(\"int\")"
   ],
   "metadata": {
    "collapsed": false,
    "pycharm": {
     "name": "#%%\n"
    }
   }
  },
  {
   "cell_type": "code",
   "execution_count": 29,
   "outputs": [],
   "source": [
    "# create feature with max education of either head of household\n",
    "train['edjef'] = np.max(train[['edjefa','edjefe']],axis=1)\n",
    "test['edjef'] = np.max(test[['edjefa','edjefe']],axis=1 )"
   ],
   "metadata": {
    "collapsed": false,
    "pycharm": {
     "name": "#%%\n"
    }
   }
  },
  {
   "cell_type": "code",
   "execution_count": 30,
   "outputs": [],
   "source": [
    "# fill some nas\n",
    "train['v2a1'] = train['v2a1'].fillna(0)"
   ],
   "metadata": {
    "collapsed": false,
    "pycharm": {
     "name": "#%%\n"
    }
   }
  },
  {
   "cell_type": "code",
   "execution_count": 31,
   "outputs": [],
   "source": [
    "test['v2a1'] = test['v2a1'].fillna(0)"
   ],
   "metadata": {
    "collapsed": false,
    "pycharm": {
     "name": "#%%\n"
    }
   }
  },
  {
   "cell_type": "code",
   "execution_count": 32,
   "outputs": [],
   "source": [
    "test['v18q1'] = test['v18q1'].fillna(0)\n",
    "train['v18q1'] = train['v18q1'].fillna(0)"
   ],
   "metadata": {
    "collapsed": false,
    "pycharm": {
     "name": "#%%\n"
    }
   }
  },
  {
   "cell_type": "code",
   "execution_count": 33,
   "outputs": [],
   "source": [
    "train['rez_esc'] = train['rez_esc'].fillna(0)\n",
    "test['rez_esc'] = test['rez_esc'].fillna(0)"
   ],
   "metadata": {
    "collapsed": false,
    "pycharm": {
     "name": "#%%\n"
    }
   }
  },
  {
   "cell_type": "code",
   "execution_count": 34,
   "outputs": [],
   "source": [
    "train.loc[train.meaneduc.isnull(), 'meaneduc'] =0\n",
    "train.loc[train.SQBmeaned.isnull(), 'SQBmeaned'] = 0"
   ],
   "metadata": {
    "collapsed": false,
    "pycharm": {
     "name": "#%%\n"
    }
   }
  },
  {
   "cell_type": "code",
   "execution_count": 35,
   "outputs": [],
   "source": [
    "test.loc[test.meaneduc.isnull(), 'meaneduc'] = 0\n",
    "test.loc[test.SQBmeaned.isnull(), 'SQBmeaned'] = 0"
   ],
   "metadata": {
    "collapsed": false,
    "pycharm": {
     "name": "#%%\n"
    }
   }
  },
  {
   "cell_type": "code",
   "execution_count": 36,
   "outputs": [],
   "source": [
    "# fix some inconsistencies in the data - some rows indicate both that the household does and does not have a toliet\n",
    "# if there is no water we  ' ll assume they do not\n",
    "# 물 공급이 없다면 없는걸로 가정한다"
   ],
   "metadata": {
    "collapsed": false,
    "pycharm": {
     "name": "#%%\n"
    }
   }
  },
  {
   "cell_type": "code",
   "execution_count": 37,
   "outputs": [],
   "source": [
    "train.loc[(train.v14a == 1) & (train.sanitario1 == 1) & (train.abastaguano ==0 ) , \"v14a\"] = 0\n",
    "train.loc[(train.v14a == 1 ) & (train.sanitario1 == 1) & (train.abastaguano == 0) , \"sanitario1\"] = 0"
   ],
   "metadata": {
    "collapsed": false,
    "pycharm": {
     "name": "#%%\n"
    }
   }
  },
  {
   "cell_type": "code",
   "execution_count": 38,
   "outputs": [],
   "source": [
    "test.loc[(test.v14a ==1) & (test.sanitario1  == 1) & (test.abastaguano ==0) , \"v14a\"] = 0\n",
    "test.loc[(test.v14a ==1) & (test.sanitario1 == 1) & (test.abastaguano == 0 ), \"sanitario1\"] = 0"
   ],
   "metadata": {
    "collapsed": false,
    "pycharm": {
     "name": "#%%\n"
    }
   }
  },
  {
   "cell_type": "code",
   "execution_count": 39,
   "outputs": [],
   "source": [
    "def train_test_apply_func(train_, test_, func_):\n",
    "    test_['Target'] = 0\n",
    "    xx = pd.concat([train_,test_])\n",
    "\n",
    "    xx_func = func_(xx)\n",
    "    train_ = xx_func.iloc[:train_.shape[0],:]\n",
    "    test_ = xx_func.iloc[train_.shape[0]:,:].drop('Target', axis=1)\n",
    "\n",
    "    del xx, xx_func\n",
    "    return train_, test_"
   ],
   "metadata": {
    "collapsed": false,
    "pycharm": {
     "name": "#%%\n"
    }
   }
  },
  {
   "cell_type": "code",
   "execution_count": 40,
   "outputs": [
    {
     "name": "stdout",
     "output_type": "stream",
     "text": [
      "The OHE in techo is incomplete. A new column will be added before label encoding\n",
      "The OHE in instlevel is incomplete. A new column will be added before label encoding\n",
      "The OHE in manual_elec is incomplete. A new column will be added before label encoding\n"
     ]
    }
   ],
   "source": [
    "# convert the one hot fields into label encoded\n",
    "train , test = train_test_apply_func(train, test , convert_OHE2LE)"
   ],
   "metadata": {
    "collapsed": false,
    "pycharm": {
     "name": "#%%\n"
    }
   }
  },
  {
   "cell_type": "code",
   "execution_count": 41,
   "outputs": [],
   "source": [
    "cols_2_ohe = ['eviv_LE', 'etecho_LE', 'epared_LE', 'elimbasu_LE',\n",
    "              'energcocinar_LE', 'sanitario_LE', 'manual_elec_LE',\n",
    "              'pared_LE']\n",
    "cols_nums = ['age', 'meaneduc', 'dependency',\n",
    "             'hogar_nin', 'hogar_adul', 'hogar_mayor', 'hogar_total',\n",
    "             'bedrooms', 'overcrowding']"
   ],
   "metadata": {
    "collapsed": false,
    "pycharm": {
     "name": "#%%\n"
    }
   }
  },
  {
   "cell_type": "code",
   "execution_count": 42,
   "outputs": [],
   "source": [
    "def convert_geo2aggs(df_):\n",
    "    tmp_df = pd.concat([df_[(['lugar_LE', 'idhogar']+cols_nums)] , \\\n",
    "                        pd.get_dummies(df_[cols_2_ohe],columns=cols_2_ohe)],axis=1)\n",
    "\n",
    "\n",
    "    geo_agg = tmp_df.groupby(['lugar_LE', 'idhogar']).mean().groupby('lugar_LE').mean().astype(np.float32)\n",
    "    geo_agg.columns = pd.Index(['geo_' + e for e in geo_agg.columns.tolist()])\n",
    "\n",
    "    del tmp_df\n",
    "    return df_.join(geo_agg, how='left', on='lugar_LE')"
   ],
   "metadata": {
    "collapsed": false,
    "pycharm": {
     "name": "#%%\n"
    }
   }
  },
  {
   "cell_type": "code",
   "execution_count": 376,
   "outputs": [],
   "source": [
    "# add some aggregate by geograpy"
   ],
   "metadata": {
    "collapsed": false,
    "pycharm": {
     "name": "#%%\n"
    }
   }
  },
  {
   "cell_type": "code",
   "execution_count": 43,
   "outputs": [],
   "source": [
    "# one by one func\n",
    "train, test = train_test_apply_func(train, test , convert_geo2aggs)"
   ],
   "metadata": {
    "collapsed": false,
    "pycharm": {
     "name": "#%%\n"
    }
   }
  },
  {
   "cell_type": "code",
   "execution_count": 44,
   "outputs": [],
   "source": [
    "# add number of people over 18 in each household\n",
    "train['num_over_18'] = 0\n",
    "# transform working is same that Appling groupby function and the output merge at original dataset's same length\n",
    "train['num_over_18'] = train[train.age >= 18].groupby('idhogar').transform('count')"
   ],
   "metadata": {
    "collapsed": false,
    "pycharm": {
     "name": "#%%\n"
    }
   }
  },
  {
   "cell_type": "code",
   "execution_count": 45,
   "outputs": [],
   "source": [
    "# 유용한 기능도 결국 사고력이 그 정도에 달해 쓸만한 사람이 쓴다\n",
    "train['num_over_18'] = train.groupby(\"idhogar\")['num_over_18'].transform('max')"
   ],
   "metadata": {
    "collapsed": false,
    "pycharm": {
     "name": "#%%\n"
    }
   }
  },
  {
   "cell_type": "code",
   "execution_count": 46,
   "outputs": [],
   "source": [
    "train['num_over_18'] = train['num_over_18'].fillna(0)"
   ],
   "metadata": {
    "collapsed": false,
    "pycharm": {
     "name": "#%%\n"
    }
   }
  },
  {
   "cell_type": "code",
   "execution_count": 47,
   "outputs": [],
   "source": [
    "test['num_over_18'] = 0\n",
    "test['num_over_18'] = test[test.age >= 18].groupby('idhogar').transform('count')\n",
    "test['num_over_18'] = test.groupby(\"idhogar\")['num_over_18'].transform('max')\n",
    "test['num_over_18'] = test['num_over_18'].fillna(0)"
   ],
   "metadata": {
    "collapsed": false,
    "pycharm": {
     "name": "#%%\n"
    }
   }
  },
  {
   "cell_type": "code",
   "execution_count": 48,
   "outputs": [],
   "source": [
    "# add some extra feautres, these were taken from antoher kernel"
   ],
   "metadata": {
    "collapsed": false,
    "pycharm": {
     "name": "#%%\n"
    }
   }
  },
  {
   "cell_type": "code",
   "execution_count": 49,
   "outputs": [],
   "source": [
    "def extract_features(df):\n",
    "    df['bedrooms_to_rooms'] = df['bedrooms']/ df['rooms']\n",
    "    df['rent_to_rooms'] = df['v2a1'] /df['rooms']\n",
    "    df['tamhog_to_rooms'] = df['tamhog'] / df['rooms'] # tamhod - size of the household\n",
    "    df['r4t3_to_tamhog'] = df['r4t3'] /df['tamhog'] # r4t3 - Total persons in the household\n",
    "    df['r4t3_to_rooms'] = df['r4t3']/ df['rooms'] # r4t3 -Total persons in the household\n",
    "    df['v2a1_to_r4t3'] = df['v2a1'] / df['r4t3'] # rent to people in household\n",
    "    df['v2a1_to_r4t3'] = df['v2a1'] / (df['r4t3'] - df['r4t1']) # rent to people under age 12\n",
    "    df['hhsize_to_rooms'] = df['hhsize'] /df['rooms'] # rooms per person\n",
    "    df['rent_to_hhsize'] = df['v2a1']/df['hhsize'] # rent to household size\n",
    "    df['rent_to_over_18'] = df['v2a1'] / df['num_over_18']\n",
    "    # some households have no one over 18 , use the totla rent for those\n",
    "    df.loc[df.num_over_18 == 0 , \"rent_to_over_18\"] = df[df.num_over_18 == 0 ].v2a1\n",
    "\n",
    "extract_features(train)\n",
    "extract_features(test)"
   ],
   "metadata": {
    "collapsed": false,
    "pycharm": {
     "name": "#%%\n"
    }
   }
  },
  {
   "cell_type": "code",
   "execution_count": 50,
   "outputs": [],
   "source": [
    "# drop duplicated columns\n",
    "# feature 가 많으면 data 도 많아야 한다 과적합되지 않도록\n",
    "# 방어적 프로그래밍의 일환으로 assert 를 사용해서 type 이 맞는 지 검증을 한다 항상 assertion error와\n",
    "# parameter annotation 으로\n",
    "# 관계를 생각하며 치고나가는 코딩도 자아실현 되고\n",
    "# 부드럽고 자연스럽게 받아들이고 흡수해서 코딩 isinstance 등을 자연스럽게 쓴다거나 하는것도 자아실현 된다\n",
    "##%\n",
    "needless_cols = ['r4t3', 'tamhog' , 'tamviv' , 'hhsize' , 'v18q' ,'v14a' , 'agesq' , 'mobilephone' , 'female',]"
   ],
   "metadata": {
    "collapsed": false,
    "pycharm": {
     "name": "#%%\n"
    }
   }
  },
  {
   "cell_type": "code",
   "execution_count": 50,
   "outputs": [],
   "source": [],
   "metadata": {
    "collapsed": false,
    "pycharm": {
     "name": "#%%\n"
    }
   }
  },
  {
   "cell_type": "code",
   "execution_count": 51,
   "outputs": [],
   "source": [
    "instlevel_cols = [s for s in train.columns.tolist() if 'instlevel' in s]\n",
    "\n",
    "needless_cols.extend(instlevel_cols)"
   ],
   "metadata": {
    "collapsed": false,
    "pycharm": {
     "name": "#%%\n"
    }
   }
  },
  {
   "cell_type": "code",
   "execution_count": 52,
   "outputs": [],
   "source": [
    "train = train.drop(needless_cols , axis=1)\n",
    "test = test.drop(needless_cols , axis=1 )"
   ],
   "metadata": {
    "collapsed": false,
    "pycharm": {
     "name": "#%%\n"
    }
   }
  },
  {
   "cell_type": "code",
   "execution_count": 53,
   "outputs": [],
   "source": [
    "# 내 코딩에 적용해야할 부분이 너무 많다\n",
    "# 피쳐를 가지고 조합해보는 것 간단하게 각 컬럼별로 정하고 loc로 새로운 feature 를 만들 수도 있고\n",
    "# train test set을 2번 불리하지말고 k fold 를 좀 적용해야 할 필요가 있다 상관없을진 몰라도\n",
    "def split_data(train , y , sample_weight =None , households= None , test_percentage= 0.20, seed=None):\n",
    "    # uncomment for extra randomness\n",
    "    # np.random.seed(seed=seed)\n",
    "\n",
    "    train2 = train.copy()\n",
    "\n",
    "    # pick some random households to use for the test data\n",
    "    cv_hhs = np.random.choice(households, size= int(len(households) * test_percentage),replace=False)\n",
    "\n",
    "    # select households which ar in the random selection\n",
    "\n",
    "    cv_idx = np.isin(households, cv_hhs)\n",
    "\n",
    "    X_test = train2[cv_idx]\n",
    "    y_test = y[cv_idx]\n",
    "\n",
    "    X_train = train2[~cv_idx]\n",
    "    y_train = y[~cv_idx]\n",
    "\n",
    "    if sample_weight is not None:\n",
    "        y_train_weights = sample_weight[~cv_idx]\n",
    "        return X_train, y_train , X_test , y_test, y_train_weights\n",
    "    return X_train , y_train , X_test, y_test"
   ],
   "metadata": {
    "collapsed": false,
    "pycharm": {
     "name": "#%%\n"
    }
   }
  },
  {
   "cell_type": "code",
   "execution_count": 54,
   "outputs": [],
   "source": [
    "X = train.query('parentesco1==1')"
   ],
   "metadata": {
    "collapsed": false,
    "pycharm": {
     "name": "#%%\n"
    }
   }
  },
  {
   "cell_type": "code",
   "execution_count": 55,
   "outputs": [],
   "source": [
    "# X = train.copy()\n",
    "\n",
    "# pull out and drop the target variable\n",
    "y = X['Target'] - 1\n",
    "X = X.drop(['Target'], axis=1)"
   ],
   "metadata": {
    "collapsed": false,
    "pycharm": {
     "name": "#%%\n"
    }
   }
  },
  {
   "cell_type": "code",
   "execution_count": 56,
   "outputs": [],
   "source": [
    "np.random.seed(seed=None)"
   ],
   "metadata": {
    "collapsed": false,
    "pycharm": {
     "name": "#%%\n"
    }
   }
  },
  {
   "cell_type": "code",
   "execution_count": 57,
   "outputs": [],
   "source": [
    "train2 = X.copy()"
   ],
   "metadata": {
    "collapsed": false,
    "pycharm": {
     "name": "#%%\n"
    }
   }
  },
  {
   "cell_type": "code",
   "execution_count": 58,
   "outputs": [],
   "source": [
    "train_hhs = train2.idhogar\n",
    "\n",
    "households = train2.idhogar.unique()\n",
    "cv_hhs = np.random.choice(households, size=int(len(households) * 0.15) , replace=False)\n",
    "\n",
    "cv_idx = np.isin(train2.idhogar, cv_hhs)"
   ],
   "metadata": {
    "collapsed": false,
    "pycharm": {
     "name": "#%%\n"
    }
   }
  },
  {
   "cell_type": "code",
   "execution_count": 59,
   "outputs": [],
   "source": [
    "X_test = train2[cv_idx]\n",
    "y_test = y[cv_idx]"
   ],
   "metadata": {
    "collapsed": false,
    "pycharm": {
     "name": "#%%\n"
    }
   }
  },
  {
   "cell_type": "code",
   "execution_count": 60,
   "outputs": [],
   "source": [
    "X_train = train2[~cv_idx]"
   ],
   "metadata": {
    "collapsed": false,
    "pycharm": {
     "name": "#%%\n"
    }
   }
  },
  {
   "cell_type": "code",
   "execution_count": 60,
   "outputs": [],
   "source": [],
   "metadata": {
    "collapsed": false,
    "pycharm": {
     "name": "#%%\n"
    }
   }
  },
  {
   "cell_type": "code",
   "execution_count": 61,
   "outputs": [],
   "source": [
    "y_train = y[~cv_idx]\n",
    "\n",
    "# train on entire dataset\n",
    "\n",
    "X_train = train2\n",
    "y_train = y"
   ],
   "metadata": {
    "collapsed": false,
    "pycharm": {
     "name": "#%%\n"
    }
   }
  },
  {
   "cell_type": "code",
   "execution_count": 62,
   "outputs": [],
   "source": [
    "train_households = X_train.idhogar\n",
    "\n",
    "\n",
    "# figure out the class weights for training with unbalanced classes"
   ],
   "metadata": {
    "collapsed": false,
    "pycharm": {
     "name": "#%%\n"
    }
   }
  },
  {
   "cell_type": "code",
   "execution_count": 63,
   "outputs": [],
   "source": [
    "# class 별 가중치를 계산해준다는건가 ?\n",
    "# class value frequency 에  반비례하는 weight를 할당한다\n",
    "y_train_weights = class_weight.compute_sample_weight('balanced', y_train, indices=None)"
   ],
   "metadata": {
    "collapsed": false,
    "pycharm": {
     "name": "#%%\n"
    }
   }
  },
  {
   "cell_type": "code",
   "execution_count": null,
   "outputs": [],
   "source": [],
   "metadata": {
    "collapsed": false,
    "pycharm": {
     "name": "#%%\n"
    }
   }
  },
  {
   "cell_type": "code",
   "execution_count": 64,
   "outputs": [],
   "source": [
    "# drop some features which aren't used by the LGBM or have very low importnace\n",
    "extra_drop_features = [ 'agg18_estadocivil1_MEAN',\n",
    " 'agg18_estadocivil6_COUNT',\n",
    " 'agg18_estadocivil7_COUNT',\n",
    " 'agg18_parentesco10_COUNT',\n",
    " 'agg18_parentesco11_COUNT',\n",
    " 'agg18_parentesco12_COUNT',\n",
    " 'agg18_parentesco1_COUNT',\n",
    " 'agg18_parentesco2_COUNT',\n",
    " 'agg18_parentesco3_COUNT',\n",
    " 'agg18_parentesco4_COUNT',\n",
    " 'agg18_parentesco5_COUNT',\n",
    " 'agg18_parentesco6_COUNT',\n",
    " 'agg18_parentesco7_COUNT',\n",
    " 'agg18_parentesco8_COUNT',\n",
    " 'agg18_parentesco9_COUNT',\n",
    " 'geo_elimbasu_LE_4',\n",
    " 'geo_energcocinar_LE_1',\n",
    " 'geo_energcocinar_LE_2',\n",
    " 'geo_epared_LE_0',\n",
    " 'geo_hogar_mayor',\n",
    " 'geo_manual_elec_LE_2',\n",
    " 'geo_pared_LE_3',\n",
    " 'geo_pared_LE_4',\n",
    " 'geo_pared_LE_5',\n",
    " 'geo_pared_LE_6',\n",
    " 'num_over_18',\n",
    " 'parentesco_LE',\n",
    " 'rez_esc']"
   ],
   "metadata": {
    "collapsed": false,
    "pycharm": {
     "name": "#%%\n"
    }
   }
  },
  {
   "cell_type": "code",
   "execution_count": 65,
   "outputs": [],
   "source": [
    "\n",
    "xgb_drop_cols = extra_drop_features + [\"idhogar\" , 'parentesco1']"
   ],
   "metadata": {
    "collapsed": false,
    "pycharm": {
     "name": "#%%\n"
    }
   }
  },
  {
   "cell_type": "code",
   "execution_count": 66,
   "outputs": [],
   "source": [
    "# Fit a voting classifier\n",
    "# 4\n",
    "# 4\n",
    "# random searchcv kernel 을 통해 얻은 hyper parameter\n",
    "\n",
    "opt_parameters = {'max_depth':35, 'eta':0.1, 'silent':0,\n",
    "                  'objective':'multi:softmax', 'min_child_weight': 1,\n",
    "                  'num_class': 4, 'gamma': 2.0, 'colsample_bylevel': 0.9,\n",
    "                  'subsample': 0.84, 'colsample_bytree': 0.88, 'reg_lambda': 0.40 }\n",
    "# 5\n",
    "opt_parameters = {'max_depth':35, 'eta':0.15, 'silent':1,\n",
    "                  'objective':'multi:softmax', 'min_child_weight': 2,\n",
    "                  'num_class': 4, 'gamma': 2.5, 'colsample_bylevel': 1,\n",
    "                  'subsample': 0.95, 'colsample_bytree': 0.85, 'reg_lambda': 0.35 }\n",
    "# 6"
   ],
   "metadata": {
    "collapsed": false,
    "pycharm": {
     "name": "#%%\n"
    }
   }
  },
  {
   "cell_type": "code",
   "execution_count": 67,
   "outputs": [],
   "source": [
    "def evaluate_macroF1_lgb(predictions , truth):\n",
    "    # this follows the discussion in https://github.com/Microsoft/LightGBM/issues/1483\n",
    "\n",
    "    pred_labels = predictions.argmax(axis=1)\n",
    "    truth = truth.get_label()\n",
    "    f1 = f1_score(truth, pred_labels, average='macro')\n",
    "    return ('macroF1', 1-f1)\n",
    "\n",
    "fit_params = { \"early_stopping_rounds\" : 500,\n",
    "                \"eval_metric\" : evaluate_macroF1_lgb,\n",
    "                 \"eval_set\" : [(X_train,y_train), (X_test,y_test)],\n",
    "                 \"verbose\" : False}"
   ],
   "metadata": {
    "collapsed": false,
    "pycharm": {
     "name": "#%%\n"
    }
   }
  },
  {
   "cell_type": "code",
   "execution_count": 68,
   "outputs": [],
   "source": [
    "def learning_rate_power_0997(current_iter):\n",
    "    base_learning_rate= 0.1\n",
    "    min_learning_rate = 0.02\n",
    "    lr = base_learning_rate * np.power(.995, current_iter)\n",
    "    return max(lr, min_learning_rate)\n",
    "\n",
    "\n",
    "fit_params['verbose']  = 50"
   ],
   "metadata": {
    "collapsed": false,
    "pycharm": {
     "name": "#%%\n"
    }
   }
  },
  {
   "cell_type": "code",
   "execution_count": 208,
   "outputs": [],
   "source": [],
   "metadata": {
    "collapsed": false,
    "pycharm": {
     "name": "#%%\n"
    }
   }
  },
  {
   "cell_type": "code",
   "execution_count": 322,
   "outputs": [
    {
     "ename": "NameError",
     "evalue": "name 'sample_weight' is not defined",
     "output_type": "error",
     "traceback": [
      "\u001B[0;31m---------------------------------------------------------------------------\u001B[0m",
      "\u001B[0;31mNameError\u001B[0m                                 Traceback (most recent call last)",
      "\u001B[0;32m/var/folders/c6/2j22b1rd02778st12c0mcr3w0000gn/T/ipykernel_83198/163772477.py\u001B[0m in \u001B[0;36m<module>\u001B[0;34m\u001B[0m\n\u001B[0;32m----> 1\u001B[0;31m \u001B[0msample_weight\u001B[0m\u001B[0;34m\u001B[0m\u001B[0;34m\u001B[0m\u001B[0m\n\u001B[0m",
      "\u001B[0;31mNameError\u001B[0m: name 'sample_weight' is not defined"
     ]
    }
   ],
   "source": [],
   "metadata": {
    "collapsed": false,
    "pycharm": {
     "name": "#%%\n"
    }
   }
  },
  {
   "cell_type": "code",
   "execution_count": 69,
   "outputs": [],
   "source": [
    "def _parallel_fit_estimator(estimator1, X,y, sample_weight=None, threshold=True , **fit_params):\n",
    "    # clone 추정기 자체만 복사\n",
    "\n",
    "    estimator = clone(estimator1)\n",
    "\n",
    "    # randomly split the data so we have a test set for early stopping\n",
    "    if sample_weight is not None:\n",
    "        X_train, y_train, X_test, y_test, y_train_weight = split_data(X, y , sample_weight, households=train_households)\n",
    "    else:\n",
    "        X_train, y_train, X_test, y_test = split_data(X,y , None, households= train_households)\n",
    "\n",
    "    # update the fit params with our new split\n",
    "    fit_params[\"eval_set\"] = [(X_test, y_test)]\n",
    "\n",
    "    # fit the estimator\n",
    "\n",
    "    if isinstance(estimator1, ExtraTreesClassifier) or isinstance(estimator1, RandomForestClassifier):\n",
    "        estimator.fit(X_train, y_train)\n",
    "    else:\n",
    "        #compute sample weight parameter\n",
    "        if sample_weight is not None:\n",
    "            _ = estimator.fit(X_train, y_train , sample_weight= y_train_weight, **fit_params)\n",
    "        else:\n",
    "            _ = estimator.fit(X_train, y_train, **fit_params)\n",
    "\n",
    "    if not isinstance(estimator1, ExtraTreesClassifier) and not isinstance(estimator1, RandomForestClassifier)\\\n",
    "        and not isinstance(estimator1, xgb.XGBClassifier):\n",
    "        best_cv_round = np.argmax(estimator.evals_result_['validation_0']['mlogloss'])\n",
    "        best_cv =  np.max(estimator.evals_result_['validation_0']['mlogloss'])\n",
    "        best_train = estimator.evals_result_['train']['macroF1'][best_cv_round]\n",
    "    else:\n",
    "        best_train = f1_score(y_train , estimator.predict(X_train) , average=\"macro\")\n",
    "        best_cv = f1_score(y_test, estimator.predict(X_test), average=\"macro\")\n",
    "        print(\"Train F1: \", best_train)\n",
    "        print(\"Test F1:\" , best_cv)\n",
    "    # reject some estimators based on their performance on train and test sets\n",
    "    if threshold:\n",
    "        # if the valid score is very high we'll allow a little more leeway with the train scores\n",
    "        if ((best_cv > 0.37) and (best_train > 0.75)) or ((best_cv > 0.44) and (best_train > 0.65)):\n",
    "            return estimator\n",
    "        # else recurse untill we get a better one\n",
    "        else:\n",
    "            print(\"Unacceptable !!! Trying again ...\")\n",
    "            return _parallel_fit_estimator(estimator1, X,y , sample_weight=sample_weight, **fit_params)\n",
    "    else:\n",
    "        return estimator"
   ],
   "metadata": {
    "collapsed": false,
    "pycharm": {
     "name": "#%%\n"
    }
   }
  },
  {
   "cell_type": "code",
   "execution_count": 205,
   "outputs": [],
   "source": [],
   "metadata": {
    "collapsed": false,
    "pycharm": {
     "name": "#%%\n"
    }
   }
  },
  {
   "cell_type": "code",
   "execution_count": 70,
   "outputs": [],
   "source": [
    "# 추상화\n",
    "class VotingClassifierLGBM(VotingClassifier):\n",
    "    '''\n",
    "    This implements the fit method of the VotingClassifier propagating fit_params\n",
    "    특별한 어노테이션 등이 없이 override 한다\n",
    "    추상 클래스는 아니고 파라미터가 votingclassifier 의 인스턴스 서브 클래스에서 부모 클래스 속성과 메서드 그대로 사용\n",
    "    '''\n",
    "    def fit(self, X, y, sample_weight=None, threshold=True, **fit_params):\n",
    "\n",
    "        if isinstance(y, np.ndarray) and len(y.shape) > 1 and y.shape[1] > 1:\n",
    "            raise NotImplementedError('Multilabel and multi-output'\n",
    "                                      'classification is not supported.')\n",
    "\n",
    "        if self.voting not in ('soft', 'hard'):\n",
    "            raise ValueError(\"Voting must be 'soft' or 'hard'; got (voting=%r)\"\n",
    "                             % self.voting)\n",
    "\n",
    "        if self.estimators is None or len(self.estimators) == 0:\n",
    "            raise AttributeError('Invalid `estimators` attribute, `estimators`'\n",
    "                                 ' should be a list of (string, estimator)'\n",
    "                                 ' tuples')\n",
    "\n",
    "        if (self.weights is not None and\n",
    "                len(self.weights) != len(self.estimators)):\n",
    "            raise ValueError('Number of classifiers and weights must be equal'\n",
    "                             '; got %d weights, %d estimators'\n",
    "                             % (len(self.weights), len(self.estimators)))\n",
    "\n",
    "        names, clfs = zip(*self.estimators)\n",
    "        self._validate_names(names)\n",
    "\n",
    "        n_isnone = np.sum([clf is None for _, clf in self.estimators])\n",
    "        if n_isnone == len(self.estimators):\n",
    "            raise ValueError('All estimators are None. At least one is '\n",
    "                             'required to be a classifier!')\n",
    "\n",
    "        self.le_ = LabelEncoder().fit(y)\n",
    "        self.classes_ = self.le_.classes_\n",
    "        self.estimators_ = []\n",
    "\n",
    "        transformed_y = self.le_.transform(y)\n",
    "        # 병렬화해서 속성에 저장한다는 게 무슨 의미 ? 저장이 아니라 훈련시킨 모델을 self 로 가지고 있다\n",
    "        # delayed(func) 의 func를 병렬 처리 한다\n",
    "\n",
    "        self.estimators_ = Parallel(n_jobs=self.n_jobs)(delayed(_parallel_fit_estimator)(clone(clf), X, transformed_y,sample_weight=sample_weight, threshold=threshold, **fit_params) for clf in clfs if clf is not None)\n",
    "\n",
    "        return self"
   ],
   "metadata": {
    "collapsed": false,
    "pycharm": {
     "name": "#%%\n"
    }
   }
  },
  {
   "cell_type": "code",
   "execution_count": 71,
   "outputs": [],
   "source": [
    "clfs = []\n",
    "\n",
    "for i in range(15):\n",
    "    clf = xgb.XGBClassifier(random_state=217 + i , n_estimators=300, learning_rate=0.15, n_jobs=4, **opt_parameters)\n",
    "    clfs.append(('xgb{}'.format(i), clf))"
   ],
   "metadata": {
    "collapsed": false,
    "pycharm": {
     "name": "#%%\n"
    }
   }
  },
  {
   "cell_type": "code",
   "execution_count": 72,
   "outputs": [],
   "source": [
    "# votingclassifier(estimators=[('estimator_custom_name',estimator(logistic_regression,knn ans do on..)],voting='soft]\n",
    "vc = VotingClassifierLGBM(clfs, voting='soft')\n",
    "# Train the final model with learning rate today#\n",
    "# compute sample weight unbalanced classes"
   ],
   "metadata": {
    "collapsed": false,
    "pycharm": {
     "name": "#%%\n"
    }
   }
  },
  {
   "cell_type": "code",
   "execution_count": 73,
   "outputs": [
    {
     "ename": "AttributeError",
     "evalue": "'VotingClassifierLGBM' object has no attribute 'estimators_'",
     "output_type": "error",
     "traceback": [
      "\u001B[0;31m---------------------------------------------------------------------------\u001B[0m",
      "\u001B[0;31mAttributeError\u001B[0m                            Traceback (most recent call last)",
      "\u001B[0;32m/var/folders/c6/2j22b1rd02778st12c0mcr3w0000gn/T/ipykernel_77247/1596517506.py\u001B[0m in \u001B[0;36m<module>\u001B[0;34m\u001B[0m\n\u001B[0;32m----> 1\u001B[0;31m \u001B[0mvc\u001B[0m\u001B[0;34m.\u001B[0m\u001B[0mestimators_\u001B[0m\u001B[0;34m\u001B[0m\u001B[0;34m\u001B[0m\u001B[0m\n\u001B[0m",
      "\u001B[0;31mAttributeError\u001B[0m: 'VotingClassifierLGBM' object has no attribute 'estimators_'"
     ]
    }
   ],
   "source": [
    "del clfs"
   ],
   "metadata": {
    "collapsed": false,
    "pycharm": {
     "name": "#%%\n"
    }
   }
  },
  {
   "cell_type": "code",
   "execution_count": 76,
   "outputs": [
    {
     "name": "stdout",
     "output_type": "stream",
     "text": [
      "[14:11:08] WARNING: /Users/travis/build/dmlc/xgboost/src/learner.cc:573: \n",
      "Parameters: { \"silent\" } might not be used.\n",
      "\n",
      "  This may not be accurate due to some parameters are only used in language bindings but\n",
      "  passed down to XGBoost core.  Or some parameters are not used but slip through this\n",
      "  verification. Please open an issue if you find above cases.\n",
      "\n",
      "\n",
      "[14:11:08] WARNING: /Users/travis/build/dmlc/xgboost/src/learner.cc:1095: Starting in XGBoost 1.3.0, the default evaluation metric used with the objective 'multi:softprob' was changed from 'merror' to 'mlogloss'. Explicitly set eval_metric if you'd like to restore the old behavior.\n",
      "[0]\tvalidation_0-mlogloss:1.30779\tvalidation_0-macroF1:0.64127\n",
      "[50]\tvalidation_0-mlogloss:0.93541\tvalidation_0-macroF1:0.59446\n",
      "[100]\tvalidation_0-mlogloss:0.93034\tvalidation_0-macroF1:0.56968\n",
      "[150]\tvalidation_0-mlogloss:0.92794\tvalidation_0-macroF1:0.57728\n",
      "[200]\tvalidation_0-mlogloss:0.92797\tvalidation_0-macroF1:0.58559\n",
      "[250]\tvalidation_0-mlogloss:0.92713\tvalidation_0-macroF1:0.58693\n",
      "[299]\tvalidation_0-mlogloss:0.92749\tvalidation_0-macroF1:0.58394\n",
      "Train F1:  0.9150851600693897\n",
      "Test F1: 0.43206721374340873\n",
      "[14:11:38] WARNING: /Users/travis/build/dmlc/xgboost/src/learner.cc:573: \n",
      "Parameters: { \"silent\" } might not be used.\n",
      "\n",
      "  This may not be accurate due to some parameters are only used in language bindings but\n",
      "  passed down to XGBoost core.  Or some parameters are not used but slip through this\n",
      "  verification. Please open an issue if you find above cases.\n",
      "\n",
      "\n",
      "[14:11:38] WARNING: /Users/travis/build/dmlc/xgboost/src/learner.cc:1095: Starting in XGBoost 1.3.0, the default evaluation metric used with the objective 'multi:softprob' was changed from 'merror' to 'mlogloss'. Explicitly set eval_metric if you'd like to restore the old behavior.\n",
      "[0]\tvalidation_0-mlogloss:1.31870\tvalidation_0-macroF1:0.68451\n",
      "[50]\tvalidation_0-mlogloss:0.99284\tvalidation_0-macroF1:0.62157\n",
      "[100]\tvalidation_0-mlogloss:0.99634\tvalidation_0-macroF1:0.62153\n",
      "[150]\tvalidation_0-mlogloss:0.99438\tvalidation_0-macroF1:0.62239\n",
      "[200]\tvalidation_0-mlogloss:0.99551\tvalidation_0-macroF1:0.62860\n",
      "[250]\tvalidation_0-mlogloss:0.99774\tvalidation_0-macroF1:0.62292\n",
      "[299]\tvalidation_0-mlogloss:0.99772\tvalidation_0-macroF1:0.61975\n",
      "Train F1:  0.8469507955774256\n",
      "Test F1: 0.39592871993584267\n",
      "[14:12:05] WARNING: /Users/travis/build/dmlc/xgboost/src/learner.cc:573: \n",
      "Parameters: { \"silent\" } might not be used.\n",
      "\n",
      "  This may not be accurate due to some parameters are only used in language bindings but\n",
      "  passed down to XGBoost core.  Or some parameters are not used but slip through this\n",
      "  verification. Please open an issue if you find above cases.\n",
      "\n",
      "\n",
      "[14:12:05] WARNING: /Users/travis/build/dmlc/xgboost/src/learner.cc:1095: Starting in XGBoost 1.3.0, the default evaluation metric used with the objective 'multi:softprob' was changed from 'merror' to 'mlogloss'. Explicitly set eval_metric if you'd like to restore the old behavior.\n",
      "[0]\tvalidation_0-mlogloss:1.30765\tvalidation_0-macroF1:0.65306\n",
      "[50]\tvalidation_0-mlogloss:0.95711\tvalidation_0-macroF1:0.57351\n",
      "[100]\tvalidation_0-mlogloss:0.95396\tvalidation_0-macroF1:0.58343\n",
      "[150]\tvalidation_0-mlogloss:0.95544\tvalidation_0-macroF1:0.58363\n",
      "[200]\tvalidation_0-mlogloss:0.95695\tvalidation_0-macroF1:0.58791\n",
      "[250]\tvalidation_0-mlogloss:0.95775\tvalidation_0-macroF1:0.58836\n",
      "[299]\tvalidation_0-mlogloss:0.95731\tvalidation_0-macroF1:0.59161\n",
      "Train F1:  0.8928561931747114\n",
      "Test F1: 0.4312844428906737\n",
      "[14:12:32] WARNING: /Users/travis/build/dmlc/xgboost/src/learner.cc:573: \n",
      "Parameters: { \"silent\" } might not be used.\n",
      "\n",
      "  This may not be accurate due to some parameters are only used in language bindings but\n",
      "  passed down to XGBoost core.  Or some parameters are not used but slip through this\n",
      "  verification. Please open an issue if you find above cases.\n",
      "\n",
      "\n",
      "[14:12:32] WARNING: /Users/travis/build/dmlc/xgboost/src/learner.cc:1095: Starting in XGBoost 1.3.0, the default evaluation metric used with the objective 'multi:softprob' was changed from 'merror' to 'mlogloss'. Explicitly set eval_metric if you'd like to restore the old behavior.\n",
      "[0]\tvalidation_0-mlogloss:1.29950\tvalidation_0-macroF1:0.63162\n",
      "[50]\tvalidation_0-mlogloss:0.92648\tvalidation_0-macroF1:0.59605\n",
      "[100]\tvalidation_0-mlogloss:0.92676\tvalidation_0-macroF1:0.61274\n",
      "[150]\tvalidation_0-mlogloss:0.92717\tvalidation_0-macroF1:0.60970\n",
      "[200]\tvalidation_0-mlogloss:0.92529\tvalidation_0-macroF1:0.60261\n",
      "[250]\tvalidation_0-mlogloss:0.92514\tvalidation_0-macroF1:0.59938\n",
      "[299]\tvalidation_0-mlogloss:0.92542\tvalidation_0-macroF1:0.59806\n",
      "Train F1:  0.8957009179581735\n",
      "Test F1: 0.41285013691108907\n",
      "[14:12:59] WARNING: /Users/travis/build/dmlc/xgboost/src/learner.cc:573: \n",
      "Parameters: { \"silent\" } might not be used.\n",
      "\n",
      "  This may not be accurate due to some parameters are only used in language bindings but\n",
      "  passed down to XGBoost core.  Or some parameters are not used but slip through this\n",
      "  verification. Please open an issue if you find above cases.\n",
      "\n",
      "\n",
      "[14:12:59] WARNING: /Users/travis/build/dmlc/xgboost/src/learner.cc:1095: Starting in XGBoost 1.3.0, the default evaluation metric used with the objective 'multi:softprob' was changed from 'merror' to 'mlogloss'. Explicitly set eval_metric if you'd like to restore the old behavior.\n",
      "[0]\tvalidation_0-mlogloss:1.31259\tvalidation_0-macroF1:0.68521\n",
      "[50]\tvalidation_0-mlogloss:0.94903\tvalidation_0-macroF1:0.60099\n",
      "[100]\tvalidation_0-mlogloss:0.94979\tvalidation_0-macroF1:0.60537\n",
      "[150]\tvalidation_0-mlogloss:0.94740\tvalidation_0-macroF1:0.60668\n",
      "[200]\tvalidation_0-mlogloss:0.94694\tvalidation_0-macroF1:0.59823\n",
      "[250]\tvalidation_0-mlogloss:0.94603\tvalidation_0-macroF1:0.60007\n",
      "[299]\tvalidation_0-mlogloss:0.94675\tvalidation_0-macroF1:0.59812\n",
      "Train F1:  0.9248351916157606\n",
      "Test F1: 0.4031479337225611\n",
      "[14:13:25] WARNING: /Users/travis/build/dmlc/xgboost/src/learner.cc:573: \n",
      "Parameters: { \"silent\" } might not be used.\n",
      "\n",
      "  This may not be accurate due to some parameters are only used in language bindings but\n",
      "  passed down to XGBoost core.  Or some parameters are not used but slip through this\n",
      "  verification. Please open an issue if you find above cases.\n",
      "\n",
      "\n",
      "[14:13:25] WARNING: /Users/travis/build/dmlc/xgboost/src/learner.cc:1095: Starting in XGBoost 1.3.0, the default evaluation metric used with the objective 'multi:softprob' was changed from 'merror' to 'mlogloss'. Explicitly set eval_metric if you'd like to restore the old behavior.\n",
      "[0]\tvalidation_0-mlogloss:1.30097\tvalidation_0-macroF1:0.61342\n",
      "[50]\tvalidation_0-mlogloss:0.91802\tvalidation_0-macroF1:0.55392\n",
      "[100]\tvalidation_0-mlogloss:0.90853\tvalidation_0-macroF1:0.56712\n",
      "[150]\tvalidation_0-mlogloss:0.91002\tvalidation_0-macroF1:0.56051\n",
      "[200]\tvalidation_0-mlogloss:0.90845\tvalidation_0-macroF1:0.56244\n",
      "[250]\tvalidation_0-mlogloss:0.90949\tvalidation_0-macroF1:0.56721\n",
      "[299]\tvalidation_0-mlogloss:0.90927\tvalidation_0-macroF1:0.56513\n",
      "Train F1:  0.907308893093905\n",
      "Test F1: 0.4460847267255812\n",
      "[14:13:53] WARNING: /Users/travis/build/dmlc/xgboost/src/learner.cc:573: \n",
      "Parameters: { \"silent\" } might not be used.\n",
      "\n",
      "  This may not be accurate due to some parameters are only used in language bindings but\n",
      "  passed down to XGBoost core.  Or some parameters are not used but slip through this\n",
      "  verification. Please open an issue if you find above cases.\n",
      "\n",
      "\n",
      "[14:13:53] WARNING: /Users/travis/build/dmlc/xgboost/src/learner.cc:1095: Starting in XGBoost 1.3.0, the default evaluation metric used with the objective 'multi:softprob' was changed from 'merror' to 'mlogloss'. Explicitly set eval_metric if you'd like to restore the old behavior.\n",
      "[0]\tvalidation_0-mlogloss:1.30816\tvalidation_0-macroF1:0.63102\n",
      "[50]\tvalidation_0-mlogloss:0.93731\tvalidation_0-macroF1:0.56437\n",
      "[100]\tvalidation_0-mlogloss:0.93086\tvalidation_0-macroF1:0.54205\n",
      "[150]\tvalidation_0-mlogloss:0.92903\tvalidation_0-macroF1:0.53570\n",
      "[200]\tvalidation_0-mlogloss:0.92868\tvalidation_0-macroF1:0.53941\n",
      "[250]\tvalidation_0-mlogloss:0.92699\tvalidation_0-macroF1:0.53053\n",
      "[299]\tvalidation_0-mlogloss:0.92734\tvalidation_0-macroF1:0.53105\n",
      "Train F1:  0.9259344098226915\n",
      "Test F1: 0.46947412390625687\n",
      "[14:14:20] WARNING: /Users/travis/build/dmlc/xgboost/src/learner.cc:573: \n",
      "Parameters: { \"silent\" } might not be used.\n",
      "\n",
      "  This may not be accurate due to some parameters are only used in language bindings but\n",
      "  passed down to XGBoost core.  Or some parameters are not used but slip through this\n",
      "  verification. Please open an issue if you find above cases.\n",
      "\n",
      "\n",
      "[14:14:20] WARNING: /Users/travis/build/dmlc/xgboost/src/learner.cc:1095: Starting in XGBoost 1.3.0, the default evaluation metric used with the objective 'multi:softprob' was changed from 'merror' to 'mlogloss'. Explicitly set eval_metric if you'd like to restore the old behavior.\n",
      "[0]\tvalidation_0-mlogloss:1.30693\tvalidation_0-macroF1:0.66856\n",
      "[50]\tvalidation_0-mlogloss:0.89698\tvalidation_0-macroF1:0.59982\n",
      "[100]\tvalidation_0-mlogloss:0.88887\tvalidation_0-macroF1:0.58733\n",
      "[150]\tvalidation_0-mlogloss:0.88788\tvalidation_0-macroF1:0.59702\n",
      "[200]\tvalidation_0-mlogloss:0.88282\tvalidation_0-macroF1:0.57975\n",
      "[250]\tvalidation_0-mlogloss:0.88272\tvalidation_0-macroF1:0.58488\n",
      "[299]\tvalidation_0-mlogloss:0.88281\tvalidation_0-macroF1:0.58884\n",
      "Train F1:  0.9253180084506432\n",
      "Test F1: 0.42159033378545574\n",
      "[14:14:48] WARNING: /Users/travis/build/dmlc/xgboost/src/learner.cc:573: \n",
      "Parameters: { \"silent\" } might not be used.\n",
      "\n",
      "  This may not be accurate due to some parameters are only used in language bindings but\n",
      "  passed down to XGBoost core.  Or some parameters are not used but slip through this\n",
      "  verification. Please open an issue if you find above cases.\n",
      "\n",
      "\n",
      "[14:14:48] WARNING: /Users/travis/build/dmlc/xgboost/src/learner.cc:1095: Starting in XGBoost 1.3.0, the default evaluation metric used with the objective 'multi:softprob' was changed from 'merror' to 'mlogloss'. Explicitly set eval_metric if you'd like to restore the old behavior.\n",
      "[0]\tvalidation_0-mlogloss:1.29589\tvalidation_0-macroF1:0.63854\n",
      "[50]\tvalidation_0-mlogloss:0.92614\tvalidation_0-macroF1:0.58941\n",
      "[100]\tvalidation_0-mlogloss:0.92667\tvalidation_0-macroF1:0.59842\n",
      "[150]\tvalidation_0-mlogloss:0.92726\tvalidation_0-macroF1:0.59898\n",
      "[200]\tvalidation_0-mlogloss:0.92661\tvalidation_0-macroF1:0.60769\n",
      "[250]\tvalidation_0-mlogloss:0.92475\tvalidation_0-macroF1:0.59975\n",
      "[299]\tvalidation_0-mlogloss:0.92461\tvalidation_0-macroF1:0.59719\n",
      "Train F1:  0.9041459826945022\n",
      "Test F1: 0.413995787753707\n",
      "[14:15:15] WARNING: /Users/travis/build/dmlc/xgboost/src/learner.cc:573: \n",
      "Parameters: { \"silent\" } might not be used.\n",
      "\n",
      "  This may not be accurate due to some parameters are only used in language bindings but\n",
      "  passed down to XGBoost core.  Or some parameters are not used but slip through this\n",
      "  verification. Please open an issue if you find above cases.\n",
      "\n",
      "\n",
      "[14:15:15] WARNING: /Users/travis/build/dmlc/xgboost/src/learner.cc:1095: Starting in XGBoost 1.3.0, the default evaluation metric used with the objective 'multi:softprob' was changed from 'merror' to 'mlogloss'. Explicitly set eval_metric if you'd like to restore the old behavior.\n",
      "[0]\tvalidation_0-mlogloss:1.30156\tvalidation_0-macroF1:0.65766\n",
      "[50]\tvalidation_0-mlogloss:0.92796\tvalidation_0-macroF1:0.58704\n",
      "[100]\tvalidation_0-mlogloss:0.92259\tvalidation_0-macroF1:0.60518\n",
      "[150]\tvalidation_0-mlogloss:0.92387\tvalidation_0-macroF1:0.61224\n",
      "[200]\tvalidation_0-mlogloss:0.92399\tvalidation_0-macroF1:0.61234\n",
      "[250]\tvalidation_0-mlogloss:0.92248\tvalidation_0-macroF1:0.60714\n",
      "[299]\tvalidation_0-mlogloss:0.92295\tvalidation_0-macroF1:0.60727\n",
      "Train F1:  0.8901654046006875\n",
      "Test F1: 0.43372638046091755\n",
      "[14:15:42] WARNING: /Users/travis/build/dmlc/xgboost/src/learner.cc:573: \n",
      "Parameters: { \"silent\" } might not be used.\n",
      "\n",
      "  This may not be accurate due to some parameters are only used in language bindings but\n",
      "  passed down to XGBoost core.  Or some parameters are not used but slip through this\n",
      "  verification. Please open an issue if you find above cases.\n",
      "\n",
      "\n",
      "[14:15:42] WARNING: /Users/travis/build/dmlc/xgboost/src/learner.cc:1095: Starting in XGBoost 1.3.0, the default evaluation metric used with the objective 'multi:softprob' was changed from 'merror' to 'mlogloss'. Explicitly set eval_metric if you'd like to restore the old behavior.\n",
      "[0]\tvalidation_0-mlogloss:1.29841\tvalidation_0-macroF1:0.62266\n",
      "[50]\tvalidation_0-mlogloss:0.91789\tvalidation_0-macroF1:0.55431\n",
      "[100]\tvalidation_0-mlogloss:0.90996\tvalidation_0-macroF1:0.55922\n",
      "[150]\tvalidation_0-mlogloss:0.90904\tvalidation_0-macroF1:0.55582\n",
      "[200]\tvalidation_0-mlogloss:0.90918\tvalidation_0-macroF1:0.55966\n",
      "[250]\tvalidation_0-mlogloss:0.90790\tvalidation_0-macroF1:0.55284\n",
      "[299]\tvalidation_0-mlogloss:0.90663\tvalidation_0-macroF1:0.55106\n",
      "Train F1:  0.8596523288911162\n",
      "Test F1: 0.4523985831518892\n",
      "[14:16:10] WARNING: /Users/travis/build/dmlc/xgboost/src/learner.cc:573: \n",
      "Parameters: { \"silent\" } might not be used.\n",
      "\n",
      "  This may not be accurate due to some parameters are only used in language bindings but\n",
      "  passed down to XGBoost core.  Or some parameters are not used but slip through this\n",
      "  verification. Please open an issue if you find above cases.\n",
      "\n",
      "\n",
      "[14:16:10] WARNING: /Users/travis/build/dmlc/xgboost/src/learner.cc:1095: Starting in XGBoost 1.3.0, the default evaluation metric used with the objective 'multi:softprob' was changed from 'merror' to 'mlogloss'. Explicitly set eval_metric if you'd like to restore the old behavior.\n",
      "[0]\tvalidation_0-mlogloss:1.29848\tvalidation_0-macroF1:0.62141\n",
      "[50]\tvalidation_0-mlogloss:0.89757\tvalidation_0-macroF1:0.59008\n",
      "[100]\tvalidation_0-mlogloss:0.88980\tvalidation_0-macroF1:0.60678\n",
      "[150]\tvalidation_0-mlogloss:0.88790\tvalidation_0-macroF1:0.60264\n",
      "[200]\tvalidation_0-mlogloss:0.88755\tvalidation_0-macroF1:0.59032\n",
      "[250]\tvalidation_0-mlogloss:0.88673\tvalidation_0-macroF1:0.59848\n",
      "[299]\tvalidation_0-mlogloss:0.88667\tvalidation_0-macroF1:0.59734\n",
      "Train F1:  0.8735251348050452\n",
      "Test F1: 0.4270063751169033\n",
      "[14:16:37] WARNING: /Users/travis/build/dmlc/xgboost/src/learner.cc:573: \n",
      "Parameters: { \"silent\" } might not be used.\n",
      "\n",
      "  This may not be accurate due to some parameters are only used in language bindings but\n",
      "  passed down to XGBoost core.  Or some parameters are not used but slip through this\n",
      "  verification. Please open an issue if you find above cases.\n",
      "\n",
      "\n",
      "[14:16:37] WARNING: /Users/travis/build/dmlc/xgboost/src/learner.cc:1095: Starting in XGBoost 1.3.0, the default evaluation metric used with the objective 'multi:softprob' was changed from 'merror' to 'mlogloss'. Explicitly set eval_metric if you'd like to restore the old behavior.\n",
      "[0]\tvalidation_0-mlogloss:1.31021\tvalidation_0-macroF1:0.66032\n",
      "[50]\tvalidation_0-mlogloss:0.93768\tvalidation_0-macroF1:0.61887\n",
      "[100]\tvalidation_0-mlogloss:0.93412\tvalidation_0-macroF1:0.61970\n",
      "[150]\tvalidation_0-mlogloss:0.93278\tvalidation_0-macroF1:0.60117\n",
      "[200]\tvalidation_0-mlogloss:0.93560\tvalidation_0-macroF1:0.59316\n",
      "[250]\tvalidation_0-mlogloss:0.93579\tvalidation_0-macroF1:0.59750\n",
      "[299]\tvalidation_0-mlogloss:0.93686\tvalidation_0-macroF1:0.59355\n",
      "Train F1:  0.9297730660156172\n",
      "Test F1: 0.41390255486475647\n",
      "[14:17:05] WARNING: /Users/travis/build/dmlc/xgboost/src/learner.cc:573: \n",
      "Parameters: { \"silent\" } might not be used.\n",
      "\n",
      "  This may not be accurate due to some parameters are only used in language bindings but\n",
      "  passed down to XGBoost core.  Or some parameters are not used but slip through this\n",
      "  verification. Please open an issue if you find above cases.\n",
      "\n",
      "\n",
      "[14:17:05] WARNING: /Users/travis/build/dmlc/xgboost/src/learner.cc:1095: Starting in XGBoost 1.3.0, the default evaluation metric used with the objective 'multi:softprob' was changed from 'merror' to 'mlogloss'. Explicitly set eval_metric if you'd like to restore the old behavior.\n",
      "[0]\tvalidation_0-mlogloss:1.30306\tvalidation_0-macroF1:0.63921\n",
      "[50]\tvalidation_0-mlogloss:0.92213\tvalidation_0-macroF1:0.57383\n",
      "[100]\tvalidation_0-mlogloss:0.91577\tvalidation_0-macroF1:0.56507\n",
      "[150]\tvalidation_0-mlogloss:0.91119\tvalidation_0-macroF1:0.55905\n",
      "[200]\tvalidation_0-mlogloss:0.90877\tvalidation_0-macroF1:0.55909\n",
      "[250]\tvalidation_0-mlogloss:0.90967\tvalidation_0-macroF1:0.55415\n",
      "[299]\tvalidation_0-mlogloss:0.91024\tvalidation_0-macroF1:0.55581\n",
      "Train F1:  0.921255382895493\n",
      "Test F1: 0.44763156036260876\n",
      "[14:17:33] WARNING: /Users/travis/build/dmlc/xgboost/src/learner.cc:573: \n",
      "Parameters: { \"silent\" } might not be used.\n",
      "\n",
      "  This may not be accurate due to some parameters are only used in language bindings but\n",
      "  passed down to XGBoost core.  Or some parameters are not used but slip through this\n",
      "  verification. Please open an issue if you find above cases.\n",
      "\n",
      "\n",
      "[14:17:33] WARNING: /Users/travis/build/dmlc/xgboost/src/learner.cc:1095: Starting in XGBoost 1.3.0, the default evaluation metric used with the objective 'multi:softprob' was changed from 'merror' to 'mlogloss'. Explicitly set eval_metric if you'd like to restore the old behavior.\n",
      "[0]\tvalidation_0-mlogloss:1.30890\tvalidation_0-macroF1:0.66707\n",
      "[50]\tvalidation_0-mlogloss:0.95477\tvalidation_0-macroF1:0.58259\n",
      "[100]\tvalidation_0-mlogloss:0.95338\tvalidation_0-macroF1:0.58396\n",
      "[150]\tvalidation_0-mlogloss:0.95074\tvalidation_0-macroF1:0.57946\n",
      "[200]\tvalidation_0-mlogloss:0.94642\tvalidation_0-macroF1:0.58737\n",
      "[250]\tvalidation_0-mlogloss:0.94728\tvalidation_0-macroF1:0.57562\n",
      "[299]\tvalidation_0-mlogloss:0.94770\tvalidation_0-macroF1:0.58883\n",
      "Train F1:  0.9287483884505139\n",
      "Test F1: 0.4243757577090911\n"
     ]
    }
   ],
   "source": [
    "_ = vc.fit(X_train.drop(xgb_drop_cols , axis=1), y_train, sample_weight=y_train_weights, threshold=False, **fit_params)"
   ],
   "metadata": {
    "collapsed": false,
    "pycharm": {
     "name": "#%%\n"
    }
   }
  },
  {
   "cell_type": "code",
   "execution_count": 77,
   "outputs": [
    {
     "data": {
      "text/plain": "[XGBClassifier(base_score=0.5, booster='gbtree', colsample_bylevel=1,\n               colsample_bynode=1, colsample_bytree=0.85, eta=0.15, gamma=2.5,\n               gpu_id=-1, importance_type='gain', interaction_constraints='',\n               learning_rate=0.15, max_delta_step=0, max_depth=35,\n               min_child_weight=2, missing=nan, monotone_constraints='()',\n               n_estimators=300, n_jobs=4, num_class=4, num_parallel_tree=1,\n               objective='multi:softprob', random_state=217, reg_alpha=0,\n               reg_lambda=0.35, scale_pos_weight=None, silent=1, subsample=0.95,\n               tree_method='exact', validate_parameters=1, verbosity=None),\n XGBClassifier(base_score=0.5, booster='gbtree', colsample_bylevel=1,\n               colsample_bynode=1, colsample_bytree=0.85, eta=0.15, gamma=2.5,\n               gpu_id=-1, importance_type='gain', interaction_constraints='',\n               learning_rate=0.15, max_delta_step=0, max_depth=35,\n               min_child_weight=2, missing=nan, monotone_constraints='()',\n               n_estimators=300, n_jobs=4, num_class=4, num_parallel_tree=1,\n               objective='multi:softprob', random_state=218, reg_alpha=0,\n               reg_lambda=0.35, scale_pos_weight=None, silent=1, subsample=0.95,\n               tree_method='exact', validate_parameters=1, verbosity=None),\n XGBClassifier(base_score=0.5, booster='gbtree', colsample_bylevel=1,\n               colsample_bynode=1, colsample_bytree=0.85, eta=0.15, gamma=2.5,\n               gpu_id=-1, importance_type='gain', interaction_constraints='',\n               learning_rate=0.15, max_delta_step=0, max_depth=35,\n               min_child_weight=2, missing=nan, monotone_constraints='()',\n               n_estimators=300, n_jobs=4, num_class=4, num_parallel_tree=1,\n               objective='multi:softprob', random_state=219, reg_alpha=0,\n               reg_lambda=0.35, scale_pos_weight=None, silent=1, subsample=0.95,\n               tree_method='exact', validate_parameters=1, verbosity=None),\n XGBClassifier(base_score=0.5, booster='gbtree', colsample_bylevel=1,\n               colsample_bynode=1, colsample_bytree=0.85, eta=0.15, gamma=2.5,\n               gpu_id=-1, importance_type='gain', interaction_constraints='',\n               learning_rate=0.15, max_delta_step=0, max_depth=35,\n               min_child_weight=2, missing=nan, monotone_constraints='()',\n               n_estimators=300, n_jobs=4, num_class=4, num_parallel_tree=1,\n               objective='multi:softprob', random_state=220, reg_alpha=0,\n               reg_lambda=0.35, scale_pos_weight=None, silent=1, subsample=0.95,\n               tree_method='exact', validate_parameters=1, verbosity=None),\n XGBClassifier(base_score=0.5, booster='gbtree', colsample_bylevel=1,\n               colsample_bynode=1, colsample_bytree=0.85, eta=0.15, gamma=2.5,\n               gpu_id=-1, importance_type='gain', interaction_constraints='',\n               learning_rate=0.15, max_delta_step=0, max_depth=35,\n               min_child_weight=2, missing=nan, monotone_constraints='()',\n               n_estimators=300, n_jobs=4, num_class=4, num_parallel_tree=1,\n               objective='multi:softprob', random_state=221, reg_alpha=0,\n               reg_lambda=0.35, scale_pos_weight=None, silent=1, subsample=0.95,\n               tree_method='exact', validate_parameters=1, verbosity=None),\n XGBClassifier(base_score=0.5, booster='gbtree', colsample_bylevel=1,\n               colsample_bynode=1, colsample_bytree=0.85, eta=0.15, gamma=2.5,\n               gpu_id=-1, importance_type='gain', interaction_constraints='',\n               learning_rate=0.15, max_delta_step=0, max_depth=35,\n               min_child_weight=2, missing=nan, monotone_constraints='()',\n               n_estimators=300, n_jobs=4, num_class=4, num_parallel_tree=1,\n               objective='multi:softprob', random_state=222, reg_alpha=0,\n               reg_lambda=0.35, scale_pos_weight=None, silent=1, subsample=0.95,\n               tree_method='exact', validate_parameters=1, verbosity=None),\n XGBClassifier(base_score=0.5, booster='gbtree', colsample_bylevel=1,\n               colsample_bynode=1, colsample_bytree=0.85, eta=0.15, gamma=2.5,\n               gpu_id=-1, importance_type='gain', interaction_constraints='',\n               learning_rate=0.15, max_delta_step=0, max_depth=35,\n               min_child_weight=2, missing=nan, monotone_constraints='()',\n               n_estimators=300, n_jobs=4, num_class=4, num_parallel_tree=1,\n               objective='multi:softprob', random_state=223, reg_alpha=0,\n               reg_lambda=0.35, scale_pos_weight=None, silent=1, subsample=0.95,\n               tree_method='exact', validate_parameters=1, verbosity=None),\n XGBClassifier(base_score=0.5, booster='gbtree', colsample_bylevel=1,\n               colsample_bynode=1, colsample_bytree=0.85, eta=0.15, gamma=2.5,\n               gpu_id=-1, importance_type='gain', interaction_constraints='',\n               learning_rate=0.15, max_delta_step=0, max_depth=35,\n               min_child_weight=2, missing=nan, monotone_constraints='()',\n               n_estimators=300, n_jobs=4, num_class=4, num_parallel_tree=1,\n               objective='multi:softprob', random_state=224, reg_alpha=0,\n               reg_lambda=0.35, scale_pos_weight=None, silent=1, subsample=0.95,\n               tree_method='exact', validate_parameters=1, verbosity=None),\n XGBClassifier(base_score=0.5, booster='gbtree', colsample_bylevel=1,\n               colsample_bynode=1, colsample_bytree=0.85, eta=0.15, gamma=2.5,\n               gpu_id=-1, importance_type='gain', interaction_constraints='',\n               learning_rate=0.15, max_delta_step=0, max_depth=35,\n               min_child_weight=2, missing=nan, monotone_constraints='()',\n               n_estimators=300, n_jobs=4, num_class=4, num_parallel_tree=1,\n               objective='multi:softprob', random_state=225, reg_alpha=0,\n               reg_lambda=0.35, scale_pos_weight=None, silent=1, subsample=0.95,\n               tree_method='exact', validate_parameters=1, verbosity=None),\n XGBClassifier(base_score=0.5, booster='gbtree', colsample_bylevel=1,\n               colsample_bynode=1, colsample_bytree=0.85, eta=0.15, gamma=2.5,\n               gpu_id=-1, importance_type='gain', interaction_constraints='',\n               learning_rate=0.15, max_delta_step=0, max_depth=35,\n               min_child_weight=2, missing=nan, monotone_constraints='()',\n               n_estimators=300, n_jobs=4, num_class=4, num_parallel_tree=1,\n               objective='multi:softprob', random_state=226, reg_alpha=0,\n               reg_lambda=0.35, scale_pos_weight=None, silent=1, subsample=0.95,\n               tree_method='exact', validate_parameters=1, verbosity=None),\n XGBClassifier(base_score=0.5, booster='gbtree', colsample_bylevel=1,\n               colsample_bynode=1, colsample_bytree=0.85, eta=0.15, gamma=2.5,\n               gpu_id=-1, importance_type='gain', interaction_constraints='',\n               learning_rate=0.15, max_delta_step=0, max_depth=35,\n               min_child_weight=2, missing=nan, monotone_constraints='()',\n               n_estimators=300, n_jobs=4, num_class=4, num_parallel_tree=1,\n               objective='multi:softprob', random_state=227, reg_alpha=0,\n               reg_lambda=0.35, scale_pos_weight=None, silent=1, subsample=0.95,\n               tree_method='exact', validate_parameters=1, verbosity=None),\n XGBClassifier(base_score=0.5, booster='gbtree', colsample_bylevel=1,\n               colsample_bynode=1, colsample_bytree=0.85, eta=0.15, gamma=2.5,\n               gpu_id=-1, importance_type='gain', interaction_constraints='',\n               learning_rate=0.15, max_delta_step=0, max_depth=35,\n               min_child_weight=2, missing=nan, monotone_constraints='()',\n               n_estimators=300, n_jobs=4, num_class=4, num_parallel_tree=1,\n               objective='multi:softprob', random_state=228, reg_alpha=0,\n               reg_lambda=0.35, scale_pos_weight=None, silent=1, subsample=0.95,\n               tree_method='exact', validate_parameters=1, verbosity=None),\n XGBClassifier(base_score=0.5, booster='gbtree', colsample_bylevel=1,\n               colsample_bynode=1, colsample_bytree=0.85, eta=0.15, gamma=2.5,\n               gpu_id=-1, importance_type='gain', interaction_constraints='',\n               learning_rate=0.15, max_delta_step=0, max_depth=35,\n               min_child_weight=2, missing=nan, monotone_constraints='()',\n               n_estimators=300, n_jobs=4, num_class=4, num_parallel_tree=1,\n               objective='multi:softprob', random_state=229, reg_alpha=0,\n               reg_lambda=0.35, scale_pos_weight=None, silent=1, subsample=0.95,\n               tree_method='exact', validate_parameters=1, verbosity=None),\n XGBClassifier(base_score=0.5, booster='gbtree', colsample_bylevel=1,\n               colsample_bynode=1, colsample_bytree=0.85, eta=0.15, gamma=2.5,\n               gpu_id=-1, importance_type='gain', interaction_constraints='',\n               learning_rate=0.15, max_delta_step=0, max_depth=35,\n               min_child_weight=2, missing=nan, monotone_constraints='()',\n               n_estimators=300, n_jobs=4, num_class=4, num_parallel_tree=1,\n               objective='multi:softprob', random_state=230, reg_alpha=0,\n               reg_lambda=0.35, scale_pos_weight=None, silent=1, subsample=0.95,\n               tree_method='exact', validate_parameters=1, verbosity=None),\n XGBClassifier(base_score=0.5, booster='gbtree', colsample_bylevel=1,\n               colsample_bynode=1, colsample_bytree=0.85, eta=0.15, gamma=2.5,\n               gpu_id=-1, importance_type='gain', interaction_constraints='',\n               learning_rate=0.15, max_delta_step=0, max_depth=35,\n               min_child_weight=2, missing=nan, monotone_constraints='()',\n               n_estimators=300, n_jobs=4, num_class=4, num_parallel_tree=1,\n               objective='multi:softprob', random_state=231, reg_alpha=0,\n               reg_lambda=0.35, scale_pos_weight=None, silent=1, subsample=0.95,\n               tree_method='exact', validate_parameters=1, verbosity=None)]"
     },
     "execution_count": 77,
     "metadata": {},
     "output_type": "execute_result"
    }
   ],
   "source": [
    "_.estimators_"
   ],
   "metadata": {
    "collapsed": false,
    "pycharm": {
     "name": "#%%\n"
    }
   }
  },
  {
   "cell_type": "code",
   "execution_count": 78,
   "outputs": [],
   "source": [
    "clf_final = vc.estimators_[0]"
   ],
   "metadata": {
    "collapsed": false,
    "pycharm": {
     "name": "#%%\n"
    }
   }
  },
  {
   "cell_type": "code",
   "execution_count": 79,
   "outputs": [],
   "source": [
    "# para 4 - 400 early stop - 15 estimators - l1 used features - weighted"
   ],
   "metadata": {
    "collapsed": false,
    "pycharm": {
     "name": "#%%\n"
    }
   }
  },
  {
   "cell_type": "code",
   "execution_count": 80,
   "outputs": [],
   "source": [
    "#f1_score(test, pred)\n",
    "global_score = f1_score(y_test, clf_final.predict(X_test.drop(xgb_drop_cols, axis=1)) , average='macro')"
   ],
   "metadata": {
    "collapsed": false,
    "pycharm": {
     "name": "#%%\n"
    }
   }
  },
  {
   "cell_type": "code",
   "execution_count": 81,
   "outputs": [],
   "source": [
    "vc.voting = 'soft'\n",
    "global_score_soft = f1_score(y_test, vc.predict(X_test.drop(xgb_drop_cols, axis=1)), average='macro')"
   ],
   "metadata": {
    "collapsed": false,
    "pycharm": {
     "name": "#%%\n"
    }
   }
  },
  {
   "cell_type": "code",
   "execution_count": 82,
   "outputs": [],
   "source": [
    "vc.voting = 'hard'\n",
    "global_score_hard = f1_score(y_test, vc.predict(X_test.drop(xgb_drop_cols, axis=1)), average='macro')"
   ],
   "metadata": {
    "collapsed": false,
    "pycharm": {
     "name": "#%%\n"
    }
   }
  },
  {
   "cell_type": "code",
   "execution_count": 83,
   "outputs": [
    {
     "name": "stdout",
     "output_type": "stream",
     "text": [
      "Validation score of a single LGBM Classifier: 0.7804\n",
      "Validation score of a VotingClassifier on 3 LGBMs with soft voting strategy: 0.8821\n",
      "Validation score of a VotingClassifier on 3 LGBMs with hard voting strategy 0.8850\n"
     ]
    }
   ],
   "source": [
    "# 치환 {:~}.format : 자체가 format string .은 소수점을 뜻한다\n",
    "#  print('%s ~ , % ())\n",
    "print('Validation score of a single LGBM Classifier: {:.4f}'.format(global_score))\n",
    "print('Validation score of a VotingClassifier on 3 LGBMs with soft voting strategy: {:.4f}'.format(global_score_soft ))\n",
    "print('Validation score of a VotingClassifier on 3 LGBMs with hard voting strategy {:.4f}'.format(global_score_hard))"
   ],
   "metadata": {
    "collapsed": false,
    "pycharm": {
     "name": "#%%\n"
    }
   }
  },
  {
   "cell_type": "code",
   "execution_count": 220,
   "outputs": [],
   "source": [],
   "metadata": {
    "collapsed": false,
    "pycharm": {
     "name": "#%%\n"
    }
   }
  },
  {
   "cell_type": "code",
   "execution_count": 84,
   "outputs": [
    {
     "data": {
      "text/plain": "{'agg18_estadocivil4_COUNT', 'agg18_estadocivil5_COUNT', 'geo_epared_LE_2'}"
     },
     "execution_count": 84,
     "metadata": {},
     "output_type": "execute_result"
    }
   ],
   "source": [
    "# see which features are not used by ANY models\n",
    "useless_features =[]\n",
    "drop_features = set()\n",
    "counter =0\n",
    "for est in vc.estimators_:\n",
    "    # feauture_importance return feature importance rank, useless feature and if display_result true ,show feature name(column)\n",
    "    ranked_features, unused_features = feature_importance(est, X_train.drop(xgb_drop_cols, axis=1), display_results=False)\n",
    "    useless_features.append(unused_features)\n",
    "    if counter == 0:\n",
    "        drop_features = set(unused_features)\n",
    "    else:\n",
    "        drop_features = drop_features.intersection(set(unused_features))\n",
    "    counter += 1\n",
    "\n",
    "\n",
    "drop_features"
   ],
   "metadata": {
    "collapsed": false,
    "pycharm": {
     "name": "#%%\n"
    }
   }
  },
  {
   "cell_type": "code",
   "execution_count": 236,
   "outputs": [
    {
     "data": {
      "text/plain": "['agg18_parentesco2_MEAN',\n 'agg18_escolari_MAX',\n 'fe_children_fraction',\n 'SQBdependency',\n 'agg18_escolari_MEAN',\n 'dependency',\n 'geo_energcocinar_LE_3',\n 'geo_elimbasu_LE_1',\n 'estadocivil_LE',\n 'r4t2',\n 'male',\n 'cielorazo',\n 'SQBhogar_total',\n 'geo_sanitario_LE_0',\n 'piso_LE',\n 'SQBescolari',\n 'geo_bedrooms',\n 'geo_dependency',\n 'geo_elimbasu_LE_5',\n 'agg18_estadocivil2_MEAN',\n 'eviv_LE',\n 'geo_hogar_adul',\n 'geo_sanitario_LE_3',\n 'epared_LE',\n 'geo_etecho_LE_1',\n 'geo_sanitario_LE_2',\n 'etecho_LE',\n 'agg18_estadocivil3_MEAN',\n 'geo_elimbasu_LE_0',\n 'agg18_age_MIN',\n 'dis',\n 'SQBhogar_nin',\n 'fe_mobile_density',\n 'geo_eviv_LE_1',\n 'hogar_total',\n 'agg18_escolari_MIN',\n 'television',\n 'tipovivi_LE',\n 'SQBage',\n 'fe_mobile_adult_density',\n 'meaneduc',\n 'lugar_LE',\n 'r4h1',\n 'geo_sanitario_LE_4',\n 'fe_working_man_fraction',\n 'geo_manual_elec_LE_1',\n 'bedrooms',\n 'elimbasu_LE',\n 'rent_to_rooms',\n 'r4m1',\n 'r4m3',\n 'escolari',\n 'geo_hogar_total',\n 'fe_tablet_adult_density',\n 'fe_human_density',\n 'pared_LE',\n 'SQBovercrowding',\n 'hogar_nin',\n 'age',\n 'fe_rent_per_person',\n 'overcrowding',\n 'agg18_estadocivil2_COUNT',\n 'bedrooms_to_rooms',\n 'v2a1',\n 'agg18_estadocivil5_MEAN',\n 'hacapo',\n 'SQBmeaned',\n 'agg18_estadocivil7_MEAN',\n 'r4m2',\n 'geo_pared_LE_1',\n 'r4t1',\n 'geo_sanitario_LE_1',\n 'sanitario_LE',\n 'r4h3',\n 'geo_manual_elec_LE_0',\n 'geo_age',\n 'manual_elec_LE',\n 'energcocinar_LE',\n 'SQBedjefe',\n 'r4t3_to_rooms',\n 'area1',\n 'fe_all_man_fraction',\n 'tamhog_to_rooms',\n 'fe_rent_per_room',\n 'edjefa',\n 'qmobilephone',\n 'geo_etecho_LE_0',\n 'r4h2',\n 'techo_LE',\n 'geo_meaneduc',\n 'edjefe',\n 'agg18_estadocivil6_MEAN',\n 'agg18_dis_MEAN',\n 'agg18_parentesco3_MEAN',\n 'agg18_age_MEAN',\n 'fe_people_not_living',\n 'geo_overcrowding',\n 'area2',\n 'agg18_estadocivil1_COUNT',\n 'geo_elimbasu_LE_3',\n 'rooms',\n 'rent_to_over_18',\n 'agg18_age_MAX',\n 'v18q1',\n 'agg18_parentesco6_MEAN',\n 'agg18_estadocivil4_MEAN',\n 'refrig',\n 'edjef',\n 'agg18_parentesco1_MEAN',\n 'hogar_adul',\n 'rent_to_hhsize',\n 'geo_etecho_LE_2',\n 'hogar_mayor',\n 'computer',\n 'abastagua_LE',\n 'geo_manual_elec_LE_4',\n 'v2a1_to_r4t3',\n 'hacdor',\n 'hhsize_to_rooms',\n 'agg18_parentesco5_MEAN',\n 'geo_epared_LE_1',\n 'agg18_parentesco12_MEAN',\n 'agg18_parentesco9_MEAN',\n 'geo_eviv_LE_2',\n 'agg18_parentesco4_MEAN',\n 'agg18_parentesco11_MEAN',\n 'agg18_parentesco7_MEAN',\n 'fe_people_weird_stat',\n 'r4t3_to_tamhog',\n 'geo_pared_LE_2',\n 'agg18_estadocivil3_COUNT',\n 'agg18_estadocivil4_COUNT',\n 'geo_pared_LE_7',\n 'agg18_parentesco8_MEAN',\n 'geo_pared_LE_0',\n 'geo_manual_elec_LE_3',\n 'geo_energcocinar_LE_0',\n 'geo_elimbasu_LE_2',\n 'agg18_estadocivil5_COUNT',\n 'geo_eviv_LE_0',\n 'geo_hogar_nin',\n 'agg18_parentesco10_MEAN',\n 'geo_epared_LE_2']"
     },
     "execution_count": 236,
     "metadata": {},
     "output_type": "execute_result"
    }
   ],
   "source": [],
   "metadata": {
    "collapsed": false,
    "pycharm": {
     "name": "#%%\n"
    }
   }
  },
  {
   "cell_type": "code",
   "execution_count": 85,
   "outputs": [
    {
     "name": "stdout",
     "output_type": "stream",
     "text": [
      "Feature ranking:\n",
      "1. feature 1 (0.034583) - hacdor\n",
      "2. feature 59 (0.024409) - agg18_escolari_MAX\n",
      "3. feature 46 (0.016498) - fe_human_bed_density\n",
      "4. feature 42 (0.015583) - fe_children_fraction\n",
      "5. feature 17 (0.013782) - male\n",
      "6. feature 96 (0.012987) - estadocivil_LE\n",
      "7. feature 49 (0.010715) - fe_mobile_density\n",
      "8. feature 135 (0.010699) - geo_pared_LE_7\n",
      "9. feature 101 (0.010291) - geo_meaneduc\n",
      "10. feature 117 (0.010105) - geo_elimbasu_LE_1\n",
      "11. feature 60 (0.010103) - agg18_escolari_MEAN\n",
      "12. feature 112 (0.010030) - geo_etecho_LE_1\n",
      "13. feature 74 (0.009959) - agg18_parentesco2_MEAN\n",
      "14. feature 95 (0.009932) - eviv_LE\n",
      "15. feature 6 (0.009820) - r4h1\n",
      "16. feature 23 (0.009432) - edjefe\n",
      "17. feature 125 (0.009208) - geo_sanitario_LE_2\n",
      "18. feature 128 (0.009130) - geo_manual_elec_LE_0\n",
      "19. feature 114 (0.009115) - geo_epared_LE_1\n",
      "20. feature 124 (0.009108) - geo_sanitario_LE_1\n",
      "21. feature 100 (0.009073) - geo_age\n",
      "22. feature 77 (0.009033) - agg18_parentesco5_MEAN\n",
      "23. feature 93 (0.009031) - epared_LE\n",
      "24. feature 69 (0.008952) - agg18_estadocivil5_MEAN\n",
      "25. feature 35 (0.008919) - SQBage\n",
      "26. feature 65 (0.008904) - agg18_estadocivil3_MEAN\n",
      "27. feature 137 (0.008868) - rent_to_rooms\n",
      "28. feature 51 (0.008765) - fe_mobile_adult_density\n",
      "29. feature 40 (0.008694) - SQBdependency\n",
      "30. feature 22 (0.008683) - dependency\n",
      "31. feature 113 (0.008673) - geo_etecho_LE_2\n",
      "32. feature 21 (0.008613) - hogar_total\n",
      "33. feature 25 (0.008332) - meaneduc\n",
      "34. feature 116 (0.008328) - geo_elimbasu_LE_0\n",
      "35. feature 10 (0.008307) - r4m2\n",
      "36. feature 12 (0.008194) - r4t1\n",
      "37. feature 102 (0.008150) - geo_dependency\n",
      "38. feature 14 (0.008138) - escolari\n",
      "39. feature 29 (0.008102) - television\n",
      "40. feature 132 (0.008088) - geo_pared_LE_0\n",
      "41. feature 8 (0.008040) - r4h3\n",
      "42. feature 119 (0.008036) - geo_elimbasu_LE_3\n",
      "43. feature 106 (0.007991) - geo_bedrooms\n",
      "44. feature 30 (0.007977) - qmobilephone\n",
      "45. feature 15 (0.007942) - cielorazo\n",
      "46. feature 13 (0.007937) - r4t2\n",
      "47. feature 107 (0.007918) - geo_overcrowding\n",
      "48. feature 104 (0.007892) - geo_hogar_adul\n",
      "49. feature 26 (0.007877) - bedrooms\n",
      "50. feature 19 (0.007849) - hogar_adul\n",
      "51. feature 87 (0.007849) - piso_LE\n",
      "52. feature 33 (0.007774) - age\n",
      "53. feature 43 (0.007751) - fe_working_man_fraction\n",
      "54. feature 41 (0.007741) - SQBmeaned\n",
      "55. feature 122 (0.007726) - geo_energcocinar_LE_3\n",
      "56. feature 138 (0.007668) - tamhog_to_rooms\n",
      "57. feature 27 (0.007649) - overcrowding\n",
      "58. feature 20 (0.007635) - hogar_mayor\n",
      "59. feature 37 (0.007556) - SQBedjefe\n",
      "60. feature 44 (0.007512) - fe_all_man_fraction\n",
      "61. feature 98 (0.007501) - tipovivi_LE\n",
      "62. feature 45 (0.007467) - fe_human_density\n",
      "63. feature 92 (0.007292) - elimbasu_LE\n",
      "64. feature 5 (0.007288) - v18q1\n",
      "65. feature 0 (0.007284) - v2a1\n",
      "66. feature 97 (0.007272) - lugar_LE\n",
      "67. feature 120 (0.007200) - geo_elimbasu_LE_5\n",
      "68. feature 126 (0.007186) - geo_sanitario_LE_3\n",
      "69. feature 55 (0.007183) - agg18_age_MIN\n",
      "70. feature 91 (0.007182) - energcocinar_LE\n",
      "71. feature 129 (0.007178) - geo_manual_elec_LE_1\n",
      "72. feature 85 (0.007130) - edjef\n",
      "73. feature 7 (0.007102) - r4h2\n",
      "74. feature 57 (0.007091) - agg18_age_MEAN\n",
      "75. feature 18 (0.007089) - hogar_nin\n",
      "76. feature 9 (0.007041) - r4m1\n",
      "77. feature 109 (0.006971) - geo_eviv_LE_1\n",
      "78. feature 11 (0.006899) - r4m3\n",
      "79. feature 72 (0.006881) - agg18_estadocivil7_MEAN\n",
      "80. feature 58 (0.006787) - agg18_escolari_MIN\n",
      "81. feature 144 (0.006786) - rent_to_over_18\n",
      "82. feature 105 (0.006727) - geo_hogar_total\n",
      "83. feature 48 (0.006717) - fe_rent_per_room\n",
      "84. feature 94 (0.006609) - etecho_LE\n",
      "85. feature 108 (0.006553) - geo_eviv_LE_0\n",
      "86. feature 24 (0.006537) - edjefa\n",
      "87. feature 56 (0.006502) - agg18_age_MAX\n",
      "88. feature 110 (0.006500) - geo_eviv_LE_2\n",
      "89. feature 75 (0.006473) - agg18_parentesco3_MEAN\n",
      "90. feature 16 (0.006464) - dis\n",
      "91. feature 136 (0.006413) - bedrooms_to_rooms\n",
      "92. feature 71 (0.006246) - agg18_estadocivil6_MEAN\n",
      "93. feature 86 (0.006237) - pared_LE\n",
      "94. feature 39 (0.006214) - SQBovercrowding\n",
      "95. feature 134 (0.006212) - geo_pared_LE_2\n",
      "96. feature 63 (0.006212) - agg18_estadocivil2_MEAN\n",
      "97. feature 4 (0.006207) - refrig\n",
      "98. feature 143 (0.006195) - rent_to_hhsize\n",
      "99. feature 131 (0.006190) - geo_manual_elec_LE_4\n",
      "100. feature 28 (0.006111) - computer\n",
      "101. feature 62 (0.006066) - agg18_estadocivil1_COUNT\n",
      "102. feature 31 (0.005989) - area1\n",
      "103. feature 34 (0.005873) - SQBescolari\n",
      "104. feature 52 (0.005835) - fe_tablet_adult_density\n",
      "105. feature 99 (0.005699) - manual_elec_LE\n",
      "106. feature 90 (0.005624) - sanitario_LE\n",
      "107. feature 2 (0.005601) - rooms\n",
      "108. feature 61 (0.005547) - agg18_dis_MEAN\n",
      "109. feature 53 (0.005538) - fe_people_not_living\n",
      "110. feature 47 (0.005442) - fe_rent_per_person\n",
      "111. feature 89 (0.005335) - abastagua_LE\n",
      "112. feature 140 (0.005323) - r4t3_to_rooms\n",
      "113. feature 50 (0.005264) - fe_tablet_density\n",
      "114. feature 67 (0.005229) - agg18_estadocivil4_MEAN\n",
      "115. feature 127 (0.005165) - geo_sanitario_LE_4\n",
      "116. feature 32 (0.005153) - area2\n",
      "117. feature 38 (0.005020) - SQBhogar_nin\n",
      "118. feature 88 (0.004832) - techo_LE\n",
      "119. feature 36 (0.004694) - SQBhogar_total\n",
      "120. feature 111 (0.004501) - geo_etecho_LE_0\n",
      "121. feature 142 (0.004296) - hhsize_to_rooms\n",
      "122. feature 83 (0.004213) - agg18_parentesco11_MEAN\n",
      "123. feature 76 (0.003853) - agg18_parentesco4_MEAN\n",
      "124. feature 141 (0.003690) - v2a1_to_r4t3\n",
      "125. feature 81 (0.003091) - agg18_parentesco9_MEAN\n",
      "126. feature 73 (0.002934) - agg18_parentesco1_MEAN\n",
      "127. feature 64 (0.002655) - agg18_estadocivil2_COUNT\n",
      "128. feature 84 (0.002453) - agg18_parentesco12_MEAN\n",
      "129. feature 79 (0.002286) - agg18_parentesco7_MEAN\n",
      "130. feature 78 (0.002208) - agg18_parentesco6_MEAN\n",
      "131. feature 139 (0.002170) - r4t3_to_tamhog\n",
      "132. feature 80 (0.002041) - agg18_parentesco8_MEAN\n",
      "133. feature 82 (0.001600) - agg18_parentesco10_MEAN\n",
      "134. feature 3 (0.000000) - hacapo\n",
      "135. feature 70 (0.000000) - agg18_estadocivil5_COUNT\n",
      "136. feature 54 (0.000000) - fe_people_weird_stat\n",
      "137. feature 68 (0.000000) - agg18_estadocivil4_COUNT\n",
      "138. feature 123 (0.000000) - geo_sanitario_LE_0\n",
      "139. feature 133 (0.000000) - geo_pared_LE_1\n",
      "140. feature 130 (0.000000) - geo_manual_elec_LE_3\n",
      "141. feature 121 (0.000000) - geo_energcocinar_LE_0\n",
      "142. feature 118 (0.000000) - geo_elimbasu_LE_2\n",
      "143. feature 115 (0.000000) - geo_epared_LE_2\n",
      "144. feature 103 (0.000000) - geo_hogar_nin\n",
      "145. feature 66 (0.000000) - agg18_estadocivil3_COUNT\n"
     ]
    }
   ],
   "source": [
    "ranked_features = feature_importance(clf_final, X_train.drop(xgb_drop_cols,axis=1))"
   ],
   "metadata": {
    "collapsed": false,
    "pycharm": {
     "name": "#%%\n"
    }
   }
  },
  {
   "cell_type": "code",
   "execution_count": 86,
   "outputs": [],
   "source": [
    "et_drop_cols = ['agg18_age_MAX', 'agg18_age_MEAN', 'agg18_age_MIN', 'agg18_dis_MEAN',\n",
    "       'agg18_escolari_MAX', 'agg18_escolari_MEAN', 'agg18_escolari_MIN',\n",
    "       'agg18_estadocivil1_COUNT', 'agg18_estadocivil1_MEAN',\n",
    "       'agg18_estadocivil2_COUNT', 'agg18_estadocivil2_MEAN',\n",
    "       'agg18_estadocivil3_COUNT', 'agg18_estadocivil3_MEAN',\n",
    "       'agg18_estadocivil4_COUNT', 'agg18_estadocivil4_MEAN',\n",
    "       'agg18_estadocivil5_COUNT', 'agg18_estadocivil5_MEAN',\n",
    "       'agg18_estadocivil6_COUNT', 'agg18_estadocivil6_MEAN',\n",
    "       'agg18_estadocivil7_COUNT', 'agg18_estadocivil7_MEAN',\n",
    "       'agg18_parentesco10_COUNT', 'agg18_parentesco10_MEAN',\n",
    "       'agg18_parentesco11_COUNT', 'agg18_parentesco11_MEAN',\n",
    "       'agg18_parentesco12_COUNT', 'agg18_parentesco12_MEAN',\n",
    "       'agg18_parentesco1_COUNT', 'agg18_parentesco1_MEAN',\n",
    "       'agg18_parentesco2_COUNT', 'agg18_parentesco2_MEAN',\n",
    "       'agg18_parentesco3_COUNT', 'agg18_parentesco3_MEAN',\n",
    "       'agg18_parentesco4_COUNT', 'agg18_parentesco4_MEAN',\n",
    "       'agg18_parentesco5_COUNT', 'agg18_parentesco5_MEAN',\n",
    "       'agg18_parentesco6_COUNT', 'agg18_parentesco6_MEAN',\n",
    "       'agg18_parentesco7_COUNT', 'agg18_parentesco7_MEAN',\n",
    "       'agg18_parentesco8_COUNT', 'agg18_parentesco8_MEAN',\n",
    "       'agg18_parentesco9_COUNT', 'agg18_parentesco9_MEAN'] #+ ['parentesco_LE', 'rez_esc']"
   ],
   "metadata": {
    "collapsed": false,
    "pycharm": {
     "name": "#%%\n"
    }
   }
  },
  {
   "cell_type": "code",
   "execution_count": 87,
   "outputs": [],
   "source": [
    "et_drop_cols.extend([\"idhogar\", \"parentesco1\",\"fe_rent_per_person\" , \"fe_rent_per_room\",\n",
    "                     \"fe_tablet_adult_density\",\"fe_tablet_density\"])"
   ],
   "metadata": {
    "collapsed": false,
    "pycharm": {
     "name": "#%%\n"
    }
   }
  },
  {
   "cell_type": "code",
   "execution_count": 416,
   "outputs": [
    {
     "ename": "ValueError",
     "evalue": "Input contains NaN, infinity or a value too large for dtype('float32').",
     "output_type": "error",
     "traceback": [
      "\u001B[0;31m---------------------------------------------------------------------------\u001B[0m",
      "\u001B[0;31mValueError\u001B[0m                                Traceback (most recent call last)",
      "\u001B[0;32m/var/folders/c6/2j22b1rd02778st12c0mcr3w0000gn/T/ipykernel_83198/2168063414.py\u001B[0m in \u001B[0;36m<module>\u001B[0;34m\u001B[0m\n\u001B[1;32m     14\u001B[0m \u001B[0;34m\u001B[0m\u001B[0m\n\u001B[1;32m     15\u001B[0m \u001B[0mvc2\u001B[0m \u001B[0;34m=\u001B[0m \u001B[0mVotingClassifierLGBM\u001B[0m\u001B[0;34m(\u001B[0m\u001B[0mets\u001B[0m\u001B[0;34m,\u001B[0m \u001B[0mvoting\u001B[0m\u001B[0;34m=\u001B[0m\u001B[0;34m'soft'\u001B[0m\u001B[0;34m)\u001B[0m\u001B[0;34m\u001B[0m\u001B[0;34m\u001B[0m\u001B[0m\n\u001B[0;32m---> 16\u001B[0;31m \u001B[0m_\u001B[0m \u001B[0;34m=\u001B[0m \u001B[0mvc2\u001B[0m\u001B[0;34m.\u001B[0m\u001B[0mfit\u001B[0m\u001B[0;34m(\u001B[0m\u001B[0mX_train\u001B[0m\u001B[0;34m.\u001B[0m\u001B[0mdrop\u001B[0m\u001B[0;34m(\u001B[0m\u001B[0met_drop_cols\u001B[0m\u001B[0;34m,\u001B[0m \u001B[0maxis\u001B[0m\u001B[0;34m=\u001B[0m\u001B[0;36m1\u001B[0m\u001B[0;34m)\u001B[0m\u001B[0;34m,\u001B[0m \u001B[0my_train\u001B[0m\u001B[0;34m,\u001B[0m \u001B[0mthreshold\u001B[0m\u001B[0;34m=\u001B[0m\u001B[0;32mFalse\u001B[0m\u001B[0;34m)\u001B[0m\u001B[0;34m\u001B[0m\u001B[0;34m\u001B[0m\u001B[0m\n\u001B[0m",
      "\u001B[0;32m/var/folders/c6/2j22b1rd02778st12c0mcr3w0000gn/T/ipykernel_83198/1426744937.py\u001B[0m in \u001B[0;36mfit\u001B[0;34m(self, X, y, sample_weight, threshold, **fit_params)\u001B[0m\n\u001B[1;32m     43\u001B[0m         \u001B[0;31m# delayed(func) 의 func를 병렬 처리 한다\u001B[0m\u001B[0;34m\u001B[0m\u001B[0;34m\u001B[0m\u001B[0;34m\u001B[0m\u001B[0m\n\u001B[1;32m     44\u001B[0m \u001B[0;34m\u001B[0m\u001B[0m\n\u001B[0;32m---> 45\u001B[0;31m         \u001B[0mself\u001B[0m\u001B[0;34m.\u001B[0m\u001B[0mestimators_\u001B[0m \u001B[0;34m=\u001B[0m \u001B[0mParallel\u001B[0m\u001B[0;34m(\u001B[0m\u001B[0mn_jobs\u001B[0m\u001B[0;34m=\u001B[0m\u001B[0mself\u001B[0m\u001B[0;34m.\u001B[0m\u001B[0mn_jobs\u001B[0m\u001B[0;34m)\u001B[0m\u001B[0;34m(\u001B[0m\u001B[0mdelayed\u001B[0m\u001B[0;34m(\u001B[0m\u001B[0m_parallel_fit_estimator\u001B[0m\u001B[0;34m)\u001B[0m\u001B[0;34m(\u001B[0m\u001B[0mclone\u001B[0m\u001B[0;34m(\u001B[0m\u001B[0mclf\u001B[0m\u001B[0;34m)\u001B[0m\u001B[0;34m,\u001B[0m \u001B[0mX\u001B[0m\u001B[0;34m,\u001B[0m \u001B[0mtransformed_y\u001B[0m\u001B[0;34m,\u001B[0m\u001B[0msample_weight\u001B[0m\u001B[0;34m=\u001B[0m\u001B[0msample_weight\u001B[0m\u001B[0;34m,\u001B[0m \u001B[0mthreshold\u001B[0m\u001B[0;34m=\u001B[0m\u001B[0mthreshold\u001B[0m\u001B[0;34m,\u001B[0m \u001B[0;34m**\u001B[0m\u001B[0mfit_params\u001B[0m\u001B[0;34m)\u001B[0m \u001B[0;32mfor\u001B[0m \u001B[0mclf\u001B[0m \u001B[0;32min\u001B[0m \u001B[0mclfs\u001B[0m \u001B[0;32mif\u001B[0m \u001B[0mclf\u001B[0m \u001B[0;32mis\u001B[0m \u001B[0;32mnot\u001B[0m \u001B[0;32mNone\u001B[0m\u001B[0;34m)\u001B[0m\u001B[0;34m\u001B[0m\u001B[0;34m\u001B[0m\u001B[0m\n\u001B[0m\u001B[1;32m     46\u001B[0m \u001B[0;34m\u001B[0m\u001B[0m\n\u001B[1;32m     47\u001B[0m         \u001B[0;32mreturn\u001B[0m \u001B[0mself\u001B[0m\u001B[0;34m\u001B[0m\u001B[0;34m\u001B[0m\u001B[0m\n",
      "\u001B[0;32m~/PycharmProjects/pythonProject/venv/lib/python3.8/site-packages/joblib/parallel.py\u001B[0m in \u001B[0;36m__call__\u001B[0;34m(self, iterable)\u001B[0m\n\u001B[1;32m   1039\u001B[0m             \u001B[0;31m# remaining jobs.\u001B[0m\u001B[0;34m\u001B[0m\u001B[0;34m\u001B[0m\u001B[0;34m\u001B[0m\u001B[0m\n\u001B[1;32m   1040\u001B[0m             \u001B[0mself\u001B[0m\u001B[0;34m.\u001B[0m\u001B[0m_iterating\u001B[0m \u001B[0;34m=\u001B[0m \u001B[0;32mFalse\u001B[0m\u001B[0;34m\u001B[0m\u001B[0;34m\u001B[0m\u001B[0m\n\u001B[0;32m-> 1041\u001B[0;31m             \u001B[0;32mif\u001B[0m \u001B[0mself\u001B[0m\u001B[0;34m.\u001B[0m\u001B[0mdispatch_one_batch\u001B[0m\u001B[0;34m(\u001B[0m\u001B[0miterator\u001B[0m\u001B[0;34m)\u001B[0m\u001B[0;34m:\u001B[0m\u001B[0;34m\u001B[0m\u001B[0;34m\u001B[0m\u001B[0m\n\u001B[0m\u001B[1;32m   1042\u001B[0m                 \u001B[0mself\u001B[0m\u001B[0;34m.\u001B[0m\u001B[0m_iterating\u001B[0m \u001B[0;34m=\u001B[0m \u001B[0mself\u001B[0m\u001B[0;34m.\u001B[0m\u001B[0m_original_iterator\u001B[0m \u001B[0;32mis\u001B[0m \u001B[0;32mnot\u001B[0m \u001B[0;32mNone\u001B[0m\u001B[0;34m\u001B[0m\u001B[0;34m\u001B[0m\u001B[0m\n\u001B[1;32m   1043\u001B[0m \u001B[0;34m\u001B[0m\u001B[0m\n",
      "\u001B[0;32m~/PycharmProjects/pythonProject/venv/lib/python3.8/site-packages/joblib/parallel.py\u001B[0m in \u001B[0;36mdispatch_one_batch\u001B[0;34m(self, iterator)\u001B[0m\n\u001B[1;32m    857\u001B[0m                 \u001B[0;32mreturn\u001B[0m \u001B[0;32mFalse\u001B[0m\u001B[0;34m\u001B[0m\u001B[0;34m\u001B[0m\u001B[0m\n\u001B[1;32m    858\u001B[0m             \u001B[0;32melse\u001B[0m\u001B[0;34m:\u001B[0m\u001B[0;34m\u001B[0m\u001B[0;34m\u001B[0m\u001B[0m\n\u001B[0;32m--> 859\u001B[0;31m                 \u001B[0mself\u001B[0m\u001B[0;34m.\u001B[0m\u001B[0m_dispatch\u001B[0m\u001B[0;34m(\u001B[0m\u001B[0mtasks\u001B[0m\u001B[0;34m)\u001B[0m\u001B[0;34m\u001B[0m\u001B[0;34m\u001B[0m\u001B[0m\n\u001B[0m\u001B[1;32m    860\u001B[0m                 \u001B[0;32mreturn\u001B[0m \u001B[0;32mTrue\u001B[0m\u001B[0;34m\u001B[0m\u001B[0;34m\u001B[0m\u001B[0m\n\u001B[1;32m    861\u001B[0m \u001B[0;34m\u001B[0m\u001B[0m\n",
      "\u001B[0;32m~/PycharmProjects/pythonProject/venv/lib/python3.8/site-packages/joblib/parallel.py\u001B[0m in \u001B[0;36m_dispatch\u001B[0;34m(self, batch)\u001B[0m\n\u001B[1;32m    775\u001B[0m         \u001B[0;32mwith\u001B[0m \u001B[0mself\u001B[0m\u001B[0;34m.\u001B[0m\u001B[0m_lock\u001B[0m\u001B[0;34m:\u001B[0m\u001B[0;34m\u001B[0m\u001B[0;34m\u001B[0m\u001B[0m\n\u001B[1;32m    776\u001B[0m             \u001B[0mjob_idx\u001B[0m \u001B[0;34m=\u001B[0m \u001B[0mlen\u001B[0m\u001B[0;34m(\u001B[0m\u001B[0mself\u001B[0m\u001B[0;34m.\u001B[0m\u001B[0m_jobs\u001B[0m\u001B[0;34m)\u001B[0m\u001B[0;34m\u001B[0m\u001B[0;34m\u001B[0m\u001B[0m\n\u001B[0;32m--> 777\u001B[0;31m             \u001B[0mjob\u001B[0m \u001B[0;34m=\u001B[0m \u001B[0mself\u001B[0m\u001B[0;34m.\u001B[0m\u001B[0m_backend\u001B[0m\u001B[0;34m.\u001B[0m\u001B[0mapply_async\u001B[0m\u001B[0;34m(\u001B[0m\u001B[0mbatch\u001B[0m\u001B[0;34m,\u001B[0m \u001B[0mcallback\u001B[0m\u001B[0;34m=\u001B[0m\u001B[0mcb\u001B[0m\u001B[0;34m)\u001B[0m\u001B[0;34m\u001B[0m\u001B[0;34m\u001B[0m\u001B[0m\n\u001B[0m\u001B[1;32m    778\u001B[0m             \u001B[0;31m# A job can complete so quickly than its callback is\u001B[0m\u001B[0;34m\u001B[0m\u001B[0;34m\u001B[0m\u001B[0;34m\u001B[0m\u001B[0m\n\u001B[1;32m    779\u001B[0m             \u001B[0;31m# called before we get here, causing self._jobs to\u001B[0m\u001B[0;34m\u001B[0m\u001B[0;34m\u001B[0m\u001B[0;34m\u001B[0m\u001B[0m\n",
      "\u001B[0;32m~/PycharmProjects/pythonProject/venv/lib/python3.8/site-packages/joblib/_parallel_backends.py\u001B[0m in \u001B[0;36mapply_async\u001B[0;34m(self, func, callback)\u001B[0m\n\u001B[1;32m    206\u001B[0m     \u001B[0;32mdef\u001B[0m \u001B[0mapply_async\u001B[0m\u001B[0;34m(\u001B[0m\u001B[0mself\u001B[0m\u001B[0;34m,\u001B[0m \u001B[0mfunc\u001B[0m\u001B[0;34m,\u001B[0m \u001B[0mcallback\u001B[0m\u001B[0;34m=\u001B[0m\u001B[0;32mNone\u001B[0m\u001B[0;34m)\u001B[0m\u001B[0;34m:\u001B[0m\u001B[0;34m\u001B[0m\u001B[0;34m\u001B[0m\u001B[0m\n\u001B[1;32m    207\u001B[0m         \u001B[0;34m\"\"\"Schedule a func to be run\"\"\"\u001B[0m\u001B[0;34m\u001B[0m\u001B[0;34m\u001B[0m\u001B[0m\n\u001B[0;32m--> 208\u001B[0;31m         \u001B[0mresult\u001B[0m \u001B[0;34m=\u001B[0m \u001B[0mImmediateResult\u001B[0m\u001B[0;34m(\u001B[0m\u001B[0mfunc\u001B[0m\u001B[0;34m)\u001B[0m\u001B[0;34m\u001B[0m\u001B[0;34m\u001B[0m\u001B[0m\n\u001B[0m\u001B[1;32m    209\u001B[0m         \u001B[0;32mif\u001B[0m \u001B[0mcallback\u001B[0m\u001B[0;34m:\u001B[0m\u001B[0;34m\u001B[0m\u001B[0;34m\u001B[0m\u001B[0m\n\u001B[1;32m    210\u001B[0m             \u001B[0mcallback\u001B[0m\u001B[0;34m(\u001B[0m\u001B[0mresult\u001B[0m\u001B[0;34m)\u001B[0m\u001B[0;34m\u001B[0m\u001B[0;34m\u001B[0m\u001B[0m\n",
      "\u001B[0;32m~/PycharmProjects/pythonProject/venv/lib/python3.8/site-packages/joblib/_parallel_backends.py\u001B[0m in \u001B[0;36m__init__\u001B[0;34m(self, batch)\u001B[0m\n\u001B[1;32m    570\u001B[0m         \u001B[0;31m# Don't delay the application, to avoid keeping the input\u001B[0m\u001B[0;34m\u001B[0m\u001B[0;34m\u001B[0m\u001B[0;34m\u001B[0m\u001B[0m\n\u001B[1;32m    571\u001B[0m         \u001B[0;31m# arguments in memory\u001B[0m\u001B[0;34m\u001B[0m\u001B[0;34m\u001B[0m\u001B[0;34m\u001B[0m\u001B[0m\n\u001B[0;32m--> 572\u001B[0;31m         \u001B[0mself\u001B[0m\u001B[0;34m.\u001B[0m\u001B[0mresults\u001B[0m \u001B[0;34m=\u001B[0m \u001B[0mbatch\u001B[0m\u001B[0;34m(\u001B[0m\u001B[0;34m)\u001B[0m\u001B[0;34m\u001B[0m\u001B[0;34m\u001B[0m\u001B[0m\n\u001B[0m\u001B[1;32m    573\u001B[0m \u001B[0;34m\u001B[0m\u001B[0m\n\u001B[1;32m    574\u001B[0m     \u001B[0;32mdef\u001B[0m \u001B[0mget\u001B[0m\u001B[0;34m(\u001B[0m\u001B[0mself\u001B[0m\u001B[0;34m)\u001B[0m\u001B[0;34m:\u001B[0m\u001B[0;34m\u001B[0m\u001B[0;34m\u001B[0m\u001B[0m\n",
      "\u001B[0;32m~/PycharmProjects/pythonProject/venv/lib/python3.8/site-packages/joblib/parallel.py\u001B[0m in \u001B[0;36m__call__\u001B[0;34m(self)\u001B[0m\n\u001B[1;32m    260\u001B[0m         \u001B[0;31m# change the default number of processes to -1\u001B[0m\u001B[0;34m\u001B[0m\u001B[0;34m\u001B[0m\u001B[0;34m\u001B[0m\u001B[0m\n\u001B[1;32m    261\u001B[0m         \u001B[0;32mwith\u001B[0m \u001B[0mparallel_backend\u001B[0m\u001B[0;34m(\u001B[0m\u001B[0mself\u001B[0m\u001B[0;34m.\u001B[0m\u001B[0m_backend\u001B[0m\u001B[0;34m,\u001B[0m \u001B[0mn_jobs\u001B[0m\u001B[0;34m=\u001B[0m\u001B[0mself\u001B[0m\u001B[0;34m.\u001B[0m\u001B[0m_n_jobs\u001B[0m\u001B[0;34m)\u001B[0m\u001B[0;34m:\u001B[0m\u001B[0;34m\u001B[0m\u001B[0;34m\u001B[0m\u001B[0m\n\u001B[0;32m--> 262\u001B[0;31m             return [func(*args, **kwargs)\n\u001B[0m\u001B[1;32m    263\u001B[0m                     for func, args, kwargs in self.items]\n\u001B[1;32m    264\u001B[0m \u001B[0;34m\u001B[0m\u001B[0m\n",
      "\u001B[0;32m~/PycharmProjects/pythonProject/venv/lib/python3.8/site-packages/joblib/parallel.py\u001B[0m in \u001B[0;36m<listcomp>\u001B[0;34m(.0)\u001B[0m\n\u001B[1;32m    260\u001B[0m         \u001B[0;31m# change the default number of processes to -1\u001B[0m\u001B[0;34m\u001B[0m\u001B[0;34m\u001B[0m\u001B[0;34m\u001B[0m\u001B[0m\n\u001B[1;32m    261\u001B[0m         \u001B[0;32mwith\u001B[0m \u001B[0mparallel_backend\u001B[0m\u001B[0;34m(\u001B[0m\u001B[0mself\u001B[0m\u001B[0;34m.\u001B[0m\u001B[0m_backend\u001B[0m\u001B[0;34m,\u001B[0m \u001B[0mn_jobs\u001B[0m\u001B[0;34m=\u001B[0m\u001B[0mself\u001B[0m\u001B[0;34m.\u001B[0m\u001B[0m_n_jobs\u001B[0m\u001B[0;34m)\u001B[0m\u001B[0;34m:\u001B[0m\u001B[0;34m\u001B[0m\u001B[0;34m\u001B[0m\u001B[0m\n\u001B[0;32m--> 262\u001B[0;31m             return [func(*args, **kwargs)\n\u001B[0m\u001B[1;32m    263\u001B[0m                     for func, args, kwargs in self.items]\n\u001B[1;32m    264\u001B[0m \u001B[0;34m\u001B[0m\u001B[0m\n",
      "\u001B[0;32m/var/folders/c6/2j22b1rd02778st12c0mcr3w0000gn/T/ipykernel_83198/177790813.py\u001B[0m in \u001B[0;36m_parallel_fit_estimator\u001B[0;34m(estimator1, X, y, sample_weight, threshold, **fit_params)\u001B[0m\n\u001B[1;32m     16\u001B[0m \u001B[0;34m\u001B[0m\u001B[0m\n\u001B[1;32m     17\u001B[0m     \u001B[0;32mif\u001B[0m \u001B[0misinstance\u001B[0m\u001B[0;34m(\u001B[0m\u001B[0mestimator1\u001B[0m\u001B[0;34m,\u001B[0m \u001B[0mExtraTreesClassifier\u001B[0m\u001B[0;34m)\u001B[0m \u001B[0;32mor\u001B[0m \u001B[0misinstance\u001B[0m\u001B[0;34m(\u001B[0m\u001B[0mestimator1\u001B[0m\u001B[0;34m,\u001B[0m \u001B[0mRandomForestClassifier\u001B[0m\u001B[0;34m)\u001B[0m\u001B[0;34m:\u001B[0m\u001B[0;34m\u001B[0m\u001B[0;34m\u001B[0m\u001B[0m\n\u001B[0;32m---> 18\u001B[0;31m         \u001B[0mestimator\u001B[0m\u001B[0;34m.\u001B[0m\u001B[0mfit\u001B[0m\u001B[0;34m(\u001B[0m\u001B[0mX_train\u001B[0m\u001B[0;34m,\u001B[0m \u001B[0my_train\u001B[0m\u001B[0;34m)\u001B[0m\u001B[0;34m\u001B[0m\u001B[0;34m\u001B[0m\u001B[0m\n\u001B[0m\u001B[1;32m     19\u001B[0m     \u001B[0;32melse\u001B[0m\u001B[0;34m:\u001B[0m\u001B[0;34m\u001B[0m\u001B[0;34m\u001B[0m\u001B[0m\n\u001B[1;32m     20\u001B[0m         \u001B[0;31m#compute sample weight parameter\u001B[0m\u001B[0;34m\u001B[0m\u001B[0;34m\u001B[0m\u001B[0;34m\u001B[0m\u001B[0m\n",
      "\u001B[0;32m~/PycharmProjects/pythonProject/venv/lib/python3.8/site-packages/sklearn/ensemble/_forest.py\u001B[0m in \u001B[0;36mfit\u001B[0;34m(self, X, y, sample_weight)\u001B[0m\n\u001B[1;32m    302\u001B[0m                 \u001B[0;34m\"sparse multilabel-indicator for y is not supported.\"\u001B[0m\u001B[0;34m\u001B[0m\u001B[0;34m\u001B[0m\u001B[0m\n\u001B[1;32m    303\u001B[0m             )\n\u001B[0;32m--> 304\u001B[0;31m         X, y = self._validate_data(X, y, multi_output=True,\n\u001B[0m\u001B[1;32m    305\u001B[0m                                    accept_sparse=\"csc\", dtype=DTYPE)\n\u001B[1;32m    306\u001B[0m         \u001B[0;32mif\u001B[0m \u001B[0msample_weight\u001B[0m \u001B[0;32mis\u001B[0m \u001B[0;32mnot\u001B[0m \u001B[0;32mNone\u001B[0m\u001B[0;34m:\u001B[0m\u001B[0;34m\u001B[0m\u001B[0;34m\u001B[0m\u001B[0m\n",
      "\u001B[0;32m~/PycharmProjects/pythonProject/venv/lib/python3.8/site-packages/sklearn/base.py\u001B[0m in \u001B[0;36m_validate_data\u001B[0;34m(self, X, y, reset, validate_separately, **check_params)\u001B[0m\n\u001B[1;32m    431\u001B[0m                 \u001B[0my\u001B[0m \u001B[0;34m=\u001B[0m \u001B[0mcheck_array\u001B[0m\u001B[0;34m(\u001B[0m\u001B[0my\u001B[0m\u001B[0;34m,\u001B[0m \u001B[0;34m**\u001B[0m\u001B[0mcheck_y_params\u001B[0m\u001B[0;34m)\u001B[0m\u001B[0;34m\u001B[0m\u001B[0;34m\u001B[0m\u001B[0m\n\u001B[1;32m    432\u001B[0m             \u001B[0;32melse\u001B[0m\u001B[0;34m:\u001B[0m\u001B[0;34m\u001B[0m\u001B[0;34m\u001B[0m\u001B[0m\n\u001B[0;32m--> 433\u001B[0;31m                 \u001B[0mX\u001B[0m\u001B[0;34m,\u001B[0m \u001B[0my\u001B[0m \u001B[0;34m=\u001B[0m \u001B[0mcheck_X_y\u001B[0m\u001B[0;34m(\u001B[0m\u001B[0mX\u001B[0m\u001B[0;34m,\u001B[0m \u001B[0my\u001B[0m\u001B[0;34m,\u001B[0m \u001B[0;34m**\u001B[0m\u001B[0mcheck_params\u001B[0m\u001B[0;34m)\u001B[0m\u001B[0;34m\u001B[0m\u001B[0;34m\u001B[0m\u001B[0m\n\u001B[0m\u001B[1;32m    434\u001B[0m             \u001B[0mout\u001B[0m \u001B[0;34m=\u001B[0m \u001B[0mX\u001B[0m\u001B[0;34m,\u001B[0m \u001B[0my\u001B[0m\u001B[0;34m\u001B[0m\u001B[0;34m\u001B[0m\u001B[0m\n\u001B[1;32m    435\u001B[0m \u001B[0;34m\u001B[0m\u001B[0m\n",
      "\u001B[0;32m~/PycharmProjects/pythonProject/venv/lib/python3.8/site-packages/sklearn/utils/validation.py\u001B[0m in \u001B[0;36minner_f\u001B[0;34m(*args, **kwargs)\u001B[0m\n\u001B[1;32m     61\u001B[0m             \u001B[0mextra_args\u001B[0m \u001B[0;34m=\u001B[0m \u001B[0mlen\u001B[0m\u001B[0;34m(\u001B[0m\u001B[0margs\u001B[0m\u001B[0;34m)\u001B[0m \u001B[0;34m-\u001B[0m \u001B[0mlen\u001B[0m\u001B[0;34m(\u001B[0m\u001B[0mall_args\u001B[0m\u001B[0;34m)\u001B[0m\u001B[0;34m\u001B[0m\u001B[0;34m\u001B[0m\u001B[0m\n\u001B[1;32m     62\u001B[0m             \u001B[0;32mif\u001B[0m \u001B[0mextra_args\u001B[0m \u001B[0;34m<=\u001B[0m \u001B[0;36m0\u001B[0m\u001B[0;34m:\u001B[0m\u001B[0;34m\u001B[0m\u001B[0;34m\u001B[0m\u001B[0m\n\u001B[0;32m---> 63\u001B[0;31m                 \u001B[0;32mreturn\u001B[0m \u001B[0mf\u001B[0m\u001B[0;34m(\u001B[0m\u001B[0;34m*\u001B[0m\u001B[0margs\u001B[0m\u001B[0;34m,\u001B[0m \u001B[0;34m**\u001B[0m\u001B[0mkwargs\u001B[0m\u001B[0;34m)\u001B[0m\u001B[0;34m\u001B[0m\u001B[0;34m\u001B[0m\u001B[0m\n\u001B[0m\u001B[1;32m     64\u001B[0m \u001B[0;34m\u001B[0m\u001B[0m\n\u001B[1;32m     65\u001B[0m             \u001B[0;31m# extra_args > 0\u001B[0m\u001B[0;34m\u001B[0m\u001B[0;34m\u001B[0m\u001B[0;34m\u001B[0m\u001B[0m\n",
      "\u001B[0;32m~/PycharmProjects/pythonProject/venv/lib/python3.8/site-packages/sklearn/utils/validation.py\u001B[0m in \u001B[0;36mcheck_X_y\u001B[0;34m(X, y, accept_sparse, accept_large_sparse, dtype, order, copy, force_all_finite, ensure_2d, allow_nd, multi_output, ensure_min_samples, ensure_min_features, y_numeric, estimator)\u001B[0m\n\u001B[1;32m    869\u001B[0m         \u001B[0;32mraise\u001B[0m \u001B[0mValueError\u001B[0m\u001B[0;34m(\u001B[0m\u001B[0;34m\"y cannot be None\"\u001B[0m\u001B[0;34m)\u001B[0m\u001B[0;34m\u001B[0m\u001B[0;34m\u001B[0m\u001B[0m\n\u001B[1;32m    870\u001B[0m \u001B[0;34m\u001B[0m\u001B[0m\n\u001B[0;32m--> 871\u001B[0;31m     X = check_array(X, accept_sparse=accept_sparse,\n\u001B[0m\u001B[1;32m    872\u001B[0m                     \u001B[0maccept_large_sparse\u001B[0m\u001B[0;34m=\u001B[0m\u001B[0maccept_large_sparse\u001B[0m\u001B[0;34m,\u001B[0m\u001B[0;34m\u001B[0m\u001B[0;34m\u001B[0m\u001B[0m\n\u001B[1;32m    873\u001B[0m                     \u001B[0mdtype\u001B[0m\u001B[0;34m=\u001B[0m\u001B[0mdtype\u001B[0m\u001B[0;34m,\u001B[0m \u001B[0morder\u001B[0m\u001B[0;34m=\u001B[0m\u001B[0morder\u001B[0m\u001B[0;34m,\u001B[0m \u001B[0mcopy\u001B[0m\u001B[0;34m=\u001B[0m\u001B[0mcopy\u001B[0m\u001B[0;34m,\u001B[0m\u001B[0;34m\u001B[0m\u001B[0;34m\u001B[0m\u001B[0m\n",
      "\u001B[0;32m~/PycharmProjects/pythonProject/venv/lib/python3.8/site-packages/sklearn/utils/validation.py\u001B[0m in \u001B[0;36minner_f\u001B[0;34m(*args, **kwargs)\u001B[0m\n\u001B[1;32m     61\u001B[0m             \u001B[0mextra_args\u001B[0m \u001B[0;34m=\u001B[0m \u001B[0mlen\u001B[0m\u001B[0;34m(\u001B[0m\u001B[0margs\u001B[0m\u001B[0;34m)\u001B[0m \u001B[0;34m-\u001B[0m \u001B[0mlen\u001B[0m\u001B[0;34m(\u001B[0m\u001B[0mall_args\u001B[0m\u001B[0;34m)\u001B[0m\u001B[0;34m\u001B[0m\u001B[0;34m\u001B[0m\u001B[0m\n\u001B[1;32m     62\u001B[0m             \u001B[0;32mif\u001B[0m \u001B[0mextra_args\u001B[0m \u001B[0;34m<=\u001B[0m \u001B[0;36m0\u001B[0m\u001B[0;34m:\u001B[0m\u001B[0;34m\u001B[0m\u001B[0;34m\u001B[0m\u001B[0m\n\u001B[0;32m---> 63\u001B[0;31m                 \u001B[0;32mreturn\u001B[0m \u001B[0mf\u001B[0m\u001B[0;34m(\u001B[0m\u001B[0;34m*\u001B[0m\u001B[0margs\u001B[0m\u001B[0;34m,\u001B[0m \u001B[0;34m**\u001B[0m\u001B[0mkwargs\u001B[0m\u001B[0;34m)\u001B[0m\u001B[0;34m\u001B[0m\u001B[0;34m\u001B[0m\u001B[0m\n\u001B[0m\u001B[1;32m     64\u001B[0m \u001B[0;34m\u001B[0m\u001B[0m\n\u001B[1;32m     65\u001B[0m             \u001B[0;31m# extra_args > 0\u001B[0m\u001B[0;34m\u001B[0m\u001B[0;34m\u001B[0m\u001B[0;34m\u001B[0m\u001B[0m\n",
      "\u001B[0;32m~/PycharmProjects/pythonProject/venv/lib/python3.8/site-packages/sklearn/utils/validation.py\u001B[0m in \u001B[0;36mcheck_array\u001B[0;34m(array, accept_sparse, accept_large_sparse, dtype, order, copy, force_all_finite, ensure_2d, allow_nd, ensure_min_samples, ensure_min_features, estimator)\u001B[0m\n\u001B[1;32m    718\u001B[0m \u001B[0;34m\u001B[0m\u001B[0m\n\u001B[1;32m    719\u001B[0m         \u001B[0;32mif\u001B[0m \u001B[0mforce_all_finite\u001B[0m\u001B[0;34m:\u001B[0m\u001B[0;34m\u001B[0m\u001B[0;34m\u001B[0m\u001B[0m\n\u001B[0;32m--> 720\u001B[0;31m             _assert_all_finite(array,\n\u001B[0m\u001B[1;32m    721\u001B[0m                                allow_nan=force_all_finite == 'allow-nan')\n\u001B[1;32m    722\u001B[0m \u001B[0;34m\u001B[0m\u001B[0m\n",
      "\u001B[0;32m~/PycharmProjects/pythonProject/venv/lib/python3.8/site-packages/sklearn/utils/validation.py\u001B[0m in \u001B[0;36m_assert_all_finite\u001B[0;34m(X, allow_nan, msg_dtype)\u001B[0m\n\u001B[1;32m    101\u001B[0m                 not allow_nan and not np.isfinite(X).all()):\n\u001B[1;32m    102\u001B[0m             \u001B[0mtype_err\u001B[0m \u001B[0;34m=\u001B[0m \u001B[0;34m'infinity'\u001B[0m \u001B[0;32mif\u001B[0m \u001B[0mallow_nan\u001B[0m \u001B[0;32melse\u001B[0m \u001B[0;34m'NaN, infinity'\u001B[0m\u001B[0;34m\u001B[0m\u001B[0;34m\u001B[0m\u001B[0m\n\u001B[0;32m--> 103\u001B[0;31m             raise ValueError(\n\u001B[0m\u001B[1;32m    104\u001B[0m                     \u001B[0mmsg_err\u001B[0m\u001B[0;34m.\u001B[0m\u001B[0mformat\u001B[0m\u001B[0;34m\u001B[0m\u001B[0;34m\u001B[0m\u001B[0m\n\u001B[1;32m    105\u001B[0m                     (type_err,\n",
      "\u001B[0;31mValueError\u001B[0m: Input contains NaN, infinity or a value too large for dtype('float32')."
     ]
    }
   ],
   "source": [],
   "metadata": {
    "collapsed": false,
    "pycharm": {
     "name": "#%%\n"
    }
   }
  },
  {
   "cell_type": "code",
   "execution_count": 88,
   "outputs": [
    {
     "name": "stdout",
     "output_type": "stream",
     "text": [
      "Train F1:  0.8936726609432245\n",
      "Test F1: 0.41687965986498154\n",
      "Train F1:  0.8893910202417561\n",
      "Test F1: 0.3964646464646464\n",
      "Train F1:  0.8877552854286646\n",
      "Test F1: 0.3650117518271676\n",
      "Train F1:  0.8967677906253106\n",
      "Test F1: 0.41676986584107323\n",
      "Train F1:  0.8907008217488332\n",
      "Test F1: 0.4480069634687556\n",
      "Train F1:  0.9026879675694967\n",
      "Test F1: 0.40017139723022077\n",
      "Train F1:  0.8995303797206416\n",
      "Test F1: 0.4072930727667844\n",
      "Train F1:  0.8921592445753412\n",
      "Test F1: 0.3885388400304402\n",
      "Train F1:  0.8970441758813353\n",
      "Test F1: 0.4144439590177176\n",
      "Train F1:  0.9034817644308701\n",
      "Test F1: 0.38669403834593197\n"
     ]
    }
   ],
   "source": [
    "# do the same thing for some extra trees classifiers\n",
    "ets = []\n",
    "for i in range(10):\n",
    "    # n_estimators tree 한 개당 나무 하나 !\n",
    "\n",
    "    # n_jobs cpu core 개수\n",
    "    # min_impurity_descrease 하나의 데이터에 얼마나 서로 다른 데이터가 섞여 있는 지를 뜻한다\n",
    "    # min_sample_leaf 노드를 구성하기 위한 최소한의 데이터셋\n",
    "    # 불균형한 class 일 때 class_weight balanced 를 사용합니다\n",
    "    rf = RandomForestClassifier(max_depth=None, random_state=217+i, n_jobs=4, n_estimators=700,\n",
    "                                min_impurity_decrease=1e-3 , min_samples_leaf=2, verbose=0,\n",
    "                                class_weight= \"balanced\")\n",
    "    ets.append(('rf{}'.format(i), rf))\n",
    "\n",
    "vc2 = VotingClassifierLGBM(ets, voting='soft')\n",
    "_ = vc2.fit(X_train.drop(et_drop_cols, axis=1), y_train, threshold=False)"
   ],
   "metadata": {
    "collapsed": false,
    "pycharm": {
     "name": "#%%\n"
    }
   }
  },
  {
   "cell_type": "code",
   "execution_count": 89,
   "outputs": [],
   "source": [
    "# w/ threshold , extra drop cols\n",
    "vc2.voting = 'soft'\n",
    "global_rf_score_soft = f1_score(y_test , vc2.predict(X_test.drop(et_drop_cols, axis=1)), average='macro')"
   ],
   "metadata": {
    "collapsed": false,
    "pycharm": {
     "name": "#%%\n"
    }
   }
  },
  {
   "cell_type": "code",
   "execution_count": 90,
   "outputs": [],
   "source": [
    "vc2.voting = 'hard'\n",
    "# macro는 가장 빈도높은 레이블의 성능이 중요하다\n",
    "global_rf_score_hard = f1_score(y_test, vc2.predict(X_test.drop(et_drop_cols, axis=1 )),average='macro')"
   ],
   "metadata": {
    "collapsed": false,
    "pycharm": {
     "name": "#%%\n"
    }
   }
  },
  {
   "cell_type": "code",
   "execution_count": 91,
   "outputs": [
    {
     "name": "stdout",
     "output_type": "stream",
     "text": [
      "Validation score of a VotingClassifier on 3 LGBMs with soft voting strategy : 0.8506\n",
      "Validation score of a VotindfgClassifier on 3 LGBMs with hard voting strategy : 0.8557\n"
     ]
    }
   ],
   "source": [
    "print('Validation score of a VotingClassifier on 3 LGBMs with soft voting strategy : {:.4f}'.format(global_rf_score_soft))\n",
    "print('Validation score of a VotindfgClassifier on 3 LGBMs with hard voting strategy : {:.4f}'.format(global_rf_score_hard))"
   ],
   "metadata": {
    "collapsed": false,
    "pycharm": {
     "name": "#%%\n"
    }
   }
  },
  {
   "cell_type": "code",
   "execution_count": null,
   "outputs": [],
   "source": [
    "# 파라미터까지 알아야 쓰는 자신감이 생긴다"
   ],
   "metadata": {
    "collapsed": false,
    "pycharm": {
     "name": "#%%\n"
    }
   }
  },
  {
   "cell_type": "code",
   "execution_count": 92,
   "outputs": [
    {
     "data": {
      "text/plain": "{'parentesco_LE', 'rez_esc'}"
     },
     "execution_count": 92,
     "metadata": {},
     "output_type": "execute_result"
    }
   ],
   "source": [
    "# see which features are not used by ANY models\n",
    "useless_features = [ ]\n",
    "\n",
    "drop_features = set()\n",
    "\n",
    "\n",
    "first = True\n",
    "for est in vc2.estimators_:\n",
    "    ranked_features, unused_features = feature_importance(est, X_train.drop(et_drop_cols, axis=1) , display_results=False)\n",
    "    useless_features.append(unused_features)\n",
    "    if first:\n",
    "        drop_features = set(unused_features)\n",
    "    else:\n",
    "        drop_features = drop_features.intersection(set(unused_features))\n",
    "    first = False\n",
    "drop_features"
   ],
   "metadata": {
    "collapsed": false,
    "pycharm": {
     "name": "#%%\n"
    }
   }
  },
  {
   "cell_type": "code",
   "execution_count": 93,
   "outputs": [],
   "source": [
    "def combine_voters(data, weights=[0.5, 0.5]):\n",
    "    # do soft voting with both classifiers\n",
    "\n",
    "    vc.voting='soft'\n",
    "    vc1_probs = vc.predict_proba(data.drop(xgb_drop_cols,axis=1))\n",
    "    vc2.voting='soft'\n",
    "    #학습한 prediction 확률 값(n_sample, n_classes)\n",
    "\n",
    "    vc2_probs = vc2.predict_proba(data.drop(et_drop_cols,axis=1))\n",
    "\n",
    "    # 각 행 그 자리에 값을 더한다\n",
    "\n",
    "    final_vote = (vc1_probs * weights[0])+ (vc2_probs * weights[1])\n",
    "    # 열방향 가장 높은 값을 가진 색인을 찾는다\n",
    "    predictions = np.argmax(final_vote,axis=1)\n",
    "\n",
    "    return predictions"
   ],
   "metadata": {
    "collapsed": false,
    "pycharm": {
     "name": "#%%\n"
    }
   }
  },
  {
   "cell_type": "code",
   "execution_count": 94,
   "outputs": [
    {
     "data": {
      "text/plain": "0.8772570141891536"
     },
     "execution_count": 94,
     "metadata": {},
     "output_type": "execute_result"
    }
   ],
   "source": [
    "combo_preds = combine_voters(X_test, weights=[0.5,0.5] )\n",
    "global_combo_score_soft = f1_score(y_test, combo_preds, average='macro')\n",
    "global_combo_score_soft"
   ],
   "metadata": {
    "collapsed": false,
    "pycharm": {
     "name": "#%%\n"
    }
   }
  },
  {
   "cell_type": "code",
   "execution_count": 95,
   "outputs": [
    {
     "data": {
      "text/plain": "0.8826429203227679"
     },
     "execution_count": 95,
     "metadata": {},
     "output_type": "execute_result"
    }
   ],
   "source": [
    "combo_preds = combine_voters(X_test, weights=[0.6,0.4])\n",
    "global_combo_score_soft = f1_score(y_test,  combo_preds, average='macro')\n",
    "global_combo_score_soft"
   ],
   "metadata": {
    "collapsed": false,
    "pycharm": {
     "name": "#%%\n"
    }
   }
  },
  {
   "cell_type": "code",
   "execution_count": 97,
   "outputs": [],
   "source": [
    "\n",
    "y_subm = pd.DataFrame()\n",
    "y_subm['Id'] = test_ids"
   ],
   "metadata": {
    "collapsed": false,
    "pycharm": {
     "name": "#%%\n"
    }
   }
  },
  {
   "cell_type": "code",
   "execution_count": 98,
   "outputs": [],
   "source": [
    "vc.voting = 'soft'\n",
    "y_subm_lgb = y_subm.copy(deep=True)\n",
    "y_subm_lgb['Target'] = vc.predict(test.drop(xgb_drop_cols,axis=1)) +1"
   ],
   "metadata": {
    "collapsed": false,
    "pycharm": {
     "name": "#%%\n"
    }
   }
  },
  {
   "cell_type": "code",
   "execution_count": 99,
   "outputs": [],
   "source": [
    "vc2.voting = 'soft'\n",
    "y_subm_rf = y_subm.copy(deep=True)\n",
    "y_subm_rf['Target'] = vc2.predict(test.drop(et_drop_cols, axis=1)) + 1"
   ],
   "metadata": {
    "collapsed": false,
    "pycharm": {
     "name": "#%%\n"
    }
   }
  },
  {
   "cell_type": "code",
   "execution_count": 100,
   "outputs": [],
   "source": [
    "y_subm_ens = y_subm.copy(deep=True)\n",
    "y_subm_ens['Target'] = combine_voters(test)+ 1"
   ],
   "metadata": {
    "collapsed": false,
    "pycharm": {
     "name": "#%%\n"
    }
   }
  },
  {
   "cell_type": "code",
   "execution_count": 102,
   "outputs": [],
   "source": [
    "from datetime import datetime\n",
    "now = datetime.now()"
   ],
   "metadata": {
    "collapsed": false,
    "pycharm": {
     "name": "#%%\n"
    }
   }
  },
  {
   "cell_type": "code",
   "execution_count": 103,
   "outputs": [],
   "source": [
    "sub_file_lgb = 'submission_soft_XGB_{:.4f}_{}.csv'.format(global_score_soft, str(now.strftime('%Y-%m-%d-%H-%M')))\n",
    "sub_file_rf = 'submission_soft_RF_{:.4f}_{}.csv'.format(global_rf_score_soft, str(now.strftime('%Y-%m-%d-%H-%M')))\n",
    "sub_file_ens = 'submission_ens_{:.4f}_{}.csv'.format(global_combo_score_soft, str(now.strftime('%Y-%m-%d-%H-%M')))"
   ],
   "metadata": {
    "collapsed": false,
    "pycharm": {
     "name": "#%%\n"
    }
   }
  },
  {
   "cell_type": "code",
   "execution_count": 104,
   "outputs": [],
   "source": [
    "y_subm_lgb.to_csv(sub_file_lgb, index=False)\n",
    "y_subm_rf.to_csv(sub_file_rf, index=False)\n",
    "y_subm_ens.to_csv(sub_file_ens, index=False)"
   ],
   "metadata": {
    "collapsed": false,
    "pycharm": {
     "name": "#%%\n"
    }
   }
  },
  {
   "cell_type": "code",
   "execution_count": 103,
   "outputs": [],
   "source": [],
   "metadata": {
    "collapsed": false,
    "pycharm": {
     "name": "#%%\n"
    }
   }
  },
  {
   "cell_type": "code",
   "execution_count": 531,
   "outputs": [
    {
     "name": "stdout",
     "output_type": "stream",
     "text": [
      "nan col : fe_rent_per_person \n",
      "nan col : fe_rent_per_room \n",
      "nan col : fe_mobile_density \n",
      "nan col : fe_tablet_adult_density \n"
     ]
    }
   ],
   "source": [
    "#애매한 거 여러 개 쓰느니 성능 좋은 거 한 개 쓰는 게 나을 지도\n",
    "\n",
    "# nan_cols = []\n",
    "# for col in X_test.columns.tolist():\n",
    "#     if X_test[col].isnull().sum() >0:\n",
    "#         print('nan col : {} '.format(col))\n",
    "#         nan_cols.append(col)"
   ],
   "metadata": {
    "collapsed": false,
    "pycharm": {
     "name": "#%%\n"
    }
   }
  },
  {
   "cell_type": "code",
   "execution_count": 532,
   "outputs": [],
   "source": [],
   "metadata": {
    "collapsed": false,
    "pycharm": {
     "name": "#%%\n"
    }
   }
  },
  {
   "cell_type": "code",
   "execution_count": 537,
   "outputs": [
    {
     "data": {
      "text/plain": "['fe_rent_per_person',\n 'fe_rent_per_room',\n 'fe_mobile_density',\n 'fe_tablet_adult_density']"
     },
     "execution_count": 537,
     "metadata": {},
     "output_type": "execute_result"
    }
   ],
   "source": [
    "# nan_cols"
   ],
   "metadata": {
    "collapsed": false,
    "pycharm": {
     "name": "#%%\n"
    }
   }
  },
  {
   "cell_type": "code",
   "execution_count": 541,
   "outputs": [],
   "source": [
    "# plt.style.use('dark_background')"
   ],
   "metadata": {
    "collapsed": false,
    "pycharm": {
     "name": "#%%\n"
    }
   }
  },
  {
   "cell_type": "code",
   "execution_count": 544,
   "outputs": [
    {
     "data": {
      "text/plain": "<Figure size 720x1440 with 4 Axes>",
      "image/png": "[encoded data removed]"
     },
     "metadata": {},
     "output_type": "display_data"
    }
   ],
   "source": [
    "# # 결측값 보간하기\n",
    "# fig, ax =plt.subplots(len(nan_cols),1,figsize=(10,20))\n",
    "# for i in range(len(nan_cols)):\n",
    "#     ax[i].hist(X_test[nan_cols[i]].value_counts().values)"
   ],
   "metadata": {
    "collapsed": false,
    "pycharm": {
     "name": "#%%\n"
    }
   }
  },
  {
   "cell_type": "code",
   "execution_count": 550,
   "outputs": [
    {
     "data": {
      "text/plain": "['fe_rent_per_person',\n 'fe_rent_per_room',\n 'fe_mobile_density',\n 'fe_tablet_adult_density']"
     },
     "execution_count": 550,
     "metadata": {},
     "output_type": "execute_result"
    }
   ],
   "source": [
    "# 뭐든지 알고 하자 모르면 무의식적으로 대충하게 된다\n",
    "# fe_ (feature를 의미하고) 그 이후 값은 원래 존재하는 feature를 가지고 새로운 의미 feature를 만든 것\n",
    "# fe_rent_per_person은 한명당 rent 비용 feature 를 만든 것이므로 mean 으로 fillna\n",
    "# fe_rent_per_room 룸 하나당 비용\n",
    "\n",
    "\n",
    "    # print(X_test[col].value_counts())"
   ],
   "metadata": {
    "collapsed": false,
    "pycharm": {
     "name": "#%%\n"
    }
   }
  },
  {
   "cell_type": "code",
   "execution_count": 572,
   "outputs": [
    {
     "data": {
      "text/plain": "['fe_rent_per_person',\n 'fe_rent_per_room',\n 'fe_mobile_density',\n 'fe_tablet_adult_density']"
     },
     "execution_count": 572,
     "metadata": {},
     "output_type": "execute_result"
    }
   ],
   "source": [],
   "metadata": {
    "collapsed": false,
    "pycharm": {
     "name": "#%%\n"
    }
   }
  },
  {
   "cell_type": "code",
   "execution_count": 593,
   "outputs": [
    {
     "name": "stdout",
     "output_type": "stream",
     "text": [
      "col v2a1 null sum : 0\n",
      "col hacdor null sum : 0\n",
      "col rooms null sum : 0\n",
      "col hacapo null sum : 0\n",
      "col refrig null sum : 0\n",
      "col v18q1 null sum : 0\n",
      "col r4h1 null sum : 0\n",
      "col r4h2 null sum : 0\n",
      "col r4h3 null sum : 0\n",
      "col r4m1 null sum : 0\n",
      "col r4m2 null sum : 0\n",
      "col r4m3 null sum : 0\n",
      "col r4t1 null sum : 0\n",
      "col r4t2 null sum : 0\n",
      "col escolari null sum : 0\n",
      "col cielorazo null sum : 0\n",
      "col dis null sum : 0\n",
      "col male null sum : 0\n",
      "col hogar_nin null sum : 0\n",
      "col hogar_adul null sum : 0\n",
      "col hogar_mayor null sum : 0\n",
      "col hogar_total null sum : 0\n",
      "col dependency null sum : 0\n",
      "col edjefe null sum : 0\n",
      "col edjefa null sum : 0\n",
      "col meaneduc null sum : 0\n",
      "col bedrooms null sum : 0\n",
      "col overcrowding null sum : 0\n",
      "col computer null sum : 0\n",
      "col television null sum : 0\n",
      "col qmobilephone null sum : 0\n",
      "col area1 null sum : 0\n",
      "col area2 null sum : 0\n",
      "col age null sum : 0\n",
      "col SQBescolari null sum : 0\n",
      "col SQBage null sum : 0\n",
      "col SQBhogar_total null sum : 0\n",
      "col SQBedjefe null sum : 0\n",
      "col SQBhogar_nin null sum : 0\n",
      "col SQBovercrowding null sum : 0\n",
      "col SQBdependency null sum : 0\n",
      "col SQBmeaned null sum : 0\n",
      "col fe_children_fraction null sum : 0\n",
      "col fe_working_man_fraction null sum : 0\n",
      "col fe_all_man_fraction null sum : 0\n",
      "col fe_human_density null sum : 0\n",
      "col fe_rent_per_person null sum : 445\n",
      "col fe_rent_per_room null sum : 445\n",
      "col fe_mobile_density null sum : 445\n",
      "col fe_mobile_adult_density null sum : 0\n",
      "col fe_tablet_adult_density null sum : 445\n",
      "col fe_people_not_living null sum : 0\n",
      "col fe_people_weird_stat null sum : 0\n",
      "col agg18_age_MIN null sum : 0\n",
      "col agg18_age_MAX null sum : 0\n",
      "col agg18_age_MEAN null sum : 0\n",
      "col agg18_escolari_MIN null sum : 0\n",
      "col agg18_escolari_MAX null sum : 0\n",
      "col agg18_escolari_MEAN null sum : 0\n",
      "col agg18_dis_MEAN null sum : 0\n",
      "col agg18_estadocivil1_COUNT null sum : 0\n",
      "col agg18_estadocivil2_MEAN null sum : 0\n",
      "col agg18_estadocivil2_COUNT null sum : 0\n",
      "col agg18_estadocivil3_MEAN null sum : 0\n",
      "col agg18_estadocivil3_COUNT null sum : 0\n",
      "col agg18_estadocivil4_MEAN null sum : 0\n",
      "col agg18_estadocivil4_COUNT null sum : 0\n",
      "col agg18_estadocivil5_MEAN null sum : 0\n",
      "col agg18_estadocivil5_COUNT null sum : 0\n",
      "col agg18_estadocivil6_MEAN null sum : 0\n",
      "col agg18_estadocivil7_MEAN null sum : 0\n",
      "col agg18_parentesco1_MEAN null sum : 0\n",
      "col agg18_parentesco2_MEAN null sum : 0\n",
      "col agg18_parentesco3_MEAN null sum : 0\n",
      "col agg18_parentesco4_MEAN null sum : 0\n",
      "col agg18_parentesco5_MEAN null sum : 0\n",
      "col agg18_parentesco6_MEAN null sum : 0\n",
      "col agg18_parentesco7_MEAN null sum : 0\n",
      "col agg18_parentesco8_MEAN null sum : 0\n",
      "col agg18_parentesco9_MEAN null sum : 0\n",
      "col agg18_parentesco10_MEAN null sum : 0\n",
      "col agg18_parentesco11_MEAN null sum : 0\n",
      "col agg18_parentesco12_MEAN null sum : 0\n",
      "col edjef null sum : 0\n",
      "col pared_LE null sum : 0\n",
      "col piso_LE null sum : 0\n",
      "col techo_LE null sum : 0\n",
      "col abastagua_LE null sum : 0\n",
      "col sanitario_LE null sum : 0\n",
      "col energcocinar_LE null sum : 0\n",
      "col elimbasu_LE null sum : 0\n",
      "col epared_LE null sum : 0\n",
      "col etecho_LE null sum : 0\n",
      "col eviv_LE null sum : 0\n",
      "col estadocivil_LE null sum : 0\n",
      "col lugar_LE null sum : 0\n",
      "col tipovivi_LE null sum : 0\n",
      "col manual_elec_LE null sum : 0\n",
      "col geo_age null sum : 0\n",
      "col geo_meaneduc null sum : 0\n",
      "col geo_dependency null sum : 0\n",
      "col geo_hogar_nin null sum : 0\n",
      "col geo_hogar_adul null sum : 0\n",
      "col geo_hogar_total null sum : 0\n",
      "col geo_bedrooms null sum : 0\n",
      "col geo_overcrowding null sum : 0\n",
      "col geo_eviv_LE_0 null sum : 0\n",
      "col geo_eviv_LE_1 null sum : 0\n",
      "col geo_eviv_LE_2 null sum : 0\n",
      "col geo_etecho_LE_0 null sum : 0\n",
      "col geo_etecho_LE_1 null sum : 0\n",
      "col geo_etecho_LE_2 null sum : 0\n",
      "col geo_epared_LE_1 null sum : 0\n",
      "col geo_epared_LE_2 null sum : 0\n",
      "col geo_elimbasu_LE_0 null sum : 0\n",
      "col geo_elimbasu_LE_1 null sum : 0\n",
      "col geo_elimbasu_LE_2 null sum : 0\n",
      "col geo_elimbasu_LE_3 null sum : 0\n",
      "col geo_elimbasu_LE_5 null sum : 0\n",
      "col geo_energcocinar_LE_0 null sum : 0\n",
      "col geo_energcocinar_LE_3 null sum : 0\n",
      "col geo_sanitario_LE_0 null sum : 0\n",
      "col geo_sanitario_LE_1 null sum : 0\n",
      "col geo_sanitario_LE_2 null sum : 0\n",
      "col geo_sanitario_LE_3 null sum : 0\n",
      "col geo_sanitario_LE_4 null sum : 0\n",
      "col geo_manual_elec_LE_0 null sum : 0\n",
      "col geo_manual_elec_LE_1 null sum : 0\n",
      "col geo_manual_elec_LE_3 null sum : 0\n",
      "col geo_manual_elec_LE_4 null sum : 0\n",
      "col geo_pared_LE_0 null sum : 0\n",
      "col geo_pared_LE_1 null sum : 0\n",
      "col geo_pared_LE_2 null sum : 0\n",
      "col geo_pared_LE_7 null sum : 0\n",
      "col bedrooms_to_rooms null sum : 0\n",
      "col rent_to_rooms null sum : 0\n",
      "col tamhog_to_rooms null sum : 0\n",
      "col r4t3_to_tamhog null sum : 0\n",
      "col r4t3_to_rooms null sum : 0\n",
      "col v2a1_to_r4t3 null sum : 0\n",
      "col hhsize_to_rooms null sum : 0\n",
      "col rent_to_hhsize null sum : 0\n",
      "col rent_to_over_18 null sum : 0\n"
     ]
    }
   ],
   "source": [
    "# df.fillna(method='bfill')\n",
    "#\n",
    "# for col in X_test.drop(xgb_drop_cols,axis=1).columns.tolist():\n",
    "#     print('col {} null sum : {}'.format(col,X_test[col].isnull().sum()))"
   ],
   "metadata": {
    "collapsed": false,
    "pycharm": {
     "name": "#%%\n"
    }
   }
  },
  {
   "cell_type": "code",
   "execution_count": 608,
   "outputs": [
    {
     "data": {
      "text/plain": "143"
     },
     "execution_count": 608,
     "metadata": {},
     "output_type": "execute_result"
    }
   ],
   "source": [
    "# len(X_test.drop(xgb_drop_cols,axis=1).columns)"
   ],
   "metadata": {
    "collapsed": false,
    "pycharm": {
     "name": "#%%\n"
    }
   }
  },
  {
   "cell_type": "code",
   "execution_count": 609,
   "outputs": [
    {
     "data": {
      "text/plain": "122"
     },
     "execution_count": 609,
     "metadata": {},
     "output_type": "execute_result"
    }
   ],
   "source": [
    "# len(X_test.drop(et_drop_cols,axis=1).columns)"
   ],
   "metadata": {
    "collapsed": false,
    "pycharm": {
     "name": "#%%\n"
    }
   }
  },
  {
   "cell_type": "code",
   "execution_count": 612,
   "outputs": [],
   "source": [],
   "metadata": {
    "collapsed": false,
    "pycharm": {
     "name": "#%%\n"
    }
   }
  },
  {
   "cell_type": "code",
   "execution_count": 632,
   "outputs": [],
   "source": [],
   "metadata": {
    "collapsed": false,
    "pycharm": {
     "name": "#%%\n"
    }
   }
  },
  {
   "cell_type": "code",
   "execution_count": 634,
   "outputs": [],
   "source": [
    "# ignore_test = test.drop(xgb_drop_cols, axis=1, errors='ignore')\n",
    "#"
   ],
   "metadata": {
    "collapsed": false,
    "pycharm": {
     "name": "#%%\n"
    }
   }
  },
  {
   "cell_type": "code",
   "execution_count": 638,
   "outputs": [
    {
     "ename": "ValueError",
     "evalue": "could not convert string to float: 'no'",
     "output_type": "error",
     "traceback": [
      "\u001B[0;31m---------------------------------------------------------------------------\u001B[0m",
      "\u001B[0;31mValueError\u001B[0m                                Traceback (most recent call last)",
      "\u001B[0;32m/var/folders/c6/2j22b1rd02778st12c0mcr3w0000gn/T/ipykernel_83198/1363695622.py\u001B[0m in \u001B[0;36m<module>\u001B[0;34m\u001B[0m\n\u001B[0;32m----> 1\u001B[0;31m \u001B[0my_subm_lgb\u001B[0m\u001B[0;34m[\u001B[0m\u001B[0;34m'Target'\u001B[0m\u001B[0;34m]\u001B[0m \u001B[0;34m=\u001B[0m \u001B[0mvc\u001B[0m\u001B[0;34m.\u001B[0m\u001B[0mpredict\u001B[0m\u001B[0;34m(\u001B[0m\u001B[0mignore_test\u001B[0m\u001B[0;34m)\u001B[0m\u001B[0;34m+\u001B[0m \u001B[0;36m1\u001B[0m\u001B[0;34m\u001B[0m\u001B[0;34m\u001B[0m\u001B[0m\n\u001B[0m",
      "\u001B[0;32m~/PycharmProjects/pythonProject/venv/lib/python3.8/site-packages/sklearn/ensemble/_voting.py\u001B[0m in \u001B[0;36mpredict\u001B[0;34m(self, X)\u001B[0m\n\u001B[1;32m    307\u001B[0m         \u001B[0mcheck_is_fitted\u001B[0m\u001B[0;34m(\u001B[0m\u001B[0mself\u001B[0m\u001B[0;34m)\u001B[0m\u001B[0;34m\u001B[0m\u001B[0;34m\u001B[0m\u001B[0m\n\u001B[1;32m    308\u001B[0m         \u001B[0;32mif\u001B[0m \u001B[0mself\u001B[0m\u001B[0;34m.\u001B[0m\u001B[0mvoting\u001B[0m \u001B[0;34m==\u001B[0m \u001B[0;34m'soft'\u001B[0m\u001B[0;34m:\u001B[0m\u001B[0;34m\u001B[0m\u001B[0;34m\u001B[0m\u001B[0m\n\u001B[0;32m--> 309\u001B[0;31m             \u001B[0mmaj\u001B[0m \u001B[0;34m=\u001B[0m \u001B[0mnp\u001B[0m\u001B[0;34m.\u001B[0m\u001B[0margmax\u001B[0m\u001B[0;34m(\u001B[0m\u001B[0mself\u001B[0m\u001B[0;34m.\u001B[0m\u001B[0mpredict_proba\u001B[0m\u001B[0;34m(\u001B[0m\u001B[0mX\u001B[0m\u001B[0;34m)\u001B[0m\u001B[0;34m,\u001B[0m \u001B[0maxis\u001B[0m\u001B[0;34m=\u001B[0m\u001B[0;36m1\u001B[0m\u001B[0;34m)\u001B[0m\u001B[0;34m\u001B[0m\u001B[0;34m\u001B[0m\u001B[0m\n\u001B[0m\u001B[1;32m    310\u001B[0m \u001B[0;34m\u001B[0m\u001B[0m\n\u001B[1;32m    311\u001B[0m         \u001B[0;32melse\u001B[0m\u001B[0;34m:\u001B[0m  \u001B[0;31m# 'hard' voting\u001B[0m\u001B[0;34m\u001B[0m\u001B[0;34m\u001B[0m\u001B[0m\n",
      "\u001B[0;32m~/PycharmProjects/pythonProject/venv/lib/python3.8/site-packages/sklearn/ensemble/_voting.py\u001B[0m in \u001B[0;36m_predict_proba\u001B[0;34m(self, X)\u001B[0m\n\u001B[1;32m    327\u001B[0m         \u001B[0;34m\"\"\"Predict class probabilities for X in 'soft' voting.\"\"\"\u001B[0m\u001B[0;34m\u001B[0m\u001B[0;34m\u001B[0m\u001B[0m\n\u001B[1;32m    328\u001B[0m         \u001B[0mcheck_is_fitted\u001B[0m\u001B[0;34m(\u001B[0m\u001B[0mself\u001B[0m\u001B[0;34m)\u001B[0m\u001B[0;34m\u001B[0m\u001B[0;34m\u001B[0m\u001B[0m\n\u001B[0;32m--> 329\u001B[0;31m         avg = np.average(self._collect_probas(X), axis=0,\n\u001B[0m\u001B[1;32m    330\u001B[0m                          weights=self._weights_not_none)\n\u001B[1;32m    331\u001B[0m         \u001B[0;32mreturn\u001B[0m \u001B[0mavg\u001B[0m\u001B[0;34m\u001B[0m\u001B[0;34m\u001B[0m\u001B[0m\n",
      "\u001B[0;32m~/PycharmProjects/pythonProject/venv/lib/python3.8/site-packages/sklearn/ensemble/_voting.py\u001B[0m in \u001B[0;36m_collect_probas\u001B[0;34m(self, X)\u001B[0m\n\u001B[1;32m    322\u001B[0m     \u001B[0;32mdef\u001B[0m \u001B[0m_collect_probas\u001B[0m\u001B[0;34m(\u001B[0m\u001B[0mself\u001B[0m\u001B[0;34m,\u001B[0m \u001B[0mX\u001B[0m\u001B[0;34m)\u001B[0m\u001B[0;34m:\u001B[0m\u001B[0;34m\u001B[0m\u001B[0;34m\u001B[0m\u001B[0m\n\u001B[1;32m    323\u001B[0m         \u001B[0;34m\"\"\"Collect results from clf.predict calls.\"\"\"\u001B[0m\u001B[0;34m\u001B[0m\u001B[0;34m\u001B[0m\u001B[0m\n\u001B[0;32m--> 324\u001B[0;31m         \u001B[0;32mreturn\u001B[0m \u001B[0mnp\u001B[0m\u001B[0;34m.\u001B[0m\u001B[0masarray\u001B[0m\u001B[0;34m(\u001B[0m\u001B[0;34m[\u001B[0m\u001B[0mclf\u001B[0m\u001B[0;34m.\u001B[0m\u001B[0mpredict_proba\u001B[0m\u001B[0;34m(\u001B[0m\u001B[0mX\u001B[0m\u001B[0;34m)\u001B[0m \u001B[0;32mfor\u001B[0m \u001B[0mclf\u001B[0m \u001B[0;32min\u001B[0m \u001B[0mself\u001B[0m\u001B[0;34m.\u001B[0m\u001B[0mestimators_\u001B[0m\u001B[0;34m]\u001B[0m\u001B[0;34m)\u001B[0m\u001B[0;34m\u001B[0m\u001B[0;34m\u001B[0m\u001B[0m\n\u001B[0m\u001B[1;32m    325\u001B[0m \u001B[0;34m\u001B[0m\u001B[0m\n\u001B[1;32m    326\u001B[0m     \u001B[0;32mdef\u001B[0m \u001B[0m_predict_proba\u001B[0m\u001B[0;34m(\u001B[0m\u001B[0mself\u001B[0m\u001B[0;34m,\u001B[0m \u001B[0mX\u001B[0m\u001B[0;34m)\u001B[0m\u001B[0;34m:\u001B[0m\u001B[0;34m\u001B[0m\u001B[0;34m\u001B[0m\u001B[0m\n",
      "\u001B[0;32m~/PycharmProjects/pythonProject/venv/lib/python3.8/site-packages/sklearn/ensemble/_voting.py\u001B[0m in \u001B[0;36m<listcomp>\u001B[0;34m(.0)\u001B[0m\n\u001B[1;32m    322\u001B[0m     \u001B[0;32mdef\u001B[0m \u001B[0m_collect_probas\u001B[0m\u001B[0;34m(\u001B[0m\u001B[0mself\u001B[0m\u001B[0;34m,\u001B[0m \u001B[0mX\u001B[0m\u001B[0;34m)\u001B[0m\u001B[0;34m:\u001B[0m\u001B[0;34m\u001B[0m\u001B[0;34m\u001B[0m\u001B[0m\n\u001B[1;32m    323\u001B[0m         \u001B[0;34m\"\"\"Collect results from clf.predict calls.\"\"\"\u001B[0m\u001B[0;34m\u001B[0m\u001B[0;34m\u001B[0m\u001B[0m\n\u001B[0;32m--> 324\u001B[0;31m         \u001B[0;32mreturn\u001B[0m \u001B[0mnp\u001B[0m\u001B[0;34m.\u001B[0m\u001B[0masarray\u001B[0m\u001B[0;34m(\u001B[0m\u001B[0;34m[\u001B[0m\u001B[0mclf\u001B[0m\u001B[0;34m.\u001B[0m\u001B[0mpredict_proba\u001B[0m\u001B[0;34m(\u001B[0m\u001B[0mX\u001B[0m\u001B[0;34m)\u001B[0m \u001B[0;32mfor\u001B[0m \u001B[0mclf\u001B[0m \u001B[0;32min\u001B[0m \u001B[0mself\u001B[0m\u001B[0;34m.\u001B[0m\u001B[0mestimators_\u001B[0m\u001B[0;34m]\u001B[0m\u001B[0;34m)\u001B[0m\u001B[0;34m\u001B[0m\u001B[0;34m\u001B[0m\u001B[0m\n\u001B[0m\u001B[1;32m    325\u001B[0m \u001B[0;34m\u001B[0m\u001B[0m\n\u001B[1;32m    326\u001B[0m     \u001B[0;32mdef\u001B[0m \u001B[0m_predict_proba\u001B[0m\u001B[0;34m(\u001B[0m\u001B[0mself\u001B[0m\u001B[0;34m,\u001B[0m \u001B[0mX\u001B[0m\u001B[0;34m)\u001B[0m\u001B[0;34m:\u001B[0m\u001B[0;34m\u001B[0m\u001B[0;34m\u001B[0m\u001B[0m\n",
      "\u001B[0;32m~/PycharmProjects/pythonProject/venv/lib/python3.8/site-packages/xgboost/sklearn.py\u001B[0m in \u001B[0;36mpredict_proba\u001B[0;34m(self, X, ntree_limit, validate_features, base_margin, iteration_range)\u001B[0m\n\u001B[1;32m   1271\u001B[0m         \u001B[0;31m# binary:logistic: Expand the prob vector into 2-class matrix after predict.\u001B[0m\u001B[0;34m\u001B[0m\u001B[0;34m\u001B[0m\u001B[0;34m\u001B[0m\u001B[0m\n\u001B[1;32m   1272\u001B[0m         \u001B[0;31m# binary:logitraw: Unsupported by predict_proba()\u001B[0m\u001B[0;34m\u001B[0m\u001B[0;34m\u001B[0m\u001B[0;34m\u001B[0m\u001B[0m\n\u001B[0;32m-> 1273\u001B[0;31m         class_probs = super().predict(\n\u001B[0m\u001B[1;32m   1274\u001B[0m             \u001B[0mX\u001B[0m\u001B[0;34m=\u001B[0m\u001B[0mX\u001B[0m\u001B[0;34m,\u001B[0m\u001B[0;34m\u001B[0m\u001B[0;34m\u001B[0m\u001B[0m\n\u001B[1;32m   1275\u001B[0m             \u001B[0moutput_margin\u001B[0m\u001B[0;34m=\u001B[0m\u001B[0mself\u001B[0m\u001B[0;34m.\u001B[0m\u001B[0mobjective\u001B[0m \u001B[0;34m==\u001B[0m \u001B[0;34m\"multi:softmax\"\u001B[0m\u001B[0;34m,\u001B[0m\u001B[0;34m\u001B[0m\u001B[0;34m\u001B[0m\u001B[0m\n",
      "\u001B[0;32m~/PycharmProjects/pythonProject/venv/lib/python3.8/site-packages/xgboost/sklearn.py\u001B[0m in \u001B[0;36mpredict\u001B[0;34m(self, X, output_margin, ntree_limit, validate_features, base_margin, iteration_range)\u001B[0m\n\u001B[1;32m    818\u001B[0m         \u001B[0;32mif\u001B[0m \u001B[0mself\u001B[0m\u001B[0;34m.\u001B[0m\u001B[0m_can_use_inplace_predict\u001B[0m\u001B[0;34m(\u001B[0m\u001B[0;34m)\u001B[0m\u001B[0;34m:\u001B[0m\u001B[0;34m\u001B[0m\u001B[0;34m\u001B[0m\u001B[0m\n\u001B[1;32m    819\u001B[0m             \u001B[0;32mtry\u001B[0m\u001B[0;34m:\u001B[0m\u001B[0;34m\u001B[0m\u001B[0;34m\u001B[0m\u001B[0m\n\u001B[0;32m--> 820\u001B[0;31m                 predts = self.get_booster().inplace_predict(\n\u001B[0m\u001B[1;32m    821\u001B[0m                     \u001B[0mdata\u001B[0m\u001B[0;34m=\u001B[0m\u001B[0mX\u001B[0m\u001B[0;34m,\u001B[0m\u001B[0;34m\u001B[0m\u001B[0;34m\u001B[0m\u001B[0m\n\u001B[1;32m    822\u001B[0m                     \u001B[0miteration_range\u001B[0m\u001B[0;34m=\u001B[0m\u001B[0miteration_range\u001B[0m\u001B[0;34m,\u001B[0m\u001B[0;34m\u001B[0m\u001B[0;34m\u001B[0m\u001B[0m\n",
      "\u001B[0;32m~/PycharmProjects/pythonProject/venv/lib/python3.8/site-packages/xgboost/core.py\u001B[0m in \u001B[0;36minplace_predict\u001B[0;34m(self, data, iteration_range, predict_type, missing, validate_features, base_margin, strict_shape)\u001B[0m\n\u001B[1;32m   1846\u001B[0m         \u001B[0;32mif\u001B[0m \u001B[0misinstance\u001B[0m\u001B[0;34m(\u001B[0m\u001B[0mdata\u001B[0m\u001B[0;34m,\u001B[0m \u001B[0mnp\u001B[0m\u001B[0;34m.\u001B[0m\u001B[0mndarray\u001B[0m\u001B[0;34m)\u001B[0m\u001B[0;34m:\u001B[0m\u001B[0;34m\u001B[0m\u001B[0;34m\u001B[0m\u001B[0m\n\u001B[1;32m   1847\u001B[0m             \u001B[0;32mfrom\u001B[0m \u001B[0;34m.\u001B[0m\u001B[0mdata\u001B[0m \u001B[0;32mimport\u001B[0m \u001B[0m_ensure_np_dtype\u001B[0m\u001B[0;34m\u001B[0m\u001B[0;34m\u001B[0m\u001B[0m\n\u001B[0;32m-> 1848\u001B[0;31m             \u001B[0mdata\u001B[0m\u001B[0;34m,\u001B[0m \u001B[0m_\u001B[0m \u001B[0;34m=\u001B[0m \u001B[0m_ensure_np_dtype\u001B[0m\u001B[0;34m(\u001B[0m\u001B[0mdata\u001B[0m\u001B[0;34m,\u001B[0m \u001B[0mdata\u001B[0m\u001B[0;34m.\u001B[0m\u001B[0mdtype\u001B[0m\u001B[0;34m)\u001B[0m\u001B[0;34m\u001B[0m\u001B[0;34m\u001B[0m\u001B[0m\n\u001B[0m\u001B[1;32m   1849\u001B[0m             _check_call(\n\u001B[1;32m   1850\u001B[0m                 _LIB.XGBoosterPredictFromDense(\n",
      "\u001B[0;32m~/PycharmProjects/pythonProject/venv/lib/python3.8/site-packages/xgboost/data.py\u001B[0m in \u001B[0;36m_ensure_np_dtype\u001B[0;34m(data, dtype)\u001B[0m\n\u001B[1;32m    107\u001B[0m \u001B[0;32mdef\u001B[0m \u001B[0m_ensure_np_dtype\u001B[0m\u001B[0;34m(\u001B[0m\u001B[0mdata\u001B[0m\u001B[0;34m,\u001B[0m \u001B[0mdtype\u001B[0m\u001B[0;34m)\u001B[0m\u001B[0;34m:\u001B[0m\u001B[0;34m\u001B[0m\u001B[0;34m\u001B[0m\u001B[0m\n\u001B[1;32m    108\u001B[0m     \u001B[0;32mif\u001B[0m \u001B[0mdata\u001B[0m\u001B[0;34m.\u001B[0m\u001B[0mdtype\u001B[0m\u001B[0;34m.\u001B[0m\u001B[0mhasobject\u001B[0m\u001B[0;34m:\u001B[0m\u001B[0;34m\u001B[0m\u001B[0;34m\u001B[0m\u001B[0m\n\u001B[0;32m--> 109\u001B[0;31m         \u001B[0mdata\u001B[0m \u001B[0;34m=\u001B[0m \u001B[0mdata\u001B[0m\u001B[0;34m.\u001B[0m\u001B[0mastype\u001B[0m\u001B[0;34m(\u001B[0m\u001B[0mnp\u001B[0m\u001B[0;34m.\u001B[0m\u001B[0mfloat32\u001B[0m\u001B[0;34m,\u001B[0m \u001B[0mcopy\u001B[0m\u001B[0;34m=\u001B[0m\u001B[0;32mFalse\u001B[0m\u001B[0;34m)\u001B[0m\u001B[0;34m\u001B[0m\u001B[0;34m\u001B[0m\u001B[0m\n\u001B[0m\u001B[1;32m    110\u001B[0m         \u001B[0mdtype\u001B[0m \u001B[0;34m=\u001B[0m \u001B[0mnp\u001B[0m\u001B[0;34m.\u001B[0m\u001B[0mfloat32\u001B[0m\u001B[0;34m\u001B[0m\u001B[0;34m\u001B[0m\u001B[0m\n\u001B[1;32m    111\u001B[0m     \u001B[0;32mreturn\u001B[0m \u001B[0mdata\u001B[0m\u001B[0;34m,\u001B[0m \u001B[0mdtype\u001B[0m\u001B[0;34m\u001B[0m\u001B[0;34m\u001B[0m\u001B[0m\n",
      "\u001B[0;31mValueError\u001B[0m: could not convert string to float: 'no'"
     ]
    }
   ],
   "source": [
    "# y_subm_lgb['Target'] = vc.predict(ignore_test)+ 1"
   ],
   "metadata": {
    "collapsed": false,
    "pycharm": {
     "name": "#%%\n"
    }
   }
  },
  {
   "cell_type": "code",
   "execution_count": 645,
   "outputs": [],
   "source": [
    "# object_cols = []\n",
    "# for col in ignore_test.columns.tolist():\n",
    "#     if ignore_test[col].dtypes == 'object':\n",
    "#         object_cols.append(col)"
   ],
   "metadata": {
    "collapsed": false,
    "pycharm": {
     "name": "#%%\n"
    }
   }
  },
  {
   "cell_type": "code",
   "execution_count": 646,
   "outputs": [
    {
     "data": {
      "text/plain": "      dependency edjefe edjefa\n0             .5     no     17\n1             .5     no     17\n2             .5     no     17\n3             no     16     no\n4              8     no     11\n...          ...    ...    ...\n23851         .5      5     no\n23852        yes      6     no\n23853        yes      6     no\n23854        yes      6     no\n23855        yes      6     no\n\n[23856 rows x 3 columns]",
      "text/html": "<div>\n<style scoped>\n    .dataframe tbody tr th:only-of-type {\n        vertical-align: middle;\n    }\n\n    .dataframe tbody tr th {\n        vertical-align: top;\n    }\n\n    .dataframe thead th {\n        text-align: right;\n    }\n</style>\n<table border=\"1\" class=\"dataframe\">\n  <thead>\n    <tr style=\"text-align: right;\">\n      <th></th>\n      <th>dependency</th>\n      <th>edjefe</th>\n      <th>edjefa</th>\n    </tr>\n  </thead>\n  <tbody>\n    <tr>\n      <th>0</th>\n      <td>.5</td>\n      <td>no</td>\n      <td>17</td>\n    </tr>\n    <tr>\n      <th>1</th>\n      <td>.5</td>\n      <td>no</td>\n      <td>17</td>\n    </tr>\n    <tr>\n      <th>2</th>\n      <td>.5</td>\n      <td>no</td>\n      <td>17</td>\n    </tr>\n    <tr>\n      <th>3</th>\n      <td>no</td>\n      <td>16</td>\n      <td>no</td>\n    </tr>\n    <tr>\n      <th>4</th>\n      <td>8</td>\n      <td>no</td>\n      <td>11</td>\n    </tr>\n    <tr>\n      <th>...</th>\n      <td>...</td>\n      <td>...</td>\n      <td>...</td>\n    </tr>\n    <tr>\n      <th>23851</th>\n      <td>.5</td>\n      <td>5</td>\n      <td>no</td>\n    </tr>\n    <tr>\n      <th>23852</th>\n      <td>yes</td>\n      <td>6</td>\n      <td>no</td>\n    </tr>\n    <tr>\n      <th>23853</th>\n      <td>yes</td>\n      <td>6</td>\n      <td>no</td>\n    </tr>\n    <tr>\n      <th>23854</th>\n      <td>yes</td>\n      <td>6</td>\n      <td>no</td>\n    </tr>\n    <tr>\n      <th>23855</th>\n      <td>yes</td>\n      <td>6</td>\n      <td>no</td>\n    </tr>\n  </tbody>\n</table>\n<p>23856 rows × 3 columns</p>\n</div>"
     },
     "execution_count": 646,
     "metadata": {},
     "output_type": "execute_result"
    }
   ],
   "source": [
    "# ignore_test[object_cols]\n",
    "# 처음 부터 다시 해야하나 전처리 안된게 왜 있찌 따라하는 것도 잘 못한다\n",
    "# 긴 흐름을 잘 가져가는 연습필요 , 전처리 로직만 돌려야하나 , 어떤 피쳐를 활용하는지도 , 모델을 다시 트레이닝 할 수는없다"
   ],
   "metadata": {
    "collapsed": false,
    "pycharm": {
     "name": "#%%\n"
    }
   }
  },
  {
   "cell_type": "code",
   "execution_count": null,
   "outputs": [],
   "source": [
    "\n",
    "# ignore_test.drop(['Id'] ,axis=1, inplace=True)"
   ],
   "metadata": {
    "collapsed": false,
    "pycharm": {
     "name": "#%%\n"
    }
   }
  },
  {
   "cell_type": "code",
   "execution_count": 621,
   "outputs": [],
   "source": [],
   "metadata": {
    "collapsed": false,
    "pycharm": {
     "name": "#%%\n"
    }
   }
  },
  {
   "cell_type": "code",
   "execution_count": null,
   "outputs": [],
   "source": [
    "# X_test[nan_cols] = X_test[nan_cols].fillna(0,inplace=True)"
   ],
   "metadata": {
    "collapsed": false,
    "pycharm": {
     "name": "#%%\n"
    }
   }
  },
  {
   "cell_type": "code",
   "execution_count": 605,
   "outputs": [],
   "source": [
    "# 하나씩 해야되네 하나씩 하지 않으면 바뀌지가 않는다 fillna, 다른 방법 찾거나 해야한다\n",
    "# 계속 한번에 바꿔서 replace할 때는 바뀌는데 여러개가 한번에 입력이 안되는건지 인서트해도 안되서 헤맸다\n",
    "# 이런 짜증나는 오류가 있다 분명 될것처럼 해놓고 눈속임\n",
    "# for col in nan_cols:\n",
    "#     X_test[col]= X_test[col].fillna(0)"
   ],
   "metadata": {
    "collapsed": false,
    "pycharm": {
     "name": "#%%\n"
    }
   }
  },
  {
   "cell_type": "code",
   "execution_count": 606,
   "outputs": [
    {
     "data": {
      "text/plain": "      fe_rent_per_person  fe_rent_per_room  fe_mobile_density  \\\n30                     0                 0                  0   \n58                     0                 0                  0   \n68                     0                 0                  0   \n92                     0                 0                  0   \n102                    0                 0                  0   \n...                  ...               ...                ...   \n9492                   0                 0                  0   \n9505                   0                 0                  0   \n9517                   0                 0                  0   \n9519                   0                 0                  0   \n9526                   0                 0                  0   \n\n      fe_tablet_adult_density  \n30                          0  \n58                          0  \n68                          0  \n92                          0  \n102                         0  \n...                       ...  \n9492                        0  \n9505                        0  \n9517                        0  \n9519                        0  \n9526                        0  \n\n[445 rows x 4 columns]",
      "text/html": "<div>\n<style scoped>\n    .dataframe tbody tr th:only-of-type {\n        vertical-align: middle;\n    }\n\n    .dataframe tbody tr th {\n        vertical-align: top;\n    }\n\n    .dataframe thead th {\n        text-align: right;\n    }\n</style>\n<table border=\"1\" class=\"dataframe\">\n  <thead>\n    <tr style=\"text-align: right;\">\n      <th></th>\n      <th>fe_rent_per_person</th>\n      <th>fe_rent_per_room</th>\n      <th>fe_mobile_density</th>\n      <th>fe_tablet_adult_density</th>\n    </tr>\n  </thead>\n  <tbody>\n    <tr>\n      <th>30</th>\n      <td>0</td>\n      <td>0</td>\n      <td>0</td>\n      <td>0</td>\n    </tr>\n    <tr>\n      <th>58</th>\n      <td>0</td>\n      <td>0</td>\n      <td>0</td>\n      <td>0</td>\n    </tr>\n    <tr>\n      <th>68</th>\n      <td>0</td>\n      <td>0</td>\n      <td>0</td>\n      <td>0</td>\n    </tr>\n    <tr>\n      <th>92</th>\n      <td>0</td>\n      <td>0</td>\n      <td>0</td>\n      <td>0</td>\n    </tr>\n    <tr>\n      <th>102</th>\n      <td>0</td>\n      <td>0</td>\n      <td>0</td>\n      <td>0</td>\n    </tr>\n    <tr>\n      <th>...</th>\n      <td>...</td>\n      <td>...</td>\n      <td>...</td>\n      <td>...</td>\n    </tr>\n    <tr>\n      <th>9492</th>\n      <td>0</td>\n      <td>0</td>\n      <td>0</td>\n      <td>0</td>\n    </tr>\n    <tr>\n      <th>9505</th>\n      <td>0</td>\n      <td>0</td>\n      <td>0</td>\n      <td>0</td>\n    </tr>\n    <tr>\n      <th>9517</th>\n      <td>0</td>\n      <td>0</td>\n      <td>0</td>\n      <td>0</td>\n    </tr>\n    <tr>\n      <th>9519</th>\n      <td>0</td>\n      <td>0</td>\n      <td>0</td>\n      <td>0</td>\n    </tr>\n    <tr>\n      <th>9526</th>\n      <td>0</td>\n      <td>0</td>\n      <td>0</td>\n      <td>0</td>\n    </tr>\n  </tbody>\n</table>\n<p>445 rows × 4 columns</p>\n</div>"
     },
     "execution_count": 606,
     "metadata": {},
     "output_type": "execute_result"
    }
   ],
   "source": [
    "# X_test[nan_cols]"
   ],
   "metadata": {
    "collapsed": false,
    "pycharm": {
     "name": "#%%\n"
    }
   }
  },
  {
   "cell_type": "code",
   "execution_count": null,
   "outputs": [],
   "source": [
    "# X_test[nan_cols].fillna(0,inplace=True)\n",
    "#"
   ],
   "metadata": {
    "collapsed": false,
    "pycharm": {
     "name": "#%%\n"
    }
   }
  },
  {
   "cell_type": "code",
   "execution_count": null,
   "outputs": [],
   "source": [
    "# X_test[nan_cols].fillna(X_test[nan_cols])"
   ],
   "metadata": {
    "collapsed": false,
    "pycharm": {
     "name": "#%%\n"
    }
   }
  },
  {
   "cell_type": "code",
   "execution_count": 590,
   "outputs": [
    {
     "data": {
      "text/plain": "      fe_rent_per_person  fe_rent_per_room  fe_mobile_density  \\\n30                   NaN               NaN                NaN   \n58                   NaN               NaN                NaN   \n68                   NaN               NaN                NaN   \n92                   NaN               NaN                NaN   \n102                  NaN               NaN                NaN   \n...                  ...               ...                ...   \n9492                 NaN               NaN                NaN   \n9505                 NaN               NaN                NaN   \n9517                 NaN               NaN                NaN   \n9519                 NaN               NaN                NaN   \n9526                 NaN               NaN                NaN   \n\n      fe_tablet_adult_density  \n30                        NaN  \n58                        NaN  \n68                        NaN  \n92                        NaN  \n102                       NaN  \n...                       ...  \n9492                      NaN  \n9505                      NaN  \n9517                      NaN  \n9519                      NaN  \n9526                      NaN  \n\n[445 rows x 4 columns]",
      "text/html": "<div>\n<style scoped>\n    .dataframe tbody tr th:only-of-type {\n        vertical-align: middle;\n    }\n\n    .dataframe tbody tr th {\n        vertical-align: top;\n    }\n\n    .dataframe thead th {\n        text-align: right;\n    }\n</style>\n<table border=\"1\" class=\"dataframe\">\n  <thead>\n    <tr style=\"text-align: right;\">\n      <th></th>\n      <th>fe_rent_per_person</th>\n      <th>fe_rent_per_room</th>\n      <th>fe_mobile_density</th>\n      <th>fe_tablet_adult_density</th>\n    </tr>\n  </thead>\n  <tbody>\n    <tr>\n      <th>30</th>\n      <td>NaN</td>\n      <td>NaN</td>\n      <td>NaN</td>\n      <td>NaN</td>\n    </tr>\n    <tr>\n      <th>58</th>\n      <td>NaN</td>\n      <td>NaN</td>\n      <td>NaN</td>\n      <td>NaN</td>\n    </tr>\n    <tr>\n      <th>68</th>\n      <td>NaN</td>\n      <td>NaN</td>\n      <td>NaN</td>\n      <td>NaN</td>\n    </tr>\n    <tr>\n      <th>92</th>\n      <td>NaN</td>\n      <td>NaN</td>\n      <td>NaN</td>\n      <td>NaN</td>\n    </tr>\n    <tr>\n      <th>102</th>\n      <td>NaN</td>\n      <td>NaN</td>\n      <td>NaN</td>\n      <td>NaN</td>\n    </tr>\n    <tr>\n      <th>...</th>\n      <td>...</td>\n      <td>...</td>\n      <td>...</td>\n      <td>...</td>\n    </tr>\n    <tr>\n      <th>9492</th>\n      <td>NaN</td>\n      <td>NaN</td>\n      <td>NaN</td>\n      <td>NaN</td>\n    </tr>\n    <tr>\n      <th>9505</th>\n      <td>NaN</td>\n      <td>NaN</td>\n      <td>NaN</td>\n      <td>NaN</td>\n    </tr>\n    <tr>\n      <th>9517</th>\n      <td>NaN</td>\n      <td>NaN</td>\n      <td>NaN</td>\n      <td>NaN</td>\n    </tr>\n    <tr>\n      <th>9519</th>\n      <td>NaN</td>\n      <td>NaN</td>\n      <td>NaN</td>\n      <td>NaN</td>\n    </tr>\n    <tr>\n      <th>9526</th>\n      <td>NaN</td>\n      <td>NaN</td>\n      <td>NaN</td>\n      <td>NaN</td>\n    </tr>\n  </tbody>\n</table>\n<p>445 rows × 4 columns</p>\n</div>"
     },
     "execution_count": 590,
     "metadata": {},
     "output_type": "execute_result"
    }
   ],
   "source": [
    "# #None 은 python singleton 객체 개념이다\n",
    "# #\n",
    "# X_test[X_test[nan_cols].isnull()][nan_cols]"
   ],
   "metadata": {
    "collapsed": false,
    "pycharm": {
     "name": "#%%\n"
    }
   }
  },
  {
   "cell_type": "code",
   "execution_count": null,
   "outputs": [],
   "source": [
    "# et_drop_cols\n",
    "#"
   ],
   "metadata": {
    "collapsed": false,
    "pycharm": {
     "name": "#%%\n"
    }
   }
  },
  {
   "cell_type": "code",
   "execution_count": null,
   "outputs": [],
   "source": [
    "# global_combo_score_soft = f1_score(y_test, combo_preds, average=\"macro\")\n",
    "# global_combo_score_soft"
   ],
   "metadata": {
    "collapsed": false,
    "pycharm": {
     "name": "#%%\n"
    }
   }
  },
  {
   "cell_type": "code",
   "execution_count": null,
   "outputs": [],
   "source": [
    "from keras.models import Sequential"
   ],
   "metadata": {
    "collapsed": false,
    "pycharm": {
     "name": "#%%\n"
    }
   }
  },
  {
   "cell_type": "code",
   "execution_count": 460,
   "outputs": [
    {
     "ename": "IndexError",
     "evalue": "only integers, slices (`:`), ellipsis (`...`), numpy.newaxis (`None`) and integer or boolean arrays are valid indices",
     "output_type": "error",
     "traceback": [
      "\u001B[0;31m---------------------------------------------------------------------------\u001B[0m",
      "\u001B[0;31mIndexError\u001B[0m                                Traceback (most recent call last)",
      "\u001B[0;32m/var/folders/c6/2j22b1rd02778st12c0mcr3w0000gn/T/ipykernel_83198/189459594.py\u001B[0m in \u001B[0;36m<module>\u001B[0;34m\u001B[0m\n\u001B[0;32m----> 1\u001B[0;31m \u001B[0mmax\u001B[0m\u001B[0;34m(\u001B[0m\u001B[0mx_ttt\u001B[0m\u001B[0;34m[\u001B[0m\u001B[0;34m'hacdor'\u001B[0m\u001B[0;34m]\u001B[0m\u001B[0;34m.\u001B[0m\u001B[0mvalues\u001B[0m\u001B[0;34m(\u001B[0m\u001B[0;34m)\u001B[0m\u001B[0;34m)\u001B[0m\u001B[0;34m\u001B[0m\u001B[0;34m\u001B[0m\u001B[0m\n\u001B[0m",
      "\u001B[0;31mIndexError\u001B[0m: only integers, slices (`:`), ellipsis (`...`), numpy.newaxis (`None`) and integer or boolean arrays are valid indices"
     ]
    }
   ],
   "source": [],
   "metadata": {
    "collapsed": false,
    "pycharm": {
     "name": "#%%\n"
    }
   }
  },
  {
   "cell_type": "code",
   "execution_count": 474,
   "outputs": [
    {
     "data": {
      "text/plain": "(2973, 11)"
     },
     "execution_count": 474,
     "metadata": {},
     "output_type": "execute_result"
    }
   ],
   "source": [
    "# y_ttt.shape"
   ],
   "metadata": {
    "collapsed": false,
    "pycharm": {
     "name": "#%%\n"
    }
   }
  },
  {
   "cell_type": "code",
   "execution_count": null,
   "outputs": [],
   "source": [
    "# for col in X_train.drop(et_drop_cols,axis=1).columns.tolist():\n",
    "#     print('col {} null sum : {}'.format(col,X_train[col].isnull().sum()))"
   ],
   "metadata": {
    "collapsed": false,
    "pycharm": {
     "name": "#%%\n"
    }
   }
  },
  {
   "cell_type": "code",
   "execution_count": 434,
   "outputs": [],
   "source": [
    "# et_drop_cols = [col for col in et_drop_cols if len(col)>1]"
   ],
   "metadata": {
    "collapsed": false,
    "pycharm": {
     "name": "#%%\n"
    }
   }
  },
  {
   "cell_type": "code",
   "execution_count": 435,
   "outputs": [
    {
     "data": {
      "text/plain": "['agg18_age_MAX',\n 'agg18_age_MEAN',\n 'agg18_age_MIN',\n 'agg18_dis_MEAN',\n 'agg18_escolari_MAX',\n 'agg18_escolari_MEAN',\n 'agg18_escolari_MIN',\n 'agg18_estadocivil1_COUNT',\n 'agg18_estadocivil1_MEAN',\n 'agg18_estadocivil2_COUNT',\n 'agg18_estadocivil2_MEAN',\n 'agg18_estadocivil3_COUNT',\n 'agg18_estadocivil3_MEAN',\n 'agg18_estadocivil4_COUNT',\n 'agg18_estadocivil4_MEAN',\n 'agg18_estadocivil5_COUNT',\n 'agg18_estadocivil5_MEAN',\n 'agg18_estadocivil6_COUNT',\n 'agg18_estadocivil6_MEAN',\n 'agg18_estadocivil7_COUNT',\n 'agg18_estadocivil7_MEAN',\n 'agg18_parentesco10_COUNT',\n 'agg18_parentesco10_MEAN',\n 'agg18_parentesco11_COUNT',\n 'agg18_parentesco11_MEAN',\n 'agg18_parentesco12_COUNT',\n 'agg18_parentesco12_MEAN',\n 'agg18_parentesco1_COUNT',\n 'agg18_parentesco1_MEAN',\n 'agg18_parentesco2_COUNT',\n 'agg18_parentesco2_MEAN',\n 'agg18_parentesco3_COUNT',\n 'agg18_parentesco3_MEAN',\n 'agg18_parentesco4_COUNT',\n 'agg18_parentesco4_MEAN',\n 'agg18_parentesco5_COUNT',\n 'agg18_parentesco5_MEAN',\n 'agg18_parentesco6_COUNT',\n 'agg18_parentesco6_MEAN',\n 'agg18_parentesco7_COUNT',\n 'agg18_parentesco7_MEAN',\n 'agg18_parentesco8_COUNT',\n 'agg18_parentesco8_MEAN',\n 'agg18_parentesco9_COUNT',\n 'agg18_parentesco9_MEAN',\n 'idhogar',\n 'parentesco1',\n 'fe_rent_per_person',\n 'fe_rent_per_room',\n 'fe_tablet_adult_density',\n 'idhogar',\n 'parentesco1',\n 'fe_rent_per_person',\n 'fe_rent_per_room',\n 'fe_tablet_adult_density',\n 'idhogar',\n 'parentesco1',\n 'fe_rent_per_person',\n 'fe_rent_per_room',\n 'fe_tablet_adult_density']"
     },
     "execution_count": 435,
     "metadata": {},
     "output_type": "execute_result"
    }
   ],
   "source": [
    "# et_drop_cols"
   ],
   "metadata": {
    "collapsed": false,
    "pycharm": {
     "name": "#%%\n"
    }
   }
  },
  {
   "cell_type": "code",
   "execution_count": 437,
   "outputs": [],
   "source": [
    "# et_drop_cols.extend(['fe_mobile_density'])"
   ],
   "metadata": {
    "collapsed": false,
    "pycharm": {
     "name": "#%%\n"
    }
   }
  },
  {
   "cell_type": "code",
   "execution_count": 340,
   "outputs": [],
   "source": [
    "# X_train_x = X_train.astype('float32')"
   ],
   "metadata": {
    "collapsed": false,
    "pycharm": {
     "name": "#%%\n"
    }
   }
  },
  {
   "cell_type": "code",
   "execution_count": null,
   "outputs": [],
   "source": [
    "#for i in range(10):\n",
    "#    print(sqrt(i ** 2))\n",
    "# 위의 코드를 cpu 를 적절히 할당해서 print lst할때 그 자체로 내부에서 병렬 처리해서 return 한다는 뜻이다. 결과가 같은게\n",
    "# 중요한게 아니라\n",
    "# 위 코드를 병렬처리할 수 있습니다.\n",
    "#\n",
    "# import time\n",
    "# from math import sqrt\n",
    "\n",
    "# 우선 병렬 처리를 위해서 Parallel를 가져옵니다.\n",
    "#\n",
    "# lst = Parallel(n_jobs=2,prefer=\"threads\")(delayed(sqrt)(i ** 2) for i in range(10))\n",
    "# print(lst)\n",
    "# Parallel delayed()\n",
    "# delayed(func)(parameters) func에 parameters 를 주고 n_jobs만큼의 cpu에 할당해서 처리하여 준다\n",
    "#\n",
    "# Parallel(n_jobs=self.n_jobs)(delayed(_parallel_fit_estimator)(clone(clf) , X, transformed_y))"
   ],
   "metadata": {
    "collapsed": false,
    "pycharm": {
     "name": "#%%#\n"
    }
   }
  },
  {
   "cell_type": "code",
   "execution_count": null,
   "outputs": [],
   "source": [
    "# # 의도치 않게 실행되지 않도록 raise, 넘어가는 것은 except\n",
    "# clf_final = vc.estimators_[0]"
   ],
   "metadata": {
    "collapsed": false,
    "pycharm": {
     "name": "#%%\n"
    }
   }
  },
  {
   "cell_type": "code",
   "execution_count": null,
   "outputs": [],
   "source": [
    "# ests = []\n",
    "#\n",
    "# for i in range():\n",
    "#     est = RandomForestClassifier(random_state=42+i , n_estimators=50,"
   ],
   "metadata": {
    "collapsed": false,
    "pycharm": {
     "name": "#%%\n"
    }
   }
  },
  {
   "cell_type": "code",
   "execution_count": null,
   "outputs": [],
   "source": [],
   "metadata": {
    "collapsed": false,
    "pycharm": {
     "name": "#%%\n"
    }
   }
  },
  {
   "cell_type": "code",
   "execution_count": null,
   "outputs": [],
   "source": [
    "# clf_final = vc.estimators[0]"
   ],
   "metadata": {
    "collapsed": false,
    "pycharm": {
     "name": "#%%\n"
    }
   }
  },
  {
   "cell_type": "code",
   "execution_count": null,
   "outputs": [],
   "source": [],
   "metadata": {
    "collapsed": false,
    "pycharm": {
     "name": "#%%\n"
    }
   }
  },
  {
   "cell_type": "code",
   "execution_count": null,
   "outputs": [],
   "source": [],
   "metadata": {
    "collapsed": false,
    "pycharm": {
     "name": "#%%\n"
    }
   }
  },
  {
   "cell_type": "code",
   "execution_count": null,
   "outputs": [],
   "source": [
    "\"\"\"\n",
    "2번째 필사적 필사는 조금 간격을 두고 진행해 보자\n",
    "\n",
    "\n",
    "The LightGBM models have been repalce with XGBoost and the code has been updated accordingly\n",
    "i am also fitting VotingClassifiers of RandomForests and ensembling the results of the XGBs with the RFs\n",
    "Some additional features have been added\n",
    "some features which were previously dropped have been retaied\n",
    "Some of the code has beedn reorganized\n",
    "#\n",
    "Rathar than splitting the data once and using the validation data for the LGBM early stopping , i split the data during the training so the enitre training set\n",
    "can be trained on . i found that this works better than a k-fold split in this case\n",
    "병렬 프로그래밍을 활용해서 트레이닝 중에 데이터 를 섞어서 모든 데이터가 트레이닝 되도록 했다\n",
    "\n",
    "Some additional features were taken from : url\n",
    "\n",
    "\n",
    "Notes from original Kernel\n",
    "\n",
    "\n",
    "this kernel closely follows url, but instead of running hyperparameter optimisation it\n",
    "uses optimal values from that kernel and thus runs fater\n",
    "Several key points\n",
    "\n",
    "\"\"\"\n"
   ],
   "metadata": {
    "collapsed": false,
    "pycharm": {
     "name": "#%%\n"
    }
   }
  }
 ],
 "metadata": {
  "kernelspec": {
   "name": "python3",
   "language": "python",
   "display_name": "Python 3 (ipykernel)"
  },
  "language_info": {
   "codemirror_mode": {
    "name": "ipython",
    "version": 2
   },
   "file_extension": ".py",
   "mimetype": "text/x-python",
   "name": "python",
   "nbconvert_exporter": "python",
   "pygments_lexer": "ipython2",
   "version": "2.7.6"
  }
 },
 "nbformat": 4,
 "nbformat_minor": 0
}