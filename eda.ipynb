{
 "cells": [
  {
   "cell_type": "code",
   "execution_count": null,
   "metadata": {
    "collapsed": true,
    "pycharm": {
     "name": "#%%\n"
    }
   },
   "outputs": [],
   "source": [
    "import matplotlib.pyplot as plt\n",
    "import seaborn as sns\n",
    "\n",
    "\n",
    "\n",
    "\n",
    "\n",
    "\n",
    "# 20대 , 30대 , 40대로 묶기\n",
    "fig , ax = plt.subplots(figsize=(15,7))\n",
    "ax = sns.histplot(data=dfi ,y= 'index_name', color= 'orange')\n",
    "ax.set_xlabel('count by index name')\n",
    "ax.set_ylabel('index name')\n",
    "plt.show()\n",
    "\n",
    "# 20 대 여성이 많은 것으로 추정, 일반적으로 그렇다 쇼핑은\n",
    "\n",
    "\n",
    "\n",
    "fig , ax = plt.subplots(figsize=(15,7))\n",
    "ax = sns.histplot(data=dfi ,y= 'garment_group_name', hue='index_group_name',multiple='stack',  color= 'orange')\n",
    "ax.set_xlabel('count by index name')\n",
    "ax.set_ylabel('index name')\n",
    "plt.show()"
   ]
  },
  {
   "cell_type": "code",
   "execution_count": null,
   "outputs": [],
   "source": [
    "all_product_group_vc = dfi[dfi.article_id.isin(df['article_id'].values.tolist())]['product_group_name'].value_counts()\n",
    "all_product_group_vc.index"
   ],
   "metadata": {
    "collapsed": false,
    "pycharm": {
     "name": "#%%\n"
    }
   }
  },
  {
   "cell_type": "code",
   "execution_count": null,
   "outputs": [],
   "source": [
    "\n",
    "def show_buy_group(df,exp_usr_id):\n",
    "\n",
    "    buy_items = df[df.customer_id == exp_usr_id]['article_id'].values.tolist()\n",
    "    # garment upper body 를 좋아하는 경향이 많다\n",
    "    buy_items_group = dfi[dfi.article_id.isin(buy_items)]['product_group_name'].values.tolist()\n",
    "\n",
    "    return print(buy_items_group)"
   ],
   "metadata": {
    "collapsed": false,
    "pycharm": {
     "name": "#%%\n"
    }
   }
  },
  {
   "cell_type": "code",
   "execution_count": null,
   "outputs": [],
   "source": [
    "\n",
    "def show_buy_ratio(df, exp_usr_id):\n",
    "\n",
    "    merge_data = df[df.customer_id == exp_usr_id].merge(\n",
    "        dfi[['article_id','prod_name','product_type_name','product_group_name','section_name']]\n",
    "        , on = 'article_id')\n",
    "\n",
    "    overall_buy_count = len(merge_data)\n",
    "\n",
    "    # Womens 의류 개수의 합\n",
    "    womens_ratio = merge_data.section_name.str.startswith('Womens').values.sum() / overall_buy_count\n",
    "\n",
    "    # Mens 의류 개수의 합\n",
    "    mens_ratio = merge_data.section_name.str.startswith('Mens').values.sum() / overall_buy_count\n",
    "\n",
    "    # 자녀의 옷을 산 기록, 옷의 특징\n",
    "    kids_ratio = merge_data.section_name.str.startswith(('Young Girl', 'Kids Girl')).values.sum() / overall_buy_count\n",
    "\n",
    "     #전체 구매 개수\n",
    "    # find duplicate buy item\n",
    "    group_data = merge_data.groupby(['prod_name','product_type_name']).count().reset_index()\n",
    "\n",
    "    duplicate_buy_items = group_data[group_data.article_id >1]['prod_name'].values\n",
    "\n",
    "    if len(duplicate_buy_items) >=1:\n",
    "        duplicate_ratio =  len(duplicate_buy_items)/overall_buy_count\n",
    "\n",
    "    return print(f'Womens Ratio : {womens_ratio} \\\\t Mens Ratio : {mens_ratio} \\t Kids Ratio : {kids_ratio} \\t    \\t Duplicate items : {duplicate_buy_items}')"
   ],
   "metadata": {
    "collapsed": false,
    "pycharm": {
     "name": "#%%\n"
    }
   }
  },
  {
   "cell_type": "code",
   "execution_count": null,
   "outputs": [],
   "source": [
    "def show_generation_prefer_group(gene_prod_group_vc, age):\n",
    "\n",
    "    trace = go.Bar(\n",
    "     x = gene_prod_group_vc.index,\n",
    "     y = gene_prod_group_vc.values,\n",
    "     marker = dict(\n",
    "         color = random_color_generator(100),\n",
    "         line = dict(color='rgb(8,48,107)',\n",
    "                     width = 1.5)\n",
    "         )\n",
    "    ,\n",
    "    opacity = 0.7\n",
    "     )\n",
    "\n",
    "    data = [trace]\n",
    "\n",
    "\n",
    "    layout = go.Layout(\n",
    "        title = f'{age} generation',\n",
    "        margin = dict(\n",
    "            l = 100\n",
    "        ),\n",
    "        xaxis = dict(\n",
    "            title = 'Genre'\n",
    "        ),\n",
    "        yaxis = dict(\n",
    "            title = 'Mean App size'\n",
    "        ),\n",
    "        width = 800,\n",
    "        height = 500\n",
    "    )\n",
    "\n",
    "    fig = go.Figure(data=data, layout=layout)\n",
    "    po.iplot(fig)"
   ],
   "metadata": {
    "collapsed": false,
    "pycharm": {
     "name": "#%%\n"
    }
   }
  },
  {
   "cell_type": "code",
   "execution_count": null,
   "outputs": [],
   "source": [
    "def show_buy_items(df, exp_usr_id):\n",
    "\n",
    "    data = df[df.customer_id ==exp_usr_id]\n",
    "\n",
    "    # 구매한 아이템 이미지\n",
    "    f, ax = plt.subplots(5, 5, figsize=(30,15))\n",
    "    i = 0\n",
    "    k = 0\n",
    "    for prod in data['article_id'].values.tolist():\n",
    "        desc = dfi[dfi['article_id'] ==  prod]['detail_desc'].iloc[0]\n",
    "        desc_list = desc.split(' ')\n",
    "\n",
    "        for j, elem in enumerate(desc_list):\n",
    "            if j > 0 and j % 5 == 0:\n",
    "                desc_list[j] = desc_list[j] + '\\n'\n",
    "        desc = ' '.join(desc_list)\n",
    "        section_nm = dfi[dfi['article_id'] ==  prod]['section_name'].iloc[0]\n",
    "        img = mpimg.imread(f'../input/h-and-m-personalized-fashion-recommendations/images/{str(prod)[:3]}/0{int(prod)}.jpg')\n",
    "        ax[i][k].imshow(img)\n",
    "        ax[i][k].set_title(f'price: {data.price.values[0]:.2f}')\n",
    "        ax[i][k].set_xticks([], [])\n",
    "        ax[i][k].set_yticks([], [])\n",
    "        ax[i][k].grid(False)\n",
    "        ax[i][k].set_xlabel(section_nm, fontsize=10)\n",
    "        k += 1\n",
    "        if k == 5:\n",
    "            k  = 0\n",
    "            i += 1\n",
    "    plt.axis('off')\n",
    "    plt.show()"
   ],
   "metadata": {
    "collapsed": false,
    "pycharm": {
     "name": "#%%\n"
    }
   }
  },
  {
   "cell_type": "code",
   "execution_count": null,
   "outputs": [],
   "source": [
    "def random_color_generator(number_of_colors):\n",
    "    color = [\"#\"+''.join([random.choice('0123456789ABCDEF') for j in range(6)])\n",
    "                 for i in range(number_of_colors)]\n",
    "    return color\n",
    "\n",
    "\n",
    "all_product_group_vc.values"
   ],
   "metadata": {
    "collapsed": false,
    "pycharm": {
     "name": "#%%\n"
    }
   }
  },
  {
   "cell_type": "code",
   "execution_count": null,
   "outputs": [],
   "source": [
    "# overall product_group_name\n",
    "# 상체에 관심이 많다 -> 모델 품질 측면에서는 diversity 한 추천 필요\n",
    "plt.figure(figsize=(30,10))\n",
    "plt.bar(x= all_product_group_vc.index, height=all_product_group_vc.values)\n",
    "plt.xticks(all_product_group_vc.index,rotation=45 , size=20)\n",
    "plt.show()"
   ],
   "metadata": {
    "collapsed": false,
    "pycharm": {
     "name": "#%%\n"
    }
   }
  },
  {
   "cell_type": "code",
   "execution_count": null,
   "outputs": [],
   "source": [
    "# generation popular item find\n",
    "gene_prod_list = df[df.customer_id.isin(globals()['90'])]['article_id'].drop_duplicates().values.tolist()\n",
    "dfi[dfi.article_id.isin(gene_prod_list)]['product_group_name']"
   ],
   "metadata": {
    "collapsed": false,
    "pycharm": {
     "name": "#%%\n"
    }
   }
  }
 ],
 "metadata": {
  "kernelspec": {
   "display_name": "Python 3",
   "language": "python",
   "name": "python3"
  },
  "language_info": {
   "codemirror_mode": {
    "name": "ipython",
    "version": 2
   },
   "file_extension": ".py",
   "mimetype": "text/x-python",
   "name": "python",
   "nbconvert_exporter": "python",
   "pygments_lexer": "ipython2",
   "version": "2.7.6"
  }
 },
 "nbformat": 4,
 "nbformat_minor": 0
}