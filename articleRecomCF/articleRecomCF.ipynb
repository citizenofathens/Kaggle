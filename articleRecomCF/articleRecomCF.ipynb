{
 "cells": [
  {
   "cell_type": "code",
   "execution_count": 2,
   "metadata": {
    "collapsed": true
   },
   "outputs": [],
   "source": [
    "import numpy as np\n",
    "import pandas as pd\n",
    "import scipy\n",
    "import math\n",
    "import random\n",
    "import sklearn\n",
    "from nltk.corpus import stopwords\n",
    "from scipy.sparse import csr_matrix\n",
    "from sklearn.model_selection import train_test_split\n",
    "from sklearn.feature_extraction.text import TfidfVectorizer\n",
    "from sklearn.metrics.pairwise import cosine_similarity\n",
    "from scipy.sparse.linalg import svds\n",
    "from sklearn.preprocessing import MinMaxScaler\n",
    "import matplotlib.pyplot as plt"
   ]
  },
  {
   "cell_type": "code",
   "execution_count": 3,
   "outputs": [
    {
     "data": {
      "text/plain": "    timestamp       eventType            contentId       authorPersonId  \\\n1  1459193988  CONTENT SHARED -4110354420726924665  4340306774493623681   \n2  1459194146  CONTENT SHARED -7292285110016212249  4340306774493623681   \n3  1459194474  CONTENT SHARED -6151852268067518688  3891637997717104548   \n4  1459194497  CONTENT SHARED  2448026894306402386  4340306774493623681   \n5  1459194522  CONTENT SHARED -2826566343807132236  4340306774493623681   \n\n       authorSessionId authorUserAgent authorRegion authorCountry contentType  \\\n1  8940341205206233829             NaN          NaN           NaN        HTML   \n2  8940341205206233829             NaN          NaN           NaN        HTML   \n3 -1457532940883382585             NaN          NaN           NaN        HTML   \n4  8940341205206233829             NaN          NaN           NaN        HTML   \n5  8940341205206233829             NaN          NaN           NaN        HTML   \n\n                                                 url  \\\n1  http://www.nytimes.com/2016/03/28/business/dea...   \n2  http://cointelegraph.com/news/bitcoin-future-w...   \n3  https://cloudplatform.googleblog.com/2016/03/G...   \n4  https://bitcoinmagazine.com/articles/ibm-wants...   \n5  http://www.coindesk.com/ieee-blockchain-oxford...   \n\n                                               title  \\\n1  Ethereum, a Virtual Currency, Enables Transact...   \n2  Bitcoin Future: When GBPcoin of Branson Wins O...   \n3                       Google Data Center 360° Tour   \n4  IBM Wants to \"Evolve the Internet\" With Blockc...   \n5  IEEE to Talk Blockchain at Cloud Computing Oxf...   \n\n                                                text lang  \n1  All of this work is still very early. The firs...   en  \n2  The alarm clock wakes me at 8:00 with stream o...   en  \n3  We're excited to share the Google Data Center ...   en  \n4  The Aite Group projects the blockchain market ...   en  \n5  One of the largest and oldest organizations fo...   en  ",
      "text/html": "<div>\n<style scoped>\n    .dataframe tbody tr th:only-of-type {\n        vertical-align: middle;\n    }\n\n    .dataframe tbody tr th {\n        vertical-align: top;\n    }\n\n    .dataframe thead th {\n        text-align: right;\n    }\n</style>\n<table border=\"1\" class=\"dataframe\">\n  <thead>\n    <tr style=\"text-align: right;\">\n      <th></th>\n      <th>timestamp</th>\n      <th>eventType</th>\n      <th>contentId</th>\n      <th>authorPersonId</th>\n      <th>authorSessionId</th>\n      <th>authorUserAgent</th>\n      <th>authorRegion</th>\n      <th>authorCountry</th>\n      <th>contentType</th>\n      <th>url</th>\n      <th>title</th>\n      <th>text</th>\n      <th>lang</th>\n    </tr>\n  </thead>\n  <tbody>\n    <tr>\n      <th>1</th>\n      <td>1459193988</td>\n      <td>CONTENT SHARED</td>\n      <td>-4110354420726924665</td>\n      <td>4340306774493623681</td>\n      <td>8940341205206233829</td>\n      <td>NaN</td>\n      <td>NaN</td>\n      <td>NaN</td>\n      <td>HTML</td>\n      <td>http://www.nytimes.com/2016/03/28/business/dea...</td>\n      <td>Ethereum, a Virtual Currency, Enables Transact...</td>\n      <td>All of this work is still very early. The firs...</td>\n      <td>en</td>\n    </tr>\n    <tr>\n      <th>2</th>\n      <td>1459194146</td>\n      <td>CONTENT SHARED</td>\n      <td>-7292285110016212249</td>\n      <td>4340306774493623681</td>\n      <td>8940341205206233829</td>\n      <td>NaN</td>\n      <td>NaN</td>\n      <td>NaN</td>\n      <td>HTML</td>\n      <td>http://cointelegraph.com/news/bitcoin-future-w...</td>\n      <td>Bitcoin Future: When GBPcoin of Branson Wins O...</td>\n      <td>The alarm clock wakes me at 8:00 with stream o...</td>\n      <td>en</td>\n    </tr>\n    <tr>\n      <th>3</th>\n      <td>1459194474</td>\n      <td>CONTENT SHARED</td>\n      <td>-6151852268067518688</td>\n      <td>3891637997717104548</td>\n      <td>-1457532940883382585</td>\n      <td>NaN</td>\n      <td>NaN</td>\n      <td>NaN</td>\n      <td>HTML</td>\n      <td>https://cloudplatform.googleblog.com/2016/03/G...</td>\n      <td>Google Data Center 360° Tour</td>\n      <td>We're excited to share the Google Data Center ...</td>\n      <td>en</td>\n    </tr>\n    <tr>\n      <th>4</th>\n      <td>1459194497</td>\n      <td>CONTENT SHARED</td>\n      <td>2448026894306402386</td>\n      <td>4340306774493623681</td>\n      <td>8940341205206233829</td>\n      <td>NaN</td>\n      <td>NaN</td>\n      <td>NaN</td>\n      <td>HTML</td>\n      <td>https://bitcoinmagazine.com/articles/ibm-wants...</td>\n      <td>IBM Wants to \"Evolve the Internet\" With Blockc...</td>\n      <td>The Aite Group projects the blockchain market ...</td>\n      <td>en</td>\n    </tr>\n    <tr>\n      <th>5</th>\n      <td>1459194522</td>\n      <td>CONTENT SHARED</td>\n      <td>-2826566343807132236</td>\n      <td>4340306774493623681</td>\n      <td>8940341205206233829</td>\n      <td>NaN</td>\n      <td>NaN</td>\n      <td>NaN</td>\n      <td>HTML</td>\n      <td>http://www.coindesk.com/ieee-blockchain-oxford...</td>\n      <td>IEEE to Talk Blockchain at Cloud Computing Oxf...</td>\n      <td>One of the largest and oldest organizations fo...</td>\n      <td>en</td>\n    </tr>\n  </tbody>\n</table>\n</div>"
     },
     "execution_count": 3,
     "metadata": {},
     "output_type": "execute_result"
    }
   ],
   "source": [
    "articles_df = pd.read_csv('C:\\\\Users\\\\tjdal\\\\PycharmProjects\\\\Kaggle\\\\articleRecomCF\\\\shared_articles.csv')\n",
    "articles_df = articles_df[articles_df['eventType'] == 'CONTENT SHARED']\n",
    "articles_df.head(5)"
   ],
   "metadata": {
    "collapsed": false,
    "pycharm": {
     "name": "#%%\n"
    }
   }
  },
  {
   "cell_type": "code",
   "execution_count": 4,
   "outputs": [
    {
     "data": {
      "text/plain": "    timestamp eventType            contentId             personId  \\\n0  1465413032      VIEW -3499919498720038879 -8845298781299428018   \n1  1465412560      VIEW  8890720798209849691 -1032019229384696495   \n2  1465416190      VIEW   310515487419366995 -1130272294246983140   \n3  1465413895    FOLLOW   310515487419366995   344280948527967603   \n4  1465412290      VIEW -7820640624231356730  -445337111692715325   \n5  1465413742      VIEW   310515487419366995 -8763398617720485024   \n6  1465415950      VIEW -8864073373672512525  3609194402293569455   \n7  1465415066      VIEW -1492913151930215984  4254153380739593270   \n8  1465413762      VIEW   310515487419366995   344280948527967603   \n9  1465413771      VIEW  3064370296170038610  3609194402293569455   \n\n             sessionId                                          userAgent  \\\n0  1264196770339959068                                                NaN   \n1  3621737643587579081  Mozilla/5.0 (Macintosh; Intel Mac OS X 10_11_2...   \n2  2631864456530402479                                                NaN   \n3 -3167637573980064150                                                NaN   \n4  5611481178424124714                                                NaN   \n5  1395789369402380392  Mozilla/5.0 (Windows NT 10.0; WOW64) AppleWebK...   \n6  1143207167886864524                                                NaN   \n7  8743229464706506141  Mozilla/5.0 (X11; Linux x86_64) AppleWebKit/53...   \n8 -3167637573980064150                                                NaN   \n9  1143207167886864524                                                NaN   \n\n  userRegion userCountry  \n0        NaN         NaN  \n1         NY          US  \n2        NaN         NaN  \n3        NaN         NaN  \n4        NaN         NaN  \n5         MG          BR  \n6        NaN         NaN  \n7         SP          BR  \n8        NaN         NaN  \n9        NaN         NaN  ",
      "text/html": "<div>\n<style scoped>\n    .dataframe tbody tr th:only-of-type {\n        vertical-align: middle;\n    }\n\n    .dataframe tbody tr th {\n        vertical-align: top;\n    }\n\n    .dataframe thead th {\n        text-align: right;\n    }\n</style>\n<table border=\"1\" class=\"dataframe\">\n  <thead>\n    <tr style=\"text-align: right;\">\n      <th></th>\n      <th>timestamp</th>\n      <th>eventType</th>\n      <th>contentId</th>\n      <th>personId</th>\n      <th>sessionId</th>\n      <th>userAgent</th>\n      <th>userRegion</th>\n      <th>userCountry</th>\n    </tr>\n  </thead>\n  <tbody>\n    <tr>\n      <th>0</th>\n      <td>1465413032</td>\n      <td>VIEW</td>\n      <td>-3499919498720038879</td>\n      <td>-8845298781299428018</td>\n      <td>1264196770339959068</td>\n      <td>NaN</td>\n      <td>NaN</td>\n      <td>NaN</td>\n    </tr>\n    <tr>\n      <th>1</th>\n      <td>1465412560</td>\n      <td>VIEW</td>\n      <td>8890720798209849691</td>\n      <td>-1032019229384696495</td>\n      <td>3621737643587579081</td>\n      <td>Mozilla/5.0 (Macintosh; Intel Mac OS X 10_11_2...</td>\n      <td>NY</td>\n      <td>US</td>\n    </tr>\n    <tr>\n      <th>2</th>\n      <td>1465416190</td>\n      <td>VIEW</td>\n      <td>310515487419366995</td>\n      <td>-1130272294246983140</td>\n      <td>2631864456530402479</td>\n      <td>NaN</td>\n      <td>NaN</td>\n      <td>NaN</td>\n    </tr>\n    <tr>\n      <th>3</th>\n      <td>1465413895</td>\n      <td>FOLLOW</td>\n      <td>310515487419366995</td>\n      <td>344280948527967603</td>\n      <td>-3167637573980064150</td>\n      <td>NaN</td>\n      <td>NaN</td>\n      <td>NaN</td>\n    </tr>\n    <tr>\n      <th>4</th>\n      <td>1465412290</td>\n      <td>VIEW</td>\n      <td>-7820640624231356730</td>\n      <td>-445337111692715325</td>\n      <td>5611481178424124714</td>\n      <td>NaN</td>\n      <td>NaN</td>\n      <td>NaN</td>\n    </tr>\n    <tr>\n      <th>5</th>\n      <td>1465413742</td>\n      <td>VIEW</td>\n      <td>310515487419366995</td>\n      <td>-8763398617720485024</td>\n      <td>1395789369402380392</td>\n      <td>Mozilla/5.0 (Windows NT 10.0; WOW64) AppleWebK...</td>\n      <td>MG</td>\n      <td>BR</td>\n    </tr>\n    <tr>\n      <th>6</th>\n      <td>1465415950</td>\n      <td>VIEW</td>\n      <td>-8864073373672512525</td>\n      <td>3609194402293569455</td>\n      <td>1143207167886864524</td>\n      <td>NaN</td>\n      <td>NaN</td>\n      <td>NaN</td>\n    </tr>\n    <tr>\n      <th>7</th>\n      <td>1465415066</td>\n      <td>VIEW</td>\n      <td>-1492913151930215984</td>\n      <td>4254153380739593270</td>\n      <td>8743229464706506141</td>\n      <td>Mozilla/5.0 (X11; Linux x86_64) AppleWebKit/53...</td>\n      <td>SP</td>\n      <td>BR</td>\n    </tr>\n    <tr>\n      <th>8</th>\n      <td>1465413762</td>\n      <td>VIEW</td>\n      <td>310515487419366995</td>\n      <td>344280948527967603</td>\n      <td>-3167637573980064150</td>\n      <td>NaN</td>\n      <td>NaN</td>\n      <td>NaN</td>\n    </tr>\n    <tr>\n      <th>9</th>\n      <td>1465413771</td>\n      <td>VIEW</td>\n      <td>3064370296170038610</td>\n      <td>3609194402293569455</td>\n      <td>1143207167886864524</td>\n      <td>NaN</td>\n      <td>NaN</td>\n      <td>NaN</td>\n    </tr>\n  </tbody>\n</table>\n</div>"
     },
     "execution_count": 4,
     "metadata": {},
     "output_type": "execute_result"
    }
   ],
   "source": [
    "interactions_df = pd.read_csv('C:\\\\Users\\\\tjdal\\\\PycharmProjects\\\\Kaggle\\\\articleRecomCF\\\\users_interactions.csv')\n",
    "interactions_df.head(10)"
   ],
   "metadata": {
    "collapsed": false,
    "pycharm": {
     "name": "#%%\n"
    }
   }
  },
  {
   "cell_type": "code",
   "execution_count": 6,
   "outputs": [],
   "source": [
    "evnet_type_strength = {\n",
    "\n",
    "    'VIEW' : 1.0 ,\n",
    "    'LIKE' : 2.0,\n",
    "    'BOOKMARK' : 2.5,\n",
    "    'FOLLOW' : 3.0,\n",
    "     'COMMENT CREATED' : 4.0,\n",
    "\n",
    "}"
   ],
   "metadata": {
    "collapsed": false,
    "pycharm": {
     "name": "#%%\n"
    }
   }
  },
  {
   "cell_type": "code",
   "execution_count": 7,
   "outputs": [],
   "source": [
    "interactions_df['eventStrength'] = interactions_df['eventType'].apply(lambda x: evnet_type_strength[x])"
   ],
   "metadata": {
    "collapsed": false,
    "pycharm": {
     "name": "#%%\n"
    }
   }
  },
  {
   "cell_type": "code",
   "execution_count": 10,
   "outputs": [
    {
     "data": {
      "text/plain": "        timestamp eventType            contentId             personId  \\\n0      1465413032      VIEW -3499919498720038879 -8845298781299428018   \n1      1465412560      VIEW  8890720798209849691 -1032019229384696495   \n2      1465416190      VIEW   310515487419366995 -1130272294246983140   \n3      1465413895    FOLLOW   310515487419366995   344280948527967603   \n4      1465412290      VIEW -7820640624231356730  -445337111692715325   \n...           ...       ...                  ...                  ...   \n72307  1485190425      LIKE -6590819806697898649 -9016528795238256703   \n72308  1485190425      VIEW -5813211845057621660   102305705598210278   \n72309  1485190072      VIEW -1999468346928419252 -9196668942822132778   \n72310  1485190434      VIEW -6590819806697898649 -9016528795238256703   \n72311  1485187988      VIEW  5669290109546991426  5713241217519616260   \n\n                 sessionId                                          userAgent  \\\n0      1264196770339959068                                                NaN   \n1      3621737643587579081  Mozilla/5.0 (Macintosh; Intel Mac OS X 10_11_2...   \n2      2631864456530402479                                                NaN   \n3     -3167637573980064150                                                NaN   \n4      5611481178424124714                                                NaN   \n...                    ...                                                ...   \n72307  8614469745607949425  Mozilla/5.0 (Macintosh; Intel Mac OS X 10_11_4...   \n72308  5527770709392883642  Mozilla/5.0 (X11; Linux x86_64) AppleWebKit/53...   \n72309 -8300596454915870873  Mozilla/5.0 (Windows NT 10.0; Win64; x64) Appl...   \n72310  8614469745607949425  Mozilla/5.0 (Macintosh; Intel Mac OS X 10_11_4...   \n72311  6704552481483665372  Mozilla/5.0 (Windows NT 10.0; WOW64) AppleWebK...   \n\n      userRegion userCountry  eventStrength  \n0            NaN         NaN            1.0  \n1             NY          US            1.0  \n2            NaN         NaN            1.0  \n3            NaN         NaN            3.0  \n4            NaN         NaN            1.0  \n...          ...         ...            ...  \n72307         MG          BR            2.0  \n72308         SP          BR            1.0  \n72309         SP          BR            1.0  \n72310         MG          BR            1.0  \n72311         MG          BR            1.0  \n\n[72312 rows x 9 columns]",
      "text/html": "<div>\n<style scoped>\n    .dataframe tbody tr th:only-of-type {\n        vertical-align: middle;\n    }\n\n    .dataframe tbody tr th {\n        vertical-align: top;\n    }\n\n    .dataframe thead th {\n        text-align: right;\n    }\n</style>\n<table border=\"1\" class=\"dataframe\">\n  <thead>\n    <tr style=\"text-align: right;\">\n      <th></th>\n      <th>timestamp</th>\n      <th>eventType</th>\n      <th>contentId</th>\n      <th>personId</th>\n      <th>sessionId</th>\n      <th>userAgent</th>\n      <th>userRegion</th>\n      <th>userCountry</th>\n      <th>eventStrength</th>\n    </tr>\n  </thead>\n  <tbody>\n    <tr>\n      <th>0</th>\n      <td>1465413032</td>\n      <td>VIEW</td>\n      <td>-3499919498720038879</td>\n      <td>-8845298781299428018</td>\n      <td>1264196770339959068</td>\n      <td>NaN</td>\n      <td>NaN</td>\n      <td>NaN</td>\n      <td>1.0</td>\n    </tr>\n    <tr>\n      <th>1</th>\n      <td>1465412560</td>\n      <td>VIEW</td>\n      <td>8890720798209849691</td>\n      <td>-1032019229384696495</td>\n      <td>3621737643587579081</td>\n      <td>Mozilla/5.0 (Macintosh; Intel Mac OS X 10_11_2...</td>\n      <td>NY</td>\n      <td>US</td>\n      <td>1.0</td>\n    </tr>\n    <tr>\n      <th>2</th>\n      <td>1465416190</td>\n      <td>VIEW</td>\n      <td>310515487419366995</td>\n      <td>-1130272294246983140</td>\n      <td>2631864456530402479</td>\n      <td>NaN</td>\n      <td>NaN</td>\n      <td>NaN</td>\n      <td>1.0</td>\n    </tr>\n    <tr>\n      <th>3</th>\n      <td>1465413895</td>\n      <td>FOLLOW</td>\n      <td>310515487419366995</td>\n      <td>344280948527967603</td>\n      <td>-3167637573980064150</td>\n      <td>NaN</td>\n      <td>NaN</td>\n      <td>NaN</td>\n      <td>3.0</td>\n    </tr>\n    <tr>\n      <th>4</th>\n      <td>1465412290</td>\n      <td>VIEW</td>\n      <td>-7820640624231356730</td>\n      <td>-445337111692715325</td>\n      <td>5611481178424124714</td>\n      <td>NaN</td>\n      <td>NaN</td>\n      <td>NaN</td>\n      <td>1.0</td>\n    </tr>\n    <tr>\n      <th>...</th>\n      <td>...</td>\n      <td>...</td>\n      <td>...</td>\n      <td>...</td>\n      <td>...</td>\n      <td>...</td>\n      <td>...</td>\n      <td>...</td>\n      <td>...</td>\n    </tr>\n    <tr>\n      <th>72307</th>\n      <td>1485190425</td>\n      <td>LIKE</td>\n      <td>-6590819806697898649</td>\n      <td>-9016528795238256703</td>\n      <td>8614469745607949425</td>\n      <td>Mozilla/5.0 (Macintosh; Intel Mac OS X 10_11_4...</td>\n      <td>MG</td>\n      <td>BR</td>\n      <td>2.0</td>\n    </tr>\n    <tr>\n      <th>72308</th>\n      <td>1485190425</td>\n      <td>VIEW</td>\n      <td>-5813211845057621660</td>\n      <td>102305705598210278</td>\n      <td>5527770709392883642</td>\n      <td>Mozilla/5.0 (X11; Linux x86_64) AppleWebKit/53...</td>\n      <td>SP</td>\n      <td>BR</td>\n      <td>1.0</td>\n    </tr>\n    <tr>\n      <th>72309</th>\n      <td>1485190072</td>\n      <td>VIEW</td>\n      <td>-1999468346928419252</td>\n      <td>-9196668942822132778</td>\n      <td>-8300596454915870873</td>\n      <td>Mozilla/5.0 (Windows NT 10.0; Win64; x64) Appl...</td>\n      <td>SP</td>\n      <td>BR</td>\n      <td>1.0</td>\n    </tr>\n    <tr>\n      <th>72310</th>\n      <td>1485190434</td>\n      <td>VIEW</td>\n      <td>-6590819806697898649</td>\n      <td>-9016528795238256703</td>\n      <td>8614469745607949425</td>\n      <td>Mozilla/5.0 (Macintosh; Intel Mac OS X 10_11_4...</td>\n      <td>MG</td>\n      <td>BR</td>\n      <td>1.0</td>\n    </tr>\n    <tr>\n      <th>72311</th>\n      <td>1485187988</td>\n      <td>VIEW</td>\n      <td>5669290109546991426</td>\n      <td>5713241217519616260</td>\n      <td>6704552481483665372</td>\n      <td>Mozilla/5.0 (Windows NT 10.0; WOW64) AppleWebK...</td>\n      <td>MG</td>\n      <td>BR</td>\n      <td>1.0</td>\n    </tr>\n  </tbody>\n</table>\n<p>72312 rows × 9 columns</p>\n</div>"
     },
     "execution_count": 10,
     "metadata": {},
     "output_type": "execute_result"
    }
   ],
   "source": [],
   "metadata": {
    "collapsed": false,
    "pycharm": {
     "name": "#%%\n"
    }
   }
  },
  {
   "cell_type": "code",
   "execution_count": null,
   "outputs": [],
   "source": [
    "users_interactions_count_df = interactions_df.groupby(['personId','contentId']).size().groupby('personId').size()"
   ],
   "metadata": {
    "collapsed": false,
    "pycharm": {
     "name": "#%%\n"
    }
   }
  },
  {
   "cell_type": "code",
   "execution_count": 9,
   "outputs": [
    {
     "name": "stdout",
     "output_type": "stream",
     "text": [
      "# users: 1895\n",
      " # users with at least 5 interactions :  1140\n"
     ]
    }
   ],
   "source": [
    "# 유저 SIZE 를 얻는다\n",
    "print('# users: %d' % len(users_interactions_count_df))\n",
    "\n",
    "# 5개 이상의 상호작용이 있는 유저 COLD START 문제 때문 . 해결 방법은 아님\n",
    "users_with_enough_interaction_df = users_interactions_count_df[users_interactions_count_df >= 5].reset_index()[['personId']]\n",
    "print(' # users with at least 5 interactions : % d' % len(users_with_enough_interaction_df))"
   ],
   "metadata": {
    "collapsed": false,
    "pycharm": {
     "name": "#%%\n"
    }
   }
  },
  {
   "cell_type": "code",
   "execution_count": 11,
   "outputs": [
    {
     "name": "stdout",
     "output_type": "stream",
     "text": [
      "# of interactions: 72312\n"
     ]
    }
   ],
   "source": [
    "\n",
    "print('# of interactions: %d' % len(interactions_df))"
   ],
   "metadata": {
    "collapsed": false,
    "pycharm": {
     "name": "#%%\n"
    }
   }
  },
  {
   "cell_type": "code",
   "execution_count": 14,
   "outputs": [
    {
     "name": "stdout",
     "output_type": "stream",
     "text": [
      "# of interactions from users with at least 5 interactions: 69868\n"
     ]
    }
   ],
   "source": [
    "interactions_from_selected_users_df = interactions_df.merge(users_with_enough_interaction_df,\n",
    "               how = 'right',\n",
    "              on = 'personId')\n",
    "print('# of interactions from users with at least 5 interactions: %d' % len(interactions_from_selected_users_df))"
   ],
   "metadata": {
    "collapsed": false,
    "pycharm": {
     "name": "#%%\n"
    }
   }
  },
  {
   "cell_type": "code",
   "execution_count": 16,
   "outputs": [],
   "source": [
    "def smooth_user_preference(x):\n",
    "    return math.log(1+x , 2)"
   ],
   "metadata": {
    "collapsed": false,
    "pycharm": {
     "name": "#%%\n"
    }
   }
  },
  {
   "cell_type": "code",
   "execution_count": 17,
   "outputs": [
    {
     "name": "stdout",
     "output_type": "stream",
     "text": [
      " # of unique user / item interactions: 39106 \n"
     ]
    },
    {
     "data": {
      "text/plain": "              personId            contentId  eventStrength\n0 -9223121837663643404 -8949113594875411859       1.000000\n1 -9223121837663643404 -8377626164558006982       1.000000\n2 -9223121837663643404 -8208801367848627943       1.000000\n3 -9223121837663643404 -8187220755213888616       1.000000\n4 -9223121837663643404 -7423191370472335463       3.169925\n5 -9223121837663643404 -7331393944609614247       1.000000\n6 -9223121837663643404 -6872546942144599345       1.000000\n7 -9223121837663643404 -6728844082024523434       1.000000\n8 -9223121837663643404 -6590819806697898649       1.000000\n9 -9223121837663643404 -6558712014192834002       1.584963",
      "text/html": "<div>\n<style scoped>\n    .dataframe tbody tr th:only-of-type {\n        vertical-align: middle;\n    }\n\n    .dataframe tbody tr th {\n        vertical-align: top;\n    }\n\n    .dataframe thead th {\n        text-align: right;\n    }\n</style>\n<table border=\"1\" class=\"dataframe\">\n  <thead>\n    <tr style=\"text-align: right;\">\n      <th></th>\n      <th>personId</th>\n      <th>contentId</th>\n      <th>eventStrength</th>\n    </tr>\n  </thead>\n  <tbody>\n    <tr>\n      <th>0</th>\n      <td>-9223121837663643404</td>\n      <td>-8949113594875411859</td>\n      <td>1.000000</td>\n    </tr>\n    <tr>\n      <th>1</th>\n      <td>-9223121837663643404</td>\n      <td>-8377626164558006982</td>\n      <td>1.000000</td>\n    </tr>\n    <tr>\n      <th>2</th>\n      <td>-9223121837663643404</td>\n      <td>-8208801367848627943</td>\n      <td>1.000000</td>\n    </tr>\n    <tr>\n      <th>3</th>\n      <td>-9223121837663643404</td>\n      <td>-8187220755213888616</td>\n      <td>1.000000</td>\n    </tr>\n    <tr>\n      <th>4</th>\n      <td>-9223121837663643404</td>\n      <td>-7423191370472335463</td>\n      <td>3.169925</td>\n    </tr>\n    <tr>\n      <th>5</th>\n      <td>-9223121837663643404</td>\n      <td>-7331393944609614247</td>\n      <td>1.000000</td>\n    </tr>\n    <tr>\n      <th>6</th>\n      <td>-9223121837663643404</td>\n      <td>-6872546942144599345</td>\n      <td>1.000000</td>\n    </tr>\n    <tr>\n      <th>7</th>\n      <td>-9223121837663643404</td>\n      <td>-6728844082024523434</td>\n      <td>1.000000</td>\n    </tr>\n    <tr>\n      <th>8</th>\n      <td>-9223121837663643404</td>\n      <td>-6590819806697898649</td>\n      <td>1.000000</td>\n    </tr>\n    <tr>\n      <th>9</th>\n      <td>-9223121837663643404</td>\n      <td>-6558712014192834002</td>\n      <td>1.584963</td>\n    </tr>\n  </tbody>\n</table>\n</div>"
     },
     "execution_count": 17,
     "metadata": {},
     "output_type": "execute_result"
    }
   ],
   "source": [
    "interactions_full_df = interactions_from_selected_users_df  \\\n",
    "                        .groupby(['personId', 'contentId'])['eventStrength'].sum() \\\n",
    "                        .apply(smooth_user_preference).reset_index()\n",
    "print(' # of unique user / item interactions: %d ' % len(interactions_full_df))\n",
    "interactions_full_df.head(10)\n",
    "\n",
    "# log transform to smooth the distribution"
   ],
   "metadata": {
    "collapsed": false,
    "pycharm": {
     "name": "#%%\n"
    }
   }
  },
  {
   "cell_type": "code",
   "execution_count": 18,
   "outputs": [],
   "source": [
    "# 비율을 똑같이 만든다\n",
    "# personid가 0 , 1 ,2  3개로 이루어져있고 각각이 10 50 40 의 비율을 차지한다면 같은 비율로 유지되면서 split 된다\n",
    "# stratify: default=None 입니다. classification을 다룰 때 매우 중요한 옵션값입니다. stratify 값을 target으로 지정해주면 각각의 class 비율(ratio)을 train / validation에 유지해 줍니다.\n",
    "# (한 쪽에 쏠려서 분배되는 것을 방지합니다) 만약 이 옵션을 지정해 주지 않고 classification 문제를 다룬다면, 성능의 차이가 많이 날 수 있습니다.\n",
    "interactions_train_df, interactions_test_df = train_test_split(interactions_full_df,\n",
    "                                   stratify=interactions_full_df['personId'],\n",
    "                                   test_size=0.20,\n",
    "                                   random_state=42)"
   ],
   "metadata": {
    "collapsed": false,
    "pycharm": {
     "name": "#%%\n"
    }
   }
  },
  {
   "cell_type": "code",
   "execution_count": 22,
   "outputs": [
    {
     "data": {
      "text/plain": "                  personId            contentId  eventStrength\n27854  3609194402293569455 -3482581255202910790       1.000000\n29859  3938645257702379823 -8159730897893673528       1.000000\n2360  -8417075466521236595 -6783772548752091658       1.000000\n2450  -8399605302938582500 -3716447017462787559       1.000000\n14584 -1684566741313744330  3367026768872537336       1.000000\n...                    ...                  ...            ...\n14146 -2050699458865052139  -993224631915984347       1.000000\n14467 -1836083230511905974  6797033574746412211       1.584963\n19022  -292717837486008213 -5386512752101672374       1.000000\n14556 -1684566741313744330 -5920475612630001479       1.000000\n21180   701021893037319987   -78667914647336721       1.584963\n\n[31284 rows x 3 columns]",
      "text/html": "<div>\n<style scoped>\n    .dataframe tbody tr th:only-of-type {\n        vertical-align: middle;\n    }\n\n    .dataframe tbody tr th {\n        vertical-align: top;\n    }\n\n    .dataframe thead th {\n        text-align: right;\n    }\n</style>\n<table border=\"1\" class=\"dataframe\">\n  <thead>\n    <tr style=\"text-align: right;\">\n      <th></th>\n      <th>personId</th>\n      <th>contentId</th>\n      <th>eventStrength</th>\n    </tr>\n  </thead>\n  <tbody>\n    <tr>\n      <th>27854</th>\n      <td>3609194402293569455</td>\n      <td>-3482581255202910790</td>\n      <td>1.000000</td>\n    </tr>\n    <tr>\n      <th>29859</th>\n      <td>3938645257702379823</td>\n      <td>-8159730897893673528</td>\n      <td>1.000000</td>\n    </tr>\n    <tr>\n      <th>2360</th>\n      <td>-8417075466521236595</td>\n      <td>-6783772548752091658</td>\n      <td>1.000000</td>\n    </tr>\n    <tr>\n      <th>2450</th>\n      <td>-8399605302938582500</td>\n      <td>-3716447017462787559</td>\n      <td>1.000000</td>\n    </tr>\n    <tr>\n      <th>14584</th>\n      <td>-1684566741313744330</td>\n      <td>3367026768872537336</td>\n      <td>1.000000</td>\n    </tr>\n    <tr>\n      <th>...</th>\n      <td>...</td>\n      <td>...</td>\n      <td>...</td>\n    </tr>\n    <tr>\n      <th>14146</th>\n      <td>-2050699458865052139</td>\n      <td>-993224631915984347</td>\n      <td>1.000000</td>\n    </tr>\n    <tr>\n      <th>14467</th>\n      <td>-1836083230511905974</td>\n      <td>6797033574746412211</td>\n      <td>1.584963</td>\n    </tr>\n    <tr>\n      <th>19022</th>\n      <td>-292717837486008213</td>\n      <td>-5386512752101672374</td>\n      <td>1.000000</td>\n    </tr>\n    <tr>\n      <th>14556</th>\n      <td>-1684566741313744330</td>\n      <td>-5920475612630001479</td>\n      <td>1.000000</td>\n    </tr>\n    <tr>\n      <th>21180</th>\n      <td>701021893037319987</td>\n      <td>-78667914647336721</td>\n      <td>1.584963</td>\n    </tr>\n  </tbody>\n</table>\n<p>31284 rows × 3 columns</p>\n</div>"
     },
     "execution_count": 22,
     "metadata": {},
     "output_type": "execute_result"
    }
   ],
   "source": [],
   "metadata": {
    "collapsed": false,
    "pycharm": {
     "name": "#%%\n"
    }
   }
  },
  {
   "cell_type": "code",
   "execution_count": null,
   "outputs": [],
   "source": [
    "print('# interactions on Train set: %d' % len(interactions_train_df))\n",
    "print('# interactions on Test set: %d' % len(interactions_test_df))"
   ],
   "metadata": {
    "collapsed": false,
    "pycharm": {
     "name": "#%%\n"
    }
   }
  },
  {
   "cell_type": "code",
   "execution_count": 20,
   "outputs": [],
   "source": [
    "#Indexing by personId to speed up the searches during evaluation\n",
    "interactions_full_indexed_df = interactions_full_df.set_index('personId')\n",
    "interactions_train_indexed_df = interactions_train_df.set_index('personId')\n",
    "interactions_test_indexed_df = interactions_test_df.set_index('personId')"
   ],
   "metadata": {
    "collapsed": false,
    "pycharm": {
     "name": "#%%\n"
    }
   }
  },
  {
   "cell_type": "code",
   "execution_count": 21,
   "outputs": [],
   "source": [
    "def get_items_interacted(person_id, interactions_df):\n",
    "    # Get the user's data and merge in the movie information.\n",
    "    interacted_items = interactions_df.loc[person_id]['contentId']\n",
    "    return set(interacted_items if type(interacted_items) == pd.Series else [interacted_items])"
   ],
   "metadata": {
    "collapsed": false,
    "pycharm": {
     "name": "#%%\n"
    }
   }
  },
  {
   "cell_type": "code",
   "execution_count": null,
   "outputs": [],
   "source": [],
   "metadata": {
    "collapsed": false,
    "pycharm": {
     "name": "#%%\n"
    }
   }
  }
 ],
 "metadata": {
  "kernelspec": {
   "display_name": "Python 3",
   "language": "python",
   "name": "python3"
  },
  "language_info": {
   "codemirror_mode": {
    "name": "ipython",
    "version": 2
   },
   "file_extension": ".py",
   "mimetype": "text/x-python",
   "name": "python",
   "nbconvert_exporter": "python",
   "pygments_lexer": "ipython2",
   "version": "2.7.6"
  }
 },
 "nbformat": 4,
 "nbformat_minor": 0
}