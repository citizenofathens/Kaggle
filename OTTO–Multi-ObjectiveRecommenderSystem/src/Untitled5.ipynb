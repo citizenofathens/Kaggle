{
 "nbformat": 4,
 "nbformat_minor": 0,
 "metadata": {
  "colab": {
   "provenance": [],
   "machine_shape": "hm"
  },
  "kernelspec": {
   "name": "python3",
   "display_name": "Python 3"
  },
  "language_info": {
   "name": "python"
  },
  "accelerator": "GPU",
  "gpuClass": "standard",
  "widgets": {
   "application/vnd.jupyter.widget-state+json": {
    "bc75dd11dd894e4880913353cfa36696": {
     "model_module": "@jupyter-widgets/controls",
     "model_name": "HBoxModel",
     "model_module_version": "1.5.0",
     "state": {
      "_dom_classes": [],
      "_model_module": "@jupyter-widgets/controls",
      "_model_module_version": "1.5.0",
      "_model_name": "HBoxModel",
      "_view_count": null,
      "_view_module": "@jupyter-widgets/controls",
      "_view_module_version": "1.5.0",
      "_view_name": "HBoxView",
      "box_style": "",
      "children": [
       "IPY_MODEL_0c211366b0ba45cd9da80fcc25a72c36",
       "IPY_MODEL_ff2718f7249b4c368140675b9a9f1478",
       "IPY_MODEL_0c3837b7480f4ac9b1eca7994d69499d"
      ],
      "layout": "IPY_MODEL_e17eda3791344f489e685cd8a535012f"
     }
    },
    "0c211366b0ba45cd9da80fcc25a72c36": {
     "model_module": "@jupyter-widgets/controls",
     "model_name": "HTMLModel",
     "model_module_version": "1.5.0",
     "state": {
      "_dom_classes": [],
      "_model_module": "@jupyter-widgets/controls",
      "_model_module_version": "1.5.0",
      "_model_name": "HTMLModel",
      "_view_count": null,
      "_view_module": "@jupyter-widgets/controls",
      "_view_module_version": "1.5.0",
      "_view_name": "HTMLView",
      "description": "",
      "description_tooltip": null,
      "layout": "IPY_MODEL_3ccc8378e05e42e7a078c1c2cc59e150",
      "placeholder": "​",
      "style": "IPY_MODEL_11a5e0350c09405e929a51497862bbc7",
      "value": "100%"
     }
    },
    "ff2718f7249b4c368140675b9a9f1478": {
     "model_module": "@jupyter-widgets/controls",
     "model_name": "FloatProgressModel",
     "model_module_version": "1.5.0",
     "state": {
      "_dom_classes": [],
      "_model_module": "@jupyter-widgets/controls",
      "_model_module_version": "1.5.0",
      "_model_name": "FloatProgressModel",
      "_view_count": null,
      "_view_module": "@jupyter-widgets/controls",
      "_view_module_version": "1.5.0",
      "_view_name": "ProgressView",
      "bar_style": "success",
      "description": "",
      "description_tooltip": null,
      "layout": "IPY_MODEL_e5ea5b859feb441c8857e598e679e1c4",
      "max": 150000,
      "min": 0,
      "orientation": "horizontal",
      "style": "IPY_MODEL_92e72a71422a425a97246a358e427378",
      "value": 150000
     }
    },
    "0c3837b7480f4ac9b1eca7994d69499d": {
     "model_module": "@jupyter-widgets/controls",
     "model_name": "HTMLModel",
     "model_module_version": "1.5.0",
     "state": {
      "_dom_classes": [],
      "_model_module": "@jupyter-widgets/controls",
      "_model_module_version": "1.5.0",
      "_model_name": "HTMLModel",
      "_view_count": null,
      "_view_module": "@jupyter-widgets/controls",
      "_view_module_version": "1.5.0",
      "_view_name": "HTMLView",
      "description": "",
      "description_tooltip": null,
      "layout": "IPY_MODEL_b0e905f43712490184564583b0507ac3",
      "placeholder": "​",
      "style": "IPY_MODEL_9fea7fc98c394b959bdb05867f582700",
      "value": " 150000/150000 [00:19&lt;00:00, 7840.56it/s]"
     }
    },
    "e17eda3791344f489e685cd8a535012f": {
     "model_module": "@jupyter-widgets/base",
     "model_name": "LayoutModel",
     "model_module_version": "1.2.0",
     "state": {
      "_model_module": "@jupyter-widgets/base",
      "_model_module_version": "1.2.0",
      "_model_name": "LayoutModel",
      "_view_count": null,
      "_view_module": "@jupyter-widgets/base",
      "_view_module_version": "1.2.0",
      "_view_name": "LayoutView",
      "align_content": null,
      "align_items": null,
      "align_self": null,
      "border": null,
      "bottom": null,
      "display": null,
      "flex": null,
      "flex_flow": null,
      "grid_area": null,
      "grid_auto_columns": null,
      "grid_auto_flow": null,
      "grid_auto_rows": null,
      "grid_column": null,
      "grid_gap": null,
      "grid_row": null,
      "grid_template_areas": null,
      "grid_template_columns": null,
      "grid_template_rows": null,
      "height": null,
      "justify_content": null,
      "justify_items": null,
      "left": null,
      "margin": null,
      "max_height": null,
      "max_width": null,
      "min_height": null,
      "min_width": null,
      "object_fit": null,
      "object_position": null,
      "order": null,
      "overflow": null,
      "overflow_x": null,
      "overflow_y": null,
      "padding": null,
      "right": null,
      "top": null,
      "visibility": null,
      "width": null
     }
    },
    "3ccc8378e05e42e7a078c1c2cc59e150": {
     "model_module": "@jupyter-widgets/base",
     "model_name": "LayoutModel",
     "model_module_version": "1.2.0",
     "state": {
      "_model_module": "@jupyter-widgets/base",
      "_model_module_version": "1.2.0",
      "_model_name": "LayoutModel",
      "_view_count": null,
      "_view_module": "@jupyter-widgets/base",
      "_view_module_version": "1.2.0",
      "_view_name": "LayoutView",
      "align_content": null,
      "align_items": null,
      "align_self": null,
      "border": null,
      "bottom": null,
      "display": null,
      "flex": null,
      "flex_flow": null,
      "grid_area": null,
      "grid_auto_columns": null,
      "grid_auto_flow": null,
      "grid_auto_rows": null,
      "grid_column": null,
      "grid_gap": null,
      "grid_row": null,
      "grid_template_areas": null,
      "grid_template_columns": null,
      "grid_template_rows": null,
      "height": null,
      "justify_content": null,
      "justify_items": null,
      "left": null,
      "margin": null,
      "max_height": null,
      "max_width": null,
      "min_height": null,
      "min_width": null,
      "object_fit": null,
      "object_position": null,
      "order": null,
      "overflow": null,
      "overflow_x": null,
      "overflow_y": null,
      "padding": null,
      "right": null,
      "top": null,
      "visibility": null,
      "width": null
     }
    },
    "11a5e0350c09405e929a51497862bbc7": {
     "model_module": "@jupyter-widgets/controls",
     "model_name": "DescriptionStyleModel",
     "model_module_version": "1.5.0",
     "state": {
      "_model_module": "@jupyter-widgets/controls",
      "_model_module_version": "1.5.0",
      "_model_name": "DescriptionStyleModel",
      "_view_count": null,
      "_view_module": "@jupyter-widgets/base",
      "_view_module_version": "1.2.0",
      "_view_name": "StyleView",
      "description_width": ""
     }
    },
    "e5ea5b859feb441c8857e598e679e1c4": {
     "model_module": "@jupyter-widgets/base",
     "model_name": "LayoutModel",
     "model_module_version": "1.2.0",
     "state": {
      "_model_module": "@jupyter-widgets/base",
      "_model_module_version": "1.2.0",
      "_model_name": "LayoutModel",
      "_view_count": null,
      "_view_module": "@jupyter-widgets/base",
      "_view_module_version": "1.2.0",
      "_view_name": "LayoutView",
      "align_content": null,
      "align_items": null,
      "align_self": null,
      "border": null,
      "bottom": null,
      "display": null,
      "flex": null,
      "flex_flow": null,
      "grid_area": null,
      "grid_auto_columns": null,
      "grid_auto_flow": null,
      "grid_auto_rows": null,
      "grid_column": null,
      "grid_gap": null,
      "grid_row": null,
      "grid_template_areas": null,
      "grid_template_columns": null,
      "grid_template_rows": null,
      "height": null,
      "justify_content": null,
      "justify_items": null,
      "left": null,
      "margin": null,
      "max_height": null,
      "max_width": null,
      "min_height": null,
      "min_width": null,
      "object_fit": null,
      "object_position": null,
      "order": null,
      "overflow": null,
      "overflow_x": null,
      "overflow_y": null,
      "padding": null,
      "right": null,
      "top": null,
      "visibility": null,
      "width": null
     }
    },
    "92e72a71422a425a97246a358e427378": {
     "model_module": "@jupyter-widgets/controls",
     "model_name": "ProgressStyleModel",
     "model_module_version": "1.5.0",
     "state": {
      "_model_module": "@jupyter-widgets/controls",
      "_model_module_version": "1.5.0",
      "_model_name": "ProgressStyleModel",
      "_view_count": null,
      "_view_module": "@jupyter-widgets/base",
      "_view_module_version": "1.2.0",
      "_view_name": "StyleView",
      "bar_color": null,
      "description_width": ""
     }
    },
    "b0e905f43712490184564583b0507ac3": {
     "model_module": "@jupyter-widgets/base",
     "model_name": "LayoutModel",
     "model_module_version": "1.2.0",
     "state": {
      "_model_module": "@jupyter-widgets/base",
      "_model_module_version": "1.2.0",
      "_model_name": "LayoutModel",
      "_view_count": null,
      "_view_module": "@jupyter-widgets/base",
      "_view_module_version": "1.2.0",
      "_view_name": "LayoutView",
      "align_content": null,
      "align_items": null,
      "align_self": null,
      "border": null,
      "bottom": null,
      "display": null,
      "flex": null,
      "flex_flow": null,
      "grid_area": null,
      "grid_auto_columns": null,
      "grid_auto_flow": null,
      "grid_auto_rows": null,
      "grid_column": null,
      "grid_gap": null,
      "grid_row": null,
      "grid_template_areas": null,
      "grid_template_columns": null,
      "grid_template_rows": null,
      "height": null,
      "justify_content": null,
      "justify_items": null,
      "left": null,
      "margin": null,
      "max_height": null,
      "max_width": null,
      "min_height": null,
      "min_width": null,
      "object_fit": null,
      "object_position": null,
      "order": null,
      "overflow": null,
      "overflow_x": null,
      "overflow_y": null,
      "padding": null,
      "right": null,
      "top": null,
      "visibility": null,
      "width": null
     }
    },
    "9fea7fc98c394b959bdb05867f582700": {
     "model_module": "@jupyter-widgets/controls",
     "model_name": "DescriptionStyleModel",
     "model_module_version": "1.5.0",
     "state": {
      "_model_module": "@jupyter-widgets/controls",
      "_model_module_version": "1.5.0",
      "_model_name": "DescriptionStyleModel",
      "_view_count": null,
      "_view_module": "@jupyter-widgets/base",
      "_view_module_version": "1.2.0",
      "_view_name": "StyleView",
      "description_width": ""
     }
    },
    "5549f29063444a2ea4faaa0e4231712b": {
     "model_module": "@jupyter-widgets/controls",
     "model_name": "HBoxModel",
     "model_module_version": "1.5.0",
     "state": {
      "_dom_classes": [],
      "_model_module": "@jupyter-widgets/controls",
      "_model_module_version": "1.5.0",
      "_model_name": "HBoxModel",
      "_view_count": null,
      "_view_module": "@jupyter-widgets/controls",
      "_view_module_version": "1.5.0",
      "_view_name": "HBoxView",
      "box_style": "",
      "children": [
       "IPY_MODEL_d8a7da7da588478f8c7e1e4f158cb056",
       "IPY_MODEL_86c02c7465d2494992653da2e3492e7d",
       "IPY_MODEL_4ad2b7ebfbb8478a8b73e167f1f3758e"
      ],
      "layout": "IPY_MODEL_751b2239b5c8472287c1279a9ac50d14"
     }
    },
    "d8a7da7da588478f8c7e1e4f158cb056": {
     "model_module": "@jupyter-widgets/controls",
     "model_name": "HTMLModel",
     "model_module_version": "1.5.0",
     "state": {
      "_dom_classes": [],
      "_model_module": "@jupyter-widgets/controls",
      "_model_module_version": "1.5.0",
      "_model_name": "HTMLModel",
      "_view_count": null,
      "_view_module": "@jupyter-widgets/controls",
      "_view_module_version": "1.5.0",
      "_view_name": "HTMLView",
      "description": "",
      "description_tooltip": null,
      "layout": "IPY_MODEL_7c23f7853e3a4b36b00f457e97eacb02",
      "placeholder": "​",
      "style": "IPY_MODEL_5979fd5bd5114a1d813ce0e50604ca1b",
      "value": ""
     }
    },
    "86c02c7465d2494992653da2e3492e7d": {
     "model_module": "@jupyter-widgets/controls",
     "model_name": "FloatProgressModel",
     "model_module_version": "1.5.0",
     "state": {
      "_dom_classes": [],
      "_model_module": "@jupyter-widgets/controls",
      "_model_module_version": "1.5.0",
      "_model_name": "FloatProgressModel",
      "_view_count": null,
      "_view_module": "@jupyter-widgets/controls",
      "_view_module_version": "1.5.0",
      "_view_name": "ProgressView",
      "bar_style": "success",
      "description": "",
      "description_tooltip": null,
      "layout": "IPY_MODEL_3a25adc8b9f048ddbceb7a39b62cf096",
      "max": 1671,
      "min": 0,
      "orientation": "horizontal",
      "style": "IPY_MODEL_bab90dfcf9dc483f938e258ddcb2463a",
      "value": 1671
     }
    },
    "4ad2b7ebfbb8478a8b73e167f1f3758e": {
     "model_module": "@jupyter-widgets/controls",
     "model_name": "HTMLModel",
     "model_module_version": "1.5.0",
     "state": {
      "_dom_classes": [],
      "_model_module": "@jupyter-widgets/controls",
      "_model_module_version": "1.5.0",
      "_model_name": "HTMLModel",
      "_view_count": null,
      "_view_module": "@jupyter-widgets/controls",
      "_view_module_version": "1.5.0",
      "_view_name": "HTMLView",
      "description": "",
      "description_tooltip": null,
      "layout": "IPY_MODEL_8a1830fd0d1c44d8ba0842e7f947f906",
      "placeholder": "​",
      "style": "IPY_MODEL_56db5216cbc242fca1cdd1ad17c7beb9",
      "value": " 1672/? [03:22&lt;00:00, 10.58it/s]"
     }
    },
    "751b2239b5c8472287c1279a9ac50d14": {
     "model_module": "@jupyter-widgets/base",
     "model_name": "LayoutModel",
     "model_module_version": "1.2.0",
     "state": {
      "_model_module": "@jupyter-widgets/base",
      "_model_module_version": "1.2.0",
      "_model_name": "LayoutModel",
      "_view_count": null,
      "_view_module": "@jupyter-widgets/base",
      "_view_module_version": "1.2.0",
      "_view_name": "LayoutView",
      "align_content": null,
      "align_items": null,
      "align_self": null,
      "border": null,
      "bottom": null,
      "display": null,
      "flex": null,
      "flex_flow": null,
      "grid_area": null,
      "grid_auto_columns": null,
      "grid_auto_flow": null,
      "grid_auto_rows": null,
      "grid_column": null,
      "grid_gap": null,
      "grid_row": null,
      "grid_template_areas": null,
      "grid_template_columns": null,
      "grid_template_rows": null,
      "height": null,
      "justify_content": null,
      "justify_items": null,
      "left": null,
      "margin": null,
      "max_height": null,
      "max_width": null,
      "min_height": null,
      "min_width": null,
      "object_fit": null,
      "object_position": null,
      "order": null,
      "overflow": null,
      "overflow_x": null,
      "overflow_y": null,
      "padding": null,
      "right": null,
      "top": null,
      "visibility": null,
      "width": null
     }
    },
    "7c23f7853e3a4b36b00f457e97eacb02": {
     "model_module": "@jupyter-widgets/base",
     "model_name": "LayoutModel",
     "model_module_version": "1.2.0",
     "state": {
      "_model_module": "@jupyter-widgets/base",
      "_model_module_version": "1.2.0",
      "_model_name": "LayoutModel",
      "_view_count": null,
      "_view_module": "@jupyter-widgets/base",
      "_view_module_version": "1.2.0",
      "_view_name": "LayoutView",
      "align_content": null,
      "align_items": null,
      "align_self": null,
      "border": null,
      "bottom": null,
      "display": null,
      "flex": null,
      "flex_flow": null,
      "grid_area": null,
      "grid_auto_columns": null,
      "grid_auto_flow": null,
      "grid_auto_rows": null,
      "grid_column": null,
      "grid_gap": null,
      "grid_row": null,
      "grid_template_areas": null,
      "grid_template_columns": null,
      "grid_template_rows": null,
      "height": null,
      "justify_content": null,
      "justify_items": null,
      "left": null,
      "margin": null,
      "max_height": null,
      "max_width": null,
      "min_height": null,
      "min_width": null,
      "object_fit": null,
      "object_position": null,
      "order": null,
      "overflow": null,
      "overflow_x": null,
      "overflow_y": null,
      "padding": null,
      "right": null,
      "top": null,
      "visibility": null,
      "width": null
     }
    },
    "5979fd5bd5114a1d813ce0e50604ca1b": {
     "model_module": "@jupyter-widgets/controls",
     "model_name": "DescriptionStyleModel",
     "model_module_version": "1.5.0",
     "state": {
      "_model_module": "@jupyter-widgets/controls",
      "_model_module_version": "1.5.0",
      "_model_name": "DescriptionStyleModel",
      "_view_count": null,
      "_view_module": "@jupyter-widgets/base",
      "_view_module_version": "1.2.0",
      "_view_name": "StyleView",
      "description_width": ""
     }
    },
    "3a25adc8b9f048ddbceb7a39b62cf096": {
     "model_module": "@jupyter-widgets/base",
     "model_name": "LayoutModel",
     "model_module_version": "1.2.0",
     "state": {
      "_model_module": "@jupyter-widgets/base",
      "_model_module_version": "1.2.0",
      "_model_name": "LayoutModel",
      "_view_count": null,
      "_view_module": "@jupyter-widgets/base",
      "_view_module_version": "1.2.0",
      "_view_name": "LayoutView",
      "align_content": null,
      "align_items": null,
      "align_self": null,
      "border": null,
      "bottom": null,
      "display": null,
      "flex": null,
      "flex_flow": null,
      "grid_area": null,
      "grid_auto_columns": null,
      "grid_auto_flow": null,
      "grid_auto_rows": null,
      "grid_column": null,
      "grid_gap": null,
      "grid_row": null,
      "grid_template_areas": null,
      "grid_template_columns": null,
      "grid_template_rows": null,
      "height": null,
      "justify_content": null,
      "justify_items": null,
      "left": null,
      "margin": null,
      "max_height": null,
      "max_width": null,
      "min_height": null,
      "min_width": null,
      "object_fit": null,
      "object_position": null,
      "order": null,
      "overflow": null,
      "overflow_x": null,
      "overflow_y": null,
      "padding": null,
      "right": null,
      "top": null,
      "visibility": null,
      "width": null
     }
    },
    "bab90dfcf9dc483f938e258ddcb2463a": {
     "model_module": "@jupyter-widgets/controls",
     "model_name": "ProgressStyleModel",
     "model_module_version": "1.5.0",
     "state": {
      "_model_module": "@jupyter-widgets/controls",
      "_model_module_version": "1.5.0",
      "_model_name": "ProgressStyleModel",
      "_view_count": null,
      "_view_module": "@jupyter-widgets/base",
      "_view_module_version": "1.2.0",
      "_view_name": "StyleView",
      "bar_color": null,
      "description_width": ""
     }
    },
    "8a1830fd0d1c44d8ba0842e7f947f906": {
     "model_module": "@jupyter-widgets/base",
     "model_name": "LayoutModel",
     "model_module_version": "1.2.0",
     "state": {
      "_model_module": "@jupyter-widgets/base",
      "_model_module_version": "1.2.0",
      "_model_name": "LayoutModel",
      "_view_count": null,
      "_view_module": "@jupyter-widgets/base",
      "_view_module_version": "1.2.0",
      "_view_name": "LayoutView",
      "align_content": null,
      "align_items": null,
      "align_self": null,
      "border": null,
      "bottom": null,
      "display": null,
      "flex": null,
      "flex_flow": null,
      "grid_area": null,
      "grid_auto_columns": null,
      "grid_auto_flow": null,
      "grid_auto_rows": null,
      "grid_column": null,
      "grid_gap": null,
      "grid_row": null,
      "grid_template_areas": null,
      "grid_template_columns": null,
      "grid_template_rows": null,
      "height": null,
      "justify_content": null,
      "justify_items": null,
      "left": null,
      "margin": null,
      "max_height": null,
      "max_width": null,
      "min_height": null,
      "min_width": null,
      "object_fit": null,
      "object_position": null,
      "order": null,
      "overflow": null,
      "overflow_x": null,
      "overflow_y": null,
      "padding": null,
      "right": null,
      "top": null,
      "visibility": null,
      "width": null
     }
    },
    "56db5216cbc242fca1cdd1ad17c7beb9": {
     "model_module": "@jupyter-widgets/controls",
     "model_name": "DescriptionStyleModel",
     "model_module_version": "1.5.0",
     "state": {
      "_model_module": "@jupyter-widgets/controls",
      "_model_module_version": "1.5.0",
      "_model_name": "DescriptionStyleModel",
      "_view_count": null,
      "_view_module": "@jupyter-widgets/base",
      "_view_module_version": "1.2.0",
      "_view_name": "StyleView",
      "description_width": ""
     }
    }
   }
  }
 },
 "cells": [
  {
   "cell_type": "code",
   "execution_count": 3,
   "outputs": [
    {
     "output_type": "stream",
     "name": "stdout",
     "text": [
      "Looking in indexes: https://pypi.org/simple, https://us-python.pkg.dev/colab-wheels/public/simple/\n",
      "Requirement already satisfied: kaggle in /usr/local/lib/python3.7/dist-packages (1.5.12)\n",
      "Requirement already satisfied: python-slugify in /usr/local/lib/python3.7/dist-packages (from kaggle) (6.1.2)\n",
      "Requirement already satisfied: python-dateutil in /usr/local/lib/python3.7/dist-packages (from kaggle) (2.8.2)\n",
      "Requirement already satisfied: requests in /usr/local/lib/python3.7/dist-packages (from kaggle) (2.23.0)\n",
      "Requirement already satisfied: urllib3 in /usr/local/lib/python3.7/dist-packages (from kaggle) (1.24.3)\n",
      "Requirement already satisfied: tqdm in /usr/local/lib/python3.7/dist-packages (from kaggle) (4.64.1)\n",
      "Requirement already satisfied: six>=1.10 in /usr/local/lib/python3.7/dist-packages (from kaggle) (1.15.0)\n",
      "Requirement already satisfied: certifi in /usr/local/lib/python3.7/dist-packages (from kaggle) (2022.9.24)\n",
      "Requirement already satisfied: text-unidecode>=1.3 in /usr/local/lib/python3.7/dist-packages (from python-slugify->kaggle) (1.3)\n",
      "Requirement already satisfied: chardet<4,>=3.0.2 in /usr/local/lib/python3.7/dist-packages (from requests->kaggle) (3.0.4)\n",
      "Requirement already satisfied: idna<3,>=2.5 in /usr/local/lib/python3.7/dist-packages (from requests->kaggle) (2.10)\n"
     ]
    }
   ],
   "source": [
    "!pip install kaggle"
   ],
   "metadata": {
    "collapsed": false,
    "pycharm": {
     "name": "#%%\n"
    }
   }
  },
  {
   "cell_type": "code",
   "execution_count": 4,
   "outputs": [
    {
     "output_type": "stream",
     "name": "stdout",
     "text": [
      "/bin/bash: line 0: cd: /root/.kaggle: No such file or directory\n"
     ]
    }
   ],
   "source": [
    "!cd ~/.kaggle"
   ],
   "metadata": {
    "collapsed": false,
    "pycharm": {
     "name": "#%%\n"
    }
   }
  },
  {
   "cell_type": "code",
   "execution_count": 5,
   "outputs": [],
   "source": [
    "import numpy as np"
   ],
   "metadata": {
    "collapsed": false,
    "pycharm": {
     "name": "#%%\n"
    }
   }
  },
  {
   "cell_type": "code",
   "execution_count": 9,
   "outputs": [],
   "source": [
    "unique_val = np.array(A)"
   ],
   "metadata": {
    "collapsed": false,
    "pycharm": {
     "name": "#%%\n"
    }
   }
  },
  {
   "cell_type": "code",
   "execution_count": 11,
   "outputs": [],
   "source": [
    "vals = np.unique(unique_val)\n",
    "for val in vals:\n",
    "    if A.count(val) % 2 ==0:\n",
    "        pass\n",
    "    else:\n",
    "        print(A[A.index(val)])\n",
    "\n"
   ],
   "metadata": {
    "collapsed": false,
    "pycharm": {
     "name": "#%%\n"
    }
   }
  },
  {
   "cell_type": "code",
   "execution_count": 31,
   "outputs": [],
   "source": [
    "A= [9, 3, 9, 3, 9, 7, 9]\n",
    "pair_dict = {}\n",
    "for val in A:\n",
    "    if val in pair_dict.keys():# 존재한다는 것은 몇 개가 있는 지를 모른다, 단락 평가\n",
    "        pair_dict[val] += 1\n",
    "        if pair_dict[val] % 2 ==0:\n",
    "            # pair가 `다 맞으면 `키 삭제\n",
    "            del pair_dict[val]\n",
    "    else:\n",
    "        pair_dict[val] = 1"
   ],
   "metadata": {
    "collapsed": false,
    "pycharm": {
     "name": "#%%\n"
    }
   }
  },
  {
   "cell_type": "code",
   "execution_count": 33,
   "outputs": [],
   "source": [],
   "metadata": {
    "collapsed": false,
    "pycharm": {
     "name": "#%%\n"
    }
   }
  },
  {
   "cell_type": "code",
   "execution_count": 154,
   "outputs": [
    {
     "data": {
      "text/plain": "'3people'"
     },
     "execution_count": 154,
     "metadata": {},
     "output_type": "execute_result"
    }
   ],
   "source": [
    "str.lower(a)\n",
    "# 문자열 길이 0이 아닌 지 체크하기 ,항상 타입 검사 필요\n",
    "# 공백 문자가 문제일 듯 하다 예상되는 에러 지점을 파고들기\n",
    "# 앞에 공백을 추가할 경우는"
   ],
   "metadata": {
    "collapsed": false,
    "pycharm": {
     "name": "#%%\n"
    }
   }
  },
  {
   "cell_type": "code",
   "execution_count": null,
   "outputs": [],
   "source": [],
   "metadata": {
    "collapsed": false,
    "pycharm": {
     "name": "#%%\n"
    }
   }
  },
  {
   "cell_type": "code",
   "execution_count": null,
   "outputs": [],
   "source": [],
   "metadata": {
    "collapsed": false,
    "pycharm": {
     "name": "#%%\n"
    }
   }
  },
  {
   "cell_type": "code",
   "execution_count": null,
   "outputs": [],
   "source": [
    "def solution(s):\n",
    "    answer = ''\n",
    "    str_list = s.split(\" \")\n",
    "    for unit in str_list:\n",
    "        if (len(unit) != 0) and str.isalpha(unit[0]):\n",
    "            add_str = str.upper(unit[0]) + str.lower(unit[1:]) +' '\n",
    "        else:\n",
    "            add_str = str.lower(unit)+' '\n",
    "        answer += add_str\n",
    "    return answer[:-1]"
   ],
   "metadata": {
    "collapsed": false,
    "pycharm": {
     "name": "#%%\n"
    }
   }
  },
  {
   "cell_type": "code",
   "execution_count": 32,
   "outputs": [
    {
     "data": {
      "text/plain": "{7: 1}"
     },
     "execution_count": 32,
     "metadata": {},
     "output_type": "execute_result"
    }
   ],
   "source": [
    "pair_dict"
   ],
   "metadata": {
    "collapsed": false,
    "pycharm": {
     "name": "#%%\n"
    }
   }
  },
  {
   "cell_type": "code",
   "execution_count": 16,
   "outputs": [],
   "source": [
    "\n",
    "def solution(A):\n",
    "    # write your code in Python 3.8.10\n",
    "\n",
    "    # 짝이 없는 요소 값을 반환하는 효율적인 알고리즘\n",
    "    # unique를 한 후 count 를 한다\n",
    "\n",
    "    pair_dict = {}\n",
    "    candidates = []\n",
    "    for val in A:\n",
    "        if not val in pair_dict.keys():\n",
    "            pair_dict[val] = 1\n",
    "            candidates.append(val)\n",
    "        if val in pair_dict.keys():\n",
    "\n",
    "            pair_dict[val] += 1\n",
    "            candidates.remove(val)\n",
    "            del pair_dict[val]\n",
    "\n",
    "    return candidates[0]\n",
    "\n"
   ],
   "metadata": {
    "collapsed": false,
    "pycharm": {
     "name": "#%%\n"
    }
   }
  },
  {
   "cell_type": "code",
   "execution_count": 78,
   "outputs": [],
   "source": [
    "solution = lambda t, l =[]:max(l) if not t else solution()"
   ],
   "metadata": {
    "collapsed": false,
    "pycharm": {
     "name": "#%%\n"
    }
   }
  },
  {
   "cell_type": "code",
   "execution_count": null,
   "outputs": [],
   "source": [
    "# l 은 list를 받아야한다는 l = []: max(l) 은 list를 받아야 한다는 뜻"
   ],
   "metadata": {
    "collapsed": false,
    "pycharm": {
     "name": "#%%\n"
    }
   }
  },
  {
   "cell_type": "code",
   "execution_count": 99,
   "outputs": [],
   "source": [
    "# 디테일한 개념인 단락평가로 읽어나가면\n",
    "# max(l) if not t 이게 종료조건\n",
    "# l =[] 는 타입 명시\n",
    "solution = lambda t, l = []: max(l) if not t else solution(t[1:], [max(x,y)+z for x,y,z in zip([0]+l, l+[0], t[0])])"
   ],
   "metadata": {
    "collapsed": false,
    "pycharm": {
     "name": "#%%\n"
    }
   }
  },
  {
   "cell_type": "code",
   "execution_count": 151,
   "outputs": [
    {
     "data": {
      "text/plain": "([[2, 3]], [7])"
     },
     "execution_count": 151,
     "metadata": {},
     "output_type": "execute_result"
    }
   ],
   "source": [
    "t[1:], [max(x,y) +z for x,y,z in zip([0] +[], []+[0] ,t[0])]"
   ],
   "metadata": {
    "collapsed": false,
    "pycharm": {
     "name": "#%%\n"
    }
   }
  },
  {
   "cell_type": "code",
   "execution_count": 153,
   "outputs": [
    {
     "data": {
      "text/plain": "([], [9, 10])"
     },
     "execution_count": 153,
     "metadata": {},
     "output_type": "execute_result"
    }
   ],
   "source": [
    "#\n",
    "# 다시 한번 solution에 들어갈때는\n",
    "#[] , [max(x,y)+z for x,y,z in zip([0]+[7], [7]+[0], [2,3])] 이렇게 되고\n",
    "# max(l) 로 시행한다"
   ],
   "metadata": {
    "collapsed": false,
    "pycharm": {
     "name": "#%%\n"
    }
   }
  },
  {
   "cell_type": "code",
   "execution_count": null,
   "outputs": [],
   "source": [],
   "metadata": {
    "collapsed": false,
    "pycharm": {
     "name": "#%%\n"
    }
   }
  },
  {
   "cell_type": "code",
   "execution_count": null,
   "outputs": [],
   "source": [],
   "metadata": {
    "collapsed": false,
    "pycharm": {
     "name": "#%%\n"
    }
   }
  },
  {
   "cell_type": "code",
   "execution_count": null,
   "outputs": [],
   "source": [
    "#람다를 사용하지 않은 일반적인 함수\n",
    "# def add(a,b):\n",
    "#     return a+b\n",
    "# result = add(3,4)\n",
    "# print(result)\n",
    "#람다식으로 표현\n",
    "# add = lambda a,b: a+b #return이 필요없다\n",
    "# result = add(3,4) #add가 변수같지만 함수로 사용\n",
    "# print(result)\n",
    "# 7\n",
    "# lambda 는 t,l = [] 여기까지가 l이 없는 경우 []로 대체하는 것이고\n",
    "# : 이후가 실제 연산식이다 읽을 때 ,이래서 lambda 함수 문법 공부\n"
   ],
   "metadata": {
    "collapsed": false,
    "pycharm": {
     "name": "#%%\n"
    }
   }
  },
  {
   "cell_type": "code",
   "execution_count": null,
   "outputs": [],
   "source": [],
   "metadata": {
    "collapsed": false,
    "pycharm": {
     "name": "#%%\n"
    }
   }
  },
  {
   "cell_type": "code",
   "execution_count": 106,
   "outputs": [],
   "source": [
    "# t =[[7],[2,3]] 일 때 테스트\n",
    "t = [[7],[2,3]]"
   ],
   "metadata": {
    "collapsed": false,
    "pycharm": {
     "name": "#%%\n"
    }
   }
  },
  {
   "cell_type": "code",
   "execution_count": 132,
   "outputs": [
    {
     "data": {
      "text/plain": "[7]"
     },
     "execution_count": 132,
     "metadata": {},
     "output_type": "execute_result"
    }
   ],
   "source": [
    "[max(x,y)+ z for x,y,z in zip([0]+[] , []+[0], t[0])]"
   ],
   "metadata": {
    "collapsed": false,
    "pycharm": {
     "name": "#%%\n"
    }
   }
  },
  {
   "cell_type": "code",
   "execution_count": 146,
   "outputs": [
    {
     "data": {
      "text/plain": "[7]"
     },
     "execution_count": 146,
     "metadata": {},
     "output_type": "execute_result"
    }
   ],
   "source": [
    "t[0]"
   ],
   "metadata": {
    "collapsed": false,
    "pycharm": {
     "name": "#%%\n"
    }
   }
  },
  {
   "cell_type": "code",
   "execution_count": null,
   "outputs": [],
   "source": [
    "# 최초 input t = [[7],[2,3]] , l = []\n",
    "#"
   ],
   "metadata": {
    "collapsed": false,
    "pycharm": {
     "name": "#%%\n"
    }
   }
  },
  {
   "cell_type": "code",
   "execution_count": 138,
   "outputs": [
    {
     "data": {
      "text/plain": "[]"
     },
     "execution_count": 138,
     "metadata": {},
     "output_type": "execute_result"
    }
   ],
   "source": [
    "t[1:][1:]"
   ],
   "metadata": {
    "collapsed": false,
    "pycharm": {
     "name": "#%%\n"
    }
   }
  },
  {
   "cell_type": "code",
   "execution_count": 144,
   "outputs": [
    {
     "data": {
      "text/plain": "[]"
     },
     "execution_count": 144,
     "metadata": {},
     "output_type": "execute_result"
    }
   ],
   "source": [
    "t[1:][1:]"
   ],
   "metadata": {
    "collapsed": false,
    "pycharm": {
     "name": "#%%\n"
    }
   }
  },
  {
   "cell_type": "code",
   "execution_count": 142,
   "outputs": [],
   "source": [
    "t[0]\n",
    "l= []"
   ],
   "metadata": {
    "collapsed": false,
    "pycharm": {
     "name": "#%%\n"
    }
   }
  },
  {
   "cell_type": "code",
   "execution_count": 143,
   "outputs": [
    {
     "data": {
      "text/plain": "[7]"
     },
     "execution_count": 143,
     "metadata": {},
     "output_type": "execute_result"
    }
   ],
   "source": [
    "[max(x,y)+z for x,y,z in zip([0]+l, l+[0], t[0])]"
   ],
   "metadata": {
    "collapsed": false,
    "pycharm": {
     "name": "#%%\n"
    }
   }
  },
  {
   "cell_type": "code",
   "execution_count": 149,
   "outputs": [
    {
     "ename": "ValueError",
     "evalue": "max() arg is an empty sequence",
     "output_type": "error",
     "traceback": [
      "\u001B[1;31m---------------------------------------------------------------------------\u001B[0m",
      "\u001B[1;31mValueError\u001B[0m                                Traceback (most recent call last)",
      "Input \u001B[1;32mIn [149]\u001B[0m, in \u001B[0;36m<cell line: 1>\u001B[1;34m()\u001B[0m\n\u001B[1;32m----> 1\u001B[0m \u001B[38;5;28;43mmax\u001B[39;49m\u001B[43m(\u001B[49m\u001B[43m[\u001B[49m\u001B[43m]\u001B[49m\u001B[43m)\u001B[49m\n",
      "\u001B[1;31mValueError\u001B[0m: max() arg is an empty sequence"
     ]
    }
   ],
   "source": [],
   "metadata": {
    "collapsed": false,
    "pycharm": {
     "name": "#%%\n"
    }
   }
  },
  {
   "cell_type": "code",
   "execution_count": 122,
   "outputs": [
    {
     "data": {
      "text/plain": "[7]"
     },
     "execution_count": 122,
     "metadata": {},
     "output_type": "execute_result"
    }
   ],
   "source": [
    "# step1.\n",
    "solution(t[1:], [max(x,y)+ z for x,y,z in zip([0]+[] , []+[0], t[0])])\n",
    "# step1. 처음 부터 not t 가 아니기 때문에 else문으로 빠지고 t[1:] 은 [[2,3]]이고 l은 =[] 이고 바로 재귀호출로 들어간다\n",
    "# step2. 재귀호출로 들어간 solution 에서 if문으로 빠지고 l은 max(l)인 [7]이고 t = [[2,3]] 이다\n",
    "#\n",
    "#\n",
    "solution(t[1:][1:], )"
   ],
   "metadata": {
    "collapsed": false,
    "pycharm": {
     "name": "#%%\n"
    }
   }
  },
  {
   "cell_type": "code",
   "execution_count": 131,
   "outputs": [
    {
     "data": {
      "text/plain": "10"
     },
     "execution_count": 131,
     "metadata": {},
     "output_type": "execute_result"
    }
   ],
   "source": [
    "solution(t[1:], [max(x,y)+ z for x,y,z in zip([0]+[] , []+[0], t[0])])"
   ],
   "metadata": {
    "collapsed": false,
    "pycharm": {
     "name": "#%%\n"
    }
   }
  },
  {
   "cell_type": "code",
   "execution_count": 127,
   "outputs": [
    {
     "name": "stdout",
     "output_type": "stream",
     "text": [
      "yes\n"
     ]
    }
   ],
   "source": [
    "# 상위 값이 없는 상태가 된다\n",
    "if not t[1:][1:]:\n",
    "    print('yes')"
   ],
   "metadata": {
    "collapsed": false,
    "pycharm": {
     "name": "#%%\n"
    }
   }
  },
  {
   "cell_type": "code",
   "execution_count": 117,
   "outputs": [
    {
     "data": {
      "text/plain": "10"
     },
     "execution_count": 117,
     "metadata": {},
     "output_type": "execute_result"
    }
   ],
   "source": [
    "# 여기서 [] 은 그냥 [] 다 왜냐면 else 조건인거고 t 가 아직 있으니까\n",
    "# 단락 평가개념으로 읽으면서 끊어 읽으니 해석 이해된다\n",
    "solution(t[1:], [max(x,y) +z for x,y,z in zip([0]+[] , []+[0], t[0])])"
   ],
   "metadata": {
    "collapsed": false,
    "pycharm": {
     "name": "#%%\n"
    }
   }
  },
  {
   "cell_type": "code",
   "execution_count": 113,
   "outputs": [
    {
     "data": {
      "text/plain": "([[2, 3]], [7])"
     },
     "execution_count": 113,
     "metadata": {},
     "output_type": "execute_result"
    }
   ],
   "source": [
    "t[1:], [max(x,y)+z for x,y,z in zip([0]+[] , []+[0],t[0])]"
   ],
   "metadata": {
    "collapsed": false,
    "pycharm": {
     "name": "#%%\n"
    }
   }
  },
  {
   "cell_type": "code",
   "execution_count": 116,
   "outputs": [
    {
     "data": {
      "text/plain": "([], [14])"
     },
     "execution_count": 116,
     "metadata": {},
     "output_type": "execute_result"
    }
   ],
   "source": [],
   "metadata": {
    "collapsed": false,
    "pycharm": {
     "name": "#%%\n"
    }
   }
  },
  {
   "cell_type": "code",
   "execution_count": 103,
   "outputs": [
    {
     "data": {
      "text/plain": "10"
     },
     "execution_count": 103,
     "metadata": {},
     "output_type": "execute_result"
    }
   ],
   "source": [
    "solution([[7],[2,3]])"
   ],
   "metadata": {
    "collapsed": false,
    "pycharm": {
     "name": "#%%\n"
    }
   }
  },
  {
   "cell_type": "code",
   "execution_count": null,
   "outputs": [],
   "source": [],
   "metadata": {
    "collapsed": false,
    "pycharm": {
     "name": "#%%\n"
    }
   }
  },
  {
   "cell_type": "code",
   "execution_count": 30,
   "outputs": [
    {
     "data": {
      "text/plain": "7"
     },
     "execution_count": 30,
     "metadata": {},
     "output_type": "execute_result"
    }
   ],
   "source": [
    "list(pair_dict.keys())[0]"
   ],
   "metadata": {
    "collapsed": false,
    "pycharm": {
     "name": "#%%\n"
    }
   }
  },
  {
   "cell_type": "code",
   "execution_count": 19,
   "outputs": [
    {
     "data": {
      "text/plain": "{}"
     },
     "execution_count": 19,
     "metadata": {},
     "output_type": "execute_result"
    }
   ],
   "source": [
    "pair_dict"
   ],
   "metadata": {
    "collapsed": false,
    "pycharm": {
     "name": "#%%\n"
    }
   }
  },
  {
   "cell_type": "code",
   "execution_count": 17,
   "outputs": [
    {
     "ename": "IndexError",
     "evalue": "list index out of range",
     "output_type": "error",
     "traceback": [
      "\u001B[1;31m---------------------------------------------------------------------------\u001B[0m",
      "\u001B[1;31mIndexError\u001B[0m                                Traceback (most recent call last)",
      "Input \u001B[1;32mIn [17]\u001B[0m, in \u001B[0;36m<cell line: 1>\u001B[1;34m()\u001B[0m\n\u001B[1;32m----> 1\u001B[0m \u001B[43msolution\u001B[49m\u001B[43m(\u001B[49m\u001B[43mA\u001B[49m\u001B[43m)\u001B[49m\n",
      "Input \u001B[1;32mIn [16]\u001B[0m, in \u001B[0;36msolution\u001B[1;34m(A)\u001B[0m\n\u001B[0;32m     16\u001B[0m         candidates\u001B[38;5;241m.\u001B[39mremove(val)\n\u001B[0;32m     17\u001B[0m         \u001B[38;5;28;01mdel\u001B[39;00m pair_dict[val]\n\u001B[1;32m---> 19\u001B[0m \u001B[38;5;28;01mreturn\u001B[39;00m \u001B[43mcandidates\u001B[49m\u001B[43m[\u001B[49m\u001B[38;5;241;43m0\u001B[39;49m\u001B[43m]\u001B[49m\n",
      "\u001B[1;31mIndexError\u001B[0m: list index out of range"
     ]
    }
   ],
   "source": [
    "\n",
    "solution(A)"
   ],
   "metadata": {
    "collapsed": false,
    "pycharm": {
     "name": "#%%\n"
    }
   }
  },
  {
   "cell_type": "code",
   "execution_count": 6,
   "outputs": [],
   "source": [
    "afrom collections import defaultdict\n",
    "import pandas as pd\n",
    "from tqdm.notebook import tqdm\n",
    "import glob\n",
    "import numpy as np\n",
    "import multiprocessing\n",
    "import os\n",
    "import pickle\n",
    "import glob\n",
    "from collections import Counter\n",
    "\n",
    "DEBUG=False\n",
    "SAMPLING = 1 # Reduce it to improve performance"
   ],
   "metadata": {
    "collapsed": false,
    "pycharm": {
     "name": "#%%\n"
    }
   }
  },
  {
   "cell_type": "code",
   "execution_count": 7,
   "outputs": [],
   "source": [
    "TOP_20_CACHE = '../input/otto-pickles/top_40_aids_v4.pkl'"
   ],
   "metadata": {
    "collapsed": false,
    "pycharm": {
     "name": "#%%\n"
    }
   }
  },
  {
   "cell_type": "code",
   "execution_count": null,
   "outputs": [],
   "source": [],
   "metadata": {
    "collapsed": false,
    "pycharm": {
     "name": "#%%\n"
    }
   }
  },
  {
   "cell_type": "code",
   "execution_count": 13,
   "outputs": [],
   "source": [
    "# try:\n",
    "#   from kaggle_secrets import UserSecretsClient\n",
    "#   user_secrets = UserSecretsClient()\n",
    "#   secret_value_0 = user_secrets.get_secret(\"gcloud\")\n",
    "\n",
    "#   with open('/tmp/json', 'w+') as f:\n",
    "#     f.write(secret_value_0)\n",
    "\n",
    "#   !gcloud auth login --cred-file /tmp/jsonl\n",
    "#   !gsutil cp gs://nesp/top_20_aids.pkl\n",
    "\n",
    "# except Exception as ex\n",
    "#   pass\n"
   ],
   "metadata": {
    "collapsed": false,
    "pycharm": {
     "name": "#%%\n"
    }
   }
  },
  {
   "cell_type": "code",
   "execution_count": 11,
   "outputs": [],
   "source": [
    "import sys\n",
    "import gc\n",
    "def gen_pairs(df):\n",
    "    df = df.query('session % @SAMPLING == 0').groupby('session', as_index=False, sort=False).apply(lambda g: g.tail(30)).reset_index(drop=True)\n",
    "    df = pd.merge(df, df, on='session')\n",
    "    pairs = df.query('abs(ts_x - ts_y) < 24 * 60 * 60 * 1000 and aid_x != aid_y')[['session', 'aid_x', 'aid_y']].drop_duplicates()\n",
    "    return pairs[['aid_x', 'aid_y']].values\n",
    "\n",
    "def gen_aid_pairs():\n",
    "    all_pairs = defaultdict(lambda: Counter())\n",
    "    all_pair_chunks = []\n",
    "    with tqdm(glob.glob('../input/otto-chunk-data-inparquet-format/*_parquet/*'), desc='Chunks') as prog:\n",
    "        for idx, chunk_file in enumerate(prog):\n",
    "            with multiprocessing.Pool() as p:\n",
    "                chunk = pd.read_parquet(chunk_file).drop(columns=['type'])\n",
    "                pair_chunks = p.map(gen_pairs, np.array_split(chunk, 120))\n",
    "                pair_chunks = np.concatenate(pair_chunks, axis=0)\n",
    "                all_pair_chunks.append(pair_chunks)\n",
    "\n",
    "                if DEBUG and idx >= 3:\n",
    "                    break\n",
    "                del chunk, pair_chunks\n",
    "                gc.collect()\n",
    "\n",
    "\n",
    "    df = pd.DataFrame(data=np.concatenate(all_pair_chunks), columns=['aid1', 'aid2'])\n",
    "    top_aids = df.groupby('aid1').apply(lambda df: Counter(df.aid2).most_common(40)).to_dict()\n",
    "    return top_aids"
   ],
   "metadata": {
    "collapsed": false,
    "pycharm": {
     "name": "#%%\n"
    }
   }
  },
  {
   "cell_type": "code",
   "execution_count": null,
   "outputs": [],
   "source": [],
   "metadata": {
    "collapsed": false,
    "pycharm": {
     "name": "#%%\n"
    }
   }
  },
  {
   "cell_type": "code",
   "execution_count": null,
   "outputs": [],
   "source": [],
   "metadata": {
    "collapsed": false,
    "pycharm": {
     "name": "#%%\n"
    }
   }
  },
  {
   "cell_type": "code",
   "execution_count": null,
   "outputs": [],
   "source": [],
   "metadata": {
    "collapsed": false,
    "pycharm": {
     "name": "#%%\n"
    }
   }
  },
  {
   "cell_type": "code",
   "execution_count": null,
   "outputs": [],
   "source": [],
   "metadata": {
    "collapsed": false,
    "pycharm": {
     "name": "#%%\n"
    }
   }
  },
  {
   "cell_type": "code",
   "execution_count": null,
   "outputs": [],
   "source": [],
   "metadata": {
    "collapsed": false,
    "pycharm": {
     "name": "#%%\n"
    }
   }
  },
  {
   "cell_type": "code",
   "execution_count": 23,
   "outputs": [],
   "source": [],
   "metadata": {
    "collapsed": false,
    "pycharm": {
     "name": "#%%\n"
    }
   }
  },
  {
   "cell_type": "code",
   "execution_count": null,
   "outputs": [],
   "source": [],
   "metadata": {
    "collapsed": false,
    "pycharm": {
     "name": "#%%\n"
    }
   }
  },
  {
   "cell_type": "code",
   "execution_count": 24,
   "outputs": [
    {
     "output_type": "stream",
     "name": "stdout",
     "text": [
      "Downloading otto-recommender-system.zip to /content\n",
      "100% 1.94G/1.94G [01:26<00:00, 25.1MB/s]\n",
      "100% 1.94G/1.94G [01:26<00:00, 24.2MB/s]\n"
     ]
    }
   ],
   "source": [
    "# 401 unauthorized 시 api token kaggle accout에서 재발급\n",
    "\n",
    "!kaggle competitions download -c otto-recommender-system"
   ],
   "metadata": {
    "collapsed": false,
    "pycharm": {
     "name": "#%%\n"
    }
   }
  },
  {
   "cell_type": "code",
   "execution_count": 26,
   "outputs": [
    {
     "output_type": "stream",
     "name": "stdout",
     "text": [
      "Archive:  otto-recommender-system.zip\n",
      "  inflating: sample_submission.csv   \n",
      "  inflating: test.jsonl              \n",
      "  inflating: train.jsonl             \n"
     ]
    }
   ],
   "source": [
    "!unzip otto-recommender-system.zip"
   ],
   "metadata": {
    "collapsed": false,
    "pycharm": {
     "name": "#%%\n"
    }
   }
  },
  {
   "cell_type": "code",
   "execution_count": null,
   "outputs": [],
   "source": [],
   "metadata": {
    "collapsed": false,
    "pycharm": {
     "name": "#%%\n"
    }
   }
  },
  {
   "cell_type": "code",
   "execution_count": 25,
   "outputs": [
    {
     "output_type": "stream",
     "name": "stdout",
     "text": [
      "mv: cannot stat 'kaggle.json': No such file or directory\n"
     ]
    }
   ],
   "source": [
    "!mv kaggle.json ~/.kaggle"
   ],
   "metadata": {
    "collapsed": false,
    "pycharm": {
     "name": "#%%\n"
    }
   }
  },
  {
   "cell_type": "code",
   "execution_count": 19,
   "outputs": [],
   "source": [
    "!cd ~/.kaggle"
   ],
   "metadata": {
    "collapsed": false,
    "pycharm": {
     "name": "#%%\n"
    }
   }
  },
  {
   "cell_type": "code",
   "execution_count": null,
   "outputs": [],
   "source": [],
   "metadata": {
    "collapsed": false,
    "pycharm": {
     "name": "#%%\n"
    }
   }
  },
  {
   "cell_type": "code",
   "execution_count": null,
   "outputs": [],
   "source": [],
   "metadata": {
    "collapsed": false,
    "pycharm": {
     "name": "#%%\n"
    }
   }
  },
  {
   "cell_type": "code",
   "execution_count": null,
   "outputs": [],
   "source": [],
   "metadata": {
    "collapsed": false,
    "pycharm": {
     "name": "#%%\n"
    }
   }
  },
  {
   "cell_type": "code",
   "execution_count": null,
   "outputs": [],
   "source": [],
   "metadata": {
    "collapsed": false,
    "pycharm": {
     "name": "#%%\n"
    }
   }
  },
  {
   "cell_type": "code",
   "execution_count": 22,
   "outputs": [
    {
     "output_type": "stream",
     "name": "stdout",
     "text": [
      "unzip:  cannot find or open otto-recommender-system.zip, otto-recommender-system.zip.zip or otto-recommender-system.zip.ZIP.\n"
     ]
    }
   ],
   "source": [],
   "metadata": {
    "collapsed": false,
    "pycharm": {
     "name": "#%%\n"
    }
   }
  },
  {
   "cell_type": "code",
   "execution_count": 14,
   "outputs": [],
   "source": [
    "\n",
    "from pathlib import Path\n",
    "data_path = Path('/content/')"
   ],
   "metadata": {
    "collapsed": false,
    "pycharm": {
     "name": "#%%\n"
    }
   }
  },
  {
   "cell_type": "code",
   "execution_count": 15,
   "outputs": [],
   "source": [
    "import numpy as np\n",
    "import pandas as pd"
   ],
   "metadata": {
    "collapsed": false,
    "pycharm": {
     "name": "#%%\n"
    }
   }
  },
  {
   "cell_type": "code",
   "execution_count": 16,
   "outputs": [
    {
     "output_type": "stream",
     "name": "stdout",
     "text": [
      "number of lines in train: 12_899_779\n"
     ]
    }
   ],
   "source": [
    "num_lines = sum(1 for line in open(data_path / 'train.jsonl'))\n",
    "print(f'number of lines in train: {num_lines:_}')"
   ],
   "metadata": {
    "collapsed": false,
    "pycharm": {
     "name": "#%%\n"
    }
   }
  },
  {
   "cell_type": "code",
   "execution_count": 17,
   "outputs": [
    {
     "output_type": "stream",
     "name": "stdout",
     "text": [
      "number of chunks: 129\n"
     ]
    }
   ],
   "source": [
    "\n",
    "chunksize = 100_000\n",
    "num_chunks = int(np.ceil(num_lines / 100_000))\n",
    "print(f'number of chunks: {num_chunks:_}')"
   ],
   "metadata": {
    "collapsed": false,
    "pycharm": {
     "name": "#%%\n"
    }
   }
  },
  {
   "cell_type": "code",
   "execution_count": 18,
   "outputs": [],
   "source": [
    "# n = 2\n",
    "# train_sessions = pd.DataFrame()\n",
    "# chunks = pd.read_json(data_path / 'train.jsonl', lines=True, chunksize=chunksize)\n",
    "\n",
    "# for e, chunk in enumerate(chunks):\n",
    "#     if e < 2:\n",
    "#         train_sessions = pd.concat([train_sessions, chunk])\n",
    "#     else:\n",
    "#         break\n",
    "# train_sessions = train_sessions.set_index('session', drop=True).sort_index()"
   ],
   "metadata": {
    "collapsed": false,
    "pycharm": {
     "name": "#%%\n"
    }
   }
  },
  {
   "cell_type": "code",
   "execution_count": 19,
   "outputs": [],
   "source": [
    "train_sessions = pd.DataFrame()\n",
    "chunks = pd.read_json(data_path / 'train.jsonl', lines=True, chunksize=100_000)\n",
    "\n",
    "for e, chunk in enumerate(chunks):\n",
    "    event_dict = {\n",
    "        'session': [],\n",
    "        'aid': [],\n",
    "        'ts': [],\n",
    "        'type': [],\n",
    "    }\n",
    "    if e < 2:\n",
    "        # train_sessions = pd.concat([train_sessions, chunk])\n",
    "        for session, events in zip(chunk['session'].tolist(), chunk['events'].tolist()):\n",
    "            for event in events:\n",
    "                event_dict['session'].append(session)\n",
    "                event_dict['aid'].append(event['aid'])\n",
    "                event_dict['ts'].append(event['ts'])\n",
    "                event_dict['type'].append(event['type'])\n",
    "        chunk_session = pd.DataFrame(event_dict)\n",
    "        train_sessions = pd.concat([train_sessions, chunk_session])\n",
    "    else:\n",
    "        break\n",
    "\n",
    "train_sessions = train_sessions.reset_index(drop=True)"
   ],
   "metadata": {
    "collapsed": false,
    "pycharm": {
     "name": "#%%\n"
    }
   }
  },
  {
   "cell_type": "markdown",
   "source": [],
   "metadata": {
    "collapsed": false,
    "pycharm": {
     "name": "#%% md\n"
    }
   }
  },
  {
   "cell_type": "markdown",
   "source": [],
   "metadata": {
    "collapsed": false,
    "pycharm": {
     "name": "#%% md\n"
    }
   }
  },
  {
   "cell_type": "code",
   "execution_count": 28,
   "outputs": [],
   "source": [
    "groups = train_sessions.groupby('session',as_index=False)"
   ],
   "metadata": {
    "collapsed": false,
    "pycharm": {
     "name": "#%%\n"
    }
   }
  },
  {
   "cell_type": "code",
   "execution_count": 30,
   "outputs": [
    {
     "output_type": "execute_result",
     "data": {
      "text/plain": [
       "     session      aid             ts    type\n",
       "0          0  1517085  1659304800025  clicks\n",
       "1          0  1563459  1659304904511  clicks\n",
       "2          0  1309446  1659367439426  clicks\n",
       "3          0    16246  1659367719997  clicks\n",
       "4          0  1781822  1659367871344  clicks\n",
       "..       ...      ...            ...     ...\n",
       "271        0   843110  1661684298768  clicks\n",
       "272        0   938007  1661684355390  clicks\n",
       "273        0  1228848  1661684528943  clicks\n",
       "274        0  1740927  1661684942173  clicks\n",
       "275        0   161938  1661684983707  clicks\n",
       "\n",
       "[276 rows x 4 columns]"
      ],
      "text/html": [
       "\n",
       "  <div id=\"df-6b373404-d25b-4d1f-98c3-3fbb3961cd32\">\n",
       "    <div class=\"colab-df-container\">\n",
       "      <div>\n",
       "<style scoped>\n",
       "    .dataframe tbody tr th:only-of-type {\n",
       "        vertical-align: middle;\n",
       "    }\n",
       "\n",
       "    .dataframe tbody tr th {\n",
       "        vertical-align: top;\n",
       "    }\n",
       "\n",
       "    .dataframe thead th {\n",
       "        text-align: right;\n",
       "    }\n",
       "</style>\n",
       "<table border=\"1\" class=\"dataframe\">\n",
       "  <thead>\n",
       "    <tr style=\"text-align: right;\">\n",
       "      <th></th>\n",
       "      <th>session</th>\n",
       "      <th>aid</th>\n",
       "      <th>ts</th>\n",
       "      <th>type</th>\n",
       "    </tr>\n",
       "  </thead>\n",
       "  <tbody>\n",
       "    <tr>\n",
       "      <th>0</th>\n",
       "      <td>0</td>\n",
       "      <td>1517085</td>\n",
       "      <td>1659304800025</td>\n",
       "      <td>clicks</td>\n",
       "    </tr>\n",
       "    <tr>\n",
       "      <th>1</th>\n",
       "      <td>0</td>\n",
       "      <td>1563459</td>\n",
       "      <td>1659304904511</td>\n",
       "      <td>clicks</td>\n",
       "    </tr>\n",
       "    <tr>\n",
       "      <th>2</th>\n",
       "      <td>0</td>\n",
       "      <td>1309446</td>\n",
       "      <td>1659367439426</td>\n",
       "      <td>clicks</td>\n",
       "    </tr>\n",
       "    <tr>\n",
       "      <th>3</th>\n",
       "      <td>0</td>\n",
       "      <td>16246</td>\n",
       "      <td>1659367719997</td>\n",
       "      <td>clicks</td>\n",
       "    </tr>\n",
       "    <tr>\n",
       "      <th>4</th>\n",
       "      <td>0</td>\n",
       "      <td>1781822</td>\n",
       "      <td>1659367871344</td>\n",
       "      <td>clicks</td>\n",
       "    </tr>\n",
       "    <tr>\n",
       "      <th>...</th>\n",
       "      <td>...</td>\n",
       "      <td>...</td>\n",
       "      <td>...</td>\n",
       "      <td>...</td>\n",
       "    </tr>\n",
       "    <tr>\n",
       "      <th>271</th>\n",
       "      <td>0</td>\n",
       "      <td>843110</td>\n",
       "      <td>1661684298768</td>\n",
       "      <td>clicks</td>\n",
       "    </tr>\n",
       "    <tr>\n",
       "      <th>272</th>\n",
       "      <td>0</td>\n",
       "      <td>938007</td>\n",
       "      <td>1661684355390</td>\n",
       "      <td>clicks</td>\n",
       "    </tr>\n",
       "    <tr>\n",
       "      <th>273</th>\n",
       "      <td>0</td>\n",
       "      <td>1228848</td>\n",
       "      <td>1661684528943</td>\n",
       "      <td>clicks</td>\n",
       "    </tr>\n",
       "    <tr>\n",
       "      <th>274</th>\n",
       "      <td>0</td>\n",
       "      <td>1740927</td>\n",
       "      <td>1661684942173</td>\n",
       "      <td>clicks</td>\n",
       "    </tr>\n",
       "    <tr>\n",
       "      <th>275</th>\n",
       "      <td>0</td>\n",
       "      <td>161938</td>\n",
       "      <td>1661684983707</td>\n",
       "      <td>clicks</td>\n",
       "    </tr>\n",
       "  </tbody>\n",
       "</table>\n",
       "<p>276 rows × 4 columns</p>\n",
       "</div>\n",
       "      <button class=\"colab-df-convert\" onclick=\"convertToInteractive('df-6b373404-d25b-4d1f-98c3-3fbb3961cd32')\"\n",
       "              title=\"Convert this dataframe to an interactive table.\"\n",
       "              style=\"display:none;\">\n",
       "        \n",
       "  <svg xmlns=\"http://www.w3.org/2000/svg\" height=\"24px\"viewBox=\"0 0 24 24\"\n",
       "       width=\"24px\">\n",
       "    <path d=\"M0 0h24v24H0V0z\" fill=\"none\"/>\n",
       "    <path d=\"M18.56 5.44l.94 2.06.94-2.06 2.06-.94-2.06-.94-.94-2.06-.94 2.06-2.06.94zm-11 1L8.5 8.5l.94-2.06 2.06-.94-2.06-.94L8.5 2.5l-.94 2.06-2.06.94zm10 10l.94 2.06.94-2.06 2.06-.94-2.06-.94-.94-2.06-.94 2.06-2.06.94z\"/><path d=\"M17.41 7.96l-1.37-1.37c-.4-.4-.92-.59-1.43-.59-.52 0-1.04.2-1.43.59L10.3 9.45l-7.72 7.72c-.78.78-.78 2.05 0 2.83L4 21.41c.39.39.9.59 1.41.59.51 0 1.02-.2 1.41-.59l7.78-7.78 2.81-2.81c.8-.78.8-2.07 0-2.86zM5.41 20L4 18.59l7.72-7.72 1.47 1.35L5.41 20z\"/>\n",
       "  </svg>\n",
       "      </button>\n",
       "      \n",
       "  <style>\n",
       "    .colab-df-container {\n",
       "      display:flex;\n",
       "      flex-wrap:wrap;\n",
       "      gap: 12px;\n",
       "    }\n",
       "\n",
       "    .colab-df-convert {\n",
       "      background-color: #E8F0FE;\n",
       "      border: none;\n",
       "      border-radius: 50%;\n",
       "      cursor: pointer;\n",
       "      display: none;\n",
       "      fill: #1967D2;\n",
       "      height: 32px;\n",
       "      padding: 0 0 0 0;\n",
       "      width: 32px;\n",
       "    }\n",
       "\n",
       "    .colab-df-convert:hover {\n",
       "      background-color: #E2EBFA;\n",
       "      box-shadow: 0px 1px 2px rgba(60, 64, 67, 0.3), 0px 1px 3px 1px rgba(60, 64, 67, 0.15);\n",
       "      fill: #174EA6;\n",
       "    }\n",
       "\n",
       "    [theme=dark] .colab-df-convert {\n",
       "      background-color: #3B4455;\n",
       "      fill: #D2E3FC;\n",
       "    }\n",
       "\n",
       "    [theme=dark] .colab-df-convert:hover {\n",
       "      background-color: #434B5C;\n",
       "      box-shadow: 0px 1px 3px 1px rgba(0, 0, 0, 0.15);\n",
       "      filter: drop-shadow(0px 1px 2px rgba(0, 0, 0, 0.3));\n",
       "      fill: #FFFFFF;\n",
       "    }\n",
       "  </style>\n",
       "\n",
       "      <script>\n",
       "        const buttonEl =\n",
       "          document.querySelector('#df-6b373404-d25b-4d1f-98c3-3fbb3961cd32 button.colab-df-convert');\n",
       "        buttonEl.style.display =\n",
       "          google.colab.kernel.accessAllowed ? 'block' : 'none';\n",
       "\n",
       "        async function convertToInteractive(key) {\n",
       "          const element = document.querySelector('#df-6b373404-d25b-4d1f-98c3-3fbb3961cd32');\n",
       "          const dataTable =\n",
       "            await google.colab.kernel.invokeFunction('convertToInteractive',\n",
       "                                                     [key], {});\n",
       "          if (!dataTable) return;\n",
       "\n",
       "          const docLinkHtml = 'Like what you see? Visit the ' +\n",
       "            '<a target=\"_blank\" href=https://colab.research.google.com/notebooks/data_table.ipynb>data table notebook</a>'\n",
       "            + ' to learn more about interactive tables.';\n",
       "          element.innerHTML = '';\n",
       "          dataTable['output_type'] = 'display_data';\n",
       "          await google.colab.output.renderOutput(dataTable, element);\n",
       "          const docLink = document.createElement('div');\n",
       "          docLink.innerHTML = docLinkHtml;\n",
       "          element.appendChild(docLink);\n",
       "        }\n",
       "      </script>\n",
       "    </div>\n",
       "  </div>\n",
       "  "
      ]
     },
     "metadata": {},
     "execution_count": 30
    }
   ],
   "source": [
    "groups.get_group(0)``"
   ],
   "metadata": {
    "collapsed": false,
    "pycharm": {
     "name": "#%%\n"
    }
   }
  },
  {
   "cell_type": "code",
   "execution_count": null,
   "outputs": [],
   "source": [],
   "metadata": {
    "collapsed": false,
    "pycharm": {
     "name": "#%%\n"
    }
   }
  },
  {
   "cell_type": "code",
   "execution_count": 31,
   "outputs": [],
   "source": [
    "import pandas as pd\n",
    "from pathlib import Path\n",
    "import os\n",
    "import random\n",
    "import numpy as np\n",
    "import json\n",
    "from datetime import timedelta\n",
    "from collections import Counter\n",
    "from tqdm.notebook import tqdm\n",
    "from heapq import nlargest\n",
    "\n",
    "import matplotlib.pyplot as plt\n",
    "import seaborn as sns"
   ],
   "metadata": {
    "collapsed": false,
    "pycharm": {
     "name": "#%%\n"
    }
   }
  },
  {
   "cell_type": "code",
   "execution_count": 33,
   "outputs": [
    {
     "output_type": "stream",
     "name": "stdout",
     "text": [
      "We have 12,899,779 lines in the training data\n"
     ]
    }
   ],
   "source": [
    "\n",
    "with open(data_path/'train.jsonl', 'r') as f:\n",
    "    print(f\"We have {len(f.readlines()):,} lines in the training data\")"
   ],
   "metadata": {
    "collapsed": false,
    "pycharm": {
     "name": "#%%\n"
    }
   }
  },
  {
   "cell_type": "code",
   "execution_count": 36,
   "outputs": [],
   "source": [
    "sample_size = 150000\n",
    "\n",
    "chunks = pd.read_json(data_path/'train.jsonl' , lines=True, chunksize= sample_size)\n",
    "\n",
    "for c in chunks:\n",
    "  sample_train_df = c\n",
    "  break"
   ],
   "metadata": {
    "collapsed": false,
    "pycharm": {
     "name": "#%%\n"
    }
   }
  },
  {
   "cell_type": "code",
   "execution_count": 37,
   "outputs": [],
   "source": [
    "\n",
    "sample_train_df.set_index('session', drop=True, inplace=True)"
   ],
   "metadata": {
    "collapsed": false,
    "pycharm": {
     "name": "#%%\n"
    }
   }
  },
  {
   "cell_type": "code",
   "execution_count": 38,
   "outputs": [
    {
     "output_type": "execute_result",
     "data": {
      "text/plain": [
       "                                                    events\n",
       "session                                                   \n",
       "0        [{'aid': 1517085, 'ts': 1659304800025, 'type':...\n",
       "1        [{'aid': 424964, 'ts': 1659304800025, 'type': ...\n",
       "2        [{'aid': 763743, 'ts': 1659304800038, 'type': ...\n",
       "3        [{'aid': 1425967, 'ts': 1659304800095, 'type':...\n",
       "4        [{'aid': 613619, 'ts': 1659304800119, 'type': ..."
      ],
      "text/html": [
       "\n",
       "  <div id=\"df-30c776d9-fafa-4474-966e-d117f0ca4eec\">\n",
       "    <div class=\"colab-df-container\">\n",
       "      <div>\n",
       "<style scoped>\n",
       "    .dataframe tbody tr th:only-of-type {\n",
       "        vertical-align: middle;\n",
       "    }\n",
       "\n",
       "    .dataframe tbody tr th {\n",
       "        vertical-align: top;\n",
       "    }\n",
       "\n",
       "    .dataframe thead th {\n",
       "        text-align: right;\n",
       "    }\n",
       "</style>\n",
       "<table border=\"1\" class=\"dataframe\">\n",
       "  <thead>\n",
       "    <tr style=\"text-align: right;\">\n",
       "      <th></th>\n",
       "      <th>events</th>\n",
       "    </tr>\n",
       "    <tr>\n",
       "      <th>session</th>\n",
       "      <th></th>\n",
       "    </tr>\n",
       "  </thead>\n",
       "  <tbody>\n",
       "    <tr>\n",
       "      <th>0</th>\n",
       "      <td>[{'aid': 1517085, 'ts': 1659304800025, 'type':...</td>\n",
       "    </tr>\n",
       "    <tr>\n",
       "      <th>1</th>\n",
       "      <td>[{'aid': 424964, 'ts': 1659304800025, 'type': ...</td>\n",
       "    </tr>\n",
       "    <tr>\n",
       "      <th>2</th>\n",
       "      <td>[{'aid': 763743, 'ts': 1659304800038, 'type': ...</td>\n",
       "    </tr>\n",
       "    <tr>\n",
       "      <th>3</th>\n",
       "      <td>[{'aid': 1425967, 'ts': 1659304800095, 'type':...</td>\n",
       "    </tr>\n",
       "    <tr>\n",
       "      <th>4</th>\n",
       "      <td>[{'aid': 613619, 'ts': 1659304800119, 'type': ...</td>\n",
       "    </tr>\n",
       "  </tbody>\n",
       "</table>\n",
       "</div>\n",
       "      <button class=\"colab-df-convert\" onclick=\"convertToInteractive('df-30c776d9-fafa-4474-966e-d117f0ca4eec')\"\n",
       "              title=\"Convert this dataframe to an interactive table.\"\n",
       "              style=\"display:none;\">\n",
       "        \n",
       "  <svg xmlns=\"http://www.w3.org/2000/svg\" height=\"24px\"viewBox=\"0 0 24 24\"\n",
       "       width=\"24px\">\n",
       "    <path d=\"M0 0h24v24H0V0z\" fill=\"none\"/>\n",
       "    <path d=\"M18.56 5.44l.94 2.06.94-2.06 2.06-.94-2.06-.94-.94-2.06-.94 2.06-2.06.94zm-11 1L8.5 8.5l.94-2.06 2.06-.94-2.06-.94L8.5 2.5l-.94 2.06-2.06.94zm10 10l.94 2.06.94-2.06 2.06-.94-2.06-.94-.94-2.06-.94 2.06-2.06.94z\"/><path d=\"M17.41 7.96l-1.37-1.37c-.4-.4-.92-.59-1.43-.59-.52 0-1.04.2-1.43.59L10.3 9.45l-7.72 7.72c-.78.78-.78 2.05 0 2.83L4 21.41c.39.39.9.59 1.41.59.51 0 1.02-.2 1.41-.59l7.78-7.78 2.81-2.81c.8-.78.8-2.07 0-2.86zM5.41 20L4 18.59l7.72-7.72 1.47 1.35L5.41 20z\"/>\n",
       "  </svg>\n",
       "      </button>\n",
       "      \n",
       "  <style>\n",
       "    .colab-df-container {\n",
       "      display:flex;\n",
       "      flex-wrap:wrap;\n",
       "      gap: 12px;\n",
       "    }\n",
       "\n",
       "    .colab-df-convert {\n",
       "      background-color: #E8F0FE;\n",
       "      border: none;\n",
       "      border-radius: 50%;\n",
       "      cursor: pointer;\n",
       "      display: none;\n",
       "      fill: #1967D2;\n",
       "      height: 32px;\n",
       "      padding: 0 0 0 0;\n",
       "      width: 32px;\n",
       "    }\n",
       "\n",
       "    .colab-df-convert:hover {\n",
       "      background-color: #E2EBFA;\n",
       "      box-shadow: 0px 1px 2px rgba(60, 64, 67, 0.3), 0px 1px 3px 1px rgba(60, 64, 67, 0.15);\n",
       "      fill: #174EA6;\n",
       "    }\n",
       "\n",
       "    [theme=dark] .colab-df-convert {\n",
       "      background-color: #3B4455;\n",
       "      fill: #D2E3FC;\n",
       "    }\n",
       "\n",
       "    [theme=dark] .colab-df-convert:hover {\n",
       "      background-color: #434B5C;\n",
       "      box-shadow: 0px 1px 3px 1px rgba(0, 0, 0, 0.15);\n",
       "      filter: drop-shadow(0px 1px 2px rgba(0, 0, 0, 0.3));\n",
       "      fill: #FFFFFF;\n",
       "    }\n",
       "  </style>\n",
       "\n",
       "      <script>\n",
       "        const buttonEl =\n",
       "          document.querySelector('#df-30c776d9-fafa-4474-966e-d117f0ca4eec button.colab-df-convert');\n",
       "        buttonEl.style.display =\n",
       "          google.colab.kernel.accessAllowed ? 'block' : 'none';\n",
       "\n",
       "        async function convertToInteractive(key) {\n",
       "          const element = document.querySelector('#df-30c776d9-fafa-4474-966e-d117f0ca4eec');\n",
       "          const dataTable =\n",
       "            await google.colab.kernel.invokeFunction('convertToInteractive',\n",
       "                                                     [key], {});\n",
       "          if (!dataTable) return;\n",
       "\n",
       "          const docLinkHtml = 'Like what you see? Visit the ' +\n",
       "            '<a target=\"_blank\" href=https://colab.research.google.com/notebooks/data_table.ipynb>data table notebook</a>'\n",
       "            + ' to learn more about interactive tables.';\n",
       "          element.innerHTML = '';\n",
       "          dataTable['output_type'] = 'display_data';\n",
       "          await google.colab.output.renderOutput(dataTable, element);\n",
       "          const docLink = document.createElement('div');\n",
       "          docLink.innerHTML = docLinkHtml;\n",
       "          element.appendChild(docLink);\n",
       "        }\n",
       "      </script>\n",
       "    </div>\n",
       "  </div>\n",
       "  "
      ]
     },
     "metadata": {},
     "execution_count": 38
    }
   ],
   "source": [
    "sample_train_df.head()"
   ],
   "metadata": {
    "collapsed": false,
    "pycharm": {
     "name": "#%%\n"
    }
   }
  },
  {
   "cell_type": "code",
   "execution_count": 45,
   "outputs": [
    {
     "output_type": "stream",
     "name": "stdout",
     "text": [
      "This session was 276 actions long \n",
      "\n",
      "The first action in the session: \n",
      " {'aid': 1517085, 'ts': 1659304800025, 'type': 'clicks'}\n"
     ]
    }
   ],
   "source": [
    "example_session = sample_train_df.iloc[0].item()\n",
    "\n",
    "\n",
    "print(f'This session was {len(example_session)} actions long \\n')\n",
    "print(f'The first action in the session: \\n {example_session[0]}')\n",
    "\n",
    "# Time of session\n",
    "time_elapsed = example_session[-1][\"ts\"] - example_session[0][\"ts\"]"
   ],
   "metadata": {
    "collapsed": false,
    "pycharm": {
     "name": "#%%\n"
    }
   }
  },
  {
   "cell_type": "code",
   "execution_count": 47,
   "outputs": [
    {
     "output_type": "stream",
     "name": "stdout",
     "text": [
      "The first session elapsed :0:39:40.183682 \n",
      "\n"
     ]
    }
   ],
   "source": [
    "print(f'The first session elapsed :{str(timedelta(microseconds=time_elapsed))} \\n')"
   ],
   "metadata": {
    "collapsed": false,
    "pycharm": {
     "name": "#%%\n"
    }
   }
  },
  {
   "cell_type": "code",
   "execution_count": 51,
   "outputs": [
    {
     "output_type": "stream",
     "name": "stdout",
     "text": [
      "The first session contains the following frequency of actions: {'clicks': 255, 'carts': 17, 'orders': 4}\n"
     ]
    }
   ],
   "source": [
    "# Count the frequency of actions within the session\n",
    "action_counts = {}\n",
    "for action in example_session:\n",
    "    action_counts[action['type']] = action_counts.get(action['type'], 0) + 1\n",
    "print(f'The first session contains the following frequency of actions: {action_counts}')"
   ],
   "metadata": {
    "collapsed": false,
    "pycharm": {
     "name": "#%%\n"
    }
   }
  },
  {
   "cell_type": "markdown",
   "source": [],
   "metadata": {
    "collapsed": false,
    "pycharm": {
     "name": "#%% md\n"
    }
   }
  },
  {
   "cell_type": "code",
   "execution_count": 59,
   "outputs": [],
   "source": [
    "### Extract information from each session and add it to the df ###\n",
    "\n",
    "action_counts_list, article_id_counts_list, session_length_time_list, session_length_action_list = ([] for i in range(4))\n",
    "overall_action_counts = {}\n",
    "overall_article_id_counts = {}\n"
   ],
   "metadata": {
    "collapsed": false,
    "pycharm": {
     "name": "#%%\n"
    }
   }
  },
  {
   "cell_type": "code",
   "execution_count": 63,
   "outputs": [
    {
     "output_type": "display_data",
     "data": {
      "text/plain": [
       "  0%|          | 0/150000 [00:00<?, ?it/s]"
      ],
      "application/vnd.jupyter.widget-view+json": {
       "version_major": 2,
       "version_minor": 0,
       "model_id": "bc75dd11dd894e4880913353cfa36696"
      }
     },
     "metadata": {}
    }
   ],
   "source": [
    "\n",
    "for i, row in tqdm(sample_train_df.iterrows(), total=len(sample_train_df)):\n",
    "\n",
    "    actions = row['events']\n",
    "\n",
    "    # Get the frequency of actions and article_ids\n",
    "    action_counts = {}\n",
    "    article_id_counts = {}\n",
    "    for action in actions:\n",
    "        action_counts[action['type']] = action_counts.get(action['type'], 0) + 1\n",
    "        article_id_counts[action['aid']] = article_id_counts.get(action['aid'], 0) + 1\n",
    "        overall_action_counts[action['type']] = overall_action_counts.get(action['type'], 0) + 1\n",
    "        overall_article_id_counts[action['aid']] = overall_article_id_counts.get(action['aid'], 0) + 1\n",
    "\n",
    "    # Get the length of the session\n",
    "    session_length_time = actions[-1]['ts'] - actions[0]['ts']\n",
    "\n",
    "    # Add to list\n",
    "    action_counts_list.append(action_counts)\n",
    "    article_id_counts_list.append(article_id_counts)\n",
    "    session_length_time_list.append(session_length_time)\n",
    "    session_length_action_list.append(len(actions))\n",
    "\n",
    "sample_train_df['action_counts'] = action_counts_list\n",
    "sample_train_df['article_id_counts'] = article_id_counts_list\n",
    "sample_train_df['session_length_unix'] = session_length_time_list\n",
    "sample_train_df['session_length_minutes'] = sample_train_df['session_length_unix']*1.66667e-8    # Convert to minutes\n",
    "sample_train_df['session_length_action'] = session_length_action_list"
   ],
   "metadata": {
    "collapsed": false,
    "pycharm": {
     "name": "#%%\n"
    }
   }
  },
  {
   "cell_type": "code",
   "execution_count": 65,
   "outputs": [
    {
     "output_type": "display_data",
     "data": {
      "text/plain": [
       "<Figure size 576x432 with 1 Axes>"
      ],
      "image/png": "[encoded data removed]"
     },
     "metadata": {
      "needs_background": "light"
     }
    }
   ],
   "source": [
    "### Actions ###\n",
    "\n",
    "total_actions = sum(overall_action_counts.values())\n",
    "\n",
    "plt.figure(figsize=(8,6))\n",
    "sns.barplot(x=list(overall_action_counts.keys()), y=[i/total_actions for i in overall_action_counts.values()]);\n",
    "plt.title(f'Action frequency', fontsize=12)\n",
    "plt.ylabel('Count', fontsize=12)\n",
    "plt.xlabel('Category', fontsize=12)\n",
    "plt.show()"
   ],
   "metadata": {
    "collapsed": false,
    "pycharm": {
     "name": "#%%\n"
    }
   }
  },
  {
   "cell_type": "code",
   "execution_count": 66,
   "outputs": [
    {
     "output_type": "stream",
     "name": "stderr",
     "text": [
      "/usr/local/lib/python3.7/dist-packages/seaborn/distributions.py:2619: FutureWarning: `distplot` is a deprecated function and will be removed in a future version. Please adapt your code to use either `displot` (a figure-level function with similar flexibility) or `histplot` (an axes-level function for histograms).\n",
      "  warnings.warn(msg, FutureWarning)\n"
     ]
    },
    {
     "output_type": "display_data",
     "data": {
      "text/plain": [
       "<Figure size 1728x720 with 2 Axes>"
      ],
      "image/png": "[encoded data removed]"
     },
     "metadata": {
      "needs_background": "light"
     }
    }
   ],
   "source": [
    "fig, ax = plt.subplots(1,2, figsize=(24, 10))\n",
    "\n",
    "p = sns.distplot(sample_train_df['session_length_action'], color=\"y\", bins= 70, ax=ax[0], kde=False)\n",
    "p.set_xlabel(\"Number of actions\", fontsize = 16)\n",
    "p.set_ylabel(\"Density\", fontsize = 16)\n",
    "p.set_title(\"Distribution of the number of actions taken in each session\", fontsize = 14)\n",
    "p.axvline(sample_train_df['session_length_action'].mean(), color='r', linestyle='--', label=\"Mean\")\n",
    "\n",
    "p = sns.distplot(sample_train_df['session_length_minutes'], color=\"b\", bins= 70, ax=ax[1], kde=False)\n",
    "p.set_xlabel(\"Minutes\", fontsize = 16)\n",
    "p.set_ylabel(\"Density\", fontsize = 16)\n",
    "p.set_title(\"Length of each session\", fontsize = 16);"
   ],
   "metadata": {
    "collapsed": false,
    "pycharm": {
     "name": "#%%\n"
    }
   }
  },
  {
   "cell_type": "code",
   "execution_count": 67,
   "outputs": [
    {
     "output_type": "stream",
     "name": "stdout",
     "text": [
      "34.8% of the sessions had less than 10 actions\n"
     ]
    }
   ],
   "source": [
    "print(f'{round(len(sample_train_df[sample_train_df[\"session_length_action\"]<10])/len(sample_train_df),3)*100}% of the sessions had less than 10 actions')"
   ],
   "metadata": {
    "collapsed": false,
    "pycharm": {
     "name": "#%%\n"
    }
   }
  },
  {
   "cell_type": "code",
   "execution_count": 72,
   "outputs": [],
   "source": [],
   "metadata": {
    "collapsed": false,
    "pycharm": {
     "name": "#%%\n"
    }
   }
  },
  {
   "cell_type": "code",
   "execution_count": 70,
   "outputs": [],
   "source": [],
   "metadata": {
    "collapsed": false,
    "pycharm": {
     "name": "#%%\n"
    }
   }
  },
  {
   "cell_type": "code",
   "execution_count": 73,
   "outputs": [
    {
     "output_type": "display_data",
     "data": {
      "text/plain": [
       "<Figure size 576x432 with 1 Axes>"
      ],
      "image/png": "[encoded data removed]"
     },
     "metadata": {
      "needs_background": "light"
     }
    }
   ],
   "source": [
    "article_id_freq = list(overall_article_id_counts.values())\n",
    "cut_off = [i for i in article_id_freq if i<30]\n",
    "\n",
    "plt.figure(figsize=(8,6))\n",
    "sns.distplot(cut_off, bins=30, kde=False);\n",
    "plt.title(f'Article ID frequency', fontsize=12)\n",
    "plt.ylabel('Count', fontsize=12)\n",
    "plt.xlabel('Article', fontsize=12);"
   ],
   "metadata": {
    "collapsed": false,
    "pycharm": {
     "name": "#%%\n"
    }
   }
  },
  {
   "cell_type": "code",
   "execution_count": 74,
   "outputs": [
    {
     "output_type": "stream",
     "name": "stdout",
     "text": [
      "Frequency of most common articles: [7754, 8518, 8646, 9006, 10000] \n",
      "\n",
      "IDs for those common articles: [29735, 1603001, 832192, 1733943, 108125]\n"
     ]
    }
   ],
   "source": [
    "### Look at the most interacted with articles ###\n",
    "print(f'Frequency of most common articles: {sorted(list(overall_article_id_counts.values()))[-5:]} \\n')\n",
    "res = nlargest(5, overall_article_id_counts, key = overall_article_id_counts.get)\n",
    "print(f'IDs for those common articles: {res}')"
   ],
   "metadata": {
    "collapsed": false,
    "pycharm": {
     "name": "#%%\n"
    }
   }
  },
  {
   "cell_type": "code",
   "execution_count": 78,
   "outputs": [],
   "source": [
    "\n",
    "TEST_PATH = data_path/'test.jsonl'"
   ],
   "metadata": {
    "collapsed": false,
    "pycharm": {
     "name": "#%%\n"
    }
   }
  },
  {
   "cell_type": "code",
   "execution_count": 79,
   "outputs": [
    {
     "output_type": "stream",
     "name": "stdout",
     "text": [
      "We have 1,671,803 lines in the test data\n"
     ]
    }
   ],
   "source": [
    "with open(TEST_PATH, 'r') as f:\n",
    "    print(f\"We have {len(f.readlines()):,} lines in the test data\")"
   ],
   "metadata": {
    "collapsed": false,
    "pycharm": {
     "name": "#%%\n"
    }
   }
  },
  {
   "cell_type": "code",
   "execution_count": 80,
   "outputs": [],
   "source": [
    "sample_size = 150\n",
    "\n",
    "chunks = pd.read_json(TEST_PATH, lines=True, chunksize = sample_size)\n",
    "\n",
    "for c in chunks:\n",
    "    sample_test_df = c\n",
    "    break"
   ],
   "metadata": {
    "collapsed": false,
    "pycharm": {
     "name": "#%%\n"
    }
   }
  },
  {
   "cell_type": "code",
   "execution_count": 81,
   "outputs": [
    {
     "output_type": "execute_result",
     "data": {
      "text/plain": [
       "    session                                             events\n",
       "0  12899779  [{'aid': 59625, 'ts': 1661724000278, 'type': '...\n",
       "1  12899780  [{'aid': 1142000, 'ts': 1661724000378, 'type':...\n",
       "2  12899781  [{'aid': 141736, 'ts': 1661724000559, 'type': ...\n",
       "3  12899782  [{'aid': 1669402, 'ts': 1661724000568, 'type':...\n",
       "4  12899783  [{'aid': 255297, 'ts': 1661724000572, 'type': ..."
      ],
      "text/html": [
       "\n",
       "  <div id=\"df-0242a007-8943-40fd-99af-01fce4619306\">\n",
       "    <div class=\"colab-df-container\">\n",
       "      <div>\n",
       "<style scoped>\n",
       "    .dataframe tbody tr th:only-of-type {\n",
       "        vertical-align: middle;\n",
       "    }\n",
       "\n",
       "    .dataframe tbody tr th {\n",
       "        vertical-align: top;\n",
       "    }\n",
       "\n",
       "    .dataframe thead th {\n",
       "        text-align: right;\n",
       "    }\n",
       "</style>\n",
       "<table border=\"1\" class=\"dataframe\">\n",
       "  <thead>\n",
       "    <tr style=\"text-align: right;\">\n",
       "      <th></th>\n",
       "      <th>session</th>\n",
       "      <th>events</th>\n",
       "    </tr>\n",
       "  </thead>\n",
       "  <tbody>\n",
       "    <tr>\n",
       "      <th>0</th>\n",
       "      <td>12899779</td>\n",
       "      <td>[{'aid': 59625, 'ts': 1661724000278, 'type': '...</td>\n",
       "    </tr>\n",
       "    <tr>\n",
       "      <th>1</th>\n",
       "      <td>12899780</td>\n",
       "      <td>[{'aid': 1142000, 'ts': 1661724000378, 'type':...</td>\n",
       "    </tr>\n",
       "    <tr>\n",
       "      <th>2</th>\n",
       "      <td>12899781</td>\n",
       "      <td>[{'aid': 141736, 'ts': 1661724000559, 'type': ...</td>\n",
       "    </tr>\n",
       "    <tr>\n",
       "      <th>3</th>\n",
       "      <td>12899782</td>\n",
       "      <td>[{'aid': 1669402, 'ts': 1661724000568, 'type':...</td>\n",
       "    </tr>\n",
       "    <tr>\n",
       "      <th>4</th>\n",
       "      <td>12899783</td>\n",
       "      <td>[{'aid': 255297, 'ts': 1661724000572, 'type': ...</td>\n",
       "    </tr>\n",
       "  </tbody>\n",
       "</table>\n",
       "</div>\n",
       "      <button class=\"colab-df-convert\" onclick=\"convertToInteractive('df-0242a007-8943-40fd-99af-01fce4619306')\"\n",
       "              title=\"Convert this dataframe to an interactive table.\"\n",
       "              style=\"display:none;\">\n",
       "        \n",
       "  <svg xmlns=\"http://www.w3.org/2000/svg\" height=\"24px\"viewBox=\"0 0 24 24\"\n",
       "       width=\"24px\">\n",
       "    <path d=\"M0 0h24v24H0V0z\" fill=\"none\"/>\n",
       "    <path d=\"M18.56 5.44l.94 2.06.94-2.06 2.06-.94-2.06-.94-.94-2.06-.94 2.06-2.06.94zm-11 1L8.5 8.5l.94-2.06 2.06-.94-2.06-.94L8.5 2.5l-.94 2.06-2.06.94zm10 10l.94 2.06.94-2.06 2.06-.94-2.06-.94-.94-2.06-.94 2.06-2.06.94z\"/><path d=\"M17.41 7.96l-1.37-1.37c-.4-.4-.92-.59-1.43-.59-.52 0-1.04.2-1.43.59L10.3 9.45l-7.72 7.72c-.78.78-.78 2.05 0 2.83L4 21.41c.39.39.9.59 1.41.59.51 0 1.02-.2 1.41-.59l7.78-7.78 2.81-2.81c.8-.78.8-2.07 0-2.86zM5.41 20L4 18.59l7.72-7.72 1.47 1.35L5.41 20z\"/>\n",
       "  </svg>\n",
       "      </button>\n",
       "      \n",
       "  <style>\n",
       "    .colab-df-container {\n",
       "      display:flex;\n",
       "      flex-wrap:wrap;\n",
       "      gap: 12px;\n",
       "    }\n",
       "\n",
       "    .colab-df-convert {\n",
       "      background-color: #E8F0FE;\n",
       "      border: none;\n",
       "      border-radius: 50%;\n",
       "      cursor: pointer;\n",
       "      display: none;\n",
       "      fill: #1967D2;\n",
       "      height: 32px;\n",
       "      padding: 0 0 0 0;\n",
       "      width: 32px;\n",
       "    }\n",
       "\n",
       "    .colab-df-convert:hover {\n",
       "      background-color: #E2EBFA;\n",
       "      box-shadow: 0px 1px 2px rgba(60, 64, 67, 0.3), 0px 1px 3px 1px rgba(60, 64, 67, 0.15);\n",
       "      fill: #174EA6;\n",
       "    }\n",
       "\n",
       "    [theme=dark] .colab-df-convert {\n",
       "      background-color: #3B4455;\n",
       "      fill: #D2E3FC;\n",
       "    }\n",
       "\n",
       "    [theme=dark] .colab-df-convert:hover {\n",
       "      background-color: #434B5C;\n",
       "      box-shadow: 0px 1px 3px 1px rgba(0, 0, 0, 0.15);\n",
       "      filter: drop-shadow(0px 1px 2px rgba(0, 0, 0, 0.3));\n",
       "      fill: #FFFFFF;\n",
       "    }\n",
       "  </style>\n",
       "\n",
       "      <script>\n",
       "        const buttonEl =\n",
       "          document.querySelector('#df-0242a007-8943-40fd-99af-01fce4619306 button.colab-df-convert');\n",
       "        buttonEl.style.display =\n",
       "          google.colab.kernel.accessAllowed ? 'block' : 'none';\n",
       "\n",
       "        async function convertToInteractive(key) {\n",
       "          const element = document.querySelector('#df-0242a007-8943-40fd-99af-01fce4619306');\n",
       "          const dataTable =\n",
       "            await google.colab.kernel.invokeFunction('convertToInteractive',\n",
       "                                                     [key], {});\n",
       "          if (!dataTable) return;\n",
       "\n",
       "          const docLinkHtml = 'Like what you see? Visit the ' +\n",
       "            '<a target=\"_blank\" href=https://colab.research.google.com/notebooks/data_table.ipynb>data table notebook</a>'\n",
       "            + ' to learn more about interactive tables.';\n",
       "          element.innerHTML = '';\n",
       "          dataTable['output_type'] = 'display_data';\n",
       "          await google.colab.output.renderOutput(dataTable, element);\n",
       "          const docLink = document.createElement('div');\n",
       "          docLink.innerHTML = docLinkHtml;\n",
       "          element.appendChild(docLink);\n",
       "        }\n",
       "      </script>\n",
       "    </div>\n",
       "  </div>\n",
       "  "
      ]
     },
     "metadata": {},
     "execution_count": 81
    }
   ],
   "source": [
    "sample_test_df.head()"
   ],
   "metadata": {
    "collapsed": false,
    "pycharm": {
     "name": "#%%\n"
    }
   }
  },
  {
   "cell_type": "code",
   "execution_count": 85,
   "outputs": [],
   "source": [
    "\n",
    "SAMPLE_SUB_PATH = data_path/'sample_submission.csv'"
   ],
   "metadata": {
    "collapsed": false,
    "pycharm": {
     "name": "#%%\n"
    }
   }
  },
  {
   "cell_type": "code",
   "execution_count": 86,
   "outputs": [
    {
     "output_type": "execute_result",
     "data": {
      "text/plain": [
       "      session_type                labels\n",
       "0  12899779_clicks  129004 126836 118524\n",
       "1   12899779_carts  129004 126836 118524\n",
       "2  12899779_orders  129004 126836 118524\n",
       "3  12899780_clicks  129004 126836 118524\n",
       "4   12899780_carts  129004 126836 118524"
      ],
      "text/html": [
       "\n",
       "  <div id=\"df-b5792880-cb53-43a2-b444-052e048232ec\">\n",
       "    <div class=\"colab-df-container\">\n",
       "      <div>\n",
       "<style scoped>\n",
       "    .dataframe tbody tr th:only-of-type {\n",
       "        vertical-align: middle;\n",
       "    }\n",
       "\n",
       "    .dataframe tbody tr th {\n",
       "        vertical-align: top;\n",
       "    }\n",
       "\n",
       "    .dataframe thead th {\n",
       "        text-align: right;\n",
       "    }\n",
       "</style>\n",
       "<table border=\"1\" class=\"dataframe\">\n",
       "  <thead>\n",
       "    <tr style=\"text-align: right;\">\n",
       "      <th></th>\n",
       "      <th>session_type</th>\n",
       "      <th>labels</th>\n",
       "    </tr>\n",
       "  </thead>\n",
       "  <tbody>\n",
       "    <tr>\n",
       "      <th>0</th>\n",
       "      <td>12899779_clicks</td>\n",
       "      <td>129004 126836 118524</td>\n",
       "    </tr>\n",
       "    <tr>\n",
       "      <th>1</th>\n",
       "      <td>12899779_carts</td>\n",
       "      <td>129004 126836 118524</td>\n",
       "    </tr>\n",
       "    <tr>\n",
       "      <th>2</th>\n",
       "      <td>12899779_orders</td>\n",
       "      <td>129004 126836 118524</td>\n",
       "    </tr>\n",
       "    <tr>\n",
       "      <th>3</th>\n",
       "      <td>12899780_clicks</td>\n",
       "      <td>129004 126836 118524</td>\n",
       "    </tr>\n",
       "    <tr>\n",
       "      <th>4</th>\n",
       "      <td>12899780_carts</td>\n",
       "      <td>129004 126836 118524</td>\n",
       "    </tr>\n",
       "  </tbody>\n",
       "</table>\n",
       "</div>\n",
       "      <button class=\"colab-df-convert\" onclick=\"convertToInteractive('df-b5792880-cb53-43a2-b444-052e048232ec')\"\n",
       "              title=\"Convert this dataframe to an interactive table.\"\n",
       "              style=\"display:none;\">\n",
       "        \n",
       "  <svg xmlns=\"http://www.w3.org/2000/svg\" height=\"24px\"viewBox=\"0 0 24 24\"\n",
       "       width=\"24px\">\n",
       "    <path d=\"M0 0h24v24H0V0z\" fill=\"none\"/>\n",
       "    <path d=\"M18.56 5.44l.94 2.06.94-2.06 2.06-.94-2.06-.94-.94-2.06-.94 2.06-2.06.94zm-11 1L8.5 8.5l.94-2.06 2.06-.94-2.06-.94L8.5 2.5l-.94 2.06-2.06.94zm10 10l.94 2.06.94-2.06 2.06-.94-2.06-.94-.94-2.06-.94 2.06-2.06.94z\"/><path d=\"M17.41 7.96l-1.37-1.37c-.4-.4-.92-.59-1.43-.59-.52 0-1.04.2-1.43.59L10.3 9.45l-7.72 7.72c-.78.78-.78 2.05 0 2.83L4 21.41c.39.39.9.59 1.41.59.51 0 1.02-.2 1.41-.59l7.78-7.78 2.81-2.81c.8-.78.8-2.07 0-2.86zM5.41 20L4 18.59l7.72-7.72 1.47 1.35L5.41 20z\"/>\n",
       "  </svg>\n",
       "      </button>\n",
       "      \n",
       "  <style>\n",
       "    .colab-df-container {\n",
       "      display:flex;\n",
       "      flex-wrap:wrap;\n",
       "      gap: 12px;\n",
       "    }\n",
       "\n",
       "    .colab-df-convert {\n",
       "      background-color: #E8F0FE;\n",
       "      border: none;\n",
       "      border-radius: 50%;\n",
       "      cursor: pointer;\n",
       "      display: none;\n",
       "      fill: #1967D2;\n",
       "      height: 32px;\n",
       "      padding: 0 0 0 0;\n",
       "      width: 32px;\n",
       "    }\n",
       "\n",
       "    .colab-df-convert:hover {\n",
       "      background-color: #E2EBFA;\n",
       "      box-shadow: 0px 1px 2px rgba(60, 64, 67, 0.3), 0px 1px 3px 1px rgba(60, 64, 67, 0.15);\n",
       "      fill: #174EA6;\n",
       "    }\n",
       "\n",
       "    [theme=dark] .colab-df-convert {\n",
       "      background-color: #3B4455;\n",
       "      fill: #D2E3FC;\n",
       "    }\n",
       "\n",
       "    [theme=dark] .colab-df-convert:hover {\n",
       "      background-color: #434B5C;\n",
       "      box-shadow: 0px 1px 3px 1px rgba(0, 0, 0, 0.15);\n",
       "      filter: drop-shadow(0px 1px 2px rgba(0, 0, 0, 0.3));\n",
       "      fill: #FFFFFF;\n",
       "    }\n",
       "  </style>\n",
       "\n",
       "      <script>\n",
       "        const buttonEl =\n",
       "          document.querySelector('#df-b5792880-cb53-43a2-b444-052e048232ec button.colab-df-convert');\n",
       "        buttonEl.style.display =\n",
       "          google.colab.kernel.accessAllowed ? 'block' : 'none';\n",
       "\n",
       "        async function convertToInteractive(key) {\n",
       "          const element = document.querySelector('#df-b5792880-cb53-43a2-b444-052e048232ec');\n",
       "          const dataTable =\n",
       "            await google.colab.kernel.invokeFunction('convertToInteractive',\n",
       "                                                     [key], {});\n",
       "          if (!dataTable) return;\n",
       "\n",
       "          const docLinkHtml = 'Like what you see? Visit the ' +\n",
       "            '<a target=\"_blank\" href=https://colab.research.google.com/notebooks/data_table.ipynb>data table notebook</a>'\n",
       "            + ' to learn more about interactive tables.';\n",
       "          element.innerHTML = '';\n",
       "          dataTable['output_type'] = 'display_data';\n",
       "          await google.colab.output.renderOutput(dataTable, element);\n",
       "          const docLink = document.createElement('div');\n",
       "          docLink.innerHTML = docLinkHtml;\n",
       "          element.appendChild(docLink);\n",
       "        }\n",
       "      </script>\n",
       "    </div>\n",
       "  </div>\n",
       "  "
      ]
     },
     "metadata": {},
     "execution_count": 86
    }
   ],
   "source": [
    "\n",
    "sample_submission = pd.read_csv(SAMPLE_SUB_PATH)\n",
    "sample_submission.head()"
   ],
   "metadata": {
    "collapsed": false,
    "pycharm": {
     "name": "#%%\n"
    }
   }
  },
  {
   "cell_type": "code",
   "execution_count": 87,
   "outputs": [
    {
     "output_type": "execute_result",
     "data": {
      "text/plain": [
       "[{'aid': 1752139, 'ts': 1659332465811, 'type': 'clicks'},\n",
       " {'aid': 276163, 'ts': 1659332518642, 'type': 'clicks'},\n",
       " {'aid': 1617030, 'ts': 1660131815785, 'type': 'clicks'},\n",
       " {'aid': 674554, 'ts': 1660132675505, 'type': 'clicks'}]"
      ]
     },
     "metadata": {},
     "execution_count": 87
    }
   ],
   "source": [
    "\n",
    "actions"
   ],
   "metadata": {
    "collapsed": false,
    "pycharm": {
     "name": "#%%\n"
    }
   }
  },
  {
   "cell_type": "code",
   "execution_count": 89,
   "outputs": [],
   "source": [
    "TRAIN_PATH = data_path/'train.jsonl'"
   ],
   "metadata": {
    "collapsed": false,
    "pycharm": {
     "name": "#%%\n"
    }
   }
  },
  {
   "cell_type": "code",
   "execution_count": null,
   "outputs": [],
   "source": [],
   "metadata": {
    "collapsed": false,
    "pycharm": {
     "name": "#%%\n"
    }
   }
  },
  {
   "cell_type": "code",
   "execution_count": 99,
   "outputs": [
    {
     "output_type": "execute_result",
     "data": {
      "text/plain": [
       "[]"
      ]
     },
     "metadata": {},
     "execution_count": 99
    }
   ],
   "source": [],
   "metadata": {
    "collapsed": false,
    "pycharm": {
     "name": "#%%\n"
    }
   }
  },
  {
   "cell_type": "code",
   "execution_count": 100,
   "outputs": [],
   "source": [
    "sample_size = 150000\n",
    "\n",
    "chunks = pd.read_json(TRAIN_PATH, lines=True, chunksize = sample_size)\n",
    "\n",
    "clicks_article_list = []\n",
    "carts_article_list = []\n",
    "orders_article_list = []\n",
    "\n",
    "for e, c in enumerate(chunks):\n",
    "\n",
    "    # Save time by not using all the data\n",
    "    if e > 2:\n",
    "        break\n",
    "\n",
    "    sample_train_df = c\n",
    "\n",
    "    for i, row in c.iterrows():\n",
    "        actions = row['events']\n",
    "        for action in actions:\n",
    "            if action['type'] == 'clicks':\n",
    "                clicks_article_list.append(action['aid'])\n",
    "            elif action['type'] == 'carts':\n",
    "                carts_article_list.append(action['aid'])\n",
    "            else:\n",
    "                orders_article_list.append(action['aid'])\n",
    "\n",
    "# Create dictionaries with articles and their frequencies\n",
    "article_click_freq = Counter(clicks_article_list)\n",
    "article_carts_freq = Counter(carts_article_list)\n",
    "article_order_freq = Counter(orders_article_list)"
   ],
   "metadata": {
    "collapsed": false,
    "pycharm": {
     "name": "#%%\n"
    }
   }
  },
  {
   "cell_type": "code",
   "execution_count": 101,
   "outputs": [
    {
     "output_type": "execute_result",
     "data": {
      "text/plain": [
       "Counter({1517085: 10,\n",
       "         1563459: 7,\n",
       "         1309446: 504,\n",
       "         16246: 169,\n",
       "         1781822: 7,\n",
       "         1152674: 6,\n",
       "         362233: 48,\n",
       "         1649869: 72,\n",
       "         984597: 3,\n",
       "         803544: 1780,\n",
       "         1110941: 9,\n",
       "         1190046: 215,\n",
       "         1760685: 34,\n",
       "         631008: 106,\n",
       "         461689: 549,\n",
       "         1650637: 384,\n",
       "         313546: 514,\n",
       "         979517: 175,\n",
       "         351157: 247,\n",
       "         1062149: 17,\n",
       "         1157384: 4,\n",
       "         1841388: 136,\n",
       "         1469630: 1108,\n",
       "         305831: 198,\n",
       "         1110548: 1009,\n",
       "         1650114: 607,\n",
       "         1604396: 165,\n",
       "         1009750: 22,\n",
       "         1800933: 188,\n",
       "         495779: 721,\n",
       "         394655: 1811,\n",
       "         789245: 246,\n",
       "         366890: 170,\n",
       "         361317: 60,\n",
       "         1700164: 642,\n",
       "         1755597: 87,\n",
       "         784978: 346,\n",
       "         1171505: 322,\n",
       "         1521766: 206,\n",
       "         1725503: 54,\n",
       "         528847: 224,\n",
       "         1816325: 255,\n",
       "         1072782: 568,\n",
       "         173702: 61,\n",
       "         1407538: 85,\n",
       "         1629651: 198,\n",
       "         1768568: 359,\n",
       "         1318324: 54,\n",
       "         1840418: 1419,\n",
       "         1813509: 811,\n",
       "         667924: 1476,\n",
       "         1226444: 663,\n",
       "         709550: 402,\n",
       "         709417: 293,\n",
       "         1225559: 148,\n",
       "         1048044: 47,\n",
       "         1052813: 60,\n",
       "         240346: 48,\n",
       "         1582117: 217,\n",
       "         1707783: 42,\n",
       "         1624436: 2635,\n",
       "         1157411: 973,\n",
       "         358305: 32,\n",
       "         1202970: 123,\n",
       "         832192: 8615,\n",
       "         1498443: 4720,\n",
       "         723931: 684,\n",
       "         1436439: 708,\n",
       "         1693461: 1638,\n",
       "         1206554: 32,\n",
       "         1110741: 17,\n",
       "         346352: 1,\n",
       "         1802050: 27,\n",
       "         154930: 8,\n",
       "         964169: 316,\n",
       "         823637: 67,\n",
       "         1411683: 101,\n",
       "         1167722: 82,\n",
       "         1619737: 173,\n",
       "         1840615: 1079,\n",
       "         512756: 10,\n",
       "         946219: 1,\n",
       "         1090479: 1,\n",
       "         1164387: 8,\n",
       "         1308544: 17,\n",
       "         719622: 571,\n",
       "         1750538: 725,\n",
       "         1443747: 559,\n",
       "         337364: 616,\n",
       "         1653945: 63,\n",
       "         1222638: 341,\n",
       "         1622987: 53,\n",
       "         608383: 5,\n",
       "         1460239: 117,\n",
       "         321397: 500,\n",
       "         828625: 43,\n",
       "         1537907: 621,\n",
       "         1070142: 560,\n",
       "         959208: 7182,\n",
       "         275288: 892,\n",
       "         1428075: 156,\n",
       "         892659: 271,\n",
       "         1127565: 4080,\n",
       "         97836: 29,\n",
       "         384343: 54,\n",
       "         218130: 162,\n",
       "         294248: 53,\n",
       "         166547: 38,\n",
       "         504365: 42,\n",
       "         102416: 791,\n",
       "         30373: 157,\n",
       "         724999: 230,\n",
       "         10268: 184,\n",
       "         219925: 933,\n",
       "         1140855: 182,\n",
       "         915702: 100,\n",
       "         480578: 2638,\n",
       "         1145803: 36,\n",
       "         516456: 8,\n",
       "         536842: 3,\n",
       "         1446430: 541,\n",
       "         581169: 7,\n",
       "         976007: 5,\n",
       "         667322: 324,\n",
       "         1801525: 148,\n",
       "         1767945: 15,\n",
       "         1342014: 221,\n",
       "         1785321: 141,\n",
       "         1689148: 118,\n",
       "         72748: 1108,\n",
       "         1049280: 1552,\n",
       "         6851: 1554,\n",
       "         1433235: 426,\n",
       "         7563: 139,\n",
       "         1766089: 25,\n",
       "         570955: 84,\n",
       "         974651: 86,\n",
       "         661144: 77,\n",
       "         1639229: 274,\n",
       "         738987: 2119,\n",
       "         190818: 3103,\n",
       "         138431: 1496,\n",
       "         543308: 763,\n",
       "         1760145: 131,\n",
       "         624343: 284,\n",
       "         723612: 3067,\n",
       "         442293: 2214,\n",
       "         171073: 1592,\n",
       "         851778: 943,\n",
       "         976134: 75,\n",
       "         856506: 377,\n",
       "         419161: 79,\n",
       "         1549618: 48,\n",
       "         760277: 46,\n",
       "         702179: 135,\n",
       "         1587393: 175,\n",
       "         76358: 119,\n",
       "         1199474: 47,\n",
       "         1386923: 597,\n",
       "         1055124: 96,\n",
       "         859697: 832,\n",
       "         961113: 334,\n",
       "         883849: 132,\n",
       "         701766: 122,\n",
       "         924751: 179,\n",
       "         168206: 270,\n",
       "         219033: 17,\n",
       "         171982: 2972,\n",
       "         1319939: 480,\n",
       "         1349536: 129,\n",
       "         334392: 62,\n",
       "         165096: 55,\n",
       "         315914: 30,\n",
       "         1680276: 6,\n",
       "         1818905: 184,\n",
       "         1048797: 253,\n",
       "         341626: 1,\n",
       "         843110: 298,\n",
       "         938007: 205,\n",
       "         1228848: 122,\n",
       "         1740927: 323,\n",
       "         161938: 551,\n",
       "         1492293: 41,\n",
       "         910862: 97,\n",
       "         1491172: 3,\n",
       "         424964: 1,\n",
       "         1515526: 74,\n",
       "         440486: 75,\n",
       "         109488: 260,\n",
       "         1507622: 97,\n",
       "         1734061: 769,\n",
       "         854637: 111,\n",
       "         718983: 77,\n",
       "         215311: 183,\n",
       "         711125: 70,\n",
       "         50049: 72,\n",
       "         105393: 396,\n",
       "         959544: 64,\n",
       "         1842593: 48,\n",
       "         1464360: 182,\n",
       "         207905: 248,\n",
       "         1628317: 10,\n",
       "         376932: 12,\n",
       "         497868: 19,\n",
       "         763743: 96,\n",
       "         137492: 278,\n",
       "         504789: 291,\n",
       "         795863: 203,\n",
       "         378348: 406,\n",
       "         26638: 688,\n",
       "         817441: 366,\n",
       "         1405904: 61,\n",
       "         545290: 101,\n",
       "         935830: 1252,\n",
       "         1593105: 2,\n",
       "         427698: 1,\n",
       "         414004: 2,\n",
       "         465360: 17,\n",
       "         526287: 29,\n",
       "         567119: 16,\n",
       "         1577398: 19,\n",
       "         78519: 6,\n",
       "         1605583: 3,\n",
       "         690631: 625,\n",
       "         295985: 1176,\n",
       "         553269: 59,\n",
       "         555062: 19,\n",
       "         1605711: 16,\n",
       "         485582: 17,\n",
       "         477910: 4,\n",
       "         808782: 14,\n",
       "         672473: 14,\n",
       "         1425967: 142,\n",
       "         1343406: 266,\n",
       "         1815570: 39,\n",
       "         287008: 12,\n",
       "         1809571: 1,\n",
       "         1089061: 28,\n",
       "         746072: 14,\n",
       "         1015324: 75,\n",
       "         1215662: 138,\n",
       "         357461: 43,\n",
       "         1105267: 117,\n",
       "         392840: 84,\n",
       "         574683: 56,\n",
       "         825711: 1064,\n",
       "         1622133: 755,\n",
       "         1065620: 152,\n",
       "         713701: 1104,\n",
       "         1632093: 66,\n",
       "         1090485: 19,\n",
       "         1305368: 313,\n",
       "         968885: 139,\n",
       "         2512: 167,\n",
       "         984459: 3385,\n",
       "         622368: 24,\n",
       "         578649: 130,\n",
       "         1253857: 53,\n",
       "         1660613: 8,\n",
       "         840023: 133,\n",
       "         774320: 4,\n",
       "         300295: 7,\n",
       "         722275: 77,\n",
       "         979687: 221,\n",
       "         1402624: 63,\n",
       "         308831: 65,\n",
       "         471114: 8,\n",
       "         127764: 49,\n",
       "         1018433: 35,\n",
       "         714724: 32,\n",
       "         1221074: 630,\n",
       "         1171628: 23,\n",
       "         284722: 66,\n",
       "         490305: 19,\n",
       "         1436022: 400,\n",
       "         1198969: 184,\n",
       "         763925: 118,\n",
       "         880139: 21,\n",
       "         727609: 13,\n",
       "         528531: 17,\n",
       "         1584672: 127,\n",
       "         526790: 85,\n",
       "         1554339: 16,\n",
       "         711446: 22,\n",
       "         128326: 123,\n",
       "         536803: 8,\n",
       "         1348328: 1158,\n",
       "         74985: 7,\n",
       "         642154: 12,\n",
       "         705264: 15,\n",
       "         87629: 121,\n",
       "         1808351: 57,\n",
       "         749898: 69,\n",
       "         1772909: 21,\n",
       "         905009: 52,\n",
       "         54857: 185,\n",
       "         1528155: 8,\n",
       "         1712999: 21,\n",
       "         692635: 22,\n",
       "         1500975: 6,\n",
       "         771063: 3,\n",
       "         547781: 3,\n",
       "         1002270: 13,\n",
       "         254870: 34,\n",
       "         1504981: 2,\n",
       "         1377572: 32,\n",
       "         1009427: 838,\n",
       "         1143262: 190,\n",
       "         836094: 284,\n",
       "         1498272: 219,\n",
       "         3999: 163,\n",
       "         1359109: 16,\n",
       "         1119655: 80,\n",
       "         708908: 11,\n",
       "         588531: 10,\n",
       "         116139: 17,\n",
       "         96976: 9,\n",
       "         1498013: 6,\n",
       "         332817: 16,\n",
       "         812246: 7,\n",
       "         822461: 9,\n",
       "         636903: 202,\n",
       "         172698: 529,\n",
       "         1533194: 505,\n",
       "         1802976: 19,\n",
       "         360657: 278,\n",
       "         1111431: 186,\n",
       "         172051: 2,\n",
       "         340594: 461,\n",
       "         123362: 497,\n",
       "         1633901: 35,\n",
       "         88711: 7,\n",
       "         1325760: 1072,\n",
       "         1202088: 389,\n",
       "         672286: 423,\n",
       "         614085: 124,\n",
       "         1713400: 225,\n",
       "         1748862: 903,\n",
       "         108125: 9234,\n",
       "         1332980: 47,\n",
       "         93934: 51,\n",
       "         532565: 82,\n",
       "         1282243: 76,\n",
       "         1708257: 36,\n",
       "         37450: 63,\n",
       "         33731: 11,\n",
       "         546144: 4,\n",
       "         1175830: 13,\n",
       "         1152906: 1,\n",
       "         1754057: 1099,\n",
       "         1443710: 138,\n",
       "         1001000: 783,\n",
       "         1124086: 180,\n",
       "         1278281: 26,\n",
       "         1536010: 96,\n",
       "         904809: 764,\n",
       "         659496: 477,\n",
       "         1799121: 105,\n",
       "         693368: 807,\n",
       "         618373: 811,\n",
       "         282175: 1023,\n",
       "         1061225: 115,\n",
       "         802541: 2612,\n",
       "         1397226: 594,\n",
       "         1638009: 74,\n",
       "         656980: 106,\n",
       "         466658: 62,\n",
       "         1251514: 397,\n",
       "         1261998: 38,\n",
       "         1575102: 108,\n",
       "         1431783: 36,\n",
       "         925352: 21,\n",
       "         613619: 34,\n",
       "         298827: 50,\n",
       "         383828: 434,\n",
       "         255379: 1683,\n",
       "         1838173: 1436,\n",
       "         1453726: 438,\n",
       "         1554752: 197,\n",
       "         917213: 189,\n",
       "         758750: 22,\n",
       "         678521: 416,\n",
       "         1081407: 266,\n",
       "         479396: 73,\n",
       "         1098089: 46,\n",
       "         1354785: 3,\n",
       "         342507: 16,\n",
       "         1120175: 33,\n",
       "         1808870: 39,\n",
       "         1402845: 140,\n",
       "         829383: 5,\n",
       "         743867: 25,\n",
       "         747242: 13,\n",
       "         63299: 71,\n",
       "         1813405: 359,\n",
       "         140361: 121,\n",
       "         137164: 146,\n",
       "         956148: 273,\n",
       "         1310382: 90,\n",
       "         705239: 82,\n",
       "         1438169: 256,\n",
       "         515494: 93,\n",
       "         303479: 60,\n",
       "         1665718: 104,\n",
       "         1329892: 178,\n",
       "         1423569: 49,\n",
       "         247477: 216,\n",
       "         1761894: 48,\n",
       "         107068: 123,\n",
       "         626201: 49,\n",
       "         1180941: 8,\n",
       "         735948: 1,\n",
       "         204620: 6,\n",
       "         231883: 35,\n",
       "         1320470: 45,\n",
       "         1336841: 71,\n",
       "         454252: 13,\n",
       "         1479126: 177,\n",
       "         512321: 236,\n",
       "         752071: 73,\n",
       "         737946: 11,\n",
       "         1691705: 21,\n",
       "         1784957: 34,\n",
       "         1778316: 1003,\n",
       "         335888: 7,\n",
       "         858923: 67,\n",
       "         114443: 75,\n",
       "         899186: 15,\n",
       "         383548: 29,\n",
       "         168492: 24,\n",
       "         181386: 48,\n",
       "         795411: 293,\n",
       "         1770854: 38,\n",
       "         1747070: 93,\n",
       "         732552: 24,\n",
       "         820745: 4,\n",
       "         1584889: 4,\n",
       "         121471: 41,\n",
       "         318999: 48,\n",
       "         1443924: 39,\n",
       "         1779132: 25,\n",
       "         496585: 20,\n",
       "         914867: 5,\n",
       "         1029566: 24,\n",
       "         360462: 19,\n",
       "         60590: 27,\n",
       "         1826259: 40,\n",
       "         1762811: 25,\n",
       "         698403: 4,\n",
       "         500819: 869,\n",
       "         1611750: 291,\n",
       "         84804: 36,\n",
       "         1386412: 48,\n",
       "         538900: 4,\n",
       "         1834442: 511,\n",
       "         787398: 42,\n",
       "         657194: 72,\n",
       "         969717: 127,\n",
       "         352310: 39,\n",
       "         870131: 196,\n",
       "         1585659: 10,\n",
       "         1692150: 84,\n",
       "         165011: 77,\n",
       "         179011: 77,\n",
       "         1852696: 8,\n",
       "         180817: 57,\n",
       "         1608648: 369,\n",
       "         578301: 53,\n",
       "         1659218: 95,\n",
       "         1365927: 35,\n",
       "         596483: 190,\n",
       "         448320: 148,\n",
       "         1488151: 340,\n",
       "         773417: 32,\n",
       "         584794: 51,\n",
       "         640547: 118,\n",
       "         1378866: 53,\n",
       "         1292948: 17,\n",
       "         1832326: 5,\n",
       "         87774: 64,\n",
       "         1241611: 57,\n",
       "         477883: 80,\n",
       "         1209125: 73,\n",
       "         1727444: 5,\n",
       "         43696: 12,\n",
       "         872428: 5,\n",
       "         511826: 48,\n",
       "         74176: 4,\n",
       "         1763738: 38,\n",
       "         1351733: 3,\n",
       "         777919: 5,\n",
       "         602191: 59,\n",
       "         1314898: 35,\n",
       "         555948: 89,\n",
       "         129869: 1017,\n",
       "         95488: 4772,\n",
       "         1064510: 52,\n",
       "         1814223: 159,\n",
       "         324620: 112,\n",
       "         1320098: 9,\n",
       "         847707: 29,\n",
       "         1078113: 93,\n",
       "         502913: 170,\n",
       "         1369253: 53,\n",
       "         641969: 62,\n",
       "         271630: 23,\n",
       "         967918: 10,\n",
       "         218627: 9,\n",
       "         766870: 240,\n",
       "         1071033: 2,\n",
       "         226954: 22,\n",
       "         1110510: 26,\n",
       "         1178708: 42,\n",
       "         1343545: 123,\n",
       "         1455746: 38,\n",
       "         384751: 2,\n",
       "         249474: 4,\n",
       "         881719: 2,\n",
       "         1800223: 12,\n",
       "         59142: 1,\n",
       "         266595: 6,\n",
       "         309710: 28,\n",
       "         506353: 2,\n",
       "         1699214: 96,\n",
       "         1739092: 7,\n",
       "         1158853: 706,\n",
       "         217784: 80,\n",
       "         643667: 76,\n",
       "         1398344: 27,\n",
       "         1237227: 15,\n",
       "         85380: 4,\n",
       "         121376: 68,\n",
       "         420325: 110,\n",
       "         1746569: 194,\n",
       "         1635310: 4,\n",
       "         1765193: 15,\n",
       "         74702: 3,\n",
       "         61954: 3,\n",
       "         314773: 1,\n",
       "         987969: 22,\n",
       "         1391373: 7,\n",
       "         359244: 3,\n",
       "         1769915: 182,\n",
       "         1826669: 292,\n",
       "         697336: 552,\n",
       "         552956: 132,\n",
       "         329538: 6,\n",
       "         721353: 6,\n",
       "         773577: 47,\n",
       "         1455544: 30,\n",
       "         1663783: 5,\n",
       "         1796549: 16,\n",
       "         251221: 3,\n",
       "         87567: 56,\n",
       "         1154812: 15,\n",
       "         1056990: 35,\n",
       "         1657095: 116,\n",
       "         1397980: 102,\n",
       "         888710: 26,\n",
       "         411098: 30,\n",
       "         537734: 5,\n",
       "         1193825: 3,\n",
       "         344918: 7,\n",
       "         1692235: 7,\n",
       "         411304: 9,\n",
       "         1528062: 7,\n",
       "         1636304: 801,\n",
       "         219597: 23,\n",
       "         1626964: 12,\n",
       "         795088: 161,\n",
       "         363502: 1,\n",
       "         924818: 2,\n",
       "         1085528: 19,\n",
       "         630987: 2,\n",
       "         1358857: 2,\n",
       "         1703315: 1,\n",
       "         615345: 4,\n",
       "         1576617: 10,\n",
       "         832890: 284,\n",
       "         1674493: 3,\n",
       "         139863: 5,\n",
       "         1757034: 49,\n",
       "         198673: 151,\n",
       "         1680080: 52,\n",
       "         242374: 62,\n",
       "         239243: 228,\n",
       "         1742191: 33,\n",
       "         1348377: 172,\n",
       "         659046: 213,\n",
       "         889421: 170,\n",
       "         1605625: 89,\n",
       "         294768: 170,\n",
       "         369161: 314,\n",
       "         1198124: 55,\n",
       "         618376: 118,\n",
       "         1689065: 73,\n",
       "         433418: 55,\n",
       "         887719: 74,\n",
       "         927384: 87,\n",
       "         271060: 469,\n",
       "         128909: 2432,\n",
       "         201155: 371,\n",
       "         252418: 240,\n",
       "         1739864: 115,\n",
       "         399002: 415,\n",
       "         1752210: 1239,\n",
       "         1170609: 154,\n",
       "         109635: 364,\n",
       "         237734: 578,\n",
       "         143776: 1250,\n",
       "         321092: 18,\n",
       "         1433106: 130,\n",
       "         1770312: 16,\n",
       "         742117: 116,\n",
       "         966085: 21,\n",
       "         1662866: 3,\n",
       "         1177411: 10,\n",
       "         908379: 101,\n",
       "         352192: 2434,\n",
       "         1304792: 1589,\n",
       "         1670763: 373,\n",
       "         1699933: 197,\n",
       "         22195: 473,\n",
       "         414349: 8,\n",
       "         241388: 212,\n",
       "         1364435: 33,\n",
       "         1591630: 20,\n",
       "         1316358: 3,\n",
       "         1409816: 3,\n",
       "         1180717: 2,\n",
       "         435011: 54,\n",
       "         959446: 8,\n",
       "         354050: 5,\n",
       "         862645: 57,\n",
       "         393286: 47,\n",
       "         1747636: 17,\n",
       "         140571: 45,\n",
       "         1591359: 21,\n",
       "         587435: 6,\n",
       "         1376972: 20,\n",
       "         1550408: 67,\n",
       "         1379275: 60,\n",
       "         572342: 8,\n",
       "         777599: 17,\n",
       "         1582616: 86,\n",
       "         1458151: 235,\n",
       "         1013535: 32,\n",
       "         1137294: 3,\n",
       "         796017: 96,\n",
       "         784315: 38,\n",
       "         1140988: 40,\n",
       "         629884: 2,\n",
       "         856406: 9,\n",
       "         861237: 19,\n",
       "         1764092: 8,\n",
       "         588838: 9,\n",
       "         1671173: 144,\n",
       "         13750: 54,\n",
       "         571631: 93,\n",
       "         655846: 208,\n",
       "         695040: 29,\n",
       "         1448796: 15,\n",
       "         992143: 44,\n",
       "         1293574: 770,\n",
       "         559125: 16,\n",
       "         1479170: 245,\n",
       "         1718006: 161,\n",
       "         275825: 94,\n",
       "         1053941: 841,\n",
       "         384099: 4,\n",
       "         326526: 105,\n",
       "         451484: 231,\n",
       "         1097430: 40,\n",
       "         117314: 105,\n",
       "         1158547: 13,\n",
       "         104102: 384,\n",
       "         1547907: 230,\n",
       "         1054943: 77,\n",
       "         803864: 9,\n",
       "         543371: 2,\n",
       "         1341077: 19,\n",
       "         220873: 1,\n",
       "         1737411: 121,\n",
       "         1192965: 26,\n",
       "         1723717: 13,\n",
       "         26118: 26,\n",
       "         375280: 8,\n",
       "         1843017: 18,\n",
       "         1577741: 28,\n",
       "         1041976: 929,\n",
       "         1550375: 40,\n",
       "         1664305: 110,\n",
       "         816119: 99,\n",
       "         915575: 11,\n",
       "         1790738: 12,\n",
       "         1815907: 40,\n",
       "         208050: 134,\n",
       "         319090: 11,\n",
       "         1087012: 18,\n",
       "         1707253: 30,\n",
       "         1077924: 9,\n",
       "         1346005: 119,\n",
       "         130225: 62,\n",
       "         1522105: 39,\n",
       "         183758: 28,\n",
       "         634673: 28,\n",
       "         311992: 1,\n",
       "         463756: 3,\n",
       "         18628: 10,\n",
       "         585390: 9,\n",
       "         92861: 48,\n",
       "         1266738: 17,\n",
       "         402084: 17,\n",
       "         119298: 35,\n",
       "         539104: 3,\n",
       "         185669: 4,\n",
       "         1542376: 9,\n",
       "         1017717: 2,\n",
       "         1479826: 92,\n",
       "         852468: 35,\n",
       "         85474: 26,\n",
       "         1566388: 42,\n",
       "         1278688: 17,\n",
       "         715412: 54,\n",
       "         1775681: 39,\n",
       "         469113: 36,\n",
       "         777595: 34,\n",
       "         711335: 4,\n",
       "         432830: 81,\n",
       "         431722: 28,\n",
       "         174442: 6,\n",
       "         1397590: 6,\n",
       "         53614: 1,\n",
       "         548702: 3,\n",
       "         72943: 55,\n",
       "         1370468: 5,\n",
       "         852621: 7,\n",
       "         878560: 13,\n",
       "         1632307: 30,\n",
       "         674843: 101,\n",
       "         284816: 5,\n",
       "         125127: 16,\n",
       "         1396451: 3,\n",
       "         1051675: 28,\n",
       "         1650383: 2,\n",
       "         97336: 99,\n",
       "         1188207: 48,\n",
       "         180761: 1442,\n",
       "         115586: 191,\n",
       "         390954: 101,\n",
       "         670358: 290,\n",
       "         234293: 87,\n",
       "         1225444: 137,\n",
       "         561468: 219,\n",
       "         929374: 48,\n",
       "         200631: 247,\n",
       "         1374497: 179,\n",
       "         768826: 155,\n",
       "         131992: 735,\n",
       "         1305442: 2316,\n",
       "         121913: 38,\n",
       "         1773157: 1071,\n",
       "         494715: 477,\n",
       "         786726: 924,\n",
       "         643034: 382,\n",
       "         1438697: 753,\n",
       "         404612: 1095,\n",
       "         1446918: 1118,\n",
       "         1718132: 48,\n",
       "         1660665: 627,\n",
       "         760336: 173,\n",
       "         153795: 221,\n",
       "         1252757: 264,\n",
       "         321951: 181,\n",
       "         772148: 420,\n",
       "         1419849: 2841,\n",
       "         258814: 1721,\n",
       "         1400476: 130,\n",
       "         1712906: 1518,\n",
       "         932551: 943,\n",
       "         1654062: 82,\n",
       "         1330755: 55,\n",
       "         1445029: 52,\n",
       "         269392: 442,\n",
       "         1293111: 48,\n",
       "         1668149: 433,\n",
       "         1848052: 267,\n",
       "         1087154: 80,\n",
       "         394270: 190,\n",
       "         809485: 106,\n",
       "         1125638: 2228,\n",
       "         1261664: 572,\n",
       "         338274: 435,\n",
       "         144673: 466,\n",
       "         1025237: 183,\n",
       "         592124: 19,\n",
       "         689961: 6,\n",
       "         1464271: 413,\n",
       "         1763604: 146,\n",
       "         632365: 3994,\n",
       "         48688: 356,\n",
       "         1499836: 212,\n",
       "         634452: 2278,\n",
       "         354056: 455,\n",
       "         846336: 1570,\n",
       "         989352: 60,\n",
       "         500609: 3902,\n",
       "         1847290: 356,\n",
       "         1409430: 67,\n",
       "         328087: 2749,\n",
       "         783880: 466,\n",
       "         171020: 80,\n",
       "         1165831: 95,\n",
       "         1288595: 115,\n",
       "         1738123: 71,\n",
       "         1262858: 223,\n",
       "         1170970: 6,\n",
       "         1574169: 67,\n",
       "         1421518: 780,\n",
       "         461590: 276,\n",
       "         675538: 106,\n",
       "         1023972: 130,\n",
       "         1375970: 341,\n",
       "         1196357: 74,\n",
       "         196781: 120,\n",
       "         326181: 97,\n",
       "         1034318: 14,\n",
       "         1017052: 26,\n",
       "         1603836: 17,\n",
       "         351713: 13,\n",
       "         1257293: 3860,\n",
       "         1000932: 81,\n",
       "         1687209: 85,\n",
       "         933465: 23,\n",
       "         1847710: 272,\n",
       "         791627: 962,\n",
       "         724913: 147,\n",
       "         1662477: 122,\n",
       "         225122: 1718,\n",
       "         330119: 801,\n",
       "         973001: 42,\n",
       "         11972: 2,\n",
       "         567363: 211,\n",
       "         1104350: 311,\n",
       "         1559698: 733,\n",
       "         1003508: 112,\n",
       "         1031864: 853,\n",
       "         756548: 13,\n",
       "         1393473: 26,\n",
       "         1451063: 187,\n",
       "         1073260: 1285,\n",
       "         1572874: 836,\n",
       "         120548: 4,\n",
       "         1842471: 7,\n",
       "         892871: 3815,\n",
       "         573273: 1191,\n",
       "         1036623: 106,\n",
       "         1756417: 4,\n",
       "         404237: 150,\n",
       "         1664639: 34,\n",
       "         299326: 181,\n",
       "         913833: 30,\n",
       "         123604: 161,\n",
       "         634022: 528,\n",
       "         1520516: 129,\n",
       "         102066: 59,\n",
       "         1196256: 5827,\n",
       "         613714: 74,\n",
       "         902517: 62,\n",
       "         1019013: 77,\n",
       "         1652677: 64,\n",
       "         779973: 984,\n",
       "         1260980: 106,\n",
       "         644303: 706,\n",
       "         601826: 3,\n",
       "         1564950: 165,\n",
       "         1334342: 255,\n",
       "         978538: 167,\n",
       "         1231632: 12,\n",
       "         1502868: 28,\n",
       "         1681353: 221,\n",
       "         1463059: 51,\n",
       "         755099: 29,\n",
       "         687815: 276,\n",
       "         1296748: 33,\n",
       "         434131: 219,\n",
       "         1212653: 6,\n",
       "         1522853: 9,\n",
       "         987219: 330,\n",
       "         1843369: 827,\n",
       "         1473477: 26,\n",
       "         584027: 4497,\n",
       "         304579: 1639,\n",
       "         1635134: 101,\n",
       "         675133: 36,\n",
       "         1354002: 974,\n",
       "         1837183: 47,\n",
       "         501252: 16,\n",
       "         138122: 9,\n",
       "         1480277: 42,\n",
       "         273749: 24,\n",
       "         1497996: 161,\n",
       "         1847114: 137,\n",
       "         912200: 9,\n",
       "         260425: 1681,\n",
       "         1558874: 341,\n",
       "         457835: 193,\n",
       "         780939: 34,\n",
       "         626319: 165,\n",
       "         1374155: 276,\n",
       "         1181318: 444,\n",
       "         244705: 144,\n",
       "         848164: 56,\n",
       "         9268: 113,\n",
       "         803379: 37,\n",
       "         1235764: 13,\n",
       "         206519: 19,\n",
       "         484832: 47,\n",
       "         342808: 31,\n",
       "         1651627: 6,\n",
       "         579218: 478,\n",
       "         1782639: 45,\n",
       "         841121: 7,\n",
       "         1688963: 1,\n",
       "         407030: 1,\n",
       "         1517421: 6,\n",
       "         932900: 4,\n",
       "         1802425: 3,\n",
       "         93569: 52,\n",
       "         1382299: 14,\n",
       "         417723: 16,\n",
       "         950550: 18,\n",
       "         884964: 2,\n",
       "         1358900: 2,\n",
       "         453863: 6,\n",
       "         672140: 493,\n",
       "         1074496: 49,\n",
       "         1022055: 156,\n",
       "         1416395: 220,\n",
       "         769365: 31,\n",
       "         519435: 105,\n",
       "         1168557: 752,\n",
       "         1346580: 86,\n",
       "         646708: 260,\n",
       "         892959: 343,\n",
       "         1634266: 153,\n",
       "         486938: 57,\n",
       "         336910: 147,\n",
       "         1248752: 23,\n",
       "         1446002: 790,\n",
       "         1117526: 116,\n",
       "         692802: 91,\n",
       "         1073798: 8,\n",
       "         403756: 411,\n",
       "         1825417: 247,\n",
       "         423359: 183,\n",
       "         36026: 114,\n",
       "         1226284: 49,\n",
       "         814283: 34,\n",
       "         453913: 88,\n",
       "         131246: 49,\n",
       "         1277232: 9,\n",
       "         495473: 97,\n",
       "         1452500: 4,\n",
       "         1732027: 5,\n",
       "         1760327: 124,\n",
       "         1751260: 359,\n",
       "         700734: 233,\n",
       "         29931: 20,\n",
       "         472855: 30,\n",
       "         547244: 14,\n",
       "         1626601: 5,\n",
       "         1800327: 14,\n",
       "         1063899: 32,\n",
       "         1621608: 72,\n",
       "         211591: 173,\n",
       "         185878: 36,\n",
       "         1768668: 181,\n",
       "         736515: 2025,\n",
       "         301355: 153,\n",
       "         1014957: 98,\n",
       "         714839: 158,\n",
       "         45112: 72,\n",
       "         1405049: 50,\n",
       "         398319: 76,\n",
       "         1806104: 115,\n",
       "         425990: 183,\n",
       "         151961: 20,\n",
       "         1250986: 162,\n",
       "         655743: 300,\n",
       "         232928: 169,\n",
       "         719255: 321,\n",
       "         102468: 192,\n",
       "         83310: 90,\n",
       "         1006109: 147,\n",
       "         1386292: 88,\n",
       "         930433: 61,\n",
       "         57007: 12,\n",
       "         1103745: 97,\n",
       "         339075: 10,\n",
       "         ...})"
      ]
     },
     "metadata": {},
     "execution_count": 101
    }
   ],
   "source": [
    "article_click_freq"
   ],
   "metadata": {
    "collapsed": false,
    "pycharm": {
     "name": "#%%\n"
    }
   }
  },
  {
   "cell_type": "code",
   "execution_count": 102,
   "outputs": [],
   "source": [
    "# Get the 20 most frequent articles for each action\n",
    "top_click_article = nlargest(20, article_click_freq, key = article_click_freq.get)\n",
    "top_carts_article = nlargest(20, article_carts_freq, key = article_carts_freq.get)\n",
    "top_order_article = nlargest(20, article_order_freq, key = article_order_freq.get)"
   ],
   "metadata": {
    "collapsed": false,
    "pycharm": {
     "name": "#%%\n"
    }
   }
  },
  {
   "cell_type": "code",
   "execution_count": 103,
   "outputs": [],
   "source": [
    "\n",
    "# Create a dict with this info\n",
    "frequent_articles = {'clicks': top_click_article, 'carts':top_carts_article, 'order':top_order_article}"
   ],
   "metadata": {
    "collapsed": false,
    "pycharm": {
     "name": "#%%\n"
    }
   }
  },
  {
   "cell_type": "code",
   "execution_count": 104,
   "outputs": [
    {
     "output_type": "stream",
     "name": "stdout",
     "text": [
      "Most frequent articles for clicks: [1196256, 1502122, 673407, 508883, 1743151]\n",
      "Most frequent articles for carts: [1743151, 544144, 1498443, 351335, 247240]\n",
      "Most frequent articles for order: [923948, 801774, 247240, 1111967, 563117]\n"
     ]
    }
   ],
   "source": [
    "for action in ['clicks', 'carts', 'order']:\n",
    "    print(f'Most frequent articles for {action}: {frequent_articles[action][-5:]}')"
   ],
   "metadata": {
    "collapsed": false,
    "pycharm": {
     "name": "#%%\n"
    }
   }
  },
  {
   "cell_type": "code",
   "execution_count": 105,
   "outputs": [
    {
     "output_type": "display_data",
     "data": {
      "text/plain": [
       "  0%|          | 0/1671 [00:00<?, ?it/s]"
      ],
      "application/vnd.jupyter.widget-view+json": {
       "version_major": 2,
       "version_minor": 0,
       "model_id": "5549f29063444a2ea4faaa0e4231712b"
      }
     },
     "metadata": {}
    }
   ],
   "source": [
    "test_data = pd.read_json(TEST_PATH, lines=True, chunksize=1000)\n",
    "\n",
    "preds = []\n",
    "\n",
    "for chunk in tqdm(test_data, total=1671):\n",
    "\n",
    "    for i, row in chunk.iterrows():\n",
    "        actions = row['events']\n",
    "        article_id_list = []\n",
    "        for action in actions:\n",
    "            article_id_list.append(action['aid'])\n",
    "\n",
    "        # Get 20 most common article ID for the session\n",
    "        article_freq = Counter(article_id_list)\n",
    "        top_articles = nlargest(20, article_freq, key = article_freq.get)\n",
    "\n",
    "        # Pad with most popular items in training\n",
    "        padding_size = -(20 - len(top_articles))\n",
    "        for action in ['clicks', 'carts', 'order']:\n",
    "            top_articles = top_articles + frequent_articles[action][padding_size:]\n",
    "            preds.append(\" \".join([str(id) for id in top_articles]))"
   ],
   "metadata": {
    "collapsed": false,
    "pycharm": {
     "name": "#%%\n"
    }
   }
  },
  {
   "cell_type": "code",
   "execution_count": 134,
   "outputs": [],
   "source": [
    "import math\n",
    "\n",
    "# Predict the 20 most common atricles for each test session\n",
    "sample_submission['labels'] = preds\n",
    "\n",
    "sample_submission.to_csv('submission.csv', index=False)"
   ],
   "metadata": {
    "collapsed": false,
    "pycharm": {
     "name": "#%%\n"
    }
   }
  },
  {
   "cell_type": "markdown",
   "source": [],
   "metadata": {
    "collapsed": false,
    "pycharm": {
     "name": "#%% md\n"
    }
   }
  },
  {
   "cell_type": "code",
   "execution_count": 135,
   "outputs": [
    {
     "output_type": "stream",
     "name": "stdout",
     "text": [
      "Mounted at /gdrive\n"
     ]
    }
   ],
   "source": [
    "from google.colab import drive\n",
    "drive.mount('/gdrive')"
   ],
   "metadata": {
    "collapsed": false,
    "pycharm": {
     "name": "#%%\n"
    }
   }
  },
  {
   "cell_type": "code",
   "execution_count": 141,
   "outputs": [
    {
     "output_type": "stream",
     "name": "stdout",
     "text": [
      " 지갑키\n",
      "'제목없는 폴더'\n",
      "'[시각인지 알고리즘] 1. OpenCV 라이브러리 활용한 데이터 불러오기_저장하기.pptx'\n",
      " 네이버_1.PDF\n",
      " 2017-05-10-20-29-18.mp4\n",
      "'경비사용보고서_20220504 (1).xls'\n",
      " 경비사용보고서_20220504.xls\n",
      "'제20회 지역경제 활성화 우수사례 발표대회 자료집.pdf'\n",
      "'제5차 국토종합계획실천계획(2021-2025).pdf'\n",
      " A유형+10일+식단표.png\n",
      " Article_shuffled.csv\n",
      " B유형+10일+식단표.png\n",
      "'[baseline]어텐션이_적용된 Seq2Seq.ipynb'\n",
      " Bidirectional_LSTM\n",
      " Bi_LSTM.model.data-00000-of-00001\n",
      " Bi_LSTM.model.index\n",
      " Bi_LSTM.model.meta\n",
      " C0dkSfgAw3.mp4\n",
      "'Colab Notebooks'\n",
      "'Colaboratory에 오신 것을 환영합니다의 사본'\n",
      "'Docker Practice.pptx'\n",
      "'GoodByeDPI_GUI_64Bit_korean (2).zip'\n",
      " Highlights.zip\n",
      "'KopoScalpingTrader-main (2).zip'\n",
      " KopoScalpingTrader-main.zip\n",
      "'kopoStockModel-master (3).zip'\n",
      "'kopostockmodel-master - 복사본.zip'\n",
      " metastream30227\n",
      " metastream30227_백업\n",
      " metastream30227.zip\n",
      " post.embedding\n",
      " post.embedding.trainables.syn1neg.npy\n",
      " post.embedding.wv.vectors.npy\n",
      "'[머신러닝] 미니 프로젝트.pptx'\n",
      " setup.py\n",
      "'Todos 과제222.pptx'\n",
      "'[세로버전v2]_김광호 프로그램 1.5.xlsx'\n",
      "'(세로버전v3)4일 파워빌딩.xlsx'\n",
      "'붙임_문화+빅데이터+인사이트+리포트+vol.1. (1).pdf'\n",
      " 파워빌딩.xlsx\n",
      " 백업할파일.zip\n",
      " 答辩ppt.pptx\n"
     ]
    }
   ],
   "source": [
    "!ls /gdrive/MyDrive"
   ],
   "metadata": {
    "collapsed": false,
    "pycharm": {
     "name": "#%%\n"
    }
   }
  },
  {
   "cell_type": "code",
   "execution_count": 145,
   "outputs": [
    {
     "output_type": "execute_result",
     "data": {
      "text/plain": [
       "            session_type                                             labels\n",
       "0        12899779_clicks  59625 1733943 108125 1603001 832192 1460571 18...\n",
       "1         12899779_carts  59625 1733943 108125 1603001 832192 1460571 18...\n",
       "2        12899779_orders  59625 1733943 108125 1603001 832192 1460571 18...\n",
       "3        12899780_clicks  1142000 582732 973453 736515 832192 1460571 18...\n",
       "4         12899780_carts  1142000 582732 973453 736515 832192 1460571 18...\n",
       "...                  ...                                                ...\n",
       "5015404   14571580_carts  202353 1733943 108125 1603001 832192 1460571 1...\n",
       "5015405  14571580_orders  202353 1733943 108125 1603001 832192 1460571 1...\n",
       "5015406  14571581_clicks  1100210 1733943 108125 1603001 832192 1460571 ...\n",
       "5015407   14571581_carts  1100210 1733943 108125 1603001 832192 1460571 ...\n",
       "5015408  14571581_orders  1100210 1733943 108125 1603001 832192 1460571 ...\n",
       "\n",
       "[5015409 rows x 2 columns]"
      ],
      "text/html": [
       "\n",
       "  <div id=\"df-d6e2c618-ffd6-42d8-82bb-199d7781b5b0\">\n",
       "    <div class=\"colab-df-container\">\n",
       "      <div>\n",
       "<style scoped>\n",
       "    .dataframe tbody tr th:only-of-type {\n",
       "        vertical-align: middle;\n",
       "    }\n",
       "\n",
       "    .dataframe tbody tr th {\n",
       "        vertical-align: top;\n",
       "    }\n",
       "\n",
       "    .dataframe thead th {\n",
       "        text-align: right;\n",
       "    }\n",
       "</style>\n",
       "<table border=\"1\" class=\"dataframe\">\n",
       "  <thead>\n",
       "    <tr style=\"text-align: right;\">\n",
       "      <th></th>\n",
       "      <th>session_type</th>\n",
       "      <th>labels</th>\n",
       "    </tr>\n",
       "  </thead>\n",
       "  <tbody>\n",
       "    <tr>\n",
       "      <th>0</th>\n",
       "      <td>12899779_clicks</td>\n",
       "      <td>59625 1733943 108125 1603001 832192 1460571 18...</td>\n",
       "    </tr>\n",
       "    <tr>\n",
       "      <th>1</th>\n",
       "      <td>12899779_carts</td>\n",
       "      <td>59625 1733943 108125 1603001 832192 1460571 18...</td>\n",
       "    </tr>\n",
       "    <tr>\n",
       "      <th>2</th>\n",
       "      <td>12899779_orders</td>\n",
       "      <td>59625 1733943 108125 1603001 832192 1460571 18...</td>\n",
       "    </tr>\n",
       "    <tr>\n",
       "      <th>3</th>\n",
       "      <td>12899780_clicks</td>\n",
       "      <td>1142000 582732 973453 736515 832192 1460571 18...</td>\n",
       "    </tr>\n",
       "    <tr>\n",
       "      <th>4</th>\n",
       "      <td>12899780_carts</td>\n",
       "      <td>1142000 582732 973453 736515 832192 1460571 18...</td>\n",
       "    </tr>\n",
       "    <tr>\n",
       "      <th>...</th>\n",
       "      <td>...</td>\n",
       "      <td>...</td>\n",
       "    </tr>\n",
       "    <tr>\n",
       "      <th>5015404</th>\n",
       "      <td>14571580_carts</td>\n",
       "      <td>202353 1733943 108125 1603001 832192 1460571 1...</td>\n",
       "    </tr>\n",
       "    <tr>\n",
       "      <th>5015405</th>\n",
       "      <td>14571580_orders</td>\n",
       "      <td>202353 1733943 108125 1603001 832192 1460571 1...</td>\n",
       "    </tr>\n",
       "    <tr>\n",
       "      <th>5015406</th>\n",
       "      <td>14571581_clicks</td>\n",
       "      <td>1100210 1733943 108125 1603001 832192 1460571 ...</td>\n",
       "    </tr>\n",
       "    <tr>\n",
       "      <th>5015407</th>\n",
       "      <td>14571581_carts</td>\n",
       "      <td>1100210 1733943 108125 1603001 832192 1460571 ...</td>\n",
       "    </tr>\n",
       "    <tr>\n",
       "      <th>5015408</th>\n",
       "      <td>14571581_orders</td>\n",
       "      <td>1100210 1733943 108125 1603001 832192 1460571 ...</td>\n",
       "    </tr>\n",
       "  </tbody>\n",
       "</table>\n",
       "<p>5015409 rows × 2 columns</p>\n",
       "</div>\n",
       "      <button class=\"colab-df-convert\" onclick=\"convertToInteractive('df-d6e2c618-ffd6-42d8-82bb-199d7781b5b0')\"\n",
       "              title=\"Convert this dataframe to an interactive table.\"\n",
       "              style=\"display:none;\">\n",
       "        \n",
       "  <svg xmlns=\"http://www.w3.org/2000/svg\" height=\"24px\"viewBox=\"0 0 24 24\"\n",
       "       width=\"24px\">\n",
       "    <path d=\"M0 0h24v24H0V0z\" fill=\"none\"/>\n",
       "    <path d=\"M18.56 5.44l.94 2.06.94-2.06 2.06-.94-2.06-.94-.94-2.06-.94 2.06-2.06.94zm-11 1L8.5 8.5l.94-2.06 2.06-.94-2.06-.94L8.5 2.5l-.94 2.06-2.06.94zm10 10l.94 2.06.94-2.06 2.06-.94-2.06-.94-.94-2.06-.94 2.06-2.06.94z\"/><path d=\"M17.41 7.96l-1.37-1.37c-.4-.4-.92-.59-1.43-.59-.52 0-1.04.2-1.43.59L10.3 9.45l-7.72 7.72c-.78.78-.78 2.05 0 2.83L4 21.41c.39.39.9.59 1.41.59.51 0 1.02-.2 1.41-.59l7.78-7.78 2.81-2.81c.8-.78.8-2.07 0-2.86zM5.41 20L4 18.59l7.72-7.72 1.47 1.35L5.41 20z\"/>\n",
       "  </svg>\n",
       "      </button>\n",
       "      \n",
       "  <style>\n",
       "    .colab-df-container {\n",
       "      display:flex;\n",
       "      flex-wrap:wrap;\n",
       "      gap: 12px;\n",
       "    }\n",
       "\n",
       "    .colab-df-convert {\n",
       "      background-color: #E8F0FE;\n",
       "      border: none;\n",
       "      border-radius: 50%;\n",
       "      cursor: pointer;\n",
       "      display: none;\n",
       "      fill: #1967D2;\n",
       "      height: 32px;\n",
       "      padding: 0 0 0 0;\n",
       "      width: 32px;\n",
       "    }\n",
       "\n",
       "    .colab-df-convert:hover {\n",
       "      background-color: #E2EBFA;\n",
       "      box-shadow: 0px 1px 2px rgba(60, 64, 67, 0.3), 0px 1px 3px 1px rgba(60, 64, 67, 0.15);\n",
       "      fill: #174EA6;\n",
       "    }\n",
       "\n",
       "    [theme=dark] .colab-df-convert {\n",
       "      background-color: #3B4455;\n",
       "      fill: #D2E3FC;\n",
       "    }\n",
       "\n",
       "    [theme=dark] .colab-df-convert:hover {\n",
       "      background-color: #434B5C;\n",
       "      box-shadow: 0px 1px 3px 1px rgba(0, 0, 0, 0.15);\n",
       "      filter: drop-shadow(0px 1px 2px rgba(0, 0, 0, 0.3));\n",
       "      fill: #FFFFFF;\n",
       "    }\n",
       "  </style>\n",
       "\n",
       "      <script>\n",
       "        const buttonEl =\n",
       "          document.querySelector('#df-d6e2c618-ffd6-42d8-82bb-199d7781b5b0 button.colab-df-convert');\n",
       "        buttonEl.style.display =\n",
       "          google.colab.kernel.accessAllowed ? 'block' : 'none';\n",
       "\n",
       "        async function convertToInteractive(key) {\n",
       "          const element = document.querySelector('#df-d6e2c618-ffd6-42d8-82bb-199d7781b5b0');\n",
       "          const dataTable =\n",
       "            await google.colab.kernel.invokeFunction('convertToInteractive',\n",
       "                                                     [key], {});\n",
       "          if (!dataTable) return;\n",
       "\n",
       "          const docLinkHtml = 'Like what you see? Visit the ' +\n",
       "            '<a target=\"_blank\" href=https://colab.research.google.com/notebooks/data_table.ipynb>data table notebook</a>'\n",
       "            + ' to learn more about interactive tables.';\n",
       "          element.innerHTML = '';\n",
       "          dataTable['output_type'] = 'display_data';\n",
       "          await google.colab.output.renderOutput(dataTable, element);\n",
       "          const docLink = document.createElement('div');\n",
       "          docLink.innerHTML = docLinkHtml;\n",
       "          element.appendChild(docLink);\n",
       "        }\n",
       "      </script>\n",
       "    </div>\n",
       "  </div>\n",
       "  "
      ]
     },
     "metadata": {},
     "execution_count": 145
    }
   ],
   "source": [
    "sample_submission"
   ],
   "metadata": {
    "collapsed": false,
    "pycharm": {
     "name": "#%%\n"
    }
   }
  },
  {
   "cell_type": "code",
   "execution_count": 143,
   "outputs": [],
   "source": [
    "sample_submission.to_csv('/gdrive/MyDrive/submission.csv')"
   ],
   "metadata": {
    "collapsed": false,
    "pycharm": {
     "name": "#%%\n"
    }
   }
  },
  {
   "cell_type": "code",
   "execution_count": 148,
   "outputs": [],
   "source": [
    "sample_submission_ = pd.read_csv('/gdrive/MyDrive/submission.csv')"
   ],
   "metadata": {
    "collapsed": false,
    "pycharm": {
     "name": "#%%\n"
    }
   }
  },
  {
   "cell_type": "code",
   "execution_count": null,
   "outputs": [],
   "source": [
    "sample_submission_.to_csv('/gdrive/MyDrive/submission.csv',as_index=False)\n"
   ],
   "metadata": {
    "collapsed": false,
    "pycharm": {
     "name": "#%%\n"
    }
   }
  },
  {
   "cell_type": "code",
   "execution_count": 152,
   "outputs": [],
   "source": [
    "sample_submission.to_csv('/gdrive/MyDrive/submission.csv', index=False)"
   ],
   "metadata": {
    "collapsed": false,
    "pycharm": {
     "name": "#%%\n"
    }
   }
  },
  {
   "cell_type": "code",
   "execution_count": 153,
   "outputs": [
    {
     "output_type": "execute_result",
     "data": {
      "text/plain": [
       "            session_type                                             labels\n",
       "0        12899779_clicks  59625 1733943 108125 1603001 832192 1460571 18...\n",
       "1         12899779_carts  59625 1733943 108125 1603001 832192 1460571 18...\n",
       "2        12899779_orders  59625 1733943 108125 1603001 832192 1460571 18...\n",
       "3        12899780_clicks  1142000 582732 973453 736515 832192 1460571 18...\n",
       "4         12899780_carts  1142000 582732 973453 736515 832192 1460571 18...\n",
       "...                  ...                                                ...\n",
       "5015404   14571580_carts  202353 1733943 108125 1603001 832192 1460571 1...\n",
       "5015405  14571580_orders  202353 1733943 108125 1603001 832192 1460571 1...\n",
       "5015406  14571581_clicks  1100210 1733943 108125 1603001 832192 1460571 ...\n",
       "5015407   14571581_carts  1100210 1733943 108125 1603001 832192 1460571 ...\n",
       "5015408  14571581_orders  1100210 1733943 108125 1603001 832192 1460571 ...\n",
       "\n",
       "[5015409 rows x 2 columns]"
      ],
      "text/html": [
       "\n",
       "  <div id=\"df-e720358c-f216-4704-831f-7c3513d3b984\">\n",
       "    <div class=\"colab-df-container\">\n",
       "      <div>\n",
       "<style scoped>\n",
       "    .dataframe tbody tr th:only-of-type {\n",
       "        vertical-align: middle;\n",
       "    }\n",
       "\n",
       "    .dataframe tbody tr th {\n",
       "        vertical-align: top;\n",
       "    }\n",
       "\n",
       "    .dataframe thead th {\n",
       "        text-align: right;\n",
       "    }\n",
       "</style>\n",
       "<table border=\"1\" class=\"dataframe\">\n",
       "  <thead>\n",
       "    <tr style=\"text-align: right;\">\n",
       "      <th></th>\n",
       "      <th>session_type</th>\n",
       "      <th>labels</th>\n",
       "    </tr>\n",
       "  </thead>\n",
       "  <tbody>\n",
       "    <tr>\n",
       "      <th>0</th>\n",
       "      <td>12899779_clicks</td>\n",
       "      <td>59625 1733943 108125 1603001 832192 1460571 18...</td>\n",
       "    </tr>\n",
       "    <tr>\n",
       "      <th>1</th>\n",
       "      <td>12899779_carts</td>\n",
       "      <td>59625 1733943 108125 1603001 832192 1460571 18...</td>\n",
       "    </tr>\n",
       "    <tr>\n",
       "      <th>2</th>\n",
       "      <td>12899779_orders</td>\n",
       "      <td>59625 1733943 108125 1603001 832192 1460571 18...</td>\n",
       "    </tr>\n",
       "    <tr>\n",
       "      <th>3</th>\n",
       "      <td>12899780_clicks</td>\n",
       "      <td>1142000 582732 973453 736515 832192 1460571 18...</td>\n",
       "    </tr>\n",
       "    <tr>\n",
       "      <th>4</th>\n",
       "      <td>12899780_carts</td>\n",
       "      <td>1142000 582732 973453 736515 832192 1460571 18...</td>\n",
       "    </tr>\n",
       "    <tr>\n",
       "      <th>...</th>\n",
       "      <td>...</td>\n",
       "      <td>...</td>\n",
       "    </tr>\n",
       "    <tr>\n",
       "      <th>5015404</th>\n",
       "      <td>14571580_carts</td>\n",
       "      <td>202353 1733943 108125 1603001 832192 1460571 1...</td>\n",
       "    </tr>\n",
       "    <tr>\n",
       "      <th>5015405</th>\n",
       "      <td>14571580_orders</td>\n",
       "      <td>202353 1733943 108125 1603001 832192 1460571 1...</td>\n",
       "    </tr>\n",
       "    <tr>\n",
       "      <th>5015406</th>\n",
       "      <td>14571581_clicks</td>\n",
       "      <td>1100210 1733943 108125 1603001 832192 1460571 ...</td>\n",
       "    </tr>\n",
       "    <tr>\n",
       "      <th>5015407</th>\n",
       "      <td>14571581_carts</td>\n",
       "      <td>1100210 1733943 108125 1603001 832192 1460571 ...</td>\n",
       "    </tr>\n",
       "    <tr>\n",
       "      <th>5015408</th>\n",
       "      <td>14571581_orders</td>\n",
       "      <td>1100210 1733943 108125 1603001 832192 1460571 ...</td>\n",
       "    </tr>\n",
       "  </tbody>\n",
       "</table>\n",
       "<p>5015409 rows × 2 columns</p>\n",
       "</div>\n",
       "      <button class=\"colab-df-convert\" onclick=\"convertToInteractive('df-e720358c-f216-4704-831f-7c3513d3b984')\"\n",
       "              title=\"Convert this dataframe to an interactive table.\"\n",
       "              style=\"display:none;\">\n",
       "        \n",
       "  <svg xmlns=\"http://www.w3.org/2000/svg\" height=\"24px\"viewBox=\"0 0 24 24\"\n",
       "       width=\"24px\">\n",
       "    <path d=\"M0 0h24v24H0V0z\" fill=\"none\"/>\n",
       "    <path d=\"M18.56 5.44l.94 2.06.94-2.06 2.06-.94-2.06-.94-.94-2.06-.94 2.06-2.06.94zm-11 1L8.5 8.5l.94-2.06 2.06-.94-2.06-.94L8.5 2.5l-.94 2.06-2.06.94zm10 10l.94 2.06.94-2.06 2.06-.94-2.06-.94-.94-2.06-.94 2.06-2.06.94z\"/><path d=\"M17.41 7.96l-1.37-1.37c-.4-.4-.92-.59-1.43-.59-.52 0-1.04.2-1.43.59L10.3 9.45l-7.72 7.72c-.78.78-.78 2.05 0 2.83L4 21.41c.39.39.9.59 1.41.59.51 0 1.02-.2 1.41-.59l7.78-7.78 2.81-2.81c.8-.78.8-2.07 0-2.86zM5.41 20L4 18.59l7.72-7.72 1.47 1.35L5.41 20z\"/>\n",
       "  </svg>\n",
       "      </button>\n",
       "      \n",
       "  <style>\n",
       "    .colab-df-container {\n",
       "      display:flex;\n",
       "      flex-wrap:wrap;\n",
       "      gap: 12px;\n",
       "    }\n",
       "\n",
       "    .colab-df-convert {\n",
       "      background-color: #E8F0FE;\n",
       "      border: none;\n",
       "      border-radius: 50%;\n",
       "      cursor: pointer;\n",
       "      display: none;\n",
       "      fill: #1967D2;\n",
       "      height: 32px;\n",
       "      padding: 0 0 0 0;\n",
       "      width: 32px;\n",
       "    }\n",
       "\n",
       "    .colab-df-convert:hover {\n",
       "      background-color: #E2EBFA;\n",
       "      box-shadow: 0px 1px 2px rgba(60, 64, 67, 0.3), 0px 1px 3px 1px rgba(60, 64, 67, 0.15);\n",
       "      fill: #174EA6;\n",
       "    }\n",
       "\n",
       "    [theme=dark] .colab-df-convert {\n",
       "      background-color: #3B4455;\n",
       "      fill: #D2E3FC;\n",
       "    }\n",
       "\n",
       "    [theme=dark] .colab-df-convert:hover {\n",
       "      background-color: #434B5C;\n",
       "      box-shadow: 0px 1px 3px 1px rgba(0, 0, 0, 0.15);\n",
       "      filter: drop-shadow(0px 1px 2px rgba(0, 0, 0, 0.3));\n",
       "      fill: #FFFFFF;\n",
       "    }\n",
       "  </style>\n",
       "\n",
       "      <script>\n",
       "        const buttonEl =\n",
       "          document.querySelector('#df-e720358c-f216-4704-831f-7c3513d3b984 button.colab-df-convert');\n",
       "        buttonEl.style.display =\n",
       "          google.colab.kernel.accessAllowed ? 'block' : 'none';\n",
       "\n",
       "        async function convertToInteractive(key) {\n",
       "          const element = document.querySelector('#df-e720358c-f216-4704-831f-7c3513d3b984');\n",
       "          const dataTable =\n",
       "            await google.colab.kernel.invokeFunction('convertToInteractive',\n",
       "                                                     [key], {});\n",
       "          if (!dataTable) return;\n",
       "\n",
       "          const docLinkHtml = 'Like what you see? Visit the ' +\n",
       "            '<a target=\"_blank\" href=https://colab.research.google.com/notebooks/data_table.ipynb>data table notebook</a>'\n",
       "            + ' to learn more about interactive tables.';\n",
       "          element.innerHTML = '';\n",
       "          dataTable['output_type'] = 'display_data';\n",
       "          await google.colab.output.renderOutput(dataTable, element);\n",
       "          const docLink = document.createElement('div');\n",
       "          docLink.innerHTML = docLinkHtml;\n",
       "          element.appendChild(docLink);\n",
       "        }\n",
       "      </script>\n",
       "    </div>\n",
       "  </div>\n",
       "  "
      ]
     },
     "metadata": {},
     "execution_count": 153
    }
   ],
   "source": [
    "pd.read_csv('/gdrive/MyDrive/submission.csv')"
   ],
   "metadata": {
    "collapsed": false,
    "pycharm": {
     "name": "#%%\n"
    }
   }
  },
  {
   "cell_type": "code",
   "execution_count": null,
   "outputs": [],
   "source": [],
   "metadata": {
    "collapsed": false,
    "pycharm": {
     "name": "#%%\n"
    }
   }
  },
  {
   "cell_type": "code",
   "execution_count": 149,
   "outputs": [
    {
     "output_type": "execute_result",
     "data": {
      "text/plain": [
       "5015409"
      ]
     },
     "metadata": {},
     "execution_count": 149
    }
   ],
   "source": [
    "len(sample_submission)"
   ],
   "metadata": {
    "collapsed": false,
    "pycharm": {
     "name": "#%%\n"
    }
   }
  },
  {
   "cell_type": "code",
   "execution_count": 133,
   "outputs": [
    {
     "output_type": "execute_result",
     "data": {
      "text/plain": [
       "[1100210]"
      ]
     },
     "metadata": {},
     "execution_count": 133
    }
   ],
   "source": [
    "nlargest( 20, article_freq, key=article_freq.get)"
   ],
   "metadata": {
    "collapsed": false,
    "pycharm": {
     "name": "#%%\n"
    }
   }
  },
  {
   "cell_type": "code",
   "execution_count": 125,
   "outputs": [
    {
     "output_type": "execute_result",
     "data": {
      "text/plain": [
       "'1100210 1733943 108125 1603001 832192 1460571 184976 959208 554660 1083665 247240 322370 80222 166037 332654 1196256 1502122 673407 508883 1743151 29735 1733943 166037 485256 1022566 832192 1629608 152547 1603001 1083665 231487 322370 332654 554660 1743151 544144 1498443 351335 247240 166037 1022566 351335 1629608 1733943 1445562 231487 1603001 1083665 332654 800391 125278 29735 162064 923948 801774 247240 1111967 563117'"
      ],
      "application/vnd.google.colaboratory.intrinsic+json": {
       "type": "string"
      }
     },
     "metadata": {},
     "execution_count": 125
    }
   ],
   "source": [
    "# session에서 가장 자주 나타나는 것들을 먼저 추가하고\n",
    "# 나머지는 cold start 로 간주하여  most populart items으로 padding 하여 추천한다\n",
    "# 변형하려 하지 말고 단 baseline 제출하고 상승 하는지 하강 하는 지 기준 점을 잡자 (경험 ,이전 대회에서 변형하려다 baseline도 제대로 구현 못함\n",
    ")"
   ],
   "metadata": {
    "collapsed": false,
    "pycharm": {
     "name": "#%%\n"
    }
   }
  },
  {
   "cell_type": "code",
   "execution_count": null,
   "outputs": [],
   "source": [
    "\n",
    "# 꼭 같은 길이는 아닌 듯 하다\n"
   ],
   "metadata": {
    "collapsed": false,
    "pycharm": {
     "name": "#%%\n"
    }
   }
  },
  {
   "cell_type": "code",
   "execution_count": 111,
   "outputs": [
    {
     "output_type": "execute_result",
     "data": {
      "text/plain": [
       "            session_type                labels\n",
       "0        12899779_clicks  129004 126836 118524\n",
       "1         12899779_carts  129004 126836 118524\n",
       "2        12899779_orders  129004 126836 118524\n",
       "3        12899780_clicks  129004 126836 118524\n",
       "4         12899780_carts  129004 126836 118524\n",
       "...                  ...                   ...\n",
       "5015404   14571580_carts  129004 126836 118524\n",
       "5015405  14571580_orders  129004 126836 118524\n",
       "5015406  14571581_clicks  129004 126836 118524\n",
       "5015407   14571581_carts  129004 126836 118524\n",
       "5015408  14571581_orders  129004 126836 118524\n",
       "\n",
       "[5015409 rows x 2 columns]"
      ],
      "text/html": [
       "\n",
       "  <div id=\"df-5544bf29-4b39-4da4-9c5f-33cdf04a38be\">\n",
       "    <div class=\"colab-df-container\">\n",
       "      <div>\n",
       "<style scoped>\n",
       "    .dataframe tbody tr th:only-of-type {\n",
       "        vertical-align: middle;\n",
       "    }\n",
       "\n",
       "    .dataframe tbody tr th {\n",
       "        vertical-align: top;\n",
       "    }\n",
       "\n",
       "    .dataframe thead th {\n",
       "        text-align: right;\n",
       "    }\n",
       "</style>\n",
       "<table border=\"1\" class=\"dataframe\">\n",
       "  <thead>\n",
       "    <tr style=\"text-align: right;\">\n",
       "      <th></th>\n",
       "      <th>session_type</th>\n",
       "      <th>labels</th>\n",
       "    </tr>\n",
       "  </thead>\n",
       "  <tbody>\n",
       "    <tr>\n",
       "      <th>0</th>\n",
       "      <td>12899779_clicks</td>\n",
       "      <td>129004 126836 118524</td>\n",
       "    </tr>\n",
       "    <tr>\n",
       "      <th>1</th>\n",
       "      <td>12899779_carts</td>\n",
       "      <td>129004 126836 118524</td>\n",
       "    </tr>\n",
       "    <tr>\n",
       "      <th>2</th>\n",
       "      <td>12899779_orders</td>\n",
       "      <td>129004 126836 118524</td>\n",
       "    </tr>\n",
       "    <tr>\n",
       "      <th>3</th>\n",
       "      <td>12899780_clicks</td>\n",
       "      <td>129004 126836 118524</td>\n",
       "    </tr>\n",
       "    <tr>\n",
       "      <th>4</th>\n",
       "      <td>12899780_carts</td>\n",
       "      <td>129004 126836 118524</td>\n",
       "    </tr>\n",
       "    <tr>\n",
       "      <th>...</th>\n",
       "      <td>...</td>\n",
       "      <td>...</td>\n",
       "    </tr>\n",
       "    <tr>\n",
       "      <th>5015404</th>\n",
       "      <td>14571580_carts</td>\n",
       "      <td>129004 126836 118524</td>\n",
       "    </tr>\n",
       "    <tr>\n",
       "      <th>5015405</th>\n",
       "      <td>14571580_orders</td>\n",
       "      <td>129004 126836 118524</td>\n",
       "    </tr>\n",
       "    <tr>\n",
       "      <th>5015406</th>\n",
       "      <td>14571581_clicks</td>\n",
       "      <td>129004 126836 118524</td>\n",
       "    </tr>\n",
       "    <tr>\n",
       "      <th>5015407</th>\n",
       "      <td>14571581_carts</td>\n",
       "      <td>129004 126836 118524</td>\n",
       "    </tr>\n",
       "    <tr>\n",
       "      <th>5015408</th>\n",
       "      <td>14571581_orders</td>\n",
       "      <td>129004 126836 118524</td>\n",
       "    </tr>\n",
       "  </tbody>\n",
       "</table>\n",
       "<p>5015409 rows × 2 columns</p>\n",
       "</div>\n",
       "      <button class=\"colab-df-convert\" onclick=\"convertToInteractive('df-5544bf29-4b39-4da4-9c5f-33cdf04a38be')\"\n",
       "              title=\"Convert this dataframe to an interactive table.\"\n",
       "              style=\"display:none;\">\n",
       "        \n",
       "  <svg xmlns=\"http://www.w3.org/2000/svg\" height=\"24px\"viewBox=\"0 0 24 24\"\n",
       "       width=\"24px\">\n",
       "    <path d=\"M0 0h24v24H0V0z\" fill=\"none\"/>\n",
       "    <path d=\"M18.56 5.44l.94 2.06.94-2.06 2.06-.94-2.06-.94-.94-2.06-.94 2.06-2.06.94zm-11 1L8.5 8.5l.94-2.06 2.06-.94-2.06-.94L8.5 2.5l-.94 2.06-2.06.94zm10 10l.94 2.06.94-2.06 2.06-.94-2.06-.94-.94-2.06-.94 2.06-2.06.94z\"/><path d=\"M17.41 7.96l-1.37-1.37c-.4-.4-.92-.59-1.43-.59-.52 0-1.04.2-1.43.59L10.3 9.45l-7.72 7.72c-.78.78-.78 2.05 0 2.83L4 21.41c.39.39.9.59 1.41.59.51 0 1.02-.2 1.41-.59l7.78-7.78 2.81-2.81c.8-.78.8-2.07 0-2.86zM5.41 20L4 18.59l7.72-7.72 1.47 1.35L5.41 20z\"/>\n",
       "  </svg>\n",
       "      </button>\n",
       "      \n",
       "  <style>\n",
       "    .colab-df-container {\n",
       "      display:flex;\n",
       "      flex-wrap:wrap;\n",
       "      gap: 12px;\n",
       "    }\n",
       "\n",
       "    .colab-df-convert {\n",
       "      background-color: #E8F0FE;\n",
       "      border: none;\n",
       "      border-radius: 50%;\n",
       "      cursor: pointer;\n",
       "      display: none;\n",
       "      fill: #1967D2;\n",
       "      height: 32px;\n",
       "      padding: 0 0 0 0;\n",
       "      width: 32px;\n",
       "    }\n",
       "\n",
       "    .colab-df-convert:hover {\n",
       "      background-color: #E2EBFA;\n",
       "      box-shadow: 0px 1px 2px rgba(60, 64, 67, 0.3), 0px 1px 3px 1px rgba(60, 64, 67, 0.15);\n",
       "      fill: #174EA6;\n",
       "    }\n",
       "\n",
       "    [theme=dark] .colab-df-convert {\n",
       "      background-color: #3B4455;\n",
       "      fill: #D2E3FC;\n",
       "    }\n",
       "\n",
       "    [theme=dark] .colab-df-convert:hover {\n",
       "      background-color: #434B5C;\n",
       "      box-shadow: 0px 1px 3px 1px rgba(0, 0, 0, 0.15);\n",
       "      filter: drop-shadow(0px 1px 2px rgba(0, 0, 0, 0.3));\n",
       "      fill: #FFFFFF;\n",
       "    }\n",
       "  </style>\n",
       "\n",
       "      <script>\n",
       "        const buttonEl =\n",
       "          document.querySelector('#df-5544bf29-4b39-4da4-9c5f-33cdf04a38be button.colab-df-convert');\n",
       "        buttonEl.style.display =\n",
       "          google.colab.kernel.accessAllowed ? 'block' : 'none';\n",
       "\n",
       "        async function convertToInteractive(key) {\n",
       "          const element = document.querySelector('#df-5544bf29-4b39-4da4-9c5f-33cdf04a38be');\n",
       "          const dataTable =\n",
       "            await google.colab.kernel.invokeFunction('convertToInteractive',\n",
       "                                                     [key], {});\n",
       "          if (!dataTable) return;\n",
       "\n",
       "          const docLinkHtml = 'Like what you see? Visit the ' +\n",
       "            '<a target=\"_blank\" href=https://colab.research.google.com/notebooks/data_table.ipynb>data table notebook</a>'\n",
       "            + ' to learn more about interactive tables.';\n",
       "          element.innerHTML = '';\n",
       "          dataTable['output_type'] = 'display_data';\n",
       "          await google.colab.output.renderOutput(dataTable, element);\n",
       "          const docLink = document.createElement('div');\n",
       "          docLink.innerHTML = docLinkHtml;\n",
       "          element.appendChild(docLink);\n",
       "        }\n",
       "      </script>\n",
       "    </div>\n",
       "  </div>\n",
       "  "
      ]
     },
     "metadata": {},
     "execution_count": 111
    }
   ],
   "source": [
    "# session_type 에 대해 예측하기\n",
    "sample_submission"
   ],
   "metadata": {
    "collapsed": false,
    "pycharm": {
     "name": "#%%\n"
    }
   }
  },
  {
   "cell_type": "code",
   "execution_count": 110,
   "outputs": [
    {
     "output_type": "execute_result",
     "data": {
      "text/plain": [
       "283"
      ]
     },
     "metadata": {},
     "execution_count": 110
    }
   ],
   "source": [
    "len(preds[1])"
   ],
   "metadata": {
    "collapsed": false,
    "pycharm": {
     "name": "#%%\n"
    }
   }
  },
  {
   "cell_type": "code",
   "execution_count": 1,
   "outputs": [
    {
     "output_type": "error",
     "ename": "NameError",
     "evalue": "ignored",
     "traceback": [
      "\u001B[0;31m---------------------------------------------------------------------------\u001B[0m",
      "\u001B[0;31mNameError\u001B[0m                                 Traceback (most recent call last)",
      "\u001B[0;32m<ipython-input-1-18b5bdedc3bc>\u001B[0m in \u001B[0;36m<module>\u001B[0;34m\u001B[0m\n\u001B[0;32m----> 1\u001B[0;31m \u001B[0mlen\u001B[0m\u001B[0;34m(\u001B[0m\u001B[0mpreds\u001B[0m\u001B[0;34m[\u001B[0m\u001B[0;36m0\u001B[0m\u001B[0;34m]\u001B[0m\u001B[0;34m)\u001B[0m\u001B[0;34m\u001B[0m\u001B[0;34m\u001B[0m\u001B[0m\n\u001B[0m",
      "\u001B[0;31mNameError\u001B[0m: name 'preds' is not defined"
     ]
    }
   ],
   "source": [
    "len(preds[0])"
   ],
   "metadata": {
    "collapsed": false,
    "pycharm": {
     "name": "#%%\n"
    }
   }
  },
  {
   "cell_type": "code",
   "execution_count": null,
   "outputs": [],
   "source": [],
   "metadata": {
    "collapsed": false,
    "pycharm": {
     "name": "#%%\n"
    }
   }
  },
  {
   "cell_type": "code",
   "execution_count": null,
   "outputs": [],
   "source": [],
   "metadata": {
    "collapsed": false,
    "pycharm": {
     "name": "#%%\n"
    }
   }
  },
  {
   "cell_type": "code",
   "execution_count": null,
   "outputs": [],
   "source": [],
   "metadata": {
    "collapsed": false,
    "pycharm": {
     "name": "#%%\n"
    }
   }
  },
  {
   "cell_type": "code",
   "execution_count": null,
   "outputs": [],
   "source": [],
   "metadata": {
    "collapsed": false,
    "pycharm": {
     "name": "#%%\n"
    }
   }
  },
  {
   "cell_type": "code",
   "execution_count": 106,
   "outputs": [],
   "source": [
    "import math"
   ],
   "metadata": {
    "collapsed": false,
    "pycharm": {
     "name": "#%%\n"
    }
   }
  },
  {
   "cell_type": "code",
   "execution_count": null,
   "outputs": [],
   "source": [
    "# Predict the 20 most common atricles for each test session\n",
    "sample_submission['labels'] = preds"
   ],
   "metadata": {
    "collapsed": false,
    "pycharm": {
     "name": "#%%\n"
    }
   }
  },
  {
   "cell_type": "code",
   "execution_count": null,
   "outputs": [],
   "source": [
    "sample_submission.to_csv('submission.csv', index=False)"
   ],
   "metadata": {
    "collapsed": false,
    "pycharm": {
     "name": "#%%\n"
    }
   }
  },
  {
   "cell_type": "code",
   "execution_count": null,
   "outputs": [],
   "source": [],
   "metadata": {
    "collapsed": false,
    "pycharm": {
     "name": "#%%\n"
    }
   }
  },
  {
   "cell_type": "code",
   "execution_count": null,
   "outputs": [],
   "source": [
    "a"
   ],
   "metadata": {
    "collapsed": false,
    "pycharm": {
     "name": "#%%\n"
    }
   }
  },
  {
   "cell_type": "code",
   "execution_count": null,
   "outputs": [],
   "source": [
    "aa"
   ],
   "metadata": {
    "collapsed": false,
    "pycharm": {
     "name": "#%%\n"
    }
   }
  },
  {
   "cell_type": "markdown",
   "source": [],
   "metadata": {
    "collapsed": false,
    "pycharm": {
     "name": "#%% md\n"
    }
   }
  },
  {
   "cell_type": "code",
   "execution_count": null,
   "outputs": [],
   "source": [],
   "metadata": {
    "collapsed": false,
    "pycharm": {
     "name": "#%%\n"
    }
   }
  },
  {
   "cell_type": "code",
   "execution_count": null,
   "outputs": [],
   "source": [],
   "metadata": {
    "collapsed": false,
    "pycharm": {
     "name": "#%%\n"
    }
   }
  },
  {
   "cell_type": "code",
   "execution_count": null,
   "outputs": [],
   "source": [],
   "metadata": {
    "collapsed": false,
    "pycharm": {
     "name": "#%%\n"
    }
   }
  },
  {
   "cell_type": "code",
   "execution_count": 54,
   "outputs": [
    {
     "output_type": "execute_result",
     "data": {
      "text/plain": [
       "[{'aid': 1752139, 'ts': 1659332465811, 'type': 'clicks'},\n",
       " {'aid': 276163, 'ts': 1659332518642, 'type': 'clicks'},\n",
       " {'aid': 1617030, 'ts': 1660131815785, 'type': 'clicks'},\n",
       " {'aid': 674554, 'ts': 1660132675505, 'type': 'clicks'}]"
      ]
     },
     "metadata": {},
     "execution_count": 54
    }
   ],
   "source": [
    "actions"
   ],
   "metadata": {
    "collapsed": false,
    "pycharm": {
     "name": "#%%\n"
    }
   }
  },
  {
   "cell_type": "code",
   "execution_count": null,
   "outputs": [
    {
     "output_type": "stream",
     "name": "stdout",
     "text": [
      "mkdir: cannot create directory ‘/root/.kaggle’: File exists\n"
     ]
    }
   ],
   "source": [
    "!mkdir ~/.kaggle"
   ],
   "metadata": {
    "collapsed": false,
    "pycharm": {
     "name": "#%%\n"
    }
   }
  }
 ]
}