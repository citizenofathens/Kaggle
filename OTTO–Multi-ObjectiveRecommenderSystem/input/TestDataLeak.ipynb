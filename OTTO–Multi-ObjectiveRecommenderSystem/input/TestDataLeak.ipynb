{
 "cells": [
  {
   "cell_type": "code",
   "execution_count": 1,
   "metadata": {
    "collapsed": true,
    "pycharm": {
     "name": "#%%\n"
    }
   },
   "outputs": [],
   "source": [
    "### import numpy as np\n",
    "from collections import defaultdict\n",
    "import pandas as pd\n",
    "from tqdm.notebook import tqdm\n",
    "import glob\n",
    "import numpy as np\n",
    "import multiprocessing\n",
    "import os\n",
    "import pickle\n",
    "\n",
    "import glob\n",
    "from collections import Counter\n",
    "\n",
    "DEBUG=False\n",
    "SAMPLING = 1  # Reduce it to improve performance"
   ]
  },
  {
   "cell_type": "code",
   "execution_count": 3,
   "outputs": [],
   "source": [
    "import gc"
   ],
   "metadata": {
    "collapsed": false,
    "pycharm": {
     "name": "#%%\n"
    }
   }
  },
  {
   "cell_type": "code",
   "execution_count": null,
   "outputs": [
    {
     "data": {
      "text/plain": "Chunks:   0%|          | 0/146 [00:00<?, ?it/s]",
      "application/vnd.jupyter.widget-view+json": {
       "version_major": 2,
       "version_minor": 0,
       "model_id": "8f36c0217436499980604165c02e650b"
      },
      "application/json": {
       "n": 0,
       "total": 146,
       "elapsed": 0.008975982666015625,
       "ncols": null,
       "nrows": null,
       "prefix": "Chunks",
       "ascii": false,
       "unit": "it",
       "unit_scale": false,
       "rate": null,
       "bar_format": null,
       "postfix": null,
       "unit_divisor": 1000,
       "initial": 0,
       "colour": null
      }
     },
     "metadata": {},
     "output_type": "display_data"
    }
   ],
   "source": [
    "import sys\n",
    "def gen_pairs(df):\n",
    "    df = df.query('session % @SAMPLING == 0').groupby('session', as_index=False, sort=False).apply(lambda g: g.tail(30)).reset_index(drop=True)\n",
    "    df = pd.merge(df, df, on='session')\n",
    "    pairs = df.query('abs(ts_x - ts_y) < 24 * 60 * 60 * 1000 and aid_x != aid_y')[['session', 'aid_x', 'aid_y', 'ts_x', 'type_y']]\\\n",
    "        .drop_duplicates(['session', 'aid_x', 'aid_y'])\n",
    "    return pairs[['aid_x', 'aid_y', 'ts_x', 'type_y']].values\n",
    "\n",
    "\n",
    "def gen_aid_pairs():\n",
    "    all_pairs = defaultdict(lambda: Counter())\n",
    "    with tqdm(glob.glob('../../../../Downloads/otto-chunk-data-inparquet-format/*_parquet/*'), desc='Chunks') as prog:\n",
    "        with multiprocessing.Pool(4) as p:\n",
    "            for idx, chunk_file in enumerate(prog):\n",
    "                chunk = pd.read_parquet(chunk_file)#.drop(columns=['type'])\n",
    "                pair_chunks = p.map(gen_pairs, np.array_split(chunk.head(100000000 if not DEBUG else 10000), 120))\n",
    "                for pairs in pair_chunks:\n",
    "                    for aid1, aid2, ts, typ in pairs:\n",
    "                        w = 1 + 3*(ts - 1659304800025)/(1662328791563-1659304800025)\n",
    "                        # HERE WE CAN BOOST WEIGHT, i.e. IF TYP==\"ORDERS\": W *= 10.0\n",
    "                        # THEN SAVE THIS MATRIX AS THE \"ORDERS\" MATRIX\n",
    "                        # WE CAN MAKE 3 DIFFERENT CO-VISITATION MATRICES\n",
    "                        all_pairs[aid1][aid2] +=w\n",
    "                prog.set_description(f'Mem: {sys.getsizeof(object) // (2 ** 20)}MB')\n",
    "\n",
    "                if DEBUG and idx >= 2:\n",
    "                    break\n",
    "                del chunk, pair_chunks\n",
    "                gc.collect()\n",
    "    return all_pairs\n",
    "#\n",
    "# if os.path.exists(TOP_20_CACHE):\n",
    "#     print('Reading top20 AIDs from cache')\n",
    "#     top_20 = pickle.load(open(TOP_20_CACHE, 'rb'))\n",
    "# else:\n",
    "all_pairs = gen_aid_pairs()\n",
    "df_top_20 = []\n",
    "for aid, cnt in tqdm(all_pairs.items()):\n",
    "    df_top_20.append({'aid1': aid, 'aid2': [aid2 for aid2, freq in cnt.most_common(20)]})\n",
    "\n",
    "df_top_20 = pd.DataFrame(df_top_20).set_index('aid1')\n",
    "top_20 = df_top_20.aid2.to_dict()\n",
    "import pickle\n",
    "with open('top_20_aids.pkl', 'wb') as f:\n",
    "    pickle.dump(top_20, f)\n"
   ],
   "metadata": {
    "collapsed": false,
    "pycharm": {
     "name": "#%%\n",
     "is_executing": true
    }
   }
  },
  {
   "cell_type": "code",
   "execution_count": null,
   "outputs": [],
   "source": [],
   "metadata": {
    "collapsed": false,
    "pycharm": {
     "name": "#%%\n"
    }
   }
  },
  {
   "cell_type": "code",
   "execution_count": null,
   "outputs": [],
   "source": [],
   "metadata": {
    "collapsed": false,
    "pycharm": {
     "name": "#%%\n"
    }
   }
  }
 ],
 "metadata": {
  "kernelspec": {
   "display_name": "Python 3",
   "language": "python",
   "name": "python3"
  },
  "language_info": {
   "codemirror_mode": {
    "name": "ipython",
    "version": 2
   },
   "file_extension": ".py",
   "mimetype": "text/x-python",
   "name": "python",
   "nbconvert_exporter": "python",
   "pygments_lexer": "ipython2",
   "version": "2.7.6"
  }
 },
 "nbformat": 4,
 "nbformat_minor": 0
}